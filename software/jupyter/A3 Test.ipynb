{
 "cells": [
  {
   "cell_type": "code",
   "execution_count": 2,
   "metadata": {},
   "outputs": [],
   "source": [
    "%run \"Helper Scripts/CWLite_Connect.ipynb\""
   ]
  },
  {
   "cell_type": "code",
   "execution_count": 3,
   "metadata": {},
   "outputs": [],
   "source": [
    "%run \"Helper Scripts/Setup_Target_Generic.ipynb\""
   ]
  },
  {
   "cell_type": "code",
   "execution_count": 4,
   "metadata": {},
   "outputs": [],
   "source": [
    "# uncomment based on your target\n",
    "fw_path = \"../../hardware/victims/firmware/glitch-simple-lab1/glitchsimple-CW303.hex\"\n",
    "%run \"Helper Scripts/Program_XMEGA.ipynb\"\n",
    "#%run \"Helper Scripts/Program_STM.ipynb\"\n",
    "#%run \"Helper Scripts/No_Programmer.ipynb\""
   ]
  },
  {
   "cell_type": "code",
   "execution_count": 5,
   "metadata": {},
   "outputs": [],
   "source": [
    "PLATFORM = \"CW303\"\n",
    "CRYPTO_TARGET=\"NONE\""
   ]
  },
  {
   "cell_type": "code",
   "execution_count": 6,
   "metadata": {},
   "outputs": [
    {
     "name": "stdout",
     "output_type": "stream",
     "text": [
      "rm -f -- glitchsimple-CW303.hex\n",
      "rm -f -- glitchsimple-CW303.eep\n",
      "rm -f -- glitchsimple-CW303.cof\n",
      "rm -f -- glitchsimple-CW303.elf\n",
      "rm -f -- glitchsimple-CW303.map\n",
      "rm -f -- glitchsimple-CW303.sym\n",
      "rm -f -- glitchsimple-CW303.lss\n",
      "rm -f -- objdir/*.o\n",
      "rm -f -- objdir/*.lst\n",
      "rm -f -- glitchsimple.s simpleserial.s XMEGA_AES_driver.s uart.s usart_driver.s xmega_hal.s\n",
      "rm -f -- glitchsimple.d simpleserial.d XMEGA_AES_driver.d uart.d usart_driver.d xmega_hal.d\n",
      "rm -f -- glitchsimple.i simpleserial.i XMEGA_AES_driver.i uart.i usart_driver.i xmega_hal.i\n",
      ".\n",
      "-------- begin --------\n",
      "avr-gcc (GCC) 5.4.0\n",
      "Copyright (C) 2015 Free Software Foundation, Inc.\n",
      "This is free software; see the source for copying conditions.  There is NO\n",
      "warranty; not even for MERCHANTABILITY or FITNESS FOR A PARTICULAR PURPOSE.\n",
      "\n",
      ".\n",
      "Compiling C: glitchsimple.c\n",
      "avr-gcc -c -mmcu=atxmega128d3 -I. -fpack-struct -gdwarf-2 -DSS_VER=SS_VER_1_1 -DHAL_TYPE=HAL_xmega -DPLATFORM=CW303 -DF_CPU=7372800UL -Os -funsigned-char -funsigned-bitfields -fshort-enums -Wall -Wstrict-prototypes -Wa,-adhlns=objdir/glitchsimple.lst -I.././simpleserial/ -I.././hal -I.././hal/xmega -I.././crypto/ -std=gnu99 -MMD -MP -MF .dep/glitchsimple.o.d glitchsimple.c -o objdir/glitchsimple.o \n",
      ".\n",
      "Compiling C: .././simpleserial/simpleserial.c\n",
      "avr-gcc -c -mmcu=atxmega128d3 -I. -fpack-struct -gdwarf-2 -DSS_VER=SS_VER_1_1 -DHAL_TYPE=HAL_xmega -DPLATFORM=CW303 -DF_CPU=7372800UL -Os -funsigned-char -funsigned-bitfields -fshort-enums -Wall -Wstrict-prototypes -Wa,-adhlns=objdir/simpleserial.lst -I.././simpleserial/ -I.././hal -I.././hal/xmega -I.././crypto/ -std=gnu99 -MMD -MP -MF .dep/simpleserial.o.d .././simpleserial/simpleserial.c -o objdir/simpleserial.o \n",
      ".\n",
      "Compiling C: .././hal/xmega/XMEGA_AES_driver.c\n",
      "avr-gcc -c -mmcu=atxmega128d3 -I. -fpack-struct -gdwarf-2 -DSS_VER=SS_VER_1_1 -DHAL_TYPE=HAL_xmega -DPLATFORM=CW303 -DF_CPU=7372800UL -Os -funsigned-char -funsigned-bitfields -fshort-enums -Wall -Wstrict-prototypes -Wa,-adhlns=objdir/XMEGA_AES_driver.lst -I.././simpleserial/ -I.././hal -I.././hal/xmega -I.././crypto/ -std=gnu99 -MMD -MP -MF .dep/XMEGA_AES_driver.o.d .././hal/xmega/XMEGA_AES_driver.c -o objdir/XMEGA_AES_driver.o \n",
      ".\n",
      "Compiling C: .././hal/xmega/uart.c\n",
      "avr-gcc -c -mmcu=atxmega128d3 -I. -fpack-struct -gdwarf-2 -DSS_VER=SS_VER_1_1 -DHAL_TYPE=HAL_xmega -DPLATFORM=CW303 -DF_CPU=7372800UL -Os -funsigned-char -funsigned-bitfields -fshort-enums -Wall -Wstrict-prototypes -Wa,-adhlns=objdir/uart.lst -I.././simpleserial/ -I.././hal -I.././hal/xmega -I.././crypto/ -std=gnu99 -MMD -MP -MF .dep/uart.o.d .././hal/xmega/uart.c -o objdir/uart.o \n",
      ".\n",
      "Compiling C: .././hal/xmega/usart_driver.c\n",
      "avr-gcc -c -mmcu=atxmega128d3 -I. -fpack-struct -gdwarf-2 -DSS_VER=SS_VER_1_1 -DHAL_TYPE=HAL_xmega -DPLATFORM=CW303 -DF_CPU=7372800UL -Os -funsigned-char -funsigned-bitfields -fshort-enums -Wall -Wstrict-prototypes -Wa,-adhlns=objdir/usart_driver.lst -I.././simpleserial/ -I.././hal -I.././hal/xmega -I.././crypto/ -std=gnu99 -MMD -MP -MF .dep/usart_driver.o.d .././hal/xmega/usart_driver.c -o objdir/usart_driver.o \n",
      ".\n",
      "Compiling C: .././hal/xmega/xmega_hal.c\n",
      "avr-gcc -c -mmcu=atxmega128d3 -I. -fpack-struct -gdwarf-2 -DSS_VER=SS_VER_1_1 -DHAL_TYPE=HAL_xmega -DPLATFORM=CW303 -DF_CPU=7372800UL -Os -funsigned-char -funsigned-bitfields -fshort-enums -Wall -Wstrict-prototypes -Wa,-adhlns=objdir/xmega_hal.lst -I.././simpleserial/ -I.././hal -I.././hal/xmega -I.././crypto/ -std=gnu99 -MMD -MP -MF .dep/xmega_hal.o.d .././hal/xmega/xmega_hal.c -o objdir/xmega_hal.o \n",
      ".\n",
      "Linking: glitchsimple-CW303.elf\n",
      "avr-gcc -mmcu=atxmega128d3 -I. -fpack-struct -gdwarf-2 -DSS_VER=SS_VER_1_1 -DHAL_TYPE=HAL_xmega -DPLATFORM=CW303 -DF_CPU=7372800UL -Os -funsigned-char -funsigned-bitfields -fshort-enums -Wall -Wstrict-prototypes -Wa,-adhlns=objdir/glitchsimple.o -I.././simpleserial/ -I.././hal -I.././hal/xmega -I.././crypto/ -std=gnu99 -MMD -MP -MF .dep/glitchsimple-CW303.elf.d objdir/glitchsimple.o objdir/simpleserial.o objdir/XMEGA_AES_driver.o objdir/uart.o objdir/usart_driver.o objdir/xmega_hal.o --output glitchsimple-CW303.elf -Wl,-Map=glitchsimple-CW303.map,--cref   -lm  \n",
      ".\n",
      "Creating load file for Flash: glitchsimple-CW303.hex\n",
      "avr-objcopy -O ihex -R .eeprom -R .fuse -R .lock -R .signature glitchsimple-CW303.elf glitchsimple-CW303.hex\n",
      ".\n",
      "Creating load file for EEPROM: glitchsimple-CW303.eep\n",
      "avr-objcopy -j .eeprom --set-section-flags=.eeprom=\"alloc,load\" \\\n",
      "--change-section-lma .eeprom=0 --no-change-warnings -O ihex glitchsimple-CW303.elf glitchsimple-CW303.eep || exit 0\n",
      ".\n",
      "Creating Extended Listing: glitchsimple-CW303.lss\n",
      "avr-objdump -h -S -z glitchsimple-CW303.elf > glitchsimple-CW303.lss\n",
      ".\n",
      "Creating Symbol Table: glitchsimple-CW303.sym\n",
      "avr-nm -n glitchsimple-CW303.elf > glitchsimple-CW303.sym\n",
      "Size after:\n",
      "   text\t   data\t    bss\t    dec\t    hex\tfilename\n",
      "   3764\t     68\t     52\t   3884\t    f2c\tglitchsimple-CW303.elf\n",
      "+--------------------------------------------------------\n",
      "+ Built for platform CW-Lite XMEGA\n",
      "+--------------------------------------------------------\n"
     ]
    }
   ],
   "source": [
    "%%bash -s \"$PLATFORM\" \"$CRYPTO_TARGET\"\n",
    "cd ../../hardware/victims/firmware/glitch-simple-lab1\n",
    "make PLATFORM=$1 CRYPTO_TARGET=$2"
   ]
  },
  {
   "cell_type": "code",
   "execution_count": 7,
   "metadata": {},
   "outputs": [
    {
     "name": "stdout",
     "output_type": "stream",
     "text": [
      "XMEGA Programming flash...\n",
      "XMEGA Reading flash...\n",
      "Verified flash OK, 3831 bytes\n"
     ]
    }
   ],
   "source": [
    "program_target(scope, fw_path)"
   ]
  },
  {
   "cell_type": "code",
   "execution_count": 9,
   "metadata": {},
   "outputs": [],
   "source": [
    "import time\n",
    "def reset_target(scope):\n",
    "    #scope.io.nrst = 'low'\n",
    "    scope.io.pdic = 'low'\n",
    "    time.sleep(0.05)\n",
    "    #scope.io.nrst = 'high'\n",
    "    scope.io.pdic = 'high'"
   ]
  },
  {
   "cell_type": "code",
   "execution_count": 41,
   "metadata": {
    "scrolled": false
   },
   "outputs": [
    {
     "name": "stdout",
     "output_type": "stream",
     "text": [
      "cwlite Device\n",
      "gain = \n",
      "    mode = low\n",
      "    gain = 45\n",
      "    db   = 22.50390625\n",
      "adc = \n",
      "    state      = False\n",
      "    basic_mode = rising_edge\n",
      "    timeout    = 2\n",
      "    offset     = 0\n",
      "    presamples = 0\n",
      "    samples    = 5000\n",
      "    decimate   = 1\n",
      "    trig_count = 8\n",
      "clock = \n",
      "    adc_src       = clkgen_x4\n",
      "    adc_phase     = 0\n",
      "    adc_freq      = 29538459\n",
      "    adc_rate      = 29538459.0\n",
      "    adc_locked    = True\n",
      "    freq_ctr      = 0\n",
      "    freq_ctr_src  = extclk\n",
      "    clkgen_src    = system\n",
      "    extclk_freq   = 10000000\n",
      "    clkgen_mul    = 2\n",
      "    clkgen_div    = 26\n",
      "    clkgen_freq   = 7384615.384615385\n",
      "    clkgen_locked = True\n",
      "trigger = \n",
      "    triggers = tio4\n",
      "    module   = basic\n",
      "io = \n",
      "    tio1       = serial_rx\n",
      "    tio2       = serial_tx\n",
      "    tio3       = high_z\n",
      "    tio4       = high_z\n",
      "    pdid       = high_z\n",
      "    pdic       = high\n",
      "    nrst       = high_z\n",
      "    glitch_hp  = False\n",
      "    glitch_lp  = True\n",
      "    extclk_src = hs1\n",
      "    hs2        = clkgen\n",
      "    target_pwr = True\n",
      "glitch = \n",
      "    clk_src     = clkgen\n",
      "    width       = 39.84375\n",
      "    width_fine  = 0\n",
      "    offset      = 39.84375\n",
      "    offset_fine = 0\n",
      "    trigger_src = ext_single\n",
      "    arm_timing  = after_scope\n",
      "    ext_offset  = 0\n",
      "    repeat      = 10\n",
      "    output      = glitch_only\n",
      "\n",
      "\u0000hello\n",
      "A\n"
     ]
    }
   ],
   "source": [
    "from collections import namedtuple\n",
    "\n",
    "scope.glitch.clk_src = \"clkgen\"\n",
    "scope.glitch.output = \"glitch_only\"\n",
    "scope.glitch.trigger_src = \"ext_single\"\n",
    "scope.glitch.repeat = 10\n",
    "scope.io.glitch_lp = True\n",
    "scope.io.glitch_hp = False\n",
    "scope.glitch.width = 40\n",
    "scope.glitch.width_fine = 30\n",
    "scope.glitch.offset = 40\n",
    "print(scope)\n",
    "\n",
    "Range = namedtuple('Range', ['min', 'max', 'step'])\n",
    "width_range = Range(-10, 10, 1)\n",
    "offset_range = Range(-10, 10, 1)\n",
    "\n",
    "scope.glitch.width = width_range.min\n",
    "target.init()\n",
    "\n",
    "\n",
    "scope.arm()\n",
    "reset_target(scope)\n",
    "#scope.glitch.manualTrigger()\n",
    "timeout = 50\n",
    "# wait for target to finish\n",
    "while target.isDone() is False and timeout:\n",
    "    timeout -= 1\n",
    "    time.sleep(0.01)\n",
    "\n",
    "try:\n",
    "    ret = scope.capture()\n",
    "    if ret:\n",
    "        print('Timeout happened during acquisition')\n",
    "except IOError as e:\n",
    "    print('IOError: %s' % str(e))\n",
    "\n",
    "# get the results from the scope\n",
    "# read from the targets buffer\n",
    "num_chars = target.ser.inWaiting()\n",
    "response = target.ser.read(num_chars, timeout = 10)\n",
    "print(response)\n",
    "data = []\n"
   ]
  },
  {
   "cell_type": "code",
   "execution_count": 32,
   "metadata": {},
   "outputs": [
    {
     "data": {
      "text/plain": [
       "'\\nwhile scope.glitch.width < width_range.max:\\n    scope.glitch.offset = offset_range.min\\n    while scope.glitch.offset < offset_range.max:\\n        # call before trace things here\\n\\n        # flush the garbage from the computer\\'s target read buffer\\n        target.ser.flush()\\n\\n        # run aux stuff that should run before the scope arms here\\n\\n        \\n\\n        scope.arm()\\n        reset_target(scope)\\n\\n        timeout = 50\\n        # wait for target to finish\\n        while target.isDone() is False and timeout:\\n            timeout -= 1\\n            time.sleep(0.01)\\n\\n        try:\\n            ret = scope.capture()\\n            if ret:\\n                print(\\'Timeout happened during acquisition\\')\\n        except IOError as e:\\n            print(\\'IOError: %s\\' % str(e))\\n\\n        # get the results from the scope\\n        # read from the targets buffer\\n        num_chars = target.ser.inWaiting()\\n        response = target.ser.read(num_chars, timeout = 10)\\n\\n        # for table display purposes\\n        success = \\'1234\\' in repr(response) # check for glitch success (depends on targets active firmware)\\n        data.append([repr(response), scope.glitch.width, scope.glitch.offset, success]) \\n        # run aux stuff that should happen after trace here\\n        scope.glitch.offset += offset_range.step\\n    scope.glitch.width += width_range.step\\n\\nprint(\"Done glitching\")'"
      ]
     },
     "execution_count": 32,
     "metadata": {},
     "output_type": "execute_result"
    }
   ],
   "source": [
    "'''\n",
    "while scope.glitch.width < width_range.max:\n",
    "    scope.glitch.offset = offset_range.min\n",
    "    while scope.glitch.offset < offset_range.max:\n",
    "        # call before trace things here\n",
    "\n",
    "        # flush the garbage from the computer's target read buffer\n",
    "        target.ser.flush()\n",
    "\n",
    "        # run aux stuff that should run before the scope arms here\n",
    "\n",
    "        \n",
    "\n",
    "        scope.arm()\n",
    "        reset_target(scope)\n",
    "\n",
    "        timeout = 50\n",
    "        # wait for target to finish\n",
    "        while target.isDone() is False and timeout:\n",
    "            timeout -= 1\n",
    "            time.sleep(0.01)\n",
    "\n",
    "        try:\n",
    "            ret = scope.capture()\n",
    "            if ret:\n",
    "                print('Timeout happened during acquisition')\n",
    "        except IOError as e:\n",
    "            print('IOError: %s' % str(e))\n",
    "\n",
    "        # get the results from the scope\n",
    "        # read from the targets buffer\n",
    "        num_chars = target.ser.inWaiting()\n",
    "        response = target.ser.read(num_chars, timeout = 10)\n",
    "\n",
    "        # for table display purposes\n",
    "        success = '1234' in repr(response) # check for glitch success (depends on targets active firmware)\n",
    "        data.append([repr(response), scope.glitch.width, scope.glitch.offset, success]) \n",
    "        # run aux stuff that should happen after trace here\n",
    "        scope.glitch.offset += offset_range.step\n",
    "    scope.glitch.width += width_range.step\n",
    "\n",
    "print(\"Done glitching\")'''"
   ]
  },
  {
   "cell_type": "code",
   "execution_count": null,
   "metadata": {},
   "outputs": [],
   "source": []
  }
 ],
 "metadata": {
  "kernelspec": {
   "display_name": "Python 3",
   "language": "python",
   "name": "python3"
  },
  "language_info": {
   "codemirror_mode": {
    "name": "ipython",
    "version": 3
   },
   "file_extension": ".py",
   "mimetype": "text/x-python",
   "name": "python",
   "nbconvert_exporter": "python",
   "pygments_lexer": "ipython3",
   "version": "3.6.3"
  },
  "toc": {
   "base_numbering": 1,
   "nav_menu": {},
   "number_sections": true,
   "sideBar": true,
   "skip_h1_title": false,
   "title_cell": "Table of Contents",
   "title_sidebar": "Contents",
   "toc_cell": false,
   "toc_position": {},
   "toc_section_display": true,
   "toc_window_display": false
  }
 },
 "nbformat": 4,
 "nbformat_minor": 2
}
