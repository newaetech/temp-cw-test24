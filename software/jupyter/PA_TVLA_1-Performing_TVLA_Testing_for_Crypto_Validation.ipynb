{
 "cells": [
  {
   "cell_type": "markdown",
   "metadata": {},
   "source": [
    "# TVLA Testing of Cryptographic Function"
   ]
  },
  {
   "cell_type": "markdown",
   "metadata": {},
   "source": [
    "This tutorial will perform a basic TVLA test. Here we are only using an unprotected software implementation, so there is little hope of passing the test! But this can demonstrate how the TVLA test can be useful for validating your crypto implementation."
   ]
  },
  {
   "cell_type": "markdown",
   "metadata": {},
   "source": [
    "## Capturing Power Traces"
   ]
  },
  {
   "cell_type": "markdown",
   "metadata": {},
   "source": [
    "### Setup"
   ]
  },
  {
   "cell_type": "markdown",
   "metadata": {},
   "source": [
    "We'll use some helper scripts to make setup and programming easier. If you're using an XMEGA or STM (CWLITEARM) target, binaries with the correct should be setup for you:"
   ]
  },
  {
   "cell_type": "code",
   "execution_count": null,
   "metadata": {},
   "outputs": [],
   "source": [
    "%run \"Helper_Scripts/CWLite_Connect.ipynb\""
   ]
  },
  {
   "cell_type": "code",
   "execution_count": null,
   "metadata": {},
   "outputs": [],
   "source": [
    "%run \"Helper_Scripts/Setup_Target_Generic.ipynb\""
   ]
  },
  {
   "cell_type": "code",
   "execution_count": null,
   "metadata": {},
   "outputs": [],
   "source": [
    "# uncomment based on your target\n",
    "#%run \"Helper_Scripts/Program_XMEGA.ipynb\"\n",
    "%run \"Helper_Scripts/Program_STM.ipynb\"\n",
    "#%run \"Helper_Scripts/No_Programmer.ipynb\"\n",
    "fw_path = \"../../hardware/victims/firmware/simpleserial-aes/simpleserial-aes-cwlitearm.hex\""
   ]
  },
  {
   "cell_type": "code",
   "execution_count": null,
   "metadata": {},
   "outputs": [],
   "source": [
    "# program the target\n",
    "program_target(scope, fw_path)"
   ]
  },
  {
   "cell_type": "markdown",
   "metadata": {},
   "source": [
    "In addition, before we capture our traces, we'll need to create a ChipWhipserer project, since that's what Analyzer expects for an input:"
   ]
  },
  {
   "cell_type": "code",
   "execution_count": null,
   "metadata": {},
   "outputs": [],
   "source": [
    "from chipwhisperer.common.api.ProjectFormat import ProjectFormat\n",
    "project = ProjectFormat()\n",
    "project.setFilename(\"jupyter_tvla_sw.cwp\")"
   ]
  },
  {
   "cell_type": "markdown",
   "metadata": {},
   "source": [
    "And we can get the class used to hold our traces by:"
   ]
  },
  {
   "cell_type": "code",
   "execution_count": null,
   "metadata": {},
   "outputs": [],
   "source": [
    "from datetime import datetime\n",
    "import copy\n",
    "\n",
    "tc = copy.copy(project.getTraceFormat())\n",
    "starttime = datetime.now()\n",
    "prefix = starttime.strftime('%Y.%m.%d-%H.%M.%S') + \"_\"\n",
    "tc.config.setConfigFilename(project.datadirectory + \"traces/config_\" + prefix + \".cfg\")\n",
    "tc.config.setAttr(\"prefix\", prefix)\n",
    "tc.config.setAttr(\"date\", starttime.strftime('%Y-%m-%d %H:%M:%S'))"
   ]
  },
  {
   "cell_type": "markdown",
   "metadata": {},
   "source": [
    "### Capturing Traces"
   ]
  },
  {
   "cell_type": "markdown",
   "metadata": {},
   "source": [
    "Below you can see the capture loop. The main body of the loop loads some new plaintext, arms the scope, sends the key and plaintext, then finally records and our new trace into our trace class. We'll also keep track of our keys manually for checking our answer later."
   ]
  },
  {
   "cell_type": "code",
   "execution_count": null,
   "metadata": {},
   "outputs": [],
   "source": [
    "#Capture Traces\n",
    "from tqdm import tqdm\n",
    "from chipwhisperer.capture.acq_patterns.tvlattest import AcqKeyTextPattern_TVLATTest\n",
    "import numpy as np\n",
    "import time\n",
    "\n",
    "N = 50  # Number of traces\n",
    "\n",
    "ktp = AcqKeyTextPattern_TVLATTest(target=target)\n",
    "ktp.initPair(N)\n",
    "\n",
    "keys = []\n",
    "target.init()\n",
    "for i in tqdm(range(N), desc='Capturing traces'):\n",
    "    # run aux stuff that should come before trace here\n",
    "    \n",
    "    key, text = ktp.newPair()  # TVLA T-Test changes PT between two options\n",
    "    keys.append(key)\n",
    "\n",
    "    #target.reinit()\n",
    "\n",
    "    target.setModeEncrypt()  # only does something for targets that support it\n",
    "    target.loadEncryptionKey(key)\n",
    "    target.loadInput(text)\n",
    "\n",
    "    # run aux stuff that should run before the scope arms here\n",
    "\n",
    "    scope.arm()\n",
    "\n",
    "    # run aux stuff that should run after the scope arms here\n",
    "\n",
    "    target.go()\n",
    "    timeout = 50\n",
    "    # wait for target to finish\n",
    "    while target.isDone() is False and timeout:\n",
    "        timeout -= 1\n",
    "        time.sleep(0.01)\n",
    "\n",
    "    try:\n",
    "        ret = scope.capture()\n",
    "        if ret:\n",
    "            print('Timeout happened during acquisition')\n",
    "    except IOError as e:\n",
    "        print('IOError: %s' % str(e))\n",
    "\n",
    "    # run aux stuff that should happen after trace here\n",
    "    _ = target.readOutput()  # clears the response from the serial port\n",
    "    #traces.append(scope.getLastTrace())\n",
    "    tc.addTrace(scope.getLastTrace(), text, \"\", key)\n",
    "    \n",
    "#Calling closeAll() to ensure flush to disk happens\n",
    "tc.closeAll()"
   ]
  },
  {
   "cell_type": "markdown",
   "metadata": {},
   "source": [
    "Now that we have our traces, we need to tell the project that the traces are loaded and add them to the project's trace manager."
   ]
  },
  {
   "cell_type": "code",
   "execution_count": null,
   "metadata": {},
   "outputs": [],
   "source": [
    "project.traceManager().appendSegment(tc)\n",
    "\n",
    "#Save project file\n",
    "project.save()"
   ]
  },
  {
   "cell_type": "markdown",
   "metadata": {},
   "source": [
    "We're now done with the ChipWhisperer hardware, so we should disconnect from the scope and target:"
   ]
  },
  {
   "cell_type": "code",
   "execution_count": null,
   "metadata": {},
   "outputs": [],
   "source": [
    "# cleanup the connection to the target and scope\n",
    "scope.dis()\n",
    "target.dis()"
   ]
  },
  {
   "cell_type": "markdown",
   "metadata": {},
   "source": [
    "## Analysis"
   ]
  },
  {
   "cell_type": "markdown",
   "metadata": {},
   "source": [
    "Alright! The following chunk of code does the entire TVLA algorithm itself, based on the recorded data:"
   ]
  },
  {
   "cell_type": "code",
   "execution_count": null,
   "metadata": {},
   "outputs": [],
   "source": [
    "from chipwhisperer.common.api.ProjectFormat import ProjectFormat\n",
    "from matplotlib.pylab import *\n",
    "import numpy as np\n",
    "import scipy\n",
    "import scipy.stats\n",
    "\n",
    "project = ProjectFormat()\n",
    "project.load('./jupyter_tvla_sw.cwp')\n",
    "\n",
    "tm = project.traceManager()\n",
    "fixedpy = [0xda, 0x39, 0xa3, 0xee, 0x5e, 0x6b, 0x4b, 0x0d, 0x32, 0x55, 0xbf, 0xef, 0x95, 0x60, 0x18, 0x90]\n",
    "\n",
    "def do_the_ttvla(tm, ntraces=-1):\n",
    "    if ntraces == -1:\n",
    "        ntraces = int(tm.numTraces() / 2)\n",
    "        \n",
    "    if ntraces * 2 > tm.numTraces():\n",
    "        raise ValueError(\"Invalid ntraces\")\n",
    "        \n",
    "    for g in range(0, 2):\n",
    "        group = [(tm.getTextin(i) == fixedpy).all() for i in range(g*ntraces, g*ntraces+ntraces)]\n",
    "        trace = np.zeros((ntraces, tm.numPoints()))\n",
    "\n",
    "        for n in range(g*ntraces, g*ntraces+ntraces):\n",
    "            trace[n - g*ntraces][:] = tm.getTrace(n)\n",
    "                \n",
    "        testout = welch_ttest(group, trace)\n",
    "        plot(testout)\n",
    "        \n",
    "    plot([0, tm.numPoints()], [-4.5, -4.5], 'r')\n",
    "    plot([0, tm.numPoints()], [4.5, 4.5], 'r')\n",
    "\n",
    "def welch_ttest(group, traces):\n",
    "    # Compute Welch's t-statistic at each point in time\n",
    "    # Here, group[] must only contain booleans (True/False)\n",
    "    traces_true = traces[np.where(np.array(group))]\n",
    "    traces_false = traces[np.where(~np.array(group))]\n",
    "    \n",
    "    if len(traces_true) == 0:\n",
    "        traces_true  = np.array([[np.nan for _ in range(len(traces[0]))]])\n",
    "    if len(traces_false) == 0:\n",
    "        traces_false = np.array([[np.nan for _ in range(len(traces[0]))]])\n",
    "    \n",
    "    with warnings.catch_warnings():\n",
    "        warnings.simplefilter(\"ignore\")\n",
    "        ttrace = scipy.stats.ttest_ind(traces_true, traces_false, axis=0, equal_var=False)[0]\n",
    "        \n",
    "    return np.nan_to_num(ttrace) \n",
    "    \n",
    "do_the_ttvla(tm)\n",
    "title(\"TVLA Results\")\n",
    "show()"
   ]
  },
  {
   "cell_type": "markdown",
   "metadata": {},
   "source": [
    "With multiple excursions beyond the 4.5 limit, you can see that the implementation easily fails! The only thing we haven't done right here is figure out *where* the actual crypto stards and ends. This is best done using a T-Test or similar targetting the input and output data of the crypto operation. In this example we didn't even cover the complete portion of the algorithm, but this is easier to do with hardware crypto.\n",
    "\n",
    "If you'd like to perform this test, good news, we have provided those traces as part of this training example. To use this, simply change the file pointed to as follows:\n",
    "\n",
    "```\n",
    "project.load('./tut_data/stm32f415_tvla_1k.cwp')\n",
    "```\n",
    "\n",
    "You should see a more obvious location where the T-Test has failed on this result. Note you need to be careful as some of the spikes are actually the data load and unload operations (at the start and end of the algorithm), where we apply the T-Test only on the middle portion of the algorithm."
   ]
  }
 ],
 "metadata": {
  "kernelspec": {
   "display_name": "Python 3",
   "language": "python",
   "name": "python3"
  },
  "language_info": {
   "codemirror_mode": {
    "name": "ipython",
    "version": 3
   },
   "file_extension": ".py",
   "mimetype": "text/x-python",
   "name": "python",
   "nbconvert_exporter": "python",
   "pygments_lexer": "ipython3",
   "version": "3.6.6"
  },
  "toc": {
   "base_numbering": 1,
   "nav_menu": {},
   "number_sections": true,
   "sideBar": true,
   "skip_h1_title": true,
   "title_cell": "Table of Contents",
   "title_sidebar": "Contents",
   "toc_cell": false,
   "toc_position": {
    "height": "calc(100% - 180px)",
    "left": "10px",
    "top": "150px",
    "width": "383.991px"
   },
   "toc_section_display": true,
   "toc_window_display": true
  }
 },
 "nbformat": 4,
 "nbformat_minor": 2
}
