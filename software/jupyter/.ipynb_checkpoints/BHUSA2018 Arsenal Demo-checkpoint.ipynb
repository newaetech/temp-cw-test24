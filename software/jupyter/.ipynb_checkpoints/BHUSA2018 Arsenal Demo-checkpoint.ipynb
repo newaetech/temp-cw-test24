{
 "cells": [
  {
   "cell_type": "code",
   "execution_count": 1,
   "metadata": {},
   "outputs": [],
   "source": [
    "# Imports\n",
    "import chipwhisperer as cw\n",
    "from chipwhisperer.capture.api.programmers import XMEGAProgrammer\n",
    "\n",
    "import matplotlib.pyplot as plt\n",
    "import numpy as np\n",
    "import time"
   ]
  },
  {
   "cell_type": "code",
   "execution_count": 2,
   "metadata": {},
   "outputs": [],
   "source": [
    "%matplotlib ipympl"
   ]
  },
  {
   "cell_type": "code",
   "execution_count": 3,
   "metadata": {},
   "outputs": [],
   "source": [
    "# Connect to ChipWhisperer-Lite\n",
    "scope = cw.scope()"
   ]
  },
  {
   "cell_type": "code",
   "execution_count": 4,
   "metadata": {},
   "outputs": [
    {
     "name": "stdout",
     "output_type": "stream",
     "text": [
      "Couldn't find program: 'bash'\n"
     ]
    }
   ],
   "source": [
    "%%bash\n",
    "cd ../../hardware/victims/firmware/simpleserial-rsa\n",
    "make PLATFORM=CW303"
   ]
  },
  {
   "cell_type": "code",
   "execution_count": 5,
   "metadata": {},
   "outputs": [
    {
     "name": "stdout",
     "output_type": "stream",
     "text": [
      "XMEGA Programming flash...\n",
      "XMEGA Reading flash...\n",
      "Verified flash OK, 13897 bytes\n"
     ]
    }
   ],
   "source": [
    "# Program firmware\n",
    "def programTarget(fw_fname):\n",
    "    programmer = XMEGAProgrammer()\n",
    "    programmer.scope = scope\n",
    "    programmer._logging = None\n",
    "    programmer.find()\n",
    "    programmer.erase()\n",
    "    programmer.program(fw_fname, memtype=\"flash\", verify=True)\n",
    "    programmer.close()\n",
    "\n",
    "fw_fname = '../../hardware/victims/firmware/simpleserial-rsa/simpleserial-rsa-CW303.hex'\n",
    "programTarget(fw_fname)"
   ]
  },
  {
   "cell_type": "code",
   "execution_count": 6,
   "metadata": {},
   "outputs": [],
   "source": [
    "# Set up scope\n",
    "scope.gain.gain = 45\n",
    "scope.adc.samples = 24000\n",
    "scope.adc.offset = 0\n",
    "scope.adc.basic_mode = \"rising_edge\"\n",
    "scope.clock.clkgen_freq = 7370000\n",
    "scope.clock.adc_src = \"clkgen_x1\"\n",
    "scope.trigger.triggers = \"tio4\"\n",
    "scope.io.tio1 = \"serial_rx\"\n",
    "scope.io.tio2 = \"serial_tx\"\n",
    "scope.io.hs2 = \"clkgen\""
   ]
  },
  {
   "cell_type": "code",
   "execution_count": 7,
   "metadata": {},
   "outputs": [],
   "source": [
    "# Set up target\n",
    "target = cw.target(scope)\n",
    "target.init()\n",
    "target.protver = '1.0'      \n",
    "target.key_cmd = \"\"\n",
    "target.output_cmd = \"\"\n",
    "target.go_cmd = \"\""
   ]
  },
  {
   "cell_type": "code",
   "execution_count": 8,
   "metadata": {},
   "outputs": [],
   "source": [
    "# Helper function: capture one trace\n",
    "def capture_sync(timeout=0.50):\n",
    "    # Prepare scope\n",
    "    scope.arm()\n",
    "    \n",
    "    # Start capture\n",
    "    target.go()\n",
    "    \n",
    "    # Wait for target to finish\n",
    "    time_delta = 0.01\n",
    "    while not target.isDone() and timeout > 0:\n",
    "        timeout -= time_delta\n",
    "        time.sleep(time_delta)\n",
    "    \n",
    "    # Check if scope captured\n",
    "    try:\n",
    "        ret = scope.capture()\n",
    "        if ret:\n",
    "            print('Timeout happened during acquisition')\n",
    "    except IOError as e:\n",
    "        print('IOError: %s' % str(e))\n",
    "        \n",
    "    num_bytes = target.ser.inWaiting()\n",
    "    text_out = target.ser.read(num_bytes)\n",
    "    \n",
    "    return scope.getLastTrace()"
   ]
  },
  {
   "cell_type": "code",
   "execution_count": 9,
   "metadata": {},
   "outputs": [],
   "source": [
    "def getDiffs(trace):\n",
    "    start = 3600\n",
    "    window_len = 600\n",
    "    trace_window = trace[start:(start+window_len)]\n",
    "        \n",
    "    diffs = []\n",
    "    for i in range(0, len(trace) - window_len):\n",
    "        diff = trace[i:(i+window_len)] - trace_window    \n",
    "        diffs.append(np.sum(abs(diff)))\n",
    "    return diffs"
   ]
  },
  {
   "cell_type": "code",
   "execution_count": 10,
   "metadata": {},
   "outputs": [],
   "source": [
    "def displayRSA(key):\n",
    "    target.go_cmd = key\n",
    "    trace = capture_sync()\n",
    "    plt.figure(figsize=(8, 2.5))\n",
    "    plt.title('Power Trace')\n",
    "    plt.plot(trace)\n",
    "    plt.show()\n",
    "\n",
    "    diff = getDiffs(trace)\n",
    "    plt.figure(figsize=(8, 2.5))\n",
    "    plt.title('Template Matching Output')\n",
    "    plt.plot(diff)\n",
    "    plt.show()"
   ]
  },
  {
   "cell_type": "code",
   "execution_count": 11,
   "metadata": {},
   "outputs": [
    {
     "data": {
      "application/vnd.jupyter.widget-view+json": {
       "model_id": "0491009f4da8402abecb15ce70aeda2a",
       "version_major": 2,
       "version_minor": 0
      },
      "text/plain": [
       "FigureCanvasNbAgg()"
      ]
     },
     "metadata": {},
     "output_type": "display_data"
    },
    {
     "data": {
      "application/vnd.jupyter.widget-view+json": {
       "model_id": "5334c725c60445cba51d9e4efc0ab971",
       "version_major": 2,
       "version_minor": 0
      },
      "text/plain": [
       "FigureCanvasNbAgg()"
      ]
     },
     "metadata": {},
     "output_type": "display_data"
    }
   ],
   "source": [
    "displayRSA(r'p00000000000000000000000000008000\\n')"
   ]
  },
  {
   "cell_type": "code",
   "execution_count": 12,
   "metadata": {},
   "outputs": [
    {
     "name": "stderr",
     "output_type": "stream",
     "text": [
      "ERROR:root:SimpleSerial: ACK ERROR, did not see anything - TIMEOUT possible!\n"
     ]
    },
    {
     "data": {
      "application/vnd.jupyter.widget-view+json": {
       "model_id": "644910c93c1a465c80d4e8b33dafda7a",
       "version_major": 2,
       "version_minor": 0
      },
      "text/plain": [
       "FigureCanvasNbAgg()"
      ]
     },
     "metadata": {},
     "output_type": "display_data"
    },
    {
     "data": {
      "application/vnd.jupyter.widget-view+json": {
       "model_id": "811d59d9c68c4b8e88ff02170cfb1d0b",
       "version_major": 2,
       "version_minor": 0
      },
      "text/plain": [
       "FigureCanvasNbAgg()"
      ]
     },
     "metadata": {},
     "output_type": "display_data"
    }
   ],
   "source": [
    "displayRSA(r'p0000000000000000000000000000AB3E\\n')"
   ]
  },
  {
   "cell_type": "code",
   "execution_count": null,
   "metadata": {},
   "outputs": [],
   "source": []
  }
 ],
 "metadata": {
  "kernelspec": {
   "display_name": "Python 3",
   "language": "python",
   "name": "python3"
  },
  "language_info": {
   "codemirror_mode": {
    "name": "ipython",
    "version": 3
   },
   "file_extension": ".py",
   "mimetype": "text/x-python",
   "name": "python",
   "nbconvert_exporter": "python",
   "pygments_lexer": "ipython3",
   "version": "3.7.0"
  }
 },
 "nbformat": 4,
 "nbformat_minor": 2
}
