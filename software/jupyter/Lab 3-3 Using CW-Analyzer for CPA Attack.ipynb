{
 "cells": [
  {
   "cell_type": "markdown",
   "metadata": {},
   "source": [
    "# Tutorial B5 (Automated CPA Attack With Analyzer)"
   ]
  },
  {
   "cell_type": "markdown",
   "metadata": {},
   "source": [
    "This tutorial will take you through a complete attack on a software AES implementation. The specific implementation being attacked is a well-known AES implementation written in C, which is likely to be similar to other implementations used by proprietary systems."
   ]
  },
  {
   "cell_type": "markdown",
   "metadata": {},
   "source": [
    "## Capturing Power Traces"
   ]
  },
  {
   "cell_type": "markdown",
   "metadata": {},
   "source": [
    "### Setup"
   ]
  },
  {
   "cell_type": "markdown",
   "metadata": {},
   "source": [
    "We'll use some helper scripts to make setup and programming easier. If you're using an XMEGA or STM (CWLITEARM) target, binaries with the correct should be setup for you:"
   ]
  },
  {
   "cell_type": "code",
   "execution_count": null,
   "metadata": {},
   "outputs": [],
   "source": [
    "%run \"Helper Scripts/CWLite_Connect.ipynb\""
   ]
  },
  {
   "cell_type": "code",
   "execution_count": null,
   "metadata": {},
   "outputs": [],
   "source": [
    "%run \"Helper Scripts/Setup_Target_Generic.ipynb\""
   ]
  },
  {
   "cell_type": "code",
   "execution_count": null,
   "metadata": {},
   "outputs": [],
   "source": [
    "# uncomment based on your target\n",
    "#%run \"Helper Scripts/Program_XMEGA.ipynb\"\n",
    "%run \"Helper Scripts/Program_STM.ipynb\"\n",
    "#%run \"Helper Scripts/No_Programmer.ipynb\"\n",
    "fw_path = \"../../hardware/victims/firmware/simpleserial-aes/simpleserial-aes-cwlitearm.hex\""
   ]
  },
  {
   "cell_type": "code",
   "execution_count": null,
   "metadata": {},
   "outputs": [],
   "source": [
    "# program the target\n",
    "program_target(scope, fw_path)"
   ]
  },
  {
   "cell_type": "markdown",
   "metadata": {},
   "source": [
    "In addition, before we capture our traces, we'll need to create a ChipWhipserer project, since that's what Analyzer expects for an input:"
   ]
  },
  {
   "cell_type": "code",
   "execution_count": null,
   "metadata": {},
   "outputs": [],
   "source": [
    "from chipwhisperer.common.api.ProjectFormat import ProjectFormat\n",
    "project = ProjectFormat()\n",
    "project.setFilename(\"jupyter_test.cwp\")"
   ]
  },
  {
   "cell_type": "markdown",
   "metadata": {},
   "source": [
    "And we can get the class used to hold our traces by:"
   ]
  },
  {
   "cell_type": "code",
   "execution_count": null,
   "metadata": {},
   "outputs": [],
   "source": [
    "from datetime import datetime\n",
    "import copy\n",
    "\n",
    "tc = copy.copy(project.getTraceFormat())\n",
    "starttime = datetime.now()\n",
    "prefix = starttime.strftime('%Y.%m.%d-%H.%M.%S') + \"_\"\n",
    "tc.config.setConfigFilename(project.datadirectory + \"traces/config_\" + prefix + \".cfg\")\n",
    "tc.config.setAttr(\"prefix\", prefix)\n",
    "tc.config.setAttr(\"date\", starttime.strftime('%Y-%m-%d %H:%M:%S'))"
   ]
  },
  {
   "cell_type": "markdown",
   "metadata": {},
   "source": [
    "### Capturing Traces"
   ]
  },
  {
   "cell_type": "markdown",
   "metadata": {},
   "source": [
    "Below you can see the capture loop. The main body of the loop loads some new plaintext, arms the scope, sends the key and plaintext, then finally records and our new trace into our trace class. We'll also keep track of our keys manually for checking our answer later."
   ]
  },
  {
   "cell_type": "code",
   "execution_count": null,
   "metadata": {},
   "outputs": [],
   "source": [
    "#Capture Traces\n",
    "from tqdm import tqdm\n",
    "from chipwhisperer.capture.acq_patterns.basic import AcqKeyTextPattern_Basic\n",
    "import numpy as np\n",
    "import time\n",
    "\n",
    "ktp = AcqKeyTextPattern_Basic(target=target)\n",
    "\n",
    "keys = []\n",
    "N = 50  # Number of traces\n",
    "target.init()\n",
    "for i in tqdm(range(N), desc='Capturing traces'):\n",
    "    # run aux stuff that should come before trace here\n",
    "\n",
    "    key, text = ktp.newPair()  # manual creation of a key, text pair can be substituted here\n",
    "    keys.append(key)\n",
    "\n",
    "    #target.reinit()\n",
    "\n",
    "    target.setModeEncrypt()  # only does something for targets that support it\n",
    "    target.loadEncryptionKey(key)\n",
    "    target.loadInput(text)\n",
    "\n",
    "    # run aux stuff that should run before the scope arms here\n",
    "\n",
    "    scope.arm()\n",
    "\n",
    "    # run aux stuff that should run after the scope arms here\n",
    "\n",
    "    target.go()\n",
    "    timeout = 50\n",
    "    # wait for target to finish\n",
    "    while target.isDone() is False and timeout:\n",
    "        timeout -= 1\n",
    "        time.sleep(0.01)\n",
    "\n",
    "    try:\n",
    "        ret = scope.capture()\n",
    "        if ret:\n",
    "            print('Timeout happened during acquisition')\n",
    "    except IOError as e:\n",
    "        print('IOError: %s' % str(e))\n",
    "\n",
    "    # run aux stuff that should happen after trace here\n",
    "    _ = target.readOutput()  # clears the response from the serial port\n",
    "    #traces.append(scope.getLastTrace())\n",
    "    tc.addTrace(scope.getLastTrace(), text, \"\", key)\n",
    "    \n",
    "#Calling closeAll() to ensure flush to disk happens\n",
    "tc.closeAll()"
   ]
  },
  {
   "cell_type": "markdown",
   "metadata": {},
   "source": [
    "Now that we have our traces, we need to tell the project that the traces are loaded and add them to the project's trace manager."
   ]
  },
  {
   "cell_type": "code",
   "execution_count": null,
   "metadata": {},
   "outputs": [],
   "source": [
    "project.traceManager().appendSegment(tc)\n",
    "\n",
    "#Save project file\n",
    "project.save()"
   ]
  },
  {
   "cell_type": "markdown",
   "metadata": {},
   "source": [
    "We're now done with the ChipWhisperer hardware, so we should disconnect from the scope and target:"
   ]
  },
  {
   "cell_type": "code",
   "execution_count": null,
   "metadata": {},
   "outputs": [],
   "source": [
    "# cleanup the connection to the target and scope\n",
    "scope.dis()\n",
    "target.dis()"
   ]
  },
  {
   "cell_type": "markdown",
   "metadata": {},
   "source": [
    "## Analysis"
   ]
  },
  {
   "cell_type": "markdown",
   "metadata": {},
   "source": [
    "Now that we have our traces, we can begin our attack! We'll start off by importing everything we need for the attack:"
   ]
  },
  {
   "cell_type": "code",
   "execution_count": null,
   "metadata": {},
   "outputs": [],
   "source": [
    "from chipwhisperer.analyzer.attacks.cpa import CPA\n",
    "from chipwhisperer.analyzer.attacks.cpa_algorithms.progressive import CPAProgressive\n",
    "from chipwhisperer.analyzer.attacks.models.AES128_8bit import AES128_8bit, SBox_output\n",
    "from chipwhisperer.analyzer.preprocessing.add_noise_random import AddNoiseRandom\n",
    "from chipwhisperer.common.results.outputvstime import OutputVsTimeNoGUI"
   ]
  },
  {
   "cell_type": "markdown",
   "metadata": {},
   "source": [
    "Next, we'll add our traces to a preprocessing module. We can feed `project.traceManager()` right into `attack.setTraceSource()`, but we could also add pre-processing inbetween (more about this later). We'll also re-open the traces, in this case it is required since the call to `closeAll()` would have flushed the buffers."
   ]
  },
  {
   "cell_type": "code",
   "execution_count": null,
   "metadata": {},
   "outputs": [],
   "source": [
    "#Force reload of project data (if you comment out 'closeAll()' this isn't needed)\n",
    "\n",
    "#We also rebuild the project object in case you only want to run this half\n",
    "from chipwhisperer.common.api.ProjectFormat import ProjectFormat\n",
    "project = ProjectFormat()\n",
    "\n",
    "project.load('./jupyter_test.cwp')"
   ]
  },
  {
   "cell_type": "markdown",
   "metadata": {},
   "source": [
    "And then we can setup our attack:"
   ]
  },
  {
   "cell_type": "code",
   "execution_count": null,
   "metadata": {},
   "outputs": [],
   "source": [
    "attack = CPA()\n",
    "N = 50 #number of traces\n",
    "\n",
    "tm = project.traceManager()\n",
    "\n",
    "leak_model = AES128_8bit(SBox_output)\n",
    "attack.setAnalysisAlgorithm(CPAProgressive, leak_model)\n",
    "attack.setTraceSource(tm)\n",
    "attack.setTraceStart(0)\n",
    "attack.setTracesPerAttack(N)\n",
    "attack.setIterations(1)\n",
    "attack.setReportingInterval(10)\n",
    "attack.setTargetSubkeys([0, 1, 2, 3, 4, 5, 6, 7, 8, 9, 10, 11, 12, 13, 14, 15])\n",
    "attack.setPointRange((0, -1))"
   ]
  },
  {
   "cell_type": "markdown",
   "metadata": {},
   "source": [
    "And then actually run it:"
   ]
  },
  {
   "cell_type": "code",
   "execution_count": null,
   "metadata": {},
   "outputs": [],
   "source": [
    "def stats_ready():\n",
    "    print(\"Iterating...\")\n",
    "attack_results = attack.processTracesNoGUI(stats_ready)\n",
    "print(\"Done.\")"
   ]
  },
  {
   "cell_type": "markdown",
   "metadata": {},
   "source": [
    "Once you see the above block complete, all the heavylifting is done! All that's left is to actually look at the data. Everything important is contained in the `attack_results` class that `attack.processTracesNoGUI()` returned. Note we haven't put anything interesting in the stats_ready(), we'll use that later. For now let's look at the class type:"
   ]
  },
  {
   "cell_type": "code",
   "execution_count": null,
   "metadata": {},
   "outputs": [],
   "source": [
    "print(attack_results.__class__)"
   ]
  },
  {
   "cell_type": "markdown",
   "metadata": {},
   "source": [
    "We can find the max correlation for every one of the subkey by calling `attack_results.findMaximums()`, which returns a list of the subkeys, the point location of the max if calculated, and the correlation (which is a value between 0 and 1 that effectively tells us how well our guess fit the data).\n",
    "\n",
    "Note the \"point location of the max\" is normally not calculated/tracked, and thus returns as a 0. Using the pandas library lets us print them nicely in a DataFrame. We have to transpose the frame to get our expected orientation:"
   ]
  },
  {
   "cell_type": "code",
   "execution_count": null,
   "metadata": {},
   "outputs": [],
   "source": [
    "stat_data = attack_results.findMaximums()\n",
    "\n",
    "#Print all guesses\n",
    "import pandas as pd\n",
    "df = pd.DataFrame(stat_data).transpose()\n",
    "\n",
    "print(df.head())"
   ]
  },
  {
   "cell_type": "markdown",
   "metadata": {},
   "source": [
    "Even better, we can use the `.style` method to customize this further. This also lets us pass a formatting function, which for example will remove the extra '0' and make the datatype look something more like we expect."
   ]
  },
  {
   "cell_type": "code",
   "execution_count": null,
   "metadata": {},
   "outputs": [],
   "source": [
    "#We might want to print guesses in hex and limit decimals (looks more natural)\n",
    "def format_stat(stat):\n",
    "    return str(\"{:02X}<br>{:.3f}\".format(stat[0], stat[2]))\n",
    "\n",
    "df.head(10).style.format(format_stat)"
   ]
  },
  {
   "cell_type": "markdown",
   "metadata": {},
   "source": [
    "You can do lots of formatting thanks to the pandas library! Check out https://pandas.pydata.org/pandas-docs/stable/style.html for more details.\n",
    "\n",
    "It's up to us to print and interpret the data. Below, you can find a simple loop to print out our best guess for the key, the actual key, and the correlation. With any luck, you should see a bunch of numbers printed which match the ones in parentheses and some text at the bottom that says we got the encryption key."
   ]
  },
  {
   "cell_type": "code",
   "execution_count": null,
   "metadata": {},
   "outputs": [],
   "source": [
    "key = keys[0]\n",
    "i = 0\n",
    "all_right = True\n",
    "for bnum in stat_data:\n",
    "    print(\"Best Guess (Actual) = 0x{:02X} (0x{:02X}), Corr = {}\".format(bnum[0][0], key[i], bnum[0][2]))\n",
    "    if bnum[0][0] != key[i]:\n",
    "        all_right = False\n",
    "    i += 1\n",
    "    \n",
    "if all_right:\n",
    "    print(\"We guessed the encryption key!\")\n",
    "else:\n",
    "    print(\"We didn't guess the encryption key\")"
   ]
  },
  {
   "cell_type": "markdown",
   "metadata": {},
   "source": [
    "That's all well and good, but how good much better was our guess than the other ones? To show that, we can use ChipWhisperer's `OutputVsTimeNoGUI`:"
   ]
  },
  {
   "cell_type": "code",
   "execution_count": null,
   "metadata": {},
   "outputs": [],
   "source": [
    "outvstime = OutputVsTimeNoGUI(stats, key)\n",
    "bnum = 0\n",
    "ret = outvstime.getPlotData(bnum)\n",
    "xrange = ret[0]"
   ]
  },
  {
   "cell_type": "markdown",
   "metadata": {},
   "source": [
    "And then plot the data:"
   ]
  },
  {
   "cell_type": "code",
   "execution_count": null,
   "metadata": {},
   "outputs": [],
   "source": [
    "from bokeh.plotting import figure, show\n",
    "from bokeh.io import output_notebook\n",
    "\n",
    "output_notebook()\n",
    "p = figure()\n",
    "p.line(xrange, ret[2], line_color='green')\n",
    "p.line(xrange, ret[3], line_color='green')\n",
    "\n",
    "p.line(xrange, ret[1], line_color='red')\n",
    "show(p)"
   ]
  },
  {
   "cell_type": "markdown",
   "metadata": {},
   "source": [
    "You should see a graph of red and green in time (samples). In red is the correlation of the correct subkey for the first byte, while the rest are in green.\n",
    "\n",
    "You should see two or three distinctive red spikes. The first is the spot where the sbox lookup for the subkey we guessed actually happens (the later ones are from later steps in the AES operation).\n",
    "\n",
    "What about the rest of the bytes in the key? We can get and plot that easily as well:"
   ]
  },
  {
   "cell_type": "code",
   "execution_count": null,
   "metadata": {},
   "outputs": [],
   "source": [
    "rets = []\n",
    "for bnum in range(0, 16):\n",
    "    rets.append(outvstime.getPlotData(bnum))\n",
    "\n",
    "p = figure()\n",
    "for ret in rets:\n",
    "    p.line(xrange, ret[2], line_color='green')\n",
    "    p.line(xrange, ret[3], line_color='green')\n",
    "    \n",
    "for ret in rets:\n",
    "    p.line(xrange, ret[1], line_color='red')\n",
    "\n",
    "show(p)"
   ]
  },
  {
   "cell_type": "markdown",
   "metadata": {},
   "source": [
    "Finally - how would be get real-time feedback? The following example code gives us a table that updates in real-time so you have an idea of the status."
   ]
  },
  {
   "cell_type": "code",
   "execution_count": null,
   "metadata": {},
   "outputs": [],
   "source": [
    "import pandas as pd\n",
    "import numpy as np\n",
    "from IPython.display import display, clear_output\n",
    "\n",
    "def format_stat(stat):\n",
    "    if isinstance(stat, (np.void,list)):\n",
    "        return str(\"{:02X}<br>{:.3f}\".format(stat[0], stat[2]))\n",
    "    else:\n",
    "        return str(stat)\n",
    "\n",
    "def stats_ready():\n",
    "    stats = attack.getStatistics()\n",
    "    stats.setKnownkey(key)\n",
    "    stat_data = stats.findMaximums()\n",
    "    df = pd.DataFrame(stat_data).transpose()\n",
    "\n",
    "    #Add PGE as row too\n",
    "    df_pge = pd.DataFrame(stats.pge).transpose().rename(index={0:\"PGE=\"}, columns=int)\n",
    "    \n",
    "    df = pd.concat([df_pge, df], ignore_index=False)\n",
    "    \n",
    "    clear_output(wait=True)\n",
    "    display(df.head(10).style.format(format_stat))\n",
    "    \n",
    "attack_results = attack.processTracesNoGUI(stats_ready)"
   ]
  },
  {
   "cell_type": "markdown",
   "metadata": {
    "heading_collapsed": true
   },
   "source": [
    "## Conclusion"
   ]
  },
  {
   "cell_type": "markdown",
   "metadata": {
    "hidden": true
   },
   "source": [
    "You should now have completed a successful CPA attack! \n",
    "\n",
    "You can move onto more advanced tutorials, especially showing you how the actual attack works when performed manually (Tutorial B6). This tutorial also utilized tiny-AES128-C for Arm targets, which uses the same operations as the XMEGA target. A later tutorial will preform this attack on a more typical 32 bit AES implementation."
   ]
  }
 ],
 "metadata": {
  "kernelspec": {
   "display_name": "Python 3",
   "language": "python",
   "name": "python3"
  },
  "language_info": {
   "codemirror_mode": {
    "name": "ipython",
    "version": 3
   },
   "file_extension": ".py",
   "mimetype": "text/x-python",
   "name": "python",
   "nbconvert_exporter": "python",
   "pygments_lexer": "ipython3",
   "version": "3.6.6"
  },
  "toc": {
   "base_numbering": 1,
   "nav_menu": {},
   "number_sections": true,
   "sideBar": true,
   "skip_h1_title": true,
   "title_cell": "Table of Contents",
   "title_sidebar": "Contents",
   "toc_cell": false,
   "toc_position": {
    "height": "calc(100% - 180px)",
    "left": "10px",
    "top": "150px",
    "width": "384px"
   },
   "toc_section_display": true,
   "toc_window_display": true
  }
 },
 "nbformat": 4,
 "nbformat_minor": 2
}
