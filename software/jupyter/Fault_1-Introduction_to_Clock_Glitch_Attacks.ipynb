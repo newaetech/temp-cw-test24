{
 "cells": [
  {
   "cell_type": "markdown",
   "metadata": {},
   "source": [
    "# Introduction to Clock Glitch Attacks"
   ]
  },
  {
   "cell_type": "markdown",
   "metadata": {},
   "source": [
    "This advanced tutorial will demonstrate clock glitch attacks using the ChipWhisperer system. This will introduce you to many required features of the ChipWhisperer system when it comes to glitching. This will be built on in later tutorials to generate voltage glitching attacks, or when you wish to attack other targets."
   ]
  },
  {
   "cell_type": "code",
   "execution_count": 1,
   "metadata": {},
   "outputs": [],
   "source": [
    "#Parameters\n",
    "SCOPETYPE = 'OPENADC'\n",
    "PLATFORM = 'CWLITEARM'\n",
    "CRYPTO_TARGET = 'NONE'\n",
    "sample_size = 5 #number of times to check each glitch location"
   ]
  },
  {
   "cell_type": "markdown",
   "metadata": {},
   "source": [
    "## Background on Clock Glitching"
   ]
  },
  {
   "cell_type": "markdown",
   "metadata": {},
   "source": [
    "Digital hardware devices almost always expect some form of reliable clock. We can manipulate the clock being presented to the device to cause unintended behaviour. We'll be concentrating on microcontrollers here, however other digital devices (e.g. hardware encryption accelerators) can also have faults injected using this technique.\n",
    "\n",
    "Consider a microcontroller first. The following figure is an excerpt the Atmel AVR ATMega328P datasheet:\n",
    "\n",
    "![A2_1](https://wiki.newae.com/images/2/20/Mcu-unglitched.png)\n",
    "\n",
    "Rather than loading each instruction from FLASH and performing the entire execution, the system has a pipeline to speed up the execution process. This means that an instruction is being decoded while the next one is being retrieved, as the following diagram shows:\n",
    "\n",
    "![A2_2](https://wiki.newae.com/images/a/a5/Clock-normal.png)\n",
    "\n",
    "But if we modify the clock, we could have a situation where the system doesn't have enough time to actually perform an instruction. Consider the following, where Execute #1 is effectively skipped. Before the system has time to actually execute it another clock edge comes, causing the microcontroller to start execution of the next instruction:\n",
    "\n",
    "![A2_3](https://wiki.newae.com/images/1/1e/Clock-glitched.png)\n",
    "\n",
    "This causes the microcontroller to skip an instruction. Such attacks can be immensely powerful in practice. Consider for example the following code from `linux-util-2.24`:\n",
    "\n",
    "```C\n",
    "/*\n",
    " *   auth.c -- PAM authorization code, common between chsh and chfn\n",
    " *   (c) 2012 by Cody Maloney <cmaloney@theoreticalchaos.com>\n",
    " *\n",
    " *   this program is free software.  you can redistribute it and\n",
    " *   modify it under the terms of the gnu general public license.\n",
    " *   there is no warranty.\n",
    " *\n",
    " */\n",
    "\n",
    "#include \"auth.h\"\n",
    "#include \"pamfail.h\"\n",
    "\n",
    "int auth_pam(const char *service_name, uid_t uid, const char *username)\n",
    "{\n",
    "    if (uid != 0) {\n",
    "        pam_handle_t *pamh = NULL;\n",
    "        struct pam_conv conv = { misc_conv, NULL };\n",
    "        int retcode;\n",
    "\n",
    "        retcode = pam_start(service_name, username, &conv, &pamh);\n",
    "        if (pam_fail_check(pamh, retcode))\n",
    "            return FALSE;\n",
    "\n",
    "        retcode = pam_authenticate(pamh, 0);\n",
    "        if (pam_fail_check(pamh, retcode))\n",
    "            return FALSE;\n",
    "\n",
    "        retcode = pam_acct_mgmt(pamh, 0);\n",
    "        if (retcode == PAM_NEW_AUTHTOK_REQD)\n",
    "            retcode =\n",
    "                pam_chauthtok(pamh, PAM_CHANGE_EXPIRED_AUTHTOK);\n",
    "        if (pam_fail_check(pamh, retcode))\n",
    "            return FALSE;\n",
    "\n",
    "        retcode = pam_setcred(pamh, 0);\n",
    "        if (pam_fail_check(pamh, retcode))\n",
    "            return FALSE;\n",
    "\n",
    "        pam_end(pamh, 0);\n",
    "        /* no need to establish a session; this isn't a\n",
    "         * session-oriented activity...  */\n",
    "    }\n",
    "    return TRUE;\n",
    "}\n",
    "```\n",
    "\n",
    "This is the login code for the Linux OS. Note that if we could skip the check of `if (uid != 0)` and simply branch to the end, we could avoid having to enter a password. This is the power of glitch attacks - not that we are breaking encryption, but simply bypassing the entire authentication module!"
   ]
  },
  {
   "cell_type": "markdown",
   "metadata": {},
   "source": [
    "## Glitch Hardware"
   ]
  },
  {
   "cell_type": "markdown",
   "metadata": {},
   "source": [
    "The ChipWhisperer Glitch system uses the same synchronous methodology as it's Side Channel Analysis (SCA) capture. A system clock (which can come from either the ChipWhisperer or the Device Under Test (DUT)) is used to generate the glitches. These glitches are then inserted back into the clock, although it's possible to use the glitches alone for other purposes (i.e. for voltage glitching, EM glitching).\n",
    "\n",
    "The generation of glitches is done with two variable phase shift modules, configured as follows:\n",
    "\n",
    "![A2_4](https://wiki.newae.com/images/6/65/Glitchgen-phaseshift.png)\n",
    "\n",
    "The enable line is used to determine when glitches are inserted. Glitches can be inserted continuously (useful for development) or triggered by some event. The following figure shows how the glitch can be muxd to output to the Device Under Test (DUT).\n",
    "\n",
    "![A2_5](https://wiki.newae.com/images/c/c0/Glitchgen-mux.png)"
   ]
  },
  {
   "cell_type": "markdown",
   "metadata": {},
   "source": [
    "### Hardware Support"
   ]
  },
  {
   "cell_type": "markdown",
   "metadata": {},
   "source": [
    "The phase shift blocks use the Digital Clock Manager (DCM) blocks within the FPGA. These blocks have limited support for run-time configuration of parameters such as phase delay and frequency generation, and for maximum performance the configuration must be fixed at design time. The Xilinx-provided run-time adjustment can shift the phase only by about +/- 5nS in 30pS increments (exact values vary with operating conditions).\n",
    "\n",
    "For most operating conditions this is insufficient - if attacking a target at 7.37MHz the clock cycle would have a period of 136nS. In order to provide a larger adjustment range, an advanced FPGA feature called Partial Reconfiguration (PR) is used. The PR system requires special partial bitstreams which contain modifications to the FPGA bitstream. These are stored as two files inside a \"firmware\" zip which contains both the FPGA bitstream along with a file called `glitchwidth.p` and a file called `glitchoffset.p`. If a lone bitstream is being loaded into the FPGA (i.e. not from the zip-file), the partial reconfiguration system is disabled, as loading incorrect partial reconfiguration files could damage the FPGA. This damage is mostly theoretical, more likely the FPGA will fail to function correctly.\n",
    "\n",
    "If in the course of following this tutorial you find the FPGA appears to stop responding (i.e. certain features no longer work correctly), it could be the partial reconfiguration data is incorrect.\n",
    "\n",
    "We'll look at how to interface with these features later in the tutorial."
   ]
  },
  {
   "cell_type": "markdown",
   "metadata": {},
   "source": [
    "## Setting Up Firmware"
   ]
  },
  {
   "cell_type": "markdown",
   "metadata": {},
   "source": [
    "As with previous tutorials, we'll start by creating a new project from base firmware, as well as setting up our `PLATFORM` and `CRYPTO_TARGET`. This tutorial doesn't use any crypto, so we'll leave the latter option as `NONE`. This time, we'll be using `glitch-simple`:"
   ]
  },
  {
   "cell_type": "markdown",
   "metadata": {},
   "source": [
    "Now navigate to the `glitch-simple-lab1` folder and open `glitchsimple.c` in a code editor. Scroll down until you find the `glitch1()` function:\n",
    "\n",
    "```C\n",
    "void glitch1(void)\n",
    "{\n",
    "    led_ok(1);\n",
    "    led_error(0);\n",
    "    \n",
    "    //Some fake variable\n",
    "    volatile uint8_t a = 0;\n",
    "    \n",
    "    putch('A');\n",
    "    \n",
    "    //External trigger logic\n",
    "    trigger_high();\n",
    "    trigger_low();\n",
    "    \n",
    "    //Should be an infinite loop\n",
    "    while(a != 2){\n",
    "    ;\n",
    "    }    \n",
    "    \n",
    "    led_error(1);\n",
    "    led_error(1);\n",
    "    led_error(1);\n",
    "    led_error(1);\n",
    "    led_error(1);\n",
    "    led_error(1);\n",
    "    led_error(1);\n",
    "    led_error(1);\n",
    "    led_error(1);\n",
    "    \n",
    "    uart_puts(\"1234\");\n",
    "    \n",
    "    led_error(1);\n",
    "    led_error(1);\n",
    "    led_error(1);\n",
    "    led_error(1);\n",
    "    led_error(1);\n",
    "    led_error(1);\n",
    "    led_error(1);\n",
    "    led_error(1);\n",
    "\n",
    "    //Several loops in order to try and prevent restarting\n",
    "    while(1){\n",
    "    ;\n",
    "    }\n",
    "    while(1){\n",
    "    ;\n",
    "    }\n",
    "    while(1){\n",
    "    ;\n",
    "    }\n",
    "    while(1){\n",
    "    ;\n",
    "    }\n",
    "    while(1){\n",
    "    ;\n",
    "    }    \n",
    "}\n",
    "\n",
    "```\n",
    "\n",
    "We can see here that sends back an `'A'`, toggles the trigger pin, then enters an infinite loop. After the infinite loop, the device sends back `\"1234\"`. On boards that support it, the firmware will also activate a green \"OK\" LED upon entering the function and a red \"ERROR\" LED when a successful glitch occurs. Our objective will be to glitch past the infinite loop.\n",
    "\n",
    "Before you build, navigate to main(). You'll see some C preprocessor directives that will allow us to switch between the different functions whithout having to edit the `glitchsimple.c` file. We'll do this via the `FUNC_SEL` makefile variable like so:"
   ]
  },
  {
   "cell_type": "code",
   "execution_count": 2,
   "metadata": {},
   "outputs": [
    {
     "name": "stdout",
     "output_type": "stream",
     "text": [
      "rm -f -- glitchsimple-CWLITEXMEGA.hex\r\n",
      "rm -f -- glitchsimple-CWLITEXMEGA.eep\r\n",
      "rm -f -- glitchsimple-CWLITEXMEGA.cof\r\n",
      "rm -f -- glitchsimple-CWLITEXMEGA.elf\r\n",
      "rm -f -- glitchsimple-CWLITEXMEGA.map\r\n",
      "rm -f -- glitchsimple-CWLITEXMEGA.sym\r\n",
      "rm -f -- glitchsimple-CWLITEXMEGA.lss\r\n",
      "rm -f -- objdir/*.o\r\n",
      "rm -f -- objdir/*.lst\r\n",
      "rm -f -- glitchsimple.s simpleserial.s XMEGA_AES_driver.s uart.s usart_driver.s xmega_hal.s\r\n",
      "rm -f -- glitchsimple.d simpleserial.d XMEGA_AES_driver.d uart.d usart_driver.d xmega_hal.d\r\n",
      "rm -f -- glitchsimple.i simpleserial.i XMEGA_AES_driver.i uart.i usart_driver.i xmega_hal.i\r\n",
      ".\r\n",
      "-------- begin --------\r\n",
      "avr-gcc (WinAVR 20100110) 4.3.3\r\n",
      "Copyright (C) 2008 Free Software Foundation, Inc.\r\n",
      "This is free software; see the source for copying conditions.  There is NO\r\n",
      "warranty; not even for MERCHANTABILITY or FITNESS FOR A PARTICULAR PURPOSE.\r\n",
      "\r\n",
      ".\r\n",
      "Compiling C: glitchsimple.c\r\n",
      "avr-gcc -c -mmcu=atxmega128d3 -I. -DGLITCH1 -fpack-struct -gdwarf-2 -DSS_VER=SS_VER_1_1 -DHAL_TYPE=HAL_xmega -DPLATFORM=CWLITEXMEGA -DF_CPU=7372800UL -Os -funsigned-char -funsigned-bitfields -fshort-enums -Wall -Wstrict-prototypes -Wa,-adhlns=objdir/glitchsimple.lst -I.././simpleserial/ -I.././hal -I.././hal/xmega -I.././crypto/ -std=gnu99 -MMD -MP -MF .dep/glitchsimple.o.d glitchsimple.c -o objdir/glitchsimple.o \r\n",
      ".\r\n",
      "Compiling C: .././simpleserial/simpleserial.c\r\n",
      "avr-gcc -c -mmcu=atxmega128d3 -I. -DGLITCH1 -fpack-struct -gdwarf-2 -DSS_VER=SS_VER_1_1 -DHAL_TYPE=HAL_xmega -DPLATFORM=CWLITEXMEGA -DF_CPU=7372800UL -Os -funsigned-char -funsigned-bitfields -fshort-enums -Wall -Wstrict-prototypes -Wa,-adhlns=objdir/simpleserial.lst -I.././simpleserial/ -I.././hal -I.././hal/xmega -I.././crypto/ -std=gnu99 -MMD -MP -MF .dep/simpleserial.o.d .././simpleserial/simpleserial.c -o objdir/simpleserial.o \r\n",
      ".\r\n",
      "Compiling C: .././hal/xmega/XMEGA_AES_driver.c\r\n",
      "avr-gcc -c -mmcu=atxmega128d3 -I. -DGLITCH1 -fpack-struct -gdwarf-2 -DSS_VER=SS_VER_1_1 -DHAL_TYPE=HAL_xmega -DPLATFORM=CWLITEXMEGA -DF_CPU=7372800UL -Os -funsigned-char -funsigned-bitfields -fshort-enums -Wall -Wstrict-prototypes -Wa,-adhlns=objdir/XMEGA_AES_driver.lst -I.././simpleserial/ -I.././hal -I.././hal/xmega -I.././crypto/ -std=gnu99 -MMD -MP -MF .dep/XMEGA_AES_driver.o.d .././hal/xmega/XMEGA_AES_driver.c -o objdir/XMEGA_AES_driver.o \r\n",
      ".\r\n",
      "Compiling C: .././hal/xmega/uart.c\r\n",
      "avr-gcc -c -mmcu=atxmega128d3 -I. -DGLITCH1 -fpack-struct -gdwarf-2 -DSS_VER=SS_VER_1_1 -DHAL_TYPE=HAL_xmega -DPLATFORM=CWLITEXMEGA -DF_CPU=7372800UL -Os -funsigned-char -funsigned-bitfields -fshort-enums -Wall -Wstrict-prototypes -Wa,-adhlns=objdir/uart.lst -I.././simpleserial/ -I.././hal -I.././hal/xmega -I.././crypto/ -std=gnu99 -MMD -MP -MF .dep/uart.o.d .././hal/xmega/uart.c -o objdir/uart.o \r\n",
      ".\r\n",
      "Compiling C: .././hal/xmega/usart_driver.c\r\n",
      "avr-gcc -c -mmcu=atxmega128d3 -I. -DGLITCH1 -fpack-struct -gdwarf-2 -DSS_VER=SS_VER_1_1 -DHAL_TYPE=HAL_xmega -DPLATFORM=CWLITEXMEGA -DF_CPU=7372800UL -Os -funsigned-char -funsigned-bitfields -fshort-enums -Wall -Wstrict-prototypes -Wa,-adhlns=objdir/usart_driver.lst -I.././simpleserial/ -I.././hal -I.././hal/xmega -I.././crypto/ -std=gnu99 -MMD -MP -MF .dep/usart_driver.o.d .././hal/xmega/usart_driver.c -o objdir/usart_driver.o \r\n",
      ".\r\n",
      "Compiling C: .././hal/xmega/xmega_hal.c\r\n",
      "avr-gcc -c -mmcu=atxmega128d3 -I. -DGLITCH1 -fpack-struct -gdwarf-2 -DSS_VER=SS_VER_1_1 -DHAL_TYPE=HAL_xmega -DPLATFORM=CWLITEXMEGA -DF_CPU=7372800UL -Os -funsigned-char -funsigned-bitfields -fshort-enums -Wall -Wstrict-prototypes -Wa,-adhlns=objdir/xmega_hal.lst -I.././simpleserial/ -I.././hal -I.././hal/xmega -I.././crypto/ -std=gnu99 -MMD -MP -MF .dep/xmega_hal.o.d .././hal/xmega/xmega_hal.c -o objdir/xmega_hal.o \r\n",
      ".\r\n",
      "Linking: glitchsimple-CWLITEXMEGA.elf\r\n",
      "avr-gcc -mmcu=atxmega128d3 -I. -DGLITCH1 -fpack-struct -gdwarf-2 -DSS_VER=SS_VER_1_1 -DHAL_TYPE=HAL_xmega -DPLATFORM=CWLITEXMEGA -DF_CPU=7372800UL -Os -funsigned-char -funsigned-bitfields -fshort-enums -Wall -Wstrict-prototypes -Wa,-adhlns=objdir/glitchsimple.o -I.././simpleserial/ -I.././hal -I.././hal/xmega -I.././crypto/ -std=gnu99 -MMD -MP -MF .dep/glitchsimple-CWLITEXMEGA.elf.d objdir/glitchsimple.o objdir/simpleserial.o objdir/XMEGA_AES_driver.o objdir/uart.o objdir/usart_driver.o objdir/xmega_hal.o --output glitchsimple-CWLITEXMEGA.elf -Wl,-Map=glitchsimple-CWLITEXMEGA.map,--cref   -lm  \r\n",
      ".\r\n",
      "Creating load file for Flash: glitchsimple-CWLITEXMEGA.hex\r\n",
      "avr-objcopy -O ihex -R .eeprom -R .fuse -R .lock -R .signature glitchsimple-CWLITEXMEGA.elf glitchsimple-CWLITEXMEGA.hex\r\n",
      ".\r\n",
      "Creating load file for EEPROM: glitchsimple-CWLITEXMEGA.eep\r\n",
      "avr-objcopy -j .eeprom --set-section-flags=.eeprom=\"alloc,load\" \\\r\n",
      "\t--change-section-lma .eeprom=0 --no-change-warnings -O ihex glitchsimple-CWLITEXMEGA.elf glitchsimple-CWLITEXMEGA.eep || exit 0\r\n",
      ".\r\n",
      "Creating Extended Listing: glitchsimple-CWLITEXMEGA.lss\r\n",
      "avr-objdump -h -S -z glitchsimple-CWLITEXMEGA.elf > glitchsimple-CWLITEXMEGA.lss\r\n",
      ".\r\n",
      "Creating Symbol Table: glitchsimple-CWLITEXMEGA.sym\r\n",
      "avr-nm -n glitchsimple-CWLITEXMEGA.elf > glitchsimple-CWLITEXMEGA.sym\r\n",
      "Size after:\r\n",
      "   text\t   data\t    bss\t    dec\t    hex\tfilename\r\n",
      "   3766\t     68\t     52\t   3886\t    f2e\tglitchsimple-CWLITEXMEGA.elf\r\n",
      "+--------------------------------------------------------\r\n",
      "+ Built for platform CW-Lite XMEGA\r\n",
      "+--------------------------------------------------------\r\n"
     ]
    }
   ],
   "source": [
    "%%bash -s \"$PLATFORM\" \"$CRYPTO_TARGET\"\n",
    "cd ../../hardware/victims/firmware/glitch-simple\n",
    "make PLATFORM=$1 CRYPTO_TARGET=$2 FUNC_SEL=GLITCH1"
   ]
  },
  {
   "cell_type": "markdown",
   "metadata": {},
   "source": [
    "## Attack Script"
   ]
  },
  {
   "cell_type": "markdown",
   "metadata": {},
   "source": [
    "### Setup"
   ]
  },
  {
   "cell_type": "markdown",
   "metadata": {},
   "source": [
    "Now that we've studied the code and have an objective, we can start looking at how to control the glitch module via Python. We'll start by connecting to and setting up the ChipWhisperer, then programming it. As usual, make sure you modify `fw_path` with the path to the file you built in the last step."
   ]
  },
  {
   "cell_type": "code",
   "execution_count": 3,
   "metadata": {},
   "outputs": [],
   "source": [
    "%run \"Helper_Scripts/Setup.ipynb\""
   ]
  },
  {
   "cell_type": "code",
   "execution_count": 4,
   "metadata": {},
   "outputs": [],
   "source": [
    "fw_path = \"../../hardware/victims/firmware/glitch-simple/glitchsimple-{}.hex\".format(PLATFORM)"
   ]
  },
  {
   "cell_type": "code",
   "execution_count": 5,
   "metadata": {},
   "outputs": [
    {
     "name": "stdout",
     "output_type": "stream",
     "text": [
      "XMEGA Programming flash...\n",
      "XMEGA Reading flash...\n",
      "Verified flash OK, 3833 bytes\n"
     ]
    }
   ],
   "source": [
    "cw.programTarget(scope, prog, fw_path)"
   ]
  },
  {
   "cell_type": "markdown",
   "metadata": {},
   "source": [
    "Since the firmware enters an infinite loop, we'll need to reset the target between glitch attempts. `\"Helper_Scripts/Setup.ipynb\"` defines a reset function `reset_target(scope)` that we'll use here. Now let's make sure the firmware works as we expect. We should get `\"hello\\nA\"` back after resetting the target."
   ]
  },
  {
   "cell_type": "code",
   "execution_count": 6,
   "metadata": {},
   "outputs": [
    {
     "name": "stdout",
     "output_type": "stream",
     "text": [
      "\u0000hello\n",
      "A\u0000hello\n",
      "A\n"
     ]
    }
   ],
   "source": [
    "scope.arm()\n",
    "reset_target(scope)\n",
    "\n",
    "ret = scope.capture()\n",
    "if ret:\n",
    "    print(\"Scope capture timed out\")\n",
    "num_chars = target.ser.inWaiting()\n",
    "response = target.ser.read(num_chars, timeout = 10)\n",
    "print(response)"
   ]
  },
  {
   "cell_type": "markdown",
   "metadata": {},
   "source": [
    "### Glitch Module"
   ]
  },
  {
   "cell_type": "markdown",
   "metadata": {},
   "source": [
    "All the settings/methods for the glitch module can be accessed under `scope.glitch`. As usual, documentation for the settings and methods can be accessed by the python `help` command:"
   ]
  },
  {
   "cell_type": "code",
   "execution_count": 7,
   "metadata": {},
   "outputs": [
    {
     "name": "stdout",
     "output_type": "stream",
     "text": [
      "Help on GlitchSettings in module chipwhisperer.capture.scopes.cwhardware.ChipWhispererGlitch object:\n",
      "\n",
      "class GlitchSettings(chipwhisperer.common.utils.util.DisableNewAttr)\n",
      " |  GlitchSettings(cwglitch)\n",
      " |  \n",
      " |  Provides an ability to disable setting new attributes in a class, useful to prevent typos.\n",
      " |  \n",
      " |  Usage:\n",
      " |  1. Make a class that inherits this class:\n",
      " |  >>> class MyClass(DisableNewAttr):\n",
      " |  >>>     # Your class definition here\n",
      " |  \n",
      " |  2. After setting up all attributes that your object needs, call disable_newattr():\n",
      " |  >>>     def __init__(self):\n",
      " |  >>>         self.my_attr = 123\n",
      " |  >>>         self.disable_newattr()\n",
      " |  \n",
      " |  3. Subclasses raise an AttributeError when trying to make a new attribute:\n",
      " |  >>> obj = MyClass()\n",
      " |  >>> #obj.my_new_attr = 456   <-- Raises AttributeError\n",
      " |  \n",
      " |  Method resolution order:\n",
      " |      GlitchSettings\n",
      " |      chipwhisperer.common.utils.util.DisableNewAttr\n",
      " |      builtins.object\n",
      " |  \n",
      " |  Methods defined here:\n",
      " |  \n",
      " |  __init__(self, cwglitch)\n",
      " |      Initialize self.  See help(type(self)) for accurate signature.\n",
      " |  \n",
      " |  __repr__(self)\n",
      " |      Return repr(self).\n",
      " |  \n",
      " |  __str__(self)\n",
      " |      Return str(self).\n",
      " |  \n",
      " |  manualTrigger(self)\n",
      " |      Manually trigger the glitch output.\n",
      " |      \n",
      " |      This trigger is most useful in Manual trigger mode, where this is the\n",
      " |      only way to cause a glitch.\n",
      " |  \n",
      " |  readStatus(self)\n",
      " |      Read the status of the two glitch DCMs.\n",
      " |      \n",
      " |      Return a tuple with 4 elements:\n",
      " |      - phase1: The phase shift of DCM1\n",
      " |      - phase2: The phase shift of DCM2\n",
      " |      - lock1: Whether DCM1 is locked\n",
      " |      - lock2: Whether DCM2 is locked\n",
      " |  \n",
      " |  resetDcms(self)\n",
      " |      Reset the two glitch DCMs.\n",
      " |      \n",
      " |      This is automatically run after changing the glitch width or offset,\n",
      " |      so this function is typically not necessary.\n",
      " |  \n",
      " |  ----------------------------------------------------------------------\n",
      " |  Data descriptors defined here:\n",
      " |  \n",
      " |  arm_timing\n",
      " |      When to arm the glitch in single-shot mode.\n",
      " |      \n",
      " |      If the glitch module is in \"ext_single\" trigger mode, it must be armed\n",
      " |      when the scope is armed. There are two timings for this event:\n",
      " |      - \"before_scope\": The glitch module is armed first.\n",
      " |      - \"after_scope\": The scope is armed first. This is the default.\n",
      " |      \n",
      " |      This setting may be helpful if trigger events are happening very early.\n",
      " |      \n",
      " |      If the glitch module is not in external trigger single-shot mode, this\n",
      " |      setting has no effect.\n",
      " |      \n",
      " |      Getter: Return the current arm timing (\"before_scope\" or \"after_scope\")\n",
      " |      \n",
      " |      Setter: Change the arm timing\n",
      " |          Raises: ValueError if value not listed above\n",
      " |  \n",
      " |  clk_src\n",
      " |      The clock signal that the glitch DCM is using as input.\n",
      " |      \n",
      " |      This DCM can be clocked from two different sources:\n",
      " |      - \"target\": The HS1 clock from the target device\n",
      " |      - \"clkgen\": The CLKGEN DCM output\n",
      " |      \n",
      " |      Getter: Return the clock signal currently in use\n",
      " |      \n",
      " |      Setter: Change the glitch clock source\n",
      " |          Raises: ValueError if new value not one of \"target\" or \"clkgen\"\n",
      " |  \n",
      " |  ext_offset\n",
      " |      How long the glitch module waits between a trigger and a glitch.\n",
      " |      \n",
      " |      After the glitch module is triggered, it waits for a number of clock\n",
      " |      cycles before generating glitch pulses. This delay allows the glitch to\n",
      " |      be inserted at a precise moment during the target's execution to glitch\n",
      " |      specific instructions.\n",
      " |      \n",
      " |      Tip: it is possible to get more precise offsets by clocking the glitch\n",
      " |      module faster than the target board.\n",
      " |      \n",
      " |      This offset must be in the range [0, 2**32).\n",
      " |      \n",
      " |      Getter: Return the current external trigger offset.\n",
      " |      \n",
      " |      Setter: Set the external trigger offset.\n",
      " |          Raises:\n",
      " |              TypeError if offset not an integer\n",
      " |              ValueError if offset outside of range [0, 2**32)\n",
      " |  \n",
      " |  offset\n",
      " |      The offset from a rising clock edge to a glitch pulse rising edge,\n",
      " |      as a percentage of one period.\n",
      " |      \n",
      " |      A pulse may begin anywhere from -49.8% to 49.8% away from a rising\n",
      " |      edge, allowing glitches to be swept over the entire clock cycle.\n",
      " |      \n",
      " |      Getter: Return a float with the current glitch offset.\n",
      " |      \n",
      " |      Setter: Set the glitch offset. The new value is rounded to the nearest\n",
      " |      possible offset.\n",
      " |          Raises:\n",
      " |              TypeError if offset not an integer\n",
      " |              UserWarning if value outside range [-50, 50] (value is rounded)\n",
      " |  \n",
      " |  offset_fine\n",
      " |      The fine adjustment value on the glitch offset.\n",
      " |      \n",
      " |      This is a dimensionless number that makes small adjustments to the\n",
      " |      glitch pulses' offset. Valid range is [-255, 255].\n",
      " |      \n",
      " |      Getter: Return the current glitch fine offset\n",
      " |      \n",
      " |      Setter: Update the glitch fine offset\n",
      " |          Raises:\n",
      " |              TypeError if offset not an integer\n",
      " |              ValueError if offset is outside of [-255, 255]\n",
      " |  \n",
      " |  output\n",
      " |      The type of output produced by the glitch module.\n",
      " |      \n",
      " |      There are 5 ways that the glitch module can combine the clock with its\n",
      " |      glitch pulses:\n",
      " |      - \"clock_only\": Output only the original input clock.\n",
      " |      - \"glitch_only\": Output only the glitch pulses - do not use the clock.\n",
      " |      - \"clock_or\": Output is high if either the clock or glitch are high.\n",
      " |      - \"clock_xor\": Output is high if clock and glitch are different.\n",
      " |      - \"enable_only\": Output is high for glitch.repeat cycles.\n",
      " |      \n",
      " |      Some of these settings are only useful in certain scenarios:\n",
      " |      - Clock glitching: \"clock_or\" or \"clock_xor\"\n",
      " |      - Voltage glitching: \"glitch_only\" or \"enable_only\"\n",
      " |      \n",
      " |      Getter: Return the current glitch output mode (one of above strings)\n",
      " |      \n",
      " |      Setter: Change the glitch output mode.\n",
      " |          Raises: ValueError if value not in above strings\n",
      " |  \n",
      " |  repeat\n",
      " |      The number of glitch pulses to generate per trigger.\n",
      " |      \n",
      " |      When the glitch module is triggered, it produces a number of pulses\n",
      " |      that can be combined with the clock signal. This setting allows for\n",
      " |      the glitch module to produce stronger glitches (especially during\n",
      " |      voltage glitching).\n",
      " |      \n",
      " |      Repeat counter must be in the range [1, 255].\n",
      " |      \n",
      " |      Getter: Return the current repeat value (integer)\n",
      " |      \n",
      " |      Setter: Set the repeat counter\n",
      " |          Raises:\n",
      " |              TypeError if value not an integer\n",
      " |              ValueError if value outside [1, 255]\n",
      " |  \n",
      " |  trigger_src\n",
      " |      The trigger signal for the glitch pulses.\n",
      " |      \n",
      " |      The glitch module can use four different types of triggers:\n",
      " |      - \"continuous\": Constantly trigger glitches\n",
      " |      - \"manual\": Only trigger glitches through API calls/GUI actions\n",
      " |      - \"ext_single\": Use the trigger module. One glitch per scope arm.\n",
      " |      - \"ext_continuous\": Use the trigger module. Many glitches per arm.\n",
      " |      \n",
      " |      Getter: Return the current trigger source.\n",
      " |      \n",
      " |      Setter: Change the trigger source.\n",
      " |          Raises: ValueError if value not listed above\n",
      " |  \n",
      " |  width\n",
      " |      The width of a single glitch pulse, as a percentage of one period.\n",
      " |      \n",
      " |      One pulse can range from -49.8% to roughly 49.8% of a period. The\n",
      " |      system may not be reliable at 0%. Note that negative widths are allowed\n",
      " |       - these act as if they are positive widths on the other half of the\n",
      " |      clock cycle.\n",
      " |      \n",
      " |      Getter: Return a float with the current glitch width.\n",
      " |      \n",
      " |      Setter: Update the glitch pulse width. The value will be adjusted to\n",
      " |      the closest possible glitch width.\n",
      " |  \n",
      " |  width_fine\n",
      " |      The fine adjustment value on the glitch width.\n",
      " |      \n",
      " |      This is a dimensionless number that makes small adjustments to the\n",
      " |      glitch pulses' width. Valid range is [-255, 255].\n",
      " |      \n",
      " |      Getter: Return the current glitch fine width\n",
      " |      \n",
      " |      Setter: Update the glitch fine width\n",
      " |          Raises:\n",
      " |              TypeError if offset not an integer\n",
      " |              ValueError if offset is outside of [-255, 255]\n",
      " |  \n",
      " |  ----------------------------------------------------------------------\n",
      " |  Methods inherited from chipwhisperer.common.utils.util.DisableNewAttr:\n",
      " |  \n",
      " |  __setattr__(self, name, value)\n",
      " |      Implement setattr(self, name, value).\n",
      " |  \n",
      " |  disable_newattr(self)\n",
      " |  \n",
      " |  enable_newattr(self)\n",
      " |  \n",
      " |  ----------------------------------------------------------------------\n",
      " |  Data descriptors inherited from chipwhisperer.common.utils.util.DisableNewAttr:\n",
      " |  \n",
      " |  __dict__\n",
      " |      dictionary for instance variables (if defined)\n",
      " |  \n",
      " |  __weakref__\n",
      " |      list of weak references to the object (if defined)\n"
     ]
    },
    {
     "name": "stdout",
     "output_type": "stream",
     "text": [
      "\n"
     ]
    }
   ],
   "source": [
    "help(scope.glitch)"
   ]
  },
  {
   "cell_type": "markdown",
   "metadata": {},
   "source": [
    "Some of the important settings we'll want to look at here are:\n",
    "\n",
    "* clk_src\n",
    "> The clock signal that the glitch DCM is using as input. Can be set to \"target\" or \"clkgen\" In this case, we'll be providing the clock to the target, so we'll want this set to \"clkgen\"\n",
    "* offset\n",
    "> Where in the output clock to place the glitch. Can be in the range `[-50, 50]`. Often, we'll want to try many offsets when trying to glitch a target.\n",
    "* width\n",
    "> How wide to make the glitch. Can be in the range `[-50, 50]`. Wider glitches more easily cause glitches, but are also more likely to crash the target, meaning we'll often want to try a range of widths when attacking a target.\n",
    "* output\n",
    "> The output produced by the glitch module. For clock glitching, clock_xor is often the most useful option.\n",
    "* ext_offset\n",
    "> The number of clock cycles after the trigger to put the glitch. \n",
    "* repeat\n",
    "> The number of clock cycles to repeat the glitch for. Higher values increase the number of instructions that can be glitched, but often increase the risk of crashing the target.\n",
    "* trigger_src\n",
    "> How to trigger the glitch. For this tutorial, we want to automatically trigger the glitch from the trigger pin only after arming the ChipWhipserer, so we'll use `ext_single`\n",
    "\n",
    "In addition, we'll need to tell ChipWhipserer to use the glitch module's output as a clock source for the target by setting `scope.io.hs2 = \"glitch\"`. We'll also setup a large `repeat` to make glitching easier. Finally, we'll also use a `namedtuple` to make looping through parameters simpler."
   ]
  },
  {
   "cell_type": "code",
   "execution_count": 8,
   "metadata": {},
   "outputs": [
    {
     "name": "stdout",
     "output_type": "stream",
     "text": [
      "clk_src     = clkgen\n",
      "width       = 10.15625\n",
      "width_fine  = 0\n",
      "offset      = 10.15625\n",
      "offset_fine = 0\n",
      "trigger_src = ext_single\n",
      "arm_timing  = after_scope\n",
      "ext_offset  = 0\n",
      "repeat      = 105\n",
      "output      = clock_xor\n",
      "\n"
     ]
    }
   ],
   "source": [
    "from collections import namedtuple\n",
    "scope.glitch.clk_src = \"clkgen\"\n",
    "scope.glitch.output = \"clock_xor\"\n",
    "scope.glitch.trigger_src = \"ext_single\"\n",
    "\n",
    "scope.io.hs2 = \"glitch\"\n",
    "\n",
    "Range = namedtuple('Range', ['min', 'max', 'step'])\n",
    "if PLATFORM == \"CWLITEXMEGA\" or PLATFORM == \"CW303\":\n",
    "    offset_range = Range(-10, 10, 1)\n",
    "    scope.glitch.repeat = 105\n",
    "elif PLATFORM == \"CWLITEARM\" or PLATFORM == \"CW308_STM32F3\":\n",
    "    offset_range = Range(-49, -30, 1)\n",
    "    scope.glitch.ext_offset = 37\n",
    "    scope.glitch.repeat = 10\n",
    "    \n",
    "print(scope.glitch)"
   ]
  },
  {
   "cell_type": "markdown",
   "metadata": {},
   "source": [
    "### Attack Loop"
   ]
  },
  {
   "cell_type": "markdown",
   "metadata": {},
   "source": [
    "Now that the setup's done and we know how to use the glitch module, we can start our attack. The key parameters that we'll need to iterate through are `width` and `offset`, so we'll need some loops to change these. To know if we got a successful glitch, we'll check for \"1234\" in the output we get back. \n",
    "\n",
    "One additional improvement that we can make is to try each parameter multiple times and keep track of the success rate. Incorporating all of these improvements, our loop looks like:"
   ]
  },
  {
   "cell_type": "code",
   "execution_count": 9,
   "metadata": {
    "scrolled": true
   },
   "outputs": [
    {
     "name": "stderr",
     "output_type": "stream",
     "text": [
      "WARNING:root:SAM3U Serial buffers OVERRUN - data loss has occurred.\n",
      "WARNING:root:SAM3U Serial buffers OVERRUN - data loss has occurred.\n",
      "WARNING:root:SAM3U Serial buffers OVERRUN - data loss has occurred.\n",
      "WARNING:root:SAM3U Serial buffers OVERRUN - data loss has occurred.\n",
      "WARNING:root:SAM3U Serial buffers OVERRUN - data loss has occurred.\n",
      "WARNING:root:SAM3U Serial buffers OVERRUN - data loss has occurred.\n"
     ]
    },
    {
     "name": "stdout",
     "output_type": "stream",
     "text": [
      "Done glitching\n"
     ]
    }
   ],
   "source": [
    "from collections import namedtuple\n",
    "\n",
    "width_range = Range(-10, 10, 1)\n",
    "\n",
    "scope.glitch.width = width_range.min\n",
    "target.init()\n",
    "\n",
    "attack1_data = []\n",
    "\n",
    "while scope.glitch.width < width_range.max:\n",
    "    scope.glitch.offset = offset_range.min\n",
    "    while scope.glitch.offset < offset_range.max:\n",
    "        successes = 0\n",
    "        for i in range(sample_size):\n",
    "            # call before trace things here\n",
    "\n",
    "            # flush the garbage from the computer's target read buffer\n",
    "            target.ser.flush()\n",
    "\n",
    "            # run aux stuff that should run before the scope arms here\n",
    "\n",
    "            scope.arm()\n",
    "            reset_target(scope)\n",
    "\n",
    "            timeout = 50\n",
    "            # wait for target to finish\n",
    "            while target.isDone() is False and timeout:\n",
    "                timeout -= 1\n",
    "                time.sleep(0.01)\n",
    "\n",
    "            try:\n",
    "                ret = scope.capture()\n",
    "                if ret:\n",
    "                    print('Timeout happened during acquisition')\n",
    "            except IOError as e:\n",
    "                print('IOError: %s' % str(e))\n",
    "\n",
    "            # get the results from the scope\n",
    "            # read from the targets buffer\n",
    "            num_chars = target.ser.inWaiting()\n",
    "            response = target.ser.read(num_chars, timeout = 10)\n",
    "\n",
    "            # for table display purposes\n",
    "            success = '1234' in repr(response) # check for glitch success (depends on targets active firmware)\n",
    "            if success:\n",
    "                successes += 1\n",
    "            \n",
    "        attack1_data.append([scope.glitch.width, scope.glitch.offset, successes/sample_size, repr(response)]) \n",
    "        # run aux stuff that should happen after trace here\n",
    "        scope.glitch.offset += offset_range.step\n",
    "    scope.glitch.width += width_range.step\n",
    "\n",
    "print(\"Done glitching\")"
   ]
  },
  {
   "cell_type": "markdown",
   "metadata": {},
   "source": [
    "Now that we've tried some glitches, let's look at the results. There's going to be a lot of data here, so we'll only print parameters that lead to successful glitches:"
   ]
  },
  {
   "cell_type": "code",
   "execution_count": 10,
   "metadata": {},
   "outputs": [
    {
     "name": "stdout",
     "output_type": "stream",
     "text": [
      "[-7.8125, -1.953125, 0.2, \"'\\\\x00hello\\\\nA'\"]\n",
      "[-6.640625, 7.421875, 0.2, \"'\\\\x00hello\\\\nA'\"]\n",
      "[-5.46875, -1.953125, 0.2, \"'\\\\x00hello\\\\nA1234'\"]\n",
      "[-3.125, -10.15625, 0.2, \"'\\\\x00hello\\\\n\\\\xa0'\"]\n",
      "[-3.125, -7.8125, 0.2, \"'\\\\x00hello\\\\n\\\\xa0'\"]\n",
      "[-3.125, -6.640625, 0.2, \"'\\\\x00hello\\\\n¡1234hello\\\\nA'\"]\n",
      "[-3.125, -5.46875, 0.2, \"'\\\\x00hello\\\\n¡'\"]\n",
      "[-3.125, -3.125, 0.2, \"'\\\\x00hello\\\\n\\\\xa0'\"]\n",
      "[-1.953125, 2.734375, 0.2, \"'\\\\x00hello\\\\nA\\\\x1d\\\\x0e\\\\x01\\\\x0e\\\\x01\\\\x0e\\\\x01\\\\x0e\\\\x01\\\\x0e\\\\x01\\\\x0e\\\\x01\\\\x0e\\\\x01\\\\x0e\\\\x01\\\\x0e\\\\x01\\\\x0e\\\\x01\\\\x0e\\\\x01\\\\x0e\\\\x01\\\\x0e\\\\x01\\\\x0e\\\\x01\\\\x0e\\\\x01\\\\x0e\\\\x01\\\\x0e\\\\x01\\\\x0e\\\\x01\\\\x0e\\\\x01\\\\x0e\\\\x01\\\\x0e\\\\x01\\\\x0e\\\\x01\\\\x0e\\\\x01\\\\x0e\\\\x01\\\\x0e\\\\x01\\\\x0e\\\\x01\\\\x0e\\\\x01\\\\x0e\\\\x01\\\\x0e\\\\x01\\\\x0e\\\\x01\\\\x0e\\\\x01\\\\x0e\\\\x01\\\\x0e\\\\x01\\\\x0e\\\\x01\\\\x0e\\\\x01\\\\x0e\\\\x01\\\\x0e\\\\x01\\\\x0e\\\\x01\\\\x0e\\\\x01\\\\x0e\\\\x01\\\\x0e\\\\x01\\\\x0e\\\\x01\\\\x0e\\\\x01\\\\x0e\\\\x01\\\\x0e\\\\x01\\\\x0e\\\\x01\\\\x0e\\\\x01\\\\x0e\\\\x01\\\\x0e\\\\x01\\\\x0e\\\\x01\\\\x0e\\\\x01\\\\x0e\\\\x01\\\\x0e\\\\x01\\\\x0e\\\\x01\\\\x0e\\\\x01\\\\x0e\\\\x01\\\\x0e\\\\x01\\\\x0e\\\\x01\\\\x0e\\\\x01'\"]\n",
      "[5.078125, -7.8125, 0.2, \"'\\\\x00hello\\\\nA'\"]\n"
     ]
    }
   ],
   "source": [
    "for row in attack1_data:\n",
    "    if row[2] > 0:\n",
    "        print(row)\n",
    "    #print(row)"
   ]
  },
  {
   "cell_type": "markdown",
   "metadata": {},
   "source": [
    "With any luck, you'll have some successful glitches. Create a smaller range of offsets and widths where the majority of successful glitches can be found. This will greatly speed up future attacks (though be sure not to make the bounds too small, since you might miss successful settings for some attacks). For example, you may have found most of your glitches between a width `[-9,-5]` and an offset of `[-37, -40]`, so good ranges might be `[-10, -4]` and `[-35, -41]`.\n",
    "\n",
    "If you didn't get any successful glitches, note that we only used an `offset` of `[-10,10]` or `[-49, -30]` (the max is `[-50, 50]`). Try using a larger range of offsets to see if a successful offset lies outside of this range.\n",
    "\n",
    "If you want to take this attack further, try reducing the `repeat` to 1 and iterating through `ext_offset` to look for the precise clock cycle where the glitch succeeds. To save time, pick a `width` and `offset` that worked for you and only vary `ext_offset`. Note that even with the right parameters and location, inserting a glitch won't always work, so a better strategy may be to loop infinitely over `ext_offset` values until you get a successful glitch.\n",
    "\n",
    "**HINT: We used a `repeat` of 105 for this attack (and an `ext_offset` of 0) on XMEGA, which put a glitch in each of the first 105 clock cycles. This means `ext_offset` must be in the range `[0,105]` for this target.**"
   ]
  },
  {
   "cell_type": "markdown",
   "metadata": {},
   "source": [
    "## Attack 2"
   ]
  },
  {
   "cell_type": "markdown",
   "metadata": {},
   "source": [
    "Now that you (hopefully) have parameters that cause semi-reliable glitches, we can look at a more challenging example: a password check. Go back to `glitchsimple.c` and find the `glitch3()` function:\n",
    "\n",
    "```C\n",
    "void glitch3(void)\n",
    "{\n",
    "    char inp[16];\n",
    "    char c = 'A';\n",
    "    unsigned char cnt = 0;\n",
    "    uart_puts(\"Password:\");\n",
    "\n",
    "    while((c != '\\n') & (cnt < 16)){\n",
    "        c = getch();\n",
    "        inp[cnt] = c;\n",
    "        cnt++;\n",
    "    }\n",
    "\n",
    "    char passwd[] = \"touch\";\n",
    "    char passok = 1;\n",
    "\n",
    "    trigger_high();\n",
    "    trigger_low();\n",
    "\n",
    "    //Simple test - doesn't check for too-long password!\n",
    "    for(cnt = 0; cnt < 5; cnt++){\n",
    "        if (inp[cnt] != passwd[cnt]){\n",
    "            passok = 0;\n",
    "        }\n",
    "    }\n",
    "\n",
    "    if (!passok){\n",
    "        uart_puts(\"Denied\\n\");\n",
    "    } else {\n",
    "        uart_puts(\"Welcome\\n\");\n",
    "    }\n",
    "}\n",
    "```\n",
    "\n",
    "As you might expect, we'll try to glitch past the `if(!passok)` check towards the end of the code. Like before, we'll build and program the new firmware, using `FUNC_SEL` to build with `glitch3()`."
   ]
  },
  {
   "cell_type": "code",
   "execution_count": 14,
   "metadata": {},
   "outputs": [
    {
     "name": "stdout",
     "output_type": "stream",
     "text": [
      "rm -f -- glitchsimple-CWLITEXMEGA.hex\r\n",
      "rm -f -- glitchsimple-CWLITEXMEGA.eep\r\n",
      "rm -f -- glitchsimple-CWLITEXMEGA.cof\r\n",
      "rm -f -- glitchsimple-CWLITEXMEGA.elf\r\n",
      "rm -f -- glitchsimple-CWLITEXMEGA.map\r\n",
      "rm -f -- glitchsimple-CWLITEXMEGA.sym\r\n",
      "rm -f -- glitchsimple-CWLITEXMEGA.lss\r\n",
      "rm -f -- objdir/*.o\r\n",
      "rm -f -- objdir/*.lst\r\n",
      "rm -f -- glitchsimple.s simpleserial.s XMEGA_AES_driver.s uart.s usart_driver.s xmega_hal.s\r\n",
      "rm -f -- glitchsimple.d simpleserial.d XMEGA_AES_driver.d uart.d usart_driver.d xmega_hal.d\r\n",
      "rm -f -- glitchsimple.i simpleserial.i XMEGA_AES_driver.i uart.i usart_driver.i xmega_hal.i\r\n",
      ".\r\n",
      "-------- begin --------\r\n",
      "avr-gcc (WinAVR 20100110) 4.3.3\r\n",
      "Copyright (C) 2008 Free Software Foundation, Inc.\r\n",
      "This is free software; see the source for copying conditions.  There is NO\r\n",
      "warranty; not even for MERCHANTABILITY or FITNESS FOR A PARTICULAR PURPOSE.\r\n",
      "\r\n",
      ".\r\n",
      "Compiling C: glitchsimple.c\r\n",
      "avr-gcc -c -mmcu=atxmega128d3 -I. -DGLITCH3 -fpack-struct -gdwarf-2 -DSS_VER=SS_VER_1_1 -DHAL_TYPE=HAL_xmega -DPLATFORM=CWLITEXMEGA -DF_CPU=7372800UL -Os -funsigned-char -funsigned-bitfields -fshort-enums -Wall -Wstrict-prototypes -Wa,-adhlns=objdir/glitchsimple.lst -I.././simpleserial/ -I.././hal -I.././hal/xmega -I.././crypto/ -std=gnu99 -MMD -MP -MF .dep/glitchsimple.o.d glitchsimple.c -o objdir/glitchsimple.o \r\n",
      ".\r\n",
      "Compiling C: .././simpleserial/simpleserial.c\r\n",
      "avr-gcc -c -mmcu=atxmega128d3 -I. -DGLITCH3 -fpack-struct -gdwarf-2 -DSS_VER=SS_VER_1_1 -DHAL_TYPE=HAL_xmega -DPLATFORM=CWLITEXMEGA -DF_CPU=7372800UL -Os -funsigned-char -funsigned-bitfields -fshort-enums -Wall -Wstrict-prototypes -Wa,-adhlns=objdir/simpleserial.lst -I.././simpleserial/ -I.././hal -I.././hal/xmega -I.././crypto/ -std=gnu99 -MMD -MP -MF .dep/simpleserial.o.d .././simpleserial/simpleserial.c -o objdir/simpleserial.o \r\n",
      ".\r\n",
      "Compiling C: .././hal/xmega/XMEGA_AES_driver.c\r\n",
      "avr-gcc -c -mmcu=atxmega128d3 -I. -DGLITCH3 -fpack-struct -gdwarf-2 -DSS_VER=SS_VER_1_1 -DHAL_TYPE=HAL_xmega -DPLATFORM=CWLITEXMEGA -DF_CPU=7372800UL -Os -funsigned-char -funsigned-bitfields -fshort-enums -Wall -Wstrict-prototypes -Wa,-adhlns=objdir/XMEGA_AES_driver.lst -I.././simpleserial/ -I.././hal -I.././hal/xmega -I.././crypto/ -std=gnu99 -MMD -MP -MF .dep/XMEGA_AES_driver.o.d .././hal/xmega/XMEGA_AES_driver.c -o objdir/XMEGA_AES_driver.o \r\n",
      ".\r\n",
      "Compiling C: .././hal/xmega/uart.c\r\n",
      "avr-gcc -c -mmcu=atxmega128d3 -I. -DGLITCH3 -fpack-struct -gdwarf-2 -DSS_VER=SS_VER_1_1 -DHAL_TYPE=HAL_xmega -DPLATFORM=CWLITEXMEGA -DF_CPU=7372800UL -Os -funsigned-char -funsigned-bitfields -fshort-enums -Wall -Wstrict-prototypes -Wa,-adhlns=objdir/uart.lst -I.././simpleserial/ -I.././hal -I.././hal/xmega -I.././crypto/ -std=gnu99 -MMD -MP -MF .dep/uart.o.d .././hal/xmega/uart.c -o objdir/uart.o \r\n",
      ".\r\n",
      "Compiling C: .././hal/xmega/usart_driver.c\r\n",
      "avr-gcc -c -mmcu=atxmega128d3 -I. -DGLITCH3 -fpack-struct -gdwarf-2 -DSS_VER=SS_VER_1_1 -DHAL_TYPE=HAL_xmega -DPLATFORM=CWLITEXMEGA -DF_CPU=7372800UL -Os -funsigned-char -funsigned-bitfields -fshort-enums -Wall -Wstrict-prototypes -Wa,-adhlns=objdir/usart_driver.lst -I.././simpleserial/ -I.././hal -I.././hal/xmega -I.././crypto/ -std=gnu99 -MMD -MP -MF .dep/usart_driver.o.d .././hal/xmega/usart_driver.c -o objdir/usart_driver.o \r\n",
      ".\r\n",
      "Compiling C: .././hal/xmega/xmega_hal.c\r\n",
      "avr-gcc -c -mmcu=atxmega128d3 -I. -DGLITCH3 -fpack-struct -gdwarf-2 -DSS_VER=SS_VER_1_1 -DHAL_TYPE=HAL_xmega -DPLATFORM=CWLITEXMEGA -DF_CPU=7372800UL -Os -funsigned-char -funsigned-bitfields -fshort-enums -Wall -Wstrict-prototypes -Wa,-adhlns=objdir/xmega_hal.lst -I.././simpleserial/ -I.././hal -I.././hal/xmega -I.././crypto/ -std=gnu99 -MMD -MP -MF .dep/xmega_hal.o.d .././hal/xmega/xmega_hal.c -o objdir/xmega_hal.o \r\n",
      ".\r\n",
      "Linking: glitchsimple-CWLITEXMEGA.elf\r\n",
      "avr-gcc -mmcu=atxmega128d3 -I. -DGLITCH3 -fpack-struct -gdwarf-2 -DSS_VER=SS_VER_1_1 -DHAL_TYPE=HAL_xmega -DPLATFORM=CWLITEXMEGA -DF_CPU=7372800UL -Os -funsigned-char -funsigned-bitfields -fshort-enums -Wall -Wstrict-prototypes -Wa,-adhlns=objdir/glitchsimple.o -I.././simpleserial/ -I.././hal -I.././hal/xmega -I.././crypto/ -std=gnu99 -MMD -MP -MF .dep/glitchsimple-CWLITEXMEGA.elf.d objdir/glitchsimple.o objdir/simpleserial.o objdir/XMEGA_AES_driver.o objdir/uart.o objdir/usart_driver.o objdir/xmega_hal.o --output glitchsimple-CWLITEXMEGA.elf -Wl,-Map=glitchsimple-CWLITEXMEGA.map,--cref   -lm  \r\n",
      ".\r\n",
      "Creating load file for Flash: glitchsimple-CWLITEXMEGA.hex\r\n",
      "avr-objcopy -O ihex -R .eeprom -R .fuse -R .lock -R .signature glitchsimple-CWLITEXMEGA.elf glitchsimple-CWLITEXMEGA.hex\r\n",
      ".\r\n",
      "Creating load file for EEPROM: glitchsimple-CWLITEXMEGA.eep\r\n",
      "avr-objcopy -j .eeprom --set-section-flags=.eeprom=\"alloc,load\" \\\r\n",
      "\t--change-section-lma .eeprom=0 --no-change-warnings -O ihex glitchsimple-CWLITEXMEGA.elf glitchsimple-CWLITEXMEGA.eep || exit 0\r\n",
      ".\r\n",
      "Creating Extended Listing: glitchsimple-CWLITEXMEGA.lss\r\n",
      "avr-objdump -h -S -z glitchsimple-CWLITEXMEGA.elf > glitchsimple-CWLITEXMEGA.lss\r\n",
      ".\r\n",
      "Creating Symbol Table: glitchsimple-CWLITEXMEGA.sym\r\n",
      "avr-nm -n glitchsimple-CWLITEXMEGA.elf > glitchsimple-CWLITEXMEGA.sym\r\n",
      "Size after:\r\n",
      "   text\t   data\t    bss\t    dec\t    hex\tfilename\r\n",
      "   3766\t     68\t     52\t   3886\t    f2e\tglitchsimple-CWLITEXMEGA.elf\r\n",
      "+--------------------------------------------------------\r\n",
      "+ Built for platform CW-Lite XMEGA\r\n",
      "+--------------------------------------------------------\r\n"
     ]
    }
   ],
   "source": [
    "%%bash -s \"$PLATFORM\" \"$CRYPTO_TARGET\"\n",
    "cd ../../hardware/victims/firmware/glitch-simple\n",
    "make PLATFORM=$1 CRYPTO_TARGET=$2 FUNC_SEL=GLITCH3"
   ]
  },
  {
   "cell_type": "code",
   "execution_count": 16,
   "metadata": {},
   "outputs": [
    {
     "name": "stdout",
     "output_type": "stream",
     "text": [
      "XMEGA Programming flash...\n",
      "XMEGA Reading flash...\n",
      "Verified flash OK, 3833 bytes\n"
     ]
    }
   ],
   "source": [
    "cw.programTarget(scope, prog, fw_path)"
   ]
  },
  {
   "cell_type": "markdown",
   "metadata": {},
   "source": [
    "Now let's make sure we can communicate with the password check with a successful password:"
   ]
  },
  {
   "cell_type": "code",
   "execution_count": 17,
   "metadata": {},
   "outputs": [
    {
     "name": "stdout",
     "output_type": "stream",
     "text": [
      "\u0000 \u0000hello\n",
      "Password:Welcome\n",
      "Password:\n"
     ]
    }
   ],
   "source": [
    "scope.arm()\n",
    "target.ser.write(\"touch\\n\")\n",
    "\n",
    "ret = scope.capture()\n",
    "if ret:\n",
    "    print(\"Scope capture timed out\")\n",
    "num_chars = target.ser.inWaiting()\n",
    "response = target.ser.read(num_chars, timeout = 10)\n",
    "print(response)"
   ]
  },
  {
   "cell_type": "markdown",
   "metadata": {},
   "source": [
    "and an unsuccessful one:"
   ]
  },
  {
   "cell_type": "code",
   "execution_count": 18,
   "metadata": {},
   "outputs": [
    {
     "name": "stdout",
     "output_type": "stream",
     "text": [
      "Denied\n",
      "Password:\n"
     ]
    }
   ],
   "source": [
    "scope.arm()\n",
    "target.ser.write(\"x\\n\")\n",
    "\n",
    "ret = scope.capture()\n",
    "if ret:\n",
    "    print(\"Scope capture timed out\")\n",
    "num_chars = target.ser.inWaiting()\n",
    "response = target.ser.read(num_chars, timeout = 10)\n",
    "print(response)"
   ]
  },
  {
   "cell_type": "markdown",
   "metadata": {},
   "source": [
    "One thing that you may have run into in the previous part is that using a large repeat value makes the target more likely to crash. As mentioned in the previous part, we can use smaller ranges of offset and width, use a repeat value of 1, and iterate through the external offset instead to get a successful glitch. This is often a much more reliable way to glitch targets.\n",
    "\n",
    "One other thing we need to consider is crashing. In the previous part, we didn't need to worry about crashing since we always reset after a glitch attempt anyway. This is no longer true. Instead we'll need to detect glitches and, if they happen, reset the target. Typically a good way to detect crashes is by running through the loop again and looking for a timeout. This is rather slow, but for this attack, we don't really have a better method. One thing we can do to speed this up is to decrease the adc timeout value (via `scope.adc.timeout`). Resetting is the same in the last part.\n",
    "\n",
    "Putting it all together (don't forget to update the width and offset with ranges that worked in the last part):"
   ]
  },
  {
   "cell_type": "markdown",
   "metadata": {},
   "source": [
    "### Attack Loop"
   ]
  },
  {
   "cell_type": "code",
   "execution_count": 19,
   "metadata": {
    "scrolled": true
   },
   "outputs": [
    {
     "name": "stderr",
     "output_type": "stream",
     "text": [
      "WARNING:root:Timeout in OpenADC capture(), trigger FORCED\n",
      "WARNING:root:Timeout in OpenADC capture(), trigger FORCED\n"
     ]
    },
    {
     "name": "stdout",
     "output_type": "stream",
     "text": [
      "Timeout happened during acquisition\n"
     ]
    },
    {
     "name": "stderr",
     "output_type": "stream",
     "text": [
      "WARNING:root:Timeout in OpenADC capture(), trigger FORCED\n",
      "WARNING:root:Timeout in OpenADC capture(), trigger FORCED\n"
     ]
    },
    {
     "name": "stdout",
     "output_type": "stream",
     "text": [
      "Timeout happened during acquisition\n"
     ]
    },
    {
     "name": "stderr",
     "output_type": "stream",
     "text": [
      "WARNING:root:Timeout in OpenADC capture(), trigger FORCED\n",
      "WARNING:root:Timeout in OpenADC capture(), trigger FORCED\n"
     ]
    },
    {
     "name": "stdout",
     "output_type": "stream",
     "text": [
      "Timeout happened during acquisition\n"
     ]
    },
    {
     "name": "stderr",
     "output_type": "stream",
     "text": [
      "WARNING:root:Timeout in OpenADC capture(), trigger FORCED\n",
      "WARNING:root:Timeout in OpenADC capture(), trigger FORCED\n"
     ]
    },
    {
     "name": "stdout",
     "output_type": "stream",
     "text": [
      "Timeout happened during acquisition\n"
     ]
    },
    {
     "name": "stderr",
     "output_type": "stream",
     "text": [
      "WARNING:root:Timeout in OpenADC capture(), trigger FORCED\n",
      "WARNING:root:Timeout in OpenADC capture(), trigger FORCED\n"
     ]
    },
    {
     "name": "stdout",
     "output_type": "stream",
     "text": [
      "Timeout happened during acquisition\n"
     ]
    },
    {
     "name": "stderr",
     "output_type": "stream",
     "text": [
      "WARNING:root:Timeout in OpenADC capture(), trigger FORCED\n",
      "WARNING:root:Timeout in OpenADC capture(), trigger FORCED\n"
     ]
    },
    {
     "name": "stdout",
     "output_type": "stream",
     "text": [
      "Timeout happened during acquisition\n"
     ]
    },
    {
     "name": "stderr",
     "output_type": "stream",
     "text": [
      "WARNING:root:Timeout in OpenADC capture(), trigger FORCED\n",
      "WARNING:root:Timeout in OpenADC capture(), trigger FORCED\n"
     ]
    },
    {
     "name": "stdout",
     "output_type": "stream",
     "text": [
      "Timeout happened during acquisition\n"
     ]
    },
    {
     "name": "stderr",
     "output_type": "stream",
     "text": [
      "WARNING:root:Timeout in OpenADC capture(), trigger FORCED\n",
      "WARNING:root:Timeout in OpenADC capture(), trigger FORCED\n"
     ]
    },
    {
     "name": "stdout",
     "output_type": "stream",
     "text": [
      "Timeout happened during acquisition\n"
     ]
    },
    {
     "name": "stderr",
     "output_type": "stream",
     "text": [
      "WARNING:root:Timeout in OpenADC capture(), trigger FORCED\n",
      "WARNING:root:Timeout in OpenADC capture(), trigger FORCED\n"
     ]
    },
    {
     "name": "stdout",
     "output_type": "stream",
     "text": [
      "Timeout happened during acquisition\n"
     ]
    },
    {
     "name": "stderr",
     "output_type": "stream",
     "text": [
      "WARNING:root:Timeout in OpenADC capture(), trigger FORCED\n",
      "WARNING:root:Timeout in OpenADC capture(), trigger FORCED\n"
     ]
    },
    {
     "name": "stdout",
     "output_type": "stream",
     "text": [
      "Timeout happened during acquisition\n"
     ]
    },
    {
     "name": "stderr",
     "output_type": "stream",
     "text": [
      "WARNING:root:Timeout in OpenADC capture(), trigger FORCED\n",
      "WARNING:root:Timeout in OpenADC capture(), trigger FORCED\n"
     ]
    },
    {
     "name": "stdout",
     "output_type": "stream",
     "text": [
      "Timeout happened during acquisition\n"
     ]
    },
    {
     "name": "stderr",
     "output_type": "stream",
     "text": [
      "WARNING:root:Timeout in OpenADC capture(), trigger FORCED\n",
      "WARNING:root:Timeout in OpenADC capture(), trigger FORCED\n"
     ]
    },
    {
     "name": "stdout",
     "output_type": "stream",
     "text": [
      "Timeout happened during acquisition\n"
     ]
    },
    {
     "name": "stderr",
     "output_type": "stream",
     "text": [
      "WARNING:root:Timeout in OpenADC capture(), trigger FORCED\n",
      "WARNING:root:Timeout in OpenADC capture(), trigger FORCED\n"
     ]
    },
    {
     "name": "stdout",
     "output_type": "stream",
     "text": [
      "Timeout happened during acquisition\n"
     ]
    },
    {
     "name": "stderr",
     "output_type": "stream",
     "text": [
      "WARNING:root:Timeout in OpenADC capture(), trigger FORCED\n",
      "WARNING:root:Timeout in OpenADC capture(), trigger FORCED\n"
     ]
    },
    {
     "name": "stdout",
     "output_type": "stream",
     "text": [
      "Timeout happened during acquisition\n"
     ]
    },
    {
     "name": "stderr",
     "output_type": "stream",
     "text": [
      "WARNING:root:Timeout in OpenADC capture(), trigger FORCED\n",
      "WARNING:root:Timeout in OpenADC capture(), trigger FORCED\n"
     ]
    },
    {
     "name": "stdout",
     "output_type": "stream",
     "text": [
      "Timeout happened during acquisition\n"
     ]
    },
    {
     "name": "stderr",
     "output_type": "stream",
     "text": [
      "WARNING:root:Timeout in OpenADC capture(), trigger FORCED\n",
      "WARNING:root:Timeout in OpenADC capture(), trigger FORCED\n"
     ]
    },
    {
     "name": "stdout",
     "output_type": "stream",
     "text": [
      "Timeout happened during acquisition\n"
     ]
    },
    {
     "name": "stderr",
     "output_type": "stream",
     "text": [
      "WARNING:root:Timeout in OpenADC capture(), trigger FORCED\n",
      "WARNING:root:Timeout in OpenADC capture(), trigger FORCED\n"
     ]
    },
    {
     "name": "stdout",
     "output_type": "stream",
     "text": [
      "Timeout happened during acquisition\n"
     ]
    },
    {
     "name": "stderr",
     "output_type": "stream",
     "text": [
      "WARNING:root:Timeout in OpenADC capture(), trigger FORCED\n",
      "WARNING:root:Timeout in OpenADC capture(), trigger FORCED\n"
     ]
    },
    {
     "name": "stdout",
     "output_type": "stream",
     "text": [
      "Timeout happened during acquisition\n"
     ]
    },
    {
     "name": "stderr",
     "output_type": "stream",
     "text": [
      "WARNING:root:Timeout in OpenADC capture(), trigger FORCED\n",
      "WARNING:root:Timeout in OpenADC capture(), trigger FORCED\n"
     ]
    },
    {
     "name": "stdout",
     "output_type": "stream",
     "text": [
      "Timeout happened during acquisition\n"
     ]
    },
    {
     "name": "stderr",
     "output_type": "stream",
     "text": [
      "WARNING:root:Timeout in OpenADC capture(), trigger FORCED\n",
      "WARNING:root:Timeout in OpenADC capture(), trigger FORCED\n"
     ]
    },
    {
     "name": "stdout",
     "output_type": "stream",
     "text": [
      "Timeout happened during acquisition\n"
     ]
    },
    {
     "name": "stderr",
     "output_type": "stream",
     "text": [
      "WARNING:root:Timeout in OpenADC capture(), trigger FORCED\n",
      "WARNING:root:Timeout in OpenADC capture(), trigger FORCED\n"
     ]
    },
    {
     "name": "stdout",
     "output_type": "stream",
     "text": [
      "Timeout happened during acquisition\n"
     ]
    },
    {
     "name": "stderr",
     "output_type": "stream",
     "text": [
      "WARNING:root:Timeout in OpenADC capture(), trigger FORCED\n",
      "WARNING:root:Timeout in OpenADC capture(), trigger FORCED\n"
     ]
    },
    {
     "name": "stdout",
     "output_type": "stream",
     "text": [
      "Timeout happened during acquisition\n"
     ]
    },
    {
     "name": "stderr",
     "output_type": "stream",
     "text": [
      "WARNING:root:Timeout in OpenADC capture(), trigger FORCED\n",
      "WARNING:root:Timeout in OpenADC capture(), trigger FORCED\n"
     ]
    },
    {
     "name": "stdout",
     "output_type": "stream",
     "text": [
      "Timeout happened during acquisition\n"
     ]
    },
    {
     "name": "stderr",
     "output_type": "stream",
     "text": [
      "WARNING:root:Timeout in OpenADC capture(), trigger FORCED\n",
      "WARNING:root:Timeout in OpenADC capture(), trigger FORCED\n"
     ]
    },
    {
     "name": "stdout",
     "output_type": "stream",
     "text": [
      "Timeout happened during acquisition\n"
     ]
    },
    {
     "name": "stderr",
     "output_type": "stream",
     "text": [
      "WARNING:root:Timeout in OpenADC capture(), trigger FORCED\n",
      "WARNING:root:Timeout in OpenADC capture(), trigger FORCED\n"
     ]
    },
    {
     "name": "stdout",
     "output_type": "stream",
     "text": [
      "Timeout happened during acquisition\n"
     ]
    },
    {
     "name": "stderr",
     "output_type": "stream",
     "text": [
      "WARNING:root:Timeout in OpenADC capture(), trigger FORCED\n",
      "WARNING:root:Timeout in OpenADC capture(), trigger FORCED\n"
     ]
    },
    {
     "name": "stdout",
     "output_type": "stream",
     "text": [
      "Timeout happened during acquisition\n"
     ]
    },
    {
     "name": "stderr",
     "output_type": "stream",
     "text": [
      "WARNING:root:Timeout in OpenADC capture(), trigger FORCED\n",
      "WARNING:root:Timeout in OpenADC capture(), trigger FORCED\n"
     ]
    },
    {
     "name": "stdout",
     "output_type": "stream",
     "text": [
      "Timeout happened during acquisition\n"
     ]
    },
    {
     "name": "stderr",
     "output_type": "stream",
     "text": [
      "WARNING:root:Timeout in OpenADC capture(), trigger FORCED\n",
      "WARNING:root:Timeout in OpenADC capture(), trigger FORCED\n"
     ]
    },
    {
     "name": "stdout",
     "output_type": "stream",
     "text": [
      "Timeout happened during acquisition\n"
     ]
    },
    {
     "name": "stderr",
     "output_type": "stream",
     "text": [
      "WARNING:root:Timeout in OpenADC capture(), trigger FORCED\n",
      "WARNING:root:Timeout in OpenADC capture(), trigger FORCED\n"
     ]
    },
    {
     "name": "stdout",
     "output_type": "stream",
     "text": [
      "Timeout happened during acquisition\n"
     ]
    },
    {
     "name": "stderr",
     "output_type": "stream",
     "text": [
      "WARNING:root:Timeout in OpenADC capture(), trigger FORCED\n",
      "WARNING:root:Timeout in OpenADC capture(), trigger FORCED\n"
     ]
    },
    {
     "name": "stdout",
     "output_type": "stream",
     "text": [
      "Timeout happened during acquisition\n"
     ]
    },
    {
     "name": "stderr",
     "output_type": "stream",
     "text": [
      "WARNING:root:Timeout in OpenADC capture(), trigger FORCED\n",
      "WARNING:root:Timeout in OpenADC capture(), trigger FORCED\n"
     ]
    },
    {
     "name": "stdout",
     "output_type": "stream",
     "text": [
      "Timeout happened during acquisition\n"
     ]
    },
    {
     "name": "stderr",
     "output_type": "stream",
     "text": [
      "WARNING:root:Timeout in OpenADC capture(), trigger FORCED\n",
      "WARNING:root:Timeout in OpenADC capture(), trigger FORCED\n"
     ]
    },
    {
     "name": "stdout",
     "output_type": "stream",
     "text": [
      "Timeout happened during acquisition\n"
     ]
    },
    {
     "name": "stderr",
     "output_type": "stream",
     "text": [
      "WARNING:root:Timeout in OpenADC capture(), trigger FORCED\n",
      "WARNING:root:Timeout in OpenADC capture(), trigger FORCED\n"
     ]
    },
    {
     "name": "stdout",
     "output_type": "stream",
     "text": [
      "Timeout happened during acquisition\n"
     ]
    },
    {
     "name": "stderr",
     "output_type": "stream",
     "text": [
      "WARNING:root:Timeout in OpenADC capture(), trigger FORCED\n",
      "WARNING:root:Timeout in OpenADC capture(), trigger FORCED\n"
     ]
    },
    {
     "name": "stdout",
     "output_type": "stream",
     "text": [
      "Timeout happened during acquisition\n"
     ]
    },
    {
     "name": "stderr",
     "output_type": "stream",
     "text": [
      "WARNING:root:Timeout in OpenADC capture(), trigger FORCED\n",
      "WARNING:root:Timeout in OpenADC capture(), trigger FORCED\n"
     ]
    },
    {
     "name": "stdout",
     "output_type": "stream",
     "text": [
      "Timeout happened during acquisition\n"
     ]
    },
    {
     "name": "stderr",
     "output_type": "stream",
     "text": [
      "WARNING:root:Timeout in OpenADC capture(), trigger FORCED\n",
      "WARNING:root:Timeout in OpenADC capture(), trigger FORCED\n"
     ]
    },
    {
     "name": "stdout",
     "output_type": "stream",
     "text": [
      "Timeout happened during acquisition\n"
     ]
    },
    {
     "name": "stderr",
     "output_type": "stream",
     "text": [
      "WARNING:root:Timeout in OpenADC capture(), trigger FORCED\n",
      "WARNING:root:Timeout in OpenADC capture(), trigger FORCED\n"
     ]
    },
    {
     "name": "stdout",
     "output_type": "stream",
     "text": [
      "Timeout happened during acquisition\n"
     ]
    },
    {
     "name": "stderr",
     "output_type": "stream",
     "text": [
      "WARNING:root:Timeout in OpenADC capture(), trigger FORCED\n",
      "WARNING:root:Timeout in OpenADC capture(), trigger FORCED\n"
     ]
    },
    {
     "name": "stdout",
     "output_type": "stream",
     "text": [
      "Timeout happened during acquisition\n"
     ]
    },
    {
     "name": "stderr",
     "output_type": "stream",
     "text": [
      "WARNING:root:Timeout in OpenADC capture(), trigger FORCED\n",
      "WARNING:root:Timeout in OpenADC capture(), trigger FORCED\n"
     ]
    },
    {
     "name": "stdout",
     "output_type": "stream",
     "text": [
      "Timeout happened during acquisition\n"
     ]
    },
    {
     "name": "stderr",
     "output_type": "stream",
     "text": [
      "WARNING:root:Timeout in OpenADC capture(), trigger FORCED\n",
      "WARNING:root:Timeout in OpenADC capture(), trigger FORCED\n"
     ]
    },
    {
     "name": "stdout",
     "output_type": "stream",
     "text": [
      "Timeout happened during acquisition\n"
     ]
    },
    {
     "name": "stderr",
     "output_type": "stream",
     "text": [
      "WARNING:root:Timeout in OpenADC capture(), trigger FORCED\n",
      "WARNING:root:Timeout in OpenADC capture(), trigger FORCED\n"
     ]
    },
    {
     "name": "stdout",
     "output_type": "stream",
     "text": [
      "Timeout happened during acquisition\n"
     ]
    },
    {
     "name": "stderr",
     "output_type": "stream",
     "text": [
      "WARNING:root:Timeout in OpenADC capture(), trigger FORCED\n",
      "WARNING:root:Timeout in OpenADC capture(), trigger FORCED\n"
     ]
    },
    {
     "name": "stdout",
     "output_type": "stream",
     "text": [
      "Timeout happened during acquisition\n"
     ]
    },
    {
     "name": "stderr",
     "output_type": "stream",
     "text": [
      "WARNING:root:Timeout in OpenADC capture(), trigger FORCED\n",
      "WARNING:root:Timeout in OpenADC capture(), trigger FORCED\n"
     ]
    },
    {
     "name": "stdout",
     "output_type": "stream",
     "text": [
      "Timeout happened during acquisition\n"
     ]
    },
    {
     "name": "stderr",
     "output_type": "stream",
     "text": [
      "WARNING:root:Timeout in OpenADC capture(), trigger FORCED\n",
      "WARNING:root:Timeout in OpenADC capture(), trigger FORCED\n"
     ]
    },
    {
     "name": "stdout",
     "output_type": "stream",
     "text": [
      "Timeout happened during acquisition\n"
     ]
    },
    {
     "name": "stderr",
     "output_type": "stream",
     "text": [
      "WARNING:root:Timeout in OpenADC capture(), trigger FORCED\n",
      "WARNING:root:Timeout in OpenADC capture(), trigger FORCED\n"
     ]
    },
    {
     "name": "stdout",
     "output_type": "stream",
     "text": [
      "Timeout happened during acquisition\n"
     ]
    },
    {
     "name": "stderr",
     "output_type": "stream",
     "text": [
      "WARNING:root:Timeout in OpenADC capture(), trigger FORCED\n",
      "WARNING:root:Timeout in OpenADC capture(), trigger FORCED\n"
     ]
    },
    {
     "name": "stdout",
     "output_type": "stream",
     "text": [
      "Timeout happened during acquisition\n"
     ]
    },
    {
     "name": "stderr",
     "output_type": "stream",
     "text": [
      "WARNING:root:Timeout in OpenADC capture(), trigger FORCED\n",
      "WARNING:root:Timeout in OpenADC capture(), trigger FORCED\n"
     ]
    },
    {
     "name": "stdout",
     "output_type": "stream",
     "text": [
      "Timeout happened during acquisition\n"
     ]
    },
    {
     "name": "stderr",
     "output_type": "stream",
     "text": [
      "WARNING:root:Timeout in OpenADC capture(), trigger FORCED\n",
      "WARNING:root:Timeout in OpenADC capture(), trigger FORCED\n"
     ]
    },
    {
     "name": "stdout",
     "output_type": "stream",
     "text": [
      "Timeout happened during acquisition\n"
     ]
    },
    {
     "name": "stderr",
     "output_type": "stream",
     "text": [
      "WARNING:root:Timeout in OpenADC capture(), trigger FORCED\n",
      "WARNING:root:Timeout in OpenADC capture(), trigger FORCED\n"
     ]
    },
    {
     "name": "stdout",
     "output_type": "stream",
     "text": [
      "Timeout happened during acquisition\n"
     ]
    },
    {
     "name": "stderr",
     "output_type": "stream",
     "text": [
      "WARNING:root:Timeout in OpenADC capture(), trigger FORCED\n",
      "WARNING:root:Timeout in OpenADC capture(), trigger FORCED\n"
     ]
    },
    {
     "name": "stdout",
     "output_type": "stream",
     "text": [
      "Timeout happened during acquisition\n"
     ]
    },
    {
     "name": "stderr",
     "output_type": "stream",
     "text": [
      "WARNING:root:Timeout in OpenADC capture(), trigger FORCED\n",
      "WARNING:root:Timeout in OpenADC capture(), trigger FORCED\n"
     ]
    },
    {
     "name": "stdout",
     "output_type": "stream",
     "text": [
      "Timeout happened during acquisition\n"
     ]
    },
    {
     "name": "stderr",
     "output_type": "stream",
     "text": [
      "WARNING:root:Timeout in OpenADC capture(), trigger FORCED\n",
      "WARNING:root:Timeout in OpenADC capture(), trigger FORCED\n"
     ]
    },
    {
     "name": "stdout",
     "output_type": "stream",
     "text": [
      "Timeout happened during acquisition\n"
     ]
    },
    {
     "name": "stderr",
     "output_type": "stream",
     "text": [
      "WARNING:root:Timeout in OpenADC capture(), trigger FORCED\n",
      "WARNING:root:Timeout in OpenADC capture(), trigger FORCED\n"
     ]
    },
    {
     "name": "stdout",
     "output_type": "stream",
     "text": [
      "Timeout happened during acquisition\n"
     ]
    },
    {
     "name": "stderr",
     "output_type": "stream",
     "text": [
      "WARNING:root:Timeout in OpenADC capture(), trigger FORCED\n",
      "WARNING:root:Timeout in OpenADC capture(), trigger FORCED\n"
     ]
    },
    {
     "name": "stdout",
     "output_type": "stream",
     "text": [
      "Timeout happened during acquisition\n"
     ]
    },
    {
     "name": "stderr",
     "output_type": "stream",
     "text": [
      "WARNING:root:Timeout in OpenADC capture(), trigger FORCED\n",
      "WARNING:root:Timeout in OpenADC capture(), trigger FORCED\n"
     ]
    },
    {
     "name": "stdout",
     "output_type": "stream",
     "text": [
      "Timeout happened during acquisition\n"
     ]
    },
    {
     "name": "stderr",
     "output_type": "stream",
     "text": [
      "WARNING:root:Timeout in OpenADC capture(), trigger FORCED\n",
      "WARNING:root:Timeout in OpenADC capture(), trigger FORCED\n"
     ]
    },
    {
     "name": "stdout",
     "output_type": "stream",
     "text": [
      "Timeout happened during acquisition\n"
     ]
    },
    {
     "name": "stderr",
     "output_type": "stream",
     "text": [
      "WARNING:root:Timeout in OpenADC capture(), trigger FORCED\n",
      "WARNING:root:Timeout in OpenADC capture(), trigger FORCED\n"
     ]
    },
    {
     "name": "stdout",
     "output_type": "stream",
     "text": [
      "Timeout happened during acquisition\n"
     ]
    },
    {
     "name": "stderr",
     "output_type": "stream",
     "text": [
      "WARNING:root:Timeout in OpenADC capture(), trigger FORCED\n",
      "WARNING:root:Timeout in OpenADC capture(), trigger FORCED\n"
     ]
    },
    {
     "name": "stdout",
     "output_type": "stream",
     "text": [
      "Timeout happened during acquisition\n"
     ]
    },
    {
     "name": "stderr",
     "output_type": "stream",
     "text": [
      "WARNING:root:Timeout in OpenADC capture(), trigger FORCED\n",
      "WARNING:root:Timeout in OpenADC capture(), trigger FORCED\n"
     ]
    },
    {
     "name": "stdout",
     "output_type": "stream",
     "text": [
      "Timeout happened during acquisition\n"
     ]
    },
    {
     "name": "stderr",
     "output_type": "stream",
     "text": [
      "WARNING:root:Timeout in OpenADC capture(), trigger FORCED\n",
      "WARNING:root:Timeout in OpenADC capture(), trigger FORCED\n"
     ]
    },
    {
     "name": "stdout",
     "output_type": "stream",
     "text": [
      "Timeout happened during acquisition\n"
     ]
    },
    {
     "name": "stderr",
     "output_type": "stream",
     "text": [
      "WARNING:root:Timeout in OpenADC capture(), trigger FORCED\n",
      "WARNING:root:Timeout in OpenADC capture(), trigger FORCED\n"
     ]
    },
    {
     "name": "stdout",
     "output_type": "stream",
     "text": [
      "Timeout happened during acquisition\n"
     ]
    },
    {
     "name": "stderr",
     "output_type": "stream",
     "text": [
      "WARNING:root:Timeout in OpenADC capture(), trigger FORCED\n",
      "WARNING:root:Timeout in OpenADC capture(), trigger FORCED\n"
     ]
    },
    {
     "name": "stdout",
     "output_type": "stream",
     "text": [
      "Timeout happened during acquisition\n"
     ]
    },
    {
     "name": "stderr",
     "output_type": "stream",
     "text": [
      "WARNING:root:Timeout in OpenADC capture(), trigger FORCED\n",
      "WARNING:root:Timeout in OpenADC capture(), trigger FORCED\n"
     ]
    },
    {
     "name": "stdout",
     "output_type": "stream",
     "text": [
      "Timeout happened during acquisition\n"
     ]
    },
    {
     "name": "stderr",
     "output_type": "stream",
     "text": [
      "WARNING:root:Timeout in OpenADC capture(), trigger FORCED\n",
      "WARNING:root:Timeout in OpenADC capture(), trigger FORCED\n"
     ]
    },
    {
     "name": "stdout",
     "output_type": "stream",
     "text": [
      "Timeout happened during acquisition\n"
     ]
    },
    {
     "name": "stderr",
     "output_type": "stream",
     "text": [
      "WARNING:root:Timeout in OpenADC capture(), trigger FORCED\n",
      "WARNING:root:Timeout in OpenADC capture(), trigger FORCED\n"
     ]
    },
    {
     "name": "stdout",
     "output_type": "stream",
     "text": [
      "Timeout happened during acquisition\n"
     ]
    },
    {
     "name": "stderr",
     "output_type": "stream",
     "text": [
      "WARNING:root:Timeout in OpenADC capture(), trigger FORCED\n",
      "WARNING:root:Timeout in OpenADC capture(), trigger FORCED\n"
     ]
    },
    {
     "name": "stdout",
     "output_type": "stream",
     "text": [
      "Timeout happened during acquisition\n"
     ]
    },
    {
     "name": "stderr",
     "output_type": "stream",
     "text": [
      "WARNING:root:Timeout in OpenADC capture(), trigger FORCED\n",
      "WARNING:root:Timeout in OpenADC capture(), trigger FORCED\n"
     ]
    },
    {
     "name": "stdout",
     "output_type": "stream",
     "text": [
      "Timeout happened during acquisition\n"
     ]
    },
    {
     "name": "stderr",
     "output_type": "stream",
     "text": [
      "WARNING:root:Timeout in OpenADC capture(), trigger FORCED\n",
      "WARNING:root:Timeout in OpenADC capture(), trigger FORCED\n"
     ]
    },
    {
     "name": "stdout",
     "output_type": "stream",
     "text": [
      "Timeout happened during acquisition\n"
     ]
    },
    {
     "name": "stderr",
     "output_type": "stream",
     "text": [
      "WARNING:root:Timeout in OpenADC capture(), trigger FORCED\n",
      "WARNING:root:Timeout in OpenADC capture(), trigger FORCED\n"
     ]
    },
    {
     "name": "stdout",
     "output_type": "stream",
     "text": [
      "Timeout happened during acquisition\n"
     ]
    },
    {
     "name": "stderr",
     "output_type": "stream",
     "text": [
      "WARNING:root:Timeout in OpenADC capture(), trigger FORCED\n",
      "WARNING:root:Timeout in OpenADC capture(), trigger FORCED\n"
     ]
    },
    {
     "name": "stdout",
     "output_type": "stream",
     "text": [
      "Timeout happened during acquisition\n"
     ]
    },
    {
     "name": "stderr",
     "output_type": "stream",
     "text": [
      "WARNING:root:Timeout in OpenADC capture(), trigger FORCED\n",
      "WARNING:root:Timeout in OpenADC capture(), trigger FORCED\n"
     ]
    },
    {
     "name": "stdout",
     "output_type": "stream",
     "text": [
      "Timeout happened during acquisition\n"
     ]
    },
    {
     "name": "stderr",
     "output_type": "stream",
     "text": [
      "WARNING:root:Timeout in OpenADC capture(), trigger FORCED\n",
      "WARNING:root:Timeout in OpenADC capture(), trigger FORCED\n"
     ]
    },
    {
     "name": "stdout",
     "output_type": "stream",
     "text": [
      "Timeout happened during acquisition\n"
     ]
    },
    {
     "name": "stderr",
     "output_type": "stream",
     "text": [
      "WARNING:root:Timeout in OpenADC capture(), trigger FORCED\n",
      "WARNING:root:Timeout in OpenADC capture(), trigger FORCED\n"
     ]
    },
    {
     "name": "stdout",
     "output_type": "stream",
     "text": [
      "Timeout happened during acquisition\n",
      "Done glitching\n"
     ]
    }
   ],
   "source": [
    "scope.glitch.clk_src = \"clkgen\"\n",
    "scope.glitch.output = \"clock_xor\"\n",
    "scope.glitch.trigger_src = \"ext_single\"\n",
    "scope.glitch.repeat = 1\n",
    "scope.glitch.ext_offset = 0\n",
    "scope.io.hs2 = \"glitch\"\n",
    "\n",
    "target.init()\n",
    "attack2_data = []\n",
    "scope.adc.timeout = 0.1\n",
    "if PLATFORM == \"CW303\" or PLATFORM == \"CWLITEXMEGA\":\n",
    "    pass\n",
    "elif PLATFORM == \"CWLITEARM\" or PLATFORM == \"CW308_STM32F3\":\n",
    "    offset_range = Range(-41, -35, 1)\n",
    "    width_range = Range(-10, -5, 1)\n",
    "\n",
    "scope.glitch.width = width_range.min\n",
    "while scope.glitch.width < width_range.max:\n",
    "    scope.glitch.offset = offset_range.min\n",
    "    while scope.glitch.offset < offset_range.max:\n",
    "        for i in range(0, 20):\n",
    "            scope.glitch.ext_offset = i\n",
    "            # call before trace things here\n",
    "\n",
    "            # flush the garbage from the computer's target read buffer\n",
    "            target.ser.flush()\n",
    "\n",
    "            # run aux stuff that should run before the scope arms here\n",
    "\n",
    "            scope.arm()\n",
    "            target.ser.write(\"x\\n\")\n",
    "\n",
    "            timeout = 50\n",
    "            # wait for target to finish\n",
    "            while target.isDone() is False and timeout:\n",
    "                timeout -= 1\n",
    "                time.sleep(0.01)\n",
    "\n",
    "            try:\n",
    "                ret = scope.capture()\n",
    "                if ret:\n",
    "                    print('Timeout happened during acquisition')\n",
    "                    reset_target(scope)\n",
    "            except IOError as e:\n",
    "                print('IOError: %s' % str(e))\n",
    "\n",
    "            # get the results from the scope\n",
    "            # read from the targets buffer\n",
    "            num_chars = target.ser.inWaiting()\n",
    "            response = target.ser.read(num_chars, timeout = 10)\n",
    "\n",
    "            # for table display purposes\n",
    "            success = 'Welcome' in repr(response) # check for glitch success (depends on targets active firmware)\n",
    "            attack2_data.append([scope.glitch.offset, scope.glitch.width, scope.glitch.ext_offset, success, repr(response)]) \n",
    "\n",
    "            # run aux stuff that should happen after trace here\n",
    "        scope.glitch.offset += offset_range.step\n",
    "    scope.glitch.width += width_range.step\n",
    "print(\"Done glitching\")"
   ]
  },
  {
   "cell_type": "code",
   "execution_count": 20,
   "metadata": {},
   "outputs": [
    {
     "name": "stdout",
     "output_type": "stream",
     "text": [
      "8\n",
      "[-4.296875, 1.5625, 6, True, \"'Welcome\\\\nPassword:'\"]\n",
      "[-4.296875, 1.5625, 16, True, \"'Password:Welcome\\\\nPassword:'\"]\n"
     ]
    }
   ],
   "source": [
    "print(scope.adc.trig_count)\n",
    "for row in attack2_data:\n",
    "    if row[3]:\n",
    "        print(row)"
   ]
  },
  {
   "cell_type": "markdown",
   "metadata": {},
   "source": [
    "With any luck, you should have some successful attacks. If you weren't able to glitch the target, you may want to try a larger range of width/offset values. You may also want to try decreasing the step value for these ranges as well.\n",
    "\n",
    "With the tutorial now over, we should disconnect from the ChipWhisperer"
   ]
  },
  {
   "cell_type": "code",
   "execution_count": 24,
   "metadata": {},
   "outputs": [],
   "source": [
    "scope.dis()\n",
    "target.dis()"
   ]
  },
  {
   "cell_type": "markdown",
   "metadata": {},
   "source": [
    "## Glitching Onward"
   ]
  },
  {
   "cell_type": "markdown",
   "metadata": {},
   "source": [
    "This basic tutorial has introduced you to glitch attacks. They are a powerful tool for bypassing authentication in embedded hardware devices. There are many ways to expand your knowledge with additional practice, such as:\n",
    "\n",
    "* Manual glitches can be triggered by calling `scope.glitch.manualTrigger()` and `scope.glitch.trigger_src = \"manual\"`. Try using manual glitches to simply glitch past the prompt in `glitch3()`.\n",
    "* Completing the VCC Glitch Attacks tutorial (not yet available), which introduces glitching via voltage instead of the clock.\n",
    "* Download some example source code (bootloaders, login prompts, etc) and port them to your target. See how you can glitch past security checks.\n",
    "* Use one of the IO triggers discussed in Tutorial_A1_Synchronization_to_Communication_Lines."
   ]
  },
  {
   "cell_type": "markdown",
   "metadata": {},
   "source": [
    "## Tests"
   ]
  },
  {
   "cell_type": "code",
   "execution_count": 25,
   "metadata": {},
   "outputs": [],
   "source": [
    "success = False\n",
    "for row in attack1_data:\n",
    "    if row[2] > 0:\n",
    "        success = True\n",
    "assert success, \"Failed to glitch attack 1\\n{}\".format(attack1_data)"
   ]
  },
  {
   "cell_type": "code",
   "execution_count": 26,
   "metadata": {},
   "outputs": [],
   "source": [
    "success = False\n",
    "for row in attack2_data:\n",
    "    if row[3]:\n",
    "        success = True\n",
    "assert success, \"Failed to glitch attack 2\\n{}\".format(attack2_data)"
   ]
  },
  {
   "cell_type": "code",
   "execution_count": null,
   "metadata": {},
   "outputs": [],
   "source": []
  }
 ],
 "metadata": {
  "kernelspec": {
   "display_name": "Python 3",
   "language": "python",
   "name": "python3"
  },
  "language_info": {
   "codemirror_mode": {
    "name": "ipython",
    "version": 3
   },
   "file_extension": ".py",
   "mimetype": "text/x-python",
   "name": "python",
   "nbconvert_exporter": "python",
   "pygments_lexer": "ipython3",
   "version": "3.7.1"
  },
  "toc": {
   "base_numbering": 1,
   "nav_menu": {},
   "number_sections": true,
   "sideBar": true,
   "skip_h1_title": true,
   "title_cell": "Table of Contents",
   "title_sidebar": "Contents",
   "toc_cell": false,
   "toc_position": {
    "height": "calc(100% - 180px)",
    "left": "10px",
    "top": "150px",
    "width": "320px"
   },
   "toc_section_display": true,
   "toc_window_display": true
  }
 },
 "nbformat": 4,
 "nbformat_minor": 2
}
