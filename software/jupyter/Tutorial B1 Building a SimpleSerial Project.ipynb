{
 "cells": [
  {
   "cell_type": "markdown",
   "metadata": {
    "heading_collapsed": true
   },
   "source": [
    "# Tutorial B1 Building a SimpleSerial Project"
   ]
  },
  {
   "cell_type": "markdown",
   "metadata": {
    "hidden": true
   },
   "source": [
    "This tutorial will introduce you to the 'simpleserial' communications system. It will show you how to perform different operations on data based on input from the ChipWhisperer software. This can be used for building your own system which you wish to 'break'. All the `%%bash` blocks can be run either in Jupyter or in your favourite command line environment (note that Jupyter resets your path between blocks)."
   ]
  },
  {
   "cell_type": "markdown",
   "metadata": {
    "heading_collapsed": true,
    "hidden": true
   },
   "source": [
    "## What is SimpleSerial"
   ]
  },
  {
   "cell_type": "markdown",
   "metadata": {
    "hidden": true
   },
   "source": [
    "SimpleSerial is the communications protocol used for almost all of the ChipWhisperer demo project. It's a very basic serial protocol which can be easily implemented on most systems. This system communicates using a standard asyncronous serial protocol, 38400 baud, 8-N-1.\n",
    "\n",
    "All messages are sent in ASCII-text, and are normally terminated with a line-feed ('\\n'). This allows you to interact with the simpleserial system over a standard terminal emulator.\n",
    "\n",
    "`x`\n",
    ">Sending a 'x' resets the buffers. This does not require a line-feed termination. It is suggested to always send a stream of x's to initilize the system in case the device was already in some other mode due to noise/corruption.\n",
    "\n",
    "`k00112233445566778899AABBCCDDEEFF\\n`\n",
    ">Loads the encryption key `00112233445566778899AABBCCDDEEFF` into the system. If not called the system may use some default key.\n",
    "\n",
    "`pAABBCCDDEEFF00112233445566778899\\n`\n",
    ">Encrypts the data `AABBCCDDEEFF00112233445566778899` with the key loaded with the 'k' command. The system will respond with a string starting with r, as shown next.\n",
    "\n",
    "`rCBBD4A2B34F2571758FF6A797E09859D\\n`\n",
    ">This is the response from the system. If data has been encrypted with a 'p' for example, the system will respond with the 'r' sequence automatically. So sending the earlier example means the result of the encryption was `cbbd4a2b34f2571758ff6a797e09859d`."
   ]
  },
  {
   "cell_type": "markdown",
   "metadata": {
    "heading_collapsed": true,
    "hidden": true
   },
   "source": [
    "## Building the Basic Example"
   ]
  },
  {
   "cell_type": "markdown",
   "metadata": {
    "hidden": true
   },
   "source": [
    "To bulid the basic example, you'll need an appropriate compiler for your target. For the ChipWhisperer Lite/Xmega platform, you'll need `avr-gcc` and `avr-libc`, while if you're using an ARM target (like the ChipWhisperer Lite/STM32 platform), your need the GNU Toolchain for ARM devices. If you're using a target with a different architecture, you'll need to install the relevant compiler. If you're unsure, you can run the block below. If you've got the right stuff installed, you should see some version and copyright info printed for the relevant compiler:"
   ]
  },
  {
   "cell_type": "code",
   "execution_count": null,
   "metadata": {
    "hidden": true
   },
   "outputs": [],
   "source": [
    "%%bash\n",
    "#check for avr-gcc\n",
    "avr-gcc --version\n",
    "\n",
    "#check for ARM gcc\n",
    "arm-none-eabi-gcc --version"
   ]
  },
  {
   "cell_type": "markdown",
   "metadata": {
    "hidden": true
   },
   "source": [
    "Now that you have the relevant toolchain installed, you should be able to build firmware for your desired platform. We'll begin by creating a new project based on simpleserial-base by making a new firmware and copying the files from the project we want to work on:"
   ]
  },
  {
   "cell_type": "code",
   "execution_count": 1,
   "metadata": {
    "hidden": true
   },
   "outputs": [],
   "source": [
    "%%bash\n",
    "cd ../../hardware/victims/firmware/\n",
    "mkdir -p simpleserial-base-lab1 && cp -r simpleserial-base/* $_\n",
    "cd simpleserial-base-lab1"
   ]
  },
  {
   "cell_type": "markdown",
   "metadata": {
    "hidden": true
   },
   "source": [
    "Next we'll build the firmware. You'll need to specify the `PLATFORM` and `CRYPTO_TARGET` for your target. To save you from having to re-enter this info in every make block, you can edit the python below with your platform and crypto_target.\n",
    "\n",
    "Common platforms are CWLITEXMEGA and CWLITEARM. To see a list of platforms leave `PLATFORM` as is.\n",
    "\n",
    "This tutorial doesn't use any crypto, so we can leave `CRYPTO_TARGET` as `NONE`."
   ]
  },
  {
   "cell_type": "code",
   "execution_count": 2,
   "metadata": {
    "hidden": true
   },
   "outputs": [],
   "source": [
    "PLATFORM = \"CW303\"\n",
    "CRYPTO_TARGET = \"NONE\""
   ]
  },
  {
   "cell_type": "markdown",
   "metadata": {
    "hidden": true
   },
   "source": [
    "Provided you completed the fields above, you should be able to successfully run the block below."
   ]
  },
  {
   "cell_type": "code",
   "execution_count": 3,
   "metadata": {
    "hidden": true
   },
   "outputs": [
    {
     "name": "stdout",
     "output_type": "stream",
     "text": [
      "rm -f -- simpleserial-base-CW303.hex\n",
      "rm -f -- simpleserial-base-CW303.eep\n",
      "rm -f -- simpleserial-base-CW303.cof\n",
      "rm -f -- simpleserial-base-CW303.elf\n",
      "rm -f -- simpleserial-base-CW303.map\n",
      "rm -f -- simpleserial-base-CW303.sym\n",
      "rm -f -- simpleserial-base-CW303.lss\n",
      "rm -f -- objdir/*.o\n",
      "rm -f -- objdir/*.lst\n",
      "rm -f -- simpleserial-base.s simpleserial.s XMEGA_AES_driver.s uart.s usart_driver.s xmega_hal.s\n",
      "rm -f -- simpleserial-base.d simpleserial.d XMEGA_AES_driver.d uart.d usart_driver.d xmega_hal.d\n",
      "rm -f -- simpleserial-base.i simpleserial.i XMEGA_AES_driver.i uart.i usart_driver.i xmega_hal.i\n",
      ".\n",
      "-------- begin --------\n",
      "avr-gcc (GCC) 5.4.0\n",
      "Copyright (C) 2015 Free Software Foundation, Inc.\n",
      "This is free software; see the source for copying conditions.  There is NO\n",
      "warranty; not even for MERCHANTABILITY or FITNESS FOR A PARTICULAR PURPOSE.\n",
      "\n",
      ".\n",
      "Compiling C: simpleserial-base.c\n",
      "avr-gcc -c -mmcu=atxmega128d3 -I. -fpack-struct -gdwarf-2 -DSS_VER=SS_VER_1_1 -DHAL_TYPE=HAL_xmega -DPLATFORM=CW303 -DF_CPU=7372800UL -Os -funsigned-char -funsigned-bitfields -fshort-enums -Wall -Wstrict-prototypes -Wa,-adhlns=objdir/simpleserial-base.lst -I.././simpleserial/ -I.././hal -I.././hal/xmega -I.././crypto/ -std=gnu99 -MMD -MP -MF .dep/simpleserial-base.o.d simpleserial-base.c -o objdir/simpleserial-base.o \n",
      ".\n",
      "Compiling C: .././simpleserial/simpleserial.c\n",
      "avr-gcc -c -mmcu=atxmega128d3 -I. -fpack-struct -gdwarf-2 -DSS_VER=SS_VER_1_1 -DHAL_TYPE=HAL_xmega -DPLATFORM=CW303 -DF_CPU=7372800UL -Os -funsigned-char -funsigned-bitfields -fshort-enums -Wall -Wstrict-prototypes -Wa,-adhlns=objdir/simpleserial.lst -I.././simpleserial/ -I.././hal -I.././hal/xmega -I.././crypto/ -std=gnu99 -MMD -MP -MF .dep/simpleserial.o.d .././simpleserial/simpleserial.c -o objdir/simpleserial.o \n",
      ".\n",
      "Compiling C: .././hal/xmega/XMEGA_AES_driver.c\n",
      "avr-gcc -c -mmcu=atxmega128d3 -I. -fpack-struct -gdwarf-2 -DSS_VER=SS_VER_1_1 -DHAL_TYPE=HAL_xmega -DPLATFORM=CW303 -DF_CPU=7372800UL -Os -funsigned-char -funsigned-bitfields -fshort-enums -Wall -Wstrict-prototypes -Wa,-adhlns=objdir/XMEGA_AES_driver.lst -I.././simpleserial/ -I.././hal -I.././hal/xmega -I.././crypto/ -std=gnu99 -MMD -MP -MF .dep/XMEGA_AES_driver.o.d .././hal/xmega/XMEGA_AES_driver.c -o objdir/XMEGA_AES_driver.o \n",
      ".\n",
      "Compiling C: .././hal/xmega/uart.c\n",
      "avr-gcc -c -mmcu=atxmega128d3 -I. -fpack-struct -gdwarf-2 -DSS_VER=SS_VER_1_1 -DHAL_TYPE=HAL_xmega -DPLATFORM=CW303 -DF_CPU=7372800UL -Os -funsigned-char -funsigned-bitfields -fshort-enums -Wall -Wstrict-prototypes -Wa,-adhlns=objdir/uart.lst -I.././simpleserial/ -I.././hal -I.././hal/xmega -I.././crypto/ -std=gnu99 -MMD -MP -MF .dep/uart.o.d .././hal/xmega/uart.c -o objdir/uart.o \n",
      ".\n",
      "Compiling C: .././hal/xmega/usart_driver.c\n",
      "avr-gcc -c -mmcu=atxmega128d3 -I. -fpack-struct -gdwarf-2 -DSS_VER=SS_VER_1_1 -DHAL_TYPE=HAL_xmega -DPLATFORM=CW303 -DF_CPU=7372800UL -Os -funsigned-char -funsigned-bitfields -fshort-enums -Wall -Wstrict-prototypes -Wa,-adhlns=objdir/usart_driver.lst -I.././simpleserial/ -I.././hal -I.././hal/xmega -I.././crypto/ -std=gnu99 -MMD -MP -MF .dep/usart_driver.o.d .././hal/xmega/usart_driver.c -o objdir/usart_driver.o \n",
      ".\n",
      "Compiling C: .././hal/xmega/xmega_hal.c\n",
      "avr-gcc -c -mmcu=atxmega128d3 -I. -fpack-struct -gdwarf-2 -DSS_VER=SS_VER_1_1 -DHAL_TYPE=HAL_xmega -DPLATFORM=CW303 -DF_CPU=7372800UL -Os -funsigned-char -funsigned-bitfields -fshort-enums -Wall -Wstrict-prototypes -Wa,-adhlns=objdir/xmega_hal.lst -I.././simpleserial/ -I.././hal -I.././hal/xmega -I.././crypto/ -std=gnu99 -MMD -MP -MF .dep/xmega_hal.o.d .././hal/xmega/xmega_hal.c -o objdir/xmega_hal.o \n",
      ".\n",
      "Linking: simpleserial-base-CW303.elf\n",
      "avr-gcc -mmcu=atxmega128d3 -I. -fpack-struct -gdwarf-2 -DSS_VER=SS_VER_1_1 -DHAL_TYPE=HAL_xmega -DPLATFORM=CW303 -DF_CPU=7372800UL -Os -funsigned-char -funsigned-bitfields -fshort-enums -Wall -Wstrict-prototypes -Wa,-adhlns=objdir/simpleserial-base.o -I.././simpleserial/ -I.././hal -I.././hal/xmega -I.././crypto/ -std=gnu99 -MMD -MP -MF .dep/simpleserial-base-CW303.elf.d objdir/simpleserial-base.o objdir/simpleserial.o objdir/XMEGA_AES_driver.o objdir/uart.o objdir/usart_driver.o objdir/xmega_hal.o --output simpleserial-base-CW303.elf -Wl,-Map=simpleserial-base-CW303.map,--cref   -lm  \n",
      ".\n",
      "Creating load file for Flash: simpleserial-base-CW303.hex\n",
      "avr-objcopy -O ihex -R .eeprom -R .fuse -R .lock -R .signature simpleserial-base-CW303.elf simpleserial-base-CW303.hex\n",
      ".\n",
      "Creating load file for EEPROM: simpleserial-base-CW303.eep\n",
      "avr-objcopy -j .eeprom --set-section-flags=.eeprom=\"alloc,load\" \\\n",
      "--change-section-lma .eeprom=0 --no-change-warnings -O ihex simpleserial-base-CW303.elf simpleserial-base-CW303.eep || exit 0\n",
      ".\n",
      "Creating Extended Listing: simpleserial-base-CW303.lss\n",
      "avr-objdump -h -S -z simpleserial-base-CW303.elf > simpleserial-base-CW303.lss\n",
      ".\n",
      "Creating Symbol Table: simpleserial-base-CW303.sym\n",
      "avr-nm -n simpleserial-base-CW303.elf > simpleserial-base-CW303.sym\n",
      "Size after:\n",
      "   text\t   data\t    bss\t    dec\t    hex\tfilename\n",
      "   1732\t     16\t     52\t   1800\t    708\tsimpleserial-base-CW303.elf\n",
      "+--------------------------------------------------------\n",
      "+ Built for platform CW-Lite XMEGA\n",
      "+--------------------------------------------------------\n"
     ]
    }
   ],
   "source": [
    "%%bash -s \"$PLATFORM\" \"$CRYPTO_TARGET\"\n",
    "cd ../../hardware/victims/firmware/simpleserial-base-lab1\n",
    "make PLATFORM=$1 CRYPTO_TARGET=$2"
   ]
  },
  {
   "cell_type": "markdown",
   "metadata": {
    "heading_collapsed": true,
    "hidden": true
   },
   "source": [
    "## Modifying the Basic Example"
   ]
  },
  {
   "cell_type": "markdown",
   "metadata": {
    "hidden": true
   },
   "source": [
    "At this point we want to modify the system to perform 'something' with the data, such that we can confirm the system is working. To do so, open the file `simpleserial-base.c` in the simpleserial-base-lab1 folder with a code editor such as Programmer's Notepad (which ships with WinAVR).\n",
    "\n",
    "Find the following code block towards the end of the file:\n",
    "\n",
    "```C\n",
    "/**********************************\n",
    " * Start user-specific code here. */\n",
    "trigger_high();\n",
    "\n",
    "//16 hex bytes held in 'pt' were sent\n",
    "//from the computer. Store your response\n",
    "//back into 'pt', which will send 16 bytes\n",
    "//back to computer. Can ignore of course if\n",
    "//not needed\n",
    "\n",
    "trigger_low();\n",
    "/* End user-specific code here. *\n",
    "```\n",
    "\n",
    "Now modify it to increment the value of each data byte:\n",
    "\n",
    "```C\n",
    "/**********************************\n",
    " * Start user-specific code here. */\n",
    "trigger_high();\n",
    "\n",
    "//16 hex bytes held in 'pt' were sent\n",
    "//from the computer. Store your response\n",
    "//back into 'pt', which will send 16 bytes\n",
    "//back to computer. Can ignore of course if\n",
    "//not needed\n",
    "\n",
    "for(int i = 0; i < 16; i++){\n",
    "    pt[i]++;\n",
    "}\n",
    "\n",
    "trigger_low();\n",
    "/* End user-specific code here. *\n",
    " ********************************/\n",
    "```\n",
    "\n",
    "Then rebuild the file with `make`:"
   ]
  },
  {
   "cell_type": "code",
   "execution_count": null,
   "metadata": {
    "hidden": true
   },
   "outputs": [],
   "source": [
    "%%bash\n",
    "cd ../../hardware/victims/firmware/simpleserial-base-lab1\n",
    "make PLATFORM= CRYPTO_TARGET=NONE"
   ]
  },
  {
   "cell_type": "markdown",
   "metadata": {
    "heading_collapsed": true,
    "hidden": true
   },
   "source": [
    "## Python Script"
   ]
  },
  {
   "cell_type": "markdown",
   "metadata": {
    "hidden": true
   },
   "source": [
    "We'll end by uploading the firmware onto the target and communicating with it via a python script. Depending on your target, uploading firmware will be different. For the XMega and STM32 targets, you can use ChipWhisperer's interface. Otherwise, you'll likely need to use and external programmer. If you have a CW1173/Xmega board, you can run the following blocks without modification. After running the final block, you should see two sets of hexadecimal numbers, with the second having values one higher than the first."
   ]
  },
  {
   "cell_type": "markdown",
   "metadata": {
    "hidden": true
   },
   "source": [
    "We'll begin by importing all the necessary ChipWhisperer modules:"
   ]
  },
  {
   "cell_type": "code",
   "execution_count": 4,
   "metadata": {
    "hidden": true
   },
   "outputs": [
    {
     "name": "stderr",
     "output_type": "stream",
     "text": [
      "WARNING:root:PySide or PyQtGraph not installed, disabling support for pyqtgraph parameters\n"
     ]
    }
   ],
   "source": [
    "#import needed chipwhisperer modules\n",
    "import time\n",
    "import os\n",
    "\n",
    "\n",
    "import chipwhisperer as cw\n",
    "from chipwhisperer.capture.acq_patterns.basic import AcqKeyTextPattern_Basic"
   ]
  },
  {
   "cell_type": "markdown",
   "metadata": {
    "hidden": true
   },
   "source": [
    "and connecting to the ChipWhisperer"
   ]
  },
  {
   "cell_type": "code",
   "execution_count": 6,
   "metadata": {
    "hidden": true
   },
   "outputs": [],
   "source": [
    "#connect to chipwhisperer\n",
    "scope = cw.scope()\n",
    "target = cw.target(scope)"
   ]
  },
  {
   "cell_type": "markdown",
   "metadata": {
    "hidden": true
   },
   "source": [
    "Next, we'll do some basic setup. Most of these settings don't matter for now, but take note of the `scope.clock` and `scope.io`, which setup the clock and serial io lines, which needs to be done before programming the target. \n",
    "\n",
    "**Some targets require settings different than what's below. Check the relevant wiki article for your target for more information**"
   ]
  },
  {
   "cell_type": "code",
   "execution_count": 7,
   "metadata": {
    "hidden": true
   },
   "outputs": [],
   "source": [
    "# setup scope parameters\n",
    "scope.gain.gain = 45\n",
    "scope.adc.samples = 3000\n",
    "scope.adc.offset = 1250\n",
    "scope.adc.basic_mode = \"rising_edge\"\n",
    "scope.clock.clkgen_freq = 7370000\n",
    "scope.clock.adc_src = \"clkgen_x4\"\n",
    "scope.trigger.triggers = \"tio4\"\n",
    "scope.io.tio1 = \"serial_rx\"\n",
    "scope.io.tio2 = \"serial_tx\"\n",
    "scope.io.hs2 = \"clkgen\""
   ]
  },
  {
   "cell_type": "markdown",
   "metadata": {
    "hidden": true
   },
   "source": [
    "Now that the clock and IO lines are setup, we can program the target. Which block you need to run depends on your target. If there isn't a block for your target, you'll need to use an external programmer to program the device."
   ]
  },
  {
   "cell_type": "code",
   "execution_count": 8,
   "metadata": {
    "hidden": true
   },
   "outputs": [
    {
     "name": "stdout",
     "output_type": "stream",
     "text": [
      "XMEGA Programming flash...\n",
      "XMEGA Reading flash...\n",
      "Verified flash OK, 1747 bytes\n"
     ]
    }
   ],
   "source": [
    "# program the target\n",
    "from chipwhisperer.capture.api.programmers import XMEGAProgrammer\n",
    "programmer = XMEGAProgrammer()\n",
    "programmer.scope = scope\n",
    "programmer._logging = None\n",
    "programmer.find()\n",
    "programmer.erase()\n",
    "programmer.program('../../hardware/victims/firmware/simpleserial-base-lab1/simpleserial-base-CW303.hex', memtype=\"flash\", verify=True)\n",
    "programmer.close()"
   ]
  },
  {
   "cell_type": "code",
   "execution_count": null,
   "metadata": {
    "hidden": true
   },
   "outputs": [],
   "source": [
    "from chipwhisperer.capture.api.programmers import STM32FProgrammer\n",
    "programmer = STM32FProgrammer()\n",
    "programmer.scope = scope\n",
    "programmer._logging = None\n",
    "programmer.open()\n",
    "programmer.find()\n",
    "programmer.erase()\n",
    "programmer.program('../../hardware/victims/firmware/simpleserial-base-lab1/simpleserial-base-CW308_STM32F3.hex', memtype=\"flash\", verify=True)\n",
    "programmer.close()"
   ]
  },
  {
   "cell_type": "markdown",
   "metadata": {
    "hidden": true
   },
   "source": [
    "Finally, we'll load some text, send it to the target, and read it back. We also capture a trace here, but don't do anything with it yet (that will come in later tutorials). You should see your original text with the received text below it."
   ]
  },
  {
   "cell_type": "code",
   "execution_count": 11,
   "metadata": {
    "hidden": true
   },
   "outputs": [
    {
     "name": "stdout",
     "output_type": "stream",
     "text": [
      "b'33A9878525A12B2B16309C2E829F288C'\n",
      "33A9878525A12B2B16309C2E829F288C\n",
      "z00\n",
      "\n"
     ]
    }
   ],
   "source": [
    "ktp = AcqKeyTextPattern_Basic(target=target)\n",
    "key, text = ktp.newPair()  # manual creation of a key, text pair can be substituted here\n",
    "\n",
    "target.loadInput(text)\n",
    "scope.arm()\n",
    "target.go()\n",
    "timeout = 50\n",
    "# wait for target to finish\n",
    "while target.isDone() is False and timeout:\n",
    "    timeout -= 1\n",
    "    time.sleep(0.01)\n",
    "ret = scope.capture()\n",
    "num_char = target.ser.inWaiting()\n",
    "output = target.ser.read(num_char, timeout=10)\n",
    "\n",
    "import binascii\n",
    "print(binascii.b2a_hex(text).upper())\n",
    "print(output[1:])"
   ]
  },
  {
   "cell_type": "markdown",
   "metadata": {
    "hidden": true
   },
   "source": [
    "Now that we're done with this tutorial, we'll need to disconnect from the ChipWhisperer. This will prevent this session from interferening from later ones (most notably with a `USB can't claim interface` error)."
   ]
  },
  {
   "cell_type": "code",
   "execution_count": 12,
   "metadata": {
    "hidden": true
   },
   "outputs": [],
   "source": [
    "scope.dis()\n",
    "target.dis()"
   ]
  },
  {
   "cell_type": "markdown",
   "metadata": {
    "heading_collapsed": true,
    "hidden": true
   },
   "source": [
    "## Future Tutorials"
   ]
  },
  {
   "cell_type": "markdown",
   "metadata": {
    "hidden": true
   },
   "source": [
    "The next tutorials that you run will start using helper scripts to make setup a little faster and more consistent between tutorials. Those scripts run mostly the same setup code that we did here, but if you'd like to see exactly what they're doing, they're all included in the `Helper Scripts` folder.\n",
    "\n",
    "For example, the imports and connecting to the ChipWhisperer is taken care of by `Helper Scripts/CWLite_Connect.ipynb`, while the scope setup (gain, clock, etc) is taken care of by `Helper Scripts/Setup_Target_Generic.ipynb`."
   ]
  }
 ],
 "metadata": {
  "kernelspec": {
   "display_name": "Python 3",
   "language": "python",
   "name": "python3"
  },
  "language_info": {
   "codemirror_mode": {
    "name": "ipython",
    "version": 3
   },
   "file_extension": ".py",
   "mimetype": "text/x-python",
   "name": "python",
   "nbconvert_exporter": "python",
   "pygments_lexer": "ipython3",
   "version": "3.6.3"
  },
  "toc": {
   "base_numbering": 1,
   "nav_menu": {},
   "number_sections": true,
   "sideBar": true,
   "skip_h1_title": false,
   "title_cell": "Table of Contents",
   "title_sidebar": "Contents",
   "toc_cell": false,
   "toc_position": {
    "height": "calc(100% - 180px)",
    "left": "10px",
    "top": "150px",
    "width": "201px"
   },
   "toc_section_display": true,
   "toc_window_display": true
  }
 },
 "nbformat": 4,
 "nbformat_minor": 2
}
