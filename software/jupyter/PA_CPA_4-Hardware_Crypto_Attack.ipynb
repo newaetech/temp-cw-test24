{
 "cells": [
  {
   "cell_type": "markdown",
   "metadata": {},
   "source": [
    "# Hardware Crypto Attack\n"
   ]
  },
  {
   "cell_type": "markdown",
   "metadata": {},
   "source": [
    "So far we have mostly been talking about software crypto. But how can we expand this to hardware crypto? Luckily it takes very few changes, so you don't have much to do!\n",
    "\n",
    "In this lab we'll be looking at what is required to attack a hardware crypto device, and what sort of attacks work on these devices. In this case we're going to \"cheat\" and use an already recorded power trace, since we don't have hardware crypto on our target boards."
   ]
  },
  {
   "cell_type": "markdown",
   "metadata": {},
   "source": [
    "## Analysis"
   ]
  },
  {
   "cell_type": "markdown",
   "metadata": {},
   "source": [
    "Now that we have our traces, we can begin our attack! We'll start off by importing everything we need for the attack:"
   ]
  },
  {
   "cell_type": "code",
   "execution_count": null,
   "metadata": {},
   "outputs": [],
   "source": [
    "import chipwhisperer as cw\n",
    "from chipwhisperer.analyzer.attacks.cpa import CPA\n",
    "from chipwhisperer.analyzer.attacks.cpa_algorithms.progressive import CPAProgressive\n",
    "from chipwhisperer.analyzer.attacks.models.AES128_8bit import AES128_8bit, SBox_output, LastroundStateDiff"
   ]
  },
  {
   "cell_type": "markdown",
   "metadata": {},
   "source": [
    "Next, we'll add our traces to a preprocessing module. We can feed `project.traceManager()` right into `attack.setTraceSource()`, but we could also add pre-processing inbetween (more about this later). We'll also re-open the traces, in this case it is required since the call to `closeAll()` would have flushed the buffers."
   ]
  },
  {
   "cell_type": "code",
   "execution_count": null,
   "metadata": {},
   "outputs": [],
   "source": [
    "#Force reload of project data (if you comment out 'closeAll()' this isn't needed)\n",
    "\n",
    "#We also rebuild the project object in case you only want to run this half\n",
    "project = cw.openProject('./tut_data/stm32f415_cpa_1k.cwp')\n",
    "\n",
    "tm = project.traceManager()"
   ]
  },
  {
   "cell_type": "markdown",
   "metadata": {},
   "source": [
    "This time we're going to do a few things. First we will get the traces, and plot a few of them as-is. You can adjust the traces plotted by adjusting the `range(10)`. For example `range(1)` plots the first trace."
   ]
  },
  {
   "cell_type": "code",
   "execution_count": null,
   "metadata": {},
   "outputs": [],
   "source": [
    "from bokeh.plotting import figure, show\n",
    "from bokeh.io import output_notebook\n",
    "from bokeh.palettes import Dark2_5 as palette\n",
    "import itertools  \n",
    "\n",
    "output_notebook()\n",
    "p = figure(sizing_mode='scale_width', plot_height=300)\n",
    "\n",
    "# create a color iterator\n",
    "colors = itertools.cycle(palette)  \n",
    "\n",
    "x_range = range(0, tm.numPoints())\n",
    "for i, color in zip(range(10), colors): #Adjust range(n) to plot certain traces\n",
    "    p.line(x_range, tm.getTrace(i), color=color)\n",
    "show(p)"
   ]
  },
  {
   "cell_type": "markdown",
   "metadata": {},
   "source": [
    "If this all works - let's just continue the attack! We're going to use the same leakge model as previously (Hamming weight), we'll seperate this out since will be changing that model around shortly."
   ]
  },
  {
   "cell_type": "code",
   "execution_count": null,
   "metadata": {},
   "outputs": [],
   "source": [
    "leak_model = AES128_8bit(SBox_output)"
   ]
  },
  {
   "cell_type": "code",
   "execution_count": null,
   "metadata": {},
   "outputs": [],
   "source": [
    "attack = CPA()\n",
    "\n",
    "attack.setAnalysisAlgorithm(CPAProgressive, leak_model)\n",
    "attack.setTraceSource(project.traceManager())\n",
    "attack.setTraceStart(0)\n",
    "attack.setTracesPerAttack(1000) #Only use a few traces for now...\n",
    "attack.setIterations(1)\n",
    "attack.setReportingInterval(50)\n",
    "attack.setTargetSubkeys([0, 1, 2, 3, 4, 5, 6, 7, 8, 9, 10, 11, 12, 13, 14, 15])\n",
    "attack.setPointRange((0, -1))"
   ]
  },
  {
   "cell_type": "markdown",
   "metadata": {},
   "source": [
    "And then actually run it:"
   ]
  },
  {
   "cell_type": "code",
   "execution_count": null,
   "metadata": {},
   "outputs": [],
   "source": [
    "import pandas as pd\n",
    "import numpy as np\n",
    "from IPython.display import display, clear_output\n",
    "\n",
    "cb = cw.getJupyterCallback(attack)\n",
    "attack_results = attack.processTracesNoGUI(stats_ready, show_progress_bar=True)"
   ]
  },
  {
   "cell_type": "markdown",
   "metadata": {},
   "source": [
    "This will almost certainly fail. The leakage model is incorrect, so we need to find the correct (new) leakage model we should be using. This turns out to be pretty easy, since most typical hardware implementations use only one of a few possible models. We'll specifically just try the \"Last Round State Over-Written\" model first. You can do this by updating the model above to have the following:"
   ]
  },
  {
   "cell_type": "code",
   "execution_count": null,
   "metadata": {},
   "outputs": [],
   "source": [
    "leak_model = AES128_8bit(LastroundStateDiff)"
   ]
  },
  {
   "cell_type": "markdown",
   "metadata": {},
   "source": [
    "But this might not be enough! You may need to \"window\" around the area of interest. This is best done by plotting the results, and picking a nice area. For example a window of `attack.setPointRange((1380, 1390))` seems to work well on some traces."
   ]
  },
  {
   "cell_type": "code",
   "execution_count": null,
   "metadata": {},
   "outputs": [],
   "source": [
    "from bokeh.plotting import figure, show\n",
    "from bokeh.io import output_notebook\n",
    "\n",
    "output_notebook()\n",
    "p = figure()\n",
    "\n",
    "bnum = 4\n",
    "\n",
    "key = tm.getKnownKey(0)[bnum]\n",
    "data = attack.getStatistics().diffs[bnum]\n",
    "xr = range(0, len(data[0]))\n",
    "\n",
    "for v in range(0, 256):\n",
    "    p.line(xr, data[v], line_color='green')\n",
    "\n",
    "p.line(xr, data[key], line_color='red')\n",
    "show(p)"
   ]
  },
  {
   "cell_type": "markdown",
   "metadata": {},
   "source": [
    "You should see a graph of red and green in time (samples). In red is the correlation of the correct subkey for the first byte, while the rest are in green. You can use this graph to help fine-tune the windowing of the data."
   ]
  },
  {
   "cell_type": "markdown",
   "metadata": {},
   "source": [
    "## Conclusion"
   ]
  },
  {
   "cell_type": "markdown",
   "metadata": {},
   "source": [
    "Attacking hardware crypto is similar to any other DPA style attack. In this example we have concentrated on the standard \"Last Round State\" to break a real hardware accelerator."
   ]
  }
 ],
 "metadata": {
  "kernelspec": {
   "display_name": "Python 3",
   "language": "python",
   "name": "python3"
  },
  "language_info": {
   "codemirror_mode": {
    "name": "ipython",
    "version": 3
   },
   "file_extension": ".py",
   "mimetype": "text/x-python",
   "name": "python",
   "nbconvert_exporter": "python",
   "pygments_lexer": "ipython3",
   "version": "3.7.1"
  },
  "toc": {
   "base_numbering": 1,
   "nav_menu": {},
   "number_sections": true,
   "sideBar": true,
   "skip_h1_title": true,
   "title_cell": "Table of Contents",
   "title_sidebar": "Contents",
   "toc_cell": false,
   "toc_position": {
    "height": "calc(100% - 180px)",
    "left": "10px",
    "top": "150px",
    "width": "384px"
   },
   "toc_section_display": true,
   "toc_window_display": true
  }
 },
 "nbformat": 4,
 "nbformat_minor": 2
}
