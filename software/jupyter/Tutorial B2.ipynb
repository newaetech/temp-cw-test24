{
 "cells": [
  {
   "cell_type": "markdown",
   "metadata": {
    "heading_collapsed": true
   },
   "source": [
    "# Tutorial B2"
   ]
  },
  {
   "cell_type": "markdown",
   "metadata": {
    "hidden": true
   },
   "source": [
    "This tutorial will introduce you to measuring the power consumption of a device under attack. It will demonstrate how you can view the difference in power consumption between assembly instructions.\n",
    "\n",
    "If you haven't yet, you should probably complete Tutorial B1, which introduces bulding firmware, programming the target, and scripting."
   ]
  },
  {
   "cell_type": "markdown",
   "metadata": {
    "heading_collapsed": true,
    "hidden": true
   },
   "source": [
    "## Setting up Firmware"
   ]
  },
  {
   "cell_type": "markdown",
   "metadata": {
    "hidden": true
   },
   "source": [
    "In this tutorial, we will once again be working off of the simpleserial-base firmware.\n",
    "\n",
    "Let's start by creating a new project and building our firmware:"
   ]
  },
  {
   "cell_type": "code",
   "execution_count": null,
   "metadata": {
    "hidden": true
   },
   "outputs": [],
   "source": [
    "%%bash\n",
    "cd ../../hardware/victims/firmware/\n",
    "mkdir -p simpleserial-base-lab2 && cp -r simpleserial-base/* $_\n",
    "cd simpleserial-base-lab2"
   ]
  },
  {
   "cell_type": "code",
   "execution_count": null,
   "metadata": {
    "hidden": true
   },
   "outputs": [],
   "source": [
    "PLATFORM = \"CW303\"\n",
    "CRYPTO_TARGET = \"NONE\""
   ]
  },
  {
   "cell_type": "code",
   "execution_count": null,
   "metadata": {
    "hidden": true
   },
   "outputs": [],
   "source": [
    "%%bash -s \"$PLATFORM\" \"$CRYPTO_TARGET\"\n",
    "cd ../../hardware/victims/firmware/simpleserial-base-lab2\n",
    "make PLATFORM=$1 CRYPTO_TARGET=$2"
   ]
  },
  {
   "cell_type": "markdown",
   "metadata": {
    "hidden": true
   },
   "source": [
    "As in the previous tutorial, we'll need to modify our firmware. Navigate to the `get_pt()` function:\n",
    "```C\n",
    "uint8_t get_pt(uint8_t* pt)\n",
    "{\n",
    "\t/**********************************\n",
    "\t* Start user-specific code here. */\n",
    "\ttrigger_high();\n",
    "\t\n",
    "\t//16 hex bytes held in 'pt' were sent\n",
    "\t//from the computer. Store your response\n",
    "\t//back into 'pt', which will send 16 bytes\n",
    "\t//back to computer. Can ignore of course if\n",
    "\t//not needed\n",
    "\t\n",
    "\ttrigger_low();\n",
    "\t/* End user-specific code here. *\n",
    "\t********************************/\n",
    "\tsimpleserial_put('r', 16, pt);\n",
    "\treturn 0x00;\n",
    "}\n",
    "\n",
    "```\n",
    "\n",
    "The easiest way to match power to different instructions will be to write some assembly ourselves. We can do this pretty easily inside the C code by using `asm volatile();`. To make the difference between instructions more obvious, we're going to look for a simple instruction that we'd expect to have low power consumption, as well as a more complex one."
   ]
  },
  {
   "cell_type": "markdown",
   "metadata": {
    "heading_collapsed": true,
    "hidden": true
   },
   "source": [
    "### XMEGA/Avr Assembly"
   ]
  },
  {
   "cell_type": "markdown",
   "metadata": {
    "hidden": true
   },
   "source": [
    "Atmel (who made the XMEGA/Avr microcontrollers before being bought by Microchip) typically includes all the info we'll need in the datasheet for their microcontroller, so you'll want to bring that up. If you're using the CWLite w/ XMEGA or XMEGA target board, [here's a link to its datasheet](http://ww1.microchip.com/downloads/en/DeviceDoc/atmel-8385-8-and-16-bit-avr-microcontroller-atxmega64a1u-atxmega128a1u_datasheet.pdf).\n",
    "\n",
    "Some good canditates are `nop` for the simple instruction and `mul` for the complex one. Here's some background on these instructions:\n",
    "\n",
    "**mul**\n",
    "* Multiplies two 8-bit numbers together\n",
    "* Takes 2 clock cycles to complete (8 samples)\n",
    "* Intuitively expect fairly large power consumption due to complexity of operation required\n",
    "\n",
    "**nop**\n",
    "* Does nothing\n",
    "* Takes 1 cycle to complete (4 samples)\n",
    "* Intuitively expect low power consumption due to core doing nothing\n",
    "\n",
    "We'll be measuring at 4x the sample rate of the device, so for each clock cycle we'll have 4 samples. This will be important later.\n",
    "\n",
    "Let's start by adding 10 of each instruction:\n",
    "\n",
    "```C\n",
    "trigger_high();\n",
    "\n",
    "//16 hex bytes held in 'pt' were sent\n",
    "//from the computer. Store your response\n",
    "//back into 'pt', which will send 16 bytes\n",
    "//back to computer. Can ignore of course if\n",
    "//not needed\n",
    "\n",
    "asm volatile(\n",
    "\"nop\"       \"\\n\\t\"\n",
    "\"nop\"       \"\\n\\t\"\n",
    "\"nop\"       \"\\n\\t\"\n",
    "\"nop\"       \"\\n\\t\"\n",
    "\"nop\"       \"\\n\\t\"\n",
    "\"nop\"       \"\\n\\t\"\n",
    "\"nop\"       \"\\n\\t\"\n",
    "\"nop\"       \"\\n\\t\"\n",
    "\"nop\"       \"\\n\\t\"\n",
    "\"nop\"       \"\\n\\t\"\n",
    "::\n",
    ");\n",
    "\n",
    "asm volatile(\n",
    "\"mul r0,r1\" \"\\n\\t\"\n",
    "\"mul r0,r1\" \"\\n\\t\"\n",
    "\"mul r0,r1\" \"\\n\\t\"\n",
    "\"mul r0,r1\" \"\\n\\t\"\n",
    "\"mul r0,r1\" \"\\n\\t\"\n",
    "\"mul r0,r1\" \"\\n\\t\"\n",
    "\"mul r0,r1\" \"\\n\\t\"\n",
    "\"mul r0,r1\" \"\\n\\t\"          \n",
    "\"mul r0,r1\" \"\\n\\t\"\n",
    "\"mul r0,r1\" \"\\n\\t\"\n",
    "::\n",
    ");\n",
    "\n",
    "trigger_low();\n",
    "```"
   ]
  },
  {
   "cell_type": "markdown",
   "metadata": {
    "heading_collapsed": true,
    "hidden": true
   },
   "source": [
    "### Arm (STM32F3) Assembly"
   ]
  },
  {
   "cell_type": "markdown",
   "metadata": {
    "hidden": true
   },
   "source": [
    "For the Arm section of the tutorial, we'll be using the STM32F3 (which is the microcontroller on the CWLite w/Arm). Other targets may behave differently.\n",
    "\n",
    "With that out of the way, let's take a look at our guide to Arm assembly: the [Cortex M4 Instruction Set Summary](http://infocenter.arm.com/help/index.jsp?topic=/com.arm.doc.ddi0439b/CHDDIGAC.html). We can acutally ignore most of this, since the power consumption of different instructions is actually very little (even with complicated instructions, like divide). Instead, memory access largely determines power consumption.\n",
    "\n",
    "To start, let's look at flash access. We can accomplish this pretty easily using the `ldr`, which loads a value from a memory address into a register. Using some assembler shortcuts, we can load a predefined constant from flash (0x40000000). The instruction we compare it to doesn't really matter, but we'll used `add`, which adds two numbers together.\n",
    "\n",
    "```C\n",
    "trigger_high();\n",
    "\n",
    "asm volatile (\n",
    "\"add r0, r0\"       \"\\n\\t\"\n",
    "\"add r0, r0\"       \"\\n\\t\"\n",
    "\"add r0, r0\"       \"\\n\\t\"\n",
    "\"add r0, r0\"       \"\\n\\t\"\n",
    "\"add r0, r0\"       \"\\n\\t\"\n",
    "\"add r0, r0\"       \"\\n\\t\"\n",
    "\"add r0, r0\"       \"\\n\\t\"\n",
    "\"add r0, r0\"       \"\\n\\t\"\n",
    "\"add r0, r0\"       \"\\n\\t\"\n",
    "\"add r0, r0\"       \"\\n\\t\"\n",
    ");\n",
    "\n",
    "asm volatile (\n",
    "     \"ldr r1, =0x40000000 \\n\\t\"\n",
    "     \"ldr r1, =0x40000000 \\n\\t\"\n",
    "     \"ldr r1, =0x40000000 \\n\\t\"\n",
    "     \"ldr r1, =0x40000000 \\n\\t\"\n",
    "     \"ldr r1, =0x40000000 \\n\\t\"\n",
    "     \"ldr r1, =0x40000000 \\n\\t\"\n",
    "     \"ldr r1, =0x40000000 \\n\\t\"\n",
    "     \"ldr r1, =0x40000000 \\n\\t\"\n",
    "     \"ldr r1, =0x40000000 \\n\\t\"\n",
    "     \"ldr r1, =0x40000000 \\n\\t\"\n",
    ");\n",
    "\n",
    "trigger_low();\n",
    "```"
   ]
  },
  {
   "cell_type": "markdown",
   "metadata": {
    "heading_collapsed": true,
    "hidden": true
   },
   "source": [
    "## ChipWhisperer Setup"
   ]
  },
  {
   "cell_type": "markdown",
   "metadata": {
    "hidden": true
   },
   "source": [
    "Setup for this tutorial will be pretty similar to Tutorial B1, so we'll skip most of it by calling a helper script. This setup should work for most targets, but if you're using a target other than the XMEGA or STM32F3 (CWLite w/ Arm), you may need to call a different script or do additional setup (like programming the target with an external programmer). See the wiki page for your target for more information.\n",
    "\n",
    "If you're curious about what's happening in these helper scripts, they're typically located in the `Helper Scripts` folder."
   ]
  },
  {
   "cell_type": "code",
   "execution_count": null,
   "metadata": {
    "hidden": true
   },
   "outputs": [],
   "source": [
    "%%bash -s \"$PLATFORM\" \"$CRYPTO_TARGET\"\n",
    "cd ../../hardware/victims/firmware/simpleserial-base-lab2\n",
    "make PLATFORM=$1 CRYPTO_TARGET=$2"
   ]
  },
  {
   "cell_type": "code",
   "execution_count": null,
   "metadata": {
    "hidden": true
   },
   "outputs": [],
   "source": [
    "%run \"Helper Scripts/CWLite_Connect.ipynb\""
   ]
  },
  {
   "cell_type": "code",
   "execution_count": null,
   "metadata": {
    "hidden": true
   },
   "outputs": [],
   "source": [
    "%run \"Helper Scripts/Setup_Target_Generic.ipynb\""
   ]
  },
  {
   "cell_type": "markdown",
   "metadata": {
    "hidden": true
   },
   "source": [
    "By default, the scope will capture many more traces than we need (remember, we're only running 20 instructions), so we'll reduce that to 500."
   ]
  },
  {
   "cell_type": "code",
   "execution_count": null,
   "metadata": {
    "hidden": true
   },
   "outputs": [],
   "source": [
    "scope.adc.samples = 500"
   ]
  },
  {
   "cell_type": "markdown",
   "metadata": {
    "hidden": true
   },
   "source": [
    "Next we'll get the function we'll use to program the target. These scripts define `program_target(scope, firmware)`. This is used later, so if you're using an external programmer make sure to run the block in that section."
   ]
  },
  {
   "cell_type": "markdown",
   "metadata": {
    "heading_collapsed": true,
    "hidden": true
   },
   "source": [
    "### Program XMEGA"
   ]
  },
  {
   "cell_type": "code",
   "execution_count": null,
   "metadata": {
    "hidden": true
   },
   "outputs": [],
   "source": [
    "%run \"Helper Scripts/Program_XMEGA.ipynb\""
   ]
  },
  {
   "cell_type": "markdown",
   "metadata": {
    "heading_collapsed": true,
    "hidden": true
   },
   "source": [
    "### Program STM32"
   ]
  },
  {
   "cell_type": "code",
   "execution_count": null,
   "metadata": {
    "hidden": true
   },
   "outputs": [],
   "source": [
    "%run \"Helper Scripts/Program_STM.ipynb\""
   ]
  },
  {
   "cell_type": "markdown",
   "metadata": {
    "heading_collapsed": true,
    "hidden": true
   },
   "source": [
    "### External Programmer"
   ]
  },
  {
   "cell_type": "code",
   "execution_count": null,
   "metadata": {
    "hidden": true
   },
   "outputs": [],
   "source": [
    "%run \"Helper Scripts/No_Programmer.ipynb\""
   ]
  },
  {
   "cell_type": "markdown",
   "metadata": {
    "heading_collapsed": true,
    "hidden": true
   },
   "source": [
    "## Capturing Traces"
   ]
  },
  {
   "cell_type": "markdown",
   "metadata": {
    "hidden": true
   },
   "source": [
    "Like before, most of this should look familliar from the last tutorial. We'll start by programming the target, then capturing a trace, and finally displaying it using matplotlib. We don't really care about what the target responds with this time, so we won't read anything back.\n",
    "\n",
    "If you're programming via ChipWhisperer (i.e. XMEGA or STM32), you'll also need to complete the path to the hex file that you built. This will be stored in the fw_path variable, so you don't have to change the path everytime you want to program. We'll also be putting all of our instructions inside a function, since that'll make it easier to rerun later."
   ]
  },
  {
   "cell_type": "code",
   "execution_count": null,
   "metadata": {
    "hidden": true
   },
   "outputs": [],
   "source": [
    "%matplotlib notebook\n",
    "from chipwhisperer.capture.acq_patterns.basic import AcqKeyTextPattern_Basic\n",
    "import numpy as np\n",
    "import matplotlib.pyplot as plt\n",
    "fw_path = \"../../hardware/victims/firmware/simpleserial-base-lab2/simpleserial-base-CW303.hex\"\n",
    "program_target(scope, fw_path)\n",
    "\n",
    "def get_plot_trace():\n",
    "    ktp = AcqKeyTextPattern_Basic(target=target)\n",
    "    key, text = ktp.newPair()  # manual creation of a key, text pair can be substituted here\n",
    "\n",
    "    target.loadInput(text)\n",
    "    scope.arm()\n",
    "    target.go()\n",
    "    timeout = 50\n",
    "    # wait for target to finish\n",
    "    while target.isDone() is False and timeout:\n",
    "        timeout -= 1\n",
    "        time.sleep(0.01)\n",
    "    ret = scope.capture() #capture trace\n",
    "    trace = scope.getLastTrace() #get trace\n",
    "    plt.plot(trace)\n",
    "    \n",
    "get_plot_trace()"
   ]
  },
  {
   "cell_type": "markdown",
   "metadata": {
    "heading_collapsed": true,
    "hidden": true
   },
   "source": [
    "## Results"
   ]
  },
  {
   "cell_type": "markdown",
   "metadata": {
    "heading_collapsed": true,
    "hidden": true
   },
   "source": [
    "### XMEGA Results"
   ]
  },
  {
   "cell_type": "markdown",
   "metadata": {
    "hidden": true
   },
   "source": [
    "If everything worked properly, you should have something that looks like this:\n",
    "\n",
    "![XMEGA0](https://wiki.newae.com/images/4/44/Jupyter_B2_XMEGA0.png)\n",
    "\n",
    "Some information about the trace: this is a plot of the voltage at the power pin of the target sampled 500 times. This voltage is inversely proportional to the current, so as voltage goes down, current goes up (aka increases in \"power\" are actually negative on the graph).\n",
    "\n",
    "This probably doesn't tell you much, so let's add some additional instructinos to see if we can pinpoint where our instructions are being executed. Continue by adding 10 additional nop instructions:\n",
    "\n",
    "```C\n",
    "trigger_high();\n",
    "\n",
    "//16 hex bytes held in 'pt' were sent\n",
    "//from the computer. Store your response\n",
    "//back into 'pt', which will send 16 bytes\n",
    "//back to computer. Can ignore of course if\n",
    "//not needed\n",
    "\n",
    "asm volatile(\n",
    "\"nop\"       \"\\n\\t\"\n",
    "\"nop\"       \"\\n\\t\"\n",
    "\"nop\"       \"\\n\\t\"\n",
    "\"nop\"       \"\\n\\t\"\n",
    "\"nop\"       \"\\n\\t\"\n",
    "\"nop\"       \"\\n\\t\"\n",
    "\"nop\"       \"\\n\\t\"\n",
    "\"nop\"       \"\\n\\t\"\n",
    "\"nop\"       \"\\n\\t\"\n",
    "\"nop\"       \"\\n\\t\"\n",
    "::\n",
    ");\n",
    "\n",
    "asm volatile(\n",
    "\"nop\"       \"\\n\\t\"\n",
    "\"nop\"       \"\\n\\t\"\n",
    "\"nop\"       \"\\n\\t\"\n",
    "\"nop\"       \"\\n\\t\"\n",
    "\"nop\"       \"\\n\\t\"\n",
    "\"nop\"       \"\\n\\t\"\n",
    "\"nop\"       \"\\n\\t\"\n",
    "\"nop\"       \"\\n\\t\"\n",
    "\"nop\"       \"\\n\\t\"\n",
    "\"nop\"       \"\\n\\t\"\n",
    "::\n",
    ");\n",
    "\n",
    "asm volatile(\n",
    "\"mul r0,r1\" \"\\n\\t\"\n",
    "\"mul r0,r1\" \"\\n\\t\"\n",
    "\"mul r0,r1\" \"\\n\\t\"\n",
    "\"mul r0,r1\" \"\\n\\t\"\n",
    "\"mul r0,r1\" \"\\n\\t\"\n",
    "\"mul r0,r1\" \"\\n\\t\"\n",
    "\"mul r0,r1\" \"\\n\\t\"\n",
    "\"mul r0,r1\" \"\\n\\t\"          \n",
    "\"mul r0,r1\" \"\\n\\t\"\n",
    "\"mul r0,r1\" \"\\n\\t\"\n",
    "::\n",
    ");\n",
    "\n",
    "trigger_low();\n",
    "```"
   ]
  },
  {
   "cell_type": "markdown",
   "metadata": {
    "heading_collapsed": true,
    "hidden": true
   },
   "source": [
    "### Arm Results"
   ]
  },
  {
   "cell_type": "markdown",
   "metadata": {
    "heading_collapsed": true,
    "hidden": true
   },
   "source": [
    "## Second Capture"
   ]
  },
  {
   "cell_type": "code",
   "execution_count": null,
   "metadata": {
    "hidden": true
   },
   "outputs": [],
   "source": [
    "%%bash -s \"$PLATFORM\" \"$CRYPTO_TARGET\"\n",
    "cd ../../hardware/victims/firmware/simpleserial-base-lab2\n",
    "make PLATFORM=$1 CRYPTO_TARGET=$2"
   ]
  },
  {
   "cell_type": "code",
   "execution_count": null,
   "metadata": {
    "hidden": true
   },
   "outputs": [],
   "source": [
    "program_target(scope, fw_path)\n",
    "get_plot_trace()"
   ]
  },
  {
   "cell_type": "markdown",
   "metadata": {
    "heading_collapsed": true,
    "hidden": true
   },
   "source": [
    "## Second Set of Results"
   ]
  },
  {
   "cell_type": "markdown",
   "metadata": {
    "heading_collapsed": true,
    "hidden": true
   },
   "source": [
    "### XMEGA Results"
   ]
  },
  {
   "cell_type": "markdown",
   "metadata": {
    "hidden": true
   },
   "source": [
    "You should've gotten something that looks like this:\n",
    "![xmega_power2](https://wiki.newae.com/images/5/5c/Jupyter_B2_xmega_pow2.png)\n",
    "\n",
    "If you compare it to our original measurement:\n",
    "![xmega_power1_2](https://wiki.newae.com/images/4/44/Jupyter_B2_XMEGA0.png)\n",
    "\n",
    "It should be pretty clear that our instructions start 15-20 samples in and end at roughly 180 samples for our new plot (or at ~140 for the original). If we think about what's going on, this makes sense:\n",
    "* The device consumes less power here since it's not doing I/O or accessing SRAM or flash (besides loading each instruction)\n",
    "* The length of these sections is also about as long as expected (we're sampling at 4x the clock speed, so 1 cycle is 4 samples): \n",
    "    * The original length of our instructions is about 120 samples (40 for 10 `nop` and 80 for 10 `mul`)\n",
    "    * The new length of our instructions is about 160 samples (80 for 20 `nop` and 80 for 10 `mul`)\n",
    "    \n",
    "You might already be able to tell where in this zone each set of instructions are happening, but to be sure, let's add 10 more `nop` instructions after the `mul` instructions.\n",
    "\n",
    "```C\n",
    "trigger_high();\n",
    "\n",
    "//16 hex bytes held in 'pt' were sent\n",
    "//from the computer. Store your response\n",
    "//back into 'pt', which will send 16 bytes\n",
    "//back to computer. Can ignore of course if\n",
    "//not needed\n",
    "\n",
    "asm volatile(\n",
    "\"nop\"       \"\\n\\t\"\n",
    "\"nop\"       \"\\n\\t\"\n",
    "\"nop\"       \"\\n\\t\"\n",
    "\"nop\"       \"\\n\\t\"\n",
    "\"nop\"       \"\\n\\t\"\n",
    "\"nop\"       \"\\n\\t\"\n",
    "\"nop\"       \"\\n\\t\"\n",
    "\"nop\"       \"\\n\\t\"\n",
    "\"nop\"       \"\\n\\t\"\n",
    "\"nop\"       \"\\n\\t\"\n",
    "::\n",
    ");\n",
    "\n",
    "asm volatile(\n",
    "\"nop\"       \"\\n\\t\"\n",
    "\"nop\"       \"\\n\\t\"\n",
    "\"nop\"       \"\\n\\t\"\n",
    "\"nop\"       \"\\n\\t\"\n",
    "\"nop\"       \"\\n\\t\"\n",
    "\"nop\"       \"\\n\\t\"\n",
    "\"nop\"       \"\\n\\t\"\n",
    "\"nop\"       \"\\n\\t\"\n",
    "\"nop\"       \"\\n\\t\"\n",
    "\"nop\"       \"\\n\\t\"\n",
    "::\n",
    ");\n",
    "\n",
    "asm volatile(\n",
    "\"mul r0,r1\" \"\\n\\t\"\n",
    "\"mul r0,r1\" \"\\n\\t\"\n",
    "\"mul r0,r1\" \"\\n\\t\"\n",
    "\"mul r0,r1\" \"\\n\\t\"\n",
    "\"mul r0,r1\" \"\\n\\t\"\n",
    "\"mul r0,r1\" \"\\n\\t\"\n",
    "\"mul r0,r1\" \"\\n\\t\"\n",
    "\"mul r0,r1\" \"\\n\\t\"          \n",
    "\"mul r0,r1\" \"\\n\\t\"\n",
    "\"mul r0,r1\" \"\\n\\t\"\n",
    "::\n",
    ");\n",
    "\n",
    "asm volatile(\n",
    "\"nop\"       \"\\n\\t\"\n",
    "\"nop\"       \"\\n\\t\"\n",
    "\"nop\"       \"\\n\\t\"\n",
    "\"nop\"       \"\\n\\t\"\n",
    "\"nop\"       \"\\n\\t\"\n",
    "\"nop\"       \"\\n\\t\"\n",
    "\"nop\"       \"\\n\\t\"\n",
    "\"nop\"       \"\\n\\t\"\n",
    "\"nop\"       \"\\n\\t\"\n",
    "\"nop\"       \"\\n\\t\"\n",
    "::\n",
    ");\n",
    "\n",
    "trigger_low();\n",
    "```"
   ]
  },
  {
   "cell_type": "markdown",
   "metadata": {
    "heading_collapsed": true,
    "hidden": true
   },
   "source": [
    "### Arm Results"
   ]
  },
  {
   "cell_type": "markdown",
   "metadata": {
    "heading_collapsed": true,
    "hidden": true
   },
   "source": [
    "## Final Capture"
   ]
  },
  {
   "cell_type": "code",
   "execution_count": null,
   "metadata": {
    "hidden": true
   },
   "outputs": [],
   "source": [
    "%%bash -s \"$PLATFORM\" \"$CRYPTO_TARGET\"\n",
    "cd ../../hardware/victims/firmware/simpleserial-base-lab2\n",
    "make PLATFORM=$1 CRYPTO_TARGET=$2"
   ]
  },
  {
   "cell_type": "code",
   "execution_count": null,
   "metadata": {
    "hidden": true
   },
   "outputs": [],
   "source": [
    "program_target(scope, fw_path)\n",
    "get_plot_trace()"
   ]
  },
  {
   "cell_type": "markdown",
   "metadata": {
    "heading_collapsed": true,
    "hidden": true
   },
   "source": [
    "## Final Set of Results"
   ]
  },
  {
   "cell_type": "markdown",
   "metadata": {
    "heading_collapsed": true,
    "hidden": true
   },
   "source": [
    "### XMEGA Results"
   ]
  },
  {
   "cell_type": "markdown",
   "metadata": {
    "hidden": true
   },
   "source": [
    "You should now have a trace like this:\n",
    "![XMEGA3](https://wiki.newae.com/images/5/5a/Jupyter_B2_XMEGA3.png)\n",
    "\n",
    "As you might expect, our 20 `nop` are happening roughly between samples 15 and 95. Our 10 `mul` are happening between samples 95 and 175 while our final set of `nop` are happening from about 175 to 205 samples. We can see that the `nop` instructions have slightly lower power consumption than the `mul` as well. "
   ]
  },
  {
   "cell_type": "markdown",
   "metadata": {
    "heading_collapsed": true,
    "hidden": true
   },
   "source": [
    "## Disconnecting from ChipWhisperer"
   ]
  },
  {
   "cell_type": "markdown",
   "metadata": {
    "hidden": true
   },
   "source": [
    "Now that we're done with the tutorial, we'll need to disconnect from ChipWhisperer, so that we can connect to it in a different tutorial:"
   ]
  },
  {
   "cell_type": "code",
   "execution_count": null,
   "metadata": {
    "hidden": true
   },
   "outputs": [],
   "source": [
    "scope.dis()\n",
    "target.dis()"
   ]
  },
  {
   "cell_type": "markdown",
   "metadata": {
    "heading_collapsed": true,
    "hidden": true
   },
   "source": [
    "## Conclusion"
   ]
  },
  {
   "cell_type": "markdown",
   "metadata": {
    "hidden": true
   },
   "source": [
    "In this tutorial you have learned how power analysis can tell you the operations being performed on a microcontroller. In future work we will move towards using this for breaking various forms of security on devices. In particular, Tutorial B3-1 will examine how we can use this information to exploit a password check."
   ]
  }
 ],
 "metadata": {
  "kernelspec": {
   "display_name": "Python 2",
   "language": "python",
   "name": "python2"
  },
  "language_info": {
   "codemirror_mode": {
    "name": "ipython",
    "version": 2
   },
   "file_extension": ".py",
   "mimetype": "text/x-python",
   "name": "python",
   "nbconvert_exporter": "python",
   "pygments_lexer": "ipython2",
   "version": "2.7.14"
  },
  "toc": {
   "base_numbering": 1,
   "nav_menu": {},
   "number_sections": true,
   "sideBar": true,
   "skip_h1_title": false,
   "title_cell": "Table of Contents",
   "title_sidebar": "Contents",
   "toc_cell": false,
   "toc_position": {},
   "toc_section_display": true,
   "toc_window_display": true
  }
 },
 "nbformat": 4,
 "nbformat_minor": 2
}
