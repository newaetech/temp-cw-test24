{
 "cells": [
  {
   "cell_type": "markdown",
   "metadata": {},
   "source": [
    "## The CPA Attack Theory\n",
    "\n",
    "As a background on the CPA attack, please see the section [Correlation Power Analysis](https://wiki.newae.com/Correlation_Power_Analysis). It's assumed you've read that section and come back to this. Ok, you've done that? Good let's continue.\n",
    "\n",
    "Assuming you **actually** read that, it should be apparent that there is a few things we need to accomplish:\n",
    "\n",
    "1. Getting some power traces of our target while it's performing AES encryption.\n",
    "1. Reading the data, which consists of the analog waveform (trace) and input text sent to the encryption core\n",
    "1. Making the power leakage model, where it takes a known input text along with a guess of the key byte\n",
    "1. Implementing the correlation equation, and then looping through all the traces\n",
    "1. Ranking the output of the correlation equation to determine the most likely key.\n",
    "\n",
    "This tutorial will deal with both recording power traces using ChipWhisperer and breaking them using a CPA attack."
   ]
  },
  {
   "cell_type": "markdown",
   "metadata": {},
   "source": [
    "## Capturing Power Traces\n",
    "Capturing power traces will be very similar to previous tutorials, except this time we'll be using a loop to capture multiple traces, as well as numpy to store them."
   ]
  },
  {
   "cell_type": "code",
   "execution_count": null,
   "metadata": {},
   "outputs": [],
   "source": [
    "#import needed chipwhisperer modules\n",
    "from __future__ import division, print_function\n",
    "\n",
    "import time\n",
    "import os\n",
    "\n",
    "import numpy as np\n",
    "import matplotlib.pyplot as plt\n",
    "from datetime import datetime\n",
    "from tqdm import tqdm\n",
    "\n",
    "import chipwhisperer as cw\n",
    "from chipwhisperer.capture.acq_patterns.basic import AcqKeyTextPattern_Basic\n",
    "from chipwhisperer.tests.tools_for_tests import FIRMWARE_DIR\n",
    "from chipwhisperer.capture.api.programmers import XMEGAProgrammer"
   ]
  },
  {
   "cell_type": "code",
   "execution_count": null,
   "metadata": {},
   "outputs": [],
   "source": [
    "#connect to chipwhisperer\n",
    "scope = cw.scope()\n",
    "target = cw.target(scope)"
   ]
  },
  {
   "cell_type": "code",
   "execution_count": null,
   "metadata": {},
   "outputs": [],
   "source": [
    "# setup scope parameters\n",
    "scope.gain.gain = 45\n",
    "scope.adc.samples = 3000\n",
    "scope.adc.offset = 1250\n",
    "scope.adc.basic_mode = \"rising_edge\"\n",
    "scope.clock.clkgen_freq = 7370000\n",
    "scope.clock.adc_src = \"clkgen_x4\"\n",
    "scope.trigger.triggers = \"tio4\"\n",
    "scope.io.tio1 = \"serial_rx\"\n",
    "scope.io.tio2 = \"serial_tx\"\n",
    "scope.io.hs2 = \"clkgen\""
   ]
  },
  {
   "cell_type": "code",
   "execution_count": null,
   "metadata": {},
   "outputs": [],
   "source": [
    "%%bash\n",
    "cd ../../hardware/victims/firmware/simpleserial-aes\n",
    "make PLATFORM=CW303"
   ]
  },
  {
   "cell_type": "code",
   "execution_count": null,
   "metadata": {},
   "outputs": [],
   "source": [
    "# program the target\n",
    "programmer = XMEGAProgrammer()\n",
    "programmer.scope = scope\n",
    "programmer._logging = None\n",
    "programmer.find()\n",
    "programmer.erase()\n",
    "aes_firmware_dir = os.path.join(FIRMWARE_DIR, 'simpleserial-aes')\n",
    "aes_hex = os.path.join(aes_firmware_dir, r\"simpleserial-aes-CW303.hex\")\n",
    "programmer.program('../../hardware/victims/firmware/simpleserial-aes/simpleserial-aes-CW303.hex', memtype=\"flash\", verify=True)\n",
    "programmer.close()"
   ]
  },
  {
   "cell_type": "markdown",
   "metadata": {},
   "source": [
    "Below you can see the capture loop. The main body of the loop should look familliar from previous tutorials, except this time we'll be appending to the `traces` list at the end of every loop. At the end, we convert the trace data to numpy arrays, since that's what we'll be using for analysis."
   ]
  },
  {
   "cell_type": "code",
   "execution_count": null,
   "metadata": {},
   "outputs": [],
   "source": [
    "#Capture Traces\n",
    "ktp = AcqKeyTextPattern_Basic(target=target)\n",
    "\n",
    "traces = []\n",
    "textin = []\n",
    "keys = []\n",
    "N = 75  # Number of traces\n",
    "target.init()\n",
    "for i in tqdm(range(N), desc='Capturing traces'):\n",
    "    # run aux stuff that should come before trace here\n",
    "\n",
    "    key, text = ktp.newPair()  # manual creation of a key, text pair can be substituted here\n",
    "    textin.append(text)\n",
    "    keys.append(key)\n",
    "\n",
    "    #target.reinit()\n",
    "\n",
    "    target.setModeEncrypt()  # only does something for targets that support it\n",
    "    target.loadEncryptionKey(key)\n",
    "    target.loadInput(text)\n",
    "\n",
    "    # run aux stuff that should run before the scope arms here\n",
    "\n",
    "    scope.arm()\n",
    "\n",
    "    # run aux stuff that should run after the scope arms here\n",
    "\n",
    "    target.go()\n",
    "    timeout = 50\n",
    "    # wait for target to finish\n",
    "    while target.isDone() is False and timeout:\n",
    "        timeout -= 1\n",
    "        time.sleep(0.01)\n",
    "\n",
    "    try:\n",
    "        ret = scope.capture()\n",
    "        if ret:\n",
    "            print('Timeout happened during acquisition')\n",
    "    except IOError as e:\n",
    "        print('IOError: %s' % str(e))\n",
    "\n",
    "    # run aux stuff that should happen after trace here\n",
    "    _ = target.readOutput()  # clears the response from the serial port\n",
    "    traces.append(scope.getLastTrace())\n",
    "\n",
    "#Convert traces to numpy arrays\n",
    "trace_array = np.asarray(traces)  # if you prefer to work with numpy array for number crunching\n",
    "textin_array = np.asarray(textin)\n",
    "known_keys = np.asarray(keys)  # for fixed key, these keys are all the same"
   ]
  },
  {
   "cell_type": "markdown",
   "metadata": {},
   "source": [
    "If you want to save your traces for later analysis, here's how:\n",
    "```python\n",
    "now = datetime.now()\n",
    "fmt_string = '{:02}{:02}_{}.npy'\n",
    "trace_file_path = fmt_string.format(now.hour, now.minute, \"traces\")\n",
    "textin_file_path = fmt_string.format(now.hour, now.minute, \"textins\")\n",
    "keys_file_path = fmt_string.format(now.hour, now.minute, \"keys\")\n",
    "\n",
    "print('Saving results to {},{} and {}...'.format(trace_file_path, textin_file_path, keys_file_path), end='')\n",
    "# save to a files for later processing\n",
    "np.save(trace_file_path, trace_array)\n",
    "np.save(textin_file_path, textin_array)\n",
    "np.save(keys_file_path, known_keys)\n",
    "print('Done')\n",
    "```"
   ]
  },
  {
   "cell_type": "code",
   "execution_count": null,
   "metadata": {},
   "outputs": [],
   "source": [
    "# cleanup the connection to the target and scope\n",
    "scope.dis()\n",
    "target.dis()"
   ]
  }
 ],
 "metadata": {
  "kernelspec": {
   "display_name": "Python 2",
   "language": "python",
   "name": "python2"
  },
  "language_info": {
   "codemirror_mode": {
    "name": "ipython",
    "version": 2
   },
   "file_extension": ".py",
   "mimetype": "text/x-python",
   "name": "python",
   "nbconvert_exporter": "python",
   "pygments_lexer": "ipython2",
   "version": "2.7.14"
  },
  "toc": {
   "base_numbering": 1,
   "nav_menu": {},
   "number_sections": true,
   "sideBar": true,
   "skip_h1_title": false,
   "title_cell": "Table of Contents",
   "title_sidebar": "Contents",
   "toc_cell": false,
   "toc_position": {},
   "toc_section_display": true,
   "toc_window_display": false
  }
 },
 "nbformat": 4,
 "nbformat_minor": 2
}
