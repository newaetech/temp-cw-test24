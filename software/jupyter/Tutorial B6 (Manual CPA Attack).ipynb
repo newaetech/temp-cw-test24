{
 "cells": [
  {
   "cell_type": "markdown",
   "metadata": {},
   "source": [
    "## The CPA Attack Theory\n",
    "\n",
    "As a background on the CPA attack, please see the section [Correlation Power Analysis](https://wiki.newae.com/Correlation_Power_Analysis). It's assumed you've read that section and come back to this. Ok, you've done that? Good let's continue.\n",
    "\n",
    "Assuming you **actually** read that, it should be apparent that there is a few things we need to accomplish:\n",
    "\n",
    "1. Getting some power traces of our target while it's performing AES encryption.\n",
    "1. Reading the data, which consists of the analog waveform (trace) and input text sent to the encryption core\n",
    "1. Making the power leakage model, where it takes a known input text along with a guess of the key byte\n",
    "1. Implementing the correlation equation, and then looping through all the traces\n",
    "1. Ranking the output of the correlation equation to determine the most likely key.\n",
    "\n",
    "This tutorial will deal with both recording power traces using ChipWhisperer and breaking them using a CPA attack."
   ]
  },
  {
   "cell_type": "markdown",
   "metadata": {},
   "source": [
    "## Capturing Power Traces\n",
    "Capturing power traces will be very similar to previous tutorials, except this time we'll be using a loop to capture multiple traces, as well as numpy to store them."
   ]
  },
  {
   "cell_type": "code",
   "execution_count": 7,
   "metadata": {},
   "outputs": [],
   "source": [
    "#import needed chipwhisperer modules\n",
    "from __future__ import division, print_function\n",
    "\n",
    "import time\n",
    "import os\n",
    "\n",
    "import numpy as np\n",
    "import matplotlib.pyplot as plt\n",
    "from datetime import datetime\n",
    "from tqdm import tqdm\n",
    "\n",
    "import chipwhisperer as cw\n",
    "from chipwhisperer.capture.acq_patterns.basic import AcqKeyTextPattern_Basic\n",
    "from chipwhisperer.tests.tools_for_tests import FIRMWARE_DIR\n",
    "from chipwhisperer.capture.api.programmers import XMEGAProgrammer"
   ]
  },
  {
   "cell_type": "code",
   "execution_count": 8,
   "metadata": {},
   "outputs": [],
   "source": [
    "#connect to chipwhisperer\n",
    "scope = cw.scope()\n",
    "target = cw.target(scope)"
   ]
  },
  {
   "cell_type": "code",
   "execution_count": 9,
   "metadata": {},
   "outputs": [],
   "source": [
    "# setup scope parameters\n",
    "scope.gain.gain = 45\n",
    "scope.adc.samples = 3000\n",
    "scope.adc.offset = 1250\n",
    "scope.adc.basic_mode = \"rising_edge\"\n",
    "scope.clock.clkgen_freq = 7370000\n",
    "scope.clock.adc_src = \"clkgen_x4\"\n",
    "scope.trigger.triggers = \"tio4\"\n",
    "scope.io.tio1 = \"serial_rx\"\n",
    "scope.io.tio2 = \"serial_tx\"\n",
    "scope.io.hs2 = \"clkgen\""
   ]
  },
  {
   "cell_type": "code",
   "execution_count": null,
   "metadata": {},
   "outputs": [],
   "source": [
    "%%bash\n",
    "cd ../../hardware/victims/firmware/simpleserial-aes\n",
    "make PLATFORM=CW303"
   ]
  },
  {
   "cell_type": "code",
   "execution_count": 10,
   "metadata": {},
   "outputs": [
    {
     "name": "stdout",
     "output_type": "stream",
     "text": [
      "XMEGA Programming flash...\n",
      "XMEGA Reading flash...\n",
      "Verified flash OK, 3481 bytes\n"
     ]
    }
   ],
   "source": [
    "# program the target\n",
    "programmer = XMEGAProgrammer()\n",
    "programmer.scope = scope\n",
    "programmer._logging = None\n",
    "programmer.find()\n",
    "programmer.erase()\n",
    "aes_firmware_dir = os.path.join(FIRMWARE_DIR, 'simpleserial-aes')\n",
    "aes_hex = os.path.join(aes_firmware_dir, r\"simpleserial-aes-CW303.hex\")\n",
    "programmer.program('../../hardware/victims/firmware/simpleserial-aes/simpleserial-aes-CW303.hex', memtype=\"flash\", verify=True)\n",
    "programmer.close()"
   ]
  },
  {
   "cell_type": "markdown",
   "metadata": {},
   "source": [
    "Below you can see the capture loop. The main body of the loop should look familliar from previous tutorials, except this time we'll be appending to the `traces` list at the end of every loop. At the end, we convert the trace data to numpy arrays, since that's what we'll be using for analysis."
   ]
  },
  {
   "cell_type": "code",
   "execution_count": 11,
   "metadata": {},
   "outputs": [
    {
     "name": "stderr",
     "output_type": "stream",
     "text": [
      "Capturing traces: 100%|██████████| 50/50 [00:09<00:00,  5.06it/s]\n"
     ]
    }
   ],
   "source": [
    "#Capture Traces\n",
    "ktp = AcqKeyTextPattern_Basic(target=target)\n",
    "\n",
    "traces = []\n",
    "textin = []\n",
    "keys = []\n",
    "N = 50  # Number of traces\n",
    "target.init()\n",
    "for i in tqdm(range(N), desc='Capturing traces'):\n",
    "    # run aux stuff that should come before trace here\n",
    "\n",
    "    key, text = ktp.newPair()  # manual creation of a key, text pair can be substituted here\n",
    "    textin.append(text)\n",
    "    keys.append(key)\n",
    "\n",
    "    #target.reinit()\n",
    "\n",
    "    target.setModeEncrypt()  # only does something for targets that support it\n",
    "    target.loadEncryptionKey(key)\n",
    "    target.loadInput(text)\n",
    "\n",
    "    # run aux stuff that should run before the scope arms here\n",
    "\n",
    "    scope.arm()\n",
    "\n",
    "    # run aux stuff that should run after the scope arms here\n",
    "\n",
    "    target.go()\n",
    "    timeout = 50\n",
    "    # wait for target to finish\n",
    "    while target.isDone() is False and timeout:\n",
    "        timeout -= 1\n",
    "        time.sleep(0.01)\n",
    "\n",
    "    try:\n",
    "        ret = scope.capture()\n",
    "        if ret:\n",
    "            print('Timeout happened during acquisition')\n",
    "    except IOError as e:\n",
    "        print('IOError: %s' % str(e))\n",
    "\n",
    "    # run aux stuff that should happen after trace here\n",
    "    _ = target.readOutput()  # clears the response from the serial port\n",
    "    traces.append(scope.getLastTrace())\n",
    "\n",
    "#Convert traces to numpy arrays\n",
    "trace_array = np.asarray(traces)  # if you prefer to work with numpy array for number crunching\n",
    "textin_array = np.asarray(textin)\n",
    "known_keys = np.asarray(keys)  # for fixed key, these keys are all the same"
   ]
  },
  {
   "cell_type": "markdown",
   "metadata": {},
   "source": [
    "If you want to save your traces for later analysis, here's how:\n",
    "```python\n",
    "now = datetime.now()\n",
    "fmt_string = '{:02}{:02}_{}.npy'\n",
    "trace_file_path = fmt_string.format(now.hour, now.minute, \"traces\")\n",
    "textin_file_path = fmt_string.format(now.hour, now.minute, \"textins\")\n",
    "keys_file_path = fmt_string.format(now.hour, now.minute, \"keys\")\n",
    "\n",
    "print('Saving results to {},{} and {}...'.format(trace_file_path, textin_file_path, keys_file_path), end='')\n",
    "# save to a files for later processing\n",
    "np.save(trace_file_path, trace_array)\n",
    "np.save(textin_file_path, textin_array)\n",
    "np.save(keys_file_path, known_keys)\n",
    "print('Done')\n",
    "```"
   ]
  },
  {
   "cell_type": "code",
   "execution_count": 12,
   "metadata": {},
   "outputs": [
    {
     "data": {
      "image/png": "[encoded data removed]",
      "text/plain": [
       "<Figure size 432x288 with 1 Axes>"
      ]
     },
     "metadata": {
      "needs_background": "light"
     },
     "output_type": "display_data"
    }
   ],
   "source": [
    "\n",
    "# cleanup the connection to the target and scope\n",
    "scope.dis()\n",
    "target.dis()"
   ]
  },
  {
   "cell_type": "markdown",
   "metadata": {},
   "source": [
    "## Using the Trace Data\n",
    "Now that we have some traces, let's look at what we've actually recorded. Looking at the earlier parts of the script, we can see that the trace data is in trace_array, while textin_array stores what we sent to our target to be encrypted. For now, let's get some basic information (the total number of traces, as well as the number of sample points in each trace) about the traces, since we'll need that later:"
   ]
  },
  {
   "cell_type": "code",
   "execution_count": null,
   "metadata": {},
   "outputs": [],
   "source": [
    "numtraces = np.shape(trace_array)[0] #total number of traces\n",
    "numpoints = np.shape(trace_array)[1] #samples per trace"
   ]
  },
  {
   "cell_type": "markdown",
   "metadata": {},
   "source": [
    "## Analysis\n",
    "Now that we have some power traces of our target that we can use, we can move on to the next steps of our attack. Looking way back to how AES works, remember we are effectively attemping to target the position at the bottom of this figure:\n",
    "\n",
    "![title](https://wiki.newae.com/images/7/71/Sbox_cpa_detail.png)\n",
    "\n",
    "The objective is thus to determine the output of the S-Box, where the S-Box is defined as follows:"
   ]
  },
  {
   "cell_type": "code",
   "execution_count": null,
   "metadata": {},
   "outputs": [],
   "source": [
    "sbox = (\n",
    "    0x63, 0x7c, 0x77, 0x7b, 0xf2, 0x6b, 0x6f, 0xc5, 0x30, 0x01, 0x67, 0x2b, 0xfe, 0xd7, 0xab, 0x76,\n",
    "    0xca, 0x82, 0xc9, 0x7d, 0xfa, 0x59, 0x47, 0xf0, 0xad, 0xd4, 0xa2, 0xaf, 0x9c, 0xa4, 0x72, 0xc0,\n",
    "    0xb7, 0xfd, 0x93, 0x26, 0x36, 0x3f, 0xf7, 0xcc, 0x34, 0xa5, 0xe5, 0xf1, 0x71, 0xd8, 0x31, 0x15,\n",
    "    0x04, 0xc7, 0x23, 0xc3, 0x18, 0x96, 0x05, 0x9a, 0x07, 0x12, 0x80, 0xe2, 0xeb, 0x27, 0xb2, 0x75,\n",
    "    0x09, 0x83, 0x2c, 0x1a, 0x1b, 0x6e, 0x5a, 0xa0, 0x52, 0x3b, 0xd6, 0xb3, 0x29, 0xe3, 0x2f, 0x84,\n",
    "    0x53, 0xd1, 0x00, 0xed, 0x20, 0xfc, 0xb1, 0x5b, 0x6a, 0xcb, 0xbe, 0x39, 0x4a, 0x4c, 0x58, 0xcf,\n",
    "    0xd0, 0xef, 0xaa, 0xfb, 0x43, 0x4d, 0x33, 0x85, 0x45, 0xf9, 0x02, 0x7f, 0x50, 0x3c, 0x9f, 0xa8,\n",
    "    0x51, 0xa3, 0x40, 0x8f, 0x92, 0x9d, 0x38, 0xf5, 0xbc, 0xb6, 0xda, 0x21, 0x10, 0xff, 0xf3, 0xd2,\n",
    "    0xcd, 0x0c, 0x13, 0xec, 0x5f, 0x97, 0x44, 0x17, 0xc4, 0xa7, 0x7e, 0x3d, 0x64, 0x5d, 0x19, 0x73,\n",
    "    0x60, 0x81, 0x4f, 0xdc, 0x22, 0x2a, 0x90, 0x88, 0x46, 0xee, 0xb8, 0x14, 0xde, 0x5e, 0x0b, 0xdb,\n",
    "    0xe0, 0x32, 0x3a, 0x0a, 0x49, 0x06, 0x24, 0x5c, 0xc2, 0xd3, 0xac, 0x62, 0x91, 0x95, 0xe4, 0x79,\n",
    "    0xe7, 0xc8, 0x37, 0x6d, 0x8d, 0xd5, 0x4e, 0xa9, 0x6c, 0x56, 0xf4, 0xea, 0x65, 0x7a, 0xae, 0x08,\n",
    "    0xba, 0x78, 0x25, 0x2e, 0x1c, 0xa6, 0xb4, 0xc6, 0xe8, 0xdd, 0x74, 0x1f, 0x4b, 0xbd, 0x8b, 0x8a,\n",
    "    0x70, 0x3e, 0xb5, 0x66, 0x48, 0x03, 0xf6, 0x0e, 0x61, 0x35, 0x57, 0xb9, 0x86, 0xc1, 0x1d, 0x9e,\n",
    "    0xe1, 0xf8, 0x98, 0x11, 0x69, 0xd9, 0x8e, 0x94, 0x9b, 0x1e, 0x87, 0xe9, 0xce, 0x55, 0x28, 0xdf,\n",
    "    0x8c, 0xa1, 0x89, 0x0d, 0xbf, 0xe6, 0x42, 0x68, 0x41, 0x99, 0x2d, 0x0f, 0xb0, 0x54, 0xbb, 0x16)"
   ]
  },
  {
   "cell_type": "markdown",
   "metadata": {},
   "source": [
    "Thus we need to write a function taking a single byte of input, a single byte of the guessed key, and return the output of the S-Box:"
   ]
  },
  {
   "cell_type": "code",
   "execution_count": null,
   "metadata": {},
   "outputs": [],
   "source": [
    "def intermediate(pt, keyguess):\n",
    "    return sbox[pt ^ keyguess]"
   ]
  },
  {
   "cell_type": "markdown",
   "metadata": {},
   "source": [
    "Finally, remember we want the Hamming Weight of the guess. Our assumption is that the system is leaking the Hamming Weight of the output of that S-Box. As a dumb solution, we could first convert every number to binary and count the 1's:\n",
    "\n",
    "```python\n",
    ">>> bin(0x1F)\n",
    "'0b11111'\n",
    ">>> bin(0x1F).count('1')\n",
    "5\n",
    "```\n",
    "This will ultimately be fairly slow. Instead we make a lookup table using this idea:"
   ]
  },
  {
   "cell_type": "code",
   "execution_count": null,
   "metadata": {},
   "outputs": [],
   "source": [
    "HW = [bin(n).count(\"1\") for n in range(0, 256)]"
   ]
  },
  {
   "cell_type": "markdown",
   "metadata": {},
   "source": [
    "## Performing the Check\n",
    "Remember the objective is to calculate the following:\n",
    "$$r_{i,j} = \\frac{\\sum_{d=1}^{D}[(h_{d,i} - \\bar{h_i})(t_{d,j}-\\bar{t_j})]}{\\sqrt{\\sum_{d=1}^D(h_{d,i}-\\bar{h_i})^2\\sum_{d=1}^D(t_{d,j}-\\bar{t_j})^2}}$$\n",
    "\n",
    "Where\n",
    "\n",
    "| **Equation** | **Python Variable** |\n",
    "|--------------|---------------------|\n",
    "|  d           |       tnum          |\n",
    "|  i           |       kguess          |\n",
    "| j | j index trace point e.g.:traces[tnum[j]] |\n",
    "| h | hypint |\n",
    "| t | traces |\n",
    "\n",
    "It can be noticed there is effectively three sums, all sums are done over all traces. For this initial implementation we'll be explicitly calculating some of these sums, although it's faster to use NumPy to calculate across large arrays. We'll convert the equation into this format:\n",
    "\n",
    "$$r_{i,j}=\\frac{sumnum}{\\sqrt{snumden1 * sumden2}}$$\n",
    "\n",
    "Let's go ahead and implement this in Python. To begin with, we initialize those three sums to zero:"
   ]
  },
  {
   "cell_type": "code",
   "execution_count": null,
   "metadata": {},
   "outputs": [],
   "source": [
    "sumnum = np.zeros(numpoint)\n",
    "sumden1 = np.zeros(numpoint)\n",
    "sumden2 = np.zeros(numpoint)"
   ]
  },
  {
   "cell_type": "code",
   "execution_count": null,
   "metadata": {},
   "outputs": [],
   "source": [
    "\n",
    "\n",
    "# put the actual file names in here\n",
    "keys = known_keys#np.load('1147_keys.npy')\n",
    "textins = textin_array#np.load('1147_textins.npy')\n",
    "traces = trace_array #np.load('1147_traces.npy')\n",
    "\n",
    "knownkey = keys[0] # for fixed key they are all the same\n",
    "pt = textins\n",
    "numtraces = np.shape(traces)[0]\n",
    "numpoint = np.shape(traces)[1]\n",
    "\n",
    "bestguess = [0] * 16\n",
    "pge = [256] * 16\n",
    "for bnum in tqdm(range(0, 16), desc='Attacking subkeys'):\n",
    "    cpaoutput = [0] * 256\n",
    "    maxcpa = [0] * 256\n",
    "    for kguess in range(0, 256):\n",
    "\n",
    "        # Initialize arrays &amp; variables to zero\n",
    "        sumnum = np.zeros(numpoint)\n",
    "        sumden1 = np.zeros(numpoint)\n",
    "        sumden2 = np.zeros(numpoint)\n",
    "\n",
    "        hyp = np.zeros(numtraces)\n",
    "        for tnum in range(0, numtraces):\n",
    "            hyp[tnum] = HW[intermediate(pt[tnum][bnum], kguess)]\n",
    "\n",
    "        # Mean of hypothesis\n",
    "        meanh = np.mean(hyp, dtype=np.float64)\n",
    "\n",
    "        # Mean of all points in trace\n",
    "        meant = np.mean(traces, axis=0, dtype=np.float64)\n",
    "\n",
    "        # For each trace, do the following\n",
    "        for tnum in range(0, numtraces):\n",
    "            hdiff = (hyp[tnum] - meanh)\n",
    "            tdiff = traces[tnum, :] - meant\n",
    "\n",
    "            sumnum = sumnum + (hdiff * tdiff)\n",
    "            sumden1 = sumden1 + hdiff * hdiff\n",
    "            sumden2 = sumden2 + tdiff * tdiff\n",
    "\n",
    "        cpaoutput[kguess] = sumnum / np.sqrt(sumden1 * sumden2)\n",
    "        maxcpa[kguess] = max(abs(cpaoutput[kguess]))\n",
    "\n",
    "    bestguess[bnum] = np.argmax(maxcpa)\n",
    "\n",
    "    cparefs = np.argsort(maxcpa)[::-1]\n",
    "\n",
    "    # Find PGE\n",
    "    pge[bnum] = list(cparefs).index(knownkey[bnum])\n",
    "\n",
    "print(\"Best Key Guess: \", end=\"\")\n",
    "for b in bestguess: print(\"%02x \" % b, end=\"\")\n",
    "\n",
    "print(\"\")\n",
    "print(\"PGE: \", end=\"\")\n",
    "for b in pge: print(\"%02d \" % b, end=\"\")"
   ]
  },
  {
   "cell_type": "code",
   "execution_count": null,
   "metadata": {},
   "outputs": [],
   "source": []
  },
  {
   "cell_type": "code",
   "execution_count": null,
   "metadata": {},
   "outputs": [],
   "source": [
    "for b in knownkey: print(\"%02x \"%b, end=\"\")\n",
    "print(\"\\n\")\n",
    "if (knownkey == bestguess).all():\n",
    "    print(\"Guess was right\")\n",
    "else:\n",
    "    print(\"Guess was wrong\")"
   ]
  }
 ],
 "metadata": {
  "kernelspec": {
   "display_name": "Python 2",
   "language": "python",
   "name": "python2"
  },
  "language_info": {
   "codemirror_mode": {
    "name": "ipython",
    "version": 2
   },
   "file_extension": ".py",
   "mimetype": "text/x-python",
   "name": "python",
   "nbconvert_exporter": "python",
   "pygments_lexer": "ipython2",
   "version": "2.7.14"
  }
 },
 "nbformat": 4,
 "nbformat_minor": 2
}
