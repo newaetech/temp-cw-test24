{
 "cells": [
  {
   "cell_type": "code",
   "execution_count": null,
   "metadata": {},
   "outputs": [],
   "source": [
    "from chipwhisperer.capture.api.programmers import STM32FProgrammer\n",
    "def program_target(scope, fw_path):\n",
    "    programmer = STM32FProgrammer()\n",
    "    programmer.scope = scope\n",
    "    programmer._logging = None\n",
    "    programmer.small_blocks = True\n",
    "    programmer.open()\n",
    "    programmer.find()\n",
    "    programmer.erase()\n",
    "    programmer.program(fw_path, memtype=\"flash\", verify=True)\n",
    "    programmer.close()"
   ]
  }
 ],
 "metadata": {
  "kernelspec": {
   "display_name": "Python 3",
   "language": "python",
   "name": "python3"
  },
  "language_info": {
   "codemirror_mode": {
    "name": "ipython",
    "version": 3
   },
   "file_extension": ".py",
   "mimetype": "text/x-python",
   "name": "python",
   "nbconvert_exporter": "python",
   "pygments_lexer": "ipython3",
   "version": "3.6.6"
  },
  "toc": {
   "base_numbering": 1,
   "nav_menu": {},
   "number_sections": true,
   "sideBar": true,
   "skip_h1_title": false,
   "title_cell": "Table of Contents",
   "title_sidebar": "Contents",
   "toc_cell": false,
   "toc_position": {},
   "toc_section_display": true,
   "toc_window_display": false
  }
 },
 "nbformat": 4,
 "nbformat_minor": 2
}
