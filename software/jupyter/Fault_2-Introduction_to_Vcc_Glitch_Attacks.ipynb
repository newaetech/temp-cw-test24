{
 "cells": [
  {
   "cell_type": "markdown",
   "metadata": {
    "heading_collapsed": true
   },
   "source": [
    "# Introduction to Vcc Glitch Attacks"
   ]
  },
  {
   "cell_type": "markdown",
   "metadata": {
    "hidden": true
   },
   "source": [
    "**This tutorial assumes the following hardware setup:**\n",
    "* CW308_STM32F0 target\n",
    "* Short SMA cable between CWLite and CW308\n",
    "* 7.37MHz Xtal in X1 on CW308\n",
    "* CW308 J3 set to Crystal\n",
    "\n",
    "**This tutorial may be possible with other hardware setups, but workarounds may be needed**"
   ]
  },
  {
   "cell_type": "markdown",
   "metadata": {
    "heading_collapsed": true,
    "hidden": true
   },
   "source": [
    "## Background on Vcc (Power) Glitching"
   ]
  },
  {
   "cell_type": "markdown",
   "metadata": {
    "hidden": true
   },
   "source": [
    "The previous clock glitching tutorials looked into the assumption of a constant clock. But instead we can modify the voltage of the device, causing for example a failure to correctly read a memory location or otherwise cause havoc with the proper functioning.\n",
    "\n",
    "An example of a successful Vcc glitch is shown in the following figures (Vcc in blue, clock in red):\n",
    "\n",
    "![](https://wiki.newae.com/images/4/4f/Vccglitch_working.png)\n",
    "\n",
    "![](https://wiki.newae.com/images/6/60/Vccglitch_working_zoom.png)\n",
    "\n",
    "Like with clock glitching, Vcc glitching is highly sensitive to glitch offset and width. While the above glitch was successful, the following was not:\n",
    "\n",
    "![](https://wiki.newae.com/images/b/b6/Vccglitch_notworking_zoom.png)\n",
    "\n",
    "Vcc glitching is also very sensitive to the shape of the glitch: things like board layout and the distance between where the glitch is inserted and the target can make the difference between successful and unsuccessful glitches.\n",
    "\n",
    "Despite these additional complications, Vcc glitching is an extremely useful tool as it allows attacks on targets that do not run off of external clock inputs."
   ]
  },
  {
   "cell_type": "markdown",
   "metadata": {
    "heading_collapsed": true,
    "hidden": true
   },
   "source": [
    "### Background on Glitch Generation"
   ]
  },
  {
   "cell_type": "markdown",
   "metadata": {
    "hidden": true
   },
   "source": [
    "For more details, please see [Fault_1-Introduction_to_Clock_Glitching](Fault_1-Introduction_to_Clock_Glitch_Attacks.ipynb), this tutorials assumes you have already performed the clock glitching tutorial.\n",
    "\n",
    "The glitch generation hardware is the same as used in the clock glitching attack. The generated glitches are synchronous to the device clock, and inserted at a precise offset from the clock edge.\n",
    "\n",
    "Glitches can be inserted continuously or triggered by some event. The following figure shows the generation of two glitches:\n",
    "\n",
    "![](https://wiki.newae.com/images/9/95/Glitchgen-mux-glitchonly.png)\n",
    "\n",
    "The VCC glitching method here uses an electronic switch (a MOSFET) to short the power line to GND at specific instances. The following figure shows the basic function of this system:\n",
    "\n",
    "![](https://wiki.newae.com/images/8/82/Glitch-vccglitcher.png)\n",
    "\n",
    "This method allows use with the standard side-channel analysis development board, which has resistors inserted into the VCC lines already. The downside of this method is that it can only generate short glitches, since the power consumption through the shunt resistor will short out the resistor.\n",
    "\n",
    "The MOSFET glitching hardware is built into the ChipWhisperer-Lite (both CW1173 and CW1180) board. The ChipWhisperer-Capture Rev2 uses an external VCC glitching board."
   ]
  },
  {
   "cell_type": "markdown",
   "metadata": {
    "heading_collapsed": true,
    "hidden": true
   },
   "source": [
    "## Setting up Firmware"
   ]
  },
  {
   "cell_type": "markdown",
   "metadata": {
    "hidden": true
   },
   "source": [
    "During this tutorial, we will once again be working off the `glitch-simple` project. We'll start by creating a new firmware project:"
   ]
  },
  {
   "cell_type": "code",
   "execution_count": null,
   "metadata": {
    "hidden": true
   },
   "outputs": [],
   "source": [
    "%%bash\n",
    "cd ../../hardware/victims/firmware/\n",
    "mkdir -p glitch-simple-lab2 && cp -r glitch-simple/* $_"
   ]
  },
  {
   "cell_type": "markdown",
   "metadata": {
    "hidden": true
   },
   "source": [
    "For this tutorial we'll be using the STM32F0 target, since that board often works well for Vcc glitching."
   ]
  },
  {
   "cell_type": "code",
   "execution_count": null,
   "metadata": {
    "hidden": true
   },
   "outputs": [],
   "source": [
    "PLATFORM = \"CW308_STM32F0\"\n",
    "CRYPTO_TARGET=\"NONE\""
   ]
  },
  {
   "cell_type": "markdown",
   "metadata": {
    "hidden": true
   },
   "source": [
    "Now navigate to the `glitch-simple-lab2` folder and open `glitchsimple.c` in a code editor. Find the `glitch_infinite()` function:\n",
    "\n",
    "```C\n",
    "void glitch_infinite(void)\n",
    "{\n",
    "    char str[64];\n",
    "    unsigned int k = 0;\n",
    "    //Declared volatile to avoid optimizing away loop.\n",
    "    //This also adds lots of SRAM access\n",
    "    volatile uint16_t i, j;\n",
    "    volatile uint32_t cnt;\n",
    "    while(1){\n",
    "        cnt = 0;\n",
    "        trigger_high();\n",
    "        trigger_low();\n",
    "        for(i=0; i<200; i++){\n",
    "            for(j=0; j<200; j++){\n",
    "                cnt++;\n",
    "            }\n",
    "        }\n",
    "        sprintf(str, \"%lu %d %d %d\\n\", cnt, i, j, k++);\n",
    "        uart_puts(str);\n",
    "    }\n",
    "}\n",
    "```\n",
    "\n",
    "As you can see, this function enters into an infinite loop with two inner loops that increment three variables (`cnt`, `i`, and `j`).  These are sent back over serial along with an overall loop counter. During normal operation, we should receive `40000 200 200 $k` (where `$k` is the value of the loop counter `k`). Our objective will be to insert a Vcc glitch such that one or more of the numbers that we get back are incorrect.\n",
    "\n",
    "Navigate to `main()` and change the `glitch1()` call to instead call `glitch_infinite()`. The below block will also do this:"
   ]
  },
  {
   "cell_type": "code",
   "execution_count": null,
   "metadata": {
    "hidden": true
   },
   "outputs": [],
   "source": [
    "%%bash\n",
    "# replaces glitch1() with glitch3()\n",
    "cd ../../hardware/victims/firmware/glitch-simple-lab2\n",
    "awk '{gsub(/glitch1\\(\\)/, \"glitch_infinite\\(\\)\")}1' glitchsimple.c > tmp.c 2>/dev/null\n",
    "rm glitchsimple.c\n",
    "mv tmp.c glitchsimple.c"
   ]
  },
  {
   "cell_type": "markdown",
   "metadata": {
    "hidden": true
   },
   "source": [
    "Then build the firmware:"
   ]
  },
  {
   "cell_type": "code",
   "execution_count": null,
   "metadata": {
    "hidden": true
   },
   "outputs": [],
   "source": [
    "%%bash -s \"$PLATFORM\" \"$CRYPTO_TARGET\"\n",
    "cd ../../hardware/victims/firmware/glitch-simple-lab2\n",
    "make PLATFORM=$1 CRYPTO_TARGET=$2"
   ]
  },
  {
   "cell_type": "markdown",
   "metadata": {
    "heading_collapsed": true,
    "hidden": true
   },
   "source": [
    "## Attack Script"
   ]
  },
  {
   "cell_type": "markdown",
   "metadata": {
    "heading_collapsed": true,
    "hidden": true
   },
   "source": [
    "### Setup"
   ]
  },
  {
   "cell_type": "markdown",
   "metadata": {
    "hidden": true
   },
   "source": [
    "Now that we've studied the code and have an objective, we can start building our attack script. We'll start by connecting to and setting up the ChipWhisperer, then programming it. As usual, make sure you modify `fw_path` with the path to the file you built in the last step."
   ]
  },
  {
   "cell_type": "code",
   "execution_count": null,
   "metadata": {
    "hidden": true
   },
   "outputs": [],
   "source": [
    "%run \"Helper_Scripts/CWLite_Connect.ipynb\""
   ]
  },
  {
   "cell_type": "code",
   "execution_count": null,
   "metadata": {
    "hidden": true
   },
   "outputs": [],
   "source": [
    "%run \"Helper_Scripts/Setup_Target_Generic.ipynb\""
   ]
  },
  {
   "cell_type": "code",
   "execution_count": null,
   "metadata": {
    "hidden": true
   },
   "outputs": [],
   "source": [
    "# uncomment based on your target\n",
    "fw_path = \"../../hardware/victims/firmware/glitch-simple-lab2/glitchsimple-CW308_STM32F0.hex\"\n",
    "%run \"Helper_Scripts/Program_STM.ipynb\"\n",
    "#%run \"Helper_Scripts/Program_STM.ipynb\"\n",
    "#%run \"Helper_Scripts/No_Programmer.ipynb\""
   ]
  },
  {
   "cell_type": "code",
   "execution_count": null,
   "metadata": {
    "hidden": true
   },
   "outputs": [],
   "source": [
    "program_target(scope, fw_path)"
   ]
  },
  {
   "cell_type": "markdown",
   "metadata": {
    "hidden": true
   },
   "source": [
    "Like with clock glitching, Vcc glitching may crash the target, requiring a reset:"
   ]
  },
  {
   "cell_type": "code",
   "execution_count": null,
   "metadata": {
    "hidden": true
   },
   "outputs": [],
   "source": [
    "import time\n",
    "def reset_target(scope):\n",
    "    scope.io.nrst = 'low'\n",
    "    #scope.io.pdic = 'low'\n",
    "    time.sleep(0.05)\n",
    "    scope.io.nrst = 'high'\n",
    "    #scope.io.pdic = 'high'"
   ]
  },
  {
   "cell_type": "markdown",
   "metadata": {
    "hidden": true
   },
   "source": [
    "Now that we have some of the basic setup done, let's make sure the firmware works as we expect. If we reset the target and wait a second, then print the serial data we got back, we should see a number of lines of the form `40000 200 200 $k`."
   ]
  },
  {
   "cell_type": "code",
   "execution_count": null,
   "metadata": {
    "hidden": true
   },
   "outputs": [],
   "source": [
    "reset_target(scope)\n",
    "target.ser.flush()\n",
    "time.sleep(1)\n",
    "num_char = target.ser.inWaiting()\n",
    "resp = target.ser.read(num_char)\n",
    "print(resp)"
   ]
  },
  {
   "cell_type": "markdown",
   "metadata": {
    "heading_collapsed": true,
    "hidden": true
   },
   "source": [
    "### Glitch Setup"
   ]
  },
  {
   "cell_type": "markdown",
   "metadata": {
    "hidden": true
   },
   "source": [
    "Since Vcc glitching requires greater precision than clock glitching, we'll need to take a different approach than we did with the last tutorial. \n",
    "\n",
    "Our first major change is to the clock of the ChipWhisperer. Instead of running at 7.37MHz, we'll instead run at a much higher clock rate (257.95MHz or 35\\*7.37MHz). This will give us much better control over the width, shape, and placement of our glitches. Real targets often have their own indepentent clock setup anyway, so this isn't an obstacle to a real attack.\n",
    "\n",
    "Note that this clock frequency is higher than the ADC on the ChipWhisperer-Lite can run off of, so you'll likely see the red ADC DCM Lock Failed LED on your ChipWhisperer light up."
   ]
  },
  {
   "cell_type": "code",
   "execution_count": null,
   "metadata": {
    "hidden": true
   },
   "outputs": [],
   "source": [
    "scope.clock.clkgen_freq = 257950000"
   ]
  },
  {
   "cell_type": "markdown",
   "metadata": {
    "hidden": true
   },
   "source": [
    "Next, we'll setup the glitch module itself. Most of these settings should look familiar from the previous tutorial with a few new additions:\n",
    "\n",
    "* Instead of setting the clock source for the target to be the glitch module, we instead set the low power MOSFET's input to be the glitch module by setting `scope.io.glitch_lp` to `True`. The ChipWhisperer-Lite also has a high power MOSFET, but we won't be using that in this tutorial.\n",
    "* Instead of setting the glitch output to something like \"clock_xor\", we instead set it to \"glitch_only\", since we don't want Vcc of the target to be oscillating with our clock.\n",
    "\n",
    "These settings work well with the CW308_STM32F0 target, but other targets will likely require different settings."
   ]
  },
  {
   "cell_type": "code",
   "execution_count": null,
   "metadata": {
    "hidden": true
   },
   "outputs": [],
   "source": [
    "scope.glitch.clk_src = \"clkgen\"\n",
    "scope.glitch.output = \"glitch_only\"\n",
    "scope.glitch.trigger_src = \"ext_single\"\n",
    "scope.glitch.width = 29\n",
    "scope.glitch.offset = 10\n",
    "scope.glitch.repeat = 14\n",
    "scope.io.glitch_lp = True\n",
    "print(scope.glitch)"
   ]
  },
  {
   "cell_type": "markdown",
   "metadata": {
    "heading_collapsed": true,
    "hidden": true
   },
   "source": [
    "### Glitching a Single Point"
   ]
  },
  {
   "cell_type": "markdown",
   "metadata": {
    "hidden": true
   },
   "source": [
    "Unlike with the previous tutorial, we don't control when the device sends serial data back to us. This means we'll need to parse the data we get back. To make things a little simpler, we'll start off by attacking a single point multiple times."
   ]
  },
  {
   "cell_type": "code",
   "execution_count": null,
   "metadata": {
    "hidden": true
   },
   "outputs": [],
   "source": [
    "scope.glitch.ext_offset = 2180"
   ]
  },
  {
   "cell_type": "markdown",
   "metadata": {
    "hidden": true
   },
   "source": [
    "We start our attack off by flushing the ChipWhipserer's serial buffer:\n",
    "\n",
    "```Python\n",
    "target.ser.flush()\n",
    "```\n",
    "\n",
    "Next, we'll set our trigger source to be \"ext_continuous\". This differs from \"ext_single\" in that the ChipWhisperer doesn't need to be armed to insert a glitch, making our loop a little simpler:\n",
    "\n",
    "```Python\n",
    "scope.glitch.trigger_src = \"ext_continuous\"\n",
    "```\n",
    "\n",
    "A key part of parsing the serial data is to be able to read a line of data (data terminated with \"\\n\"). We can do that by reading back data until we get a newline character (\"\\n\"):\n",
    "\n",
    "```Python\n",
    "while \"\\n\" not in line:\n",
    "    time.sleep(0.1)\n",
    "    num_char = target.ser.inWaiting()\n",
    "    line += target.ser.read(num_char)\n",
    "```\n",
    "\n",
    "This needs to be repeated twice in our loop: once at the start to make sure we're on a newline (so we don't look at the wrong numbers for our glitch) and again to actually read the line. For the first read, we also need to make sure we keep any characters after the newline, as this will be the start of the actual line we parse. All together, this looks like:\n",
    "\n",
    "```Python\n",
    "line = \"\"\n",
    "while \"\\n\" not in line:\n",
    "    time.sleep(0.1)\n",
    "    num_char = target.ser.inWaiting()\n",
    "    line += target.ser.read(num_char)\n",
    "lines = line.split(\"\\n\") \n",
    "if len(lines) > 1:\n",
    "    line = lines[-1]\n",
    "else:\n",
    "    line = \"\"\n",
    "\n",
    "while \"\\n\" not in line:\n",
    "    time.sleep(0.1)\n",
    "    num_char = target.ser.inWaiting()\n",
    "    line += target.ser.read(num_char)\n",
    "```\n",
    "\n",
    "Now that we have our line of data we can parse it by splitting it up via spaces to get each number. \n",
    "\n",
    "After the loop ends, we'll need to set our trigger back to \"ext_single\" to stop the glitches from continuing.\n",
    "\n",
    "All together (with some additional error checking), this looks like:"
   ]
  },
  {
   "cell_type": "code",
   "execution_count": null,
   "metadata": {
    "hidden": true
   },
   "outputs": [],
   "source": [
    "from tqdm import tnrange\n",
    "reset_target(scope)\n",
    "target.ser.flush()\n",
    "#scope.glitch.trigger_src = \"ext_single\"\n",
    "scope.glitch.trigger_src = \"ext_continuous\"\n",
    "\n",
    "for j in tnrange(100):\n",
    "    line = \"\"\n",
    "    while \"\\n\" not in line:\n",
    "        time.sleep(0.1)\n",
    "        num_char = target.ser.inWaiting()\n",
    "        line += target.ser.read(num_char)\n",
    "    lines = line.split(\"\\n\") \n",
    "    if len(lines) > 1:\n",
    "        line = lines[-1]\n",
    "    else:\n",
    "        line = \"\"\n",
    "    \n",
    "    while \"\\n\" not in line:\n",
    "        time.sleep(0.1)\n",
    "        num_char = target.ser.inWaiting()\n",
    "        line += target.ser.read(num_char)\n",
    "    \n",
    "    nums = line.split(\" \")\n",
    "    if nums[0] == \"\":\n",
    "        continue\n",
    "    if int(nums[0]) != 40000:\n",
    "        print(line)\n",
    "    \n",
    "scope.glitch.trigger_src = \"ext_single\""
   ]
  },
  {
   "cell_type": "markdown",
   "metadata": {
    "hidden": true
   },
   "source": [
    "You should see one or two lines printed above. If not, don't worry: we'll be changing the loop to scan offsets, making the glitch more reliable.\n",
    "\n",
    "Adding the ability to scan ext_offset is pretty simple. We really just need to put the code we had before into another loop:"
   ]
  },
  {
   "cell_type": "code",
   "execution_count": null,
   "metadata": {
    "hidden": true
   },
   "outputs": [],
   "source": [
    "from tqdm import tnrange\n",
    "target.ser.flush()\n",
    "for ext in tnrange(2316, 2319, desc=\"Ext offset\"):\n",
    "    scope.glitch.ext_offset = ext\n",
    "    target.ser.flush()\n",
    "    scope.glitch.trigger_src = \"ext_continuous\"\n",
    "\n",
    "    for j in tnrange(100, leave=False, desc=\"Glitch attempt\"):\n",
    "        line = \"\"\n",
    "        while \"\\n\" not in line:\n",
    "            time.sleep(0.1)\n",
    "            num_char = target.ser.inWaiting()\n",
    "            if num_char == 0:\n",
    "                reset_target(scope)\n",
    "                target.ser.flush()\n",
    "                continue\n",
    "            line += target.ser.read(num_char)\n",
    "        lines = line.split(\"\\n\") \n",
    "        if len(lines) > 1:\n",
    "            line = lines[-1]\n",
    "        else:\n",
    "            line = \"\"\n",
    "\n",
    "        while \"\\n\" not in line:\n",
    "            time.sleep(0.1)\n",
    "            num_char = target.ser.inWaiting()\n",
    "            if num_char == 0:\n",
    "                reset_target(scope)\n",
    "                target.ser.flush()\n",
    "                continue\n",
    "            line += target.ser.read(num_char)\n",
    "\n",
    "        nums = line.split(\" \")\n",
    "        if int(nums[0]) != 40000:\n",
    "            print(\"Glitched @ {}\".format(ext))\n",
    "            print(\"Text: \" + line)\n",
    "        elif len(nums) > 1 and int(nums[1]) != 200:\n",
    "            print(\"Glitched @ {}\".format(ext))\n",
    "            print(\"Text: \" + line)\n",
    "        elif len(nums) > 2 and int(nums[2]) != 200:\n",
    "            print(\"Glitched @ {}\".format(ext))\n",
    "            print(\"Text: \" + line)\n",
    "        #t.update()\n",
    "        #print(line, end = \"\")\n",
    "\n",
    "    scope.glitch.trigger_src = \"ext_single\"\n",
    "    \n",
    "#t.close()"
   ]
  },
  {
   "cell_type": "markdown",
   "metadata": {
    "hidden": true
   },
   "source": [
    "There's a few good ranges you can try here that may produce different results:\n",
    "* [2036, 2038]\n",
    "* [2180, 2182]\n",
    "\n",
    "These ranges all only affect the first number, so you may also want to try a large ext offset range to try to get even more glitch effects.\n",
    "\n",
    "The tutorial is now done, so we'll disconnect from the ChipWhisperer:"
   ]
  },
  {
   "cell_type": "code",
   "execution_count": null,
   "metadata": {
    "hidden": true
   },
   "outputs": [],
   "source": [
    "scope.dis()\n",
    "target.dis()"
   ]
  },
  {
   "cell_type": "markdown",
   "metadata": {
    "heading_collapsed": true,
    "hidden": true
   },
   "source": [
    "## Conclusion"
   ]
  },
  {
   "cell_type": "markdown",
   "metadata": {
    "hidden": true
   },
   "source": [
    "With the tutorial now finished, you should have some Vcc glitching experience under your belt. If you're interested in doing more Vcc glitching, you may want to try [Tutorial A9](https://wiki.newae.com/Tutorial_A9_Bypassing_LPC1114_Read_Protect) from the ChipWhisperer Wiki, which uses Vcc glitching to bypass code readout protection on an LPC1114 (requires an LPC1114 dev board). You may also want to try glitching some of the other functions in `glitchsimple.c`. If you have a Raspberry Pi, you can also attempt the attack described [here](https://wiki.newae.com/Tutorial_A3_VCC_Glitch_Attacks#Glitching_More_Advanced_Targets:_Raspberry_Pi) (though you'll need to transfer the steps from the old GUI over to Jupyter)."
   ]
  },
  {
   "cell_type": "code",
   "execution_count": null,
   "metadata": {
    "hidden": true
   },
   "outputs": [],
   "source": []
  }
 ],
 "metadata": {
  "kernelspec": {
   "display_name": "Python 3",
   "language": "python",
   "name": "python3"
  },
  "language_info": {
   "codemirror_mode": {
    "name": "ipython",
    "version": 3
   },
   "file_extension": ".py",
   "mimetype": "text/x-python",
   "name": "python",
   "nbconvert_exporter": "python",
   "pygments_lexer": "ipython3",
   "version": "3.7.1"
  },
  "toc": {
   "base_numbering": 1,
   "nav_menu": {},
   "number_sections": true,
   "sideBar": true,
   "skip_h1_title": true,
   "title_cell": "Table of Contents",
   "title_sidebar": "Contents",
   "toc_cell": false,
   "toc_position": {
    "height": "calc(100% - 180px)",
    "left": "10px",
    "top": "150px",
    "width": "384px"
   },
   "toc_section_display": true,
   "toc_window_display": true
  }
 },
 "nbformat": 4,
 "nbformat_minor": 2
}
