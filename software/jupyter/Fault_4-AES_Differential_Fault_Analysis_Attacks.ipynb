{
 "cells": [
  {
   "cell_type": "markdown",
   "metadata": {},
   "source": [
    "# Tutorial: Recovering an AES key by Differential Fault Analysis attack\n",
    "This tutorial will introduce you to the Differential Fault Analysis (DFA) attack. It will show you how to configure the XMEGA target to perform AES encryptions, how to glitch the encryption operations and introduce errors in the computed ciphertext and finally how to process these glitched ciphertexts to extract the AES key. This can be used as how-to for attacking other targets as well.\n",
    "\n",
    "Original author: [@doegox](https://twitter.com/doegox)  \n",
    "License: CC-BY-SA  \n",
    "Improvements are welcome!"
   ]
  },
  {
   "cell_type": "markdown",
   "metadata": {},
   "source": [
    "## Prerequisites"
   ]
  },
  {
   "cell_type": "markdown",
   "metadata": {},
   "source": [
    "### On giants' shoulders\n",
    "This tutorial is the first to deal with DFA, nevertheless it was not designed from scratch.\n",
    "It relies on multiple sources we strongly encourage your to read as well for a better understanding of the details.\n",
    "\n",
    "* The `simpleserial-aes-CW303` target firmware, which contains the software AES implementation used in other side-channel analysis tutorials such as [Using CW Analyzer for CPA Attack](PA_CPA_1-Using_CW-Analyzer_for_CPA_Attack.ipynb). This is the implementation we will attack.\n",
    "* The glitching tutorials:\n",
    "  * [Introduction to Glitch Attacks](Fault_1-Introduction_to_Clock_Glitch_Attacks.ipynb), useful to understand the hardware implementation of the glitching module\n",
    "  * [Tutorial CW305-3 Clock Glitching (wiki)](https://wiki.newae.com/Tutorial_CW305-3_Clock_Glitching) which also presented briefly the principles of glitching AES, but without exploiting the faults\n",
    "* The DFA attack itself: there is no DFA cryptanalysis code in the Chipwhisperer but we'll re-use a Python library the author of this tutorial wrote for attacking white-box implementations. It's called `phoenixAES` and it is available on [Github](https://github.com/SideChannelMarvels/JeanGrey) and on PyPI."
   ]
  },
  {
   "cell_type": "markdown",
   "metadata": {},
   "source": [
    "### Brief introduction to Differential Fault Analysis\n",
    "We'll only describe the general principle and the operational constraints.\n",
    "\n",
    "The principle is to repeat the same AES operation over and over and to glitch its intermediate operations to get an output cryptographically incorrect. There are many DFA algorithms which, depending on the nature of the fault (single bit?, single byte?, how many faulted outputs can we collect?...), are able to recover the last round key of the AES with various computations that may be quite intensive.\n",
    "\n",
    "This tutorial covers the recovering of the key of a simple AES-128 encryption.\n",
    "\n",
    "We'll use a quite simple DFA published initially by Dusart, Letourneux and Vivolo in 2002 which has nice properties. For a mathematical deep-dive of the DFA we're using in this tutorial, you can read [Differential Fault Analysis on White-box AES Implementations](https://blog.quarkslab.com/differential-fault-analysis-on-white-box-aes-implementations.html) as we will use the exact same DFA library. Moreover, the blog post explains how to tackle DFA against AES decryption and how to attack more than one round, which is required to attack AES-192 or AES-256.\n",
    "\n",
    "AES-128 is made of 10 rounds, the last one is missing the *MixColumn* operation, the only operation which brings diffusion, i.e. it's an operation which makes a single byte of one round state affecting multiple bytes in the next round, 4 bytes to be exact.\n",
    "\n",
    "![aes_operations.png](img/aes_operations.png)\n",
    "(source: http://www.iis.ee.ethz.ch/~kgf/acacia/fig/aes.png)\n",
    "\n",
    "So, if we inject a fault which affects a single byte between the last two *MixColumn* operations, it will propagate and 4 of the 16 output bytes will be wrong. We don't need to know precisely where we inject our faults, we can simply observe the output and look for a 4-byte fault with one of the 4 possible patterns. The attack is *differential* because we observe the difference between the correct output and the faulty outputs.\n",
    "We'll save you the maths but with 2 such faults on the same column, there is a high probability to recover a quarter of the round key, so with 4\\*2 faults we can recover the entire round key. And because the AES keyschedule is invertible, we can compute it backwards and recover the first round key, which is by definition equal to the AES-128 key.\n",
    "\n",
    "So, our operational constraints are quite simple: be able to run several times the same AES encryption, with the same key (doh!) and the same plaintext input and be able to collect the ciphertexts. Note that technically we don't need to know the value of the plaintext, we only need it to be constant."
   ]
  },
  {
   "cell_type": "markdown",
   "metadata": {},
   "source": [
    "### Installing dependencies\n",
    "\n",
    "Firstly, let's install `phoenixAES` in the current kernel environment:"
   ]
  },
  {
   "cell_type": "code",
   "execution_count": 1,
   "metadata": {},
   "outputs": [
    {
     "name": "stdout",
     "output_type": "stream",
     "text": [
      "Collecting phoenixAES\n",
      "  Using cached https://files.pythonhosted.org/packages/b1/83/828b76e81678d039b42c2e22223a46c67b5845e0add95bec192640b3567d/phoenixAES-0.0.2-py3-none-any.whl\n",
      "Installing collected packages: phoenixAES\n",
      "Successfully installed phoenixAES-0.0.2\n"
     ]
    }
   ],
   "source": [
    "import sys\n",
    "!{sys.executable} -m pip install phoenixAES"
   ]
  },
  {
   "cell_type": "markdown",
   "metadata": {},
   "source": [
    "## Target\n",
    "\n",
    "### Which target?\n",
    "\n",
    "Let's recap. This tutorial is specifically focusing on:\n",
    "* AES-128 encryption\n",
    "* the Chipwhisperer Lite ARM XMEGA target\n",
    "* the AVR crypto lib software implementation of AES\n",
    "* clock glitching\n",
    "\n",
    "Other targets and AES implementations should be equally working as well as power glitching. Obviously the glitching parameters will have to be adapted to the corresponding target, which is often not that straightforward.  \n",
    "\n",
    "Even if you run this tutorial on the same Chipwhisperer Lite target hardware, you might have to alter slightly the glitching parameters to be able to get working glitches. Glitching is so sensitive that running twice the exact same attack hardly produce the exact same results."
   ]
  },
  {
   "cell_type": "markdown",
   "metadata": {},
   "source": [
    "### Building the target firmware\n",
    "\n",
    "If you have the `avr-gcc` toolchain installed, you should be able to build the `simpleserial-aes-CW303` firmware:"
   ]
  },
  {
   "cell_type": "code",
   "execution_count": 2,
   "metadata": {},
   "outputs": [],
   "source": [
    "PLATFORM = \"CW303\"\n",
    "CRYPTO_TARGET = \"AVRCRYPTOLIB\""
   ]
  },
  {
   "cell_type": "code",
   "execution_count": 3,
   "metadata": {
    "scrolled": false
   },
   "outputs": [
    {
     "name": "stdout",
     "output_type": "stream",
     "text": [
      "rm -f -- simpleserial-aes-CW303.hex\n",
      "rm -f -- simpleserial-aes-CW303.eep\n",
      "rm -f -- simpleserial-aes-CW303.cof\n",
      "rm -f -- simpleserial-aes-CW303.elf\n",
      "rm -f -- simpleserial-aes-CW303.map\n",
      "rm -f -- simpleserial-aes-CW303.sym\n",
      "rm -f -- simpleserial-aes-CW303.lss\n",
      "rm -f -- objdir/*.o\n",
      "rm -f -- objdir/*.lst\n",
      "rm -f -- simpleserial-aes.s simpleserial.s XMEGA_AES_driver.s uart.s usart_driver.s xmega_hal.s aes-independant.s aes_enc.s aes_keyschedule.s aes_sbox.s aes128_enc.s\n",
      "rm -f -- simpleserial-aes.d simpleserial.d XMEGA_AES_driver.d uart.d usart_driver.d xmega_hal.d aes-independant.d aes_enc.d aes_keyschedule.d aes_sbox.d aes128_enc.d\n",
      "rm -f -- simpleserial-aes.i simpleserial.i XMEGA_AES_driver.i uart.i usart_driver.i xmega_hal.i aes-independant.i aes_enc.i aes_keyschedule.i aes_sbox.i aes128_enc.i\n",
      ".\n",
      "-------- begin --------\n",
      "avr-gcc (GCC) 5.4.0\n",
      "Copyright (C) 2015 Free Software Foundation, Inc.\n",
      "This is free software; see the source for copying conditions.  There is NO\n",
      "warranty; not even for MERCHANTABILITY or FITNESS FOR A PARTICULAR PURPOSE.\n",
      "\n",
      ".\n",
      "Compiling C: simpleserial-aes.c\n",
      "avr-gcc -c -mmcu=atxmega128d3 -I. -fpack-struct -gdwarf-2 -DSS_VER=SS_VER_1_1 -DHAL_TYPE=HAL_xmega -DPLATFORM=CW303 -DAVRCRYPTOLIB -DF_CPU=7372800UL -Os -funsigned-char -funsigned-bitfields -fshort-enums -Wall -Wstrict-prototypes -Wa,-adhlns=objdir/simpleserial-aes.lst -I.././simpleserial/ -I.././hal -I.././hal/xmega -I.././crypto/ -I.././crypto/avrcryptolib//aes -I.././crypto/avrcryptolib//gf256mul -std=gnu99 -MMD -MP -MF .dep/simpleserial-aes.o.d simpleserial-aes.c -o objdir/simpleserial-aes.o \n",
      ".\n",
      "Compiling C: .././simpleserial/simpleserial.c\n",
      "avr-gcc -c -mmcu=atxmega128d3 -I. -fpack-struct -gdwarf-2 -DSS_VER=SS_VER_1_1 -DHAL_TYPE=HAL_xmega -DPLATFORM=CW303 -DAVRCRYPTOLIB -DF_CPU=7372800UL -Os -funsigned-char -funsigned-bitfields -fshort-enums -Wall -Wstrict-prototypes -Wa,-adhlns=objdir/simpleserial.lst -I.././simpleserial/ -I.././hal -I.././hal/xmega -I.././crypto/ -I.././crypto/avrcryptolib//aes -I.././crypto/avrcryptolib//gf256mul -std=gnu99 -MMD -MP -MF .dep/simpleserial.o.d .././simpleserial/simpleserial.c -o objdir/simpleserial.o \n",
      ".\n",
      "Compiling C: .././hal/xmega/XMEGA_AES_driver.c\n",
      "avr-gcc -c -mmcu=atxmega128d3 -I. -fpack-struct -gdwarf-2 -DSS_VER=SS_VER_1_1 -DHAL_TYPE=HAL_xmega -DPLATFORM=CW303 -DAVRCRYPTOLIB -DF_CPU=7372800UL -Os -funsigned-char -funsigned-bitfields -fshort-enums -Wall -Wstrict-prototypes -Wa,-adhlns=objdir/XMEGA_AES_driver.lst -I.././simpleserial/ -I.././hal -I.././hal/xmega -I.././crypto/ -I.././crypto/avrcryptolib//aes -I.././crypto/avrcryptolib//gf256mul -std=gnu99 -MMD -MP -MF .dep/XMEGA_AES_driver.o.d .././hal/xmega/XMEGA_AES_driver.c -o objdir/XMEGA_AES_driver.o \n",
      ".\n",
      "Compiling C: .././hal/xmega/uart.c\n",
      "avr-gcc -c -mmcu=atxmega128d3 -I. -fpack-struct -gdwarf-2 -DSS_VER=SS_VER_1_1 -DHAL_TYPE=HAL_xmega -DPLATFORM=CW303 -DAVRCRYPTOLIB -DF_CPU=7372800UL -Os -funsigned-char -funsigned-bitfields -fshort-enums -Wall -Wstrict-prototypes -Wa,-adhlns=objdir/uart.lst -I.././simpleserial/ -I.././hal -I.././hal/xmega -I.././crypto/ -I.././crypto/avrcryptolib//aes -I.././crypto/avrcryptolib//gf256mul -std=gnu99 -MMD -MP -MF .dep/uart.o.d .././hal/xmega/uart.c -o objdir/uart.o \n",
      ".\n",
      "Compiling C: .././hal/xmega/usart_driver.c\n",
      "avr-gcc -c -mmcu=atxmega128d3 -I. -fpack-struct -gdwarf-2 -DSS_VER=SS_VER_1_1 -DHAL_TYPE=HAL_xmega -DPLATFORM=CW303 -DAVRCRYPTOLIB -DF_CPU=7372800UL -Os -funsigned-char -funsigned-bitfields -fshort-enums -Wall -Wstrict-prototypes -Wa,-adhlns=objdir/usart_driver.lst -I.././simpleserial/ -I.././hal -I.././hal/xmega -I.././crypto/ -I.././crypto/avrcryptolib//aes -I.././crypto/avrcryptolib//gf256mul -std=gnu99 -MMD -MP -MF .dep/usart_driver.o.d .././hal/xmega/usart_driver.c -o objdir/usart_driver.o \n",
      ".\n",
      "Compiling C: .././hal/xmega/xmega_hal.c\n",
      "avr-gcc -c -mmcu=atxmega128d3 -I. -fpack-struct -gdwarf-2 -DSS_VER=SS_VER_1_1 -DHAL_TYPE=HAL_xmega -DPLATFORM=CW303 -DAVRCRYPTOLIB -DF_CPU=7372800UL -Os -funsigned-char -funsigned-bitfields -fshort-enums -Wall -Wstrict-prototypes -Wa,-adhlns=objdir/xmega_hal.lst -I.././simpleserial/ -I.././hal -I.././hal/xmega -I.././crypto/ -I.././crypto/avrcryptolib//aes -I.././crypto/avrcryptolib//gf256mul -std=gnu99 -MMD -MP -MF .dep/xmega_hal.o.d .././hal/xmega/xmega_hal.c -o objdir/xmega_hal.o \n",
      ".\n",
      "Compiling C: .././crypto/aes-independant.c\n",
      "avr-gcc -c -mmcu=atxmega128d3 -I. -fpack-struct -gdwarf-2 -DSS_VER=SS_VER_1_1 -DHAL_TYPE=HAL_xmega -DPLATFORM=CW303 -DAVRCRYPTOLIB -DF_CPU=7372800UL -Os -funsigned-char -funsigned-bitfields -fshort-enums -Wall -Wstrict-prototypes -Wa,-adhlns=objdir/aes-independant.lst -I.././simpleserial/ -I.././hal -I.././hal/xmega -I.././crypto/ -I.././crypto/avrcryptolib//aes -I.././crypto/avrcryptolib//gf256mul -std=gnu99 -MMD -MP -MF .dep/aes-independant.o.d .././crypto/aes-independant.c -o objdir/aes-independant.o \n",
      ".\n",
      "Compiling C: .././crypto/avrcryptolib//aes/aes_enc.c\n",
      "avr-gcc -c -mmcu=atxmega128d3 -I. -fpack-struct -gdwarf-2 -DSS_VER=SS_VER_1_1 -DHAL_TYPE=HAL_xmega -DPLATFORM=CW303 -DAVRCRYPTOLIB -DF_CPU=7372800UL -Os -funsigned-char -funsigned-bitfields -fshort-enums -Wall -Wstrict-prototypes -Wa,-adhlns=objdir/aes_enc.lst -I.././simpleserial/ -I.././hal -I.././hal/xmega -I.././crypto/ -I.././crypto/avrcryptolib//aes -I.././crypto/avrcryptolib//gf256mul -std=gnu99 -MMD -MP -MF .dep/aes_enc.o.d .././crypto/avrcryptolib//aes/aes_enc.c -o objdir/aes_enc.o \n",
      ".\n",
      "Compiling C: .././crypto/avrcryptolib//aes/aes_keyschedule.c\n",
      "avr-gcc -c -mmcu=atxmega128d3 -I. -fpack-struct -gdwarf-2 -DSS_VER=SS_VER_1_1 -DHAL_TYPE=HAL_xmega -DPLATFORM=CW303 -DAVRCRYPTOLIB -DF_CPU=7372800UL -Os -funsigned-char -funsigned-bitfields -fshort-enums -Wall -Wstrict-prototypes -Wa,-adhlns=objdir/aes_keyschedule.lst -I.././simpleserial/ -I.././hal -I.././hal/xmega -I.././crypto/ -I.././crypto/avrcryptolib//aes -I.././crypto/avrcryptolib//gf256mul -std=gnu99 -MMD -MP -MF .dep/aes_keyschedule.o.d .././crypto/avrcryptolib//aes/aes_keyschedule.c -o objdir/aes_keyschedule.o \n",
      ".\n",
      "Compiling C: .././crypto/avrcryptolib//aes/aes_sbox.c\n",
      "avr-gcc -c -mmcu=atxmega128d3 -I. -fpack-struct -gdwarf-2 -DSS_VER=SS_VER_1_1 -DHAL_TYPE=HAL_xmega -DPLATFORM=CW303 -DAVRCRYPTOLIB -DF_CPU=7372800UL -Os -funsigned-char -funsigned-bitfields -fshort-enums -Wall -Wstrict-prototypes -Wa,-adhlns=objdir/aes_sbox.lst -I.././simpleserial/ -I.././hal -I.././hal/xmega -I.././crypto/ -I.././crypto/avrcryptolib//aes -I.././crypto/avrcryptolib//gf256mul -std=gnu99 -MMD -MP -MF .dep/aes_sbox.o.d .././crypto/avrcryptolib//aes/aes_sbox.c -o objdir/aes_sbox.o \n",
      ".\n",
      "Compiling C: .././crypto/avrcryptolib//aes/aes128_enc.c\n",
      "avr-gcc -c -mmcu=atxmega128d3 -I. -fpack-struct -gdwarf-2 -DSS_VER=SS_VER_1_1 -DHAL_TYPE=HAL_xmega -DPLATFORM=CW303 -DAVRCRYPTOLIB -DF_CPU=7372800UL -Os -funsigned-char -funsigned-bitfields -fshort-enums -Wall -Wstrict-prototypes -Wa,-adhlns=objdir/aes128_enc.lst -I.././simpleserial/ -I.././hal -I.././hal/xmega -I.././crypto/ -I.././crypto/avrcryptolib//aes -I.././crypto/avrcryptolib//gf256mul -std=gnu99 -MMD -MP -MF .dep/aes128_enc.o.d .././crypto/avrcryptolib//aes/aes128_enc.c -o objdir/aes128_enc.o \n",
      ".\n",
      "Assembling: .././crypto/avrcryptolib//gf256mul/gf256mul.S\n",
      "avr-gcc -c -mmcu=atxmega128d3 -I. -x assembler-with-cpp -DF_CPU=7372800 -Wa,-gstabs,-adhlns=objdir/gf256mul.lst -I.././simpleserial/ -I.././hal -I.././hal/xmega -I.././crypto/ -I.././crypto/avrcryptolib//aes -I.././crypto/avrcryptolib//gf256mul .././crypto/avrcryptolib//gf256mul/gf256mul.S -o objdir/gf256mul.o\n",
      ".\n",
      "Linking: simpleserial-aes-CW303.elf\n",
      "avr-gcc -mmcu=atxmega128d3 -I. -fpack-struct -gdwarf-2 -DSS_VER=SS_VER_1_1 -DHAL_TYPE=HAL_xmega -DPLATFORM=CW303 -DAVRCRYPTOLIB -DF_CPU=7372800UL -Os -funsigned-char -funsigned-bitfields -fshort-enums -Wall -Wstrict-prototypes -Wa,-adhlns=objdir/simpleserial-aes.o -I.././simpleserial/ -I.././hal -I.././hal/xmega -I.././crypto/ -I.././crypto/avrcryptolib//aes -I.././crypto/avrcryptolib//gf256mul -std=gnu99 -MMD -MP -MF .dep/simpleserial-aes-CW303.elf.d objdir/simpleserial-aes.o objdir/simpleserial.o objdir/XMEGA_AES_driver.o objdir/uart.o objdir/usart_driver.o objdir/xmega_hal.o objdir/aes-independant.o objdir/aes_enc.o objdir/aes_keyschedule.o objdir/aes_sbox.o objdir/aes128_enc.o objdir/gf256mul.o --output simpleserial-aes-CW303.elf -Wl,-Map=simpleserial-aes-CW303.map,--cref   -lm  \n",
      ".\n",
      "Creating load file for Flash: simpleserial-aes-CW303.hex\n",
      "avr-objcopy -O ihex -R .eeprom -R .fuse -R .lock -R .signature simpleserial-aes-CW303.elf simpleserial-aes-CW303.hex\n",
      ".\n",
      "Creating load file for EEPROM: simpleserial-aes-CW303.eep\n",
      "avr-objcopy -j .eeprom --set-section-flags=.eeprom=\"alloc,load\" \\\n",
      "--change-section-lma .eeprom=0 --no-change-warnings -O ihex simpleserial-aes-CW303.elf simpleserial-aes-CW303.eep || exit 0\n",
      ".\n",
      "Creating Extended Listing: simpleserial-aes-CW303.lss\n",
      "avr-objdump -h -S -z simpleserial-aes-CW303.elf > simpleserial-aes-CW303.lss\n",
      ".\n",
      "Creating Symbol Table: simpleserial-aes-CW303.sym\n",
      "avr-nm -n simpleserial-aes-CW303.elf > simpleserial-aes-CW303.sym\n",
      "Size after:\n",
      "   text\t   data\t    bss\t    dec\t    hex\tfilename\n",
      "   3244\t     32\t    228\t   3504\t    db0\tsimpleserial-aes-CW303.elf\n",
      "+--------------------------------------------------------\n",
      "+ Built for platform CW-Lite XMEGA\n",
      "+--------------------------------------------------------\n"
     ]
    }
   ],
   "source": [
    "%%bash -s \"$PLATFORM\" \"$CRYPTO_TARGET\"\n",
    "cd ../../hardware/victims/firmware/simpleserial-aes\n",
    "make PLATFORM=$1 CRYPTO_TARGET=$2"
   ]
  },
  {
   "cell_type": "markdown",
   "metadata": {},
   "source": [
    "## Attack setup"
   ]
  },
  {
   "cell_type": "markdown",
   "metadata": {},
   "source": [
    "### CW-lite connection and target flashing\n",
    "\n",
    "Connect to the Chipwhisperer:"
   ]
  },
  {
   "cell_type": "code",
   "execution_count": 4,
   "metadata": {},
   "outputs": [],
   "source": [
    "import chipwhisperer as cw\n",
    "scope = cw.scope()\n",
    "target = cw.target(scope)"
   ]
  },
  {
   "cell_type": "markdown",
   "metadata": {},
   "source": [
    "Setup default scope parameters:"
   ]
  },
  {
   "cell_type": "code",
   "execution_count": 5,
   "metadata": {},
   "outputs": [],
   "source": [
    "%run \"Helper_Scripts/Setup_Target_Generic.ipynb\""
   ]
  },
  {
   "cell_type": "markdown",
   "metadata": {},
   "source": [
    "Flash the target:"
   ]
  },
  {
   "cell_type": "code",
   "execution_count": 6,
   "metadata": {},
   "outputs": [
    {
     "name": "stdout",
     "output_type": "stream",
     "text": [
      "XMEGA Programming flash...\n",
      "XMEGA Reading flash...\n",
      "Verified flash OK, 3275 bytes\n"
     ]
    }
   ],
   "source": [
    "prog = cw.programmers.XMEGAProgrammer\n",
    "fw_path = \"../../hardware/victims/firmware/simpleserial-aes/simpleserial-aes-CW303.hex\"\n",
    "cw.programTarget(scope, prog, fw_path)"
   ]
  },
  {
   "cell_type": "markdown",
   "metadata": {},
   "source": [
    "### First execution\n",
    "\n",
    "For the DFA attack, we need a constant plaintext (and constant key of course).\n",
    "We could just use two bytearrays but let's use the CW API to demonstrate its usage.\n"
   ]
  },
  {
   "cell_type": "code",
   "execution_count": 7,
   "metadata": {},
   "outputs": [],
   "source": [
    "ktp = cw.ktp.Basic(target=target)\n",
    "ktp.setKeyType(ktp.types['Fixed'])\n",
    "ktp.setPlainType(ktp.types['Fixed'])\n",
    "# You can assign another key than the defaut key:\n",
    "ktp.setInitialKey(\"2b7e151628aed2a6abf7158809cf4f3c\")\n",
    "key, text = ktp.newPair()"
   ]
  },
  {
   "cell_type": "markdown",
   "metadata": {},
   "source": [
    "Assuming we want to record traces, let's capture the entire AES.  \n",
    "It's useful to see which round(s) we'll glitch by tuning `scope.glitch.ext_offset` later."
   ]
  },
  {
   "cell_type": "code",
   "execution_count": 8,
   "metadata": {},
   "outputs": [],
   "source": [
    "scope.clock.adc_src = \"clkgen_x1\"\n",
    "scope.adc.samples = 20000"
   ]
  },
  {
   "cell_type": "markdown",
   "metadata": {},
   "source": [
    "Let's test our setup with a first execution, without fault.\n",
    "It will give us the golden reference output."
   ]
  },
  {
   "cell_type": "code",
   "execution_count": 9,
   "metadata": {},
   "outputs": [
    {
     "name": "stdout",
     "output_type": "stream",
     "text": [
      "Plaintext: 000102030405060708090a0b0c0d0e0f\n",
      "Key:       2b7e151628aed2a6abf7158809cf4f3c\n",
      "Ciphertext:50fe67cc996d32b6da0937e99bafec60\n"
     ]
    }
   ],
   "source": [
    "# make sure glitches are disabled (in case cells are re-run)\n",
    "scope.io.hs2 = \"clkgen\"\n",
    "\n",
    "target.init()\n",
    "target.setModeEncrypt()\n",
    "target.loadEncryptionKey(key)\n",
    "target.loadInput(text)\n",
    "scope.arm()\n",
    "target.go()\n",
    "timeout = 50\n",
    "# wait for target to finish\n",
    "while target.isDone() is False and timeout:\n",
    "    timeout -= 1\n",
    "    time.sleep(0.01)\n",
    "ret = scope.capture()\n",
    "trace = scope.getLastTrace()\n",
    "goldciph = target.readOutput()\n",
    "print(\"Plaintext: {}\".format(text.hex()))\n",
    "print(\"Key:       {}\".format(key.hex()))\n",
    "print(\"Ciphertext:{}\".format(goldciph.hex()))"
   ]
  },
  {
   "cell_type": "markdown",
   "metadata": {},
   "source": [
    "Just to be sure, let's check..."
   ]
  },
  {
   "cell_type": "code",
   "execution_count": 10,
   "metadata": {},
   "outputs": [
    {
     "name": "stdout",
     "output_type": "stream",
     "text": [
      "Expected ciphertext:  50fe67cc996d32b6da0937e99bafec60\n"
     ]
    }
   ],
   "source": [
    "from Crypto.Cipher import AES\n",
    "aes = AES.new(bytes(key), AES.MODE_ECB)\n",
    "goldciph2 = aes.encrypt(bytes(text))\n",
    "print(\"Expected ciphertext:  {}\".format(goldciph2.hex()))"
   ]
  },
  {
   "cell_type": "markdown",
   "metadata": {},
   "source": [
    "Let's draw the full AES execution"
   ]
  },
  {
   "cell_type": "code",
   "execution_count": 11,
   "metadata": {},
   "outputs": [
    {
     "data": {
      "image/png": "[encoded data removed]",
      "text/plain": [
       "<matplotlib.figure.Figure at 0x7fbaafab4c50>"
      ]
     },
     "metadata": {
      "needs_background": "light"
     },
     "output_type": "display_data"
    }
   ],
   "source": [
    "%matplotlib inline\n",
    "import matplotlib.pyplot as plt\n",
    "plt.figure(figsize=(16,6))\n",
    "plt.plot(trace)\n",
    "\n",
    "# add boxes around last rounds\n",
    "plt.plot([12000, 12000, 13600, 13600, 12000], [-0.25, 0.25, 0.25, -0.25, -0.25], 'r:')\n",
    "plt.plot([13650, 13650, 15250, 15250, 13650], [-0.25, 0.25, 0.25, -0.25, -0.25], 'g:')\n",
    "plt.plot([15300, 15300, 16000, 16000, 15300], [-0.25, 0.25, 0.25, -0.25, -0.25], 'b:')\n",
    "from matplotlib.lines import Line2D\n",
    "custom_lines = [Line2D([0], [0], color='r', ls=':'),\n",
    "                Line2D([0], [0], color='g', ls=':'),\n",
    "                Line2D([0], [0], color='b', ls=':'),]\n",
    "plt.legend(custom_lines, ['8th round', '9th round', '10th round'])\n",
    "\n",
    "plt.show()"
   ]
  },
  {
   "cell_type": "markdown",
   "metadata": {},
   "source": [
    "We see clearly the 10 AES-128 rounds, the 10th round being smaller than the others as there is no *MixColumn*."
   ]
  },
  {
   "cell_type": "markdown",
   "metadata": {},
   "source": [
    "### First glitches"
   ]
  },
  {
   "cell_type": "markdown",
   "metadata": {},
   "source": [
    "To check the actual clock glitches with an oscilloscope, you can probe the XTal pad which is connected to R72 and run the following function to glitch all clock cycles during 2 seconds. Beware that the probe influences slightly the signal and it's enough to require a different tuning of the glitching parameters, so when you're attacking a target, do it all with or all without the oscilloscope but avoid messing up your setup!\n",
    "In this tutorial, parameters were tuned without attached probe. Still, your board might require slightly different values."
   ]
  },
  {
   "cell_type": "code",
   "execution_count": 12,
   "metadata": {},
   "outputs": [],
   "source": [
    "import time\n",
    "\n",
    "def test_glitches():\n",
    "    scope.io.hs2 = \"glitch\"\n",
    "    scope.glitch.clk_src = 'clkgen'\n",
    "    scope.glitch.width=3.5\n",
    "    scope.glitch.offset=34\n",
    "    scope.glitch.trigger_src='continuous'\n",
    "\n",
    "def stop_test_glitches():\n",
    "    scope.glitch.trigger_src='ext_single'\n",
    "\n",
    "test_glitches()\n",
    "time.sleep(2)\n",
    "stop_test_glitches()"
   ]
  },
  {
   "cell_type": "markdown",
   "metadata": {},
   "source": [
    "Here is an example of five glitched clock cycles as seen with an oscilloscope:\n",
    "![clock_glitches.png](img/clock_glitches.png)"
   ]
  },
  {
   "cell_type": "markdown",
   "metadata": {},
   "source": [
    "See how the actual width and offset values are rounded to the internal step values."
   ]
  },
  {
   "cell_type": "code",
   "execution_count": 13,
   "metadata": {},
   "outputs": [
    {
     "name": "stdout",
     "output_type": "stream",
     "text": [
      "clk_src     = clkgen\n",
      "width       = 3.515625\n",
      "width_fine  = 0\n",
      "offset      = 33.984375\n",
      "offset_fine = 0\n",
      "trigger_src = ext_single\n",
      "arm_timing  = after_scope\n",
      "ext_offset  = 0\n",
      "repeat      = 1\n",
      "output      = clock_xor\n",
      "\n"
     ]
    }
   ],
   "source": [
    "print(scope.glitch)"
   ]
  },
  {
   "cell_type": "markdown",
   "metadata": {},
   "source": [
    "Let's define a `MIN_STEP` equal to the internal step value, it'll be our \"unit\" width and offset step and other values will be rounded to the closest multiple."
   ]
  },
  {
   "cell_type": "code",
   "execution_count": 14,
   "metadata": {},
   "outputs": [],
   "source": [
    "MIN_STEP=25/64"
   ]
  },
  {
   "cell_type": "markdown",
   "metadata": {},
   "source": [
    "Let's see the effect of clock glitches on the AES execution."
   ]
  },
  {
   "cell_type": "code",
   "execution_count": 15,
   "metadata": {},
   "outputs": [],
   "source": [
    "# Initial glitch parameters\n",
    "scope.io.hs2 = \"glitch\"\n",
    "scope.glitch.clk_src = 'clkgen'\n",
    "scope.glitch.trigger_src = 'ext_single'\n",
    "scope.glitch.width = 6*MIN_STEP\n",
    "scope.glitch.offset = 34.5\n",
    "scope.glitch.ext_offset = 13400\n",
    "scope.glitch.repeat = 10\n",
    "\n",
    "# reset target\n",
    "scope.io.pdic = 'low'\n",
    "time.sleep(0.1)\n",
    "scope.io.pdic = 'high'\n",
    "\n",
    "# go!\n",
    "target.init()\n",
    "scope.arm()\n",
    "target.go()\n",
    "\n",
    "# wait for target to finish\n",
    "timeout = 50\n",
    "while target.isDone() is False and timeout:\n",
    "    timeout -= 1\n",
    "    time.sleep(0.01)\n",
    "\n",
    "# acquire the trace\n",
    "scope.capture()\n",
    "trace = scope.getLastTrace()"
   ]
  },
  {
   "cell_type": "code",
   "execution_count": 16,
   "metadata": {},
   "outputs": [
    {
     "data": {
      "image/png": "[encoded data removed]",
      "text/plain": [
       "<matplotlib.figure.Figure at 0x7fbac86c0898>"
      ]
     },
     "metadata": {
      "needs_background": "light"
     },
     "output_type": "display_data"
    }
   ],
   "source": [
    "%matplotlib inline\n",
    "import matplotlib.pyplot as plt\n",
    "plt.figure(figsize=(16,6))\n",
    "plt.plot(trace)\n",
    "plt.plot([scope.glitch.ext_offset, scope.glitch.ext_offset], [-0.5, 0.25], 'r:')\n",
    "plt.show()\n"
   ]
  },
  {
   "cell_type": "markdown",
   "metadata": {},
   "source": [
    "You should see a glitch in the power trace (blue) when the clock was glitched (red dotted line).  \n",
    "As said earlier, glitch parameters may have to be adapted to your specific hardware.  Our experience is that a good `scope.glitch.width` is one just a bit smaller than one producing a clearly visible glitch in the power trace. E.g. the trace above was created with `scope.glitch.width=6*MIN_STEP` and we'll use `scope.glitch.width=5*MIN_STEP` in our attack. If this is not precise enough, consider tuning `scope.glitch.width_fine` too."
   ]
  },
  {
   "cell_type": "markdown",
   "metadata": {},
   "source": [
    "### Campain setup\n",
    "Now, we'll prepare a campain of clock glitches to induce faults.\n",
    "\n",
    "The following code is a bit more complex than strictly needed but we want to be able to compute exactly how many executions will be performed depending on the ranges and steps of the variables we want to tune. This allows us to get a nice progress bar.  \n",
    "We'll sample three different axes:\n",
    "* `scope.glitch.width`: clock glitch width\n",
    "* `scope.glitch.offset`: clock glitch offset\n",
    "* `scope.glitch.ext_offset`: offset since the initial trigger (to target the last rounds)\n"
   ]
  },
  {
   "cell_type": "code",
   "execution_count": 17,
   "metadata": {},
   "outputs": [],
   "source": [
    "from collections import namedtuple\n",
    "# named tuples to make it easier to change the scope of the test\n",
    "Range = namedtuple('Range', ['min', 'max', 'step'])\n",
    "\n",
    "import math\n",
    "\n",
    "# get control over logging in order to be able to mask target execution errors,\n",
    "# which can easily happen when glitching the target!\n",
    "import logging\n",
    "logging.basicConfig(level=logging.WARN)\n",
    "\n",
    "# Let's be prepared for user-provided ranges: rounding and checking consistency by ourselves.\n",
    "def apply_ranges():\n",
    "    global width_range, width_range_steps\n",
    "    global offset_range, offset_range_steps\n",
    "    global extoffset_range, extoffset_range_steps\n",
    "    width_step_sign = width_range.step/abs(width_range.step)\n",
    "    offset_step_sign = offset_range.step/abs(offset_range.step)\n",
    "    width_range = Range(width_range.min, width_range.max, round(width_range.step / MIN_STEP) * MIN_STEP)\n",
    "    offset_range = Range(offset_range.min, offset_range.max, round(offset_range.step / MIN_STEP) * MIN_STEP)\n",
    "    if abs(width_range.step) < MIN_STEP:\n",
    "        step = width_step_sign*MIN_STEP\n",
    "        logging.error('width_range.step too small, adjusting to {}'.format(step))\n",
    "        width_range = Range(width_range.min, width_range.max, step)\n",
    "    if abs(offset_range.step) < MIN_STEP:\n",
    "        step = offset_step_sign*MIN_STEP\n",
    "        logging.error('offset_range.step too small, adjusting to {}'.format(step))\n",
    "        offset_range = Range(offset_range.min, offset_range.max, step)\n",
    "    width_range_steps = math.ceil((width_range.max-width_range.min)/width_range.step)\n",
    "    offset_range_steps = math.ceil((offset_range.max-offset_range.min)/offset_range.step)\n",
    "    extoffset_range_steps = math.ceil((extoffset_range.max-extoffset_range.min)/extoffset_range.step)\n",
    "    if width_range_steps < 0:\n",
    "        step = -width_range.step\n",
    "        logging.error('width_range.step has wrong sign, adjusting to {}'.format(step))\n",
    "        width_range = Range(width_range.min, width_range.max, step)\n",
    "        width_range_steps = -width_range_steps\n",
    "    if offset_range_steps < 0:\n",
    "        step = -offset_range.step\n",
    "        logging.error('offset_range.step has wrong sign, adjusting to {}'.format(step))\n",
    "        offset_range = Range(offset_range.min, offset_range.max, step)\n",
    "        offset_range_steps = -offset_range_steps\n",
    "    if extoffset_range_steps < 0:\n",
    "        step = -extoffset_range.step\n",
    "        logging.error('extoffset_range.step has wrong sign, adjusting to {}'.format(step))\n",
    "        extoffset_range = Range(extoffset_range.min, extoffset_range.max, step)\n",
    "        extoffset_range_steps = -extoffset_range_steps"
   ]
  },
  {
   "cell_type": "markdown",
   "metadata": {},
   "source": [
    "This is not strictly required for the tutorial but here are few global variables that you can tune to decide if, besides the DFA attack, you want also to:\n",
    "* `GLITCH_RESULTS_FILEPATH`: record the ciphertexts in a CSV file (string or None)\n",
    "* `TRACES_FILEPATH`: record the consumption traces in a Numpy file (string or None)\n",
    "\n",
    "The goal is to demonstrate various parts of the CW API that might help you debugging real-life DFA campains."
   ]
  },
  {
   "cell_type": "code",
   "execution_count": 18,
   "metadata": {},
   "outputs": [],
   "source": [
    "GLITCH_RESULTS_FILEPATH='/tmp/glitch_outputs.csv'\n",
    "TRACES_FILEPATH='/tmp/glitch_traces.npy'"
   ]
  },
  {
   "cell_type": "markdown",
   "metadata": {},
   "source": [
    "The next cell defines the glitches campain.    \n",
    "`traces` is the list of recorded traces, `output` the list of outputs, either errors (e.g. if the target crashed) or (faulty or correct) ciphertexts. To be able to display a table of the glitch results and the faulty ciphertexts, we'll store the interesting information in the list `results`."
   ]
  },
  {
   "cell_type": "code",
   "execution_count": 19,
   "metadata": {},
   "outputs": [],
   "source": [
    "def campain():\n",
    "    import time\n",
    "    global traces, outputs, results\n",
    "    traces = []\n",
    "    outputs = []\n",
    "    results = [['#', 'target output', 'width', 'offset', 'extoffset', 'interesting']]\n",
    "\n",
    "    # Initial glitch parameters\n",
    "    scope.io.hs2 = \"glitch\"\n",
    "    scope.glitch.clk_src = 'clkgen'\n",
    "    scope.glitch.trigger_src = 'ext_single'\n",
    "    scope.glitch.repeat = glitch_repeat\n",
    "    scope.glitch.width = width_range.min\n",
    "    scope.glitch.offset = offset_range.min\n",
    "    scope.glitch.ext_offset = extoffset_range.min\n",
    "\n",
    "    if GLITCH_RESULTS_FILEPATH is not None:\n",
    "        import csv\n",
    "        f = open(GLITCH_RESULTS_FILEPATH, 'w')\n",
    "        writer = csv.writer(f)\n",
    "\n",
    "    # campain loop with progress bar\n",
    "    from tqdm import tnrange, tqdm\n",
    "    for i in tqdm(range(width_range_steps*offset_range_steps*extoffset_range_steps), desc='Capturing traces', file=sys.stdout):\n",
    "\n",
    "        # reset target\n",
    "        scope.io.pdic = 'low'\n",
    "        time.sleep(0.1)\n",
    "        scope.io.pdic = 'high'\n",
    "\n",
    "        # not very useful in this case as we're using fixed key & text, but this demonstrates the API.\n",
    "        key, text = ktp.newPair()\n",
    "\n",
    "        # go!\n",
    "        target.init()\n",
    "        target.setModeEncrypt()\n",
    "        target.loadEncryptionKey(key)\n",
    "        target.loadInput(text)\n",
    "        scope.arm()\n",
    "        target.go()\n",
    "\n",
    "        # wait for target to finish\n",
    "        timeout = 50\n",
    "        while target.isDone() is False and timeout:\n",
    "            timeout -= 1\n",
    "            time.sleep(0.01)\n",
    "\n",
    "        # shall we acquire the trace?\n",
    "        if TRACES_FILEPATH is not None:\n",
    "            try:\n",
    "                ret = scope.capture()\n",
    "                if ret:\n",
    "                    logging.warning('Timeout happened during acquisition')\n",
    "            except IOError as e:\n",
    "                logging.error('IOError: %s' % str(e))\n",
    "            traces.append(scope.getLastTrace())\n",
    "\n",
    "        # read target output from the target's buffer\n",
    "        # we know it can fail, so let's silent warnings for now\n",
    "        logging.getLogger().setLevel(logging.ERROR)\n",
    "        output = target.readOutput()\n",
    "        logging.getLogger().setLevel(logging.WARN)\n",
    "\n",
    "        # at this stage, we consider any 32b output different from the reference as potentially interesting\n",
    "        interesting = output is not None and len(output) == 16 and output != goldciph\n",
    "\n",
    "        # let's record it\n",
    "        if output is not None and len(output) == 16:\n",
    "            r = bytes(output).hex()\n",
    "        else:\n",
    "            r = repr(output)\n",
    "        data = [i, r, scope.glitch.width, scope.glitch.offset, scope.glitch.ext_offset, interesting]\n",
    "        results.append(data)\n",
    "\n",
    "        if GLITCH_RESULTS_FILEPATH is not None:\n",
    "            writer.writerow(data)\n",
    "        if interesting:\n",
    "            outputs.append(output)\n",
    "\n",
    "        # loop update: compute next set of parameters\n",
    "        scope.glitch.ext_offset += extoffset_range.step\n",
    "        if scope.glitch.ext_offset >= extoffset_range.max:\n",
    "            scope.glitch.ext_offset = extoffset_range.min\n",
    "            scope.glitch.offset += offset_range.step\n",
    "            if scope.glitch.offset >= offset_range.max:\n",
    "                scope.glitch.offset = offset_range.min\n",
    "                scope.glitch.width += width_range.step\n",
    "\n",
    "    # we're done\n",
    "    if GLITCH_RESULTS_FILEPATH is not None:\n",
    "        f.close()\n",
    "\n",
    "    # optionally save traces to a file for later processing\n",
    "    if TRACES_FILEPATH is not None:\n",
    "        import numpy as np\n",
    "        trace_array = np.asarray(traces)\n",
    "        print()\n",
    "        print('Saving traces to {}'.format(TRACES_FILEPATH))\n",
    "        np.save(TRACES_FILEPATH, trace_array)"
   ]
  },
  {
   "cell_type": "markdown",
   "metadata": {},
   "source": [
    "## Attacking the 9th round"
   ]
  },
  {
   "cell_type": "markdown",
   "metadata": {},
   "source": [
    "### R9: Collecting faulty outputs\n",
    "\n",
    "In this attack, we'll try to glitch the 9th round:"
   ]
  },
  {
   "cell_type": "code",
   "execution_count": 20,
   "metadata": {},
   "outputs": [],
   "source": [
    "# for scope.glitch.width:\n",
    "width_range = Range(5*MIN_STEP, 6*MIN_STEP, MIN_STEP)\n",
    "# Example when applying an oscilloscope probe, its capacitance is cushioning glitches so we need to beef them\n",
    "#width_range = Range(9*MIN_STEP, 10*MIN_STEP, MIN_STEP)\n",
    "\n",
    "# for scope.glitch.offset:\n",
    "offset_range = Range(34.5, 35.5, MIN_STEP)\n",
    "\n",
    "# for scope.glitch.ext_offset:\n",
    "extoffset_range = Range(13400, 14300, 10)\n",
    "\n",
    "# for scope.glitch.repeat:\n",
    "glitch_repeat = 10\n",
    "\n",
    "apply_ranges()"
   ]
  },
  {
   "cell_type": "markdown",
   "metadata": {},
   "source": [
    "Yes, I know, `width_range` contains a single value in our setup, but at least you're ready for scanning more values!\n",
    "\n",
    "The next cell runs the glitches campain. Till you don't disconnect the Chipwhisperer, you can re-run the campain and analyze its results several times.  \n",
    "Even when the parameters are perfectly maintained, the glitch effects are never twice exactly the same and the results of our campains may vary quite a lot.  \n",
    "Adjust these parameters if you don't get proper results. Roughly:\n",
    "* Increase `scope.glitch.width` width and/or vary `scope.glitch.offset` if the output is never faulted\n",
    "* Decrease `scope.glitch.width` width and/or vary `scope.glitch.offset` if there is no output (target crashed)\n",
    "* Play also with `scope.glitch.width_fine` if needed\n",
    "* Avoid increasing too much `scope.glitch.repeat` as you don't want to inject mutiple faults affecting several bytes at once\n",
    "* Beware of the effect of an oscilloscope probe if you're monitoring the glitches\n",
    "\n",
    "The goal is to collect as many *interesting* outputs as possible. An *interesting* output at this stage is simply a 16-byte output different from the reference output.\n"
   ]
  },
  {
   "cell_type": "code",
   "execution_count": 21,
   "metadata": {},
   "outputs": [
    {
     "name": "stdout",
     "output_type": "stream",
     "text": [
      "Capturing traces: 100%|██████████| 270/270 [01:26<00:00,  2.74it/s]\n",
      "\n",
      "Saving traces to /tmp/glitch_traces.npy\n"
     ]
    }
   ],
   "source": [
    "campain()"
   ]
  },
  {
   "cell_type": "markdown",
   "metadata": {},
   "source": [
    "Let's see the results:"
   ]
  },
  {
   "cell_type": "code",
   "execution_count": 22,
   "metadata": {},
   "outputs": [
    {
     "name": "stdout",
     "output_type": "stream",
     "text": [
      "+-----+----------------------------------+----------+-----------+-----------+-------------+\n",
      "| #   | target output                    | width    | offset    | extoffset | interesting |\n",
      "+-----+----------------------------------+----------+-----------+-----------+-------------+\n",
      "| 0   | 50fe675f996dfdb6da4037e976afec60 | 1.953125 | 34.375    | 13400     | True        |\n",
      "| 1   | feb4ab74ec360dc1fe0a7157618d5bc6 | 1.953125 | 34.375    | 13410     | True        |\n",
      "| 2   | 50fe67cc996d32b6da0937e99bafec60 | 1.953125 | 34.375    | 13420     | False       |\n",
      "| 3   | 50fe67cc996d32b6da0937e99bafec60 | 1.953125 | 34.375    | 13430     | False       |\n",
      "| 4   | 50fe67cc996d32b6da0937e99bafec60 | 1.953125 | 34.375    | 13440     | False       |\n",
      "| 5   | 50fe67cc996d32b6da0937e99bafec60 | 1.953125 | 34.375    | 13450     | False       |\n",
      "| 6   | e0a113a5dd413e86f21f4f5d5c2f9577 | 1.953125 | 34.375    | 13460     | True        |\n",
      "| 7   | 50fe67cc996d32b6da0937e99bafec60 | 1.953125 | 34.375    | 13470     | False       |\n",
      "| 8   | 50fe67cc996d32b6da0937e99bafec60 | 1.953125 | 34.375    | 13480     | False       |\n",
      "| 9   | 50fe58cc99d732b60c0937e99bafecab | 1.953125 | 34.375    | 13490     | True        |\n",
      "| 10  | 4f63651109f52098ed6d3fb12ae80e41 | 1.953125 | 34.375    | 13500     | True        |\n",
      "| 11  | 50fe67cc996d32b6da0937e99bafec60 | 1.953125 | 34.375    | 13510     | False       |\n",
      "| 12  | None                             | 1.953125 | 34.375    | 13520     | False       |\n",
      "| 13  | 4f128e11fa0f2098776d3f6b2ae88104 | 1.953125 | 34.375    | 13530     | True        |\n",
      "| 14  | 50fe67cc996d32b6da0937e99bafec60 | 1.953125 | 34.375    | 13540     | False       |\n",
      "| 15  | d671114a2a1bd925be8390e2cbbc8dcc | 1.953125 | 34.375    | 13550     | True        |\n",
      "| 16  | 50fe67cc996d32b6da0937e99bafec60 | 1.953125 | 34.375    | 13560     | False       |\n",
      "| 17  | 50fe6776996dd6b6dafe37e9cbafec60 | 1.953125 | 34.375    | 13570     | True        |\n",
      "| 18  | None                             | 1.953125 | 34.375    | 13580     | False       |\n",
      "| 19  | aa1202ccfa7d328d7109b56b9b838187 | 1.953125 | 34.375    | 13590     | True        |\n",
      "| 20  | 50fe67cc996d32b6da0937e99bafec60 | 1.953125 | 34.375    | 13600     | False       |\n",
      "| 21  | 50fe67cc996d32b6da0937e99bafec60 | 1.953125 | 34.375    | 13610     | False       |\n",
      "| 22  | 50fe67cc996d32b6da0937e99bafec60 | 1.953125 | 34.375    | 13620     | False       |\n",
      "| 23  | 50fe67cc996d32b6da0937e99bafec60 | 1.953125 | 34.375    | 13630     | False       |\n",
      "| 24  | 50fe67cc996d32b6da0937e99bafec60 | 1.953125 | 34.375    | 13640     | False       |\n",
      "| 25  | 40fe67cc996d3217da09cce99bc0ec60 | 1.953125 | 34.375    | 13650     | True        |\n",
      "| 26  | 50fe67cc996d32b6da0937e99bafec60 | 1.953125 | 34.375    | 13660     | False       |\n",
      "| 27  | 50fe67cc996d32b6da0937e99bafec60 | 1.953125 | 34.375    | 13670     | False       |\n",
      "| 28  | 50fe67cc996d32b6da0937e99bafec60 | 1.953125 | 34.375    | 13680     | False       |\n",
      "| 29  | None                             | 1.953125 | 34.375    | 13690     | False       |\n",
      "| 30  | 50f067cc7f6d32b6da0937199bafd760 | 1.953125 | 34.375    | 13700     | True        |\n",
      "| 31  | 50fe67cc996d32b6da0937e99bafec60 | 1.953125 | 34.375    | 13710     | False       |\n",
      "| 32  | 50fe67cc996d32b6da0937e99bafec60 | 1.953125 | 34.375    | 13720     | False       |\n",
      "| 33  | 50fe67cc996d32b6da0937e99bafec60 | 1.953125 | 34.375    | 13730     | False       |\n",
      "| 34  | 50fe67cc996d32b6da0937e99bafec60 | 1.953125 | 34.375    | 13740     | False       |\n",
      "| 35  | 381a23d07fccb48cafad12e844413954 | 1.953125 | 34.375    | 13750     | True        |\n",
      "| 36  | 50fe67cc996d32b6da0937e99bafec60 | 1.953125 | 34.375    | 13760     | False       |\n",
      "| 37  | 50fe67cc996d32b6da0937e99bafec60 | 1.953125 | 34.375    | 13770     | False       |\n",
      "| 38  | 50fe67cc996d32b6da0937e99bafec60 | 1.953125 | 34.375    | 13780     | False       |\n",
      "| 39  | d805c0c42cee9ee2fca526d0cf32a2bc | 1.953125 | 34.375    | 13790     | True        |\n",
      "| 40  | 500667ccb06d32b6da0937489baff460 | 1.953125 | 34.375    | 13800     | True        |\n",
      "| 41  | 50fe67cc996d32b6da0937e99bafec60 | 1.953125 | 34.375    | 13810     | False       |\n",
      "| 42  | 50fe67cc996d32b6da0937e99bafec60 | 1.953125 | 34.375    | 13820     | False       |\n",
      "| 43  | 50fe67cc996d32b6da0937e99bafec60 | 1.953125 | 34.375    | 13830     | False       |\n",
      "| 44  | 9d413b5c91970f9d913acef3abdf1041 | 1.953125 | 34.375    | 13840     | True        |\n",
      "| 45  | 50fe67cc996d32b6da0937e99bafec60 | 1.953125 | 34.375    | 13850     | False       |\n",
      "| 46  | 50fe67cc996d32b6da0937e99bafec60 | 1.953125 | 34.375    | 13860     | False       |\n",
      "| 47  | None                             | 1.953125 | 34.375    | 13870     | False       |\n",
      "| 48  | e09367cc656d320ada09ccb29b3a9660 | 1.953125 | 34.375    | 13880     | True        |\n",
      "| 49  | e0fe67cc996d320ada09cce99b3aec60 | 1.953125 | 34.375    | 13890     | True        |\n",
      "| 50  | 50fe67cc996d32b6da0937e99bafec60 | 1.953125 | 34.375    | 13900     | False       |\n",
      "| 51  | 50fe67cc996d32b6da0937e99bafec60 | 1.953125 | 34.375    | 13910     | False       |\n",
      "| 52  | 50fe67cc996d32b6da0937e99bafec60 | 1.953125 | 34.375    | 13920     | False       |\n",
      "| 53  | 50fe67cc996d32b6da0937e99bafec60 | 1.953125 | 34.375    | 13930     | False       |\n",
      "| 54  | 50fe10cc994b32b6b80937e99bafecab | 1.953125 | 34.375    | 13940     | True        |\n",
      "| 55  | ebfe67cc996d32ddda098de99b07ec60 | 1.953125 | 34.375    | 13950     | True        |\n",
      "| 56  | eb2367cc076d32ddda098d419b07a960 | 1.953125 | 34.375    | 13960     | True        |\n",
      "| 57  | 50fe67cc996d32b6da0937e99bafec60 | 1.953125 | 34.375    | 13970     | False       |\n",
      "| 58  | 50feaecc995d32b6bb0937e99bafec83 | 1.953125 | 34.375    | 13980     | True        |\n",
      "| 59  | 50fe67cc996d32b6da0937e99bafec60 | 1.953125 | 34.375    | 13990     | False       |\n",
      "| 60  | effe67b6996dbdbcda17d9e94a7fec60 | 1.953125 | 34.375    | 14000     | True        |\n",
      "| 61  | 50fe67cc996d32b6da0937e99bafec60 | 1.953125 | 34.375    | 14010     | False       |\n",
      "| 62  | None                             | 1.953125 | 34.375    | 14020     | False       |\n",
      "| 63  | af8006c4a3d9fa1b4c83e54c3d2be436 | 1.953125 | 34.375    | 14030     | True        |\n",
      "| 64  | 50fe67cc996d32b6da0937e99bafec60 | 1.953125 | 34.375    | 14040     | False       |\n",
      "| 65  | 50fe67cc996d32b6da0937e99bafec60 | 1.953125 | 34.375    | 14050     | False       |\n",
      "| 66  | None                             | 1.953125 | 34.375    | 14060     | False       |\n",
      "| 67  | 57fe67cc996d326fda0985e99b4aec60 | 1.953125 | 34.375    | 14070     | True        |\n",
      "| 68  | 50fe67cc996d32b6da0937e99bafec60 | 1.953125 | 34.375    | 14080     | False       |\n",
      "| 69  | 508006cca3d932b64c09374c9bafe436 | 1.953125 | 34.375    | 14090     | True        |\n",
      "| 70  | 50fe67cc996d32b6da0937e99bafec60 | 1.953125 | 34.375    | 14100     | False       |\n",
      "| 71  | 50febbcc994f32b6910937e99bafecfe | 1.953125 | 34.375    | 14110     | True        |\n",
      "| 72  | 50fe67cc996d32b6da0937e99bafec60 | 1.953125 | 34.375    | 14120     | False       |\n",
      "| 73  | 50fe67cc996d32b6da0937e99bafec60 | 1.953125 | 34.375    | 14130     | False       |\n",
      "| 74  | None                             | 1.953125 | 34.375    | 14140     | False       |\n",
      "| 75  | 50fe67cc996d32b6da0937e99bafec60 | 1.953125 | 34.375    | 14150     | False       |\n",
      "| 76  | 50fe67cc996d32b6da0937e99bafec60 | 1.953125 | 34.375    | 14160     | False       |\n",
      "| 77  | cf74cf74cf74cf74cf74cf74cf74cf74 | 1.953125 | 34.375    | 14170     | True        |\n",
      "| 78  | 50fe67cc996d32b6da0937e99bafec60 | 1.953125 | 34.375    | 14180     | False       |\n",
      "| 79  | 50fe67cc996d32b6da0937e99bafec60 | 1.953125 | 34.375    | 14190     | False       |\n",
      "| 80  | 50fe67cc996d32b6da0937e99bafec60 | 1.953125 | 34.375    | 14200     | False       |\n",
      "| 81  | 50fe67cc996d32b6da0937e99bafec60 | 1.953125 | 34.375    | 14210     | False       |\n",
      "| 82  | 50fe9fcc998032b6020937e99bafec2c | 1.953125 | 34.375    | 14220     | True        |\n",
      "| 83  | a0a0a0a0a0a0a0a0a0a0a0a0a0a0a0a0 | 1.953125 | 34.375    | 14230     | True        |\n",
      "| 84  | 50fe67f2996d11b6dabc37e96dafec60 | 1.953125 | 34.375    | 14240     | True        |\n",
      "| 85  | 50fe675a996d96b6daef37e918afec60 | 1.953125 | 34.375    | 14250     | True        |\n",
      "| 86  | None                             | 1.953125 | 34.375    | 14260     | False       |\n",
      "| 87  | None                             | 1.953125 | 34.375    | 14270     | False       |\n",
      "| 88  | 50fe67cc996d32b6da0937e99bafec60 | 1.953125 | 34.375    | 14280     | False       |\n",
      "| 89  | 25fe67cc996d3278da09ace99bc6ec60 | 1.953125 | 34.375    | 14290     | True        |\n",
      "| 90  | 50fe67cc996d32b6da0937e99bafec60 | 1.953125 | 34.765625 | 13400     | False       |\n",
      "| 91  | 50fe67cc996d32b6da0937e99bafec60 | 1.953125 | 34.765625 | 13410     | False       |\n",
      "| 92  | 50fe67cc996d32b6da0937e99bafec60 | 1.953125 | 34.765625 | 13420     | False       |\n",
      "| 93  | 50fe67cc996d32b6da0937e99bafec60 | 1.953125 | 34.765625 | 13430     | False       |\n",
      "| 94  | 1569fd61ca88d600ccc76f229a1b9cbf | 1.953125 | 34.765625 | 13440     | True        |\n",
      "| 95  | 15e6fd61ec88d600ccc76fe29a1b75bf | 1.953125 | 34.765625 | 13450     | True        |\n",
      "| 96  | 50fe67cc996d32b6da0937e99bafec60 | 1.953125 | 34.765625 | 13460     | False       |\n",
      "| 97  | 32ec9e19f861695a0502100ec5cf5411 | 1.953125 | 34.765625 | 13470     | True        |\n",
      "| 98  | 50fe67cc996d32b6da0937e99bafec60 | 1.953125 | 34.765625 | 13480     | False       |\n",
      "| 99  | None                             | 1.953125 | 34.765625 | 13490     | False       |\n",
      "| 100 | 50fe67cc996d32b6da0937e99bafec60 | 1.953125 | 34.765625 | 13500     | False       |\n",
      "| 101 | 50fe67cc996d32b6da0937e99bafec60 | 1.953125 | 34.765625 | 13510     | False       |\n",
      "| 102 | 50fe67cc996d32b6da0937e99bafec60 | 1.953125 | 34.765625 | 13520     | False       |\n",
      "| 103 | 501967ccaa6d32b6da0937079baf5360 | 1.953125 | 34.765625 | 13530     | True        |\n",
      "| 104 | 7efe67cc996d32bbda09b2e99b84ec60 | 1.953125 | 34.765625 | 13540     | True        |\n",
      "| 105 | 50fe67cc996d32b6da0937e99bafec60 | 1.953125 | 34.765625 | 13550     | False       |\n",
      "| 106 | 50fe67cc996d32b6da0937e99bafec60 | 1.953125 | 34.765625 | 13560     | False       |\n",
      "| 107 | 50fe67cc996d32b6da0937e99bafec60 | 1.953125 | 34.765625 | 13570     | False       |\n",
      "| 108 | 50fe67cc996d32b6da0937e99bafec60 | 1.953125 | 34.765625 | 13580     | False       |\n",
      "| 109 | 50fe67cc996d32b6da0937e99bafec60 | 1.953125 | 34.765625 | 13590     | False       |\n",
      "| 110 | 50fe67cc996d32b6da0937e99bafec60 | 1.953125 | 34.765625 | 13600     | False       |\n",
      "| 111 | aafe67cc996d328dda09b5e99b83ec60 | 1.953125 | 34.765625 | 13610     | True        |\n",
      "| 112 | 50fe67cc996d32b6da0937e99bafec60 | 1.953125 | 34.765625 | 13620     | False       |\n",
      "| 113 | 204a3ec4f023b79f9b969b818d6c4066 | 1.953125 | 34.765625 | 13630     | True        |\n",
      "| 114 | 50fe67cc996d32b6da0937e99bafec60 | 1.953125 | 34.765625 | 13640     | False       |\n",
      "| 115 | 50fe67cc996d32b6da0937e99bafec60 | 1.953125 | 34.765625 | 13650     | False       |\n",
      "| 116 | 50fe67cc996d32b6da0937e99bafec60 | 1.953125 | 34.765625 | 13660     | False       |\n",
      "| 117 | 50fe67a9996d52b6daa937e929afec60 | 1.953125 | 34.765625 | 13670     | True        |\n",
      "| 118 | 50fe67cc996d32b6da0937e99bafec60 | 1.953125 | 34.765625 | 13680     | False       |\n",
      "| 119 | a32bae57a22f4acb3f30b0afa4d8a20b | 1.953125 | 34.765625 | 13690     | True        |\n",
      "| 120 | 50fe67cc996d32b6da0937e99bafec60 | 1.953125 | 34.765625 | 13700     | False       |\n",
      "| 121 | d84eeea1b9b37ce25e0926b7ed32e573 | 1.953125 | 34.765625 | 13710     | True        |\n",
      "| 122 | 50fe67cc996d32b6da0937e99bafec60 | 1.953125 | 34.765625 | 13720     | False       |\n",
      "| 123 | 50fe67cc996d32b6da0937e99bafec60 | 1.953125 | 34.765625 | 13730     | False       |\n",
      "| 124 | 50fe67cc996d32b6da0937e99bafec60 | 1.953125 | 34.765625 | 13740     | False       |\n",
      "| 125 | 50fe67cc996d32b6da0937e99bafec60 | 1.953125 | 34.765625 | 13750     | False       |\n",
      "| 126 | 50fe67cc996d32b6da0937e99bafec60 | 1.953125 | 34.765625 | 13760     | False       |\n",
      "| 127 | 50fe67cc996d32b6da0937e99bafec60 | 1.953125 | 34.765625 | 13770     | False       |\n",
      "| 128 | 50fe67cc996d32b6da0937e99bafec60 | 1.953125 | 34.765625 | 13780     | False       |\n",
      "| 129 | 50fe67cc996d32b6da0937e99bafec60 | 1.953125 | 34.765625 | 13790     | False       |\n",
      "| 130 | 898744f866a371c333ff3336664023a5 | 1.953125 | 34.765625 | 13800     | True        |\n",
      "| 131 | 50fe67cc996d32b6da0937e99bafec60 | 1.953125 | 34.765625 | 13810     | False       |\n",
      "| 132 | 841cb55927b6816ea908a3d17082ddc8 | 1.953125 | 34.765625 | 13820     | True        |\n",
      "| 133 | 50fe67cc996d32b6da0937e99bafec60 | 1.953125 | 34.765625 | 13830     | False       |\n",
      "| 134 | e08744cc66a3320a3309cc369b3a23a5 | 1.953125 | 34.765625 | 13840     | True        |\n",
      "| 135 | 50fe67cc996d32b6da0937e99bafec60 | 1.953125 | 34.765625 | 13850     | False       |\n",
      "| 136 | 50fe3bcc999732b6910937e99bafec41 | 1.953125 | 34.765625 | 13860     | True        |\n",
      "| 137 | None                             | 1.953125 | 34.765625 | 13870     | False       |\n",
      "| 138 | 50fe67cc996d32b6da0937e99bafec60 | 1.953125 | 34.765625 | 13880     | False       |\n",
      "| 139 | 50fe67cc996d32b6da0937e99bafec60 | 1.953125 | 34.765625 | 13890     | False       |\n",
      "| 140 | eb2310b6074bbdddb8178d414a07a9ab | 1.953125 | 34.765625 | 13900     | True        |\n",
      "| 141 | None                             | 1.953125 | 34.765625 | 13910     | False       |\n",
      "| 142 | 50fe67cc996d32b6da0937e99bafec60 | 1.953125 | 34.765625 | 13920     | False       |\n",
      "| 143 | 50fe67cc996d32b6da0937e99bafec60 | 1.953125 | 34.765625 | 13930     | False       |\n",
      "| 144 | 50fe67cc996d32b6da0937e99bafec60 | 1.953125 | 34.765625 | 13940     | False       |\n",
      "| 145 | 11fe67cc996d3235da09f6e99b3dec60 | 1.953125 | 34.765625 | 13950     | True        |\n",
      "| 146 | 50fe67cc996d32b6da0937e99bafec60 | 1.953125 | 34.765625 | 13960     | False       |\n",
      "| 147 | 502167ccbc6d32b6da09371e9baf8d60 | 1.953125 | 34.765625 | 13970     | True        |\n",
      "| 148 | 50feaacc99f532b6cf0937e99bafecf4 | 1.953125 | 34.765625 | 13980     | True        |\n",
      "| 149 | 50fe67cc996d32b6da0937e99bafec60 | 1.953125 | 34.765625 | 13990     | False       |\n",
      "| 150 | None                             | 1.953125 | 34.765625 | 14000     | False       |\n",
      "| 151 | 50fe67cc996d32b6da0937e99bafec60 | 1.953125 | 34.765625 | 14010     | False       |\n",
      "| 152 | None                             | 1.953125 | 34.765625 | 14020     | False       |\n",
      "| 153 | 50fe67cc996d32b6da0937e99bafec60 | 1.953125 | 34.765625 | 14030     | False       |\n",
      "| 154 | 50fe67cc996d32b6da0937e99bafec60 | 1.953125 | 34.765625 | 14040     | False       |\n",
      "| 155 | None                             | 1.953125 | 34.765625 | 14050     | False       |\n",
      "| 156 | None                             | 1.953125 | 34.765625 | 14060     | False       |\n",
      "| 157 | 50fe67cc996d32b6da0937e99bafec60 | 1.953125 | 34.765625 | 14070     | False       |\n",
      "| 158 | 50fe67cc996d32b6da0937e99bafec60 | 1.953125 | 34.765625 | 14080     | False       |\n",
      "| 159 | 50fe67cc996d32b6da0937e99bafec60 | 1.953125 | 34.765625 | 14090     | False       |\n",
      "| 160 | 50fe67cc996d32b6da0937e99bafec60 | 1.953125 | 34.765625 | 14100     | False       |\n",
      "| 161 | 50fe67cc996d32b6da0937e99bafec60 | 1.953125 | 34.765625 | 14110     | False       |\n",
      "| 162 | 50fe67cc996d32b6da0937e99bafec60 | 1.953125 | 34.765625 | 14120     | False       |\n",
      "| 163 | 50fe67cc996d32b6da0937e99bafec60 | 1.953125 | 34.765625 | 14130     | False       |\n",
      "| 164 | 50fe67cc996d32b6da0937e99bafec60 | 1.953125 | 34.765625 | 14140     | False       |\n",
      "| 165 | 50fe67cc996d32b6da0937e99bafec60 | 1.953125 | 34.765625 | 14150     | False       |\n",
      "| 166 | 50fe67cc996d32b6da0937e99bafec60 | 1.953125 | 34.765625 | 14160     | False       |\n",
      "| 167 | 50fe67cc996d32b6da0937e99bafec60 | 1.953125 | 34.765625 | 14170     | False       |\n",
      "| 168 | 50fe67cc996d32b6da0937e99bafec60 | 1.953125 | 34.765625 | 14180     | False       |\n",
      "| 169 | dffe67cc996d32ecda098ee99bedec60 | 1.953125 | 34.765625 | 14190     | True        |\n",
      "| 170 | 50fe67cc996d32b6da0937e99bafec60 | 1.953125 | 34.765625 | 14200     | False       |\n",
      "| 171 | 50c567cc8d6d32b6da0937459baf9b60 | 1.953125 | 34.765625 | 14210     | True        |\n",
      "| 172 | 50fe67cc996d32b6da0937e99bafec60 | 1.953125 | 34.765625 | 14220     | False       |\n",
      "| 173 | 50fe91cc992532b6300937e99bafecce | 1.953125 | 34.765625 | 14230     | True        |\n",
      "| 174 | 50fe67cc996d32b6da0937e99bafec60 | 1.953125 | 34.765625 | 14240     | False       |\n",
      "| 175 | 50fe67f1996dbbb6dae637e954afec60 | 1.953125 | 34.765625 | 14250     | True        |\n",
      "| 176 | 50fe67cc996d32b6da0937e99bafec60 | 1.953125 | 34.765625 | 14260     | False       |\n",
      "| 177 | None                             | 1.953125 | 34.765625 | 14270     | False       |\n",
      "| 178 | 50fe67cc996d32b6da0937e99bafec60 | 1.953125 | 34.765625 | 14280     | False       |\n",
      "| 179 | dbfe67cc996d3285da0959e99b8fec60 | 1.953125 | 34.765625 | 14290     | True        |\n",
      "| 180 | 50fe67cc996d32b6da0937e99bafec60 | 1.953125 | 35.15625  | 13400     | False       |\n",
      "| 181 | 50fe67cc996d32b6da0937e99bafec60 | 1.953125 | 35.15625  | 13410     | False       |\n",
      "| 182 | 50fe67cc996d32b6da0937e99bafec60 | 1.953125 | 35.15625  | 13420     | False       |\n",
      "| 183 | 50fe67cc996d32b6da0937e99bafec60 | 1.953125 | 35.15625  | 13430     | False       |\n",
      "| 184 | 50fe67cc996d32b6da0937e99bafec60 | 1.953125 | 35.15625  | 13440     | False       |\n",
      "| 185 | 50fe67cc996d32b6da0937e99bafec60 | 1.953125 | 35.15625  | 13450     | False       |\n",
      "| 186 | None                             | 1.953125 | 35.15625  | 13460     | False       |\n",
      "| 187 | 50fe67cc996d32b6da0937e99bafec60 | 1.953125 | 35.15625  | 13470     | False       |\n",
      "| 188 | 50fe6787996d88b6da8937e9b1afec60 | 1.953125 | 35.15625  | 13480     | True        |\n",
      "| 189 | 50fe67cc996d32b6da0937e99bafec60 | 1.953125 | 35.15625  | 13490     | False       |\n",
      "| 190 | 50fe67cc996d32b6da0937e99bafec60 | 1.953125 | 35.15625  | 13500     | False       |\n",
      "| 191 | 50fe67cc996d32b6da0937e99bafec60 | 1.953125 | 35.15625  | 13510     | False       |\n",
      "| 192 | 50fe67cc996d32b6da0937e99bafec60 | 1.953125 | 35.15625  | 13520     | False       |\n",
      "| 193 | 58a2303d8154322b8a647f080f7e5bc1 | 1.953125 | 35.15625  | 13530     | True        |\n",
      "| 194 | 50fe67cc996d32b6da0937e99bafec60 | 1.953125 | 35.15625  | 13540     | False       |\n",
      "| 195 | 50fe671a996d75b6dac037e9bcafec60 | 1.953125 | 35.15625  | 13550     | True        |\n",
      "| 196 | 50fe67cc996d32b6da0937e99bafec60 | 1.953125 | 35.15625  | 13560     | False       |\n",
      "| 197 | 50fe67cc996d32b6da0937e99bafec60 | 1.953125 | 35.15625  | 13570     | False       |\n",
      "| 198 | 50fe67cc996d32b6da0937e99bafec60 | 1.953125 | 35.15625  | 13580     | False       |\n",
      "| 199 | 50fe67cc996d32b6da0937e99bafec60 | 1.953125 | 35.15625  | 13590     | False       |\n",
      "| 200 | 50fe67cc996d32b6da0937e99bafec60 | 1.953125 | 35.15625  | 13600     | False       |\n",
      "| 201 | 50fe67cc996d32b6da0937e99bafec60 | 1.953125 | 35.15625  | 13610     | False       |\n",
      "| 202 | None                             | 1.953125 | 35.15625  | 13620     | False       |\n",
      "| 203 | 50fe67cc996d32b6da0937e99bafec60 | 1.953125 | 35.15625  | 13630     | False       |\n",
      "| 204 | None                             | 1.953125 | 35.15625  | 13640     | False       |\n",
      "| 205 | 50fe67cc996d32b6da0937e99bafec60 | 1.953125 | 35.15625  | 13650     | False       |\n",
      "| 206 | 50fe67cc996d32b6da0937e99bafec60 | 1.953125 | 35.15625  | 13660     | False       |\n",
      "| 207 | 50fe67cc996d32b6da0937e99bafec60 | 1.953125 | 35.15625  | 13670     | False       |\n",
      "| 208 | 50fe67cc996d32b6da0937e99bafec60 | 1.953125 | 35.15625  | 13680     | False       |\n",
      "| 209 | 50fe67cc996d32b6da0937e99bafec60 | 1.953125 | 35.15625  | 13690     | False       |\n",
      "| 210 | 50fe67cc996d32b6da0937e99bafec60 | 1.953125 | 35.15625  | 13700     | False       |\n",
      "| 211 | None                             | 1.953125 | 35.15625  | 13710     | False       |\n",
      "| 212 | 50fe67cc996d32b6da0937e99bafec60 | 1.953125 | 35.15625  | 13720     | False       |\n",
      "| 213 | 50fe67cc996d32b6da0937e99bafec60 | 1.953125 | 35.15625  | 13730     | False       |\n",
      "| 214 | 50fe67cc996d32b6da0937e99bafec60 | 1.953125 | 35.15625  | 13740     | False       |\n",
      "| 215 | 50fe67cc996d32b6da0937e99bafec60 | 1.953125 | 35.15625  | 13750     | False       |\n",
      "| 216 | 896e5df893ae71c35dff3343664068d1 | 1.953125 | 35.15625  | 13760     | True        |\n",
      "| 217 | 50fe67cc996d32b6da0937e99bafec60 | 1.953125 | 35.15625  | 13770     | False       |\n",
      "| 218 | 50fe67cc996d32b6da0937e99bafec60 | 1.953125 | 35.15625  | 13780     | False       |\n",
      "| 219 | 50fe67cc996d32b6da0937e99bafec60 | 1.953125 | 35.15625  | 13790     | False       |\n",
      "| 220 | 50fe67cc996d32b6da0937e99bafec60 | 1.953125 | 35.15625  | 13800     | False       |\n",
      "| 221 | 50fe67cc996d32b6da0937e99bafec60 | 1.953125 | 35.15625  | 13810     | False       |\n",
      "| 222 | 50fe67cc996d32b6da0937e99bafec60 | 1.953125 | 35.15625  | 13820     | False       |\n",
      "| 223 | 0d93ce8d65fa5fe85a4dacb2af2b960a | 1.953125 | 35.15625  | 13830     | True        |\n",
      "| 224 | None                             | 1.953125 | 35.15625  | 13840     | False       |\n",
      "| 225 | 50fe67cc996d32b6da0937e99bafec60 | 1.953125 | 35.15625  | 13850     | False       |\n",
      "| 226 | 50fe67cc996d32b6da0937e99bafec60 | 1.953125 | 35.15625  | 13860     | False       |\n",
      "| 227 | 50fe67cc996d32b6da0937e99bafec60 | 1.953125 | 35.15625  | 13870     | False       |\n",
      "| 228 | 50fe67cc996d32b6da0937e99bafec60 | 1.953125 | 35.15625  | 13880     | False       |\n",
      "| 229 | 50fe67cc996d32b6da0937e99bafec60 | 1.953125 | 35.15625  | 13890     | False       |\n",
      "| 230 | 50fe67cc996d32b6da0937e99bafec60 | 1.953125 | 35.15625  | 13900     | False       |\n",
      "| 231 | 50fe67cc996d32b6da0937e99bafec60 | 1.953125 | 35.15625  | 13910     | False       |\n",
      "| 232 | 50fe67cc996d32b6da0937e99bafec60 | 1.953125 | 35.15625  | 13920     | False       |\n",
      "| 233 | 50fe67cc996d32b6da0937e99bafec60 | 1.953125 | 35.15625  | 13930     | False       |\n",
      "| 234 | 50fe67cc996d32b6da0937e99bafec60 | 1.953125 | 35.15625  | 13940     | False       |\n",
      "| 235 | 50fe67cc996d32b6da0937e99bafec60 | 1.953125 | 35.15625  | 13950     | False       |\n",
      "| 236 | 50fe67cc996d32b6da0937e99bafec60 | 1.953125 | 35.15625  | 13960     | False       |\n",
      "| 237 | 50fe67cc996d32b6da0937e99bafec60 | 1.953125 | 35.15625  | 13970     | False       |\n",
      "| 238 | 50fe67cc996d32b6da0937e99bafec60 | 1.953125 | 35.15625  | 13980     | False       |\n",
      "| 239 | 50fe67cc996d32b6da0937e99bafec60 | 1.953125 | 35.15625  | 13990     | False       |\n",
      "| 240 | 50fe67b6996dbdb6da1737e94aafec60 | 1.953125 | 35.15625  | 14000     | True        |\n",
      "| 241 | 50fe67cc996d32b6da0937e99bafec60 | 1.953125 | 35.15625  | 14010     | False       |\n",
      "| 242 | 50fe67cc996d32b6da0937e99bafec60 | 1.953125 | 35.15625  | 14020     | False       |\n",
      "| 243 | 50fe67cc996d32b6da0937e99bafec60 | 1.953125 | 35.15625  | 14030     | False       |\n",
      "| 244 | 50fe67cc996d32b6da0937e99bafec60 | 1.953125 | 35.15625  | 14040     | False       |\n",
      "| 245 | None                             | 1.953125 | 35.15625  | 14050     | False       |\n",
      "| 246 | 50fe67cc996d32b6da0937e99bafec60 | 1.953125 | 35.15625  | 14060     | False       |\n",
      "| 247 | 50fe67cc996d32b6da0937e99bafec60 | 1.953125 | 35.15625  | 14070     | False       |\n",
      "| 248 | 50fe67cc996d32b6da0937e99bafec60 | 1.953125 | 35.15625  | 14080     | False       |\n",
      "| 249 | 50b667cce46d32b6da09379d9baf8460 | 1.953125 | 35.15625  | 14090     | True        |\n",
      "| 250 | 50fe67cc996d32b6da0937e99bafec60 | 1.953125 | 35.15625  | 14100     | False       |\n",
      "| 251 | 50fe67cc996d32b6da0937e99bafec60 | 1.953125 | 35.15625  | 14110     | False       |\n",
      "| 252 | 50fe67cc996d32b6da0937e99bafec60 | 1.953125 | 35.15625  | 14120     | False       |\n",
      "| 253 | None                             | 1.953125 | 35.15625  | 14130     | False       |\n",
      "| 254 | 50fe67cc996d32b6da0937e99bafec60 | 1.953125 | 35.15625  | 14140     | False       |\n",
      "| 255 | 50fe67cc996d32b6da0937e99bafec60 | 1.953125 | 35.15625  | 14150     | False       |\n",
      "| 256 | 50fe67cc996d32b6da0937e99bafec60 | 1.953125 | 35.15625  | 14160     | False       |\n",
      "| 257 | 50fe67cc996d32b6da0937e99bafec60 | 1.953125 | 35.15625  | 14170     | False       |\n",
      "| 258 | 50fe67cc996d32b6da0937e99bafec60 | 1.953125 | 35.15625  | 14180     | False       |\n",
      "| 259 | 50fe67cc996d32b6da0937e99bafec60 | 1.953125 | 35.15625  | 14190     | False       |\n",
      "| 260 | 50fe67cc996d32b6da0937e99bafec60 | 1.953125 | 35.15625  | 14200     | False       |\n",
      "| 261 | 508467cc4a6d32b6da0937359baf0260 | 1.953125 | 35.15625  | 14210     | True        |\n",
      "| 262 | 50fe67cc996d32b6da0937e99bafec60 | 1.953125 | 35.15625  | 14220     | False       |\n",
      "| 263 | 50fe67cc996d32b6da0937e99bafec60 | 1.953125 | 35.15625  | 14230     | False       |\n",
      "| 264 | 50fe67cc996d32b6da0937e99bafec60 | 1.953125 | 35.15625  | 14240     | False       |\n",
      "| 265 | 50fe67cc996d32b6da0937e99bafec60 | 1.953125 | 35.15625  | 14250     | False       |\n",
      "| 266 | 50fe67cc996d32b6da0937e99bafec60 | 1.953125 | 35.15625  | 14260     | False       |\n",
      "| 267 | None                             | 1.953125 | 35.15625  | 14270     | False       |\n",
      "| 268 | 50fe67cc996d32b6da0937e99bafec60 | 1.953125 | 35.15625  | 14280     | False       |\n",
      "| 269 | 50fe67cc996d32b6da0937e99bafec60 | 1.953125 | 35.15625  | 14290     | False       |\n",
      "+-----+----------------------------------+----------+-----------+-----------+-------------+\n"
     ]
    }
   ],
   "source": [
    "from terminaltables import AsciiTable\n",
    "table = AsciiTable(results)\n",
    "print(table.table)"
   ]
  },
  {
   "cell_type": "markdown",
   "metadata": {},
   "source": [
    "### R9: Cryptanalysis of the faulty outputs\n",
    "\n",
    "We'll use `phoenixAES` to perform the DFA against the collected ciphertexts.\n",
    "\n",
    "All it requires is the list of *interesting* outputs and the reference output."
   ]
  },
  {
   "cell_type": "code",
   "execution_count": 23,
   "metadata": {},
   "outputs": [
    {
     "name": "stdout",
     "output_type": "stream",
     "text": [
      "50fe675f996dfdb6da4037e976afec60: group 3\n",
      "feb4ab74ec360dc1fe0a7157618d5bc6: group None\n",
      "e0a113a5dd413e86f21f4f5d5c2f9577: group None\n",
      "50fe58cc99d732b60c0937e99bafecab: group 2\n",
      "4f63651109f52098ed6d3fb12ae80e41: group None\n",
      "4f128e11fa0f2098776d3f6b2ae88104: group None\n",
      "d671114a2a1bd925be8390e2cbbc8dcc: group None\n",
      "50fe6776996dd6b6dafe37e9cbafec60: group 3\n",
      "Round key bytes recovered:\n",
      "......A8....25....3F....B6......\n",
      "aa1202ccfa7d328d7109b56b9b838187: group None\n",
      "40fe67cc996d3217da09cce99bc0ec60: group 0\n",
      "50f067cc7f6d32b6da0937199bafd760: group 1\n",
      "381a23d07fccb48cafad12e844413954: group None\n",
      "d805c0c42cee9ee2fca526d0cf32a2bc: group None\n",
      "500667ccb06d32b6da0937489baff460: group 1\n",
      "Round key bytes recovered:\n",
      "..14..A8C9..25....3F..C8B6..0C..\n",
      "9d413b5c91970f9d913acef3abdf1041: group None\n",
      "e09367cc656d320ada09ccb29b3a9660: group None\n",
      "e0fe67cc996d320ada09cce99b3aec60: group 0\n",
      "50fe10cc994b32b6b80937e99bafecab: group 2\n",
      "ebfe67cc996d32ddda098de99b07ec60: group 0\n",
      "Round key bytes recovered:\n",
      "D014..A8C9..2589..3F0CC8B6630C..\n",
      "eb2367cc076d32ddda098d419b07a960: group None\n",
      "50feaecc995d32b6bb0937e99bafec83: group 2\n",
      "Round key bytes recovered:\n",
      "D014F9A8C9EE2589E13F0CC8B6630CA6\n",
      "Last round key #N found:\n",
      "D014F9A8C9EE2589E13F0CC8B6630CA6\n"
     ]
    }
   ],
   "source": [
    "import phoenixAES\n",
    "r10=phoenixAES.crack_bytes(outputs, goldciph, encrypt=True, verbose=2)"
   ]
  },
  {
   "cell_type": "markdown",
   "metadata": {},
   "source": [
    "In this first attack, we assume the fault was injected *between* the last two *MixColumn* operations and we look for ciphertexts only partially (25%) corrupted.  \n",
    "We hope you managed to recover the full 10th round key. If not, you may try again [from here](#R9:-Collecting-faulty-outputs) :) If you got very few or no \"interesting\" ciphertexts, better to tune `width_range`.   \n",
    "Once the last round key is recovered, you can revert the AES keyscheduling and reveal the actual AES key."
   ]
  },
  {
   "cell_type": "code",
   "execution_count": 24,
   "metadata": {},
   "outputs": [
    {
     "name": "stdout",
     "output_type": "stream",
     "text": [
      "AES Key:\n",
      "2b7e151628aed2a6abf7158809cf4f3c\n"
     ]
    }
   ],
   "source": [
    "key=None\n",
    "if r10 is not None:\n",
    "    from chipwhisperer.analyzer.attacks.models.aes.key_schedule import keyScheduleRounds\n",
    "    key = keyScheduleRounds(bytearray.fromhex(r10), 10, 0)\n",
    "    print(\"AES Key:\")\n",
    "    print(''.join(\"%02x\" % x for x in key))\n",
    "else:\n",
    "    print(\"Sorry, no key found, try another campain, maybe with different parameters...\")"
   ]
  },
  {
   "cell_type": "markdown",
   "metadata": {},
   "source": [
    "### R9: Plotting inner states differences"
   ]
  },
  {
   "cell_type": "markdown",
   "metadata": {},
   "source": [
    "Once the AES key is known, we can display where the actual faults were injected, here plotting the first 10 outputs."
   ]
  },
  {
   "cell_type": "code",
   "execution_count": 25,
   "metadata": {},
   "outputs": [
    {
     "data": {
      "image/png": "[encoded data removed]",
      "text/plain": [
       "<matplotlib.figure.Figure at 0x7fba98ca5a90>"
      ]
     },
     "metadata": {
      "needs_background": "light"
     },
     "output_type": "display_data"
    }
   ],
   "source": [
    "%run \"Helper_Scripts/AES_differential_plotter.ipynb\"\n",
    "if key is not None:\n",
    "    ad=AesDiff(intext=text, key=key, encrypt=True)\n",
    "    for c in outputs[:10]:\n",
    "        ad.add_glitch(c)\n",
    "    plt=ad.plot_diff_bits()\n",
    "    plt.show()"
   ]
  },
  {
   "cell_type": "markdown",
   "metadata": {},
   "source": [
    "This graph shows how many bits were flipped at each round. Of course the plot only makes sense from the lowest points of the curve to the right, there is no fault diffusion from the fault to the left.  \n",
    "We're more interested in the number of bytes which are faulted before the last *MixColumn*:"
   ]
  },
  {
   "cell_type": "code",
   "execution_count": 26,
   "metadata": {
    "scrolled": true
   },
   "outputs": [
    {
     "data": {
      "image/png": "[encoded data removed]",
      "text/plain": [
       "<matplotlib.figure.Figure at 0x7fba98ca81d0>"
      ]
     },
     "metadata": {
      "needs_background": "light"
     },
     "output_type": "display_data"
    }
   ],
   "source": [
    "if key is not None:\n",
    "    plt=ad.plot_diff_bytes()\n",
    "    plt.show()"
   ]
  },
  {
   "cell_type": "markdown",
   "metadata": {},
   "source": [
    "We managed to break the key because indeed a number of executions was properly faulted on a single byte before the last *MixColumn*, cf the lowest curves at position 8."
   ]
  },
  {
   "cell_type": "markdown",
   "metadata": {},
   "source": [
    "## Attacking the 8th round\n",
    "\n",
    "To reduce the number of required faults, we can inject glitches one round earlier.\n",
    "If the faults are injected one *MixColumn* earlier, in the 8th round, the ciphertext will be completely corrupted.\n",
    "But we can still apply the same cryptanalysis!\n",
    "The trick is to convert one such fault into four faults on the 9th round."
   ]
  },
  {
   "cell_type": "markdown",
   "metadata": {},
   "source": [
    "### R8: Collecting faulty outputs\n",
    "\n",
    "Let's change our parameters to attack one round earlier and launch our attack."
   ]
  },
  {
   "cell_type": "code",
   "execution_count": 27,
   "metadata": {},
   "outputs": [
    {
     "name": "stdout",
     "output_type": "stream",
     "text": [
      "Capturing traces: 100%|██████████| 30/30 [00:08<00:00,  2.95it/s]\n",
      "\n",
      "Saving traces to /tmp/glitch_traces.npy\n"
     ]
    }
   ],
   "source": [
    "# for scope.glitch.ext_offset:\n",
    "extoffset_range = Range(12000, 12200, 20)\n",
    "apply_ranges()\n",
    "campain()"
   ]
  },
  {
   "cell_type": "markdown",
   "metadata": {},
   "source": [
    "Let's see the results:"
   ]
  },
  {
   "cell_type": "code",
   "execution_count": 28,
   "metadata": {},
   "outputs": [
    {
     "name": "stdout",
     "output_type": "stream",
     "text": [
      "+----+----------------------------------+----------+-----------+-----------+-------------+\n",
      "| #  | target output                    | width    | offset    | extoffset | interesting |\n",
      "+----+----------------------------------+----------+-----------+-----------+-------------+\n",
      "| 0  | 50fe67cc996d32b6da0937e99bafec60 | 1.953125 | 34.375    | 12000     | False       |\n",
      "| 1  | 50fe67cc996d32b6da0937e99bafec60 | 1.953125 | 34.375    | 12020     | False       |\n",
      "| 2  | 50fe67cc996d32b6da0937e99bafec60 | 1.953125 | 34.375    | 12040     | False       |\n",
      "| 3  | 50fe67cc996d32b6da0937e99bafec60 | 1.953125 | 34.375    | 12060     | False       |\n",
      "| 4  | 50fe67cc996d32b6da0937e99bafec60 | 1.953125 | 34.375    | 12080     | False       |\n",
      "| 5  | 50fe67cc996d32b6da0937e99bafec60 | 1.953125 | 34.375    | 12100     | False       |\n",
      "| 6  | 454ba912224b3f241b7368d4aa19f828 | 1.953125 | 34.375    | 12120     | True        |\n",
      "| 7  | 50fe67cc996d32b6da0937e99bafec60 | 1.953125 | 34.375    | 12140     | False       |\n",
      "| 8  | 50fe67cc996d32b6da0937e99bafec60 | 1.953125 | 34.375    | 12160     | False       |\n",
      "| 9  | 50fe67cc996d32b6da0937e99bafec60 | 1.953125 | 34.375    | 12180     | False       |\n",
      "| 10 | 50fe67cc996d32b6da0937e99bafec60 | 1.953125 | 34.765625 | 12000     | False       |\n",
      "| 11 | c36a8968d3fbcff237500459d2d00054 | 1.953125 | 34.765625 | 12020     | True        |\n",
      "| 12 | 50fe67cc996d32b6da0937e99bafec60 | 1.953125 | 34.765625 | 12040     | False       |\n",
      "| 13 | 50fe67cc996d32b6da0937e99bafec60 | 1.953125 | 34.765625 | 12060     | False       |\n",
      "| 14 | f1cbd051005b7bca73861319dd0a725f | 1.953125 | 34.765625 | 12080     | True        |\n",
      "| 15 | 2af957c145599ca2dcf555be3d9f44e5 | 1.953125 | 34.765625 | 12100     | True        |\n",
      "| 16 | 50fe67cc996d32b6da0937e99bafec60 | 1.953125 | 34.765625 | 12120     | False       |\n",
      "| 17 | 50fe67cc996d32b6da0937e99bafec60 | 1.953125 | 34.765625 | 12140     | False       |\n",
      "| 18 | b26d93ba0b81e0b0754e383cb6017978 | 1.953125 | 34.765625 | 12160     | True        |\n",
      "| 19 | 50fe67cc996d32b6da0937e99bafec60 | 1.953125 | 34.765625 | 12180     | False       |\n",
      "| 20 | 50fe67cc996d32b6da0937e99bafec60 | 1.953125 | 35.15625  | 12000     | False       |\n",
      "| 21 | 50fe67cc996d32b6da0937e99bafec60 | 1.953125 | 35.15625  | 12020     | False       |\n",
      "| 22 | 50fe67cc996d32b6da0937e99bafec60 | 1.953125 | 35.15625  | 12040     | False       |\n",
      "| 23 | 50fe67cc996d32b6da0937e99bafec60 | 1.953125 | 35.15625  | 12060     | False       |\n",
      "| 24 | 50fe67cc996d32b6da0937e99bafec60 | 1.953125 | 35.15625  | 12080     | False       |\n",
      "| 25 | 50fe67cc996d32b6da0937e99bafec60 | 1.953125 | 35.15625  | 12100     | False       |\n",
      "| 26 | None                             | 1.953125 | 35.15625  | 12120     | False       |\n",
      "| 27 | 50fe67cc996d32b6da0937e99bafec60 | 1.953125 | 35.15625  | 12140     | False       |\n",
      "| 28 | 50fe67cc996d32b6da0937e99bafec60 | 1.953125 | 35.15625  | 12160     | False       |\n",
      "| 29 | bd6ad9191795e9012515456540b668fd | 1.953125 | 35.15625  | 12180     | True        |\n",
      "+----+----------------------------------+----------+-----------+-----------+-------------+\n"
     ]
    }
   ],
   "source": [
    "from terminaltables import AsciiTable\n",
    "table = AsciiTable(results)\n",
    "print(table.table)"
   ]
  },
  {
   "cell_type": "markdown",
   "metadata": {},
   "source": [
    "### R8: Cryptanalysis of the faulty outputs\n",
    "\n",
    "In this second attack, we assume the fault was injected *before* the last two *MixColumn* operations.\n",
    "First, we convert each 100% faulty output into four 25% faulty outputs and then we apply the same attack as before."
   ]
  },
  {
   "cell_type": "code",
   "execution_count": 29,
   "metadata": {},
   "outputs": [
    {
     "name": "stdout",
     "output_type": "stream",
     "text": [
      "45fe67cc996d3224da0968e99b19ec60: group 0\n",
      "504b67cc226d32b6da0937d49baff860: group 1\n",
      "50fea9cc994b32b61b0937e99bafec28: group 2\n",
      "50fe6712996d3fb6da7337e9aaafec60: group 3\n",
      "c3fe67cc996d32f2da0904e99bd0ec60: group 0\n",
      "506a67ccd36d32b6da0937599baf0060: group 1\n",
      "50fe89cc99fb32b6370937e99bafec54: group 2\n",
      "50fe6768996dcfb6da5037e9d2afec60: group 3\n",
      "f1fe67cc996d32cada0913e99b0aec60: group 0\n",
      "50cb67cc006d32b6da0937199baf7260: group 1\n",
      "50fed0cc995b32b6730937e99bafec5f: group 2\n",
      "50fe6751996d7bb6da8637e9ddafec60: group 3\n",
      "2afe67cc996d32a2da0955e99b9fec60: group 0\n",
      "Round key bytes recovered:\n",
      "D0............89....0C....63....\n",
      "50f967cc456d32b6da0937be9baf4460: group 1\n",
      "Round key bytes recovered:\n",
      "D014....C9....89....0CC8..630C..\n",
      "50fe57cc995932b6dc0937e99bafece5: group 2\n",
      "Round key bytes recovered:\n",
      "D014F9..C9EE..89E1..0CC8..630CA6\n",
      "50fe67c1996d9cb6daf537e93dafec60: group 3\n",
      "Round key bytes recovered:\n",
      "D014F9A8C9EE2589E13F0CC8B6630CA6\n",
      "Last round key #N found:\n",
      "D014F9A8C9EE2589E13F0CC8B6630CA6\n"
     ]
    }
   ],
   "source": [
    "outputs2=phoenixAES.convert_r8faults_bytes(outputs, goldciph, encrypt=True)\n",
    "r10=phoenixAES.crack_bytes(outputs2, goldciph, encrypt=True, verbose=2)"
   ]
  },
  {
   "cell_type": "markdown",
   "metadata": {},
   "source": [
    "We hope you managed to recover the full 10th round key. If not, you may try again [from here](#R8:-Collecting-faulty-outputs). \n",
    "Once the last round key is recovered, you can revert the AES keyscheduling and reveal the actual AES key."
   ]
  },
  {
   "cell_type": "code",
   "execution_count": 30,
   "metadata": {},
   "outputs": [
    {
     "name": "stdout",
     "output_type": "stream",
     "text": [
      "AES Key:\n",
      "2b7e151628aed2a6abf7158809cf4f3c\n"
     ]
    }
   ],
   "source": [
    "if r10 is not None:\n",
    "    from chipwhisperer.analyzer.attacks.models.aes.key_schedule import keyScheduleRounds\n",
    "    key = keyScheduleRounds(bytearray.fromhex(r10), 10, 0)\n",
    "    print(\"AES Key:\")\n",
    "    print(''.join(\"%02x\" % x for x in key))\n",
    "else:\n",
    "    print(\"Sorry, no key found, try another campain, maybe with different parameters...\")"
   ]
  },
  {
   "cell_type": "markdown",
   "metadata": {},
   "source": [
    "### R8: Plotting inner states differences"
   ]
  },
  {
   "cell_type": "markdown",
   "metadata": {},
   "source": [
    "Let's plot the fault diffusion of the first 10 outputs."
   ]
  },
  {
   "cell_type": "code",
   "execution_count": 31,
   "metadata": {},
   "outputs": [
    {
     "data": {
      "image/png": "[encoded data removed]",
      "text/plain": [
       "<matplotlib.figure.Figure at 0x7fba98cbd400>"
      ]
     },
     "metadata": {
      "needs_background": "light"
     },
     "output_type": "display_data"
    }
   ],
   "source": [
    "%run \"Helper_Scripts/AES_differential_plotter.ipynb\"\n",
    "if key is not None:\n",
    "    ad=AesDiff(intext=text, key=key, encrypt=True)\n",
    "    for c in outputs[:10]:\n",
    "        ad.add_glitch(c)\n",
    "    plt=ad.plot_diff_bits()\n",
    "    plt.show()"
   ]
  },
  {
   "cell_type": "markdown",
   "metadata": {},
   "source": [
    "And grouped by faulty bytes. We now see that we get single byte faults one round earlier:"
   ]
  },
  {
   "cell_type": "code",
   "execution_count": 32,
   "metadata": {
    "scrolled": false
   },
   "outputs": [
    {
     "data": {
      "image/png": "[encoded data removed]",
      "text/plain": [
       "<matplotlib.figure.Figure at 0x7fbaafced908>"
      ]
     },
     "metadata": {
      "needs_background": "light"
     },
     "output_type": "display_data"
    }
   ],
   "source": [
    "if key is not None:\n",
    "    plt=ad.plot_diff_bytes()\n",
    "    plt.show()"
   ]
  },
  {
   "cell_type": "markdown",
   "metadata": {},
   "source": [
    "## The end"
   ]
  },
  {
   "cell_type": "markdown",
   "metadata": {},
   "source": [
    "Once you're done, clean up the connection to the scope and target.  \n",
    "**Warning**, once disconnected, you'll have to run the cells since the [CW-lite connection and target flashing](#CW-lite-connection-and-target-flashing) section to be connected again."
   ]
  },
  {
   "cell_type": "code",
   "execution_count": 33,
   "metadata": {},
   "outputs": [],
   "source": [
    "scope.dis()\n",
    "target.dis()"
   ]
  },
  {
   "cell_type": "markdown",
   "metadata": {},
   "source": [
    "This tutorial is over.  \n",
    "You might now try to attack other instances by yourself, e.g. recompile the target with `CRYPTO_TARGET = \"TINYAES128C\"` and try to break it!"
   ]
  }
 ],
 "metadata": {
  "kernelspec": {
   "display_name": "Python 3",
   "language": "python",
   "name": "python3"
  },
  "language_info": {
   "codemirror_mode": {
    "name": "ipython",
    "version": 3
   },
   "file_extension": ".py",
   "mimetype": "text/x-python",
   "name": "python",
   "nbconvert_exporter": "python",
   "pygments_lexer": "ipython3",
   "version": "3.7.1"
  },
  "toc": {
   "base_numbering": 1,
   "nav_menu": {},
   "number_sections": true,
   "sideBar": true,
   "skip_h1_title": true,
   "title_cell": "Table of Contents",
   "title_sidebar": "Contents",
   "toc_cell": false,
   "toc_position": {},
   "toc_section_display": true,
   "toc_window_display": true
  }
 },
 "nbformat": 4,
 "nbformat_minor": 2
}
