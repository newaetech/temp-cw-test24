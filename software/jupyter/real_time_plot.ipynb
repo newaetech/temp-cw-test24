{
 "cells": [
  {
   "cell_type": "code",
   "execution_count": null,
   "metadata": {},
   "outputs": [],
   "source": [
    "import time\n",
    "import os\n",
    "\n",
    "import numpy as np\n",
    "import matplotlib.pyplot as plt\n",
    "from datetime import datetime\n",
    "from tqdm import tqdm\n",
    "\n",
    "import chipwhisperer as cw\n",
    "from chipwhisperer.capture.acq_patterns.basic import AcqKeyTextPattern_Basic\n",
    "from chipwhisperer.tests.tools_for_tests import FIRMWARE_DIR\n",
    "from chipwhisperer.capture.api.programmers import XMEGAProgrammer\n",
    "\n",
    "from bokeh.io import push_notebook, show, output_notebook\n",
    "from bokeh.models import HoverTool\n",
    "from bokeh.plotting import figure \n",
    "output_notebook()"
   ]
  },
  {
   "cell_type": "code",
   "execution_count": null,
   "metadata": {},
   "outputs": [],
   "source": [
    "#connect to chipwhisperer\n",
    "scope = cw.scope()\n",
    "target = cw.target(scope)"
   ]
  },
  {
   "cell_type": "code",
   "execution_count": null,
   "metadata": {},
   "outputs": [],
   "source": [
    "# setup scope parameters\n",
    "scope.gain.gain = 45\n",
    "scope.adc.samples = 3000\n",
    "scope.adc.offset = 1250\n",
    "scope.adc.basic_mode = \"rising_edge\"\n",
    "scope.clock.clkgen_freq = 7370000\n",
    "scope.clock.adc_src = \"clkgen_x4\"\n",
    "scope.trigger.triggers = \"tio4\"\n",
    "scope.io.tio1 = \"serial_rx\"\n",
    "scope.io.tio2 = \"serial_tx\"\n",
    "scope.io.hs2 = \"clkgen\""
   ]
  },
  {
   "cell_type": "code",
   "execution_count": null,
   "metadata": {},
   "outputs": [],
   "source": [
    "%%capture \n",
    "%%bash\n",
    "cd ../../hardware/victims/firmware/simpleserial-aes\n",
    "make PLATFORM=CW303"
   ]
  },
  {
   "cell_type": "code",
   "execution_count": null,
   "metadata": {},
   "outputs": [],
   "source": [
    "# program the target\n",
    "programmer = XMEGAProgrammer()\n",
    "programmer.scope = scope\n",
    "programmer._logging = None\n",
    "programmer.find()\n",
    "programmer.erase()\n",
    "aes_firmware_dir = os.path.join(FIRMWARE_DIR, 'simpleserial-aes')\n",
    "aes_hex = os.path.join(aes_firmware_dir, r\"simpleserial-aes-CW303.hex\")\n",
    "programmer.program('../../hardware/victims/firmware/simpleserial-aes/simpleserial-aes-CW303.hex', memtype=\"flash\", verify=True)\n",
    "programmer.close()"
   ]
  },
  {
   "cell_type": "code",
   "execution_count": null,
   "metadata": {},
   "outputs": [],
   "source": [
    "TOOLS=\"crosshair,pan,wheel_zoom\"\n",
    "\n",
    "x = np.arange(3000)\n",
    "y = np.zeros(3000)\n",
    "\n",
    "p = figure(tools=TOOLS)\n",
    "trace_plot = p.line(x,y)"
   ]
  },
  {
   "cell_type": "code",
   "execution_count": null,
   "metadata": {},
   "outputs": [],
   "source": [
    "# get and explicit handle to update\n",
    "target_plot = show(p, notebook_handle=True)\n",
    "\n",
    "#Capture Traces\n",
    "ktp = AcqKeyTextPattern_Basic(target=target)\n",
    "\n",
    "traces = []\n",
    "textin = []\n",
    "keys = []\n",
    "N = 50  # Number of traces\n",
    "target.init()\n",
    "\n",
    "for i in tqdm(range(N), desc='Capturing traces'):\n",
    "    # run aux stuff that should come before trace here\n",
    "\n",
    "    key, text = ktp.newPair()  # manual creation of a key, text pair can be substituted here\n",
    "    textin.append(text)\n",
    "    keys.append(key)\n",
    "\n",
    "    #target.reinit()\n",
    "\n",
    "    target.setModeEncrypt()  # only does something for targets that support it\n",
    "    target.loadEncryptionKey(key)\n",
    "    target.loadInput(text)\n",
    "\n",
    "    # run aux stuff that should run before the scope arms here\n",
    "\n",
    "    scope.arm()\n",
    "\n",
    "    # run aux stuff that should run after the scope arms here\n",
    "\n",
    "    target.go()\n",
    "    timeout = 50\n",
    "    # wait for target to finish\n",
    "    while target.isDone() is False and timeout:\n",
    "        timeout -= 1\n",
    "        time.sleep(0.01)\n",
    "\n",
    "    try:\n",
    "        ret = scope.capture()\n",
    "        if ret:\n",
    "            print('Timeout happened during acquisition')\n",
    "    except IOError as e:\n",
    "        print('IOError: %s' % str(e))\n",
    "\n",
    "    # run aux stuff that should happen after trace here\n",
    "    _ = target.readOutput()  # clears the response from the serial port\n",
    "    last_trace = scope.getLastTrace()\n",
    "    traces.append(last_trace)\n",
    "    \n",
    "    trace_plot.data_source.data['y'] = last_trace\n",
    "    push_notebook(handle=target_plot)\n",
    "    #time.sleep(0.1)\n",
    "\n",
    "#Convert traces to numpy arrays\n",
    "trace_array = np.asarray(traces)  # if you prefer to work with numpy array for number crunching\n",
    "textin_array = np.asarray(textin)\n",
    "known_keys = np.asarray(keys)  # for fixed key, these keys are all the same"
   ]
  },
  {
   "cell_type": "code",
   "execution_count": null,
   "metadata": {},
   "outputs": [],
   "source": [
    "# cleanup the connection to the target and scope\n",
    "scope.dis()\n",
    "target.dis()"
   ]
  },
  {
   "cell_type": "code",
   "execution_count": null,
   "metadata": {},
   "outputs": [],
   "source": [
    "print(\"done\")"
   ]
  }
 ],
 "metadata": {
  "kernelspec": {
   "display_name": "Python 3",
   "language": "python",
   "name": "python3"
  },
  "language_info": {
   "codemirror_mode": {
    "name": "ipython",
    "version": 3
   },
   "file_extension": ".py",
   "mimetype": "text/x-python",
   "name": "python",
   "nbconvert_exporter": "python",
   "pygments_lexer": "ipython3",
   "version": "3.6.3"
  },
  "toc": {
   "base_numbering": 1,
   "nav_menu": {},
   "number_sections": true,
   "sideBar": true,
   "skip_h1_title": false,
   "title_cell": "Table of Contents",
   "title_sidebar": "Contents",
   "toc_cell": false,
   "toc_position": {},
   "toc_section_display": true,
   "toc_window_display": false
  }
 },
 "nbformat": 4,
 "nbformat_minor": 2
}
