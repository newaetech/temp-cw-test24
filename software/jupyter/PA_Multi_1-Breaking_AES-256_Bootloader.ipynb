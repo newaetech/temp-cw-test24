{
 "cells": [
  {
   "cell_type": "markdown",
   "metadata": {},
   "source": [
    "# Breaking AES-256 Bootloader"
   ]
  },
  {
   "cell_type": "markdown",
   "metadata": {},
   "source": [
    "This tutorial will take you through a complete attack on an encrypted bootloader using AES-256. This demonstrates how to use side-channel power analysis on practical systems, along with discussing how to perform analysis with different Analyzer models."
   ]
  },
  {
   "cell_type": "markdown",
   "metadata": {},
   "source": [
    "## Background"
   ]
  },
  {
   "cell_type": "markdown",
   "metadata": {},
   "source": [
    "In the world of microcontrollers, a bootloader is a special piece of firmware that is made to let the user upload new programs into memory. This is especially useful for devices with complex code that may need to be patched or otherwise updated in the future - a bootloader makes it possible for the user to upload a patched version of the firmware onto the micro. The bootloader receives information from a communication line (a USB port, serial port, ethernet port, WiFi connection, etc...) and stores this data into program memory. Once the full firmware has been received, the micro can happily run its updated code.\n",
    "\n",
    "There is one big security issue to worry about with bootloaders. A company may want to stop their customers from writing their own firmware and uploading it onto the micro. For example, this might be for protection reasons - hackers might be able to access parts of the device that weren't meant to be accessed. One way of stopping this is to add encryption. The company can add their own secret signature to the firmware code and encrypt it with a secret key. Then, the bootloader can decrypt the incoming firmware and confirm that the incoming firmware is correctly signed. Users will not know the secret key or the signature tied to the firmware, so they won't be able to \"fake\" their own.\n",
    "\n",
    "This tutorial will work with a simple AES-256 bootloader. The victim will receive data through a serial connection, decrypt the command, and confirm that the included signature is correct. Then, it will only save the code into memory if the signature check succeeded. To make this system more robust against attacks, the bootloader will use cipher-block chaining (CBC mode). Our goal is to find the secret key and the CBC initialization vector so that we could successfully fake our own firmware."
   ]
  },
  {
   "cell_type": "markdown",
   "metadata": {},
   "source": [
    "### Bootloader Communications Protocol"
   ]
  },
  {
   "cell_type": "markdown",
   "metadata": {},
   "source": [
    "The bootloader's communications protocol operates over a serial port at 38400 baud rate. The bootloader is always waiting for new data to be sent in this example; in real life one would typically force the bootloader to enter through a command sequence.\n",
    "\n",
    "Commands sent to the bootloader look as follows:\n",
    "\n",
    "```\n",
    "       |<-------- Encrypted block (16 bytes) ---------->|\n",
    "       |                                                |\n",
    "+------+------+------+------+------+------+ .... +------+------+------+\n",
    "| 0x00 |    Signature (4 Bytes)    |  Data (12 Bytes)   |   CRC-16    |\n",
    "+------+------+------+------+------+------+ .... +------+------+------+\n",
    "```\n",
    "\n",
    "This frame has four parts:\n",
    "\n",
    "* `0x00`: 1 byte of fixed header\n",
    "* Signature: A secret 4 byte constant. The bootloader will confirm that this signature is correct after decrypting the frame.\n",
    "* Data: 12 bytes of the incoming firmware. This system forces us to send the code 12 bytes at a time; more complete bootloaders may allow longer variable-length frames.\n",
    "* CRC-16: A 16-bit checksum using the CRC-CCITT polynomial (0x1021). The LSB of the CRC is sent first, followed by the MSB. The bootloader will reply over the serial port, describing whether or not this CRC check was valid.\n",
    "\n",
    "As described in the diagram, the 16 byte block is not sent as plaintext. Instead, it is encrypted using AES-256 in CBC mode. This encryption method will be described in the next section.\n",
    "\n",
    "The bootloader responds to each command with a single byte indicating if the CRC-16 was OK or not:\n",
    "\n",
    "```\n",
    "            +------+\n",
    "CRC-OK:     | 0xA1 |\n",
    "            +------+\n",
    "\n",
    "            +------+\n",
    "CRC Failed: | 0xA4 |\n",
    "            +------+\n",
    "```\n",
    "Then, after replying to the command, the bootloader veries that the signature is correct. If it matches the expected manufacturer's signature, the 12 bytes of data will be written to flash memory. Otherwise, the data is discarded."
   ]
  },
  {
   "cell_type": "markdown",
   "metadata": {},
   "source": [
    "### Details of AES-256 CBC"
   ]
  },
  {
   "cell_type": "markdown",
   "metadata": {},
   "source": [
    "The system uses the AES algorithm in Cipher Block Chaining (CBC) mode. In general one avoids using encryption 'as-is' (i.e. Electronic Code Book), since it means any piece of plaintext always maps to the same piece of ciphertext. Cipher Block Chaining ensures that if you encrypted the same thing a bunch of times it would always encrypt to a new piece of ciphertext.\n",
    "\n",
    "You can see another reference on the design of the encryption side; we'll be only talking about the decryption side here. In this case AES-256 CBC mode is used as follows, where the details of the AES-256 Decryption block will be discussed in detail later:\n",
    "\n",
    "![AES-256](https://wiki.newae.com/images/8/88/Aes256_cbc.png)\n",
    "\n",
    "This diagram shows that the output of the decryption is no longer used directly as the plaintext. Instead, the output is XORed with a 16 byte mask, which is usually taken from the previous ciphertext. Also, the first decryption block has no previous ciphertext to use, so a secret initialization vector (IV) is used instead. If we are going to decrypt the entire ciphertext (including block 0) or correctly generate our own ciphertext, we'll need to find this IV along with the AES key."
   ]
  },
  {
   "cell_type": "markdown",
   "metadata": {},
   "source": [
    "### Attacking AES-256"
   ]
  },
  {
   "cell_type": "markdown",
   "metadata": {},
   "source": [
    "The system in this tutorial uses AES-256 encryption, which has a 256 bit (32 byte) key - twice as large as the 16 byte key we've attacked in previous tutorials. This means that our regular AES-128 CPA attacks won't quite work. However, extending these attacks to AES-256 is fairly straightforward: the theory is explained in detail in Extending AES-128 Attacks to AES-256.\n",
    "\n",
    "As the theory page explains, our AES-256 attack will have 4 steps:\n",
    "\n",
    "1. Perform a standard attack (as in AES-128 decryption) to determine the first 16 bytes of the key, corresponding to the 14th round encryption key.\n",
    "1. Using the known 14th round key, calculate the hypothetical outputs of each S-Box from the 13th round using the ciphertext processed by the 14th round, and determine the 16 bytes of the 13th round key manipulated by inverse MixColumns.\n",
    "1. Perform the MixColumns and ShiftRows operation on the hypothetical key determined above, recovering the 13th round key.\n",
    "1. Using the AES-256 key schedule, reverse the 13th and 14th round keys to determine the original AES-256 encryption key."
   ]
  },
  {
   "cell_type": "markdown",
   "metadata": {},
   "source": [
    "## Firmware"
   ]
  },
  {
   "cell_type": "markdown",
   "metadata": {},
   "source": [
    "For this tutorial, we'll be using the `bootloader-aes256` project, which we'll build as usual:"
   ]
  },
  {
   "cell_type": "code",
   "execution_count": null,
   "metadata": {},
   "outputs": [],
   "source": [
    "PLATFORM = \"CWLITEARM\"\n",
    "CRYPTO_TARGET=\"NONE\""
   ]
  },
  {
   "cell_type": "code",
   "execution_count": null,
   "metadata": {},
   "outputs": [],
   "source": [
    "%%bash -s \"$PLATFORM\" \"$CRYPTO_TARGET\"\n",
    "cd ../../hardware/victims/firmware/bootloader-aes256\n",
    "make PLATFORM=$1 CRYPTO_TARGET=$2"
   ]
  },
  {
   "cell_type": "markdown",
   "metadata": {},
   "source": [
    "## Capturing Traces"
   ]
  },
  {
   "cell_type": "markdown",
   "metadata": {},
   "source": [
    "### Setup"
   ]
  },
  {
   "cell_type": "markdown",
   "metadata": {},
   "source": [
    "To start, we'll proceed with setup as usual:"
   ]
  },
  {
   "cell_type": "code",
   "execution_count": 1,
   "metadata": {},
   "outputs": [],
   "source": [
    "import chipwhisperer as cw\n",
    "scope = cw.scope()\n",
    "target = cw.target(scope)"
   ]
  },
  {
   "cell_type": "code",
   "execution_count": 2,
   "metadata": {},
   "outputs": [],
   "source": [
    "%run \"Helper_Scripts/Setup_Target_Generic.ipynb\""
   ]
  },
  {
   "cell_type": "code",
   "execution_count": 3,
   "metadata": {},
   "outputs": [],
   "source": [
    "fw_path = \"../../hardware/victims/firmware/bootloader-aes256/bootloader-aes256-CWLITEARM.hex\"\n",
    "prog = cw.programmers.STM32FProgrammer\n",
    "#prog = cw.programmers.XMEGAProgrammer"
   ]
  },
  {
   "cell_type": "code",
   "execution_count": 4,
   "metadata": {},
   "outputs": [
    {
     "name": "stdout",
     "output_type": "stream",
     "text": [
      "Detected known STMF32: STM32F302xB(C)/303xB(C)\n",
      "Extended erase (0x44), this can take ten seconds or more\n",
      "Attempting to programming 5843 bytes at 0x8000000\n",
      "STM32F Programming flash...\n",
      "STM32F Reading flash...\n",
      "Verified flash OK, 5843 bytes\n"
     ]
    }
   ],
   "source": [
    "cw.programTarget(scope, prog, fw_path)"
   ]
  },
  {
   "cell_type": "markdown",
   "metadata": {},
   "source": [
    "### Calculating the CRC"
   ]
  },
  {
   "cell_type": "markdown",
   "metadata": {},
   "source": [
    "The next step we'll need to take in attacking this target is to communicate with it. Most of the transmission is fairly straight forward, but the CRC is a little tricky. Luckily, there's a lot of open source out there for calculating CRCs. In this case, we'll pull some code from pycrc:"
   ]
  },
  {
   "cell_type": "code",
   "execution_count": 5,
   "metadata": {},
   "outputs": [],
   "source": [
    "# Class Crc\n",
    "#############################################################\n",
    "# These CRC routines are copy-pasted from pycrc, which are:\n",
    "# Copyright (c) 2006-2013 Thomas Pircher <tehpeh@gmx.net>\n",
    "#\n",
    "class Crc(object):\n",
    "    \"\"\"\n",
    "    A base class for CRC routines.\n",
    "    \"\"\"\n",
    "\n",
    "    def __init__(self, width, poly):\n",
    "        \"\"\"The Crc constructor.\n",
    "\n",
    "        The parameters are as follows:\n",
    "            width\n",
    "            poly\n",
    "            reflect_in\n",
    "            xor_in\n",
    "            reflect_out\n",
    "            xor_out\n",
    "        \"\"\"\n",
    "        self.Width = width\n",
    "        self.Poly = poly\n",
    "\n",
    "\n",
    "        self.MSB_Mask = 0x1 << (self.Width - 1)\n",
    "        self.Mask = ((self.MSB_Mask - 1) << 1) | 1\n",
    "\n",
    "        self.XorIn = 0x0000\n",
    "        self.XorOut = 0x0000\n",
    "\n",
    "        self.DirectInit = self.XorIn\n",
    "        self.NonDirectInit = self.__get_nondirect_init(self.XorIn)\n",
    "        if self.Width < 8:\n",
    "            self.CrcShift = 8 - self.Width\n",
    "        else:\n",
    "            self.CrcShift = 0\n",
    "\n",
    "    def __get_nondirect_init(self, init):\n",
    "        \"\"\"\n",
    "        return the non-direct init if the direct algorithm has been selected.\n",
    "        \"\"\"\n",
    "        crc = init\n",
    "        for i in range(self.Width):\n",
    "            bit = crc & 0x01\n",
    "            if bit:\n",
    "                crc ^= self.Poly\n",
    "            crc >>= 1\n",
    "            if bit:\n",
    "                crc |= self.MSB_Mask\n",
    "        return crc & self.Mask\n",
    "\n",
    "\n",
    "    def bit_by_bit(self, in_data):\n",
    "        \"\"\"\n",
    "        Classic simple and slow CRC implementation.  This function iterates bit\n",
    "        by bit over the augmented input message and returns the calculated CRC\n",
    "        value at the end.\n",
    "        \"\"\"\n",
    "        # If the input data is a string, convert to bytes.\n",
    "        if isinstance(in_data, str):\n",
    "            in_data = [ord(c) for c in in_data]\n",
    "\n",
    "        register = self.NonDirectInit\n",
    "        for octet in in_data:\n",
    "            for i in range(8):\n",
    "                topbit = register & self.MSB_Mask\n",
    "                register = ((register << 1) & self.Mask) | ((octet >> (7 - i)) & 0x01)\n",
    "                if topbit:\n",
    "                    register ^= self.Poly\n",
    "\n",
    "        for i in range(self.Width):\n",
    "            topbit = register & self.MSB_Mask\n",
    "            register = ((register << 1) & self.Mask)\n",
    "            if topbit:\n",
    "                register ^= self.Poly\n",
    "\n",
    "        return register ^ self.XorOut\n",
    "    \n",
    "bl_crc = Crc(width = 16, poly=0x1021)"
   ]
  },
  {
   "cell_type": "markdown",
   "metadata": {},
   "source": [
    "Now we can easily get the CRC for our message by calling `bl_crc.bit_by_bit(message)`. "
   ]
  },
  {
   "cell_type": "markdown",
   "metadata": {},
   "source": [
    "### Communicating with the Bootloader"
   ]
  },
  {
   "cell_type": "markdown",
   "metadata": {},
   "source": [
    "With that done, we can start communicating with the bootloader. Recall that the bootloader expects:\n",
    "* To start with `0x00`\n",
    "* A 16 byte encrypted message (4 bytes signature + 12 bytes data)\n",
    "* CRC16\n",
    "\n",
    "We don't really care what the 16 byte message is (just that each is different so that we get a variety of hamming weights), so we'll use the same text/key module from earlier attacks.\n",
    "\n",
    "We can now run the following block, and we should get `0xA4` back. You may need to run this block a few times to get the right response back."
   ]
  },
  {
   "cell_type": "code",
   "execution_count": 6,
   "metadata": {},
   "outputs": [],
   "source": [
    "import time\n",
    "okay = 0\n",
    "while not okay:\n",
    "    target.ser.write(\"\\0xxxxxxxxxxxxxxxxxx\")\n",
    "    time.sleep(0.005)\n",
    "    num_char = target.ser.inWaiting()\n",
    "    response = target.ser.read(num_char)\n",
    "    if response:\n",
    "        if ord(response[0]) == 0xA1:\n",
    "            okay = 1"
   ]
  },
  {
   "cell_type": "code",
   "execution_count": 7,
   "metadata": {},
   "outputs": [
    {
     "name": "stdout",
     "output_type": "stream",
     "text": [
      "\n",
      "Response: A4\n"
     ]
    }
   ],
   "source": [
    "import time\n",
    "message = [0x00]\n",
    "ktp = cw.ktp.Basic(target=target)\n",
    "\n",
    "# clear serial buffer\n",
    "num_char = target.ser.inWaiting()\n",
    "print(target.ser.read(num_char))\n",
    "\n",
    "key, text = ktp.newPair() #don't care about key here\n",
    "message.extend(text)\n",
    "\n",
    "crc = bl_crc.bit_by_bit(text)\n",
    "\n",
    "message.append(crc >> 8)\n",
    "message.append(crc & 0xFF)\n",
    "\n",
    "target.ser.write(message)\n",
    "time.sleep(0.1)\n",
    "\n",
    "num_char = target.ser.inWaiting()\n",
    "response = target.ser.read(num_char)\n",
    "print(\"Response: {:02X}\".format(ord(response[0])))"
   ]
  },
  {
   "cell_type": "markdown",
   "metadata": {},
   "source": [
    "### Capturing Traces"
   ]
  },
  {
   "cell_type": "markdown",
   "metadata": {},
   "source": [
    "With that out of the way, we can proceed to capturing our traces. The normal 5000 traces we capture isn't long enough to get the rounds we care about, so we'll need to increase it (11000 should be fine):"
   ]
  },
  {
   "cell_type": "code",
   "execution_count": 8,
   "metadata": {},
   "outputs": [],
   "source": [
    "scope.adc.samples = 11000"
   ]
  },
  {
   "cell_type": "markdown",
   "metadata": {},
   "source": [
    "We'll be working with Analyzer, so we'll need to use a ChipWhisperer project to store our traces and text:"
   ]
  },
  {
   "cell_type": "code",
   "execution_count": 9,
   "metadata": {},
   "outputs": [],
   "source": [
    "project = cw.createProject(\"projects/Tutorial_A5.cwp\", overwrite=True)\n",
    "tc = project.getTraceFormat()\n",
    "ktp = cw.ktp.Basic(target=target)"
   ]
  },
  {
   "cell_type": "markdown",
   "metadata": {},
   "source": [
    "Below you'll find our capture loop. This will be pretty similar to Tutorial B5, but we've added our communication code. We also check the response and just skip the data we get if it isn't correct."
   ]
  },
  {
   "cell_type": "code",
   "execution_count": 10,
   "metadata": {},
   "outputs": [
    {
     "name": "stderr",
     "output_type": "stream",
     "text": [
      "Capturing traces: 100%|██████████| 100/100 [00:14<00:00,  6.81it/s]\n"
     ]
    }
   ],
   "source": [
    "#Capture Traces\n",
    "from tqdm import tqdm\n",
    "import numpy as np\n",
    "import time\n",
    "keys = []\n",
    "N = 100  # Number of traces\n",
    "target.init()\n",
    "for i in tqdm(range(N), desc='Capturing traces'):\n",
    "    message = [0x00]\n",
    "    \n",
    "    num_char = target.ser.inWaiting()\n",
    "    target.ser.read(num_char)\n",
    "    \n",
    "    key, text = ktp.newPair()  # manual creation of a key, text pair can be substituted here\n",
    "    keys.append(key)\n",
    "    \n",
    "    message.extend(text)\n",
    "    \n",
    "    crc = bl_crc.bit_by_bit(text)\n",
    "    message.append(crc >> 8)\n",
    "    message.append(crc & 0xFF)\n",
    "\n",
    "    # run aux stuff that should run before the scope arms here\n",
    "\n",
    "    scope.arm()\n",
    "\n",
    "    # run aux stuff that should run after the scope arms here\n",
    "\n",
    "    target.ser.write(message)\n",
    "    timeout = 50\n",
    "    # wait for target to finish\n",
    "    while target.isDone() is False and timeout:\n",
    "        timeout -= 1\n",
    "        time.sleep(0.01)\n",
    "\n",
    "    try:\n",
    "        ret = scope.capture()\n",
    "        if ret:\n",
    "            print('Timeout happened during acquisition')\n",
    "    except IOError as e:\n",
    "        print('IOError: %s' % str(e))\n",
    "\n",
    "    # run aux stuff that should happen after trace here\n",
    "    num_char = target.ser.inWaiting()\n",
    "    response = target.ser.read(num_char)\n",
    "    if ord(response[0]) != 0xA4:\n",
    "        # Bad response, just skip\n",
    "        print(\"Bad response: {:02X}\".format(ord(response[0])))\n",
    "        continue\n",
    "    \n",
    "    tc.addTrace(scope.getLastTrace(), text, \"\", key)\n",
    "    \n",
    "tc._isloaded = True\n",
    "project.traceManager().appendSegment(tc)"
   ]
  },
  {
   "cell_type": "markdown",
   "metadata": {},
   "source": [
    "## Analysis"
   ]
  },
  {
   "cell_type": "markdown",
   "metadata": {},
   "source": [
    "Now that we have our traces, we can go ahead and perform the attack. As described in the background theory, we'll have to do two attacks - one to get the 14th round key, and another (using the first result) to get the 13th round key. Then, we'll do some post-processing to finally get the 256 bit encryption key."
   ]
  },
  {
   "cell_type": "markdown",
   "metadata": {},
   "source": [
    "### 14th Round Key"
   ]
  },
  {
   "cell_type": "markdown",
   "metadata": {},
   "source": [
    "We can attack the 14th round key with a standard, no-frills CPA attack (using the inverse sbox, since it's a decryption that we're breaking):"
   ]
  },
  {
   "cell_type": "code",
   "execution_count": 11,
   "metadata": {},
   "outputs": [],
   "source": [
    "import chipwhisperer as cw\n",
    "\n",
    "tm = project.traceManager()\n",
    "leak_model = cw.AES128(cw.aes128leakage.InvSBox_output)\n",
    "attack = cw.cpa(tm, leak_model)"
   ]
  },
  {
   "cell_type": "markdown",
   "metadata": {},
   "source": [
    "With the setup done, we can actually preform the attack. 11000 samples is a rather large amount to chew through, so if you want a faster attack you can use a smaller range in `attack.setPointRange()`. `(2900, 4200)` will work for XMEGA, while `(1400, 2600)` will work for the STM32F3 (CWLite ARM)."
   ]
  },
  {
   "cell_type": "code",
   "execution_count": 12,
   "metadata": {},
   "outputs": [
    {
     "data": {
      "text/html": [
       "<style  type=\"text/css\" >\n",
       "</style>  \n",
       "<table id=\"T_362196ae_f8d1_11e8_8c7e_f82fa8e48779\" ><caption>Finished traces 90 to 100</caption> \n",
       "<thead>    <tr> \n",
       "        <th class=\"blank level0\" ></th> \n",
       "        <th class=\"col_heading level0 col0\" >0</th> \n",
       "        <th class=\"col_heading level0 col1\" >1</th> \n",
       "        <th class=\"col_heading level0 col2\" >2</th> \n",
       "        <th class=\"col_heading level0 col3\" >3</th> \n",
       "        <th class=\"col_heading level0 col4\" >4</th> \n",
       "        <th class=\"col_heading level0 col5\" >5</th> \n",
       "        <th class=\"col_heading level0 col6\" >6</th> \n",
       "        <th class=\"col_heading level0 col7\" >7</th> \n",
       "        <th class=\"col_heading level0 col8\" >8</th> \n",
       "        <th class=\"col_heading level0 col9\" >9</th> \n",
       "        <th class=\"col_heading level0 col10\" >10</th> \n",
       "        <th class=\"col_heading level0 col11\" >11</th> \n",
       "        <th class=\"col_heading level0 col12\" >12</th> \n",
       "        <th class=\"col_heading level0 col13\" >13</th> \n",
       "        <th class=\"col_heading level0 col14\" >14</th> \n",
       "        <th class=\"col_heading level0 col15\" >15</th> \n",
       "    </tr></thead> \n",
       "<tbody>    <tr> \n",
       "        <th id=\"T_362196ae_f8d1_11e8_8c7e_f82fa8e48779level0_row0\" class=\"row_heading level0 row0\" >PGE=</th> \n",
       "        <td id=\"T_362196ae_f8d1_11e8_8c7e_f82fa8e48779row0_col0\" class=\"data row0 col0\" >90</td> \n",
       "        <td id=\"T_362196ae_f8d1_11e8_8c7e_f82fa8e48779row0_col1\" class=\"data row0 col1\" >129</td> \n",
       "        <td id=\"T_362196ae_f8d1_11e8_8c7e_f82fa8e48779row0_col2\" class=\"data row0 col2\" >51</td> \n",
       "        <td id=\"T_362196ae_f8d1_11e8_8c7e_f82fa8e48779row0_col3\" class=\"data row0 col3\" >137</td> \n",
       "        <td id=\"T_362196ae_f8d1_11e8_8c7e_f82fa8e48779row0_col4\" class=\"data row0 col4\" >181</td> \n",
       "        <td id=\"T_362196ae_f8d1_11e8_8c7e_f82fa8e48779row0_col5\" class=\"data row0 col5\" >16</td> \n",
       "        <td id=\"T_362196ae_f8d1_11e8_8c7e_f82fa8e48779row0_col6\" class=\"data row0 col6\" >59</td> \n",
       "        <td id=\"T_362196ae_f8d1_11e8_8c7e_f82fa8e48779row0_col7\" class=\"data row0 col7\" >25</td> \n",
       "        <td id=\"T_362196ae_f8d1_11e8_8c7e_f82fa8e48779row0_col8\" class=\"data row0 col8\" >131</td> \n",
       "        <td id=\"T_362196ae_f8d1_11e8_8c7e_f82fa8e48779row0_col9\" class=\"data row0 col9\" >104</td> \n",
       "        <td id=\"T_362196ae_f8d1_11e8_8c7e_f82fa8e48779row0_col10\" class=\"data row0 col10\" >229</td> \n",
       "        <td id=\"T_362196ae_f8d1_11e8_8c7e_f82fa8e48779row0_col11\" class=\"data row0 col11\" >138</td> \n",
       "        <td id=\"T_362196ae_f8d1_11e8_8c7e_f82fa8e48779row0_col12\" class=\"data row0 col12\" >195</td> \n",
       "        <td id=\"T_362196ae_f8d1_11e8_8c7e_f82fa8e48779row0_col13\" class=\"data row0 col13\" >203</td> \n",
       "        <td id=\"T_362196ae_f8d1_11e8_8c7e_f82fa8e48779row0_col14\" class=\"data row0 col14\" >162</td> \n",
       "        <td id=\"T_362196ae_f8d1_11e8_8c7e_f82fa8e48779row0_col15\" class=\"data row0 col15\" >83</td> \n",
       "    </tr>    <tr> \n",
       "        <th id=\"T_362196ae_f8d1_11e8_8c7e_f82fa8e48779level0_row1\" class=\"row_heading level0 row1\" >0</th> \n",
       "        <td id=\"T_362196ae_f8d1_11e8_8c7e_f82fa8e48779row1_col0\" class=\"data row1 col0\" >EA<br>0.851</td> \n",
       "        <td id=\"T_362196ae_f8d1_11e8_8c7e_f82fa8e48779row1_col1\" class=\"data row1 col1\" >79<br>0.884</td> \n",
       "        <td id=\"T_362196ae_f8d1_11e8_8c7e_f82fa8e48779row1_col2\" class=\"data row1 col2\" >79<br>0.898</td> \n",
       "        <td id=\"T_362196ae_f8d1_11e8_8c7e_f82fa8e48779row1_col3\" class=\"data row1 col3\" >20<br>0.893</td> \n",
       "        <td id=\"T_362196ae_f8d1_11e8_8c7e_f82fa8e48779row1_col4\" class=\"data row1 col4\" >C8<br>0.890</td> \n",
       "        <td id=\"T_362196ae_f8d1_11e8_8c7e_f82fa8e48779row1_col5\" class=\"data row1 col5\" >71<br>0.898</td> \n",
       "        <td id=\"T_362196ae_f8d1_11e8_8c7e_f82fa8e48779row1_col6\" class=\"data row1 col6\" >44<br>0.848</td> \n",
       "        <td id=\"T_362196ae_f8d1_11e8_8c7e_f82fa8e48779row1_col7\" class=\"data row1 col7\" >7D<br>0.853</td> \n",
       "        <td id=\"T_362196ae_f8d1_11e8_8c7e_f82fa8e48779row1_col8\" class=\"data row1 col8\" >46<br>0.847</td> \n",
       "        <td id=\"T_362196ae_f8d1_11e8_8c7e_f82fa8e48779row1_col9\" class=\"data row1 col9\" >62<br>0.859</td> \n",
       "        <td id=\"T_362196ae_f8d1_11e8_8c7e_f82fa8e48779row1_col10\" class=\"data row1 col10\" >5F<br>0.869</td> \n",
       "        <td id=\"T_362196ae_f8d1_11e8_8c7e_f82fa8e48779row1_col11\" class=\"data row1 col11\" >51<br>0.896</td> \n",
       "        <td id=\"T_362196ae_f8d1_11e8_8c7e_f82fa8e48779row1_col12\" class=\"data row1 col12\" >85<br>0.902</td> \n",
       "        <td id=\"T_362196ae_f8d1_11e8_8c7e_f82fa8e48779row1_col13\" class=\"data row1 col13\" >C1<br>0.869</td> \n",
       "        <td id=\"T_362196ae_f8d1_11e8_8c7e_f82fa8e48779row1_col14\" class=\"data row1 col14\" >3B<br>0.828</td> \n",
       "        <td id=\"T_362196ae_f8d1_11e8_8c7e_f82fa8e48779row1_col15\" class=\"data row1 col15\" >CB<br>0.878</td> \n",
       "    </tr>    <tr> \n",
       "        <th id=\"T_362196ae_f8d1_11e8_8c7e_f82fa8e48779level0_row2\" class=\"row_heading level0 row2\" >1</th> \n",
       "        <td id=\"T_362196ae_f8d1_11e8_8c7e_f82fa8e48779row2_col0\" class=\"data row2 col0\" >28<br>0.483</td> \n",
       "        <td id=\"T_362196ae_f8d1_11e8_8c7e_f82fa8e48779row2_col1\" class=\"data row2 col1\" >C4<br>0.461</td> \n",
       "        <td id=\"T_362196ae_f8d1_11e8_8c7e_f82fa8e48779row2_col2\" class=\"data row2 col2\" >3E<br>0.444</td> \n",
       "        <td id=\"T_362196ae_f8d1_11e8_8c7e_f82fa8e48779row2_col3\" class=\"data row2 col3\" >D4<br>0.482</td> \n",
       "        <td id=\"T_362196ae_f8d1_11e8_8c7e_f82fa8e48779row2_col4\" class=\"data row2 col4\" >8C<br>0.418</td> \n",
       "        <td id=\"T_362196ae_f8d1_11e8_8c7e_f82fa8e48779row2_col5\" class=\"data row2 col5\" >73<br>0.468</td> \n",
       "        <td id=\"T_362196ae_f8d1_11e8_8c7e_f82fa8e48779row2_col6\" class=\"data row2 col6\" >AD<br>0.465</td> \n",
       "        <td id=\"T_362196ae_f8d1_11e8_8c7e_f82fa8e48779row2_col7\" class=\"data row2 col7\" >83<br>0.442</td> \n",
       "        <td id=\"T_362196ae_f8d1_11e8_8c7e_f82fa8e48779row2_col8\" class=\"data row2 col8\" >B5<br>0.464</td> \n",
       "        <td id=\"T_362196ae_f8d1_11e8_8c7e_f82fa8e48779row2_col9\" class=\"data row2 col9\" >43<br>0.476</td> \n",
       "        <td id=\"T_362196ae_f8d1_11e8_8c7e_f82fa8e48779row2_col10\" class=\"data row2 col10\" >D5<br>0.456</td> \n",
       "        <td id=\"T_362196ae_f8d1_11e8_8c7e_f82fa8e48779row2_col11\" class=\"data row2 col11\" >D6<br>0.468</td> \n",
       "        <td id=\"T_362196ae_f8d1_11e8_8c7e_f82fa8e48779row2_col12\" class=\"data row2 col12\" >3C<br>0.506</td> \n",
       "        <td id=\"T_362196ae_f8d1_11e8_8c7e_f82fa8e48779row2_col13\" class=\"data row2 col13\" >F9<br>0.434</td> \n",
       "        <td id=\"T_362196ae_f8d1_11e8_8c7e_f82fa8e48779row2_col14\" class=\"data row2 col14\" >D7<br>0.475</td> \n",
       "        <td id=\"T_362196ae_f8d1_11e8_8c7e_f82fa8e48779row2_col15\" class=\"data row2 col15\" >0B<br>0.435</td> \n",
       "    </tr>    <tr> \n",
       "        <th id=\"T_362196ae_f8d1_11e8_8c7e_f82fa8e48779level0_row3\" class=\"row_heading level0 row3\" >2</th> \n",
       "        <td id=\"T_362196ae_f8d1_11e8_8c7e_f82fa8e48779row3_col0\" class=\"data row3 col0\" >3E<br>0.452</td> \n",
       "        <td id=\"T_362196ae_f8d1_11e8_8c7e_f82fa8e48779row3_col1\" class=\"data row3 col1\" >93<br>0.440</td> \n",
       "        <td id=\"T_362196ae_f8d1_11e8_8c7e_f82fa8e48779row3_col2\" class=\"data row3 col2\" >C9<br>0.439</td> \n",
       "        <td id=\"T_362196ae_f8d1_11e8_8c7e_f82fa8e48779row3_col3\" class=\"data row3 col3\" >02<br>0.471</td> \n",
       "        <td id=\"T_362196ae_f8d1_11e8_8c7e_f82fa8e48779row3_col4\" class=\"data row3 col4\" >2A<br>0.404</td> \n",
       "        <td id=\"T_362196ae_f8d1_11e8_8c7e_f82fa8e48779row3_col5\" class=\"data row3 col5\" >12<br>0.418</td> \n",
       "        <td id=\"T_362196ae_f8d1_11e8_8c7e_f82fa8e48779row3_col6\" class=\"data row3 col6\" >F9<br>0.464</td> \n",
       "        <td id=\"T_362196ae_f8d1_11e8_8c7e_f82fa8e48779row3_col7\" class=\"data row3 col7\" >E1<br>0.435</td> \n",
       "        <td id=\"T_362196ae_f8d1_11e8_8c7e_f82fa8e48779row3_col8\" class=\"data row3 col8\" >55<br>0.461</td> \n",
       "        <td id=\"T_362196ae_f8d1_11e8_8c7e_f82fa8e48779row3_col9\" class=\"data row3 col9\" >8D<br>0.435</td> \n",
       "        <td id=\"T_362196ae_f8d1_11e8_8c7e_f82fa8e48779row3_col10\" class=\"data row3 col10\" >C3<br>0.453</td> \n",
       "        <td id=\"T_362196ae_f8d1_11e8_8c7e_f82fa8e48779row3_col11\" class=\"data row3 col11\" >53<br>0.424</td> \n",
       "        <td id=\"T_362196ae_f8d1_11e8_8c7e_f82fa8e48779row3_col12\" class=\"data row3 col12\" >CA<br>0.449</td> \n",
       "        <td id=\"T_362196ae_f8d1_11e8_8c7e_f82fa8e48779row3_col13\" class=\"data row3 col13\" >18<br>0.422</td> \n",
       "        <td id=\"T_362196ae_f8d1_11e8_8c7e_f82fa8e48779row3_col14\" class=\"data row3 col14\" >7A<br>0.467</td> \n",
       "        <td id=\"T_362196ae_f8d1_11e8_8c7e_f82fa8e48779row3_col15\" class=\"data row3 col15\" >6C<br>0.429</td> \n",
       "    </tr>    <tr> \n",
       "        <th id=\"T_362196ae_f8d1_11e8_8c7e_f82fa8e48779level0_row4\" class=\"row_heading level0 row4\" >3</th> \n",
       "        <td id=\"T_362196ae_f8d1_11e8_8c7e_f82fa8e48779row4_col0\" class=\"data row4 col0\" >9C<br>0.429</td> \n",
       "        <td id=\"T_362196ae_f8d1_11e8_8c7e_f82fa8e48779row4_col1\" class=\"data row4 col1\" >7B<br>0.438</td> \n",
       "        <td id=\"T_362196ae_f8d1_11e8_8c7e_f82fa8e48779row4_col2\" class=\"data row4 col2\" >25<br>0.432</td> \n",
       "        <td id=\"T_362196ae_f8d1_11e8_8c7e_f82fa8e48779row4_col3\" class=\"data row4 col3\" >F1<br>0.452</td> \n",
       "        <td id=\"T_362196ae_f8d1_11e8_8c7e_f82fa8e48779row4_col4\" class=\"data row4 col4\" >82<br>0.401</td> \n",
       "        <td id=\"T_362196ae_f8d1_11e8_8c7e_f82fa8e48779row4_col5\" class=\"data row4 col5\" >2C<br>0.416</td> \n",
       "        <td id=\"T_362196ae_f8d1_11e8_8c7e_f82fa8e48779row4_col6\" class=\"data row4 col6\" >95<br>0.460</td> \n",
       "        <td id=\"T_362196ae_f8d1_11e8_8c7e_f82fa8e48779row4_col7\" class=\"data row4 col7\" >60<br>0.432</td> \n",
       "        <td id=\"T_362196ae_f8d1_11e8_8c7e_f82fa8e48779row4_col8\" class=\"data row4 col8\" >D7<br>0.460</td> \n",
       "        <td id=\"T_362196ae_f8d1_11e8_8c7e_f82fa8e48779row4_col9\" class=\"data row4 col9\" >D6<br>0.428</td> \n",
       "        <td id=\"T_362196ae_f8d1_11e8_8c7e_f82fa8e48779row4_col10\" class=\"data row4 col10\" >5E<br>0.429</td> \n",
       "        <td id=\"T_362196ae_f8d1_11e8_8c7e_f82fa8e48779row4_col11\" class=\"data row4 col11\" >C0<br>0.424</td> \n",
       "        <td id=\"T_362196ae_f8d1_11e8_8c7e_f82fa8e48779row4_col12\" class=\"data row4 col12\" >1C<br>0.449</td> \n",
       "        <td id=\"T_362196ae_f8d1_11e8_8c7e_f82fa8e48779row4_col13\" class=\"data row4 col13\" >92<br>0.418</td> \n",
       "        <td id=\"T_362196ae_f8d1_11e8_8c7e_f82fa8e48779row4_col14\" class=\"data row4 col14\" >ED<br>0.445</td> \n",
       "        <td id=\"T_362196ae_f8d1_11e8_8c7e_f82fa8e48779row4_col15\" class=\"data row4 col15\" >96<br>0.425</td> \n",
       "    </tr>    <tr> \n",
       "        <th id=\"T_362196ae_f8d1_11e8_8c7e_f82fa8e48779level0_row5\" class=\"row_heading level0 row5\" >4</th> \n",
       "        <td id=\"T_362196ae_f8d1_11e8_8c7e_f82fa8e48779row5_col0\" class=\"data row5 col0\" >0C<br>0.422</td> \n",
       "        <td id=\"T_362196ae_f8d1_11e8_8c7e_f82fa8e48779row5_col1\" class=\"data row5 col1\" >05<br>0.426</td> \n",
       "        <td id=\"T_362196ae_f8d1_11e8_8c7e_f82fa8e48779row5_col2\" class=\"data row5 col2\" >7A<br>0.413</td> \n",
       "        <td id=\"T_362196ae_f8d1_11e8_8c7e_f82fa8e48779row5_col3\" class=\"data row5 col3\" >B5<br>0.450</td> \n",
       "        <td id=\"T_362196ae_f8d1_11e8_8c7e_f82fa8e48779row5_col4\" class=\"data row5 col4\" >E9<br>0.400</td> \n",
       "        <td id=\"T_362196ae_f8d1_11e8_8c7e_f82fa8e48779row5_col5\" class=\"data row5 col5\" >2D<br>0.415</td> \n",
       "        <td id=\"T_362196ae_f8d1_11e8_8c7e_f82fa8e48779row5_col6\" class=\"data row5 col6\" >17<br>0.424</td> \n",
       "        <td id=\"T_362196ae_f8d1_11e8_8c7e_f82fa8e48779row5_col7\" class=\"data row5 col7\" >2C<br>0.429</td> \n",
       "        <td id=\"T_362196ae_f8d1_11e8_8c7e_f82fa8e48779row5_col8\" class=\"data row5 col8\" >F5<br>0.429</td> \n",
       "        <td id=\"T_362196ae_f8d1_11e8_8c7e_f82fa8e48779row5_col9\" class=\"data row5 col9\" >14<br>0.425</td> \n",
       "        <td id=\"T_362196ae_f8d1_11e8_8c7e_f82fa8e48779row5_col10\" class=\"data row5 col10\" >9B<br>0.418</td> \n",
       "        <td id=\"T_362196ae_f8d1_11e8_8c7e_f82fa8e48779row5_col11\" class=\"data row5 col11\" >2A<br>0.423</td> \n",
       "        <td id=\"T_362196ae_f8d1_11e8_8c7e_f82fa8e48779row5_col12\" class=\"data row5 col12\" >8C<br>0.446</td> \n",
       "        <td id=\"T_362196ae_f8d1_11e8_8c7e_f82fa8e48779row5_col13\" class=\"data row5 col13\" >4F<br>0.416</td> \n",
       "        <td id=\"T_362196ae_f8d1_11e8_8c7e_f82fa8e48779row5_col14\" class=\"data row5 col14\" >8E<br>0.428</td> \n",
       "        <td id=\"T_362196ae_f8d1_11e8_8c7e_f82fa8e48779row5_col15\" class=\"data row5 col15\" >A9<br>0.412</td> \n",
       "    </tr></tbody> \n",
       "</table> "
      ],
      "text/plain": [
       "<pandas.io.formats.style.Styler at 0x10d00f10>"
      ]
     },
     "metadata": {},
     "output_type": "display_data"
    }
   ],
   "source": [
    "key = [0xea, 0x79, 0x79, 0x20, 0xc8, 0x71, 0x44, 0x7d, 0x46, 0x62, 0x5f, 0x51, 0x85, 0xc1, 0x3b, 0xcb]\n",
    "\n",
    "cb = cw.getJupyterCallback(attack)\n",
    "attack.setPointRange((1400, 2600))\n",
    "attack_results = attack.processTracesNoGUI(cb)"
   ]
  },
  {
   "cell_type": "code",
   "execution_count": 15,
   "metadata": {},
   "outputs": [],
   "source": [
    "rec_key = []\n",
    "for bnum in attack_results.findMaximums():\n",
    "    rec_key.append(bnum[0][0])"
   ]
  },
  {
   "cell_type": "markdown",
   "metadata": {},
   "source": [
    "### 13th Round Key"
   ]
  },
  {
   "cell_type": "markdown",
   "metadata": {},
   "source": [
    "Analyzer doesn't have a leakage model for the 13th round key built in, so we'll need to create our own. An example class is shown below along with the beginning of the setup. **NOTE: You'll need to update `calc_round_key` with the key you found in the last step**"
   ]
  },
  {
   "cell_type": "code",
   "execution_count": 16,
   "metadata": {},
   "outputs": [],
   "source": [
    "import chipwhisperer as cw\n",
    "\n",
    "class AES256_Round13_Model(cw.aes128leakage.AESLeakageHelper):\n",
    "    def leakage(self, pt, ct, guess, bnum):\n",
    "        #You must put YOUR recovered 14th round key here - this example may not be accurate!\n",
    "        calc_round_key = [0xea, 0x79, 0x79, 0x20, 0xc8, 0x71, 0x44, 0x7d, 0x46, 0x62, 0x5f, 0x51, 0x85, 0xc1, 0x3b, 0xcb]\n",
    "        xored = [calc_round_key[i] ^ pt[i] for i in range(0, 16)]\n",
    "        block = xored\n",
    "        block = self.inv_shiftrows(block)\n",
    "        block = self.inv_subbytes(block)\n",
    "        block = self.inv_mixcolumns(block)\n",
    "        block = self.inv_shiftrows(block)\n",
    "        result = block\n",
    "        return self.inv_sbox((result[bnum] ^ guess[bnum]))\n",
    "    \n",
    "\n",
    "leak_model = cw.AES128(AES256_Round13_Model)\n",
    "attack = cw.cpa(tm, leak_model)"
   ]
  },
  {
   "cell_type": "markdown",
   "metadata": {},
   "source": [
    "#### Resyncing Traces (XMEGA Only)"
   ]
  },
  {
   "cell_type": "markdown",
   "metadata": {},
   "source": [
    "The traces for the XMEGA version of the firmware become desynced around sample 7000. This is due to a non-constant AES implementation: the code does not always take the same amount of time to run for every input. (It's actually possible to do a timing attack on this AES implementation! We'll stick with our CPA attack for now.)\n",
    "\n",
    "While this does open up a timing attack, it actually makes our AES attack a little harder, since we'll have to resync the traces. Luckily, this can be done pretty easily by using the ResyncSAD preprocessing module:"
   ]
  },
  {
   "cell_type": "code",
   "execution_count": null,
   "metadata": {},
   "outputs": [],
   "source": [
    "\"\"\"resync_traces = ResyncSAD(tm)\n",
    "resync_traces.enabled = True\n",
    "resync_traces.ref_trace = 0\n",
    "resync_traces.target_window = (9100, 9300)\n",
    "resync_traces.max_shift = 200\n",
    "attack.setTraceSource(resync_traces)\"\"\""
   ]
  },
  {
   "cell_type": "markdown",
   "metadata": {},
   "source": [
    "#### Running the Attack"
   ]
  },
  {
   "cell_type": "markdown",
   "metadata": {},
   "source": [
    "Like in the 14th round attack, we can use a smaller range of points to make the attack faster. `(8000,10990)` works well for the XMEGA, while `(6500, 8500)` works well for the STM32F3."
   ]
  },
  {
   "cell_type": "code",
   "execution_count": 17,
   "metadata": {},
   "outputs": [
    {
     "data": {
      "text/html": [
       "<style  type=\"text/css\" >\n",
       "</style>  \n",
       "<table id=\"T_76c3cae4_f8d1_11e8_932d_f82fa8e48779\" ><caption>Finished traces 190 to 200</caption> \n",
       "<thead>    <tr> \n",
       "        <th class=\"blank level0\" ></th> \n",
       "        <th class=\"col_heading level0 col0\" >0</th> \n",
       "        <th class=\"col_heading level0 col1\" >1</th> \n",
       "        <th class=\"col_heading level0 col2\" >2</th> \n",
       "        <th class=\"col_heading level0 col3\" >3</th> \n",
       "        <th class=\"col_heading level0 col4\" >4</th> \n",
       "        <th class=\"col_heading level0 col5\" >5</th> \n",
       "        <th class=\"col_heading level0 col6\" >6</th> \n",
       "        <th class=\"col_heading level0 col7\" >7</th> \n",
       "        <th class=\"col_heading level0 col8\" >8</th> \n",
       "        <th class=\"col_heading level0 col9\" >9</th> \n",
       "        <th class=\"col_heading level0 col10\" >10</th> \n",
       "        <th class=\"col_heading level0 col11\" >11</th> \n",
       "        <th class=\"col_heading level0 col12\" >12</th> \n",
       "        <th class=\"col_heading level0 col13\" >13</th> \n",
       "        <th class=\"col_heading level0 col14\" >14</th> \n",
       "        <th class=\"col_heading level0 col15\" >15</th> \n",
       "    </tr></thead> \n",
       "<tbody>    <tr> \n",
       "        <th id=\"T_76c3cae4_f8d1_11e8_932d_f82fa8e48779level0_row0\" class=\"row_heading level0 row0\" >PGE=</th> \n",
       "        <td id=\"T_76c3cae4_f8d1_11e8_932d_f82fa8e48779row0_col0\" class=\"data row0 col0\" >90</td> \n",
       "        <td id=\"T_76c3cae4_f8d1_11e8_932d_f82fa8e48779row0_col1\" class=\"data row0 col1\" >129</td> \n",
       "        <td id=\"T_76c3cae4_f8d1_11e8_932d_f82fa8e48779row0_col2\" class=\"data row0 col2\" >51</td> \n",
       "        <td id=\"T_76c3cae4_f8d1_11e8_932d_f82fa8e48779row0_col3\" class=\"data row0 col3\" >137</td> \n",
       "        <td id=\"T_76c3cae4_f8d1_11e8_932d_f82fa8e48779row0_col4\" class=\"data row0 col4\" >181</td> \n",
       "        <td id=\"T_76c3cae4_f8d1_11e8_932d_f82fa8e48779row0_col5\" class=\"data row0 col5\" >16</td> \n",
       "        <td id=\"T_76c3cae4_f8d1_11e8_932d_f82fa8e48779row0_col6\" class=\"data row0 col6\" >59</td> \n",
       "        <td id=\"T_76c3cae4_f8d1_11e8_932d_f82fa8e48779row0_col7\" class=\"data row0 col7\" >25</td> \n",
       "        <td id=\"T_76c3cae4_f8d1_11e8_932d_f82fa8e48779row0_col8\" class=\"data row0 col8\" >131</td> \n",
       "        <td id=\"T_76c3cae4_f8d1_11e8_932d_f82fa8e48779row0_col9\" class=\"data row0 col9\" >104</td> \n",
       "        <td id=\"T_76c3cae4_f8d1_11e8_932d_f82fa8e48779row0_col10\" class=\"data row0 col10\" >229</td> \n",
       "        <td id=\"T_76c3cae4_f8d1_11e8_932d_f82fa8e48779row0_col11\" class=\"data row0 col11\" >138</td> \n",
       "        <td id=\"T_76c3cae4_f8d1_11e8_932d_f82fa8e48779row0_col12\" class=\"data row0 col12\" >195</td> \n",
       "        <td id=\"T_76c3cae4_f8d1_11e8_932d_f82fa8e48779row0_col13\" class=\"data row0 col13\" >203</td> \n",
       "        <td id=\"T_76c3cae4_f8d1_11e8_932d_f82fa8e48779row0_col14\" class=\"data row0 col14\" >162</td> \n",
       "        <td id=\"T_76c3cae4_f8d1_11e8_932d_f82fa8e48779row0_col15\" class=\"data row0 col15\" >83</td> \n",
       "    </tr>    <tr> \n",
       "        <th id=\"T_76c3cae4_f8d1_11e8_932d_f82fa8e48779level0_row1\" class=\"row_heading level0 row1\" >0</th> \n",
       "        <td id=\"T_76c3cae4_f8d1_11e8_932d_f82fa8e48779row1_col0\" class=\"data row1 col0\" >EA<br>0.851</td> \n",
       "        <td id=\"T_76c3cae4_f8d1_11e8_932d_f82fa8e48779row1_col1\" class=\"data row1 col1\" >79<br>0.884</td> \n",
       "        <td id=\"T_76c3cae4_f8d1_11e8_932d_f82fa8e48779row1_col2\" class=\"data row1 col2\" >79<br>0.898</td> \n",
       "        <td id=\"T_76c3cae4_f8d1_11e8_932d_f82fa8e48779row1_col3\" class=\"data row1 col3\" >20<br>0.893</td> \n",
       "        <td id=\"T_76c3cae4_f8d1_11e8_932d_f82fa8e48779row1_col4\" class=\"data row1 col4\" >C8<br>0.890</td> \n",
       "        <td id=\"T_76c3cae4_f8d1_11e8_932d_f82fa8e48779row1_col5\" class=\"data row1 col5\" >71<br>0.898</td> \n",
       "        <td id=\"T_76c3cae4_f8d1_11e8_932d_f82fa8e48779row1_col6\" class=\"data row1 col6\" >44<br>0.848</td> \n",
       "        <td id=\"T_76c3cae4_f8d1_11e8_932d_f82fa8e48779row1_col7\" class=\"data row1 col7\" >7D<br>0.853</td> \n",
       "        <td id=\"T_76c3cae4_f8d1_11e8_932d_f82fa8e48779row1_col8\" class=\"data row1 col8\" >46<br>0.847</td> \n",
       "        <td id=\"T_76c3cae4_f8d1_11e8_932d_f82fa8e48779row1_col9\" class=\"data row1 col9\" >62<br>0.859</td> \n",
       "        <td id=\"T_76c3cae4_f8d1_11e8_932d_f82fa8e48779row1_col10\" class=\"data row1 col10\" >5F<br>0.869</td> \n",
       "        <td id=\"T_76c3cae4_f8d1_11e8_932d_f82fa8e48779row1_col11\" class=\"data row1 col11\" >51<br>0.896</td> \n",
       "        <td id=\"T_76c3cae4_f8d1_11e8_932d_f82fa8e48779row1_col12\" class=\"data row1 col12\" >85<br>0.902</td> \n",
       "        <td id=\"T_76c3cae4_f8d1_11e8_932d_f82fa8e48779row1_col13\" class=\"data row1 col13\" >C1<br>0.869</td> \n",
       "        <td id=\"T_76c3cae4_f8d1_11e8_932d_f82fa8e48779row1_col14\" class=\"data row1 col14\" >3B<br>0.828</td> \n",
       "        <td id=\"T_76c3cae4_f8d1_11e8_932d_f82fa8e48779row1_col15\" class=\"data row1 col15\" >CB<br>0.878</td> \n",
       "    </tr>    <tr> \n",
       "        <th id=\"T_76c3cae4_f8d1_11e8_932d_f82fa8e48779level0_row2\" class=\"row_heading level0 row2\" >1</th> \n",
       "        <td id=\"T_76c3cae4_f8d1_11e8_932d_f82fa8e48779row2_col0\" class=\"data row2 col0\" >28<br>0.483</td> \n",
       "        <td id=\"T_76c3cae4_f8d1_11e8_932d_f82fa8e48779row2_col1\" class=\"data row2 col1\" >C4<br>0.461</td> \n",
       "        <td id=\"T_76c3cae4_f8d1_11e8_932d_f82fa8e48779row2_col2\" class=\"data row2 col2\" >3E<br>0.444</td> \n",
       "        <td id=\"T_76c3cae4_f8d1_11e8_932d_f82fa8e48779row2_col3\" class=\"data row2 col3\" >D4<br>0.482</td> \n",
       "        <td id=\"T_76c3cae4_f8d1_11e8_932d_f82fa8e48779row2_col4\" class=\"data row2 col4\" >8C<br>0.418</td> \n",
       "        <td id=\"T_76c3cae4_f8d1_11e8_932d_f82fa8e48779row2_col5\" class=\"data row2 col5\" >73<br>0.468</td> \n",
       "        <td id=\"T_76c3cae4_f8d1_11e8_932d_f82fa8e48779row2_col6\" class=\"data row2 col6\" >AD<br>0.465</td> \n",
       "        <td id=\"T_76c3cae4_f8d1_11e8_932d_f82fa8e48779row2_col7\" class=\"data row2 col7\" >83<br>0.442</td> \n",
       "        <td id=\"T_76c3cae4_f8d1_11e8_932d_f82fa8e48779row2_col8\" class=\"data row2 col8\" >B5<br>0.464</td> \n",
       "        <td id=\"T_76c3cae4_f8d1_11e8_932d_f82fa8e48779row2_col9\" class=\"data row2 col9\" >43<br>0.476</td> \n",
       "        <td id=\"T_76c3cae4_f8d1_11e8_932d_f82fa8e48779row2_col10\" class=\"data row2 col10\" >D5<br>0.456</td> \n",
       "        <td id=\"T_76c3cae4_f8d1_11e8_932d_f82fa8e48779row2_col11\" class=\"data row2 col11\" >D6<br>0.468</td> \n",
       "        <td id=\"T_76c3cae4_f8d1_11e8_932d_f82fa8e48779row2_col12\" class=\"data row2 col12\" >3C<br>0.506</td> \n",
       "        <td id=\"T_76c3cae4_f8d1_11e8_932d_f82fa8e48779row2_col13\" class=\"data row2 col13\" >F9<br>0.434</td> \n",
       "        <td id=\"T_76c3cae4_f8d1_11e8_932d_f82fa8e48779row2_col14\" class=\"data row2 col14\" >D7<br>0.475</td> \n",
       "        <td id=\"T_76c3cae4_f8d1_11e8_932d_f82fa8e48779row2_col15\" class=\"data row2 col15\" >0B<br>0.435</td> \n",
       "    </tr>    <tr> \n",
       "        <th id=\"T_76c3cae4_f8d1_11e8_932d_f82fa8e48779level0_row3\" class=\"row_heading level0 row3\" >2</th> \n",
       "        <td id=\"T_76c3cae4_f8d1_11e8_932d_f82fa8e48779row3_col0\" class=\"data row3 col0\" >3E<br>0.452</td> \n",
       "        <td id=\"T_76c3cae4_f8d1_11e8_932d_f82fa8e48779row3_col1\" class=\"data row3 col1\" >93<br>0.440</td> \n",
       "        <td id=\"T_76c3cae4_f8d1_11e8_932d_f82fa8e48779row3_col2\" class=\"data row3 col2\" >C9<br>0.439</td> \n",
       "        <td id=\"T_76c3cae4_f8d1_11e8_932d_f82fa8e48779row3_col3\" class=\"data row3 col3\" >02<br>0.471</td> \n",
       "        <td id=\"T_76c3cae4_f8d1_11e8_932d_f82fa8e48779row3_col4\" class=\"data row3 col4\" >2A<br>0.404</td> \n",
       "        <td id=\"T_76c3cae4_f8d1_11e8_932d_f82fa8e48779row3_col5\" class=\"data row3 col5\" >12<br>0.418</td> \n",
       "        <td id=\"T_76c3cae4_f8d1_11e8_932d_f82fa8e48779row3_col6\" class=\"data row3 col6\" >F9<br>0.464</td> \n",
       "        <td id=\"T_76c3cae4_f8d1_11e8_932d_f82fa8e48779row3_col7\" class=\"data row3 col7\" >E1<br>0.435</td> \n",
       "        <td id=\"T_76c3cae4_f8d1_11e8_932d_f82fa8e48779row3_col8\" class=\"data row3 col8\" >55<br>0.461</td> \n",
       "        <td id=\"T_76c3cae4_f8d1_11e8_932d_f82fa8e48779row3_col9\" class=\"data row3 col9\" >8D<br>0.435</td> \n",
       "        <td id=\"T_76c3cae4_f8d1_11e8_932d_f82fa8e48779row3_col10\" class=\"data row3 col10\" >C3<br>0.453</td> \n",
       "        <td id=\"T_76c3cae4_f8d1_11e8_932d_f82fa8e48779row3_col11\" class=\"data row3 col11\" >53<br>0.424</td> \n",
       "        <td id=\"T_76c3cae4_f8d1_11e8_932d_f82fa8e48779row3_col12\" class=\"data row3 col12\" >CA<br>0.449</td> \n",
       "        <td id=\"T_76c3cae4_f8d1_11e8_932d_f82fa8e48779row3_col13\" class=\"data row3 col13\" >18<br>0.422</td> \n",
       "        <td id=\"T_76c3cae4_f8d1_11e8_932d_f82fa8e48779row3_col14\" class=\"data row3 col14\" >7A<br>0.467</td> \n",
       "        <td id=\"T_76c3cae4_f8d1_11e8_932d_f82fa8e48779row3_col15\" class=\"data row3 col15\" >6C<br>0.429</td> \n",
       "    </tr>    <tr> \n",
       "        <th id=\"T_76c3cae4_f8d1_11e8_932d_f82fa8e48779level0_row4\" class=\"row_heading level0 row4\" >3</th> \n",
       "        <td id=\"T_76c3cae4_f8d1_11e8_932d_f82fa8e48779row4_col0\" class=\"data row4 col0\" >9C<br>0.429</td> \n",
       "        <td id=\"T_76c3cae4_f8d1_11e8_932d_f82fa8e48779row4_col1\" class=\"data row4 col1\" >7B<br>0.438</td> \n",
       "        <td id=\"T_76c3cae4_f8d1_11e8_932d_f82fa8e48779row4_col2\" class=\"data row4 col2\" >25<br>0.432</td> \n",
       "        <td id=\"T_76c3cae4_f8d1_11e8_932d_f82fa8e48779row4_col3\" class=\"data row4 col3\" >F1<br>0.452</td> \n",
       "        <td id=\"T_76c3cae4_f8d1_11e8_932d_f82fa8e48779row4_col4\" class=\"data row4 col4\" >82<br>0.401</td> \n",
       "        <td id=\"T_76c3cae4_f8d1_11e8_932d_f82fa8e48779row4_col5\" class=\"data row4 col5\" >2C<br>0.416</td> \n",
       "        <td id=\"T_76c3cae4_f8d1_11e8_932d_f82fa8e48779row4_col6\" class=\"data row4 col6\" >95<br>0.460</td> \n",
       "        <td id=\"T_76c3cae4_f8d1_11e8_932d_f82fa8e48779row4_col7\" class=\"data row4 col7\" >60<br>0.432</td> \n",
       "        <td id=\"T_76c3cae4_f8d1_11e8_932d_f82fa8e48779row4_col8\" class=\"data row4 col8\" >D7<br>0.460</td> \n",
       "        <td id=\"T_76c3cae4_f8d1_11e8_932d_f82fa8e48779row4_col9\" class=\"data row4 col9\" >D6<br>0.428</td> \n",
       "        <td id=\"T_76c3cae4_f8d1_11e8_932d_f82fa8e48779row4_col10\" class=\"data row4 col10\" >5E<br>0.429</td> \n",
       "        <td id=\"T_76c3cae4_f8d1_11e8_932d_f82fa8e48779row4_col11\" class=\"data row4 col11\" >C0<br>0.424</td> \n",
       "        <td id=\"T_76c3cae4_f8d1_11e8_932d_f82fa8e48779row4_col12\" class=\"data row4 col12\" >1C<br>0.449</td> \n",
       "        <td id=\"T_76c3cae4_f8d1_11e8_932d_f82fa8e48779row4_col13\" class=\"data row4 col13\" >92<br>0.418</td> \n",
       "        <td id=\"T_76c3cae4_f8d1_11e8_932d_f82fa8e48779row4_col14\" class=\"data row4 col14\" >ED<br>0.445</td> \n",
       "        <td id=\"T_76c3cae4_f8d1_11e8_932d_f82fa8e48779row4_col15\" class=\"data row4 col15\" >96<br>0.425</td> \n",
       "    </tr>    <tr> \n",
       "        <th id=\"T_76c3cae4_f8d1_11e8_932d_f82fa8e48779level0_row5\" class=\"row_heading level0 row5\" >4</th> \n",
       "        <td id=\"T_76c3cae4_f8d1_11e8_932d_f82fa8e48779row5_col0\" class=\"data row5 col0\" >0C<br>0.422</td> \n",
       "        <td id=\"T_76c3cae4_f8d1_11e8_932d_f82fa8e48779row5_col1\" class=\"data row5 col1\" >05<br>0.426</td> \n",
       "        <td id=\"T_76c3cae4_f8d1_11e8_932d_f82fa8e48779row5_col2\" class=\"data row5 col2\" >7A<br>0.413</td> \n",
       "        <td id=\"T_76c3cae4_f8d1_11e8_932d_f82fa8e48779row5_col3\" class=\"data row5 col3\" >B5<br>0.450</td> \n",
       "        <td id=\"T_76c3cae4_f8d1_11e8_932d_f82fa8e48779row5_col4\" class=\"data row5 col4\" >E9<br>0.400</td> \n",
       "        <td id=\"T_76c3cae4_f8d1_11e8_932d_f82fa8e48779row5_col5\" class=\"data row5 col5\" >2D<br>0.415</td> \n",
       "        <td id=\"T_76c3cae4_f8d1_11e8_932d_f82fa8e48779row5_col6\" class=\"data row5 col6\" >17<br>0.424</td> \n",
       "        <td id=\"T_76c3cae4_f8d1_11e8_932d_f82fa8e48779row5_col7\" class=\"data row5 col7\" >2C<br>0.429</td> \n",
       "        <td id=\"T_76c3cae4_f8d1_11e8_932d_f82fa8e48779row5_col8\" class=\"data row5 col8\" >F5<br>0.429</td> \n",
       "        <td id=\"T_76c3cae4_f8d1_11e8_932d_f82fa8e48779row5_col9\" class=\"data row5 col9\" >14<br>0.425</td> \n",
       "        <td id=\"T_76c3cae4_f8d1_11e8_932d_f82fa8e48779row5_col10\" class=\"data row5 col10\" >9B<br>0.418</td> \n",
       "        <td id=\"T_76c3cae4_f8d1_11e8_932d_f82fa8e48779row5_col11\" class=\"data row5 col11\" >2A<br>0.423</td> \n",
       "        <td id=\"T_76c3cae4_f8d1_11e8_932d_f82fa8e48779row5_col12\" class=\"data row5 col12\" >8C<br>0.446</td> \n",
       "        <td id=\"T_76c3cae4_f8d1_11e8_932d_f82fa8e48779row5_col13\" class=\"data row5 col13\" >4F<br>0.416</td> \n",
       "        <td id=\"T_76c3cae4_f8d1_11e8_932d_f82fa8e48779row5_col14\" class=\"data row5 col14\" >8E<br>0.428</td> \n",
       "        <td id=\"T_76c3cae4_f8d1_11e8_932d_f82fa8e48779row5_col15\" class=\"data row5 col15\" >A9<br>0.412</td> \n",
       "    </tr></tbody> \n",
       "</table> "
      ],
      "text/plain": [
       "<pandas.io.formats.style.Styler at 0x116d8ff0>"
      ]
     },
     "metadata": {},
     "output_type": "display_data"
    }
   ],
   "source": [
    "attack.setPointRange((6500,8500))\n",
    "attack_results = attack.processTracesNoGUI(cb)"
   ]
  },
  {
   "cell_type": "markdown",
   "metadata": {},
   "source": [
    "You can run the block below and the correct key should be printed out:"
   ]
  },
  {
   "cell_type": "code",
   "execution_count": 18,
   "metadata": {},
   "outputs": [
    {
     "name": "stdout",
     "output_type": "stream",
     "text": [
      "Best Guess = 0xC6, Corr = 0.8998070246091936\n",
      "Best Guess = 0xBD, Corr = 0.9034966781334146\n",
      "Best Guess = 0x4E, Corr = 0.9016015319254075\n",
      "Best Guess = 0x50, Corr = 0.8651292679617382\n",
      "Best Guess = 0xAB, Corr = 0.8639517759701324\n",
      "Best Guess = 0xCA, Corr = 0.902914899558492\n",
      "Best Guess = 0x75, Corr = 0.882943281284445\n",
      "Best Guess = 0x77, Corr = 0.8926743190948534\n",
      "Best Guess = 0x79, Corr = 0.8758872594177332\n",
      "Best Guess = 0x87, Corr = 0.8548970681792674\n",
      "Best Guess = 0x96, Corr = 0.8816349303039314\n",
      "Best Guess = 0xCA, Corr = 0.8885067402934878\n",
      "Best Guess = 0x1C, Corr = 0.8665851197621403\n",
      "Best Guess = 0x7F, Corr = 0.8755630221999005\n",
      "Best Guess = 0xC5, Corr = 0.8825792343673409\n",
      "Best Guess = 0x82, Corr = 0.9073357165875978\n"
     ]
    }
   ],
   "source": [
    "rec_key2 = []\n",
    "for bnum in attack_results.findMaximums():\n",
    "    print(\"Best Guess = 0x{:02X}, Corr = {}\".format(bnum[0][0], bnum[0][2]))\n",
    "    rec_key2.append(bnum[0][0])"
   ]
  },
  {
   "cell_type": "markdown",
   "metadata": {},
   "source": [
    "This, however, isn't actually the 13th round key. To get the real 13th round key, we'll need to run what we've recovered through a `shiftrows()` and `mixcolumns()` operation:"
   ]
  },
  {
   "cell_type": "code",
   "execution_count": 19,
   "metadata": {},
   "outputs": [
    {
     "name": "stdout",
     "output_type": "stream",
     "text": [
      "Recovered: C6 6A A6 12 4A BA 4D 04 4A 22 03 54 5B 28 0E 63\n"
     ]
    }
   ],
   "source": [
    "from chipwhisperer.analyzer.attacks.models.aes.funcs import shiftrows,mixcolumns\n",
    "    \n",
    "real_key2 = shiftrows(rec_key2)\n",
    "real_key2 = mixcolumns(real_key2)\n",
    "\n",
    "print(\"Recovered:\", end=\"\")\n",
    "for subkey in real_key2:\n",
    "    print(\" {:02X}\".format(subkey), end=\"\")\n",
    "print(\"\")"
   ]
  },
  {
   "cell_type": "markdown",
   "metadata": {},
   "source": [
    "We now have everything we need to recover the full key! We'll start by combining the 13th and 14th round keys:"
   ]
  },
  {
   "cell_type": "code",
   "execution_count": 20,
   "metadata": {},
   "outputs": [
    {
     "name": "stdout",
     "output_type": "stream",
     "text": [
      "Key: C6 6A A6 12 4A BA 4D 04 4A 22 03 54 5B 28 0E 63 EA 79 79 20 C8 71 44 7D 46 62 5F 51 85 C1 3B CB\n"
     ]
    }
   ],
   "source": [
    "rec_key_comb = real_key2.copy()\n",
    "rec_key_comb.extend(rec_key)\n",
    "\n",
    "print(\"Key:\", end=\"\")\n",
    "for subkey in rec_key_comb:\n",
    "    print(\" {:02X}\".format(subkey), end=\"\")\n",
    "print(\"\")"
   ]
  },
  {
   "cell_type": "markdown",
   "metadata": {},
   "source": [
    "and then we can use the `AES128_8bit` leakage model to recover the first two rounds:"
   ]
  },
  {
   "cell_type": "code",
   "execution_count": 21,
   "metadata": {},
   "outputs": [
    {
     "name": "stdout",
     "output_type": "stream",
     "text": [
      "Key: 94 28 5D 4D 6D CF EC 08 D8 AC DD F6 BE 25 A4 99 C4 D9 D0 1E C3 40 7E D7 D5 28 D4 09 E9 F0 88 A1\n"
     ]
    }
   ],
   "source": [
    "btldr_key = leak_model.keyScheduleRounds(rec_key_comb, 13, 0)\n",
    "btldr_key.extend(leak_model.keyScheduleRounds(rec_key_comb, 13, 1))\n",
    "print(\"Key:\", end=\"\")\n",
    "for subkey in btldr_key:\n",
    "    print(\" {:02X}\".format(subkey), end=\"\")\n",
    "print(\"\")"
   ]
  },
  {
   "cell_type": "markdown",
   "metadata": {},
   "source": [
    "You should see a 32 byte key printed out. Open `supersecret.h`, confirm that we have the right key, and celebrate! "
   ]
  },
  {
   "cell_type": "markdown",
   "metadata": {},
   "source": [
    "## Recovering the IV"
   ]
  },
  {
   "cell_type": "markdown",
   "metadata": {},
   "source": [
    "Now that we have the encryption key, we can proceed onto an attack of the next secret value: the IV.\n",
    "\n",
    "Here, we have the luxury of seeing the source code of the bootloader. This is generally not something we would have access to in the real world, so we'll try not to use it to cheat. (Peeking at `supersecret.h` counts as cheating.) Instead, we'll use the source to help us identify important parts of the power traces."
   ]
  },
  {
   "cell_type": "markdown",
   "metadata": {},
   "source": [
    "### Bootloader Source Code"
   ]
  },
  {
   "cell_type": "markdown",
   "metadata": {},
   "source": [
    "Inside the bootloader's main loop, it does three tasks that we're interested in:\n",
    "\n",
    "* it decrypts the incoming ciphertext;\n",
    "* it applies the IV to the decryption's result; and\n",
    "* it checks for the signature in the resulting plaintext.\n",
    "\n",
    "This snippet from `bootloader.c` shows all three of the tasks:\n",
    "\n",
    "```C\n",
    "// Continue with decryption\n",
    "trigger_high();                \n",
    "aes256_decrypt_ecb(&ctx, tmp32);\n",
    "trigger_low();\n",
    "             \n",
    "// Apply IV (first 16 bytes)\n",
    "for (i = 0; i < 16; i++){\n",
    "    tmp32[i] ^= iv[i];\n",
    "}\n",
    "\n",
    "//Save IV for next time from original ciphertext                \n",
    "for (i = 0; i < 16; i++){\n",
    "    iv[i] = tmp32[i+16];\n",
    "}\n",
    "\n",
    "// Tell the user that the CRC check was okay\n",
    "putch(COMM_OK);\n",
    "putch(COMM_OK);\n",
    "\n",
    "//Check the signature\n",
    "if ((tmp32[0] == SIGNATURE1) &&\n",
    "   (tmp32[1] == SIGNATURE2) &&\n",
    "   (tmp32[2] == SIGNATURE3) &&\n",
    "   (tmp32[3] == SIGNATURE4)){\n",
    "   \n",
    "   // Delay to emulate a write to flash memory\n",
    "   _delay_ms(1);\n",
    "}   \n",
    "```\n",
    "\n",
    "This gives us a pretty good idea of how the microcontroller is going to do its job, but if you'd like to go further, you can open the `.lss` file for the binary that was built. This is called a listing file and it lets you see the assembly that the C was compiled and linked to."
   ]
  },
  {
   "cell_type": "markdown",
   "metadata": {},
   "source": [
    "### Power Traces"
   ]
  },
  {
   "cell_type": "markdown",
   "metadata": {},
   "source": [
    "As you can see from both files, after the decryption process, the bootloader executes a few distinct pieces of code:\n",
    "\n",
    "* To apply the IV, it uses an XOR operation;\n",
    "* To store the new IV, it copies the previous ciphertext into the IV array;\n",
    "* It sends two bytes on the serial port;\n",
    "* It checks the bytes of the signature one by one.\n",
    "\n",
    "We should be able to recognize these four parts of the code in the power traces. Let's modify our capture routine to find them:\n",
    "\n",
    "1. We're looking for the original IV, but it's overwritten after each successful decryption. This means we'll have to reset the target before each trace we capture\n",
    "1. We'd like to skip over all of the decryption process. Recall that the trigger pin is set low after the decryption finishes. This means we can skip over the AES-256 function by triggering on a falling edge instead\n",
    "1. Depending on the target, we may have to flush the target's serial lines by sending it a bunch of invalid data and looking for a bad CRC return. This slows down the capture process by a lot, so you may want to try without doing this first.\n",
    "1. We won't need as many samples, so we can reduce how many we capture. 3000 should be sufficient for most targets.\n",
    "\n",
    "Let's start by reducing our samples and making a function to reset our target (depending on your target, you may need to change the reset pin):"
   ]
  },
  {
   "cell_type": "code",
   "execution_count": 22,
   "metadata": {},
   "outputs": [],
   "source": [
    "import time\n",
    "scope.adc.samples = 3000\n",
    "def reset_target(scope):\n",
    "    scope.io.nrst = 'low'\n",
    "    #scope.io.pdic = 'low'\n",
    "    time.sleep(0.05)\n",
    "    scope.io.nrst = 'high'\n",
    "    #scope.io.pdic = 'high'"
   ]
  },
  {
   "cell_type": "markdown",
   "metadata": {},
   "source": [
    "We can trigger on a falling edge by changing `scope.adc.basic_mode` to `\"falling_edge\"`:"
   ]
  },
  {
   "cell_type": "code",
   "execution_count": 23,
   "metadata": {},
   "outputs": [],
   "source": [
    "scope.adc.basic_mode = \"falling_edge\""
   ]
  },
  {
   "cell_type": "markdown",
   "metadata": {},
   "source": [
    "We can flush the serial line by sending an invalid message, then checking for a bad CRC return value (`0xA1`). Let's make sure our changes work by getting a trace:"
   ]
  },
  {
   "cell_type": "code",
   "execution_count": 24,
   "metadata": {},
   "outputs": [
    {
     "data": {
      "text/html": [
       "\n",
       "    <div class=\"bk-root\">\n",
       "        <a href=\"https://bokeh.pydata.org\" target=\"_blank\" class=\"bk-logo bk-logo-small bk-logo-notebook\"></a>\n",
       "        <span id=\"1001\">Loading BokehJS ...</span>\n",
       "    </div>"
      ]
     },
     "metadata": {},
     "output_type": "display_data"
    },
    {
     "data": {
      "application/javascript": [
       "\n",
       "(function(root) {\n",
       "  function now() {\n",
       "    return new Date();\n",
       "  }\n",
       "\n",
       "  var force = true;\n",
       "\n",
       "  if (typeof (root._bokeh_onload_callbacks) === \"undefined\" || force === true) {\n",
       "    root._bokeh_onload_callbacks = [];\n",
       "    root._bokeh_is_loading = undefined;\n",
       "  }\n",
       "\n",
       "  var JS_MIME_TYPE = 'application/javascript';\n",
       "  var HTML_MIME_TYPE = 'text/html';\n",
       "  var EXEC_MIME_TYPE = 'application/vnd.bokehjs_exec.v0+json';\n",
       "  var CLASS_NAME = 'output_bokeh rendered_html';\n",
       "\n",
       "  /**\n",
       "   * Render data to the DOM node\n",
       "   */\n",
       "  function render(props, node) {\n",
       "    var script = document.createElement(\"script\");\n",
       "    node.appendChild(script);\n",
       "  }\n",
       "\n",
       "  /**\n",
       "   * Handle when an output is cleared or removed\n",
       "   */\n",
       "  function handleClearOutput(event, handle) {\n",
       "    var cell = handle.cell;\n",
       "\n",
       "    var id = cell.output_area._bokeh_element_id;\n",
       "    var server_id = cell.output_area._bokeh_server_id;\n",
       "    // Clean up Bokeh references\n",
       "    if (id != null && id in Bokeh.index) {\n",
       "      Bokeh.index[id].model.document.clear();\n",
       "      delete Bokeh.index[id];\n",
       "    }\n",
       "\n",
       "    if (server_id !== undefined) {\n",
       "      // Clean up Bokeh references\n",
       "      var cmd = \"from bokeh.io.state import curstate; print(curstate().uuid_to_server['\" + server_id + \"'].get_sessions()[0].document.roots[0]._id)\";\n",
       "      cell.notebook.kernel.execute(cmd, {\n",
       "        iopub: {\n",
       "          output: function(msg) {\n",
       "            var id = msg.content.text.trim();\n",
       "            if (id in Bokeh.index) {\n",
       "              Bokeh.index[id].model.document.clear();\n",
       "              delete Bokeh.index[id];\n",
       "            }\n",
       "          }\n",
       "        }\n",
       "      });\n",
       "      // Destroy server and session\n",
       "      var cmd = \"import bokeh.io.notebook as ion; ion.destroy_server('\" + server_id + \"')\";\n",
       "      cell.notebook.kernel.execute(cmd);\n",
       "    }\n",
       "  }\n",
       "\n",
       "  /**\n",
       "   * Handle when a new output is added\n",
       "   */\n",
       "  function handleAddOutput(event, handle) {\n",
       "    var output_area = handle.output_area;\n",
       "    var output = handle.output;\n",
       "\n",
       "    // limit handleAddOutput to display_data with EXEC_MIME_TYPE content only\n",
       "    if ((output.output_type != \"display_data\") || (!output.data.hasOwnProperty(EXEC_MIME_TYPE))) {\n",
       "      return\n",
       "    }\n",
       "\n",
       "    var toinsert = output_area.element.find(\".\" + CLASS_NAME.split(' ')[0]);\n",
       "\n",
       "    if (output.metadata[EXEC_MIME_TYPE][\"id\"] !== undefined) {\n",
       "      toinsert[toinsert.length - 1].firstChild.textContent = output.data[JS_MIME_TYPE];\n",
       "      // store reference to embed id on output_area\n",
       "      output_area._bokeh_element_id = output.metadata[EXEC_MIME_TYPE][\"id\"];\n",
       "    }\n",
       "    if (output.metadata[EXEC_MIME_TYPE][\"server_id\"] !== undefined) {\n",
       "      var bk_div = document.createElement(\"div\");\n",
       "      bk_div.innerHTML = output.data[HTML_MIME_TYPE];\n",
       "      var script_attrs = bk_div.children[0].attributes;\n",
       "      for (var i = 0; i < script_attrs.length; i++) {\n",
       "        toinsert[toinsert.length - 1].firstChild.setAttribute(script_attrs[i].name, script_attrs[i].value);\n",
       "      }\n",
       "      // store reference to server id on output_area\n",
       "      output_area._bokeh_server_id = output.metadata[EXEC_MIME_TYPE][\"server_id\"];\n",
       "    }\n",
       "  }\n",
       "\n",
       "  function register_renderer(events, OutputArea) {\n",
       "\n",
       "    function append_mime(data, metadata, element) {\n",
       "      // create a DOM node to render to\n",
       "      var toinsert = this.create_output_subarea(\n",
       "        metadata,\n",
       "        CLASS_NAME,\n",
       "        EXEC_MIME_TYPE\n",
       "      );\n",
       "      this.keyboard_manager.register_events(toinsert);\n",
       "      // Render to node\n",
       "      var props = {data: data, metadata: metadata[EXEC_MIME_TYPE]};\n",
       "      render(props, toinsert[toinsert.length - 1]);\n",
       "      element.append(toinsert);\n",
       "      return toinsert\n",
       "    }\n",
       "\n",
       "    /* Handle when an output is cleared or removed */\n",
       "    events.on('clear_output.CodeCell', handleClearOutput);\n",
       "    events.on('delete.Cell', handleClearOutput);\n",
       "\n",
       "    /* Handle when a new output is added */\n",
       "    events.on('output_added.OutputArea', handleAddOutput);\n",
       "\n",
       "    /**\n",
       "     * Register the mime type and append_mime function with output_area\n",
       "     */\n",
       "    OutputArea.prototype.register_mime_type(EXEC_MIME_TYPE, append_mime, {\n",
       "      /* Is output safe? */\n",
       "      safe: true,\n",
       "      /* Index of renderer in `output_area.display_order` */\n",
       "      index: 0\n",
       "    });\n",
       "  }\n",
       "\n",
       "  // register the mime type if in Jupyter Notebook environment and previously unregistered\n",
       "  if (root.Jupyter !== undefined) {\n",
       "    var events = require('base/js/events');\n",
       "    var OutputArea = require('notebook/js/outputarea').OutputArea;\n",
       "\n",
       "    if (OutputArea.prototype.mime_types().indexOf(EXEC_MIME_TYPE) == -1) {\n",
       "      register_renderer(events, OutputArea);\n",
       "    }\n",
       "  }\n",
       "\n",
       "  \n",
       "  if (typeof (root._bokeh_timeout) === \"undefined\" || force === true) {\n",
       "    root._bokeh_timeout = Date.now() + 5000;\n",
       "    root._bokeh_failed_load = false;\n",
       "  }\n",
       "\n",
       "  var NB_LOAD_WARNING = {'data': {'text/html':\n",
       "     \"<div style='background-color: #fdd'>\\n\"+\n",
       "     \"<p>\\n\"+\n",
       "     \"BokehJS does not appear to have successfully loaded. If loading BokehJS from CDN, this \\n\"+\n",
       "     \"may be due to a slow or bad network connection. Possible fixes:\\n\"+\n",
       "     \"</p>\\n\"+\n",
       "     \"<ul>\\n\"+\n",
       "     \"<li>re-rerun `output_notebook()` to attempt to load from CDN again, or</li>\\n\"+\n",
       "     \"<li>use INLINE resources instead, as so:</li>\\n\"+\n",
       "     \"</ul>\\n\"+\n",
       "     \"<code>\\n\"+\n",
       "     \"from bokeh.resources import INLINE\\n\"+\n",
       "     \"output_notebook(resources=INLINE)\\n\"+\n",
       "     \"</code>\\n\"+\n",
       "     \"</div>\"}};\n",
       "\n",
       "  function display_loaded() {\n",
       "    var el = document.getElementById(\"1001\");\n",
       "    if (el != null) {\n",
       "      el.textContent = \"BokehJS is loading...\";\n",
       "    }\n",
       "    if (root.Bokeh !== undefined) {\n",
       "      if (el != null) {\n",
       "        el.textContent = \"BokehJS \" + root.Bokeh.version + \" successfully loaded.\";\n",
       "      }\n",
       "    } else if (Date.now() < root._bokeh_timeout) {\n",
       "      setTimeout(display_loaded, 100)\n",
       "    }\n",
       "  }\n",
       "\n",
       "\n",
       "  function run_callbacks() {\n",
       "    try {\n",
       "      root._bokeh_onload_callbacks.forEach(function(callback) { callback() });\n",
       "    }\n",
       "    finally {\n",
       "      delete root._bokeh_onload_callbacks\n",
       "    }\n",
       "    console.info(\"Bokeh: all callbacks have finished\");\n",
       "  }\n",
       "\n",
       "  function load_libs(js_urls, callback) {\n",
       "    root._bokeh_onload_callbacks.push(callback);\n",
       "    if (root._bokeh_is_loading > 0) {\n",
       "      console.log(\"Bokeh: BokehJS is being loaded, scheduling callback at\", now());\n",
       "      return null;\n",
       "    }\n",
       "    if (js_urls == null || js_urls.length === 0) {\n",
       "      run_callbacks();\n",
       "      return null;\n",
       "    }\n",
       "    console.log(\"Bokeh: BokehJS not loaded, scheduling load and callback at\", now());\n",
       "    root._bokeh_is_loading = js_urls.length;\n",
       "    for (var i = 0; i < js_urls.length; i++) {\n",
       "      var url = js_urls[i];\n",
       "      var s = document.createElement('script');\n",
       "      s.src = url;\n",
       "      s.async = false;\n",
       "      s.onreadystatechange = s.onload = function() {\n",
       "        root._bokeh_is_loading--;\n",
       "        if (root._bokeh_is_loading === 0) {\n",
       "          console.log(\"Bokeh: all BokehJS libraries loaded\");\n",
       "          run_callbacks()\n",
       "        }\n",
       "      };\n",
       "      s.onerror = function() {\n",
       "        console.warn(\"failed to load library \" + url);\n",
       "      };\n",
       "      console.log(\"Bokeh: injecting script tag for BokehJS library: \", url);\n",
       "      document.getElementsByTagName(\"head\")[0].appendChild(s);\n",
       "    }\n",
       "  };var element = document.getElementById(\"1001\");\n",
       "  if (element == null) {\n",
       "    console.log(\"Bokeh: ERROR: autoload.js configured with elementid '1001' but no matching script tag was found. \")\n",
       "    return false;\n",
       "  }\n",
       "\n",
       "  var js_urls = [\"https://cdn.pydata.org/bokeh/release/bokeh-1.0.1.min.js\", \"https://cdn.pydata.org/bokeh/release/bokeh-widgets-1.0.1.min.js\", \"https://cdn.pydata.org/bokeh/release/bokeh-tables-1.0.1.min.js\", \"https://cdn.pydata.org/bokeh/release/bokeh-gl-1.0.1.min.js\"];\n",
       "\n",
       "  var inline_js = [\n",
       "    function(Bokeh) {\n",
       "      Bokeh.set_log_level(\"info\");\n",
       "    },\n",
       "    \n",
       "    function(Bokeh) {\n",
       "      \n",
       "    },\n",
       "    function(Bokeh) {\n",
       "      console.log(\"Bokeh: injecting CSS: https://cdn.pydata.org/bokeh/release/bokeh-1.0.1.min.css\");\n",
       "      Bokeh.embed.inject_css(\"https://cdn.pydata.org/bokeh/release/bokeh-1.0.1.min.css\");\n",
       "      console.log(\"Bokeh: injecting CSS: https://cdn.pydata.org/bokeh/release/bokeh-widgets-1.0.1.min.css\");\n",
       "      Bokeh.embed.inject_css(\"https://cdn.pydata.org/bokeh/release/bokeh-widgets-1.0.1.min.css\");\n",
       "      console.log(\"Bokeh: injecting CSS: https://cdn.pydata.org/bokeh/release/bokeh-tables-1.0.1.min.css\");\n",
       "      Bokeh.embed.inject_css(\"https://cdn.pydata.org/bokeh/release/bokeh-tables-1.0.1.min.css\");\n",
       "    }\n",
       "  ];\n",
       "\n",
       "  function run_inline_js() {\n",
       "    \n",
       "    if ((root.Bokeh !== undefined) || (force === true)) {\n",
       "      for (var i = 0; i < inline_js.length; i++) {\n",
       "        inline_js[i].call(root, root.Bokeh);\n",
       "      }if (force === true) {\n",
       "        display_loaded();\n",
       "      }} else if (Date.now() < root._bokeh_timeout) {\n",
       "      setTimeout(run_inline_js, 100);\n",
       "    } else if (!root._bokeh_failed_load) {\n",
       "      console.log(\"Bokeh: BokehJS failed to load within specified timeout.\");\n",
       "      root._bokeh_failed_load = true;\n",
       "    } else if (force !== true) {\n",
       "      var cell = $(document.getElementById(\"1001\")).parents('.cell').data().cell;\n",
       "      cell.output_area.append_execute_result(NB_LOAD_WARNING)\n",
       "    }\n",
       "\n",
       "  }\n",
       "\n",
       "  if (root._bokeh_is_loading === 0) {\n",
       "    console.log(\"Bokeh: BokehJS loaded, going straight to plotting\");\n",
       "    run_inline_js();\n",
       "  } else {\n",
       "    load_libs(js_urls, function() {\n",
       "      console.log(\"Bokeh: BokehJS plotting callback run at\", now());\n",
       "      run_inline_js();\n",
       "    });\n",
       "  }\n",
       "}(window));"
      ],
      "application/vnd.bokehjs_load.v0+json": "\n(function(root) {\n  function now() {\n    return new Date();\n  }\n\n  var force = true;\n\n  if (typeof (root._bokeh_onload_callbacks) === \"undefined\" || force === true) {\n    root._bokeh_onload_callbacks = [];\n    root._bokeh_is_loading = undefined;\n  }\n\n  \n\n  \n  if (typeof (root._bokeh_timeout) === \"undefined\" || force === true) {\n    root._bokeh_timeout = Date.now() + 5000;\n    root._bokeh_failed_load = false;\n  }\n\n  var NB_LOAD_WARNING = {'data': {'text/html':\n     \"<div style='background-color: #fdd'>\\n\"+\n     \"<p>\\n\"+\n     \"BokehJS does not appear to have successfully loaded. If loading BokehJS from CDN, this \\n\"+\n     \"may be due to a slow or bad network connection. Possible fixes:\\n\"+\n     \"</p>\\n\"+\n     \"<ul>\\n\"+\n     \"<li>re-rerun `output_notebook()` to attempt to load from CDN again, or</li>\\n\"+\n     \"<li>use INLINE resources instead, as so:</li>\\n\"+\n     \"</ul>\\n\"+\n     \"<code>\\n\"+\n     \"from bokeh.resources import INLINE\\n\"+\n     \"output_notebook(resources=INLINE)\\n\"+\n     \"</code>\\n\"+\n     \"</div>\"}};\n\n  function display_loaded() {\n    var el = document.getElementById(\"1001\");\n    if (el != null) {\n      el.textContent = \"BokehJS is loading...\";\n    }\n    if (root.Bokeh !== undefined) {\n      if (el != null) {\n        el.textContent = \"BokehJS \" + root.Bokeh.version + \" successfully loaded.\";\n      }\n    } else if (Date.now() < root._bokeh_timeout) {\n      setTimeout(display_loaded, 100)\n    }\n  }\n\n\n  function run_callbacks() {\n    try {\n      root._bokeh_onload_callbacks.forEach(function(callback) { callback() });\n    }\n    finally {\n      delete root._bokeh_onload_callbacks\n    }\n    console.info(\"Bokeh: all callbacks have finished\");\n  }\n\n  function load_libs(js_urls, callback) {\n    root._bokeh_onload_callbacks.push(callback);\n    if (root._bokeh_is_loading > 0) {\n      console.log(\"Bokeh: BokehJS is being loaded, scheduling callback at\", now());\n      return null;\n    }\n    if (js_urls == null || js_urls.length === 0) {\n      run_callbacks();\n      return null;\n    }\n    console.log(\"Bokeh: BokehJS not loaded, scheduling load and callback at\", now());\n    root._bokeh_is_loading = js_urls.length;\n    for (var i = 0; i < js_urls.length; i++) {\n      var url = js_urls[i];\n      var s = document.createElement('script');\n      s.src = url;\n      s.async = false;\n      s.onreadystatechange = s.onload = function() {\n        root._bokeh_is_loading--;\n        if (root._bokeh_is_loading === 0) {\n          console.log(\"Bokeh: all BokehJS libraries loaded\");\n          run_callbacks()\n        }\n      };\n      s.onerror = function() {\n        console.warn(\"failed to load library \" + url);\n      };\n      console.log(\"Bokeh: injecting script tag for BokehJS library: \", url);\n      document.getElementsByTagName(\"head\")[0].appendChild(s);\n    }\n  };var element = document.getElementById(\"1001\");\n  if (element == null) {\n    console.log(\"Bokeh: ERROR: autoload.js configured with elementid '1001' but no matching script tag was found. \")\n    return false;\n  }\n\n  var js_urls = [\"https://cdn.pydata.org/bokeh/release/bokeh-1.0.1.min.js\", \"https://cdn.pydata.org/bokeh/release/bokeh-widgets-1.0.1.min.js\", \"https://cdn.pydata.org/bokeh/release/bokeh-tables-1.0.1.min.js\", \"https://cdn.pydata.org/bokeh/release/bokeh-gl-1.0.1.min.js\"];\n\n  var inline_js = [\n    function(Bokeh) {\n      Bokeh.set_log_level(\"info\");\n    },\n    \n    function(Bokeh) {\n      \n    },\n    function(Bokeh) {\n      console.log(\"Bokeh: injecting CSS: https://cdn.pydata.org/bokeh/release/bokeh-1.0.1.min.css\");\n      Bokeh.embed.inject_css(\"https://cdn.pydata.org/bokeh/release/bokeh-1.0.1.min.css\");\n      console.log(\"Bokeh: injecting CSS: https://cdn.pydata.org/bokeh/release/bokeh-widgets-1.0.1.min.css\");\n      Bokeh.embed.inject_css(\"https://cdn.pydata.org/bokeh/release/bokeh-widgets-1.0.1.min.css\");\n      console.log(\"Bokeh: injecting CSS: https://cdn.pydata.org/bokeh/release/bokeh-tables-1.0.1.min.css\");\n      Bokeh.embed.inject_css(\"https://cdn.pydata.org/bokeh/release/bokeh-tables-1.0.1.min.css\");\n    }\n  ];\n\n  function run_inline_js() {\n    \n    if ((root.Bokeh !== undefined) || (force === true)) {\n      for (var i = 0; i < inline_js.length; i++) {\n        inline_js[i].call(root, root.Bokeh);\n      }if (force === true) {\n        display_loaded();\n      }} else if (Date.now() < root._bokeh_timeout) {\n      setTimeout(run_inline_js, 100);\n    } else if (!root._bokeh_failed_load) {\n      console.log(\"Bokeh: BokehJS failed to load within specified timeout.\");\n      root._bokeh_failed_load = true;\n    } else if (force !== true) {\n      var cell = $(document.getElementById(\"1001\")).parents('.cell').data().cell;\n      cell.output_area.append_execute_result(NB_LOAD_WARNING)\n    }\n\n  }\n\n  if (root._bokeh_is_loading === 0) {\n    console.log(\"Bokeh: BokehJS loaded, going straight to plotting\");\n    run_inline_js();\n  } else {\n    load_libs(js_urls, function() {\n      console.log(\"Bokeh: BokehJS plotting callback run at\", now());\n      run_inline_js();\n    });\n  }\n}(window));"
     },
     "metadata": {},
     "output_type": "display_data"
    },
    {
     "data": {
      "text/html": [
       "\n",
       "\n",
       "\n",
       "\n",
       "\n",
       "\n",
       "  <div class=\"bk-root\" id=\"2e9fc454-b76b-439e-b9a4-8a00115409dd\"></div>\n"
      ]
     },
     "metadata": {},
     "output_type": "display_data"
    },
    {
     "data": {
      "application/javascript": [
       "(function(root) {\n",
       "  function embed_document(root) {\n",
       "    \n",
       "  var docs_json = {\"fcf9f391-5552-4473-9123-0873eaebe77b\":{\"roots\":{\"references\":[{\"attributes\":{\"below\":[{\"id\":\"1011\",\"type\":\"LinearAxis\"}],\"left\":[{\"id\":\"1016\",\"type\":\"LinearAxis\"}],\"renderers\":[{\"id\":\"1011\",\"type\":\"LinearAxis\"},{\"id\":\"1015\",\"type\":\"Grid\"},{\"id\":\"1016\",\"type\":\"LinearAxis\"},{\"id\":\"1020\",\"type\":\"Grid\"},{\"id\":\"1029\",\"type\":\"BoxAnnotation\"},{\"id\":\"1039\",\"type\":\"GlyphRenderer\"}],\"title\":{\"id\":\"1042\",\"type\":\"Title\"},\"toolbar\":{\"id\":\"1027\",\"type\":\"Toolbar\"},\"x_range\":{\"id\":\"1003\",\"type\":\"DataRange1d\"},\"x_scale\":{\"id\":\"1007\",\"type\":\"LinearScale\"},\"y_range\":{\"id\":\"1005\",\"type\":\"DataRange1d\"},\"y_scale\":{\"id\":\"1009\",\"type\":\"LinearScale\"}},\"id\":\"1002\",\"subtype\":\"Figure\",\"type\":\"Plot\"},{\"attributes\":{\"active_drag\":\"auto\",\"active_inspect\":\"auto\",\"active_multi\":null,\"active_scroll\":\"auto\",\"active_tap\":\"auto\",\"tools\":[{\"id\":\"1021\",\"type\":\"PanTool\"},{\"id\":\"1022\",\"type\":\"WheelZoomTool\"},{\"id\":\"1023\",\"type\":\"BoxZoomTool\"},{\"id\":\"1024\",\"type\":\"SaveTool\"},{\"id\":\"1025\",\"type\":\"ResetTool\"},{\"id\":\"1026\",\"type\":\"HelpTool\"}]},\"id\":\"1027\",\"type\":\"Toolbar\"},{\"attributes\":{\"source\":{\"id\":\"1036\",\"type\":\"ColumnDataSource\"}},\"id\":\"1040\",\"type\":\"CDSView\"},{\"attributes\":{},\"id\":\"1021\",\"type\":\"PanTool\"},{\"attributes\":{},\"id\":\"1022\",\"type\":\"WheelZoomTool\"},{\"attributes\":{\"overlay\":{\"id\":\"1029\",\"type\":\"BoxAnnotation\"}},\"id\":\"1023\",\"type\":\"BoxZoomTool\"},{\"attributes\":{},\"id\":\"1024\",\"type\":\"SaveTool\"},{\"attributes\":{},\"id\":\"1025\",\"type\":\"ResetTool\"},{\"attributes\":{\"line_alpha\":0.1,\"line_color\":\"#1f77b4\",\"x\":{\"field\":\"x\"},\"y\":{\"field\":\"y\"}},\"id\":\"1038\",\"type\":\"Line\"},{\"attributes\":{},\"id\":\"1026\",\"type\":\"HelpTool\"},{\"attributes\":{\"bottom_units\":\"screen\",\"fill_alpha\":{\"value\":0.5},\"fill_color\":{\"value\":\"lightgrey\"},\"left_units\":\"screen\",\"level\":\"overlay\",\"line_alpha\":{\"value\":1.0},\"line_color\":{\"value\":\"black\"},\"line_dash\":[4,4],\"line_width\":{\"value\":2},\"plot\":null,\"render_mode\":\"css\",\"right_units\":\"screen\",\"top_units\":\"screen\"},\"id\":\"1029\",\"type\":\"BoxAnnotation\"},{\"attributes\":{\"data_source\":{\"id\":\"1036\",\"type\":\"ColumnDataSource\"},\"glyph\":{\"id\":\"1037\",\"type\":\"Line\"},\"hover_glyph\":null,\"muted_glyph\":null,\"nonselection_glyph\":{\"id\":\"1038\",\"type\":\"Line\"},\"selection_glyph\":null,\"view\":{\"id\":\"1040\",\"type\":\"CDSView\"}},\"id\":\"1039\",\"type\":\"GlyphRenderer\"},{\"attributes\":{\"callback\":null},\"id\":\"1003\",\"type\":\"DataRange1d\"},{\"attributes\":{},\"id\":\"1049\",\"type\":\"UnionRenderers\"},{\"attributes\":{},\"id\":\"1044\",\"type\":\"BasicTickFormatter\"},{\"attributes\":{},\"id\":\"1046\",\"type\":\"BasicTickFormatter\"},{\"attributes\":{\"plot\":null,\"text\":\"\"},\"id\":\"1042\",\"type\":\"Title\"},{\"attributes\":{\"callback\":null},\"id\":\"1005\",\"type\":\"DataRange1d\"},{\"attributes\":{\"line_color\":\"red\",\"x\":{\"field\":\"x\"},\"y\":{\"field\":\"y\"}},\"id\":\"1037\",\"type\":\"Line\"},{\"attributes\":{\"callback\":null,\"data\":{\"x\":[0,1,2,3,4,5,6,7,8,9,10,11,12,13,14,15,16,17,18,19,20,21,22,23,24,25,26,27,28,29,30,31,32,33,34,35,36,37,38,39,40,41,42,43,44,45,46,47,48,49,50,51,52,53,54,55,56,57,58,59,60,61,62,63,64,65,66,67,68,69,70,71,72,73,74,75,76,77,78,79,80,81,82,83,84,85,86,87,88,89,90,91,92,93,94,95,96,97,98,99,100,101,102,103,104,105,106,107,108,109,110,111,112,113,114,115,116,117,118,119,120,121,122,123,124,125,126,127,128,129,130,131,132,133,134,135,136,137,138,139,140,141,142,143,144,145,146,147,148,149,150,151,152,153,154,155,156,157,158,159,160,161,162,163,164,165,166,167,168,169,170,171,172,173,174,175,176,177,178,179,180,181,182,183,184,185,186,187,188,189,190,191,192,193,194,195,196,197,198,199,200,201,202,203,204,205,206,207,208,209,210,211,212,213,214,215,216,217,218,219,220,221,222,223,224,225,226,227,228,229,230,231,232,233,234,235,236,237,238,239,240,241,242,243,244,245,246,247,248,249,250,251,252,253,254,255,256,257,258,259,260,261,262,263,264,265,266,267,268,269,270,271,272,273,274,275,276,277,278,279,280,281,282,283,284,285,286,287,288,289,290,291,292,293,294,295,296,297,298,299,300,301,302,303,304,305,306,307,308,309,310,311,312,313,314,315,316,317,318,319,320,321,322,323,324,325,326,327,328,329,330,331,332,333,334,335,336,337,338,339,340,341,342,343,344,345,346,347,348,349,350,351,352,353,354,355,356,357,358,359,360,361,362,363,364,365,366,367,368,369,370,371,372,373,374,375,376,377,378,379,380,381,382,383,384,385,386,387,388,389,390,391,392,393,394,395,396,397,398,399,400,401,402,403,404,405,406,407,408,409,410,411,412,413,414,415,416,417,418,419,420,421,422,423,424,425,426,427,428,429,430,431,432,433,434,435,436,437,438,439,440,441,442,443,444,445,446,447,448,449,450,451,452,453,454,455,456,457,458,459,460,461,462,463,464,465,466,467,468,469,470,471,472,473,474,475,476,477,478,479,480,481,482,483,484,485,486,487,488,489,490,491,492,493,494,495,496,497,498,499,500,501,502,503,504,505,506,507,508,509,510,511,512,513,514,515,516,517,518,519,520,521,522,523,524,525,526,527,528,529,530,531,532,533,534,535,536,537,538,539,540,541,542,543,544,545,546,547,548,549,550,551,552,553,554,555,556,557,558,559,560,561,562,563,564,565,566,567,568,569,570,571,572,573,574,575,576,577,578,579,580,581,582,583,584,585,586,587,588,589,590,591,592,593,594,595,596,597,598,599,600,601,602,603,604,605,606,607,608,609,610,611,612,613,614,615,616,617,618,619,620,621,622,623,624,625,626,627,628,629,630,631,632,633,634,635,636,637,638,639,640,641,642,643,644,645,646,647,648,649,650,651,652,653,654,655,656,657,658,659,660,661,662,663,664,665,666,667,668,669,670,671,672,673,674,675,676,677,678,679,680,681,682,683,684,685,686,687,688,689,690,691,692,693,694,695,696,697,698,699,700,701,702,703,704,705,706,707,708,709,710,711,712,713,714,715,716,717,718,719,720,721,722,723,724,725,726,727,728,729,730,731,732,733,734,735,736,737,738,739,740,741,742,743,744,745,746,747,748,749,750,751,752,753,754,755,756,757,758,759,760,761,762,763,764,765,766,767,768,769,770,771,772,773,774,775,776,777,778,779,780,781,782,783,784,785,786,787,788,789,790,791,792,793,794,795,796,797,798,799,800,801,802,803,804,805,806,807,808,809,810,811,812,813,814,815,816,817,818,819,820,821,822,823,824,825,826,827,828,829,830,831,832,833,834,835,836,837,838,839,840,841,842,843,844,845,846,847,848,849,850,851,852,853,854,855,856,857,858,859,860,861,862,863,864,865,866,867,868,869,870,871,872,873,874,875,876,877,878,879,880,881,882,883,884,885,886,887,888,889,890,891,892,893,894,895,896,897,898,899,900,901,902,903,904,905,906,907,908,909,910,911,912,913,914,915,916,917,918,919,920,921,922,923,924,925,926,927,928,929,930,931,932,933,934,935,936,937,938,939,940,941,942,943,944,945,946,947,948,949,950,951,952,953,954,955,956,957,958,959,960,961,962,963,964,965,966,967,968,969,970,971,972,973,974,975,976,977,978,979,980,981,982,983,984,985,986,987,988,989,990,991,992,993,994,995,996,997,998,999,1000,1001,1002,1003,1004,1005,1006,1007,1008,1009,1010,1011,1012,1013,1014,1015,1016,1017,1018,1019,1020,1021,1022,1023,1024,1025,1026,1027,1028,1029,1030,1031,1032,1033,1034,1035,1036,1037,1038,1039,1040,1041,1042,1043,1044,1045,1046,1047,1048,1049,1050,1051,1052,1053,1054,1055,1056,1057,1058,1059,1060,1061,1062,1063,1064,1065,1066,1067,1068,1069,1070,1071,1072,1073,1074,1075,1076,1077,1078,1079,1080,1081,1082,1083,1084,1085,1086,1087,1088,1089,1090,1091,1092,1093,1094,1095,1096,1097,1098,1099,1100,1101,1102,1103,1104,1105,1106,1107,1108,1109,1110,1111,1112,1113,1114,1115,1116,1117,1118,1119,1120,1121,1122,1123,1124,1125,1126,1127,1128,1129,1130,1131,1132,1133,1134,1135,1136,1137,1138,1139,1140,1141,1142,1143,1144,1145,1146,1147,1148,1149,1150,1151,1152,1153,1154,1155,1156,1157,1158,1159,1160,1161,1162,1163,1164,1165,1166,1167,1168,1169,1170,1171,1172,1173,1174,1175,1176,1177,1178,1179,1180,1181,1182,1183,1184,1185,1186,1187,1188,1189,1190,1191,1192,1193,1194,1195,1196,1197,1198,1199,1200,1201,1202,1203,1204,1205,1206,1207,1208,1209,1210,1211,1212,1213,1214,1215,1216,1217,1218,1219,1220,1221,1222,1223,1224,1225,1226,1227,1228,1229,1230,1231,1232,1233,1234,1235,1236,1237,1238,1239,1240,1241,1242,1243,1244,1245,1246,1247,1248,1249,1250,1251,1252,1253,1254,1255,1256,1257,1258,1259,1260,1261,1262,1263,1264,1265,1266,1267,1268,1269,1270,1271,1272,1273,1274,1275,1276,1277,1278,1279,1280,1281,1282,1283,1284,1285,1286,1287,1288,1289,1290,1291,1292,1293,1294,1295,1296,1297,1298,1299,1300,1301,1302,1303,1304,1305,1306,1307,1308,1309,1310,1311,1312,1313,1314,1315,1316,1317,1318,1319,1320,1321,1322,1323,1324,1325,1326,1327,1328,1329,1330,1331,1332,1333,1334,1335,1336,1337,1338,1339,1340,1341,1342,1343,1344,1345,1346,1347,1348,1349,1350,1351,1352,1353,1354,1355,1356,1357,1358,1359,1360,1361,1362,1363,1364,1365,1366,1367,1368,1369,1370,1371,1372,1373,1374,1375,1376,1377,1378,1379,1380,1381,1382,1383,1384,1385,1386,1387,1388,1389,1390,1391,1392,1393,1394,1395,1396,1397,1398,1399,1400,1401,1402,1403,1404,1405,1406,1407,1408,1409,1410,1411,1412,1413,1414,1415,1416,1417,1418,1419,1420,1421,1422,1423,1424,1425,1426,1427,1428,1429,1430,1431,1432,1433,1434,1435,1436,1437,1438,1439,1440,1441,1442,1443,1444,1445,1446,1447,1448,1449,1450,1451,1452,1453,1454,1455,1456,1457,1458,1459,1460,1461,1462,1463,1464,1465,1466,1467,1468,1469,1470,1471,1472,1473,1474,1475,1476,1477,1478,1479,1480,1481,1482,1483,1484,1485,1486,1487,1488,1489,1490,1491,1492,1493,1494,1495,1496,1497,1498,1499,1500,1501,1502,1503,1504,1505,1506,1507,1508,1509,1510,1511,1512,1513,1514,1515,1516,1517,1518,1519,1520,1521,1522,1523,1524,1525,1526,1527,1528,1529,1530,1531,1532,1533,1534,1535,1536,1537,1538,1539,1540,1541,1542,1543,1544,1545,1546,1547,1548,1549,1550,1551,1552,1553,1554,1555,1556,1557,1558,1559,1560,1561,1562,1563,1564,1565,1566,1567,1568,1569,1570,1571,1572,1573,1574,1575,1576,1577,1578,1579,1580,1581,1582,1583,1584,1585,1586,1587,1588,1589,1590,1591,1592,1593,1594,1595,1596,1597,1598,1599,1600,1601,1602,1603,1604,1605,1606,1607,1608,1609,1610,1611,1612,1613,1614,1615,1616,1617,1618,1619,1620,1621,1622,1623,1624,1625,1626,1627,1628,1629,1630,1631,1632,1633,1634,1635,1636,1637,1638,1639,1640,1641,1642,1643,1644,1645,1646,1647,1648,1649,1650,1651,1652,1653,1654,1655,1656,1657,1658,1659,1660,1661,1662,1663,1664,1665,1666,1667,1668,1669,1670,1671,1672,1673,1674,1675,1676,1677,1678,1679,1680,1681,1682,1683,1684,1685,1686,1687,1688,1689,1690,1691,1692,1693,1694,1695,1696,1697,1698,1699,1700,1701,1702,1703,1704,1705,1706,1707,1708,1709,1710,1711,1712,1713,1714,1715,1716,1717,1718,1719,1720,1721,1722,1723,1724,1725,1726,1727,1728,1729,1730,1731,1732,1733,1734,1735,1736,1737,1738,1739,1740,1741,1742,1743,1744,1745,1746,1747,1748,1749,1750,1751,1752,1753,1754,1755,1756,1757,1758,1759,1760,1761,1762,1763,1764,1765,1766,1767,1768,1769,1770,1771,1772,1773,1774,1775,1776,1777,1778,1779,1780,1781,1782,1783,1784,1785,1786,1787,1788,1789,1790,1791,1792,1793,1794,1795,1796,1797,1798,1799,1800,1801,1802,1803,1804,1805,1806,1807,1808,1809,1810,1811,1812,1813,1814,1815,1816,1817,1818,1819,1820,1821,1822,1823,1824,1825,1826,1827,1828,1829,1830,1831,1832,1833,1834,1835,1836,1837,1838,1839,1840,1841,1842,1843,1844,1845,1846,1847,1848,1849,1850,1851,1852,1853,1854,1855,1856,1857,1858,1859,1860,1861,1862,1863,1864,1865,1866,1867,1868,1869,1870,1871,1872,1873,1874,1875,1876,1877,1878,1879,1880,1881,1882,1883,1884,1885,1886,1887,1888,1889,1890,1891,1892,1893,1894,1895,1896,1897,1898,1899,1900,1901,1902,1903,1904,1905,1906,1907,1908,1909,1910,1911,1912,1913,1914,1915,1916,1917,1918,1919,1920,1921,1922,1923,1924,1925,1926,1927,1928,1929,1930,1931,1932,1933,1934,1935,1936,1937,1938,1939,1940,1941,1942,1943,1944,1945,1946,1947,1948,1949,1950,1951,1952,1953,1954,1955,1956,1957,1958,1959,1960,1961,1962,1963,1964,1965,1966,1967,1968,1969,1970,1971,1972,1973,1974,1975,1976,1977,1978,1979,1980,1981,1982,1983,1984,1985,1986,1987,1988,1989,1990,1991,1992,1993,1994,1995,1996,1997,1998,1999,2000,2001,2002,2003,2004,2005,2006,2007,2008,2009,2010,2011,2012,2013,2014,2015,2016,2017,2018,2019,2020,2021,2022,2023,2024,2025,2026,2027,2028,2029,2030,2031,2032,2033,2034,2035,2036,2037,2038,2039,2040,2041,2042,2043,2044,2045,2046,2047,2048,2049,2050,2051,2052,2053,2054,2055,2056,2057,2058,2059,2060,2061,2062,2063,2064,2065,2066,2067,2068,2069,2070,2071,2072,2073,2074,2075,2076,2077,2078,2079,2080,2081,2082,2083,2084,2085,2086,2087,2088,2089,2090,2091,2092,2093,2094,2095,2096,2097,2098,2099,2100,2101,2102,2103,2104,2105,2106,2107,2108,2109,2110,2111,2112,2113,2114,2115,2116,2117,2118,2119,2120,2121,2122,2123,2124,2125,2126,2127,2128,2129,2130,2131,2132,2133,2134,2135,2136,2137,2138,2139,2140,2141,2142,2143,2144,2145,2146,2147,2148,2149,2150,2151,2152,2153,2154,2155,2156,2157,2158,2159,2160,2161,2162,2163,2164,2165,2166,2167,2168,2169,2170,2171,2172,2173,2174,2175,2176,2177,2178,2179,2180,2181,2182,2183,2184,2185,2186,2187,2188,2189,2190,2191,2192,2193,2194,2195,2196,2197,2198,2199,2200,2201,2202,2203,2204,2205,2206,2207,2208,2209,2210,2211,2212,2213,2214,2215,2216,2217,2218,2219,2220,2221,2222,2223,2224,2225,2226,2227,2228,2229,2230,2231,2232,2233,2234,2235,2236,2237,2238,2239,2240,2241,2242,2243,2244,2245,2246,2247,2248,2249,2250,2251,2252,2253,2254,2255,2256,2257,2258,2259,2260,2261,2262,2263,2264,2265,2266,2267,2268,2269,2270,2271,2272,2273,2274,2275,2276,2277,2278,2279,2280,2281,2282,2283,2284,2285,2286,2287,2288,2289,2290,2291,2292,2293,2294,2295,2296,2297,2298,2299,2300,2301,2302,2303,2304,2305,2306,2307,2308,2309,2310,2311,2312,2313,2314,2315,2316,2317,2318,2319,2320,2321,2322,2323,2324,2325,2326,2327,2328,2329,2330,2331,2332,2333,2334,2335,2336,2337,2338,2339,2340,2341,2342,2343,2344,2345,2346,2347,2348,2349,2350,2351,2352,2353,2354,2355,2356,2357,2358,2359,2360,2361,2362,2363,2364,2365,2366,2367,2368,2369,2370,2371,2372,2373,2374,2375,2376,2377,2378,2379,2380,2381,2382,2383,2384,2385,2386,2387,2388,2389,2390,2391,2392,2393,2394,2395,2396,2397,2398,2399,2400,2401,2402,2403,2404,2405,2406,2407,2408,2409,2410,2411,2412,2413,2414,2415,2416,2417,2418,2419,2420,2421,2422,2423,2424,2425,2426,2427,2428,2429,2430,2431,2432,2433,2434,2435,2436,2437,2438,2439,2440,2441,2442,2443,2444,2445,2446,2447,2448,2449,2450,2451,2452,2453,2454,2455,2456,2457,2458,2459,2460,2461,2462,2463,2464,2465,2466,2467,2468,2469,2470,2471,2472,2473,2474,2475,2476,2477,2478,2479,2480,2481,2482,2483,2484,2485,2486,2487,2488,2489,2490,2491,2492,2493,2494,2495,2496,2497,2498,2499,2500,2501,2502,2503,2504,2505,2506,2507,2508,2509,2510,2511,2512,2513,2514,2515,2516,2517,2518,2519,2520,2521,2522,2523,2524,2525,2526,2527,2528,2529,2530,2531,2532,2533,2534,2535,2536,2537,2538,2539,2540,2541,2542,2543,2544,2545,2546,2547,2548,2549,2550,2551,2552,2553,2554,2555,2556,2557,2558,2559,2560,2561,2562,2563,2564,2565,2566,2567,2568,2569,2570,2571,2572,2573,2574,2575,2576,2577,2578,2579,2580,2581,2582,2583,2584,2585,2586,2587,2588,2589,2590,2591,2592,2593,2594,2595,2596,2597,2598,2599,2600,2601,2602,2603,2604,2605,2606,2607,2608,2609,2610,2611,2612,2613,2614,2615,2616,2617,2618,2619,2620,2621,2622,2623,2624,2625,2626,2627,2628,2629,2630,2631,2632,2633,2634,2635,2636,2637,2638,2639,2640,2641,2642,2643,2644,2645,2646,2647,2648,2649,2650,2651,2652,2653,2654,2655,2656,2657,2658,2659,2660,2661,2662,2663,2664,2665,2666,2667,2668,2669,2670,2671,2672,2673,2674,2675,2676,2677,2678,2679,2680,2681,2682,2683,2684,2685,2686,2687,2688,2689,2690,2691,2692,2693,2694,2695,2696,2697,2698,2699,2700,2701,2702,2703,2704,2705,2706,2707,2708,2709,2710,2711,2712,2713,2714,2715,2716,2717,2718,2719,2720,2721,2722,2723,2724,2725,2726,2727,2728,2729,2730,2731,2732,2733,2734,2735,2736,2737,2738,2739,2740,2741,2742,2743,2744,2745,2746,2747,2748,2749,2750,2751,2752,2753,2754,2755,2756,2757,2758,2759,2760,2761,2762,2763,2764,2765,2766,2767,2768,2769,2770,2771,2772,2773,2774,2775,2776,2777,2778,2779,2780,2781,2782,2783,2784,2785,2786,2787,2788,2789,2790,2791,2792,2793,2794,2795,2796,2797,2798,2799,2800,2801,2802,2803,2804,2805,2806,2807,2808,2809,2810,2811,2812,2813,2814,2815,2816,2817,2818,2819,2820,2821,2822,2823,2824,2825,2826,2827,2828,2829,2830,2831,2832,2833,2834,2835,2836,2837,2838,2839,2840,2841,2842,2843,2844,2845,2846,2847,2848,2849,2850,2851,2852,2853,2854,2855,2856,2857,2858,2859,2860,2861,2862,2863,2864,2865,2866,2867,2868,2869,2870,2871,2872,2873,2874,2875,2876,2877,2878,2879,2880,2881,2882,2883,2884,2885,2886,2887,2888,2889,2890,2891,2892,2893,2894,2895,2896,2897,2898,2899,2900,2901,2902,2903,2904,2905,2906,2907,2908,2909,2910,2911,2912,2913,2914,2915,2916,2917,2918,2919,2920,2921,2922,2923,2924,2925,2926,2927,2928,2929,2930,2931,2932,2933,2934,2935,2936,2937,2938,2939,2940,2941,2942,2943,2944,2945,2946,2947,2948,2949,2950,2951,2952,2953,2954,2955,2956,2957,2958,2959,2960,2961,2962,2963,2964,2965,2966,2967,2968,2969,2970,2971,2972,2973,2974,2975,2976,2977,2978,2979,2980,2981,2982,2983,2984,2985,2986,2987,2988,2989,2990,2991,2992,2993,2994,2995,2996,2997,2998,2999],\"y\":{\"__ndarray__\":\"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\",\"dtype\":\"float64\",\"shape\":[3000]}},\"selected\":{\"id\":\"1048\",\"type\":\"Selection\"},\"selection_policy\":{\"id\":\"1049\",\"type\":\"UnionRenderers\"}},\"id\":\"1036\",\"type\":\"ColumnDataSource\"},{\"attributes\":{},\"id\":\"1007\",\"type\":\"LinearScale\"},{\"attributes\":{},\"id\":\"1009\",\"type\":\"LinearScale\"},{\"attributes\":{},\"id\":\"1048\",\"type\":\"Selection\"},{\"attributes\":{\"plot\":{\"id\":\"1002\",\"subtype\":\"Figure\",\"type\":\"Plot\"},\"ticker\":{\"id\":\"1012\",\"type\":\"BasicTicker\"}},\"id\":\"1015\",\"type\":\"Grid\"},{\"attributes\":{\"formatter\":{\"id\":\"1046\",\"type\":\"BasicTickFormatter\"},\"plot\":{\"id\":\"1002\",\"subtype\":\"Figure\",\"type\":\"Plot\"},\"ticker\":{\"id\":\"1012\",\"type\":\"BasicTicker\"}},\"id\":\"1011\",\"type\":\"LinearAxis\"},{\"attributes\":{\"formatter\":{\"id\":\"1044\",\"type\":\"BasicTickFormatter\"},\"plot\":{\"id\":\"1002\",\"subtype\":\"Figure\",\"type\":\"Plot\"},\"ticker\":{\"id\":\"1017\",\"type\":\"BasicTicker\"}},\"id\":\"1016\",\"type\":\"LinearAxis\"},{\"attributes\":{},\"id\":\"1012\",\"type\":\"BasicTicker\"},{\"attributes\":{\"dimension\":1,\"plot\":{\"id\":\"1002\",\"subtype\":\"Figure\",\"type\":\"Plot\"},\"ticker\":{\"id\":\"1017\",\"type\":\"BasicTicker\"}},\"id\":\"1020\",\"type\":\"Grid\"},{\"attributes\":{},\"id\":\"1017\",\"type\":\"BasicTicker\"}],\"root_ids\":[\"1002\"]},\"title\":\"Bokeh Application\",\"version\":\"1.0.1\"}};\n",
       "  var render_items = [{\"docid\":\"fcf9f391-5552-4473-9123-0873eaebe77b\",\"roots\":{\"1002\":\"2e9fc454-b76b-439e-b9a4-8a00115409dd\"}}];\n",
       "  root.Bokeh.embed.embed_items_notebook(docs_json, render_items);\n",
       "\n",
       "  }\n",
       "  if (root.Bokeh !== undefined) {\n",
       "    embed_document(root);\n",
       "  } else {\n",
       "    var attempts = 0;\n",
       "    var timer = setInterval(function(root) {\n",
       "      if (root.Bokeh !== undefined) {\n",
       "        embed_document(root);\n",
       "        clearInterval(timer);\n",
       "      }\n",
       "      attempts++;\n",
       "      if (attempts > 100) {\n",
       "        console.log(\"Bokeh: ERROR: Unable to run BokehJS code because BokehJS library is missing\");\n",
       "        clearInterval(timer);\n",
       "      }\n",
       "    }, 10, root)\n",
       "  }\n",
       "})(window);"
      ],
      "application/vnd.bokehjs_exec.v0+json": ""
     },
     "metadata": {
      "application/vnd.bokehjs_exec.v0+json": {
       "id": "1002"
      }
     },
     "output_type": "display_data"
    }
   ],
   "source": [
    "from bokeh.plotting import figure, show\n",
    "from bokeh.io import output_notebook\n",
    "reset_target(scope)\n",
    "message = [0x00]\n",
    "\n",
    "num_char = target.ser.inWaiting()\n",
    "target.ser.read(num_char)\n",
    "\n",
    "key, text = ktp.newPair()  # manual creation of a key, text pair can be substituted here\n",
    "\n",
    "message.extend(text)\n",
    "\n",
    "crc = bl_crc.bit_by_bit(text)\n",
    "message.append(crc >> 8)\n",
    "message.append(crc & 0xFF)\n",
    "\n",
    "#flush target's serial\n",
    "okay = 0\n",
    "while not okay:\n",
    "    target.ser.write(\"\\0xxxxxxxxxxxxxxxxxx\")\n",
    "    time.sleep(0.005)\n",
    "    num_char = target.ser.inWaiting()\n",
    "    response = target.ser.read(num_char)\n",
    "    if response:\n",
    "        if ord(response[0]) == 0xA1:\n",
    "            okay = 1\n",
    "\n",
    "scope.arm()\n",
    "\n",
    "target.ser.write(message)\n",
    "timeout = 50\n",
    "# wait for target to finish\n",
    "while target.isDone() is False and timeout:\n",
    "    timeout -= 1\n",
    "    time.sleep(0.01)\n",
    "\n",
    "try:\n",
    "    ret = scope.capture()\n",
    "    if ret:\n",
    "        print('Timeout happened during acquisition')\n",
    "except IOError as e:\n",
    "    print('IOError: %s' % str(e))\n",
    "\n",
    "# run aux stuff that should happen after trace here\n",
    "num_char = target.ser.inWaiting()\n",
    "response = target.ser.read(num_char)\n",
    "if ord(response[0]) != 0xA4:\n",
    "    # Bad response, just skip\n",
    "    print(\"Bad response: {:02X}\".format(ord(response[0])))\n",
    "\n",
    "trace = scope.getLastTrace()\n",
    "\n",
    "output_notebook()\n",
    "p = figure()\n",
    "\n",
    "xrange = range(len(trace))\n",
    "p.line(xrange, trace, line_color=\"red\")\n",
    "show(p)"
   ]
  },
  {
   "cell_type": "markdown",
   "metadata": {},
   "source": [
    "You should see 5 different sections:\n",
    "\n",
    "* 16 XORs\n",
    "* 16 register loads (this is the new IV being copied over)\n",
    "* Some serial communication\n",
    "* The signature check\n",
    "* The serial line going idle\n",
    "\n",
    "Different targets have different power traces (for example, on Arm the XORs and register loads are almost identical), but hopefully you can pick out where each section is. For example, on XMEGA:\n",
    "\n",
    "![XMEGA_Bonus_Trace](https://wiki.newae.com/images/f/f6/Tutorial-A5-Bonus-Trace-Notes.PNG)"
   ]
  },
  {
   "cell_type": "markdown",
   "metadata": {},
   "source": [
    "With all of these things clearly visible, we have a pretty good idea of how to attack the IV and the signature. We should be able to look at each of the XOR spikes to find each of the IV bytes - each byte is processed on its own. Then, the signature check uses a short-circuiting comparison: as soon as it finds a byte in error, it stops checking the remaining bytes. This type of check is susceptible to a timing attack."
   ]
  },
  {
   "cell_type": "markdown",
   "metadata": {},
   "source": [
    "With those things done, we can move onto our capture loop. It's pretty similar to our last one. We're done with Analyzer, so we can store our traces in Python lists (we'll convert to numpy arrays later for easy analysis)."
   ]
  },
  {
   "cell_type": "code",
   "execution_count": 25,
   "metadata": {
    "scrolled": true
   },
   "outputs": [
    {
     "name": "stderr",
     "output_type": "stream",
     "text": [
      "Capturing traces:  44%|████▍     | 219/500 [01:38<02:07,  2.20it/s]"
     ]
    },
    {
     "name": "stdout",
     "output_type": "stream",
     "text": [
      "Bad response: A1\n"
     ]
    },
    {
     "name": "stderr",
     "output_type": "stream",
     "text": [
      "Capturing traces:  85%|████████▌ | 425/500 [03:12<00:33,  2.21it/s]"
     ]
    },
    {
     "name": "stdout",
     "output_type": "stream",
     "text": [
      "Bad response: A1\n"
     ]
    },
    {
     "name": "stderr",
     "output_type": "stream",
     "text": [
      "Capturing traces: 100%|██████████| 500/500 [03:45<00:00,  2.22it/s]\n"
     ]
    }
   ],
   "source": [
    "from tqdm import tqdm\n",
    "import numpy as np\n",
    "import time\n",
    "traces = []\n",
    "keys = []\n",
    "plaintexts = []\n",
    "N = 500  # Number of traces\n",
    "target.init()\n",
    "for i in tqdm(range(N), desc='Capturing traces'):\n",
    "    reset_target(scope)\n",
    "    message = [0x00]\n",
    "    \n",
    "\n",
    "    num_char = target.ser.inWaiting()\n",
    "    target.ser.read(num_char)\n",
    "    \n",
    "    key, text = ktp.newPair()  # manual creation of a key, text pair can be substituted here\n",
    "    keys.append(key)\n",
    "    plaintexts.append(text)\n",
    "    \n",
    "    message.extend(text)\n",
    "    \n",
    "    crc = bl_crc.bit_by_bit(text)\n",
    "    message.append(crc >> 8)\n",
    "    message.append(crc & 0xFF)\n",
    "\n",
    "    # run aux stuff that should run before the scope arms here\n",
    "    \n",
    "    #flush target's serial\n",
    "    okay = 0\n",
    "    while not okay:\n",
    "        target.ser.write(\"\\0xxxxxxxxxxxxxxxxxx\")\n",
    "        time.sleep(0.005)\n",
    "        num_char = target.ser.inWaiting()\n",
    "        response = target.ser.read(num_char)\n",
    "        if response:\n",
    "            if ord(response[0]) == 0xA1:\n",
    "                okay = 1\n",
    "    scope.arm()\n",
    "\n",
    "    # run aux stuff that should run after the scope arms here\n",
    "\n",
    "    target.ser.write(message)\n",
    "    timeout = 50\n",
    "    # wait for target to finish\n",
    "    while target.isDone() is False and timeout:\n",
    "        timeout -= 1\n",
    "        time.sleep(0.01)\n",
    "\n",
    "    try:\n",
    "        ret = scope.capture()\n",
    "        if ret:\n",
    "            print('Timeout happened during acquisition')\n",
    "            continue\n",
    "    except IOError as e:\n",
    "        print('IOError: %s' % str(e))\n",
    "\n",
    "    # run aux stuff that should happen after trace here\n",
    "    num_char = target.ser.inWaiting()\n",
    "    response = target.ser.read(num_char)\n",
    "    if ord(response[0]) != 0xA4:\n",
    "        # Bad response, just skip\n",
    "        print(\"Bad response: {:02X}\".format(ord(response[0])))\n",
    "        continue\n",
    "    \n",
    "    traces.append(scope.getLastTrace())"
   ]
  },
  {
   "cell_type": "markdown",
   "metadata": {},
   "source": [
    "### Analysis"
   ]
  },
  {
   "cell_type": "markdown",
   "metadata": {},
   "source": [
    "#### Attack Theory"
   ]
  },
  {
   "cell_type": "markdown",
   "metadata": {},
   "source": [
    "The bootloader applies the IV to the AES decryption result by calculating\n",
    "\n",
    "\n",
    "$\\text{PT} = \\text{DR} \\oplus \\text{IV}$\n",
    "\n",
    "where DR is the decrypted ciphertext, IV is the secret vector, and PT is the plaintext that the bootloader will use later. We only have access to one of these: since we know the AES-256 key, we can calculate DR. This exclusive or should be visible in the power traces\n",
    "\n",
    "This is enough information for us to attack a single bit of the IV. Suppose we only wanted to get the first bit (number 0) of the IV. We could do the following:\n",
    "\n",
    "* Split all of the traces into two groups: those with DR[0] = 0, and those with DR[0] = 1.\n",
    "* Calculate the average trace for both groups.\n",
    "* Find the difference between the two averages. It should include a noticeable spike during the first iteration of the loop.\n",
    "* Look at the direction of the spike to decide if the IV bit is 0 `(PT[0] = DR[0])` or if the IV bit is 1 `(PT[0] = ~DR[0])`.\n",
    "\n",
    "This is effectively a DPA attack on a single bit of the IV. We can repeat this attack 128 times to recover the entire IV."
   ]
  },
  {
   "cell_type": "markdown",
   "metadata": {},
   "source": [
    "#### A 1-Bit Attack"
   ]
  },
  {
   "cell_type": "markdown",
   "metadata": {},
   "source": [
    "Recall that we're looking for the xor operation between the last decrypted block, so we'll need to decrypt it up to that point. The PyCrypto includes an AES decyprtion routine, so we'll be using that. We'll start by importing the necessary modules and converting our traces/plaintext to numpy arrays:"
   ]
  },
  {
   "cell_type": "code",
   "execution_count": 26,
   "metadata": {},
   "outputs": [],
   "source": [
    "from Crypto.Cipher import AES\n",
    "import numpy as np\n",
    "\n",
    "trace_array = np.asarray(traces)  # if you prefer to work with numpy array for number crunching\n",
    "textin_array = np.asarray(plaintexts)\n",
    "\n",
    "numTraces = len(trace_array)\n",
    "traceLen = len(trace_array[0])"
   ]
  },
  {
   "cell_type": "markdown",
   "metadata": {},
   "source": [
    "Next we'll do the AES256 decryption. If you got a different key in the earlier part, you'll need to change `knownkey`."
   ]
  },
  {
   "cell_type": "code",
   "execution_count": 27,
   "metadata": {},
   "outputs": [],
   "source": [
    "knownkey = [0x94, 0x28, 0x5D, 0x4D, 0x6D, 0xCF, 0xEC, 0x08, 0xD8, 0xAC, 0xDD, 0xF6, 0xBE, 0x25, 0xA4, 0x99,\n",
    "            0xC4, 0xD9, 0xD0, 0x1E, 0xC3, 0x40, 0x7E, 0xD7, 0xD5, 0x28, 0xD4, 0x09, 0xE9, 0xF0, 0x88, 0xA1]\n",
    "\n",
    "knownkey = bytes(knownkey)\n",
    "dr = []\n",
    "aes = AES.new(knownkey, AES.MODE_ECB)\n",
    "for i in range(numTraces):\n",
    "    ct = bytes(textin_array[i])\n",
    "    pt = aes.decrypt(ct)\n",
    "    d = [bytearray(pt)[i] for i in range(16)]\n",
    "    dr.append(d)"
   ]
  },
  {
   "cell_type": "markdown",
   "metadata": {},
   "source": [
    "Now, let's split the traces into two groups by comparing bit 0 of the DR:"
   ]
  },
  {
   "cell_type": "code",
   "execution_count": 28,
   "metadata": {},
   "outputs": [
    {
     "name": "stdout",
     "output_type": "stream",
     "text": [
      "244\n"
     ]
    }
   ],
   "source": [
    "groupedTraces = [[] for _ in range(2)]\n",
    "for i in range(numTraces):\n",
    "    bit0 = dr[i][0] & 0x01\n",
    "    groupedTraces[bit0].append(trace_array[i])\n",
    "print(len(groupedTraces[0]))"
   ]
  },
  {
   "cell_type": "markdown",
   "metadata": {},
   "source": [
    "If you have 1000 traces, you should expect this to print a number around 500 - roughly half of the traces should fit into each group. Now, NumPy's average function lets us easily calculate the average at each point:"
   ]
  },
  {
   "cell_type": "code",
   "execution_count": 29,
   "metadata": {},
   "outputs": [],
   "source": [
    "# Find averages and differences\n",
    "means = []\n",
    "for i in range(2):\n",
    "    means.append(np.average(groupedTraces[i], axis=0))\n",
    "diff = means[1] - means[0]"
   ]
  },
  {
   "cell_type": "markdown",
   "metadata": {},
   "source": [
    "Finally, we can plot this difference to see if we can spot the IV:"
   ]
  },
  {
   "cell_type": "code",
   "execution_count": 30,
   "metadata": {},
   "outputs": [
    {
     "data": {
      "text/html": [
       "\n",
       "    <div class=\"bk-root\">\n",
       "        <a href=\"https://bokeh.pydata.org\" target=\"_blank\" class=\"bk-logo bk-logo-small bk-logo-notebook\"></a>\n",
       "        <span id=\"1104\">Loading BokehJS ...</span>\n",
       "    </div>"
      ]
     },
     "metadata": {},
     "output_type": "display_data"
    },
    {
     "data": {
      "application/javascript": [
       "\n",
       "(function(root) {\n",
       "  function now() {\n",
       "    return new Date();\n",
       "  }\n",
       "\n",
       "  var force = true;\n",
       "\n",
       "  if (typeof (root._bokeh_onload_callbacks) === \"undefined\" || force === true) {\n",
       "    root._bokeh_onload_callbacks = [];\n",
       "    root._bokeh_is_loading = undefined;\n",
       "  }\n",
       "\n",
       "  var JS_MIME_TYPE = 'application/javascript';\n",
       "  var HTML_MIME_TYPE = 'text/html';\n",
       "  var EXEC_MIME_TYPE = 'application/vnd.bokehjs_exec.v0+json';\n",
       "  var CLASS_NAME = 'output_bokeh rendered_html';\n",
       "\n",
       "  /**\n",
       "   * Render data to the DOM node\n",
       "   */\n",
       "  function render(props, node) {\n",
       "    var script = document.createElement(\"script\");\n",
       "    node.appendChild(script);\n",
       "  }\n",
       "\n",
       "  /**\n",
       "   * Handle when an output is cleared or removed\n",
       "   */\n",
       "  function handleClearOutput(event, handle) {\n",
       "    var cell = handle.cell;\n",
       "\n",
       "    var id = cell.output_area._bokeh_element_id;\n",
       "    var server_id = cell.output_area._bokeh_server_id;\n",
       "    // Clean up Bokeh references\n",
       "    if (id != null && id in Bokeh.index) {\n",
       "      Bokeh.index[id].model.document.clear();\n",
       "      delete Bokeh.index[id];\n",
       "    }\n",
       "\n",
       "    if (server_id !== undefined) {\n",
       "      // Clean up Bokeh references\n",
       "      var cmd = \"from bokeh.io.state import curstate; print(curstate().uuid_to_server['\" + server_id + \"'].get_sessions()[0].document.roots[0]._id)\";\n",
       "      cell.notebook.kernel.execute(cmd, {\n",
       "        iopub: {\n",
       "          output: function(msg) {\n",
       "            var id = msg.content.text.trim();\n",
       "            if (id in Bokeh.index) {\n",
       "              Bokeh.index[id].model.document.clear();\n",
       "              delete Bokeh.index[id];\n",
       "            }\n",
       "          }\n",
       "        }\n",
       "      });\n",
       "      // Destroy server and session\n",
       "      var cmd = \"import bokeh.io.notebook as ion; ion.destroy_server('\" + server_id + \"')\";\n",
       "      cell.notebook.kernel.execute(cmd);\n",
       "    }\n",
       "  }\n",
       "\n",
       "  /**\n",
       "   * Handle when a new output is added\n",
       "   */\n",
       "  function handleAddOutput(event, handle) {\n",
       "    var output_area = handle.output_area;\n",
       "    var output = handle.output;\n",
       "\n",
       "    // limit handleAddOutput to display_data with EXEC_MIME_TYPE content only\n",
       "    if ((output.output_type != \"display_data\") || (!output.data.hasOwnProperty(EXEC_MIME_TYPE))) {\n",
       "      return\n",
       "    }\n",
       "\n",
       "    var toinsert = output_area.element.find(\".\" + CLASS_NAME.split(' ')[0]);\n",
       "\n",
       "    if (output.metadata[EXEC_MIME_TYPE][\"id\"] !== undefined) {\n",
       "      toinsert[toinsert.length - 1].firstChild.textContent = output.data[JS_MIME_TYPE];\n",
       "      // store reference to embed id on output_area\n",
       "      output_area._bokeh_element_id = output.metadata[EXEC_MIME_TYPE][\"id\"];\n",
       "    }\n",
       "    if (output.metadata[EXEC_MIME_TYPE][\"server_id\"] !== undefined) {\n",
       "      var bk_div = document.createElement(\"div\");\n",
       "      bk_div.innerHTML = output.data[HTML_MIME_TYPE];\n",
       "      var script_attrs = bk_div.children[0].attributes;\n",
       "      for (var i = 0; i < script_attrs.length; i++) {\n",
       "        toinsert[toinsert.length - 1].firstChild.setAttribute(script_attrs[i].name, script_attrs[i].value);\n",
       "      }\n",
       "      // store reference to server id on output_area\n",
       "      output_area._bokeh_server_id = output.metadata[EXEC_MIME_TYPE][\"server_id\"];\n",
       "    }\n",
       "  }\n",
       "\n",
       "  function register_renderer(events, OutputArea) {\n",
       "\n",
       "    function append_mime(data, metadata, element) {\n",
       "      // create a DOM node to render to\n",
       "      var toinsert = this.create_output_subarea(\n",
       "        metadata,\n",
       "        CLASS_NAME,\n",
       "        EXEC_MIME_TYPE\n",
       "      );\n",
       "      this.keyboard_manager.register_events(toinsert);\n",
       "      // Render to node\n",
       "      var props = {data: data, metadata: metadata[EXEC_MIME_TYPE]};\n",
       "      render(props, toinsert[toinsert.length - 1]);\n",
       "      element.append(toinsert);\n",
       "      return toinsert\n",
       "    }\n",
       "\n",
       "    /* Handle when an output is cleared or removed */\n",
       "    events.on('clear_output.CodeCell', handleClearOutput);\n",
       "    events.on('delete.Cell', handleClearOutput);\n",
       "\n",
       "    /* Handle when a new output is added */\n",
       "    events.on('output_added.OutputArea', handleAddOutput);\n",
       "\n",
       "    /**\n",
       "     * Register the mime type and append_mime function with output_area\n",
       "     */\n",
       "    OutputArea.prototype.register_mime_type(EXEC_MIME_TYPE, append_mime, {\n",
       "      /* Is output safe? */\n",
       "      safe: true,\n",
       "      /* Index of renderer in `output_area.display_order` */\n",
       "      index: 0\n",
       "    });\n",
       "  }\n",
       "\n",
       "  // register the mime type if in Jupyter Notebook environment and previously unregistered\n",
       "  if (root.Jupyter !== undefined) {\n",
       "    var events = require('base/js/events');\n",
       "    var OutputArea = require('notebook/js/outputarea').OutputArea;\n",
       "\n",
       "    if (OutputArea.prototype.mime_types().indexOf(EXEC_MIME_TYPE) == -1) {\n",
       "      register_renderer(events, OutputArea);\n",
       "    }\n",
       "  }\n",
       "\n",
       "  \n",
       "  if (typeof (root._bokeh_timeout) === \"undefined\" || force === true) {\n",
       "    root._bokeh_timeout = Date.now() + 5000;\n",
       "    root._bokeh_failed_load = false;\n",
       "  }\n",
       "\n",
       "  var NB_LOAD_WARNING = {'data': {'text/html':\n",
       "     \"<div style='background-color: #fdd'>\\n\"+\n",
       "     \"<p>\\n\"+\n",
       "     \"BokehJS does not appear to have successfully loaded. If loading BokehJS from CDN, this \\n\"+\n",
       "     \"may be due to a slow or bad network connection. Possible fixes:\\n\"+\n",
       "     \"</p>\\n\"+\n",
       "     \"<ul>\\n\"+\n",
       "     \"<li>re-rerun `output_notebook()` to attempt to load from CDN again, or</li>\\n\"+\n",
       "     \"<li>use INLINE resources instead, as so:</li>\\n\"+\n",
       "     \"</ul>\\n\"+\n",
       "     \"<code>\\n\"+\n",
       "     \"from bokeh.resources import INLINE\\n\"+\n",
       "     \"output_notebook(resources=INLINE)\\n\"+\n",
       "     \"</code>\\n\"+\n",
       "     \"</div>\"}};\n",
       "\n",
       "  function display_loaded() {\n",
       "    var el = document.getElementById(\"1104\");\n",
       "    if (el != null) {\n",
       "      el.textContent = \"BokehJS is loading...\";\n",
       "    }\n",
       "    if (root.Bokeh !== undefined) {\n",
       "      if (el != null) {\n",
       "        el.textContent = \"BokehJS \" + root.Bokeh.version + \" successfully loaded.\";\n",
       "      }\n",
       "    } else if (Date.now() < root._bokeh_timeout) {\n",
       "      setTimeout(display_loaded, 100)\n",
       "    }\n",
       "  }\n",
       "\n",
       "\n",
       "  function run_callbacks() {\n",
       "    try {\n",
       "      root._bokeh_onload_callbacks.forEach(function(callback) { callback() });\n",
       "    }\n",
       "    finally {\n",
       "      delete root._bokeh_onload_callbacks\n",
       "    }\n",
       "    console.info(\"Bokeh: all callbacks have finished\");\n",
       "  }\n",
       "\n",
       "  function load_libs(js_urls, callback) {\n",
       "    root._bokeh_onload_callbacks.push(callback);\n",
       "    if (root._bokeh_is_loading > 0) {\n",
       "      console.log(\"Bokeh: BokehJS is being loaded, scheduling callback at\", now());\n",
       "      return null;\n",
       "    }\n",
       "    if (js_urls == null || js_urls.length === 0) {\n",
       "      run_callbacks();\n",
       "      return null;\n",
       "    }\n",
       "    console.log(\"Bokeh: BokehJS not loaded, scheduling load and callback at\", now());\n",
       "    root._bokeh_is_loading = js_urls.length;\n",
       "    for (var i = 0; i < js_urls.length; i++) {\n",
       "      var url = js_urls[i];\n",
       "      var s = document.createElement('script');\n",
       "      s.src = url;\n",
       "      s.async = false;\n",
       "      s.onreadystatechange = s.onload = function() {\n",
       "        root._bokeh_is_loading--;\n",
       "        if (root._bokeh_is_loading === 0) {\n",
       "          console.log(\"Bokeh: all BokehJS libraries loaded\");\n",
       "          run_callbacks()\n",
       "        }\n",
       "      };\n",
       "      s.onerror = function() {\n",
       "        console.warn(\"failed to load library \" + url);\n",
       "      };\n",
       "      console.log(\"Bokeh: injecting script tag for BokehJS library: \", url);\n",
       "      document.getElementsByTagName(\"head\")[0].appendChild(s);\n",
       "    }\n",
       "  };var element = document.getElementById(\"1104\");\n",
       "  if (element == null) {\n",
       "    console.log(\"Bokeh: ERROR: autoload.js configured with elementid '1104' but no matching script tag was found. \")\n",
       "    return false;\n",
       "  }\n",
       "\n",
       "  var js_urls = [\"https://cdn.pydata.org/bokeh/release/bokeh-1.0.1.min.js\", \"https://cdn.pydata.org/bokeh/release/bokeh-widgets-1.0.1.min.js\", \"https://cdn.pydata.org/bokeh/release/bokeh-tables-1.0.1.min.js\", \"https://cdn.pydata.org/bokeh/release/bokeh-gl-1.0.1.min.js\"];\n",
       "\n",
       "  var inline_js = [\n",
       "    function(Bokeh) {\n",
       "      Bokeh.set_log_level(\"info\");\n",
       "    },\n",
       "    \n",
       "    function(Bokeh) {\n",
       "      \n",
       "    },\n",
       "    function(Bokeh) {\n",
       "      console.log(\"Bokeh: injecting CSS: https://cdn.pydata.org/bokeh/release/bokeh-1.0.1.min.css\");\n",
       "      Bokeh.embed.inject_css(\"https://cdn.pydata.org/bokeh/release/bokeh-1.0.1.min.css\");\n",
       "      console.log(\"Bokeh: injecting CSS: https://cdn.pydata.org/bokeh/release/bokeh-widgets-1.0.1.min.css\");\n",
       "      Bokeh.embed.inject_css(\"https://cdn.pydata.org/bokeh/release/bokeh-widgets-1.0.1.min.css\");\n",
       "      console.log(\"Bokeh: injecting CSS: https://cdn.pydata.org/bokeh/release/bokeh-tables-1.0.1.min.css\");\n",
       "      Bokeh.embed.inject_css(\"https://cdn.pydata.org/bokeh/release/bokeh-tables-1.0.1.min.css\");\n",
       "    }\n",
       "  ];\n",
       "\n",
       "  function run_inline_js() {\n",
       "    \n",
       "    if ((root.Bokeh !== undefined) || (force === true)) {\n",
       "      for (var i = 0; i < inline_js.length; i++) {\n",
       "        inline_js[i].call(root, root.Bokeh);\n",
       "      }if (force === true) {\n",
       "        display_loaded();\n",
       "      }} else if (Date.now() < root._bokeh_timeout) {\n",
       "      setTimeout(run_inline_js, 100);\n",
       "    } else if (!root._bokeh_failed_load) {\n",
       "      console.log(\"Bokeh: BokehJS failed to load within specified timeout.\");\n",
       "      root._bokeh_failed_load = true;\n",
       "    } else if (force !== true) {\n",
       "      var cell = $(document.getElementById(\"1104\")).parents('.cell').data().cell;\n",
       "      cell.output_area.append_execute_result(NB_LOAD_WARNING)\n",
       "    }\n",
       "\n",
       "  }\n",
       "\n",
       "  if (root._bokeh_is_loading === 0) {\n",
       "    console.log(\"Bokeh: BokehJS loaded, going straight to plotting\");\n",
       "    run_inline_js();\n",
       "  } else {\n",
       "    load_libs(js_urls, function() {\n",
       "      console.log(\"Bokeh: BokehJS plotting callback run at\", now());\n",
       "      run_inline_js();\n",
       "    });\n",
       "  }\n",
       "}(window));"
      ],
      "application/vnd.bokehjs_load.v0+json": "\n(function(root) {\n  function now() {\n    return new Date();\n  }\n\n  var force = true;\n\n  if (typeof (root._bokeh_onload_callbacks) === \"undefined\" || force === true) {\n    root._bokeh_onload_callbacks = [];\n    root._bokeh_is_loading = undefined;\n  }\n\n  \n\n  \n  if (typeof (root._bokeh_timeout) === \"undefined\" || force === true) {\n    root._bokeh_timeout = Date.now() + 5000;\n    root._bokeh_failed_load = false;\n  }\n\n  var NB_LOAD_WARNING = {'data': {'text/html':\n     \"<div style='background-color: #fdd'>\\n\"+\n     \"<p>\\n\"+\n     \"BokehJS does not appear to have successfully loaded. If loading BokehJS from CDN, this \\n\"+\n     \"may be due to a slow or bad network connection. Possible fixes:\\n\"+\n     \"</p>\\n\"+\n     \"<ul>\\n\"+\n     \"<li>re-rerun `output_notebook()` to attempt to load from CDN again, or</li>\\n\"+\n     \"<li>use INLINE resources instead, as so:</li>\\n\"+\n     \"</ul>\\n\"+\n     \"<code>\\n\"+\n     \"from bokeh.resources import INLINE\\n\"+\n     \"output_notebook(resources=INLINE)\\n\"+\n     \"</code>\\n\"+\n     \"</div>\"}};\n\n  function display_loaded() {\n    var el = document.getElementById(\"1104\");\n    if (el != null) {\n      el.textContent = \"BokehJS is loading...\";\n    }\n    if (root.Bokeh !== undefined) {\n      if (el != null) {\n        el.textContent = \"BokehJS \" + root.Bokeh.version + \" successfully loaded.\";\n      }\n    } else if (Date.now() < root._bokeh_timeout) {\n      setTimeout(display_loaded, 100)\n    }\n  }\n\n\n  function run_callbacks() {\n    try {\n      root._bokeh_onload_callbacks.forEach(function(callback) { callback() });\n    }\n    finally {\n      delete root._bokeh_onload_callbacks\n    }\n    console.info(\"Bokeh: all callbacks have finished\");\n  }\n\n  function load_libs(js_urls, callback) {\n    root._bokeh_onload_callbacks.push(callback);\n    if (root._bokeh_is_loading > 0) {\n      console.log(\"Bokeh: BokehJS is being loaded, scheduling callback at\", now());\n      return null;\n    }\n    if (js_urls == null || js_urls.length === 0) {\n      run_callbacks();\n      return null;\n    }\n    console.log(\"Bokeh: BokehJS not loaded, scheduling load and callback at\", now());\n    root._bokeh_is_loading = js_urls.length;\n    for (var i = 0; i < js_urls.length; i++) {\n      var url = js_urls[i];\n      var s = document.createElement('script');\n      s.src = url;\n      s.async = false;\n      s.onreadystatechange = s.onload = function() {\n        root._bokeh_is_loading--;\n        if (root._bokeh_is_loading === 0) {\n          console.log(\"Bokeh: all BokehJS libraries loaded\");\n          run_callbacks()\n        }\n      };\n      s.onerror = function() {\n        console.warn(\"failed to load library \" + url);\n      };\n      console.log(\"Bokeh: injecting script tag for BokehJS library: \", url);\n      document.getElementsByTagName(\"head\")[0].appendChild(s);\n    }\n  };var element = document.getElementById(\"1104\");\n  if (element == null) {\n    console.log(\"Bokeh: ERROR: autoload.js configured with elementid '1104' but no matching script tag was found. \")\n    return false;\n  }\n\n  var js_urls = [\"https://cdn.pydata.org/bokeh/release/bokeh-1.0.1.min.js\", \"https://cdn.pydata.org/bokeh/release/bokeh-widgets-1.0.1.min.js\", \"https://cdn.pydata.org/bokeh/release/bokeh-tables-1.0.1.min.js\", \"https://cdn.pydata.org/bokeh/release/bokeh-gl-1.0.1.min.js\"];\n\n  var inline_js = [\n    function(Bokeh) {\n      Bokeh.set_log_level(\"info\");\n    },\n    \n    function(Bokeh) {\n      \n    },\n    function(Bokeh) {\n      console.log(\"Bokeh: injecting CSS: https://cdn.pydata.org/bokeh/release/bokeh-1.0.1.min.css\");\n      Bokeh.embed.inject_css(\"https://cdn.pydata.org/bokeh/release/bokeh-1.0.1.min.css\");\n      console.log(\"Bokeh: injecting CSS: https://cdn.pydata.org/bokeh/release/bokeh-widgets-1.0.1.min.css\");\n      Bokeh.embed.inject_css(\"https://cdn.pydata.org/bokeh/release/bokeh-widgets-1.0.1.min.css\");\n      console.log(\"Bokeh: injecting CSS: https://cdn.pydata.org/bokeh/release/bokeh-tables-1.0.1.min.css\");\n      Bokeh.embed.inject_css(\"https://cdn.pydata.org/bokeh/release/bokeh-tables-1.0.1.min.css\");\n    }\n  ];\n\n  function run_inline_js() {\n    \n    if ((root.Bokeh !== undefined) || (force === true)) {\n      for (var i = 0; i < inline_js.length; i++) {\n        inline_js[i].call(root, root.Bokeh);\n      }if (force === true) {\n        display_loaded();\n      }} else if (Date.now() < root._bokeh_timeout) {\n      setTimeout(run_inline_js, 100);\n    } else if (!root._bokeh_failed_load) {\n      console.log(\"Bokeh: BokehJS failed to load within specified timeout.\");\n      root._bokeh_failed_load = true;\n    } else if (force !== true) {\n      var cell = $(document.getElementById(\"1104\")).parents('.cell').data().cell;\n      cell.output_area.append_execute_result(NB_LOAD_WARNING)\n    }\n\n  }\n\n  if (root._bokeh_is_loading === 0) {\n    console.log(\"Bokeh: BokehJS loaded, going straight to plotting\");\n    run_inline_js();\n  } else {\n    load_libs(js_urls, function() {\n      console.log(\"Bokeh: BokehJS plotting callback run at\", now());\n      run_inline_js();\n    });\n  }\n}(window));"
     },
     "metadata": {},
     "output_type": "display_data"
    },
    {
     "data": {
      "text/html": [
       "\n",
       "\n",
       "\n",
       "\n",
       "\n",
       "\n",
       "  <div class=\"bk-root\" id=\"337fcdad-ccc1-4ea4-8041-6c7aa198800c\"></div>\n"
      ]
     },
     "metadata": {},
     "output_type": "display_data"
    },
    {
     "data": {
      "application/javascript": [
       "(function(root) {\n",
       "  function embed_document(root) {\n",
       "    \n",
       "  var docs_json = {\"93757174-b8f2-4a15-ba91-1fc0fd3c61a6\":{\"roots\":{\"references\":[{\"attributes\":{\"below\":[{\"id\":\"1114\",\"type\":\"LinearAxis\"}],\"left\":[{\"id\":\"1119\",\"type\":\"LinearAxis\"}],\"renderers\":[{\"id\":\"1114\",\"type\":\"LinearAxis\"},{\"id\":\"1118\",\"type\":\"Grid\"},{\"id\":\"1119\",\"type\":\"LinearAxis\"},{\"id\":\"1123\",\"type\":\"Grid\"},{\"id\":\"1132\",\"type\":\"BoxAnnotation\"},{\"id\":\"1142\",\"type\":\"GlyphRenderer\"}],\"title\":{\"id\":\"1154\",\"type\":\"Title\"},\"toolbar\":{\"id\":\"1130\",\"type\":\"Toolbar\"},\"x_range\":{\"id\":\"1106\",\"type\":\"DataRange1d\"},\"x_scale\":{\"id\":\"1110\",\"type\":\"LinearScale\"},\"y_range\":{\"id\":\"1108\",\"type\":\"DataRange1d\"},\"y_scale\":{\"id\":\"1112\",\"type\":\"LinearScale\"}},\"id\":\"1105\",\"subtype\":\"Figure\",\"type\":\"Plot\"},{\"attributes\":{},\"id\":\"1124\",\"type\":\"PanTool\"},{\"attributes\":{\"plot\":null,\"text\":\"\"},\"id\":\"1154\",\"type\":\"Title\"},{\"attributes\":{\"plot\":{\"id\":\"1105\",\"subtype\":\"Figure\",\"type\":\"Plot\"},\"ticker\":{\"id\":\"1115\",\"type\":\"BasicTicker\"}},\"id\":\"1118\",\"type\":\"Grid\"},{\"attributes\":{},\"id\":\"1125\",\"type\":\"WheelZoomTool\"},{\"attributes\":{\"formatter\":{\"id\":\"1158\",\"type\":\"BasicTickFormatter\"},\"plot\":{\"id\":\"1105\",\"subtype\":\"Figure\",\"type\":\"Plot\"},\"ticker\":{\"id\":\"1115\",\"type\":\"BasicTicker\"}},\"id\":\"1114\",\"type\":\"LinearAxis\"},{\"attributes\":{},\"id\":\"1112\",\"type\":\"LinearScale\"},{\"attributes\":{\"formatter\":{\"id\":\"1156\",\"type\":\"BasicTickFormatter\"},\"plot\":{\"id\":\"1105\",\"subtype\":\"Figure\",\"type\":\"Plot\"},\"ticker\":{\"id\":\"1120\",\"type\":\"BasicTicker\"}},\"id\":\"1119\",\"type\":\"LinearAxis\"},{\"attributes\":{},\"id\":\"1115\",\"type\":\"BasicTicker\"},{\"attributes\":{},\"id\":\"1129\",\"type\":\"HelpTool\"},{\"attributes\":{\"data_source\":{\"id\":\"1139\",\"type\":\"ColumnDataSource\"},\"glyph\":{\"id\":\"1140\",\"type\":\"Line\"},\"hover_glyph\":null,\"muted_glyph\":null,\"nonselection_glyph\":{\"id\":\"1141\",\"type\":\"Line\"},\"selection_glyph\":null,\"view\":{\"id\":\"1143\",\"type\":\"CDSView\"}},\"id\":\"1142\",\"type\":\"GlyphRenderer\"},{\"attributes\":{},\"id\":\"1158\",\"type\":\"BasicTickFormatter\"},{\"attributes\":{},\"id\":\"1160\",\"type\":\"Selection\"},{\"attributes\":{\"callback\":null},\"id\":\"1106\",\"type\":\"DataRange1d\"},{\"attributes\":{},\"id\":\"1128\",\"type\":\"ResetTool\"},{\"attributes\":{\"callback\":null},\"id\":\"1108\",\"type\":\"DataRange1d\"},{\"attributes\":{},\"id\":\"1156\",\"type\":\"BasicTickFormatter\"},{\"attributes\":{},\"id\":\"1120\",\"type\":\"BasicTicker\"},{\"attributes\":{\"active_drag\":\"auto\",\"active_inspect\":\"auto\",\"active_multi\":null,\"active_scroll\":\"auto\",\"active_tap\":\"auto\",\"tools\":[{\"id\":\"1124\",\"type\":\"PanTool\"},{\"id\":\"1125\",\"type\":\"WheelZoomTool\"},{\"id\":\"1126\",\"type\":\"BoxZoomTool\"},{\"id\":\"1127\",\"type\":\"SaveTool\"},{\"id\":\"1128\",\"type\":\"ResetTool\"},{\"id\":\"1129\",\"type\":\"HelpTool\"}]},\"id\":\"1130\",\"type\":\"Toolbar\"},{\"attributes\":{},\"id\":\"1110\",\"type\":\"LinearScale\"},{\"attributes\":{\"line_color\":\"red\",\"x\":{\"field\":\"x\"},\"y\":{\"field\":\"y\"}},\"id\":\"1140\",\"type\":\"Line\"},{\"attributes\":{\"line_alpha\":0.1,\"line_color\":\"#1f77b4\",\"x\":{\"field\":\"x\"},\"y\":{\"field\":\"y\"}},\"id\":\"1141\",\"type\":\"Line\"},{\"attributes\":{\"overlay\":{\"id\":\"1132\",\"type\":\"BoxAnnotation\"}},\"id\":\"1126\",\"type\":\"BoxZoomTool\"},{\"attributes\":{\"dimension\":1,\"plot\":{\"id\":\"1105\",\"subtype\":\"Figure\",\"type\":\"Plot\"},\"ticker\":{\"id\":\"1120\",\"type\":\"BasicTicker\"}},\"id\":\"1123\",\"type\":\"Grid\"},{\"attributes\":{},\"id\":\"1161\",\"type\":\"UnionRenderers\"},{\"attributes\":{\"bottom_units\":\"screen\",\"fill_alpha\":{\"value\":0.5},\"fill_color\":{\"value\":\"lightgrey\"},\"left_units\":\"screen\",\"level\":\"overlay\",\"line_alpha\":{\"value\":1.0},\"line_color\":{\"value\":\"black\"},\"line_dash\":[4,4],\"line_width\":{\"value\":2},\"plot\":null,\"render_mode\":\"css\",\"right_units\":\"screen\",\"top_units\":\"screen\"},\"id\":\"1132\",\"type\":\"BoxAnnotation\"},{\"attributes\":{},\"id\":\"1127\",\"type\":\"SaveTool\"},{\"attributes\":{\"source\":{\"id\":\"1139\",\"type\":\"ColumnDataSource\"}},\"id\":\"1143\",\"type\":\"CDSView\"},{\"attributes\":{\"callback\":null,\"data\":{\"x\":[0,1,2,3,4,5,6,7,8,9,10,11,12,13,14,15,16,17,18,19,20,21,22,23,24,25,26,27,28,29,30,31,32,33,34,35,36,37,38,39,40,41,42,43,44,45,46,47,48,49,50,51,52,53,54,55,56,57,58,59,60,61,62,63,64,65,66,67,68,69,70,71,72,73,74,75,76,77,78,79,80,81,82,83,84,85,86,87,88,89,90,91,92,93,94,95,96,97,98,99,100,101,102,103,104,105,106,107,108,109,110,111,112,113,114,115,116,117,118,119,120,121,122,123,124,125,126,127,128,129,130,131,132,133,134,135,136,137,138,139,140,141,142,143,144,145,146,147,148,149,150,151,152,153,154,155,156,157,158,159,160,161,162,163,164,165,166,167,168,169,170,171,172,173,174,175,176,177,178,179,180,181,182,183,184,185,186,187,188,189,190,191,192,193,194,195,196,197,198,199,200,201,202,203,204,205,206,207,208,209,210,211,212,213,214,215,216,217,218,219,220,221,222,223,224,225,226,227,228,229,230,231,232,233,234,235,236,237,238,239,240,241,242,243,244,245,246,247,248,249,250,251,252,253,254,255,256,257,258,259,260,261,262,263,264,265,266,267,268,269,270,271,272,273,274,275,276,277,278,279,280,281,282,283,284,285,286,287,288,289,290,291,292,293,294,295,296,297,298,299,300,301,302,303,304,305,306,307,308,309,310,311,312,313,314,315,316,317,318,319,320,321,322,323,324,325,326,327,328,329,330,331,332,333,334,335,336,337,338,339,340,341,342,343,344,345,346,347,348,349,350,351,352,353,354,355,356,357,358,359,360,361,362,363,364,365,366,367,368,369,370,371,372,373,374,375,376,377,378,379,380,381,382,383,384,385,386,387,388,389,390,391,392,393,394,395,396,397,398,399,400,401,402,403,404,405,406,407,408,409,410,411,412,413,414,415,416,417,418,419,420,421,422,423,424,425,426,427,428,429,430,431,432,433,434,435,436,437,438,439,440,441,442,443,444,445,446,447,448,449,450,451,452,453,454,455,456,457,458,459,460,461,462,463,464,465,466,467,468,469,470,471,472,473,474,475,476,477,478,479,480,481,482,483,484,485,486,487,488,489,490,491,492,493,494,495,496,497,498,499,500,501,502,503,504,505,506,507,508,509,510,511,512,513,514,515,516,517,518,519,520,521,522,523,524,525,526,527,528,529,530,531,532,533,534,535,536,537,538,539,540,541,542,543,544,545,546,547,548,549,550,551,552,553,554,555,556,557,558,559,560,561,562,563,564,565,566,567,568,569,570,571,572,573,574,575,576,577,578,579,580,581,582,583,584,585,586,587,588,589,590,591,592,593,594,595,596,597,598,599,600,601,602,603,604,605,606,607,608,609,610,611,612,613,614,615,616,617,618,619,620,621,622,623,624,625,626,627,628,629,630,631,632,633,634,635,636,637,638,639,640,641,642,643,644,645,646,647,648,649,650,651,652,653,654,655,656,657,658,659,660,661,662,663,664,665,666,667,668,669,670,671,672,673,674,675,676,677,678,679,680,681,682,683,684,685,686,687,688,689,690,691,692,693,694,695,696,697,698,699,700,701,702,703,704,705,706,707,708,709,710,711,712,713,714,715,716,717,718,719,720,721,722,723,724,725,726,727,728,729,730,731,732,733,734,735,736,737,738,739,740,741,742,743,744,745,746,747,748,749,750,751,752,753,754,755,756,757,758,759,760,761,762,763,764,765,766,767,768,769,770,771,772,773,774,775,776,777,778,779,780,781,782,783,784,785,786,787,788,789,790,791,792,793,794,795,796,797,798,799,800,801,802,803,804,805,806,807,808,809,810,811,812,813,814,815,816,817,818,819,820,821,822,823,824,825,826,827,828,829,830,831,832,833,834,835,836,837,838,839,840,841,842,843,844,845,846,847,848,849,850,851,852,853,854,855,856,857,858,859,860,861,862,863,864,865,866,867,868,869,870,871,872,873,874,875,876,877,878,879,880,881,882,883,884,885,886,887,888,889,890,891,892,893,894,895,896,897,898,899,900,901,902,903,904,905,906,907,908,909,910,911,912,913,914,915,916,917,918,919,920,921,922,923,924,925,926,927,928,929,930,931,932,933,934,935,936,937,938,939,940,941,942,943,944,945,946,947,948,949,950,951,952,953,954,955,956,957,958,959,960,961,962,963,964,965,966,967,968,969,970,971,972,973,974,975,976,977,978,979,980,981,982,983,984,985,986,987,988,989,990,991,992,993,994,995,996,997,998,999,1000,1001,1002,1003,1004,1005,1006,1007,1008,1009,1010,1011,1012,1013,1014,1015,1016,1017,1018,1019,1020,1021,1022,1023,1024,1025,1026,1027,1028,1029,1030,1031,1032,1033,1034,1035,1036,1037,1038,1039,1040,1041,1042,1043,1044,1045,1046,1047,1048,1049,1050,1051,1052,1053,1054,1055,1056,1057,1058,1059,1060,1061,1062,1063,1064,1065,1066,1067,1068,1069,1070,1071,1072,1073,1074,1075,1076,1077,1078,1079,1080,1081,1082,1083,1084,1085,1086,1087,1088,1089,1090,1091,1092,1093,1094,1095,1096,1097,1098,1099,1100,1101,1102,1103,1104,1105,1106,1107,1108,1109,1110,1111,1112,1113,1114,1115,1116,1117,1118,1119,1120,1121,1122,1123,1124,1125,1126,1127,1128,1129,1130,1131,1132,1133,1134,1135,1136,1137,1138,1139,1140,1141,1142,1143,1144,1145,1146,1147,1148,1149,1150,1151,1152,1153,1154,1155,1156,1157,1158,1159,1160,1161,1162,1163,1164,1165,1166,1167,1168,1169,1170,1171,1172,1173,1174,1175,1176,1177,1178,1179,1180,1181,1182,1183,1184,1185,1186,1187,1188,1189,1190,1191,1192,1193,1194,1195,1196,1197,1198,1199,1200,1201,1202,1203,1204,1205,1206,1207,1208,1209,1210,1211,1212,1213,1214,1215,1216,1217,1218,1219,1220,1221,1222,1223,1224,1225,1226,1227,1228,1229,1230,1231,1232,1233,1234,1235,1236,1237,1238,1239,1240,1241,1242,1243,1244,1245,1246,1247,1248,1249,1250,1251,1252,1253,1254,1255,1256,1257,1258,1259,1260,1261,1262,1263,1264,1265,1266,1267,1268,1269,1270,1271,1272,1273,1274,1275,1276,1277,1278,1279,1280,1281,1282,1283,1284,1285,1286,1287,1288,1289,1290,1291,1292,1293,1294,1295,1296,1297,1298,1299,1300,1301,1302,1303,1304,1305,1306,1307,1308,1309,1310,1311,1312,1313,1314,1315,1316,1317,1318,1319,1320,1321,1322,1323,1324,1325,1326,1327,1328,1329,1330,1331,1332,1333,1334,1335,1336,1337,1338,1339,1340,1341,1342,1343,1344,1345,1346,1347,1348,1349,1350,1351,1352,1353,1354,1355,1356,1357,1358,1359,1360,1361,1362,1363,1364,1365,1366,1367,1368,1369,1370,1371,1372,1373,1374,1375,1376,1377,1378,1379,1380,1381,1382,1383,1384,1385,1386,1387,1388,1389,1390,1391,1392,1393,1394,1395,1396,1397,1398,1399,1400,1401,1402,1403,1404,1405,1406,1407,1408,1409,1410,1411,1412,1413,1414,1415,1416,1417,1418,1419,1420,1421,1422,1423,1424,1425,1426,1427,1428,1429,1430,1431,1432,1433,1434,1435,1436,1437,1438,1439,1440,1441,1442,1443,1444,1445,1446,1447,1448,1449,1450,1451,1452,1453,1454,1455,1456,1457,1458,1459,1460,1461,1462,1463,1464,1465,1466,1467,1468,1469,1470,1471,1472,1473,1474,1475,1476,1477,1478,1479,1480,1481,1482,1483,1484,1485,1486,1487,1488,1489,1490,1491,1492,1493,1494,1495,1496,1497,1498,1499,1500,1501,1502,1503,1504,1505,1506,1507,1508,1509,1510,1511,1512,1513,1514,1515,1516,1517,1518,1519,1520,1521,1522,1523,1524,1525,1526,1527,1528,1529,1530,1531,1532,1533,1534,1535,1536,1537,1538,1539,1540,1541,1542,1543,1544,1545,1546,1547,1548,1549,1550,1551,1552,1553,1554,1555,1556,1557,1558,1559,1560,1561,1562,1563,1564,1565,1566,1567,1568,1569,1570,1571,1572,1573,1574,1575,1576,1577,1578,1579,1580,1581,1582,1583,1584,1585,1586,1587,1588,1589,1590,1591,1592,1593,1594,1595,1596,1597,1598,1599,1600,1601,1602,1603,1604,1605,1606,1607,1608,1609,1610,1611,1612,1613,1614,1615,1616,1617,1618,1619,1620,1621,1622,1623,1624,1625,1626,1627,1628,1629,1630,1631,1632,1633,1634,1635,1636,1637,1638,1639,1640,1641,1642,1643,1644,1645,1646,1647,1648,1649,1650,1651,1652,1653,1654,1655,1656,1657,1658,1659,1660,1661,1662,1663,1664,1665,1666,1667,1668,1669,1670,1671,1672,1673,1674,1675,1676,1677,1678,1679,1680,1681,1682,1683,1684,1685,1686,1687,1688,1689,1690,1691,1692,1693,1694,1695,1696,1697,1698,1699,1700,1701,1702,1703,1704,1705,1706,1707,1708,1709,1710,1711,1712,1713,1714,1715,1716,1717,1718,1719,1720,1721,1722,1723,1724,1725,1726,1727,1728,1729,1730,1731,1732,1733,1734,1735,1736,1737,1738,1739,1740,1741,1742,1743,1744,1745,1746,1747,1748,1749,1750,1751,1752,1753,1754,1755,1756,1757,1758,1759,1760,1761,1762,1763,1764,1765,1766,1767,1768,1769,1770,1771,1772,1773,1774,1775,1776,1777,1778,1779,1780,1781,1782,1783,1784,1785,1786,1787,1788,1789,1790,1791,1792,1793,1794,1795,1796,1797,1798,1799,1800,1801,1802,1803,1804,1805,1806,1807,1808,1809,1810,1811,1812,1813,1814,1815,1816,1817,1818,1819,1820,1821,1822,1823,1824,1825,1826,1827,1828,1829,1830,1831,1832,1833,1834,1835,1836,1837,1838,1839,1840,1841,1842,1843,1844,1845,1846,1847,1848,1849,1850,1851,1852,1853,1854,1855,1856,1857,1858,1859,1860,1861,1862,1863,1864,1865,1866,1867,1868,1869,1870,1871,1872,1873,1874,1875,1876,1877,1878,1879,1880,1881,1882,1883,1884,1885,1886,1887,1888,1889,1890,1891,1892,1893,1894,1895,1896,1897,1898,1899,1900,1901,1902,1903,1904,1905,1906,1907,1908,1909,1910,1911,1912,1913,1914,1915,1916,1917,1918,1919,1920,1921,1922,1923,1924,1925,1926,1927,1928,1929,1930,1931,1932,1933,1934,1935,1936,1937,1938,1939,1940,1941,1942,1943,1944,1945,1946,1947,1948,1949,1950,1951,1952,1953,1954,1955,1956,1957,1958,1959,1960,1961,1962,1963,1964,1965,1966,1967,1968,1969,1970,1971,1972,1973,1974,1975,1976,1977,1978,1979,1980,1981,1982,1983,1984,1985,1986,1987,1988,1989,1990,1991,1992,1993,1994,1995,1996,1997,1998,1999,2000,2001,2002,2003,2004,2005,2006,2007,2008,2009,2010,2011,2012,2013,2014,2015,2016,2017,2018,2019,2020,2021,2022,2023,2024,2025,2026,2027,2028,2029,2030,2031,2032,2033,2034,2035,2036,2037,2038,2039,2040,2041,2042,2043,2044,2045,2046,2047,2048,2049,2050,2051,2052,2053,2054,2055,2056,2057,2058,2059,2060,2061,2062,2063,2064,2065,2066,2067,2068,2069,2070,2071,2072,2073,2074,2075,2076,2077,2078,2079,2080,2081,2082,2083,2084,2085,2086,2087,2088,2089,2090,2091,2092,2093,2094,2095,2096,2097,2098,2099,2100,2101,2102,2103,2104,2105,2106,2107,2108,2109,2110,2111,2112,2113,2114,2115,2116,2117,2118,2119,2120,2121,2122,2123,2124,2125,2126,2127,2128,2129,2130,2131,2132,2133,2134,2135,2136,2137,2138,2139,2140,2141,2142,2143,2144,2145,2146,2147,2148,2149,2150,2151,2152,2153,2154,2155,2156,2157,2158,2159,2160,2161,2162,2163,2164,2165,2166,2167,2168,2169,2170,2171,2172,2173,2174,2175,2176,2177,2178,2179,2180,2181,2182,2183,2184,2185,2186,2187,2188,2189,2190,2191,2192,2193,2194,2195,2196,2197,2198,2199,2200,2201,2202,2203,2204,2205,2206,2207,2208,2209,2210,2211,2212,2213,2214,2215,2216,2217,2218,2219,2220,2221,2222,2223,2224,2225,2226,2227,2228,2229,2230,2231,2232,2233,2234,2235,2236,2237,2238,2239,2240,2241,2242,2243,2244,2245,2246,2247,2248,2249,2250,2251,2252,2253,2254,2255,2256,2257,2258,2259,2260,2261,2262,2263,2264,2265,2266,2267,2268,2269,2270,2271,2272,2273,2274,2275,2276,2277,2278,2279,2280,2281,2282,2283,2284,2285,2286,2287,2288,2289,2290,2291,2292,2293,2294,2295,2296,2297,2298,2299,2300,2301,2302,2303,2304,2305,2306,2307,2308,2309,2310,2311,2312,2313,2314,2315,2316,2317,2318,2319,2320,2321,2322,2323,2324,2325,2326,2327,2328,2329,2330,2331,2332,2333,2334,2335,2336,2337,2338,2339,2340,2341,2342,2343,2344,2345,2346,2347,2348,2349,2350,2351,2352,2353,2354,2355,2356,2357,2358,2359,2360,2361,2362,2363,2364,2365,2366,2367,2368,2369,2370,2371,2372,2373,2374,2375,2376,2377,2378,2379,2380,2381,2382,2383,2384,2385,2386,2387,2388,2389,2390,2391,2392,2393,2394,2395,2396,2397,2398,2399,2400,2401,2402,2403,2404,2405,2406,2407,2408,2409,2410,2411,2412,2413,2414,2415,2416,2417,2418,2419,2420,2421,2422,2423,2424,2425,2426,2427,2428,2429,2430,2431,2432,2433,2434,2435,2436,2437,2438,2439,2440,2441,2442,2443,2444,2445,2446,2447,2448,2449,2450,2451,2452,2453,2454,2455,2456,2457,2458,2459,2460,2461,2462,2463,2464,2465,2466,2467,2468,2469,2470,2471,2472,2473,2474,2475,2476,2477,2478,2479,2480,2481,2482,2483,2484,2485,2486,2487,2488,2489,2490,2491,2492,2493,2494,2495,2496,2497,2498,2499,2500,2501,2502,2503,2504,2505,2506,2507,2508,2509,2510,2511,2512,2513,2514,2515,2516,2517,2518,2519,2520,2521,2522,2523,2524,2525,2526,2527,2528,2529,2530,2531,2532,2533,2534,2535,2536,2537,2538,2539,2540,2541,2542,2543,2544,2545,2546,2547,2548,2549,2550,2551,2552,2553,2554,2555,2556,2557,2558,2559,2560,2561,2562,2563,2564,2565,2566,2567,2568,2569,2570,2571,2572,2573,2574,2575,2576,2577,2578,2579,2580,2581,2582,2583,2584,2585,2586,2587,2588,2589,2590,2591,2592,2593,2594,2595,2596,2597,2598,2599,2600,2601,2602,2603,2604,2605,2606,2607,2608,2609,2610,2611,2612,2613,2614,2615,2616,2617,2618,2619,2620,2621,2622,2623,2624,2625,2626,2627,2628,2629,2630,2631,2632,2633,2634,2635,2636,2637,2638,2639,2640,2641,2642,2643,2644,2645,2646,2647,2648,2649,2650,2651,2652,2653,2654,2655,2656,2657,2658,2659,2660,2661,2662,2663,2664,2665,2666,2667,2668,2669,2670,2671,2672,2673,2674,2675,2676,2677,2678,2679,2680,2681,2682,2683,2684,2685,2686,2687,2688,2689,2690,2691,2692,2693,2694,2695,2696,2697,2698,2699,2700,2701,2702,2703,2704,2705,2706,2707,2708,2709,2710,2711,2712,2713,2714,2715,2716,2717,2718,2719,2720,2721,2722,2723,2724,2725,2726,2727,2728,2729,2730,2731,2732,2733,2734,2735,2736,2737,2738,2739,2740,2741,2742,2743,2744,2745,2746,2747,2748,2749,2750,2751,2752,2753,2754,2755,2756,2757,2758,2759,2760,2761,2762,2763,2764,2765,2766,2767,2768,2769,2770,2771,2772,2773,2774,2775,2776,2777,2778,2779,2780,2781,2782,2783,2784,2785,2786,2787,2788,2789,2790,2791,2792,2793,2794,2795,2796,2797,2798,2799,2800,2801,2802,2803,2804,2805,2806,2807,2808,2809,2810,2811,2812,2813,2814,2815,2816,2817,2818,2819,2820,2821,2822,2823,2824,2825,2826,2827,2828,2829,2830,2831,2832,2833,2834,2835,2836,2837,2838,2839,2840,2841,2842,2843,2844,2845,2846,2847,2848,2849,2850,2851,2852,2853,2854,2855,2856,2857,2858,2859,2860,2861,2862,2863,2864,2865,2866,2867,2868,2869,2870,2871,2872,2873,2874,2875,2876,2877,2878,2879,2880,2881,2882,2883,2884,2885,2886,2887,2888,2889,2890,2891,2892,2893,2894,2895,2896,2897,2898,2899,2900,2901,2902,2903,2904,2905,2906,2907,2908,2909,2910,2911,2912,2913,2914,2915,2916,2917,2918,2919,2920,2921,2922,2923,2924,2925,2926,2927,2928,2929,2930,2931,2932,2933,2934,2935,2936,2937,2938,2939,2940,2941,2942,2943,2944,2945,2946,2947,2948,2949,2950,2951,2952,2953,2954,2955,2956,2957,2958,2959,2960,2961,2962,2963,2964,2965,2966,2967,2968,2969,2970,2971,2972,2973,2974,2975,2976,2977,2978,2979,2980,2981,2982,2983,2984,2985,2986,2987,2988,2989,2990,2991,2992,2993,2994,2995,2996,2997,2998,2999],\"y\":{\"__ndarray__\":\"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\",\"dtype\":\"float64\",\"shape\":[3000]}},\"selected\":{\"id\":\"1160\",\"type\":\"Selection\"},\"selection_policy\":{\"id\":\"1161\",\"type\":\"UnionRenderers\"}},\"id\":\"1139\",\"type\":\"ColumnDataSource\"}],\"root_ids\":[\"1105\"]},\"title\":\"Bokeh Application\",\"version\":\"1.0.1\"}};\n",
       "  var render_items = [{\"docid\":\"93757174-b8f2-4a15-ba91-1fc0fd3c61a6\",\"roots\":{\"1105\":\"337fcdad-ccc1-4ea4-8041-6c7aa198800c\"}}];\n",
       "  root.Bokeh.embed.embed_items_notebook(docs_json, render_items);\n",
       "\n",
       "  }\n",
       "  if (root.Bokeh !== undefined) {\n",
       "    embed_document(root);\n",
       "  } else {\n",
       "    var attempts = 0;\n",
       "    var timer = setInterval(function(root) {\n",
       "      if (root.Bokeh !== undefined) {\n",
       "        embed_document(root);\n",
       "        clearInterval(timer);\n",
       "      }\n",
       "      attempts++;\n",
       "      if (attempts > 100) {\n",
       "        console.log(\"Bokeh: ERROR: Unable to run BokehJS code because BokehJS library is missing\");\n",
       "        clearInterval(timer);\n",
       "      }\n",
       "    }, 10, root)\n",
       "  }\n",
       "})(window);"
      ],
      "application/vnd.bokehjs_exec.v0+json": ""
     },
     "metadata": {
      "application/vnd.bokehjs_exec.v0+json": {
       "id": "1105"
      }
     },
     "output_type": "display_data"
    }
   ],
   "source": [
    "# Split traces into 2 groups\n",
    "from bokeh.plotting import figure, show\n",
    "from bokeh.io import output_notebook\n",
    "\n",
    "output_notebook()\n",
    "p = figure()\n",
    "\n",
    "xrange = range(len(diff))\n",
    "xrange2 = range(len(traces[0]))\n",
    "p.line(xrange, diff, line_color=\"red\")\n",
    "#p.line(xrange2, traces[0], line_color='blue')\n",
    "show(p)"
   ]
  },
  {
   "cell_type": "markdown",
   "metadata": {},
   "source": [
    "You should see a few visible spikes. We're looking for the XOR for byte 0 here, so any later spikes won't be the XOR. Use bokeh's zoom functionality to pinpoint all the largest spikes and record their sample location. You'll probably need to record a few: only one is the correct spike, but we won't be able to tell until we repeat this with other bytes. For example, you might have spikes at 37, 41, and 45. Make sure you record all these values. These peaks won't all be above 0, so make sure you're looking at both positive and negative values.\n",
    "\n",
    "Next, we'll need to repeat this with a few more bytes. To make things easier, the necessary code has been combined into the below block. Increment the `0` in `bit0 = dr[i][0] & 0x01` to other numbers to attack other bytes. Attacking bytes 0 through 3 should be sufficient."
   ]
  },
  {
   "cell_type": "code",
   "execution_count": 31,
   "metadata": {},
   "outputs": [
    {
     "name": "stdout",
     "output_type": "stream",
     "text": [
      "244\n"
     ]
    },
    {
     "data": {
      "text/html": [
       "\n",
       "    <div class=\"bk-root\">\n",
       "        <a href=\"https://bokeh.pydata.org\" target=\"_blank\" class=\"bk-logo bk-logo-small bk-logo-notebook\"></a>\n",
       "        <span id=\"1216\">Loading BokehJS ...</span>\n",
       "    </div>"
      ]
     },
     "metadata": {},
     "output_type": "display_data"
    },
    {
     "data": {
      "application/javascript": [
       "\n",
       "(function(root) {\n",
       "  function now() {\n",
       "    return new Date();\n",
       "  }\n",
       "\n",
       "  var force = true;\n",
       "\n",
       "  if (typeof (root._bokeh_onload_callbacks) === \"undefined\" || force === true) {\n",
       "    root._bokeh_onload_callbacks = [];\n",
       "    root._bokeh_is_loading = undefined;\n",
       "  }\n",
       "\n",
       "  var JS_MIME_TYPE = 'application/javascript';\n",
       "  var HTML_MIME_TYPE = 'text/html';\n",
       "  var EXEC_MIME_TYPE = 'application/vnd.bokehjs_exec.v0+json';\n",
       "  var CLASS_NAME = 'output_bokeh rendered_html';\n",
       "\n",
       "  /**\n",
       "   * Render data to the DOM node\n",
       "   */\n",
       "  function render(props, node) {\n",
       "    var script = document.createElement(\"script\");\n",
       "    node.appendChild(script);\n",
       "  }\n",
       "\n",
       "  /**\n",
       "   * Handle when an output is cleared or removed\n",
       "   */\n",
       "  function handleClearOutput(event, handle) {\n",
       "    var cell = handle.cell;\n",
       "\n",
       "    var id = cell.output_area._bokeh_element_id;\n",
       "    var server_id = cell.output_area._bokeh_server_id;\n",
       "    // Clean up Bokeh references\n",
       "    if (id != null && id in Bokeh.index) {\n",
       "      Bokeh.index[id].model.document.clear();\n",
       "      delete Bokeh.index[id];\n",
       "    }\n",
       "\n",
       "    if (server_id !== undefined) {\n",
       "      // Clean up Bokeh references\n",
       "      var cmd = \"from bokeh.io.state import curstate; print(curstate().uuid_to_server['\" + server_id + \"'].get_sessions()[0].document.roots[0]._id)\";\n",
       "      cell.notebook.kernel.execute(cmd, {\n",
       "        iopub: {\n",
       "          output: function(msg) {\n",
       "            var id = msg.content.text.trim();\n",
       "            if (id in Bokeh.index) {\n",
       "              Bokeh.index[id].model.document.clear();\n",
       "              delete Bokeh.index[id];\n",
       "            }\n",
       "          }\n",
       "        }\n",
       "      });\n",
       "      // Destroy server and session\n",
       "      var cmd = \"import bokeh.io.notebook as ion; ion.destroy_server('\" + server_id + \"')\";\n",
       "      cell.notebook.kernel.execute(cmd);\n",
       "    }\n",
       "  }\n",
       "\n",
       "  /**\n",
       "   * Handle when a new output is added\n",
       "   */\n",
       "  function handleAddOutput(event, handle) {\n",
       "    var output_area = handle.output_area;\n",
       "    var output = handle.output;\n",
       "\n",
       "    // limit handleAddOutput to display_data with EXEC_MIME_TYPE content only\n",
       "    if ((output.output_type != \"display_data\") || (!output.data.hasOwnProperty(EXEC_MIME_TYPE))) {\n",
       "      return\n",
       "    }\n",
       "\n",
       "    var toinsert = output_area.element.find(\".\" + CLASS_NAME.split(' ')[0]);\n",
       "\n",
       "    if (output.metadata[EXEC_MIME_TYPE][\"id\"] !== undefined) {\n",
       "      toinsert[toinsert.length - 1].firstChild.textContent = output.data[JS_MIME_TYPE];\n",
       "      // store reference to embed id on output_area\n",
       "      output_area._bokeh_element_id = output.metadata[EXEC_MIME_TYPE][\"id\"];\n",
       "    }\n",
       "    if (output.metadata[EXEC_MIME_TYPE][\"server_id\"] !== undefined) {\n",
       "      var bk_div = document.createElement(\"div\");\n",
       "      bk_div.innerHTML = output.data[HTML_MIME_TYPE];\n",
       "      var script_attrs = bk_div.children[0].attributes;\n",
       "      for (var i = 0; i < script_attrs.length; i++) {\n",
       "        toinsert[toinsert.length - 1].firstChild.setAttribute(script_attrs[i].name, script_attrs[i].value);\n",
       "      }\n",
       "      // store reference to server id on output_area\n",
       "      output_area._bokeh_server_id = output.metadata[EXEC_MIME_TYPE][\"server_id\"];\n",
       "    }\n",
       "  }\n",
       "\n",
       "  function register_renderer(events, OutputArea) {\n",
       "\n",
       "    function append_mime(data, metadata, element) {\n",
       "      // create a DOM node to render to\n",
       "      var toinsert = this.create_output_subarea(\n",
       "        metadata,\n",
       "        CLASS_NAME,\n",
       "        EXEC_MIME_TYPE\n",
       "      );\n",
       "      this.keyboard_manager.register_events(toinsert);\n",
       "      // Render to node\n",
       "      var props = {data: data, metadata: metadata[EXEC_MIME_TYPE]};\n",
       "      render(props, toinsert[toinsert.length - 1]);\n",
       "      element.append(toinsert);\n",
       "      return toinsert\n",
       "    }\n",
       "\n",
       "    /* Handle when an output is cleared or removed */\n",
       "    events.on('clear_output.CodeCell', handleClearOutput);\n",
       "    events.on('delete.Cell', handleClearOutput);\n",
       "\n",
       "    /* Handle when a new output is added */\n",
       "    events.on('output_added.OutputArea', handleAddOutput);\n",
       "\n",
       "    /**\n",
       "     * Register the mime type and append_mime function with output_area\n",
       "     */\n",
       "    OutputArea.prototype.register_mime_type(EXEC_MIME_TYPE, append_mime, {\n",
       "      /* Is output safe? */\n",
       "      safe: true,\n",
       "      /* Index of renderer in `output_area.display_order` */\n",
       "      index: 0\n",
       "    });\n",
       "  }\n",
       "\n",
       "  // register the mime type if in Jupyter Notebook environment and previously unregistered\n",
       "  if (root.Jupyter !== undefined) {\n",
       "    var events = require('base/js/events');\n",
       "    var OutputArea = require('notebook/js/outputarea').OutputArea;\n",
       "\n",
       "    if (OutputArea.prototype.mime_types().indexOf(EXEC_MIME_TYPE) == -1) {\n",
       "      register_renderer(events, OutputArea);\n",
       "    }\n",
       "  }\n",
       "\n",
       "  \n",
       "  if (typeof (root._bokeh_timeout) === \"undefined\" || force === true) {\n",
       "    root._bokeh_timeout = Date.now() + 5000;\n",
       "    root._bokeh_failed_load = false;\n",
       "  }\n",
       "\n",
       "  var NB_LOAD_WARNING = {'data': {'text/html':\n",
       "     \"<div style='background-color: #fdd'>\\n\"+\n",
       "     \"<p>\\n\"+\n",
       "     \"BokehJS does not appear to have successfully loaded. If loading BokehJS from CDN, this \\n\"+\n",
       "     \"may be due to a slow or bad network connection. Possible fixes:\\n\"+\n",
       "     \"</p>\\n\"+\n",
       "     \"<ul>\\n\"+\n",
       "     \"<li>re-rerun `output_notebook()` to attempt to load from CDN again, or</li>\\n\"+\n",
       "     \"<li>use INLINE resources instead, as so:</li>\\n\"+\n",
       "     \"</ul>\\n\"+\n",
       "     \"<code>\\n\"+\n",
       "     \"from bokeh.resources import INLINE\\n\"+\n",
       "     \"output_notebook(resources=INLINE)\\n\"+\n",
       "     \"</code>\\n\"+\n",
       "     \"</div>\"}};\n",
       "\n",
       "  function display_loaded() {\n",
       "    var el = document.getElementById(\"1216\");\n",
       "    if (el != null) {\n",
       "      el.textContent = \"BokehJS is loading...\";\n",
       "    }\n",
       "    if (root.Bokeh !== undefined) {\n",
       "      if (el != null) {\n",
       "        el.textContent = \"BokehJS \" + root.Bokeh.version + \" successfully loaded.\";\n",
       "      }\n",
       "    } else if (Date.now() < root._bokeh_timeout) {\n",
       "      setTimeout(display_loaded, 100)\n",
       "    }\n",
       "  }\n",
       "\n",
       "\n",
       "  function run_callbacks() {\n",
       "    try {\n",
       "      root._bokeh_onload_callbacks.forEach(function(callback) { callback() });\n",
       "    }\n",
       "    finally {\n",
       "      delete root._bokeh_onload_callbacks\n",
       "    }\n",
       "    console.info(\"Bokeh: all callbacks have finished\");\n",
       "  }\n",
       "\n",
       "  function load_libs(js_urls, callback) {\n",
       "    root._bokeh_onload_callbacks.push(callback);\n",
       "    if (root._bokeh_is_loading > 0) {\n",
       "      console.log(\"Bokeh: BokehJS is being loaded, scheduling callback at\", now());\n",
       "      return null;\n",
       "    }\n",
       "    if (js_urls == null || js_urls.length === 0) {\n",
       "      run_callbacks();\n",
       "      return null;\n",
       "    }\n",
       "    console.log(\"Bokeh: BokehJS not loaded, scheduling load and callback at\", now());\n",
       "    root._bokeh_is_loading = js_urls.length;\n",
       "    for (var i = 0; i < js_urls.length; i++) {\n",
       "      var url = js_urls[i];\n",
       "      var s = document.createElement('script');\n",
       "      s.src = url;\n",
       "      s.async = false;\n",
       "      s.onreadystatechange = s.onload = function() {\n",
       "        root._bokeh_is_loading--;\n",
       "        if (root._bokeh_is_loading === 0) {\n",
       "          console.log(\"Bokeh: all BokehJS libraries loaded\");\n",
       "          run_callbacks()\n",
       "        }\n",
       "      };\n",
       "      s.onerror = function() {\n",
       "        console.warn(\"failed to load library \" + url);\n",
       "      };\n",
       "      console.log(\"Bokeh: injecting script tag for BokehJS library: \", url);\n",
       "      document.getElementsByTagName(\"head\")[0].appendChild(s);\n",
       "    }\n",
       "  };var element = document.getElementById(\"1216\");\n",
       "  if (element == null) {\n",
       "    console.log(\"Bokeh: ERROR: autoload.js configured with elementid '1216' but no matching script tag was found. \")\n",
       "    return false;\n",
       "  }\n",
       "\n",
       "  var js_urls = [\"https://cdn.pydata.org/bokeh/release/bokeh-1.0.1.min.js\", \"https://cdn.pydata.org/bokeh/release/bokeh-widgets-1.0.1.min.js\", \"https://cdn.pydata.org/bokeh/release/bokeh-tables-1.0.1.min.js\", \"https://cdn.pydata.org/bokeh/release/bokeh-gl-1.0.1.min.js\"];\n",
       "\n",
       "  var inline_js = [\n",
       "    function(Bokeh) {\n",
       "      Bokeh.set_log_level(\"info\");\n",
       "    },\n",
       "    \n",
       "    function(Bokeh) {\n",
       "      \n",
       "    },\n",
       "    function(Bokeh) {\n",
       "      console.log(\"Bokeh: injecting CSS: https://cdn.pydata.org/bokeh/release/bokeh-1.0.1.min.css\");\n",
       "      Bokeh.embed.inject_css(\"https://cdn.pydata.org/bokeh/release/bokeh-1.0.1.min.css\");\n",
       "      console.log(\"Bokeh: injecting CSS: https://cdn.pydata.org/bokeh/release/bokeh-widgets-1.0.1.min.css\");\n",
       "      Bokeh.embed.inject_css(\"https://cdn.pydata.org/bokeh/release/bokeh-widgets-1.0.1.min.css\");\n",
       "      console.log(\"Bokeh: injecting CSS: https://cdn.pydata.org/bokeh/release/bokeh-tables-1.0.1.min.css\");\n",
       "      Bokeh.embed.inject_css(\"https://cdn.pydata.org/bokeh/release/bokeh-tables-1.0.1.min.css\");\n",
       "    }\n",
       "  ];\n",
       "\n",
       "  function run_inline_js() {\n",
       "    \n",
       "    if ((root.Bokeh !== undefined) || (force === true)) {\n",
       "      for (var i = 0; i < inline_js.length; i++) {\n",
       "        inline_js[i].call(root, root.Bokeh);\n",
       "      }if (force === true) {\n",
       "        display_loaded();\n",
       "      }} else if (Date.now() < root._bokeh_timeout) {\n",
       "      setTimeout(run_inline_js, 100);\n",
       "    } else if (!root._bokeh_failed_load) {\n",
       "      console.log(\"Bokeh: BokehJS failed to load within specified timeout.\");\n",
       "      root._bokeh_failed_load = true;\n",
       "    } else if (force !== true) {\n",
       "      var cell = $(document.getElementById(\"1216\")).parents('.cell').data().cell;\n",
       "      cell.output_area.append_execute_result(NB_LOAD_WARNING)\n",
       "    }\n",
       "\n",
       "  }\n",
       "\n",
       "  if (root._bokeh_is_loading === 0) {\n",
       "    console.log(\"Bokeh: BokehJS loaded, going straight to plotting\");\n",
       "    run_inline_js();\n",
       "  } else {\n",
       "    load_libs(js_urls, function() {\n",
       "      console.log(\"Bokeh: BokehJS plotting callback run at\", now());\n",
       "      run_inline_js();\n",
       "    });\n",
       "  }\n",
       "}(window));"
      ],
      "application/vnd.bokehjs_load.v0+json": "\n(function(root) {\n  function now() {\n    return new Date();\n  }\n\n  var force = true;\n\n  if (typeof (root._bokeh_onload_callbacks) === \"undefined\" || force === true) {\n    root._bokeh_onload_callbacks = [];\n    root._bokeh_is_loading = undefined;\n  }\n\n  \n\n  \n  if (typeof (root._bokeh_timeout) === \"undefined\" || force === true) {\n    root._bokeh_timeout = Date.now() + 5000;\n    root._bokeh_failed_load = false;\n  }\n\n  var NB_LOAD_WARNING = {'data': {'text/html':\n     \"<div style='background-color: #fdd'>\\n\"+\n     \"<p>\\n\"+\n     \"BokehJS does not appear to have successfully loaded. If loading BokehJS from CDN, this \\n\"+\n     \"may be due to a slow or bad network connection. Possible fixes:\\n\"+\n     \"</p>\\n\"+\n     \"<ul>\\n\"+\n     \"<li>re-rerun `output_notebook()` to attempt to load from CDN again, or</li>\\n\"+\n     \"<li>use INLINE resources instead, as so:</li>\\n\"+\n     \"</ul>\\n\"+\n     \"<code>\\n\"+\n     \"from bokeh.resources import INLINE\\n\"+\n     \"output_notebook(resources=INLINE)\\n\"+\n     \"</code>\\n\"+\n     \"</div>\"}};\n\n  function display_loaded() {\n    var el = document.getElementById(\"1216\");\n    if (el != null) {\n      el.textContent = \"BokehJS is loading...\";\n    }\n    if (root.Bokeh !== undefined) {\n      if (el != null) {\n        el.textContent = \"BokehJS \" + root.Bokeh.version + \" successfully loaded.\";\n      }\n    } else if (Date.now() < root._bokeh_timeout) {\n      setTimeout(display_loaded, 100)\n    }\n  }\n\n\n  function run_callbacks() {\n    try {\n      root._bokeh_onload_callbacks.forEach(function(callback) { callback() });\n    }\n    finally {\n      delete root._bokeh_onload_callbacks\n    }\n    console.info(\"Bokeh: all callbacks have finished\");\n  }\n\n  function load_libs(js_urls, callback) {\n    root._bokeh_onload_callbacks.push(callback);\n    if (root._bokeh_is_loading > 0) {\n      console.log(\"Bokeh: BokehJS is being loaded, scheduling callback at\", now());\n      return null;\n    }\n    if (js_urls == null || js_urls.length === 0) {\n      run_callbacks();\n      return null;\n    }\n    console.log(\"Bokeh: BokehJS not loaded, scheduling load and callback at\", now());\n    root._bokeh_is_loading = js_urls.length;\n    for (var i = 0; i < js_urls.length; i++) {\n      var url = js_urls[i];\n      var s = document.createElement('script');\n      s.src = url;\n      s.async = false;\n      s.onreadystatechange = s.onload = function() {\n        root._bokeh_is_loading--;\n        if (root._bokeh_is_loading === 0) {\n          console.log(\"Bokeh: all BokehJS libraries loaded\");\n          run_callbacks()\n        }\n      };\n      s.onerror = function() {\n        console.warn(\"failed to load library \" + url);\n      };\n      console.log(\"Bokeh: injecting script tag for BokehJS library: \", url);\n      document.getElementsByTagName(\"head\")[0].appendChild(s);\n    }\n  };var element = document.getElementById(\"1216\");\n  if (element == null) {\n    console.log(\"Bokeh: ERROR: autoload.js configured with elementid '1216' but no matching script tag was found. \")\n    return false;\n  }\n\n  var js_urls = [\"https://cdn.pydata.org/bokeh/release/bokeh-1.0.1.min.js\", \"https://cdn.pydata.org/bokeh/release/bokeh-widgets-1.0.1.min.js\", \"https://cdn.pydata.org/bokeh/release/bokeh-tables-1.0.1.min.js\", \"https://cdn.pydata.org/bokeh/release/bokeh-gl-1.0.1.min.js\"];\n\n  var inline_js = [\n    function(Bokeh) {\n      Bokeh.set_log_level(\"info\");\n    },\n    \n    function(Bokeh) {\n      \n    },\n    function(Bokeh) {\n      console.log(\"Bokeh: injecting CSS: https://cdn.pydata.org/bokeh/release/bokeh-1.0.1.min.css\");\n      Bokeh.embed.inject_css(\"https://cdn.pydata.org/bokeh/release/bokeh-1.0.1.min.css\");\n      console.log(\"Bokeh: injecting CSS: https://cdn.pydata.org/bokeh/release/bokeh-widgets-1.0.1.min.css\");\n      Bokeh.embed.inject_css(\"https://cdn.pydata.org/bokeh/release/bokeh-widgets-1.0.1.min.css\");\n      console.log(\"Bokeh: injecting CSS: https://cdn.pydata.org/bokeh/release/bokeh-tables-1.0.1.min.css\");\n      Bokeh.embed.inject_css(\"https://cdn.pydata.org/bokeh/release/bokeh-tables-1.0.1.min.css\");\n    }\n  ];\n\n  function run_inline_js() {\n    \n    if ((root.Bokeh !== undefined) || (force === true)) {\n      for (var i = 0; i < inline_js.length; i++) {\n        inline_js[i].call(root, root.Bokeh);\n      }if (force === true) {\n        display_loaded();\n      }} else if (Date.now() < root._bokeh_timeout) {\n      setTimeout(run_inline_js, 100);\n    } else if (!root._bokeh_failed_load) {\n      console.log(\"Bokeh: BokehJS failed to load within specified timeout.\");\n      root._bokeh_failed_load = true;\n    } else if (force !== true) {\n      var cell = $(document.getElementById(\"1216\")).parents('.cell').data().cell;\n      cell.output_area.append_execute_result(NB_LOAD_WARNING)\n    }\n\n  }\n\n  if (root._bokeh_is_loading === 0) {\n    console.log(\"Bokeh: BokehJS loaded, going straight to plotting\");\n    run_inline_js();\n  } else {\n    load_libs(js_urls, function() {\n      console.log(\"Bokeh: BokehJS plotting callback run at\", now());\n      run_inline_js();\n    });\n  }\n}(window));"
     },
     "metadata": {},
     "output_type": "display_data"
    },
    {
     "data": {
      "text/html": [
       "\n",
       "\n",
       "\n",
       "\n",
       "\n",
       "\n",
       "  <div class=\"bk-root\" id=\"96823fd5-67fa-486d-88af-344dcb547e91\"></div>\n"
      ]
     },
     "metadata": {},
     "output_type": "display_data"
    },
    {
     "data": {
      "application/javascript": [
       "(function(root) {\n",
       "  function embed_document(root) {\n",
       "    \n",
       "  var docs_json = {\"d011fc29-fcd2-43cd-97fc-30590b8a4e4e\":{\"roots\":{\"references\":[{\"attributes\":{\"below\":[{\"id\":\"1226\",\"type\":\"LinearAxis\"}],\"left\":[{\"id\":\"1231\",\"type\":\"LinearAxis\"}],\"renderers\":[{\"id\":\"1226\",\"type\":\"LinearAxis\"},{\"id\":\"1230\",\"type\":\"Grid\"},{\"id\":\"1231\",\"type\":\"LinearAxis\"},{\"id\":\"1235\",\"type\":\"Grid\"},{\"id\":\"1244\",\"type\":\"BoxAnnotation\"},{\"id\":\"1254\",\"type\":\"GlyphRenderer\"}],\"title\":{\"id\":\"1275\",\"type\":\"Title\"},\"toolbar\":{\"id\":\"1242\",\"type\":\"Toolbar\"},\"x_range\":{\"id\":\"1218\",\"type\":\"DataRange1d\"},\"x_scale\":{\"id\":\"1222\",\"type\":\"LinearScale\"},\"y_range\":{\"id\":\"1220\",\"type\":\"DataRange1d\"},\"y_scale\":{\"id\":\"1224\",\"type\":\"LinearScale\"}},\"id\":\"1217\",\"subtype\":\"Figure\",\"type\":\"Plot\"},{\"attributes\":{\"line_alpha\":0.1,\"line_color\":\"#1f77b4\",\"x\":{\"field\":\"x\"},\"y\":{\"field\":\"y\"}},\"id\":\"1253\",\"type\":\"Line\"},{\"attributes\":{},\"id\":\"1227\",\"type\":\"BasicTicker\"},{\"attributes\":{},\"id\":\"1224\",\"type\":\"LinearScale\"},{\"attributes\":{\"formatter\":{\"id\":\"1277\",\"type\":\"BasicTickFormatter\"},\"plot\":{\"id\":\"1217\",\"subtype\":\"Figure\",\"type\":\"Plot\"},\"ticker\":{\"id\":\"1232\",\"type\":\"BasicTicker\"}},\"id\":\"1231\",\"type\":\"LinearAxis\"},{\"attributes\":{\"plot\":null,\"text\":\"\"},\"id\":\"1275\",\"type\":\"Title\"},{\"attributes\":{\"formatter\":{\"id\":\"1279\",\"type\":\"BasicTickFormatter\"},\"plot\":{\"id\":\"1217\",\"subtype\":\"Figure\",\"type\":\"Plot\"},\"ticker\":{\"id\":\"1227\",\"type\":\"BasicTicker\"}},\"id\":\"1226\",\"type\":\"LinearAxis\"},{\"attributes\":{\"bottom_units\":\"screen\",\"fill_alpha\":{\"value\":0.5},\"fill_color\":{\"value\":\"lightgrey\"},\"left_units\":\"screen\",\"level\":\"overlay\",\"line_alpha\":{\"value\":1.0},\"line_color\":{\"value\":\"black\"},\"line_dash\":[4,4],\"line_width\":{\"value\":2},\"plot\":null,\"render_mode\":\"css\",\"right_units\":\"screen\",\"top_units\":\"screen\"},\"id\":\"1244\",\"type\":\"BoxAnnotation\"},{\"attributes\":{\"source\":{\"id\":\"1251\",\"type\":\"ColumnDataSource\"}},\"id\":\"1255\",\"type\":\"CDSView\"},{\"attributes\":{},\"id\":\"1279\",\"type\":\"BasicTickFormatter\"},{\"attributes\":{\"callback\":null},\"id\":\"1220\",\"type\":\"DataRange1d\"},{\"attributes\":{},\"id\":\"1281\",\"type\":\"Selection\"},{\"attributes\":{},\"id\":\"1277\",\"type\":\"BasicTickFormatter\"},{\"attributes\":{},\"id\":\"1222\",\"type\":\"LinearScale\"},{\"attributes\":{},\"id\":\"1282\",\"type\":\"UnionRenderers\"},{\"attributes\":{\"active_drag\":\"auto\",\"active_inspect\":\"auto\",\"active_multi\":null,\"active_scroll\":\"auto\",\"active_tap\":\"auto\",\"tools\":[{\"id\":\"1236\",\"type\":\"PanTool\"},{\"id\":\"1237\",\"type\":\"WheelZoomTool\"},{\"id\":\"1238\",\"type\":\"BoxZoomTool\"},{\"id\":\"1239\",\"type\":\"SaveTool\"},{\"id\":\"1240\",\"type\":\"ResetTool\"},{\"id\":\"1241\",\"type\":\"HelpTool\"}]},\"id\":\"1242\",\"type\":\"Toolbar\"},{\"attributes\":{\"dimension\":1,\"plot\":{\"id\":\"1217\",\"subtype\":\"Figure\",\"type\":\"Plot\"},\"ticker\":{\"id\":\"1232\",\"type\":\"BasicTicker\"}},\"id\":\"1235\",\"type\":\"Grid\"},{\"attributes\":{\"overlay\":{\"id\":\"1244\",\"type\":\"BoxAnnotation\"}},\"id\":\"1238\",\"type\":\"BoxZoomTool\"},{\"attributes\":{},\"id\":\"1236\",\"type\":\"PanTool\"},{\"attributes\":{},\"id\":\"1240\",\"type\":\"ResetTool\"},{\"attributes\":{},\"id\":\"1237\",\"type\":\"WheelZoomTool\"},{\"attributes\":{\"data_source\":{\"id\":\"1251\",\"type\":\"ColumnDataSource\"},\"glyph\":{\"id\":\"1252\",\"type\":\"Line\"},\"hover_glyph\":null,\"muted_glyph\":null,\"nonselection_glyph\":{\"id\":\"1253\",\"type\":\"Line\"},\"selection_glyph\":null,\"view\":{\"id\":\"1255\",\"type\":\"CDSView\"}},\"id\":\"1254\",\"type\":\"GlyphRenderer\"},{\"attributes\":{},\"id\":\"1239\",\"type\":\"SaveTool\"},{\"attributes\":{},\"id\":\"1241\",\"type\":\"HelpTool\"},{\"attributes\":{\"callback\":null},\"id\":\"1218\",\"type\":\"DataRange1d\"},{\"attributes\":{\"callback\":null,\"data\":{\"x\":[0,1,2,3,4,5,6,7,8,9,10,11,12,13,14,15,16,17,18,19,20,21,22,23,24,25,26,27,28,29,30,31,32,33,34,35,36,37,38,39,40,41,42,43,44,45,46,47,48,49,50,51,52,53,54,55,56,57,58,59,60,61,62,63,64,65,66,67,68,69,70,71,72,73,74,75,76,77,78,79,80,81,82,83,84,85,86,87,88,89,90,91,92,93,94,95,96,97,98,99,100,101,102,103,104,105,106,107,108,109,110,111,112,113,114,115,116,117,118,119,120,121,122,123,124,125,126,127,128,129,130,131,132,133,134,135,136,137,138,139,140,141,142,143,144,145,146,147,148,149,150,151,152,153,154,155,156,157,158,159,160,161,162,163,164,165,166,167,168,169,170,171,172,173,174,175,176,177,178,179,180,181,182,183,184,185,186,187,188,189,190,191,192,193,194,195,196,197,198,199,200,201,202,203,204,205,206,207,208,209,210,211,212,213,214,215,216,217,218,219,220,221,222,223,224,225,226,227,228,229,230,231,232,233,234,235,236,237,238,239,240,241,242,243,244,245,246,247,248,249,250,251,252,253,254,255,256,257,258,259,260,261,262,263,264,265,266,267,268,269,270,271,272,273,274,275,276,277,278,279,280,281,282,283,284,285,286,287,288,289,290,291,292,293,294,295,296,297,298,299,300,301,302,303,304,305,306,307,308,309,310,311,312,313,314,315,316,317,318,319,320,321,322,323,324,325,326,327,328,329,330,331,332,333,334,335,336,337,338,339,340,341,342,343,344,345,346,347,348,349,350,351,352,353,354,355,356,357,358,359,360,361,362,363,364,365,366,367,368,369,370,371,372,373,374,375,376,377,378,379,380,381,382,383,384,385,386,387,388,389,390,391,392,393,394,395,396,397,398,399,400,401,402,403,404,405,406,407,408,409,410,411,412,413,414,415,416,417,418,419,420,421,422,423,424,425,426,427,428,429,430,431,432,433,434,435,436,437,438,439,440,441,442,443,444,445,446,447,448,449,450,451,452,453,454,455,456,457,458,459,460,461,462,463,464,465,466,467,468,469,470,471,472,473,474,475,476,477,478,479,480,481,482,483,484,485,486,487,488,489,490,491,492,493,494,495,496,497,498,499,500,501,502,503,504,505,506,507,508,509,510,511,512,513,514,515,516,517,518,519,520,521,522,523,524,525,526,527,528,529,530,531,532,533,534,535,536,537,538,539,540,541,542,543,544,545,546,547,548,549,550,551,552,553,554,555,556,557,558,559,560,561,562,563,564,565,566,567,568,569,570,571,572,573,574,575,576,577,578,579,580,581,582,583,584,585,586,587,588,589,590,591,592,593,594,595,596,597,598,599,600,601,602,603,604,605,606,607,608,609,610,611,612,613,614,615,616,617,618,619,620,621,622,623,624,625,626,627,628,629,630,631,632,633,634,635,636,637,638,639,640,641,642,643,644,645,646,647,648,649,650,651,652,653,654,655,656,657,658,659,660,661,662,663,664,665,666,667,668,669,670,671,672,673,674,675,676,677,678,679,680,681,682,683,684,685,686,687,688,689,690,691,692,693,694,695,696,697,698,699,700,701,702,703,704,705,706,707,708,709,710,711,712,713,714,715,716,717,718,719,720,721,722,723,724,725,726,727,728,729,730,731,732,733,734,735,736,737,738,739,740,741,742,743,744,745,746,747,748,749,750,751,752,753,754,755,756,757,758,759,760,761,762,763,764,765,766,767,768,769,770,771,772,773,774,775,776,777,778,779,780,781,782,783,784,785,786,787,788,789,790,791,792,793,794,795,796,797,798,799,800,801,802,803,804,805,806,807,808,809,810,811,812,813,814,815,816,817,818,819,820,821,822,823,824,825,826,827,828,829,830,831,832,833,834,835,836,837,838,839,840,841,842,843,844,845,846,847,848,849,850,851,852,853,854,855,856,857,858,859,860,861,862,863,864,865,866,867,868,869,870,871,872,873,874,875,876,877,878,879,880,881,882,883,884,885,886,887,888,889,890,891,892,893,894,895,896,897,898,899,900,901,902,903,904,905,906,907,908,909,910,911,912,913,914,915,916,917,918,919,920,921,922,923,924,925,926,927,928,929,930,931,932,933,934,935,936,937,938,939,940,941,942,943,944,945,946,947,948,949,950,951,952,953,954,955,956,957,958,959,960,961,962,963,964,965,966,967,968,969,970,971,972,973,974,975,976,977,978,979,980,981,982,983,984,985,986,987,988,989,990,991,992,993,994,995,996,997,998,999,1000,1001,1002,1003,1004,1005,1006,1007,1008,1009,1010,1011,1012,1013,1014,1015,1016,1017,1018,1019,1020,1021,1022,1023,1024,1025,1026,1027,1028,1029,1030,1031,1032,1033,1034,1035,1036,1037,1038,1039,1040,1041,1042,1043,1044,1045,1046,1047,1048,1049,1050,1051,1052,1053,1054,1055,1056,1057,1058,1059,1060,1061,1062,1063,1064,1065,1066,1067,1068,1069,1070,1071,1072,1073,1074,1075,1076,1077,1078,1079,1080,1081,1082,1083,1084,1085,1086,1087,1088,1089,1090,1091,1092,1093,1094,1095,1096,1097,1098,1099,1100,1101,1102,1103,1104,1105,1106,1107,1108,1109,1110,1111,1112,1113,1114,1115,1116,1117,1118,1119,1120,1121,1122,1123,1124,1125,1126,1127,1128,1129,1130,1131,1132,1133,1134,1135,1136,1137,1138,1139,1140,1141,1142,1143,1144,1145,1146,1147,1148,1149,1150,1151,1152,1153,1154,1155,1156,1157,1158,1159,1160,1161,1162,1163,1164,1165,1166,1167,1168,1169,1170,1171,1172,1173,1174,1175,1176,1177,1178,1179,1180,1181,1182,1183,1184,1185,1186,1187,1188,1189,1190,1191,1192,1193,1194,1195,1196,1197,1198,1199,1200,1201,1202,1203,1204,1205,1206,1207,1208,1209,1210,1211,1212,1213,1214,1215,1216,1217,1218,1219,1220,1221,1222,1223,1224,1225,1226,1227,1228,1229,1230,1231,1232,1233,1234,1235,1236,1237,1238,1239,1240,1241,1242,1243,1244,1245,1246,1247,1248,1249,1250,1251,1252,1253,1254,1255,1256,1257,1258,1259,1260,1261,1262,1263,1264,1265,1266,1267,1268,1269,1270,1271,1272,1273,1274,1275,1276,1277,1278,1279,1280,1281,1282,1283,1284,1285,1286,1287,1288,1289,1290,1291,1292,1293,1294,1295,1296,1297,1298,1299,1300,1301,1302,1303,1304,1305,1306,1307,1308,1309,1310,1311,1312,1313,1314,1315,1316,1317,1318,1319,1320,1321,1322,1323,1324,1325,1326,1327,1328,1329,1330,1331,1332,1333,1334,1335,1336,1337,1338,1339,1340,1341,1342,1343,1344,1345,1346,1347,1348,1349,1350,1351,1352,1353,1354,1355,1356,1357,1358,1359,1360,1361,1362,1363,1364,1365,1366,1367,1368,1369,1370,1371,1372,1373,1374,1375,1376,1377,1378,1379,1380,1381,1382,1383,1384,1385,1386,1387,1388,1389,1390,1391,1392,1393,1394,1395,1396,1397,1398,1399,1400,1401,1402,1403,1404,1405,1406,1407,1408,1409,1410,1411,1412,1413,1414,1415,1416,1417,1418,1419,1420,1421,1422,1423,1424,1425,1426,1427,1428,1429,1430,1431,1432,1433,1434,1435,1436,1437,1438,1439,1440,1441,1442,1443,1444,1445,1446,1447,1448,1449,1450,1451,1452,1453,1454,1455,1456,1457,1458,1459,1460,1461,1462,1463,1464,1465,1466,1467,1468,1469,1470,1471,1472,1473,1474,1475,1476,1477,1478,1479,1480,1481,1482,1483,1484,1485,1486,1487,1488,1489,1490,1491,1492,1493,1494,1495,1496,1497,1498,1499,1500,1501,1502,1503,1504,1505,1506,1507,1508,1509,1510,1511,1512,1513,1514,1515,1516,1517,1518,1519,1520,1521,1522,1523,1524,1525,1526,1527,1528,1529,1530,1531,1532,1533,1534,1535,1536,1537,1538,1539,1540,1541,1542,1543,1544,1545,1546,1547,1548,1549,1550,1551,1552,1553,1554,1555,1556,1557,1558,1559,1560,1561,1562,1563,1564,1565,1566,1567,1568,1569,1570,1571,1572,1573,1574,1575,1576,1577,1578,1579,1580,1581,1582,1583,1584,1585,1586,1587,1588,1589,1590,1591,1592,1593,1594,1595,1596,1597,1598,1599,1600,1601,1602,1603,1604,1605,1606,1607,1608,1609,1610,1611,1612,1613,1614,1615,1616,1617,1618,1619,1620,1621,1622,1623,1624,1625,1626,1627,1628,1629,1630,1631,1632,1633,1634,1635,1636,1637,1638,1639,1640,1641,1642,1643,1644,1645,1646,1647,1648,1649,1650,1651,1652,1653,1654,1655,1656,1657,1658,1659,1660,1661,1662,1663,1664,1665,1666,1667,1668,1669,1670,1671,1672,1673,1674,1675,1676,1677,1678,1679,1680,1681,1682,1683,1684,1685,1686,1687,1688,1689,1690,1691,1692,1693,1694,1695,1696,1697,1698,1699,1700,1701,1702,1703,1704,1705,1706,1707,1708,1709,1710,1711,1712,1713,1714,1715,1716,1717,1718,1719,1720,1721,1722,1723,1724,1725,1726,1727,1728,1729,1730,1731,1732,1733,1734,1735,1736,1737,1738,1739,1740,1741,1742,1743,1744,1745,1746,1747,1748,1749,1750,1751,1752,1753,1754,1755,1756,1757,1758,1759,1760,1761,1762,1763,1764,1765,1766,1767,1768,1769,1770,1771,1772,1773,1774,1775,1776,1777,1778,1779,1780,1781,1782,1783,1784,1785,1786,1787,1788,1789,1790,1791,1792,1793,1794,1795,1796,1797,1798,1799,1800,1801,1802,1803,1804,1805,1806,1807,1808,1809,1810,1811,1812,1813,1814,1815,1816,1817,1818,1819,1820,1821,1822,1823,1824,1825,1826,1827,1828,1829,1830,1831,1832,1833,1834,1835,1836,1837,1838,1839,1840,1841,1842,1843,1844,1845,1846,1847,1848,1849,1850,1851,1852,1853,1854,1855,1856,1857,1858,1859,1860,1861,1862,1863,1864,1865,1866,1867,1868,1869,1870,1871,1872,1873,1874,1875,1876,1877,1878,1879,1880,1881,1882,1883,1884,1885,1886,1887,1888,1889,1890,1891,1892,1893,1894,1895,1896,1897,1898,1899,1900,1901,1902,1903,1904,1905,1906,1907,1908,1909,1910,1911,1912,1913,1914,1915,1916,1917,1918,1919,1920,1921,1922,1923,1924,1925,1926,1927,1928,1929,1930,1931,1932,1933,1934,1935,1936,1937,1938,1939,1940,1941,1942,1943,1944,1945,1946,1947,1948,1949,1950,1951,1952,1953,1954,1955,1956,1957,1958,1959,1960,1961,1962,1963,1964,1965,1966,1967,1968,1969,1970,1971,1972,1973,1974,1975,1976,1977,1978,1979,1980,1981,1982,1983,1984,1985,1986,1987,1988,1989,1990,1991,1992,1993,1994,1995,1996,1997,1998,1999,2000,2001,2002,2003,2004,2005,2006,2007,2008,2009,2010,2011,2012,2013,2014,2015,2016,2017,2018,2019,2020,2021,2022,2023,2024,2025,2026,2027,2028,2029,2030,2031,2032,2033,2034,2035,2036,2037,2038,2039,2040,2041,2042,2043,2044,2045,2046,2047,2048,2049,2050,2051,2052,2053,2054,2055,2056,2057,2058,2059,2060,2061,2062,2063,2064,2065,2066,2067,2068,2069,2070,2071,2072,2073,2074,2075,2076,2077,2078,2079,2080,2081,2082,2083,2084,2085,2086,2087,2088,2089,2090,2091,2092,2093,2094,2095,2096,2097,2098,2099,2100,2101,2102,2103,2104,2105,2106,2107,2108,2109,2110,2111,2112,2113,2114,2115,2116,2117,2118,2119,2120,2121,2122,2123,2124,2125,2126,2127,2128,2129,2130,2131,2132,2133,2134,2135,2136,2137,2138,2139,2140,2141,2142,2143,2144,2145,2146,2147,2148,2149,2150,2151,2152,2153,2154,2155,2156,2157,2158,2159,2160,2161,2162,2163,2164,2165,2166,2167,2168,2169,2170,2171,2172,2173,2174,2175,2176,2177,2178,2179,2180,2181,2182,2183,2184,2185,2186,2187,2188,2189,2190,2191,2192,2193,2194,2195,2196,2197,2198,2199,2200,2201,2202,2203,2204,2205,2206,2207,2208,2209,2210,2211,2212,2213,2214,2215,2216,2217,2218,2219,2220,2221,2222,2223,2224,2225,2226,2227,2228,2229,2230,2231,2232,2233,2234,2235,2236,2237,2238,2239,2240,2241,2242,2243,2244,2245,2246,2247,2248,2249,2250,2251,2252,2253,2254,2255,2256,2257,2258,2259,2260,2261,2262,2263,2264,2265,2266,2267,2268,2269,2270,2271,2272,2273,2274,2275,2276,2277,2278,2279,2280,2281,2282,2283,2284,2285,2286,2287,2288,2289,2290,2291,2292,2293,2294,2295,2296,2297,2298,2299,2300,2301,2302,2303,2304,2305,2306,2307,2308,2309,2310,2311,2312,2313,2314,2315,2316,2317,2318,2319,2320,2321,2322,2323,2324,2325,2326,2327,2328,2329,2330,2331,2332,2333,2334,2335,2336,2337,2338,2339,2340,2341,2342,2343,2344,2345,2346,2347,2348,2349,2350,2351,2352,2353,2354,2355,2356,2357,2358,2359,2360,2361,2362,2363,2364,2365,2366,2367,2368,2369,2370,2371,2372,2373,2374,2375,2376,2377,2378,2379,2380,2381,2382,2383,2384,2385,2386,2387,2388,2389,2390,2391,2392,2393,2394,2395,2396,2397,2398,2399,2400,2401,2402,2403,2404,2405,2406,2407,2408,2409,2410,2411,2412,2413,2414,2415,2416,2417,2418,2419,2420,2421,2422,2423,2424,2425,2426,2427,2428,2429,2430,2431,2432,2433,2434,2435,2436,2437,2438,2439,2440,2441,2442,2443,2444,2445,2446,2447,2448,2449,2450,2451,2452,2453,2454,2455,2456,2457,2458,2459,2460,2461,2462,2463,2464,2465,2466,2467,2468,2469,2470,2471,2472,2473,2474,2475,2476,2477,2478,2479,2480,2481,2482,2483,2484,2485,2486,2487,2488,2489,2490,2491,2492,2493,2494,2495,2496,2497,2498,2499,2500,2501,2502,2503,2504,2505,2506,2507,2508,2509,2510,2511,2512,2513,2514,2515,2516,2517,2518,2519,2520,2521,2522,2523,2524,2525,2526,2527,2528,2529,2530,2531,2532,2533,2534,2535,2536,2537,2538,2539,2540,2541,2542,2543,2544,2545,2546,2547,2548,2549,2550,2551,2552,2553,2554,2555,2556,2557,2558,2559,2560,2561,2562,2563,2564,2565,2566,2567,2568,2569,2570,2571,2572,2573,2574,2575,2576,2577,2578,2579,2580,2581,2582,2583,2584,2585,2586,2587,2588,2589,2590,2591,2592,2593,2594,2595,2596,2597,2598,2599,2600,2601,2602,2603,2604,2605,2606,2607,2608,2609,2610,2611,2612,2613,2614,2615,2616,2617,2618,2619,2620,2621,2622,2623,2624,2625,2626,2627,2628,2629,2630,2631,2632,2633,2634,2635,2636,2637,2638,2639,2640,2641,2642,2643,2644,2645,2646,2647,2648,2649,2650,2651,2652,2653,2654,2655,2656,2657,2658,2659,2660,2661,2662,2663,2664,2665,2666,2667,2668,2669,2670,2671,2672,2673,2674,2675,2676,2677,2678,2679,2680,2681,2682,2683,2684,2685,2686,2687,2688,2689,2690,2691,2692,2693,2694,2695,2696,2697,2698,2699,2700,2701,2702,2703,2704,2705,2706,2707,2708,2709,2710,2711,2712,2713,2714,2715,2716,2717,2718,2719,2720,2721,2722,2723,2724,2725,2726,2727,2728,2729,2730,2731,2732,2733,2734,2735,2736,2737,2738,2739,2740,2741,2742,2743,2744,2745,2746,2747,2748,2749,2750,2751,2752,2753,2754,2755,2756,2757,2758,2759,2760,2761,2762,2763,2764,2765,2766,2767,2768,2769,2770,2771,2772,2773,2774,2775,2776,2777,2778,2779,2780,2781,2782,2783,2784,2785,2786,2787,2788,2789,2790,2791,2792,2793,2794,2795,2796,2797,2798,2799,2800,2801,2802,2803,2804,2805,2806,2807,2808,2809,2810,2811,2812,2813,2814,2815,2816,2817,2818,2819,2820,2821,2822,2823,2824,2825,2826,2827,2828,2829,2830,2831,2832,2833,2834,2835,2836,2837,2838,2839,2840,2841,2842,2843,2844,2845,2846,2847,2848,2849,2850,2851,2852,2853,2854,2855,2856,2857,2858,2859,2860,2861,2862,2863,2864,2865,2866,2867,2868,2869,2870,2871,2872,2873,2874,2875,2876,2877,2878,2879,2880,2881,2882,2883,2884,2885,2886,2887,2888,2889,2890,2891,2892,2893,2894,2895,2896,2897,2898,2899,2900,2901,2902,2903,2904,2905,2906,2907,2908,2909,2910,2911,2912,2913,2914,2915,2916,2917,2918,2919,2920,2921,2922,2923,2924,2925,2926,2927,2928,2929,2930,2931,2932,2933,2934,2935,2936,2937,2938,2939,2940,2941,2942,2943,2944,2945,2946,2947,2948,2949,2950,2951,2952,2953,2954,2955,2956,2957,2958,2959,2960,2961,2962,2963,2964,2965,2966,2967,2968,2969,2970,2971,2972,2973,2974,2975,2976,2977,2978,2979,2980,2981,2982,2983,2984,2985,2986,2987,2988,2989,2990,2991,2992,2993,2994,2995,2996,2997,2998,2999],\"y\":{\"__ndarray__\":\"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\",\"dtype\":\"float64\",\"shape\":[3000]}},\"selected\":{\"id\":\"1281\",\"type\":\"Selection\"},\"selection_policy\":{\"id\":\"1282\",\"type\":\"UnionRenderers\"}},\"id\":\"1251\",\"type\":\"ColumnDataSource\"},{\"attributes\":{},\"id\":\"1232\",\"type\":\"BasicTicker\"},{\"attributes\":{\"plot\":{\"id\":\"1217\",\"subtype\":\"Figure\",\"type\":\"Plot\"},\"ticker\":{\"id\":\"1227\",\"type\":\"BasicTicker\"}},\"id\":\"1230\",\"type\":\"Grid\"},{\"attributes\":{\"line_color\":\"red\",\"x\":{\"field\":\"x\"},\"y\":{\"field\":\"y\"}},\"id\":\"1252\",\"type\":\"Line\"}],\"root_ids\":[\"1217\"]},\"title\":\"Bokeh Application\",\"version\":\"1.0.1\"}};\n",
       "  var render_items = [{\"docid\":\"d011fc29-fcd2-43cd-97fc-30590b8a4e4e\",\"roots\":{\"1217\":\"96823fd5-67fa-486d-88af-344dcb547e91\"}}];\n",
       "  root.Bokeh.embed.embed_items_notebook(docs_json, render_items);\n",
       "\n",
       "  }\n",
       "  if (root.Bokeh !== undefined) {\n",
       "    embed_document(root);\n",
       "  } else {\n",
       "    var attempts = 0;\n",
       "    var timer = setInterval(function(root) {\n",
       "      if (root.Bokeh !== undefined) {\n",
       "        embed_document(root);\n",
       "        clearInterval(timer);\n",
       "      }\n",
       "      attempts++;\n",
       "      if (attempts > 100) {\n",
       "        console.log(\"Bokeh: ERROR: Unable to run BokehJS code because BokehJS library is missing\");\n",
       "        clearInterval(timer);\n",
       "      }\n",
       "    }, 10, root)\n",
       "  }\n",
       "})(window);"
      ],
      "application/vnd.bokehjs_exec.v0+json": ""
     },
     "metadata": {
      "application/vnd.bokehjs_exec.v0+json": {
       "id": "1217"
      }
     },
     "output_type": "display_data"
    }
   ],
   "source": [
    "groupedTraces = [[] for _ in range(2)]\n",
    "for i in range(numTraces):\n",
    "    bit0 = dr[i][0] & 0x01\n",
    "    groupedTraces[bit0].append(trace_array[i])\n",
    "print(len(groupedTraces[0]))\n",
    "\n",
    "# Find averages and differences\n",
    "means = []\n",
    "for i in range(2):\n",
    "    means.append(np.average(groupedTraces[i], axis=0))\n",
    "diff = means[1] - means[0]\n",
    "\n",
    "# Split traces into 2 groups\n",
    "from bokeh.plotting import figure, show\n",
    "from bokeh.io import output_notebook\n",
    "\n",
    "output_notebook()\n",
    "p = figure()\n",
    "\n",
    "xrange = range(len(diff))\n",
    "xrange2 = range(len(traces[0]))\n",
    "p.line(xrange, diff, line_color=\"red\")\n",
    "show(p)"
   ]
  },
  {
   "cell_type": "markdown",
   "metadata": {},
   "source": [
    "Now that you have some peak data, you'll want to use this to find the time shift between XORs. This time shift should be constant between samples and needs to work for all samples (each run through the loop is the same, so it makes sense that the time shift should be constant). For example, you might have:\n",
    "\n",
    "```\n",
    "0th byte @ 37, 41\n",
    "1st byte @ 77, 81\n",
    "2nd byte @ 105, 117, 121\n",
    "3rd byte @ 141, 157, 161\n",
    "4th byte @ 197, 201\n",
    "```\n",
    "\n",
    "With this data, peaks at 41, 81, 121, 161, and 201 have a constant time shift of 40. This means the location of the XORs is `41 + 40 * byte#`"
   ]
  },
  {
   "cell_type": "markdown",
   "metadata": {},
   "source": [
    "#### The Other 127"
   ]
  },
  {
   "cell_type": "markdown",
   "metadata": {},
   "source": [
    "The best way to attack the IV would be to repeat the 1-bit conceptual attack for each of the bits. Try to do this yourself! (Really!) If you're stuck, here are a few hints to get you going:\n",
    "\n",
    "One easy way of looping through the bits is by using two nested loops, like this:\n",
    "\n",
    "```python\n",
    "for byte in range(16):\n",
    "    for bit in range(8):\n",
    "        # Attack bit number (byte*8 + bit)\n",
    "```\n",
    "\n",
    "The sample that you'll want to look at will depend on which byte you're attacking. We had success when we used `location = 51 + byte*60`, but your mileage will vary.\n",
    "\n",
    "The bitshift operator and the bitwise-AND operator are useful for getting at a single bit:\n",
    "\n",
    "```python\n",
    "# This will either result in a 0 or a 1\n",
    "checkIfBitSet = (byteToCheck >> bit) & 0x01\n",
    "```\n",
    "\n",
    "If you're really, really stuck, the end of this tutorial has a working script. After finding the IV, check `supersecret.h` and verify that your attack was successful."
   ]
  },
  {
   "cell_type": "code",
   "execution_count": 32,
   "metadata": {
    "hide_input": false
   },
   "outputs": [
    {
     "name": "stdout",
     "output_type": "stream",
     "text": [
      "1 1 0 0 0 0 0 1 C1\n",
      "0 0 1 0 0 1 0 1 25\n",
      "0 1 1 0 1 0 0 0 68\n",
      "1 1 0 1 1 1 1 1 DF\n",
      "1 1 1 0 0 1 1 1 E7\n",
      "1 1 0 1 0 0 1 1 D3\n",
      "0 0 0 1 1 0 0 1 19\n",
      "1 1 0 1 1 0 1 0 DA\n",
      "0 0 0 1 0 0 0 0 10\n",
      "1 1 1 0 0 0 1 0 E2\n",
      "0 1 0 0 0 0 0 1 41\n",
      "0 1 1 1 0 0 0 1 71\n",
      "0 0 1 1 0 0 1 1 33\n",
      "1 0 1 1 0 0 0 0 B0\n",
      "1 1 1 0 1 0 1 1 EB\n",
      "0 0 1 1 1 1 0 0 3C\n",
      "[193, 37, 104, 223, 231, 211, 25, 218, 16, 226, 65, 113, 51, 176, 235, 60]\n"
     ]
    }
   ],
   "source": [
    "btldr_IV = [0] * 16\n",
    "for byte in range(16):\n",
    "    location = 41 + byte * 40\n",
    "    iv = 0\n",
    "    for bit in range(8):\n",
    "        pt_bits = [((dr[i][byte] >> (7-bit)) & 0x01) for i in range(numTraces)]\n",
    "\n",
    "        # Split traces into 2 groups\n",
    "        groupedPoints = [[] for _ in range(2)]\n",
    "        for i in range(numTraces):\n",
    "            groupedPoints[pt_bits[i]].append(trace_array[i][location])\n",
    "            \n",
    "        means = []\n",
    "        for i in range(2):\n",
    "            means.append(np.average(groupedPoints[i]))\n",
    "        diff = means[1] - means[0]\n",
    "        \n",
    "        iv_bit = 1 if diff > 0 else 0\n",
    "        iv = (iv << 1) | iv_bit\n",
    "        \n",
    "        print(iv_bit, end = \" \")\n",
    "        \n",
    "    print(\"{:02X}\".format(iv))\n",
    "    btldr_IV[byte] = iv\n",
    "    \n",
    "print(btldr_IV)"
   ]
  },
  {
   "cell_type": "markdown",
   "metadata": {},
   "source": [
    "## Attacking the Signature"
   ]
  },
  {
   "cell_type": "markdown",
   "metadata": {},
   "source": [
    "The last thing we can do with this bootloader is attack the signature. This final section will show how one byte of the signature could be recovered. If you want more of this kind of analysis, a more complete timing attack is shown in Tutorial B3-1 Timing Analysis with Power for Password Bypass."
   ]
  },
  {
   "cell_type": "markdown",
   "metadata": {},
   "source": [
    "### Attack Theory"
   ]
  },
  {
   "cell_type": "markdown",
   "metadata": {},
   "source": [
    "Recall from earlier that the signature check in C looks like:\n",
    "\n",
    "```C\n",
    "if ((tmp32[0] == SIGNATURE1) &&\n",
    "    (tmp32[1] == SIGNATURE2) &&\n",
    "    (tmp32[2] == SIGNATURE3) &&\n",
    "    (tmp32[3] == SIGNATURE4)){\n",
    "```\n",
    "\n",
    "In C, boolean expressions support short-circuiting. When checking multiple conditions, the program will stop evaluating these booleans as soon as it can tell what the final value will be. In this case, unless all four of the equality checks are true, the result will be false. Thus, as soon as the program finds a single false condition, it's done.\n",
    "\n",
    "Open the listing file for your binary (`.lss`), find the signature check, and confirm that this is happening. For example, on the STM32F3, the assembly looks like this:\n",
    "\n",
    "```C\n",
    "                //Check the signature\n",
    "                if ((tmp32[0] == SIGNATURE1) &&\n",
    " 8000338:\tf89d 3018 \tldrb.w\tr3, [sp, #24]\n",
    " 800033c:\t2b00      \tcmp\tr3, #0\n",
    " 800033e:\td1c2      \tbne.n\t80002c6 <main+0x52>\n",
    " 8000340:\tf89d 2019 \tldrb.w\tr2, [sp, #25]\n",
    " 8000344:\t2aeb      \tcmp\tr2, #235\t; 0xeb\n",
    " 8000346:\td1be      \tbne.n\t80002c6 <main+0x52>\n",
    "                   (tmp32[1] == SIGNATURE2) &&\n",
    " 8000348:\tf89d 201a \tldrb.w\tr2, [sp, #26]\n",
    " 800034c:\t2a02      \tcmp\tr2, #2\n",
    " 800034e:\td1ba      \tbne.n\t80002c6 <main+0x52>\n",
    "                   (tmp32[2] == SIGNATURE3) &&\n",
    " 8000350:\tf89d 201b \tldrb.w\tr2, [sp, #27]\n",
    " 8000354:\t2a1d      \tcmp\tr2, #29\n",
    " 8000356:\td1b6      \tbne.n\t80002c6 <main+0x52>\n",
    "                   (tmp32[3] == SIGNATURE4)){\n",
    "```\n",
    "\n",
    "This assembly code confirms the short-circuiting operation. Each of the four assembly blocks include a comparison and a conditional branch. All four of the conditional branches (`bne.n`) return the program to the same location (the start of the `while(1)` loop). All four branches must fail to get into the body of the if block.\n",
    "\n",
    "The short-circuiting conditions are perfect for us. We can use our power traces to watch how long it takes for the signature check to fail. If the check takes longer than usual, then we know that the first byte of our signature was right."
   ]
  },
  {
   "cell_type": "markdown",
   "metadata": {},
   "source": [
    "### Power Traces"
   ]
  },
  {
   "cell_type": "markdown",
   "metadata": {},
   "source": [
    "Our capture loop will be pretty similar to the one we used to break the IV, but now that we know the secret values of the encryption process we can make some improvements by encrypting the text that we send. This has two important advantages:\n",
    "\n",
    "1. We can control the signature. We could reuse the traces we took during the IV attack, but this way ensures that we hit each possible value once. It also simplifies the analysis, since we don't have to worry about decrypting the text we sent.\n",
    "1. We no longer have to reset after each attempt, since we know what the next IV is going to be (we do need to reset at the beginning to make sure we're on the same starting IV as the target). This speeds up the capture process considerably. \n",
    "\n",
    "To perform the AES256 CBC encryption, there's a few steps we need to take:\n",
    "\n",
    "1. XOR the IV with the text we want to send\n",
    "1. Encrypt this new text\n",
    "1. Set this cipher text as the new IV\n",
    "\n",
    "We can use PyCrypto again to make the encryption process easy and the other two steps are simple operations. We'll run our loop 256 times (one for each possible byte value) and assign that value to the byte we want to check. We're not quite sure where the check is happening, so we'll be safe and capture 24000 traces. Everthing else should look familiar from earlier parts of the tutorial:"
   ]
  },
  {
   "cell_type": "code",
   "execution_count": null,
   "metadata": {},
   "outputs": [],
   "source": [
    "from tqdm import tqdm\n",
    "import numpy as np\n",
    "from Crypto.Cipher import AES\n",
    "import time\n",
    "\n",
    "traces = []\n",
    "keys = []\n",
    "plaintexts = []\n",
    "\n",
    "iv = [0xC1, 0x25, 0x68, 0xDF, 0xE7, 0xD3, 0x19, 0xDA, 0x10, 0xE2, 0x41, 0x71, 0x33, 0xB0, 0xEB, 0x3C]\n",
    "\n",
    "knownkey = [0x94, 0x28, 0x5D, 0x4D, 0x6D, 0xCF, 0xEC, 0x08, 0xD8, 0xAC, 0xDD, 0xF6, 0xBE, 0x25, 0xA4, 0x99,\n",
    "            0xC4, 0xD9, 0xD0, 0x1E, 0xC3, 0x40, 0x7E, 0xD7, 0xD5, 0x28, 0xD4, 0x09, 0xE9, 0xF0, 0x88, 0xA1]\n",
    "\n",
    "knownkey = bytes(knownkey)\n",
    "aes = AES.new(knownkey, AES.MODE_ECB)\n",
    "N = 256 # Number of traces\n",
    "\n",
    "reset_target(scope)\n",
    "okay=0\n",
    "scope.adc.basic_mode = \"falling_edge\"\n",
    "while not okay:\n",
    "    target.ser.write(\"\\0xxxxxxxxxxxxxxxxxx\")\n",
    "    time.sleep(0.005)\n",
    "    num_char = target.ser.inWaiting()\n",
    "    response = target.ser.read(num_char)\n",
    "    if response:\n",
    "        if ord(response[0]) == 0xA1:\n",
    "            okay = 1\n",
    "\n",
    "scope.adc.samples = 24000\n",
    "scope.adc.offset = 0\n",
    "target.init()\n",
    "for byte in tqdm(range(N), desc='Attacking Signature Byte'):\n",
    "    message = [0x00]\n",
    "    text = [0] * 16\n",
    "    \n",
    "    # the 4 signature bytes\n",
    "    text[0] = byte\n",
    "    text[1] = 0\n",
    "    text[2] = 0\n",
    "    text[3] = 0\n",
    "    \n",
    "\n",
    "    num_char = target.ser.inWaiting()\n",
    "    target.ser.read(num_char)\n",
    "    \n",
    "    textcpy = [0] * 16\n",
    "    textcpy[:] = text[:]\n",
    "    plaintexts.append(textcpy)\n",
    "    \n",
    "    # Apply IV\n",
    "    for i in range(len(iv)):\n",
    "        text[i] ^= iv[i]\n",
    "    \n",
    "    # Encrypt text\n",
    "    ct = aes.encrypt(bytes(text))\n",
    "    \n",
    "    message.extend(ct)\n",
    "    \n",
    "    # Use ct as new IV\n",
    "    iv[:] = ct[:]\n",
    "    \n",
    "    crc = bl_crc.bit_by_bit(ct)\n",
    "    message.append(crc >> 8)\n",
    "    message.append(crc & 0xFF)\n",
    "\n",
    "    # run aux stuff that should run before the scope arms here\n",
    "\n",
    "    scope.arm()\n",
    "\n",
    "    # run aux stuff that should run after the scope arms here\n",
    "\n",
    "    target.ser.write(message)\n",
    "    timeout = 50\n",
    "    # wait for target to finish\n",
    "    while target.isDone() is False and timeout:\n",
    "        timeout -= 1\n",
    "        time.sleep(0.01)\n",
    "\n",
    "    try:\n",
    "        ret = scope.capture()\n",
    "        if ret:\n",
    "            print('Timeout happened during acquisition')\n",
    "            continue\n",
    "    except IOError as e:\n",
    "        print('IOError: %s' % str(e))\n",
    "\n",
    "    # run aux stuff that should happen after trace here\n",
    "    num_char = target.ser.inWaiting()\n",
    "    response = target.ser.read(num_char)\n",
    "    if ord(response[0]) != 0xA4:\n",
    "        # Bad response, just skip\n",
    "        print(\"Bad response: {:02X}\".format(ord(response[0])))\n",
    "        continue\n",
    "    \n",
    "    traces.append(scope.getLastTrace())"
   ]
  },
  {
   "cell_type": "markdown",
   "metadata": {},
   "source": [
    "### Analysis"
   ]
  },
  {
   "cell_type": "markdown",
   "metadata": {},
   "source": [
    "Now that we've captured our traces, the actual analysis is pretty simple. We're looking for a single trace that looks very different from the rest. A simple way to find this is to compare all the traces to a reference trace. We'll use the average of all the traces as our reference:"
   ]
  },
  {
   "cell_type": "code",
   "execution_count": null,
   "metadata": {},
   "outputs": [],
   "source": [
    "mean = np.average(traces, axis=0)"
   ]
  },
  {
   "cell_type": "markdown",
   "metadata": {},
   "source": [
    "That leaves us with comparing the traces. Let's start by plotting the difference between some of the traces and the mean:"
   ]
  },
  {
   "cell_type": "code",
   "execution_count": null,
   "metadata": {},
   "outputs": [],
   "source": [
    "from bokeh.plotting import figure, show\n",
    "from bokeh.io import output_notebook\n",
    "\n",
    "output_notebook()\n",
    "p = figure()\n",
    "colors = [\"red\", \"blue\", \"green\", \"yellow\"]\n",
    "for i in range(0,10):\n",
    "    p.line(range(len(traces[i])), traces[i]-mean, line_color=colors[i%4])\n",
    "        \n",
    "show(p)"
   ]
  },
  {
   "cell_type": "markdown",
   "metadata": {},
   "source": [
    "Depending on your target, you might have seen something like this:\n",
    "\n",
    "![](https://wiki.newae.com/images/2/25/Bokeh_plot_%285%29.png)\n",
    "\n",
    "Looks like we've found our trace! However, let's clean this up with some statistics. We can use the correlation coefficient to see which bytes are the furthest away from the average. We only want to take the correlation across where the plots differ, chose a subset of the plot where there's a large difference. In the case of the above picture, the difference starts at around 18k, and continues until the end. A range of 18000 to 20000 should work nicely:"
   ]
  },
  {
   "cell_type": "code",
   "execution_count": null,
   "metadata": {},
   "outputs": [],
   "source": [
    "corr = []\n",
    "for i in range(256):\n",
    "    corr.append(np.corrcoef(mean[18000:20000], traces[i][18000:20000])[0, 1])\n",
    "print(np.sort(corr))\n",
    "print(np.argsort(corr))"
   ]
  },
  {
   "cell_type": "markdown",
   "metadata": {},
   "source": [
    "This output tells us two things:\n",
    "\n",
    "* The first list says that almost every trace looks very similar to the overall mean (98% correlated or higher). However, there's one trace that is totally different, with 68% correlation. This is probably our correct guess.\n",
    "* The second list gives the signature guess that matches each of the above correlations. The first number in the list is 0x00, which is the correct signature!\n",
    "\n",
    "To finish this attack, change the capture loop to keep the first byte fixed and vary the second byte instead. Repeat this with the rest of the bytes and you should have the signature."
   ]
  },
  {
   "cell_type": "code",
   "execution_count": null,
   "metadata": {
    "scrolled": true
   },
   "outputs": [],
   "source": [
    "from tqdm import tqdm\n",
    "import numpy as np\n",
    "from Crypto.Cipher import AES\n",
    "import time\n",
    "\n",
    "traces = []\n",
    "keys = []\n",
    "plaintexts = []\n",
    "btldr_sig = [0] * 4\n",
    "\n",
    "iv = [0xC1, 0x25, 0x68, 0xDF, 0xE7, 0xD3, 0x19, 0xDA, 0x10, 0xE2, 0x41, 0x71, 0x33, 0xB0, 0xEB, 0x3C]\n",
    "\n",
    "knownkey = [0x94, 0x28, 0x5D, 0x4D, 0x6D, 0xCF, 0xEC, 0x08, 0xD8, 0xAC, 0xDD, 0xF6, 0xBE, 0x25, 0xA4, 0x99,\n",
    "            0xC4, 0xD9, 0xD0, 0x1E, 0xC3, 0x40, 0x7E, 0xD7, 0xD5, 0x28, 0xD4, 0x09, 0xE9, 0xF0, 0x88, 0xA1]\n",
    "\n",
    "knownkey = bytes(knownkey)\n",
    "aes = AES.new(knownkey, AES.MODE_ECB)\n",
    "N = 256 # Number of traces\n",
    "\n",
    "reset_target(scope)\n",
    "okay=0\n",
    "scope.adc.basic_mode = \"falling_edge\"\n",
    "while not okay:\n",
    "    target.ser.write(\"\\0xxxxxxxxxxxxxxxxxx\")\n",
    "    time.sleep(0.005)\n",
    "    num_char = target.ser.inWaiting()\n",
    "    response = target.ser.read(num_char)\n",
    "    if response:\n",
    "        if ord(response[0]) == 0xA1:\n",
    "            okay = 1\n",
    "            \n",
    "scope.adc.samples = 24000\n",
    "scope.adc.offset = 0\n",
    "target.init()\n",
    "for bnum in range(4):\n",
    "    traces = []\n",
    "    for byte in tqdm(range(N), desc='Attacking Signature Byte {}'.format(bnum)):\n",
    "        message = [0x00]\n",
    "        text = [0] * 16\n",
    "\n",
    "        # the 4 signature bytes\n",
    "        for j in range(bnum):\n",
    "            text[j] = btldr_sig[j]\n",
    "        text[bnum] = byte\n",
    "\n",
    "\n",
    "        num_char = target.ser.inWaiting()\n",
    "        target.ser.read(num_char)\n",
    "\n",
    "        textcpy = [0] * 16\n",
    "        textcpy[:] = text[:]\n",
    "        plaintexts.append(textcpy)\n",
    "\n",
    "        # Apply IV\n",
    "        for i in range(len(iv)):\n",
    "            text[i] ^= iv[i]\n",
    "\n",
    "        # Encrypt text\n",
    "        ct = aes.encrypt(bytes(text))\n",
    "\n",
    "        message.extend(ct)\n",
    "\n",
    "        # Use ct as new IV\n",
    "        iv[:] = ct[:]\n",
    "\n",
    "        crc = bl_crc.bit_by_bit(ct)\n",
    "        message.append(crc >> 8)\n",
    "        message.append(crc & 0xFF)\n",
    "\n",
    "        # run aux stuff that should run before the scope arms here\n",
    "\n",
    "        scope.arm()\n",
    "\n",
    "        # run aux stuff that should run after the scope arms here\n",
    "\n",
    "        target.ser.write(message)\n",
    "        timeout = 50\n",
    "        # wait for target to finish\n",
    "        while target.isDone() is False and timeout:\n",
    "            timeout -= 1\n",
    "            time.sleep(0.01)\n",
    "\n",
    "        try:\n",
    "            ret = scope.capture()\n",
    "            if ret:\n",
    "                print('Timeout happened during acquisition')\n",
    "                continue\n",
    "        except IOError as e:\n",
    "            print('IOError: %s' % str(e))\n",
    "\n",
    "        # run aux stuff that should happen after trace here\n",
    "        num_char = target.ser.inWaiting()\n",
    "        response = target.ser.read(num_char)\n",
    "        if ord(response[0]) != 0xA4:\n",
    "            # Bad response, just skip\n",
    "            print(\"Bad response: {:02X}\".format(ord(response[0])))\n",
    "            continue\n",
    "\n",
    "        traces.append(scope.getLastTrace())\n",
    "        \n",
    "    mean = np.average(traces, axis=0)\n",
    "    corr = []\n",
    "    for i in range(256):\n",
    "        corr.append(np.corrcoef(mean[18000:20000], traces[i][18000:20000])[0, 1])\n",
    "    btldr_sig[bnum] = np.argsort(corr)[0]"
   ]
  },
  {
   "cell_type": "code",
   "execution_count": null,
   "metadata": {},
   "outputs": [],
   "source": [
    "scope.dis()\n",
    "target.dis()"
   ]
  },
  {
   "cell_type": "markdown",
   "metadata": {},
   "source": [
    "## Conclusion"
   ]
  },
  {
   "cell_type": "markdown",
   "metadata": {},
   "source": [
    "We've now successfully recovered all of the secrets of the bootloader!"
   ]
  },
  {
   "cell_type": "markdown",
   "metadata": {},
   "source": [
    "## Tests"
   ]
  },
  {
   "cell_type": "code",
   "execution_count": 34,
   "metadata": {},
   "outputs": [],
   "source": [
    "real_btldr_key = [0x94, 0x28, 0x5D, 0x4D, 0x6D, 0xCF, 0xEC, 0x08, 0xD8, 0xAC, 0xDD, 0xF6, 0xBE, 0x25, 0xA4, 0x99, \\\n",
    "                    0xC4, 0xD9, 0xD0, 0x1E, 0xC3, 0x40, 0x7E, 0xD7, 0xD5, 0x28, 0xD4, 0x09, 0xE9, 0xF0, 0x88, 0xA1]\n",
    "\n",
    "real_btldr_IV = [0xC1, 0x25, 0x68, 0xDF, 0xE7, 0xD3, 0x19, 0xDA, 0x10, 0xE2, 0x41, 0x71, 0x33, 0xB0, 0xEB, 0x3C]\n",
    "\n",
    "real_btldr_sig = [0x00, 0xEB, 0x02, 0x1D]"
   ]
  },
  {
   "cell_type": "code",
   "execution_count": null,
   "metadata": {},
   "outputs": [],
   "source": [
    "assert (btldr_key == real_btldr_key), \"Attack on encryption key failed!\\nGot: {}\\nExpected: {}\".format(btldr_key, real_btldr_key)"
   ]
  },
  {
   "cell_type": "code",
   "execution_count": 35,
   "metadata": {},
   "outputs": [],
   "source": [
    "assert (btldr_IV == real_btldr_IV), \"Attack on IV failed!\\nGot: {}\\nExpected: {}\".format(btldr_IV, real_btldr_IV)"
   ]
  },
  {
   "cell_type": "code",
   "execution_count": null,
   "metadata": {},
   "outputs": [],
   "source": [
    "assert (btldr_sig == real_btldr_sig), \"Attack on signature failed!\\nGot: {}\\nExpected: {}\".format(btldr_sig, real_btldr_sig)"
   ]
  }
 ],
 "metadata": {
  "kernelspec": {
   "display_name": "Python 3",
   "language": "python",
   "name": "python3"
  },
  "language_info": {
   "codemirror_mode": {
    "name": "ipython",
    "version": 3
   },
   "file_extension": ".py",
   "mimetype": "text/x-python",
   "name": "python",
   "nbconvert_exporter": "python",
   "pygments_lexer": "ipython3",
   "version": "3.7.1"
  },
  "toc": {
   "base_numbering": 1,
   "nav_menu": {},
   "number_sections": true,
   "sideBar": true,
   "skip_h1_title": true,
   "title_cell": "Table of Contents",
   "title_sidebar": "Contents",
   "toc_cell": false,
   "toc_position": {
    "height": "calc(100% - 180px)",
    "left": "10px",
    "top": "150px",
    "width": "384px"
   },
   "toc_section_display": true,
   "toc_window_display": true
  }
 },
 "nbformat": 4,
 "nbformat_minor": 2
}
