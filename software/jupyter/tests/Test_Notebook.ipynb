{
 "cells": [
  {
   "cell_type": "code",
   "execution_count": null,
   "metadata": {},
   "outputs": [],
   "source": [
    "import os\n",
    "import subprocess\n",
    "import tempfile\n",
    "\n",
    "import nbformat\n",
    "\n",
    "def _notebook_run(path):\n",
    "    \"\"\"Execute a notebook via nbconvert and collect output.\n",
    "       :returns (parsed nb object, execution errors)\n",
    "    \"\"\"\n",
    "    with tempfile.NamedTemporaryFile(suffix=\".ipynb\") as fout:\n",
    "        args = [\"jupyter\", \"nbconvert\", \"--to\", \"notebook\", \"--execute\",\n",
    "                \"--ExecutePreprocessor.timeout=None\", \"--ExecutePreprocessor.allow_errors=True\",\n",
    "                \"--output\", fout.name, path]\n",
    "        subprocess.check_call(args)\n",
    "        fout.seek(0)\n",
    "        nb = nbformat.read(fout, nbformat.current_nbformat)\n",
    "\n",
    "    errors = [[i+1,output] for i,cell in enumerate(nb.cells) if \"outputs\" in cell\n",
    "                    for output in cell[\"outputs\"]\\\n",
    "                            if output.output_type == \"error\"]\n",
    "\n",
    "    return nb, errors\n",
    "\n",
    "def _print_tracebacks(errors):\n",
    "    for error in errors:\n",
    "        print(\"Test failed in cell {}: {}: {}\".format(error[0], error[1]['ename'], error[1]['evalue']))\n",
    "        for line in error[1]['traceback']:\n",
    "            print(line)\n",
    "            \n",
    "def _get_outputs(nb):\n",
    "    return [[i,cell] for i,cell in enumerate(nb.cells) if \"outputs\" in cell]\n",
    "    \n",
    "def _print_stderr(nb):\n",
    "    outputs = _get_outputs(nb)\n",
    "    printed_output = [[cell[0], output] for cell in outputs for output in cell[1]['outputs'] if ('name' in output and output['name'] == 'stderr')]\n",
    "    for out in printed_output:\n",
    "        print(\"[{}]:\\n{}\".format(out[0], out[1]['text']))\n",
    "    "
   ]
  },
  {
   "cell_type": "code",
   "execution_count": null,
   "metadata": {},
   "outputs": [],
   "source": [
    "%%bash\n",
    "cd ../../../hardware/victims/firmware\n",
    "rm -rf simpleserial-base-lab*\n",
    "rm -rf glitch-simple-lab*\n",
    "rm -rf simpleserial-aes-lab*"
   ]
  },
  {
   "cell_type": "code",
   "execution_count": null,
   "metadata": {},
   "outputs": [],
   "source": [
    "nb, errors = _notebook_run('../Lab 2-1 Firmware Build Setup.ipynb')\n",
    "_print_tracebacks(errors)\n",
    "_print_stderr(nb)"
   ]
  },
  {
   "cell_type": "code",
   "execution_count": null,
   "metadata": {},
   "outputs": [],
   "source": [
    "nb, errors = _notebook_run('../Lab 2-2 Instruction Differences.ipynb')\n",
    "_print_tracebacks(errors)\n",
    "_print_stderr(nb)"
   ]
  },
  {
   "cell_type": "code",
   "execution_count": null,
   "metadata": {},
   "outputs": [],
   "source": [
    "nb, errors = _notebook_run('../Lab 3-1 Hamming Weight measurement')\n",
    "_print_tracebacks(errors)\n",
    "_print_stderr(nb)"
   ]
  },
  {
   "cell_type": "code",
   "execution_count": null,
   "metadata": {},
   "outputs": [],
   "source": [
    "nb, errors = _notebook_run('../Lab 3-2 Large HW Swings')\n",
    "_print_tracebacks(errors)\n",
    "_print_stderr(nb)"
   ]
  },
  {
   "cell_type": "code",
   "execution_count": null,
   "metadata": {},
   "outputs": [],
   "source": [
    "nb, errors = _notebook_run('../Lab 3-3 Using CW-Analyzer for CPA Attack.ipynb')\n",
    "_print_tracebacks(errors)\n",
    "_print_stderr(nb)"
   ]
  },
  {
   "cell_type": "code",
   "execution_count": null,
   "metadata": {},
   "outputs": [],
   "source": [
    "nb, errors = _notebook_run('../Lab 3-4 Manual CPA Attack.ipynb')\n",
    "_print_tracebacks(errors)\n",
    "_print_stderr(nb)"
   ]
  },
  {
   "cell_type": "code",
   "execution_count": null,
   "metadata": {},
   "outputs": [],
   "source": [
    "nb, errors = _notebook_run('../Lab 3-5 Resynchronizing Data Traces for AES.ipynb')\n",
    "_print_tracebacks(errors)\n",
    "_print_stderr(nb)"
   ]
  },
  {
   "cell_type": "code",
   "execution_count": null,
   "metadata": {},
   "outputs": [],
   "source": [
    "nb, errors = _notebook_run('../Tutorial A2 (Introduction to Glitch Attacks).ipynb')\n",
    "_print_tracebacks(errors)\n",
    "_print_stderr(nb)"
   ]
  },
  {
   "cell_type": "code",
   "execution_count": null,
   "metadata": {
    "scrolled": true
   },
   "outputs": [],
   "source": [
    "nb, errors = _notebook_run('../Tutorial A5 (Breaking AES-256 Bootloader).ipynb')\n",
    "_print_tracebacks(errors)\n",
    "_print_stderr(nb)"
   ]
  },
  {
   "cell_type": "code",
   "execution_count": null,
   "metadata": {},
   "outputs": [],
   "source": [
    "nb, errors = _notebook_run('../Tutorial A7 (Glitch Buffer Attacks).ipynb')\n",
    "_print_tracebacks(errors)\n",
    "_print_stderr(nb)"
   ]
  },
  {
   "cell_type": "code",
   "execution_count": null,
   "metadata": {},
   "outputs": [],
   "source": [
    "nb, errors = _notebook_run('../Tutorial A8 (32bit AES).ipynb')\n",
    "_print_tracebacks(errors)\n",
    "_print_stderr(nb)"
   ]
  },
  {
   "cell_type": "code",
   "execution_count": null,
   "metadata": {},
   "outputs": [],
   "source": [
    "nb, errors = _notebook_run('../Tutorial B3 (Timing Analysis with Power for Password Bypass).ipynb')\n",
    "_print_tracebacks(errors)\n",
    "_print_stderr(nb)"
   ]
  }
 ],
 "metadata": {
  "kernelspec": {
   "display_name": "Python 3",
   "language": "python",
   "name": "python3"
  },
  "language_info": {
   "codemirror_mode": {
    "name": "ipython",
    "version": 3
   },
   "file_extension": ".py",
   "mimetype": "text/x-python",
   "name": "python",
   "nbconvert_exporter": "python",
   "pygments_lexer": "ipython3",
   "version": "3.6.6"
  },
  "toc": {
   "base_numbering": 1,
   "nav_menu": {},
   "number_sections": true,
   "sideBar": true,
   "skip_h1_title": false,
   "title_cell": "Table of Contents",
   "title_sidebar": "Contents",
   "toc_cell": false,
   "toc_position": {},
   "toc_section_display": true,
   "toc_window_display": false
  }
 },
 "nbformat": 4,
 "nbformat_minor": 2
}
