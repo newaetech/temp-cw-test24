{
 "cells": [
  {
   "cell_type": "markdown",
   "metadata": {
    "heading_collapsed": true
   },
   "source": [
    "# Tutorial A5 (Breaking AES-256 Bootloader)"
   ]
  },
  {
   "cell_type": "markdown",
   "metadata": {
    "hidden": true
   },
   "source": [
    "This tutorial will take you through a complete attack on an encrypted bootloader using AES-256. This demonstrates how to use side-channel power analysis on practical systems, along with discussing how to perform analysis with different Analyzer models."
   ]
  },
  {
   "cell_type": "markdown",
   "metadata": {
    "heading_collapsed": true,
    "hidden": true
   },
   "source": [
    "## Background"
   ]
  },
  {
   "cell_type": "markdown",
   "metadata": {
    "hidden": true
   },
   "source": [
    "In the world of microcontrollers, a bootloader is a special piece of firmware that is made to let the user upload new programs into memory. This is especially useful for devices with complex code that may need to be patched or otherwise updated in the future - a bootloader makes it possible for the user to upload a patched version of the firmware onto the micro. The bootloader receives information from a communication line (a USB port, serial port, ethernet port, WiFi connection, etc...) and stores this data into program memory. Once the full firmware has been received, the micro can happily run its updated code.\n",
    "\n",
    "There is one big security issue to worry about with bootloaders. A company may want to stop their customers from writing their own firmware and uploading it onto the micro. For example, this might be for protection reasons - hackers might be able to access parts of the device that weren't meant to be accessed. One way of stopping this is to add encryption. The company can add their own secret signature to the firmware code and encrypt it with a secret key. Then, the bootloader can decrypt the incoming firmware and confirm that the incoming firmware is correctly signed. Users will not know the secret key or the signature tied to the firmware, so they won't be able to \"fake\" their own.\n",
    "\n",
    "This tutorial will work with a simple AES-256 bootloader. The victim will receive data through a serial connection, decrypt the command, and confirm that the included signature is correct. Then, it will only save the code into memory if the signature check succeeded. To make this system more robust against attacks, the bootloader will use cipher-block chaining (CBC mode). Our goal is to find the secret key and the CBC initialization vector so that we could successfully fake our own firmware."
   ]
  },
  {
   "cell_type": "markdown",
   "metadata": {
    "heading_collapsed": true,
    "hidden": true
   },
   "source": [
    "### Bootloader Communications Protocol"
   ]
  },
  {
   "cell_type": "markdown",
   "metadata": {
    "hidden": true
   },
   "source": [
    "The bootloader's communications protocol operates over a serial port at 38400 baud rate. The bootloader is always waiting for new data to be sent in this example; in real life one would typically force the bootloader to enter through a command sequence.\n",
    "\n",
    "Commands sent to the bootloader look as follows:\n",
    "\n",
    "```\n",
    "       |<-------- Encrypted block (16 bytes) ---------->|\n",
    "       |                                                |\n",
    "+------+------+------+------+------+------+ .... +------+------+------+\n",
    "| 0x00 |    Signature (4 Bytes)    |  Data (12 Bytes)   |   CRC-16    |\n",
    "+------+------+------+------+------+------+ .... +------+------+------+\n",
    "```\n",
    "\n",
    "This frame has four parts:\n",
    "\n",
    "* `0x00`: 1 byte of fixed header\n",
    "* Signature: A secret 4 byte constant. The bootloader will confirm that this signature is correct after decrypting the frame.\n",
    "* Data: 12 bytes of the incoming firmware. This system forces us to send the code 12 bytes at a time; more complete bootloaders may allow longer variable-length frames.\n",
    "* CRC-16: A 16-bit checksum using the CRC-CCITT polynomial (0x1021). The LSB of the CRC is sent first, followed by the MSB. The bootloader will reply over the serial port, describing whether or not this CRC check was valid.\n",
    "\n",
    "As described in the diagram, the 16 byte block is not sent as plaintext. Instead, it is encrypted using AES-256 in CBC mode. This encryption method will be described in the next section.\n",
    "\n",
    "The bootloader responds to each command with a single byte indicating if the CRC-16 was OK or not:\n",
    "\n",
    "```\n",
    "            +------+\n",
    "CRC-OK:     | 0xA1 |\n",
    "            +------+\n",
    "\n",
    "            +------+\n",
    "CRC Failed: | 0xA4 |\n",
    "            +------+\n",
    "```\n",
    "Then, after replying to the command, the bootloader veries that the signature is correct. If it matches the expected manufacturer's signature, the 12 bytes of data will be written to flash memory. Otherwise, the data is discarded."
   ]
  },
  {
   "cell_type": "markdown",
   "metadata": {
    "heading_collapsed": true,
    "hidden": true
   },
   "source": [
    "### Details of AES-256 CBC"
   ]
  },
  {
   "cell_type": "markdown",
   "metadata": {
    "hidden": true
   },
   "source": [
    "The system uses the AES algorithm in Cipher Block Chaining (CBC) mode. In general one avoids using encryption 'as-is' (i.e. Electronic Code Book), since it means any piece of plaintext always maps to the same piece of ciphertext. Cipher Block Chaining ensures that if you encrypted the same thing a bunch of times it would always encrypt to a new piece of ciphertext.\n",
    "\n",
    "You can see another reference on the design of the encryption side; we'll be only talking about the decryption side here. In this case AES-256 CBC mode is used as follows, where the details of the AES-256 Decryption block will be discussed in detail later:\n",
    "\n",
    "![AES-256](https://wiki.newae.com/images/8/88/Aes256_cbc.png)\n",
    "\n",
    "This diagram shows that the output of the decryption is no longer used directly as the plaintext. Instead, the output is XORed with a 16 byte mask, which is usually taken from the previous ciphertext. Also, the first decryption block has no previous ciphertext to use, so a secret initialization vector (IV) is used instead. If we are going to decrypt the entire ciphertext (including block 0) or correctly generate our own ciphertext, we'll need to find this IV along with the AES key."
   ]
  },
  {
   "cell_type": "markdown",
   "metadata": {
    "heading_collapsed": true,
    "hidden": true
   },
   "source": [
    "### Attacking AES-256"
   ]
  },
  {
   "cell_type": "markdown",
   "metadata": {
    "hidden": true
   },
   "source": [
    "The system in this tutorial uses AES-256 encryption, which has a 256 bit (32 byte) key - twice as large as the 16 byte key we've attacked in previous tutorials. This means that our regular AES-128 CPA attacks won't quite work. However, extending these attacks to AES-256 is fairly straightforward: the theory is explained in detail in Extending AES-128 Attacks to AES-256.\n",
    "\n",
    "As the theory page explains, our AES-256 attack will have 4 steps:\n",
    "\n",
    "1. Perform a standard attack (as in AES-128 decryption) to determine the first 16 bytes of the key, corresponding to the 14th round encryption key.\n",
    "1. Using the known 14th round key, calculate the hypothetical outputs of each S-Box from the 13th round using the ciphertext processed by the 14th round, and determine the 16 bytes of the 13th round key manipulated by inverse MixColumns.\n",
    "1. Perform the MixColumns and ShiftRows operation on the hypothetical key determined above, recovering the 13th round key.\n",
    "1. Using the AES-256 key schedule, reverse the 13th and 14th round keys to determine the original AES-256 encryption key."
   ]
  },
  {
   "cell_type": "markdown",
   "metadata": {
    "heading_collapsed": true,
    "hidden": true
   },
   "source": [
    "## Firmware"
   ]
  },
  {
   "cell_type": "markdown",
   "metadata": {
    "hidden": true
   },
   "source": [
    "For this tutorial, we'll be using the `bootloader-aes256` project, which we'll build as usual:"
   ]
  },
  {
   "cell_type": "code",
   "execution_count": null,
   "metadata": {
    "hidden": true
   },
   "outputs": [],
   "source": [
    "PLATFORM = \"CWLITEARM\"\n",
    "CRYPTO_TARGET=\"NONE\""
   ]
  },
  {
   "cell_type": "code",
   "execution_count": null,
   "metadata": {
    "hidden": true
   },
   "outputs": [],
   "source": [
    "%%bash -s \"$PLATFORM\" \"$CRYPTO_TARGET\"\n",
    "cd ../../hardware/victims/firmware/bootloader-aes256\n",
    "make PLATFORM=$1 CRYPTO_TARGET=$2"
   ]
  },
  {
   "cell_type": "markdown",
   "metadata": {
    "heading_collapsed": true,
    "hidden": true
   },
   "source": [
    "## Capturing Traces"
   ]
  },
  {
   "cell_type": "markdown",
   "metadata": {
    "heading_collapsed": true,
    "hidden": true
   },
   "source": [
    "### Setup"
   ]
  },
  {
   "cell_type": "markdown",
   "metadata": {
    "hidden": true
   },
   "source": [
    "To start, we'll proceed with setup as usual:"
   ]
  },
  {
   "cell_type": "code",
   "execution_count": null,
   "metadata": {
    "hidden": true
   },
   "outputs": [],
   "source": [
    "%run \"Helper Scripts/CWLite_Connect.ipynb\""
   ]
  },
  {
   "cell_type": "code",
   "execution_count": null,
   "metadata": {
    "hidden": true
   },
   "outputs": [],
   "source": [
    "%run \"Helper Scripts/Setup_Target_Generic.ipynb\""
   ]
  },
  {
   "cell_type": "code",
   "execution_count": null,
   "metadata": {
    "hidden": true
   },
   "outputs": [],
   "source": [
    "# uncomment based on your target\n",
    "fw_path = \"../../hardware/victims/firmware/bootloader-aes256/bootloader-aes256-CWLITEARM.hex\"\n",
    "#%run \"Helper Scripts/Program_XMEGA.ipynb\"\n",
    "%run \"Helper Scripts/Program_STM.ipynb\"\n",
    "#%run \"Helper Scripts/No_Programmer.ipynb\""
   ]
  },
  {
   "cell_type": "code",
   "execution_count": null,
   "metadata": {
    "hidden": true
   },
   "outputs": [],
   "source": [
    "program_target(scope, fw_path)"
   ]
  },
  {
   "cell_type": "markdown",
   "metadata": {
    "heading_collapsed": true,
    "hidden": true
   },
   "source": [
    "### Calculating the CRC"
   ]
  },
  {
   "cell_type": "markdown",
   "metadata": {
    "hidden": true
   },
   "source": [
    "The next step we'll need to take in attacking this target is to communicate with it. Most of the transmission is fairly straight forward, but the CRC is a little tricky. Luckily, there's a lot of open source out there for calculating CRCs. In this case, we'll pull some code from pycrc:"
   ]
  },
  {
   "cell_type": "code",
   "execution_count": null,
   "metadata": {
    "hidden": true
   },
   "outputs": [],
   "source": [
    "# Class Crc\n",
    "#############################################################\n",
    "# These CRC routines are copy-pasted from pycrc, which are:\n",
    "# Copyright (c) 2006-2013 Thomas Pircher <tehpeh@gmx.net>\n",
    "#\n",
    "class Crc(object):\n",
    "    \"\"\"\n",
    "    A base class for CRC routines.\n",
    "    \"\"\"\n",
    "\n",
    "    def __init__(self, width, poly):\n",
    "        \"\"\"The Crc constructor.\n",
    "\n",
    "        The parameters are as follows:\n",
    "            width\n",
    "            poly\n",
    "            reflect_in\n",
    "            xor_in\n",
    "            reflect_out\n",
    "            xor_out\n",
    "        \"\"\"\n",
    "        self.Width = width\n",
    "        self.Poly = poly\n",
    "\n",
    "\n",
    "        self.MSB_Mask = 0x1 << (self.Width - 1)\n",
    "        self.Mask = ((self.MSB_Mask - 1) << 1) | 1\n",
    "\n",
    "        self.XorIn = 0x0000\n",
    "        self.XorOut = 0x0000\n",
    "\n",
    "        self.DirectInit = self.XorIn\n",
    "        self.NonDirectInit = self.__get_nondirect_init(self.XorIn)\n",
    "        if self.Width < 8:\n",
    "            self.CrcShift = 8 - self.Width\n",
    "        else:\n",
    "            self.CrcShift = 0\n",
    "\n",
    "    def __get_nondirect_init(self, init):\n",
    "        \"\"\"\n",
    "        return the non-direct init if the direct algorithm has been selected.\n",
    "        \"\"\"\n",
    "        crc = init\n",
    "        for i in range(self.Width):\n",
    "            bit = crc & 0x01\n",
    "            if bit:\n",
    "                crc ^= self.Poly\n",
    "            crc >>= 1\n",
    "            if bit:\n",
    "                crc |= self.MSB_Mask\n",
    "        return crc & self.Mask\n",
    "\n",
    "\n",
    "    def bit_by_bit(self, in_data):\n",
    "        \"\"\"\n",
    "        Classic simple and slow CRC implementation.  This function iterates bit\n",
    "        by bit over the augmented input message and returns the calculated CRC\n",
    "        value at the end.\n",
    "        \"\"\"\n",
    "        # If the input data is a string, convert to bytes.\n",
    "        if isinstance(in_data, str):\n",
    "            in_data = [ord(c) for c in in_data]\n",
    "\n",
    "        register = self.NonDirectInit\n",
    "        for octet in in_data:\n",
    "            for i in range(8):\n",
    "                topbit = register & self.MSB_Mask\n",
    "                register = ((register << 1) & self.Mask) | ((octet >> (7 - i)) & 0x01)\n",
    "                if topbit:\n",
    "                    register ^= self.Poly\n",
    "\n",
    "        for i in range(self.Width):\n",
    "            topbit = register & self.MSB_Mask\n",
    "            register = ((register << 1) & self.Mask)\n",
    "            if topbit:\n",
    "                register ^= self.Poly\n",
    "\n",
    "        return register ^ self.XorOut\n",
    "    \n",
    "bl_crc = Crc(width = 16, poly=0x1021)"
   ]
  },
  {
   "cell_type": "markdown",
   "metadata": {
    "hidden": true
   },
   "source": [
    "Now we can easily get the CRC for our message by calling `bl_crc.bit_by_bit(message)`. "
   ]
  },
  {
   "cell_type": "markdown",
   "metadata": {
    "heading_collapsed": true,
    "hidden": true
   },
   "source": [
    "### Communicating with the Bootloader"
   ]
  },
  {
   "cell_type": "markdown",
   "metadata": {
    "hidden": true
   },
   "source": [
    "With that done, we can start communicating with the bootloader. Recall that the bootloader expects:\n",
    "* To start with `0x00`\n",
    "* A 16 byte encrypted message (4 bytes signature + 12 bytes data)\n",
    "* CRC16\n",
    "\n",
    "We don't really care what the 16 byte message is (just that each is different so that we get a variety of hamming weights), so we'll use the same text/key module from earlier attacks.\n",
    "\n",
    "We can now run the following block, and we should get `0xA4` back. You may need to run this block a few times to get the right response back."
   ]
  },
  {
   "cell_type": "code",
   "execution_count": null,
   "metadata": {
    "hidden": true
   },
   "outputs": [],
   "source": [
    "from chipwhisperer.capture.acq_patterns.basic import AcqKeyTextPattern_Basic\n",
    "import time\n",
    "message = [0x00]\n",
    "ktp = AcqKeyTextPattern_Basic(target=target)\n",
    "\n",
    "# clear serial buffer\n",
    "num_char = target.ser.inWaiting()\n",
    "print(target.ser.read(num_char))\n",
    "\n",
    "key, text = ktp.newPair() #don't care about key here\n",
    "message.extend(text)\n",
    "\n",
    "crc = bl_crc.bit_by_bit(text)\n",
    "\n",
    "message.append(crc >> 8)\n",
    "message.append(crc & 0xFF)\n",
    "\n",
    "target.ser.write(message)\n",
    "time.sleep(0.1)\n",
    "\n",
    "num_char = target.ser.inWaiting()\n",
    "response = target.ser.read(num_char)\n",
    "print(\"Response: {:02X}\".format(ord(response[0])))"
   ]
  },
  {
   "cell_type": "markdown",
   "metadata": {
    "heading_collapsed": true,
    "hidden": true
   },
   "source": [
    "### Capturing Traces"
   ]
  },
  {
   "cell_type": "markdown",
   "metadata": {
    "hidden": true
   },
   "source": [
    "With that out of the way, we can proceed to capturing our traces. The normal 5000 traces we capture isn't long enough to get the rounds we care about, so we'll need to increase it (11000 should be fine):"
   ]
  },
  {
   "cell_type": "code",
   "execution_count": null,
   "metadata": {
    "hidden": true
   },
   "outputs": [],
   "source": [
    "scope.adc.samples = 11000"
   ]
  },
  {
   "cell_type": "markdown",
   "metadata": {
    "hidden": true
   },
   "source": [
    "We'll be working with Analyzer, so we'll need to use a ChipWhisperer project to store our traces and text:"
   ]
  },
  {
   "cell_type": "code",
   "execution_count": null,
   "metadata": {
    "hidden": true
   },
   "outputs": [],
   "source": [
    "from chipwhisperer.common.api.ProjectFormat import ProjectFormat\n",
    "project = ProjectFormat()\n",
    "project.setFilename(\"jupyter_test\")\n",
    "tc = project.getTraceFormat()\n",
    "ktp = AcqKeyTextPattern_Basic(target=target)"
   ]
  },
  {
   "cell_type": "markdown",
   "metadata": {
    "hidden": true
   },
   "source": [
    "Below you'll find our capture loop. This will be pretty similar to Tutorial B5, but we've added our communication code. We also check the response and just skip the data we get if it isn't correct."
   ]
  },
  {
   "cell_type": "code",
   "execution_count": null,
   "metadata": {
    "hidden": true
   },
   "outputs": [],
   "source": [
    "#Capture Traces\n",
    "from tqdm import tqdm\n",
    "from chipwhisperer.capture.acq_patterns.basic import AcqKeyTextPattern_Basic\n",
    "import numpy as np\n",
    "import time\n",
    "keys = []\n",
    "N = 100  # Number of traces\n",
    "target.init()\n",
    "for i in tqdm(range(N), desc='Capturing traces'):\n",
    "    message = [0x00]\n",
    "    \n",
    "    num_char = target.ser.inWaiting()\n",
    "    target.ser.read(num_char)\n",
    "    \n",
    "    key, text = ktp.newPair()  # manual creation of a key, text pair can be substituted here\n",
    "    keys.append(key)\n",
    "    \n",
    "    message.extend(text)\n",
    "    \n",
    "    crc = bl_crc.bit_by_bit(text)\n",
    "    message.append(crc >> 8)\n",
    "    message.append(crc & 0xFF)\n",
    "\n",
    "    # run aux stuff that should run before the scope arms here\n",
    "\n",
    "    scope.arm()\n",
    "\n",
    "    # run aux stuff that should run after the scope arms here\n",
    "\n",
    "    target.ser.write(message)\n",
    "    timeout = 50\n",
    "    # wait for target to finish\n",
    "    while target.isDone() is False and timeout:\n",
    "        timeout -= 1\n",
    "        time.sleep(0.01)\n",
    "\n",
    "    try:\n",
    "        ret = scope.capture()\n",
    "        if ret:\n",
    "            print('Timeout happened during acquisition')\n",
    "    except IOError as e:\n",
    "        print('IOError: %s' % str(e))\n",
    "\n",
    "    # run aux stuff that should happen after trace here\n",
    "    num_char = target.ser.inWaiting()\n",
    "    response = target.ser.read(num_char)\n",
    "    if ord(response[0]) != 0xA4:\n",
    "        # Bad response, just skip\n",
    "        print(\"Bad response: {:02X}\".format(ord(response[0])))\n",
    "        continue\n",
    "    \n",
    "    tc.addTrace(scope.getLastTrace(), text, \"\", key)\n",
    "    \n",
    "tc._isloaded = True\n",
    "project.traceManager().appendSegment(tc)"
   ]
  },
  {
   "cell_type": "markdown",
   "metadata": {
    "hidden": true
   },
   "source": [
    "With that, we're done with capturing traces! We can now disconnect from the hardware:"
   ]
  },
  {
   "cell_type": "code",
   "execution_count": null,
   "metadata": {
    "hidden": true
   },
   "outputs": [],
   "source": [
    "scope.dis()\n",
    "target.dis()"
   ]
  },
  {
   "cell_type": "markdown",
   "metadata": {
    "heading_collapsed": true,
    "hidden": true
   },
   "source": [
    "## Analysis"
   ]
  },
  {
   "cell_type": "markdown",
   "metadata": {
    "hidden": true
   },
   "source": [
    "Now that we have our traces, we can go ahead and perform the attack. As described in the background theory, we'll have to do two attacks - one to get the 14th round key, and another (using the first result) to get the 13th round key. Then, we'll do some post-processing to finally get the 256 bit encryption key."
   ]
  },
  {
   "cell_type": "markdown",
   "metadata": {
    "heading_collapsed": true,
    "hidden": true
   },
   "source": [
    "### 14th Round Key"
   ]
  },
  {
   "cell_type": "markdown",
   "metadata": {
    "hidden": true
   },
   "source": [
    "We can attack the 14th round key with a standard, no-frills CPA attack (using the inverse sbox, since it's a decryption that we're breaking):"
   ]
  },
  {
   "cell_type": "code",
   "execution_count": null,
   "metadata": {
    "hidden": true
   },
   "outputs": [],
   "source": [
    "import chipwhisperer as cw\n",
    "from chipwhisperer.analyzer.attacks.cpa import CPA\n",
    "from chipwhisperer.analyzer.attacks.cpa_algorithms.progressive import CPAProgressive\n",
    "from chipwhisperer.analyzer.attacks.models.AES128_8bit import AES128_8bit, InvSBox_output\n",
    "\n",
    "tm = project.traceManager()\n",
    "\n",
    "attack = CPA()\n",
    "leak_model = AES128_8bit(InvSBox_output)\n",
    "attack.setAnalysisAlgorithm(CPAProgressive, leak_model)\n",
    "attack.setTraceSource(tm)\n",
    "attack.setTraceStart(0)\n",
    "attack.setTracesPerAttack(tm.numTraces())\n",
    "attack.setIterations(1)\n",
    "attack.setReportingInterval(10)\n",
    "attack.setTargetSubkeys([0, 1, 2, 3, 4, 5, 6, 7, 8, 9, 10, 11, 12, 13, 14, 15])"
   ]
  },
  {
   "cell_type": "markdown",
   "metadata": {
    "hidden": true
   },
   "source": [
    "With the setup done, we can actually preform the attack. 11000 samples is a rather large amount to chew through, so if you want a faster attack you can use a smaller range in `attack.setPointRange()`. `(2900, 4200)` will work for XMEGA, while `(1400, 2600)` will work for the STM32F3 (CWLite ARM)."
   ]
  },
  {
   "cell_type": "code",
   "execution_count": null,
   "metadata": {
    "hidden": true
   },
   "outputs": [],
   "source": [
    "attack.setPointRange((0, -1))\n",
    "stats = attack.processTracesNoGUI()"
   ]
  },
  {
   "cell_type": "markdown",
   "metadata": {
    "hidden": true
   },
   "source": [
    "Below you'll find the key that we should recover from this attack. You may want to check what we actually get against this key to make sure the attack is working."
   ]
  },
  {
   "cell_type": "code",
   "execution_count": null,
   "metadata": {
    "hidden": true
   },
   "outputs": [],
   "source": [
    "key = [0xea, 0x79, 0x79, 0x20, 0xc8, 0x71, 0x44, 0x7d, 0x46, 0x62, 0x5f, 0x51, 0x85, 0xc1, 0x3b, 0xcb]\n",
    "#key = keys[0]"
   ]
  },
  {
   "cell_type": "code",
   "execution_count": null,
   "metadata": {
    "hidden": true
   },
   "outputs": [],
   "source": [
    "rec_key = []\n",
    "for bnum in stats.findMaximums():\n",
    "    print(\"Best Guess = 0x{:02X} Corr = {}\".format(bnum[0][0], bnum[0][2]))\n",
    "    rec_key.append(bnum[0][0])"
   ]
  },
  {
   "cell_type": "markdown",
   "metadata": {
    "heading_collapsed": true,
    "hidden": true
   },
   "source": [
    "### 13th Round Key"
   ]
  },
  {
   "cell_type": "markdown",
   "metadata": {
    "hidden": true
   },
   "source": [
    "Analyzer doesn't have a leakage model for the 13th round key built in, so we'll need to create our own. An example class is shown below along with the beginning of the setup. **NOTE: You'll need to update `calc_round_key` with the key you found in the last step**"
   ]
  },
  {
   "cell_type": "code",
   "execution_count": null,
   "metadata": {
    "hidden": true
   },
   "outputs": [],
   "source": [
    "import chipwhisperer as cw\n",
    "from chipwhisperer.analyzer.attacks.cpa import CPA\n",
    "from chipwhisperer.analyzer.attacks.cpa_algorithms.progressive import CPAProgressive\n",
    "from chipwhisperer.analyzer.attacks.models.AES128_8bit import AES128_8bit, AESLeakageHelper\n",
    "from chipwhisperer.analyzer.preprocessing.resync_sad import ResyncSAD\n",
    "\n",
    "class AES256_Round13_Model(AESLeakageHelper):\n",
    "    def leakage(self, pt, ct, guess, bnum):\n",
    "        #You must put YOUR recovered 14th round key here - this example may not be accurate!\n",
    "        calc_round_key = [0xea, 0x79, 0x79, 0x20, 0xc8, 0x71, 0x44, 0x7d, 0x46, 0x62, 0x5f, 0x51, 0x85, 0xc1, 0x3b, 0xcb]\n",
    "        xored = [calc_round_key[i] ^ pt[i] for i in range(0, 16)]\n",
    "        block = xored\n",
    "        block = self.inv_shiftrows(block)\n",
    "        block = self.inv_subbytes(block)\n",
    "        block = self.inv_mixcolumns(block)\n",
    "        block = self.inv_shiftrows(block)\n",
    "        result = block\n",
    "        return self.inv_sbox((result[bnum] ^ guess[bnum]))\n",
    "    \n",
    "attack = CPA()\n",
    "leak_model = AES128_8bit(AES256_Round13_Model)\n",
    "attack.setAnalysisAlgorithm(CPAProgressive, leak_model)\n",
    "attack.setTraceSource(tm)"
   ]
  },
  {
   "cell_type": "markdown",
   "metadata": {
    "heading_collapsed": true,
    "hidden": true
   },
   "source": [
    "#### Resyncing Traces (XMEGA Only)"
   ]
  },
  {
   "cell_type": "markdown",
   "metadata": {
    "hidden": true
   },
   "source": [
    "The traces for the XMEGA version of the firmware become desynced around sample 7000. This is due to a non-constant AES implementation: the code does not always take the same amount of time to run for every input. (It's actually possible to do a timing attack on this AES implementation! We'll stick with our CPA attack for now.)\n",
    "\n",
    "While this does open up a timing attack, it actually makes our AES attack a little harder, since we'll have to resync the traces. Luckily, this can be done pretty easily by using the ResyncSAD preprocessing module:"
   ]
  },
  {
   "cell_type": "code",
   "execution_count": null,
   "metadata": {
    "hidden": true
   },
   "outputs": [],
   "source": [
    "resync_traces = ResyncSAD(tm)\n",
    "resync_traces.enabled = True\n",
    "resync_traces.ref_trace = 0\n",
    "resync_traces.target_window = (9100, 9300)\n",
    "resync_traces.max_shift = 200\n",
    "attack.setTraceSource(resync_traces)"
   ]
  },
  {
   "cell_type": "markdown",
   "metadata": {
    "heading_collapsed": true,
    "hidden": true
   },
   "source": [
    "#### Running the Attack"
   ]
  },
  {
   "cell_type": "markdown",
   "metadata": {
    "hidden": true
   },
   "source": [
    "Like in the 14th round attack, we can use a smaller range of points to make the attack faster. `(8000,10990)` works well for the XMEGA, while `(6500, 8500)` works well for the STM32F3."
   ]
  },
  {
   "cell_type": "code",
   "execution_count": null,
   "metadata": {
    "hidden": true
   },
   "outputs": [],
   "source": [
    "attack.setTraceStart(0)\n",
    "attack.setTracesPerAttack(tm.numTraces())\n",
    "attack.setIterations(1)\n",
    "attack.setReportingInterval(10)\n",
    "attack.setTargetSubkeys([0, 1, 2, 3, 4, 5, 6, 7, 8, 9, 10, 11, 12, 13, 14, 15])\n",
    "attack.setPointRange((0,-1))\n",
    "stats = attack.processTracesNoGUI()"
   ]
  },
  {
   "cell_type": "markdown",
   "metadata": {
    "hidden": true
   },
   "source": [
    "You can run the block below and the correct key should be printed out:"
   ]
  },
  {
   "cell_type": "code",
   "execution_count": null,
   "metadata": {
    "hidden": true
   },
   "outputs": [],
   "source": [
    "rec_key2 = []\n",
    "for bnum in stats.findMaximums():\n",
    "    print(\"Best Guess = 0x{:02X}, Corr = {}\".format(bnum[0][0], bnum[0][2]))\n",
    "    rec_key2.append(bnum[0][0])"
   ]
  },
  {
   "cell_type": "markdown",
   "metadata": {
    "hidden": true
   },
   "source": [
    "This, however, isn't actually the 13th round key. To get the real 13th round key, we'll need to run what we've recovered through a `shiftrows()` and `mixcolumns()` operation:"
   ]
  },
  {
   "cell_type": "code",
   "execution_count": null,
   "metadata": {
    "hidden": true
   },
   "outputs": [],
   "source": [
    "from chipwhisperer.analyzer.attacks.models.aes.funcs import shiftrows,mixcolumns\n",
    "    \n",
    "real_key2 = shiftrows(rec_key2)\n",
    "real_key2 = mixcolumns(real_key2)\n",
    "\n",
    "print(\"Recovered:\", end=\"\")\n",
    "for subkey in real_key2:\n",
    "    print(\" {:02X}\".format(subkey), end=\"\")\n",
    "print(\"\")"
   ]
  },
  {
   "cell_type": "markdown",
   "metadata": {
    "hidden": true
   },
   "source": [
    "We now have everything we need to recover the full key! We'll start by combining the 13th and 14th round keys:"
   ]
  },
  {
   "cell_type": "code",
   "execution_count": null,
   "metadata": {
    "hidden": true
   },
   "outputs": [],
   "source": [
    "rec_key_comb = real_key2.copy()\n",
    "rec_key_comb.extend(rec_key)\n",
    "\n",
    "print(\"Key:\", end=\"\")\n",
    "for subkey in rec_key_comb:\n",
    "    print(\" {:02X}\".format(subkey), end=\"\")\n",
    "print(\"\")"
   ]
  },
  {
   "cell_type": "markdown",
   "metadata": {
    "hidden": true
   },
   "source": [
    "and then we can use the `AES128_8bit` leakage model to recover the first two rounds:"
   ]
  },
  {
   "cell_type": "code",
   "execution_count": null,
   "metadata": {
    "hidden": true
   },
   "outputs": [],
   "source": [
    "result = leak_model.keyScheduleRounds(rec_key_comb, 13, 0)\n",
    "result.extend(leak_model.keyScheduleRounds(rec_key_comb, 13, 1))\n",
    "print(\"Key:\", end=\"\")\n",
    "for subkey in result:\n",
    "    print(\" {:02X}\".format(subkey), end=\"\")\n",
    "print(\"\")"
   ]
  },
  {
   "cell_type": "markdown",
   "metadata": {
    "hidden": true
   },
   "source": [
    "You should see a 32 byte key printed out. Open `supersecret.h`, confirm that we have the right key, and celebrate!"
   ]
  },
  {
   "cell_type": "markdown",
   "metadata": {
    "heading_collapsed": true,
    "hidden": true
   },
   "source": [
    "## Conclusion"
   ]
  },
  {
   "cell_type": "markdown",
   "metadata": {
    "hidden": true
   },
   "source": [
    "We've now successfully recovered the encryption key for the bootloader! You may recall that there's two other secret values we haven't yet recovered: the IV and the signature. In a future (currently unfinished) tutorial, we'll cover how to recover those values as well."
   ]
  }
 ],
 "metadata": {
  "kernelspec": {
   "display_name": "Python 3",
   "language": "python",
   "name": "python3"
  },
  "language_info": {
   "codemirror_mode": {
    "name": "ipython",
    "version": 3
   },
   "file_extension": ".py",
   "mimetype": "text/x-python",
   "name": "python",
   "nbconvert_exporter": "python",
   "pygments_lexer": "ipython3",
   "version": "3.6.3"
  },
  "toc": {
   "base_numbering": 1,
   "nav_menu": {},
   "number_sections": true,
   "sideBar": true,
   "skip_h1_title": true,
   "title_cell": "Table of Contents",
   "title_sidebar": "Contents",
   "toc_cell": false,
   "toc_position": {},
   "toc_section_display": true,
   "toc_window_display": true
  }
 },
 "nbformat": 4,
 "nbformat_minor": 2
}
