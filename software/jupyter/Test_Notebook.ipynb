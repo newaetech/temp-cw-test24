{
 "cells": [
  {
   "cell_type": "code",
   "execution_count": null,
   "metadata": {},
   "outputs": [],
   "source": [
    "import os\n",
    "import subprocess\n",
    "import tempfile\n",
    "from pathlib import Path\n",
    "import io\n",
    "\n",
    "import nbformat\n",
    "\n",
    "def _notebook_run(path):\n",
    "    \"\"\"Execute a notebook via nbconvert and collect output.\n",
    "       :returns (parsed nb object, execution errors)\n",
    "    \"\"\"\n",
    "    html_path = Path(\"html/\" + path + \".html\")\n",
    "    real_path = Path(path)\n",
    "    with tempfile.NamedTemporaryFile(dir=\".\", suffix=\".ipynb\", delete=False) as fout:\n",
    "        name = fout.name\n",
    "        fout.close()\n",
    "        \n",
    "        args = [\"jupyter\",\"nbconvert\", \"--to\", \"notebook\", \"--execute\",\n",
    "                \"--ExecutePreprocessor.timeout=None\", \"--ExecutePreprocessor.allow_errors=True\",\n",
    "                \"--output\", fout.name, str(real_path)]\n",
    "        \n",
    "        try:\n",
    "            subprocess.check_output(args, stderr=subprocess.STDOUT)\n",
    "            \n",
    "            ## convert to HTML as well\n",
    "            args = [\"jupyter\",\"nbconvert\", \"--to\", \"html\",\n",
    "                \"--ExecutePreprocessor.timeout=None\",\n",
    "                \"--output\", str(html_path), fout.name]\n",
    "            subprocess.check_output(args, stderr=subprocess.STDOUT)\n",
    "        except subprocess.CalledProcessError as e:\n",
    "            print(e)\n",
    "            print(e.output)\n",
    "            return\n",
    "        fout = open(name, \"r\", encoding='utf-8')\n",
    "        fout.seek(0)\n",
    "        nb = nbformat.read(fout, nbformat.current_nbformat)\n",
    "        fout.close()\n",
    "        os.remove(name)\n",
    "\n",
    "    errors = [[i+1,output] for i,cell in enumerate(nb.cells) if \"outputs\" in cell\n",
    "                    for output in cell[\"outputs\"]\\\n",
    "                            if output.output_type == \"error\"]\n",
    "\n",
    "    return nb, errors\n",
    "\n",
    "def _print_tracebacks(errors):\n",
    "    if errors == []:\n",
    "        print(\"Passed all tests!\")\n",
    "    for error in errors:\n",
    "        print(\"Test failed in cell {}: {}: {}\".format(error[0], error[1]['ename'], error[1]['evalue']))\n",
    "        for line in error[1]['traceback']:\n",
    "            print(line)\n",
    "            \n",
    "def _get_outputs(nb):\n",
    "    return [[i,cell] for i,cell in enumerate(nb.cells) if \"outputs\" in cell]\n",
    "    \n",
    "def _print_stderr(nb):\n",
    "    outputs = _get_outputs(nb)\n",
    "    printed_output = [[cell[0], output] for cell in outputs for output in cell[1]['outputs'] if ('name' in output and output['name'] == 'stderr')]\n",
    "    for out in printed_output:\n",
    "        print(\"[{}]:\\n{}\".format(out[0], out[1]['text']))\n",
    "        \n",
    "def _print_stdout(nb):\n",
    "    outputs = _get_outputs(nb)\n",
    "    printed_output = [[cell[0], output] for cell in outputs for output in cell[1]['outputs'] if ('name' in output and output['name'] == 'stdout')]\n",
    "    for out in printed_output:\n",
    "        print(\"[{}]:\\n{}\".format(out[0], out[1]['text']))\n",
    "        \n",
    "def test_notebook(path, print_stdout=False, print_stderr=False):\n",
    "    print(\"Testing: {}:...\".format(path), end=\"\")\n",
    "    nb, errors = _notebook_run(path)\n",
    "    if errors == []:\n",
    "        print(\"PASSED\")\n",
    "    else:\n",
    "        print(\"FAILED:\")\n",
    "        _print_tracebacks(errors)\n",
    "    if print_stdout:\n",
    "        _print_stdout(nb)\n",
    "    if print_stderr:\n",
    "        _print_stderr(nb)"
   ]
  },
  {
   "cell_type": "code",
   "execution_count": null,
   "metadata": {},
   "outputs": [],
   "source": [
    "%%bash\n",
    "mkdir -p html\n",
    "cd ../../hardware/victims/firmware\n",
    "rm -rf simpleserial-base-lab*\n",
    "rm -rf glitch-simple-lab*\n",
    "rm -rf simpleserial-aes-lab*"
   ]
  },
  {
   "cell_type": "code",
   "execution_count": null,
   "metadata": {},
   "outputs": [],
   "source": [
    "test_notebook('PA_Intro_1-Firmware_Build_Setup.ipynb')\n",
    "test_notebook('PA_Intro_2-Instruction_Differences.ipynb')"
   ]
  },
  {
   "cell_type": "code",
   "execution_count": null,
   "metadata": {},
   "outputs": [],
   "source": [
    "test_notebook('PA_SPA_1-Timing_Analysis_with_Power_for_Password_Bypass.ipynb')"
   ]
  },
  {
   "cell_type": "code",
   "execution_count": null,
   "metadata": {},
   "outputs": [],
   "source": [
    "#test_notebook('PA_DPA_1-Hamming_Weight_Measurement.ipynb') #FAILS, COMPILER MOVED SPOT\n",
    "test_notebook('PA_DPA_2-Large_HW_Swings.ipynb')"
   ]
  },
  {
   "cell_type": "code",
   "execution_count": null,
   "metadata": {},
   "outputs": [],
   "source": [
    "test_notebook('PA_CPA_1-Using_CW-Analyzer_for_CPA_Attack.ipynb')\n",
    "test_notebook('PA_CPA_2-Manual_CPA_Attack.ipynb')\n",
    "test_notebook('PA_CPA_3-Resynchronizing_Data_Traces.ipynb')\n",
    "#test_notebook('PA_CPA_4-Hardware_Crypto_Attack.ipynb') #FAILS\n",
    "test_notebook('PA_CPA_5-32bit_AES.ipynb') #MAY FAIL"
   ]
  },
  {
   "cell_type": "code",
   "execution_count": null,
   "metadata": {},
   "outputs": [],
   "source": [
    "test_notebook('PA_Multi_1-Breaking_AES-256_Bootloader.ipynb')"
   ]
  },
  {
   "cell_type": "code",
   "execution_count": null,
   "metadata": {},
   "outputs": [],
   "source": [
    "test_notebook('Fault_1-Introduction_to_Clock_Glitch_Attacks.ipynb')\n",
    "test_notebook('Fault_3-Glitch_Buffer_Attacks.ipynb')"
   ]
  },
  {
   "cell_type": "code",
   "execution_count": null,
   "metadata": {},
   "outputs": [],
   "source": []
  }
 ],
 "metadata": {
  "kernelspec": {
   "display_name": "Python 3",
   "language": "python",
   "name": "python3"
  },
  "language_info": {
   "codemirror_mode": {
    "name": "ipython",
    "version": 3
   },
   "file_extension": ".py",
   "mimetype": "text/x-python",
   "name": "python",
   "nbconvert_exporter": "python",
   "pygments_lexer": "ipython3",
   "version": "3.7.1"
  },
  "toc": {
   "base_numbering": 1,
   "nav_menu": {},
   "number_sections": true,
   "sideBar": true,
   "skip_h1_title": false,
   "title_cell": "Table of Contents",
   "title_sidebar": "Contents",
   "toc_cell": false,
   "toc_position": {},
   "toc_section_display": true,
   "toc_window_display": false
  }
 },
 "nbformat": 4,
 "nbformat_minor": 2
}
