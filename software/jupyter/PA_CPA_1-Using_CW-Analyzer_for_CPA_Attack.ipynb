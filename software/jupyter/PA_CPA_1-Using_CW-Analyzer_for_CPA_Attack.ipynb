{
 "cells": [
  {
   "cell_type": "markdown",
   "metadata": {},
   "source": [
    "# Using CW-Analyzer for CPA Attack"
   ]
  },
  {
   "cell_type": "markdown",
   "metadata": {},
   "source": [
    "This tutorial will take you through a complete attack on a software AES implementation. The specific implementation being attacked is a well-known AES implementation written in C, which is likely to be similar to other implementations used by proprietary systems."
   ]
  },
  {
   "cell_type": "code",
   "execution_count": 42,
   "metadata": {},
   "outputs": [],
   "source": [
    "#Parameters\n",
    "SCOPETYPE = 'OPENADC'\n",
    "PLATFORM = 'CWLITEARM'\n",
    "CRYPTO_TARGET= 'TINYAES128C'\n",
    "num_traces=50 #number of traces to capture\n",
    "CHECK_CORR=False #check correlation as part of tests"
   ]
  },
  {
   "cell_type": "code",
   "execution_count": 2,
   "metadata": {},
   "outputs": [
    {
     "name": "stdout",
     "output_type": "stream",
     "text": [
      "rm -f -- simpleserial-aes-CWLITEARM.hex\r\n",
      "rm -f -- simpleserial-aes-CWLITEARM.eep\r\n",
      "rm -f -- simpleserial-aes-CWLITEARM.cof\r\n",
      "rm -f -- simpleserial-aes-CWLITEARM.elf\r\n",
      "rm -f -- simpleserial-aes-CWLITEARM.map\r\n",
      "rm -f -- simpleserial-aes-CWLITEARM.sym\r\n",
      "rm -f -- simpleserial-aes-CWLITEARM.lss\r\n",
      "rm -f -- objdir/*.o\r\n",
      "rm -f -- objdir/*.lst\r\n",
      "rm -f -- simpleserial-aes.s simpleserial.s stm32f3_hal.s stm32f3_hal_lowlevel.s stm32f3_sysmem.s aes.s aes-independant.s\r\n",
      "rm -f -- simpleserial-aes.d simpleserial.d stm32f3_hal.d stm32f3_hal_lowlevel.d stm32f3_sysmem.d aes.d aes-independant.d\r\n",
      "rm -f -- simpleserial-aes.i simpleserial.i stm32f3_hal.i stm32f3_hal_lowlevel.i stm32f3_sysmem.i aes.i aes-independant.i\r\n",
      ".\r\n",
      "-------- begin --------\r\n",
      "arm-none-eabi-gcc (GNU Tools for Arm Embedded Processors 7-2018-q2-update) 7.3.1 20180622 (release) [ARM/embedded-7-branch revision 261907]\r\n",
      "Copyright (C) 2017 Free Software Foundation, Inc.\r\n",
      "This is free software; see the source for copying conditions.  There is NO\r\n",
      "warranty; not even for MERCHANTABILITY or FITNESS FOR A PARTICULAR PURPOSE.\r\n",
      "\r\n",
      ".\r\n",
      "Compiling C: simpleserial-aes.c\r\n",
      "arm-none-eabi-gcc -c -mcpu=cortex-m4 -I. -DNO_EXTRA_OPTS -mthumb -mfloat-abi=hard -mfpu=fpv4-sp-d16 -fmessage-length=0 -ffunction-sections -gdwarf-2 -DSS_VER=SS_VER_1_1 -DSTM32F303xC -DSTM32F3 -DSTM32 -DDEBUG -DHAL_TYPE=HAL_stm32f3 -DPLATFORM=CWLITEARM -DTINYAES128C -DF_CPU=7372800UL -Os -funsigned-char -funsigned-bitfields -fshort-enums -Wall -Wstrict-prototypes -Wa,-adhlns=objdir/simpleserial-aes.lst -I.././simpleserial/ -I.././hal -I.././hal/stm32f3 -I.././hal/stm32f3/CMSIS -I.././hal/stm32f3/CMSIS/core -I.././hal/stm32f3/CMSIS/device -I.././hal/stm32f4/Legacy -I.././crypto/ -I.././crypto/tiny-AES128-C -std=gnu99 -MMD -MP -MF .dep/simpleserial-aes.o.d simpleserial-aes.c -o objdir/simpleserial-aes.o \r\n",
      ".\r\n",
      "Compiling C: .././simpleserial/simpleserial.c\r\n",
      "arm-none-eabi-gcc -c -mcpu=cortex-m4 -I. -DNO_EXTRA_OPTS -mthumb -mfloat-abi=hard -mfpu=fpv4-sp-d16 -fmessage-length=0 -ffunction-sections -gdwarf-2 -DSS_VER=SS_VER_1_1 -DSTM32F303xC -DSTM32F3 -DSTM32 -DDEBUG -DHAL_TYPE=HAL_stm32f3 -DPLATFORM=CWLITEARM -DTINYAES128C -DF_CPU=7372800UL -Os -funsigned-char -funsigned-bitfields -fshort-enums -Wall -Wstrict-prototypes -Wa,-adhlns=objdir/simpleserial.lst -I.././simpleserial/ -I.././hal -I.././hal/stm32f3 -I.././hal/stm32f3/CMSIS -I.././hal/stm32f3/CMSIS/core -I.././hal/stm32f3/CMSIS/device -I.././hal/stm32f4/Legacy -I.././crypto/ -I.././crypto/tiny-AES128-C -std=gnu99 -MMD -MP -MF .dep/simpleserial.o.d .././simpleserial/simpleserial.c -o objdir/simpleserial.o \r\n",
      ".\r\n",
      "Compiling C: .././hal/stm32f3/stm32f3_hal.c\r\n",
      "arm-none-eabi-gcc -c -mcpu=cortex-m4 -I. -DNO_EXTRA_OPTS -mthumb -mfloat-abi=hard -mfpu=fpv4-sp-d16 -fmessage-length=0 -ffunction-sections -gdwarf-2 -DSS_VER=SS_VER_1_1 -DSTM32F303xC -DSTM32F3 -DSTM32 -DDEBUG -DHAL_TYPE=HAL_stm32f3 -DPLATFORM=CWLITEARM -DTINYAES128C -DF_CPU=7372800UL -Os -funsigned-char -funsigned-bitfields -fshort-enums -Wall -Wstrict-prototypes -Wa,-adhlns=objdir/stm32f3_hal.lst -I.././simpleserial/ -I.././hal -I.././hal/stm32f3 -I.././hal/stm32f3/CMSIS -I.././hal/stm32f3/CMSIS/core -I.././hal/stm32f3/CMSIS/device -I.././hal/stm32f4/Legacy -I.././crypto/ -I.././crypto/tiny-AES128-C -std=gnu99 -MMD -MP -MF .dep/stm32f3_hal.o.d .././hal/stm32f3/stm32f3_hal.c -o objdir/stm32f3_hal.o \r\n",
      ".\r\n",
      "Compiling C: .././hal/stm32f3/stm32f3_hal_lowlevel.c\r\n",
      "arm-none-eabi-gcc -c -mcpu=cortex-m4 -I. -DNO_EXTRA_OPTS -mthumb -mfloat-abi=hard -mfpu=fpv4-sp-d16 -fmessage-length=0 -ffunction-sections -gdwarf-2 -DSS_VER=SS_VER_1_1 -DSTM32F303xC -DSTM32F3 -DSTM32 -DDEBUG -DHAL_TYPE=HAL_stm32f3 -DPLATFORM=CWLITEARM -DTINYAES128C -DF_CPU=7372800UL -Os -funsigned-char -funsigned-bitfields -fshort-enums -Wall -Wstrict-prototypes -Wa,-adhlns=objdir/stm32f3_hal_lowlevel.lst -I.././simpleserial/ -I.././hal -I.././hal/stm32f3 -I.././hal/stm32f3/CMSIS -I.././hal/stm32f3/CMSIS/core -I.././hal/stm32f3/CMSIS/device -I.././hal/stm32f4/Legacy -I.././crypto/ -I.././crypto/tiny-AES128-C -std=gnu99 -MMD -MP -MF .dep/stm32f3_hal_lowlevel.o.d .././hal/stm32f3/stm32f3_hal_lowlevel.c -o objdir/stm32f3_hal_lowlevel.o \r\n",
      ".\r\n",
      "Compiling C: .././hal/stm32f3/stm32f3_sysmem.c\r\n",
      "arm-none-eabi-gcc -c -mcpu=cortex-m4 -I. -DNO_EXTRA_OPTS -mthumb -mfloat-abi=hard -mfpu=fpv4-sp-d16 -fmessage-length=0 -ffunction-sections -gdwarf-2 -DSS_VER=SS_VER_1_1 -DSTM32F303xC -DSTM32F3 -DSTM32 -DDEBUG -DHAL_TYPE=HAL_stm32f3 -DPLATFORM=CWLITEARM -DTINYAES128C -DF_CPU=7372800UL -Os -funsigned-char -funsigned-bitfields -fshort-enums -Wall -Wstrict-prototypes -Wa,-adhlns=objdir/stm32f3_sysmem.lst -I.././simpleserial/ -I.././hal -I.././hal/stm32f3 -I.././hal/stm32f3/CMSIS -I.././hal/stm32f3/CMSIS/core -I.././hal/stm32f3/CMSIS/device -I.././hal/stm32f4/Legacy -I.././crypto/ -I.././crypto/tiny-AES128-C -std=gnu99 -MMD -MP -MF .dep/stm32f3_sysmem.o.d .././hal/stm32f3/stm32f3_sysmem.c -o objdir/stm32f3_sysmem.o \r\n",
      ".\r\n",
      "Compiling C: .././crypto/tiny-AES128-C/aes.c\r\n",
      "arm-none-eabi-gcc -c -mcpu=cortex-m4 -I. -DNO_EXTRA_OPTS -mthumb -mfloat-abi=hard -mfpu=fpv4-sp-d16 -fmessage-length=0 -ffunction-sections -gdwarf-2 -DSS_VER=SS_VER_1_1 -DSTM32F303xC -DSTM32F3 -DSTM32 -DDEBUG -DHAL_TYPE=HAL_stm32f3 -DPLATFORM=CWLITEARM -DTINYAES128C -DF_CPU=7372800UL -Os -funsigned-char -funsigned-bitfields -fshort-enums -Wall -Wstrict-prototypes -Wa,-adhlns=objdir/aes.lst -I.././simpleserial/ -I.././hal -I.././hal/stm32f3 -I.././hal/stm32f3/CMSIS -I.././hal/stm32f3/CMSIS/core -I.././hal/stm32f3/CMSIS/device -I.././hal/stm32f4/Legacy -I.././crypto/ -I.././crypto/tiny-AES128-C -std=gnu99 -MMD -MP -MF .dep/aes.o.d .././crypto/tiny-AES128-C/aes.c -o objdir/aes.o \r\n",
      ".\r\n",
      "Compiling C: .././crypto/aes-independant.c\r\n",
      "arm-none-eabi-gcc -c -mcpu=cortex-m4 -I. -DNO_EXTRA_OPTS -mthumb -mfloat-abi=hard -mfpu=fpv4-sp-d16 -fmessage-length=0 -ffunction-sections -gdwarf-2 -DSS_VER=SS_VER_1_1 -DSTM32F303xC -DSTM32F3 -DSTM32 -DDEBUG -DHAL_TYPE=HAL_stm32f3 -DPLATFORM=CWLITEARM -DTINYAES128C -DF_CPU=7372800UL -Os -funsigned-char -funsigned-bitfields -fshort-enums -Wall -Wstrict-prototypes -Wa,-adhlns=objdir/aes-independant.lst -I.././simpleserial/ -I.././hal -I.././hal/stm32f3 -I.././hal/stm32f3/CMSIS -I.././hal/stm32f3/CMSIS/core -I.././hal/stm32f3/CMSIS/device -I.././hal/stm32f4/Legacy -I.././crypto/ -I.././crypto/tiny-AES128-C -std=gnu99 -MMD -MP -MF .dep/aes-independant.o.d .././crypto/aes-independant.c -o objdir/aes-independant.o \r\n",
      ".\r\n",
      "Assembling: .././hal/stm32f3/stm32f3_startup.S\r\n",
      "arm-none-eabi-gcc -c -mcpu=cortex-m4 -I. -x assembler-with-cpp -mthumb -mfloat-abi=hard -mfpu=fpv4-sp-d16 -fmessage-length=0 -ffunction-sections -DF_CPU=7372800 -Wa,-gstabs,-adhlns=objdir/stm32f3_startup.lst -I.././simpleserial/ -I.././hal -I.././hal/stm32f3 -I.././hal/stm32f3/CMSIS -I.././hal/stm32f3/CMSIS/core -I.././hal/stm32f3/CMSIS/device -I.././hal/stm32f4/Legacy -I.././crypto/ -I.././crypto/tiny-AES128-C .././hal/stm32f3/stm32f3_startup.S -o objdir/stm32f3_startup.o\r\n",
      ".\r\n",
      "Linking: simpleserial-aes-CWLITEARM.elf\r\n",
      "arm-none-eabi-gcc -mcpu=cortex-m4 -I. -DNO_EXTRA_OPTS -mthumb -mfloat-abi=hard -mfpu=fpv4-sp-d16 -fmessage-length=0 -ffunction-sections -gdwarf-2 -DSS_VER=SS_VER_1_1 -DSTM32F303xC -DSTM32F3 -DSTM32 -DDEBUG -DHAL_TYPE=HAL_stm32f3 -DPLATFORM=CWLITEARM -DTINYAES128C -DF_CPU=7372800UL -Os -funsigned-char -funsigned-bitfields -fshort-enums -Wall -Wstrict-prototypes -Wa,-adhlns=objdir/simpleserial-aes.o -I.././simpleserial/ -I.././hal -I.././hal/stm32f3 -I.././hal/stm32f3/CMSIS -I.././hal/stm32f3/CMSIS/core -I.././hal/stm32f3/CMSIS/device -I.././hal/stm32f4/Legacy -I.././crypto/ -I.././crypto/tiny-AES128-C -std=gnu99 -MMD -MP -MF .dep/simpleserial-aes-CWLITEARM.elf.d objdir/simpleserial-aes.o objdir/simpleserial.o objdir/stm32f3_hal.o objdir/stm32f3_hal_lowlevel.o objdir/stm32f3_sysmem.o objdir/aes.o objdir/aes-independant.o objdir/stm32f3_startup.o --output simpleserial-aes-CWLITEARM.elf --specs=nano.specs -T .././hal/stm32f3/LinkerScript.ld -Wl,--gc-sections -lm -Wl,-Map=simpleserial-aes-CWLITEARM.map,--cref   -lm  \r\n",
      ".\r\n",
      "Creating load file for Flash: simpleserial-aes-CWLITEARM.hex\r\n",
      "arm-none-eabi-objcopy -O ihex -R .eeprom -R .fuse -R .lock -R .signature simpleserial-aes-CWLITEARM.elf simpleserial-aes-CWLITEARM.hex\r\n",
      ".\r\n",
      "Creating load file for EEPROM: simpleserial-aes-CWLITEARM.eep\r\n",
      "arm-none-eabi-objcopy -j .eeprom --set-section-flags=.eeprom=\"alloc,load\" \\\r\n",
      "\t--change-section-lma .eeprom=0 --no-change-warnings -O ihex simpleserial-aes-CWLITEARM.elf simpleserial-aes-CWLITEARM.eep || exit 0\r\n",
      ".\r\n",
      "Creating Extended Listing: simpleserial-aes-CWLITEARM.lss\r\n",
      "arm-none-eabi-objdump -h -S -z simpleserial-aes-CWLITEARM.elf > simpleserial-aes-CWLITEARM.lss\r\n",
      ".\r\n",
      "Creating Symbol Table: simpleserial-aes-CWLITEARM.sym\r\n",
      "arm-none-eabi-nm -n simpleserial-aes-CWLITEARM.elf > simpleserial-aes-CWLITEARM.sym\r\n",
      "Size after:\r\n",
      "   text\t   data\t    bss\t    dec\t    hex\tfilename\r\n",
      "   5348\t    532\t   1484\t   7364\t   1cc4\tsimpleserial-aes-CWLITEARM.elf\r\n",
      "+--------------------------------------------------------\r\n",
      "+ Built for platform CW-Lite Arm (STM32F3)\r\n",
      "+--------------------------------------------------------\r\n"
     ]
    }
   ],
   "source": [
    "%%bash -s \"$PLATFORM\" \"$CRYPTO_TARGET\"\n",
    "cd ../../hardware/victims/firmware/simpleserial-aes\n",
    "make PLATFORM=$1 CRYPTO_TARGET=$2"
   ]
  },
  {
   "cell_type": "markdown",
   "metadata": {},
   "source": [
    "## Capturing Power Traces"
   ]
  },
  {
   "cell_type": "markdown",
   "metadata": {},
   "source": [
    "### Setup"
   ]
  },
  {
   "cell_type": "markdown",
   "metadata": {},
   "source": [
    "We'll use some helper scripts to make setup and programming easier. If you're using an XMEGA or STM (CWLITEARM) target, binaries with the correct should be setup for you:"
   ]
  },
  {
   "cell_type": "code",
   "execution_count": 3,
   "metadata": {},
   "outputs": [],
   "source": [
    "%run \"Helper_Scripts/Setup.ipynb\""
   ]
  },
  {
   "cell_type": "code",
   "execution_count": null,
   "metadata": {},
   "outputs": [],
   "source": [
    "fw_path = '../../hardware/victims/firmware/simpleserial-aes/simpleserial-aes-{}.hex'.format(PLATFORM)"
   ]
  },
  {
   "cell_type": "code",
   "execution_count": null,
   "metadata": {},
   "outputs": [],
   "source": [
    "cw.programTarget(scope, prog, fw_path)"
   ]
  },
  {
   "cell_type": "markdown",
   "metadata": {},
   "source": [
    "In addition, before we capture our traces, we'll need to create a ChipWhipserer project, since that's what Analyzer expects for an input:"
   ]
  },
  {
   "cell_type": "code",
   "execution_count": 60,
   "metadata": {},
   "outputs": [],
   "source": [
    "project = cw.createProject(\"projects/Tutorial_B5.cwp\", overwrite = True)"
   ]
  },
  {
   "cell_type": "markdown",
   "metadata": {},
   "source": [
    "And we can get the class used to hold our traces by:"
   ]
  },
  {
   "cell_type": "code",
   "execution_count": 61,
   "metadata": {},
   "outputs": [],
   "source": [
    "tc = project.newSegment()"
   ]
  },
  {
   "cell_type": "markdown",
   "metadata": {},
   "source": [
    "### Capturing Traces"
   ]
  },
  {
   "cell_type": "markdown",
   "metadata": {},
   "source": [
    "Below you can see the capture loop. The main body of the loop loads some new plaintext, arms the scope, sends the key and plaintext, then finally records and our new trace into our trace class."
   ]
  },
  {
   "cell_type": "code",
   "execution_count": 62,
   "metadata": {},
   "outputs": [
    {
     "data": {
      "application/vnd.jupyter.widget-view+json": {
       "model_id": "43ead9f3aff2484f9664da3c4edf566d",
       "version_major": 2,
       "version_minor": 0
      },
      "text/plain": [
       "HBox(children=(IntProgress(value=0, description='Capturing traces', max=2500, style=ProgressStyle(description_…"
      ]
     },
     "metadata": {},
     "output_type": "display_data"
    },
    {
     "name": "stderr",
     "output_type": "stream",
     "text": [
      "WARNING:root:Timeout in OpenADC capture(), trigger FORCED\n",
      "WARNING:root:Timeout in OpenADC capture(), trigger FORCED\n"
     ]
    },
    {
     "name": "stdout",
     "output_type": "stream",
     "text": [
      "Timeout happened during acquisition\n"
     ]
    },
    {
     "name": "stderr",
     "output_type": "stream",
     "text": [
      "WARNING:root:Timeout in OpenADC capture(), trigger FORCED\n",
      "WARNING:root:Timeout in OpenADC capture(), trigger FORCED\n"
     ]
    },
    {
     "name": "stdout",
     "output_type": "stream",
     "text": [
      "Timeout happened during acquisition\n"
     ]
    },
    {
     "name": "stderr",
     "output_type": "stream",
     "text": [
      "WARNING:root:Timeout in OpenADC capture(), trigger FORCED\n",
      "WARNING:root:Timeout in OpenADC capture(), trigger FORCED\n"
     ]
    },
    {
     "name": "stdout",
     "output_type": "stream",
     "text": [
      "Timeout happened during acquisition\n",
      "\n"
     ]
    }
   ],
   "source": [
    "#Capture Traces\n",
    "from tqdm import tnrange\n",
    "import numpy as np\n",
    "import time\n",
    "\n",
    "ktp = cw.ktp.Basic(target=target)\n",
    "target.init()\n",
    "for i in tnrange(num_traces, desc='Capturing traces'):\n",
    "    # run aux stuff that should come before trace here\n",
    "\n",
    "    key, text = ktp.newPair()  # manual creation of a key, text pair can be substituted here\n",
    "\n",
    "    #target.reinit()\n",
    "\n",
    "    target.setModeEncrypt()  # only does something for targets that support it\n",
    "    target.loadEncryptionKey(key)\n",
    "    target.loadInput(text)\n",
    "\n",
    "    # run aux stuff that should run before the scope arms here\n",
    "\n",
    "    scope.arm()\n",
    "\n",
    "    # run aux stuff that should run after the scope arms here\n",
    "\n",
    "    target.go()\n",
    "    timeout = 50\n",
    "    # wait for target to finish\n",
    "    while target.isDone() is False and timeout:\n",
    "        timeout -= 1\n",
    "        time.sleep(0.01)\n",
    "\n",
    "    ret = scope.capture()\n",
    "    if ret:\n",
    "        print('Timeout happened during acquisition')\n",
    "\n",
    "    # run aux stuff that should happen after trace here\n",
    "    _ = target.readOutput()  # clears the response from the serial port\n",
    "    #traces.append(scope.getLastTrace())\n",
    "    tc.addTrace(scope.getLastTrace(), text, \"\", key)"
   ]
  },
  {
   "cell_type": "code",
   "execution_count": 64,
   "metadata": {},
   "outputs": [
    {
     "data": {
      "text/html": [
       "\n",
       "    <div class=\"bk-root\">\n",
       "        <a href=\"https://bokeh.pydata.org\" target=\"_blank\" class=\"bk-logo bk-logo-small bk-logo-notebook\"></a>\n",
       "        <span id=\"1467\">Loading BokehJS ...</span>\n",
       "    </div>"
      ]
     },
     "metadata": {},
     "output_type": "display_data"
    },
    {
     "data": {
      "application/javascript": [
       "\n",
       "(function(root) {\n",
       "  function now() {\n",
       "    return new Date();\n",
       "  }\n",
       "\n",
       "  var force = true;\n",
       "\n",
       "  if (typeof (root._bokeh_onload_callbacks) === \"undefined\" || force === true) {\n",
       "    root._bokeh_onload_callbacks = [];\n",
       "    root._bokeh_is_loading = undefined;\n",
       "  }\n",
       "\n",
       "  var JS_MIME_TYPE = 'application/javascript';\n",
       "  var HTML_MIME_TYPE = 'text/html';\n",
       "  var EXEC_MIME_TYPE = 'application/vnd.bokehjs_exec.v0+json';\n",
       "  var CLASS_NAME = 'output_bokeh rendered_html';\n",
       "\n",
       "  /**\n",
       "   * Render data to the DOM node\n",
       "   */\n",
       "  function render(props, node) {\n",
       "    var script = document.createElement(\"script\");\n",
       "    node.appendChild(script);\n",
       "  }\n",
       "\n",
       "  /**\n",
       "   * Handle when an output is cleared or removed\n",
       "   */\n",
       "  function handleClearOutput(event, handle) {\n",
       "    var cell = handle.cell;\n",
       "\n",
       "    var id = cell.output_area._bokeh_element_id;\n",
       "    var server_id = cell.output_area._bokeh_server_id;\n",
       "    // Clean up Bokeh references\n",
       "    if (id != null && id in Bokeh.index) {\n",
       "      Bokeh.index[id].model.document.clear();\n",
       "      delete Bokeh.index[id];\n",
       "    }\n",
       "\n",
       "    if (server_id !== undefined) {\n",
       "      // Clean up Bokeh references\n",
       "      var cmd = \"from bokeh.io.state import curstate; print(curstate().uuid_to_server['\" + server_id + \"'].get_sessions()[0].document.roots[0]._id)\";\n",
       "      cell.notebook.kernel.execute(cmd, {\n",
       "        iopub: {\n",
       "          output: function(msg) {\n",
       "            var id = msg.content.text.trim();\n",
       "            if (id in Bokeh.index) {\n",
       "              Bokeh.index[id].model.document.clear();\n",
       "              delete Bokeh.index[id];\n",
       "            }\n",
       "          }\n",
       "        }\n",
       "      });\n",
       "      // Destroy server and session\n",
       "      var cmd = \"import bokeh.io.notebook as ion; ion.destroy_server('\" + server_id + \"')\";\n",
       "      cell.notebook.kernel.execute(cmd);\n",
       "    }\n",
       "  }\n",
       "\n",
       "  /**\n",
       "   * Handle when a new output is added\n",
       "   */\n",
       "  function handleAddOutput(event, handle) {\n",
       "    var output_area = handle.output_area;\n",
       "    var output = handle.output;\n",
       "\n",
       "    // limit handleAddOutput to display_data with EXEC_MIME_TYPE content only\n",
       "    if ((output.output_type != \"display_data\") || (!output.data.hasOwnProperty(EXEC_MIME_TYPE))) {\n",
       "      return\n",
       "    }\n",
       "\n",
       "    var toinsert = output_area.element.find(\".\" + CLASS_NAME.split(' ')[0]);\n",
       "\n",
       "    if (output.metadata[EXEC_MIME_TYPE][\"id\"] !== undefined) {\n",
       "      toinsert[toinsert.length - 1].firstChild.textContent = output.data[JS_MIME_TYPE];\n",
       "      // store reference to embed id on output_area\n",
       "      output_area._bokeh_element_id = output.metadata[EXEC_MIME_TYPE][\"id\"];\n",
       "    }\n",
       "    if (output.metadata[EXEC_MIME_TYPE][\"server_id\"] !== undefined) {\n",
       "      var bk_div = document.createElement(\"div\");\n",
       "      bk_div.innerHTML = output.data[HTML_MIME_TYPE];\n",
       "      var script_attrs = bk_div.children[0].attributes;\n",
       "      for (var i = 0; i < script_attrs.length; i++) {\n",
       "        toinsert[toinsert.length - 1].firstChild.setAttribute(script_attrs[i].name, script_attrs[i].value);\n",
       "      }\n",
       "      // store reference to server id on output_area\n",
       "      output_area._bokeh_server_id = output.metadata[EXEC_MIME_TYPE][\"server_id\"];\n",
       "    }\n",
       "  }\n",
       "\n",
       "  function register_renderer(events, OutputArea) {\n",
       "\n",
       "    function append_mime(data, metadata, element) {\n",
       "      // create a DOM node to render to\n",
       "      var toinsert = this.create_output_subarea(\n",
       "        metadata,\n",
       "        CLASS_NAME,\n",
       "        EXEC_MIME_TYPE\n",
       "      );\n",
       "      this.keyboard_manager.register_events(toinsert);\n",
       "      // Render to node\n",
       "      var props = {data: data, metadata: metadata[EXEC_MIME_TYPE]};\n",
       "      render(props, toinsert[toinsert.length - 1]);\n",
       "      element.append(toinsert);\n",
       "      return toinsert\n",
       "    }\n",
       "\n",
       "    /* Handle when an output is cleared or removed */\n",
       "    events.on('clear_output.CodeCell', handleClearOutput);\n",
       "    events.on('delete.Cell', handleClearOutput);\n",
       "\n",
       "    /* Handle when a new output is added */\n",
       "    events.on('output_added.OutputArea', handleAddOutput);\n",
       "\n",
       "    /**\n",
       "     * Register the mime type and append_mime function with output_area\n",
       "     */\n",
       "    OutputArea.prototype.register_mime_type(EXEC_MIME_TYPE, append_mime, {\n",
       "      /* Is output safe? */\n",
       "      safe: true,\n",
       "      /* Index of renderer in `output_area.display_order` */\n",
       "      index: 0\n",
       "    });\n",
       "  }\n",
       "\n",
       "  // register the mime type if in Jupyter Notebook environment and previously unregistered\n",
       "  if (root.Jupyter !== undefined) {\n",
       "    var events = require('base/js/events');\n",
       "    var OutputArea = require('notebook/js/outputarea').OutputArea;\n",
       "\n",
       "    if (OutputArea.prototype.mime_types().indexOf(EXEC_MIME_TYPE) == -1) {\n",
       "      register_renderer(events, OutputArea);\n",
       "    }\n",
       "  }\n",
       "\n",
       "  \n",
       "  if (typeof (root._bokeh_timeout) === \"undefined\" || force === true) {\n",
       "    root._bokeh_timeout = Date.now() + 5000;\n",
       "    root._bokeh_failed_load = false;\n",
       "  }\n",
       "\n",
       "  var NB_LOAD_WARNING = {'data': {'text/html':\n",
       "     \"<div style='background-color: #fdd'>\\n\"+\n",
       "     \"<p>\\n\"+\n",
       "     \"BokehJS does not appear to have successfully loaded. If loading BokehJS from CDN, this \\n\"+\n",
       "     \"may be due to a slow or bad network connection. Possible fixes:\\n\"+\n",
       "     \"</p>\\n\"+\n",
       "     \"<ul>\\n\"+\n",
       "     \"<li>re-rerun `output_notebook()` to attempt to load from CDN again, or</li>\\n\"+\n",
       "     \"<li>use INLINE resources instead, as so:</li>\\n\"+\n",
       "     \"</ul>\\n\"+\n",
       "     \"<code>\\n\"+\n",
       "     \"from bokeh.resources import INLINE\\n\"+\n",
       "     \"output_notebook(resources=INLINE)\\n\"+\n",
       "     \"</code>\\n\"+\n",
       "     \"</div>\"}};\n",
       "\n",
       "  function display_loaded() {\n",
       "    var el = document.getElementById(\"1467\");\n",
       "    if (el != null) {\n",
       "      el.textContent = \"BokehJS is loading...\";\n",
       "    }\n",
       "    if (root.Bokeh !== undefined) {\n",
       "      if (el != null) {\n",
       "        el.textContent = \"BokehJS \" + root.Bokeh.version + \" successfully loaded.\";\n",
       "      }\n",
       "    } else if (Date.now() < root._bokeh_timeout) {\n",
       "      setTimeout(display_loaded, 100)\n",
       "    }\n",
       "  }\n",
       "\n",
       "\n",
       "  function run_callbacks() {\n",
       "    try {\n",
       "      root._bokeh_onload_callbacks.forEach(function(callback) { callback() });\n",
       "    }\n",
       "    finally {\n",
       "      delete root._bokeh_onload_callbacks\n",
       "    }\n",
       "    console.info(\"Bokeh: all callbacks have finished\");\n",
       "  }\n",
       "\n",
       "  function load_libs(js_urls, callback) {\n",
       "    root._bokeh_onload_callbacks.push(callback);\n",
       "    if (root._bokeh_is_loading > 0) {\n",
       "      console.log(\"Bokeh: BokehJS is being loaded, scheduling callback at\", now());\n",
       "      return null;\n",
       "    }\n",
       "    if (js_urls == null || js_urls.length === 0) {\n",
       "      run_callbacks();\n",
       "      return null;\n",
       "    }\n",
       "    console.log(\"Bokeh: BokehJS not loaded, scheduling load and callback at\", now());\n",
       "    root._bokeh_is_loading = js_urls.length;\n",
       "    for (var i = 0; i < js_urls.length; i++) {\n",
       "      var url = js_urls[i];\n",
       "      var s = document.createElement('script');\n",
       "      s.src = url;\n",
       "      s.async = false;\n",
       "      s.onreadystatechange = s.onload = function() {\n",
       "        root._bokeh_is_loading--;\n",
       "        if (root._bokeh_is_loading === 0) {\n",
       "          console.log(\"Bokeh: all BokehJS libraries loaded\");\n",
       "          run_callbacks()\n",
       "        }\n",
       "      };\n",
       "      s.onerror = function() {\n",
       "        console.warn(\"failed to load library \" + url);\n",
       "      };\n",
       "      console.log(\"Bokeh: injecting script tag for BokehJS library: \", url);\n",
       "      document.getElementsByTagName(\"head\")[0].appendChild(s);\n",
       "    }\n",
       "  };var element = document.getElementById(\"1467\");\n",
       "  if (element == null) {\n",
       "    console.log(\"Bokeh: ERROR: autoload.js configured with elementid '1467' but no matching script tag was found. \")\n",
       "    return false;\n",
       "  }\n",
       "\n",
       "  var js_urls = [\"https://cdn.pydata.org/bokeh/release/bokeh-1.0.1.min.js\", \"https://cdn.pydata.org/bokeh/release/bokeh-widgets-1.0.1.min.js\", \"https://cdn.pydata.org/bokeh/release/bokeh-tables-1.0.1.min.js\", \"https://cdn.pydata.org/bokeh/release/bokeh-gl-1.0.1.min.js\"];\n",
       "\n",
       "  var inline_js = [\n",
       "    function(Bokeh) {\n",
       "      Bokeh.set_log_level(\"info\");\n",
       "    },\n",
       "    \n",
       "    function(Bokeh) {\n",
       "      \n",
       "    },\n",
       "    function(Bokeh) {\n",
       "      console.log(\"Bokeh: injecting CSS: https://cdn.pydata.org/bokeh/release/bokeh-1.0.1.min.css\");\n",
       "      Bokeh.embed.inject_css(\"https://cdn.pydata.org/bokeh/release/bokeh-1.0.1.min.css\");\n",
       "      console.log(\"Bokeh: injecting CSS: https://cdn.pydata.org/bokeh/release/bokeh-widgets-1.0.1.min.css\");\n",
       "      Bokeh.embed.inject_css(\"https://cdn.pydata.org/bokeh/release/bokeh-widgets-1.0.1.min.css\");\n",
       "      console.log(\"Bokeh: injecting CSS: https://cdn.pydata.org/bokeh/release/bokeh-tables-1.0.1.min.css\");\n",
       "      Bokeh.embed.inject_css(\"https://cdn.pydata.org/bokeh/release/bokeh-tables-1.0.1.min.css\");\n",
       "    }\n",
       "  ];\n",
       "\n",
       "  function run_inline_js() {\n",
       "    \n",
       "    if ((root.Bokeh !== undefined) || (force === true)) {\n",
       "      for (var i = 0; i < inline_js.length; i++) {\n",
       "        inline_js[i].call(root, root.Bokeh);\n",
       "      }if (force === true) {\n",
       "        display_loaded();\n",
       "      }} else if (Date.now() < root._bokeh_timeout) {\n",
       "      setTimeout(run_inline_js, 100);\n",
       "    } else if (!root._bokeh_failed_load) {\n",
       "      console.log(\"Bokeh: BokehJS failed to load within specified timeout.\");\n",
       "      root._bokeh_failed_load = true;\n",
       "    } else if (force !== true) {\n",
       "      var cell = $(document.getElementById(\"1467\")).parents('.cell').data().cell;\n",
       "      cell.output_area.append_execute_result(NB_LOAD_WARNING)\n",
       "    }\n",
       "\n",
       "  }\n",
       "\n",
       "  if (root._bokeh_is_loading === 0) {\n",
       "    console.log(\"Bokeh: BokehJS loaded, going straight to plotting\");\n",
       "    run_inline_js();\n",
       "  } else {\n",
       "    load_libs(js_urls, function() {\n",
       "      console.log(\"Bokeh: BokehJS plotting callback run at\", now());\n",
       "      run_inline_js();\n",
       "    });\n",
       "  }\n",
       "}(window));"
      ],
      "application/vnd.bokehjs_load.v0+json": "\n(function(root) {\n  function now() {\n    return new Date();\n  }\n\n  var force = true;\n\n  if (typeof (root._bokeh_onload_callbacks) === \"undefined\" || force === true) {\n    root._bokeh_onload_callbacks = [];\n    root._bokeh_is_loading = undefined;\n  }\n\n  \n\n  \n  if (typeof (root._bokeh_timeout) === \"undefined\" || force === true) {\n    root._bokeh_timeout = Date.now() + 5000;\n    root._bokeh_failed_load = false;\n  }\n\n  var NB_LOAD_WARNING = {'data': {'text/html':\n     \"<div style='background-color: #fdd'>\\n\"+\n     \"<p>\\n\"+\n     \"BokehJS does not appear to have successfully loaded. If loading BokehJS from CDN, this \\n\"+\n     \"may be due to a slow or bad network connection. Possible fixes:\\n\"+\n     \"</p>\\n\"+\n     \"<ul>\\n\"+\n     \"<li>re-rerun `output_notebook()` to attempt to load from CDN again, or</li>\\n\"+\n     \"<li>use INLINE resources instead, as so:</li>\\n\"+\n     \"</ul>\\n\"+\n     \"<code>\\n\"+\n     \"from bokeh.resources import INLINE\\n\"+\n     \"output_notebook(resources=INLINE)\\n\"+\n     \"</code>\\n\"+\n     \"</div>\"}};\n\n  function display_loaded() {\n    var el = document.getElementById(\"1467\");\n    if (el != null) {\n      el.textContent = \"BokehJS is loading...\";\n    }\n    if (root.Bokeh !== undefined) {\n      if (el != null) {\n        el.textContent = \"BokehJS \" + root.Bokeh.version + \" successfully loaded.\";\n      }\n    } else if (Date.now() < root._bokeh_timeout) {\n      setTimeout(display_loaded, 100)\n    }\n  }\n\n\n  function run_callbacks() {\n    try {\n      root._bokeh_onload_callbacks.forEach(function(callback) { callback() });\n    }\n    finally {\n      delete root._bokeh_onload_callbacks\n    }\n    console.info(\"Bokeh: all callbacks have finished\");\n  }\n\n  function load_libs(js_urls, callback) {\n    root._bokeh_onload_callbacks.push(callback);\n    if (root._bokeh_is_loading > 0) {\n      console.log(\"Bokeh: BokehJS is being loaded, scheduling callback at\", now());\n      return null;\n    }\n    if (js_urls == null || js_urls.length === 0) {\n      run_callbacks();\n      return null;\n    }\n    console.log(\"Bokeh: BokehJS not loaded, scheduling load and callback at\", now());\n    root._bokeh_is_loading = js_urls.length;\n    for (var i = 0; i < js_urls.length; i++) {\n      var url = js_urls[i];\n      var s = document.createElement('script');\n      s.src = url;\n      s.async = false;\n      s.onreadystatechange = s.onload = function() {\n        root._bokeh_is_loading--;\n        if (root._bokeh_is_loading === 0) {\n          console.log(\"Bokeh: all BokehJS libraries loaded\");\n          run_callbacks()\n        }\n      };\n      s.onerror = function() {\n        console.warn(\"failed to load library \" + url);\n      };\n      console.log(\"Bokeh: injecting script tag for BokehJS library: \", url);\n      document.getElementsByTagName(\"head\")[0].appendChild(s);\n    }\n  };var element = document.getElementById(\"1467\");\n  if (element == null) {\n    console.log(\"Bokeh: ERROR: autoload.js configured with elementid '1467' but no matching script tag was found. \")\n    return false;\n  }\n\n  var js_urls = [\"https://cdn.pydata.org/bokeh/release/bokeh-1.0.1.min.js\", \"https://cdn.pydata.org/bokeh/release/bokeh-widgets-1.0.1.min.js\", \"https://cdn.pydata.org/bokeh/release/bokeh-tables-1.0.1.min.js\", \"https://cdn.pydata.org/bokeh/release/bokeh-gl-1.0.1.min.js\"];\n\n  var inline_js = [\n    function(Bokeh) {\n      Bokeh.set_log_level(\"info\");\n    },\n    \n    function(Bokeh) {\n      \n    },\n    function(Bokeh) {\n      console.log(\"Bokeh: injecting CSS: https://cdn.pydata.org/bokeh/release/bokeh-1.0.1.min.css\");\n      Bokeh.embed.inject_css(\"https://cdn.pydata.org/bokeh/release/bokeh-1.0.1.min.css\");\n      console.log(\"Bokeh: injecting CSS: https://cdn.pydata.org/bokeh/release/bokeh-widgets-1.0.1.min.css\");\n      Bokeh.embed.inject_css(\"https://cdn.pydata.org/bokeh/release/bokeh-widgets-1.0.1.min.css\");\n      console.log(\"Bokeh: injecting CSS: https://cdn.pydata.org/bokeh/release/bokeh-tables-1.0.1.min.css\");\n      Bokeh.embed.inject_css(\"https://cdn.pydata.org/bokeh/release/bokeh-tables-1.0.1.min.css\");\n    }\n  ];\n\n  function run_inline_js() {\n    \n    if ((root.Bokeh !== undefined) || (force === true)) {\n      for (var i = 0; i < inline_js.length; i++) {\n        inline_js[i].call(root, root.Bokeh);\n      }if (force === true) {\n        display_loaded();\n      }} else if (Date.now() < root._bokeh_timeout) {\n      setTimeout(run_inline_js, 100);\n    } else if (!root._bokeh_failed_load) {\n      console.log(\"Bokeh: BokehJS failed to load within specified timeout.\");\n      root._bokeh_failed_load = true;\n    } else if (force !== true) {\n      var cell = $(document.getElementById(\"1467\")).parents('.cell').data().cell;\n      cell.output_area.append_execute_result(NB_LOAD_WARNING)\n    }\n\n  }\n\n  if (root._bokeh_is_loading === 0) {\n    console.log(\"Bokeh: BokehJS loaded, going straight to plotting\");\n    run_inline_js();\n  } else {\n    load_libs(js_urls, function() {\n      console.log(\"Bokeh: BokehJS plotting callback run at\", now());\n      run_inline_js();\n    });\n  }\n}(window));"
     },
     "metadata": {},
     "output_type": "display_data"
    },
    {
     "data": {
      "text/html": [
       "\n",
       "\n",
       "\n",
       "\n",
       "\n",
       "\n",
       "  <div class=\"bk-root\" id=\"e643f1ce-7f4e-4400-995e-089c76562d3a\"></div>\n"
      ]
     },
     "metadata": {},
     "output_type": "display_data"
    },
    {
     "data": {
      "application/javascript": [
       "(function(root) {\n",
       "  function embed_document(root) {\n",
       "    \n",
       "  var docs_json = {\"4cd876b3-1b0b-4d6a-903f-8ac93112a137\":{\"roots\":{\"references\":[{\"attributes\":{\"below\":[{\"id\":\"1477\",\"type\":\"LinearAxis\"}],\"left\":[{\"id\":\"1482\",\"type\":\"LinearAxis\"}],\"renderers\":[{\"id\":\"1477\",\"type\":\"LinearAxis\"},{\"id\":\"1481\",\"type\":\"Grid\"},{\"id\":\"1482\",\"type\":\"LinearAxis\"},{\"id\":\"1486\",\"type\":\"Grid\"},{\"id\":\"1495\",\"type\":\"BoxAnnotation\"},{\"id\":\"1505\",\"type\":\"GlyphRenderer\"}],\"title\":{\"id\":\"1544\",\"type\":\"Title\"},\"toolbar\":{\"id\":\"1493\",\"type\":\"Toolbar\"},\"x_range\":{\"id\":\"1469\",\"type\":\"DataRange1d\"},\"x_scale\":{\"id\":\"1473\",\"type\":\"LinearScale\"},\"y_range\":{\"id\":\"1471\",\"type\":\"DataRange1d\"},\"y_scale\":{\"id\":\"1475\",\"type\":\"LinearScale\"}},\"id\":\"1468\",\"subtype\":\"Figure\",\"type\":\"Plot\"},{\"attributes\":{\"line_alpha\":0.1,\"line_color\":\"#1f77b4\",\"x\":{\"field\":\"x\"},\"y\":{\"field\":\"y\"}},\"id\":\"1504\",\"type\":\"Line\"},{\"attributes\":{\"callback\":null},\"id\":\"1471\",\"type\":\"DataRange1d\"},{\"attributes\":{},\"id\":\"1488\",\"type\":\"WheelZoomTool\"},{\"attributes\":{\"formatter\":{\"id\":\"1548\",\"type\":\"BasicTickFormatter\"},\"plot\":{\"id\":\"1468\",\"subtype\":\"Figure\",\"type\":\"Plot\"},\"ticker\":{\"id\":\"1483\",\"type\":\"BasicTicker\"}},\"id\":\"1482\",\"type\":\"LinearAxis\"},{\"attributes\":{},\"id\":\"1473\",\"type\":\"LinearScale\"},{\"attributes\":{\"line_color\":\"red\",\"x\":{\"field\":\"x\"},\"y\":{\"field\":\"y\"}},\"id\":\"1503\",\"type\":\"Line\"},{\"attributes\":{\"plot\":null,\"text\":\"\"},\"id\":\"1544\",\"type\":\"Title\"},{\"attributes\":{\"plot\":{\"id\":\"1468\",\"subtype\":\"Figure\",\"type\":\"Plot\"},\"ticker\":{\"id\":\"1478\",\"type\":\"BasicTicker\"}},\"id\":\"1481\",\"type\":\"Grid\"},{\"attributes\":{\"formatter\":{\"id\":\"1546\",\"type\":\"BasicTickFormatter\"},\"plot\":{\"id\":\"1468\",\"subtype\":\"Figure\",\"type\":\"Plot\"},\"ticker\":{\"id\":\"1478\",\"type\":\"BasicTicker\"}},\"id\":\"1477\",\"type\":\"LinearAxis\"},{\"attributes\":{},\"id\":\"1487\",\"type\":\"PanTool\"},{\"attributes\":{},\"id\":\"1550\",\"type\":\"UnionRenderers\"},{\"attributes\":{},\"id\":\"1478\",\"type\":\"BasicTicker\"},{\"attributes\":{},\"id\":\"1546\",\"type\":\"BasicTickFormatter\"},{\"attributes\":{},\"id\":\"1483\",\"type\":\"BasicTicker\"},{\"attributes\":{\"source\":{\"id\":\"1502\",\"type\":\"ColumnDataSource\"}},\"id\":\"1506\",\"type\":\"CDSView\"},{\"attributes\":{\"dimension\":1,\"plot\":{\"id\":\"1468\",\"subtype\":\"Figure\",\"type\":\"Plot\"},\"ticker\":{\"id\":\"1483\",\"type\":\"BasicTicker\"}},\"id\":\"1486\",\"type\":\"Grid\"},{\"attributes\":{\"callback\":null,\"data\":{\"x\":[0,1,2,3,4,5,6,7,8,9,10,11,12,13,14,15,16,17,18,19,20,21,22,23,24,25,26,27,28,29,30,31,32,33,34,35,36,37,38,39,40,41,42,43,44,45,46,47,48,49,50,51,52,53,54,55,56,57,58,59,60,61,62,63,64,65,66,67,68,69,70,71,72,73,74,75,76,77,78,79,80,81,82,83,84,85,86,87,88,89,90,91,92,93,94,95,96,97,98,99,100,101,102,103,104,105,106,107,108,109,110,111,112,113,114,115,116,117,118,119,120,121,122,123,124,125,126,127,128,129,130,131,132,133,134,135,136,137,138,139,140,141,142,143,144,145,146,147,148,149,150,151,152,153,154,155,156,157,158,159,160,161,162,163,164,165,166,167,168,169,170,171,172,173,174,175,176,177,178,179,180,181,182,183,184,185,186,187,188,189,190,191,192,193,194,195,196,197,198,199,200,201,202,203,204,205,206,207,208,209,210,211,212,213,214,215,216,217,218,219,220,221,222,223,224,225,226,227,228,229,230,231,232,233,234,235,236,237,238,239,240,241,242,243,244,245,246,247,248,249,250,251,252,253,254,255,256,257,258,259,260,261,262,263,264,265,266,267,268,269,270,271,272,273,274,275,276,277,278,279,280,281,282,283,284,285,286,287,288,289,290,291,292,293,294,295,296,297,298,299,300,301,302,303,304,305,306,307,308,309,310,311,312,313,314,315,316,317,318,319,320,321,322,323,324,325,326,327,328,329,330,331,332,333,334,335,336,337,338,339,340,341,342,343,344,345,346,347,348,349,350,351,352,353,354,355,356,357,358,359,360,361,362,363,364,365,366,367,368,369,370,371,372,373,374,375,376,377,378,379,380,381,382,383,384,385,386,387,388,389,390,391,392,393,394,395,396,397,398,399,400,401,402,403,404,405,406,407,408,409,410,411,412,413,414,415,416,417,418,419,420,421,422,423,424,425,426,427,428,429,430,431,432,433,434,435,436,437,438,439,440,441,442,443,444,445,446,447,448,449,450,451,452,453,454,455,456,457,458,459,460,461,462,463,464,465,466,467,468,469,470,471,472,473,474,475,476,477,478,479,480,481,482,483,484,485,486,487,488,489,490,491,492,493,494,495,496,497,498,499,500,501,502,503,504,505,506,507,508,509,510,511,512,513,514,515,516,517,518,519,520,521,522,523,524,525,526,527,528,529,530,531,532,533,534,535,536,537,538,539,540,541,542,543,544,545,546,547,548,549,550,551,552,553,554,555,556,557,558,559,560,561,562,563,564,565,566,567,568,569,570,571,572,573,574,575,576,577,578,579,580,581,582,583,584,585,586,587,588,589,590,591,592,593,594,595,596,597,598,599,600,601,602,603,604,605,606,607,608,609,610,611,612,613,614,615,616,617,618,619,620,621,622,623,624,625,626,627,628,629,630,631,632,633,634,635,636,637,638,639,640,641,642,643,644,645,646,647,648,649,650,651,652,653,654,655,656,657,658,659,660,661,662,663,664,665,666,667,668,669,670,671,672,673,674,675,676,677,678,679,680,681,682,683,684,685,686,687,688,689,690,691,692,693,694,695,696,697,698,699,700,701,702,703,704,705,706,707,708,709,710,711,712,713,714,715,716,717,718,719,720,721,722,723,724,725,726,727,728,729,730,731,732,733,734,735,736,737,738,739,740,741,742,743,744,745,746,747,748,749,750,751,752,753,754,755,756,757,758,759,760,761,762,763,764,765,766,767,768,769,770,771,772,773,774,775,776,777,778,779,780,781,782,783,784,785,786,787,788,789,790,791,792,793,794,795,796,797,798,799,800,801,802,803,804,805,806,807,808,809,810,811,812,813,814,815,816,817,818,819,820,821,822,823,824,825,826,827,828,829,830,831,832,833,834,835,836,837,838,839,840,841,842,843,844,845,846,847,848,849,850,851,852,853,854,855,856,857,858,859,860,861,862,863,864,865,866,867,868,869,870,871,872,873,874,875,876,877,878,879,880,881,882,883,884,885,886,887,888,889,890,891,892,893,894,895,896,897,898,899,900,901,902,903,904,905,906,907,908,909,910,911,912,913,914,915,916,917,918,919,920,921,922,923,924,925,926,927,928,929,930,931,932,933,934,935,936,937,938,939,940,941,942,943,944,945,946,947,948,949,950,951,952,953,954,955,956,957,958,959,960,961,962,963,964,965,966,967,968,969,970,971,972,973,974,975,976,977,978,979,980,981,982,983,984,985,986,987,988,989,990,991,992,993,994,995,996,997,998,999,1000,1001,1002,1003,1004,1005,1006,1007,1008,1009,1010,1011,1012,1013,1014,1015,1016,1017,1018,1019,1020,1021,1022,1023,1024,1025,1026,1027,1028,1029,1030,1031,1032,1033,1034,1035,1036,1037,1038,1039,1040,1041,1042,1043,1044,1045,1046,1047,1048,1049,1050,1051,1052,1053,1054,1055,1056,1057,1058,1059,1060,1061,1062,1063,1064,1065,1066,1067,1068,1069,1070,1071,1072,1073,1074,1075,1076,1077,1078,1079,1080,1081,1082,1083,1084,1085,1086,1087,1088,1089,1090,1091,1092,1093,1094,1095,1096,1097,1098,1099,1100,1101,1102,1103,1104,1105,1106,1107,1108,1109,1110,1111,1112,1113,1114,1115,1116,1117,1118,1119,1120,1121,1122,1123,1124,1125,1126,1127,1128,1129,1130,1131,1132,1133,1134,1135,1136,1137,1138,1139,1140,1141,1142,1143,1144,1145,1146,1147,1148,1149,1150,1151,1152,1153,1154,1155,1156,1157,1158,1159,1160,1161,1162,1163,1164,1165,1166,1167,1168,1169,1170,1171,1172,1173,1174,1175,1176,1177,1178,1179,1180,1181,1182,1183,1184,1185,1186,1187,1188,1189,1190,1191,1192,1193,1194,1195,1196,1197,1198,1199,1200,1201,1202,1203,1204,1205,1206,1207,1208,1209,1210,1211,1212,1213,1214,1215,1216,1217,1218,1219,1220,1221,1222,1223,1224,1225,1226,1227,1228,1229,1230,1231,1232,1233,1234,1235,1236,1237,1238,1239,1240,1241,1242,1243,1244,1245,1246,1247,1248,1249,1250,1251,1252,1253,1254,1255,1256,1257,1258,1259,1260,1261,1262,1263,1264,1265,1266,1267,1268,1269,1270,1271,1272,1273,1274,1275,1276,1277,1278,1279,1280,1281,1282,1283,1284,1285,1286,1287,1288,1289,1290,1291,1292,1293,1294,1295,1296,1297,1298,1299,1300,1301,1302,1303,1304,1305,1306,1307,1308,1309,1310,1311,1312,1313,1314,1315,1316,1317,1318,1319,1320,1321,1322,1323,1324,1325,1326,1327,1328,1329,1330,1331,1332,1333,1334,1335,1336,1337,1338,1339,1340,1341,1342,1343,1344,1345,1346,1347,1348,1349,1350,1351,1352,1353,1354,1355,1356,1357,1358,1359,1360,1361,1362,1363,1364,1365,1366,1367,1368,1369,1370,1371,1372,1373,1374,1375,1376,1377,1378,1379,1380,1381,1382,1383,1384,1385,1386,1387,1388,1389,1390,1391,1392,1393,1394,1395,1396,1397,1398,1399,1400,1401,1402,1403,1404,1405,1406,1407,1408,1409,1410,1411,1412,1413,1414,1415,1416,1417,1418,1419,1420,1421,1422,1423,1424,1425,1426,1427,1428,1429,1430,1431,1432,1433,1434,1435,1436,1437,1438,1439,1440,1441,1442,1443,1444,1445,1446,1447,1448,1449,1450,1451,1452,1453,1454,1455,1456,1457,1458,1459,1460,1461,1462,1463,1464,1465,1466,1467,1468,1469,1470,1471,1472,1473,1474,1475,1476,1477,1478,1479,1480,1481,1482,1483,1484,1485,1486,1487,1488,1489,1490,1491,1492,1493,1494,1495,1496,1497,1498,1499,1500,1501,1502,1503,1504,1505,1506,1507,1508,1509,1510,1511,1512,1513,1514,1515,1516,1517,1518,1519,1520,1521,1522,1523,1524,1525,1526,1527,1528,1529,1530,1531,1532,1533,1534,1535,1536,1537,1538,1539,1540,1541,1542,1543,1544,1545,1546,1547,1548,1549,1550,1551,1552,1553,1554,1555,1556,1557,1558,1559,1560,1561,1562,1563,1564,1565,1566,1567,1568,1569,1570,1571,1572,1573,1574,1575,1576,1577,1578,1579,1580,1581,1582,1583,1584,1585,1586,1587,1588,1589,1590,1591,1592,1593,1594,1595,1596,1597,1598,1599,1600,1601,1602,1603,1604,1605,1606,1607,1608,1609,1610,1611,1612,1613,1614,1615,1616,1617,1618,1619,1620,1621,1622,1623,1624,1625,1626,1627,1628,1629,1630,1631,1632,1633,1634,1635,1636,1637,1638,1639,1640,1641,1642,1643,1644,1645,1646,1647,1648,1649,1650,1651,1652,1653,1654,1655,1656,1657,1658,1659,1660,1661,1662,1663,1664,1665,1666,1667,1668,1669,1670,1671,1672,1673,1674,1675,1676,1677,1678,1679,1680,1681,1682,1683,1684,1685,1686,1687,1688,1689,1690,1691,1692,1693,1694,1695,1696,1697,1698,1699,1700,1701,1702,1703,1704,1705,1706,1707,1708,1709,1710,1711,1712,1713,1714,1715,1716,1717,1718,1719,1720,1721,1722,1723,1724,1725,1726,1727,1728,1729,1730,1731,1732,1733,1734,1735,1736,1737,1738,1739,1740,1741,1742,1743,1744,1745,1746,1747,1748,1749,1750,1751,1752,1753,1754,1755,1756,1757,1758,1759,1760,1761,1762,1763,1764,1765,1766,1767,1768,1769,1770,1771,1772,1773,1774,1775,1776,1777,1778,1779,1780,1781,1782,1783,1784,1785,1786,1787,1788,1789,1790,1791,1792,1793,1794,1795,1796,1797,1798,1799,1800,1801,1802,1803,1804,1805,1806,1807,1808,1809,1810,1811,1812,1813,1814,1815,1816,1817,1818,1819,1820,1821,1822,1823,1824,1825,1826,1827,1828,1829,1830,1831,1832,1833,1834,1835,1836,1837,1838,1839,1840,1841,1842,1843,1844,1845,1846,1847,1848,1849,1850,1851,1852,1853,1854,1855,1856,1857,1858,1859,1860,1861,1862,1863,1864,1865,1866,1867,1868,1869,1870,1871,1872,1873,1874,1875,1876,1877,1878,1879,1880,1881,1882,1883,1884,1885,1886,1887,1888,1889,1890,1891,1892,1893,1894,1895,1896,1897,1898,1899,1900,1901,1902,1903,1904,1905,1906,1907,1908,1909,1910,1911,1912,1913,1914,1915,1916,1917,1918,1919,1920,1921,1922,1923,1924,1925,1926,1927,1928,1929,1930,1931,1932,1933,1934,1935,1936,1937,1938,1939,1940,1941,1942,1943,1944,1945,1946,1947,1948,1949,1950,1951,1952,1953,1954,1955,1956,1957,1958,1959,1960,1961,1962,1963,1964,1965,1966,1967,1968,1969,1970,1971,1972,1973,1974,1975,1976,1977,1978,1979,1980,1981,1982,1983,1984,1985,1986,1987,1988,1989,1990,1991,1992,1993,1994,1995,1996,1997,1998,1999,2000,2001,2002,2003,2004,2005,2006,2007,2008,2009,2010,2011,2012,2013,2014,2015,2016,2017,2018,2019,2020,2021,2022,2023,2024,2025,2026,2027,2028,2029,2030,2031,2032,2033,2034,2035,2036,2037,2038,2039,2040,2041,2042,2043,2044,2045,2046,2047,2048,2049,2050,2051,2052,2053,2054,2055,2056,2057,2058,2059,2060,2061,2062,2063,2064,2065,2066,2067,2068,2069,2070,2071,2072,2073,2074,2075,2076,2077,2078,2079,2080,2081,2082,2083,2084,2085,2086,2087,2088,2089,2090,2091,2092,2093,2094,2095,2096,2097,2098,2099,2100,2101,2102,2103,2104,2105,2106,2107,2108,2109,2110,2111,2112,2113,2114,2115,2116,2117,2118,2119,2120,2121,2122,2123,2124,2125,2126,2127,2128,2129,2130,2131,2132,2133,2134,2135,2136,2137,2138,2139,2140,2141,2142,2143,2144,2145,2146,2147,2148,2149,2150,2151,2152,2153,2154,2155,2156,2157,2158,2159,2160,2161,2162,2163,2164,2165,2166,2167,2168,2169,2170,2171,2172,2173,2174,2175,2176,2177,2178,2179,2180,2181,2182,2183,2184,2185,2186,2187,2188,2189,2190,2191,2192,2193,2194,2195,2196,2197,2198,2199,2200,2201,2202,2203,2204,2205,2206,2207,2208,2209,2210,2211,2212,2213,2214,2215,2216,2217,2218,2219,2220,2221,2222,2223,2224,2225,2226,2227,2228,2229,2230,2231,2232,2233,2234,2235,2236,2237,2238,2239,2240,2241,2242,2243,2244,2245,2246,2247,2248,2249,2250,2251,2252,2253,2254,2255,2256,2257,2258,2259,2260,2261,2262,2263,2264,2265,2266,2267,2268,2269,2270,2271,2272,2273,2274,2275,2276,2277,2278,2279,2280,2281,2282,2283,2284,2285,2286,2287,2288,2289,2290,2291,2292,2293,2294,2295,2296,2297,2298,2299,2300,2301,2302,2303,2304,2305,2306,2307,2308,2309,2310,2311,2312,2313,2314,2315,2316,2317,2318,2319,2320,2321,2322,2323,2324,2325,2326,2327,2328,2329,2330,2331,2332,2333,2334,2335,2336,2337,2338,2339,2340,2341,2342,2343,2344,2345,2346,2347,2348,2349,2350,2351,2352,2353,2354,2355,2356,2357,2358,2359,2360,2361,2362,2363,2364,2365,2366,2367,2368,2369,2370,2371,2372,2373,2374,2375,2376,2377,2378,2379,2380,2381,2382,2383,2384,2385,2386,2387,2388,2389,2390,2391,2392,2393,2394,2395,2396,2397,2398,2399,2400,2401,2402,2403,2404,2405,2406,2407,2408,2409,2410,2411,2412,2413,2414,2415,2416,2417,2418,2419,2420,2421,2422,2423,2424,2425,2426,2427,2428,2429,2430,2431,2432,2433,2434,2435,2436,2437,2438,2439,2440,2441,2442,2443,2444,2445,2446,2447,2448,2449,2450,2451,2452,2453,2454,2455,2456,2457,2458,2459,2460,2461,2462,2463,2464,2465,2466,2467,2468,2469,2470,2471,2472,2473,2474,2475,2476,2477,2478,2479,2480,2481,2482,2483,2484,2485,2486,2487,2488,2489,2490,2491,2492,2493,2494,2495,2496,2497,2498,2499,2500,2501,2502,2503,2504,2505,2506,2507,2508,2509,2510,2511,2512,2513,2514,2515,2516,2517,2518,2519,2520,2521,2522,2523,2524,2525,2526,2527,2528,2529,2530,2531,2532,2533,2534,2535,2536,2537,2538,2539,2540,2541,2542,2543,2544,2545,2546,2547,2548,2549,2550,2551,2552,2553,2554,2555,2556,2557,2558,2559,2560,2561,2562,2563,2564,2565,2566,2567,2568,2569,2570,2571,2572,2573,2574,2575,2576,2577,2578,2579,2580,2581,2582,2583,2584,2585,2586,2587,2588,2589,2590,2591,2592,2593,2594,2595,2596,2597,2598,2599,2600,2601,2602,2603,2604,2605,2606,2607,2608,2609,2610,2611,2612,2613,2614,2615,2616,2617,2618,2619,2620,2621,2622,2623,2624,2625,2626,2627,2628,2629,2630,2631,2632,2633,2634,2635,2636,2637,2638,2639,2640,2641,2642,2643,2644,2645,2646,2647,2648,2649,2650,2651,2652,2653,2654,2655,2656,2657,2658,2659,2660,2661,2662,2663,2664,2665,2666,2667,2668,2669,2670,2671,2672,2673,2674,2675,2676,2677,2678,2679,2680,2681,2682,2683,2684,2685,2686,2687,2688,2689,2690,2691,2692,2693,2694,2695,2696,2697,2698,2699,2700,2701,2702,2703,2704,2705,2706,2707,2708,2709,2710,2711,2712,2713,2714,2715,2716,2717,2718,2719,2720,2721,2722,2723,2724,2725,2726,2727,2728,2729,2730,2731,2732,2733,2734,2735,2736,2737,2738,2739,2740,2741,2742,2743,2744,2745,2746,2747,2748,2749,2750,2751,2752,2753,2754,2755,2756,2757,2758,2759,2760,2761,2762,2763,2764,2765,2766,2767,2768,2769,2770,2771,2772,2773,2774,2775,2776,2777,2778,2779,2780,2781,2782,2783,2784,2785,2786,2787,2788,2789,2790,2791,2792,2793,2794,2795,2796,2797,2798,2799,2800,2801,2802,2803,2804,2805,2806,2807,2808,2809,2810,2811,2812,2813,2814,2815,2816,2817,2818,2819,2820,2821,2822,2823,2824,2825,2826,2827,2828,2829,2830,2831,2832,2833,2834,2835,2836,2837,2838,2839,2840,2841,2842,2843,2844,2845,2846,2847,2848,2849,2850,2851,2852,2853,2854,2855,2856,2857,2858,2859,2860,2861,2862,2863,2864,2865,2866,2867,2868,2869,2870,2871,2872,2873,2874,2875,2876,2877,2878,2879,2880,2881,2882,2883,2884,2885,2886,2887,2888,2889,2890,2891,2892,2893,2894,2895,2896,2897,2898,2899,2900,2901,2902,2903,2904,2905,2906,2907,2908,2909,2910,2911,2912,2913,2914,2915,2916,2917,2918,2919,2920,2921,2922,2923,2924,2925,2926,2927,2928,2929,2930,2931,2932,2933,2934,2935,2936,2937,2938,2939,2940,2941,2942,2943,2944,2945,2946,2947,2948,2949,2950,2951,2952,2953,2954,2955,2956,2957,2958,2959,2960,2961,2962,2963,2964,2965,2966,2967,2968,2969,2970,2971,2972,2973,2974,2975,2976,2977,2978,2979,2980,2981,2982,2983,2984,2985,2986,2987,2988,2989,2990,2991,2992,2993,2994,2995,2996,2997,2998,2999,3000,3001,3002,3003,3004,3005,3006,3007,3008,3009,3010,3011,3012,3013,3014,3015,3016,3017,3018,3019,3020,3021,3022,3023,3024,3025,3026,3027,3028,3029,3030,3031,3032,3033,3034,3035,3036,3037,3038,3039,3040,3041,3042,3043,3044,3045,3046,3047,3048,3049,3050,3051,3052,3053,3054,3055,3056,3057,3058,3059,3060,3061,3062,3063,3064,3065,3066,3067,3068,3069,3070,3071,3072,3073,3074,3075,3076,3077,3078,3079,3080,3081,3082,3083,3084,3085,3086,3087,3088,3089,3090,3091,3092,3093,3094,3095,3096,3097,3098,3099,3100,3101,3102,3103,3104,3105,3106,3107,3108,3109,3110,3111,3112,3113,3114,3115,3116,3117,3118,3119,3120,3121,3122,3123,3124,3125,3126,3127,3128,3129,3130,3131,3132,3133,3134,3135,3136,3137,3138,3139,3140,3141,3142,3143,3144,3145,3146,3147,3148,3149,3150,3151,3152,3153,3154,3155,3156,3157,3158,3159,3160,3161,3162,3163,3164,3165,3166,3167,3168,3169,3170,3171,3172,3173,3174,3175,3176,3177,3178,3179,3180,3181,3182,3183,3184,3185,3186,3187,3188,3189,3190,3191,3192,3193,3194,3195,3196,3197,3198,3199,3200,3201,3202,3203,3204,3205,3206,3207,3208,3209,3210,3211,3212,3213,3214,3215,3216,3217,3218,3219,3220,3221,3222,3223,3224,3225,3226,3227,3228,3229,3230,3231,3232,3233,3234,3235,3236,3237,3238,3239,3240,3241,3242,3243,3244,3245,3246,3247,3248,3249,3250,3251,3252,3253,3254,3255,3256,3257,3258,3259,3260,3261,3262,3263,3264,3265,3266,3267,3268,3269,3270,3271,3272,3273,3274,3275,3276,3277,3278,3279,3280,3281,3282,3283,3284,3285,3286,3287,3288,3289,3290,3291,3292,3293,3294,3295,3296,3297,3298,3299,3300,3301,3302,3303,3304,3305,3306,3307,3308,3309,3310,3311,3312,3313,3314,3315,3316,3317,3318,3319,3320,3321,3322,3323,3324,3325,3326,3327,3328,3329,3330,3331,3332,3333,3334,3335,3336,3337,3338,3339,3340,3341,3342,3343,3344,3345,3346,3347,3348,3349,3350,3351,3352,3353,3354,3355,3356,3357,3358,3359,3360,3361,3362,3363,3364,3365,3366,3367,3368,3369,3370,3371,3372,3373,3374,3375,3376,3377,3378,3379,3380,3381,3382,3383,3384,3385,3386,3387,3388,3389,3390,3391,3392,3393,3394,3395,3396,3397,3398,3399,3400,3401,3402,3403,3404,3405,3406,3407,3408,3409,3410,3411,3412,3413,3414,3415,3416,3417,3418,3419,3420,3421,3422,3423,3424,3425,3426,3427,3428,3429,3430,3431,3432,3433,3434,3435,3436,3437,3438,3439,3440,3441,3442,3443,3444,3445,3446,3447,3448,3449,3450,3451,3452,3453,3454,3455,3456,3457,3458,3459,3460,3461,3462,3463,3464,3465,3466,3467,3468,3469,3470,3471,3472,3473,3474,3475,3476,3477,3478,3479,3480,3481,3482,3483,3484,3485,3486,3487,3488,3489,3490,3491,3492,3493,3494,3495,3496,3497,3498,3499,3500,3501,3502,3503,3504,3505,3506,3507,3508,3509,3510,3511,3512,3513,3514,3515,3516,3517,3518,3519,3520,3521,3522,3523,3524,3525,3526,3527,3528,3529,3530,3531,3532,3533,3534,3535,3536,3537,3538,3539,3540,3541,3542,3543,3544,3545,3546,3547,3548,3549,3550,3551,3552,3553,3554,3555,3556,3557,3558,3559,3560,3561,3562,3563,3564,3565,3566,3567,3568,3569,3570,3571,3572,3573,3574,3575,3576,3577,3578,3579,3580,3581,3582,3583,3584,3585,3586,3587,3588,3589,3590,3591,3592,3593,3594,3595,3596,3597,3598,3599,3600,3601,3602,3603,3604,3605,3606,3607,3608,3609,3610,3611,3612,3613,3614,3615,3616,3617,3618,3619,3620,3621,3622,3623,3624,3625,3626,3627,3628,3629,3630,3631,3632,3633,3634,3635,3636,3637,3638,3639,3640,3641,3642,3643,3644,3645,3646,3647,3648,3649,3650,3651,3652,3653,3654,3655,3656,3657,3658,3659,3660,3661,3662,3663,3664,3665,3666,3667,3668,3669,3670,3671,3672,3673,3674,3675,3676,3677,3678,3679,3680,3681,3682,3683,3684,3685,3686,3687,3688,3689,3690,3691,3692,3693,3694,3695,3696,3697,3698,3699,3700,3701,3702,3703,3704,3705,3706,3707,3708,3709,3710,3711,3712,3713,3714,3715,3716,3717,3718,3719,3720,3721,3722,3723,3724,3725,3726,3727,3728,3729,3730,3731,3732,3733,3734,3735,3736,3737,3738,3739,3740,3741,3742,3743,3744,3745,3746,3747,3748,3749,3750,3751,3752,3753,3754,3755,3756,3757,3758,3759,3760,3761,3762,3763,3764,3765,3766,3767,3768,3769,3770,3771,3772,3773,3774,3775,3776,3777,3778,3779,3780,3781,3782,3783,3784,3785,3786,3787,3788,3789,3790,3791,3792,3793,3794,3795,3796,3797,3798,3799,3800,3801,3802,3803,3804,3805,3806,3807,3808,3809,3810,3811,3812,3813,3814,3815,3816,3817,3818,3819,3820,3821,3822,3823,3824,3825,3826,3827,3828,3829,3830,3831,3832,3833,3834,3835,3836,3837,3838,3839,3840,3841,3842,3843,3844,3845,3846,3847,3848,3849,3850,3851,3852,3853,3854,3855,3856,3857,3858,3859,3860,3861,3862,3863,3864,3865,3866,3867,3868,3869,3870,3871,3872,3873,3874,3875,3876,3877,3878,3879,3880,3881,3882,3883,3884,3885,3886,3887,3888,3889,3890,3891,3892,3893,3894,3895,3896,3897,3898,3899,3900,3901,3902,3903,3904,3905,3906,3907,3908,3909,3910,3911,3912,3913,3914,3915,3916,3917,3918,3919,3920,3921,3922,3923,3924,3925,3926,3927,3928,3929,3930,3931,3932,3933,3934,3935,3936,3937,3938,3939,3940,3941,3942,3943,3944,3945,3946,3947,3948,3949,3950,3951,3952,3953,3954,3955,3956,3957,3958,3959,3960,3961,3962,3963,3964,3965,3966,3967,3968,3969,3970,3971,3972,3973,3974,3975,3976,3977,3978,3979,3980,3981,3982,3983,3984,3985,3986,3987,3988,3989,3990,3991,3992,3993,3994,3995,3996,3997,3998,3999,4000,4001,4002,4003,4004,4005,4006,4007,4008,4009,4010,4011,4012,4013,4014,4015,4016,4017,4018,4019,4020,4021,4022,4023,4024,4025,4026,4027,4028,4029,4030,4031,4032,4033,4034,4035,4036,4037,4038,4039,4040,4041,4042,4043,4044,4045,4046,4047,4048,4049,4050,4051,4052,4053,4054,4055,4056,4057,4058,4059,4060,4061,4062,4063,4064,4065,4066,4067,4068,4069,4070,4071,4072,4073,4074,4075,4076,4077,4078,4079,4080,4081,4082,4083,4084,4085,4086,4087,4088,4089,4090,4091,4092,4093,4094,4095,4096,4097,4098,4099,4100,4101,4102,4103,4104,4105,4106,4107,4108,4109,4110,4111,4112,4113,4114,4115,4116,4117,4118,4119,4120,4121,4122,4123,4124,4125,4126,4127,4128,4129,4130,4131,4132,4133,4134,4135,4136,4137,4138,4139,4140,4141,4142,4143,4144,4145,4146,4147,4148,4149,4150,4151,4152,4153,4154,4155,4156,4157,4158,4159,4160,4161,4162,4163,4164,4165,4166,4167,4168,4169,4170,4171,4172,4173,4174,4175,4176,4177,4178,4179,4180,4181,4182,4183,4184,4185,4186,4187,4188,4189,4190,4191,4192,4193,4194,4195,4196,4197,4198,4199,4200,4201,4202,4203,4204,4205,4206,4207,4208,4209,4210,4211,4212,4213,4214,4215,4216,4217,4218,4219,4220,4221,4222,4223,4224,4225,4226,4227,4228,4229,4230,4231,4232,4233,4234,4235,4236,4237,4238,4239,4240,4241,4242,4243,4244,4245,4246,4247,4248,4249,4250,4251,4252,4253,4254,4255,4256,4257,4258,4259,4260,4261,4262,4263,4264,4265,4266,4267,4268,4269,4270,4271,4272,4273,4274,4275,4276,4277,4278,4279,4280,4281,4282,4283,4284,4285,4286,4287,4288,4289,4290,4291,4292,4293,4294,4295,4296,4297,4298,4299,4300,4301,4302,4303,4304,4305,4306,4307,4308,4309,4310,4311,4312,4313,4314,4315,4316,4317,4318,4319,4320,4321,4322,4323,4324,4325,4326,4327,4328,4329,4330,4331,4332,4333,4334,4335,4336,4337,4338,4339,4340,4341,4342,4343,4344,4345,4346,4347,4348,4349,4350,4351,4352,4353,4354,4355,4356,4357,4358,4359,4360,4361,4362,4363,4364,4365,4366,4367,4368,4369,4370,4371,4372,4373,4374,4375,4376,4377,4378,4379,4380,4381,4382,4383,4384,4385,4386,4387,4388,4389,4390,4391,4392,4393,4394,4395,4396,4397,4398,4399,4400,4401,4402,4403,4404,4405,4406,4407,4408,4409,4410,4411,4412,4413,4414,4415,4416,4417,4418,4419,4420,4421,4422,4423,4424,4425,4426,4427,4428,4429,4430,4431,4432,4433,4434,4435,4436,4437,4438,4439,4440,4441,4442,4443,4444,4445,4446,4447,4448,4449,4450,4451,4452,4453,4454,4455,4456,4457,4458,4459,4460,4461,4462,4463,4464,4465,4466,4467,4468,4469,4470,4471,4472,4473,4474,4475,4476,4477,4478,4479,4480,4481,4482,4483,4484,4485,4486,4487,4488,4489,4490,4491,4492,4493,4494,4495,4496,4497,4498,4499,4500,4501,4502,4503,4504,4505,4506,4507,4508,4509,4510,4511,4512,4513,4514,4515,4516,4517,4518,4519,4520,4521,4522,4523,4524,4525,4526,4527,4528,4529,4530,4531,4532,4533,4534,4535,4536,4537,4538,4539,4540,4541,4542,4543,4544,4545,4546,4547,4548,4549,4550,4551,4552,4553,4554,4555,4556,4557,4558,4559,4560,4561,4562,4563,4564,4565,4566,4567,4568,4569,4570,4571,4572,4573,4574,4575,4576,4577,4578,4579,4580,4581,4582,4583,4584,4585,4586,4587,4588,4589,4590,4591,4592,4593,4594,4595,4596,4597,4598,4599,4600,4601,4602,4603,4604,4605,4606,4607,4608,4609,4610,4611,4612,4613,4614,4615,4616,4617,4618,4619,4620,4621,4622,4623,4624,4625,4626,4627,4628,4629,4630,4631,4632,4633,4634,4635,4636,4637,4638,4639,4640,4641,4642,4643,4644,4645,4646,4647,4648,4649,4650,4651,4652,4653,4654,4655,4656,4657,4658,4659,4660,4661,4662,4663,4664,4665,4666,4667,4668,4669,4670,4671,4672,4673,4674,4675,4676,4677,4678,4679,4680,4681,4682,4683,4684,4685,4686,4687,4688,4689,4690,4691,4692,4693,4694,4695,4696,4697,4698,4699,4700,4701,4702,4703,4704,4705,4706,4707,4708,4709,4710,4711,4712,4713,4714,4715,4716,4717,4718,4719,4720,4721,4722,4723,4724,4725,4726,4727,4728,4729,4730,4731,4732,4733,4734,4735,4736,4737,4738,4739,4740,4741,4742,4743,4744,4745,4746,4747,4748,4749,4750,4751,4752,4753,4754,4755,4756,4757,4758,4759,4760,4761,4762,4763,4764,4765,4766,4767,4768,4769,4770,4771,4772,4773,4774,4775,4776,4777,4778,4779,4780,4781,4782,4783,4784,4785,4786,4787,4788,4789,4790,4791,4792,4793,4794,4795,4796,4797,4798,4799,4800,4801,4802,4803,4804,4805,4806,4807,4808,4809,4810,4811,4812,4813,4814,4815,4816,4817,4818,4819,4820,4821,4822,4823,4824,4825,4826,4827,4828,4829,4830,4831,4832,4833,4834,4835,4836,4837,4838,4839,4840,4841,4842,4843,4844,4845,4846,4847,4848,4849,4850,4851,4852,4853,4854,4855,4856,4857,4858,4859,4860,4861,4862,4863,4864,4865,4866,4867,4868,4869,4870,4871,4872,4873,4874,4875,4876,4877,4878,4879,4880,4881,4882,4883,4884,4885,4886,4887,4888,4889,4890,4891,4892,4893,4894,4895,4896,4897,4898,4899,4900,4901,4902,4903,4904,4905,4906,4907,4908,4909,4910,4911,4912,4913,4914,4915,4916,4917,4918,4919,4920,4921,4922,4923,4924,4925,4926,4927,4928,4929,4930,4931,4932,4933,4934,4935,4936,4937,4938,4939,4940,4941,4942,4943,4944,4945,4946,4947,4948,4949,4950,4951,4952,4953,4954,4955,4956,4957,4958,4959,4960,4961,4962,4963,4964,4965,4966,4967,4968,4969,4970,4971,4972,4973,4974,4975,4976,4977,4978,4979,4980,4981,4982,4983,4984,4985,4986,4987,4988,4989,4990,4991,4992,4993,4994,4995,4996,4997,4998,4999],\"y\":{\"__ndarray__\":\"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\",\"dtype\":\"float64\",\"shape\":[5000]}},\"selected\":{\"id\":\"1549\",\"type\":\"Selection\"},\"selection_policy\":{\"id\":\"1550\",\"type\":\"UnionRenderers\"}},\"id\":\"1502\",\"type\":\"ColumnDataSource\"},{\"attributes\":{},\"id\":\"1548\",\"type\":\"BasicTickFormatter\"},{\"attributes\":{\"overlay\":{\"id\":\"1495\",\"type\":\"BoxAnnotation\"}},\"id\":\"1489\",\"type\":\"BoxZoomTool\"},{\"attributes\":{},\"id\":\"1475\",\"type\":\"LinearScale\"},{\"attributes\":{},\"id\":\"1549\",\"type\":\"Selection\"},{\"attributes\":{\"bottom_units\":\"screen\",\"fill_alpha\":{\"value\":0.5},\"fill_color\":{\"value\":\"lightgrey\"},\"left_units\":\"screen\",\"level\":\"overlay\",\"line_alpha\":{\"value\":1.0},\"line_color\":{\"value\":\"black\"},\"line_dash\":[4,4],\"line_width\":{\"value\":2},\"plot\":null,\"render_mode\":\"css\",\"right_units\":\"screen\",\"top_units\":\"screen\"},\"id\":\"1495\",\"type\":\"BoxAnnotation\"},{\"attributes\":{},\"id\":\"1492\",\"type\":\"HelpTool\"},{\"attributes\":{\"active_drag\":\"auto\",\"active_inspect\":\"auto\",\"active_multi\":null,\"active_scroll\":\"auto\",\"active_tap\":\"auto\",\"tools\":[{\"id\":\"1487\",\"type\":\"PanTool\"},{\"id\":\"1488\",\"type\":\"WheelZoomTool\"},{\"id\":\"1489\",\"type\":\"BoxZoomTool\"},{\"id\":\"1490\",\"type\":\"SaveTool\"},{\"id\":\"1491\",\"type\":\"ResetTool\"},{\"id\":\"1492\",\"type\":\"HelpTool\"}]},\"id\":\"1493\",\"type\":\"Toolbar\"},{\"attributes\":{\"callback\":null},\"id\":\"1469\",\"type\":\"DataRange1d\"},{\"attributes\":{},\"id\":\"1490\",\"type\":\"SaveTool\"},{\"attributes\":{\"data_source\":{\"id\":\"1502\",\"type\":\"ColumnDataSource\"},\"glyph\":{\"id\":\"1503\",\"type\":\"Line\"},\"hover_glyph\":null,\"muted_glyph\":null,\"nonselection_glyph\":{\"id\":\"1504\",\"type\":\"Line\"},\"selection_glyph\":null,\"view\":{\"id\":\"1506\",\"type\":\"CDSView\"}},\"id\":\"1505\",\"type\":\"GlyphRenderer\"},{\"attributes\":{},\"id\":\"1491\",\"type\":\"ResetTool\"}],\"root_ids\":[\"1468\"]},\"title\":\"Bokeh Application\",\"version\":\"1.0.1\"}};\n",
       "  var render_items = [{\"docid\":\"4cd876b3-1b0b-4d6a-903f-8ac93112a137\",\"roots\":{\"1468\":\"e643f1ce-7f4e-4400-995e-089c76562d3a\"}}];\n",
       "  root.Bokeh.embed.embed_items_notebook(docs_json, render_items);\n",
       "\n",
       "  }\n",
       "  if (root.Bokeh !== undefined) {\n",
       "    embed_document(root);\n",
       "  } else {\n",
       "    var attempts = 0;\n",
       "    var timer = setInterval(function(root) {\n",
       "      if (root.Bokeh !== undefined) {\n",
       "        embed_document(root);\n",
       "        clearInterval(timer);\n",
       "      }\n",
       "      attempts++;\n",
       "      if (attempts > 100) {\n",
       "        console.log(\"Bokeh: ERROR: Unable to run BokehJS code because BokehJS library is missing\");\n",
       "        clearInterval(timer);\n",
       "      }\n",
       "    }, 10, root)\n",
       "  }\n",
       "})(window);"
      ],
      "application/vnd.bokehjs_exec.v0+json": ""
     },
     "metadata": {
      "application/vnd.bokehjs_exec.v0+json": {
       "id": "1468"
      }
     },
     "output_type": "display_data"
    }
   ],
   "source": [
    "from bokeh.plotting import figure, show\n",
    "from bokeh.io import output_notebook\n",
    "\n",
    "output_notebook()\n",
    "data = scope.getLastTrace()\n",
    "p = figure()\n",
    "p.line(range(len(data)), data, line_color='red')\n",
    "show(p)"
   ]
  },
  {
   "cell_type": "markdown",
   "metadata": {},
   "source": [
    "Now that we have our traces, we need to tell the project that the traces are loaded and add them to the project's trace manager."
   ]
  },
  {
   "cell_type": "code",
   "execution_count": 65,
   "metadata": {},
   "outputs": [],
   "source": [
    "project.appendSegment(tc)"
   ]
  },
  {
   "cell_type": "markdown",
   "metadata": {},
   "source": [
    "If you'd like, you can also save the project for later analysis (this closes the project, so if you run this block you'll need to reopen it in the next section):"
   ]
  },
  {
   "cell_type": "code",
   "execution_count": 66,
   "metadata": {},
   "outputs": [],
   "source": [
    "project.save()"
   ]
  },
  {
   "cell_type": "markdown",
   "metadata": {},
   "source": [
    "We're now done with the ChipWhisperer hardware, so we should disconnect from the scope and target:"
   ]
  },
  {
   "cell_type": "code",
   "execution_count": null,
   "metadata": {},
   "outputs": [],
   "source": [
    "# cleanup the connection to the target and scope\n",
    "scope.dis()\n",
    "target.dis()"
   ]
  },
  {
   "cell_type": "markdown",
   "metadata": {},
   "source": [
    "## Analysis"
   ]
  },
  {
   "cell_type": "markdown",
   "metadata": {},
   "source": [
    "If you saved in the last part (or if you're continuing from where you left off), you'll need to reload the project:"
   ]
  },
  {
   "cell_type": "code",
   "execution_count": 67,
   "metadata": {},
   "outputs": [],
   "source": [
    "import chipwhisperer as cw\n",
    "project = cw.openProject(\"projects/Tutorial_B5.cwp\")\n",
    "tm = project.traceManager()"
   ]
  },
  {
   "cell_type": "markdown",
   "metadata": {},
   "source": [
    "Now that we have our traces, we can begin our attack! We'll start off by setting up our attack by creating an attack object:"
   ]
  },
  {
   "cell_type": "code",
   "execution_count": 68,
   "metadata": {},
   "outputs": [],
   "source": [
    "attack = cw.cpa(tm)"
   ]
  },
  {
   "cell_type": "markdown",
   "metadata": {},
   "source": [
    "And then setting up the leakage model (more on this in the following CPA tutorials):"
   ]
  },
  {
   "cell_type": "code",
   "execution_count": 69,
   "metadata": {},
   "outputs": [],
   "source": [
    "leak_model = cw.AES128(cw.aes128leakage.SBox_output)\n",
    "\n",
    "attack.setLeakModel(leak_model)"
   ]
  },
  {
   "cell_type": "markdown",
   "metadata": {},
   "source": [
    "With that done, we can run our attack:"
   ]
  },
  {
   "cell_type": "code",
   "execution_count": 70,
   "metadata": {},
   "outputs": [
    {
     "data": {
      "text/html": [
       "<style  type=\"text/css\" >\n",
       "</style>  \n",
       "<table id=\"T_ec10f050_895a_11e9_8a73_005056c00008\" ><caption>Finished traces 3000 to 3010</caption> \n",
       "<thead>    <tr> \n",
       "        <th class=\"blank level0\" ></th> \n",
       "        <th class=\"col_heading level0 col0\" >0</th> \n",
       "        <th class=\"col_heading level0 col1\" >1</th> \n",
       "        <th class=\"col_heading level0 col2\" >2</th> \n",
       "        <th class=\"col_heading level0 col3\" >3</th> \n",
       "        <th class=\"col_heading level0 col4\" >4</th> \n",
       "        <th class=\"col_heading level0 col5\" >5</th> \n",
       "        <th class=\"col_heading level0 col6\" >6</th> \n",
       "        <th class=\"col_heading level0 col7\" >7</th> \n",
       "        <th class=\"col_heading level0 col8\" >8</th> \n",
       "        <th class=\"col_heading level0 col9\" >9</th> \n",
       "        <th class=\"col_heading level0 col10\" >10</th> \n",
       "        <th class=\"col_heading level0 col11\" >11</th> \n",
       "        <th class=\"col_heading level0 col12\" >12</th> \n",
       "        <th class=\"col_heading level0 col13\" >13</th> \n",
       "        <th class=\"col_heading level0 col14\" >14</th> \n",
       "        <th class=\"col_heading level0 col15\" >15</th> \n",
       "    </tr></thead> \n",
       "<tbody>    <tr> \n",
       "        <th id=\"T_ec10f050_895a_11e9_8a73_005056c00008level0_row0\" class=\"row_heading level0 row0\" >PGE=</th> \n",
       "        <td id=\"T_ec10f050_895a_11e9_8a73_005056c00008row0_col0\" class=\"data row0 col0\" >33</td> \n",
       "        <td id=\"T_ec10f050_895a_11e9_8a73_005056c00008row0_col1\" class=\"data row0 col1\" >79</td> \n",
       "        <td id=\"T_ec10f050_895a_11e9_8a73_005056c00008row0_col2\" class=\"data row0 col2\" >61</td> \n",
       "        <td id=\"T_ec10f050_895a_11e9_8a73_005056c00008row0_col3\" class=\"data row0 col3\" >63</td> \n",
       "        <td id=\"T_ec10f050_895a_11e9_8a73_005056c00008row0_col4\" class=\"data row0 col4\" >214</td> \n",
       "        <td id=\"T_ec10f050_895a_11e9_8a73_005056c00008row0_col5\" class=\"data row0 col5\" >73</td> \n",
       "        <td id=\"T_ec10f050_895a_11e9_8a73_005056c00008row0_col6\" class=\"data row0 col6\" >138</td> \n",
       "        <td id=\"T_ec10f050_895a_11e9_8a73_005056c00008row0_col7\" class=\"data row0 col7\" >5</td> \n",
       "        <td id=\"T_ec10f050_895a_11e9_8a73_005056c00008row0_col8\" class=\"data row0 col8\" >139</td> \n",
       "        <td id=\"T_ec10f050_895a_11e9_8a73_005056c00008row0_col9\" class=\"data row0 col9\" >168</td> \n",
       "        <td id=\"T_ec10f050_895a_11e9_8a73_005056c00008row0_col10\" class=\"data row0 col10\" >7</td> \n",
       "        <td id=\"T_ec10f050_895a_11e9_8a73_005056c00008row0_col11\" class=\"data row0 col11\" >129</td> \n",
       "        <td id=\"T_ec10f050_895a_11e9_8a73_005056c00008row0_col12\" class=\"data row0 col12\" >114</td> \n",
       "        <td id=\"T_ec10f050_895a_11e9_8a73_005056c00008row0_col13\" class=\"data row0 col13\" >128</td> \n",
       "        <td id=\"T_ec10f050_895a_11e9_8a73_005056c00008row0_col14\" class=\"data row0 col14\" >247</td> \n",
       "        <td id=\"T_ec10f050_895a_11e9_8a73_005056c00008row0_col15\" class=\"data row0 col15\" >149</td> \n",
       "    </tr>    <tr> \n",
       "        <th id=\"T_ec10f050_895a_11e9_8a73_005056c00008level0_row1\" class=\"row_heading level0 row1\" >0</th> \n",
       "        <td id=\"T_ec10f050_895a_11e9_8a73_005056c00008row1_col0\" class=\"data row1 col0\" >95<br>0.071</td> \n",
       "        <td id=\"T_ec10f050_895a_11e9_8a73_005056c00008row1_col1\" class=\"data row1 col1\" >31<br>0.069</td> \n",
       "        <td id=\"T_ec10f050_895a_11e9_8a73_005056c00008row1_col2\" class=\"data row1 col2\" >3E<br>0.066</td> \n",
       "        <td id=\"T_ec10f050_895a_11e9_8a73_005056c00008row1_col3\" class=\"data row1 col3\" >AC<br>0.057</td> \n",
       "        <td id=\"T_ec10f050_895a_11e9_8a73_005056c00008row1_col4\" class=\"data row1 col4\" >99<br>0.080</td> \n",
       "        <td id=\"T_ec10f050_895a_11e9_8a73_005056c00008row1_col5\" class=\"data row1 col5\" >DC<br>0.076</td> \n",
       "        <td id=\"T_ec10f050_895a_11e9_8a73_005056c00008row1_col6\" class=\"data row1 col6\" >44<br>0.069</td> \n",
       "        <td id=\"T_ec10f050_895a_11e9_8a73_005056c00008row1_col7\" class=\"data row1 col7\" >B9<br>0.086</td> \n",
       "        <td id=\"T_ec10f050_895a_11e9_8a73_005056c00008row1_col8\" class=\"data row1 col8\" >8F<br>0.066</td> \n",
       "        <td id=\"T_ec10f050_895a_11e9_8a73_005056c00008row1_col9\" class=\"data row1 col9\" >2B<br>0.086</td> \n",
       "        <td id=\"T_ec10f050_895a_11e9_8a73_005056c00008row1_col10\" class=\"data row1 col10\" >17<br>0.068</td> \n",
       "        <td id=\"T_ec10f050_895a_11e9_8a73_005056c00008row1_col11\" class=\"data row1 col11\" >25<br>0.072</td> \n",
       "        <td id=\"T_ec10f050_895a_11e9_8a73_005056c00008row1_col12\" class=\"data row1 col12\" >F2<br>0.079</td> \n",
       "        <td id=\"T_ec10f050_895a_11e9_8a73_005056c00008row1_col13\" class=\"data row1 col13\" >BF<br>0.065</td> \n",
       "        <td id=\"T_ec10f050_895a_11e9_8a73_005056c00008row1_col14\" class=\"data row1 col14\" >96<br>0.066</td> \n",
       "        <td id=\"T_ec10f050_895a_11e9_8a73_005056c00008row1_col15\" class=\"data row1 col15\" >02<br>0.077</td> \n",
       "    </tr>    <tr> \n",
       "        <th id=\"T_ec10f050_895a_11e9_8a73_005056c00008level0_row2\" class=\"row_heading level0 row2\" >1</th> \n",
       "        <td id=\"T_ec10f050_895a_11e9_8a73_005056c00008row2_col0\" class=\"data row2 col0\" >91<br>0.060</td> \n",
       "        <td id=\"T_ec10f050_895a_11e9_8a73_005056c00008row2_col1\" class=\"data row2 col1\" >A7<br>0.064</td> \n",
       "        <td id=\"T_ec10f050_895a_11e9_8a73_005056c00008row2_col2\" class=\"data row2 col2\" >5E<br>0.065</td> \n",
       "        <td id=\"T_ec10f050_895a_11e9_8a73_005056c00008row2_col3\" class=\"data row2 col3\" >D5<br>0.053</td> \n",
       "        <td id=\"T_ec10f050_895a_11e9_8a73_005056c00008row2_col4\" class=\"data row2 col4\" >1B<br>0.069</td> \n",
       "        <td id=\"T_ec10f050_895a_11e9_8a73_005056c00008row2_col5\" class=\"data row2 col5\" >1E<br>0.063</td> \n",
       "        <td id=\"T_ec10f050_895a_11e9_8a73_005056c00008row2_col6\" class=\"data row2 col6\" >27<br>0.066</td> \n",
       "        <td id=\"T_ec10f050_895a_11e9_8a73_005056c00008row2_col7\" class=\"data row2 col7\" >7C<br>0.070</td> \n",
       "        <td id=\"T_ec10f050_895a_11e9_8a73_005056c00008row2_col8\" class=\"data row2 col8\" >20<br>0.065</td> \n",
       "        <td id=\"T_ec10f050_895a_11e9_8a73_005056c00008row2_col9\" class=\"data row2 col9\" >C0<br>0.073</td> \n",
       "        <td id=\"T_ec10f050_895a_11e9_8a73_005056c00008row2_col10\" class=\"data row2 col10\" >41<br>0.054</td> \n",
       "        <td id=\"T_ec10f050_895a_11e9_8a73_005056c00008row2_col11\" class=\"data row2 col11\" >1A<br>0.070</td> \n",
       "        <td id=\"T_ec10f050_895a_11e9_8a73_005056c00008row2_col12\" class=\"data row2 col12\" >76<br>0.074</td> \n",
       "        <td id=\"T_ec10f050_895a_11e9_8a73_005056c00008row2_col13\" class=\"data row2 col13\" >7B<br>0.058</td> \n",
       "        <td id=\"T_ec10f050_895a_11e9_8a73_005056c00008row2_col14\" class=\"data row2 col14\" >61<br>0.066</td> \n",
       "        <td id=\"T_ec10f050_895a_11e9_8a73_005056c00008row2_col15\" class=\"data row2 col15\" >98<br>0.069</td> \n",
       "    </tr>    <tr> \n",
       "        <th id=\"T_ec10f050_895a_11e9_8a73_005056c00008level0_row3\" class=\"row_heading level0 row3\" >2</th> \n",
       "        <td id=\"T_ec10f050_895a_11e9_8a73_005056c00008row3_col0\" class=\"data row3 col0\" >DF<br>0.060</td> \n",
       "        <td id=\"T_ec10f050_895a_11e9_8a73_005056c00008row3_col1\" class=\"data row3 col1\" >CF<br>0.064</td> \n",
       "        <td id=\"T_ec10f050_895a_11e9_8a73_005056c00008row3_col2\" class=\"data row3 col2\" >06<br>0.064</td> \n",
       "        <td id=\"T_ec10f050_895a_11e9_8a73_005056c00008row3_col3\" class=\"data row3 col3\" >14<br>0.052</td> \n",
       "        <td id=\"T_ec10f050_895a_11e9_8a73_005056c00008row3_col4\" class=\"data row3 col4\" >EA<br>0.068</td> \n",
       "        <td id=\"T_ec10f050_895a_11e9_8a73_005056c00008row3_col5\" class=\"data row3 col5\" >15<br>0.060</td> \n",
       "        <td id=\"T_ec10f050_895a_11e9_8a73_005056c00008row3_col6\" class=\"data row3 col6\" >1E<br>0.066</td> \n",
       "        <td id=\"T_ec10f050_895a_11e9_8a73_005056c00008row3_col7\" class=\"data row3 col7\" >AB<br>0.066</td> \n",
       "        <td id=\"T_ec10f050_895a_11e9_8a73_005056c00008row3_col8\" class=\"data row3 col8\" >47<br>0.063</td> \n",
       "        <td id=\"T_ec10f050_895a_11e9_8a73_005056c00008row3_col9\" class=\"data row3 col9\" >49<br>0.065</td> \n",
       "        <td id=\"T_ec10f050_895a_11e9_8a73_005056c00008row3_col10\" class=\"data row3 col10\" >6C<br>0.051</td> \n",
       "        <td id=\"T_ec10f050_895a_11e9_8a73_005056c00008row3_col11\" class=\"data row3 col11\" >8E<br>0.066</td> \n",
       "        <td id=\"T_ec10f050_895a_11e9_8a73_005056c00008row3_col12\" class=\"data row3 col12\" >61<br>0.073</td> \n",
       "        <td id=\"T_ec10f050_895a_11e9_8a73_005056c00008row3_col13\" class=\"data row3 col13\" >FE<br>0.058</td> \n",
       "        <td id=\"T_ec10f050_895a_11e9_8a73_005056c00008row3_col14\" class=\"data row3 col14\" >BF<br>0.061</td> \n",
       "        <td id=\"T_ec10f050_895a_11e9_8a73_005056c00008row3_col15\" class=\"data row3 col15\" >0D<br>0.067</td> \n",
       "    </tr>    <tr> \n",
       "        <th id=\"T_ec10f050_895a_11e9_8a73_005056c00008level0_row4\" class=\"row_heading level0 row4\" >3</th> \n",
       "        <td id=\"T_ec10f050_895a_11e9_8a73_005056c00008row4_col0\" class=\"data row4 col0\" >25<br>0.060</td> \n",
       "        <td id=\"T_ec10f050_895a_11e9_8a73_005056c00008row4_col1\" class=\"data row4 col1\" >57<br>0.061</td> \n",
       "        <td id=\"T_ec10f050_895a_11e9_8a73_005056c00008row4_col2\" class=\"data row4 col2\" >1E<br>0.061</td> \n",
       "        <td id=\"T_ec10f050_895a_11e9_8a73_005056c00008row4_col3\" class=\"data row4 col3\" >8E<br>0.050</td> \n",
       "        <td id=\"T_ec10f050_895a_11e9_8a73_005056c00008row4_col4\" class=\"data row4 col4\" >95<br>0.059</td> \n",
       "        <td id=\"T_ec10f050_895a_11e9_8a73_005056c00008row4_col5\" class=\"data row4 col5\" >4B<br>0.059</td> \n",
       "        <td id=\"T_ec10f050_895a_11e9_8a73_005056c00008row4_col6\" class=\"data row4 col6\" >9B<br>0.066</td> \n",
       "        <td id=\"T_ec10f050_895a_11e9_8a73_005056c00008row4_col7\" class=\"data row4 col7\" >3F<br>0.064</td> \n",
       "        <td id=\"T_ec10f050_895a_11e9_8a73_005056c00008row4_col8\" class=\"data row4 col8\" >79<br>0.062</td> \n",
       "        <td id=\"T_ec10f050_895a_11e9_8a73_005056c00008row4_col9\" class=\"data row4 col9\" >A2<br>0.061</td> \n",
       "        <td id=\"T_ec10f050_895a_11e9_8a73_005056c00008row4_col10\" class=\"data row4 col10\" >E3<br>0.051</td> \n",
       "        <td id=\"T_ec10f050_895a_11e9_8a73_005056c00008row4_col11\" class=\"data row4 col11\" >8C<br>0.064</td> \n",
       "        <td id=\"T_ec10f050_895a_11e9_8a73_005056c00008row4_col12\" class=\"data row4 col12\" >46<br>0.069</td> \n",
       "        <td id=\"T_ec10f050_895a_11e9_8a73_005056c00008row4_col13\" class=\"data row4 col13\" >E9<br>0.057</td> \n",
       "        <td id=\"T_ec10f050_895a_11e9_8a73_005056c00008row4_col14\" class=\"data row4 col14\" >93<br>0.061</td> \n",
       "        <td id=\"T_ec10f050_895a_11e9_8a73_005056c00008row4_col15\" class=\"data row4 col15\" >3B<br>0.067</td> \n",
       "    </tr>    <tr> \n",
       "        <th id=\"T_ec10f050_895a_11e9_8a73_005056c00008level0_row5\" class=\"row_heading level0 row5\" >4</th> \n",
       "        <td id=\"T_ec10f050_895a_11e9_8a73_005056c00008row5_col0\" class=\"data row5 col0\" >29<br>0.057</td> \n",
       "        <td id=\"T_ec10f050_895a_11e9_8a73_005056c00008row5_col1\" class=\"data row5 col1\" >20<br>0.060</td> \n",
       "        <td id=\"T_ec10f050_895a_11e9_8a73_005056c00008row5_col2\" class=\"data row5 col2\" >07<br>0.061</td> \n",
       "        <td id=\"T_ec10f050_895a_11e9_8a73_005056c00008row5_col3\" class=\"data row5 col3\" >7B<br>0.050</td> \n",
       "        <td id=\"T_ec10f050_895a_11e9_8a73_005056c00008row5_col4\" class=\"data row5 col4\" >D2<br>0.057</td> \n",
       "        <td id=\"T_ec10f050_895a_11e9_8a73_005056c00008row5_col5\" class=\"data row5 col5\" >75<br>0.059</td> \n",
       "        <td id=\"T_ec10f050_895a_11e9_8a73_005056c00008row5_col6\" class=\"data row5 col6\" >A9<br>0.065</td> \n",
       "        <td id=\"T_ec10f050_895a_11e9_8a73_005056c00008row5_col7\" class=\"data row5 col7\" >68<br>0.064</td> \n",
       "        <td id=\"T_ec10f050_895a_11e9_8a73_005056c00008row5_col8\" class=\"data row5 col8\" >45<br>0.062</td> \n",
       "        <td id=\"T_ec10f050_895a_11e9_8a73_005056c00008row5_col9\" class=\"data row5 col9\" >3F<br>0.061</td> \n",
       "        <td id=\"T_ec10f050_895a_11e9_8a73_005056c00008row5_col10\" class=\"data row5 col10\" >4D<br>0.051</td> \n",
       "        <td id=\"T_ec10f050_895a_11e9_8a73_005056c00008row5_col11\" class=\"data row5 col11\" >0D<br>0.061</td> \n",
       "        <td id=\"T_ec10f050_895a_11e9_8a73_005056c00008row5_col12\" class=\"data row5 col12\" >73<br>0.064</td> \n",
       "        <td id=\"T_ec10f050_895a_11e9_8a73_005056c00008row5_col13\" class=\"data row5 col13\" >A2<br>0.054</td> \n",
       "        <td id=\"T_ec10f050_895a_11e9_8a73_005056c00008row5_col14\" class=\"data row5 col14\" >D9<br>0.058</td> \n",
       "        <td id=\"T_ec10f050_895a_11e9_8a73_005056c00008row5_col15\" class=\"data row5 col15\" >7C<br>0.063</td> \n",
       "    </tr></tbody> \n",
       "</table> "
      ],
      "text/plain": [
       "<pandas.io.formats.style.Styler at 0x163bf490>"
      ]
     },
     "metadata": {},
     "output_type": "display_data"
    }
   ],
   "source": [
    "cb = cw.getJupyterCallback(attack)\n",
    "attack_results = attack.processTraces(cb)"
   ]
  },
  {
   "cell_type": "markdown",
   "metadata": {},
   "source": [
    "Once you see the above block complete, all the heavylifting is done! All that's left is to actually look at the data. Everything important is contained in the `attack_results` class that `attack.processTraces()` returned.\n",
    "\n",
    "We can find the max correlation for every one of the subkey by calling `stats.findMaximums()`, which returns a list of the subkeys, the point location of the max if calculated, and the correlation (which is a value between 0 and 1 that effectively tells us how well our guess fit the data). \n",
    "\n",
    "\n",
    "Note the \"point location of the max\" is normally not calculated/tracked, and thus returns as a 0. Using the pandas library lets us print them nicely in a DataFrame. We have to transpose the frame to get our expected orientation:"
   ]
  },
  {
   "cell_type": "code",
   "execution_count": null,
   "metadata": {},
   "outputs": [],
   "source": [
    "import pandas as pd\n",
    "stat_data = attack_results.findMaximums()\n",
    "df = pd.DataFrame(stat_data).transpose()\n",
    "print(df.head())"
   ]
  },
  {
   "cell_type": "markdown",
   "metadata": {},
   "source": [
    "Even better, we can use the `.style` method to customize this further. This also lets us chain formatting functions. For example, we can remove the extra 0 and clean up the data. Since we know the correct key, we can even do things like printing the key in a different colour! \n",
    "\n",
    "You can do lots of formatting thanks to the pandas library! Check out https://pandas.pydata.org/pandas-docs/stable/style.html for more details."
   ]
  },
  {
   "cell_type": "code",
   "execution_count": null,
   "metadata": {},
   "outputs": [],
   "source": [
    "key = project.traceManager().getKnownKey(0)\n",
    "def format_stat(stat):\n",
    "    return str(\"{:02X}<br>{:.3f}\".format(stat[0], stat[2]))\n",
    "\n",
    "def color_corr_key(row):\n",
    "    global key\n",
    "    ret = [\"\"] * 16\n",
    "    for i,bnum in enumerate(row):\n",
    "        if bnum[0] == key[i]:\n",
    "            ret[i] = \"color: red\"\n",
    "        else:\n",
    "            ret[i] = \"\"\n",
    "    return ret\n",
    "\n",
    "df.head().style.format(format_stat).apply(color_corr_key, axis=1)"
   ]
  },
  {
   "cell_type": "markdown",
   "metadata": {},
   "source": [
    "You should see red numbers printed at the top of a table. Congratulations, you've now completed a successful CPA attack against AES!\n",
    "\n",
    "Next, we'll look at how we can use some of Analyzer's other features to improve the attack process, as well as better interpret the data we have."
   ]
  },
  {
   "cell_type": "markdown",
   "metadata": {},
   "source": [
    "### Reporting Intervals"
   ]
  },
  {
   "cell_type": "markdown",
   "metadata": {},
   "source": [
    "When we ran `attack.processTraces()`, we processed all of the traces before getting any information back. While this works okay for shorter attacks like this, for longer ones it can helpful to get feedback during the attack. This can be done by creating a callback function and passing it to `attack.processTraces()`. This function is called each time we pass our `attack.setReportingInterval()` (default 25 traces) and has access to everything a normal python function does.\n",
    "\n",
    "Let's use this to update our table every 10 traces. Most of this is just putting our existing code into the callback function. We also need use the `clear_output` function to clear the table, as well as `display()` to actually get it to show up:"
   ]
  },
  {
   "cell_type": "code",
   "execution_count": null,
   "metadata": {},
   "outputs": [],
   "source": [
    "from IPython.display import clear_output\n",
    "import numpy as np\n",
    "        \n",
    "def stats_callback():\n",
    "    attack_results = attack.getStatistics()\n",
    "    attack_results.setKnownkey(key)\n",
    "    stat_data = attack_results.findMaximums()\n",
    "    df = pd.DataFrame(stat_data).transpose()\n",
    "    clear_output(wait=True)\n",
    "    display(df.head().style.format(format_stat).apply(color_corr_key,axis=1))\n",
    "    \n",
    "attack.setReportingInterval(10)\n",
    "attack_results = attack.processTraces(stats_callback)"
   ]
  },
  {
   "cell_type": "markdown",
   "metadata": {},
   "source": [
    "A default jupyter callback is also available:"
   ]
  },
  {
   "cell_type": "code",
   "execution_count": null,
   "metadata": {},
   "outputs": [],
   "source": [
    "import chipwhisperer as cw\n",
    "cb = cw.getJupyterCallback(attack)\n",
    "attack_results = attack.processTraces(cb)"
   ]
  },
  {
   "cell_type": "markdown",
   "metadata": {},
   "source": [
    "Here we used a reporting interval of 10 traces. Depending on the attack and what you want to learn from it, you may want to use higher or lower values: in general reporting less often is faster, but more frequent reporting can allow you to end a long attack early. More frequent reporting also increases the resolution of some plot data (which we will look at next)."
   ]
  },
  {
   "cell_type": "markdown",
   "metadata": {},
   "source": [
    "### Plot Data"
   ]
  },
  {
   "cell_type": "markdown",
   "metadata": {},
   "source": [
    "Analyzer also includes a module to create plots to help you interpret the data. These act on one subkey at a time and return some data that we can plot using bokeh (or your graphing module of choice). Let's start by grabbing the class that does all the calculations:"
   ]
  },
  {
   "cell_type": "code",
   "execution_count": null,
   "metadata": {},
   "outputs": [],
   "source": [
    "plot_data = cw.analyzerPlots(attack_results)"
   ]
  },
  {
   "cell_type": "markdown",
   "metadata": {},
   "source": [
    "#### Output Vs. Time"
   ]
  },
  {
   "cell_type": "markdown",
   "metadata": {},
   "source": [
    "We'll start by looking at the Output Vs. Time module, which will allow us to plot correlation of our guesses in time. This is useful for finding exactly where the operations we're attacking are. Like in previous tutorials, we'll use bokeh to plot the data we get back.\n",
    "\n",
    "The method we're interested in is `getPlotData(bnum)`, which returns in a list: `[xrange, correct_key, incorrect_key_data, incorrect_key_data]` for the position `bnum` passed to it. The method returns two sets of incorrect key data because one is for the key guesses below the correct one, and the other is for guesses above the correct one.\n",
    "\n",
    "We'll start by just looking at the 0th subkey. Once we get this data back we'll plot the correct key in red, and the rest in green."
   ]
  },
  {
   "cell_type": "code",
   "execution_count": null,
   "metadata": {},
   "outputs": [],
   "source": [
    "from bokeh.plotting import figure, show\n",
    "from bokeh.io import output_notebook\n",
    "\n",
    "ret = plot_data.outputVsTime(0)\n",
    "\n",
    "output_notebook()\n",
    "p = figure()\n",
    "p.line(ret[0], ret[2], line_color='green')\n",
    "p.line(ret[0], ret[3], line_color='green')\n",
    "\n",
    "p.line(ret[0], ret[1], line_color='red')\n",
    "show(p)"
   ]
  },
  {
   "cell_type": "markdown",
   "metadata": {},
   "source": [
    "You should see some distinctive red spikes in your plot. The largest of these is where the sbox lookup is actually happening (the smaller ones are typically other AES operations that move the sbox data around).\n",
    "\n",
    "Let's repeat this for all the subkeys. This is quite a bit more data to plot, so give it a few seconds:"
   ]
  },
  {
   "cell_type": "code",
   "execution_count": null,
   "metadata": {},
   "outputs": [],
   "source": [
    "\"\"\"rets = []\n",
    "for i in range(0, 16):\n",
    "    rets.append(plot_data.outputVsTime(i))\n",
    "\n",
    "p = figure()\n",
    "for ret in rets:\n",
    "    p.line(ret[0], ret[2], line_color='green')\n",
    "    p.line(ret[0], ret[3], line_color='green')\n",
    "    \n",
    "for ret in rets:\n",
    "    p.line(ret[0], ret[1], line_color='red')\n",
    "\n",
    "show(p)\"\"\""
   ]
  },
  {
   "cell_type": "markdown",
   "metadata": {},
   "source": [
    "This information can be useful in many ways. For example, you can probably see the first 16 spikes that make up the sbox lookup are a small portion of the total trace length. If we ever needed to rerun the attack, we could capture a much smaller number of samples and speed up analysis significantly!"
   ]
  },
  {
   "cell_type": "markdown",
   "metadata": {},
   "source": [
    "#### PGE vs. Traces"
   ]
  },
  {
   "cell_type": "markdown",
   "metadata": {},
   "source": [
    "The next data we'll look at is a plot of partial guessing entropy (PGE) vs. the number of traces. As mentioned before, PGE is just how many spots away from the top the actual subkey is in our table of guesses. For example, if there are 7 subkey guesses that have a higher correlation than the actual subkey, the subkey has a PGE of 7.\n",
    "\n",
    "This plot is useful for seeing how many traces were needed to actually break the AES implementation. Keep in mind, however, that the resolution of the plot is determined by the reporting interval (also note that `attack_results.findMaximums()` must be called in the callback function). In our case, we have a reporting interval of 10, so we'll have a resolution of 10 traces.\n",
    "\n",
    "This module's `getPlotData()` is similar to the previous plot in that it takes `bnum` as an argument and returns a list of `[xrange, PGE]`. Plotting this data is quite a bit faster than the previous example, we'll just plot all 16 of the `bnum` now."
   ]
  },
  {
   "cell_type": "code",
   "execution_count": null,
   "metadata": {},
   "outputs": [],
   "source": [
    "p = figure()\n",
    "\n",
    "for bnum in range(16):\n",
    "    ret = plot_data.pgeVsTrace(bnum)\n",
    "    p.line(ret[0], ret[1], line_color='red')\n",
    "show(p)"
   ]
  },
  {
   "cell_type": "markdown",
   "metadata": {},
   "source": [
    "You should see a number of lines that start off with high values, then rapidly drop off. You may notice that we broke the AES implementation without needing to use all of our traces. \n",
    "\n",
    "Even though we may have broken the AES implementation in fewer traces, we may not want to reduce how many traces we capture. Remember that, while we know the key here, for a real attack we won't and therefore must use the correlation to determine when we've broken a key. Our next plot will help us to determine how feesible capturing fewer traces is."
   ]
  },
  {
   "cell_type": "markdown",
   "metadata": {},
   "source": [
    "#### Correlation vs. Traces"
   ]
  },
  {
   "cell_type": "markdown",
   "metadata": {},
   "source": [
    "The last plot we'll take a look at is correlation vs the number of traces. Like with PGE vs. Traces, this plot's resolution is determined by the reporting interval (10 in our case). One again, this is a plot with a lot of data, so we'll start of by just plotting one subkey:\n",
    "\n",
    "This module's `getPlotData()` returns a list of `[xrange, [data_for_kguess]]`, so we'll need to plot each guess for each subkey. Like before, we'll do the plot for the correct subkey in red and the rest in green."
   ]
  },
  {
   "cell_type": "code",
   "execution_count": null,
   "metadata": {},
   "outputs": [],
   "source": [
    "ret = plot_data.corrVsTrace(0)\n",
    "p = figure()\n",
    "for i in range(255):\n",
    "    if i == key[0]:\n",
    "        p.line(ret[0], ret[1][i], line_color='red')\n",
    "    else:\n",
    "        p.line(ret[0], ret[1][i], line_color='green')\n",
    "        \n",
    "show(p)"
   ]
  },
  {
   "cell_type": "markdown",
   "metadata": {},
   "source": [
    "As you can see, all the subkey guesses start of with large correlations, but all of them except for the correct guess quickly drop off. If you didn't know the key, at what point would you be sure that the guess with the highest correlation was actually the correct subkey?\n",
    "\n",
    "Let's continue and plot all of the subkeys (give this one some time):"
   ]
  },
  {
   "cell_type": "code",
   "execution_count": null,
   "metadata": {},
   "outputs": [],
   "source": [
    "\"\"\"p = figure()\n",
    "for bnum in range(16):\n",
    "    ret = plot_data.corrVsTrace(bnum)\n",
    "    for i in range(255):\n",
    "        if i == key[bnum]:\n",
    "            p.line(ret[0], ret[1][i], line_color='red')\n",
    "        else:\n",
    "            p.line(ret[0], ret[1][i], line_color='green')\n",
    "            \n",
    "show(p)\"\"\""
   ]
  },
  {
   "cell_type": "markdown",
   "metadata": {},
   "source": [
    "Like in the first plot, you should see the red lines remain high while the green ones drop off. At what point would you be sure that you've broken all the subkeys? Is it higher than when all of the PGE lines reached zero?"
   ]
  },
  {
   "cell_type": "markdown",
   "metadata": {},
   "source": [
    "## Conclusion"
   ]
  },
  {
   "cell_type": "markdown",
   "metadata": {},
   "source": [
    "You should now have completed a successful CPA attack and learned about some on Analyzer's features for improving your attack! \n",
    "\n",
    "You can move onto more advanced tutorials, especially showing you how the actual attack works when performed manually (Tutorial B6). This tutorial also utilized tiny-AES128-C for Arm targets, which uses the same operations as the XMEGA target. A later tutorial will preform this attack on a more typical 32 bit AES implementation."
   ]
  },
  {
   "cell_type": "markdown",
   "metadata": {},
   "source": [
    "## Tests"
   ]
  },
  {
   "cell_type": "code",
   "execution_count": null,
   "metadata": {},
   "outputs": [],
   "source": [
    "key = project.traceManager().getKnownKey(0)\n",
    "recv_key = [kguess[0][0] for kguess in attack_results.findMaximums()]\n",
    "assert (key == recv_key).all(), \"Failed to recover encryption key\\nGot: {}\\nExpected: {}\".format(recv_key, key)"
   ]
  },
  {
   "cell_type": "code",
   "execution_count": null,
   "metadata": {},
   "outputs": [],
   "source": [
    "assert (attack_results.pge == [0]*16), \"PGE for some bytes not zero: {}\".format(attack_results.pge)"
   ]
  },
  {
   "cell_type": "code",
   "execution_count": null,
   "metadata": {},
   "outputs": [],
   "source": [
    "if CHECK_CORR:\n",
    "    max_corrs = [kguess[0][2] for kguess in attack_results.findMaximums()]\n",
    "    assert (np.all([corr > 0.75 for corr in max_corrs])), \"Low correlation in attack (corr <= 0.75): {}\".format(max_corrs)"
   ]
  },
  {
   "cell_type": "code",
   "execution_count": null,
   "metadata": {},
   "outputs": [],
   "source": []
  }
 ],
 "metadata": {
  "kernelspec": {
   "display_name": "Python 3",
   "language": "python",
   "name": "python3"
  },
  "language_info": {
   "codemirror_mode": {
    "name": "ipython",
    "version": 3
   },
   "file_extension": ".py",
   "mimetype": "text/x-python",
   "name": "python",
   "nbconvert_exporter": "python",
   "pygments_lexer": "ipython3",
   "version": "3.7.1"
  },
  "toc": {
   "base_numbering": 1,
   "nav_menu": {},
   "number_sections": true,
   "sideBar": true,
   "skip_h1_title": true,
   "title_cell": "Table of Contents",
   "title_sidebar": "Contents",
   "toc_cell": false,
   "toc_position": {
    "height": "calc(100% - 180px)",
    "left": "10px",
    "top": "150px",
    "width": "190.391px"
   },
   "toc_section_display": true,
   "toc_window_display": true
  }
 },
 "nbformat": 4,
 "nbformat_minor": 2
}
