{
 "cells": [
  {
   "cell_type": "markdown",
   "metadata": {},
   "source": [
    "# Using CW-Analyzer for CPA Attack"
   ]
  },
  {
   "cell_type": "markdown",
   "metadata": {},
   "source": [
    "This tutorial will take you through a complete attack on a software AES implementation. The specific implementation being attacked is a well-known AES implementation written in C, which is likely to be similar to other implementations used by proprietary systems."
   ]
  },
  {
   "cell_type": "markdown",
   "metadata": {},
   "source": [
    "## Capturing Power Traces"
   ]
  },
  {
   "cell_type": "markdown",
   "metadata": {},
   "source": [
    "### Setup"
   ]
  },
  {
   "cell_type": "markdown",
   "metadata": {},
   "source": [
    "We'll use some helper scripts to make setup and programming easier. If you're using an XMEGA or STM (CWLITEARM) target, binaries with the correct should be setup for you:"
   ]
  },
  {
   "cell_type": "code",
   "execution_count": 1,
   "metadata": {},
   "outputs": [],
   "source": [
    "import chipwhisperer as cw\n",
    "scope = cw.scope()\n",
    "target = cw.target(scope)"
   ]
  },
  {
   "cell_type": "code",
   "execution_count": 2,
   "metadata": {},
   "outputs": [],
   "source": [
    "%run \"Helper_Scripts/Setup_Target_Generic.ipynb\""
   ]
  },
  {
   "cell_type": "code",
   "execution_count": 3,
   "metadata": {},
   "outputs": [],
   "source": [
    "fw_path = \"../../hardware/victims/firmware/simpleserial-aes/simpleserial-aes-cwlitearm.hex\"\n",
    "prog = cw.programmers.STM32FProgrammer\n",
    "#prog = cw.programmers.XMEGAProgrammer"
   ]
  },
  {
   "cell_type": "code",
   "execution_count": 4,
   "metadata": {
    "scrolled": true
   },
   "outputs": [
    {
     "name": "stdout",
     "output_type": "stream",
     "text": [
      "Detected known STMF32: STM32F302xB(C)/303xB(C)\n",
      "Extended erase (0x44), this can take ten seconds or more\n",
      "Attempting to programming 5879 bytes at 0x8000000\n",
      "STM32F Programming flash...\n",
      "STM32F Reading flash...\n",
      "Verified flash OK, 5879 bytes\n"
     ]
    }
   ],
   "source": [
    "cw.programTarget(scope, prog, fw_path)"
   ]
  },
  {
   "cell_type": "markdown",
   "metadata": {},
   "source": [
    "In addition, before we capture our traces, we'll need to create a ChipWhipserer project, since that's what Analyzer expects for an input:"
   ]
  },
  {
   "cell_type": "code",
   "execution_count": 5,
   "metadata": {},
   "outputs": [],
   "source": [
    "project = cw.createProject(\"projects/Tutorial_B5.cwp\", overwrite = True)"
   ]
  },
  {
   "cell_type": "markdown",
   "metadata": {},
   "source": [
    "And we can get the class used to hold our traces by:"
   ]
  },
  {
   "cell_type": "code",
   "execution_count": 6,
   "metadata": {},
   "outputs": [],
   "source": [
    "tc = project.getTraceFormat()"
   ]
  },
  {
   "cell_type": "markdown",
   "metadata": {},
   "source": [
    "### Capturing Traces"
   ]
  },
  {
   "cell_type": "markdown",
   "metadata": {},
   "source": [
    "Below you can see the capture loop. The main body of the loop loads some new plaintext, arms the scope, sends the key and plaintext, then finally records and our new trace into our trace class."
   ]
  },
  {
   "cell_type": "code",
   "execution_count": 7,
   "metadata": {},
   "outputs": [
    {
     "name": "stderr",
     "output_type": "stream",
     "text": [
      "Capturing traces: 100%|██████████| 50/50 [00:07<00:00,  6.57it/s]\n"
     ]
    }
   ],
   "source": [
    "#Capture Traces\n",
    "from tqdm import tqdm\n",
    "import numpy as np\n",
    "import time\n",
    "\n",
    "ktp = cw.ktp.Basic(target=target)\n",
    "\n",
    "N = 50  # Number of traces\n",
    "target.init()\n",
    "for i in tqdm(range(N), desc='Capturing traces'):\n",
    "    # run aux stuff that should come before trace here\n",
    "\n",
    "    key, text = ktp.newPair()  # manual creation of a key, text pair can be substituted here\n",
    "\n",
    "    #target.reinit()\n",
    "\n",
    "    target.setModeEncrypt()  # only does something for targets that support it\n",
    "    target.loadEncryptionKey(key)\n",
    "    target.loadInput(text)\n",
    "\n",
    "    # run aux stuff that should run before the scope arms here\n",
    "\n",
    "    scope.arm()\n",
    "\n",
    "    # run aux stuff that should run after the scope arms here\n",
    "\n",
    "    target.go()\n",
    "    timeout = 50\n",
    "    # wait for target to finish\n",
    "    while target.isDone() is False and timeout:\n",
    "        timeout -= 1\n",
    "        time.sleep(0.01)\n",
    "\n",
    "    ret = scope.capture()\n",
    "    if ret:\n",
    "        print('Timeout happened during acquisition')\n",
    "\n",
    "    # run aux stuff that should happen after trace here\n",
    "    _ = target.readOutput()  # clears the response from the serial port\n",
    "    #traces.append(scope.getLastTrace())\n",
    "    tc.addTrace(scope.getLastTrace(), text, \"\", key)"
   ]
  },
  {
   "cell_type": "markdown",
   "metadata": {},
   "source": [
    "Now that we have our traces, we need to tell the project that the traces are loaded and add them to the project's trace manager."
   ]
  },
  {
   "cell_type": "code",
   "execution_count": 8,
   "metadata": {},
   "outputs": [],
   "source": [
    "tc._isloaded = True\n",
    "project.traceManager().appendSegment(tc)"
   ]
  },
  {
   "cell_type": "markdown",
   "metadata": {},
   "source": [
    "If you'd like, you can also save the project for later analysis (this closes the project, so if you run this block you'll need to reopen it in the next section):"
   ]
  },
  {
   "cell_type": "code",
   "execution_count": 9,
   "metadata": {},
   "outputs": [],
   "source": [
    "from datetime import datetime\n",
    "import copy\n",
    "\n",
    "starttime = datetime.now()\n",
    "prefix = starttime.strftime('%Y.%m.%d-%H.%M.%S') + \"_\"\n",
    "tc.config.setConfigFilename(project.datadirectory + \"traces/config_\" + prefix + \".cfg\")\n",
    "tc.config.setAttr(\"prefix\", prefix)\n",
    "tc.config.setAttr(\"date\", starttime.strftime('%Y-%m-%d %H:%M:%S'))\n",
    "tc.closeAll()\n",
    "project.save()"
   ]
  },
  {
   "cell_type": "markdown",
   "metadata": {},
   "source": [
    "We're now done with the ChipWhisperer hardware, so we should disconnect from the scope and target:"
   ]
  },
  {
   "cell_type": "code",
   "execution_count": 10,
   "metadata": {},
   "outputs": [],
   "source": [
    "# cleanup the connection to the target and scope\n",
    "scope.dis()\n",
    "target.dis()"
   ]
  },
  {
   "cell_type": "markdown",
   "metadata": {},
   "source": [
    "## Analysis"
   ]
  },
  {
   "cell_type": "markdown",
   "metadata": {},
   "source": [
    "If you saved in the last part (or if you're continuing from where you left off), you'll need to reload the project:"
   ]
  },
  {
   "cell_type": "code",
   "execution_count": 1,
   "metadata": {},
   "outputs": [],
   "source": [
    "import chipwhisperer as cw\n",
    "project = cw.openProject(\"projects/Tutorial_B5.cwp\")\n",
    "tm = project.traceManager()"
   ]
  },
  {
   "cell_type": "markdown",
   "metadata": {},
   "source": [
    "Now that we have our traces, we can begin our attack! We'll start off by setting up our attack by creating an attack object:"
   ]
  },
  {
   "cell_type": "code",
   "execution_count": 2,
   "metadata": {},
   "outputs": [],
   "source": [
    "attack = cw.cpa(tm)"
   ]
  },
  {
   "cell_type": "markdown",
   "metadata": {},
   "source": [
    "And then setting up the leakage model (more on this in the following CPA tutorials):"
   ]
  },
  {
   "cell_type": "code",
   "execution_count": 3,
   "metadata": {},
   "outputs": [],
   "source": [
    "leak_model = cw.AES128(cw.aes128leakage.SBox_output)\n",
    "\n",
    "attack.setLeakModel(leak_model)"
   ]
  },
  {
   "cell_type": "markdown",
   "metadata": {},
   "source": [
    "With that done, we can run our attack:"
   ]
  },
  {
   "cell_type": "code",
   "execution_count": 4,
   "metadata": {},
   "outputs": [],
   "source": [
    "attack_results = attack.processTraces()"
   ]
  },
  {
   "cell_type": "markdown",
   "metadata": {},
   "source": [
    "Once you see the above block complete, all the heavylifting is done! All that's left is to actually look at the data. Everything important is contained in the `attack_results` class that `attack.processTraces()` returned.\n",
    "\n",
    "We can find the max correlation for every one of the subkey by calling `stats.findMaximums()`, which returns a list of the subkeys, the point location of the max if calculated, and the correlation (which is a value between 0 and 1 that effectively tells us how well our guess fit the data). \n",
    "\n",
    "\n",
    "Note the \"point location of the max\" is normally not calculated/tracked, and thus returns as a 0. Using the pandas library lets us print them nicely in a DataFrame. We have to transpose the frame to get our expected orientation:"
   ]
  },
  {
   "cell_type": "code",
   "execution_count": 5,
   "metadata": {},
   "outputs": [
    {
     "name": "stdout",
     "output_type": "stream",
     "text": [
      "                             0                             1   \\\n",
      "0   [43, 0, 0.9258841708147422]  [126, 0, 0.9128793939621457]   \n",
      "1  [227, 0, 0.6051039178535276]  [203, 0, 0.6219971007694665]   \n",
      "2   [76, 0, 0.5971356939139717]   [58, 0, 0.6207506404279537]   \n",
      "3  [210, 0, 0.5918332721357764]   [68, 0, 0.5998286341123509]   \n",
      "4   [95, 0, 0.5849159241830654]  [226, 0, 0.5933977404942192]   \n",
      "\n",
      "                             2                             3   \\\n",
      "0   [21, 0, 0.9347054273985043]   [22, 0, 0.9126116633809283]   \n",
      "1   [77, 0, 0.6456673288412471]  [199, 0, 0.6191046565331646]   \n",
      "2   [90, 0, 0.6432670319870437]  [208, 0, 0.6055107168649803]   \n",
      "3  [153, 0, 0.6219110408775452]  [149, 0, 0.6035157825872411]   \n",
      "4   [33, 0, 0.6087746604100835]  [143, 0, 0.5990593169666122]   \n",
      "\n",
      "                             4                             5   \\\n",
      "0   [40, 0, 0.8651864171424126]  [174, 0, 0.8960921245634439]   \n",
      "1  [117, 0, 0.6419120355383365]  [124, 0, 0.6049193074907651]   \n",
      "2   [36, 0, 0.6159948470372686]   [90, 0, 0.5915290944196108]   \n",
      "3  [253, 0, 0.6124624517311362]   [227, 0, 0.589446320441959]   \n",
      "4  [171, 0, 0.6065583933013653]  [177, 0, 0.5854066826890263]   \n",
      "\n",
      "                             6                             7   \\\n",
      "0  [210, 0, 0.8707563841395484]  [166, 0, 0.8688412620945608]   \n",
      "1  [244, 0, 0.6658219613995509]  [131, 0, 0.6384819854350889]   \n",
      "2    [0, 0, 0.6090945810664037]  [197, 0, 0.6084709108070143]   \n",
      "3  [184, 0, 0.5999897505906092]  [105, 0, 0.5977888237153492]   \n",
      "4    [46, 0, 0.592670545266138]   [72, 0, 0.5933645542019499]   \n",
      "\n",
      "                             8                             9   \\\n",
      "0  [171, 0, 0.8989505298866048]  [247, 0, 0.8924693025046792]   \n",
      "1   [82, 0, 0.6263597539804993]  [199, 0, 0.6940949169131289]   \n",
      "2   [68, 0, 0.6177559303113888]  [143, 0, 0.6530206649396484]   \n",
      "3   [46, 0, 0.6038223405920659]   [61, 0, 0.6452720627611022]   \n",
      "4  [173, 0, 0.5960108379564637]   [37, 0, 0.6107500391428928]   \n",
      "\n",
      "                             10                            11  \\\n",
      "0   [21, 0, 0.8948390656103767]  [136, 0, 0.8964014564116605]   \n",
      "1  [219, 0, 0.6586316247535907]  [141, 0, 0.6413363433456349]   \n",
      "2  [249, 0, 0.6435425588369441]  [143, 0, 0.6328891810020485]   \n",
      "3    [12, 0, 0.637892830249236]  [185, 0, 0.6052308265431611]   \n",
      "4   [73, 0, 0.6283981485240572]   [61, 0, 0.6025687925821495]   \n",
      "\n",
      "                             12                            13  \\\n",
      "0    [9, 0, 0.8434009500698707]  [207, 0, 0.8466595854630536]   \n",
      "1  [216, 0, 0.6585096210952415]  [178, 0, 0.6629314976920868]   \n",
      "2  [138, 0, 0.6582765197535737]  [197, 0, 0.6208547959451691]   \n",
      "3  [254, 0, 0.6280910018942071]  [194, 0, 0.6154670488585959]   \n",
      "4   [82, 0, 0.6176959056640766]   [59, 0, 0.6027021744788855]   \n",
      "\n",
      "                             14                            15  \n",
      "0   [79, 0, 0.8666182581323818]   [60, 0, 0.8882839761246482]  \n",
      "1  [112, 0, 0.6221201335094734]  [243, 0, 0.6563129236609029]  \n",
      "2  [217, 0, 0.6209189791069709]  [158, 0, 0.6042746614806259]  \n",
      "3   [91, 0, 0.6134410013067743]  [192, 0, 0.5988421959567539]  \n",
      "4  [146, 0, 0.6032790949331259]   [47, 0, 0.5973809586659347]  \n"
     ]
    }
   ],
   "source": [
    "import pandas as pd\n",
    "stat_data = attack_results.findMaximums()\n",
    "df = pd.DataFrame(stat_data).transpose()\n",
    "print(df.head())"
   ]
  },
  {
   "cell_type": "markdown",
   "metadata": {},
   "source": [
    "Even better, we can use the `.style` method to customize this further. This also lets us chain formatting functions. For example, we can remove the extra 0 and clean up the data. Since we know the correct key, we can even do things like printing the key in a different colour! \n",
    "\n",
    "You can do lots of formatting thanks to the pandas library! Check out https://pandas.pydata.org/pandas-docs/stable/style.html for more details."
   ]
  },
  {
   "cell_type": "code",
   "execution_count": 6,
   "metadata": {
    "scrolled": true
   },
   "outputs": [
    {
     "data": {
      "text/html": [
       "<style  type=\"text/css\" >\n",
       "    #T_39154fbe_f8b6_11e8_9e01_f82fa8e48779row0_col0 {\n",
       "            color:  red;\n",
       "        }    #T_39154fbe_f8b6_11e8_9e01_f82fa8e48779row0_col1 {\n",
       "            color:  red;\n",
       "        }    #T_39154fbe_f8b6_11e8_9e01_f82fa8e48779row0_col2 {\n",
       "            color:  red;\n",
       "        }    #T_39154fbe_f8b6_11e8_9e01_f82fa8e48779row0_col3 {\n",
       "            color:  red;\n",
       "        }    #T_39154fbe_f8b6_11e8_9e01_f82fa8e48779row0_col4 {\n",
       "            color:  red;\n",
       "        }    #T_39154fbe_f8b6_11e8_9e01_f82fa8e48779row0_col5 {\n",
       "            color:  red;\n",
       "        }    #T_39154fbe_f8b6_11e8_9e01_f82fa8e48779row0_col6 {\n",
       "            color:  red;\n",
       "        }    #T_39154fbe_f8b6_11e8_9e01_f82fa8e48779row0_col7 {\n",
       "            color:  red;\n",
       "        }    #T_39154fbe_f8b6_11e8_9e01_f82fa8e48779row0_col8 {\n",
       "            color:  red;\n",
       "        }    #T_39154fbe_f8b6_11e8_9e01_f82fa8e48779row0_col9 {\n",
       "            color:  red;\n",
       "        }    #T_39154fbe_f8b6_11e8_9e01_f82fa8e48779row0_col10 {\n",
       "            color:  red;\n",
       "        }    #T_39154fbe_f8b6_11e8_9e01_f82fa8e48779row0_col11 {\n",
       "            color:  red;\n",
       "        }    #T_39154fbe_f8b6_11e8_9e01_f82fa8e48779row0_col12 {\n",
       "            color:  red;\n",
       "        }    #T_39154fbe_f8b6_11e8_9e01_f82fa8e48779row0_col13 {\n",
       "            color:  red;\n",
       "        }    #T_39154fbe_f8b6_11e8_9e01_f82fa8e48779row0_col14 {\n",
       "            color:  red;\n",
       "        }    #T_39154fbe_f8b6_11e8_9e01_f82fa8e48779row0_col15 {\n",
       "            color:  red;\n",
       "        }</style>  \n",
       "<table id=\"T_39154fbe_f8b6_11e8_9e01_f82fa8e48779\" > \n",
       "<thead>    <tr> \n",
       "        <th class=\"blank level0\" ></th> \n",
       "        <th class=\"col_heading level0 col0\" >0</th> \n",
       "        <th class=\"col_heading level0 col1\" >1</th> \n",
       "        <th class=\"col_heading level0 col2\" >2</th> \n",
       "        <th class=\"col_heading level0 col3\" >3</th> \n",
       "        <th class=\"col_heading level0 col4\" >4</th> \n",
       "        <th class=\"col_heading level0 col5\" >5</th> \n",
       "        <th class=\"col_heading level0 col6\" >6</th> \n",
       "        <th class=\"col_heading level0 col7\" >7</th> \n",
       "        <th class=\"col_heading level0 col8\" >8</th> \n",
       "        <th class=\"col_heading level0 col9\" >9</th> \n",
       "        <th class=\"col_heading level0 col10\" >10</th> \n",
       "        <th class=\"col_heading level0 col11\" >11</th> \n",
       "        <th class=\"col_heading level0 col12\" >12</th> \n",
       "        <th class=\"col_heading level0 col13\" >13</th> \n",
       "        <th class=\"col_heading level0 col14\" >14</th> \n",
       "        <th class=\"col_heading level0 col15\" >15</th> \n",
       "    </tr></thead> \n",
       "<tbody>    <tr> \n",
       "        <th id=\"T_39154fbe_f8b6_11e8_9e01_f82fa8e48779level0_row0\" class=\"row_heading level0 row0\" >0</th> \n",
       "        <td id=\"T_39154fbe_f8b6_11e8_9e01_f82fa8e48779row0_col0\" class=\"data row0 col0\" >2B<br>0.926</td> \n",
       "        <td id=\"T_39154fbe_f8b6_11e8_9e01_f82fa8e48779row0_col1\" class=\"data row0 col1\" >7E<br>0.913</td> \n",
       "        <td id=\"T_39154fbe_f8b6_11e8_9e01_f82fa8e48779row0_col2\" class=\"data row0 col2\" >15<br>0.935</td> \n",
       "        <td id=\"T_39154fbe_f8b6_11e8_9e01_f82fa8e48779row0_col3\" class=\"data row0 col3\" >16<br>0.913</td> \n",
       "        <td id=\"T_39154fbe_f8b6_11e8_9e01_f82fa8e48779row0_col4\" class=\"data row0 col4\" >28<br>0.865</td> \n",
       "        <td id=\"T_39154fbe_f8b6_11e8_9e01_f82fa8e48779row0_col5\" class=\"data row0 col5\" >AE<br>0.896</td> \n",
       "        <td id=\"T_39154fbe_f8b6_11e8_9e01_f82fa8e48779row0_col6\" class=\"data row0 col6\" >D2<br>0.871</td> \n",
       "        <td id=\"T_39154fbe_f8b6_11e8_9e01_f82fa8e48779row0_col7\" class=\"data row0 col7\" >A6<br>0.869</td> \n",
       "        <td id=\"T_39154fbe_f8b6_11e8_9e01_f82fa8e48779row0_col8\" class=\"data row0 col8\" >AB<br>0.899</td> \n",
       "        <td id=\"T_39154fbe_f8b6_11e8_9e01_f82fa8e48779row0_col9\" class=\"data row0 col9\" >F7<br>0.892</td> \n",
       "        <td id=\"T_39154fbe_f8b6_11e8_9e01_f82fa8e48779row0_col10\" class=\"data row0 col10\" >15<br>0.895</td> \n",
       "        <td id=\"T_39154fbe_f8b6_11e8_9e01_f82fa8e48779row0_col11\" class=\"data row0 col11\" >88<br>0.896</td> \n",
       "        <td id=\"T_39154fbe_f8b6_11e8_9e01_f82fa8e48779row0_col12\" class=\"data row0 col12\" >09<br>0.843</td> \n",
       "        <td id=\"T_39154fbe_f8b6_11e8_9e01_f82fa8e48779row0_col13\" class=\"data row0 col13\" >CF<br>0.847</td> \n",
       "        <td id=\"T_39154fbe_f8b6_11e8_9e01_f82fa8e48779row0_col14\" class=\"data row0 col14\" >4F<br>0.867</td> \n",
       "        <td id=\"T_39154fbe_f8b6_11e8_9e01_f82fa8e48779row0_col15\" class=\"data row0 col15\" >3C<br>0.888</td> \n",
       "    </tr>    <tr> \n",
       "        <th id=\"T_39154fbe_f8b6_11e8_9e01_f82fa8e48779level0_row1\" class=\"row_heading level0 row1\" >1</th> \n",
       "        <td id=\"T_39154fbe_f8b6_11e8_9e01_f82fa8e48779row1_col0\" class=\"data row1 col0\" >E3<br>0.605</td> \n",
       "        <td id=\"T_39154fbe_f8b6_11e8_9e01_f82fa8e48779row1_col1\" class=\"data row1 col1\" >CB<br>0.622</td> \n",
       "        <td id=\"T_39154fbe_f8b6_11e8_9e01_f82fa8e48779row1_col2\" class=\"data row1 col2\" >4D<br>0.646</td> \n",
       "        <td id=\"T_39154fbe_f8b6_11e8_9e01_f82fa8e48779row1_col3\" class=\"data row1 col3\" >C7<br>0.619</td> \n",
       "        <td id=\"T_39154fbe_f8b6_11e8_9e01_f82fa8e48779row1_col4\" class=\"data row1 col4\" >75<br>0.642</td> \n",
       "        <td id=\"T_39154fbe_f8b6_11e8_9e01_f82fa8e48779row1_col5\" class=\"data row1 col5\" >7C<br>0.605</td> \n",
       "        <td id=\"T_39154fbe_f8b6_11e8_9e01_f82fa8e48779row1_col6\" class=\"data row1 col6\" >F4<br>0.666</td> \n",
       "        <td id=\"T_39154fbe_f8b6_11e8_9e01_f82fa8e48779row1_col7\" class=\"data row1 col7\" >83<br>0.638</td> \n",
       "        <td id=\"T_39154fbe_f8b6_11e8_9e01_f82fa8e48779row1_col8\" class=\"data row1 col8\" >52<br>0.626</td> \n",
       "        <td id=\"T_39154fbe_f8b6_11e8_9e01_f82fa8e48779row1_col9\" class=\"data row1 col9\" >C7<br>0.694</td> \n",
       "        <td id=\"T_39154fbe_f8b6_11e8_9e01_f82fa8e48779row1_col10\" class=\"data row1 col10\" >DB<br>0.659</td> \n",
       "        <td id=\"T_39154fbe_f8b6_11e8_9e01_f82fa8e48779row1_col11\" class=\"data row1 col11\" >8D<br>0.641</td> \n",
       "        <td id=\"T_39154fbe_f8b6_11e8_9e01_f82fa8e48779row1_col12\" class=\"data row1 col12\" >D8<br>0.659</td> \n",
       "        <td id=\"T_39154fbe_f8b6_11e8_9e01_f82fa8e48779row1_col13\" class=\"data row1 col13\" >B2<br>0.663</td> \n",
       "        <td id=\"T_39154fbe_f8b6_11e8_9e01_f82fa8e48779row1_col14\" class=\"data row1 col14\" >70<br>0.622</td> \n",
       "        <td id=\"T_39154fbe_f8b6_11e8_9e01_f82fa8e48779row1_col15\" class=\"data row1 col15\" >F3<br>0.656</td> \n",
       "    </tr>    <tr> \n",
       "        <th id=\"T_39154fbe_f8b6_11e8_9e01_f82fa8e48779level0_row2\" class=\"row_heading level0 row2\" >2</th> \n",
       "        <td id=\"T_39154fbe_f8b6_11e8_9e01_f82fa8e48779row2_col0\" class=\"data row2 col0\" >4C<br>0.597</td> \n",
       "        <td id=\"T_39154fbe_f8b6_11e8_9e01_f82fa8e48779row2_col1\" class=\"data row2 col1\" >3A<br>0.621</td> \n",
       "        <td id=\"T_39154fbe_f8b6_11e8_9e01_f82fa8e48779row2_col2\" class=\"data row2 col2\" >5A<br>0.643</td> \n",
       "        <td id=\"T_39154fbe_f8b6_11e8_9e01_f82fa8e48779row2_col3\" class=\"data row2 col3\" >D0<br>0.606</td> \n",
       "        <td id=\"T_39154fbe_f8b6_11e8_9e01_f82fa8e48779row2_col4\" class=\"data row2 col4\" >24<br>0.616</td> \n",
       "        <td id=\"T_39154fbe_f8b6_11e8_9e01_f82fa8e48779row2_col5\" class=\"data row2 col5\" >5A<br>0.592</td> \n",
       "        <td id=\"T_39154fbe_f8b6_11e8_9e01_f82fa8e48779row2_col6\" class=\"data row2 col6\" >00<br>0.609</td> \n",
       "        <td id=\"T_39154fbe_f8b6_11e8_9e01_f82fa8e48779row2_col7\" class=\"data row2 col7\" >C5<br>0.608</td> \n",
       "        <td id=\"T_39154fbe_f8b6_11e8_9e01_f82fa8e48779row2_col8\" class=\"data row2 col8\" >44<br>0.618</td> \n",
       "        <td id=\"T_39154fbe_f8b6_11e8_9e01_f82fa8e48779row2_col9\" class=\"data row2 col9\" >8F<br>0.653</td> \n",
       "        <td id=\"T_39154fbe_f8b6_11e8_9e01_f82fa8e48779row2_col10\" class=\"data row2 col10\" >F9<br>0.644</td> \n",
       "        <td id=\"T_39154fbe_f8b6_11e8_9e01_f82fa8e48779row2_col11\" class=\"data row2 col11\" >8F<br>0.633</td> \n",
       "        <td id=\"T_39154fbe_f8b6_11e8_9e01_f82fa8e48779row2_col12\" class=\"data row2 col12\" >8A<br>0.658</td> \n",
       "        <td id=\"T_39154fbe_f8b6_11e8_9e01_f82fa8e48779row2_col13\" class=\"data row2 col13\" >C5<br>0.621</td> \n",
       "        <td id=\"T_39154fbe_f8b6_11e8_9e01_f82fa8e48779row2_col14\" class=\"data row2 col14\" >D9<br>0.621</td> \n",
       "        <td id=\"T_39154fbe_f8b6_11e8_9e01_f82fa8e48779row2_col15\" class=\"data row2 col15\" >9E<br>0.604</td> \n",
       "    </tr>    <tr> \n",
       "        <th id=\"T_39154fbe_f8b6_11e8_9e01_f82fa8e48779level0_row3\" class=\"row_heading level0 row3\" >3</th> \n",
       "        <td id=\"T_39154fbe_f8b6_11e8_9e01_f82fa8e48779row3_col0\" class=\"data row3 col0\" >D2<br>0.592</td> \n",
       "        <td id=\"T_39154fbe_f8b6_11e8_9e01_f82fa8e48779row3_col1\" class=\"data row3 col1\" >44<br>0.600</td> \n",
       "        <td id=\"T_39154fbe_f8b6_11e8_9e01_f82fa8e48779row3_col2\" class=\"data row3 col2\" >99<br>0.622</td> \n",
       "        <td id=\"T_39154fbe_f8b6_11e8_9e01_f82fa8e48779row3_col3\" class=\"data row3 col3\" >95<br>0.604</td> \n",
       "        <td id=\"T_39154fbe_f8b6_11e8_9e01_f82fa8e48779row3_col4\" class=\"data row3 col4\" >FD<br>0.612</td> \n",
       "        <td id=\"T_39154fbe_f8b6_11e8_9e01_f82fa8e48779row3_col5\" class=\"data row3 col5\" >E3<br>0.589</td> \n",
       "        <td id=\"T_39154fbe_f8b6_11e8_9e01_f82fa8e48779row3_col6\" class=\"data row3 col6\" >B8<br>0.600</td> \n",
       "        <td id=\"T_39154fbe_f8b6_11e8_9e01_f82fa8e48779row3_col7\" class=\"data row3 col7\" >69<br>0.598</td> \n",
       "        <td id=\"T_39154fbe_f8b6_11e8_9e01_f82fa8e48779row3_col8\" class=\"data row3 col8\" >2E<br>0.604</td> \n",
       "        <td id=\"T_39154fbe_f8b6_11e8_9e01_f82fa8e48779row3_col9\" class=\"data row3 col9\" >3D<br>0.645</td> \n",
       "        <td id=\"T_39154fbe_f8b6_11e8_9e01_f82fa8e48779row3_col10\" class=\"data row3 col10\" >0C<br>0.638</td> \n",
       "        <td id=\"T_39154fbe_f8b6_11e8_9e01_f82fa8e48779row3_col11\" class=\"data row3 col11\" >B9<br>0.605</td> \n",
       "        <td id=\"T_39154fbe_f8b6_11e8_9e01_f82fa8e48779row3_col12\" class=\"data row3 col12\" >FE<br>0.628</td> \n",
       "        <td id=\"T_39154fbe_f8b6_11e8_9e01_f82fa8e48779row3_col13\" class=\"data row3 col13\" >C2<br>0.615</td> \n",
       "        <td id=\"T_39154fbe_f8b6_11e8_9e01_f82fa8e48779row3_col14\" class=\"data row3 col14\" >5B<br>0.613</td> \n",
       "        <td id=\"T_39154fbe_f8b6_11e8_9e01_f82fa8e48779row3_col15\" class=\"data row3 col15\" >C0<br>0.599</td> \n",
       "    </tr>    <tr> \n",
       "        <th id=\"T_39154fbe_f8b6_11e8_9e01_f82fa8e48779level0_row4\" class=\"row_heading level0 row4\" >4</th> \n",
       "        <td id=\"T_39154fbe_f8b6_11e8_9e01_f82fa8e48779row4_col0\" class=\"data row4 col0\" >5F<br>0.585</td> \n",
       "        <td id=\"T_39154fbe_f8b6_11e8_9e01_f82fa8e48779row4_col1\" class=\"data row4 col1\" >E2<br>0.593</td> \n",
       "        <td id=\"T_39154fbe_f8b6_11e8_9e01_f82fa8e48779row4_col2\" class=\"data row4 col2\" >21<br>0.609</td> \n",
       "        <td id=\"T_39154fbe_f8b6_11e8_9e01_f82fa8e48779row4_col3\" class=\"data row4 col3\" >8F<br>0.599</td> \n",
       "        <td id=\"T_39154fbe_f8b6_11e8_9e01_f82fa8e48779row4_col4\" class=\"data row4 col4\" >AB<br>0.607</td> \n",
       "        <td id=\"T_39154fbe_f8b6_11e8_9e01_f82fa8e48779row4_col5\" class=\"data row4 col5\" >B1<br>0.585</td> \n",
       "        <td id=\"T_39154fbe_f8b6_11e8_9e01_f82fa8e48779row4_col6\" class=\"data row4 col6\" >2E<br>0.593</td> \n",
       "        <td id=\"T_39154fbe_f8b6_11e8_9e01_f82fa8e48779row4_col7\" class=\"data row4 col7\" >48<br>0.593</td> \n",
       "        <td id=\"T_39154fbe_f8b6_11e8_9e01_f82fa8e48779row4_col8\" class=\"data row4 col8\" >AD<br>0.596</td> \n",
       "        <td id=\"T_39154fbe_f8b6_11e8_9e01_f82fa8e48779row4_col9\" class=\"data row4 col9\" >25<br>0.611</td> \n",
       "        <td id=\"T_39154fbe_f8b6_11e8_9e01_f82fa8e48779row4_col10\" class=\"data row4 col10\" >49<br>0.628</td> \n",
       "        <td id=\"T_39154fbe_f8b6_11e8_9e01_f82fa8e48779row4_col11\" class=\"data row4 col11\" >3D<br>0.603</td> \n",
       "        <td id=\"T_39154fbe_f8b6_11e8_9e01_f82fa8e48779row4_col12\" class=\"data row4 col12\" >52<br>0.618</td> \n",
       "        <td id=\"T_39154fbe_f8b6_11e8_9e01_f82fa8e48779row4_col13\" class=\"data row4 col13\" >3B<br>0.603</td> \n",
       "        <td id=\"T_39154fbe_f8b6_11e8_9e01_f82fa8e48779row4_col14\" class=\"data row4 col14\" >92<br>0.603</td> \n",
       "        <td id=\"T_39154fbe_f8b6_11e8_9e01_f82fa8e48779row4_col15\" class=\"data row4 col15\" >2F<br>0.597</td> \n",
       "    </tr></tbody> \n",
       "</table> "
      ],
      "text/plain": [
       "<pandas.io.formats.style.Styler at 0xf073f70>"
      ]
     },
     "execution_count": 6,
     "metadata": {},
     "output_type": "execute_result"
    }
   ],
   "source": [
    "key = project.traceManager().getKnownKey(0)\n",
    "def format_stat(stat):\n",
    "    return str(\"{:02X}<br>{:.3f}\".format(stat[0], stat[2]))\n",
    "\n",
    "def color_corr_key(row):\n",
    "    global key\n",
    "    ret = [\"\"] * 16\n",
    "    for i,bnum in enumerate(row):\n",
    "        if bnum[0] == key[i]:\n",
    "            ret[i] = \"color: red\"\n",
    "        else:\n",
    "            ret[i] = \"\"\n",
    "    return ret\n",
    "\n",
    "df.head().style.format(format_stat).apply(color_corr_key, axis=1)"
   ]
  },
  {
   "cell_type": "markdown",
   "metadata": {},
   "source": [
    "You should see red numbers printed at the top of a table. Congratulations, you've now completed a successful CPA attack against AES!\n",
    "\n",
    "Next, we'll look at how we can use some of Analyzer's other features to improve the attack process, as well as better interpret the data we have."
   ]
  },
  {
   "cell_type": "markdown",
   "metadata": {},
   "source": [
    "### Reporting Intervals"
   ]
  },
  {
   "cell_type": "markdown",
   "metadata": {},
   "source": [
    "When we ran `attack.processTraces()`, we processed all of the traces before getting any information back. While this works okay for shorter attacks like this, for longer ones it can helpful to get feedback during the attack. This can be done by creating a callback function and passing it to `attack.processTraces()`. This function is called each time we pass our `attack.setReportingInterval()` (default 25 traces) and has access to everything a normal python function does.\n",
    "\n",
    "Let's use this to update our table every 10 traces. Most of this is just putting our existing code into the callback function. We also need use the `clear_output` function to clear the table, as well as `display()` to actually get it to show up:"
   ]
  },
  {
   "cell_type": "code",
   "execution_count": 7,
   "metadata": {},
   "outputs": [
    {
     "data": {
      "text/html": [
       "<style  type=\"text/css\" >\n",
       "    #T_5eca6bc8_f8b6_11e8_b869_f82fa8e48779row0_col0 {\n",
       "            color:  red;\n",
       "        }    #T_5eca6bc8_f8b6_11e8_b869_f82fa8e48779row0_col1 {\n",
       "            color:  red;\n",
       "        }    #T_5eca6bc8_f8b6_11e8_b869_f82fa8e48779row0_col2 {\n",
       "            color:  red;\n",
       "        }    #T_5eca6bc8_f8b6_11e8_b869_f82fa8e48779row0_col3 {\n",
       "            color:  red;\n",
       "        }    #T_5eca6bc8_f8b6_11e8_b869_f82fa8e48779row0_col4 {\n",
       "            color:  red;\n",
       "        }    #T_5eca6bc8_f8b6_11e8_b869_f82fa8e48779row0_col5 {\n",
       "            color:  red;\n",
       "        }    #T_5eca6bc8_f8b6_11e8_b869_f82fa8e48779row0_col6 {\n",
       "            color:  red;\n",
       "        }    #T_5eca6bc8_f8b6_11e8_b869_f82fa8e48779row0_col7 {\n",
       "            color:  red;\n",
       "        }    #T_5eca6bc8_f8b6_11e8_b869_f82fa8e48779row0_col8 {\n",
       "            color:  red;\n",
       "        }    #T_5eca6bc8_f8b6_11e8_b869_f82fa8e48779row0_col9 {\n",
       "            color:  red;\n",
       "        }    #T_5eca6bc8_f8b6_11e8_b869_f82fa8e48779row0_col10 {\n",
       "            color:  red;\n",
       "        }    #T_5eca6bc8_f8b6_11e8_b869_f82fa8e48779row0_col11 {\n",
       "            color:  red;\n",
       "        }    #T_5eca6bc8_f8b6_11e8_b869_f82fa8e48779row0_col12 {\n",
       "            color:  red;\n",
       "        }    #T_5eca6bc8_f8b6_11e8_b869_f82fa8e48779row0_col13 {\n",
       "            color:  red;\n",
       "        }    #T_5eca6bc8_f8b6_11e8_b869_f82fa8e48779row0_col14 {\n",
       "            color:  red;\n",
       "        }    #T_5eca6bc8_f8b6_11e8_b869_f82fa8e48779row0_col15 {\n",
       "            color:  red;\n",
       "        }</style>  \n",
       "<table id=\"T_5eca6bc8_f8b6_11e8_b869_f82fa8e48779\" > \n",
       "<thead>    <tr> \n",
       "        <th class=\"blank level0\" ></th> \n",
       "        <th class=\"col_heading level0 col0\" >0</th> \n",
       "        <th class=\"col_heading level0 col1\" >1</th> \n",
       "        <th class=\"col_heading level0 col2\" >2</th> \n",
       "        <th class=\"col_heading level0 col3\" >3</th> \n",
       "        <th class=\"col_heading level0 col4\" >4</th> \n",
       "        <th class=\"col_heading level0 col5\" >5</th> \n",
       "        <th class=\"col_heading level0 col6\" >6</th> \n",
       "        <th class=\"col_heading level0 col7\" >7</th> \n",
       "        <th class=\"col_heading level0 col8\" >8</th> \n",
       "        <th class=\"col_heading level0 col9\" >9</th> \n",
       "        <th class=\"col_heading level0 col10\" >10</th> \n",
       "        <th class=\"col_heading level0 col11\" >11</th> \n",
       "        <th class=\"col_heading level0 col12\" >12</th> \n",
       "        <th class=\"col_heading level0 col13\" >13</th> \n",
       "        <th class=\"col_heading level0 col14\" >14</th> \n",
       "        <th class=\"col_heading level0 col15\" >15</th> \n",
       "    </tr></thead> \n",
       "<tbody>    <tr> \n",
       "        <th id=\"T_5eca6bc8_f8b6_11e8_b869_f82fa8e48779level0_row0\" class=\"row_heading level0 row0\" >0</th> \n",
       "        <td id=\"T_5eca6bc8_f8b6_11e8_b869_f82fa8e48779row0_col0\" class=\"data row0 col0\" >2B<br>0.926</td> \n",
       "        <td id=\"T_5eca6bc8_f8b6_11e8_b869_f82fa8e48779row0_col1\" class=\"data row0 col1\" >7E<br>0.913</td> \n",
       "        <td id=\"T_5eca6bc8_f8b6_11e8_b869_f82fa8e48779row0_col2\" class=\"data row0 col2\" >15<br>0.935</td> \n",
       "        <td id=\"T_5eca6bc8_f8b6_11e8_b869_f82fa8e48779row0_col3\" class=\"data row0 col3\" >16<br>0.913</td> \n",
       "        <td id=\"T_5eca6bc8_f8b6_11e8_b869_f82fa8e48779row0_col4\" class=\"data row0 col4\" >28<br>0.865</td> \n",
       "        <td id=\"T_5eca6bc8_f8b6_11e8_b869_f82fa8e48779row0_col5\" class=\"data row0 col5\" >AE<br>0.896</td> \n",
       "        <td id=\"T_5eca6bc8_f8b6_11e8_b869_f82fa8e48779row0_col6\" class=\"data row0 col6\" >D2<br>0.871</td> \n",
       "        <td id=\"T_5eca6bc8_f8b6_11e8_b869_f82fa8e48779row0_col7\" class=\"data row0 col7\" >A6<br>0.869</td> \n",
       "        <td id=\"T_5eca6bc8_f8b6_11e8_b869_f82fa8e48779row0_col8\" class=\"data row0 col8\" >AB<br>0.899</td> \n",
       "        <td id=\"T_5eca6bc8_f8b6_11e8_b869_f82fa8e48779row0_col9\" class=\"data row0 col9\" >F7<br>0.892</td> \n",
       "        <td id=\"T_5eca6bc8_f8b6_11e8_b869_f82fa8e48779row0_col10\" class=\"data row0 col10\" >15<br>0.895</td> \n",
       "        <td id=\"T_5eca6bc8_f8b6_11e8_b869_f82fa8e48779row0_col11\" class=\"data row0 col11\" >88<br>0.896</td> \n",
       "        <td id=\"T_5eca6bc8_f8b6_11e8_b869_f82fa8e48779row0_col12\" class=\"data row0 col12\" >09<br>0.843</td> \n",
       "        <td id=\"T_5eca6bc8_f8b6_11e8_b869_f82fa8e48779row0_col13\" class=\"data row0 col13\" >CF<br>0.847</td> \n",
       "        <td id=\"T_5eca6bc8_f8b6_11e8_b869_f82fa8e48779row0_col14\" class=\"data row0 col14\" >4F<br>0.867</td> \n",
       "        <td id=\"T_5eca6bc8_f8b6_11e8_b869_f82fa8e48779row0_col15\" class=\"data row0 col15\" >3C<br>0.888</td> \n",
       "    </tr>    <tr> \n",
       "        <th id=\"T_5eca6bc8_f8b6_11e8_b869_f82fa8e48779level0_row1\" class=\"row_heading level0 row1\" >1</th> \n",
       "        <td id=\"T_5eca6bc8_f8b6_11e8_b869_f82fa8e48779row1_col0\" class=\"data row1 col0\" >E3<br>0.605</td> \n",
       "        <td id=\"T_5eca6bc8_f8b6_11e8_b869_f82fa8e48779row1_col1\" class=\"data row1 col1\" >CB<br>0.622</td> \n",
       "        <td id=\"T_5eca6bc8_f8b6_11e8_b869_f82fa8e48779row1_col2\" class=\"data row1 col2\" >4D<br>0.646</td> \n",
       "        <td id=\"T_5eca6bc8_f8b6_11e8_b869_f82fa8e48779row1_col3\" class=\"data row1 col3\" >C7<br>0.619</td> \n",
       "        <td id=\"T_5eca6bc8_f8b6_11e8_b869_f82fa8e48779row1_col4\" class=\"data row1 col4\" >75<br>0.642</td> \n",
       "        <td id=\"T_5eca6bc8_f8b6_11e8_b869_f82fa8e48779row1_col5\" class=\"data row1 col5\" >7C<br>0.605</td> \n",
       "        <td id=\"T_5eca6bc8_f8b6_11e8_b869_f82fa8e48779row1_col6\" class=\"data row1 col6\" >F4<br>0.666</td> \n",
       "        <td id=\"T_5eca6bc8_f8b6_11e8_b869_f82fa8e48779row1_col7\" class=\"data row1 col7\" >83<br>0.638</td> \n",
       "        <td id=\"T_5eca6bc8_f8b6_11e8_b869_f82fa8e48779row1_col8\" class=\"data row1 col8\" >52<br>0.626</td> \n",
       "        <td id=\"T_5eca6bc8_f8b6_11e8_b869_f82fa8e48779row1_col9\" class=\"data row1 col9\" >C7<br>0.694</td> \n",
       "        <td id=\"T_5eca6bc8_f8b6_11e8_b869_f82fa8e48779row1_col10\" class=\"data row1 col10\" >DB<br>0.659</td> \n",
       "        <td id=\"T_5eca6bc8_f8b6_11e8_b869_f82fa8e48779row1_col11\" class=\"data row1 col11\" >8D<br>0.641</td> \n",
       "        <td id=\"T_5eca6bc8_f8b6_11e8_b869_f82fa8e48779row1_col12\" class=\"data row1 col12\" >D8<br>0.659</td> \n",
       "        <td id=\"T_5eca6bc8_f8b6_11e8_b869_f82fa8e48779row1_col13\" class=\"data row1 col13\" >B2<br>0.663</td> \n",
       "        <td id=\"T_5eca6bc8_f8b6_11e8_b869_f82fa8e48779row1_col14\" class=\"data row1 col14\" >70<br>0.622</td> \n",
       "        <td id=\"T_5eca6bc8_f8b6_11e8_b869_f82fa8e48779row1_col15\" class=\"data row1 col15\" >F3<br>0.656</td> \n",
       "    </tr>    <tr> \n",
       "        <th id=\"T_5eca6bc8_f8b6_11e8_b869_f82fa8e48779level0_row2\" class=\"row_heading level0 row2\" >2</th> \n",
       "        <td id=\"T_5eca6bc8_f8b6_11e8_b869_f82fa8e48779row2_col0\" class=\"data row2 col0\" >4C<br>0.597</td> \n",
       "        <td id=\"T_5eca6bc8_f8b6_11e8_b869_f82fa8e48779row2_col1\" class=\"data row2 col1\" >3A<br>0.621</td> \n",
       "        <td id=\"T_5eca6bc8_f8b6_11e8_b869_f82fa8e48779row2_col2\" class=\"data row2 col2\" >5A<br>0.643</td> \n",
       "        <td id=\"T_5eca6bc8_f8b6_11e8_b869_f82fa8e48779row2_col3\" class=\"data row2 col3\" >D0<br>0.606</td> \n",
       "        <td id=\"T_5eca6bc8_f8b6_11e8_b869_f82fa8e48779row2_col4\" class=\"data row2 col4\" >24<br>0.616</td> \n",
       "        <td id=\"T_5eca6bc8_f8b6_11e8_b869_f82fa8e48779row2_col5\" class=\"data row2 col5\" >5A<br>0.592</td> \n",
       "        <td id=\"T_5eca6bc8_f8b6_11e8_b869_f82fa8e48779row2_col6\" class=\"data row2 col6\" >00<br>0.609</td> \n",
       "        <td id=\"T_5eca6bc8_f8b6_11e8_b869_f82fa8e48779row2_col7\" class=\"data row2 col7\" >C5<br>0.608</td> \n",
       "        <td id=\"T_5eca6bc8_f8b6_11e8_b869_f82fa8e48779row2_col8\" class=\"data row2 col8\" >44<br>0.618</td> \n",
       "        <td id=\"T_5eca6bc8_f8b6_11e8_b869_f82fa8e48779row2_col9\" class=\"data row2 col9\" >8F<br>0.653</td> \n",
       "        <td id=\"T_5eca6bc8_f8b6_11e8_b869_f82fa8e48779row2_col10\" class=\"data row2 col10\" >F9<br>0.644</td> \n",
       "        <td id=\"T_5eca6bc8_f8b6_11e8_b869_f82fa8e48779row2_col11\" class=\"data row2 col11\" >8F<br>0.633</td> \n",
       "        <td id=\"T_5eca6bc8_f8b6_11e8_b869_f82fa8e48779row2_col12\" class=\"data row2 col12\" >8A<br>0.658</td> \n",
       "        <td id=\"T_5eca6bc8_f8b6_11e8_b869_f82fa8e48779row2_col13\" class=\"data row2 col13\" >C5<br>0.621</td> \n",
       "        <td id=\"T_5eca6bc8_f8b6_11e8_b869_f82fa8e48779row2_col14\" class=\"data row2 col14\" >D9<br>0.621</td> \n",
       "        <td id=\"T_5eca6bc8_f8b6_11e8_b869_f82fa8e48779row2_col15\" class=\"data row2 col15\" >9E<br>0.604</td> \n",
       "    </tr>    <tr> \n",
       "        <th id=\"T_5eca6bc8_f8b6_11e8_b869_f82fa8e48779level0_row3\" class=\"row_heading level0 row3\" >3</th> \n",
       "        <td id=\"T_5eca6bc8_f8b6_11e8_b869_f82fa8e48779row3_col0\" class=\"data row3 col0\" >D2<br>0.592</td> \n",
       "        <td id=\"T_5eca6bc8_f8b6_11e8_b869_f82fa8e48779row3_col1\" class=\"data row3 col1\" >44<br>0.600</td> \n",
       "        <td id=\"T_5eca6bc8_f8b6_11e8_b869_f82fa8e48779row3_col2\" class=\"data row3 col2\" >99<br>0.622</td> \n",
       "        <td id=\"T_5eca6bc8_f8b6_11e8_b869_f82fa8e48779row3_col3\" class=\"data row3 col3\" >95<br>0.604</td> \n",
       "        <td id=\"T_5eca6bc8_f8b6_11e8_b869_f82fa8e48779row3_col4\" class=\"data row3 col4\" >FD<br>0.612</td> \n",
       "        <td id=\"T_5eca6bc8_f8b6_11e8_b869_f82fa8e48779row3_col5\" class=\"data row3 col5\" >E3<br>0.589</td> \n",
       "        <td id=\"T_5eca6bc8_f8b6_11e8_b869_f82fa8e48779row3_col6\" class=\"data row3 col6\" >B8<br>0.600</td> \n",
       "        <td id=\"T_5eca6bc8_f8b6_11e8_b869_f82fa8e48779row3_col7\" class=\"data row3 col7\" >69<br>0.598</td> \n",
       "        <td id=\"T_5eca6bc8_f8b6_11e8_b869_f82fa8e48779row3_col8\" class=\"data row3 col8\" >2E<br>0.604</td> \n",
       "        <td id=\"T_5eca6bc8_f8b6_11e8_b869_f82fa8e48779row3_col9\" class=\"data row3 col9\" >3D<br>0.645</td> \n",
       "        <td id=\"T_5eca6bc8_f8b6_11e8_b869_f82fa8e48779row3_col10\" class=\"data row3 col10\" >0C<br>0.638</td> \n",
       "        <td id=\"T_5eca6bc8_f8b6_11e8_b869_f82fa8e48779row3_col11\" class=\"data row3 col11\" >B9<br>0.605</td> \n",
       "        <td id=\"T_5eca6bc8_f8b6_11e8_b869_f82fa8e48779row3_col12\" class=\"data row3 col12\" >FE<br>0.628</td> \n",
       "        <td id=\"T_5eca6bc8_f8b6_11e8_b869_f82fa8e48779row3_col13\" class=\"data row3 col13\" >C2<br>0.615</td> \n",
       "        <td id=\"T_5eca6bc8_f8b6_11e8_b869_f82fa8e48779row3_col14\" class=\"data row3 col14\" >5B<br>0.613</td> \n",
       "        <td id=\"T_5eca6bc8_f8b6_11e8_b869_f82fa8e48779row3_col15\" class=\"data row3 col15\" >C0<br>0.599</td> \n",
       "    </tr>    <tr> \n",
       "        <th id=\"T_5eca6bc8_f8b6_11e8_b869_f82fa8e48779level0_row4\" class=\"row_heading level0 row4\" >4</th> \n",
       "        <td id=\"T_5eca6bc8_f8b6_11e8_b869_f82fa8e48779row4_col0\" class=\"data row4 col0\" >5F<br>0.585</td> \n",
       "        <td id=\"T_5eca6bc8_f8b6_11e8_b869_f82fa8e48779row4_col1\" class=\"data row4 col1\" >E2<br>0.593</td> \n",
       "        <td id=\"T_5eca6bc8_f8b6_11e8_b869_f82fa8e48779row4_col2\" class=\"data row4 col2\" >21<br>0.609</td> \n",
       "        <td id=\"T_5eca6bc8_f8b6_11e8_b869_f82fa8e48779row4_col3\" class=\"data row4 col3\" >8F<br>0.599</td> \n",
       "        <td id=\"T_5eca6bc8_f8b6_11e8_b869_f82fa8e48779row4_col4\" class=\"data row4 col4\" >AB<br>0.607</td> \n",
       "        <td id=\"T_5eca6bc8_f8b6_11e8_b869_f82fa8e48779row4_col5\" class=\"data row4 col5\" >B1<br>0.585</td> \n",
       "        <td id=\"T_5eca6bc8_f8b6_11e8_b869_f82fa8e48779row4_col6\" class=\"data row4 col6\" >2E<br>0.593</td> \n",
       "        <td id=\"T_5eca6bc8_f8b6_11e8_b869_f82fa8e48779row4_col7\" class=\"data row4 col7\" >48<br>0.593</td> \n",
       "        <td id=\"T_5eca6bc8_f8b6_11e8_b869_f82fa8e48779row4_col8\" class=\"data row4 col8\" >AD<br>0.596</td> \n",
       "        <td id=\"T_5eca6bc8_f8b6_11e8_b869_f82fa8e48779row4_col9\" class=\"data row4 col9\" >25<br>0.611</td> \n",
       "        <td id=\"T_5eca6bc8_f8b6_11e8_b869_f82fa8e48779row4_col10\" class=\"data row4 col10\" >49<br>0.628</td> \n",
       "        <td id=\"T_5eca6bc8_f8b6_11e8_b869_f82fa8e48779row4_col11\" class=\"data row4 col11\" >3D<br>0.603</td> \n",
       "        <td id=\"T_5eca6bc8_f8b6_11e8_b869_f82fa8e48779row4_col12\" class=\"data row4 col12\" >52<br>0.618</td> \n",
       "        <td id=\"T_5eca6bc8_f8b6_11e8_b869_f82fa8e48779row4_col13\" class=\"data row4 col13\" >3B<br>0.603</td> \n",
       "        <td id=\"T_5eca6bc8_f8b6_11e8_b869_f82fa8e48779row4_col14\" class=\"data row4 col14\" >92<br>0.603</td> \n",
       "        <td id=\"T_5eca6bc8_f8b6_11e8_b869_f82fa8e48779row4_col15\" class=\"data row4 col15\" >2F<br>0.597</td> \n",
       "    </tr></tbody> \n",
       "</table> "
      ],
      "text/plain": [
       "<pandas.io.formats.style.Styler at 0x250dbd50>"
      ]
     },
     "metadata": {},
     "output_type": "display_data"
    }
   ],
   "source": [
    "from IPython.display import clear_output\n",
    "import numpy as np\n",
    "        \n",
    "def stats_callback():\n",
    "    attack_results = attack.getStatistics()\n",
    "    attack_results.setKnownkey(key)\n",
    "    stat_data = attack_results.findMaximums()\n",
    "    df = pd.DataFrame(stat_data).transpose()\n",
    "    clear_output(wait=True)\n",
    "    display(df.head().style.format(format_stat).apply(color_corr_key,axis=1))\n",
    "    \n",
    "attack.setReportingInterval(10)\n",
    "attack_results = attack.processTraces(stats_callback)"
   ]
  },
  {
   "cell_type": "markdown",
   "metadata": {},
   "source": [
    "A default jupyter callback is also available:"
   ]
  },
  {
   "cell_type": "code",
   "execution_count": null,
   "metadata": {},
   "outputs": [],
   "source": [
    "import chipwhisperer as cw\n",
    "cb = cw.getJupyterCallback(attack)\n",
    "attack_results = attack.processTraces(cb)"
   ]
  },
  {
   "cell_type": "markdown",
   "metadata": {},
   "source": [
    "Here we used a reporting interval of 10 traces. Depending on the attack and what you want to learn from it, you may want to use higher or lower values: in general reporting less often is faster, but more frequent reporting can allow you to end a long attack early. More frequent reporting also increases the resolution of some plot data (which we will look at next)."
   ]
  },
  {
   "cell_type": "markdown",
   "metadata": {},
   "source": [
    "### Plot Data"
   ]
  },
  {
   "cell_type": "markdown",
   "metadata": {},
   "source": [
    "Analyzer also includes a module to create plots to help you interpret the data. These act on one subkey at a time and return some data that we can plot using bokeh (or your graphing module of choice). Let's start by grabbing the class that does all the calculations:"
   ]
  },
  {
   "cell_type": "code",
   "execution_count": null,
   "metadata": {},
   "outputs": [],
   "source": [
    "plot_data = cw.analyzerPlots(attack_results)"
   ]
  },
  {
   "cell_type": "markdown",
   "metadata": {},
   "source": [
    "#### Output Vs. Time"
   ]
  },
  {
   "cell_type": "markdown",
   "metadata": {},
   "source": [
    "We'll start by looking at the Output Vs. Time module, which will allow us to plot correlation of our guesses in time. This is useful for finding exactly where the operations we're attacking are. Like in previous tutorials, we'll use bokeh to plot the data we get back.\n",
    "\n",
    "The method we're interested in is `getPlotData(bnum)`, which returns in a list: `[xrange, correct_key, incorrect_key_data, incorrect_key_data]` for the position `bnum` passed to it. The method returns two sets of incorrect key data because one is for the key guesses below the correct one, and the other is for guesses above the correct one.\n",
    "\n",
    "We'll start by just looking at the 0th subkey. Once we get this data back we'll plot the correct key in red, and the rest in green."
   ]
  },
  {
   "cell_type": "code",
   "execution_count": null,
   "metadata": {
    "scrolled": false
   },
   "outputs": [],
   "source": [
    "from bokeh.plotting import figure, show\n",
    "from bokeh.io import output_notebook\n",
    "\n",
    "ret = plot_data.outputVsTime(0)\n",
    "\n",
    "output_notebook()\n",
    "p = figure()\n",
    "p.line(ret[0], ret[2], line_color='green')\n",
    "p.line(ret[0], ret[3], line_color='green')\n",
    "\n",
    "p.line(ret[0], ret[1], line_color='red')\n",
    "show(p)"
   ]
  },
  {
   "cell_type": "markdown",
   "metadata": {},
   "source": [
    "You should see some distinctive red spikes in your plot. The largest of these is where the sbox lookup is actually happening (the smaller ones are typically other AES operations that move the sbox data around).\n",
    "\n",
    "Let's repeat this for all the subkeys. This is quite a bit more data to plot, so give it a few seconds:"
   ]
  },
  {
   "cell_type": "code",
   "execution_count": null,
   "metadata": {},
   "outputs": [],
   "source": [
    "\"\"\"rets = []\n",
    "for i in range(0, 16):\n",
    "    rets.append(plot_data.outputVsTime(i))\n",
    "\n",
    "p = figure()\n",
    "for ret in rets:\n",
    "    p.line(ret[0], ret[2], line_color='green')\n",
    "    p.line(ret[0], ret[3], line_color='green')\n",
    "    \n",
    "for ret in rets:\n",
    "    p.line(ret[0], ret[1], line_color='red')\n",
    "\n",
    "show(p)\"\"\""
   ]
  },
  {
   "cell_type": "markdown",
   "metadata": {},
   "source": [
    "This information can be useful in many ways. For example, you can probably see the first 16 spikes that make up the sbox lookup are a small portion of the total trace length. If we ever needed to rerun the attack, we could capture a much smaller number of samples and speed up analysis significantly!"
   ]
  },
  {
   "cell_type": "markdown",
   "metadata": {},
   "source": [
    "#### PGE vs. Traces"
   ]
  },
  {
   "cell_type": "markdown",
   "metadata": {},
   "source": [
    "The next data we'll look at is a plot of partial guessing entropy (PGE) vs. the number of traces. As mentioned before, PGE is just how many spots away from the top the actual subkey is in our table of guesses. For example, if there are 7 subkey guesses that have a higher correlation than the actual subkey, the subkey has a PGE of 7.\n",
    "\n",
    "This plot is useful for seeing how many traces were needed to actually break the AES implementation. Keep in mind, however, that the resolution of the plot is determined by the reporting interval (also note that `attack_results.findMaximums()` must be called in the callback function). In our case, we have a reporting interval of 10, so we'll have a resolution of 10 traces.\n",
    "\n",
    "This module's `getPlotData()` is similar to the previous plot in that it takes `bnum` as an argument and returns a list of `[xrange, PGE]`. Plotting this data is quite a bit faster than the previous example, we'll just plot all 16 of the `bnum` now."
   ]
  },
  {
   "cell_type": "code",
   "execution_count": null,
   "metadata": {},
   "outputs": [],
   "source": [
    "p = figure()\n",
    "\n",
    "for bnum in range(16):\n",
    "    ret = plot_data.pgeVsTrace(bnum)\n",
    "    p.line(ret[0], ret[1], line_color='red')\n",
    "show(p)"
   ]
  },
  {
   "cell_type": "markdown",
   "metadata": {},
   "source": [
    "You should see a number of lines that start off with high values, then rapidly drop off. You may notice that we broke the AES implementation without needing to use all of our traces. \n",
    "\n",
    "Even though we may have broken the AES implementation in fewer traces, we may not want to reduce how many traces we capture. Remember that, while we know the key here, for a real attack we won't and therefore must use the correlation to determine when we've broken a key. Our next plot will help us to determine how feesible capturing fewer traces is."
   ]
  },
  {
   "cell_type": "markdown",
   "metadata": {},
   "source": [
    "#### Correlation vs. Traces"
   ]
  },
  {
   "cell_type": "markdown",
   "metadata": {},
   "source": [
    "The last plot we'll take a look at is correlation vs the number of traces. Like with PGE vs. Traces, this plot's resolution is determined by the reporting interval (10 in our case). One again, this is a plot with a lot of data, so we'll start of by just plotting one subkey:\n",
    "\n",
    "This module's `getPlotData()` returns a list of `[xrange, [data_for_kguess]]`, so we'll need to plot each guess for each subkey. Like before, we'll do the plot for the correct subkey in red and the rest in green."
   ]
  },
  {
   "cell_type": "code",
   "execution_count": null,
   "metadata": {},
   "outputs": [],
   "source": [
    "ret = plot_data.corrVsTrace(0)\n",
    "p = figure()\n",
    "for i in range(255):\n",
    "    if i == key[0]:\n",
    "        p.line(ret[0], ret[1][i], line_color='red')\n",
    "    else:\n",
    "        p.line(ret[0], ret[1][i], line_color='green')\n",
    "        \n",
    "show(p)"
   ]
  },
  {
   "cell_type": "markdown",
   "metadata": {},
   "source": [
    "As you can see, all the subkey guesses start of with large correlations, but all of them except for the correct guess quickly drop off. If you didn't know the key, at what point would you be sure that the guess with the highest correlation was actually the correct subkey?\n",
    "\n",
    "Let's continue and plot all of the subkeys (give this one some time):"
   ]
  },
  {
   "cell_type": "code",
   "execution_count": null,
   "metadata": {},
   "outputs": [],
   "source": [
    "\"\"\"p = figure()\n",
    "for bnum in range(16):\n",
    "    ret = plot_data.corrVsTrace(bnum)\n",
    "    for i in range(255):\n",
    "        if i == key[bnum]:\n",
    "            p.line(ret[0], ret[1][i], line_color='red')\n",
    "        else:\n",
    "            p.line(ret[0], ret[1][i], line_color='green')\n",
    "            \n",
    "show(p)\"\"\""
   ]
  },
  {
   "cell_type": "markdown",
   "metadata": {},
   "source": [
    "Like in the first plot, you should see the red lines remain high while the green ones drop off. At what point would you be sure that you've broken all the subkeys? Is it higher than when all of the PGE lines reached zero?"
   ]
  },
  {
   "cell_type": "markdown",
   "metadata": {},
   "source": [
    "## Conclusion"
   ]
  },
  {
   "cell_type": "markdown",
   "metadata": {},
   "source": [
    "You should now have completed a successful CPA attack and learned about some on Analyzer's features for improving your attack! \n",
    "\n",
    "You can move onto more advanced tutorials, especially showing you how the actual attack works when performed manually (Tutorial B6). This tutorial also utilized tiny-AES128-C for Arm targets, which uses the same operations as the XMEGA target. A later tutorial will preform this attack on a more typical 32 bit AES implementation."
   ]
  },
  {
   "cell_type": "markdown",
   "metadata": {},
   "source": [
    "## Tests"
   ]
  },
  {
   "cell_type": "code",
   "execution_count": null,
   "metadata": {},
   "outputs": [],
   "source": [
    "key = project.traceManager().getKnownKey(0)\n",
    "recv_key = [kguess[0][0] for kguess in attack_results.findMaximums()]\n",
    "assert (key == recv_key).all(), \"Failed to recover encryption key\\nGot: {}\\nExpected: {}\".format(recv_key, key)"
   ]
  },
  {
   "cell_type": "code",
   "execution_count": null,
   "metadata": {},
   "outputs": [],
   "source": [
    "assert (attack_results.pge == [0]*16), \"PGE for some bytes not zero: {}\".format(attack_results.pge)"
   ]
  },
  {
   "cell_type": "code",
   "execution_count": null,
   "metadata": {},
   "outputs": [],
   "source": [
    "max_corrs = [kguess[0][2] for kguess in attack_results.findMaximums()]\n",
    "assert (np.all([corr > 0.75 for corr in max_corrs])), \"Low correlation in attack (corr <= 0.75): {}\".format(max_corrs)"
   ]
  },
  {
   "cell_type": "code",
   "execution_count": null,
   "metadata": {},
   "outputs": [],
   "source": []
  }
 ],
 "metadata": {
  "kernelspec": {
   "display_name": "Python 3",
   "language": "python",
   "name": "python3"
  },
  "language_info": {
   "codemirror_mode": {
    "name": "ipython",
    "version": 3
   },
   "file_extension": ".py",
   "mimetype": "text/x-python",
   "name": "python",
   "nbconvert_exporter": "python",
   "pygments_lexer": "ipython3",
   "version": "3.7.1"
  },
  "toc": {
   "base_numbering": 1,
   "nav_menu": {},
   "number_sections": true,
   "sideBar": true,
   "skip_h1_title": true,
   "title_cell": "Table of Contents",
   "title_sidebar": "Contents",
   "toc_cell": false,
   "toc_position": {
    "height": "calc(100% - 180px)",
    "left": "10px",
    "top": "150px",
    "width": "190.391px"
   },
   "toc_section_display": true,
   "toc_window_display": true
  }
 },
 "nbformat": 4,
 "nbformat_minor": 2
}
