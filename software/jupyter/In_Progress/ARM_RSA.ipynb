{
 "cells": [
  {
   "cell_type": "code",
   "execution_count": null,
   "metadata": {},
   "outputs": [],
   "source": [
    "import chipwhisperer as cw\n",
    "import binascii"
   ]
  },
  {
   "cell_type": "code",
   "execution_count": null,
   "metadata": {},
   "outputs": [],
   "source": [
    "scope = cw.scope()\n",
    "target = cw.target(scope)\n",
    "scope.gain.gain = 55\n",
    "scope.adc.samples = 20000\n",
    "scope.adc.offset = 230000 #starting offset\n",
    "scope.adc.basic_mode = \"rising_edge\"\n",
    "scope.clock.clkgen_freq = 7370000\n",
    "scope.clock.adc_src = \"clkgen_x1\"\n",
    "scope.trigger.triggers = \"tio4\"\n",
    "scope.io.tio1 = \"serial_rx\"\n",
    "scope.io.tio2 = \"serial_tx\"\n",
    "scope.io.hs2 = \"clkgen\""
   ]
  },
  {
   "cell_type": "code",
   "execution_count": null,
   "metadata": {},
   "outputs": [],
   "source": [
    "prog = cw.programmers.STM32FProgrammer\n",
    "fw_path = \"../../hardware/victims/firmware/simpleserial-rsa/simpleserial-rsa-CWLITEARM.hex\""
   ]
  },
  {
   "cell_type": "code",
   "execution_count": null,
   "metadata": {},
   "outputs": [],
   "source": [
    "cw.programTarget(scope, prog, fw_path)"
   ]
  },
  {
   "cell_type": "code",
   "execution_count": null,
   "metadata": {},
   "outputs": [],
   "source": []
  },
  {
   "cell_type": "code",
   "execution_count": null,
   "metadata": {},
   "outputs": [],
   "source": [
    "help(cw.key_text_patterns)"
   ]
  },
  {
   "cell_type": "code",
   "execution_count": null,
   "metadata": {},
   "outputs": [],
   "source": [
    "ktp = cw.ktp.Basic(target=target)"
   ]
  },
  {
   "cell_type": "code",
   "execution_count": null,
   "metadata": {},
   "outputs": [],
   "source": [
    "import time\n",
    "text = [0x00, 0x00, 0x00, 0x00, 0x00, 0x00, 0x00, 0x00, 0x00, 0x00, 0x00, 0x00, 0x00, 0x80, 0x14, 0x00]  # manual creation of a key, text pair can be substituted here\n",
    "target.key_cmd = None\n",
    "target.output_cmd = None\n",
    "def get_go_cmd(text):\n",
    "    go_cmd = \"p\"\n",
    "    for num in text:\n",
    "        go_cmd += \"{:02X}\".format(num)\n",
    "    go_cmd += \"\\\\n\"\n",
    "    return go_cmd\n",
    "\n",
    "target.go_cmd = get_go_cmd(text)\n",
    "\n",
    "def run_multi_trace(scope, target, start, step, num_step):\n",
    "    scope.adc.samples = step\n",
    "    num_stepped = 0\n",
    "    trace = np.zeros(step*num_step)\n",
    "    while num_stepped < num_step:\n",
    "\n",
    "        scope.adc.offset = start + (step * num_stepped)\n",
    "\n",
    "        # run aux stuff that should run before the scope arms here\n",
    "        scope.arm()\n",
    "\n",
    "        # run aux stuff that should run after the scope arms here\n",
    "\n",
    "        target.go()\n",
    "        timeout = 500\n",
    "        # wait for target to finish\n",
    "        while target.isDone() is False:\n",
    "            timeout -= 1\n",
    "            time.sleep(0.01)\n",
    "\n",
    "        try:\n",
    "            ret = scope.capture()\n",
    "            if ret:\n",
    "                print('Timeout happened during acquisition')\n",
    "        except IOError as e:\n",
    "            print('IOError: %s' % str(e))\n",
    "\n",
    "        # run aux stuff that should happen after trace here\n",
    "\n",
    "        #_ = target.readOutput() # throw out the target response\n",
    "        # append the new trace\n",
    "        new_trace = scope.getLastTrace()\n",
    "        if len(new_trace) < step:\n",
    "            new_trace = np.zeros(step)\n",
    "        trace[((num_stepped) * step):((num_stepped+1) * step)] = new_trace\n",
    "        num_stepped += 1\n",
    "    return trace\n",
    "\n"
   ]
  },
  {
   "cell_type": "code",
   "execution_count": null,
   "metadata": {},
   "outputs": [],
   "source": []
  },
  {
   "cell_type": "code",
   "execution_count": null,
   "metadata": {},
   "outputs": [],
   "source": [
    "cw.programTarget(scope, prog, fw_path)\n",
    "import numpy as np\n",
    "scope.adc.timeout = 200\n",
    "start = 0\n",
    "step = 20000\n",
    "num_step = 1\n",
    "end = start + (step * num_step)\n",
    "next_trace = run_multi_trace(scope, target, start, step, num_step)\n",
    "print(target.go_cmd)\n"
   ]
  },
  {
   "cell_type": "code",
   "execution_count": null,
   "metadata": {},
   "outputs": [],
   "source": [
    "print(scope.adc.trig_count)\n",
    "help(scope.adc)"
   ]
  },
  {
   "cell_type": "code",
   "execution_count": null,
   "metadata": {},
   "outputs": [],
   "source": [
    "from bokeh.plotting import figure, show\n",
    "from bokeh.io import output_notebook\n",
    "\n",
    "\n",
    "output_notebook()\n"
   ]
  },
  {
   "cell_type": "code",
   "execution_count": null,
   "metadata": {},
   "outputs": [],
   "source": [
    "xdata = range(len(next_trace))\n",
    "p = figure()\n",
    "p.line(xdata, next_trace, line_color=\"red\")\n",
    "show(p)"
   ]
  },
  {
   "cell_type": "code",
   "execution_count": null,
   "metadata": {},
   "outputs": [],
   "source": []
  }
 ],
 "metadata": {
  "language_info": {
   "name": "python",
   "pygments_lexer": "ipython3"
  }
 },
 "nbformat": 4,
 "nbformat_minor": 2
}
