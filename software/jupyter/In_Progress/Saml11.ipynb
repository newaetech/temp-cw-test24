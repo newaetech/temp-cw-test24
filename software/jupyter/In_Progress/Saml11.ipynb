{
 "cells": [
  {
   "cell_type": "code",
   "execution_count": null,
   "metadata": {},
   "outputs": [],
   "source": [
    "import serial"
   ]
  },
  {
   "cell_type": "code",
   "execution_count": null,
   "metadata": {},
   "outputs": [],
   "source": [
    "ser = serial.Serial('COM13', 38400, timeout=1)"
   ]
  },
  {
   "cell_type": "code",
   "execution_count": null,
   "metadata": {},
   "outputs": [],
   "source": [
    "import time\n",
    "import binascii\n",
    "def get_pt(pt):\n",
    "    ser.flushInput()\n",
    "    ser.write((\"p\" + binascii.hexlify(pt).decode(\"latin-1\") + \"\\n\").encode())\n",
    "    time.sleep(0.01)\n",
    "    return ser.read(34) #get response\n",
    "def get_trace():\n",
    "    ser.flushInput()\n",
    "    ser.write(\"b\\n\".encode())\n",
    "    time.sleep(0.01)\n",
    "    return ser.read(254)\n",
    "def get_key(key):\n",
    "    ser.flushInput()\n",
    "    ser.write((\"k\" + binascii.hexlify(key).decode(\"latin-1\") + \"\\n\").encode())"
   ]
  },
  {
   "cell_type": "code",
   "execution_count": null,
   "metadata": {},
   "outputs": [],
   "source": [
    "import chipwhisperer as cw\n",
    "project = cw.createProject(\"./projects/saml11.cwp\", overwrite = True)\n",
    "cw_project = cw.createProject(\"./projects/cw_saml11.cwp\", overwrite = True)"
   ]
  },
  {
   "cell_type": "code",
   "execution_count": null,
   "metadata": {},
   "outputs": [],
   "source": [
    "%run \"Helper_Scripts/CWLite_Connect.ipynb\"\n",
    "# setup scope parameters\n",
    "scope.gain.gain = 45\n",
    "scope.adc.samples = 5000\n",
    "scope.adc.offset = 0\n",
    "scope.adc.basic_mode = \"rising_edge\"\n",
    "scope.clock.clkgen_freq = 7370000\n",
    "scope.clock.adc_src = \"clkgen_x4\"\n",
    "scope.trigger.triggers = \"tio4\"\n",
    "scope.io.tio1 = \"high_z\"\n",
    "scope.io.tio2 = \"high_z\"\n",
    "scope.io.hs2 = \"clkgen\""
   ]
  },
  {
   "cell_type": "code",
   "execution_count": null,
   "metadata": {},
   "outputs": [],
   "source": [
    "import copy\n",
    "project = cw.createProject(\"./projects/saml11.cwp\", overwrite = True)\n",
    "cw_project = cw.createProject(\"./projects/cw_saml11.cwp\", overwrite = True)\n",
    "tc = copy.deepcopy(project.getTraceFormat())\n",
    "cw_tc = cw_project.getTraceFormat()"
   ]
  },
  {
   "cell_type": "code",
   "execution_count": null,
   "metadata": {
    "scrolled": true
   },
   "outputs": [],
   "source": [
    "import chipwhisperer as cw\n",
    "scope.adc.samples = 5796\n",
    "from tqdm import trange\n",
    "from chipwhisperer.capture.acq_patterns.basic import AcqKeyTextPattern_Basic\n",
    "from chipwhisperer.capture.acq_patterns.tvlattest import AcqKeyTextPattern_TVLATTest\n",
    "import numpy as np\n",
    "import binascii\n",
    "N = 500\n",
    "traces = []\n",
    "texts = []\n",
    "ctexts = []\n",
    "cw_traces = []\n",
    "keys = []\n",
    "project = cw.createProject(\"./projects/saml11.cwp\", overwrite = True)\n",
    "tc = copy.deepcopy(project.getTraceFormat())\n",
    "#ktp = AcqKeyTextPattern_TVLATTest()\n",
    "ktp = AcqKeyTextPattern_Basic()\n",
    "ktp.initPair(N)\n",
    "for i in trange(N):\n",
    "    key, text = ktp.newPair()\n",
    "    \n",
    "    get_key(key)\n",
    "    #time.sleep(0.01)\n",
    "    \n",
    "    #scope.arm()\n",
    "        # wait for target to finish\n",
    "    try:\n",
    "        ct = bytearray(binascii.unhexlify(get_pt(text)[1:-1]))\n",
    "    except Exception as e:\n",
    "        continue\n",
    "    if len(ct) < 16:\n",
    "        continue #didn't get whole ct back\n",
    "    keys.append(key)\n",
    "    ##while target.isDone() is False and timeout:\n",
    "        #timeout -= 1\n",
    "        #time.sleep(0.01)\n",
    "\n",
    "    #try:\n",
    "    #    ret = scope.capture()\n",
    "    #    if ret:\n",
    "    #        print('Timeout happened during acquisition')\n",
    "    #except IOError as e:\n",
    "    #    print('IOError: %s' % str(e))\n",
    "    \n",
    "    \n",
    "    tmp = binascii.unhexlify(get_trace()[1:-1].decode(\"latin-1\"))\n",
    "    trace = [0] * 63\n",
    "    for j in range(int(len(tmp)/2)):\n",
    "        trace[j] = tmp[j*2] | (tmp[j*2 + 1] << 8)\n",
    "    \n",
    "    cw_trace = scope.getLastTrace()\n",
    "    cw_traces.append(cw_trace)\n",
    "    traces.append(trace)\n",
    "    texts.append(text)\n",
    "    ctexts.append(ct)\n",
    "    tc.addTrace(trace, text, ct, key)\n",
    "    #cw_tc.addTrace(cw_trace, text, ct, key)\n",
    "    \n",
    "tc._isloaded = True\n",
    "cw_tc._isloaded = True\n",
    "project.traceManager().appendSegment(tc)\n",
    "cw_project.traceManager().appendSegment(cw_tc)"
   ]
  },
  {
   "cell_type": "code",
   "execution_count": null,
   "metadata": {},
   "outputs": [],
   "source": [
    "#tc._isloaded = True\n",
    "tc.isLoaded()"
   ]
  },
  {
   "cell_type": "code",
   "execution_count": null,
   "metadata": {},
   "outputs": [],
   "source": [
    "tc._isloaded = True\n",
    "cw_tc._isloaded = True\n",
    "project.traceManager().appendSegment(tc)\n",
    "cw_project.traceManager().appendSegment(cw_tc)"
   ]
  },
  {
   "cell_type": "code",
   "execution_count": null,
   "metadata": {},
   "outputs": [],
   "source": [
    "print(texts[0])\n",
    "print(binascii.hexlify(ctexts[0]))\n",
    "print(tc.getTextout(0))\n",
    "for ct in ctexts:\n",
    "    assert len(ct) == 16, \"Len ct = {}\".format(len(ct))\n",
    "print(binascii.hexlify(keys[0]))"
   ]
  },
  {
   "cell_type": "code",
   "execution_count": null,
   "metadata": {},
   "outputs": [],
   "source": [
    "from datetime import datetime\n",
    "import copy\n",
    "\n",
    "starttime = datetime.now()\n",
    "prefix = starttime.strftime('%Y.%m.%d-%H.%M.%S') + \"_\"\n",
    "cw_tc.config.setConfigFilename(cw_project.datadirectory + \"traces/config_\" + prefix + \".cfg\")\n",
    "cw_tc.config.setAttr(\"prefix\", prefix)\n",
    "cw_tc.config.setAttr(\"date\", starttime.strftime('%Y-%m-%d %H:%M:%S'))\n",
    "cw_tc.closeAll()\n",
    "cw_project.save()"
   ]
  },
  {
   "cell_type": "code",
   "execution_count": null,
   "metadata": {},
   "outputs": [],
   "source": [
    "from bokeh.plotting import figure, show\n",
    "from bokeh.io import output_notebook\n",
    "output_notebook()\n",
    "p = figure()\n",
    "xrange = range(len(traces[0]))\n",
    "p.line(xrange, traces[1])\n",
    "p.line(xrange, traces[0], line_color='red')\n",
    "show(p)"
   ]
  },
  {
   "cell_type": "code",
   "execution_count": null,
   "metadata": {},
   "outputs": [],
   "source": [
    "p = figure()\n",
    "xrange = range(len(cw_traces[0]))\n",
    "p.line(xrange, cw_traces[0])\n",
    "show(p)"
   ]
  },
  {
   "cell_type": "code",
   "execution_count": null,
   "metadata": {},
   "outputs": [],
   "source": [
    "import chipwhisperer as cw\n",
    "from datetime import datetime\n",
    "import copy\n",
    "\n",
    "starttime = datetime.now()\n",
    "prefix = starttime.strftime('%Y.%m.%d-%H.%M.%S') + \"_\"\n",
    "tc.config.setConfigFilename(project.datadirectory + \"traces/config_\" + prefix + \".cfg\")\n",
    "tc.config.setAttr(\"prefix\", prefix)\n",
    "tc.config.setAttr(\"date\", starttime.strftime('%Y-%m-%d %H:%M:%S'))\n",
    "tc.closeAll()\n",
    "project.save()"
   ]
  },
  {
   "cell_type": "code",
   "execution_count": null,
   "metadata": {},
   "outputs": [],
   "source": [
    "tm = project.traceManager()\n",
    "tm.numTraces()"
   ]
  },
  {
   "cell_type": "code",
   "execution_count": null,
   "metadata": {},
   "outputs": [],
   "source": [
    "scope.dis()\n",
    "target.dis()"
   ]
  },
  {
   "cell_type": "code",
   "execution_count": null,
   "metadata": {},
   "outputs": [],
   "source": [
    "import chipwhisperer as cw\n",
    "from chipwhisperer.analyzer.attacks.cpa import CPA\n",
    "from chipwhisperer.analyzer.attacks.cpa_algorithms.progressive import CPAProgressive\n",
    "from chipwhisperer.analyzer.attacks.models.AES128_8bit import AES128_8bit\n",
    "from chipwhisperer.analyzer.attacks.models import AES128_8bit\n",
    "from importlib import reload\n",
    "AES128_8bit = reload(AES128_8bit)\n",
    "\n",
    "#project = cw.openProject(\"projects/saml11.cwp\")\n",
    "tm = project.traceManager()\n",
    "attack = CPA()\n",
    "leak_model = AES128_8bit.AES128_8bit(AES128_8bit.LastroundHW)\n",
    "attack.setAnalysisAlgorithm(CPAProgressive, leak_model)\n",
    "attack.setTraceSource(tm)\n",
    "attack.setTraceStart(0)\n",
    "attack.setTracesPerAttack(tm.numTraces())\n",
    "attack.setIterations(1)\n",
    "attack.setReportingInterval(50)\n",
    "attack.setPointRange((0, -1))\n",
    "attack.setTargetSubkeys([0, 1, 2, 3, 4, 5, 6, 7, 8, 9, 10, 11, 12, 13, 14, 15])"
   ]
  },
  {
   "cell_type": "code",
   "execution_count": null,
   "metadata": {
    "scrolled": false
   },
   "outputs": [],
   "source": [
    "import importlib\n",
    "importlib.reload(cw)\n",
    "cb = cw.getJupyterCallback(attack, 15)\n",
    "attack_results = attack.processTracesNoGUI(cb)"
   ]
  },
  {
   "cell_type": "code",
   "execution_count": null,
   "metadata": {},
   "outputs": [],
   "source": [
    "print(ctexts[0])"
   ]
  },
  {
   "cell_type": "code",
   "execution_count": null,
   "metadata": {},
   "outputs": [],
   "source": [
    "plot_data = cw.analyzerPlots(attack_results)"
   ]
  },
  {
   "cell_type": "code",
   "execution_count": null,
   "metadata": {},
   "outputs": [],
   "source": [
    "from bokeh.plotting import figure, show\n",
    "from bokeh.io import output_notebook\n",
    "\n",
    "ret = plot_data.outputVsTime(11)\n",
    "\n",
    "output_notebook()\n",
    "p = figure()\n",
    "rets = []\n",
    "for i in range(0, 16):\n",
    "    rets.append(plot_data.outputVsTime(i))\n",
    "\n",
    "p = figure()\n",
    "for ret in rets:\n",
    "    p.line(ret[0], ret[2], line_color='green')\n",
    "    p.line(ret[0], ret[3], line_color='green')\n",
    "    \n",
    "for ret in rets:\n",
    "    p.line(ret[0], ret[1], line_color='red')\n",
    "\n",
    "\n",
    "show(p)"
   ]
  },
  {
   "cell_type": "code",
   "execution_count": null,
   "metadata": {},
   "outputs": [],
   "source": [
    "%matplotlib notebook\n",
    "from matplotlib.pylab import *\n",
    "import numpy as np\n",
    "import scipy\n",
    "import scipy.stats\n",
    "fixedpy = [0xda, 0x39, 0xa3, 0xee, 0x5e, 0x6b, 0x4b, 0x0d, 0x32, 0x55, 0xbf, 0xef, 0x95, 0x60, 0x18, 0x90]\n",
    "tm = cw_project.traceManager()\n",
    "    \n",
    "def do_the_ttvla(tm, ntraces=-1):\n",
    "    if ntraces == -1:\n",
    "        ntraces = int(tm.numTraces())\n",
    "        \n",
    "    print(ntraces)\n",
    "    if ntraces > tm.numTraces():\n",
    "        raise ValueError(\"Invalid ntraces\")\n",
    "        \n",
    "    for g in range(0, 1):\n",
    "        group = [(binascii.hexlify(texts[i]) == binascii.hexlify(bytes(fixedpy))) for i in range(g*ntraces, g*ntraces+ntraces)]\n",
    "        trace = np.zeros((ntraces, tm.numPoints()))\n",
    "\n",
    "        for n in range(g*ntraces, g*ntraces+ntraces):\n",
    "            trace[n - g*ntraces][:] = tm.getTrace(n)\n",
    "                \n",
    "        testout = welch_ttest(group, trace)\n",
    "        plot(testout)\n",
    "        \n",
    "    plot([0, tm.numPoints()], [-4.5, -4.5], 'r')\n",
    "    plot([0, tm.numPoints()], [4.5, 4.5], 'r')\n",
    "\n",
    "def welch_ttest(group, traces):\n",
    "    # Compute Welch's t-statistic at each point in time\n",
    "    # Here, group[] must only contain booleans (True/False)\n",
    "    traces_true = traces[np.where(np.array(group))]\n",
    "    traces_false = traces[np.where(~np.array(group))]\n",
    "    \n",
    "    if len(traces_true) == 0:\n",
    "        traces_true  = np.array([[np.nan for _ in range(len(traces[0]))]])\n",
    "        print(\"No true traces\")\n",
    "    if len(traces_false) == 0:\n",
    "        traces_false = np.array([[np.nan for _ in range(len(traces[0]))]])\n",
    "    \n",
    "    with warnings.catch_warnings():\n",
    "        warnings.simplefilter(\"ignore\")\n",
    "        ttrace = scipy.stats.ttest_ind(traces_true, traces_false, axis=0, equal_var=False)[0]\n",
    "        \n",
    "    return np.nan_to_num(ttrace) \n",
    "    \n",
    "do_the_ttvla(tm)\n",
    "title(\"TVLA Results\")\n",
    "show()"
   ]
  },
  {
   "cell_type": "code",
   "execution_count": null,
   "metadata": {},
   "outputs": [],
   "source": [
    "project = cw.openProject('projects/saml11')"
   ]
  },
  {
   "cell_type": "markdown",
   "metadata": {},
   "source": [
    " 0: 2b7e151628aed2a6abf7158809cf4f3c\n",
    " 1: a0fafe1788542cb123a339392a6c7605\n",
    " 2: f2c295f27a96b9435935807a7359f67f\n",
    " 3: 3d80477d4716fe3e1e237e446d7a883b\n",
    " 4: ef44a541a8525b7fb671253bdb0bad00\n",
    " 5: d4d1c6f87c839d87caf2b8bc11f915bc\n",
    " 6: 6d88a37a110b3efddbf98641ca0093fd\n",
    " 7: 4e54f70e5f5fc9f384a64fb24ea6dc4f\n",
    " 8: ead27321b58dbad2312bf5607f8d292f\n",
    " 9: ac7766f319fadc2128d12941575c006e\n",
    "10: d014f9a8c9ee2589e13f0cc8b6630ca6"
   ]
  }
 ],
 "metadata": {
  "kernelspec": {
   "display_name": "Python 3",
   "language": "python",
   "name": "python3"
  },
  "language_info": {
   "codemirror_mode": {
    "name": "ipython",
    "version": 3
   },
   "file_extension": ".py",
   "mimetype": "text/x-python",
   "name": "python",
   "nbconvert_exporter": "python",
   "pygments_lexer": "ipython3",
   "version": "3.7.1"
  },
  "toc": {
   "base_numbering": 1,
   "nav_menu": {},
   "number_sections": true,
   "sideBar": true,
   "skip_h1_title": false,
   "title_cell": "Table of Contents",
   "title_sidebar": "Contents",
   "toc_cell": false,
   "toc_position": {},
   "toc_section_display": true,
   "toc_window_display": false
  }
 },
 "nbformat": 4,
 "nbformat_minor": 2
}
