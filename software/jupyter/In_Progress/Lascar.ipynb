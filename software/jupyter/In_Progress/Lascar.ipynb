{
 "cells": [
  {
   "cell_type": "code",
   "execution_count": null,
   "metadata": {},
   "outputs": [],
   "source": [
    "%run \"Helper_Scripts/CWLite_Connect.ipynb\""
   ]
  },
  {
   "cell_type": "code",
   "execution_count": null,
   "metadata": {},
   "outputs": [],
   "source": [
    "%run \"Helper_Scripts/Setup_Target_Generic.ipynb\""
   ]
  },
  {
   "cell_type": "code",
   "execution_count": null,
   "metadata": {},
   "outputs": [],
   "source": [
    "# uncomment based on your target\n",
    "#%run \"Helper_Scripts/Program_XMEGA.ipynb\"\n",
    "%run \"Helper_Scripts/Program_STM.ipynb\"\n",
    "#%run \"Helper_Scripts/No_Programmer.ipynb\"\n",
    "fw_path = \"../../hardware/victims/firmware/simpleserial-aes/simpleserial-aes-cwlitearm.hex\""
   ]
  },
  {
   "cell_type": "code",
   "execution_count": null,
   "metadata": {},
   "outputs": [],
   "source": [
    "# program the target\n",
    "program_target(scope, fw_path)"
   ]
  },
  {
   "cell_type": "code",
   "execution_count": null,
   "metadata": {},
   "outputs": [],
   "source": [
    "#Capture Traces\n",
    "from tqdm import tqdm\n",
    "from chipwhisperer.capture.acq_patterns.basic import AcqKeyTextPattern_Basic\n",
    "import numpy as np\n",
    "import time\n",
    "\n",
    "ktp = AcqKeyTextPattern_Basic(target=target)\n",
    "\n",
    "traces = []\n",
    "textin = []\n",
    "keys = []\n",
    "N = 150  # Number of traces\n",
    "target.init()\n",
    "for i in tqdm(range(N), desc='Capturing traces'):\n",
    "    # run aux stuff that should come before trace here\n",
    "\n",
    "    key, text = ktp.newPair()  # manual creation of a key, text pair can be substituted here\n",
    "    textin.append(text)\n",
    "    keys.append(key)\n",
    "\n",
    "    #target.reinit()\n",
    "\n",
    "    target.setModeEncrypt()  # only does something for targets that support it\n",
    "    target.loadEncryptionKey(key)\n",
    "    target.loadInput(text)\n",
    "\n",
    "    # run aux stuff that should run before the scope arms here\n",
    "\n",
    "    scope.arm()\n",
    "\n",
    "    # run aux stuff that should run after the scope arms here\n",
    "\n",
    "    target.go()\n",
    "    timeout = 50\n",
    "    # wait for target to finish\n",
    "    while target.isDone() is False and timeout:\n",
    "        timeout -= 1\n",
    "        time.sleep(0.01)\n",
    "\n",
    "    try:\n",
    "        ret = scope.capture()\n",
    "        if ret:\n",
    "            print('Timeout happened during acquisition')\n",
    "    except IOError as e:\n",
    "        print('IOError: %s' % str(e))\n",
    "\n",
    "    # run aux stuff that should happen after trace here\n",
    "    _ = target.readOutput()  # clears the response from the serial port\n",
    "    traces.append(scope.getLastTrace())\n",
    "\n",
    "#Convert traces to numpy arrays\n",
    "trace_array = np.asarray(traces)  # if you prefer to work with numpy array for number crunching\n",
    "textin_array = np.asarray(textin)\n",
    "known_keys = np.asarray(keys)  # for fixed key, these keys are all the same"
   ]
  },
  {
   "cell_type": "code",
   "execution_count": null,
   "metadata": {},
   "outputs": [],
   "source": [
    "from lascar import *\n",
    "from lascar.tools.aes import sbox\n",
    "\n",
    "def generate_selection_function(byte):\n",
    "    def selection_with_guess(value, guess): # selection_with_guess function must take 2 arguments: value and guess\n",
    "        return hamming(sbox[value[byte] ^ guess])\n",
    "    return selection_with_guess"
   ]
  },
  {
   "cell_type": "code",
   "execution_count": null,
   "metadata": {},
   "outputs": [],
   "source": [
    "mycontainer =  TraceBatchContainer(trace_array, textin_array)"
   ]
  },
  {
   "cell_type": "code",
   "execution_count": null,
   "metadata": {},
   "outputs": [],
   "source": [
    "guess_range = range(256)"
   ]
  },
  {
   "cell_type": "code",
   "execution_count": null,
   "metadata": {},
   "outputs": [],
   "source": [
    "cpa_engines = [CpaEngine(\"cpa_%02d\" % i, generate_selection_function(i), guess_range) for i in range(16)]"
   ]
  },
  {
   "cell_type": "code",
   "execution_count": null,
   "metadata": {},
   "outputs": [],
   "source": [
    "int(cpa_engines[0].name[-2:])"
   ]
  },
  {
   "cell_type": "code",
   "execution_count": null,
   "metadata": {},
   "outputs": [],
   "source": [
    "help(cpa_engines[0])"
   ]
  },
  {
   "cell_type": "code",
   "execution_count": null,
   "metadata": {
    "scrolled": true
   },
   "outputs": [],
   "source": [
    "from lascar.output.parse_results import apply_parse\n",
    "import pandas as pd\n",
    "from IPython.display import clear_output\n",
    "class JupyterOutputMethod(OutputMethod):\n",
    "    def __init__(self, *engines):\n",
    "        OutputMethod.__init__(self, engines)\n",
    "        self.parsed_subkeys = 0\n",
    "        self.results_list = [0] * 16\n",
    "    \n",
    "    def _update(self, engine, results):\n",
    "        engine.output_parser_mode = \"argmax\"\n",
    "        results_parsed = apply_parse(engine, abs(results))\n",
    "        display(self.parsed_subkeys)\n",
    "        if results_parsed is None:\n",
    "            return\n",
    "        idx = int(cpa_engine.name[-2:])\n",
    "        self.results_list[idx] = results_parsed\n",
    "        self.parsed_subkeys += 1\n",
    "        if self.parsed_subkeys > 15:\n",
    "            df = pd.DataFrame(self.results_list)\n",
    "            fd = df.transpose()\n",
    "            def formatter(stats):\n",
    "                return str(\"{}\".format(stats))\n",
    "            #clear_output(wait=True)\n",
    "            display(fd.head().style.format(formatter))\n",
    "            self.parsed_subkeys = 0\n",
    "        \n",
    "    def _finalize(self):\n",
    "        pass\n",
    "        \n",
    "session = Session(mycontainer, engines=cpa_engines, output_method=JupyterOutputMethod(*cpa_engines)).run(batch_size=50)"
   ]
  },
  {
   "cell_type": "code",
   "execution_count": null,
   "metadata": {},
   "outputs": [],
   "source": [
    "x = [1, 2]\n",
    "x[1] = \"test\""
   ]
  },
  {
   "cell_type": "code",
   "execution_count": null,
   "metadata": {},
   "outputs": [],
   "source": [
    "print(x)"
   ]
  },
  {
   "cell_type": "code",
   "execution_count": null,
   "metadata": {},
   "outputs": [],
   "source": [
    "from bokeh.plotting import figure, show\n",
    "from bokeh.io import output_notebook\n",
    "output_notebook()\n",
    "p = figure()\n",
    "for i in range(16):\n",
    "    results = cpa_engines[i].finalize()\n",
    "    xrange = range(len(results[0x2B]))\n",
    "    guess = abs(results).max(1).argmax()\n",
    "    print(\"Best Guess is {:02X} (Corr = {})\".format(guess, abs(results).max()))\n",
    "    p.line(xrange, results[guess])\n",
    "    \n",
    "show(p)"
   ]
  },
  {
   "cell_type": "code",
   "execution_count": null,
   "metadata": {},
   "outputs": [],
   "source": [
    "print(results)"
   ]
  },
  {
   "cell_type": "code",
   "execution_count": null,
   "metadata": {},
   "outputs": [],
   "source": [
    "from bokeh.plotting import figure, show\n",
    "from bokeh.io import output_notebook\n",
    "\n",
    "output_notebook()\n",
    "xrange = range(len(results[0x2B]))\n",
    "print(xrange)\n",
    "print(len(results))\n",
    "p = figure()\n",
    "#p.line(xrange, traces[5],line_color='red')\n",
    "p.line(xrange, results[0x3C])\n",
    "show(p)"
   ]
  },
  {
   "cell_type": "code",
   "execution_count": null,
   "metadata": {},
   "outputs": [],
   "source": []
  },
  {
   "cell_type": "code",
   "execution_count": null,
   "metadata": {},
   "outputs": [],
   "source": [
    "print(mycontainer.values)"
   ]
  },
  {
   "cell_type": "code",
   "execution_count": null,
   "metadata": {},
   "outputs": [],
   "source": []
  }
 ],
 "metadata": {
  "kernelspec": {
   "display_name": "Python 3",
   "language": "python",
   "name": "python3"
  },
  "language_info": {
   "codemirror_mode": {
    "name": "ipython",
    "version": 3
   },
   "file_extension": ".py",
   "mimetype": "text/x-python",
   "name": "python",
   "nbconvert_exporter": "python",
   "pygments_lexer": "ipython3",
   "version": "3.7.1"
  },
  "toc": {
   "base_numbering": 1,
   "nav_menu": {},
   "number_sections": true,
   "sideBar": true,
   "skip_h1_title": false,
   "title_cell": "Table of Contents",
   "title_sidebar": "Contents",
   "toc_cell": false,
   "toc_position": {},
   "toc_section_display": true,
   "toc_window_display": false
  }
 },
 "nbformat": 4,
 "nbformat_minor": 2
}
