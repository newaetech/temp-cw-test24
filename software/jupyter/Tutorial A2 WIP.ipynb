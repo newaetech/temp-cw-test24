{
 "cells": [
  {
   "cell_type": "markdown",
   "metadata": {},
   "source": [
    "# Tutorial A2 Introduction to Glitch Attacks"
   ]
  },
  {
   "cell_type": "markdown",
   "metadata": {},
   "source": [
    "This advanced tutorial will demonstrate clock glitch attacks using the ChipWhisperer system. This will introduce you to many required features of the ChipWhisperer system when it comes to glitching. This will be built on in later tutorials to generate voltage glitching attacks, or when you wish to attack other targets."
   ]
  },
  {
   "cell_type": "markdown",
   "metadata": {
    "heading_collapsed": true
   },
   "source": [
    "## Background on Clock Glitching"
   ]
  },
  {
   "cell_type": "markdown",
   "metadata": {
    "hidden": true
   },
   "source": [
    "Digital hardware devices almost always expect some form of reliable clock. We can manipulate the clock being presented to the device to cause unintended behaviour. We'll be concentrating on microcontrollers here, however other digital devices (e.g. hardware encryption accelerators) can also have faults injected using this technique.\n",
    "\n",
    "Consider a microcontroller first. The following figure is an excerpt the Atmel AVR ATMega328P datasheet:\n",
    "\n",
    "![A2_1](https://wiki.newae.com/images/2/20/Mcu-unglitched.png)\n",
    "\n",
    "Rather than loading each instruction from FLASH and performing the entire execution, the system has a pipeline to speed up the execution process. This means that an instruction is being decoded while the next one is being retrieved, as the following diagram shows:\n",
    "\n",
    "![A2_2](https://wiki.newae.com/images/a/a5/Clock-normal.png)\n",
    "\n",
    "But if we modify the clock, we could have a situation where the system doesn't have enough time to actually perform an instruction. Consider the following, where Execute #1 is effectively skipped. Before the system has time to actually execute it another clock edge comes, causing the microcontroller to start execution of the next instruction:\n",
    "\n",
    "![A2_3](https://wiki.newae.com/images/1/1e/Clock-glitched.png)\n",
    "\n",
    "This causes the microcontroller to skip an instruction. Such attacks can be immensely powerful in practice. Consider for example the following code from `linux-util-2.24`:\n",
    "\n",
    "```C\n",
    "/*\n",
    " *   auth.c -- PAM authorization code, common between chsh and chfn\n",
    " *   (c) 2012 by Cody Maloney <cmaloney@theoreticalchaos.com>\n",
    " *\n",
    " *   this program is free software.  you can redistribute it and\n",
    " *   modify it under the terms of the gnu general public license.\n",
    " *   there is no warranty.\n",
    " *\n",
    " */\n",
    "\n",
    "#include \"auth.h\"\n",
    "#include \"pamfail.h\"\n",
    "\n",
    "int auth_pam(const char *service_name, uid_t uid, const char *username)\n",
    "{\n",
    "    if (uid != 0) {\n",
    "        pam_handle_t *pamh = NULL;\n",
    "        struct pam_conv conv = { misc_conv, NULL };\n",
    "        int retcode;\n",
    "\n",
    "        retcode = pam_start(service_name, username, &conv, &pamh);\n",
    "        if (pam_fail_check(pamh, retcode))\n",
    "            return FALSE;\n",
    "\n",
    "        retcode = pam_authenticate(pamh, 0);\n",
    "        if (pam_fail_check(pamh, retcode))\n",
    "            return FALSE;\n",
    "\n",
    "        retcode = pam_acct_mgmt(pamh, 0);\n",
    "        if (retcode == PAM_NEW_AUTHTOK_REQD)\n",
    "            retcode =\n",
    "                pam_chauthtok(pamh, PAM_CHANGE_EXPIRED_AUTHTOK);\n",
    "        if (pam_fail_check(pamh, retcode))\n",
    "            return FALSE;\n",
    "\n",
    "        retcode = pam_setcred(pamh, 0);\n",
    "        if (pam_fail_check(pamh, retcode))\n",
    "            return FALSE;\n",
    "\n",
    "        pam_end(pamh, 0);\n",
    "        /* no need to establish a session; this isn't a\n",
    "         * session-oriented activity...  */\n",
    "    }\n",
    "    return TRUE;\n",
    "}\n",
    "```\n",
    "\n",
    "This is the login code for the Linux OS. Note that if we could skip the check of `if (uid != 0)` and simply branch to the end, we could avoid having to enter a password. This is the power of glitch attacks - not that we are breaking encryption, but simply bypassing the entire authentication module!"
   ]
  },
  {
   "cell_type": "markdown",
   "metadata": {
    "heading_collapsed": true
   },
   "source": [
    "## Glitch Hardware"
   ]
  },
  {
   "cell_type": "markdown",
   "metadata": {
    "hidden": true
   },
   "source": [
    "The ChipWhisperer Glitch system uses the same synchronous methodology as it's Side Channel Analysis (SCA) capture. A system clock (which can come from either the ChipWhisperer or the Device Under Test (DUT)) is used to generate the glitches. These glitches are then inserted back into the clock, although it's possible to use the glitches alone for other purposes (i.e. for voltage glitching, EM glitching).\n",
    "\n",
    "The generation of glitches is done with two variable phase shift modules, configured as follows:\n",
    "\n",
    "![A2_4](https://wiki.newae.com/images/6/65/Glitchgen-phaseshift.png)\n",
    "\n",
    "The enable line is used to determine when glitches are inserted. Glitches can be inserted continuously (useful for development) or triggered by some event. The following figure shows how the glitch can be muxd to output to the Device Under Test (DUT).\n",
    "\n",
    "![A2_5](https://wiki.newae.com/images/c/c0/Glitchgen-mux.png)"
   ]
  },
  {
   "cell_type": "markdown",
   "metadata": {
    "heading_collapsed": true,
    "hidden": true
   },
   "source": [
    "### Hardware Support"
   ]
  },
  {
   "cell_type": "markdown",
   "metadata": {
    "hidden": true
   },
   "source": [
    "The phase shift blocks use the Digital Clock Manager (DCM) blocks within the FPGA. These blocks have limited support for run-time configuration of parameters such as phase delay and frequency generation, and for maximum performance the configuration must be fixed at design time. The Xilinx-provided run-time adjustment can shift the phase only by about +/- 5nS in 30pS increments (exact values vary with operating conditions).\n",
    "\n",
    "For most operating conditions this is insufficient - if attacking a target at 7.37MHz the clock cycle would have a period of 136nS. In order to provide a larger adjustment range, an advanced FPGA feature called Partial Reconfiguration (PR) is used. The PR system requires special partial bitstreams which contain modifications to the FPGA bitstream. These are stored as two files inside a \"firmware\" zip which contains both the FPGA bitstream along with a file called `glitchwidth.p` and a file called `glitchoffset.p`. If a lone bitstream is being loaded into the FPGA (i.e. not from the zip-file), the partial reconfiguration system is disabled, as loading incorrect partial reconfiguration files could damage the FPGA. This damage is mostly theoretical, more likely the FPGA will fail to function correctly.\n",
    "\n",
    "If in the course of following this tutorial you find the FPGA appears to stop responding (i.e. certain features no longer work correctly), it could be the partial reconfiguration data is incorrect.\n",
    "\n",
    "We'll look at how to interface with these features later in the tutorial."
   ]
  },
  {
   "cell_type": "markdown",
   "metadata": {},
   "source": [
    "## Setting Up Firmware"
   ]
  },
  {
   "cell_type": "markdown",
   "metadata": {},
   "source": [
    "As with previous tutorials, we'll start by creating a new project from base firmware, as well as setting up our `PLATFORM` and `CRYPTO_TARGET`. This tutorial doesn't use any crypto, so we'll leave the latter option as `NONE`. This time, we'll be using `glitch-simple`:"
   ]
  },
  {
   "cell_type": "code",
   "execution_count": 1,
   "metadata": {},
   "outputs": [],
   "source": [
    "%%bash\n",
    "cd ../../hardware/victims/firmware/\n",
    "mkdir -p glitch-simple-lab1 && cp -r glitch-simple/* $_"
   ]
  },
  {
   "cell_type": "code",
   "execution_count": 2,
   "metadata": {},
   "outputs": [],
   "source": [
    "PLATFORM = \"CWLITEARM\"\n",
    "CRYPTO_TARGET=\"NONE\""
   ]
  },
  {
   "cell_type": "markdown",
   "metadata": {},
   "source": [
    "Now navigate to the `glitch-simple-lab1` folder and open `glitchsimple.c` in a code editor. Scroll down until you find the `glitch1()` function:\n",
    "\n",
    "```C\n",
    "void glitch1(void)\n",
    "{\n",
    "    led_ok(1);\n",
    "    led_error(0);\n",
    "    \n",
    "    //Some fake variable\n",
    "    volatile uint8_t a = 0;\n",
    "    \n",
    "    putch('A');\n",
    "    \n",
    "    //External trigger logic\n",
    "    trigger_high();\n",
    "    trigger_low();\n",
    "    \n",
    "    //Should be an infinite loop\n",
    "    while(a != 2){\n",
    "    ;\n",
    "    }    \n",
    "    \n",
    "    led_error(1);\n",
    "    led_error(1);\n",
    "    led_error(1);\n",
    "    led_error(1);\n",
    "    led_error(1);\n",
    "    led_error(1);\n",
    "    led_error(1);\n",
    "    led_error(1);\n",
    "    led_error(1);\n",
    "    \n",
    "    uart_puts(\"1234\");\n",
    "    \n",
    "    led_error(1);\n",
    "    led_error(1);\n",
    "    led_error(1);\n",
    "    led_error(1);\n",
    "    led_error(1);\n",
    "    led_error(1);\n",
    "    led_error(1);\n",
    "    led_error(1);\n",
    "\n",
    "    //Several loops in order to try and prevent restarting\n",
    "    while(1){\n",
    "    ;\n",
    "    }\n",
    "    while(1){\n",
    "    ;\n",
    "    }\n",
    "    while(1){\n",
    "    ;\n",
    "    }\n",
    "    while(1){\n",
    "    ;\n",
    "    }\n",
    "    while(1){\n",
    "    ;\n",
    "    }    \n",
    "}\n",
    "\n",
    "```\n",
    "\n",
    "We can see here that sends back an `'A'`, toggles the trigger pin, then enters an infinite loop. After the infinite loop, the device sends back `\"1234\"`. On boards that support it, the firmware will also activate a green \"OK\" LED upon entering the function and a red \"ERROR\" LED when a successful glitch occurs. Our objective will be to glitch past the infinite loop.\n",
    "\n",
    "Before you build, navigate to `main()` and verify that this function is being called. Next, build the firmware:"
   ]
  },
  {
   "cell_type": "code",
   "execution_count": 12,
   "metadata": {},
   "outputs": [
    {
     "name": "stdout",
     "output_type": "stream",
     "text": [
      "rm -f -- glitchsimple-CWLITEARM.hex\n",
      "rm -f -- glitchsimple-CWLITEARM.eep\n",
      "rm -f -- glitchsimple-CWLITEARM.cof\n",
      "rm -f -- glitchsimple-CWLITEARM.elf\n",
      "rm -f -- glitchsimple-CWLITEARM.map\n",
      "rm -f -- glitchsimple-CWLITEARM.sym\n",
      "rm -f -- glitchsimple-CWLITEARM.lss\n",
      "rm -f -- objdir/*.o\n",
      "rm -f -- objdir/*.lst\n",
      "rm -f -- glitchsimple.s simpleserial.s stm32f3_hal.s stm32f3_hal_lowlevel.s stm32f3_sysmem.s\n",
      "rm -f -- glitchsimple.d simpleserial.d stm32f3_hal.d stm32f3_hal_lowlevel.d stm32f3_sysmem.d\n",
      "rm -f -- glitchsimple.i simpleserial.i stm32f3_hal.i stm32f3_hal_lowlevel.i stm32f3_sysmem.i\n",
      ".\n",
      "-------- begin --------\n",
      "arm-none-eabi-gcc (15:5.4.1+svn241155-1) 5.4.1 20160919\n",
      "Copyright (C) 2015 Free Software Foundation, Inc.\n",
      "This is free software; see the source for copying conditions.  There is NO\n",
      "warranty; not even for MERCHANTABILITY or FITNESS FOR A PARTICULAR PURPOSE.\n",
      "\n",
      ".\n",
      "Compiling C: glitchsimple.c\n",
      "arm-none-eabi-gcc -c -mcpu=cortex-m4 -I. -mthumb -mfloat-abi=hard -mfpu=fpv4-sp-d16 -fmessage-length=0 -ffunction-sections -gdwarf-2 -DSS_VER=SS_VER_1_1 -DSTM32F303xC -DSTM32F3 -DSTM32 -DDEBUG -DHAL_TYPE=HAL_stm32f3 -DPLATFORM=CWLITEARM -DF_CPU=7372800UL -Os -funsigned-char -funsigned-bitfields -fshort-enums -Wall -Wstrict-prototypes -Wa,-adhlns=objdir/glitchsimple.lst -I.././simpleserial/ -I.././hal -I.././hal/stm32f3 -I.././hal/stm32f3/CMSIS -I.././hal/stm32f3/CMSIS/core -I.././hal/stm32f3/CMSIS/device -I.././hal/stm32f4/Legacy -I.././crypto/ -std=gnu99 -MMD -MP -MF .dep/glitchsimple.o.d glitchsimple.c -o objdir/glitchsimple.o \n",
      ".\n",
      "Compiling C: .././simpleserial/simpleserial.c\n",
      "arm-none-eabi-gcc -c -mcpu=cortex-m4 -I. -mthumb -mfloat-abi=hard -mfpu=fpv4-sp-d16 -fmessage-length=0 -ffunction-sections -gdwarf-2 -DSS_VER=SS_VER_1_1 -DSTM32F303xC -DSTM32F3 -DSTM32 -DDEBUG -DHAL_TYPE=HAL_stm32f3 -DPLATFORM=CWLITEARM -DF_CPU=7372800UL -Os -funsigned-char -funsigned-bitfields -fshort-enums -Wall -Wstrict-prototypes -Wa,-adhlns=objdir/simpleserial.lst -I.././simpleserial/ -I.././hal -I.././hal/stm32f3 -I.././hal/stm32f3/CMSIS -I.././hal/stm32f3/CMSIS/core -I.././hal/stm32f3/CMSIS/device -I.././hal/stm32f4/Legacy -I.././crypto/ -std=gnu99 -MMD -MP -MF .dep/simpleserial.o.d .././simpleserial/simpleserial.c -o objdir/simpleserial.o \n",
      ".\n",
      "Compiling C: .././hal/stm32f3/stm32f3_hal.c\n",
      "arm-none-eabi-gcc -c -mcpu=cortex-m4 -I. -mthumb -mfloat-abi=hard -mfpu=fpv4-sp-d16 -fmessage-length=0 -ffunction-sections -gdwarf-2 -DSS_VER=SS_VER_1_1 -DSTM32F303xC -DSTM32F3 -DSTM32 -DDEBUG -DHAL_TYPE=HAL_stm32f3 -DPLATFORM=CWLITEARM -DF_CPU=7372800UL -Os -funsigned-char -funsigned-bitfields -fshort-enums -Wall -Wstrict-prototypes -Wa,-adhlns=objdir/stm32f3_hal.lst -I.././simpleserial/ -I.././hal -I.././hal/stm32f3 -I.././hal/stm32f3/CMSIS -I.././hal/stm32f3/CMSIS/core -I.././hal/stm32f3/CMSIS/device -I.././hal/stm32f4/Legacy -I.././crypto/ -std=gnu99 -MMD -MP -MF .dep/stm32f3_hal.o.d .././hal/stm32f3/stm32f3_hal.c -o objdir/stm32f3_hal.o \n",
      ".\n",
      "Compiling C: .././hal/stm32f3/stm32f3_hal_lowlevel.c\n",
      "arm-none-eabi-gcc -c -mcpu=cortex-m4 -I. -mthumb -mfloat-abi=hard -mfpu=fpv4-sp-d16 -fmessage-length=0 -ffunction-sections -gdwarf-2 -DSS_VER=SS_VER_1_1 -DSTM32F303xC -DSTM32F3 -DSTM32 -DDEBUG -DHAL_TYPE=HAL_stm32f3 -DPLATFORM=CWLITEARM -DF_CPU=7372800UL -Os -funsigned-char -funsigned-bitfields -fshort-enums -Wall -Wstrict-prototypes -Wa,-adhlns=objdir/stm32f3_hal_lowlevel.lst -I.././simpleserial/ -I.././hal -I.././hal/stm32f3 -I.././hal/stm32f3/CMSIS -I.././hal/stm32f3/CMSIS/core -I.././hal/stm32f3/CMSIS/device -I.././hal/stm32f4/Legacy -I.././crypto/ -std=gnu99 -MMD -MP -MF .dep/stm32f3_hal_lowlevel.o.d .././hal/stm32f3/stm32f3_hal_lowlevel.c -o objdir/stm32f3_hal_lowlevel.o \n",
      ".\n",
      "Compiling C: .././hal/stm32f3/stm32f3_sysmem.c\n",
      "arm-none-eabi-gcc -c -mcpu=cortex-m4 -I. -mthumb -mfloat-abi=hard -mfpu=fpv4-sp-d16 -fmessage-length=0 -ffunction-sections -gdwarf-2 -DSS_VER=SS_VER_1_1 -DSTM32F303xC -DSTM32F3 -DSTM32 -DDEBUG -DHAL_TYPE=HAL_stm32f3 -DPLATFORM=CWLITEARM -DF_CPU=7372800UL -Os -funsigned-char -funsigned-bitfields -fshort-enums -Wall -Wstrict-prototypes -Wa,-adhlns=objdir/stm32f3_sysmem.lst -I.././simpleserial/ -I.././hal -I.././hal/stm32f3 -I.././hal/stm32f3/CMSIS -I.././hal/stm32f3/CMSIS/core -I.././hal/stm32f3/CMSIS/device -I.././hal/stm32f4/Legacy -I.././crypto/ -std=gnu99 -MMD -MP -MF .dep/stm32f3_sysmem.o.d .././hal/stm32f3/stm32f3_sysmem.c -o objdir/stm32f3_sysmem.o \n",
      ".\n",
      "Assembling: .././hal/stm32f3/stm32f3_startup.S\n",
      "arm-none-eabi-gcc -c -mcpu=cortex-m4 -I. -x assembler-with-cpp -mthumb -mfloat-abi=hard -mfpu=fpv4-sp-d16 -fmessage-length=0 -ffunction-sections -DF_CPU=7372800 -Wa,-gstabs,-adhlns=objdir/stm32f3_startup.lst -I.././simpleserial/ -I.././hal -I.././hal/stm32f3 -I.././hal/stm32f3/CMSIS -I.././hal/stm32f3/CMSIS/core -I.././hal/stm32f3/CMSIS/device -I.././hal/stm32f4/Legacy -I.././crypto/ .././hal/stm32f3/stm32f3_startup.S -o objdir/stm32f3_startup.o\n",
      ".\n",
      "Linking: glitchsimple-CWLITEARM.elf\n",
      "arm-none-eabi-gcc -mcpu=cortex-m4 -I. -mthumb -mfloat-abi=hard -mfpu=fpv4-sp-d16 -fmessage-length=0 -ffunction-sections -gdwarf-2 -DSS_VER=SS_VER_1_1 -DSTM32F303xC -DSTM32F3 -DSTM32 -DDEBUG -DHAL_TYPE=HAL_stm32f3 -DPLATFORM=CWLITEARM -DF_CPU=7372800UL -Os -funsigned-char -funsigned-bitfields -fshort-enums -Wall -Wstrict-prototypes -Wa,-adhlns=objdir/glitchsimple.o -I.././simpleserial/ -I.././hal -I.././hal/stm32f3 -I.././hal/stm32f3/CMSIS -I.././hal/stm32f3/CMSIS/core -I.././hal/stm32f3/CMSIS/device -I.././hal/stm32f4/Legacy -I.././crypto/ -std=gnu99 -MMD -MP -MF .dep/glitchsimple-CWLITEARM.elf.d objdir/glitchsimple.o objdir/simpleserial.o objdir/stm32f3_hal.o objdir/stm32f3_hal_lowlevel.o objdir/stm32f3_sysmem.o objdir/stm32f3_startup.o --output glitchsimple-CWLITEARM.elf --specs=nano.specs -T .././hal/stm32f3/LinkerScript.ld -Wl,--gc-sections -lm -Wl,-Map=glitchsimple-CWLITEARM.map,--cref   -lm  \n",
      ".\n",
      "Creating load file for Flash: glitchsimple-CWLITEARM.hex\n",
      "arm-none-eabi-objcopy -O ihex -R .eeprom -R .fuse -R .lock -R .signature glitchsimple-CWLITEARM.elf glitchsimple-CWLITEARM.hex\n",
      ".\n",
      "Creating load file for EEPROM: glitchsimple-CWLITEARM.eep\n",
      "arm-none-eabi-objcopy -j .eeprom --set-section-flags=.eeprom=\"alloc,load\" \\\n",
      "--change-section-lma .eeprom=0 --no-change-warnings -O ihex glitchsimple-CWLITEARM.elf glitchsimple-CWLITEARM.eep || exit 0\n",
      ".\n",
      "Creating Extended Listing: glitchsimple-CWLITEARM.lss\n",
      "arm-none-eabi-objdump -h -S -z glitchsimple-CWLITEARM.elf > glitchsimple-CWLITEARM.lss\n",
      ".\n",
      "Creating Symbol Table: glitchsimple-CWLITEARM.sym\n",
      "arm-none-eabi-nm -n glitchsimple-CWLITEARM.elf > glitchsimple-CWLITEARM.sym\n",
      "Size after:\n",
      "   text\t   data\t    bss\t    dec\t    hex\tfilename\n",
      "   4380\t      8\t   1176\t   5564\t   15bc\tglitchsimple-CWLITEARM.elf\n",
      "+--------------------------------------------------------\n",
      "+ Built for platform CW-Lite Arm (STM32F3)\n",
      "+--------------------------------------------------------\n"
     ]
    }
   ],
   "source": [
    "%%bash -s \"$PLATFORM\" \"$CRYPTO_TARGET\"\n",
    "cd ../../hardware/victims/firmware/glitch-simple-lab1\n",
    "make PLATFORM=$1 CRYPTO_TARGET=$2"
   ]
  },
  {
   "cell_type": "markdown",
   "metadata": {},
   "source": [
    "## Attack Script"
   ]
  },
  {
   "cell_type": "markdown",
   "metadata": {},
   "source": [
    "### Setup"
   ]
  },
  {
   "cell_type": "markdown",
   "metadata": {},
   "source": [
    "Now that we've studied the code and have an objective, we can start looking at how to control the glitch module via Python. We'll start by connecting to and setting up the ChipWhisperer, then programming it. As usual, make sure you modify `fw_path` with the path to the file you built in the last step."
   ]
  },
  {
   "cell_type": "code",
   "execution_count": 6,
   "metadata": {},
   "outputs": [
    {
     "name": "stderr",
     "output_type": "stream",
     "text": [
      "WARNING:root:PySide or PyQtGraph not installed, disabling support for pyqtgraph parameters\n"
     ]
    }
   ],
   "source": [
    "%run \"Helper Scripts/CWLite_Connect.ipynb\""
   ]
  },
  {
   "cell_type": "code",
   "execution_count": 7,
   "metadata": {},
   "outputs": [],
   "source": [
    "%run \"Helper Scripts/Setup_Target_Generic.ipynb\""
   ]
  },
  {
   "cell_type": "code",
   "execution_count": 8,
   "metadata": {},
   "outputs": [],
   "source": [
    "# uncomment based on your target\n",
    "fw_path = \"../../hardware/victims/firmware/glitch-simple-lab1/glitchsimple-CWLITEARM.hex\"\n",
    "%run \"Helper Scripts/Program_STM.ipynb\"\n",
    "#%run \"Helper Scripts/Program_STM.ipynb\"\n",
    "#%run \"Helper Scripts/No_Programmer.ipynb\""
   ]
  },
  {
   "cell_type": "code",
   "execution_count": 13,
   "metadata": {},
   "outputs": [
    {
     "name": "stdout",
     "output_type": "stream",
     "text": [
      "Detected known STMF32: STM32F302xB(C)/303xB(C)\n",
      "Extended erase (0x44), this can take ten seconds or more\n",
      "Attempting to programming 4387 bytes at 0x8000000\n",
      "STM32F Programming flash...\n",
      "STM32F Reading flash...\n",
      "Verified flash OK, 4387 bytes\n"
     ]
    }
   ],
   "source": [
    "program_target(scope, fw_path)"
   ]
  },
  {
   "cell_type": "markdown",
   "metadata": {},
   "source": [
    "Since the firmware enters an infinite loop, we'll need to reset the target between glitch attempts. Be sure to uncomment the reset pin for your target:"
   ]
  },
  {
   "cell_type": "code",
   "execution_count": 10,
   "metadata": {},
   "outputs": [],
   "source": [
    "import time\n",
    "def reset_target(scope):\n",
    "    scope.io.nrst = 'low'\n",
    "    #scope.io.pdic = 'low'\n",
    "    time.sleep(0.05)\n",
    "    scope.io.nrst = 'high'\n",
    "    #scope.io.pdic = 'high'"
   ]
  },
  {
   "cell_type": "markdown",
   "metadata": {},
   "source": [
    "Now let's make sure the firmware works as we expect. We should get `\"hello\\nA\"` back after resetting the target."
   ]
  },
  {
   "cell_type": "code",
   "execution_count": 15,
   "metadata": {},
   "outputs": [
    {
     "name": "stdout",
     "output_type": "stream",
     "text": [
      "\u0000hello\n",
      "A\n"
     ]
    }
   ],
   "source": [
    "scope.arm()\n",
    "reset_target(scope)\n",
    "\n",
    "ret = scope.capture()\n",
    "if ret:\n",
    "    print(\"Scope capture timed out\")\n",
    "num_chars = target.ser.inWaiting()\n",
    "response = target.ser.read(num_chars, timeout = 10)\n",
    "print(response)"
   ]
  },
  {
   "cell_type": "markdown",
   "metadata": {},
   "source": [
    "### Glitch Module"
   ]
  },
  {
   "cell_type": "markdown",
   "metadata": {},
   "source": [
    "All the settings/methods for the glitch module can be accessed under `scope.glitch`. As usual, documentation for the settings and methods can be accessed by the python `help` command:"
   ]
  },
  {
   "cell_type": "code",
   "execution_count": null,
   "metadata": {},
   "outputs": [],
   "source": [
    "help(scope.glitch)"
   ]
  },
  {
   "cell_type": "markdown",
   "metadata": {},
   "source": [
    "Some of the important settings we'll want to look at here are:\n",
    "\n",
    "* clk_src\n",
    "> The clock signal that the glitch DCM is using as input. Can be set to \"target\" or \"clkgen\" In this case, we'll be providing the clock to the target, so we'll want this set to \"clkgen\"\n",
    "* offset\n",
    "> Where in the output clock to place the glitch. Can be in the range `[-50, 50]`. Often, we'll want to try many offsets when trying to glitch a target.\n",
    "* width\n",
    "> How wide to make the glitch. Can be in the range `[-50, 50]`. Wider glitches more easily cause glitches, but are also more likely to crash the target, meaning we'll often want to try a range of widths when attacking a target.\n",
    "* output\n",
    "> The output produced by the glitch module. For clock glitching, clock_xor is often the most useful option.\n",
    "* ext_offset\n",
    "> The number of clock cycles after the trigger to put the glitch. \n",
    "* repeat\n",
    "> The number of clock cycles to repeat the glitch for. Higher values increase the number of instructions that can be glitched, but often increase the risk of crashing the target.\n",
    "* trigger_src\n",
    "> How to trigger the glitch. For this tutorial, we want to automatically trigger the glitch from the trigger pin only after arming the ChipWhipserer, so we'll use `ext_single`\n",
    "\n",
    "In addition, we'll need to tell ChipWhipserer to use the glitch module's output as a clock source for the target by setting `scope.io.hs2 = \"glitch\"`. We'll also setup a large `repeat` to make glitching easier. Finally, we'll also use a `namedtuple` to make looping through parameters simpler."
   ]
  },
  {
   "cell_type": "code",
   "execution_count": 36,
   "metadata": {},
   "outputs": [
    {
     "name": "stdout",
     "output_type": "stream",
     "text": [
      "clk_src     = clkgen\n",
      "width       = 10.9375\n",
      "width_fine  = 0\n",
      "offset      = 10.546875\n",
      "offset_fine = 0\n",
      "trigger_src = ext_single\n",
      "arm_timing  = after_scope\n",
      "ext_offset  = 0\n",
      "repeat      = 105\n",
      "output      = clock_xor\n",
      "\n"
     ]
    }
   ],
   "source": [
    "scope.glitch.clk_src = \"clkgen\"\n",
    "scope.glitch.output = \"clock_xor\"\n",
    "scope.glitch.trigger_src = \"ext_single\"\n",
    "scope.glitch.repeat = 105\n",
    "scope.io.hs2 = \"glitch\"\n",
    "print(scope.glitch)\n",
    "from collections import namedtuple\n",
    "Range = namedtuple('Range', ['min', 'max', 'step'])"
   ]
  },
  {
   "cell_type": "markdown",
   "metadata": {},
   "source": [
    "### Attack Loop"
   ]
  },
  {
   "cell_type": "markdown",
   "metadata": {},
   "source": [
    "#### XMEGA Settings"
   ]
  },
  {
   "cell_type": "code",
   "execution_count": null,
   "metadata": {},
   "outputs": [],
   "source": [
    "offset_range = Range(-10, 10, 1)"
   ]
  },
  {
   "cell_type": "markdown",
   "metadata": {},
   "source": [
    "#### STM/CWLITEARM Settings"
   ]
  },
  {
   "cell_type": "code",
   "execution_count": null,
   "metadata": {},
   "outputs": [],
   "source": [
    "offset_range = Range(-49, -30, 1)\n",
    "scope.glitch.ext_offset = 37\n",
    "scope.glitch.repeat = 10"
   ]
  },
  {
   "cell_type": "markdown",
   "metadata": {},
   "source": [
    "Now that the setup's done and we know how to use the glitch module, we can start our attack. The key parameters that we'll need to iterate through are `width` and `offset`, so we'll need some loops to change these. To know if we got a successful glitch, we'll check for \"1234\" in the output we get back. The rest of the loop should look familiar from our earlier code:"
   ]
  },
  {
   "cell_type": "code",
   "execution_count": 44,
   "metadata": {
    "scrolled": true
   },
   "outputs": [
    {
     "name": "stdout",
     "output_type": "stream",
     "text": [
      "Done glitching\n"
     ]
    }
   ],
   "source": [
    "from collections import namedtuple\n",
    "\n",
    "width_range = Range(-10, 10, 1)\n",
    "\n",
    "scope.glitch.width = width_range.min\n",
    "target.init()\n",
    "\n",
    "data = []\n",
    "\n",
    "while scope.glitch.width < width_range.max:\n",
    "    scope.glitch.offset = offset_range.min\n",
    "    while scope.glitch.offset < offset_range.max:\n",
    "        # call before trace things here\n",
    "\n",
    "        # flush the garbage from the computer's target read buffer\n",
    "        target.ser.flush()\n",
    "\n",
    "        # run aux stuff that should run before the scope arms here\n",
    "\n",
    "        scope.arm()\n",
    "        reset_target(scope)\n",
    "\n",
    "        timeout = 50\n",
    "        # wait for target to finish\n",
    "        while target.isDone() is False and timeout:\n",
    "            timeout -= 1\n",
    "            time.sleep(0.01)\n",
    "\n",
    "        try:\n",
    "            ret = scope.capture()\n",
    "            if ret:\n",
    "                print('Timeout happened during acquisition')\n",
    "        except IOError as e:\n",
    "            print('IOError: %s' % str(e))\n",
    "\n",
    "        # get the results from the scope\n",
    "        # read from the targets buffer\n",
    "        num_chars = target.ser.inWaiting()\n",
    "        response = target.ser.read(num_chars, timeout = 10)\n",
    "\n",
    "        # for table display purposes\n",
    "        success = '1234' in repr(response) # check for glitch success (depends on targets active firmware)\n",
    "        data.append([repr(response), scope.glitch.width, scope.glitch.offset, success]) \n",
    "        # run aux stuff that should happen after trace here\n",
    "        scope.glitch.offset += offset_range.step\n",
    "    scope.glitch.width += width_range.step\n",
    "\n",
    "print(\"Done glitching\")\n"
   ]
  },
  {
   "cell_type": "markdown",
   "metadata": {},
   "source": [
    "Now that we've tried some glitches, let's look at the results:"
   ]
  },
  {
   "cell_type": "code",
   "execution_count": 45,
   "metadata": {},
   "outputs": [
    {
     "name": "stdout",
     "output_type": "stream",
     "text": [
      "56\n",
      "[\"'\\\\x00hello\\\\nA'\", -10.15625, -48.828125, False]\n",
      "[\"'\\\\x00hello\\\\nA'\", -10.15625, -47.65625, False]\n",
      "[\"'\\\\x00hello\\\\nA'\", -10.15625, -46.484375, False]\n",
      "[\"'\\\\x00hello\\\\nA'\", -10.15625, -45.3125, False]\n",
      "[\"'\\\\x00hello\\\\nA'\", -10.15625, -44.140625, False]\n",
      "[\"'\\\\x00hello\\\\nA'\", -10.15625, -42.96875, False]\n",
      "[\"'\\\\x00hello\\\\nA'\", -10.15625, -41.796875, False]\n",
      "[\"'\\\\x00hello\\\\nA'\", -10.15625, -40.625, False]\n",
      "[\"'\\\\x00hello\\\\nA'\", -10.15625, -39.453125, False]\n",
      "[\"'\\\\x00hello\\\\nA'\", -10.15625, -38.28125, False]\n",
      "[\"'\\\\x00hello\\\\nA'\", -10.15625, -37.109375, False]\n",
      "[\"'\\\\x00hello\\\\nA'\", -10.15625, -35.9375, False]\n",
      "[\"'\\\\x00hello\\\\nA'\", -10.15625, -34.765625, False]\n",
      "[\"'\\\\x00hello\\\\nA'\", -10.15625, -33.59375, False]\n",
      "[\"'\\\\x00hello\\\\nA'\", -10.15625, -32.421875, False]\n",
      "[\"'\\\\x00hello\\\\nA'\", -10.15625, -31.25, False]\n",
      "[\"'\\\\x00hello\\\\nA'\", -10.15625, -30.078125, False]\n",
      "[\"'\\\\x00hello\\\\nA'\", -8.984375, -48.828125, False]\n",
      "[\"'\\\\x00hello\\\\nA'\", -8.984375, -47.65625, False]\n",
      "[\"'\\\\x00hello\\\\nA'\", -8.984375, -46.484375, False]\n",
      "[\"'\\\\x00hello\\\\nA'\", -8.984375, -45.3125, False]\n",
      "[\"'\\\\x00hello\\\\nA'\", -8.984375, -44.140625, False]\n",
      "[\"'\\\\x00hello\\\\nA'\", -8.984375, -42.96875, False]\n",
      "[\"'\\\\x00hello\\\\nA'\", -8.984375, -41.796875, False]\n",
      "[\"'\\\\x00hello\\\\nA'\", -8.984375, -40.625, False]\n",
      "[\"'\\\\x00hello\\\\nA'\", -8.984375, -39.453125, False]\n",
      "[\"'\\\\x00hello\\\\nA'\", -8.984375, -38.28125, False]\n",
      "[\"'\\\\x00hello\\\\nA'\", -8.984375, -37.109375, False]\n",
      "[\"'\\\\x00hello\\\\nA'\", -8.984375, -35.9375, False]\n",
      "[\"'\\\\x00hello\\\\nA'\", -8.984375, -34.765625, False]\n",
      "[\"'\\\\x00hello\\\\nA'\", -8.984375, -33.59375, False]\n",
      "[\"'\\\\x00hello\\\\nA'\", -8.984375, -32.421875, False]\n",
      "[\"'\\\\x00hello\\\\nA'\", -8.984375, -31.25, False]\n",
      "[\"'\\\\x00hello\\\\nA'\", -8.984375, -30.078125, False]\n",
      "[\"'\\\\x00hello\\\\nA'\", -7.8125, -48.828125, False]\n",
      "[\"'\\\\x00hello\\\\nA'\", -7.8125, -47.65625, False]\n",
      "[\"'\\\\x00hello\\\\nA'\", -7.8125, -46.484375, False]\n",
      "[\"'\\\\x00hello\\\\nA'\", -7.8125, -45.3125, False]\n",
      "[\"'\\\\x00hello\\\\nA'\", -7.8125, -44.140625, False]\n",
      "[\"'\\\\x00hello\\\\nA'\", -7.8125, -42.96875, False]\n",
      "[\"'\\\\x00hello\\\\nA'\", -7.8125, -41.796875, False]\n",
      "[\"'\\\\x00hello\\\\nA'\", -7.8125, -40.625, False]\n",
      "[\"'\\\\x00hello\\\\nA'\", -7.8125, -39.453125, False]\n",
      "[\"'\\\\x00hello\\\\nA'\", -7.8125, -38.28125, False]\n",
      "[\"'\\\\x00hello\\\\nA'\", -7.8125, -37.109375, False]\n",
      "[\"'\\\\x00hello\\\\nA'\", -7.8125, -35.9375, False]\n",
      "[\"'\\\\x00hello\\\\nA'\", -7.8125, -34.765625, False]\n",
      "[\"'\\\\x00hello\\\\nA'\", -7.8125, -33.59375, False]\n",
      "[\"'\\\\x00hello\\\\nA'\", -7.8125, -32.421875, False]\n",
      "[\"'\\\\x00hello\\\\nA'\", -7.8125, -31.25, False]\n",
      "[\"'\\\\x00hello\\\\nA'\", -7.8125, -30.078125, False]\n",
      "[\"'\\\\x00hello\\\\nA'\", -6.640625, -48.828125, False]\n",
      "[\"'\\\\x00hello\\\\nA'\", -6.640625, -47.65625, False]\n",
      "[\"'\\\\x00hello\\\\nA'\", -6.640625, -46.484375, False]\n",
      "[\"'\\\\x00hello\\\\nA'\", -6.640625, -45.3125, False]\n",
      "[\"'\\\\x00hello\\\\nA'\", -6.640625, -44.140625, False]\n",
      "[\"'\\\\x00hello\\\\nA'\", -6.640625, -42.96875, False]\n",
      "[\"'\\\\x00hello\\\\nA'\", -6.640625, -41.796875, False]\n",
      "[\"'\\\\x00hello\\\\nA'\", -6.640625, -40.625, False]\n",
      "[\"'\\\\x00hello\\\\nA'\", -6.640625, -39.453125, False]\n",
      "[\"'\\\\x00hello\\\\nA'\", -6.640625, -38.28125, False]\n",
      "[\"'\\\\x00hello\\\\nA'\", -6.640625, -37.109375, False]\n",
      "[\"'\\\\x00hello\\\\nA'\", -6.640625, -35.9375, False]\n",
      "[\"'\\\\x00hello\\\\nA'\", -6.640625, -34.765625, False]\n",
      "[\"'\\\\x00hello\\\\nA'\", -6.640625, -33.59375, False]\n",
      "[\"'\\\\x00hello\\\\nA'\", -6.640625, -32.421875, False]\n",
      "[\"'\\\\x00hello\\\\nA'\", -6.640625, -31.25, False]\n",
      "[\"'\\\\x00hello\\\\nA'\", -6.640625, -30.078125, False]\n",
      "[\"'\\\\x00hello\\\\nA'\", -5.46875, -48.828125, False]\n",
      "[\"'\\\\x00hello\\\\nA'\", -5.46875, -47.65625, False]\n",
      "[\"'\\\\x00hello\\\\nA'\", -5.46875, -46.484375, False]\n",
      "[\"'\\\\x00hello\\\\nA'\", -5.46875, -45.3125, False]\n",
      "[\"'\\\\x00hello\\\\nA'\", -5.46875, -44.140625, False]\n",
      "[\"'\\\\x00hello\\\\nA'\", -5.46875, -42.96875, False]\n",
      "[\"'\\\\x00hello\\\\nA'\", -5.46875, -41.796875, False]\n",
      "[\"'\\\\x00hello\\\\nA'\", -5.46875, -40.625, False]\n",
      "[\"'\\\\x00hello\\\\nA1234'\", -5.46875, -39.453125, True]\n",
      "[\"'\\\\x00hello\\\\nA'\", -5.46875, -38.28125, False]\n",
      "[\"'\\\\x00hello\\\\nA'\", -5.46875, -37.109375, False]\n",
      "[\"'\\\\x00hello\\\\nA'\", -5.46875, -35.9375, False]\n",
      "[\"'\\\\x00hello\\\\nA'\", -5.46875, -34.765625, False]\n",
      "[\"'\\\\x00hello\\\\nA'\", -5.46875, -33.59375, False]\n",
      "[\"'\\\\x00hello\\\\nA'\", -5.46875, -32.421875, False]\n",
      "[\"'\\\\x00hello\\\\nA'\", -5.46875, -31.25, False]\n",
      "[\"'\\\\x00hello\\\\nA'\", -5.46875, -30.078125, False]\n",
      "[\"'\\\\x00hello\\\\nA'\", -4.296875, -48.828125, False]\n",
      "[\"'\\\\x00hello\\\\nA'\", -4.296875, -47.65625, False]\n",
      "[\"'\\\\x00hello\\\\nA'\", -4.296875, -46.484375, False]\n",
      "[\"'\\\\x00hello\\\\nA'\", -4.296875, -45.3125, False]\n",
      "[\"'\\\\x00hello\\\\nA'\", -4.296875, -44.140625, False]\n",
      "[\"'\\\\x00hello\\\\nA'\", -4.296875, -42.96875, False]\n",
      "[\"'\\\\x00hello\\\\nA'\", -4.296875, -41.796875, False]\n",
      "[\"'\\\\x00hello\\\\nA'\", -4.296875, -40.625, False]\n",
      "[\"'\\\\x00hello\\\\nA1234'\", -4.296875, -39.453125, True]\n",
      "[\"'\\\\x00hello\\\\nA'\", -4.296875, -38.28125, False]\n",
      "[\"'\\\\x00hello\\\\nA'\", -4.296875, -37.109375, False]\n",
      "[\"'\\\\x00hello\\\\nA'\", -4.296875, -35.9375, False]\n",
      "[\"'\\\\x00hello\\\\nA'\", -4.296875, -34.765625, False]\n",
      "[\"'\\\\x00hello\\\\nA'\", -4.296875, -33.59375, False]\n",
      "[\"'\\\\x00hello\\\\nA'\", -4.296875, -32.421875, False]\n",
      "[\"'\\\\x00hello\\\\nA'\", -4.296875, -31.25, False]\n",
      "[\"'\\\\x00hello\\\\nA'\", -4.296875, -30.078125, False]\n",
      "[\"'\\\\x00hello\\\\nA'\", -3.125, -48.828125, False]\n",
      "[\"'\\\\x00hello\\\\nA'\", -3.125, -47.65625, False]\n",
      "[\"'\\\\x00hello\\\\nA'\", -3.125, -46.484375, False]\n",
      "[\"'\\\\x00hello\\\\nA'\", -3.125, -45.3125, False]\n",
      "[\"'\\\\x00hello\\\\nA'\", -3.125, -44.140625, False]\n",
      "[\"'\\\\x00hello\\\\nA'\", -3.125, -42.96875, False]\n",
      "[\"'\\\\x00hello\\\\nA'\", -3.125, -41.796875, False]\n",
      "[\"'\\\\x00hello\\\\nA'\", -3.125, -40.625, False]\n",
      "[\"'\\\\x00hello\\\\nA1234'\", -3.125, -39.453125, True]\n",
      "[\"'\\\\x00hello\\\\nA'\", -3.125, -38.28125, False]\n",
      "[\"'\\\\x00hello\\\\nA'\", -3.125, -37.109375, False]\n",
      "[\"'\\\\x00hello\\\\nA'\", -3.125, -35.9375, False]\n",
      "[\"'\\\\x00hello\\\\nA'\", -3.125, -34.765625, False]\n",
      "[\"'\\\\x00hello\\\\nA'\", -3.125, -33.59375, False]\n",
      "[\"'\\\\x00hello\\\\nA'\", -3.125, -32.421875, False]\n",
      "[\"'\\\\x00hello\\\\nA'\", -3.125, -31.25, False]\n",
      "[\"'\\\\x00hello\\\\nA'\", -3.125, -30.078125, False]\n",
      "[\"'\\\\x00hello\\\\nA'\", -1.953125, -48.828125, False]\n",
      "[\"'\\\\x00hello\\\\nA'\", -1.953125, -47.65625, False]\n",
      "[\"'\\\\x00hello\\\\nA'\", -1.953125, -46.484375, False]\n",
      "[\"'\\\\x00hello\\\\nA'\", -1.953125, -45.3125, False]\n",
      "[\"'\\\\x00hello\\\\nA'\", -1.953125, -44.140625, False]\n",
      "[\"'\\\\x00hello\\\\nA'\", -1.953125, -42.96875, False]\n",
      "[\"'\\\\x00hello\\\\nA'\", -1.953125, -41.796875, False]\n",
      "[\"'\\\\x00hello\\\\nA'\", -1.953125, -40.625, False]\n",
      "[\"'\\\\x00hello\\\\nA1234'\", -1.953125, -39.453125, True]\n",
      "[\"'\\\\x00hello\\\\nA'\", -1.953125, -38.28125, False]\n",
      "[\"'\\\\x00hello\\\\nA'\", -1.953125, -37.109375, False]\n",
      "[\"'\\\\x00hello\\\\nA'\", -1.953125, -35.9375, False]\n",
      "[\"'\\\\x00hello\\\\nA'\", -1.953125, -34.765625, False]\n",
      "[\"'\\\\x00hello\\\\nA'\", -1.953125, -33.59375, False]\n",
      "[\"'\\\\x00hello\\\\nA'\", -1.953125, -32.421875, False]\n",
      "[\"'\\\\x00hello\\\\nA'\", -1.953125, -31.25, False]\n",
      "[\"'\\\\x00hello\\\\nA'\", -1.953125, -30.078125, False]\n",
      "[\"'\\\\x00hello\\\\nA'\", -0.78125, -48.828125, False]\n",
      "[\"'\\\\x00hello\\\\nA'\", -0.78125, -47.65625, False]\n",
      "[\"'\\\\x00hello\\\\nA'\", -0.78125, -46.484375, False]\n",
      "[\"'\\\\x00hello\\\\nA'\", -0.78125, -45.3125, False]\n",
      "[\"'\\\\x00hello\\\\nA'\", -0.78125, -44.140625, False]\n",
      "[\"'\\\\x00hello\\\\nA'\", -0.78125, -42.96875, False]\n",
      "[\"'\\\\x00hello\\\\nA'\", -0.78125, -41.796875, False]\n",
      "[\"'\\\\x00hello\\\\nA'\", -0.78125, -40.625, False]\n",
      "[\"'\\\\x00hello\\\\nA'\", -0.78125, -39.453125, False]\n",
      "[\"'\\\\x00hello\\\\nA'\", -0.78125, -38.28125, False]\n",
      "[\"'\\\\x00hello\\\\nA'\", -0.78125, -37.109375, False]\n",
      "[\"'\\\\x00hello\\\\nA'\", -0.78125, -35.9375, False]\n",
      "[\"'\\\\x00hello\\\\nA'\", -0.78125, -34.765625, False]\n",
      "[\"'\\\\x00hello\\\\nA'\", -0.78125, -33.59375, False]\n",
      "[\"'\\\\x00hello\\\\nA'\", -0.78125, -32.421875, False]\n",
      "[\"'\\\\x00hello\\\\nA'\", -0.78125, -31.25, False]\n",
      "[\"'\\\\x00hello\\\\nA'\", -0.78125, -30.078125, False]\n",
      "[\"'\\\\x00hello\\\\nA'\", 0.390625, -48.828125, False]\n",
      "[\"'\\\\x00hello\\\\nA'\", 0.390625, -47.65625, False]\n",
      "[\"'\\\\x00hello\\\\nA'\", 0.390625, -46.484375, False]\n",
      "[\"'\\\\x00hello\\\\nA'\", 0.390625, -45.3125, False]\n",
      "[\"'\\\\x00hello\\\\nA'\", 0.390625, -44.140625, False]\n",
      "[\"'\\\\x00hello\\\\nA'\", 0.390625, -42.96875, False]\n",
      "[\"'\\\\x00hello\\\\nA'\", 0.390625, -41.796875, False]\n",
      "[\"'\\\\x00hello\\\\nA'\", 0.390625, -40.625, False]\n",
      "[\"'\\\\x00hello\\\\nA'\", 0.390625, -39.453125, False]\n",
      "[\"'\\\\x00hello\\\\nA'\", 0.390625, -38.28125, False]\n",
      "[\"'\\\\x00hello\\\\nA'\", 0.390625, -37.109375, False]\n",
      "[\"'\\\\x00hello\\\\nA'\", 0.390625, -35.9375, False]\n",
      "[\"'\\\\x00hello\\\\nA'\", 0.390625, -34.765625, False]\n",
      "[\"'\\\\x00hello\\\\nA'\", 0.390625, -33.59375, False]\n",
      "[\"'\\\\x00hello\\\\nA'\", 0.390625, -32.421875, False]\n",
      "[\"'\\\\x00hello\\\\nA'\", 0.390625, -31.25, False]\n",
      "[\"'\\\\x00hello\\\\nA'\", 0.390625, -30.078125, False]\n",
      "[\"'\\\\x00hello\\\\nA'\", 1.5625, -48.828125, False]\n",
      "[\"'\\\\x00hello\\\\nA'\", 1.5625, -47.65625, False]\n",
      "[\"'\\\\x00hello\\\\nA'\", 1.5625, -46.484375, False]\n",
      "[\"'\\\\x00hello\\\\nA'\", 1.5625, -45.3125, False]\n",
      "[\"'\\\\x00hello\\\\nA'\", 1.5625, -44.140625, False]\n",
      "[\"'\\\\x00hello\\\\nA'\", 1.5625, -42.96875, False]\n",
      "[\"'\\\\x00hello\\\\nA'\", 1.5625, -41.796875, False]\n",
      "[\"'\\\\x00hello\\\\nA'\", 1.5625, -40.625, False]\n",
      "[\"'\\\\x00hello\\\\nA'\", 1.5625, -39.453125, False]\n",
      "[\"'\\\\x00hello\\\\nA'\", 1.5625, -38.28125, False]\n",
      "[\"'\\\\x00hello\\\\nA'\", 1.5625, -37.109375, False]\n",
      "[\"'\\\\x00hello\\\\nA'\", 1.5625, -35.9375, False]\n",
      "[\"'\\\\x00hello\\\\nA'\", 1.5625, -34.765625, False]\n",
      "[\"'\\\\x00hello\\\\nA'\", 1.5625, -33.59375, False]\n",
      "[\"'\\\\x00hello\\\\nA'\", 1.5625, -32.421875, False]\n",
      "[\"'\\\\x00hello\\\\nA'\", 1.5625, -31.25, False]\n",
      "[\"'\\\\x00hello\\\\nA'\", 1.5625, -30.078125, False]\n",
      "[\"'\\\\x00hello\\\\nA'\", 2.734375, -48.828125, False]\n",
      "[\"'\\\\x00hello\\\\nA'\", 2.734375, -47.65625, False]\n",
      "[\"'\\\\x00hello\\\\nA'\", 2.734375, -46.484375, False]\n",
      "[\"'\\\\x00hello\\\\nA'\", 2.734375, -45.3125, False]\n",
      "[\"'\\\\x00hello\\\\nA'\", 2.734375, -44.140625, False]\n",
      "[\"'\\\\x00hello\\\\nA'\", 2.734375, -42.96875, False]\n",
      "[\"'\\\\x00hello\\\\nA'\", 2.734375, -41.796875, False]\n",
      "[\"'\\\\x00hello\\\\nA'\", 2.734375, -40.625, False]\n",
      "[\"'\\\\x00hello\\\\nA'\", 2.734375, -39.453125, False]\n",
      "[\"'\\\\x00hello\\\\nA'\", 2.734375, -38.28125, False]\n",
      "[\"'\\\\x00hello\\\\nA'\", 2.734375, -37.109375, False]\n",
      "[\"'\\\\x00hello\\\\nA'\", 2.734375, -35.9375, False]\n",
      "[\"'\\\\x00hello\\\\nA'\", 2.734375, -34.765625, False]\n",
      "[\"'\\\\x00hello\\\\nA'\", 2.734375, -33.59375, False]\n",
      "[\"'\\\\x00hello\\\\nA'\", 2.734375, -32.421875, False]\n",
      "[\"'\\\\x00hello\\\\nA'\", 2.734375, -31.25, False]\n",
      "[\"'\\\\x00hello\\\\nA'\", 2.734375, -30.078125, False]\n",
      "[\"'\\\\x00hello\\\\nA'\", 3.90625, -48.828125, False]\n",
      "[\"'\\\\x00hello\\\\nA'\", 3.90625, -47.65625, False]\n",
      "[\"'\\\\x00hello\\\\nA'\", 3.90625, -46.484375, False]\n",
      "[\"'\\\\x00hello\\\\nA'\", 3.90625, -45.3125, False]\n",
      "[\"'\\\\x00hello\\\\nA'\", 3.90625, -44.140625, False]\n",
      "[\"'\\\\x00hello\\\\nA'\", 3.90625, -42.96875, False]\n",
      "[\"'\\\\x00hello\\\\nA'\", 3.90625, -41.796875, False]\n",
      "[\"'\\\\x00hello\\\\nA'\", 3.90625, -40.625, False]\n",
      "[\"'\\\\x00hello\\\\nA'\", 3.90625, -39.453125, False]\n",
      "[\"'\\\\x00hello\\\\nA'\", 3.90625, -38.28125, False]\n",
      "[\"'\\\\x00hello\\\\nA'\", 3.90625, -37.109375, False]\n",
      "[\"'\\\\x00hello\\\\nA'\", 3.90625, -35.9375, False]\n",
      "[\"'\\\\x00hello\\\\nA'\", 3.90625, -34.765625, False]\n",
      "[\"'\\\\x00hello\\\\nA'\", 3.90625, -33.59375, False]\n",
      "[\"'\\\\x00hello\\\\nA'\", 3.90625, -32.421875, False]\n",
      "[\"'\\\\x00hello\\\\nA'\", 3.90625, -31.25, False]\n",
      "[\"'\\\\x00hello\\\\nA'\", 3.90625, -30.078125, False]\n",
      "[\"'\\\\x00hello\\\\nA'\", 5.078125, -48.828125, False]\n",
      "[\"'\\\\x00hello\\\\nA'\", 5.078125, -47.65625, False]\n",
      "[\"'\\\\x00hello\\\\nA'\", 5.078125, -46.484375, False]\n",
      "[\"'\\\\x00hello\\\\nA'\", 5.078125, -45.3125, False]\n",
      "[\"'\\\\x00hello\\\\nA'\", 5.078125, -44.140625, False]\n",
      "[\"'\\\\x00hello\\\\nA'\", 5.078125, -42.96875, False]\n",
      "[\"'\\\\x00hello\\\\nA'\", 5.078125, -41.796875, False]\n",
      "[\"'\\\\x00hello\\\\nA'\", 5.078125, -40.625, False]\n",
      "[\"'\\\\x00hello\\\\nA'\", 5.078125, -39.453125, False]\n",
      "[\"'\\\\x00hello\\\\nA'\", 5.078125, -38.28125, False]\n",
      "[\"'\\\\x00hello\\\\nA'\", 5.078125, -37.109375, False]\n",
      "[\"'\\\\x00hello\\\\nA'\", 5.078125, -35.9375, False]\n",
      "[\"'\\\\x00hello\\\\nA'\", 5.078125, -34.765625, False]\n",
      "[\"'\\\\x00hello\\\\nA'\", 5.078125, -33.59375, False]\n",
      "[\"'\\\\x00hello\\\\nA'\", 5.078125, -32.421875, False]\n",
      "[\"'\\\\x00hello\\\\nA'\", 5.078125, -31.25, False]\n",
      "[\"'\\\\x00hello\\\\nA'\", 5.078125, -30.078125, False]\n",
      "[\"'\\\\x00hello\\\\nA'\", 6.25, -48.828125, False]\n",
      "[\"'\\\\x00hello\\\\nA'\", 6.25, -47.65625, False]\n",
      "[\"'\\\\x00hello\\\\nA'\", 6.25, -46.484375, False]\n",
      "[\"'\\\\x00hello\\\\nA'\", 6.25, -45.3125, False]\n",
      "[\"'\\\\x00hello\\\\nA'\", 6.25, -44.140625, False]\n",
      "[\"'\\\\x00hello\\\\nA'\", 6.25, -42.96875, False]\n",
      "[\"'\\\\x00hello\\\\nA'\", 6.25, -41.796875, False]\n",
      "[\"'\\\\x00hello\\\\nA'\", 6.25, -40.625, False]\n",
      "[\"'\\\\x00hello\\\\nA'\", 6.25, -39.453125, False]\n",
      "[\"'\\\\x00hello\\\\nA'\", 6.25, -38.28125, False]\n",
      "[\"'\\\\x00hello\\\\nA'\", 6.25, -37.109375, False]\n",
      "[\"'\\\\x00hello\\\\nA'\", 6.25, -35.9375, False]\n",
      "[\"'\\\\x00hello\\\\nA'\", 6.25, -34.765625, False]\n",
      "[\"'\\\\x00hello\\\\nA'\", 6.25, -33.59375, False]\n",
      "[\"'\\\\x00hello\\\\nA'\", 6.25, -32.421875, False]\n",
      "[\"'\\\\x00hello\\\\nA'\", 6.25, -31.25, False]\n",
      "[\"'\\\\x00hello\\\\nA'\", 6.25, -30.078125, False]\n",
      "[\"'\\\\x00hello\\\\nA'\", 7.421875, -48.828125, False]\n",
      "[\"'\\\\x00hello\\\\nA'\", 7.421875, -47.65625, False]\n",
      "[\"'\\\\x00hello\\\\nA'\", 7.421875, -46.484375, False]\n",
      "[\"'\\\\x00hello\\\\nA'\", 7.421875, -45.3125, False]\n",
      "[\"'\\\\x00hello\\\\nA'\", 7.421875, -44.140625, False]\n",
      "[\"'\\\\x00hello\\\\nA'\", 7.421875, -42.96875, False]\n",
      "[\"'\\\\x00hello\\\\nA'\", 7.421875, -41.796875, False]\n",
      "[\"'\\\\x00hello\\\\nA'\", 7.421875, -40.625, False]\n",
      "[\"'\\\\x00hello\\\\nA'\", 7.421875, -39.453125, False]\n",
      "[\"'\\\\x00hello\\\\nA'\", 7.421875, -38.28125, False]\n",
      "[\"'\\\\x00hello\\\\nA'\", 7.421875, -37.109375, False]\n",
      "[\"'\\\\x00hello\\\\nA'\", 7.421875, -35.9375, False]\n",
      "[\"'\\\\x00hello\\\\nA'\", 7.421875, -34.765625, False]\n",
      "[\"'\\\\x00hello\\\\nA'\", 7.421875, -33.59375, False]\n",
      "[\"'\\\\x00hello\\\\nA'\", 7.421875, -32.421875, False]\n",
      "[\"'\\\\x00hello\\\\nA'\", 7.421875, -31.25, False]\n",
      "[\"'\\\\x00hello\\\\nA'\", 7.421875, -30.078125, False]\n",
      "[\"'\\\\x00hello\\\\nA'\", 8.59375, -48.828125, False]\n",
      "[\"'\\\\x00hello\\\\nA'\", 8.59375, -47.65625, False]\n",
      "[\"'\\\\x00hello\\\\nA'\", 8.59375, -46.484375, False]\n",
      "[\"'\\\\x00hello\\\\nA'\", 8.59375, -45.3125, False]\n",
      "[\"'\\\\x00hello\\\\nA'\", 8.59375, -44.140625, False]\n",
      "[\"'\\\\x00hello\\\\nA'\", 8.59375, -42.96875, False]\n",
      "[\"'\\\\x00hello\\\\nA'\", 8.59375, -41.796875, False]\n",
      "[\"'\\\\x00hello\\\\nA'\", 8.59375, -40.625, False]\n",
      "[\"'\\\\x00hello\\\\nA'\", 8.59375, -39.453125, False]\n",
      "[\"'\\\\x00hello\\\\nA'\", 8.59375, -38.28125, False]\n",
      "[\"'\\\\x00hello\\\\nA'\", 8.59375, -37.109375, False]\n",
      "[\"'\\\\x00hello\\\\nA'\", 8.59375, -35.9375, False]\n",
      "[\"'\\\\x00hello\\\\nA'\", 8.59375, -34.765625, False]\n",
      "[\"'\\\\x00hello\\\\nA'\", 8.59375, -33.59375, False]\n",
      "[\"'\\\\x00hello\\\\nA'\", 8.59375, -32.421875, False]\n",
      "[\"'\\\\x00hello\\\\nA'\", 8.59375, -31.25, False]\n",
      "[\"'\\\\x00hello\\\\nA'\", 8.59375, -30.078125, False]\n",
      "[\"'\\\\x00hello\\\\nA'\", 9.765625, -48.828125, False]\n",
      "[\"'\\\\x00hello\\\\nA'\", 9.765625, -47.65625, False]\n",
      "[\"'\\\\x00hello\\\\nA'\", 9.765625, -46.484375, False]\n",
      "[\"'\\\\x00hello\\\\nA'\", 9.765625, -45.3125, False]\n",
      "[\"'\\\\x00hello\\\\nA'\", 9.765625, -44.140625, False]\n",
      "[\"'\\\\x00hello\\\\nA'\", 9.765625, -42.96875, False]\n",
      "[\"'\\\\x00hello\\\\nA'\", 9.765625, -41.796875, False]\n",
      "[\"'\\\\x00hello\\\\nA'\", 9.765625, -40.625, False]\n",
      "[\"'\\\\x00hello\\\\nA'\", 9.765625, -39.453125, False]\n",
      "[\"'\\\\x00hello\\\\nA'\", 9.765625, -38.28125, False]\n",
      "[\"'\\\\x00hello\\\\nA'\", 9.765625, -37.109375, False]\n",
      "[\"'\\\\x00hello\\\\nA'\", 9.765625, -35.9375, False]\n",
      "[\"'\\\\x00hello\\\\nA'\", 9.765625, -34.765625, False]\n",
      "[\"'\\\\x00hello\\\\nA'\", 9.765625, -33.59375, False]\n",
      "[\"'\\\\x00hello\\\\nA'\", 9.765625, -32.421875, False]\n",
      "[\"'\\\\x00hello\\\\nA'\", 9.765625, -31.25, False]\n",
      "[\"'\\\\x00hello\\\\nA'\", 9.765625, -30.078125, False]\n"
     ]
    }
   ],
   "source": [
    "print(scope.adc.trig_count)\n",
    "for row in data:\n",
    "    print(row)"
   ]
  },
  {
   "cell_type": "markdown",
   "metadata": {},
   "source": [
    "With any luck, you'll have some successful glitches. You may want to run this a few times and keep track of successful glitch parameters, as `width` and `offset` parameters for one attack often work for other ones. If you didn't get any successful glitches, note that we only used an `offset` of `[-10,10]` (the max is `[-50, 50]`. Try using a larger range of offsets to see if a successful offset lies outside of this range.\n",
    "\n",
    "If you want to take this attack further, you may want to try reducing the `repeat` to 1 and iterating through `ext_offset` to look for the precise clock cycle where the glitch succeeds. To save time, you may want to pick a `width` and `offset` that worked for you and only vary `ext_offset`. Note that even with the right parameters and location, inserting a glitch won't always work, so a better strategy may be to loop infinitely over `ext_offset` values until you get a successful glitch.\n",
    "\n",
    "**HINT: We used a `repeat` of 105 for this attack (and an `ext_offset` of 0) on XMEGA, which put a glitch in each of the first 105 clock cycles. This means `ext_offset` must be in the range `[0,105]` for this target.**"
   ]
  },
  {
   "cell_type": "markdown",
   "metadata": {},
   "source": [
    "## Attack 2"
   ]
  },
  {
   "cell_type": "markdown",
   "metadata": {},
   "source": [
    "Now that you (hopefully) have parameters that cause semi-reliable glitches, we can look at a more challenging example: a password check. Go back to `glitchsimple.c` and find the `glitch3()` function:\n",
    "\n",
    "```C\n",
    "void glitch3(void)\n",
    "{\n",
    "    char inp[16];\n",
    "    char c = 'A';\n",
    "    unsigned char cnt = 0;\n",
    "    uart_puts(\"Password:\");\n",
    "\n",
    "    while((c != '\\n') & (cnt < 16)){\n",
    "        c = getch();\n",
    "        inp[cnt] = c;\n",
    "        cnt++;\n",
    "    }\n",
    "\n",
    "    char passwd[] = \"touch\";\n",
    "    char passok = 1;\n",
    "\n",
    "    trigger_high();\n",
    "    trigger_low();\n",
    "\n",
    "    //Simple test - doesn't check for too-long password!\n",
    "    for(cnt = 0; cnt < 5; cnt++){\n",
    "        if (inp[cnt] != passwd[cnt]){\n",
    "            passok = 0;\n",
    "        }\n",
    "    }\n",
    "\n",
    "    if (!passok){\n",
    "        uart_puts(\"Denied\\n\");\n",
    "    } else {\n",
    "        uart_puts(\"Welcome\\n\");\n",
    "    }\n",
    "}\n",
    "```\n",
    "\n",
    "As you might expect, we'll try to glitch past the `if(!passok)` check towards the end of the code. Change `main()` to call `glitch3()`. Like before, we'll build and program the new firmware."
   ]
  },
  {
   "cell_type": "code",
   "execution_count": 46,
   "metadata": {},
   "outputs": [
    {
     "name": "stdout",
     "output_type": "stream",
     "text": [
      "rm -f -- glitchsimple-CWLITEARM.hex\n",
      "rm -f -- glitchsimple-CWLITEARM.eep\n",
      "rm -f -- glitchsimple-CWLITEARM.cof\n",
      "rm -f -- glitchsimple-CWLITEARM.elf\n",
      "rm -f -- glitchsimple-CWLITEARM.map\n",
      "rm -f -- glitchsimple-CWLITEARM.sym\n",
      "rm -f -- glitchsimple-CWLITEARM.lss\n",
      "rm -f -- objdir/*.o\n",
      "rm -f -- objdir/*.lst\n",
      "rm -f -- glitchsimple.s simpleserial.s stm32f3_hal.s stm32f3_hal_lowlevel.s stm32f3_sysmem.s\n",
      "rm -f -- glitchsimple.d simpleserial.d stm32f3_hal.d stm32f3_hal_lowlevel.d stm32f3_sysmem.d\n",
      "rm -f -- glitchsimple.i simpleserial.i stm32f3_hal.i stm32f3_hal_lowlevel.i stm32f3_sysmem.i\n",
      ".\n",
      "-------- begin --------\n",
      "arm-none-eabi-gcc (15:5.4.1+svn241155-1) 5.4.1 20160919\n",
      "Copyright (C) 2015 Free Software Foundation, Inc.\n",
      "This is free software; see the source for copying conditions.  There is NO\n",
      "warranty; not even for MERCHANTABILITY or FITNESS FOR A PARTICULAR PURPOSE.\n",
      "\n",
      ".\n",
      "Compiling C: glitchsimple.c\n",
      "arm-none-eabi-gcc -c -mcpu=cortex-m4 -I. -mthumb -mfloat-abi=hard -mfpu=fpv4-sp-d16 -fmessage-length=0 -ffunction-sections -gdwarf-2 -DSS_VER=SS_VER_1_1 -DSTM32F303xC -DSTM32F3 -DSTM32 -DDEBUG -DHAL_TYPE=HAL_stm32f3 -DPLATFORM=CWLITEARM -DF_CPU=7372800UL -Os -funsigned-char -funsigned-bitfields -fshort-enums -Wall -Wstrict-prototypes -Wa,-adhlns=objdir/glitchsimple.lst -I.././simpleserial/ -I.././hal -I.././hal/stm32f3 -I.././hal/stm32f3/CMSIS -I.././hal/stm32f3/CMSIS/core -I.././hal/stm32f3/CMSIS/device -I.././hal/stm32f4/Legacy -I.././crypto/ -std=gnu99 -MMD -MP -MF .dep/glitchsimple.o.d glitchsimple.c -o objdir/glitchsimple.o \n",
      ".\n",
      "Compiling C: .././simpleserial/simpleserial.c\n",
      "arm-none-eabi-gcc -c -mcpu=cortex-m4 -I. -mthumb -mfloat-abi=hard -mfpu=fpv4-sp-d16 -fmessage-length=0 -ffunction-sections -gdwarf-2 -DSS_VER=SS_VER_1_1 -DSTM32F303xC -DSTM32F3 -DSTM32 -DDEBUG -DHAL_TYPE=HAL_stm32f3 -DPLATFORM=CWLITEARM -DF_CPU=7372800UL -Os -funsigned-char -funsigned-bitfields -fshort-enums -Wall -Wstrict-prototypes -Wa,-adhlns=objdir/simpleserial.lst -I.././simpleserial/ -I.././hal -I.././hal/stm32f3 -I.././hal/stm32f3/CMSIS -I.././hal/stm32f3/CMSIS/core -I.././hal/stm32f3/CMSIS/device -I.././hal/stm32f4/Legacy -I.././crypto/ -std=gnu99 -MMD -MP -MF .dep/simpleserial.o.d .././simpleserial/simpleserial.c -o objdir/simpleserial.o \n",
      ".\n",
      "Compiling C: .././hal/stm32f3/stm32f3_hal.c\n",
      "arm-none-eabi-gcc -c -mcpu=cortex-m4 -I. -mthumb -mfloat-abi=hard -mfpu=fpv4-sp-d16 -fmessage-length=0 -ffunction-sections -gdwarf-2 -DSS_VER=SS_VER_1_1 -DSTM32F303xC -DSTM32F3 -DSTM32 -DDEBUG -DHAL_TYPE=HAL_stm32f3 -DPLATFORM=CWLITEARM -DF_CPU=7372800UL -Os -funsigned-char -funsigned-bitfields -fshort-enums -Wall -Wstrict-prototypes -Wa,-adhlns=objdir/stm32f3_hal.lst -I.././simpleserial/ -I.././hal -I.././hal/stm32f3 -I.././hal/stm32f3/CMSIS -I.././hal/stm32f3/CMSIS/core -I.././hal/stm32f3/CMSIS/device -I.././hal/stm32f4/Legacy -I.././crypto/ -std=gnu99 -MMD -MP -MF .dep/stm32f3_hal.o.d .././hal/stm32f3/stm32f3_hal.c -o objdir/stm32f3_hal.o \n",
      ".\n",
      "Compiling C: .././hal/stm32f3/stm32f3_hal_lowlevel.c\n",
      "arm-none-eabi-gcc -c -mcpu=cortex-m4 -I. -mthumb -mfloat-abi=hard -mfpu=fpv4-sp-d16 -fmessage-length=0 -ffunction-sections -gdwarf-2 -DSS_VER=SS_VER_1_1 -DSTM32F303xC -DSTM32F3 -DSTM32 -DDEBUG -DHAL_TYPE=HAL_stm32f3 -DPLATFORM=CWLITEARM -DF_CPU=7372800UL -Os -funsigned-char -funsigned-bitfields -fshort-enums -Wall -Wstrict-prototypes -Wa,-adhlns=objdir/stm32f3_hal_lowlevel.lst -I.././simpleserial/ -I.././hal -I.././hal/stm32f3 -I.././hal/stm32f3/CMSIS -I.././hal/stm32f3/CMSIS/core -I.././hal/stm32f3/CMSIS/device -I.././hal/stm32f4/Legacy -I.././crypto/ -std=gnu99 -MMD -MP -MF .dep/stm32f3_hal_lowlevel.o.d .././hal/stm32f3/stm32f3_hal_lowlevel.c -o objdir/stm32f3_hal_lowlevel.o \n",
      ".\n",
      "Compiling C: .././hal/stm32f3/stm32f3_sysmem.c\n",
      "arm-none-eabi-gcc -c -mcpu=cortex-m4 -I. -mthumb -mfloat-abi=hard -mfpu=fpv4-sp-d16 -fmessage-length=0 -ffunction-sections -gdwarf-2 -DSS_VER=SS_VER_1_1 -DSTM32F303xC -DSTM32F3 -DSTM32 -DDEBUG -DHAL_TYPE=HAL_stm32f3 -DPLATFORM=CWLITEARM -DF_CPU=7372800UL -Os -funsigned-char -funsigned-bitfields -fshort-enums -Wall -Wstrict-prototypes -Wa,-adhlns=objdir/stm32f3_sysmem.lst -I.././simpleserial/ -I.././hal -I.././hal/stm32f3 -I.././hal/stm32f3/CMSIS -I.././hal/stm32f3/CMSIS/core -I.././hal/stm32f3/CMSIS/device -I.././hal/stm32f4/Legacy -I.././crypto/ -std=gnu99 -MMD -MP -MF .dep/stm32f3_sysmem.o.d .././hal/stm32f3/stm32f3_sysmem.c -o objdir/stm32f3_sysmem.o \n",
      ".\n",
      "Assembling: .././hal/stm32f3/stm32f3_startup.S\n",
      "arm-none-eabi-gcc -c -mcpu=cortex-m4 -I. -x assembler-with-cpp -mthumb -mfloat-abi=hard -mfpu=fpv4-sp-d16 -fmessage-length=0 -ffunction-sections -DF_CPU=7372800 -Wa,-gstabs,-adhlns=objdir/stm32f3_startup.lst -I.././simpleserial/ -I.././hal -I.././hal/stm32f3 -I.././hal/stm32f3/CMSIS -I.././hal/stm32f3/CMSIS/core -I.././hal/stm32f3/CMSIS/device -I.././hal/stm32f4/Legacy -I.././crypto/ .././hal/stm32f3/stm32f3_startup.S -o objdir/stm32f3_startup.o\n",
      ".\n",
      "Linking: glitchsimple-CWLITEARM.elf\n",
      "arm-none-eabi-gcc -mcpu=cortex-m4 -I. -mthumb -mfloat-abi=hard -mfpu=fpv4-sp-d16 -fmessage-length=0 -ffunction-sections -gdwarf-2 -DSS_VER=SS_VER_1_1 -DSTM32F303xC -DSTM32F3 -DSTM32 -DDEBUG -DHAL_TYPE=HAL_stm32f3 -DPLATFORM=CWLITEARM -DF_CPU=7372800UL -Os -funsigned-char -funsigned-bitfields -fshort-enums -Wall -Wstrict-prototypes -Wa,-adhlns=objdir/glitchsimple.o -I.././simpleserial/ -I.././hal -I.././hal/stm32f3 -I.././hal/stm32f3/CMSIS -I.././hal/stm32f3/CMSIS/core -I.././hal/stm32f3/CMSIS/device -I.././hal/stm32f4/Legacy -I.././crypto/ -std=gnu99 -MMD -MP -MF .dep/glitchsimple-CWLITEARM.elf.d objdir/glitchsimple.o objdir/simpleserial.o objdir/stm32f3_hal.o objdir/stm32f3_hal_lowlevel.o objdir/stm32f3_sysmem.o objdir/stm32f3_startup.o --output glitchsimple-CWLITEARM.elf --specs=nano.specs -T .././hal/stm32f3/LinkerScript.ld -Wl,--gc-sections -lm -Wl,-Map=glitchsimple-CWLITEARM.map,--cref   -lm  \n",
      ".\n",
      "Creating load file for Flash: glitchsimple-CWLITEARM.hex\n",
      "arm-none-eabi-objcopy -O ihex -R .eeprom -R .fuse -R .lock -R .signature glitchsimple-CWLITEARM.elf glitchsimple-CWLITEARM.hex\n",
      ".\n",
      "Creating load file for EEPROM: glitchsimple-CWLITEARM.eep\n",
      "arm-none-eabi-objcopy -j .eeprom --set-section-flags=.eeprom=\"alloc,load\" \\\n",
      "--change-section-lma .eeprom=0 --no-change-warnings -O ihex glitchsimple-CWLITEARM.elf glitchsimple-CWLITEARM.eep || exit 0\n",
      ".\n",
      "Creating Extended Listing: glitchsimple-CWLITEARM.lss\n",
      "arm-none-eabi-objdump -h -S -z glitchsimple-CWLITEARM.elf > glitchsimple-CWLITEARM.lss\n",
      ".\n",
      "Creating Symbol Table: glitchsimple-CWLITEARM.sym\n",
      "arm-none-eabi-nm -n glitchsimple-CWLITEARM.elf > glitchsimple-CWLITEARM.sym\n",
      "Size after:\n",
      "   text\t   data\t    bss\t    dec\t    hex\tfilename\n",
      "   4548\t      8\t   1176\t   5732\t   1664\tglitchsimple-CWLITEARM.elf\n",
      "+--------------------------------------------------------\n",
      "+ Built for platform CW-Lite Arm (STM32F3)\n",
      "+--------------------------------------------------------\n"
     ]
    }
   ],
   "source": [
    "%%bash -s \"$PLATFORM\" \"$CRYPTO_TARGET\"\n",
    "cd ../../hardware/victims/firmware/glitch-simple-lab1\n",
    "make PLATFORM=$1 CRYPTO_TARGET=$2"
   ]
  },
  {
   "cell_type": "code",
   "execution_count": 47,
   "metadata": {},
   "outputs": [
    {
     "name": "stdout",
     "output_type": "stream",
     "text": [
      "Detected known STMF32: STM32F302xB(C)/303xB(C)\n",
      "Extended erase (0x44), this can take ten seconds or more\n",
      "Attempting to programming 4555 bytes at 0x8000000\n",
      "STM32F Programming flash...\n",
      "STM32F Reading flash...\n",
      "Verified flash OK, 4555 bytes\n"
     ]
    }
   ],
   "source": [
    "program_target(scope, fw_path)"
   ]
  },
  {
   "cell_type": "markdown",
   "metadata": {},
   "source": [
    "Now let's make sure we can communicate with the password check with a successful password:"
   ]
  },
  {
   "cell_type": "code",
   "execution_count": 48,
   "metadata": {},
   "outputs": [
    {
     "name": "stdout",
     "output_type": "stream",
     "text": [
      "\u0000hello\n",
      "Password:Welcome\n",
      "Password:\n"
     ]
    }
   ],
   "source": [
    "scope.arm()\n",
    "target.ser.write(\"touch\\n\")\n",
    "\n",
    "ret = scope.capture()\n",
    "if ret:\n",
    "    print(\"Scope capture timed out\")\n",
    "num_chars = target.ser.inWaiting()\n",
    "response = target.ser.read(num_chars, timeout = 10)\n",
    "print(response)"
   ]
  },
  {
   "cell_type": "markdown",
   "metadata": {},
   "source": [
    "and an unsuccessful one:"
   ]
  },
  {
   "cell_type": "code",
   "execution_count": 49,
   "metadata": {},
   "outputs": [
    {
     "name": "stdout",
     "output_type": "stream",
     "text": [
      "Denied\n",
      "Password:\n"
     ]
    }
   ],
   "source": [
    "scope.arm()\n",
    "target.ser.write(\"x\\n\")\n",
    "\n",
    "ret = scope.capture()\n",
    "if ret:\n",
    "    print(\"Scope capture timed out\")\n",
    "num_chars = target.ser.inWaiting()\n",
    "response = target.ser.read(num_chars, timeout = 10)\n",
    "print(response)"
   ]
  },
  {
   "cell_type": "markdown",
   "metadata": {},
   "source": [
    "Let's make some small modifications to our previous glitch loop. We no longer have to reset the target each round. We'll also need to send our password check each time.\n",
    "\n",
    "Since we no longer are resetting the target each attempt, we also have to handle when the device crashes. To do this, we'll reset the target if the capture times out."
   ]
  },
  {
   "cell_type": "code",
   "execution_count": 56,
   "metadata": {
    "scrolled": true
   },
   "outputs": [
    {
     "name": "stdout",
     "output_type": "stream",
     "text": [
      "clk_src     = clkgen\n",
      "width       = 10.9375\n",
      "width_fine  = 0\n",
      "offset      = -28.90625\n",
      "offset_fine = 0\n",
      "trigger_src = ext_single\n",
      "arm_timing  = after_scope\n",
      "ext_offset  = 37\n",
      "repeat      = 1\n",
      "output      = clock_xor\n",
      "\n"
     ]
    },
    {
     "name": "stderr",
     "output_type": "stream",
     "text": [
      "WARNING:root:Timeout in OpenADC capture(), trigger FORCED\n",
      "WARNING:root:Timeout in OpenADC capture(), trigger FORCED\n"
     ]
    },
    {
     "name": "stdout",
     "output_type": "stream",
     "text": [
      "Timeout happened during acquisition\n"
     ]
    },
    {
     "name": "stderr",
     "output_type": "stream",
     "text": [
      "WARNING:root:Timeout in OpenADC capture(), trigger FORCED\n",
      "WARNING:root:Timeout in OpenADC capture(), trigger FORCED\n"
     ]
    },
    {
     "name": "stdout",
     "output_type": "stream",
     "text": [
      "Timeout happened during acquisition\n"
     ]
    },
    {
     "name": "stderr",
     "output_type": "stream",
     "text": [
      "WARNING:root:Timeout in OpenADC capture(), trigger FORCED\n",
      "WARNING:root:Timeout in OpenADC capture(), trigger FORCED\n"
     ]
    },
    {
     "name": "stdout",
     "output_type": "stream",
     "text": [
      "Timeout happened during acquisition\n"
     ]
    },
    {
     "name": "stderr",
     "output_type": "stream",
     "text": [
      "WARNING:root:Timeout in OpenADC capture(), trigger FORCED\n",
      "WARNING:root:Timeout in OpenADC capture(), trigger FORCED\n"
     ]
    },
    {
     "name": "stdout",
     "output_type": "stream",
     "text": [
      "Timeout happened during acquisition\n"
     ]
    },
    {
     "name": "stderr",
     "output_type": "stream",
     "text": [
      "WARNING:root:Timeout in OpenADC capture(), trigger FORCED\n",
      "WARNING:root:Timeout in OpenADC capture(), trigger FORCED\n"
     ]
    },
    {
     "name": "stdout",
     "output_type": "stream",
     "text": [
      "Timeout happened during acquisition\n"
     ]
    },
    {
     "name": "stderr",
     "output_type": "stream",
     "text": [
      "WARNING:root:Timeout in OpenADC capture(), trigger FORCED\n",
      "WARNING:root:Timeout in OpenADC capture(), trigger FORCED\n"
     ]
    },
    {
     "name": "stdout",
     "output_type": "stream",
     "text": [
      "Timeout happened during acquisition\n"
     ]
    },
    {
     "name": "stderr",
     "output_type": "stream",
     "text": [
      "WARNING:root:Timeout in OpenADC capture(), trigger FORCED\n",
      "WARNING:root:Timeout in OpenADC capture(), trigger FORCED\n"
     ]
    },
    {
     "name": "stdout",
     "output_type": "stream",
     "text": [
      "Timeout happened during acquisition\n"
     ]
    },
    {
     "name": "stderr",
     "output_type": "stream",
     "text": [
      "WARNING:root:Timeout in OpenADC capture(), trigger FORCED\n",
      "WARNING:root:Timeout in OpenADC capture(), trigger FORCED\n"
     ]
    },
    {
     "name": "stdout",
     "output_type": "stream",
     "text": [
      "Timeout happened during acquisition\n"
     ]
    },
    {
     "name": "stderr",
     "output_type": "stream",
     "text": [
      "WARNING:root:Timeout in OpenADC capture(), trigger FORCED\n",
      "WARNING:root:Timeout in OpenADC capture(), trigger FORCED\n"
     ]
    },
    {
     "name": "stdout",
     "output_type": "stream",
     "text": [
      "Timeout happened during acquisition\n"
     ]
    },
    {
     "name": "stderr",
     "output_type": "stream",
     "text": [
      "WARNING:root:Timeout in OpenADC capture(), trigger FORCED\n",
      "WARNING:root:Timeout in OpenADC capture(), trigger FORCED\n"
     ]
    },
    {
     "name": "stdout",
     "output_type": "stream",
     "text": [
      "Timeout happened during acquisition\n"
     ]
    },
    {
     "name": "stderr",
     "output_type": "stream",
     "text": [
      "WARNING:root:Timeout in OpenADC capture(), trigger FORCED\n",
      "WARNING:root:Timeout in OpenADC capture(), trigger FORCED\n"
     ]
    },
    {
     "name": "stdout",
     "output_type": "stream",
     "text": [
      "Timeout happened during acquisition\n"
     ]
    },
    {
     "name": "stderr",
     "output_type": "stream",
     "text": [
      "WARNING:root:Timeout in OpenADC capture(), trigger FORCED\n",
      "WARNING:root:Timeout in OpenADC capture(), trigger FORCED\n"
     ]
    },
    {
     "name": "stdout",
     "output_type": "stream",
     "text": [
      "Timeout happened during acquisition\n"
     ]
    },
    {
     "name": "stderr",
     "output_type": "stream",
     "text": [
      "WARNING:root:Timeout in OpenADC capture(), trigger FORCED\n",
      "WARNING:root:Timeout in OpenADC capture(), trigger FORCED\n"
     ]
    },
    {
     "name": "stdout",
     "output_type": "stream",
     "text": [
      "Timeout happened during acquisition\n"
     ]
    },
    {
     "name": "stderr",
     "output_type": "stream",
     "text": [
      "WARNING:root:Timeout in OpenADC capture(), trigger FORCED\n",
      "WARNING:root:Timeout in OpenADC capture(), trigger FORCED\n"
     ]
    },
    {
     "name": "stdout",
     "output_type": "stream",
     "text": [
      "Timeout happened during acquisition\n"
     ]
    },
    {
     "name": "stderr",
     "output_type": "stream",
     "text": [
      "WARNING:root:Timeout in OpenADC capture(), trigger FORCED\n",
      "WARNING:root:Timeout in OpenADC capture(), trigger FORCED\n"
     ]
    },
    {
     "name": "stdout",
     "output_type": "stream",
     "text": [
      "Timeout happened during acquisition\n"
     ]
    },
    {
     "name": "stderr",
     "output_type": "stream",
     "text": [
      "WARNING:root:Timeout in OpenADC capture(), trigger FORCED\n",
      "WARNING:root:Timeout in OpenADC capture(), trigger FORCED\n"
     ]
    },
    {
     "name": "stdout",
     "output_type": "stream",
     "text": [
      "Timeout happened during acquisition\n"
     ]
    },
    {
     "name": "stderr",
     "output_type": "stream",
     "text": [
      "WARNING:root:Timeout in OpenADC capture(), trigger FORCED\n",
      "WARNING:root:Timeout in OpenADC capture(), trigger FORCED\n"
     ]
    },
    {
     "name": "stdout",
     "output_type": "stream",
     "text": [
      "Timeout happened during acquisition\n"
     ]
    },
    {
     "name": "stderr",
     "output_type": "stream",
     "text": [
      "WARNING:root:Timeout in OpenADC capture(), trigger FORCED\n",
      "WARNING:root:Timeout in OpenADC capture(), trigger FORCED\n"
     ]
    },
    {
     "name": "stdout",
     "output_type": "stream",
     "text": [
      "Timeout happened during acquisition\n"
     ]
    },
    {
     "name": "stderr",
     "output_type": "stream",
     "text": [
      "WARNING:root:Timeout in OpenADC capture(), trigger FORCED\n",
      "WARNING:root:Timeout in OpenADC capture(), trigger FORCED\n"
     ]
    },
    {
     "name": "stdout",
     "output_type": "stream",
     "text": [
      "Timeout happened during acquisition\n"
     ]
    },
    {
     "name": "stderr",
     "output_type": "stream",
     "text": [
      "WARNING:root:Timeout in OpenADC capture(), trigger FORCED\n",
      "WARNING:root:Timeout in OpenADC capture(), trigger FORCED\n"
     ]
    },
    {
     "name": "stdout",
     "output_type": "stream",
     "text": [
      "Timeout happened during acquisition\n"
     ]
    },
    {
     "name": "stderr",
     "output_type": "stream",
     "text": [
      "WARNING:root:Timeout in OpenADC capture(), trigger FORCED\n",
      "WARNING:root:Timeout in OpenADC capture(), trigger FORCED\n"
     ]
    },
    {
     "name": "stdout",
     "output_type": "stream",
     "text": [
      "Timeout happened during acquisition\n"
     ]
    },
    {
     "name": "stderr",
     "output_type": "stream",
     "text": [
      "WARNING:root:Timeout in OpenADC capture(), trigger FORCED\n",
      "WARNING:root:Timeout in OpenADC capture(), trigger FORCED\n"
     ]
    },
    {
     "name": "stdout",
     "output_type": "stream",
     "text": [
      "Timeout happened during acquisition\n"
     ]
    },
    {
     "name": "stderr",
     "output_type": "stream",
     "text": [
      "WARNING:root:Timeout in OpenADC capture(), trigger FORCED\n",
      "WARNING:root:Timeout in OpenADC capture(), trigger FORCED\n"
     ]
    },
    {
     "name": "stdout",
     "output_type": "stream",
     "text": [
      "Timeout happened during acquisition\n"
     ]
    },
    {
     "name": "stderr",
     "output_type": "stream",
     "text": [
      "WARNING:root:Timeout in OpenADC capture(), trigger FORCED\n",
      "WARNING:root:Timeout in OpenADC capture(), trigger FORCED\n"
     ]
    },
    {
     "name": "stdout",
     "output_type": "stream",
     "text": [
      "Timeout happened during acquisition\n"
     ]
    },
    {
     "name": "stderr",
     "output_type": "stream",
     "text": [
      "WARNING:root:Timeout in OpenADC capture(), trigger FORCED\n",
      "WARNING:root:Timeout in OpenADC capture(), trigger FORCED\n"
     ]
    },
    {
     "name": "stdout",
     "output_type": "stream",
     "text": [
      "Timeout happened during acquisition\n"
     ]
    },
    {
     "name": "stderr",
     "output_type": "stream",
     "text": [
      "WARNING:root:Timeout in OpenADC capture(), trigger FORCED\n",
      "WARNING:root:Timeout in OpenADC capture(), trigger FORCED\n"
     ]
    },
    {
     "name": "stdout",
     "output_type": "stream",
     "text": [
      "Timeout happened during acquisition\n"
     ]
    },
    {
     "name": "stderr",
     "output_type": "stream",
     "text": [
      "WARNING:root:Timeout in OpenADC capture(), trigger FORCED\n",
      "WARNING:root:Timeout in OpenADC capture(), trigger FORCED\n"
     ]
    },
    {
     "name": "stdout",
     "output_type": "stream",
     "text": [
      "Timeout happened during acquisition\n"
     ]
    },
    {
     "name": "stderr",
     "output_type": "stream",
     "text": [
      "WARNING:root:Timeout in OpenADC capture(), trigger FORCED\n",
      "WARNING:root:Timeout in OpenADC capture(), trigger FORCED\n"
     ]
    },
    {
     "name": "stdout",
     "output_type": "stream",
     "text": [
      "Timeout happened during acquisition\n"
     ]
    },
    {
     "name": "stderr",
     "output_type": "stream",
     "text": [
      "WARNING:root:Timeout in OpenADC capture(), trigger FORCED\n",
      "WARNING:root:Timeout in OpenADC capture(), trigger FORCED\n"
     ]
    },
    {
     "name": "stdout",
     "output_type": "stream",
     "text": [
      "Timeout happened during acquisition\n"
     ]
    },
    {
     "name": "stderr",
     "output_type": "stream",
     "text": [
      "WARNING:root:Timeout in OpenADC capture(), trigger FORCED\n",
      "WARNING:root:Timeout in OpenADC capture(), trigger FORCED\n"
     ]
    },
    {
     "name": "stdout",
     "output_type": "stream",
     "text": [
      "Timeout happened during acquisition\n"
     ]
    },
    {
     "name": "stderr",
     "output_type": "stream",
     "text": [
      "WARNING:root:Timeout in OpenADC capture(), trigger FORCED\n",
      "WARNING:root:Timeout in OpenADC capture(), trigger FORCED\n"
     ]
    },
    {
     "name": "stdout",
     "output_type": "stream",
     "text": [
      "Timeout happened during acquisition\n"
     ]
    },
    {
     "name": "stderr",
     "output_type": "stream",
     "text": [
      "WARNING:root:Timeout in OpenADC capture(), trigger FORCED\n",
      "WARNING:root:Timeout in OpenADC capture(), trigger FORCED\n"
     ]
    },
    {
     "name": "stdout",
     "output_type": "stream",
     "text": [
      "Timeout happened during acquisition\n"
     ]
    },
    {
     "name": "stderr",
     "output_type": "stream",
     "text": [
      "WARNING:root:Timeout in OpenADC capture(), trigger FORCED\n",
      "WARNING:root:Timeout in OpenADC capture(), trigger FORCED\n"
     ]
    },
    {
     "name": "stdout",
     "output_type": "stream",
     "text": [
      "Timeout happened during acquisition\n"
     ]
    },
    {
     "name": "stderr",
     "output_type": "stream",
     "text": [
      "WARNING:root:Timeout in OpenADC capture(), trigger FORCED\n",
      "WARNING:root:Timeout in OpenADC capture(), trigger FORCED\n"
     ]
    },
    {
     "name": "stdout",
     "output_type": "stream",
     "text": [
      "Timeout happened during acquisition\n"
     ]
    },
    {
     "name": "stderr",
     "output_type": "stream",
     "text": [
      "WARNING:root:Timeout in OpenADC capture(), trigger FORCED\n",
      "WARNING:root:Timeout in OpenADC capture(), trigger FORCED\n"
     ]
    },
    {
     "name": "stdout",
     "output_type": "stream",
     "text": [
      "Timeout happened during acquisition\n"
     ]
    },
    {
     "name": "stderr",
     "output_type": "stream",
     "text": [
      "WARNING:root:Timeout in OpenADC capture(), trigger FORCED\n",
      "WARNING:root:Timeout in OpenADC capture(), trigger FORCED\n"
     ]
    },
    {
     "name": "stdout",
     "output_type": "stream",
     "text": [
      "Timeout happened during acquisition\n"
     ]
    },
    {
     "name": "stderr",
     "output_type": "stream",
     "text": [
      "WARNING:root:Timeout in OpenADC capture(), trigger FORCED\n",
      "WARNING:root:Timeout in OpenADC capture(), trigger FORCED\n"
     ]
    },
    {
     "name": "stdout",
     "output_type": "stream",
     "text": [
      "Timeout happened during acquisition\n"
     ]
    },
    {
     "name": "stderr",
     "output_type": "stream",
     "text": [
      "WARNING:root:Timeout in OpenADC capture(), trigger FORCED\n",
      "WARNING:root:Timeout in OpenADC capture(), trigger FORCED\n"
     ]
    },
    {
     "name": "stdout",
     "output_type": "stream",
     "text": [
      "Timeout happened during acquisition\n"
     ]
    },
    {
     "name": "stderr",
     "output_type": "stream",
     "text": [
      "WARNING:root:Timeout in OpenADC capture(), trigger FORCED\n",
      "WARNING:root:Timeout in OpenADC capture(), trigger FORCED\n"
     ]
    },
    {
     "name": "stdout",
     "output_type": "stream",
     "text": [
      "Timeout happened during acquisition\n"
     ]
    },
    {
     "name": "stderr",
     "output_type": "stream",
     "text": [
      "WARNING:root:Timeout in OpenADC capture(), trigger FORCED\n",
      "WARNING:root:Timeout in OpenADC capture(), trigger FORCED\n"
     ]
    },
    {
     "name": "stdout",
     "output_type": "stream",
     "text": [
      "Timeout happened during acquisition\n"
     ]
    },
    {
     "name": "stderr",
     "output_type": "stream",
     "text": [
      "WARNING:root:Timeout in OpenADC capture(), trigger FORCED\n",
      "WARNING:root:Timeout in OpenADC capture(), trigger FORCED\n"
     ]
    },
    {
     "name": "stdout",
     "output_type": "stream",
     "text": [
      "Timeout happened during acquisition\n"
     ]
    },
    {
     "name": "stderr",
     "output_type": "stream",
     "text": [
      "WARNING:root:Timeout in OpenADC capture(), trigger FORCED\n",
      "WARNING:root:Timeout in OpenADC capture(), trigger FORCED\n"
     ]
    },
    {
     "name": "stdout",
     "output_type": "stream",
     "text": [
      "Timeout happened during acquisition\n"
     ]
    },
    {
     "name": "stderr",
     "output_type": "stream",
     "text": [
      "WARNING:root:Timeout in OpenADC capture(), trigger FORCED\n",
      "WARNING:root:Timeout in OpenADC capture(), trigger FORCED\n"
     ]
    },
    {
     "name": "stdout",
     "output_type": "stream",
     "text": [
      "Timeout happened during acquisition\n"
     ]
    },
    {
     "name": "stderr",
     "output_type": "stream",
     "text": [
      "WARNING:root:Timeout in OpenADC capture(), trigger FORCED\n",
      "WARNING:root:Timeout in OpenADC capture(), trigger FORCED\n"
     ]
    },
    {
     "name": "stdout",
     "output_type": "stream",
     "text": [
      "Timeout happened during acquisition\n"
     ]
    },
    {
     "name": "stderr",
     "output_type": "stream",
     "text": [
      "WARNING:root:Timeout in OpenADC capture(), trigger FORCED\n",
      "WARNING:root:Timeout in OpenADC capture(), trigger FORCED\n"
     ]
    },
    {
     "name": "stdout",
     "output_type": "stream",
     "text": [
      "Timeout happened during acquisition\n"
     ]
    },
    {
     "name": "stderr",
     "output_type": "stream",
     "text": [
      "WARNING:root:Timeout in OpenADC capture(), trigger FORCED\n",
      "WARNING:root:Timeout in OpenADC capture(), trigger FORCED\n"
     ]
    },
    {
     "name": "stdout",
     "output_type": "stream",
     "text": [
      "Timeout happened during acquisition\n"
     ]
    },
    {
     "name": "stderr",
     "output_type": "stream",
     "text": [
      "WARNING:root:Timeout in OpenADC capture(), trigger FORCED\n",
      "WARNING:root:Timeout in OpenADC capture(), trigger FORCED\n"
     ]
    },
    {
     "name": "stdout",
     "output_type": "stream",
     "text": [
      "Timeout happened during acquisition\n"
     ]
    },
    {
     "name": "stderr",
     "output_type": "stream",
     "text": [
      "WARNING:root:Timeout in OpenADC capture(), trigger FORCED\n",
      "WARNING:root:Timeout in OpenADC capture(), trigger FORCED\n"
     ]
    },
    {
     "name": "stdout",
     "output_type": "stream",
     "text": [
      "Timeout happened during acquisition\n"
     ]
    },
    {
     "name": "stderr",
     "output_type": "stream",
     "text": [
      "WARNING:root:Timeout in OpenADC capture(), trigger FORCED\n",
      "WARNING:root:Timeout in OpenADC capture(), trigger FORCED\n"
     ]
    },
    {
     "name": "stdout",
     "output_type": "stream",
     "text": [
      "Timeout happened during acquisition\n"
     ]
    },
    {
     "name": "stderr",
     "output_type": "stream",
     "text": [
      "WARNING:root:Timeout in OpenADC capture(), trigger FORCED\n",
      "WARNING:root:Timeout in OpenADC capture(), trigger FORCED\n"
     ]
    },
    {
     "name": "stdout",
     "output_type": "stream",
     "text": [
      "Timeout happened during acquisition\n"
     ]
    },
    {
     "name": "stderr",
     "output_type": "stream",
     "text": [
      "WARNING:root:Timeout in OpenADC capture(), trigger FORCED\n",
      "WARNING:root:Timeout in OpenADC capture(), trigger FORCED\n"
     ]
    },
    {
     "name": "stdout",
     "output_type": "stream",
     "text": [
      "Timeout happened during acquisition\n"
     ]
    },
    {
     "name": "stderr",
     "output_type": "stream",
     "text": [
      "WARNING:root:Timeout in OpenADC capture(), trigger FORCED\n",
      "WARNING:root:Timeout in OpenADC capture(), trigger FORCED\n"
     ]
    },
    {
     "name": "stdout",
     "output_type": "stream",
     "text": [
      "Timeout happened during acquisition\n"
     ]
    },
    {
     "name": "stderr",
     "output_type": "stream",
     "text": [
      "WARNING:root:Timeout in OpenADC capture(), trigger FORCED\n",
      "WARNING:root:Timeout in OpenADC capture(), trigger FORCED\n"
     ]
    },
    {
     "name": "stdout",
     "output_type": "stream",
     "text": [
      "Timeout happened during acquisition\n"
     ]
    },
    {
     "name": "stderr",
     "output_type": "stream",
     "text": [
      "WARNING:root:Timeout in OpenADC capture(), trigger FORCED\n",
      "WARNING:root:Timeout in OpenADC capture(), trigger FORCED\n"
     ]
    },
    {
     "name": "stdout",
     "output_type": "stream",
     "text": [
      "Timeout happened during acquisition\n"
     ]
    },
    {
     "name": "stderr",
     "output_type": "stream",
     "text": [
      "WARNING:root:Timeout in OpenADC capture(), trigger FORCED\n",
      "WARNING:root:Timeout in OpenADC capture(), trigger FORCED\n"
     ]
    },
    {
     "name": "stdout",
     "output_type": "stream",
     "text": [
      "Timeout happened during acquisition\n"
     ]
    },
    {
     "name": "stderr",
     "output_type": "stream",
     "text": [
      "WARNING:root:Timeout in OpenADC capture(), trigger FORCED\n",
      "WARNING:root:Timeout in OpenADC capture(), trigger FORCED\n"
     ]
    },
    {
     "name": "stdout",
     "output_type": "stream",
     "text": [
      "Timeout happened during acquisition\n"
     ]
    },
    {
     "name": "stderr",
     "output_type": "stream",
     "text": [
      "WARNING:root:Timeout in OpenADC capture(), trigger FORCED\n",
      "WARNING:root:Timeout in OpenADC capture(), trigger FORCED\n"
     ]
    },
    {
     "name": "stdout",
     "output_type": "stream",
     "text": [
      "Timeout happened during acquisition\n"
     ]
    },
    {
     "name": "stderr",
     "output_type": "stream",
     "text": [
      "WARNING:root:Timeout in OpenADC capture(), trigger FORCED\n",
      "WARNING:root:Timeout in OpenADC capture(), trigger FORCED\n"
     ]
    },
    {
     "name": "stdout",
     "output_type": "stream",
     "text": [
      "Timeout happened during acquisition\n"
     ]
    },
    {
     "name": "stderr",
     "output_type": "stream",
     "text": [
      "WARNING:root:Timeout in OpenADC capture(), trigger FORCED\n",
      "WARNING:root:Timeout in OpenADC capture(), trigger FORCED\n"
     ]
    },
    {
     "name": "stdout",
     "output_type": "stream",
     "text": [
      "Timeout happened during acquisition\n"
     ]
    },
    {
     "name": "stderr",
     "output_type": "stream",
     "text": [
      "WARNING:root:Timeout in OpenADC capture(), trigger FORCED\n",
      "WARNING:root:Timeout in OpenADC capture(), trigger FORCED\n"
     ]
    },
    {
     "name": "stdout",
     "output_type": "stream",
     "text": [
      "Timeout happened during acquisition\n"
     ]
    },
    {
     "name": "stderr",
     "output_type": "stream",
     "text": [
      "WARNING:root:Timeout in OpenADC capture(), trigger FORCED\n",
      "WARNING:root:Timeout in OpenADC capture(), trigger FORCED\n"
     ]
    },
    {
     "name": "stdout",
     "output_type": "stream",
     "text": [
      "Timeout happened during acquisition\n"
     ]
    },
    {
     "name": "stderr",
     "output_type": "stream",
     "text": [
      "WARNING:root:Timeout in OpenADC capture(), trigger FORCED\n",
      "WARNING:root:Timeout in OpenADC capture(), trigger FORCED\n"
     ]
    },
    {
     "name": "stdout",
     "output_type": "stream",
     "text": [
      "Timeout happened during acquisition\n"
     ]
    },
    {
     "name": "stderr",
     "output_type": "stream",
     "text": [
      "WARNING:root:Timeout in OpenADC capture(), trigger FORCED\n",
      "WARNING:root:Timeout in OpenADC capture(), trigger FORCED\n"
     ]
    },
    {
     "name": "stdout",
     "output_type": "stream",
     "text": [
      "Timeout happened during acquisition\n"
     ]
    },
    {
     "name": "stderr",
     "output_type": "stream",
     "text": [
      "WARNING:root:Timeout in OpenADC capture(), trigger FORCED\n",
      "WARNING:root:Timeout in OpenADC capture(), trigger FORCED\n"
     ]
    },
    {
     "name": "stdout",
     "output_type": "stream",
     "text": [
      "Timeout happened during acquisition\n"
     ]
    },
    {
     "name": "stderr",
     "output_type": "stream",
     "text": [
      "WARNING:root:Timeout in OpenADC capture(), trigger FORCED\n",
      "WARNING:root:Timeout in OpenADC capture(), trigger FORCED\n"
     ]
    },
    {
     "name": "stdout",
     "output_type": "stream",
     "text": [
      "Timeout happened during acquisition\n"
     ]
    },
    {
     "name": "stderr",
     "output_type": "stream",
     "text": [
      "WARNING:root:Timeout in OpenADC capture(), trigger FORCED\n",
      "WARNING:root:Timeout in OpenADC capture(), trigger FORCED\n"
     ]
    },
    {
     "name": "stdout",
     "output_type": "stream",
     "text": [
      "Timeout happened during acquisition\n"
     ]
    },
    {
     "name": "stderr",
     "output_type": "stream",
     "text": [
      "WARNING:root:Timeout in OpenADC capture(), trigger FORCED\n",
      "WARNING:root:Timeout in OpenADC capture(), trigger FORCED\n"
     ]
    },
    {
     "name": "stdout",
     "output_type": "stream",
     "text": [
      "Timeout happened during acquisition\n"
     ]
    },
    {
     "name": "stderr",
     "output_type": "stream",
     "text": [
      "WARNING:root:Timeout in OpenADC capture(), trigger FORCED\n",
      "WARNING:root:Timeout in OpenADC capture(), trigger FORCED\n"
     ]
    },
    {
     "name": "stdout",
     "output_type": "stream",
     "text": [
      "Timeout happened during acquisition\n"
     ]
    },
    {
     "name": "stderr",
     "output_type": "stream",
     "text": [
      "WARNING:root:Timeout in OpenADC capture(), trigger FORCED\n",
      "WARNING:root:Timeout in OpenADC capture(), trigger FORCED\n"
     ]
    },
    {
     "name": "stdout",
     "output_type": "stream",
     "text": [
      "Timeout happened during acquisition\n"
     ]
    },
    {
     "name": "stderr",
     "output_type": "stream",
     "text": [
      "WARNING:root:Timeout in OpenADC capture(), trigger FORCED\n",
      "WARNING:root:Timeout in OpenADC capture(), trigger FORCED\n"
     ]
    },
    {
     "name": "stdout",
     "output_type": "stream",
     "text": [
      "Timeout happened during acquisition\n"
     ]
    },
    {
     "name": "stderr",
     "output_type": "stream",
     "text": [
      "WARNING:root:Timeout in OpenADC capture(), trigger FORCED\n",
      "WARNING:root:Timeout in OpenADC capture(), trigger FORCED\n"
     ]
    },
    {
     "name": "stdout",
     "output_type": "stream",
     "text": [
      "Timeout happened during acquisition\n"
     ]
    },
    {
     "name": "stderr",
     "output_type": "stream",
     "text": [
      "WARNING:root:Timeout in OpenADC capture(), trigger FORCED\n",
      "WARNING:root:Timeout in OpenADC capture(), trigger FORCED\n"
     ]
    },
    {
     "name": "stdout",
     "output_type": "stream",
     "text": [
      "Timeout happened during acquisition\n"
     ]
    },
    {
     "name": "stderr",
     "output_type": "stream",
     "text": [
      "WARNING:root:Timeout in OpenADC capture(), trigger FORCED\n",
      "WARNING:root:Timeout in OpenADC capture(), trigger FORCED\n"
     ]
    },
    {
     "name": "stdout",
     "output_type": "stream",
     "text": [
      "Timeout happened during acquisition\n"
     ]
    },
    {
     "name": "stderr",
     "output_type": "stream",
     "text": [
      "WARNING:root:Timeout in OpenADC capture(), trigger FORCED\n",
      "WARNING:root:Timeout in OpenADC capture(), trigger FORCED\n"
     ]
    },
    {
     "name": "stdout",
     "output_type": "stream",
     "text": [
      "Timeout happened during acquisition\n"
     ]
    },
    {
     "name": "stderr",
     "output_type": "stream",
     "text": [
      "WARNING:root:Timeout in OpenADC capture(), trigger FORCED\n",
      "WARNING:root:Timeout in OpenADC capture(), trigger FORCED\n"
     ]
    },
    {
     "name": "stdout",
     "output_type": "stream",
     "text": [
      "Timeout happened during acquisition\n"
     ]
    },
    {
     "name": "stderr",
     "output_type": "stream",
     "text": [
      "WARNING:root:Timeout in OpenADC capture(), trigger FORCED\n",
      "WARNING:root:Timeout in OpenADC capture(), trigger FORCED\n"
     ]
    },
    {
     "name": "stdout",
     "output_type": "stream",
     "text": [
      "Timeout happened during acquisition\n"
     ]
    },
    {
     "name": "stderr",
     "output_type": "stream",
     "text": [
      "WARNING:root:Timeout in OpenADC capture(), trigger FORCED\n",
      "WARNING:root:Timeout in OpenADC capture(), trigger FORCED\n"
     ]
    },
    {
     "name": "stdout",
     "output_type": "stream",
     "text": [
      "Timeout happened during acquisition\n"
     ]
    },
    {
     "name": "stderr",
     "output_type": "stream",
     "text": [
      "WARNING:root:Timeout in OpenADC capture(), trigger FORCED\n",
      "WARNING:root:Timeout in OpenADC capture(), trigger FORCED\n"
     ]
    },
    {
     "name": "stdout",
     "output_type": "stream",
     "text": [
      "Timeout happened during acquisition\n"
     ]
    },
    {
     "name": "stderr",
     "output_type": "stream",
     "text": [
      "WARNING:root:Timeout in OpenADC capture(), trigger FORCED\n",
      "WARNING:root:Timeout in OpenADC capture(), trigger FORCED\n"
     ]
    },
    {
     "name": "stdout",
     "output_type": "stream",
     "text": [
      "Timeout happened during acquisition\n"
     ]
    },
    {
     "name": "stderr",
     "output_type": "stream",
     "text": [
      "WARNING:root:Timeout in OpenADC capture(), trigger FORCED\n",
      "WARNING:root:Timeout in OpenADC capture(), trigger FORCED\n"
     ]
    },
    {
     "name": "stdout",
     "output_type": "stream",
     "text": [
      "Timeout happened during acquisition\n"
     ]
    },
    {
     "name": "stderr",
     "output_type": "stream",
     "text": [
      "WARNING:root:Timeout in OpenADC capture(), trigger FORCED\n",
      "WARNING:root:Timeout in OpenADC capture(), trigger FORCED\n"
     ]
    },
    {
     "name": "stdout",
     "output_type": "stream",
     "text": [
      "Timeout happened during acquisition\n"
     ]
    },
    {
     "name": "stderr",
     "output_type": "stream",
     "text": [
      "WARNING:root:Timeout in OpenADC capture(), trigger FORCED\n",
      "WARNING:root:Timeout in OpenADC capture(), trigger FORCED\n"
     ]
    },
    {
     "name": "stdout",
     "output_type": "stream",
     "text": [
      "Timeout happened during acquisition\n"
     ]
    },
    {
     "name": "stderr",
     "output_type": "stream",
     "text": [
      "WARNING:root:Timeout in OpenADC capture(), trigger FORCED\n",
      "WARNING:root:Timeout in OpenADC capture(), trigger FORCED\n"
     ]
    },
    {
     "name": "stdout",
     "output_type": "stream",
     "text": [
      "Timeout happened during acquisition\n"
     ]
    },
    {
     "name": "stderr",
     "output_type": "stream",
     "text": [
      "WARNING:root:Timeout in OpenADC capture(), trigger FORCED\n",
      "WARNING:root:Timeout in OpenADC capture(), trigger FORCED\n"
     ]
    },
    {
     "name": "stdout",
     "output_type": "stream",
     "text": [
      "Timeout happened during acquisition\n"
     ]
    },
    {
     "name": "stderr",
     "output_type": "stream",
     "text": [
      "WARNING:root:Timeout in OpenADC capture(), trigger FORCED\n",
      "WARNING:root:Timeout in OpenADC capture(), trigger FORCED\n"
     ]
    },
    {
     "name": "stdout",
     "output_type": "stream",
     "text": [
      "Timeout happened during acquisition\n"
     ]
    },
    {
     "name": "stderr",
     "output_type": "stream",
     "text": [
      "WARNING:root:Timeout in OpenADC capture(), trigger FORCED\n",
      "WARNING:root:Timeout in OpenADC capture(), trigger FORCED\n"
     ]
    },
    {
     "name": "stdout",
     "output_type": "stream",
     "text": [
      "Timeout happened during acquisition\n"
     ]
    },
    {
     "name": "stderr",
     "output_type": "stream",
     "text": [
      "WARNING:root:Timeout in OpenADC capture(), trigger FORCED\n",
      "WARNING:root:Timeout in OpenADC capture(), trigger FORCED\n"
     ]
    },
    {
     "name": "stdout",
     "output_type": "stream",
     "text": [
      "Timeout happened during acquisition\n"
     ]
    },
    {
     "name": "stderr",
     "output_type": "stream",
     "text": [
      "WARNING:root:Timeout in OpenADC capture(), trigger FORCED\n",
      "WARNING:root:Timeout in OpenADC capture(), trigger FORCED\n"
     ]
    },
    {
     "name": "stdout",
     "output_type": "stream",
     "text": [
      "Timeout happened during acquisition\n"
     ]
    },
    {
     "name": "stderr",
     "output_type": "stream",
     "text": [
      "WARNING:root:Timeout in OpenADC capture(), trigger FORCED\n",
      "WARNING:root:Timeout in OpenADC capture(), trigger FORCED\n"
     ]
    },
    {
     "name": "stdout",
     "output_type": "stream",
     "text": [
      "Timeout happened during acquisition\n"
     ]
    },
    {
     "name": "stderr",
     "output_type": "stream",
     "text": [
      "WARNING:root:Timeout in OpenADC capture(), trigger FORCED\n",
      "WARNING:root:Timeout in OpenADC capture(), trigger FORCED\n"
     ]
    },
    {
     "name": "stdout",
     "output_type": "stream",
     "text": [
      "Timeout happened during acquisition\n"
     ]
    },
    {
     "name": "stderr",
     "output_type": "stream",
     "text": [
      "WARNING:root:Timeout in OpenADC capture(), trigger FORCED\n",
      "WARNING:root:Timeout in OpenADC capture(), trigger FORCED\n"
     ]
    },
    {
     "name": "stdout",
     "output_type": "stream",
     "text": [
      "Timeout happened during acquisition\n"
     ]
    },
    {
     "name": "stderr",
     "output_type": "stream",
     "text": [
      "WARNING:root:Timeout in OpenADC capture(), trigger FORCED\n",
      "WARNING:root:Timeout in OpenADC capture(), trigger FORCED\n"
     ]
    },
    {
     "name": "stdout",
     "output_type": "stream",
     "text": [
      "Timeout happened during acquisition\n"
     ]
    },
    {
     "name": "stderr",
     "output_type": "stream",
     "text": [
      "WARNING:root:Timeout in OpenADC capture(), trigger FORCED\n",
      "WARNING:root:Timeout in OpenADC capture(), trigger FORCED\n"
     ]
    },
    {
     "name": "stdout",
     "output_type": "stream",
     "text": [
      "Timeout happened during acquisition\n"
     ]
    },
    {
     "name": "stderr",
     "output_type": "stream",
     "text": [
      "WARNING:root:Timeout in OpenADC capture(), trigger FORCED\n",
      "WARNING:root:Timeout in OpenADC capture(), trigger FORCED\n"
     ]
    },
    {
     "name": "stdout",
     "output_type": "stream",
     "text": [
      "Timeout happened during acquisition\n"
     ]
    },
    {
     "name": "stderr",
     "output_type": "stream",
     "text": [
      "WARNING:root:Timeout in OpenADC capture(), trigger FORCED\n",
      "WARNING:root:Timeout in OpenADC capture(), trigger FORCED\n"
     ]
    },
    {
     "name": "stdout",
     "output_type": "stream",
     "text": [
      "Timeout happened during acquisition\n"
     ]
    },
    {
     "name": "stderr",
     "output_type": "stream",
     "text": [
      "WARNING:root:Timeout in OpenADC capture(), trigger FORCED\n",
      "WARNING:root:Timeout in OpenADC capture(), trigger FORCED\n"
     ]
    },
    {
     "name": "stdout",
     "output_type": "stream",
     "text": [
      "Timeout happened during acquisition\n"
     ]
    },
    {
     "name": "stderr",
     "output_type": "stream",
     "text": [
      "WARNING:root:Timeout in OpenADC capture(), trigger FORCED\n",
      "WARNING:root:Timeout in OpenADC capture(), trigger FORCED\n"
     ]
    },
    {
     "name": "stdout",
     "output_type": "stream",
     "text": [
      "Timeout happened during acquisition\n"
     ]
    },
    {
     "name": "stderr",
     "output_type": "stream",
     "text": [
      "WARNING:root:Timeout in OpenADC capture(), trigger FORCED\n",
      "WARNING:root:Timeout in OpenADC capture(), trigger FORCED\n"
     ]
    },
    {
     "name": "stdout",
     "output_type": "stream",
     "text": [
      "Timeout happened during acquisition\n"
     ]
    },
    {
     "name": "stderr",
     "output_type": "stream",
     "text": [
      "WARNING:root:Timeout in OpenADC capture(), trigger FORCED\n",
      "WARNING:root:Timeout in OpenADC capture(), trigger FORCED\n"
     ]
    },
    {
     "name": "stdout",
     "output_type": "stream",
     "text": [
      "Timeout happened during acquisition\n"
     ]
    },
    {
     "name": "stderr",
     "output_type": "stream",
     "text": [
      "WARNING:root:Timeout in OpenADC capture(), trigger FORCED\n",
      "WARNING:root:Timeout in OpenADC capture(), trigger FORCED\n"
     ]
    },
    {
     "name": "stdout",
     "output_type": "stream",
     "text": [
      "Timeout happened during acquisition\n"
     ]
    },
    {
     "name": "stderr",
     "output_type": "stream",
     "text": [
      "WARNING:root:Timeout in OpenADC capture(), trigger FORCED\n",
      "WARNING:root:Timeout in OpenADC capture(), trigger FORCED\n"
     ]
    },
    {
     "name": "stdout",
     "output_type": "stream",
     "text": [
      "Timeout happened during acquisition\n"
     ]
    },
    {
     "name": "stderr",
     "output_type": "stream",
     "text": [
      "WARNING:root:Timeout in OpenADC capture(), trigger FORCED\n",
      "WARNING:root:Timeout in OpenADC capture(), trigger FORCED\n"
     ]
    },
    {
     "name": "stdout",
     "output_type": "stream",
     "text": [
      "Timeout happened during acquisition\n"
     ]
    },
    {
     "name": "stderr",
     "output_type": "stream",
     "text": [
      "WARNING:root:Timeout in OpenADC capture(), trigger FORCED\n",
      "WARNING:root:Timeout in OpenADC capture(), trigger FORCED\n"
     ]
    },
    {
     "name": "stdout",
     "output_type": "stream",
     "text": [
      "Timeout happened during acquisition\n"
     ]
    },
    {
     "name": "stderr",
     "output_type": "stream",
     "text": [
      "WARNING:root:Timeout in OpenADC capture(), trigger FORCED\n",
      "WARNING:root:Timeout in OpenADC capture(), trigger FORCED\n"
     ]
    },
    {
     "name": "stdout",
     "output_type": "stream",
     "text": [
      "Timeout happened during acquisition\n"
     ]
    },
    {
     "name": "stderr",
     "output_type": "stream",
     "text": [
      "WARNING:root:Timeout in OpenADC capture(), trigger FORCED\n",
      "WARNING:root:Timeout in OpenADC capture(), trigger FORCED\n"
     ]
    },
    {
     "name": "stdout",
     "output_type": "stream",
     "text": [
      "Timeout happened during acquisition\n"
     ]
    },
    {
     "name": "stderr",
     "output_type": "stream",
     "text": [
      "WARNING:root:Timeout in OpenADC capture(), trigger FORCED\n",
      "WARNING:root:Timeout in OpenADC capture(), trigger FORCED\n"
     ]
    },
    {
     "name": "stdout",
     "output_type": "stream",
     "text": [
      "Timeout happened during acquisition\n"
     ]
    },
    {
     "name": "stderr",
     "output_type": "stream",
     "text": [
      "WARNING:root:Timeout in OpenADC capture(), trigger FORCED\n",
      "WARNING:root:Timeout in OpenADC capture(), trigger FORCED\n"
     ]
    },
    {
     "name": "stdout",
     "output_type": "stream",
     "text": [
      "Timeout happened during acquisition\n"
     ]
    },
    {
     "name": "stderr",
     "output_type": "stream",
     "text": [
      "WARNING:root:Timeout in OpenADC capture(), trigger FORCED\n",
      "WARNING:root:Timeout in OpenADC capture(), trigger FORCED\n"
     ]
    },
    {
     "name": "stdout",
     "output_type": "stream",
     "text": [
      "Timeout happened during acquisition\n"
     ]
    },
    {
     "name": "stderr",
     "output_type": "stream",
     "text": [
      "WARNING:root:Timeout in OpenADC capture(), trigger FORCED\n",
      "WARNING:root:Timeout in OpenADC capture(), trigger FORCED\n"
     ]
    },
    {
     "name": "stdout",
     "output_type": "stream",
     "text": [
      "Timeout happened during acquisition\n"
     ]
    },
    {
     "name": "stderr",
     "output_type": "stream",
     "text": [
      "WARNING:root:Timeout in OpenADC capture(), trigger FORCED\n",
      "WARNING:root:Timeout in OpenADC capture(), trigger FORCED\n"
     ]
    },
    {
     "name": "stdout",
     "output_type": "stream",
     "text": [
      "Timeout happened during acquisition\n"
     ]
    },
    {
     "name": "stderr",
     "output_type": "stream",
     "text": [
      "WARNING:root:Timeout in OpenADC capture(), trigger FORCED\n",
      "WARNING:root:Timeout in OpenADC capture(), trigger FORCED\n"
     ]
    },
    {
     "name": "stdout",
     "output_type": "stream",
     "text": [
      "Timeout happened during acquisition\n"
     ]
    },
    {
     "name": "stderr",
     "output_type": "stream",
     "text": [
      "WARNING:root:Timeout in OpenADC capture(), trigger FORCED\n",
      "WARNING:root:Timeout in OpenADC capture(), trigger FORCED\n"
     ]
    },
    {
     "name": "stdout",
     "output_type": "stream",
     "text": [
      "Timeout happened during acquisition\n"
     ]
    },
    {
     "name": "stderr",
     "output_type": "stream",
     "text": [
      "WARNING:root:Timeout in OpenADC capture(), trigger FORCED\n",
      "WARNING:root:Timeout in OpenADC capture(), trigger FORCED\n"
     ]
    },
    {
     "name": "stdout",
     "output_type": "stream",
     "text": [
      "Timeout happened during acquisition\n"
     ]
    },
    {
     "name": "stderr",
     "output_type": "stream",
     "text": [
      "WARNING:root:Timeout in OpenADC capture(), trigger FORCED\n",
      "WARNING:root:Timeout in OpenADC capture(), trigger FORCED\n"
     ]
    },
    {
     "name": "stdout",
     "output_type": "stream",
     "text": [
      "Timeout happened during acquisition\n"
     ]
    },
    {
     "name": "stderr",
     "output_type": "stream",
     "text": [
      "WARNING:root:Timeout in OpenADC capture(), trigger FORCED\n",
      "WARNING:root:Timeout in OpenADC capture(), trigger FORCED\n"
     ]
    },
    {
     "name": "stdout",
     "output_type": "stream",
     "text": [
      "Timeout happened during acquisition\n"
     ]
    },
    {
     "name": "stderr",
     "output_type": "stream",
     "text": [
      "WARNING:root:Timeout in OpenADC capture(), trigger FORCED\n",
      "WARNING:root:Timeout in OpenADC capture(), trigger FORCED\n"
     ]
    },
    {
     "name": "stdout",
     "output_type": "stream",
     "text": [
      "Timeout happened during acquisition\n"
     ]
    },
    {
     "name": "stderr",
     "output_type": "stream",
     "text": [
      "WARNING:root:Timeout in OpenADC capture(), trigger FORCED\n",
      "WARNING:root:Timeout in OpenADC capture(), trigger FORCED\n"
     ]
    },
    {
     "name": "stdout",
     "output_type": "stream",
     "text": [
      "Timeout happened during acquisition\n"
     ]
    },
    {
     "name": "stderr",
     "output_type": "stream",
     "text": [
      "WARNING:root:Timeout in OpenADC capture(), trigger FORCED\n",
      "WARNING:root:Timeout in OpenADC capture(), trigger FORCED\n"
     ]
    },
    {
     "name": "stdout",
     "output_type": "stream",
     "text": [
      "Timeout happened during acquisition\n"
     ]
    },
    {
     "name": "stderr",
     "output_type": "stream",
     "text": [
      "WARNING:root:Timeout in OpenADC capture(), trigger FORCED\n",
      "WARNING:root:Timeout in OpenADC capture(), trigger FORCED\n"
     ]
    },
    {
     "name": "stdout",
     "output_type": "stream",
     "text": [
      "Timeout happened during acquisition\n"
     ]
    },
    {
     "name": "stderr",
     "output_type": "stream",
     "text": [
      "WARNING:root:Timeout in OpenADC capture(), trigger FORCED\n",
      "WARNING:root:Timeout in OpenADC capture(), trigger FORCED\n"
     ]
    },
    {
     "name": "stdout",
     "output_type": "stream",
     "text": [
      "Timeout happened during acquisition\n"
     ]
    },
    {
     "name": "stderr",
     "output_type": "stream",
     "text": [
      "WARNING:root:Timeout in OpenADC capture(), trigger FORCED\n",
      "WARNING:root:Timeout in OpenADC capture(), trigger FORCED\n"
     ]
    },
    {
     "name": "stdout",
     "output_type": "stream",
     "text": [
      "Timeout happened during acquisition\n"
     ]
    },
    {
     "name": "stderr",
     "output_type": "stream",
     "text": [
      "WARNING:root:Timeout in OpenADC capture(), trigger FORCED\n",
      "WARNING:root:Timeout in OpenADC capture(), trigger FORCED\n"
     ]
    },
    {
     "name": "stdout",
     "output_type": "stream",
     "text": [
      "Timeout happened during acquisition\n"
     ]
    },
    {
     "name": "stderr",
     "output_type": "stream",
     "text": [
      "WARNING:root:Timeout in OpenADC capture(), trigger FORCED\n",
      "WARNING:root:Timeout in OpenADC capture(), trigger FORCED\n"
     ]
    },
    {
     "name": "stdout",
     "output_type": "stream",
     "text": [
      "Timeout happened during acquisition\n"
     ]
    },
    {
     "name": "stderr",
     "output_type": "stream",
     "text": [
      "WARNING:root:Timeout in OpenADC capture(), trigger FORCED\n",
      "WARNING:root:Timeout in OpenADC capture(), trigger FORCED\n"
     ]
    },
    {
     "name": "stdout",
     "output_type": "stream",
     "text": [
      "Timeout happened during acquisition\n"
     ]
    },
    {
     "name": "stderr",
     "output_type": "stream",
     "text": [
      "WARNING:root:Timeout in OpenADC capture(), trigger FORCED\n",
      "WARNING:root:Timeout in OpenADC capture(), trigger FORCED\n"
     ]
    },
    {
     "name": "stdout",
     "output_type": "stream",
     "text": [
      "Timeout happened during acquisition\n"
     ]
    },
    {
     "name": "stderr",
     "output_type": "stream",
     "text": [
      "WARNING:root:Timeout in OpenADC capture(), trigger FORCED\n",
      "WARNING:root:Timeout in OpenADC capture(), trigger FORCED\n"
     ]
    },
    {
     "name": "stdout",
     "output_type": "stream",
     "text": [
      "Timeout happened during acquisition\n"
     ]
    },
    {
     "name": "stderr",
     "output_type": "stream",
     "text": [
      "WARNING:root:Timeout in OpenADC capture(), trigger FORCED\n",
      "WARNING:root:Timeout in OpenADC capture(), trigger FORCED\n"
     ]
    },
    {
     "name": "stdout",
     "output_type": "stream",
     "text": [
      "Timeout happened during acquisition\n"
     ]
    },
    {
     "name": "stderr",
     "output_type": "stream",
     "text": [
      "WARNING:root:Timeout in OpenADC capture(), trigger FORCED\n",
      "WARNING:root:Timeout in OpenADC capture(), trigger FORCED\n"
     ]
    },
    {
     "name": "stdout",
     "output_type": "stream",
     "text": [
      "Timeout happened during acquisition\n"
     ]
    },
    {
     "name": "stderr",
     "output_type": "stream",
     "text": [
      "WARNING:root:Timeout in OpenADC capture(), trigger FORCED\n",
      "WARNING:root:Timeout in OpenADC capture(), trigger FORCED\n"
     ]
    },
    {
     "name": "stdout",
     "output_type": "stream",
     "text": [
      "Timeout happened during acquisition\n"
     ]
    },
    {
     "name": "stderr",
     "output_type": "stream",
     "text": [
      "WARNING:root:Timeout in OpenADC capture(), trigger FORCED\n",
      "WARNING:root:Timeout in OpenADC capture(), trigger FORCED\n"
     ]
    },
    {
     "name": "stdout",
     "output_type": "stream",
     "text": [
      "Timeout happened during acquisition\n"
     ]
    },
    {
     "name": "stderr",
     "output_type": "stream",
     "text": [
      "WARNING:root:Timeout in OpenADC capture(), trigger FORCED\n",
      "WARNING:root:Timeout in OpenADC capture(), trigger FORCED\n"
     ]
    },
    {
     "name": "stdout",
     "output_type": "stream",
     "text": [
      "Timeout happened during acquisition\n"
     ]
    },
    {
     "name": "stderr",
     "output_type": "stream",
     "text": [
      "WARNING:root:Timeout in OpenADC capture(), trigger FORCED\n",
      "WARNING:root:Timeout in OpenADC capture(), trigger FORCED\n"
     ]
    },
    {
     "name": "stdout",
     "output_type": "stream",
     "text": [
      "Timeout happened during acquisition\n"
     ]
    },
    {
     "name": "stderr",
     "output_type": "stream",
     "text": [
      "WARNING:root:Timeout in OpenADC capture(), trigger FORCED\n",
      "WARNING:root:Timeout in OpenADC capture(), trigger FORCED\n"
     ]
    },
    {
     "name": "stdout",
     "output_type": "stream",
     "text": [
      "Timeout happened during acquisition\n"
     ]
    },
    {
     "name": "stderr",
     "output_type": "stream",
     "text": [
      "WARNING:root:Timeout in OpenADC capture(), trigger FORCED\n",
      "WARNING:root:Timeout in OpenADC capture(), trigger FORCED\n"
     ]
    },
    {
     "name": "stdout",
     "output_type": "stream",
     "text": [
      "Timeout happened during acquisition\n"
     ]
    },
    {
     "name": "stderr",
     "output_type": "stream",
     "text": [
      "WARNING:root:Timeout in OpenADC capture(), trigger FORCED\n",
      "WARNING:root:Timeout in OpenADC capture(), trigger FORCED\n"
     ]
    },
    {
     "name": "stdout",
     "output_type": "stream",
     "text": [
      "Timeout happened during acquisition\n"
     ]
    },
    {
     "name": "stderr",
     "output_type": "stream",
     "text": [
      "WARNING:root:Timeout in OpenADC capture(), trigger FORCED\n",
      "WARNING:root:Timeout in OpenADC capture(), trigger FORCED\n"
     ]
    },
    {
     "name": "stdout",
     "output_type": "stream",
     "text": [
      "Timeout happened during acquisition\n"
     ]
    },
    {
     "name": "stderr",
     "output_type": "stream",
     "text": [
      "WARNING:root:Timeout in OpenADC capture(), trigger FORCED\n",
      "WARNING:root:Timeout in OpenADC capture(), trigger FORCED\n"
     ]
    },
    {
     "name": "stdout",
     "output_type": "stream",
     "text": [
      "Timeout happened during acquisition\n"
     ]
    },
    {
     "name": "stderr",
     "output_type": "stream",
     "text": [
      "WARNING:root:Timeout in OpenADC capture(), trigger FORCED\n",
      "WARNING:root:Timeout in OpenADC capture(), trigger FORCED\n"
     ]
    },
    {
     "name": "stdout",
     "output_type": "stream",
     "text": [
      "Timeout happened during acquisition\n"
     ]
    },
    {
     "name": "stderr",
     "output_type": "stream",
     "text": [
      "WARNING:root:Timeout in OpenADC capture(), trigger FORCED\n",
      "WARNING:root:Timeout in OpenADC capture(), trigger FORCED\n"
     ]
    },
    {
     "name": "stdout",
     "output_type": "stream",
     "text": [
      "Timeout happened during acquisition\n"
     ]
    },
    {
     "name": "stderr",
     "output_type": "stream",
     "text": [
      "WARNING:root:Timeout in OpenADC capture(), trigger FORCED\n",
      "WARNING:root:Timeout in OpenADC capture(), trigger FORCED\n"
     ]
    },
    {
     "name": "stdout",
     "output_type": "stream",
     "text": [
      "Timeout happened during acquisition\n"
     ]
    },
    {
     "name": "stderr",
     "output_type": "stream",
     "text": [
      "WARNING:root:Timeout in OpenADC capture(), trigger FORCED\n",
      "WARNING:root:Timeout in OpenADC capture(), trigger FORCED\n"
     ]
    },
    {
     "name": "stdout",
     "output_type": "stream",
     "text": [
      "Timeout happened during acquisition\n"
     ]
    },
    {
     "name": "stderr",
     "output_type": "stream",
     "text": [
      "WARNING:root:Timeout in OpenADC capture(), trigger FORCED\n",
      "WARNING:root:Timeout in OpenADC capture(), trigger FORCED\n"
     ]
    },
    {
     "name": "stdout",
     "output_type": "stream",
     "text": [
      "Timeout happened during acquisition\n"
     ]
    },
    {
     "name": "stderr",
     "output_type": "stream",
     "text": [
      "WARNING:root:Timeout in OpenADC capture(), trigger FORCED\n",
      "WARNING:root:Timeout in OpenADC capture(), trigger FORCED\n"
     ]
    },
    {
     "name": "stdout",
     "output_type": "stream",
     "text": [
      "Timeout happened during acquisition\n"
     ]
    },
    {
     "name": "stderr",
     "output_type": "stream",
     "text": [
      "WARNING:root:Timeout in OpenADC capture(), trigger FORCED\n",
      "WARNING:root:Timeout in OpenADC capture(), trigger FORCED\n"
     ]
    },
    {
     "name": "stdout",
     "output_type": "stream",
     "text": [
      "Timeout happened during acquisition\n"
     ]
    },
    {
     "name": "stderr",
     "output_type": "stream",
     "text": [
      "WARNING:root:Timeout in OpenADC capture(), trigger FORCED\n",
      "WARNING:root:Timeout in OpenADC capture(), trigger FORCED\n"
     ]
    },
    {
     "name": "stdout",
     "output_type": "stream",
     "text": [
      "Timeout happened during acquisition\n"
     ]
    },
    {
     "name": "stderr",
     "output_type": "stream",
     "text": [
      "WARNING:root:Timeout in OpenADC capture(), trigger FORCED\n",
      "WARNING:root:Timeout in OpenADC capture(), trigger FORCED\n"
     ]
    },
    {
     "name": "stdout",
     "output_type": "stream",
     "text": [
      "Timeout happened during acquisition\n"
     ]
    },
    {
     "name": "stderr",
     "output_type": "stream",
     "text": [
      "WARNING:root:Timeout in OpenADC capture(), trigger FORCED\n",
      "WARNING:root:Timeout in OpenADC capture(), trigger FORCED\n"
     ]
    },
    {
     "name": "stdout",
     "output_type": "stream",
     "text": [
      "Timeout happened during acquisition\n"
     ]
    },
    {
     "name": "stderr",
     "output_type": "stream",
     "text": [
      "WARNING:root:Timeout in OpenADC capture(), trigger FORCED\n",
      "WARNING:root:Timeout in OpenADC capture(), trigger FORCED\n"
     ]
    },
    {
     "name": "stdout",
     "output_type": "stream",
     "text": [
      "Timeout happened during acquisition\n"
     ]
    },
    {
     "name": "stderr",
     "output_type": "stream",
     "text": [
      "WARNING:root:Timeout in OpenADC capture(), trigger FORCED\n",
      "WARNING:root:Timeout in OpenADC capture(), trigger FORCED\n"
     ]
    },
    {
     "name": "stdout",
     "output_type": "stream",
     "text": [
      "Timeout happened during acquisition\n"
     ]
    },
    {
     "name": "stderr",
     "output_type": "stream",
     "text": [
      "WARNING:root:Timeout in OpenADC capture(), trigger FORCED\n",
      "WARNING:root:Timeout in OpenADC capture(), trigger FORCED\n"
     ]
    },
    {
     "name": "stdout",
     "output_type": "stream",
     "text": [
      "Timeout happened during acquisition\n"
     ]
    },
    {
     "name": "stderr",
     "output_type": "stream",
     "text": [
      "WARNING:root:Timeout in OpenADC capture(), trigger FORCED\n",
      "WARNING:root:Timeout in OpenADC capture(), trigger FORCED\n"
     ]
    },
    {
     "name": "stdout",
     "output_type": "stream",
     "text": [
      "Timeout happened during acquisition\n"
     ]
    },
    {
     "name": "stderr",
     "output_type": "stream",
     "text": [
      "WARNING:root:Timeout in OpenADC capture(), trigger FORCED\n",
      "WARNING:root:Timeout in OpenADC capture(), trigger FORCED\n"
     ]
    },
    {
     "name": "stdout",
     "output_type": "stream",
     "text": [
      "Timeout happened during acquisition\n"
     ]
    },
    {
     "name": "stderr",
     "output_type": "stream",
     "text": [
      "WARNING:root:Timeout in OpenADC capture(), trigger FORCED\n",
      "WARNING:root:Timeout in OpenADC capture(), trigger FORCED\n"
     ]
    },
    {
     "name": "stdout",
     "output_type": "stream",
     "text": [
      "Timeout happened during acquisition\n"
     ]
    },
    {
     "name": "stderr",
     "output_type": "stream",
     "text": [
      "WARNING:root:Timeout in OpenADC capture(), trigger FORCED\n",
      "WARNING:root:Timeout in OpenADC capture(), trigger FORCED\n"
     ]
    },
    {
     "name": "stdout",
     "output_type": "stream",
     "text": [
      "Timeout happened during acquisition\n"
     ]
    },
    {
     "name": "stderr",
     "output_type": "stream",
     "text": [
      "WARNING:root:Timeout in OpenADC capture(), trigger FORCED\n",
      "WARNING:root:Timeout in OpenADC capture(), trigger FORCED\n"
     ]
    },
    {
     "name": "stdout",
     "output_type": "stream",
     "text": [
      "Timeout happened during acquisition\n"
     ]
    },
    {
     "name": "stderr",
     "output_type": "stream",
     "text": [
      "WARNING:root:Timeout in OpenADC capture(), trigger FORCED\n",
      "WARNING:root:Timeout in OpenADC capture(), trigger FORCED\n"
     ]
    },
    {
     "name": "stdout",
     "output_type": "stream",
     "text": [
      "Timeout happened during acquisition\n"
     ]
    },
    {
     "name": "stderr",
     "output_type": "stream",
     "text": [
      "WARNING:root:Timeout in OpenADC capture(), trigger FORCED\n",
      "WARNING:root:Timeout in OpenADC capture(), trigger FORCED\n"
     ]
    },
    {
     "name": "stdout",
     "output_type": "stream",
     "text": [
      "Timeout happened during acquisition\n"
     ]
    },
    {
     "name": "stderr",
     "output_type": "stream",
     "text": [
      "WARNING:root:Timeout in OpenADC capture(), trigger FORCED\n",
      "WARNING:root:Timeout in OpenADC capture(), trigger FORCED\n"
     ]
    },
    {
     "name": "stdout",
     "output_type": "stream",
     "text": [
      "Timeout happened during acquisition\n"
     ]
    },
    {
     "name": "stderr",
     "output_type": "stream",
     "text": [
      "WARNING:root:Timeout in OpenADC capture(), trigger FORCED\n",
      "WARNING:root:Timeout in OpenADC capture(), trigger FORCED\n"
     ]
    },
    {
     "name": "stdout",
     "output_type": "stream",
     "text": [
      "Timeout happened during acquisition\n"
     ]
    },
    {
     "name": "stderr",
     "output_type": "stream",
     "text": [
      "WARNING:root:Timeout in OpenADC capture(), trigger FORCED\n",
      "WARNING:root:Timeout in OpenADC capture(), trigger FORCED\n"
     ]
    },
    {
     "name": "stdout",
     "output_type": "stream",
     "text": [
      "Timeout happened during acquisition\n"
     ]
    },
    {
     "name": "stderr",
     "output_type": "stream",
     "text": [
      "WARNING:root:Timeout in OpenADC capture(), trigger FORCED\n",
      "WARNING:root:Timeout in OpenADC capture(), trigger FORCED\n"
     ]
    },
    {
     "name": "stdout",
     "output_type": "stream",
     "text": [
      "Timeout happened during acquisition\n"
     ]
    },
    {
     "name": "stderr",
     "output_type": "stream",
     "text": [
      "WARNING:root:Timeout in OpenADC capture(), trigger FORCED\n",
      "WARNING:root:Timeout in OpenADC capture(), trigger FORCED\n"
     ]
    },
    {
     "name": "stdout",
     "output_type": "stream",
     "text": [
      "Timeout happened during acquisition\n"
     ]
    },
    {
     "name": "stderr",
     "output_type": "stream",
     "text": [
      "WARNING:root:Timeout in OpenADC capture(), trigger FORCED\n",
      "WARNING:root:Timeout in OpenADC capture(), trigger FORCED\n"
     ]
    },
    {
     "name": "stdout",
     "output_type": "stream",
     "text": [
      "Timeout happened during acquisition\n"
     ]
    },
    {
     "name": "stderr",
     "output_type": "stream",
     "text": [
      "WARNING:root:Timeout in OpenADC capture(), trigger FORCED\n",
      "WARNING:root:Timeout in OpenADC capture(), trigger FORCED\n"
     ]
    },
    {
     "name": "stdout",
     "output_type": "stream",
     "text": [
      "Timeout happened during acquisition\n"
     ]
    },
    {
     "name": "stderr",
     "output_type": "stream",
     "text": [
      "WARNING:root:Timeout in OpenADC capture(), trigger FORCED\n",
      "WARNING:root:Timeout in OpenADC capture(), trigger FORCED\n"
     ]
    },
    {
     "name": "stdout",
     "output_type": "stream",
     "text": [
      "Timeout happened during acquisition\n"
     ]
    },
    {
     "name": "stderr",
     "output_type": "stream",
     "text": [
      "WARNING:root:Timeout in OpenADC capture(), trigger FORCED\n",
      "WARNING:root:Timeout in OpenADC capture(), trigger FORCED\n"
     ]
    },
    {
     "name": "stdout",
     "output_type": "stream",
     "text": [
      "Timeout happened during acquisition\n"
     ]
    },
    {
     "name": "stderr",
     "output_type": "stream",
     "text": [
      "WARNING:root:Timeout in OpenADC capture(), trigger FORCED\n",
      "WARNING:root:Timeout in OpenADC capture(), trigger FORCED\n"
     ]
    },
    {
     "name": "stdout",
     "output_type": "stream",
     "text": [
      "Timeout happened during acquisition\n"
     ]
    },
    {
     "name": "stderr",
     "output_type": "stream",
     "text": [
      "WARNING:root:Timeout in OpenADC capture(), trigger FORCED\n",
      "WARNING:root:Timeout in OpenADC capture(), trigger FORCED\n"
     ]
    },
    {
     "name": "stdout",
     "output_type": "stream",
     "text": [
      "Timeout happened during acquisition\n"
     ]
    },
    {
     "name": "stderr",
     "output_type": "stream",
     "text": [
      "WARNING:root:Timeout in OpenADC capture(), trigger FORCED\n",
      "WARNING:root:Timeout in OpenADC capture(), trigger FORCED\n"
     ]
    },
    {
     "name": "stdout",
     "output_type": "stream",
     "text": [
      "Timeout happened during acquisition\n"
     ]
    },
    {
     "name": "stderr",
     "output_type": "stream",
     "text": [
      "WARNING:root:Timeout in OpenADC capture(), trigger FORCED\n",
      "WARNING:root:Timeout in OpenADC capture(), trigger FORCED\n"
     ]
    },
    {
     "name": "stdout",
     "output_type": "stream",
     "text": [
      "Timeout happened during acquisition\n"
     ]
    },
    {
     "name": "stderr",
     "output_type": "stream",
     "text": [
      "WARNING:root:Timeout in OpenADC capture(), trigger FORCED\n",
      "WARNING:root:Timeout in OpenADC capture(), trigger FORCED\n"
     ]
    },
    {
     "name": "stdout",
     "output_type": "stream",
     "text": [
      "Timeout happened during acquisition\n"
     ]
    },
    {
     "name": "stderr",
     "output_type": "stream",
     "text": [
      "WARNING:root:Timeout in OpenADC capture(), trigger FORCED\n",
      "WARNING:root:Timeout in OpenADC capture(), trigger FORCED\n"
     ]
    },
    {
     "name": "stdout",
     "output_type": "stream",
     "text": [
      "Timeout happened during acquisition\n"
     ]
    },
    {
     "name": "stderr",
     "output_type": "stream",
     "text": [
      "WARNING:root:Timeout in OpenADC capture(), trigger FORCED\n",
      "WARNING:root:Timeout in OpenADC capture(), trigger FORCED\n"
     ]
    },
    {
     "name": "stdout",
     "output_type": "stream",
     "text": [
      "Timeout happened during acquisition\n"
     ]
    },
    {
     "name": "stderr",
     "output_type": "stream",
     "text": [
      "WARNING:root:Timeout in OpenADC capture(), trigger FORCED\n",
      "WARNING:root:Timeout in OpenADC capture(), trigger FORCED\n"
     ]
    },
    {
     "name": "stdout",
     "output_type": "stream",
     "text": [
      "Timeout happened during acquisition\n"
     ]
    },
    {
     "name": "stderr",
     "output_type": "stream",
     "text": [
      "WARNING:root:Timeout in OpenADC capture(), trigger FORCED\n",
      "WARNING:root:Timeout in OpenADC capture(), trigger FORCED\n"
     ]
    },
    {
     "name": "stdout",
     "output_type": "stream",
     "text": [
      "Timeout happened during acquisition\n"
     ]
    },
    {
     "name": "stderr",
     "output_type": "stream",
     "text": [
      "WARNING:root:Timeout in OpenADC capture(), trigger FORCED\n",
      "WARNING:root:Timeout in OpenADC capture(), trigger FORCED\n"
     ]
    },
    {
     "name": "stdout",
     "output_type": "stream",
     "text": [
      "Timeout happened during acquisition\n"
     ]
    },
    {
     "name": "stderr",
     "output_type": "stream",
     "text": [
      "WARNING:root:Timeout in OpenADC capture(), trigger FORCED\n",
      "WARNING:root:Timeout in OpenADC capture(), trigger FORCED\n"
     ]
    },
    {
     "name": "stdout",
     "output_type": "stream",
     "text": [
      "Timeout happened during acquisition\n"
     ]
    },
    {
     "name": "stderr",
     "output_type": "stream",
     "text": [
      "WARNING:root:Timeout in OpenADC capture(), trigger FORCED\n",
      "WARNING:root:Timeout in OpenADC capture(), trigger FORCED\n"
     ]
    },
    {
     "name": "stdout",
     "output_type": "stream",
     "text": [
      "Timeout happened during acquisition\n"
     ]
    },
    {
     "name": "stderr",
     "output_type": "stream",
     "text": [
      "WARNING:root:Timeout in OpenADC capture(), trigger FORCED\n",
      "WARNING:root:Timeout in OpenADC capture(), trigger FORCED\n"
     ]
    },
    {
     "name": "stdout",
     "output_type": "stream",
     "text": [
      "Timeout happened during acquisition\n"
     ]
    },
    {
     "name": "stderr",
     "output_type": "stream",
     "text": [
      "WARNING:root:Timeout in OpenADC capture(), trigger FORCED\n",
      "WARNING:root:Timeout in OpenADC capture(), trigger FORCED\n"
     ]
    },
    {
     "name": "stdout",
     "output_type": "stream",
     "text": [
      "Timeout happened during acquisition\n"
     ]
    },
    {
     "name": "stderr",
     "output_type": "stream",
     "text": [
      "WARNING:root:Timeout in OpenADC capture(), trigger FORCED\n",
      "WARNING:root:Timeout in OpenADC capture(), trigger FORCED\n"
     ]
    },
    {
     "name": "stdout",
     "output_type": "stream",
     "text": [
      "Timeout happened during acquisition\n"
     ]
    },
    {
     "name": "stderr",
     "output_type": "stream",
     "text": [
      "WARNING:root:Timeout in OpenADC capture(), trigger FORCED\n",
      "WARNING:root:Timeout in OpenADC capture(), trigger FORCED\n"
     ]
    },
    {
     "name": "stdout",
     "output_type": "stream",
     "text": [
      "Timeout happened during acquisition\n"
     ]
    },
    {
     "name": "stderr",
     "output_type": "stream",
     "text": [
      "WARNING:root:Timeout in OpenADC capture(), trigger FORCED\n",
      "WARNING:root:Timeout in OpenADC capture(), trigger FORCED\n"
     ]
    },
    {
     "name": "stdout",
     "output_type": "stream",
     "text": [
      "Timeout happened during acquisition\n"
     ]
    },
    {
     "name": "stderr",
     "output_type": "stream",
     "text": [
      "WARNING:root:Timeout in OpenADC capture(), trigger FORCED\n",
      "WARNING:root:Timeout in OpenADC capture(), trigger FORCED\n"
     ]
    },
    {
     "name": "stdout",
     "output_type": "stream",
     "text": [
      "Timeout happened during acquisition\n"
     ]
    },
    {
     "name": "stderr",
     "output_type": "stream",
     "text": [
      "WARNING:root:Timeout in OpenADC capture(), trigger FORCED\n",
      "WARNING:root:Timeout in OpenADC capture(), trigger FORCED\n"
     ]
    },
    {
     "name": "stdout",
     "output_type": "stream",
     "text": [
      "Timeout happened during acquisition\n"
     ]
    },
    {
     "name": "stderr",
     "output_type": "stream",
     "text": [
      "WARNING:root:Timeout in OpenADC capture(), trigger FORCED\n",
      "WARNING:root:Timeout in OpenADC capture(), trigger FORCED\n"
     ]
    },
    {
     "name": "stdout",
     "output_type": "stream",
     "text": [
      "Timeout happened during acquisition\n"
     ]
    },
    {
     "name": "stderr",
     "output_type": "stream",
     "text": [
      "WARNING:root:Timeout in OpenADC capture(), trigger FORCED\n",
      "WARNING:root:Timeout in OpenADC capture(), trigger FORCED\n"
     ]
    },
    {
     "name": "stdout",
     "output_type": "stream",
     "text": [
      "Timeout happened during acquisition\n"
     ]
    },
    {
     "name": "stderr",
     "output_type": "stream",
     "text": [
      "WARNING:root:Timeout in OpenADC capture(), trigger FORCED\n",
      "WARNING:root:Timeout in OpenADC capture(), trigger FORCED\n"
     ]
    },
    {
     "name": "stdout",
     "output_type": "stream",
     "text": [
      "Timeout happened during acquisition\n"
     ]
    },
    {
     "name": "stderr",
     "output_type": "stream",
     "text": [
      "WARNING:root:Timeout in OpenADC capture(), trigger FORCED\n",
      "WARNING:root:Timeout in OpenADC capture(), trigger FORCED\n"
     ]
    },
    {
     "name": "stdout",
     "output_type": "stream",
     "text": [
      "Timeout happened during acquisition\n"
     ]
    },
    {
     "name": "stderr",
     "output_type": "stream",
     "text": [
      "WARNING:root:Timeout in OpenADC capture(), trigger FORCED\n",
      "WARNING:root:Timeout in OpenADC capture(), trigger FORCED\n"
     ]
    },
    {
     "name": "stdout",
     "output_type": "stream",
     "text": [
      "Timeout happened during acquisition\n"
     ]
    },
    {
     "name": "stderr",
     "output_type": "stream",
     "text": [
      "WARNING:root:Timeout in OpenADC capture(), trigger FORCED\n",
      "WARNING:root:Timeout in OpenADC capture(), trigger FORCED\n"
     ]
    },
    {
     "name": "stdout",
     "output_type": "stream",
     "text": [
      "Timeout happened during acquisition\n"
     ]
    },
    {
     "name": "stderr",
     "output_type": "stream",
     "text": [
      "WARNING:root:Timeout in OpenADC capture(), trigger FORCED\n",
      "WARNING:root:Timeout in OpenADC capture(), trigger FORCED\n"
     ]
    },
    {
     "name": "stdout",
     "output_type": "stream",
     "text": [
      "Timeout happened during acquisition\n"
     ]
    },
    {
     "name": "stderr",
     "output_type": "stream",
     "text": [
      "WARNING:root:Timeout in OpenADC capture(), trigger FORCED\n",
      "WARNING:root:Timeout in OpenADC capture(), trigger FORCED\n"
     ]
    },
    {
     "name": "stdout",
     "output_type": "stream",
     "text": [
      "Timeout happened during acquisition\n"
     ]
    },
    {
     "name": "stderr",
     "output_type": "stream",
     "text": [
      "WARNING:root:Timeout in OpenADC capture(), trigger FORCED\n",
      "WARNING:root:Timeout in OpenADC capture(), trigger FORCED\n"
     ]
    },
    {
     "name": "stdout",
     "output_type": "stream",
     "text": [
      "Timeout happened during acquisition\n"
     ]
    },
    {
     "name": "stderr",
     "output_type": "stream",
     "text": [
      "WARNING:root:Timeout in OpenADC capture(), trigger FORCED\n",
      "WARNING:root:Timeout in OpenADC capture(), trigger FORCED\n"
     ]
    },
    {
     "name": "stdout",
     "output_type": "stream",
     "text": [
      "Timeout happened during acquisition\n"
     ]
    },
    {
     "name": "stderr",
     "output_type": "stream",
     "text": [
      "WARNING:root:Timeout in OpenADC capture(), trigger FORCED\n",
      "WARNING:root:Timeout in OpenADC capture(), trigger FORCED\n"
     ]
    },
    {
     "name": "stdout",
     "output_type": "stream",
     "text": [
      "Timeout happened during acquisition\n"
     ]
    },
    {
     "name": "stderr",
     "output_type": "stream",
     "text": [
      "WARNING:root:Timeout in OpenADC capture(), trigger FORCED\n",
      "WARNING:root:Timeout in OpenADC capture(), trigger FORCED\n"
     ]
    },
    {
     "name": "stdout",
     "output_type": "stream",
     "text": [
      "Timeout happened during acquisition\n"
     ]
    },
    {
     "name": "stderr",
     "output_type": "stream",
     "text": [
      "WARNING:root:Timeout in OpenADC capture(), trigger FORCED\n",
      "WARNING:root:Timeout in OpenADC capture(), trigger FORCED\n"
     ]
    },
    {
     "name": "stdout",
     "output_type": "stream",
     "text": [
      "Timeout happened during acquisition\n"
     ]
    },
    {
     "name": "stderr",
     "output_type": "stream",
     "text": [
      "WARNING:root:Timeout in OpenADC capture(), trigger FORCED\n",
      "WARNING:root:Timeout in OpenADC capture(), trigger FORCED\n"
     ]
    },
    {
     "name": "stdout",
     "output_type": "stream",
     "text": [
      "Timeout happened during acquisition\n"
     ]
    },
    {
     "name": "stderr",
     "output_type": "stream",
     "text": [
      "WARNING:root:Timeout in OpenADC capture(), trigger FORCED\n",
      "WARNING:root:Timeout in OpenADC capture(), trigger FORCED\n"
     ]
    },
    {
     "name": "stdout",
     "output_type": "stream",
     "text": [
      "Timeout happened during acquisition\n"
     ]
    },
    {
     "name": "stderr",
     "output_type": "stream",
     "text": [
      "WARNING:root:Timeout in OpenADC capture(), trigger FORCED\n",
      "WARNING:root:Timeout in OpenADC capture(), trigger FORCED\n"
     ]
    },
    {
     "name": "stdout",
     "output_type": "stream",
     "text": [
      "Timeout happened during acquisition\n"
     ]
    },
    {
     "name": "stderr",
     "output_type": "stream",
     "text": [
      "WARNING:root:Timeout in OpenADC capture(), trigger FORCED\n",
      "WARNING:root:Timeout in OpenADC capture(), trigger FORCED\n"
     ]
    },
    {
     "name": "stdout",
     "output_type": "stream",
     "text": [
      "Timeout happened during acquisition\n"
     ]
    },
    {
     "name": "stderr",
     "output_type": "stream",
     "text": [
      "WARNING:root:Timeout in OpenADC capture(), trigger FORCED\n",
      "WARNING:root:Timeout in OpenADC capture(), trigger FORCED\n"
     ]
    },
    {
     "name": "stdout",
     "output_type": "stream",
     "text": [
      "Timeout happened during acquisition\n"
     ]
    },
    {
     "name": "stderr",
     "output_type": "stream",
     "text": [
      "WARNING:root:Timeout in OpenADC capture(), trigger FORCED\n",
      "WARNING:root:Timeout in OpenADC capture(), trigger FORCED\n"
     ]
    },
    {
     "name": "stdout",
     "output_type": "stream",
     "text": [
      "Timeout happened during acquisition\n"
     ]
    },
    {
     "name": "stderr",
     "output_type": "stream",
     "text": [
      "WARNING:root:Timeout in OpenADC capture(), trigger FORCED\n",
      "WARNING:root:Timeout in OpenADC capture(), trigger FORCED\n"
     ]
    },
    {
     "name": "stdout",
     "output_type": "stream",
     "text": [
      "Timeout happened during acquisition\n"
     ]
    },
    {
     "name": "stderr",
     "output_type": "stream",
     "text": [
      "WARNING:root:Timeout in OpenADC capture(), trigger FORCED\n",
      "WARNING:root:Timeout in OpenADC capture(), trigger FORCED\n"
     ]
    },
    {
     "name": "stdout",
     "output_type": "stream",
     "text": [
      "Timeout happened during acquisition\n"
     ]
    },
    {
     "name": "stderr",
     "output_type": "stream",
     "text": [
      "WARNING:root:Timeout in OpenADC capture(), trigger FORCED\n",
      "WARNING:root:Timeout in OpenADC capture(), trigger FORCED\n"
     ]
    },
    {
     "name": "stdout",
     "output_type": "stream",
     "text": [
      "Timeout happened during acquisition\n"
     ]
    },
    {
     "name": "stderr",
     "output_type": "stream",
     "text": [
      "WARNING:root:Timeout in OpenADC capture(), trigger FORCED\n",
      "WARNING:root:Timeout in OpenADC capture(), trigger FORCED\n"
     ]
    },
    {
     "name": "stdout",
     "output_type": "stream",
     "text": [
      "Timeout happened during acquisition\n"
     ]
    },
    {
     "name": "stderr",
     "output_type": "stream",
     "text": [
      "WARNING:root:Timeout in OpenADC capture(), trigger FORCED\n",
      "WARNING:root:Timeout in OpenADC capture(), trigger FORCED\n"
     ]
    },
    {
     "name": "stdout",
     "output_type": "stream",
     "text": [
      "Timeout happened during acquisition\n"
     ]
    },
    {
     "name": "stderr",
     "output_type": "stream",
     "text": [
      "WARNING:root:Timeout in OpenADC capture(), trigger FORCED\n",
      "WARNING:root:Timeout in OpenADC capture(), trigger FORCED\n"
     ]
    },
    {
     "name": "stdout",
     "output_type": "stream",
     "text": [
      "Timeout happened during acquisition\n"
     ]
    },
    {
     "name": "stderr",
     "output_type": "stream",
     "text": [
      "WARNING:root:Timeout in OpenADC capture(), trigger FORCED\n",
      "WARNING:root:Timeout in OpenADC capture(), trigger FORCED\n"
     ]
    },
    {
     "name": "stdout",
     "output_type": "stream",
     "text": [
      "Timeout happened during acquisition\n"
     ]
    },
    {
     "name": "stderr",
     "output_type": "stream",
     "text": [
      "WARNING:root:Timeout in OpenADC capture(), trigger FORCED\n",
      "WARNING:root:Timeout in OpenADC capture(), trigger FORCED\n"
     ]
    },
    {
     "name": "stdout",
     "output_type": "stream",
     "text": [
      "Timeout happened during acquisition\n"
     ]
    },
    {
     "name": "stderr",
     "output_type": "stream",
     "text": [
      "WARNING:root:Timeout in OpenADC capture(), trigger FORCED\n",
      "WARNING:root:Timeout in OpenADC capture(), trigger FORCED\n"
     ]
    },
    {
     "name": "stdout",
     "output_type": "stream",
     "text": [
      "Timeout happened during acquisition\n"
     ]
    },
    {
     "name": "stderr",
     "output_type": "stream",
     "text": [
      "WARNING:root:Timeout in OpenADC capture(), trigger FORCED\n",
      "WARNING:root:Timeout in OpenADC capture(), trigger FORCED\n"
     ]
    },
    {
     "name": "stdout",
     "output_type": "stream",
     "text": [
      "Timeout happened during acquisition\n"
     ]
    },
    {
     "name": "stderr",
     "output_type": "stream",
     "text": [
      "WARNING:root:Timeout in OpenADC capture(), trigger FORCED\n",
      "WARNING:root:Timeout in OpenADC capture(), trigger FORCED\n"
     ]
    },
    {
     "name": "stdout",
     "output_type": "stream",
     "text": [
      "Timeout happened during acquisition\n"
     ]
    },
    {
     "name": "stderr",
     "output_type": "stream",
     "text": [
      "WARNING:root:Timeout in OpenADC capture(), trigger FORCED\n",
      "WARNING:root:Timeout in OpenADC capture(), trigger FORCED\n"
     ]
    },
    {
     "name": "stdout",
     "output_type": "stream",
     "text": [
      "Timeout happened during acquisition\n"
     ]
    },
    {
     "name": "stderr",
     "output_type": "stream",
     "text": [
      "WARNING:root:Timeout in OpenADC capture(), trigger FORCED\n",
      "WARNING:root:Timeout in OpenADC capture(), trigger FORCED\n"
     ]
    },
    {
     "name": "stdout",
     "output_type": "stream",
     "text": [
      "Timeout happened during acquisition\n"
     ]
    },
    {
     "name": "stderr",
     "output_type": "stream",
     "text": [
      "WARNING:root:Timeout in OpenADC capture(), trigger FORCED\n",
      "WARNING:root:Timeout in OpenADC capture(), trigger FORCED\n"
     ]
    },
    {
     "name": "stdout",
     "output_type": "stream",
     "text": [
      "Timeout happened during acquisition\n"
     ]
    },
    {
     "name": "stderr",
     "output_type": "stream",
     "text": [
      "WARNING:root:Timeout in OpenADC capture(), trigger FORCED\n",
      "WARNING:root:Timeout in OpenADC capture(), trigger FORCED\n"
     ]
    },
    {
     "name": "stdout",
     "output_type": "stream",
     "text": [
      "Timeout happened during acquisition\n"
     ]
    },
    {
     "name": "stderr",
     "output_type": "stream",
     "text": [
      "WARNING:root:Timeout in OpenADC capture(), trigger FORCED\n",
      "WARNING:root:Timeout in OpenADC capture(), trigger FORCED\n"
     ]
    },
    {
     "name": "stdout",
     "output_type": "stream",
     "text": [
      "Timeout happened during acquisition\n"
     ]
    },
    {
     "name": "stderr",
     "output_type": "stream",
     "text": [
      "WARNING:root:Timeout in OpenADC capture(), trigger FORCED\n",
      "WARNING:root:Timeout in OpenADC capture(), trigger FORCED\n"
     ]
    },
    {
     "name": "stdout",
     "output_type": "stream",
     "text": [
      "Timeout happened during acquisition\n"
     ]
    },
    {
     "name": "stderr",
     "output_type": "stream",
     "text": [
      "WARNING:root:Timeout in OpenADC capture(), trigger FORCED\n",
      "WARNING:root:Timeout in OpenADC capture(), trigger FORCED\n"
     ]
    },
    {
     "name": "stdout",
     "output_type": "stream",
     "text": [
      "Timeout happened during acquisition\n"
     ]
    },
    {
     "name": "stderr",
     "output_type": "stream",
     "text": [
      "WARNING:root:Timeout in OpenADC capture(), trigger FORCED\n",
      "WARNING:root:Timeout in OpenADC capture(), trigger FORCED\n"
     ]
    },
    {
     "name": "stdout",
     "output_type": "stream",
     "text": [
      "Timeout happened during acquisition\n"
     ]
    },
    {
     "name": "stderr",
     "output_type": "stream",
     "text": [
      "WARNING:root:Timeout in OpenADC capture(), trigger FORCED\n",
      "WARNING:root:Timeout in OpenADC capture(), trigger FORCED\n"
     ]
    },
    {
     "name": "stdout",
     "output_type": "stream",
     "text": [
      "Timeout happened during acquisition\n"
     ]
    },
    {
     "name": "stderr",
     "output_type": "stream",
     "text": [
      "WARNING:root:Timeout in OpenADC capture(), trigger FORCED\n",
      "WARNING:root:Timeout in OpenADC capture(), trigger FORCED\n"
     ]
    },
    {
     "name": "stdout",
     "output_type": "stream",
     "text": [
      "Timeout happened during acquisition\n"
     ]
    },
    {
     "name": "stderr",
     "output_type": "stream",
     "text": [
      "WARNING:root:Timeout in OpenADC capture(), trigger FORCED\n",
      "WARNING:root:Timeout in OpenADC capture(), trigger FORCED\n"
     ]
    },
    {
     "name": "stdout",
     "output_type": "stream",
     "text": [
      "Timeout happened during acquisition\n"
     ]
    },
    {
     "name": "stderr",
     "output_type": "stream",
     "text": [
      "WARNING:root:Timeout in OpenADC capture(), trigger FORCED\n",
      "WARNING:root:Timeout in OpenADC capture(), trigger FORCED\n"
     ]
    },
    {
     "name": "stdout",
     "output_type": "stream",
     "text": [
      "Timeout happened during acquisition\n"
     ]
    },
    {
     "name": "stderr",
     "output_type": "stream",
     "text": [
      "WARNING:root:Timeout in OpenADC capture(), trigger FORCED\n",
      "WARNING:root:Timeout in OpenADC capture(), trigger FORCED\n"
     ]
    },
    {
     "name": "stdout",
     "output_type": "stream",
     "text": [
      "Timeout happened during acquisition\n"
     ]
    },
    {
     "name": "stderr",
     "output_type": "stream",
     "text": [
      "WARNING:root:Timeout in OpenADC capture(), trigger FORCED\n",
      "WARNING:root:Timeout in OpenADC capture(), trigger FORCED\n"
     ]
    },
    {
     "name": "stdout",
     "output_type": "stream",
     "text": [
      "Timeout happened during acquisition\n"
     ]
    },
    {
     "name": "stderr",
     "output_type": "stream",
     "text": [
      "WARNING:root:Timeout in OpenADC capture(), trigger FORCED\n",
      "WARNING:root:Timeout in OpenADC capture(), trigger FORCED\n"
     ]
    },
    {
     "name": "stdout",
     "output_type": "stream",
     "text": [
      "Timeout happened during acquisition\n"
     ]
    },
    {
     "name": "stderr",
     "output_type": "stream",
     "text": [
      "WARNING:root:Timeout in OpenADC capture(), trigger FORCED\n",
      "WARNING:root:Timeout in OpenADC capture(), trigger FORCED\n"
     ]
    },
    {
     "name": "stdout",
     "output_type": "stream",
     "text": [
      "Timeout happened during acquisition\n"
     ]
    },
    {
     "name": "stderr",
     "output_type": "stream",
     "text": [
      "WARNING:root:Timeout in OpenADC capture(), trigger FORCED\n",
      "WARNING:root:Timeout in OpenADC capture(), trigger FORCED\n"
     ]
    },
    {
     "name": "stdout",
     "output_type": "stream",
     "text": [
      "Timeout happened during acquisition\n"
     ]
    },
    {
     "name": "stderr",
     "output_type": "stream",
     "text": [
      "WARNING:root:Timeout in OpenADC capture(), trigger FORCED\n",
      "WARNING:root:Timeout in OpenADC capture(), trigger FORCED\n"
     ]
    },
    {
     "name": "stdout",
     "output_type": "stream",
     "text": [
      "Timeout happened during acquisition\n"
     ]
    },
    {
     "name": "stderr",
     "output_type": "stream",
     "text": [
      "WARNING:root:Timeout in OpenADC capture(), trigger FORCED\n",
      "WARNING:root:Timeout in OpenADC capture(), trigger FORCED\n"
     ]
    },
    {
     "name": "stdout",
     "output_type": "stream",
     "text": [
      "Timeout happened during acquisition\n"
     ]
    },
    {
     "name": "stderr",
     "output_type": "stream",
     "text": [
      "WARNING:root:Timeout in OpenADC capture(), trigger FORCED\n",
      "WARNING:root:Timeout in OpenADC capture(), trigger FORCED\n"
     ]
    },
    {
     "name": "stdout",
     "output_type": "stream",
     "text": [
      "Timeout happened during acquisition\n"
     ]
    },
    {
     "name": "stderr",
     "output_type": "stream",
     "text": [
      "WARNING:root:Timeout in OpenADC capture(), trigger FORCED\n",
      "WARNING:root:Timeout in OpenADC capture(), trigger FORCED\n"
     ]
    },
    {
     "name": "stdout",
     "output_type": "stream",
     "text": [
      "Timeout happened during acquisition\n"
     ]
    },
    {
     "name": "stderr",
     "output_type": "stream",
     "text": [
      "WARNING:root:Timeout in OpenADC capture(), trigger FORCED\n",
      "WARNING:root:Timeout in OpenADC capture(), trigger FORCED\n"
     ]
    },
    {
     "name": "stdout",
     "output_type": "stream",
     "text": [
      "Timeout happened during acquisition\n"
     ]
    },
    {
     "name": "stderr",
     "output_type": "stream",
     "text": [
      "WARNING:root:Timeout in OpenADC capture(), trigger FORCED\n",
      "WARNING:root:Timeout in OpenADC capture(), trigger FORCED\n"
     ]
    },
    {
     "name": "stdout",
     "output_type": "stream",
     "text": [
      "Timeout happened during acquisition\n"
     ]
    },
    {
     "name": "stderr",
     "output_type": "stream",
     "text": [
      "WARNING:root:Timeout in OpenADC capture(), trigger FORCED\n",
      "WARNING:root:Timeout in OpenADC capture(), trigger FORCED\n"
     ]
    },
    {
     "name": "stdout",
     "output_type": "stream",
     "text": [
      "Timeout happened during acquisition\n"
     ]
    },
    {
     "name": "stderr",
     "output_type": "stream",
     "text": [
      "WARNING:root:Timeout in OpenADC capture(), trigger FORCED\n",
      "WARNING:root:Timeout in OpenADC capture(), trigger FORCED\n"
     ]
    },
    {
     "name": "stdout",
     "output_type": "stream",
     "text": [
      "Timeout happened during acquisition\n"
     ]
    },
    {
     "name": "stderr",
     "output_type": "stream",
     "text": [
      "WARNING:root:Timeout in OpenADC capture(), trigger FORCED\n",
      "WARNING:root:Timeout in OpenADC capture(), trigger FORCED\n"
     ]
    },
    {
     "name": "stdout",
     "output_type": "stream",
     "text": [
      "Timeout happened during acquisition\n"
     ]
    },
    {
     "name": "stderr",
     "output_type": "stream",
     "text": [
      "WARNING:root:Timeout in OpenADC capture(), trigger FORCED\n",
      "WARNING:root:Timeout in OpenADC capture(), trigger FORCED\n"
     ]
    },
    {
     "name": "stdout",
     "output_type": "stream",
     "text": [
      "Timeout happened during acquisition\n"
     ]
    },
    {
     "name": "stderr",
     "output_type": "stream",
     "text": [
      "WARNING:root:Timeout in OpenADC capture(), trigger FORCED\n",
      "WARNING:root:Timeout in OpenADC capture(), trigger FORCED\n"
     ]
    },
    {
     "name": "stdout",
     "output_type": "stream",
     "text": [
      "Timeout happened during acquisition\n"
     ]
    },
    {
     "name": "stderr",
     "output_type": "stream",
     "text": [
      "WARNING:root:Timeout in OpenADC capture(), trigger FORCED\n",
      "WARNING:root:Timeout in OpenADC capture(), trigger FORCED\n"
     ]
    },
    {
     "name": "stdout",
     "output_type": "stream",
     "text": [
      "Timeout happened during acquisition\n"
     ]
    },
    {
     "name": "stderr",
     "output_type": "stream",
     "text": [
      "WARNING:root:Timeout in OpenADC capture(), trigger FORCED\n",
      "WARNING:root:Timeout in OpenADC capture(), trigger FORCED\n"
     ]
    },
    {
     "name": "stdout",
     "output_type": "stream",
     "text": [
      "Timeout happened during acquisition\n"
     ]
    },
    {
     "name": "stderr",
     "output_type": "stream",
     "text": [
      "WARNING:root:Timeout in OpenADC capture(), trigger FORCED\n",
      "WARNING:root:Timeout in OpenADC capture(), trigger FORCED\n"
     ]
    },
    {
     "name": "stdout",
     "output_type": "stream",
     "text": [
      "Timeout happened during acquisition\n"
     ]
    },
    {
     "name": "stderr",
     "output_type": "stream",
     "text": [
      "WARNING:root:Timeout in OpenADC capture(), trigger FORCED\n",
      "WARNING:root:Timeout in OpenADC capture(), trigger FORCED\n"
     ]
    },
    {
     "name": "stdout",
     "output_type": "stream",
     "text": [
      "Timeout happened during acquisition\n"
     ]
    },
    {
     "name": "stderr",
     "output_type": "stream",
     "text": [
      "WARNING:root:Timeout in OpenADC capture(), trigger FORCED\n",
      "WARNING:root:Timeout in OpenADC capture(), trigger FORCED\n"
     ]
    },
    {
     "name": "stdout",
     "output_type": "stream",
     "text": [
      "Timeout happened during acquisition\n"
     ]
    },
    {
     "name": "stderr",
     "output_type": "stream",
     "text": [
      "WARNING:root:Timeout in OpenADC capture(), trigger FORCED\n",
      "WARNING:root:Timeout in OpenADC capture(), trigger FORCED\n"
     ]
    },
    {
     "name": "stdout",
     "output_type": "stream",
     "text": [
      "Timeout happened during acquisition\n"
     ]
    },
    {
     "name": "stderr",
     "output_type": "stream",
     "text": [
      "WARNING:root:Timeout in OpenADC capture(), trigger FORCED\n",
      "WARNING:root:Timeout in OpenADC capture(), trigger FORCED\n"
     ]
    },
    {
     "name": "stdout",
     "output_type": "stream",
     "text": [
      "Timeout happened during acquisition\n"
     ]
    },
    {
     "name": "stderr",
     "output_type": "stream",
     "text": [
      "WARNING:root:Timeout in OpenADC capture(), trigger FORCED\n",
      "WARNING:root:Timeout in OpenADC capture(), trigger FORCED\n"
     ]
    },
    {
     "name": "stdout",
     "output_type": "stream",
     "text": [
      "Timeout happened during acquisition\n"
     ]
    },
    {
     "name": "stderr",
     "output_type": "stream",
     "text": [
      "WARNING:root:Timeout in OpenADC capture(), trigger FORCED\n",
      "WARNING:root:Timeout in OpenADC capture(), trigger FORCED\n"
     ]
    },
    {
     "name": "stdout",
     "output_type": "stream",
     "text": [
      "Timeout happened during acquisition\n"
     ]
    },
    {
     "name": "stderr",
     "output_type": "stream",
     "text": [
      "WARNING:root:Timeout in OpenADC capture(), trigger FORCED\n",
      "WARNING:root:Timeout in OpenADC capture(), trigger FORCED\n"
     ]
    },
    {
     "name": "stdout",
     "output_type": "stream",
     "text": [
      "Timeout happened during acquisition\n"
     ]
    },
    {
     "name": "stderr",
     "output_type": "stream",
     "text": [
      "WARNING:root:Timeout in OpenADC capture(), trigger FORCED\n",
      "WARNING:root:Timeout in OpenADC capture(), trigger FORCED\n"
     ]
    },
    {
     "name": "stdout",
     "output_type": "stream",
     "text": [
      "Timeout happened during acquisition\n"
     ]
    },
    {
     "name": "stderr",
     "output_type": "stream",
     "text": [
      "WARNING:root:Timeout in OpenADC capture(), trigger FORCED\n",
      "WARNING:root:Timeout in OpenADC capture(), trigger FORCED\n"
     ]
    },
    {
     "name": "stdout",
     "output_type": "stream",
     "text": [
      "Timeout happened during acquisition\n"
     ]
    },
    {
     "name": "stderr",
     "output_type": "stream",
     "text": [
      "WARNING:root:Timeout in OpenADC capture(), trigger FORCED\n",
      "WARNING:root:Timeout in OpenADC capture(), trigger FORCED\n"
     ]
    },
    {
     "name": "stdout",
     "output_type": "stream",
     "text": [
      "Timeout happened during acquisition\n"
     ]
    },
    {
     "name": "stderr",
     "output_type": "stream",
     "text": [
      "WARNING:root:Timeout in OpenADC capture(), trigger FORCED\n",
      "WARNING:root:Timeout in OpenADC capture(), trigger FORCED\n"
     ]
    },
    {
     "name": "stdout",
     "output_type": "stream",
     "text": [
      "Timeout happened during acquisition\n"
     ]
    },
    {
     "name": "stderr",
     "output_type": "stream",
     "text": [
      "WARNING:root:Timeout in OpenADC capture(), trigger FORCED\n",
      "WARNING:root:Timeout in OpenADC capture(), trigger FORCED\n"
     ]
    },
    {
     "name": "stdout",
     "output_type": "stream",
     "text": [
      "Timeout happened during acquisition\n"
     ]
    },
    {
     "name": "stderr",
     "output_type": "stream",
     "text": [
      "WARNING:root:Timeout in OpenADC capture(), trigger FORCED\n",
      "WARNING:root:Timeout in OpenADC capture(), trigger FORCED\n"
     ]
    },
    {
     "name": "stdout",
     "output_type": "stream",
     "text": [
      "Timeout happened during acquisition\n"
     ]
    },
    {
     "name": "stderr",
     "output_type": "stream",
     "text": [
      "WARNING:root:Timeout in OpenADC capture(), trigger FORCED\n",
      "WARNING:root:Timeout in OpenADC capture(), trigger FORCED\n"
     ]
    },
    {
     "name": "stdout",
     "output_type": "stream",
     "text": [
      "Timeout happened during acquisition\n"
     ]
    },
    {
     "name": "stderr",
     "output_type": "stream",
     "text": [
      "WARNING:root:Timeout in OpenADC capture(), trigger FORCED\n",
      "WARNING:root:Timeout in OpenADC capture(), trigger FORCED\n"
     ]
    },
    {
     "name": "stdout",
     "output_type": "stream",
     "text": [
      "Timeout happened during acquisition\n"
     ]
    },
    {
     "name": "stderr",
     "output_type": "stream",
     "text": [
      "WARNING:root:Timeout in OpenADC capture(), trigger FORCED\n",
      "WARNING:root:Timeout in OpenADC capture(), trigger FORCED\n"
     ]
    },
    {
     "name": "stdout",
     "output_type": "stream",
     "text": [
      "Timeout happened during acquisition\n"
     ]
    },
    {
     "name": "stderr",
     "output_type": "stream",
     "text": [
      "WARNING:root:Timeout in OpenADC capture(), trigger FORCED\n",
      "WARNING:root:Timeout in OpenADC capture(), trigger FORCED\n"
     ]
    },
    {
     "name": "stdout",
     "output_type": "stream",
     "text": [
      "Timeout happened during acquisition\n"
     ]
    },
    {
     "name": "stderr",
     "output_type": "stream",
     "text": [
      "WARNING:root:Timeout in OpenADC capture(), trigger FORCED\n",
      "WARNING:root:Timeout in OpenADC capture(), trigger FORCED\n"
     ]
    },
    {
     "name": "stdout",
     "output_type": "stream",
     "text": [
      "Timeout happened during acquisition\n"
     ]
    },
    {
     "name": "stderr",
     "output_type": "stream",
     "text": [
      "WARNING:root:Timeout in OpenADC capture(), trigger FORCED\n",
      "WARNING:root:Timeout in OpenADC capture(), trigger FORCED\n"
     ]
    },
    {
     "name": "stdout",
     "output_type": "stream",
     "text": [
      "Timeout happened during acquisition\n"
     ]
    },
    {
     "name": "stderr",
     "output_type": "stream",
     "text": [
      "WARNING:root:Timeout in OpenADC capture(), trigger FORCED\n",
      "WARNING:root:Timeout in OpenADC capture(), trigger FORCED\n"
     ]
    },
    {
     "name": "stdout",
     "output_type": "stream",
     "text": [
      "Timeout happened during acquisition\n"
     ]
    },
    {
     "name": "stderr",
     "output_type": "stream",
     "text": [
      "WARNING:root:Timeout in OpenADC capture(), trigger FORCED\n",
      "WARNING:root:Timeout in OpenADC capture(), trigger FORCED\n"
     ]
    },
    {
     "name": "stdout",
     "output_type": "stream",
     "text": [
      "Timeout happened during acquisition\n"
     ]
    },
    {
     "name": "stderr",
     "output_type": "stream",
     "text": [
      "WARNING:root:Timeout in OpenADC capture(), trigger FORCED\n",
      "WARNING:root:Timeout in OpenADC capture(), trigger FORCED\n"
     ]
    },
    {
     "name": "stdout",
     "output_type": "stream",
     "text": [
      "Timeout happened during acquisition\n"
     ]
    },
    {
     "name": "stderr",
     "output_type": "stream",
     "text": [
      "WARNING:root:Timeout in OpenADC capture(), trigger FORCED\n",
      "WARNING:root:Timeout in OpenADC capture(), trigger FORCED\n"
     ]
    },
    {
     "name": "stdout",
     "output_type": "stream",
     "text": [
      "Timeout happened during acquisition\n"
     ]
    },
    {
     "name": "stderr",
     "output_type": "stream",
     "text": [
      "WARNING:root:Timeout in OpenADC capture(), trigger FORCED\n",
      "WARNING:root:Timeout in OpenADC capture(), trigger FORCED\n"
     ]
    },
    {
     "name": "stdout",
     "output_type": "stream",
     "text": [
      "Timeout happened during acquisition\n"
     ]
    },
    {
     "name": "stderr",
     "output_type": "stream",
     "text": [
      "WARNING:root:Timeout in OpenADC capture(), trigger FORCED\n",
      "WARNING:root:Timeout in OpenADC capture(), trigger FORCED\n"
     ]
    },
    {
     "name": "stdout",
     "output_type": "stream",
     "text": [
      "Timeout happened during acquisition\n"
     ]
    },
    {
     "name": "stderr",
     "output_type": "stream",
     "text": [
      "WARNING:root:Timeout in OpenADC capture(), trigger FORCED\n",
      "WARNING:root:Timeout in OpenADC capture(), trigger FORCED\n"
     ]
    },
    {
     "name": "stdout",
     "output_type": "stream",
     "text": [
      "Timeout happened during acquisition\n"
     ]
    },
    {
     "name": "stderr",
     "output_type": "stream",
     "text": [
      "WARNING:root:Timeout in OpenADC capture(), trigger FORCED\n",
      "WARNING:root:Timeout in OpenADC capture(), trigger FORCED\n"
     ]
    },
    {
     "name": "stdout",
     "output_type": "stream",
     "text": [
      "Timeout happened during acquisition\n"
     ]
    },
    {
     "name": "stderr",
     "output_type": "stream",
     "text": [
      "WARNING:root:Timeout in OpenADC capture(), trigger FORCED\n",
      "WARNING:root:Timeout in OpenADC capture(), trigger FORCED\n"
     ]
    },
    {
     "name": "stdout",
     "output_type": "stream",
     "text": [
      "Timeout happened during acquisition\n"
     ]
    },
    {
     "name": "stderr",
     "output_type": "stream",
     "text": [
      "WARNING:root:Timeout in OpenADC capture(), trigger FORCED\n",
      "WARNING:root:Timeout in OpenADC capture(), trigger FORCED\n"
     ]
    },
    {
     "name": "stdout",
     "output_type": "stream",
     "text": [
      "Timeout happened during acquisition\n"
     ]
    },
    {
     "name": "stderr",
     "output_type": "stream",
     "text": [
      "WARNING:root:Timeout in OpenADC capture(), trigger FORCED\n",
      "WARNING:root:Timeout in OpenADC capture(), trigger FORCED\n"
     ]
    },
    {
     "name": "stdout",
     "output_type": "stream",
     "text": [
      "Timeout happened during acquisition\n"
     ]
    },
    {
     "name": "stderr",
     "output_type": "stream",
     "text": [
      "WARNING:root:Timeout in OpenADC capture(), trigger FORCED\n",
      "WARNING:root:Timeout in OpenADC capture(), trigger FORCED\n"
     ]
    },
    {
     "name": "stdout",
     "output_type": "stream",
     "text": [
      "Timeout happened during acquisition\n"
     ]
    },
    {
     "name": "stderr",
     "output_type": "stream",
     "text": [
      "WARNING:root:Timeout in OpenADC capture(), trigger FORCED\n",
      "WARNING:root:Timeout in OpenADC capture(), trigger FORCED\n"
     ]
    },
    {
     "name": "stdout",
     "output_type": "stream",
     "text": [
      "Timeout happened during acquisition\n"
     ]
    },
    {
     "name": "stderr",
     "output_type": "stream",
     "text": [
      "WARNING:root:Timeout in OpenADC capture(), trigger FORCED\n",
      "WARNING:root:Timeout in OpenADC capture(), trigger FORCED\n"
     ]
    },
    {
     "name": "stdout",
     "output_type": "stream",
     "text": [
      "Timeout happened during acquisition\n"
     ]
    },
    {
     "name": "stderr",
     "output_type": "stream",
     "text": [
      "WARNING:root:Timeout in OpenADC capture(), trigger FORCED\n",
      "WARNING:root:Timeout in OpenADC capture(), trigger FORCED\n"
     ]
    },
    {
     "name": "stdout",
     "output_type": "stream",
     "text": [
      "Timeout happened during acquisition\n"
     ]
    },
    {
     "name": "stderr",
     "output_type": "stream",
     "text": [
      "WARNING:root:Timeout in OpenADC capture(), trigger FORCED\n",
      "WARNING:root:Timeout in OpenADC capture(), trigger FORCED\n"
     ]
    },
    {
     "name": "stdout",
     "output_type": "stream",
     "text": [
      "Timeout happened during acquisition\n"
     ]
    },
    {
     "name": "stderr",
     "output_type": "stream",
     "text": [
      "WARNING:root:Timeout in OpenADC capture(), trigger FORCED\n",
      "WARNING:root:Timeout in OpenADC capture(), trigger FORCED\n"
     ]
    },
    {
     "name": "stdout",
     "output_type": "stream",
     "text": [
      "Timeout happened during acquisition\n"
     ]
    },
    {
     "name": "stderr",
     "output_type": "stream",
     "text": [
      "WARNING:root:Timeout in OpenADC capture(), trigger FORCED\n",
      "WARNING:root:Timeout in OpenADC capture(), trigger FORCED\n"
     ]
    },
    {
     "name": "stdout",
     "output_type": "stream",
     "text": [
      "Timeout happened during acquisition\n"
     ]
    },
    {
     "name": "stderr",
     "output_type": "stream",
     "text": [
      "WARNING:root:Timeout in OpenADC capture(), trigger FORCED\n",
      "WARNING:root:Timeout in OpenADC capture(), trigger FORCED\n"
     ]
    },
    {
     "name": "stdout",
     "output_type": "stream",
     "text": [
      "Timeout happened during acquisition\n"
     ]
    },
    {
     "name": "stderr",
     "output_type": "stream",
     "text": [
      "WARNING:root:Timeout in OpenADC capture(), trigger FORCED\n",
      "WARNING:root:Timeout in OpenADC capture(), trigger FORCED\n"
     ]
    },
    {
     "name": "stdout",
     "output_type": "stream",
     "text": [
      "Timeout happened during acquisition\n"
     ]
    },
    {
     "name": "stderr",
     "output_type": "stream",
     "text": [
      "WARNING:root:Timeout in OpenADC capture(), trigger FORCED\n",
      "WARNING:root:Timeout in OpenADC capture(), trigger FORCED\n"
     ]
    },
    {
     "name": "stdout",
     "output_type": "stream",
     "text": [
      "Timeout happened during acquisition\n"
     ]
    },
    {
     "name": "stderr",
     "output_type": "stream",
     "text": [
      "WARNING:root:Timeout in OpenADC capture(), trigger FORCED\n",
      "WARNING:root:Timeout in OpenADC capture(), trigger FORCED\n"
     ]
    },
    {
     "name": "stdout",
     "output_type": "stream",
     "text": [
      "Timeout happened during acquisition\n"
     ]
    },
    {
     "name": "stderr",
     "output_type": "stream",
     "text": [
      "WARNING:root:Timeout in OpenADC capture(), trigger FORCED\n",
      "WARNING:root:Timeout in OpenADC capture(), trigger FORCED\n"
     ]
    },
    {
     "name": "stdout",
     "output_type": "stream",
     "text": [
      "Timeout happened during acquisition\n"
     ]
    },
    {
     "name": "stderr",
     "output_type": "stream",
     "text": [
      "WARNING:root:Timeout in OpenADC capture(), trigger FORCED\n",
      "WARNING:root:Timeout in OpenADC capture(), trigger FORCED\n"
     ]
    },
    {
     "name": "stdout",
     "output_type": "stream",
     "text": [
      "Timeout happened during acquisition\n"
     ]
    },
    {
     "name": "stderr",
     "output_type": "stream",
     "text": [
      "WARNING:root:Timeout in OpenADC capture(), trigger FORCED\n",
      "WARNING:root:Timeout in OpenADC capture(), trigger FORCED\n"
     ]
    },
    {
     "name": "stdout",
     "output_type": "stream",
     "text": [
      "Timeout happened during acquisition\n"
     ]
    },
    {
     "name": "stderr",
     "output_type": "stream",
     "text": [
      "WARNING:root:Timeout in OpenADC capture(), trigger FORCED\n",
      "WARNING:root:Timeout in OpenADC capture(), trigger FORCED\n"
     ]
    },
    {
     "name": "stdout",
     "output_type": "stream",
     "text": [
      "Timeout happened during acquisition\n"
     ]
    },
    {
     "name": "stderr",
     "output_type": "stream",
     "text": [
      "WARNING:root:Timeout in OpenADC capture(), trigger FORCED\n",
      "WARNING:root:Timeout in OpenADC capture(), trigger FORCED\n"
     ]
    },
    {
     "name": "stdout",
     "output_type": "stream",
     "text": [
      "Timeout happened during acquisition\n"
     ]
    },
    {
     "name": "stderr",
     "output_type": "stream",
     "text": [
      "WARNING:root:Timeout in OpenADC capture(), trigger FORCED\n",
      "WARNING:root:Timeout in OpenADC capture(), trigger FORCED\n"
     ]
    },
    {
     "name": "stdout",
     "output_type": "stream",
     "text": [
      "Timeout happened during acquisition\n"
     ]
    },
    {
     "name": "stderr",
     "output_type": "stream",
     "text": [
      "WARNING:root:Timeout in OpenADC capture(), trigger FORCED\n",
      "WARNING:root:Timeout in OpenADC capture(), trigger FORCED\n"
     ]
    },
    {
     "name": "stdout",
     "output_type": "stream",
     "text": [
      "Timeout happened during acquisition\n"
     ]
    },
    {
     "name": "stderr",
     "output_type": "stream",
     "text": [
      "WARNING:root:Timeout in OpenADC capture(), trigger FORCED\n",
      "WARNING:root:Timeout in OpenADC capture(), trigger FORCED\n"
     ]
    },
    {
     "name": "stdout",
     "output_type": "stream",
     "text": [
      "Timeout happened during acquisition\n"
     ]
    },
    {
     "name": "stderr",
     "output_type": "stream",
     "text": [
      "WARNING:root:Timeout in OpenADC capture(), trigger FORCED\n",
      "WARNING:root:Timeout in OpenADC capture(), trigger FORCED\n"
     ]
    },
    {
     "name": "stdout",
     "output_type": "stream",
     "text": [
      "Timeout happened during acquisition\n"
     ]
    },
    {
     "name": "stderr",
     "output_type": "stream",
     "text": [
      "WARNING:root:Timeout in OpenADC capture(), trigger FORCED\n",
      "WARNING:root:Timeout in OpenADC capture(), trigger FORCED\n"
     ]
    },
    {
     "name": "stdout",
     "output_type": "stream",
     "text": [
      "Timeout happened during acquisition\n"
     ]
    },
    {
     "name": "stderr",
     "output_type": "stream",
     "text": [
      "WARNING:root:Timeout in OpenADC capture(), trigger FORCED\n",
      "WARNING:root:Timeout in OpenADC capture(), trigger FORCED\n"
     ]
    },
    {
     "name": "stdout",
     "output_type": "stream",
     "text": [
      "Timeout happened during acquisition\n"
     ]
    },
    {
     "name": "stderr",
     "output_type": "stream",
     "text": [
      "WARNING:root:Timeout in OpenADC capture(), trigger FORCED\n",
      "WARNING:root:Timeout in OpenADC capture(), trigger FORCED\n"
     ]
    },
    {
     "name": "stdout",
     "output_type": "stream",
     "text": [
      "Timeout happened during acquisition\n"
     ]
    },
    {
     "name": "stderr",
     "output_type": "stream",
     "text": [
      "WARNING:root:Timeout in OpenADC capture(), trigger FORCED\n",
      "WARNING:root:Timeout in OpenADC capture(), trigger FORCED\n"
     ]
    },
    {
     "name": "stdout",
     "output_type": "stream",
     "text": [
      "Timeout happened during acquisition\n"
     ]
    },
    {
     "name": "stderr",
     "output_type": "stream",
     "text": [
      "WARNING:root:Timeout in OpenADC capture(), trigger FORCED\n",
      "WARNING:root:Timeout in OpenADC capture(), trigger FORCED\n"
     ]
    },
    {
     "name": "stdout",
     "output_type": "stream",
     "text": [
      "Timeout happened during acquisition\n"
     ]
    },
    {
     "name": "stderr",
     "output_type": "stream",
     "text": [
      "WARNING:root:Timeout in OpenADC capture(), trigger FORCED\n",
      "WARNING:root:Timeout in OpenADC capture(), trigger FORCED\n"
     ]
    },
    {
     "name": "stdout",
     "output_type": "stream",
     "text": [
      "Timeout happened during acquisition\n"
     ]
    },
    {
     "name": "stderr",
     "output_type": "stream",
     "text": [
      "WARNING:root:Timeout in OpenADC capture(), trigger FORCED\n",
      "WARNING:root:Timeout in OpenADC capture(), trigger FORCED\n"
     ]
    },
    {
     "name": "stdout",
     "output_type": "stream",
     "text": [
      "Timeout happened during acquisition\n"
     ]
    },
    {
     "name": "stderr",
     "output_type": "stream",
     "text": [
      "WARNING:root:Timeout in OpenADC capture(), trigger FORCED\n",
      "WARNING:root:Timeout in OpenADC capture(), trigger FORCED\n"
     ]
    },
    {
     "name": "stdout",
     "output_type": "stream",
     "text": [
      "Timeout happened during acquisition\n"
     ]
    },
    {
     "name": "stderr",
     "output_type": "stream",
     "text": [
      "WARNING:root:Timeout in OpenADC capture(), trigger FORCED\n",
      "WARNING:root:Timeout in OpenADC capture(), trigger FORCED\n"
     ]
    },
    {
     "name": "stdout",
     "output_type": "stream",
     "text": [
      "Timeout happened during acquisition\n"
     ]
    },
    {
     "name": "stderr",
     "output_type": "stream",
     "text": [
      "WARNING:root:Timeout in OpenADC capture(), trigger FORCED\n",
      "WARNING:root:Timeout in OpenADC capture(), trigger FORCED\n"
     ]
    },
    {
     "name": "stdout",
     "output_type": "stream",
     "text": [
      "Timeout happened during acquisition\n"
     ]
    },
    {
     "name": "stderr",
     "output_type": "stream",
     "text": [
      "WARNING:root:Timeout in OpenADC capture(), trigger FORCED\n",
      "WARNING:root:Timeout in OpenADC capture(), trigger FORCED\n"
     ]
    },
    {
     "name": "stdout",
     "output_type": "stream",
     "text": [
      "Timeout happened during acquisition\n"
     ]
    },
    {
     "name": "stderr",
     "output_type": "stream",
     "text": [
      "WARNING:root:Timeout in OpenADC capture(), trigger FORCED\n",
      "WARNING:root:Timeout in OpenADC capture(), trigger FORCED\n"
     ]
    },
    {
     "name": "stdout",
     "output_type": "stream",
     "text": [
      "Timeout happened during acquisition\n"
     ]
    },
    {
     "name": "stderr",
     "output_type": "stream",
     "text": [
      "WARNING:root:Timeout in OpenADC capture(), trigger FORCED\n",
      "WARNING:root:Timeout in OpenADC capture(), trigger FORCED\n"
     ]
    },
    {
     "name": "stdout",
     "output_type": "stream",
     "text": [
      "Timeout happened during acquisition\n"
     ]
    },
    {
     "name": "stderr",
     "output_type": "stream",
     "text": [
      "WARNING:root:Timeout in OpenADC capture(), trigger FORCED\n",
      "WARNING:root:Timeout in OpenADC capture(), trigger FORCED\n"
     ]
    },
    {
     "name": "stdout",
     "output_type": "stream",
     "text": [
      "Timeout happened during acquisition\n"
     ]
    },
    {
     "name": "stderr",
     "output_type": "stream",
     "text": [
      "WARNING:root:Timeout in OpenADC capture(), trigger FORCED\n",
      "WARNING:root:Timeout in OpenADC capture(), trigger FORCED\n"
     ]
    },
    {
     "name": "stdout",
     "output_type": "stream",
     "text": [
      "Timeout happened during acquisition\n"
     ]
    },
    {
     "name": "stderr",
     "output_type": "stream",
     "text": [
      "WARNING:root:Timeout in OpenADC capture(), trigger FORCED\n",
      "WARNING:root:Timeout in OpenADC capture(), trigger FORCED\n"
     ]
    },
    {
     "name": "stdout",
     "output_type": "stream",
     "text": [
      "Timeout happened during acquisition\n"
     ]
    },
    {
     "name": "stderr",
     "output_type": "stream",
     "text": [
      "WARNING:root:Timeout in OpenADC capture(), trigger FORCED\n",
      "WARNING:root:Timeout in OpenADC capture(), trigger FORCED\n"
     ]
    },
    {
     "name": "stdout",
     "output_type": "stream",
     "text": [
      "Timeout happened during acquisition\n"
     ]
    },
    {
     "name": "stderr",
     "output_type": "stream",
     "text": [
      "WARNING:root:Timeout in OpenADC capture(), trigger FORCED\n",
      "WARNING:root:Timeout in OpenADC capture(), trigger FORCED\n"
     ]
    },
    {
     "name": "stdout",
     "output_type": "stream",
     "text": [
      "Timeout happened during acquisition\n"
     ]
    },
    {
     "name": "stderr",
     "output_type": "stream",
     "text": [
      "WARNING:root:Timeout in OpenADC capture(), trigger FORCED\n",
      "WARNING:root:Timeout in OpenADC capture(), trigger FORCED\n"
     ]
    },
    {
     "name": "stdout",
     "output_type": "stream",
     "text": [
      "Timeout happened during acquisition\n"
     ]
    },
    {
     "name": "stderr",
     "output_type": "stream",
     "text": [
      "WARNING:root:Timeout in OpenADC capture(), trigger FORCED\n",
      "WARNING:root:Timeout in OpenADC capture(), trigger FORCED\n"
     ]
    },
    {
     "name": "stdout",
     "output_type": "stream",
     "text": [
      "Timeout happened during acquisition\n"
     ]
    },
    {
     "name": "stderr",
     "output_type": "stream",
     "text": [
      "WARNING:root:Timeout in OpenADC capture(), trigger FORCED\n",
      "WARNING:root:Timeout in OpenADC capture(), trigger FORCED\n"
     ]
    },
    {
     "name": "stdout",
     "output_type": "stream",
     "text": [
      "Timeout happened during acquisition\n"
     ]
    },
    {
     "name": "stderr",
     "output_type": "stream",
     "text": [
      "WARNING:root:Timeout in OpenADC capture(), trigger FORCED\n",
      "WARNING:root:Timeout in OpenADC capture(), trigger FORCED\n"
     ]
    },
    {
     "name": "stdout",
     "output_type": "stream",
     "text": [
      "Timeout happened during acquisition\n"
     ]
    },
    {
     "name": "stderr",
     "output_type": "stream",
     "text": [
      "WARNING:root:Timeout in OpenADC capture(), trigger FORCED\n",
      "WARNING:root:Timeout in OpenADC capture(), trigger FORCED\n"
     ]
    },
    {
     "name": "stdout",
     "output_type": "stream",
     "text": [
      "Timeout happened during acquisition\n"
     ]
    },
    {
     "name": "stderr",
     "output_type": "stream",
     "text": [
      "WARNING:root:Timeout in OpenADC capture(), trigger FORCED\n",
      "WARNING:root:Timeout in OpenADC capture(), trigger FORCED\n"
     ]
    },
    {
     "name": "stdout",
     "output_type": "stream",
     "text": [
      "Timeout happened during acquisition\n"
     ]
    },
    {
     "name": "stderr",
     "output_type": "stream",
     "text": [
      "WARNING:root:Timeout in OpenADC capture(), trigger FORCED\n",
      "WARNING:root:Timeout in OpenADC capture(), trigger FORCED\n"
     ]
    },
    {
     "name": "stdout",
     "output_type": "stream",
     "text": [
      "Timeout happened during acquisition\n"
     ]
    },
    {
     "name": "stderr",
     "output_type": "stream",
     "text": [
      "WARNING:root:Timeout in OpenADC capture(), trigger FORCED\n",
      "WARNING:root:Timeout in OpenADC capture(), trigger FORCED\n"
     ]
    },
    {
     "name": "stdout",
     "output_type": "stream",
     "text": [
      "Timeout happened during acquisition\n"
     ]
    },
    {
     "name": "stderr",
     "output_type": "stream",
     "text": [
      "WARNING:root:Timeout in OpenADC capture(), trigger FORCED\n",
      "WARNING:root:Timeout in OpenADC capture(), trigger FORCED\n"
     ]
    },
    {
     "name": "stdout",
     "output_type": "stream",
     "text": [
      "Timeout happened during acquisition\n"
     ]
    },
    {
     "name": "stderr",
     "output_type": "stream",
     "text": [
      "WARNING:root:Timeout in OpenADC capture(), trigger FORCED\n",
      "WARNING:root:Timeout in OpenADC capture(), trigger FORCED\n"
     ]
    },
    {
     "name": "stdout",
     "output_type": "stream",
     "text": [
      "Timeout happened during acquisition\n"
     ]
    },
    {
     "name": "stderr",
     "output_type": "stream",
     "text": [
      "WARNING:root:Timeout in OpenADC capture(), trigger FORCED\n",
      "WARNING:root:Timeout in OpenADC capture(), trigger FORCED\n"
     ]
    },
    {
     "name": "stdout",
     "output_type": "stream",
     "text": [
      "Timeout happened during acquisition\n"
     ]
    },
    {
     "name": "stderr",
     "output_type": "stream",
     "text": [
      "WARNING:root:Timeout in OpenADC capture(), trigger FORCED\n",
      "WARNING:root:Timeout in OpenADC capture(), trigger FORCED\n"
     ]
    },
    {
     "name": "stdout",
     "output_type": "stream",
     "text": [
      "Timeout happened during acquisition\n"
     ]
    },
    {
     "name": "stderr",
     "output_type": "stream",
     "text": [
      "WARNING:root:Timeout in OpenADC capture(), trigger FORCED\n",
      "WARNING:root:Timeout in OpenADC capture(), trigger FORCED\n"
     ]
    },
    {
     "name": "stdout",
     "output_type": "stream",
     "text": [
      "Timeout happened during acquisition\n"
     ]
    },
    {
     "name": "stderr",
     "output_type": "stream",
     "text": [
      "WARNING:root:Timeout in OpenADC capture(), trigger FORCED\n",
      "WARNING:root:Timeout in OpenADC capture(), trigger FORCED\n"
     ]
    },
    {
     "name": "stdout",
     "output_type": "stream",
     "text": [
      "Timeout happened during acquisition\n"
     ]
    },
    {
     "name": "stderr",
     "output_type": "stream",
     "text": [
      "WARNING:root:Timeout in OpenADC capture(), trigger FORCED\n",
      "WARNING:root:Timeout in OpenADC capture(), trigger FORCED\n"
     ]
    },
    {
     "name": "stdout",
     "output_type": "stream",
     "text": [
      "Timeout happened during acquisition\n"
     ]
    },
    {
     "name": "stderr",
     "output_type": "stream",
     "text": [
      "WARNING:root:Timeout in OpenADC capture(), trigger FORCED\n",
      "WARNING:root:Timeout in OpenADC capture(), trigger FORCED\n"
     ]
    },
    {
     "name": "stdout",
     "output_type": "stream",
     "text": [
      "Timeout happened during acquisition\n"
     ]
    },
    {
     "name": "stderr",
     "output_type": "stream",
     "text": [
      "WARNING:root:Timeout in OpenADC capture(), trigger FORCED\n",
      "WARNING:root:Timeout in OpenADC capture(), trigger FORCED\n"
     ]
    },
    {
     "name": "stdout",
     "output_type": "stream",
     "text": [
      "Timeout happened during acquisition\n"
     ]
    },
    {
     "name": "stderr",
     "output_type": "stream",
     "text": [
      "WARNING:root:Timeout in OpenADC capture(), trigger FORCED\n",
      "WARNING:root:Timeout in OpenADC capture(), trigger FORCED\n"
     ]
    },
    {
     "name": "stdout",
     "output_type": "stream",
     "text": [
      "Timeout happened during acquisition\n"
     ]
    },
    {
     "ename": "KeyboardInterrupt",
     "evalue": "",
     "output_type": "error",
     "traceback": [
      "\u001b[0;31m---------------------------------------------------------------------------\u001b[0m",
      "\u001b[0;31mKeyboardInterrupt\u001b[0m                         Traceback (most recent call last)",
      "\u001b[0;32m<ipython-input-56-7ac370d806e6>\u001b[0m in \u001b[0;36m<module>\u001b[0;34m\u001b[0m\n\u001b[1;32m     37\u001b[0m \u001b[0;34m\u001b[0m\u001b[0m\n\u001b[1;32m     38\u001b[0m         \u001b[0;32mtry\u001b[0m\u001b[0;34m:\u001b[0m\u001b[0;34m\u001b[0m\u001b[0m\n\u001b[0;32m---> 39\u001b[0;31m             \u001b[0mret\u001b[0m \u001b[0;34m=\u001b[0m \u001b[0mscope\u001b[0m\u001b[0;34m.\u001b[0m\u001b[0mcapture\u001b[0m\u001b[0;34m(\u001b[0m\u001b[0;34m)\u001b[0m\u001b[0;34m\u001b[0m\u001b[0m\n\u001b[0m\u001b[1;32m     40\u001b[0m             \u001b[0;32mif\u001b[0m \u001b[0mret\u001b[0m\u001b[0;34m:\u001b[0m\u001b[0;34m\u001b[0m\u001b[0m\n\u001b[1;32m     41\u001b[0m                 \u001b[0mprint\u001b[0m\u001b[0;34m(\u001b[0m\u001b[0;34m'Timeout happened during acquisition'\u001b[0m\u001b[0;34m)\u001b[0m\u001b[0;34m\u001b[0m\u001b[0m\n",
      "\u001b[0;32m/usr/local/lib/python3.6/dist-packages/chipwhisperer-4.0.2-py3.6.egg/chipwhisperer/capture/scopes/OpenADC.py\u001b[0m in \u001b[0;36mcapture\u001b[0;34m(self)\u001b[0m\n\u001b[1;32m    218\u001b[0m     \u001b[0;32mdef\u001b[0m \u001b[0mcapture\u001b[0m\u001b[0;34m(\u001b[0m\u001b[0mself\u001b[0m\u001b[0;34m)\u001b[0m\u001b[0;34m:\u001b[0m\u001b[0;34m\u001b[0m\u001b[0m\n\u001b[1;32m    219\u001b[0m         \u001b[0;34m\"\"\"Raises IOError if unknown failure, returns 'True' if timeout, 'False' if no timeout\"\"\"\u001b[0m\u001b[0;34m\u001b[0m\u001b[0m\n\u001b[0;32m--> 220\u001b[0;31m         \u001b[0mret\u001b[0m \u001b[0;34m=\u001b[0m \u001b[0mself\u001b[0m\u001b[0;34m.\u001b[0m\u001b[0mqtadc\u001b[0m\u001b[0;34m.\u001b[0m\u001b[0mcapture\u001b[0m\u001b[0;34m(\u001b[0m\u001b[0;34m)\u001b[0m\u001b[0;34m\u001b[0m\u001b[0m\n\u001b[0m\u001b[1;32m    221\u001b[0m         \u001b[0;32mreturn\u001b[0m \u001b[0mret\u001b[0m\u001b[0;34m\u001b[0m\u001b[0m\n\u001b[1;32m    222\u001b[0m \u001b[0;34m\u001b[0m\u001b[0m\n",
      "\u001b[0;32m/usr/local/lib/python3.6/dist-packages/chipwhisperer-4.0.2-py3.6.egg/chipwhisperer/capture/scopes/_qt.py\u001b[0m in \u001b[0;36mcapture\u001b[0;34m(self)\u001b[0m\n\u001b[1;32m    104\u001b[0m \u001b[0;34m\u001b[0m\u001b[0m\n\u001b[1;32m    105\u001b[0m     \u001b[0;32mdef\u001b[0m \u001b[0mcapture\u001b[0m\u001b[0;34m(\u001b[0m\u001b[0mself\u001b[0m\u001b[0;34m)\u001b[0m\u001b[0;34m:\u001b[0m\u001b[0;34m\u001b[0m\u001b[0m\n\u001b[0;32m--> 106\u001b[0;31m         \u001b[0mtimeout\u001b[0m \u001b[0;34m=\u001b[0m \u001b[0mself\u001b[0m\u001b[0;34m.\u001b[0m\u001b[0msc\u001b[0m\u001b[0;34m.\u001b[0m\u001b[0mcapture\u001b[0m\u001b[0;34m(\u001b[0m\u001b[0;34m)\u001b[0m\u001b[0;34m\u001b[0m\u001b[0m\n\u001b[0m\u001b[1;32m    107\u001b[0m         \u001b[0mself\u001b[0m\u001b[0;34m.\u001b[0m\u001b[0mread\u001b[0m\u001b[0;34m(\u001b[0m\u001b[0;34m)\u001b[0m\u001b[0;34m\u001b[0m\u001b[0m\n\u001b[1;32m    108\u001b[0m         \u001b[0;32mreturn\u001b[0m \u001b[0mtimeout\u001b[0m\u001b[0;34m\u001b[0m\u001b[0m\n",
      "\u001b[0;32m/usr/local/lib/python3.6/dist-packages/chipwhisperer-4.0.2-py3.6.egg/chipwhisperer/capture/scopes/_OpenADCInterface.py\u001b[0m in \u001b[0;36mcapture\u001b[0;34m(self)\u001b[0m\n\u001b[1;32m   1990\u001b[0m \u001b[0;34m\u001b[0m\u001b[0m\n\u001b[1;32m   1991\u001b[0m                 \u001b[0;31m# Wait for a moment before re-running the loop\u001b[0m\u001b[0;34m\u001b[0m\u001b[0;34m\u001b[0m\u001b[0m\n\u001b[0;32m-> 1992\u001b[0;31m                 \u001b[0mtime\u001b[0m\u001b[0;34m.\u001b[0m\u001b[0msleep\u001b[0m\u001b[0;34m(\u001b[0m\u001b[0;36m0.05\u001b[0m\u001b[0;34m)\u001b[0m\u001b[0;34m\u001b[0m\u001b[0m\n\u001b[0m\u001b[1;32m   1993\u001b[0m                 \u001b[0mdiff\u001b[0m \u001b[0;34m=\u001b[0m \u001b[0mdatetime\u001b[0m\u001b[0;34m.\u001b[0m\u001b[0mdatetime\u001b[0m\u001b[0;34m.\u001b[0m\u001b[0mnow\u001b[0m\u001b[0;34m(\u001b[0m\u001b[0;34m)\u001b[0m \u001b[0;34m-\u001b[0m \u001b[0mstarttime\u001b[0m\u001b[0;34m\u001b[0m\u001b[0m\n\u001b[1;32m   1994\u001b[0m \u001b[0;34m\u001b[0m\u001b[0m\n",
      "\u001b[0;31mKeyboardInterrupt\u001b[0m: "
     ]
    }
   ],
   "source": [
    "scope.glitch.clk_src = \"clkgen\"\n",
    "scope.glitch.output = \"clock_xor\"\n",
    "scope.glitch.trigger_src = \"ext_single\"\n",
    "scope.glitch.repeat = 1\n",
    "scope.io.hs2 = \"glitch\"\n",
    "\n",
    "ext_range = Range(37, 300, 1)\n",
    "\n",
    "scope.glitch.width = width_range.min\n",
    "target.init()\n",
    "\n",
    "data = []\n",
    "scope.glitch.offset = -40\n",
    "scope.glitch.width = -5.5\n",
    "\n",
    "print(scope.glitch)\n",
    "\n",
    "#while scope.glitch.width < width_range.max:\n",
    "while True:\n",
    "    #scope.glitch.offset = offset_range.min\n",
    "    scope.glitch.ext_offset = ext_range.min\n",
    "    #while scope.glitch.offset < offset_range.max:\n",
    "    while scope.glitch.ext_offset < ext_range.max:\n",
    "        # call before trace things here\n",
    "\n",
    "        # flush the garbage from the computer's target read buffer\n",
    "        target.ser.flush()\n",
    "\n",
    "        # run aux stuff that should run before the scope arms here\n",
    "\n",
    "        scope.arm()\n",
    "        target.ser.write(\"x\\n\")\n",
    "        \n",
    "        timeout = 50\n",
    "        # wait for target to finish\n",
    "        while target.isDone() is False and timeout:\n",
    "            timeout -= 1\n",
    "            time.sleep(0.01)\n",
    "\n",
    "        try:\n",
    "            ret = scope.capture()\n",
    "            if ret:\n",
    "                print('Timeout happened during acquisition')\n",
    "                reset_target(scope)\n",
    "        except IOError as e:\n",
    "            print('IOError: %s' % str(e))\n",
    "\n",
    "        # get the results from the scope\n",
    "        # read from the targets buffer\n",
    "        num_chars = target.ser.inWaiting()\n",
    "        response = target.ser.read(num_chars, timeout = 10)\n",
    "\n",
    "        # for table display purposes\n",
    "        success = 'Welcome' in repr(response) # check for glitch success (depends on targets active firmware)\n",
    "        if success:\n",
    "            print(\"Offset: {}\".format(scope.glitch.ext_offset))\n",
    "            while True:\n",
    "                pass\n",
    "        data.append([repr(response), scope.glitch.width, scope.glitch.offset, success]) \n",
    "        # run aux stuff that should happen after trace here\n",
    "        #scope.glitch.offset += offset_range.step\n",
    "        scope.glitch.ext_offset += ext_range.step\n",
    "    #scope.glitch.width += width_range.step\n",
    "\n",
    "print(\"Done glitching\")"
   ]
  },
  {
   "cell_type": "code",
   "execution_count": 54,
   "metadata": {},
   "outputs": [
    {
     "name": "stdout",
     "output_type": "stream",
     "text": [
      "[\"'\\\\x00hello\\\\nPassword:'\", -10.15625, -48.828125, False]\n",
      "[\"''\", -10.15625, -47.65625, False]\n",
      "[\"'\\\\x00hello\\\\nPassword:'\", -10.15625, -46.484375, False]\n",
      "[\"''\", -10.15625, -45.3125, False]\n",
      "[\"'\\\\x00hello\\\\nPassword:'\", -10.15625, -44.140625, False]\n",
      "[\"''\", -10.15625, -42.96875, False]\n",
      "[\"'\\\\x00hello\\\\nPassword:'\", -10.15625, -41.796875, False]\n",
      "[\"'enied\\\\nPassword:'\", -10.15625, -40.625, False]\n",
      "[\"''\", -10.15625, -39.453125, False]\n",
      "[\"'\\\\x00hello\\\\nPassword:'\", -10.15625, -38.28125, False]\n",
      "[\"'\\\\x13'\", -10.15625, -37.109375, False]\n",
      "[\"'\\\\x00hello\\\\nPassword:'\", -10.15625, -35.9375, False]\n",
      "[\"'Denied\\\\nPassword:'\", -10.15625, -34.765625, False]\n",
      "[\"'Denied\\\\nPassword:'\", -10.15625, -33.59375, False]\n",
      "[\"'Denied\\\\nPassword:'\", -10.15625, -32.421875, False]\n",
      "[\"'Denied\\\\nPassword:'\", -10.15625, -31.25, False]\n",
      "[\"'Denied\\\\nPassword:'\", -10.15625, -30.078125, False]\n",
      "[\"''\", -8.984375, -48.828125, False]\n",
      "[\"'\\\\x00hello\\\\nPassword:'\", -8.984375, -47.65625, False]\n",
      "[\"''\", -8.984375, -46.484375, False]\n",
      "[\"'\\\\x00hello\\\\nPassword:'\", -8.984375, -45.3125, False]\n",
      "[\"''\", -8.984375, -44.140625, False]\n",
      "[\"'\\\\x00hello\\\\nPassword:'\", -8.984375, -42.96875, False]\n",
      "[\"'Denied\\\\nPassword:'\", -8.984375, -41.796875, False]\n",
      "[\"'Denied\\\\nPassword:'\", -8.984375, -40.625, False]\n",
      "[\"'Denied\\\\nPassword:'\", -8.984375, -39.453125, False]\n",
      "[\"''\", -8.984375, -38.28125, False]\n",
      "[\"'\\\\x00hello\\\\nPassword:'\", -8.984375, -37.109375, False]\n",
      "[\"'Denied\\\\nPassword:'\", -8.984375, -35.9375, False]\n",
      "[\"'Denied\\\\nPassword:'\", -8.984375, -34.765625, False]\n",
      "[\"'Denied\\\\nPassword:'\", -8.984375, -33.59375, False]\n",
      "[\"'Denied\\\\nPassword:'\", -8.984375, -32.421875, False]\n",
      "[\"'Denied\\\\nPassword:'\", -8.984375, -31.25, False]\n",
      "[\"'Denied\\\\nPassword:'\", -8.984375, -30.078125, False]\n",
      "[\"''\", -7.8125, -48.828125, False]\n",
      "[\"'\\\\x00hello\\\\nPassword:'\", -7.8125, -47.65625, False]\n",
      "[\"''\", -7.8125, -46.484375, False]\n",
      "[\"'\\\\x00hello\\\\nPassword:'\", -7.8125, -45.3125, False]\n",
      "[\"'Denied\\\\nPassword:'\", -7.8125, -44.140625, False]\n",
      "[\"'Denied\\\\nPassword:'\", -7.8125, -42.96875, False]\n",
      "[\"''\", -7.8125, -41.796875, False]\n",
      "[\"'\\\\x00hello\\\\nPassword:'\", -7.8125, -40.625, False]\n",
      "[\"''\", -7.8125, -39.453125, False]\n",
      "[\"'\\\\x00hello\\\\nPassword:'\", -7.8125, -38.28125, False]\n",
      "[\"'\\\\x13\\\\x85Þç+x\\\\x13\\\\x85\\\\x015ÚçPassword:'\", -7.8125, -37.109375, False]\n",
      "[\"'Denied\\\\nPassword:'\", -7.8125, -35.9375, False]\n",
      "[\"'Denied\\\\nPassword:'\", -7.8125, -34.765625, False]\n",
      "[\"'Denied\\\\nPassword:'\", -7.8125, -33.59375, False]\n",
      "[\"'Denied\\\\nPassword:'\", -7.8125, -32.421875, False]\n",
      "[\"'Denied\\\\nPassword:'\", -7.8125, -31.25, False]\n",
      "[\"'Denied\\\\nPassword:'\", -7.8125, -30.078125, False]\n",
      "[\"''\", -6.640625, -48.828125, False]\n",
      "[\"'\\\\x00hello\\\\nPassword:'\", -6.640625, -47.65625, False]\n",
      "[\"''\", -6.640625, -46.484375, False]\n",
      "[\"'\\\\x00hello\\\\nPassword:'\", -6.640625, -45.3125, False]\n",
      "[\"'Denied\\\\nPassword:'\", -6.640625, -44.140625, False]\n",
      "[\"''\", -6.640625, -42.96875, False]\n",
      "[\"'\\\\x00hello\\\\nPassword:'\", -6.640625, -41.796875, False]\n",
      "[\"''\", -6.640625, -40.625, False]\n",
      "[\"'\\\\x00hello\\\\nPassword:'\", -6.640625, -39.453125, False]\n",
      "[\"''\", -6.640625, -38.28125, False]\n",
      "[\"'\\\\x00hello\\\\nPassword:'\", -6.640625, -37.109375, False]\n",
      "[\"'Denied\\\\nPassword:'\", -6.640625, -35.9375, False]\n",
      "[\"'Denied\\\\nPassword:'\", -6.640625, -34.765625, False]\n",
      "[\"'Denied\\\\nPassword:'\", -6.640625, -33.59375, False]\n",
      "[\"'Denied\\\\nPassword:'\", -6.640625, -32.421875, False]\n",
      "[\"'Denied\\\\nPassword:'\", -6.640625, -31.25, False]\n",
      "[\"'Denied\\\\nPassword:'\", -6.640625, -30.078125, False]\n",
      "[\"''\", -5.46875, -48.828125, False]\n",
      "[\"'\\\\x00hello\\\\nPassword:'\", -5.46875, -47.65625, False]\n",
      "[\"'Denied\\\\nPassword:'\", -5.46875, -46.484375, False]\n",
      "[\"'Denied\\\\nPassword:'\", -5.46875, -45.3125, False]\n",
      "[\"''\", -5.46875, -44.140625, False]\n",
      "[\"'\\\\x00hello\\\\nPassword:'\", -5.46875, -42.96875, False]\n",
      "[\"''\", -5.46875, -41.796875, False]\n",
      "[\"'\\\\x00hello\\\\nPassword:'\", -5.46875, -40.625, False]\n",
      "[\"''\", -5.46875, -39.453125, False]\n",
      "[\"'\\\\x00hello\\\\nPassword:'\", -5.46875, -38.28125, False]\n",
      "[\"''\", -5.46875, -37.109375, False]\n",
      "[\"'\\\\x00hello\\\\nPassword:'\", -5.46875, -35.9375, False]\n",
      "[\"'Denied\\\\nPassword:'\", -5.46875, -34.765625, False]\n",
      "[\"'Denied\\\\nPassword:'\", -5.46875, -33.59375, False]\n",
      "[\"'Denied\\\\nPassword:'\", -5.46875, -32.421875, False]\n",
      "[\"'Denied\\\\nPassword:'\", -5.46875, -31.25, False]\n",
      "[\"'Denied\\\\nPassword:'\", -5.46875, -30.078125, False]\n",
      "[\"''\", -4.296875, -48.828125, False]\n",
      "[\"'\\\\x00hello\\\\nPassword:'\", -4.296875, -47.65625, False]\n",
      "[\"'Denied\\\\nPassword:'\", -4.296875, -46.484375, False]\n",
      "[\"''\", -4.296875, -45.3125, False]\n",
      "[\"'\\\\x00hello\\\\nPassword:'\", -4.296875, -44.140625, False]\n",
      "[\"''\", -4.296875, -42.96875, False]\n",
      "[\"'\\\\x00hello\\\\nPassword:'\", -4.296875, -41.796875, False]\n",
      "[\"'Denied\\\\n'\", -4.296875, -40.625, False]\n",
      "[\"'\\\\x00hello\\\\nPassword:'\", -4.296875, -39.453125, False]\n",
      "[\"''\", -4.296875, -38.28125, False]\n",
      "[\"'\\\\x00hello\\\\nPassword:'\", -4.296875, -37.109375, False]\n",
      "[\"'Denied\\\\nPassword:'\", -4.296875, -35.9375, False]\n",
      "[\"'Denied\\\\nPassword:'\", -4.296875, -34.765625, False]\n",
      "[\"'Denied\\\\nPassword:'\", -4.296875, -33.59375, False]\n",
      "[\"'Denied\\\\nPassword:'\", -4.296875, -32.421875, False]\n",
      "[\"'Denied\\\\nPassword:'\", -4.296875, -31.25, False]\n",
      "[\"'Denied\\\\nPassword:'\", -4.296875, -30.078125, False]\n",
      "[\"'Denied\\\\nPassword:'\", -3.125, -48.828125, False]\n",
      "[\"'Denied\\\\nPassword:'\", -3.125, -47.65625, False]\n",
      "[\"''\", -3.125, -46.484375, False]\n",
      "[\"'\\\\x00hello\\\\nPassword:'\", -3.125, -45.3125, False]\n",
      "[\"''\", -3.125, -44.140625, False]\n",
      "[\"'\\\\x00hello\\\\nPassword:'\", -3.125, -42.96875, False]\n",
      "[\"''\", -3.125, -41.796875, False]\n",
      "[\"'\\\\x00hello\\\\nPassword:'\", -3.125, -40.625, False]\n",
      "[\"''\", -3.125, -39.453125, False]\n",
      "[\"'\\\\x00hello\\\\nPassword:'\", -3.125, -38.28125, False]\n",
      "[\"'\\\\x13\\\\x85Þç+x\\\\x13\\\\x85\\\\x015ÚçPassword:'\", -3.125, -37.109375, False]\n",
      "[\"'Denied\\\\nPassword:'\", -3.125, -35.9375, False]\n",
      "[\"'Denied\\\\nPassword:'\", -3.125, -34.765625, False]\n",
      "[\"'Denied\\\\nPassword:'\", -3.125, -33.59375, False]\n",
      "[\"'Denied\\\\nPassword:'\", -3.125, -32.421875, False]\n",
      "[\"'Denied\\\\nPassword:'\", -3.125, -31.25, False]\n",
      "[\"'Denied\\\\nPassword:'\", -3.125, -30.078125, False]\n",
      "[\"'Denied\\\\nPassword:'\", -1.953125, -48.828125, False]\n",
      "[\"''\", -1.953125, -47.65625, False]\n",
      "[\"'\\\\x00hello\\\\nPassword:'\", -1.953125, -46.484375, False]\n",
      "[\"''\", -1.953125, -45.3125, False]\n",
      "[\"'\\\\x00hello\\\\nPassword:'\", -1.953125, -44.140625, False]\n",
      "[\"''\", -1.953125, -42.96875, False]\n",
      "[\"'\\\\x00hello\\\\nPassword:'\", -1.953125, -41.796875, False]\n",
      "[\"'Denied\\\\nPassword:'\", -1.953125, -40.625, False]\n",
      "[\"''\", -1.953125, -39.453125, False]\n",
      "[\"'\\\\x00hello\\\\nPassword:'\", -1.953125, -38.28125, False]\n",
      "[\"'\\\\x01'\", -1.953125, -37.109375, False]\n",
      "[\"'\\\\x00hello\\\\nPassword:'\", -1.953125, -35.9375, False]\n",
      "[\"'Denied\\\\nPassword:'\", -1.953125, -34.765625, False]\n",
      "[\"'Denied\\\\nPassword:'\", -1.953125, -33.59375, False]\n",
      "[\"'Denied\\\\nPassword:'\", -1.953125, -32.421875, False]\n",
      "[\"'Denied\\\\nPassword:'\", -1.953125, -31.25, False]\n",
      "[\"'Denied\\\\nPassword:'\", -1.953125, -30.078125, False]\n",
      "[\"'Denied\\\\nPassword:'\", -0.78125, -48.828125, False]\n",
      "[\"'Denied\\\\nPassword:'\", -0.78125, -47.65625, False]\n",
      "[\"'Denied\\\\nPassword:'\", -0.78125, -46.484375, False]\n",
      "[\"'Denied\\\\nPassword:'\", -0.78125, -45.3125, False]\n",
      "[\"'Denied\\\\nPassword:'\", -0.78125, -44.140625, False]\n",
      "[\"'Denied\\\\nPassword:'\", -0.78125, -42.96875, False]\n",
      "[\"'Denied\\\\nPassword:'\", -0.78125, -41.796875, False]\n",
      "[\"'Denied\\\\nPassword:'\", -0.78125, -40.625, False]\n",
      "[\"'Denied\\\\nPassword:'\", -0.78125, -39.453125, False]\n",
      "[\"'Denied\\\\nPassword:'\", -0.78125, -38.28125, False]\n",
      "[\"'Denied\\\\nPassword:'\", -0.78125, -37.109375, False]\n",
      "[\"'Denied\\\\nPassword:'\", -0.78125, -35.9375, False]\n",
      "[\"'Denied\\\\nPassword:'\", -0.78125, -34.765625, False]\n",
      "[\"'Denied\\\\nPassword:'\", -0.78125, -33.59375, False]\n",
      "[\"'Denied\\\\nPassword:'\", -0.78125, -32.421875, False]\n",
      "[\"'Denied\\\\nPassword:'\", -0.78125, -31.25, False]\n",
      "[\"'Denied\\\\nPassword:'\", -0.78125, -30.078125, False]\n",
      "[\"'Denied\\\\nPassword:'\", 0.390625, -48.828125, False]\n",
      "[\"'Denied\\\\nPassword:'\", 0.390625, -47.65625, False]\n",
      "[\"'Denied\\\\nPassword:'\", 0.390625, -46.484375, False]\n",
      "[\"'Denied\\\\nPassword:'\", 0.390625, -45.3125, False]\n",
      "[\"'Denied\\\\nPassword:'\", 0.390625, -44.140625, False]\n",
      "[\"'Denied\\\\nPassword:'\", 0.390625, -42.96875, False]\n",
      "[\"'Denied\\\\nPassword:'\", 0.390625, -41.796875, False]\n",
      "[\"'Denied\\\\nPassword:'\", 0.390625, -40.625, False]\n",
      "[\"'Denied\\\\nPassword:'\", 0.390625, -39.453125, False]\n",
      "[\"'Denied\\\\nPassword:'\", 0.390625, -38.28125, False]\n",
      "[\"'Denied\\\\nPassword:'\", 0.390625, -37.109375, False]\n",
      "[\"'Denied\\\\nPassword:'\", 0.390625, -35.9375, False]\n",
      "[\"'Denied\\\\nPassword:'\", 0.390625, -34.765625, False]\n",
      "[\"'Denied\\\\nPassword:'\", 0.390625, -33.59375, False]\n",
      "[\"'Denied\\\\nPassword:'\", 0.390625, -32.421875, False]\n",
      "[\"'Denied\\\\nPassword:'\", 0.390625, -31.25, False]\n",
      "[\"'Denied\\\\nPassword:'\", 0.390625, -30.078125, False]\n",
      "[\"''\", 1.5625, -48.828125, False]\n",
      "[\"'\\\\x00hello\\\\nPassword:'\", 1.5625, -47.65625, False]\n",
      "[\"'Denied\\\\nPassword:'\", 1.5625, -46.484375, False]\n",
      "[\"''\", 1.5625, -45.3125, False]\n",
      "[\"'\\\\x00hello\\\\nPassword:'\", 1.5625, -44.140625, False]\n",
      "[\"'Denied\\\\nPassword:'\", 1.5625, -42.96875, False]\n",
      "[\"'Denied\\\\nPassword:'\", 1.5625, -41.796875, False]\n",
      "[\"'Denied\\\\nPassword:'\", 1.5625, -40.625, False]\n",
      "[\"'Denied\\\\nPassword:'\", 1.5625, -39.453125, False]\n",
      "[\"'Denied\\\\nPassword:'\", 1.5625, -38.28125, False]\n",
      "[\"''\", 1.5625, -37.109375, False]\n",
      "[\"'\\\\x00hello\\\\nPassword:'\", 1.5625, -35.9375, False]\n",
      "[\"'Denied\\\\nPassword:'\", 1.5625, -34.765625, False]\n",
      "[\"''\", 1.5625, -33.59375, False]\n",
      "[\"'\\\\x00hello\\\\nPassword:'\", 1.5625, -32.421875, False]\n",
      "[\"'Denied\\\\nPassword:'\", 1.5625, -31.25, False]\n",
      "[\"'Denied\\\\nPassword:'\", 1.5625, -30.078125, False]\n",
      "[\"'Denied\\\\nPassword:'\", 2.734375, -48.828125, False]\n",
      "[\"'Denied\\\\nPassword:'\", 2.734375, -47.65625, False]\n",
      "[\"'Denied\\\\nPassword:'\", 2.734375, -46.484375, False]\n",
      "[\"'Denied\\\\nPassword:'\", 2.734375, -45.3125, False]\n",
      "[\"'Denied\\\\nPassword:'\", 2.734375, -44.140625, False]\n",
      "[\"'Denied\\\\nPassword:'\", 2.734375, -42.96875, False]\n",
      "[\"'Denied\\\\nPassword:'\", 2.734375, -41.796875, False]\n",
      "[\"'Denied\\\\nPassword:'\", 2.734375, -40.625, False]\n",
      "[\"'Denied\\\\nPassword:'\", 2.734375, -39.453125, False]\n",
      "[\"'Denied\\\\nPassword:'\", 2.734375, -38.28125, False]\n",
      "[\"'Denied\\\\nPassword:'\", 2.734375, -37.109375, False]\n",
      "[\"'Denied\\\\nPassword:'\", 2.734375, -35.9375, False]\n",
      "[\"'Denied\\\\nPassword:'\", 2.734375, -34.765625, False]\n",
      "[\"'Denied\\\\nPassword:'\", 2.734375, -33.59375, False]\n",
      "[\"'Denied\\\\nPassword:'\", 2.734375, -32.421875, False]\n",
      "[\"'Denied\\\\nPassword:'\", 2.734375, -31.25, False]\n",
      "[\"'Denied\\\\nPassword:'\", 2.734375, -30.078125, False]\n",
      "[\"'Denied\\\\nPassword:'\", 3.90625, -48.828125, False]\n",
      "[\"'Denied\\\\nPassword:'\", 3.90625, -47.65625, False]\n",
      "[\"'Denied\\\\nPassword:'\", 3.90625, -46.484375, False]\n",
      "[\"'Denied\\\\nPassword:'\", 3.90625, -45.3125, False]\n",
      "[\"'Denied\\\\nPassword:'\", 3.90625, -44.140625, False]\n",
      "[\"'Denied\\\\nPassword:'\", 3.90625, -42.96875, False]\n",
      "[\"'Denied\\\\nPassword:'\", 3.90625, -41.796875, False]\n",
      "[\"'Denied\\\\nPassword:'\", 3.90625, -40.625, False]\n",
      "[\"'Denied\\\\nPassword:'\", 3.90625, -39.453125, False]\n",
      "[\"'Denied\\\\nPassword:'\", 3.90625, -38.28125, False]\n",
      "[\"'Denied\\\\nPassword:'\", 3.90625, -37.109375, False]\n",
      "[\"'Denied\\\\nPassword:'\", 3.90625, -35.9375, False]\n",
      "[\"'Denied\\\\nPassword:'\", 3.90625, -34.765625, False]\n",
      "[\"'Denied\\\\nPassword:'\", 3.90625, -33.59375, False]\n",
      "[\"'Denied\\\\nPassword:'\", 3.90625, -32.421875, False]\n",
      "[\"'Denied\\\\nPassword:'\", 3.90625, -31.25, False]\n",
      "[\"'Denied\\\\nPassword:'\", 3.90625, -30.078125, False]\n",
      "[\"'Denied\\\\nPassword:'\", 5.078125, -48.828125, False]\n",
      "[\"'Denied\\\\nPassword:'\", 5.078125, -47.65625, False]\n",
      "[\"'Denied\\\\nPassword:'\", 5.078125, -46.484375, False]\n",
      "[\"'Denied\\\\nPassword:'\", 5.078125, -45.3125, False]\n",
      "[\"'Denied\\\\nPassword:'\", 5.078125, -44.140625, False]\n",
      "[\"'Denied\\\\nPassword:'\", 5.078125, -42.96875, False]\n",
      "[\"'Denied\\\\nPassword:'\", 5.078125, -41.796875, False]\n",
      "[\"'Denied\\\\nPassword:'\", 5.078125, -40.625, False]\n",
      "[\"'Denied\\\\nPassword:'\", 5.078125, -39.453125, False]\n",
      "[\"'Denied\\\\nPassword:'\", 5.078125, -38.28125, False]\n",
      "[\"'Denied\\\\nPassword:'\", 5.078125, -37.109375, False]\n",
      "[\"'Denied\\\\nPassword:'\", 5.078125, -35.9375, False]\n",
      "[\"'Denied\\\\nPassword:'\", 5.078125, -34.765625, False]\n",
      "[\"'Denied\\\\nPassword:'\", 5.078125, -33.59375, False]\n",
      "[\"'Denied\\\\nPassword:'\", 5.078125, -32.421875, False]\n",
      "[\"'Denied\\\\nPassword:'\", 5.078125, -31.25, False]\n",
      "[\"'Denied\\\\nPassword:'\", 5.078125, -30.078125, False]\n",
      "[\"'Denied\\\\nPassword:'\", 6.25, -48.828125, False]\n",
      "[\"'Denied\\\\nPassword:'\", 6.25, -47.65625, False]\n",
      "[\"'Denied\\\\nPassword:'\", 6.25, -46.484375, False]\n",
      "[\"'Denied\\\\nPassword:'\", 6.25, -45.3125, False]\n",
      "[\"'Denied\\\\nPassword:'\", 6.25, -44.140625, False]\n",
      "[\"'Denied\\\\nPassword:'\", 6.25, -42.96875, False]\n",
      "[\"'Denied\\\\nPassword:'\", 6.25, -41.796875, False]\n",
      "[\"'Denied\\\\nPassword:'\", 6.25, -40.625, False]\n",
      "[\"'Denied\\\\nPassword:'\", 6.25, -39.453125, False]\n",
      "[\"'Denied\\\\nPassword:'\", 6.25, -38.28125, False]\n",
      "[\"'Denied\\\\nPassword:'\", 6.25, -37.109375, False]\n",
      "[\"'Denied\\\\nPassword:'\", 6.25, -35.9375, False]\n",
      "[\"'Denied\\\\nPassword:'\", 6.25, -34.765625, False]\n",
      "[\"'Denied\\\\nPassword:'\", 6.25, -33.59375, False]\n",
      "[\"'Denied\\\\nPassword:'\", 6.25, -32.421875, False]\n",
      "[\"'Denied\\\\nPassword:'\", 6.25, -31.25, False]\n",
      "[\"'Denied\\\\nPassword:'\", 6.25, -30.078125, False]\n",
      "[\"'Denied\\\\nPassword:'\", 7.421875, -48.828125, False]\n",
      "[\"'Denied\\\\nPassword:'\", 7.421875, -47.65625, False]\n",
      "[\"'Denied\\\\nPassword:'\", 7.421875, -46.484375, False]\n",
      "[\"'Denied\\\\nPassword:'\", 7.421875, -45.3125, False]\n",
      "[\"'Denied\\\\nPassword:'\", 7.421875, -44.140625, False]\n",
      "[\"'Denied\\\\nPassword:'\", 7.421875, -42.96875, False]\n",
      "[\"'Denied\\\\nPassword:'\", 7.421875, -41.796875, False]\n",
      "[\"'Denied\\\\nPassword:'\", 7.421875, -40.625, False]\n",
      "[\"'Denied\\\\nPassword:'\", 7.421875, -39.453125, False]\n",
      "[\"'Denied\\\\nPassword:'\", 7.421875, -38.28125, False]\n",
      "[\"'Denied\\\\nPassword:'\", 7.421875, -37.109375, False]\n",
      "[\"'Denied\\\\nPassword:'\", 7.421875, -35.9375, False]\n",
      "[\"'Denied\\\\nPassword:'\", 7.421875, -34.765625, False]\n",
      "[\"'Denied\\\\nPassword:'\", 7.421875, -33.59375, False]\n",
      "[\"'Denied\\\\nPassword:'\", 7.421875, -32.421875, False]\n",
      "[\"'Denied\\\\nPassword:'\", 7.421875, -31.25, False]\n",
      "[\"'Denied\\\\nPassword:'\", 7.421875, -30.078125, False]\n",
      "[\"'Denied\\\\nPassword:'\", 8.59375, -48.828125, False]\n",
      "[\"'Denied\\\\nPassword:'\", 8.59375, -47.65625, False]\n",
      "[\"'Denied\\\\nPassword:'\", 8.59375, -46.484375, False]\n",
      "[\"'Denied\\\\nPassword:'\", 8.59375, -45.3125, False]\n",
      "[\"'Denied\\\\nPassword:'\", 8.59375, -44.140625, False]\n",
      "[\"'Denied\\\\nPassword:'\", 8.59375, -42.96875, False]\n",
      "[\"'Denied\\\\nPassword:'\", 8.59375, -41.796875, False]\n",
      "[\"'Denied\\\\nPassword:'\", 8.59375, -40.625, False]\n",
      "[\"'Denied\\\\nPassword:'\", 8.59375, -39.453125, False]\n",
      "[\"'Denied\\\\nPassword:'\", 8.59375, -38.28125, False]\n",
      "[\"'Denied\\\\nPassword:'\", 8.59375, -37.109375, False]\n",
      "[\"'Denied\\\\nPassword:'\", 8.59375, -35.9375, False]\n",
      "[\"'Denied\\\\nPassword:'\", 8.59375, -34.765625, False]\n",
      "[\"'Denied\\\\nPassword:'\", 8.59375, -33.59375, False]\n",
      "[\"'Denied\\\\nPassword:'\", 8.59375, -32.421875, False]\n",
      "[\"'Denied\\\\nPassword:'\", 8.59375, -31.25, False]\n",
      "[\"'Denied\\\\nPassword:'\", 8.59375, -30.078125, False]\n",
      "[\"'Denied\\\\nPassword:'\", 9.765625, -48.828125, False]\n",
      "[\"'Denied\\\\nPassword:'\", 9.765625, -47.65625, False]\n",
      "[\"'Denied\\\\nPassword:'\", 9.765625, -46.484375, False]\n",
      "[\"'Denied\\\\nPassword:'\", 9.765625, -45.3125, False]\n",
      "[\"'Denied\\\\nPassword:'\", 9.765625, -44.140625, False]\n",
      "[\"'Denied\\\\nPassword:'\", 9.765625, -42.96875, False]\n",
      "[\"'Denied\\\\nPassword:'\", 9.765625, -41.796875, False]\n",
      "[\"'Denied\\\\nPassword:'\", 9.765625, -40.625, False]\n",
      "[\"'Denied\\\\nPassword:'\", 9.765625, -39.453125, False]\n",
      "[\"'Denied\\\\nPassword:'\", 9.765625, -38.28125, False]\n",
      "[\"'Denied\\\\nPassword:'\", 9.765625, -37.109375, False]\n",
      "[\"'Denied\\\\nPassword:'\", 9.765625, -35.9375, False]\n",
      "[\"'Denied\\\\nPassword:'\", 9.765625, -34.765625, False]\n",
      "[\"'Denied\\\\nPassword:'\", 9.765625, -33.59375, False]\n",
      "[\"'Denied\\\\nPassword:'\", 9.765625, -32.421875, False]\n",
      "[\"'Denied\\\\nPassword:'\", 9.765625, -31.25, False]\n",
      "[\"'Denied\\\\nPassword:'\", 9.765625, -30.078125, False]\n"
     ]
    }
   ],
   "source": [
    "for row in data:\n",
    "    print(row)"
   ]
  },
  {
   "cell_type": "markdown",
   "metadata": {},
   "source": [
    "With any luck, you should have some successful attacks. Like with the previous attack, we used a rather large `repeat` value. See if you can reduce the `repeat` to 1 and change `ext_offset` to find exactly where the glitch needs to be inserted.\n",
    "\n",
    "With the tutorial now over, we should disconnect from the ChipWhisperer"
   ]
  },
  {
   "cell_type": "code",
   "execution_count": null,
   "metadata": {},
   "outputs": [],
   "source": [
    "scope.dis()\n",
    "target.dis()"
   ]
  },
  {
   "cell_type": "markdown",
   "metadata": {
    "heading_collapsed": true
   },
   "source": [
    "## Glitching Onward"
   ]
  },
  {
   "cell_type": "markdown",
   "metadata": {
    "hidden": true
   },
   "source": [
    "This basic tutorial has introduced you to glitch attacks. They are a powerful tool for bypassing authentication in embedded hardware devices. There are many ways to expand your knowledge with additional practice, such as:\n",
    "\n",
    "* Manual glitches can be triggered by calling `scope.glitch.manualTrigger()` and `scope.glitch.trigger_src = \"manual\"`. Try using manual glitches to simply glitch past the prompt in `glitch3()`.\n",
    "* Completing Tutorial A3 VCC Glitch Attacks, which introduces glitching via voltage instead of the clock.\n",
    "* Download some example source code (bootloaders, login prompts, etc) and port them to your target. See how you can glitch past security checks.\n",
    "* Use one of the IO triggers discussed in Tutorial_A1_Synchronization_to_Communication_Lines."
   ]
  }
 ],
 "metadata": {
  "kernelspec": {
   "display_name": "Python 3",
   "language": "python",
   "name": "python3"
  },
  "language_info": {
   "codemirror_mode": {
    "name": "ipython",
    "version": 3
   },
   "file_extension": ".py",
   "mimetype": "text/x-python",
   "name": "python",
   "nbconvert_exporter": "python",
   "pygments_lexer": "ipython3",
   "version": "3.6.3"
  },
  "toc": {
   "base_numbering": 1,
   "nav_menu": {},
   "number_sections": true,
   "sideBar": true,
   "skip_h1_title": true,
   "title_cell": "Table of Contents",
   "title_sidebar": "Contents",
   "toc_cell": false,
   "toc_position": {},
   "toc_section_display": true,
   "toc_window_display": true
  }
 },
 "nbformat": 4,
 "nbformat_minor": 2
}
