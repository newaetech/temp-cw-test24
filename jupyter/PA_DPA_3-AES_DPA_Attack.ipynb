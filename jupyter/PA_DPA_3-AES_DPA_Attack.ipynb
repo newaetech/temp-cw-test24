{
 "cells": [
  {
   "cell_type": "markdown",
   "metadata": {
    "toc": true
   },
   "source": [
    "<h1>Table of Contents<span class=\"tocSkip\"></span></h1>\n",
    "<div class=\"toc\"><ul class=\"toc-item\"><li><span><a href=\"#DPA-Attack-Theory\" data-toc-modified-id=\"DPA-Attack-Theory-1\"><span class=\"toc-item-num\">1&nbsp;&nbsp;</span>DPA Attack Theory</a></span></li><li><span><a href=\"#Capturing-Power-Traces\" data-toc-modified-id=\"Capturing-Power-Traces-2\"><span class=\"toc-item-num\">2&nbsp;&nbsp;</span>Capturing Power Traces</a></span><ul class=\"toc-item\"><li><span><a href=\"#Setup\" data-toc-modified-id=\"Setup-2.1\"><span class=\"toc-item-num\">2.1&nbsp;&nbsp;</span>Setup</a></span></li><li><span><a href=\"#Capture\" data-toc-modified-id=\"Capture-2.2\"><span class=\"toc-item-num\">2.2&nbsp;&nbsp;</span>Capture</a></span></li></ul></li><li><span><a href=\"#Analysis\" data-toc-modified-id=\"Analysis-3\"><span class=\"toc-item-num\">3&nbsp;&nbsp;</span>Analysis</a></span></li><li><span><a href=\"#Conclusion\" data-toc-modified-id=\"Conclusion-4\"><span class=\"toc-item-num\">4&nbsp;&nbsp;</span>Conclusion</a></span></li><li><span><a href=\"#Tests\" data-toc-modified-id=\"Tests-5\"><span class=\"toc-item-num\">5&nbsp;&nbsp;</span>Tests</a></span></li></ul></div>"
   ]
  },
  {
   "cell_type": "markdown",
   "metadata": {},
   "source": [
    "# PA_DPA_3-AES_DPA_Attack"
   ]
  },
  {
   "cell_type": "markdown",
   "metadata": {},
   "source": [
    "Before starting this tutorial, it's recommended that you first complete the earlier PA_DPA tutorials since these will familiarize you with the concept of Differental Power Analysis. With that out of the way, let's look at how this attack works."
   ]
  },
  {
   "cell_type": "markdown",
   "metadata": {},
   "source": [
    "## DPA Attack Theory"
   ]
  },
  {
   "cell_type": "markdown",
   "metadata": {},
   "source": [
    "As we explored in the earlier DPA tutorials, the Hamming Weight of the result of the SBox operation in AES has a measurable effect on the power consumed by the microcontroller. It turns out that just this effect (and not anything stronger, such as its linearity) is enough information to break an AES key. There's a few different ways we could go about this, but for this tutorial, we'll be looking at difference of means. With this technique, the goal is to separate the traces by a bit in the result of the SBox output (it doesn't matter which one): if that bit is 1, its group of traces should, on average, have higher power consumption during the SBox operation than the other set. \n",
    "\n",
    "Whether or not we get a large difference in the means between these two groups depends on whether they were properly sorted into these groups. If not, there should be, on average, little difference between the two and therefore a low difference of means. Recall the SBox operation:\n",
    "\n",
    "![title](https://wiki.newae.com/images/7/71/Sbox_cpa_detail.png)\n",
    "\n",
    "The SBox output depends on the subkey, which we don't know (and the plaintext, which we do). However, since there's a large difference of means for the correct key and small ones for the rest of the possible subkeys, we have a method of checking whether a given subkey is correct. If we calculate the difference of means for each subkey, the correct one will have the largest difference of means.\n",
    "\n",
    "Our plan looks as follows\n",
    "1. Capture a bunch of power traces with varying plaintext\n",
    "1. Group each trace by the value of their SBox output's lowest bit for a given key guess\n",
    "1. Calculate the difference of means\n",
    "1. Repeat for each possible subkey\n",
    "1. Select the largest difference of means -> this is the correct subkey\n",
    "1. Repeat for each subkey in the key\n",
    "\n",
    "At the end, we should get a correct AES key!"
   ]
  },
  {
   "cell_type": "code",
   "execution_count": 1,
   "metadata": {},
   "outputs": [],
   "source": [
    "SCOPETYPE = \"OPENADC\"\n",
    "PLATFORM = \"CWLITEXMEGA\"\n",
    "CRYPTO_TARGET=\"AVRCRYPTOLIB\""
   ]
  },
  {
   "cell_type": "code",
   "execution_count": 2,
   "metadata": {},
   "outputs": [
    {
     "name": "stdout",
     "output_type": "stream",
     "text": [
      "rm -f -- simpleserial-aes-CWLITEXMEGA.hex\r\n",
      "rm -f -- simpleserial-aes-CWLITEXMEGA.eep\r\n",
      "rm -f -- simpleserial-aes-CWLITEXMEGA.cof\r\n",
      "rm -f -- simpleserial-aes-CWLITEXMEGA.elf\r\n",
      "rm -f -- simpleserial-aes-CWLITEXMEGA.map\r\n",
      "rm -f -- simpleserial-aes-CWLITEXMEGA.sym\r\n",
      "rm -f -- simpleserial-aes-CWLITEXMEGA.lss\r\n",
      "rm -f -- objdir/*.o\r\n",
      "rm -f -- objdir/*.lst\r\n",
      "rm -f -- simpleserial-aes.s simpleserial.s XMEGA_AES_driver.s uart.s usart_driver.s xmega_hal.s aes-independant.s aes_enc.s aes_keyschedule.s aes_sbox.s aes128_enc.s\r\n",
      "rm -f -- simpleserial-aes.d simpleserial.d XMEGA_AES_driver.d uart.d usart_driver.d xmega_hal.d aes-independant.d aes_enc.d aes_keyschedule.d aes_sbox.d aes128_enc.d\r\n",
      "rm -f -- simpleserial-aes.i simpleserial.i XMEGA_AES_driver.i uart.i usart_driver.i xmega_hal.i aes-independant.i aes_enc.i aes_keyschedule.i aes_sbox.i aes128_enc.i\r\n",
      ".\r\n",
      "-------- begin --------\r\n",
      "avr-gcc (WinAVR 20100110) 4.3.3\r\n",
      "Copyright (C) 2008 Free Software Foundation, Inc.\r\n",
      "This is free software; see the source for copying conditions.  There is NO\r\n",
      "warranty; not even for MERCHANTABILITY or FITNESS FOR A PARTICULAR PURPOSE.\r\n",
      "\r\n",
      ".\r\n",
      "Compiling C: simpleserial-aes.c\r\n",
      "avr-gcc -c -mmcu=atxmega128d3 -I. -DNO_EXTRA_OPTS -fpack-struct -gdwarf-2 -DSS_VER=SS_VER_1_1 -DHAL_TYPE=HAL_xmega -DPLATFORM=CWLITEXMEGA -DAVRCRYPTOLIB -DF_CPU=7372800UL -Os -funsigned-char -funsigned-bitfields -fshort-enums -Wall -Wstrict-prototypes -Wa,-adhlns=objdir/simpleserial-aes.lst -I.././simpleserial/ -I.././hal -I.././hal/xmega -I.././crypto/ -I.././crypto/avrcryptolib//aes -I.././crypto/avrcryptolib//gf256mul -std=gnu99 -MMD -MP -MF .dep/simpleserial-aes.o.d simpleserial-aes.c -o objdir/simpleserial-aes.o \r\n",
      ".\r\n",
      "Compiling C: .././simpleserial/simpleserial.c\r\n",
      "avr-gcc -c -mmcu=atxmega128d3 -I. -DNO_EXTRA_OPTS -fpack-struct -gdwarf-2 -DSS_VER=SS_VER_1_1 -DHAL_TYPE=HAL_xmega -DPLATFORM=CWLITEXMEGA -DAVRCRYPTOLIB -DF_CPU=7372800UL -Os -funsigned-char -funsigned-bitfields -fshort-enums -Wall -Wstrict-prototypes -Wa,-adhlns=objdir/simpleserial.lst -I.././simpleserial/ -I.././hal -I.././hal/xmega -I.././crypto/ -I.././crypto/avrcryptolib//aes -I.././crypto/avrcryptolib//gf256mul -std=gnu99 -MMD -MP -MF .dep/simpleserial.o.d .././simpleserial/simpleserial.c -o objdir/simpleserial.o \r\n",
      ".\r\n",
      "Compiling C: .././hal/xmega/XMEGA_AES_driver.c\r\n",
      "avr-gcc -c -mmcu=atxmega128d3 -I. -DNO_EXTRA_OPTS -fpack-struct -gdwarf-2 -DSS_VER=SS_VER_1_1 -DHAL_TYPE=HAL_xmega -DPLATFORM=CWLITEXMEGA -DAVRCRYPTOLIB -DF_CPU=7372800UL -Os -funsigned-char -funsigned-bitfields -fshort-enums -Wall -Wstrict-prototypes -Wa,-adhlns=objdir/XMEGA_AES_driver.lst -I.././simpleserial/ -I.././hal -I.././hal/xmega -I.././crypto/ -I.././crypto/avrcryptolib//aes -I.././crypto/avrcryptolib//gf256mul -std=gnu99 -MMD -MP -MF .dep/XMEGA_AES_driver.o.d .././hal/xmega/XMEGA_AES_driver.c -o objdir/XMEGA_AES_driver.o \r\n",
      ".\r\n",
      "Compiling C: .././hal/xmega/uart.c\r\n",
      "avr-gcc -c -mmcu=atxmega128d3 -I. -DNO_EXTRA_OPTS -fpack-struct -gdwarf-2 -DSS_VER=SS_VER_1_1 -DHAL_TYPE=HAL_xmega -DPLATFORM=CWLITEXMEGA -DAVRCRYPTOLIB -DF_CPU=7372800UL -Os -funsigned-char -funsigned-bitfields -fshort-enums -Wall -Wstrict-prototypes -Wa,-adhlns=objdir/uart.lst -I.././simpleserial/ -I.././hal -I.././hal/xmega -I.././crypto/ -I.././crypto/avrcryptolib//aes -I.././crypto/avrcryptolib//gf256mul -std=gnu99 -MMD -MP -MF .dep/uart.o.d .././hal/xmega/uart.c -o objdir/uart.o \r\n",
      ".\r\n",
      "Compiling C: .././hal/xmega/usart_driver.c\r\n",
      "avr-gcc -c -mmcu=atxmega128d3 -I. -DNO_EXTRA_OPTS -fpack-struct -gdwarf-2 -DSS_VER=SS_VER_1_1 -DHAL_TYPE=HAL_xmega -DPLATFORM=CWLITEXMEGA -DAVRCRYPTOLIB -DF_CPU=7372800UL -Os -funsigned-char -funsigned-bitfields -fshort-enums -Wall -Wstrict-prototypes -Wa,-adhlns=objdir/usart_driver.lst -I.././simpleserial/ -I.././hal -I.././hal/xmega -I.././crypto/ -I.././crypto/avrcryptolib//aes -I.././crypto/avrcryptolib//gf256mul -std=gnu99 -MMD -MP -MF .dep/usart_driver.o.d .././hal/xmega/usart_driver.c -o objdir/usart_driver.o \r\n",
      ".\r\n",
      "Compiling C: .././hal/xmega/xmega_hal.c\r\n",
      "avr-gcc -c -mmcu=atxmega128d3 -I. -DNO_EXTRA_OPTS -fpack-struct -gdwarf-2 -DSS_VER=SS_VER_1_1 -DHAL_TYPE=HAL_xmega -DPLATFORM=CWLITEXMEGA -DAVRCRYPTOLIB -DF_CPU=7372800UL -Os -funsigned-char -funsigned-bitfields -fshort-enums -Wall -Wstrict-prototypes -Wa,-adhlns=objdir/xmega_hal.lst -I.././simpleserial/ -I.././hal -I.././hal/xmega -I.././crypto/ -I.././crypto/avrcryptolib//aes -I.././crypto/avrcryptolib//gf256mul -std=gnu99 -MMD -MP -MF .dep/xmega_hal.o.d .././hal/xmega/xmega_hal.c -o objdir/xmega_hal.o \r\n",
      ".\r\n",
      "Compiling C: .././crypto/aes-independant.c\r\n",
      "avr-gcc -c -mmcu=atxmega128d3 -I. -DNO_EXTRA_OPTS -fpack-struct -gdwarf-2 -DSS_VER=SS_VER_1_1 -DHAL_TYPE=HAL_xmega -DPLATFORM=CWLITEXMEGA -DAVRCRYPTOLIB -DF_CPU=7372800UL -Os -funsigned-char -funsigned-bitfields -fshort-enums -Wall -Wstrict-prototypes -Wa,-adhlns=objdir/aes-independant.lst -I.././simpleserial/ -I.././hal -I.././hal/xmega -I.././crypto/ -I.././crypto/avrcryptolib//aes -I.././crypto/avrcryptolib//gf256mul -std=gnu99 -MMD -MP -MF .dep/aes-independant.o.d .././crypto/aes-independant.c -o objdir/aes-independant.o \r\n",
      ".\r\n",
      "Compiling C: .././crypto/avrcryptolib//aes/aes_enc.c\r\n",
      "avr-gcc -c -mmcu=atxmega128d3 -I. -DNO_EXTRA_OPTS -fpack-struct -gdwarf-2 -DSS_VER=SS_VER_1_1 -DHAL_TYPE=HAL_xmega -DPLATFORM=CWLITEXMEGA -DAVRCRYPTOLIB -DF_CPU=7372800UL -Os -funsigned-char -funsigned-bitfields -fshort-enums -Wall -Wstrict-prototypes -Wa,-adhlns=objdir/aes_enc.lst -I.././simpleserial/ -I.././hal -I.././hal/xmega -I.././crypto/ -I.././crypto/avrcryptolib//aes -I.././crypto/avrcryptolib//gf256mul -std=gnu99 -MMD -MP -MF .dep/aes_enc.o.d .././crypto/avrcryptolib//aes/aes_enc.c -o objdir/aes_enc.o \r\n",
      ".\r\n",
      "Compiling C: .././crypto/avrcryptolib//aes/aes_keyschedule.c\r\n",
      "avr-gcc -c -mmcu=atxmega128d3 -I. -DNO_EXTRA_OPTS -fpack-struct -gdwarf-2 -DSS_VER=SS_VER_1_1 -DHAL_TYPE=HAL_xmega -DPLATFORM=CWLITEXMEGA -DAVRCRYPTOLIB -DF_CPU=7372800UL -Os -funsigned-char -funsigned-bitfields -fshort-enums -Wall -Wstrict-prototypes -Wa,-adhlns=objdir/aes_keyschedule.lst -I.././simpleserial/ -I.././hal -I.././hal/xmega -I.././crypto/ -I.././crypto/avrcryptolib//aes -I.././crypto/avrcryptolib//gf256mul -std=gnu99 -MMD -MP -MF .dep/aes_keyschedule.o.d .././crypto/avrcryptolib//aes/aes_keyschedule.c -o objdir/aes_keyschedule.o \r\n",
      ".\r\n",
      "Compiling C: .././crypto/avrcryptolib//aes/aes_sbox.c\r\n",
      "avr-gcc -c -mmcu=atxmega128d3 -I. -DNO_EXTRA_OPTS -fpack-struct -gdwarf-2 -DSS_VER=SS_VER_1_1 -DHAL_TYPE=HAL_xmega -DPLATFORM=CWLITEXMEGA -DAVRCRYPTOLIB -DF_CPU=7372800UL -Os -funsigned-char -funsigned-bitfields -fshort-enums -Wall -Wstrict-prototypes -Wa,-adhlns=objdir/aes_sbox.lst -I.././simpleserial/ -I.././hal -I.././hal/xmega -I.././crypto/ -I.././crypto/avrcryptolib//aes -I.././crypto/avrcryptolib//gf256mul -std=gnu99 -MMD -MP -MF .dep/aes_sbox.o.d .././crypto/avrcryptolib//aes/aes_sbox.c -o objdir/aes_sbox.o \r\n",
      ".\r\n",
      "Compiling C: .././crypto/avrcryptolib//aes/aes128_enc.c\r\n",
      "avr-gcc -c -mmcu=atxmega128d3 -I. -DNO_EXTRA_OPTS -fpack-struct -gdwarf-2 -DSS_VER=SS_VER_1_1 -DHAL_TYPE=HAL_xmega -DPLATFORM=CWLITEXMEGA -DAVRCRYPTOLIB -DF_CPU=7372800UL -Os -funsigned-char -funsigned-bitfields -fshort-enums -Wall -Wstrict-prototypes -Wa,-adhlns=objdir/aes128_enc.lst -I.././simpleserial/ -I.././hal -I.././hal/xmega -I.././crypto/ -I.././crypto/avrcryptolib//aes -I.././crypto/avrcryptolib//gf256mul -std=gnu99 -MMD -MP -MF .dep/aes128_enc.o.d .././crypto/avrcryptolib//aes/aes128_enc.c -o objdir/aes128_enc.o \r\n",
      ".\r\n",
      "Assembling: .././crypto/avrcryptolib//gf256mul/gf256mul.S\r\n",
      "avr-gcc -c -mmcu=atxmega128d3 -I. -x assembler-with-cpp -DF_CPU=7372800 -Wa,-gstabs,-adhlns=objdir/gf256mul.lst -I.././simpleserial/ -I.././hal -I.././hal/xmega -I.././crypto/ -I.././crypto/avrcryptolib//aes -I.././crypto/avrcryptolib//gf256mul .././crypto/avrcryptolib//gf256mul/gf256mul.S -o objdir/gf256mul.o\r\n",
      ".\r\n",
      "Linking: simpleserial-aes-CWLITEXMEGA.elf\r\n",
      "avr-gcc -mmcu=atxmega128d3 -I. -DNO_EXTRA_OPTS -fpack-struct -gdwarf-2 -DSS_VER=SS_VER_1_1 -DHAL_TYPE=HAL_xmega -DPLATFORM=CWLITEXMEGA -DAVRCRYPTOLIB -DF_CPU=7372800UL -Os -funsigned-char -funsigned-bitfields -fshort-enums -Wall -Wstrict-prototypes -Wa,-adhlns=objdir/simpleserial-aes.o -I.././simpleserial/ -I.././hal -I.././hal/xmega -I.././crypto/ -I.././crypto/avrcryptolib//aes -I.././crypto/avrcryptolib//gf256mul -std=gnu99 -MMD -MP -MF .dep/simpleserial-aes-CWLITEXMEGA.elf.d objdir/simpleserial-aes.o objdir/simpleserial.o objdir/XMEGA_AES_driver.o objdir/uart.o objdir/usart_driver.o objdir/xmega_hal.o objdir/aes-independant.o objdir/aes_enc.o objdir/aes_keyschedule.o objdir/aes_sbox.o objdir/aes128_enc.o objdir/gf256mul.o --output simpleserial-aes-CWLITEXMEGA.elf -Wl,-Map=simpleserial-aes-CWLITEXMEGA.map,--cref   -lm  \r\n",
      ".\r\n",
      "Creating load file for Flash: simpleserial-aes-CWLITEXMEGA.hex\r\n",
      "avr-objcopy -O ihex -R .eeprom -R .fuse -R .lock -R .signature simpleserial-aes-CWLITEXMEGA.elf simpleserial-aes-CWLITEXMEGA.hex\r\n",
      ".\r\n",
      "Creating load file for EEPROM: simpleserial-aes-CWLITEXMEGA.eep\r\n",
      "avr-objcopy -j .eeprom --set-section-flags=.eeprom=\"alloc,load\" \\\r\n",
      "\t--change-section-lma .eeprom=0 --no-change-warnings -O ihex simpleserial-aes-CWLITEXMEGA.elf simpleserial-aes-CWLITEXMEGA.eep || exit 0\r\n",
      ".\r\n",
      "Creating Extended Listing: simpleserial-aes-CWLITEXMEGA.lss\r\n",
      "avr-objdump -h -S -z simpleserial-aes-CWLITEXMEGA.elf > simpleserial-aes-CWLITEXMEGA.lss\r\n",
      ".\r\n",
      "Creating Symbol Table: simpleserial-aes-CWLITEXMEGA.sym\r\n",
      "avr-nm -n simpleserial-aes-CWLITEXMEGA.elf > simpleserial-aes-CWLITEXMEGA.sym\r\n",
      "Size after:\r\n",
      "   text\t   data\t    bss\t    dec\t    hex\tfilename\r\n",
      "   3440\t     32\t    228\t   3700\t    e74\tsimpleserial-aes-CWLITEXMEGA.elf\r\n",
      "+--------------------------------------------------------\r\n",
      "+ Built for platform CW-Lite XMEGA\r\n",
      "+--------------------------------------------------------\r\n"
     ]
    }
   ],
   "source": [
    "%%bash -s \"$PLATFORM\" \"$CRYPTO_TARGET\"\n",
    "cd ../hardware/victims/firmware/simpleserial-aes\n",
    "make PLATFORM=$1 CRYPTO_TARGET=$2"
   ]
  },
  {
   "cell_type": "markdown",
   "metadata": {},
   "source": [
    "## Capturing Power Traces"
   ]
  },
  {
   "cell_type": "markdown",
   "metadata": {},
   "source": [
    "Capture and setup is similar to earlier tutorials. We'll have to capture a fair number of traces (usually a few thousand here) since Difference of Means isn't a super trace efficient method. As you'll find during the CPA tutorials, CPA is much better in this regard - it can often break AES implementations such as these in under 50 traces.\n",
    "\n",
    "You may also find that you need to modify gain settings and the number of traces you capture - this attack is much more sensitive to gain settings and noise than a CPA attack would be. "
   ]
  },
  {
   "cell_type": "markdown",
   "metadata": {},
   "source": [
    "### Setup"
   ]
  },
  {
   "cell_type": "code",
   "execution_count": 3,
   "metadata": {},
   "outputs": [],
   "source": [
    "%run \"Helper_Scripts/Setup.ipynb\""
   ]
  },
  {
   "cell_type": "code",
   "execution_count": 4,
   "metadata": {},
   "outputs": [],
   "source": [
    "fw_path = \"../hardware/victims/firmware/simpleserial-aes/simpleserial-aes-{}.hex\".format(PLATFORM)"
   ]
  },
  {
   "cell_type": "code",
   "execution_count": 5,
   "metadata": {},
   "outputs": [
    {
     "name": "stdout",
     "output_type": "stream",
     "text": [
      "XMEGA Programming flash...\n",
      "XMEGA Reading flash...\n",
      "Verified flash OK, 3471 bytes\n"
     ]
    }
   ],
   "source": [
    "cw.programTarget(scope, prog, fw_path)"
   ]
  },
  {
   "cell_type": "markdown",
   "metadata": {},
   "source": [
    "### Capture"
   ]
  },
  {
   "cell_type": "code",
   "execution_count": 13,
   "metadata": {},
   "outputs": [
    {
     "name": "stdout",
     "output_type": "stream",
     "text": [
      "cwlite Device\n",
      "gain = \n",
      "    mode = high\n",
      "    gain = 44\n",
      "    db   = 33.859375\n",
      "adc = \n",
      "    state      = False\n",
      "    basic_mode = rising_edge\n",
      "    timeout    = 2\n",
      "    offset     = 1370\n",
      "    presamples = 0\n",
      "    samples    = 1530\n",
      "    decimate   = 1\n",
      "    trig_count = 69824\n",
      "clock = \n",
      "    adc_src       = clkgen_x4\n",
      "    adc_phase     = 0\n",
      "    adc_freq      = 29538459\n",
      "    adc_rate      = 29538459.0\n",
      "    adc_locked    = True\n",
      "    freq_ctr      = 0\n",
      "    freq_ctr_src  = extclk\n",
      "    clkgen_src    = system\n",
      "    extclk_freq   = 10000000\n",
      "    clkgen_mul    = 2\n",
      "    clkgen_div    = 26\n",
      "    clkgen_freq   = 7384615.384615385\n",
      "    clkgen_locked = True\n",
      "trigger = \n",
      "    triggers = tio4\n",
      "    module   = basic\n",
      "io = \n",
      "    tio1       = serial_rx\n",
      "    tio2       = serial_tx\n",
      "    tio3       = high_z\n",
      "    tio4       = high_z\n",
      "    pdid       = high_z\n",
      "    pdic       = high_z\n",
      "    nrst       = high_z\n",
      "    glitch_hp  = False\n",
      "    glitch_lp  = False\n",
      "    extclk_src = hs1\n",
      "    hs2        = clkgen\n",
      "    target_pwr = True\n",
      "glitch = \n",
      "    clk_src     = target\n",
      "    width       = 10.15625\n",
      "    width_fine  = 0\n",
      "    offset      = 10.15625\n",
      "    offset_fine = 0\n",
      "    trigger_src = manual\n",
      "    arm_timing  = after_scope\n",
      "    ext_offset  = 0\n",
      "    repeat      = 1\n",
      "    output      = clock_xor\n",
      "\n"
     ]
    },
    {
     "data": {
      "application/vnd.jupyter.widget-view+json": {
       "model_id": "07ffad1a4770435784084db67c965356",
       "version_major": 2,
       "version_minor": 0
      },
      "text/plain": [
       "HBox(children=(IntProgress(value=0, description='Capturing traces', max=5000, style=ProgressStyle(description_…"
      ]
     },
     "metadata": {},
     "output_type": "display_data"
    },
    {
     "name": "stdout",
     "output_type": "stream",
     "text": [
      "\n"
     ]
    }
   ],
   "source": [
    "#Capture Traces\n",
    "from tqdm import tnrange\n",
    "import numpy as np\n",
    "import time\n",
    "\n",
    "ktp = cw.ktp.Basic(target=target)\n",
    "\n",
    "traces = []\n",
    "textin = []\n",
    "keys = []\n",
    "N = 2000  # Number of traces\n",
    "\n",
    "if PLATFORM == \"CWLITEARM\" or PLATFORM == \"CW308_STM32F3\":\n",
    "    scope.adc.samples = 4000\n",
    "elif PLATFORM == \"CWLITEXMEGA\" or PLATFORM == \"CW303\":\n",
    "    scope.gain.db = 34 #works best with this gain for some reason\n",
    "    scope.adc.samples = 1700 - 170\n",
    "    scope.adc.offset = 500 + 700 + 170\n",
    "    N = 5000\n",
    "target.init()\n",
    "print(scope)\n",
    "for i in tnrange(N, desc='Capturing traces'):\n",
    "    # run aux stuff that should come before trace here\n",
    "\n",
    "    key, text = ktp.newPair()  # manual creation of a key, text pair can be substituted here\n",
    "    textin.append(text)\n",
    "    keys.append(key)\n",
    "    \n",
    "    target.loadEncryptionKey(key)\n",
    "    target.loadInput(text)\n",
    "\n",
    "    # run aux stuff that should run before the scope arms here\n",
    "\n",
    "    scope.arm()\n",
    "\n",
    "    # run aux stuff that should run after the scope arms here\n",
    "\n",
    "    target.go()\n",
    "    timeout = 50\n",
    "    # wait for target to finish\n",
    "    while target.isDone() is False and timeout:\n",
    "        timeout -= 1\n",
    "        time.sleep(0.01)\n",
    "\n",
    "    try:\n",
    "        ret = scope.capture()\n",
    "        if ret:\n",
    "            print('Timeout happened during acquisition')\n",
    "    except IOError as e:\n",
    "        print('IOError: %s' % str(e))\n",
    "\n",
    "    # run aux stuff that should happen after trace here\n",
    "    _ = target.readOutput()  # clears the response from the serial port\n",
    "    traces.append(scope.getLastTrace())\n",
    "\n",
    "#Convert traces to numpy arrays\n",
    "trace_array = np.asarray(traces)  # if you prefer to work with numpy array for number crunching\n",
    "textin_array = np.asarray(textin)\n",
    "known_keys = np.asarray(keys)  # for fixed key, these keys are all the same"
   ]
  },
  {
   "cell_type": "markdown",
   "metadata": {},
   "source": [
    "## Analysis"
   ]
  },
  {
   "cell_type": "markdown",
   "metadata": {},
   "source": [
    "As we discussed above, our goal here is to find the biggest difference of means out of the possible subkey values we could have. First, we'll get some values and functions that will be useful for our calculations. We'll be using `intermediate()` later to get the output of the SBox from a plaintext and key input."
   ]
  },
  {
   "cell_type": "code",
   "execution_count": 14,
   "metadata": {},
   "outputs": [],
   "source": [
    "numtraces = np.shape(trace_array)[0] #total number of traces\n",
    "numpoints = np.shape(trace_array)[1] #samples per trace\n",
    "\n",
    "sbox = (\n",
    "    0x63, 0x7c, 0x77, 0x7b, 0xf2, 0x6b, 0x6f, 0xc5, 0x30, 0x01, 0x67, 0x2b, 0xfe, 0xd7, 0xab, 0x76,\n",
    "    0xca, 0x82, 0xc9, 0x7d, 0xfa, 0x59, 0x47, 0xf0, 0xad, 0xd4, 0xa2, 0xaf, 0x9c, 0xa4, 0x72, 0xc0,\n",
    "    0xb7, 0xfd, 0x93, 0x26, 0x36, 0x3f, 0xf7, 0xcc, 0x34, 0xa5, 0xe5, 0xf1, 0x71, 0xd8, 0x31, 0x15,\n",
    "    0x04, 0xc7, 0x23, 0xc3, 0x18, 0x96, 0x05, 0x9a, 0x07, 0x12, 0x80, 0xe2, 0xeb, 0x27, 0xb2, 0x75,\n",
    "    0x09, 0x83, 0x2c, 0x1a, 0x1b, 0x6e, 0x5a, 0xa0, 0x52, 0x3b, 0xd6, 0xb3, 0x29, 0xe3, 0x2f, 0x84,\n",
    "    0x53, 0xd1, 0x00, 0xed, 0x20, 0xfc, 0xb1, 0x5b, 0x6a, 0xcb, 0xbe, 0x39, 0x4a, 0x4c, 0x58, 0xcf,\n",
    "    0xd0, 0xef, 0xaa, 0xfb, 0x43, 0x4d, 0x33, 0x85, 0x45, 0xf9, 0x02, 0x7f, 0x50, 0x3c, 0x9f, 0xa8,\n",
    "    0x51, 0xa3, 0x40, 0x8f, 0x92, 0x9d, 0x38, 0xf5, 0xbc, 0xb6, 0xda, 0x21, 0x10, 0xff, 0xf3, 0xd2,\n",
    "    0xcd, 0x0c, 0x13, 0xec, 0x5f, 0x97, 0x44, 0x17, 0xc4, 0xa7, 0x7e, 0x3d, 0x64, 0x5d, 0x19, 0x73,\n",
    "    0x60, 0x81, 0x4f, 0xdc, 0x22, 0x2a, 0x90, 0x88, 0x46, 0xee, 0xb8, 0x14, 0xde, 0x5e, 0x0b, 0xdb,\n",
    "    0xe0, 0x32, 0x3a, 0x0a, 0x49, 0x06, 0x24, 0x5c, 0xc2, 0xd3, 0xac, 0x62, 0x91, 0x95, 0xe4, 0x79,\n",
    "    0xe7, 0xc8, 0x37, 0x6d, 0x8d, 0xd5, 0x4e, 0xa9, 0x6c, 0x56, 0xf4, 0xea, 0x65, 0x7a, 0xae, 0x08,\n",
    "    0xba, 0x78, 0x25, 0x2e, 0x1c, 0xa6, 0xb4, 0xc6, 0xe8, 0xdd, 0x74, 0x1f, 0x4b, 0xbd, 0x8b, 0x8a,\n",
    "    0x70, 0x3e, 0xb5, 0x66, 0x48, 0x03, 0xf6, 0x0e, 0x61, 0x35, 0x57, 0xb9, 0x86, 0xc1, 0x1d, 0x9e,\n",
    "    0xe1, 0xf8, 0x98, 0x11, 0x69, 0xd9, 0x8e, 0x94, 0x9b, 0x1e, 0x87, 0xe9, 0xce, 0x55, 0x28, 0xdf,\n",
    "    0x8c, 0xa1, 0x89, 0x0d, 0xbf, 0xe6, 0x42, 0x68, 0x41, 0x99, 0x2d, 0x0f, 0xb0, 0x54, 0xbb, 0x16)\n",
    "\n",
    "def intermediate(pt, keyguess):\n",
    "    return sbox[pt ^ keyguess]"
   ]
  },
  {
   "cell_type": "markdown",
   "metadata": {},
   "source": [
    "Our first step here will be separating our traces into different groups based on the SBox's output. As mentioned earlier, we're separating based on the least significant bit, but really any bit would work (as a test, you can change this and see if the attack still works):\n",
    "\n",
    "```Python\n",
    "one_list = []\n",
    "zero_list = []\n",
    "for tnum in range(numtraces):\n",
    "    if (intermediate(textin_array[tnum][subkey], kguess) & 1):\n",
    "        one_list.append(trace_array[tnum])\n",
    "    else:\n",
    "        zero_list.append(trace_array[tnum])\n",
    "```\n",
    "\n",
    "Then calculate the difference of means:\n",
    "\n",
    "```Python\n",
    "one_avg = np.asarray(one_list).mean(axis=0)\n",
    "zero_avg = np.asarray(zero_list).mean(axis=0)\n",
    "mean_diffs[kguess] = np.max(abs(one_avg - zero_avg))\n",
    "```\n",
    "\n",
    "We'll need to repeat this with each possible key guess and then pick the one with the highest difference of means:\n",
    "```Python\n",
    "guess = np.argsort(mean_diffs)[-1]\n",
    "key_guess.append(guess)\n",
    "print(hex(guess))\n",
    "print(mean_diffs[guess])\n",
    "```\n",
    "\n",
    "Finally, altogether and attacking all of the subkeys:"
   ]
  },
  {
   "cell_type": "code",
   "execution_count": 15,
   "metadata": {},
   "outputs": [
    {
     "data": {
      "application/vnd.jupyter.widget-view+json": {
       "model_id": "a9ca0a41a6544247a5be6d5b1bab49e1",
       "version_major": 2,
       "version_minor": 0
      },
      "text/plain": [
       "HBox(children=(IntProgress(value=0, description='Attacking Subkey', max=16, style=ProgressStyle(description_wi…"
      ]
     },
     "metadata": {},
     "output_type": "display_data"
    },
    {
     "data": {
      "application/vnd.jupyter.widget-view+json": {
       "model_id": "",
       "version_major": 2,
       "version_minor": 0
      },
      "text/plain": [
       "HBox(children=(IntProgress(value=0, description='Keyguess', max=255, style=ProgressStyle(description_width='in…"
      ]
     },
     "metadata": {},
     "output_type": "display_data"
    },
    {
     "name": "stdout",
     "output_type": "stream",
     "text": [
      "0x2b(real = 0x2B)\n",
      "0.015823563752175196\n",
      "0.015823563752175196\n"
     ]
    },
    {
     "data": {
      "application/vnd.jupyter.widget-view+json": {
       "model_id": "",
       "version_major": 2,
       "version_minor": 0
      },
      "text/plain": [
       "HBox(children=(IntProgress(value=0, description='Keyguess', max=255, style=ProgressStyle(description_width='in…"
      ]
     },
     "metadata": {},
     "output_type": "display_data"
    },
    {
     "name": "stdout",
     "output_type": "stream",
     "text": [
      "0x7e(real = 0x7E)\n",
      "0.018061103494413977\n",
      "0.018061103494413977\n"
     ]
    },
    {
     "data": {
      "application/vnd.jupyter.widget-view+json": {
       "model_id": "",
       "version_major": 2,
       "version_minor": 0
      },
      "text/plain": [
       "HBox(children=(IntProgress(value=0, description='Keyguess', max=255, style=ProgressStyle(description_width='in…"
      ]
     },
     "metadata": {},
     "output_type": "display_data"
    },
    {
     "name": "stdout",
     "output_type": "stream",
     "text": [
      "0x15(real = 0x15)\n",
      "0.016951614681458727\n",
      "0.016951614681458727\n"
     ]
    },
    {
     "data": {
      "application/vnd.jupyter.widget-view+json": {
       "model_id": "",
       "version_major": 2,
       "version_minor": 0
      },
      "text/plain": [
       "HBox(children=(IntProgress(value=0, description='Keyguess', max=255, style=ProgressStyle(description_width='in…"
      ]
     },
     "metadata": {},
     "output_type": "display_data"
    },
    {
     "name": "stdout",
     "output_type": "stream",
     "text": [
      "0x16(real = 0x16)\n",
      "0.015873129883450743\n",
      "0.015873129883450743\n"
     ]
    },
    {
     "data": {
      "application/vnd.jupyter.widget-view+json": {
       "model_id": "",
       "version_major": 2,
       "version_minor": 0
      },
      "text/plain": [
       "HBox(children=(IntProgress(value=0, description='Keyguess', max=255, style=ProgressStyle(description_width='in…"
      ]
     },
     "metadata": {},
     "output_type": "display_data"
    },
    {
     "name": "stdout",
     "output_type": "stream",
     "text": [
      "0x28(real = 0x28)\n",
      "0.016513993816346106\n",
      "0.016513993816346106\n"
     ]
    },
    {
     "data": {
      "application/vnd.jupyter.widget-view+json": {
       "model_id": "",
       "version_major": 2,
       "version_minor": 0
      },
      "text/plain": [
       "HBox(children=(IntProgress(value=0, description='Keyguess', max=255, style=ProgressStyle(description_width='in…"
      ]
     },
     "metadata": {},
     "output_type": "display_data"
    },
    {
     "name": "stdout",
     "output_type": "stream",
     "text": [
      "0xae(real = 0xAE)\n",
      "0.01595357211457843\n",
      "0.01595357211457843\n"
     ]
    },
    {
     "data": {
      "application/vnd.jupyter.widget-view+json": {
       "model_id": "",
       "version_major": 2,
       "version_minor": 0
      },
      "text/plain": [
       "HBox(children=(IntProgress(value=0, description='Keyguess', max=255, style=ProgressStyle(description_width='in…"
      ]
     },
     "metadata": {},
     "output_type": "display_data"
    },
    {
     "name": "stdout",
     "output_type": "stream",
     "text": [
      "0xd2(real = 0xD2)\n",
      "0.01649142348212035\n",
      "0.01649142348212035\n"
     ]
    },
    {
     "data": {
      "application/vnd.jupyter.widget-view+json": {
       "model_id": "",
       "version_major": 2,
       "version_minor": 0
      },
      "text/plain": [
       "HBox(children=(IntProgress(value=0, description='Keyguess', max=255, style=ProgressStyle(description_width='in…"
      ]
     },
     "metadata": {},
     "output_type": "display_data"
    },
    {
     "name": "stdout",
     "output_type": "stream",
     "text": [
      "0xa6(real = 0xA6)\n",
      "0.01611508676802237\n",
      "0.01611508676802237\n"
     ]
    },
    {
     "data": {
      "application/vnd.jupyter.widget-view+json": {
       "model_id": "",
       "version_major": 2,
       "version_minor": 0
      },
      "text/plain": [
       "HBox(children=(IntProgress(value=0, description='Keyguess', max=255, style=ProgressStyle(description_width='in…"
      ]
     },
     "metadata": {},
     "output_type": "display_data"
    },
    {
     "name": "stdout",
     "output_type": "stream",
     "text": [
      "0xab(real = 0xAB)\n",
      "0.016195342751936126\n",
      "0.016195342751936126\n"
     ]
    },
    {
     "data": {
      "application/vnd.jupyter.widget-view+json": {
       "model_id": "",
       "version_major": 2,
       "version_minor": 0
      },
      "text/plain": [
       "HBox(children=(IntProgress(value=0, description='Keyguess', max=255, style=ProgressStyle(description_width='in…"
      ]
     },
     "metadata": {},
     "output_type": "display_data"
    },
    {
     "name": "stdout",
     "output_type": "stream",
     "text": [
      "0xf7(real = 0xF7)\n",
      "0.01689377716216628\n",
      "0.01689377716216628\n"
     ]
    },
    {
     "data": {
      "application/vnd.jupyter.widget-view+json": {
       "model_id": "",
       "version_major": 2,
       "version_minor": 0
      },
      "text/plain": [
       "HBox(children=(IntProgress(value=0, description='Keyguess', max=255, style=ProgressStyle(description_width='in…"
      ]
     },
     "metadata": {},
     "output_type": "display_data"
    },
    {
     "name": "stdout",
     "output_type": "stream",
     "text": [
      "0x15(real = 0x15)\n",
      "0.016887841790218516\n",
      "0.016887841790218516\n"
     ]
    },
    {
     "data": {
      "application/vnd.jupyter.widget-view+json": {
       "model_id": "",
       "version_major": 2,
       "version_minor": 0
      },
      "text/plain": [
       "HBox(children=(IntProgress(value=0, description='Keyguess', max=255, style=ProgressStyle(description_width='in…"
      ]
     },
     "metadata": {},
     "output_type": "display_data"
    },
    {
     "name": "stdout",
     "output_type": "stream",
     "text": [
      "0x88(real = 0x88)\n",
      "0.015350254940920904\n",
      "0.015350254940920904\n"
     ]
    },
    {
     "data": {
      "application/vnd.jupyter.widget-view+json": {
       "model_id": "",
       "version_major": 2,
       "version_minor": 0
      },
      "text/plain": [
       "HBox(children=(IntProgress(value=0, description='Keyguess', max=255, style=ProgressStyle(description_width='in…"
      ]
     },
     "metadata": {},
     "output_type": "display_data"
    },
    {
     "name": "stdout",
     "output_type": "stream",
     "text": [
      "0x9(real = 0x09)\n",
      "0.015979218194920042\n",
      "0.015979218194920042\n"
     ]
    },
    {
     "data": {
      "application/vnd.jupyter.widget-view+json": {
       "model_id": "",
       "version_major": 2,
       "version_minor": 0
      },
      "text/plain": [
       "HBox(children=(IntProgress(value=0, description='Keyguess', max=255, style=ProgressStyle(description_width='in…"
      ]
     },
     "metadata": {},
     "output_type": "display_data"
    },
    {
     "name": "stdout",
     "output_type": "stream",
     "text": [
      "0xcf(real = 0xCF)\n",
      "0.0163163905199597\n",
      "0.0163163905199597\n"
     ]
    },
    {
     "data": {
      "application/vnd.jupyter.widget-view+json": {
       "model_id": "",
       "version_major": 2,
       "version_minor": 0
      },
      "text/plain": [
       "HBox(children=(IntProgress(value=0, description='Keyguess', max=255, style=ProgressStyle(description_width='in…"
      ]
     },
     "metadata": {},
     "output_type": "display_data"
    },
    {
     "name": "stdout",
     "output_type": "stream",
     "text": [
      "0x4f(real = 0x4F)\n",
      "0.015904434332774386\n",
      "0.015904434332774386\n"
     ]
    },
    {
     "data": {
      "application/vnd.jupyter.widget-view+json": {
       "model_id": "",
       "version_major": 2,
       "version_minor": 0
      },
      "text/plain": [
       "HBox(children=(IntProgress(value=0, description='Keyguess', max=255, style=ProgressStyle(description_width='in…"
      ]
     },
     "metadata": {},
     "output_type": "display_data"
    },
    {
     "name": "stdout",
     "output_type": "stream",
     "text": [
      "0x3c(real = 0x3C)\n",
      "0.017139865436179402\n",
      "0.017139865436179402\n",
      "\n"
     ]
    }
   ],
   "source": [
    "from tqdm import tnrange\n",
    "import numpy as np\n",
    "mean_diffs = np.zeros(255)\n",
    "key_guess = []\n",
    "known_key = known_keys[0]\n",
    "plots = []\n",
    "for subkey in tnrange(0, 16, desc=\"Attacking Subkey\"):\n",
    "    for kguess in tnrange(255, desc=\"Keyguess\", leave=False):\n",
    "        one_list = []\n",
    "        zero_list = []\n",
    "        \n",
    "        for tnum in range(numtraces):\n",
    "            if (intermediate(textin_array[tnum][subkey], kguess) & 1): #LSB is 1\n",
    "                one_list.append(trace_array[tnum])\n",
    "            else:\n",
    "                zero_list.append(trace_array[tnum])\n",
    "        one_avg = np.asarray(one_list).mean(axis=0)\n",
    "        zero_avg = np.asarray(zero_list).mean(axis=0)\n",
    "        mean_diffs[kguess] = np.max(abs(one_avg - zero_avg))\n",
    "        if kguess == known_key[subkey]:\n",
    "            plots.append(abs(one_avg - zero_avg))\n",
    "    guess = np.argsort(mean_diffs)[-1]\n",
    "    key_guess.append(guess)\n",
    "    print(hex(guess) + \"(real = 0x{:02X})\".format(known_key[subkey]))\n",
    "    #mean_diffs.sort()\n",
    "    print(mean_diffs[guess])\n",
    "    print(mean_diffs[known_key[subkey]])"
   ]
  },
  {
   "cell_type": "markdown",
   "metadata": {},
   "source": [
    "With that done, we should now have the correct key:"
   ]
  },
  {
   "cell_type": "code",
   "execution_count": 16,
   "metadata": {},
   "outputs": [
    {
     "name": "stdout",
     "output_type": "stream",
     "text": [
      "[43, 126, 21, 22, 40, 174, 210, 166, 171, 247, 21, 136, 9, 207, 79, 60]\n",
      "[ 43 126  21  22  40 174 210 166 171 247  21 136   9 207  79  60]\n"
     ]
    }
   ],
   "source": [
    "print(key_guess)\n",
    "print(known_key)"
   ]
  },
  {
   "cell_type": "markdown",
   "metadata": {},
   "source": [
    "We can also plot the difference of means for a few of the correct subkey bytes:"
   ]
  },
  {
   "cell_type": "code",
   "execution_count": 17,
   "metadata": {},
   "outputs": [
    {
     "data": {
      "text/html": [
       "\n",
       "    <div class=\"bk-root\">\n",
       "        <a href=\"https://bokeh.pydata.org\" target=\"_blank\" class=\"bk-logo bk-logo-small bk-logo-notebook\"></a>\n",
       "        <span id=\"1296\">Loading BokehJS ...</span>\n",
       "    </div>"
      ]
     },
     "metadata": {},
     "output_type": "display_data"
    },
    {
     "data": {
      "application/javascript": [
       "\n",
       "(function(root) {\n",
       "  function now() {\n",
       "    return new Date();\n",
       "  }\n",
       "\n",
       "  var force = true;\n",
       "\n",
       "  if (typeof (root._bokeh_onload_callbacks) === \"undefined\" || force === true) {\n",
       "    root._bokeh_onload_callbacks = [];\n",
       "    root._bokeh_is_loading = undefined;\n",
       "  }\n",
       "\n",
       "  var JS_MIME_TYPE = 'application/javascript';\n",
       "  var HTML_MIME_TYPE = 'text/html';\n",
       "  var EXEC_MIME_TYPE = 'application/vnd.bokehjs_exec.v0+json';\n",
       "  var CLASS_NAME = 'output_bokeh rendered_html';\n",
       "\n",
       "  /**\n",
       "   * Render data to the DOM node\n",
       "   */\n",
       "  function render(props, node) {\n",
       "    var script = document.createElement(\"script\");\n",
       "    node.appendChild(script);\n",
       "  }\n",
       "\n",
       "  /**\n",
       "   * Handle when an output is cleared or removed\n",
       "   */\n",
       "  function handleClearOutput(event, handle) {\n",
       "    var cell = handle.cell;\n",
       "\n",
       "    var id = cell.output_area._bokeh_element_id;\n",
       "    var server_id = cell.output_area._bokeh_server_id;\n",
       "    // Clean up Bokeh references\n",
       "    if (id != null && id in Bokeh.index) {\n",
       "      Bokeh.index[id].model.document.clear();\n",
       "      delete Bokeh.index[id];\n",
       "    }\n",
       "\n",
       "    if (server_id !== undefined) {\n",
       "      // Clean up Bokeh references\n",
       "      var cmd = \"from bokeh.io.state import curstate; print(curstate().uuid_to_server['\" + server_id + \"'].get_sessions()[0].document.roots[0]._id)\";\n",
       "      cell.notebook.kernel.execute(cmd, {\n",
       "        iopub: {\n",
       "          output: function(msg) {\n",
       "            var id = msg.content.text.trim();\n",
       "            if (id in Bokeh.index) {\n",
       "              Bokeh.index[id].model.document.clear();\n",
       "              delete Bokeh.index[id];\n",
       "            }\n",
       "          }\n",
       "        }\n",
       "      });\n",
       "      // Destroy server and session\n",
       "      var cmd = \"import bokeh.io.notebook as ion; ion.destroy_server('\" + server_id + \"')\";\n",
       "      cell.notebook.kernel.execute(cmd);\n",
       "    }\n",
       "  }\n",
       "\n",
       "  /**\n",
       "   * Handle when a new output is added\n",
       "   */\n",
       "  function handleAddOutput(event, handle) {\n",
       "    var output_area = handle.output_area;\n",
       "    var output = handle.output;\n",
       "\n",
       "    // limit handleAddOutput to display_data with EXEC_MIME_TYPE content only\n",
       "    if ((output.output_type != \"display_data\") || (!output.data.hasOwnProperty(EXEC_MIME_TYPE))) {\n",
       "      return\n",
       "    }\n",
       "\n",
       "    var toinsert = output_area.element.find(\".\" + CLASS_NAME.split(' ')[0]);\n",
       "\n",
       "    if (output.metadata[EXEC_MIME_TYPE][\"id\"] !== undefined) {\n",
       "      toinsert[toinsert.length - 1].firstChild.textContent = output.data[JS_MIME_TYPE];\n",
       "      // store reference to embed id on output_area\n",
       "      output_area._bokeh_element_id = output.metadata[EXEC_MIME_TYPE][\"id\"];\n",
       "    }\n",
       "    if (output.metadata[EXEC_MIME_TYPE][\"server_id\"] !== undefined) {\n",
       "      var bk_div = document.createElement(\"div\");\n",
       "      bk_div.innerHTML = output.data[HTML_MIME_TYPE];\n",
       "      var script_attrs = bk_div.children[0].attributes;\n",
       "      for (var i = 0; i < script_attrs.length; i++) {\n",
       "        toinsert[toinsert.length - 1].firstChild.setAttribute(script_attrs[i].name, script_attrs[i].value);\n",
       "      }\n",
       "      // store reference to server id on output_area\n",
       "      output_area._bokeh_server_id = output.metadata[EXEC_MIME_TYPE][\"server_id\"];\n",
       "    }\n",
       "  }\n",
       "\n",
       "  function register_renderer(events, OutputArea) {\n",
       "\n",
       "    function append_mime(data, metadata, element) {\n",
       "      // create a DOM node to render to\n",
       "      var toinsert = this.create_output_subarea(\n",
       "        metadata,\n",
       "        CLASS_NAME,\n",
       "        EXEC_MIME_TYPE\n",
       "      );\n",
       "      this.keyboard_manager.register_events(toinsert);\n",
       "      // Render to node\n",
       "      var props = {data: data, metadata: metadata[EXEC_MIME_TYPE]};\n",
       "      render(props, toinsert[toinsert.length - 1]);\n",
       "      element.append(toinsert);\n",
       "      return toinsert\n",
       "    }\n",
       "\n",
       "    /* Handle when an output is cleared or removed */\n",
       "    events.on('clear_output.CodeCell', handleClearOutput);\n",
       "    events.on('delete.Cell', handleClearOutput);\n",
       "\n",
       "    /* Handle when a new output is added */\n",
       "    events.on('output_added.OutputArea', handleAddOutput);\n",
       "\n",
       "    /**\n",
       "     * Register the mime type and append_mime function with output_area\n",
       "     */\n",
       "    OutputArea.prototype.register_mime_type(EXEC_MIME_TYPE, append_mime, {\n",
       "      /* Is output safe? */\n",
       "      safe: true,\n",
       "      /* Index of renderer in `output_area.display_order` */\n",
       "      index: 0\n",
       "    });\n",
       "  }\n",
       "\n",
       "  // register the mime type if in Jupyter Notebook environment and previously unregistered\n",
       "  if (root.Jupyter !== undefined) {\n",
       "    var events = require('base/js/events');\n",
       "    var OutputArea = require('notebook/js/outputarea').OutputArea;\n",
       "\n",
       "    if (OutputArea.prototype.mime_types().indexOf(EXEC_MIME_TYPE) == -1) {\n",
       "      register_renderer(events, OutputArea);\n",
       "    }\n",
       "  }\n",
       "\n",
       "  \n",
       "  if (typeof (root._bokeh_timeout) === \"undefined\" || force === true) {\n",
       "    root._bokeh_timeout = Date.now() + 5000;\n",
       "    root._bokeh_failed_load = false;\n",
       "  }\n",
       "\n",
       "  var NB_LOAD_WARNING = {'data': {'text/html':\n",
       "     \"<div style='background-color: #fdd'>\\n\"+\n",
       "     \"<p>\\n\"+\n",
       "     \"BokehJS does not appear to have successfully loaded. If loading BokehJS from CDN, this \\n\"+\n",
       "     \"may be due to a slow or bad network connection. Possible fixes:\\n\"+\n",
       "     \"</p>\\n\"+\n",
       "     \"<ul>\\n\"+\n",
       "     \"<li>re-rerun `output_notebook()` to attempt to load from CDN again, or</li>\\n\"+\n",
       "     \"<li>use INLINE resources instead, as so:</li>\\n\"+\n",
       "     \"</ul>\\n\"+\n",
       "     \"<code>\\n\"+\n",
       "     \"from bokeh.resources import INLINE\\n\"+\n",
       "     \"output_notebook(resources=INLINE)\\n\"+\n",
       "     \"</code>\\n\"+\n",
       "     \"</div>\"}};\n",
       "\n",
       "  function display_loaded() {\n",
       "    var el = document.getElementById(\"1296\");\n",
       "    if (el != null) {\n",
       "      el.textContent = \"BokehJS is loading...\";\n",
       "    }\n",
       "    if (root.Bokeh !== undefined) {\n",
       "      if (el != null) {\n",
       "        el.textContent = \"BokehJS \" + root.Bokeh.version + \" successfully loaded.\";\n",
       "      }\n",
       "    } else if (Date.now() < root._bokeh_timeout) {\n",
       "      setTimeout(display_loaded, 100)\n",
       "    }\n",
       "  }\n",
       "\n",
       "\n",
       "  function run_callbacks() {\n",
       "    try {\n",
       "      root._bokeh_onload_callbacks.forEach(function(callback) { callback() });\n",
       "    }\n",
       "    finally {\n",
       "      delete root._bokeh_onload_callbacks\n",
       "    }\n",
       "    console.info(\"Bokeh: all callbacks have finished\");\n",
       "  }\n",
       "\n",
       "  function load_libs(js_urls, callback) {\n",
       "    root._bokeh_onload_callbacks.push(callback);\n",
       "    if (root._bokeh_is_loading > 0) {\n",
       "      console.log(\"Bokeh: BokehJS is being loaded, scheduling callback at\", now());\n",
       "      return null;\n",
       "    }\n",
       "    if (js_urls == null || js_urls.length === 0) {\n",
       "      run_callbacks();\n",
       "      return null;\n",
       "    }\n",
       "    console.log(\"Bokeh: BokehJS not loaded, scheduling load and callback at\", now());\n",
       "    root._bokeh_is_loading = js_urls.length;\n",
       "    for (var i = 0; i < js_urls.length; i++) {\n",
       "      var url = js_urls[i];\n",
       "      var s = document.createElement('script');\n",
       "      s.src = url;\n",
       "      s.async = false;\n",
       "      s.onreadystatechange = s.onload = function() {\n",
       "        root._bokeh_is_loading--;\n",
       "        if (root._bokeh_is_loading === 0) {\n",
       "          console.log(\"Bokeh: all BokehJS libraries loaded\");\n",
       "          run_callbacks()\n",
       "        }\n",
       "      };\n",
       "      s.onerror = function() {\n",
       "        console.warn(\"failed to load library \" + url);\n",
       "      };\n",
       "      console.log(\"Bokeh: injecting script tag for BokehJS library: \", url);\n",
       "      document.getElementsByTagName(\"head\")[0].appendChild(s);\n",
       "    }\n",
       "  };var element = document.getElementById(\"1296\");\n",
       "  if (element == null) {\n",
       "    console.log(\"Bokeh: ERROR: autoload.js configured with elementid '1296' but no matching script tag was found. \")\n",
       "    return false;\n",
       "  }\n",
       "\n",
       "  var js_urls = [\"https://cdn.pydata.org/bokeh/release/bokeh-1.0.1.min.js\", \"https://cdn.pydata.org/bokeh/release/bokeh-widgets-1.0.1.min.js\", \"https://cdn.pydata.org/bokeh/release/bokeh-tables-1.0.1.min.js\", \"https://cdn.pydata.org/bokeh/release/bokeh-gl-1.0.1.min.js\"];\n",
       "\n",
       "  var inline_js = [\n",
       "    function(Bokeh) {\n",
       "      Bokeh.set_log_level(\"info\");\n",
       "    },\n",
       "    \n",
       "    function(Bokeh) {\n",
       "      \n",
       "    },\n",
       "    function(Bokeh) {\n",
       "      console.log(\"Bokeh: injecting CSS: https://cdn.pydata.org/bokeh/release/bokeh-1.0.1.min.css\");\n",
       "      Bokeh.embed.inject_css(\"https://cdn.pydata.org/bokeh/release/bokeh-1.0.1.min.css\");\n",
       "      console.log(\"Bokeh: injecting CSS: https://cdn.pydata.org/bokeh/release/bokeh-widgets-1.0.1.min.css\");\n",
       "      Bokeh.embed.inject_css(\"https://cdn.pydata.org/bokeh/release/bokeh-widgets-1.0.1.min.css\");\n",
       "      console.log(\"Bokeh: injecting CSS: https://cdn.pydata.org/bokeh/release/bokeh-tables-1.0.1.min.css\");\n",
       "      Bokeh.embed.inject_css(\"https://cdn.pydata.org/bokeh/release/bokeh-tables-1.0.1.min.css\");\n",
       "    }\n",
       "  ];\n",
       "\n",
       "  function run_inline_js() {\n",
       "    \n",
       "    if ((root.Bokeh !== undefined) || (force === true)) {\n",
       "      for (var i = 0; i < inline_js.length; i++) {\n",
       "        inline_js[i].call(root, root.Bokeh);\n",
       "      }if (force === true) {\n",
       "        display_loaded();\n",
       "      }} else if (Date.now() < root._bokeh_timeout) {\n",
       "      setTimeout(run_inline_js, 100);\n",
       "    } else if (!root._bokeh_failed_load) {\n",
       "      console.log(\"Bokeh: BokehJS failed to load within specified timeout.\");\n",
       "      root._bokeh_failed_load = true;\n",
       "    } else if (force !== true) {\n",
       "      var cell = $(document.getElementById(\"1296\")).parents('.cell').data().cell;\n",
       "      cell.output_area.append_execute_result(NB_LOAD_WARNING)\n",
       "    }\n",
       "\n",
       "  }\n",
       "\n",
       "  if (root._bokeh_is_loading === 0) {\n",
       "    console.log(\"Bokeh: BokehJS loaded, going straight to plotting\");\n",
       "    run_inline_js();\n",
       "  } else {\n",
       "    load_libs(js_urls, function() {\n",
       "      console.log(\"Bokeh: BokehJS plotting callback run at\", now());\n",
       "      run_inline_js();\n",
       "    });\n",
       "  }\n",
       "}(window));"
      ],
      "application/vnd.bokehjs_load.v0+json": "\n(function(root) {\n  function now() {\n    return new Date();\n  }\n\n  var force = true;\n\n  if (typeof (root._bokeh_onload_callbacks) === \"undefined\" || force === true) {\n    root._bokeh_onload_callbacks = [];\n    root._bokeh_is_loading = undefined;\n  }\n\n  \n\n  \n  if (typeof (root._bokeh_timeout) === \"undefined\" || force === true) {\n    root._bokeh_timeout = Date.now() + 5000;\n    root._bokeh_failed_load = false;\n  }\n\n  var NB_LOAD_WARNING = {'data': {'text/html':\n     \"<div style='background-color: #fdd'>\\n\"+\n     \"<p>\\n\"+\n     \"BokehJS does not appear to have successfully loaded. If loading BokehJS from CDN, this \\n\"+\n     \"may be due to a slow or bad network connection. Possible fixes:\\n\"+\n     \"</p>\\n\"+\n     \"<ul>\\n\"+\n     \"<li>re-rerun `output_notebook()` to attempt to load from CDN again, or</li>\\n\"+\n     \"<li>use INLINE resources instead, as so:</li>\\n\"+\n     \"</ul>\\n\"+\n     \"<code>\\n\"+\n     \"from bokeh.resources import INLINE\\n\"+\n     \"output_notebook(resources=INLINE)\\n\"+\n     \"</code>\\n\"+\n     \"</div>\"}};\n\n  function display_loaded() {\n    var el = document.getElementById(\"1296\");\n    if (el != null) {\n      el.textContent = \"BokehJS is loading...\";\n    }\n    if (root.Bokeh !== undefined) {\n      if (el != null) {\n        el.textContent = \"BokehJS \" + root.Bokeh.version + \" successfully loaded.\";\n      }\n    } else if (Date.now() < root._bokeh_timeout) {\n      setTimeout(display_loaded, 100)\n    }\n  }\n\n\n  function run_callbacks() {\n    try {\n      root._bokeh_onload_callbacks.forEach(function(callback) { callback() });\n    }\n    finally {\n      delete root._bokeh_onload_callbacks\n    }\n    console.info(\"Bokeh: all callbacks have finished\");\n  }\n\n  function load_libs(js_urls, callback) {\n    root._bokeh_onload_callbacks.push(callback);\n    if (root._bokeh_is_loading > 0) {\n      console.log(\"Bokeh: BokehJS is being loaded, scheduling callback at\", now());\n      return null;\n    }\n    if (js_urls == null || js_urls.length === 0) {\n      run_callbacks();\n      return null;\n    }\n    console.log(\"Bokeh: BokehJS not loaded, scheduling load and callback at\", now());\n    root._bokeh_is_loading = js_urls.length;\n    for (var i = 0; i < js_urls.length; i++) {\n      var url = js_urls[i];\n      var s = document.createElement('script');\n      s.src = url;\n      s.async = false;\n      s.onreadystatechange = s.onload = function() {\n        root._bokeh_is_loading--;\n        if (root._bokeh_is_loading === 0) {\n          console.log(\"Bokeh: all BokehJS libraries loaded\");\n          run_callbacks()\n        }\n      };\n      s.onerror = function() {\n        console.warn(\"failed to load library \" + url);\n      };\n      console.log(\"Bokeh: injecting script tag for BokehJS library: \", url);\n      document.getElementsByTagName(\"head\")[0].appendChild(s);\n    }\n  };var element = document.getElementById(\"1296\");\n  if (element == null) {\n    console.log(\"Bokeh: ERROR: autoload.js configured with elementid '1296' but no matching script tag was found. \")\n    return false;\n  }\n\n  var js_urls = [\"https://cdn.pydata.org/bokeh/release/bokeh-1.0.1.min.js\", \"https://cdn.pydata.org/bokeh/release/bokeh-widgets-1.0.1.min.js\", \"https://cdn.pydata.org/bokeh/release/bokeh-tables-1.0.1.min.js\", \"https://cdn.pydata.org/bokeh/release/bokeh-gl-1.0.1.min.js\"];\n\n  var inline_js = [\n    function(Bokeh) {\n      Bokeh.set_log_level(\"info\");\n    },\n    \n    function(Bokeh) {\n      \n    },\n    function(Bokeh) {\n      console.log(\"Bokeh: injecting CSS: https://cdn.pydata.org/bokeh/release/bokeh-1.0.1.min.css\");\n      Bokeh.embed.inject_css(\"https://cdn.pydata.org/bokeh/release/bokeh-1.0.1.min.css\");\n      console.log(\"Bokeh: injecting CSS: https://cdn.pydata.org/bokeh/release/bokeh-widgets-1.0.1.min.css\");\n      Bokeh.embed.inject_css(\"https://cdn.pydata.org/bokeh/release/bokeh-widgets-1.0.1.min.css\");\n      console.log(\"Bokeh: injecting CSS: https://cdn.pydata.org/bokeh/release/bokeh-tables-1.0.1.min.css\");\n      Bokeh.embed.inject_css(\"https://cdn.pydata.org/bokeh/release/bokeh-tables-1.0.1.min.css\");\n    }\n  ];\n\n  function run_inline_js() {\n    \n    if ((root.Bokeh !== undefined) || (force === true)) {\n      for (var i = 0; i < inline_js.length; i++) {\n        inline_js[i].call(root, root.Bokeh);\n      }if (force === true) {\n        display_loaded();\n      }} else if (Date.now() < root._bokeh_timeout) {\n      setTimeout(run_inline_js, 100);\n    } else if (!root._bokeh_failed_load) {\n      console.log(\"Bokeh: BokehJS failed to load within specified timeout.\");\n      root._bokeh_failed_load = true;\n    } else if (force !== true) {\n      var cell = $(document.getElementById(\"1296\")).parents('.cell').data().cell;\n      cell.output_area.append_execute_result(NB_LOAD_WARNING)\n    }\n\n  }\n\n  if (root._bokeh_is_loading === 0) {\n    console.log(\"Bokeh: BokehJS loaded, going straight to plotting\");\n    run_inline_js();\n  } else {\n    load_libs(js_urls, function() {\n      console.log(\"Bokeh: BokehJS plotting callback run at\", now());\n      run_inline_js();\n    });\n  }\n}(window));"
     },
     "metadata": {},
     "output_type": "display_data"
    },
    {
     "data": {
      "text/html": [
       "\n",
       "\n",
       "\n",
       "\n",
       "\n",
       "\n",
       "  <div class=\"bk-root\" id=\"b043f851-64db-4285-a94c-50960fd52268\"></div>\n"
      ]
     },
     "metadata": {},
     "output_type": "display_data"
    },
    {
     "data": {
      "application/javascript": [
       "(function(root) {\n",
       "  function embed_document(root) {\n",
       "    \n",
       "  var docs_json = {\"c902b0ed-fad8-4a68-95ea-974a06a718a9\":{\"roots\":{\"references\":[{\"attributes\":{\"below\":[{\"id\":\"1306\",\"type\":\"LinearAxis\"}],\"left\":[{\"id\":\"1311\",\"type\":\"LinearAxis\"}],\"renderers\":[{\"id\":\"1306\",\"type\":\"LinearAxis\"},{\"id\":\"1310\",\"type\":\"Grid\"},{\"id\":\"1311\",\"type\":\"LinearAxis\"},{\"id\":\"1315\",\"type\":\"Grid\"},{\"id\":\"1324\",\"type\":\"BoxAnnotation\"},{\"id\":\"1334\",\"type\":\"GlyphRenderer\"},{\"id\":\"1339\",\"type\":\"GlyphRenderer\"},{\"id\":\"1344\",\"type\":\"GlyphRenderer\"}],\"title\":{\"id\":\"1372\",\"type\":\"Title\"},\"toolbar\":{\"id\":\"1322\",\"type\":\"Toolbar\"},\"x_range\":{\"id\":\"1298\",\"type\":\"DataRange1d\"},\"x_scale\":{\"id\":\"1302\",\"type\":\"LinearScale\"},\"y_range\":{\"id\":\"1300\",\"type\":\"DataRange1d\"},\"y_scale\":{\"id\":\"1304\",\"type\":\"LinearScale\"}},\"id\":\"1297\",\"subtype\":\"Figure\",\"type\":\"Plot\"},{\"attributes\":{\"callback\":null,\"data\":{\"x\":[0,1,2,3,4,5,6,7,8,9,10,11,12,13,14,15,16,17,18,19,20,21,22,23,24,25,26,27,28,29,30,31,32,33,34,35,36,37,38,39,40,41,42,43,44,45,46,47,48,49,50,51,52,53,54,55,56,57,58,59,60,61,62,63,64,65,66,67,68,69,70,71,72,73,74,75,76,77,78,79,80,81,82,83,84,85,86,87,88,89,90,91,92,93,94,95,96,97,98,99,100,101,102,103,104,105,106,107,108,109,110,111,112,113,114,115,116,117,118,119,120,121,122,123,124,125,126,127,128,129,130,131,132,133,134,135,136,137,138,139,140,141,142,143,144,145,146,147,148,149,150,151,152,153,154,155,156,157,158,159,160,161,162,163,164,165,166,167,168,169,170,171,172,173,174,175,176,177,178,179,180,181,182,183,184,185,186,187,188,189,190,191,192,193,194,195,196,197,198,199,200,201,202,203,204,205,206,207,208,209,210,211,212,213,214,215,216,217,218,219,220,221,222,223,224,225,226,227,228,229,230,231,232,233,234,235,236,237,238,239,240,241,242,243,244,245,246,247,248,249,250,251,252,253,254,255,256,257,258,259,260,261,262,263,264,265,266,267,268,269,270,271,272,273,274,275,276,277,278,279,280,281,282,283,284,285,286,287,288,289,290,291,292,293,294,295,296,297,298,299,300,301,302,303,304,305,306,307,308,309,310,311,312,313,314,315,316,317,318,319,320,321,322,323,324,325,326,327,328,329,330,331,332,333,334,335,336,337,338,339,340,341,342,343,344,345,346,347,348,349,350,351,352,353,354,355,356,357,358,359,360,361,362,363,364,365,366,367,368,369,370,371,372,373,374,375,376,377,378,379,380,381,382,383,384,385,386,387,388,389,390,391,392,393,394,395,396,397,398,399,400,401,402,403,404,405,406,407,408,409,410,411,412,413,414,415,416,417,418,419,420,421,422,423,424,425,426,427,428,429,430,431,432,433,434,435,436,437,438,439,440,441,442,443,444,445,446,447,448,449,450,451,452,453,454,455,456,457,458,459,460,461,462,463,464,465,466,467,468,469,470,471,472,473,474,475,476,477,478,479,480,481,482,483,484,485,486,487,488,489,490,491,492,493,494,495,496,497,498,499,500,501,502,503,504,505,506,507,508,509,510,511,512,513,514,515,516,517,518,519,520,521,522,523,524,525,526,527,528,529,530,531,532,533,534,535,536,537,538,539,540,541,542,543,544,545,546,547,548,549,550,551,552,553,554,555,556,557,558,559,560,561,562,563,564,565,566,567,568,569,570,571,572,573,574,575,576,577,578,579,580,581,582,583,584,585,586,587,588,589,590,591,592,593,594,595,596,597,598,599,600,601,602,603,604,605,606,607,608,609,610,611,612,613,614,615,616,617,618,619,620,621,622,623,624,625,626,627,628,629,630,631,632,633,634,635,636,637,638,639,640,641,642,643,644,645,646,647,648,649,650,651,652,653,654,655,656,657,658,659,660,661,662,663,664,665,666,667,668,669,670,671,672,673,674,675,676,677,678,679,680,681,682,683,684,685,686,687,688,689,690,691,692,693,694,695,696,697,698,699,700,701,702,703,704,705,706,707,708,709,710,711,712,713,714,715,716,717,718,719,720,721,722,723,724,725,726,727,728,729,730,731,732,733,734,735,736,737,738,739,740,741,742,743,744,745,746,747,748,749,750,751,752,753,754,755,756,757,758,759,760,761,762,763,764,765,766,767,768,769,770,771,772,773,774,775,776,777,778,779,780,781,782,783,784,785,786,787,788,789,790,791,792,793,794,795,796,797,798,799,800,801,802,803,804,805,806,807,808,809,810,811,812,813,814,815,816,817,818,819,820,821,822,823,824,825,826,827,828,829,830,831,832,833,834,835,836,837,838,839,840,841,842,843,844,845,846,847,848,849,850,851,852,853,854,855,856,857,858,859,860,861,862,863,864,865,866,867,868,869,870,871,872,873,874,875,876,877,878,879,880,881,882,883,884,885,886,887,888,889,890,891,892,893,894,895,896,897,898,899,900,901,902,903,904,905,906,907,908,909,910,911,912,913,914,915,916,917,918,919,920,921,922,923,924,925,926,927,928,929,930,931,932,933,934,935,936,937,938,939,940,941,942,943,944,945,946,947,948,949,950,951,952,953,954,955,956,957,958,959,960,961,962,963,964,965,966,967,968,969,970,971,972,973,974,975,976,977,978,979,980,981,982,983,984,985,986,987,988,989,990,991,992,993,994,995,996,997,998,999,1000,1001,1002,1003,1004,1005,1006,1007,1008,1009,1010,1011,1012,1013,1014,1015,1016,1017,1018,1019,1020,1021,1022,1023,1024,1025,1026,1027,1028,1029,1030,1031,1032,1033,1034,1035,1036,1037,1038,1039,1040,1041,1042,1043,1044,1045,1046,1047,1048,1049,1050,1051,1052,1053,1054,1055,1056,1057,1058,1059,1060,1061,1062,1063,1064,1065,1066,1067,1068,1069,1070,1071,1072,1073,1074,1075,1076,1077,1078,1079,1080,1081,1082,1083,1084,1085,1086,1087,1088,1089,1090,1091,1092,1093,1094,1095,1096,1097,1098,1099,1100,1101,1102,1103,1104,1105,1106,1107,1108,1109,1110,1111,1112,1113,1114,1115,1116,1117,1118,1119,1120,1121,1122,1123,1124,1125,1126,1127,1128,1129,1130,1131,1132,1133,1134,1135,1136,1137,1138,1139,1140,1141,1142,1143,1144,1145,1146,1147,1148,1149,1150,1151,1152,1153,1154,1155,1156,1157,1158,1159,1160,1161,1162,1163,1164,1165,1166,1167,1168,1169,1170,1171,1172,1173,1174,1175,1176,1177,1178,1179,1180,1181,1182,1183,1184,1185,1186,1187,1188,1189,1190,1191,1192,1193,1194,1195,1196,1197,1198,1199,1200,1201,1202,1203,1204,1205,1206,1207,1208,1209,1210,1211,1212,1213,1214,1215,1216,1217,1218,1219,1220,1221,1222,1223,1224,1225,1226,1227,1228,1229,1230,1231,1232,1233,1234,1235,1236,1237,1238,1239,1240,1241,1242,1243,1244,1245,1246,1247,1248,1249,1250,1251,1252,1253,1254,1255,1256,1257,1258,1259,1260,1261,1262,1263,1264,1265,1266,1267,1268,1269,1270,1271,1272,1273,1274,1275,1276,1277,1278,1279,1280,1281,1282,1283,1284,1285,1286,1287,1288,1289,1290,1291,1292,1293,1294,1295,1296,1297,1298,1299,1300,1301,1302,1303,1304,1305,1306,1307,1308,1309,1310,1311,1312,1313,1314,1315,1316,1317,1318,1319,1320,1321,1322,1323,1324,1325,1326,1327,1328,1329,1330,1331,1332,1333,1334,1335,1336,1337,1338,1339,1340,1341,1342,1343,1344,1345,1346,1347,1348,1349,1350,1351,1352,1353,1354,1355,1356,1357,1358,1359,1360,1361,1362,1363,1364,1365,1366,1367,1368,1369,1370,1371,1372,1373,1374,1375,1376,1377,1378,1379,1380,1381,1382,1383,1384,1385,1386,1387,1388,1389,1390,1391,1392,1393,1394,1395,1396,1397,1398,1399,1400,1401,1402,1403,1404,1405,1406,1407,1408,1409,1410,1411,1412,1413,1414,1415,1416,1417,1418,1419,1420,1421,1422,1423,1424,1425,1426,1427,1428,1429,1430,1431,1432,1433,1434,1435,1436,1437,1438,1439,1440,1441,1442,1443,1444,1445,1446,1447,1448,1449,1450,1451,1452,1453,1454,1455,1456,1457,1458,1459,1460,1461,1462,1463,1464,1465,1466,1467,1468,1469,1470,1471,1472,1473,1474,1475,1476,1477,1478,1479,1480,1481,1482,1483,1484,1485,1486,1487,1488,1489,1490,1491,1492,1493,1494,1495,1496,1497,1498,1499,1500,1501,1502,1503,1504,1505,1506,1507,1508,1509,1510,1511,1512,1513,1514,1515,1516,1517,1518,1519,1520,1521,1522,1523,1524,1525,1526,1527,1528,1529],\"y\":{\"__ndarray__\":\"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\",\"dtype\":\"float64\",\"shape\":[1530]}},\"selected\":{\"id\":\"1381\",\"type\":\"Selection\"},\"selection_policy\":{\"id\":\"1382\",\"type\":\"UnionRenderers\"}},\"id\":\"1336\",\"type\":\"ColumnDataSource\"},{\"attributes\":{\"bottom_units\":\"screen\",\"fill_alpha\":{\"value\":0.5},\"fill_color\":{\"value\":\"lightgrey\"},\"left_units\":\"screen\",\"level\":\"overlay\",\"line_alpha\":{\"value\":1.0},\"line_color\":{\"value\":\"black\"},\"line_dash\":[4,4],\"line_width\":{\"value\":2},\"plot\":null,\"render_mode\":\"css\",\"right_units\":\"screen\",\"top_units\":\"screen\"},\"id\":\"1324\",\"type\":\"BoxAnnotation\"},{\"attributes\":{\"line_color\":\"blue\",\"x\":{\"field\":\"x\"},\"y\":{\"field\":\"y\"}},\"id\":\"1342\",\"type\":\"Line\"},{\"attributes\":{},\"id\":\"1320\",\"type\":\"ResetTool\"},{\"attributes\":{\"line_alpha\":0.1,\"line_color\":\"#1f77b4\",\"x\":{\"field\":\"x\"},\"y\":{\"field\":\"y\"}},\"id\":\"1333\",\"type\":\"Line\"},{\"attributes\":{},\"id\":\"1321\",\"type\":\"HelpTool\"},{\"attributes\":{},\"id\":\"1307\",\"type\":\"BasicTicker\"},{\"attributes\":{\"formatter\":{\"id\":\"1377\",\"type\":\"BasicTickFormatter\"},\"plot\":{\"id\":\"1297\",\"subtype\":\"Figure\",\"type\":\"Plot\"},\"ticker\":{\"id\":\"1307\",\"type\":\"BasicTicker\"}},\"id\":\"1306\",\"type\":\"LinearAxis\"},{\"attributes\":{\"callback\":null,\"data\":{\"x\":[0,1,2,3,4,5,6,7,8,9,10,11,12,13,14,15,16,17,18,19,20,21,22,23,24,25,26,27,28,29,30,31,32,33,34,35,36,37,38,39,40,41,42,43,44,45,46,47,48,49,50,51,52,53,54,55,56,57,58,59,60,61,62,63,64,65,66,67,68,69,70,71,72,73,74,75,76,77,78,79,80,81,82,83,84,85,86,87,88,89,90,91,92,93,94,95,96,97,98,99,100,101,102,103,104,105,106,107,108,109,110,111,112,113,114,115,116,117,118,119,120,121,122,123,124,125,126,127,128,129,130,131,132,133,134,135,136,137,138,139,140,141,142,143,144,145,146,147,148,149,150,151,152,153,154,155,156,157,158,159,160,161,162,163,164,165,166,167,168,169,170,171,172,173,174,175,176,177,178,179,180,181,182,183,184,185,186,187,188,189,190,191,192,193,194,195,196,197,198,199,200,201,202,203,204,205,206,207,208,209,210,211,212,213,214,215,216,217,218,219,220,221,222,223,224,225,226,227,228,229,230,231,232,233,234,235,236,237,238,239,240,241,242,243,244,245,246,247,248,249,250,251,252,253,254,255,256,257,258,259,260,261,262,263,264,265,266,267,268,269,270,271,272,273,274,275,276,277,278,279,280,281,282,283,284,285,286,287,288,289,290,291,292,293,294,295,296,297,298,299,300,301,302,303,304,305,306,307,308,309,310,311,312,313,314,315,316,317,318,319,320,321,322,323,324,325,326,327,328,329,330,331,332,333,334,335,336,337,338,339,340,341,342,343,344,345,346,347,348,349,350,351,352,353,354,355,356,357,358,359,360,361,362,363,364,365,366,367,368,369,370,371,372,373,374,375,376,377,378,379,380,381,382,383,384,385,386,387,388,389,390,391,392,393,394,395,396,397,398,399,400,401,402,403,404,405,406,407,408,409,410,411,412,413,414,415,416,417,418,419,420,421,422,423,424,425,426,427,428,429,430,431,432,433,434,435,436,437,438,439,440,441,442,443,444,445,446,447,448,449,450,451,452,453,454,455,456,457,458,459,460,461,462,463,464,465,466,467,468,469,470,471,472,473,474,475,476,477,478,479,480,481,482,483,484,485,486,487,488,489,490,491,492,493,494,495,496,497,498,499,500,501,502,503,504,505,506,507,508,509,510,511,512,513,514,515,516,517,518,519,520,521,522,523,524,525,526,527,528,529,530,531,532,533,534,535,536,537,538,539,540,541,542,543,544,545,546,547,548,549,550,551,552,553,554,555,556,557,558,559,560,561,562,563,564,565,566,567,568,569,570,571,572,573,574,575,576,577,578,579,580,581,582,583,584,585,586,587,588,589,590,591,592,593,594,595,596,597,598,599,600,601,602,603,604,605,606,607,608,609,610,611,612,613,614,615,616,617,618,619,620,621,622,623,624,625,626,627,628,629,630,631,632,633,634,635,636,637,638,639,640,641,642,643,644,645,646,647,648,649,650,651,652,653,654,655,656,657,658,659,660,661,662,663,664,665,666,667,668,669,670,671,672,673,674,675,676,677,678,679,680,681,682,683,684,685,686,687,688,689,690,691,692,693,694,695,696,697,698,699,700,701,702,703,704,705,706,707,708,709,710,711,712,713,714,715,716,717,718,719,720,721,722,723,724,725,726,727,728,729,730,731,732,733,734,735,736,737,738,739,740,741,742,743,744,745,746,747,748,749,750,751,752,753,754,755,756,757,758,759,760,761,762,763,764,765,766,767,768,769,770,771,772,773,774,775,776,777,778,779,780,781,782,783,784,785,786,787,788,789,790,791,792,793,794,795,796,797,798,799,800,801,802,803,804,805,806,807,808,809,810,811,812,813,814,815,816,817,818,819,820,821,822,823,824,825,826,827,828,829,830,831,832,833,834,835,836,837,838,839,840,841,842,843,844,845,846,847,848,849,850,851,852,853,854,855,856,857,858,859,860,861,862,863,864,865,866,867,868,869,870,871,872,873,874,875,876,877,878,879,880,881,882,883,884,885,886,887,888,889,890,891,892,893,894,895,896,897,898,899,900,901,902,903,904,905,906,907,908,909,910,911,912,913,914,915,916,917,918,919,920,921,922,923,924,925,926,927,928,929,930,931,932,933,934,935,936,937,938,939,940,941,942,943,944,945,946,947,948,949,950,951,952,953,954,955,956,957,958,959,960,961,962,963,964,965,966,967,968,969,970,971,972,973,974,975,976,977,978,979,980,981,982,983,984,985,986,987,988,989,990,991,992,993,994,995,996,997,998,999,1000,1001,1002,1003,1004,1005,1006,1007,1008,1009,1010,1011,1012,1013,1014,1015,1016,1017,1018,1019,1020,1021,1022,1023,1024,1025,1026,1027,1028,1029,1030,1031,1032,1033,1034,1035,1036,1037,1038,1039,1040,1041,1042,1043,1044,1045,1046,1047,1048,1049,1050,1051,1052,1053,1054,1055,1056,1057,1058,1059,1060,1061,1062,1063,1064,1065,1066,1067,1068,1069,1070,1071,1072,1073,1074,1075,1076,1077,1078,1079,1080,1081,1082,1083,1084,1085,1086,1087,1088,1089,1090,1091,1092,1093,1094,1095,1096,1097,1098,1099,1100,1101,1102,1103,1104,1105,1106,1107,1108,1109,1110,1111,1112,1113,1114,1115,1116,1117,1118,1119,1120,1121,1122,1123,1124,1125,1126,1127,1128,1129,1130,1131,1132,1133,1134,1135,1136,1137,1138,1139,1140,1141,1142,1143,1144,1145,1146,1147,1148,1149,1150,1151,1152,1153,1154,1155,1156,1157,1158,1159,1160,1161,1162,1163,1164,1165,1166,1167,1168,1169,1170,1171,1172,1173,1174,1175,1176,1177,1178,1179,1180,1181,1182,1183,1184,1185,1186,1187,1188,1189,1190,1191,1192,1193,1194,1195,1196,1197,1198,1199,1200,1201,1202,1203,1204,1205,1206,1207,1208,1209,1210,1211,1212,1213,1214,1215,1216,1217,1218,1219,1220,1221,1222,1223,1224,1225,1226,1227,1228,1229,1230,1231,1232,1233,1234,1235,1236,1237,1238,1239,1240,1241,1242,1243,1244,1245,1246,1247,1248,1249,1250,1251,1252,1253,1254,1255,1256,1257,1258,1259,1260,1261,1262,1263,1264,1265,1266,1267,1268,1269,1270,1271,1272,1273,1274,1275,1276,1277,1278,1279,1280,1281,1282,1283,1284,1285,1286,1287,1288,1289,1290,1291,1292,1293,1294,1295,1296,1297,1298,1299,1300,1301,1302,1303,1304,1305,1306,1307,1308,1309,1310,1311,1312,1313,1314,1315,1316,1317,1318,1319,1320,1321,1322,1323,1324,1325,1326,1327,1328,1329,1330,1331,1332,1333,1334,1335,1336,1337,1338,1339,1340,1341,1342,1343,1344,1345,1346,1347,1348,1349,1350,1351,1352,1353,1354,1355,1356,1357,1358,1359,1360,1361,1362,1363,1364,1365,1366,1367,1368,1369,1370,1371,1372,1373,1374,1375,1376,1377,1378,1379,1380,1381,1382,1383,1384,1385,1386,1387,1388,1389,1390,1391,1392,1393,1394,1395,1396,1397,1398,1399,1400,1401,1402,1403,1404,1405,1406,1407,1408,1409,1410,1411,1412,1413,1414,1415,1416,1417,1418,1419,1420,1421,1422,1423,1424,1425,1426,1427,1428,1429,1430,1431,1432,1433,1434,1435,1436,1437,1438,1439,1440,1441,1442,1443,1444,1445,1446,1447,1448,1449,1450,1451,1452,1453,1454,1455,1456,1457,1458,1459,1460,1461,1462,1463,1464,1465,1466,1467,1468,1469,1470,1471,1472,1473,1474,1475,1476,1477,1478,1479,1480,1481,1482,1483,1484,1485,1486,1487,1488,1489,1490,1491,1492,1493,1494,1495,1496,1497,1498,1499,1500,1501,1502,1503,1504,1505,1506,1507,1508,1509,1510,1511,1512,1513,1514,1515,1516,1517,1518,1519,1520,1521,1522,1523,1524,1525,1526,1527,1528,1529],\"y\":{\"__ndarray__\":\"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\",\"dtype\":\"float64\",\"shape\":[1530]}},\"selected\":{\"id\":\"1379\",\"type\":\"Selection\"},\"selection_policy\":{\"id\":\"1380\",\"type\":\"UnionRenderers\"}},\"id\":\"1331\",\"type\":\"ColumnDataSource\"},{\"attributes\":{\"callback\":null},\"id\":\"1300\",\"type\":\"DataRange1d\"},{\"attributes\":{\"callback\":null,\"data\":{\"x\":[0,1,2,3,4,5,6,7,8,9,10,11,12,13,14,15,16,17,18,19,20,21,22,23,24,25,26,27,28,29,30,31,32,33,34,35,36,37,38,39,40,41,42,43,44,45,46,47,48,49,50,51,52,53,54,55,56,57,58,59,60,61,62,63,64,65,66,67,68,69,70,71,72,73,74,75,76,77,78,79,80,81,82,83,84,85,86,87,88,89,90,91,92,93,94,95,96,97,98,99,100,101,102,103,104,105,106,107,108,109,110,111,112,113,114,115,116,117,118,119,120,121,122,123,124,125,126,127,128,129,130,131,132,133,134,135,136,137,138,139,140,141,142,143,144,145,146,147,148,149,150,151,152,153,154,155,156,157,158,159,160,161,162,163,164,165,166,167,168,169,170,171,172,173,174,175,176,177,178,179,180,181,182,183,184,185,186,187,188,189,190,191,192,193,194,195,196,197,198,199,200,201,202,203,204,205,206,207,208,209,210,211,212,213,214,215,216,217,218,219,220,221,222,223,224,225,226,227,228,229,230,231,232,233,234,235,236,237,238,239,240,241,242,243,244,245,246,247,248,249,250,251,252,253,254,255,256,257,258,259,260,261,262,263,264,265,266,267,268,269,270,271,272,273,274,275,276,277,278,279,280,281,282,283,284,285,286,287,288,289,290,291,292,293,294,295,296,297,298,299,300,301,302,303,304,305,306,307,308,309,310,311,312,313,314,315,316,317,318,319,320,321,322,323,324,325,326,327,328,329,330,331,332,333,334,335,336,337,338,339,340,341,342,343,344,345,346,347,348,349,350,351,352,353,354,355,356,357,358,359,360,361,362,363,364,365,366,367,368,369,370,371,372,373,374,375,376,377,378,379,380,381,382,383,384,385,386,387,388,389,390,391,392,393,394,395,396,397,398,399,400,401,402,403,404,405,406,407,408,409,410,411,412,413,414,415,416,417,418,419,420,421,422,423,424,425,426,427,428,429,430,431,432,433,434,435,436,437,438,439,440,441,442,443,444,445,446,447,448,449,450,451,452,453,454,455,456,457,458,459,460,461,462,463,464,465,466,467,468,469,470,471,472,473,474,475,476,477,478,479,480,481,482,483,484,485,486,487,488,489,490,491,492,493,494,495,496,497,498,499,500,501,502,503,504,505,506,507,508,509,510,511,512,513,514,515,516,517,518,519,520,521,522,523,524,525,526,527,528,529,530,531,532,533,534,535,536,537,538,539,540,541,542,543,544,545,546,547,548,549,550,551,552,553,554,555,556,557,558,559,560,561,562,563,564,565,566,567,568,569,570,571,572,573,574,575,576,577,578,579,580,581,582,583,584,585,586,587,588,589,590,591,592,593,594,595,596,597,598,599,600,601,602,603,604,605,606,607,608,609,610,611,612,613,614,615,616,617,618,619,620,621,622,623,624,625,626,627,628,629,630,631,632,633,634,635,636,637,638,639,640,641,642,643,644,645,646,647,648,649,650,651,652,653,654,655,656,657,658,659,660,661,662,663,664,665,666,667,668,669,670,671,672,673,674,675,676,677,678,679,680,681,682,683,684,685,686,687,688,689,690,691,692,693,694,695,696,697,698,699,700,701,702,703,704,705,706,707,708,709,710,711,712,713,714,715,716,717,718,719,720,721,722,723,724,725,726,727,728,729,730,731,732,733,734,735,736,737,738,739,740,741,742,743,744,745,746,747,748,749,750,751,752,753,754,755,756,757,758,759,760,761,762,763,764,765,766,767,768,769,770,771,772,773,774,775,776,777,778,779,780,781,782,783,784,785,786,787,788,789,790,791,792,793,794,795,796,797,798,799,800,801,802,803,804,805,806,807,808,809,810,811,812,813,814,815,816,817,818,819,820,821,822,823,824,825,826,827,828,829,830,831,832,833,834,835,836,837,838,839,840,841,842,843,844,845,846,847,848,849,850,851,852,853,854,855,856,857,858,859,860,861,862,863,864,865,866,867,868,869,870,871,872,873,874,875,876,877,878,879,880,881,882,883,884,885,886,887,888,889,890,891,892,893,894,895,896,897,898,899,900,901,902,903,904,905,906,907,908,909,910,911,912,913,914,915,916,917,918,919,920,921,922,923,924,925,926,927,928,929,930,931,932,933,934,935,936,937,938,939,940,941,942,943,944,945,946,947,948,949,950,951,952,953,954,955,956,957,958,959,960,961,962,963,964,965,966,967,968,969,970,971,972,973,974,975,976,977,978,979,980,981,982,983,984,985,986,987,988,989,990,991,992,993,994,995,996,997,998,999,1000,1001,1002,1003,1004,1005,1006,1007,1008,1009,1010,1011,1012,1013,1014,1015,1016,1017,1018,1019,1020,1021,1022,1023,1024,1025,1026,1027,1028,1029,1030,1031,1032,1033,1034,1035,1036,1037,1038,1039,1040,1041,1042,1043,1044,1045,1046,1047,1048,1049,1050,1051,1052,1053,1054,1055,1056,1057,1058,1059,1060,1061,1062,1063,1064,1065,1066,1067,1068,1069,1070,1071,1072,1073,1074,1075,1076,1077,1078,1079,1080,1081,1082,1083,1084,1085,1086,1087,1088,1089,1090,1091,1092,1093,1094,1095,1096,1097,1098,1099,1100,1101,1102,1103,1104,1105,1106,1107,1108,1109,1110,1111,1112,1113,1114,1115,1116,1117,1118,1119,1120,1121,1122,1123,1124,1125,1126,1127,1128,1129,1130,1131,1132,1133,1134,1135,1136,1137,1138,1139,1140,1141,1142,1143,1144,1145,1146,1147,1148,1149,1150,1151,1152,1153,1154,1155,1156,1157,1158,1159,1160,1161,1162,1163,1164,1165,1166,1167,1168,1169,1170,1171,1172,1173,1174,1175,1176,1177,1178,1179,1180,1181,1182,1183,1184,1185,1186,1187,1188,1189,1190,1191,1192,1193,1194,1195,1196,1197,1198,1199,1200,1201,1202,1203,1204,1205,1206,1207,1208,1209,1210,1211,1212,1213,1214,1215,1216,1217,1218,1219,1220,1221,1222,1223,1224,1225,1226,1227,1228,1229,1230,1231,1232,1233,1234,1235,1236,1237,1238,1239,1240,1241,1242,1243,1244,1245,1246,1247,1248,1249,1250,1251,1252,1253,1254,1255,1256,1257,1258,1259,1260,1261,1262,1263,1264,1265,1266,1267,1268,1269,1270,1271,1272,1273,1274,1275,1276,1277,1278,1279,1280,1281,1282,1283,1284,1285,1286,1287,1288,1289,1290,1291,1292,1293,1294,1295,1296,1297,1298,1299,1300,1301,1302,1303,1304,1305,1306,1307,1308,1309,1310,1311,1312,1313,1314,1315,1316,1317,1318,1319,1320,1321,1322,1323,1324,1325,1326,1327,1328,1329,1330,1331,1332,1333,1334,1335,1336,1337,1338,1339,1340,1341,1342,1343,1344,1345,1346,1347,1348,1349,1350,1351,1352,1353,1354,1355,1356,1357,1358,1359,1360,1361,1362,1363,1364,1365,1366,1367,1368,1369,1370,1371,1372,1373,1374,1375,1376,1377,1378,1379,1380,1381,1382,1383,1384,1385,1386,1387,1388,1389,1390,1391,1392,1393,1394,1395,1396,1397,1398,1399,1400,1401,1402,1403,1404,1405,1406,1407,1408,1409,1410,1411,1412,1413,1414,1415,1416,1417,1418,1419,1420,1421,1422,1423,1424,1425,1426,1427,1428,1429,1430,1431,1432,1433,1434,1435,1436,1437,1438,1439,1440,1441,1442,1443,1444,1445,1446,1447,1448,1449,1450,1451,1452,1453,1454,1455,1456,1457,1458,1459,1460,1461,1462,1463,1464,1465,1466,1467,1468,1469,1470,1471,1472,1473,1474,1475,1476,1477,1478,1479,1480,1481,1482,1483,1484,1485,1486,1487,1488,1489,1490,1491,1492,1493,1494,1495,1496,1497,1498,1499,1500,1501,1502,1503,1504,1505,1506,1507,1508,1509,1510,1511,1512,1513,1514,1515,1516,1517,1518,1519,1520,1521,1522,1523,1524,1525,1526,1527,1528,1529],\"y\":{\"__ndarray__\":\"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\",\"dtype\":\"float64\",\"shape\":[1530]}},\"selected\":{\"id\":\"1383\",\"type\":\"Selection\"},\"selection_policy\":{\"id\":\"1384\",\"type\":\"UnionRenderers\"}},\"id\":\"1341\",\"type\":\"ColumnDataSource\"},{\"attributes\":{},\"id\":\"1382\",\"type\":\"UnionRenderers\"},{\"attributes\":{},\"id\":\"1377\",\"type\":\"BasicTickFormatter\"},{\"attributes\":{\"line_alpha\":0.1,\"line_color\":\"#1f77b4\",\"x\":{\"field\":\"x\"},\"y\":{\"field\":\"y\"}},\"id\":\"1338\",\"type\":\"Line\"},{\"attributes\":{},\"id\":\"1381\",\"type\":\"Selection\"},{\"attributes\":{\"data_source\":{\"id\":\"1336\",\"type\":\"ColumnDataSource\"},\"glyph\":{\"id\":\"1337\",\"type\":\"Line\"},\"hover_glyph\":null,\"muted_glyph\":null,\"nonselection_glyph\":{\"id\":\"1338\",\"type\":\"Line\"},\"selection_glyph\":null,\"view\":{\"id\":\"1340\",\"type\":\"CDSView\"}},\"id\":\"1339\",\"type\":\"GlyphRenderer\"},{\"attributes\":{},\"id\":\"1384\",\"type\":\"UnionRenderers\"},{\"attributes\":{},\"id\":\"1383\",\"type\":\"Selection\"},{\"attributes\":{\"formatter\":{\"id\":\"1375\",\"type\":\"BasicTickFormatter\"},\"plot\":{\"id\":\"1297\",\"subtype\":\"Figure\",\"type\":\"Plot\"},\"ticker\":{\"id\":\"1312\",\"type\":\"BasicTicker\"}},\"id\":\"1311\",\"type\":\"LinearAxis\"},{\"attributes\":{\"callback\":null},\"id\":\"1298\",\"type\":\"DataRange1d\"},{\"attributes\":{},\"id\":\"1302\",\"type\":\"LinearScale\"},{\"attributes\":{},\"id\":\"1304\",\"type\":\"LinearScale\"},{\"attributes\":{},\"id\":\"1375\",\"type\":\"BasicTickFormatter\"},{\"attributes\":{\"dimension\":1,\"plot\":{\"id\":\"1297\",\"subtype\":\"Figure\",\"type\":\"Plot\"},\"ticker\":{\"id\":\"1312\",\"type\":\"BasicTicker\"}},\"id\":\"1315\",\"type\":\"Grid\"},{\"attributes\":{\"source\":{\"id\":\"1331\",\"type\":\"ColumnDataSource\"}},\"id\":\"1335\",\"type\":\"CDSView\"},{\"attributes\":{},\"id\":\"1312\",\"type\":\"BasicTicker\"},{\"attributes\":{\"line_alpha\":0.1,\"line_color\":\"#1f77b4\",\"x\":{\"field\":\"x\"},\"y\":{\"field\":\"y\"}},\"id\":\"1343\",\"type\":\"Line\"},{\"attributes\":{},\"id\":\"1379\",\"type\":\"Selection\"},{\"attributes\":{\"plot\":{\"id\":\"1297\",\"subtype\":\"Figure\",\"type\":\"Plot\"},\"ticker\":{\"id\":\"1307\",\"type\":\"BasicTicker\"}},\"id\":\"1310\",\"type\":\"Grid\"},{\"attributes\":{\"line_color\":\"green\",\"x\":{\"field\":\"x\"},\"y\":{\"field\":\"y\"}},\"id\":\"1332\",\"type\":\"Line\"},{\"attributes\":{\"source\":{\"id\":\"1336\",\"type\":\"ColumnDataSource\"}},\"id\":\"1340\",\"type\":\"CDSView\"},{\"attributes\":{\"plot\":null,\"text\":\"\"},\"id\":\"1372\",\"type\":\"Title\"},{\"attributes\":{\"data_source\":{\"id\":\"1341\",\"type\":\"ColumnDataSource\"},\"glyph\":{\"id\":\"1342\",\"type\":\"Line\"},\"hover_glyph\":null,\"muted_glyph\":null,\"nonselection_glyph\":{\"id\":\"1343\",\"type\":\"Line\"},\"selection_glyph\":null,\"view\":{\"id\":\"1345\",\"type\":\"CDSView\"}},\"id\":\"1344\",\"type\":\"GlyphRenderer\"},{\"attributes\":{\"source\":{\"id\":\"1341\",\"type\":\"ColumnDataSource\"}},\"id\":\"1345\",\"type\":\"CDSView\"},{\"attributes\":{},\"id\":\"1319\",\"type\":\"SaveTool\"},{\"attributes\":{\"overlay\":{\"id\":\"1324\",\"type\":\"BoxAnnotation\"}},\"id\":\"1318\",\"type\":\"BoxZoomTool\"},{\"attributes\":{\"line_color\":\"red\",\"x\":{\"field\":\"x\"},\"y\":{\"field\":\"y\"}},\"id\":\"1337\",\"type\":\"Line\"},{\"attributes\":{},\"id\":\"1380\",\"type\":\"UnionRenderers\"},{\"attributes\":{},\"id\":\"1317\",\"type\":\"WheelZoomTool\"},{\"attributes\":{\"data_source\":{\"id\":\"1331\",\"type\":\"ColumnDataSource\"},\"glyph\":{\"id\":\"1332\",\"type\":\"Line\"},\"hover_glyph\":null,\"muted_glyph\":null,\"nonselection_glyph\":{\"id\":\"1333\",\"type\":\"Line\"},\"selection_glyph\":null,\"view\":{\"id\":\"1335\",\"type\":\"CDSView\"}},\"id\":\"1334\",\"type\":\"GlyphRenderer\"},{\"attributes\":{\"active_drag\":\"auto\",\"active_inspect\":\"auto\",\"active_multi\":null,\"active_scroll\":\"auto\",\"active_tap\":\"auto\",\"tools\":[{\"id\":\"1316\",\"type\":\"PanTool\"},{\"id\":\"1317\",\"type\":\"WheelZoomTool\"},{\"id\":\"1318\",\"type\":\"BoxZoomTool\"},{\"id\":\"1319\",\"type\":\"SaveTool\"},{\"id\":\"1320\",\"type\":\"ResetTool\"},{\"id\":\"1321\",\"type\":\"HelpTool\"}]},\"id\":\"1322\",\"type\":\"Toolbar\"},{\"attributes\":{},\"id\":\"1316\",\"type\":\"PanTool\"}],\"root_ids\":[\"1297\"]},\"title\":\"Bokeh Application\",\"version\":\"1.0.1\"}};\n",
       "  var render_items = [{\"docid\":\"c902b0ed-fad8-4a68-95ea-974a06a718a9\",\"roots\":{\"1297\":\"b043f851-64db-4285-a94c-50960fd52268\"}}];\n",
       "  root.Bokeh.embed.embed_items_notebook(docs_json, render_items);\n",
       "\n",
       "  }\n",
       "  if (root.Bokeh !== undefined) {\n",
       "    embed_document(root);\n",
       "  } else {\n",
       "    var attempts = 0;\n",
       "    var timer = setInterval(function(root) {\n",
       "      if (root.Bokeh !== undefined) {\n",
       "        embed_document(root);\n",
       "        clearInterval(timer);\n",
       "      }\n",
       "      attempts++;\n",
       "      if (attempts > 100) {\n",
       "        console.log(\"Bokeh: ERROR: Unable to run BokehJS code because BokehJS library is missing\");\n",
       "        clearInterval(timer);\n",
       "      }\n",
       "    }, 10, root)\n",
       "  }\n",
       "})(window);"
      ],
      "application/vnd.bokehjs_exec.v0+json": ""
     },
     "metadata": {
      "application/vnd.bokehjs_exec.v0+json": {
       "id": "1297"
      }
     },
     "output_type": "display_data"
    }
   ],
   "source": [
    "from bokeh.plotting import figure, show\n",
    "from bokeh.io import output_notebook\n",
    "\n",
    "output_notebook()\n",
    "p = figure()\n",
    "p.line(range(numpoints), plots[0], line_color='green')\n",
    "p.line(range(numpoints), plots[1], line_color='red')\n",
    "p.line(range(numpoints), plots[15], line_color='blue')\n",
    "show(p)"
   ]
  },
  {
   "cell_type": "markdown",
   "metadata": {},
   "source": [
    "## Conclusion"
   ]
  },
  {
   "cell_type": "markdown",
   "metadata": {},
   "source": [
    "Congratulations, you have (hopefully) broken AES using a DPA attack! As you might have discovered during this tutorial, there can be quite a few issues with the difference of means method for breaking AES keys:\n",
    "\n",
    "* It's quite susceptible to noise\n",
    "* The attack can easily pick up other parts of the AES operation\n",
    "* The attack typically requires a lot of traces. These software AES implementations are pretty weak against power analysis, but they still required thousands of traces to break\n",
    "* Some targets (such as the XMega) require fine tuning settings to make the attack work\n",
    "\n",
    "Nevertheless, using a difference of means attack can still be very useful. For example, a later tutorial, PA_Multi_1, uses a difference of means attack similar in concept to this one to break the signature of an AES256 bootloader."
   ]
  },
  {
   "cell_type": "markdown",
   "metadata": {},
   "source": [
    "## Tests"
   ]
  },
  {
   "cell_type": "code",
   "execution_count": 18,
   "metadata": {},
   "outputs": [],
   "source": [
    "assert (known_key == key_guess).all(), \"Failed to break key.\\nGot: {}\\nExp: {}\".format(key_guess, known_key)"
   ]
  },
  {
   "cell_type": "code",
   "execution_count": null,
   "metadata": {},
   "outputs": [],
   "source": []
  }
 ],
 "metadata": {
  "kernelspec": {
   "display_name": "Python 3",
   "language": "python",
   "name": "python3"
  },
  "language_info": {
   "codemirror_mode": {
    "name": "ipython",
    "version": 3
   },
   "file_extension": ".py",
   "mimetype": "text/x-python",
   "name": "python",
   "nbconvert_exporter": "python",
   "pygments_lexer": "ipython3",
   "version": "3.7.1"
  },
  "toc": {
   "base_numbering": 1,
   "nav_menu": {},
   "number_sections": true,
   "sideBar": true,
   "skip_h1_title": true,
   "title_cell": "Table of Contents",
   "title_sidebar": "Contents",
   "toc_cell": true,
   "toc_position": {},
   "toc_section_display": true,
   "toc_window_display": true
  }
 },
 "nbformat": 4,
 "nbformat_minor": 2
}
