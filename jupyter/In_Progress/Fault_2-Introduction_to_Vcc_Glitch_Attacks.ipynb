{
 "cells": [
  {
   "cell_type": "markdown",
   "metadata": {},
   "source": [
    "# Introduction to Vcc Glitch Attacks"
   ]
  },
  {
   "cell_type": "markdown",
   "metadata": {},
   "source": [
    "**This tutorial assumes the following hardware setup:**\n",
    "* CW308_STM32F0 target\n",
    "* Short SMA cable between CWLite and CW308\n",
    "* 7.37MHz Xtal in X1 on CW308\n",
    "* CW308 J3 set to Crystal\n",
    "\n",
    "**This tutorial may be possible with other hardware setups, but workarounds may be needed**"
   ]
  },
  {
   "cell_type": "markdown",
   "metadata": {},
   "source": [
    "## Background on Vcc (Power) Glitching"
   ]
  },
  {
   "cell_type": "markdown",
   "metadata": {},
   "source": [
    "The previous clock glitching tutorials looked into the assumption of a constant clock. But instead we can modify the voltage of the device, causing for example a failure to correctly read a memory location or otherwise cause havoc with the proper functioning.\n",
    "\n",
    "An example of a successful Vcc glitch is shown in the following figures (Vcc in blue, clock in red):\n",
    "\n",
    "![](https://wiki.newae.com/images/4/4f/Vccglitch_working.png)\n",
    "\n",
    "![](https://wiki.newae.com/images/6/60/Vccglitch_working_zoom.png)\n",
    "\n",
    "Like with clock glitching, Vcc glitching is highly sensitive to glitch offset and width. While the above glitch was successful, the following was not:\n",
    "\n",
    "![](https://wiki.newae.com/images/b/b6/Vccglitch_notworking_zoom.png)\n",
    "\n",
    "Vcc glitching is also very sensitive to the shape of the glitch: things like board layout and the distance between where the glitch is inserted and the target can make the difference between successful and unsuccessful glitches.\n",
    "\n",
    "Despite these additional complications, Vcc glitching is an extremely useful tool as it allows attacks on targets that do not run off of external clock inputs."
   ]
  },
  {
   "cell_type": "markdown",
   "metadata": {},
   "source": [
    "### Background on Glitch Generation"
   ]
  },
  {
   "cell_type": "markdown",
   "metadata": {},
   "source": [
    "For more details, please see [Fault_1-Introduction_to_Clock_Glitching](Fault_1-Introduction_to_Clock_Glitch_Attacks.ipynb), this tutorials assumes you have already performed the clock glitching tutorial.\n",
    "\n",
    "The glitch generation hardware is the same as used in the clock glitching attack. The generated glitches are synchronous to the device clock, and inserted at a precise offset from the clock edge.\n",
    "\n",
    "Glitches can be inserted continuously or triggered by some event. The following figure shows the generation of two glitches:\n",
    "\n",
    "![](https://wiki.newae.com/images/9/95/Glitchgen-mux-glitchonly.png)\n",
    "\n",
    "The VCC glitching method here uses an electronic switch (a MOSFET) to short the power line to GND at specific instances. The following figure shows the basic function of this system:\n",
    "\n",
    "![](https://wiki.newae.com/images/8/82/Glitch-vccglitcher.png)\n",
    "\n",
    "This method allows use with the standard side-channel analysis development board, which has resistors inserted into the VCC lines already. The downside of this method is that it can only generate short glitches, since the power consumption through the shunt resistor will short out the resistor.\n",
    "\n",
    "The MOSFET glitching hardware is built into the ChipWhisperer-Lite (both CW1173 and CW1180) board. The ChipWhisperer-Capture Rev2 uses an external VCC glitching board."
   ]
  },
  {
   "cell_type": "markdown",
   "metadata": {},
   "source": [
    "## Setting up Firmware"
   ]
  },
  {
   "cell_type": "markdown",
   "metadata": {},
   "source": [
    "During this tutorial, we will once again be working off the `glitch-simple` project. We'll start by creating a new firmware project:"
   ]
  },
  {
   "cell_type": "code",
   "execution_count": 1,
   "metadata": {},
   "outputs": [],
   "source": [
    "%%bash\n",
    "cd ../../hardware/victims/firmware/\n",
    "mkdir -p glitch-simple-lab2 && cp -r glitch-simple/* $_"
   ]
  },
  {
   "cell_type": "markdown",
   "metadata": {},
   "source": [
    "For this tutorial we'll be using the STM32F0 target, since that board often works well for Vcc glitching."
   ]
  },
  {
   "cell_type": "code",
   "execution_count": 2,
   "metadata": {},
   "outputs": [],
   "source": [
    "PLATFORM = \"CWLITEARM\"\n",
    "CRYPTO_TARGET=\"NONE\""
   ]
  },
  {
   "cell_type": "markdown",
   "metadata": {},
   "source": [
    "Now navigate to the `glitch-simple-lab2` folder and open `glitchsimple.c` in a code editor. Find the `glitch_infinite()` function:\n",
    "\n",
    "```C\n",
    "void glitch_infinite(void)\n",
    "{\n",
    "    char str[64];\n",
    "    unsigned int k = 0;\n",
    "    //Declared volatile to avoid optimizing away loop.\n",
    "    //This also adds lots of SRAM access\n",
    "    volatile uint16_t i, j;\n",
    "    volatile uint32_t cnt;\n",
    "    while(1){\n",
    "        cnt = 0;\n",
    "        trigger_high();\n",
    "        trigger_low();\n",
    "        for(i=0; i<200; i++){\n",
    "            for(j=0; j<200; j++){\n",
    "                cnt++;\n",
    "            }\n",
    "        }\n",
    "        sprintf(str, \"%lu %d %d %d\\n\", cnt, i, j, k++);\n",
    "        uart_puts(str);\n",
    "    }\n",
    "}\n",
    "```\n",
    "\n",
    "As you can see, this function enters into an infinite loop with two inner loops that increment three variables (`cnt`, `i`, and `j`).  These are sent back over serial along with an overall loop counter. During normal operation, we should receive `40000 200 200 $k` (where `$k` is the value of the loop counter `k`). Our objective will be to insert a Vcc glitch such that one or more of the numbers that we get back are incorrect.\n",
    "\n",
    "Navigate to `main()` and change the `glitch1()` call to instead call `glitch_infinite()`. The below block will also do this:"
   ]
  },
  {
   "cell_type": "code",
   "execution_count": 3,
   "metadata": {},
   "outputs": [],
   "source": [
    "%%bash\n",
    "# replaces glitch1() with glitch_infinite()\n",
    "cd ../../hardware/victims/firmware/glitch-simple-lab2\n",
    "awk '{gsub(/glitch1\\(\\)/, \"glitch_infinite\\(\\)\")}1' glitchsimple.c > tmp.c 2>/dev/null\n",
    "rm glitchsimple.c\n",
    "mv tmp.c glitchsimple.c"
   ]
  },
  {
   "cell_type": "markdown",
   "metadata": {},
   "source": [
    "Then build the firmware:"
   ]
  },
  {
   "cell_type": "code",
   "execution_count": 4,
   "metadata": {},
   "outputs": [
    {
     "name": "stdout",
     "output_type": "stream",
     "text": [
      "rm -f -- glitchsimple-CWLITEARM.hex\r\n",
      "rm -f -- glitchsimple-CWLITEARM.eep\r\n",
      "rm -f -- glitchsimple-CWLITEARM.cof\r\n",
      "rm -f -- glitchsimple-CWLITEARM.elf\r\n",
      "rm -f -- glitchsimple-CWLITEARM.map\r\n",
      "rm -f -- glitchsimple-CWLITEARM.sym\r\n",
      "rm -f -- glitchsimple-CWLITEARM.lss\r\n",
      "rm -f -- objdir/*.o\r\n",
      "rm -f -- objdir/*.lst\r\n",
      "rm -f -- glitchsimple.s simpleserial.s stm32f3_hal.s stm32f3_hal_lowlevel.s stm32f3_sysmem.s\r\n",
      "rm -f -- glitchsimple.d simpleserial.d stm32f3_hal.d stm32f3_hal_lowlevel.d stm32f3_sysmem.d\r\n",
      "rm -f -- glitchsimple.i simpleserial.i stm32f3_hal.i stm32f3_hal_lowlevel.i stm32f3_sysmem.i\r\n",
      ".\r\n",
      "-------- begin --------\r\n",
      "arm-none-eabi-gcc (GNU Tools for Arm Embedded Processors 7-2018-q2-update) 7.3.1 20180622 (release) [ARM/embedded-7-branch revision 261907]\r\n",
      "Copyright (C) 2017 Free Software Foundation, Inc.\r\n",
      "This is free software; see the source for copying conditions.  There is NO\r\n",
      "warranty; not even for MERCHANTABILITY or FITNESS FOR A PARTICULAR PURPOSE.\r\n",
      "\r\n",
      ".\r\n",
      "Compiling C: glitchsimple.c\r\n",
      "arm-none-eabi-gcc -c -mcpu=cortex-m4 -I. -DUSE_INTERNAL_CLK -mthumb -mfloat-abi=hard -mfpu=fpv4-sp-d16 -fmessage-length=0 -ffunction-sections -gdwarf-2 -DSS_VER=SS_VER_1_1 -DSTM32F303xC -DSTM32F3 -DSTM32 -DDEBUG -DHAL_TYPE=HAL_stm32f3 -DPLATFORM=CWLITEARM -DF_CPU=7372800UL -Os -funsigned-char -funsigned-bitfields -fshort-enums -Wall -Wstrict-prototypes -Wa,-adhlns=objdir/glitchsimple.lst -I.././simpleserial/ -I.././hal -I.././hal/stm32f3 -I.././hal/stm32f3/CMSIS -I.././hal/stm32f3/CMSIS/core -I.././hal/stm32f3/CMSIS/device -I.././hal/stm32f4/Legacy -I.././crypto/ -std=gnu99 -MMD -MP -MF .dep/glitchsimple.o.d glitchsimple.c -o objdir/glitchsimple.o \r\n",
      ".\r\n",
      "Compiling C: .././simpleserial/simpleserial.c\r\n",
      "arm-none-eabi-gcc -c -mcpu=cortex-m4 -I. -DUSE_INTERNAL_CLK -mthumb -mfloat-abi=hard -mfpu=fpv4-sp-d16 -fmessage-length=0 -ffunction-sections -gdwarf-2 -DSS_VER=SS_VER_1_1 -DSTM32F303xC -DSTM32F3 -DSTM32 -DDEBUG -DHAL_TYPE=HAL_stm32f3 -DPLATFORM=CWLITEARM -DF_CPU=7372800UL -Os -funsigned-char -funsigned-bitfields -fshort-enums -Wall -Wstrict-prototypes -Wa,-adhlns=objdir/simpleserial.lst -I.././simpleserial/ -I.././hal -I.././hal/stm32f3 -I.././hal/stm32f3/CMSIS -I.././hal/stm32f3/CMSIS/core -I.././hal/stm32f3/CMSIS/device -I.././hal/stm32f4/Legacy -I.././crypto/ -std=gnu99 -MMD -MP -MF .dep/simpleserial.o.d .././simpleserial/simpleserial.c -o objdir/simpleserial.o \r\n",
      ".\r\n",
      "Compiling C: .././hal/stm32f3/stm32f3_hal.c\r\n",
      "arm-none-eabi-gcc -c -mcpu=cortex-m4 -I. -DUSE_INTERNAL_CLK -mthumb -mfloat-abi=hard -mfpu=fpv4-sp-d16 -fmessage-length=0 -ffunction-sections -gdwarf-2 -DSS_VER=SS_VER_1_1 -DSTM32F303xC -DSTM32F3 -DSTM32 -DDEBUG -DHAL_TYPE=HAL_stm32f3 -DPLATFORM=CWLITEARM -DF_CPU=7372800UL -Os -funsigned-char -funsigned-bitfields -fshort-enums -Wall -Wstrict-prototypes -Wa,-adhlns=objdir/stm32f3_hal.lst -I.././simpleserial/ -I.././hal -I.././hal/stm32f3 -I.././hal/stm32f3/CMSIS -I.././hal/stm32f3/CMSIS/core -I.././hal/stm32f3/CMSIS/device -I.././hal/stm32f4/Legacy -I.././crypto/ -std=gnu99 -MMD -MP -MF .dep/stm32f3_hal.o.d .././hal/stm32f3/stm32f3_hal.c -o objdir/stm32f3_hal.o \r\n",
      ".\r\n",
      "Compiling C: .././hal/stm32f3/stm32f3_hal_lowlevel.c\r\n",
      "arm-none-eabi-gcc -c -mcpu=cortex-m4 -I. -DUSE_INTERNAL_CLK -mthumb -mfloat-abi=hard -mfpu=fpv4-sp-d16 -fmessage-length=0 -ffunction-sections -gdwarf-2 -DSS_VER=SS_VER_1_1 -DSTM32F303xC -DSTM32F3 -DSTM32 -DDEBUG -DHAL_TYPE=HAL_stm32f3 -DPLATFORM=CWLITEARM -DF_CPU=7372800UL -Os -funsigned-char -funsigned-bitfields -fshort-enums -Wall -Wstrict-prototypes -Wa,-adhlns=objdir/stm32f3_hal_lowlevel.lst -I.././simpleserial/ -I.././hal -I.././hal/stm32f3 -I.././hal/stm32f3/CMSIS -I.././hal/stm32f3/CMSIS/core -I.././hal/stm32f3/CMSIS/device -I.././hal/stm32f4/Legacy -I.././crypto/ -std=gnu99 -MMD -MP -MF .dep/stm32f3_hal_lowlevel.o.d .././hal/stm32f3/stm32f3_hal_lowlevel.c -o objdir/stm32f3_hal_lowlevel.o \r\n",
      ".\r\n",
      "Compiling C: .././hal/stm32f3/stm32f3_sysmem.c\r\n",
      "arm-none-eabi-gcc -c -mcpu=cortex-m4 -I. -DUSE_INTERNAL_CLK -mthumb -mfloat-abi=hard -mfpu=fpv4-sp-d16 -fmessage-length=0 -ffunction-sections -gdwarf-2 -DSS_VER=SS_VER_1_1 -DSTM32F303xC -DSTM32F3 -DSTM32 -DDEBUG -DHAL_TYPE=HAL_stm32f3 -DPLATFORM=CWLITEARM -DF_CPU=7372800UL -Os -funsigned-char -funsigned-bitfields -fshort-enums -Wall -Wstrict-prototypes -Wa,-adhlns=objdir/stm32f3_sysmem.lst -I.././simpleserial/ -I.././hal -I.././hal/stm32f3 -I.././hal/stm32f3/CMSIS -I.././hal/stm32f3/CMSIS/core -I.././hal/stm32f3/CMSIS/device -I.././hal/stm32f4/Legacy -I.././crypto/ -std=gnu99 -MMD -MP -MF .dep/stm32f3_sysmem.o.d .././hal/stm32f3/stm32f3_sysmem.c -o objdir/stm32f3_sysmem.o \r\n",
      ".\r\n",
      "Assembling: .././hal/stm32f3/stm32f3_startup.S\r\n",
      "arm-none-eabi-gcc -c -mcpu=cortex-m4 -I. -x assembler-with-cpp -mthumb -mfloat-abi=hard -mfpu=fpv4-sp-d16 -fmessage-length=0 -ffunction-sections -DF_CPU=7372800 -Wa,-gstabs,-adhlns=objdir/stm32f3_startup.lst -I.././simpleserial/ -I.././hal -I.././hal/stm32f3 -I.././hal/stm32f3/CMSIS -I.././hal/stm32f3/CMSIS/core -I.././hal/stm32f3/CMSIS/device -I.././hal/stm32f4/Legacy -I.././crypto/ .././hal/stm32f3/stm32f3_startup.S -o objdir/stm32f3_startup.o\r\n",
      ".\r\n",
      "Linking: glitchsimple-CWLITEARM.elf\r\n",
      "arm-none-eabi-gcc -mcpu=cortex-m4 -I. -DUSE_INTERNAL_CLK -mthumb -mfloat-abi=hard -mfpu=fpv4-sp-d16 -fmessage-length=0 -ffunction-sections -gdwarf-2 -DSS_VER=SS_VER_1_1 -DSTM32F303xC -DSTM32F3 -DSTM32 -DDEBUG -DHAL_TYPE=HAL_stm32f3 -DPLATFORM=CWLITEARM -DF_CPU=7372800UL -Os -funsigned-char -funsigned-bitfields -fshort-enums -Wall -Wstrict-prototypes -Wa,-adhlns=objdir/glitchsimple.o -I.././simpleserial/ -I.././hal -I.././hal/stm32f3 -I.././hal/stm32f3/CMSIS -I.././hal/stm32f3/CMSIS/core -I.././hal/stm32f3/CMSIS/device -I.././hal/stm32f4/Legacy -I.././crypto/ -std=gnu99 -MMD -MP -MF .dep/glitchsimple-CWLITEARM.elf.d objdir/glitchsimple.o objdir/simpleserial.o objdir/stm32f3_hal.o objdir/stm32f3_hal_lowlevel.o objdir/stm32f3_sysmem.o objdir/stm32f3_startup.o --output glitchsimple-CWLITEARM.elf --specs=nano.specs -T .././hal/stm32f3/LinkerScript.ld -Wl,--gc-sections -lm -Wl,-Map=glitchsimple-CWLITEARM.map,--cref   -lm  \r\n",
      ".\r\n",
      "Creating load file for Flash: glitchsimple-CWLITEARM.hex\r\n",
      "arm-none-eabi-objcopy -O ihex -R .eeprom -R .fuse -R .lock -R .signature glitchsimple-CWLITEARM.elf glitchsimple-CWLITEARM.hex\r\n",
      ".\r\n",
      "Creating load file for EEPROM: glitchsimple-CWLITEARM.eep\r\n",
      "arm-none-eabi-objcopy -j .eeprom --set-section-flags=.eeprom=\"alloc,load\" \\\r\n",
      "\t--change-section-lma .eeprom=0 --no-change-warnings -O ihex glitchsimple-CWLITEARM.elf glitchsimple-CWLITEARM.eep || exit 0\r\n",
      ".\r\n",
      "Creating Extended Listing: glitchsimple-CWLITEARM.lss\r\n",
      "arm-none-eabi-objdump -h -S -z glitchsimple-CWLITEARM.elf > glitchsimple-CWLITEARM.lss\r\n",
      ".\r\n",
      "Creating Symbol Table: glitchsimple-CWLITEARM.sym\r\n",
      "arm-none-eabi-nm -n glitchsimple-CWLITEARM.elf > glitchsimple-CWLITEARM.sym\r\n",
      "Size after:\r\n",
      "   text\t   data\t    bss\t    dec\t    hex\tfilename\r\n",
      "   6484\t    108\t   1188\t   7780\t   1e64\tglitchsimple-CWLITEARM.elf\r\n",
      "+--------------------------------------------------------\r\n",
      "+ Built for platform CW-Lite Arm (STM32F3)\r\n",
      "+--------------------------------------------------------\r\n"
     ]
    }
   ],
   "source": [
    "%%bash -s \"$PLATFORM\" \"$CRYPTO_TARGET\"\n",
    "cd ../../hardware/victims/firmware/glitch-simple-lab2\n",
    "make PLATFORM=$1 CRYPTO_TARGET=$2 MCU_CLK=INT"
   ]
  },
  {
   "cell_type": "markdown",
   "metadata": {},
   "source": [
    "## Attack Script"
   ]
  },
  {
   "cell_type": "markdown",
   "metadata": {},
   "source": [
    "### Setup"
   ]
  },
  {
   "cell_type": "markdown",
   "metadata": {},
   "source": [
    "Now that we've studied the code and have an objective, we can start building our attack script. We'll start by connecting to and setting up the ChipWhisperer, then programming it. As usual, make sure you modify `fw_path` with the path to the file you built in the last step."
   ]
  },
  {
   "cell_type": "code",
   "execution_count": 2,
   "metadata": {},
   "outputs": [],
   "source": [
    "import chipwhisperer as cw\n",
    "scope = cw.scope()\n",
    "target = cw.target(scope)"
   ]
  },
  {
   "cell_type": "code",
   "execution_count": 3,
   "metadata": {},
   "outputs": [],
   "source": [
    "%run \"Helper_Scripts/Setup_Target_Generic.ipynb\""
   ]
  },
  {
   "cell_type": "code",
   "execution_count": 4,
   "metadata": {},
   "outputs": [],
   "source": [
    "fw_path = \"../../hardware/victims/firmware/glitch-simple-lab2/glitchsimple-CWLITEARM.hex\"\n",
    "prog = cw.programmers.STM32FProgrammer"
   ]
  },
  {
   "cell_type": "code",
   "execution_count": 5,
   "metadata": {},
   "outputs": [
    {
     "name": "stdout",
     "output_type": "stream",
     "text": [
      "Detected known STMF32: STM32F302xB(C)/303xB(C)\n",
      "Extended erase (0x44), this can take ten seconds or more\n",
      "Attempting to programming 6599 bytes at 0x8000000\n",
      "STM32F Programming flash...\n",
      "STM32F Reading flash...\n",
      "Verified flash OK, 6599 bytes\n"
     ]
    }
   ],
   "source": [
    "cw.programTarget(scope, prog, fw_path)"
   ]
  },
  {
   "cell_type": "markdown",
   "metadata": {},
   "source": [
    "Like with clock glitching, Vcc glitching may crash the target, requiring a reset:"
   ]
  },
  {
   "cell_type": "code",
   "execution_count": 6,
   "metadata": {},
   "outputs": [],
   "source": [
    "import time\n",
    "def reset_target(scope):\n",
    "    scope.io.nrst = 'low'\n",
    "    #scope.io.pdic = 'low'\n",
    "    time.sleep(0.05)\n",
    "    scope.io.nrst = 'high'\n",
    "    #scope.io.pdic = 'high'"
   ]
  },
  {
   "cell_type": "markdown",
   "metadata": {},
   "source": [
    "Now that we have some of the basic setup done, let's make sure the firmware works as we expect. If we reset the target and wait a second, then print the serial data we got back, we should see a number of lines of the form `40000 200 200 $k`."
   ]
  },
  {
   "cell_type": "code",
   "execution_count": 7,
   "metadata": {},
   "outputs": [
    {
     "name": "stderr",
     "output_type": "stream",
     "text": [
      "WARNING:root:SAM3U Serial buffers OVERRUN - data loss has occurred.\n",
      "WARNING:root:SAM3U Serial buffers OVERRUN - data loss has occurred.\n"
     ]
    },
    {
     "name": "stdout",
     "output_type": "stream",
     "text": [
      "40000 200 200 0\n",
      "40000 200 200 1\n",
      "40000 200 200 2\n",
      "40000 200 200 3\n",
      "40000 200 200 4\n",
      "40000 200 200 5\n",
      "40000 200 200 6\n",
      "40000 200 200 7\n"
     ]
    }
   ],
   "source": [
    "reset_target(scope)\n",
    "target.ser.flush()\n",
    "time.sleep(1)\n",
    "num_char = target.ser.inWaiting()\n",
    "resp = target.ser.read(num_char)\n",
    "print(resp)"
   ]
  },
  {
   "cell_type": "markdown",
   "metadata": {},
   "source": [
    "### Glitch Setup"
   ]
  },
  {
   "cell_type": "markdown",
   "metadata": {},
   "source": [
    "Since Vcc glitching requires greater precision than clock glitching, we'll need to take a different approach than we did with the last tutorial. \n",
    "\n",
    "Our first major change is to the clock of the ChipWhisperer. Instead of running at 7.37MHz, we'll instead run at a much higher clock rate (257.95MHz or 35\\*7.37MHz). This will give us much better control over the width, shape, and placement of our glitches. Real targets often have their own independent clock setup anyway, so this isn't an obstacle to a real attack.\n",
    "\n",
    "Note that this clock frequency is higher than the ADC on the ChipWhisperer-Lite can run off of, so you'll likely see the red ADC DCM Lock Failed LED on your ChipWhisperer light up."
   ]
  },
  {
   "cell_type": "code",
   "execution_count": 16,
   "metadata": {},
   "outputs": [],
   "source": [
    "scope.clock.clkgen_freq = 256000000"
   ]
  },
  {
   "cell_type": "markdown",
   "metadata": {},
   "source": [
    "Next, we'll setup the glitch module itself. Most of these settings should look familiar from the previous tutorial with a few new additions:\n",
    "\n",
    "* Instead of setting the clock source for the target to be the glitch module, we instead set the low power MOSFET's input to be the glitch module by setting `scope.io.glitch_lp` to `True`. The ChipWhisperer-Lite also has a high power MOSFET, but we won't be using that in this tutorial.\n",
    "* Instead of setting the glitch output to something like \"clock_xor\", we instead set it to \"glitch_only\", since we don't want Vcc of the target to be oscillating with our clock.\n",
    "\n",
    "For the more specific settings (offset, width, repeat, etc), this will depend on both the target and when you got your CW-Lite: Newer versions of the CW-Lite use a different glitch MOSFET, which changes the settings required for getting a glitch.\n",
    "\n",
    "If you're unsure which version you have, try running the old settings. These settings always cause the target to crash if used with a new CW-Lite."
   ]
  },
  {
   "cell_type": "markdown",
   "metadata": {},
   "source": [
    "#### Old CW-Lite Settings"
   ]
  },
  {
   "cell_type": "code",
   "execution_count": null,
   "metadata": {},
   "outputs": [],
   "source": [
    "scope.glitch.clk_src = \"clkgen\"\n",
    "scope.glitch.output = \"glitch_only\"\n",
    "scope.glitch.trigger_src = \"ext_single\"\n",
    "scope.glitch.width = 28.5\n",
    "scope.glitch.offset = 8.2\n",
    "scope.glitch.repeat = 14\n",
    "scope.io.glitch_lp = True\n",
    "print(scope.glitch)"
   ]
  },
  {
   "cell_type": "markdown",
   "metadata": {},
   "source": [
    "#### New CW-Lite Settings"
   ]
  },
  {
   "cell_type": "code",
   "execution_count": 9,
   "metadata": {},
   "outputs": [
    {
     "name": "stdout",
     "output_type": "stream",
     "text": [
      "clk_src     = clkgen\n",
      "width       = 45.3125\n",
      "width_fine  = 0\n",
      "offset      = 14.0625\n",
      "offset_fine = 0\n",
      "trigger_src = ext_single\n",
      "arm_timing  = after_scope\n",
      "ext_offset  = 0\n",
      "repeat      = 9\n",
      "output      = glitch_only\n",
      "\n"
     ]
    }
   ],
   "source": [
    "scope.glitch.clk_src = \"clkgen\"\n",
    "scope.glitch.output = \"glitch_only\"\n",
    "scope.glitch.trigger_src = \"ext_single\"\n",
    "scope.glitch.width = 45.3\n",
    "scope.glitch.offset = 14\n",
    "scope.glitch.repeat = 9\n",
    "scope.io.glitch_lp = True\n",
    "print(scope.glitch)"
   ]
  },
  {
   "cell_type": "markdown",
   "metadata": {},
   "source": [
    "### Glitching a Single Point"
   ]
  },
  {
   "cell_type": "markdown",
   "metadata": {},
   "source": [
    "Unlike with the previous tutorial, we don't control when the device sends serial data back to us. This means we'll need to parse the data we get back. To make things a little simpler, we'll start off by attacking a single point multiple times.\n",
    "\n",
    "This point will be target specific, but for the STM32F0, this point works well:"
   ]
  },
  {
   "cell_type": "code",
   "execution_count": 18,
   "metadata": {},
   "outputs": [],
   "source": [
    "#scope.glitch.ext_offset = 2181 #old CW-Lite\n",
    "scope.glitch.ext_offset = 2028 #new CW-Lite"
   ]
  },
  {
   "cell_type": "markdown",
   "metadata": {},
   "source": [
    "We start our attack off by flushing the ChipWhipserer's serial buffer:\n",
    "\n",
    "```Python\n",
    "target.ser.flush()\n",
    "```\n",
    "\n",
    "Next, we'll set our trigger source to be \"ext_continuous\". This differs from \"ext_single\" in that the ChipWhisperer doesn't need to be armed to insert a glitch, making our loop a little simpler:\n",
    "\n",
    "```Python\n",
    "scope.glitch.trigger_src = \"ext_continuous\"\n",
    "```\n",
    "\n",
    "A key part of parsing the serial data is to be able to read a line of data (data terminated with \"\\n\"). We can do that by reading back data until we get a newline character (\"\\n\"):\n",
    "\n",
    "```Python\n",
    "while \"\\n\" not in line:\n",
    "    time.sleep(0.1)\n",
    "    num_char = target.ser.inWaiting()\n",
    "    line += target.ser.read(num_char)\n",
    "```\n",
    "\n",
    "This needs to be repeated twice in our loop: once at the start to make sure we're on a newline (so we don't look at the wrong numbers for our glitch) and again to actually read the line. For the first read, we also need to make sure we keep any characters after the newline, as this will be the start of the actual line we parse. All together, this looks like:\n",
    "\n",
    "```Python\n",
    "line = \"\"\n",
    "while \"\\n\" not in line:\n",
    "    time.sleep(0.1)\n",
    "    num_char = target.ser.inWaiting()\n",
    "    line += target.ser.read(num_char)\n",
    "lines = line.split(\"\\n\") \n",
    "if len(lines) > 1:\n",
    "    line = lines[-1]\n",
    "else:\n",
    "    line = \"\"\n",
    "\n",
    "while \"\\n\" not in line:\n",
    "    time.sleep(0.1)\n",
    "    num_char = target.ser.inWaiting()\n",
    "    line += target.ser.read(num_char)\n",
    "```\n",
    "\n",
    "Now that we have our line of data we can parse it by splitting it up via spaces to get each number. \n",
    "\n",
    "After the loop ends, we'll need to set our trigger back to \"ext_single\" to stop the glitches from continuing.\n",
    "\n",
    "All together (with some additional error checking), this looks like:"
   ]
  },
  {
   "cell_type": "code",
   "execution_count": 19,
   "metadata": {},
   "outputs": [
    {
     "name": "stderr",
     "output_type": "stream",
     "text": [
      "WARNING:root:SAM3U Serial buffers OVERRUN - data loss has occurred.\n"
     ]
    },
    {
     "data": {
      "application/vnd.jupyter.widget-view+json": {
       "model_id": "c0c97f84801d49d9b7554eb2703c7813",
       "version_major": 2,
       "version_minor": 0
      },
      "text/plain": [
       "HBox(children=(IntProgress(value=0, max=20), HTML(value='')))"
      ]
     },
     "metadata": {},
     "output_type": "display_data"
    },
    {
     "name": "stdout",
     "output_type": "stream",
     "text": [
      "\n"
     ]
    }
   ],
   "source": [
    "from tqdm import tnrange\n",
    "reset_target(scope)\n",
    "target.ser.flush()\n",
    "scope.glitch.trigger_src = \"ext_single\"\n",
    "scope.glitch.trigger_src = \"ext_continuous\"\n",
    "\n",
    "for j in tnrange(20):\n",
    "    line = \"\"\n",
    "    while \"\\n\" not in line:\n",
    "        time.sleep(0.1)\n",
    "        num_char = target.ser.inWaiting()\n",
    "        line += target.ser.read(num_char)\n",
    "    lines = line.split(\"\\n\") \n",
    "    if len(lines) > 1:\n",
    "        line = lines[-1]\n",
    "    else:\n",
    "        line = \"\"\n",
    "    \n",
    "    while \"\\n\" not in line:\n",
    "        time.sleep(0.1)\n",
    "        num_char = target.ser.inWaiting()\n",
    "        line += target.ser.read(num_char)\n",
    "        \n",
    "    if \"hello\" in line:\n",
    "        print(\"Target crashed\")\n",
    "    nums = line.split(\" \")\n",
    "    try:\n",
    "        if int(nums[0]) != 40000:\n",
    "            print(line)\n",
    "    except ValueError as e:\n",
    "        continue\n",
    "    \n",
    "scope.glitch.trigger_src = \"ext_single\""
   ]
  },
  {
   "cell_type": "markdown",
   "metadata": {},
   "source": [
    "You should hopefully see some glitched lines printed after running the above block. If not, don't worry -- we'll be scanning ext_offset next, which should help find glitch locations if they moved."
   ]
  },
  {
   "cell_type": "markdown",
   "metadata": {},
   "source": [
    "### Scanning Ext Offsets"
   ]
  },
  {
   "cell_type": "markdown",
   "metadata": {},
   "source": [
    "Adding the ability to scan ext offsets is rather easy: we just need to wrap our existing code in another loop:"
   ]
  },
  {
   "cell_type": "code",
   "execution_count": 20,
   "metadata": {},
   "outputs": [
    {
     "name": "stderr",
     "output_type": "stream",
     "text": [
      "WARNING:root:SAM3U Serial buffers OVERRUN - data loss has occurred.\n"
     ]
    },
    {
     "data": {
      "application/vnd.jupyter.widget-view+json": {
       "model_id": "eafb037ecd174905b01453d4df643541",
       "version_major": 2,
       "version_minor": 0
      },
      "text/plain": [
       "HBox(children=(IntProgress(value=0, description='Ext offset', max=5, style=ProgressStyle(description_width='in…"
      ]
     },
     "metadata": {},
     "output_type": "display_data"
    },
    {
     "data": {
      "application/vnd.jupyter.widget-view+json": {
       "model_id": "",
       "version_major": 2,
       "version_minor": 0
      },
      "text/plain": [
       "HBox(children=(IntProgress(value=0, description='Glitch attempt', max=10, style=ProgressStyle(description_widt…"
      ]
     },
     "metadata": {},
     "output_type": "display_data"
    },
    {
     "data": {
      "application/vnd.jupyter.widget-view+json": {
       "model_id": "",
       "version_major": 2,
       "version_minor": 0
      },
      "text/plain": [
       "HBox(children=(IntProgress(value=0, description='Glitch attempt', max=10, style=ProgressStyle(description_widt…"
      ]
     },
     "metadata": {},
     "output_type": "display_data"
    },
    {
     "data": {
      "application/vnd.jupyter.widget-view+json": {
       "model_id": "",
       "version_major": 2,
       "version_minor": 0
      },
      "text/plain": [
       "HBox(children=(IntProgress(value=0, description='Glitch attempt', max=10, style=ProgressStyle(description_widt…"
      ]
     },
     "metadata": {},
     "output_type": "display_data"
    },
    {
     "data": {
      "application/vnd.jupyter.widget-view+json": {
       "model_id": "",
       "version_major": 2,
       "version_minor": 0
      },
      "text/plain": [
       "HBox(children=(IntProgress(value=0, description='Glitch attempt', max=10, style=ProgressStyle(description_widt…"
      ]
     },
     "metadata": {},
     "output_type": "display_data"
    },
    {
     "data": {
      "application/vnd.jupyter.widget-view+json": {
       "model_id": "",
       "version_major": 2,
       "version_minor": 0
      },
      "text/plain": [
       "HBox(children=(IntProgress(value=0, description='Glitch attempt', max=10, style=ProgressStyle(description_widt…"
      ]
     },
     "metadata": {},
     "output_type": "display_data"
    },
    {
     "name": "stdout",
     "output_type": "stream",
     "text": [
      "\n"
     ]
    }
   ],
   "source": [
    "from tqdm import tnrange\n",
    "target.ser.flush()\n",
    "scope.glitch.repeat = 10\n",
    "for ext in tnrange(2025, 2030, desc=\"Ext offset\"):\n",
    "    scope.glitch.ext_offset = ext\n",
    "    target.ser.flush()\n",
    "    scope.glitch.trigger_src = \"ext_continuous\"\n",
    "\n",
    "    for j in tnrange(10, leave=False, desc=\"Glitch attempt\"):\n",
    "        line = \"\"\n",
    "        while \"\\n\" not in line:\n",
    "            time.sleep(0.1)\n",
    "            num_char = target.ser.inWaiting()\n",
    "            if num_char == 0:\n",
    "                scope.io.glitch_lp = False\n",
    "                time.sleep(0.01)\n",
    "                scope.io.glitch_lp = True\n",
    "                break\n",
    "            line += target.ser.read(num_char)\n",
    "        lines = line.split(\"\\n\") \n",
    "        if len(lines) > 1:\n",
    "            line = lines[-1]\n",
    "        else:\n",
    "            line = \"\"\n",
    "\n",
    "        while \"\\n\" not in line:\n",
    "            time.sleep(0.1)\n",
    "            num_char = target.ser.inWaiting()\n",
    "            if num_char == 0:\n",
    "                scope.io.glitch_lp = False\n",
    "                time.sleep(0.01)\n",
    "                scope.io.glitch_lp = True\n",
    "                break\n",
    "            line += target.ser.read(num_char)\n",
    "\n",
    "        nums = line.split(\" \")\n",
    "        if \"hello\" in line:\n",
    "            print(\"Target crashed @ {}\".format(ext))\n",
    "        try:\n",
    "            if int(nums[0]) != 40000:\n",
    "                print(\"Glitched @ {}\".format(ext))\n",
    "                print(\"Text: \" + line)\n",
    "        except ValueError as e:\n",
    "            continue\n",
    "\n",
    "    scope.glitch.trigger_src = \"ext_single\""
   ]
  },
  {
   "cell_type": "markdown",
   "metadata": {},
   "source": [
    "If you're still unable to glitch, there's a few things you can try:\n",
    "* Increasing the range of ext offsets that we scan\n",
    "* Increasing the number of attempts at each ext offset\n",
    "\n",
    "It's also possible that, though you have the right glitch location, your glitch settings don't produce glitches very often."
   ]
  },
  {
   "cell_type": "markdown",
   "metadata": {},
   "source": [
    "### Improving Glitch Settings"
   ]
  },
  {
   "cell_type": "markdown",
   "metadata": {},
   "source": [
    "One more thing we can do to improve our glitch success rate is to modify our glitch settings (width and offset) while holding the ext offset constant. \n",
    "\n",
    "Similar to [Fault_1](Fault_1-Introduction_to_Clock_Glitch_Attacks.ipynb), let's also measure our success rate with each glitch setting, as well as our crash rate, then print them at the end.\n",
    "\n",
    "If you found an ext offset that worked well for you, be sure to fill it in below:"
   ]
  },
  {
   "cell_type": "code",
   "execution_count": 64,
   "metadata": {},
   "outputs": [],
   "source": [
    "scope.glitch.trigger_src = \"ext_single\""
   ]
  },
  {
   "cell_type": "code",
   "execution_count": 32,
   "metadata": {},
   "outputs": [
    {
     "data": {
      "application/vnd.jupyter.widget-view+json": {
       "model_id": "d21046d1cdd24804851167ec76846799",
       "version_major": 2,
       "version_minor": 0
      },
      "text/plain": [
       "HBox(children=(IntProgress(value=0, description='Offset', max=41, style=ProgressStyle(description_width='initi…"
      ]
     },
     "metadata": {},
     "output_type": "display_data"
    },
    {
     "data": {
      "application/vnd.jupyter.widget-view+json": {
       "model_id": "",
       "version_major": 2,
       "version_minor": 0
      },
      "text/plain": [
       "HBox(children=(IntProgress(value=0, description='Width', max=6, style=ProgressStyle(description_width='initial…"
      ]
     },
     "metadata": {},
     "output_type": "display_data"
    },
    {
     "data": {
      "application/vnd.jupyter.widget-view+json": {
       "model_id": "",
       "version_major": 2,
       "version_minor": 0
      },
      "text/plain": [
       "HBox(children=(IntProgress(value=0, description='Attempt', max=10, style=ProgressStyle(description_width='init…"
      ]
     },
     "metadata": {},
     "output_type": "display_data"
    },
    {
     "data": {
      "application/vnd.jupyter.widget-view+json": {
       "model_id": "",
       "version_major": 2,
       "version_minor": 0
      },
      "text/plain": [
       "HBox(children=(IntProgress(value=0, description='Attempt', max=10, style=ProgressStyle(description_width='init…"
      ]
     },
     "metadata": {},
     "output_type": "display_data"
    },
    {
     "name": "stdout",
     "output_type": "stream",
     "text": [
      "Target crashed\n",
      "Target crashed\n"
     ]
    },
    {
     "data": {
      "application/vnd.jupyter.widget-view+json": {
       "model_id": "",
       "version_major": 2,
       "version_minor": 0
      },
      "text/plain": [
       "HBox(children=(IntProgress(value=0, description='Attempt', max=10, style=ProgressStyle(description_width='init…"
      ]
     },
     "metadata": {},
     "output_type": "display_data"
    },
    {
     "name": "stdout",
     "output_type": "stream",
     "text": [
      "Target crashed\n"
     ]
    },
    {
     "data": {
      "application/vnd.jupyter.widget-view+json": {
       "model_id": "",
       "version_major": 2,
       "version_minor": 0
      },
      "text/plain": [
       "HBox(children=(IntProgress(value=0, description='Attempt', max=10, style=ProgressStyle(description_width='init…"
      ]
     },
     "metadata": {},
     "output_type": "display_data"
    },
    {
     "name": "stdout",
     "output_type": "stream",
     "text": [
      "Target crashed\n"
     ]
    },
    {
     "data": {
      "application/vnd.jupyter.widget-view+json": {
       "model_id": "",
       "version_major": 2,
       "version_minor": 0
      },
      "text/plain": [
       "HBox(children=(IntProgress(value=0, description='Attempt', max=10, style=ProgressStyle(description_width='init…"
      ]
     },
     "metadata": {},
     "output_type": "display_data"
    },
    {
     "name": "stdout",
     "output_type": "stream",
     "text": [
      "Target crashed\n",
      "Target crashed\n"
     ]
    },
    {
     "data": {
      "application/vnd.jupyter.widget-view+json": {
       "model_id": "",
       "version_major": 2,
       "version_minor": 0
      },
      "text/plain": [
       "HBox(children=(IntProgress(value=0, description='Attempt', max=10, style=ProgressStyle(description_width='init…"
      ]
     },
     "metadata": {},
     "output_type": "display_data"
    },
    {
     "data": {
      "application/vnd.jupyter.widget-view+json": {
       "model_id": "",
       "version_major": 2,
       "version_minor": 0
      },
      "text/plain": [
       "HBox(children=(IntProgress(value=0, description='Attempt', max=10, style=ProgressStyle(description_width='init…"
      ]
     },
     "metadata": {},
     "output_type": "display_data"
    },
    {
     "name": "stdout",
     "output_type": "stream",
     "text": [
      "Target crashed\n",
      "Target crashed\n"
     ]
    },
    {
     "data": {
      "application/vnd.jupyter.widget-view+json": {
       "model_id": "92e7c56b20b24364a55d1fc8aba9cbf1",
       "version_major": 2,
       "version_minor": 0
      },
      "text/plain": [
       "HBox(children=(IntProgress(value=0, description='Width', max=6, style=ProgressStyle(description_width='initial…"
      ]
     },
     "metadata": {},
     "output_type": "display_data"
    },
    {
     "data": {
      "application/vnd.jupyter.widget-view+json": {
       "model_id": "",
       "version_major": 2,
       "version_minor": 0
      },
      "text/plain": [
       "HBox(children=(IntProgress(value=0, description='Attempt', max=10, style=ProgressStyle(description_width='init…"
      ]
     },
     "metadata": {},
     "output_type": "display_data"
    },
    {
     "name": "stdout",
     "output_type": "stream",
     "text": [
      "Target crashed\n"
     ]
    },
    {
     "data": {
      "application/vnd.jupyter.widget-view+json": {
       "model_id": "",
       "version_major": 2,
       "version_minor": 0
      },
      "text/plain": [
       "HBox(children=(IntProgress(value=0, description='Attempt', max=10, style=ProgressStyle(description_width='init…"
      ]
     },
     "metadata": {},
     "output_type": "display_data"
    },
    {
     "name": "stdout",
     "output_type": "stream",
     "text": [
      "Target crashed\n",
      "Target crashed\n",
      "Target crashed\n"
     ]
    },
    {
     "data": {
      "application/vnd.jupyter.widget-view+json": {
       "model_id": "",
       "version_major": 2,
       "version_minor": 0
      },
      "text/plain": [
       "HBox(children=(IntProgress(value=0, description='Attempt', max=10, style=ProgressStyle(description_width='init…"
      ]
     },
     "metadata": {},
     "output_type": "display_data"
    },
    {
     "name": "stdout",
     "output_type": "stream",
     "text": [
      "Target crashed\n"
     ]
    },
    {
     "data": {
      "application/vnd.jupyter.widget-view+json": {
       "model_id": "4926b852fd5a478f8fd4d4337829bf12",
       "version_major": 2,
       "version_minor": 0
      },
      "text/plain": [
       "HBox(children=(IntProgress(value=0, description='Attempt', max=10, style=ProgressStyle(description_width='init…"
      ]
     },
     "metadata": {},
     "output_type": "display_data"
    },
    {
     "name": "stderr",
     "output_type": "stream",
     "text": [
      "Traceback (most recent call last):\n",
      "  File \"c:\\users\\user\\code\\term2\\chipwhisperer\\software\\chipwhisperer\\hardware\\naeusb\\naeusb.py\", line 277, in txrx\n",
      "    response = self.usbdev().ctrl_transfer(payload[0], payload[1], payload[2], payload[3], payload[4], timeout=self._timeout)\n",
      "  File \"c:\\users\\user\\appdata\\local\\programs\\python\\python37-32\\lib\\site-packages\\pyusb-1.0.2-py3.7.egg\\usb\\core.py\", line 1043, in ctrl_transfer\n",
      "    self.__get_timeout(timeout))\n",
      "  File \"c:\\users\\user\\appdata\\local\\programs\\python\\python37-32\\lib\\site-packages\\pyusb-1.0.2-py3.7.egg\\usb\\backend\\libusb0.py\", line 593, in ctrl_transfer\n",
      "    timeout\n",
      "  File \"c:\\users\\user\\appdata\\local\\programs\\python\\python37-32\\lib\\site-packages\\pyusb-1.0.2-py3.7.egg\\usb\\backend\\libusb0.py\", line 431, in _check\n",
      "    raise USBError(errmsg, ret)\n",
      "usb.core.USBError: [Errno None] b'usb_control_msg: sending control message failed, win error: The device is not connected.\\r\\n'\n"
     ]
    },
    {
     "ename": "USBError",
     "evalue": "[Errno None] None",
     "output_type": "error",
     "traceback": [
      "\u001b[1;31m---------------------------------------------------------------------------\u001b[0m",
      "\u001b[1;31mUSBError\u001b[0m                                  Traceback (most recent call last)",
      "\u001b[1;32m<ipython-input-32-05fcc8f85506>\u001b[0m in \u001b[0;36m<module>\u001b[1;34m\u001b[0m\n\u001b[0;32m     30\u001b[0m             \u001b[1;32mwhile\u001b[0m \u001b[1;34m\"\\n\"\u001b[0m \u001b[1;32mnot\u001b[0m \u001b[1;32min\u001b[0m \u001b[0mline\u001b[0m\u001b[1;33m:\u001b[0m\u001b[1;33m\u001b[0m\u001b[1;33m\u001b[0m\u001b[0m\n\u001b[0;32m     31\u001b[0m                 \u001b[0mtime\u001b[0m\u001b[1;33m.\u001b[0m\u001b[0msleep\u001b[0m\u001b[1;33m(\u001b[0m\u001b[1;36m0.1\u001b[0m\u001b[1;33m)\u001b[0m\u001b[1;33m\u001b[0m\u001b[1;33m\u001b[0m\u001b[0m\n\u001b[1;32m---> 32\u001b[1;33m                 \u001b[0mnum_char\u001b[0m \u001b[1;33m=\u001b[0m \u001b[0mtarget\u001b[0m\u001b[1;33m.\u001b[0m\u001b[0mser\u001b[0m\u001b[1;33m.\u001b[0m\u001b[0minWaiting\u001b[0m\u001b[1;33m(\u001b[0m\u001b[1;33m)\u001b[0m\u001b[1;33m\u001b[0m\u001b[1;33m\u001b[0m\u001b[0m\n\u001b[0m\u001b[0;32m     33\u001b[0m                 \u001b[1;32mif\u001b[0m \u001b[0mnum_char\u001b[0m \u001b[1;33m==\u001b[0m \u001b[1;36m0\u001b[0m\u001b[1;33m:\u001b[0m\u001b[1;33m\u001b[0m\u001b[1;33m\u001b[0m\u001b[0m\n\u001b[0;32m     34\u001b[0m                     \u001b[0mscope\u001b[0m\u001b[1;33m.\u001b[0m\u001b[0mio\u001b[0m\u001b[1;33m.\u001b[0m\u001b[0mglitch_lp\u001b[0m \u001b[1;33m=\u001b[0m \u001b[1;32mFalse\u001b[0m\u001b[1;33m\u001b[0m\u001b[1;33m\u001b[0m\u001b[0m\n",
      "\u001b[1;32mc:\\users\\user\\code\\term2\\chipwhisperer\\software\\chipwhisperer\\capture\\targets\\simpleserial_readers\\_base.py\u001b[0m in \u001b[0;36minWaiting\u001b[1;34m(self)\u001b[0m\n\u001b[0;32m    171\u001b[0m         \u001b[1;32mif\u001b[0m \u001b[0mbbuf\u001b[0m \u001b[1;33m==\u001b[0m \u001b[0mself\u001b[0m\u001b[1;33m.\u001b[0m\u001b[0mmax_queue_size\u001b[0m\u001b[1;33m:\u001b[0m\u001b[1;33m\u001b[0m\u001b[1;33m\u001b[0m\u001b[0m\n\u001b[0;32m    172\u001b[0m             \u001b[0mlogging\u001b[0m\u001b[1;33m.\u001b[0m\u001b[0mwarning\u001b[0m\u001b[1;33m(\u001b[0m\u001b[1;34m'Python SimpleSerial reader buffer OVERRUN - data loss has occurred.'\u001b[0m\u001b[1;33m)\u001b[0m\u001b[1;33m\u001b[0m\u001b[1;33m\u001b[0m\u001b[0m\n\u001b[1;32m--> 173\u001b[1;33m         \u001b[1;32mreturn\u001b[0m \u001b[0mself\u001b[0m\u001b[1;33m.\u001b[0m\u001b[0mhardware_inWaiting\u001b[0m\u001b[1;33m(\u001b[0m\u001b[1;33m)\u001b[0m \u001b[1;33m+\u001b[0m \u001b[0mbbuf\u001b[0m\u001b[1;33m\u001b[0m\u001b[1;33m\u001b[0m\u001b[0m\n\u001b[0m\u001b[0;32m    174\u001b[0m \u001b[1;33m\u001b[0m\u001b[0m\n\u001b[0;32m    175\u001b[0m     \u001b[1;32mdef\u001b[0m \u001b[0mterminal_write\u001b[0m\u001b[1;33m(\u001b[0m\u001b[0mself\u001b[0m\u001b[1;33m,\u001b[0m \u001b[0mstring\u001b[0m\u001b[1;33m)\u001b[0m\u001b[1;33m:\u001b[0m\u001b[1;33m\u001b[0m\u001b[1;33m\u001b[0m\u001b[0m\n",
      "\u001b[1;32mc:\\users\\user\\code\\term2\\chipwhisperer\\software\\chipwhisperer\\capture\\targets\\simpleserial_readers\\cwlite.py\u001b[0m in \u001b[0;36mhardware_inWaiting\u001b[1;34m(self)\u001b[0m\n\u001b[0;32m     62\u001b[0m \u001b[1;33m\u001b[0m\u001b[0m\n\u001b[0;32m     63\u001b[0m     \u001b[1;32mdef\u001b[0m \u001b[0mhardware_inWaiting\u001b[0m\u001b[1;33m(\u001b[0m\u001b[0mself\u001b[0m\u001b[1;33m)\u001b[0m\u001b[1;33m:\u001b[0m\u001b[1;33m\u001b[0m\u001b[1;33m\u001b[0m\u001b[0m\n\u001b[1;32m---> 64\u001b[1;33m         \u001b[0mbwait\u001b[0m \u001b[1;33m=\u001b[0m \u001b[0mself\u001b[0m\u001b[1;33m.\u001b[0m\u001b[0mcwlite_usart\u001b[0m\u001b[1;33m.\u001b[0m\u001b[0minWaiting\u001b[0m\u001b[1;33m(\u001b[0m\u001b[1;33m)\u001b[0m\u001b[1;33m\u001b[0m\u001b[1;33m\u001b[0m\u001b[0m\n\u001b[0m\u001b[0;32m     65\u001b[0m         \u001b[1;32mif\u001b[0m \u001b[0mbwait\u001b[0m \u001b[1;33m==\u001b[0m \u001b[1;36m127\u001b[0m\u001b[1;33m:\u001b[0m\u001b[1;33m\u001b[0m\u001b[1;33m\u001b[0m\u001b[0m\n\u001b[0;32m     66\u001b[0m             \u001b[0mlogging\u001b[0m\u001b[1;33m.\u001b[0m\u001b[0mwarning\u001b[0m\u001b[1;33m(\u001b[0m\u001b[1;34m'SAM3U Serial buffers OVERRUN - data loss has occurred.'\u001b[0m\u001b[1;33m)\u001b[0m\u001b[1;33m\u001b[0m\u001b[1;33m\u001b[0m\u001b[0m\n",
      "\u001b[1;32mc:\\users\\user\\code\\term2\\chipwhisperer\\software\\chipwhisperer\\hardware\\naeusb\\serial.py\u001b[0m in \u001b[0;36minWaiting\u001b[1;34m(self)\u001b[0m\n\u001b[0;32m    128\u001b[0m         \"\"\"\n\u001b[0;32m    129\u001b[0m         \u001b[1;31m# print \"Checking Waiting...\"\u001b[0m\u001b[1;33m\u001b[0m\u001b[1;33m\u001b[0m\u001b[1;33m\u001b[0m\u001b[0m\n\u001b[1;32m--> 130\u001b[1;33m         \u001b[0mdata\u001b[0m \u001b[1;33m=\u001b[0m \u001b[0mself\u001b[0m\u001b[1;33m.\u001b[0m\u001b[0m_usartRxCmd\u001b[0m\u001b[1;33m(\u001b[0m\u001b[0mself\u001b[0m\u001b[1;33m.\u001b[0m\u001b[0mUSART_CMD_NUMWAIT\u001b[0m\u001b[1;33m,\u001b[0m \u001b[0mdlen\u001b[0m\u001b[1;33m=\u001b[0m\u001b[1;36m4\u001b[0m\u001b[1;33m)\u001b[0m\u001b[1;33m\u001b[0m\u001b[1;33m\u001b[0m\u001b[0m\n\u001b[0m\u001b[0;32m    131\u001b[0m         \u001b[1;31m# print data\u001b[0m\u001b[1;33m\u001b[0m\u001b[1;33m\u001b[0m\u001b[1;33m\u001b[0m\u001b[0m\n\u001b[0;32m    132\u001b[0m         \u001b[1;32mreturn\u001b[0m \u001b[0mdata\u001b[0m\u001b[1;33m[\u001b[0m\u001b[1;36m0\u001b[0m\u001b[1;33m]\u001b[0m\u001b[1;33m\u001b[0m\u001b[1;33m\u001b[0m\u001b[0m\n",
      "\u001b[1;32mc:\\users\\user\\code\\term2\\chipwhisperer\\software\\chipwhisperer\\hardware\\naeusb\\serial.py\u001b[0m in \u001b[0;36m_usartRxCmd\u001b[1;34m(self, cmd, dlen)\u001b[0m\n\u001b[0;32m    174\u001b[0m         \"\"\"\n\u001b[0;32m    175\u001b[0m         \u001b[1;31m# windex selects interface, set to 0\u001b[0m\u001b[1;33m\u001b[0m\u001b[1;33m\u001b[0m\u001b[1;33m\u001b[0m\u001b[0m\n\u001b[1;32m--> 176\u001b[1;33m         \u001b[1;32mreturn\u001b[0m \u001b[0mself\u001b[0m\u001b[1;33m.\u001b[0m\u001b[0m_usb\u001b[0m\u001b[1;33m.\u001b[0m\u001b[0mreadCtrl\u001b[0m\u001b[1;33m(\u001b[0m\u001b[0mself\u001b[0m\u001b[1;33m.\u001b[0m\u001b[0mCMD_USART0_CONFIG\u001b[0m\u001b[1;33m,\u001b[0m \u001b[0mcmd\u001b[0m\u001b[1;33m,\u001b[0m \u001b[0mdlen\u001b[0m\u001b[1;33m)\u001b[0m\u001b[1;33m\u001b[0m\u001b[1;33m\u001b[0m\u001b[0m\n\u001b[0m",
      "\u001b[1;32mc:\\users\\user\\code\\term2\\chipwhisperer\\software\\chipwhisperer\\hardware\\naeusb\\naeusb.py\u001b[0m in \u001b[0;36mreadCtrl\u001b[1;34m(self, cmd, value, dlen)\u001b[0m\n\u001b[0;32m    620\u001b[0m         \"\"\"\n\u001b[0;32m    621\u001b[0m         \u001b[1;31m# Vendor-specific, IN, interface control transfer\u001b[0m\u001b[1;33m\u001b[0m\u001b[1;33m\u001b[0m\u001b[1;33m\u001b[0m\u001b[0m\n\u001b[1;32m--> 622\u001b[1;33m         \u001b[1;32mreturn\u001b[0m \u001b[0mself\u001b[0m\u001b[1;33m.\u001b[0m\u001b[0musbseralizer\u001b[0m\u001b[1;33m.\u001b[0m\u001b[0mreadCtrl\u001b[0m\u001b[1;33m(\u001b[0m\u001b[0mcmd\u001b[0m\u001b[1;33m,\u001b[0m \u001b[0mvalue\u001b[0m\u001b[1;33m,\u001b[0m \u001b[0mdlen\u001b[0m\u001b[1;33m)\u001b[0m\u001b[1;33m\u001b[0m\u001b[1;33m\u001b[0m\u001b[0m\n\u001b[0m\u001b[0;32m    623\u001b[0m \u001b[1;33m\u001b[0m\u001b[0m\n\u001b[0;32m    624\u001b[0m     \u001b[1;32mdef\u001b[0m \u001b[0mcmdReadMem\u001b[0m\u001b[1;33m(\u001b[0m\u001b[0mself\u001b[0m\u001b[1;33m,\u001b[0m \u001b[0maddr\u001b[0m\u001b[1;33m,\u001b[0m \u001b[0mdlen\u001b[0m\u001b[1;33m)\u001b[0m\u001b[1;33m:\u001b[0m\u001b[1;33m\u001b[0m\u001b[1;33m\u001b[0m\u001b[0m\n",
      "\u001b[1;32mc:\\users\\user\\code\\term2\\chipwhisperer\\software\\chipwhisperer\\hardware\\naeusb\\naeusb.py\u001b[0m in \u001b[0;36mreadCtrl\u001b[1;34m(self, cmd, value, dlen)\u001b[0m\n\u001b[0;32m    181\u001b[0m         \u001b[0mcmdpacket\u001b[0m \u001b[1;33m=\u001b[0m \u001b[1;33m[\u001b[0m\u001b[1;36m0xC1\u001b[0m\u001b[1;33m,\u001b[0m \u001b[0mcmd\u001b[0m\u001b[1;33m,\u001b[0m \u001b[0mvalue\u001b[0m\u001b[1;33m,\u001b[0m \u001b[1;36m0\u001b[0m\u001b[1;33m,\u001b[0m \u001b[0mdlen\u001b[0m\u001b[1;33m]\u001b[0m\u001b[1;33m\u001b[0m\u001b[1;33m\u001b[0m\u001b[0m\n\u001b[0;32m    182\u001b[0m         \u001b[0mcmdpacket\u001b[0m \u001b[1;33m=\u001b[0m \u001b[0mself\u001b[0m\u001b[1;33m.\u001b[0m\u001b[0mmake_cmd\u001b[0m\u001b[1;33m(\u001b[0m\u001b[0mself\u001b[0m\u001b[1;33m.\u001b[0m\u001b[0mREAD_CTRL\u001b[0m\u001b[1;33m,\u001b[0m \u001b[0mcmdpacket\u001b[0m\u001b[1;33m)\u001b[0m\u001b[1;33m\u001b[0m\u001b[1;33m\u001b[0m\u001b[0m\n\u001b[1;32m--> 183\u001b[1;33m         \u001b[1;32mreturn\u001b[0m \u001b[0mself\u001b[0m\u001b[1;33m.\u001b[0m\u001b[0mprocess_rx\u001b[0m\u001b[1;33m(\u001b[0m\u001b[0mself\u001b[0m\u001b[1;33m.\u001b[0m\u001b[0mtxrx\u001b[0m\u001b[1;33m(\u001b[0m\u001b[0mtx\u001b[0m\u001b[1;33m=\u001b[0m\u001b[0mcmdpacket\u001b[0m\u001b[1;33m)\u001b[0m\u001b[1;33m)\u001b[0m\u001b[1;33m\u001b[0m\u001b[1;33m\u001b[0m\u001b[0m\n\u001b[0m\u001b[0;32m    184\u001b[0m \u001b[1;33m\u001b[0m\u001b[0m\n\u001b[0;32m    185\u001b[0m \u001b[1;33m\u001b[0m\u001b[0m\n",
      "\u001b[1;32mc:\\users\\user\\code\\term2\\chipwhisperer\\software\\chipwhisperer\\hardware\\naeusb\\naeusb.py\u001b[0m in \u001b[0;36mprocess_rx\u001b[1;34m(self, inp)\u001b[0m\n\u001b[0;32m    147\u001b[0m \u001b[1;33m\u001b[0m\u001b[0m\n\u001b[0;32m    148\u001b[0m         \u001b[1;32mif\u001b[0m \u001b[0mresp\u001b[0m \u001b[1;33m==\u001b[0m \u001b[0mself\u001b[0m\u001b[1;33m.\u001b[0m\u001b[0mERROR\u001b[0m\u001b[1;33m:\u001b[0m\u001b[1;33m\u001b[0m\u001b[1;33m\u001b[0m\u001b[0m\n\u001b[1;32m--> 149\u001b[1;33m             \u001b[1;32mraise\u001b[0m \u001b[0mpayload\u001b[0m\u001b[1;33m\u001b[0m\u001b[1;33m\u001b[0m\u001b[0m\n\u001b[0m\u001b[0;32m    150\u001b[0m \u001b[1;33m\u001b[0m\u001b[0m\n\u001b[0;32m    151\u001b[0m         \u001b[1;32mreturn\u001b[0m \u001b[0mpayload\u001b[0m\u001b[1;33m\u001b[0m\u001b[1;33m\u001b[0m\u001b[0m\n",
      "\u001b[1;31mUSBError\u001b[0m: [Errno None] None"
     ]
    }
   ],
   "source": [
    "from tqdm import tnrange, tqdm_notebook\n",
    "from collections import namedtuple\n",
    "\n",
    "scope.glitch.ext_offset = 2028\n",
    "\n",
    "Range = namedtuple('Range', ['min', 'max', 'step'])\n",
    "width_range = Range(43.5, 46, 0.4)\n",
    "offset_range = Range(-40, 40, 2)\n",
    "N = 10\n",
    "scope.glitch.repeat = 9\n",
    "scope.glitch.trigger_src = \"ext_single\"\n",
    "reset_target(scope)\n",
    "target.ser.flush()\n",
    "\n",
    "scope.glitch.trigger_src = \"ext_continuous\"\n",
    "\n",
    "glitches = []\n",
    "scope.glitch.offset = offset_range.min\n",
    "\n",
    "t_offset = tqdm_notebook(total=int((offset_range.max-offset_range.min)/offset_range.step) + 1, desc=\"Offset\")\n",
    "\n",
    "while scope.glitch.offset < offset_range.max:\n",
    "    scope.glitch.width = width_range.min\n",
    "    t_width = tqdm_notebook(total=int((width_range.max-width_range.min)/width_range.step), leave=False, desc=\"Width\")\n",
    "    while scope.glitch.width < width_range.max:\n",
    "        successes = 0\n",
    "        crashes = 0\n",
    "        for j in tnrange(N, leave=False, desc=\"Attempt\"):\n",
    "            line = \"\"\n",
    "            while \"\\n\" not in line:\n",
    "                time.sleep(0.1)\n",
    "                num_char = target.ser.inWaiting()\n",
    "                if num_char == 0:\n",
    "                    scope.io.glitch_lp = False\n",
    "                    time.sleep(0.01)\n",
    "                    scope.io.glitch_lp = True\n",
    "                    break\n",
    "                line += target.ser.read(num_char)\n",
    "            lines = line.split(\"\\n\") \n",
    "            if len(lines) > 1:\n",
    "                line = lines[-1]\n",
    "            else:\n",
    "                line = \"\"\n",
    "\n",
    "            while \"\\n\" not in line:\n",
    "                time.sleep(0.1)\n",
    "                num_char = target.ser.inWaiting()\n",
    "                if num_char == 0:\n",
    "                    scope.io.glitch_lp = False\n",
    "                    time.sleep(0.01)\n",
    "                    scope.io.glitch_lp = True\n",
    "                    break\n",
    "                line += target.ser.read(num_char)\n",
    "\n",
    "            nums = line.split(\" \")\n",
    "            if \"hello\" in line:\n",
    "                crashes += 1\n",
    "                print(\"Target crashed\")\n",
    "            try:\n",
    "                if nums[0] == \"\":\n",
    "                    continue\n",
    "                if int(nums[0]) != 40000:\n",
    "                    print(f\"Success @ {scope.glitch.width}, {scope.glitch.offset}\")\n",
    "                    successes += 1\n",
    "            except ValueError as e:\n",
    "                continue\n",
    "        glitches.append([scope.glitch.width, scope.glitch.offset, successes / N, crashes / N])\n",
    "        scope.glitch.width += width_range.step\n",
    "        t_width.update()\n",
    "        \n",
    "    scope.glitch.offset += offset_range.step\n",
    "    t_offset.update()\n",
    "    t_width.close()\n",
    "\n",
    "t_width.close()\n",
    "t_offset.close()\n",
    "scope.glitch.trigger_src = \"ext_single\""
   ]
  },
  {
   "cell_type": "markdown",
   "metadata": {},
   "source": [
    "Then, sorting by success rate:"
   ]
  },
  {
   "cell_type": "code",
   "execution_count": 28,
   "metadata": {},
   "outputs": [
    {
     "name": "stdout",
     "output_type": "stream",
     "text": [
      "[39.84375, 1.171875, 0.0, 1.0]\n",
      "[39.84375, 3.125, 0.0, 1.0]\n",
      "[39.84375, 5.078125, 0.0, 1.0]\n",
      "[40.234375, 5.078125, 0.0, 1.0]\n",
      "[39.84375, 8.984375, 0.0, 1.0]\n",
      "[40.234375, 8.984375, 0.0, 1.0]\n",
      "[39.84375, 10.9375, 0.0, 1.0]\n",
      "[39.84375, 12.890625, 0.0, 1.0]\n",
      "[40.234375, 12.890625, 0.0, 1.0]\n",
      "[39.84375, 14.84375, 0.0, 1.0]\n",
      "[39.84375, 16.796875, 0.0, 1.0]\n",
      "[39.84375, 18.75, 0.0, 1.0]\n",
      "[40.234375, 18.75, 0.0, 1.0]\n",
      "[39.84375, 20.703125, 0.0, 1.0]\n",
      "[40.234375, 20.703125, 0.0, 1.0]\n",
      "[40.625, 20.703125, 0.0, 1.0]\n",
      "[41.015625, 20.703125, 0.0, 1.0]\n",
      "[41.40625, 20.703125, 0.0, 1.0]\n",
      "[41.796875, 20.703125, 0.0, 1.0]\n",
      "[39.84375, 22.65625, 0.0, 1.0]\n",
      "[40.234375, 22.65625, 0.0, 1.0]\n",
      "[40.625, 22.65625, 0.0, 1.0]\n",
      "[39.84375, 24.609375, 0.0, 1.0]\n",
      "[40.234375, 24.609375, 0.0, 1.0]\n",
      "[39.84375, 26.5625, 0.0, 1.0]\n",
      "[39.84375, 28.515625, 0.0, 1.0]\n",
      "[39.84375, 30.46875, 0.0, 1.0]\n",
      "[39.84375, 32.421875, 0.0, 1.0]\n",
      "[40.234375, 32.421875, 0.0, 1.0]\n",
      "[39.84375, 34.375, 0.0, 1.0]\n",
      "[40.234375, 36.328125, 0.0, 1.0]\n",
      "[39.84375, 38.28125, 0.0, 1.0]\n",
      "[40.234375, 38.28125, 0.0, 1.0]\n",
      "[40.625, 1.171875, 0.0, 0.9]\n",
      "[40.625, 5.078125, 0.0, 0.9]\n",
      "[39.84375, 7.03125, 0.0, 0.9]\n",
      "[40.234375, 7.03125, 0.0, 0.9]\n",
      "[40.234375, 10.9375, 0.0, 0.9]\n",
      "[40.625, 12.890625, 0.0, 0.9]\n",
      "[40.625, 16.796875, 0.0, 0.9]\n",
      "[42.1875, 20.703125, 0.0, 0.9]\n",
      "[41.015625, 22.65625, 0.0, 0.9]\n",
      "[41.796875, 22.65625, 0.0, 0.9]\n",
      "[41.015625, 26.5625, 0.0, 0.9]\n",
      "[40.234375, 28.515625, 0.0, 0.9]\n",
      "[40.234375, 30.46875, 0.0, 0.9]\n",
      "[41.40625, 30.46875, 0.0, 0.9]\n",
      "[40.625, 32.421875, 0.0, 0.9]\n",
      "[41.015625, 32.421875, 0.0, 0.9]\n",
      "[40.234375, 34.375, 0.0, 0.9]\n",
      "[40.625, 34.375, 0.0, 0.9]\n",
      "[41.40625, 34.375, 0.0, 0.9]\n",
      "[40.625, 36.328125, 0.0, 0.9]\n",
      "[40.234375, 1.171875, 0.0, 0.8]\n",
      "[41.015625, 7.03125, 0.0, 0.8]\n",
      "[40.625, 8.984375, 0.0, 0.8]\n",
      "[41.015625, 8.984375, 0.0, 0.8]\n",
      "[41.40625, 8.984375, 0.0, 0.8]\n",
      "[40.234375, 14.84375, 0.0, 0.8]\n",
      "[41.40625, 14.84375, 0.0, 0.8]\n",
      "[40.234375, 16.796875, 0.0, 0.8]\n",
      "[41.015625, 18.75, 0.0, 0.8]\n",
      "[41.40625, 18.75, 0.0, 0.8]\n",
      "[41.796875, 18.75, 0.0, 0.8]\n",
      "[40.625, 24.609375, 0.0, 0.8]\n",
      "[41.40625, 26.5625, 0.0, 0.8]\n",
      "[41.796875, 26.5625, 0.0, 0.8]\n",
      "[40.625, 28.515625, 0.0, 0.8]\n",
      "[41.015625, 30.46875, 0.0, 0.8]\n",
      "[39.84375, 36.328125, 0.0, 0.8]\n",
      "[41.015625, 36.328125, 0.0, 0.8]\n",
      "[41.015625, 1.171875, 0.0, 0.7]\n",
      "[40.234375, 3.125, 0.0, 0.7]\n",
      "[40.625, 7.03125, 0.0, 0.7]\n",
      "[40.625, 10.9375, 0.0, 0.7]\n",
      "[41.40625, 10.9375, 0.0, 0.7]\n",
      "[41.40625, 12.890625, 0.0, 0.7]\n",
      "[40.625, 14.84375, 0.0, 0.7]\n",
      "[41.015625, 14.84375, 0.0, 0.7]\n",
      "[41.015625, 16.796875, 0.0, 0.7]\n",
      "[41.796875, 16.796875, 0.0, 0.7]\n",
      "[40.625, 18.75, 0.0, 0.7]\n",
      "[42.578125, 20.703125, 0.0, 0.7]\n",
      "[41.015625, 24.609375, 0.0, 0.7]\n",
      "[40.234375, 26.5625, 0.0, 0.7]\n",
      "[40.625, 26.5625, 0.0, 0.7]\n",
      "[41.015625, 28.515625, 0.0, 0.7]\n",
      "[40.625, 30.46875, 0.0, 0.7]\n",
      "[41.40625, 32.421875, 0.0, 0.7]\n",
      "[40.625, 38.28125, 0.0, 0.7]\n",
      "[40.625, 3.125, 0.0, 0.6]\n",
      "[41.015625, 3.125, 0.0, 0.6]\n",
      "[41.015625, 12.890625, 0.0, 0.6]\n",
      "[42.96875, 20.703125, 0.0, 0.6]\n",
      "[43.359375, 20.703125, 0.0, 0.6]\n",
      "[41.40625, 22.65625, 0.0, 0.6]\n",
      "[42.1875, 30.46875, 0.0, 0.6]\n",
      "[41.796875, 34.375, 0.0, 0.6]\n",
      "[41.015625, 38.28125, 0.0, 0.6]\n",
      "[41.40625, 3.125, 0.0, 0.5]\n",
      "[41.015625, 5.078125, 0.0, 0.5]\n",
      "[41.40625, 7.03125, 0.0, 0.5]\n",
      "[42.1875, 10.9375, 0.0, 0.5]\n",
      "[42.578125, 18.75, 0.0, 0.5]\n",
      "[43.75, 20.703125, 0.0, 0.5]\n",
      "[41.40625, 24.609375, 0.0, 0.5]\n",
      "[41.40625, 28.515625, 0.0, 0.5]\n",
      "[42.1875, 28.515625, 0.0, 0.5]\n",
      "[41.015625, 34.375, 0.0, 0.5]\n",
      "[41.796875, 12.890625, 0.0, 0.4]\n",
      "[42.578125, 12.890625, 0.0, 0.4]\n",
      "[42.1875, 18.75, 0.0, 0.4]\n",
      "[42.1875, 26.5625, 0.0, 0.4]\n",
      "[41.40625, 36.328125, 0.0, 0.4]\n",
      "[41.40625, 38.28125, 0.0, 0.4]\n",
      "[41.40625, 1.171875, 0.0, 0.3]\n",
      "[41.796875, 3.125, 0.0, 0.3]\n",
      "[41.40625, 5.078125, 0.0, 0.3]\n",
      "[42.1875, 5.078125, 0.0, 0.3]\n",
      "[42.1875, 7.03125, 0.0, 0.3]\n",
      "[41.796875, 8.984375, 0.0, 0.3]\n",
      "[41.015625, 10.9375, 0.0, 0.3]\n",
      "[42.1875, 14.84375, 0.0, 0.3]\n",
      "[42.1875, 16.796875, 0.0, 0.3]\n",
      "[42.1875, 22.65625, 0.0, 0.3]\n",
      "[42.578125, 22.65625, 0.0, 0.3]\n",
      "[41.796875, 32.421875, 0.0, 0.3]\n",
      "[42.578125, 34.375, 0.0, 0.3]\n",
      "[42.1875, 36.328125, 0.0, 0.3]\n",
      "[41.796875, 38.28125, 0.0, 0.3]\n",
      "[42.578125, 38.28125, 0.0, 0.3]\n",
      "[41.796875, 1.171875, 0.0, 0.2]\n",
      "[41.796875, 5.078125, 0.0, 0.2]\n",
      "[41.796875, 7.03125, 0.0, 0.2]\n",
      "[41.40625, 16.796875, 0.0, 0.2]\n",
      "[43.359375, 22.65625, 0.0, 0.2]\n",
      "[41.796875, 24.609375, 0.0, 0.2]\n",
      "[42.1875, 24.609375, 0.0, 0.2]\n",
      "[42.96875, 24.609375, 0.0, 0.2]\n",
      "[42.578125, 28.515625, 0.0, 0.2]\n",
      "[41.796875, 30.46875, 0.0, 0.2]\n",
      "[42.96875, 32.421875, 0.0, 0.2]\n",
      "[42.1875, 1.171875, 0.0, 0.1]\n",
      "[42.578125, 7.03125, 0.0, 0.1]\n",
      "[42.578125, 8.984375, 0.0, 0.1]\n",
      "[42.578125, 10.9375, 0.0, 0.1]\n",
      "[42.1875, 12.890625, 0.0, 0.1]\n",
      "[42.96875, 12.890625, 0.0, 0.1]\n",
      "[41.796875, 14.84375, 0.0, 0.1]\n",
      "[42.578125, 16.796875, 0.0, 0.1]\n",
      "[42.96875, 26.5625, 0.0, 0.1]\n",
      "[41.796875, 28.515625, 0.0, 0.1]\n",
      "[42.96875, 28.515625, 0.0, 0.1]\n",
      "[42.96875, 30.46875, 0.0, 0.1]\n",
      "[42.1875, 32.421875, 0.0, 0.1]\n",
      "[42.578125, 32.421875, 0.0, 0.1]\n",
      "[42.1875, 34.375, 0.0, 0.1]\n",
      "[43.359375, 34.375, 0.0, 0.1]\n",
      "[42.578125, 36.328125, 0.0, 0.1]\n",
      "[42.1875, 38.28125, 0.0, 0.1]\n",
      "[42.578125, 1.171875, 0.0, 0.0]\n",
      "[42.96875, 1.171875, 0.0, 0.0]\n",
      "[43.359375, 1.171875, 0.0, 0.0]\n",
      "[43.75, 1.171875, 0.0, 0.0]\n",
      "[44.140625, 1.171875, 0.0, 0.0]\n",
      "[44.53125, 1.171875, 0.0, 0.0]\n",
      "[44.921875, 1.171875, 0.0, 0.0]\n",
      "[45.3125, 1.171875, 0.0, 0.0]\n",
      "[45.703125, 1.171875, 0.0, 0.0]\n",
      "[42.1875, 3.125, 0.0, 0.0]\n",
      "[42.578125, 3.125, 0.0, 0.0]\n",
      "[42.96875, 3.125, 0.0, 0.0]\n",
      "[43.359375, 3.125, 0.0, 0.0]\n",
      "[43.75, 3.125, 0.0, 0.0]\n",
      "[44.140625, 3.125, 0.0, 0.0]\n",
      "[44.53125, 3.125, 0.0, 0.0]\n",
      "[44.921875, 3.125, 0.0, 0.0]\n",
      "[45.3125, 3.125, 0.0, 0.0]\n",
      "[45.703125, 3.125, 0.0, 0.0]\n",
      "[42.578125, 5.078125, 0.0, 0.0]\n",
      "[42.96875, 5.078125, 0.0, 0.0]\n",
      "[43.359375, 5.078125, 0.0, 0.0]\n",
      "[43.75, 5.078125, 0.0, 0.0]\n",
      "[44.140625, 5.078125, 0.0, 0.0]\n",
      "[44.53125, 5.078125, 0.0, 0.0]\n",
      "[44.921875, 5.078125, 0.0, 0.0]\n",
      "[45.3125, 5.078125, 0.0, 0.0]\n",
      "[45.703125, 5.078125, 0.0, 0.0]\n",
      "[42.96875, 7.03125, 0.0, 0.0]\n",
      "[43.359375, 7.03125, 0.0, 0.0]\n",
      "[43.75, 7.03125, 0.0, 0.0]\n",
      "[44.140625, 7.03125, 0.0, 0.0]\n",
      "[44.53125, 7.03125, 0.0, 0.0]\n",
      "[44.921875, 7.03125, 0.0, 0.0]\n",
      "[45.3125, 7.03125, 0.0, 0.0]\n",
      "[45.703125, 7.03125, 0.0, 0.0]\n",
      "[42.1875, 8.984375, 0.0, 0.0]\n",
      "[42.96875, 8.984375, 0.0, 0.0]\n",
      "[43.359375, 8.984375, 0.0, 0.0]\n",
      "[43.75, 8.984375, 0.0, 0.0]\n",
      "[44.140625, 8.984375, 0.0, 0.0]\n",
      "[44.53125, 8.984375, 0.0, 0.0]\n",
      "[44.921875, 8.984375, 0.0, 0.0]\n",
      "[45.3125, 8.984375, 0.0, 0.0]\n",
      "[45.703125, 8.984375, 0.0, 0.0]\n",
      "[41.796875, 10.9375, 0.0, 0.0]\n",
      "[42.96875, 10.9375, 0.0, 0.0]\n",
      "[43.359375, 10.9375, 0.0, 0.0]\n",
      "[43.75, 10.9375, 0.0, 0.0]\n",
      "[44.140625, 10.9375, 0.0, 0.0]\n",
      "[44.53125, 10.9375, 0.0, 0.0]\n",
      "[44.921875, 10.9375, 0.0, 0.0]\n",
      "[45.3125, 10.9375, 0.0, 0.0]\n",
      "[45.703125, 10.9375, 0.0, 0.0]\n",
      "[43.359375, 12.890625, 0.0, 0.0]\n",
      "[43.75, 12.890625, 0.0, 0.0]\n",
      "[44.140625, 12.890625, 0.0, 0.0]\n",
      "[44.53125, 12.890625, 0.0, 0.0]\n",
      "[44.921875, 12.890625, 0.0, 0.0]\n",
      "[45.3125, 12.890625, 0.0, 0.0]\n",
      "[45.703125, 12.890625, 0.0, 0.0]\n",
      "[42.578125, 14.84375, 0.0, 0.0]\n",
      "[42.96875, 14.84375, 0.0, 0.0]\n",
      "[43.359375, 14.84375, 0.0, 0.0]\n",
      "[43.75, 14.84375, 0.0, 0.0]\n",
      "[44.140625, 14.84375, 0.0, 0.0]\n",
      "[44.53125, 14.84375, 0.0, 0.0]\n",
      "[44.921875, 14.84375, 0.0, 0.0]\n",
      "[45.3125, 14.84375, 0.0, 0.0]\n",
      "[45.703125, 14.84375, 0.0, 0.0]\n",
      "[42.96875, 16.796875, 0.0, 0.0]\n",
      "[43.359375, 16.796875, 0.0, 0.0]\n",
      "[43.75, 16.796875, 0.0, 0.0]\n",
      "[44.140625, 16.796875, 0.0, 0.0]\n",
      "[44.53125, 16.796875, 0.0, 0.0]\n",
      "[44.921875, 16.796875, 0.0, 0.0]\n",
      "[45.3125, 16.796875, 0.0, 0.0]\n",
      "[45.703125, 16.796875, 0.0, 0.0]\n",
      "[42.96875, 18.75, 0.0, 0.0]\n",
      "[43.359375, 18.75, 0.0, 0.0]\n",
      "[43.75, 18.75, 0.0, 0.0]\n",
      "[44.140625, 18.75, 0.0, 0.0]\n",
      "[44.53125, 18.75, 0.0, 0.0]\n",
      "[44.921875, 18.75, 0.0, 0.0]\n",
      "[45.3125, 18.75, 0.0, 0.0]\n",
      "[45.703125, 18.75, 0.0, 0.0]\n",
      "[44.140625, 20.703125, 0.0, 0.0]\n",
      "[44.53125, 20.703125, 0.0, 0.0]\n",
      "[44.921875, 20.703125, 0.0, 0.0]\n",
      "[45.3125, 20.703125, 0.0, 0.0]\n",
      "[45.703125, 20.703125, 0.0, 0.0]\n",
      "[42.96875, 22.65625, 0.0, 0.0]\n",
      "[43.75, 22.65625, 0.0, 0.0]\n",
      "[44.140625, 22.65625, 0.0, 0.0]\n",
      "[44.53125, 22.65625, 0.0, 0.0]\n",
      "[44.921875, 22.65625, 0.0, 0.0]\n",
      "[45.3125, 22.65625, 0.0, 0.0]\n",
      "[45.703125, 22.65625, 0.0, 0.0]\n",
      "[42.578125, 24.609375, 0.0, 0.0]\n",
      "[43.359375, 24.609375, 0.0, 0.0]\n",
      "[43.75, 24.609375, 0.0, 0.0]\n",
      "[44.140625, 24.609375, 0.0, 0.0]\n",
      "[44.53125, 24.609375, 0.0, 0.0]\n",
      "[44.921875, 24.609375, 0.0, 0.0]\n",
      "[45.3125, 24.609375, 0.0, 0.0]\n"
     ]
    },
    {
     "name": "stdout",
     "output_type": "stream",
     "text": [
      "[45.703125, 24.609375, 0.0, 0.0]\n",
      "[42.578125, 26.5625, 0.0, 0.0]\n",
      "[43.359375, 26.5625, 0.0, 0.0]\n",
      "[43.75, 26.5625, 0.0, 0.0]\n",
      "[44.140625, 26.5625, 0.0, 0.0]\n",
      "[44.53125, 26.5625, 0.0, 0.0]\n",
      "[44.921875, 26.5625, 0.0, 0.0]\n",
      "[45.3125, 26.5625, 0.0, 0.0]\n",
      "[45.703125, 26.5625, 0.0, 0.0]\n",
      "[43.359375, 28.515625, 0.0, 0.0]\n",
      "[43.75, 28.515625, 0.0, 0.0]\n",
      "[44.140625, 28.515625, 0.0, 0.0]\n",
      "[44.53125, 28.515625, 0.0, 0.0]\n",
      "[44.921875, 28.515625, 0.0, 0.0]\n",
      "[45.3125, 28.515625, 0.0, 0.0]\n",
      "[45.703125, 28.515625, 0.0, 0.0]\n",
      "[42.578125, 30.46875, 0.0, 0.0]\n",
      "[43.359375, 30.46875, 0.0, 0.0]\n",
      "[43.75, 30.46875, 0.0, 0.0]\n",
      "[44.140625, 30.46875, 0.0, 0.0]\n",
      "[44.53125, 30.46875, 0.0, 0.0]\n",
      "[44.921875, 30.46875, 0.0, 0.0]\n",
      "[45.3125, 30.46875, 0.0, 0.0]\n",
      "[45.703125, 30.46875, 0.0, 0.0]\n",
      "[43.359375, 32.421875, 0.0, 0.0]\n",
      "[43.75, 32.421875, 0.0, 0.0]\n",
      "[44.140625, 32.421875, 0.0, 0.0]\n",
      "[44.53125, 32.421875, 0.0, 0.0]\n",
      "[44.921875, 32.421875, 0.0, 0.0]\n",
      "[45.3125, 32.421875, 0.0, 0.0]\n",
      "[45.703125, 32.421875, 0.0, 0.0]\n",
      "[42.96875, 34.375, 0.0, 0.0]\n",
      "[43.75, 34.375, 0.0, 0.0]\n",
      "[44.140625, 34.375, 0.0, 0.0]\n",
      "[44.53125, 34.375, 0.0, 0.0]\n",
      "[44.921875, 34.375, 0.0, 0.0]\n",
      "[45.3125, 34.375, 0.0, 0.0]\n",
      "[45.703125, 34.375, 0.0, 0.0]\n",
      "[41.796875, 36.328125, 0.0, 0.0]\n",
      "[42.96875, 36.328125, 0.0, 0.0]\n",
      "[43.359375, 36.328125, 0.0, 0.0]\n",
      "[43.75, 36.328125, 0.0, 0.0]\n",
      "[44.140625, 36.328125, 0.0, 0.0]\n",
      "[44.53125, 36.328125, 0.0, 0.0]\n",
      "[44.921875, 36.328125, 0.0, 0.0]\n",
      "[45.3125, 36.328125, 0.0, 0.0]\n",
      "[45.703125, 36.328125, 0.0, 0.0]\n",
      "[42.96875, 38.28125, 0.0, 0.0]\n",
      "[43.359375, 38.28125, 0.0, 0.0]\n",
      "[43.75, 38.28125, 0.0, 0.0]\n",
      "[44.140625, 38.28125, 0.0, 0.0]\n",
      "[44.53125, 38.28125, 0.0, 0.0]\n",
      "[44.921875, 38.28125, 0.0, 0.0]\n",
      "[45.3125, 38.28125, 0.0, 0.0]\n",
      "[45.703125, 38.28125, 0.0, 0.0]\n"
     ]
    }
   ],
   "source": [
    "def sort_glitch(glitch):\n",
    "    return glitch[3]\n",
    "\n",
    "glitches.sort(key=sort_glitch,reverse=True)\n",
    "for glitch in glitches:\n",
    "    print(glitch)"
   ]
  },
  {
   "cell_type": "markdown",
   "metadata": {},
   "source": [
    "### Going Further"
   ]
  },
  {
   "cell_type": "markdown",
   "metadata": {},
   "source": [
    "There's a lot more you can do with this attack:\n",
    "* If you still weren't able to get any glitches, create an attack loop that scans ext offset, offset, width, and possibly even repeat\n",
    "* Glitching different instructions will produce different results. Try using your best glitch settings from the previous part and scanning much larger ext offset ranges to see if you can find different glitch effects\n",
    "    * During our ext offset loop, we only checked for glitches in the first number (40000). You may want to examine the other numbers for glitches as well\n",
    "    * The ChipWhisperer is running at 35 times the clock speed of the target. If you want to cover a lot of ground very quickly, you can start on a successful location and advance ext offset by 35 each cycle instead of 1. Note that not all glitch locations will be 35 away from the last, so you will miss glitches this way\n",
    "* Open the listing file (`.lss`) and view the assembly of the `glitch_infinite()` function. Can you explain the different glitch effects you saw?\n",
    "    \n",
    "If you don't want to go searching, here's a few good ranges you can try here that may produce different results (on the STM32F0) with the old CW-Lite:\n",
    "* [2036, 2038]\n",
    "* [2180, 2182]\n",
    "* [2317, 2319]\n",
    "\n",
    "and with the new one:\n",
    "* [2185, 2187]\n",
    "* [2361, 2363]\n",
    "* [2535, 2536]\n",
    "* [2675, 2677]\n",
    "\n",
    "Otherwise, we're done with the tutorial. You can now disconnect from the ChipWhisperer:"
   ]
  },
  {
   "cell_type": "code",
   "execution_count": null,
   "metadata": {},
   "outputs": [],
   "source": [
    "scope.dis()\n",
    "target.dis()"
   ]
  },
  {
   "cell_type": "markdown",
   "metadata": {},
   "source": [
    "## Conclusion"
   ]
  },
  {
   "cell_type": "markdown",
   "metadata": {},
   "source": [
    "With the tutorial now finished, you should have some Vcc glitching experience under your belt. If you're interested in doing more Vcc glitching, you may want to try [Tutorial A9](https://wiki.newae.com/Tutorial_A9_Bypassing_LPC1114_Read_Protect) from the ChipWhisperer Wiki, which uses Vcc glitching to bypass code readout protection on an LPC1114 (requires an LPC1114 dev board). You may also want to try glitching some of the other functions in `glitchsimple.c`. If you have a Raspberry Pi, you can also attempt the attack described [here](https://wiki.newae.com/Tutorial_A3_VCC_Glitch_Attacks#Glitching_More_Advanced_Targets:_Raspberry_Pi) (though you'll need to transfer the steps from the old GUI over to Jupyter)."
   ]
  },
  {
   "cell_type": "code",
   "execution_count": null,
   "metadata": {},
   "outputs": [],
   "source": []
  }
 ],
 "metadata": {
  "kernelspec": {
   "display_name": "Python 3",
   "language": "python",
   "name": "python3"
  },
  "language_info": {
   "codemirror_mode": {
    "name": "ipython",
    "version": 3
   },
   "file_extension": ".py",
   "mimetype": "text/x-python",
   "name": "python",
   "nbconvert_exporter": "python",
   "pygments_lexer": "ipython3",
   "version": "3.7.1"
  },
  "toc": {
   "base_numbering": 1,
   "nav_menu": {},
   "number_sections": true,
   "sideBar": true,
   "skip_h1_title": true,
   "title_cell": "Table of Contents",
   "title_sidebar": "Contents",
   "toc_cell": false,
   "toc_position": {
    "height": "calc(100% - 180px)",
    "left": "10px",
    "top": "150px",
    "width": "384px"
   },
   "toc_section_display": true,
   "toc_window_display": true
  }
 },
 "nbformat": 4,
 "nbformat_minor": 2
}
