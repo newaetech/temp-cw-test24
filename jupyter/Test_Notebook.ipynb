{
 "cells": [
  {
   "cell_type": "code",
   "execution_count": null,
   "metadata": {},
   "outputs": [],
   "source": [
    "import os\n",
    "import subprocess\n",
    "import tempfile\n",
    "from pathlib import Path\n",
    "import io\n",
    "\n",
    "import nbformat\n",
    "from nbconvert.preprocessors import ExecutePreprocessor\n",
    "from nbconvert import HTMLExporter\n",
    "from nbparameterise import extract_parameters, parameter_values, replace_definitions\n",
    "from nbconvert.filters import ansi2html, strip_ansi\n",
    "\n",
    "\n",
    "def _notebook_run(path, SCOPETYPE='OPENADC', PLATFORM='CWLITEARM', **kwargs):\n",
    "    \"\"\"Execute a notebook via nbconvert and collect output.\n",
    "       :returns (parsed nb object, execution errors)\n",
    "    \"\"\"\n",
    "    \n",
    "    html_path = Path(\"html/\" + path + \"-{}-{}\".format(SCOPETYPE,PLATFORM) + \".html\")\n",
    "    real_path = Path(path)\n",
    "    \n",
    "    with open(real_path, encoding='utf-8') as nbfile:\n",
    "        nb = nbformat.read(nbfile, as_version=4)\n",
    "        orig_parameters = extract_parameters(nb)\n",
    "        params = parameter_values(orig_parameters, SCOPETYPE=SCOPETYPE, PLATFORM=PLATFORM, **kwargs)\n",
    "        new_nb = replace_definitions(nb, params, execute=False) \n",
    "\n",
    "        # allow_errors=False stops execution when an exception is thrown\n",
    "        # If you're not sure about a tutorial, it's probably a better choice\n",
    "        ep = ExecutePreprocessor(timeout=None, kernel_name='python3', allow_errors=False)\n",
    "\n",
    "        ep.preprocess(new_nb, {'metadata': {'path': './'}})\n",
    "\n",
    "        errors = [[i+1,output] for i,cell in enumerate(new_nb.cells) if \"outputs\" in cell\n",
    "                        for output in cell[\"outputs\"]\\\n",
    "                                if output.output_type == \"error\"]\n",
    "        \n",
    "        with open(html_path, \"w\", encoding='utf-8') as html_file:\n",
    "            html_exporter = HTMLExporter()\n",
    "            \n",
    "            body, res = html_exporter.from_notebook_node(new_nb)\n",
    "            \n",
    "            body = strip_ansi(body)\n",
    "            \n",
    "            html_file.write(body)\n",
    "            \n",
    "        return nb, errors\n",
    "\n",
    "\n",
    "def _print_tracebacks(errors):\n",
    "    if errors == []:\n",
    "        print(\"Passed all tests!\")\n",
    "    for error in errors:\n",
    "        print(\"Test failed in cell {}: {}: {}\".format(error[0], error[1]['ename'], error[1]['evalue']))\n",
    "        for line in error[1]['traceback']:\n",
    "            print(line)\n",
    "            \n",
    "def _get_outputs(nb):\n",
    "    return [[i,cell] for i,cell in enumerate(nb.cells) if \"outputs\" in cell]\n",
    "    \n",
    "def _print_stderr(nb):\n",
    "    outputs = _get_outputs(nb)\n",
    "    printed_output = [[cell[0], output] for cell in outputs for output in cell[1]['outputs'] if ('name' in output and output['name'] == 'stderr')]\n",
    "    for out in printed_output:\n",
    "        print(\"[{}]:\\n{}\".format(out[0], out[1]['text']))\n",
    "        \n",
    "def _print_stdout(nb):\n",
    "    outputs = _get_outputs(nb)\n",
    "    printed_output = [[cell[0], output] for cell in outputs for output in cell[1]['outputs'] if ('name' in output and output['name'] == 'stdout')]\n",
    "    for out in printed_output:\n",
    "        print(\"[{}]:\\n{}\".format(out[0], out[1]['text']))\n",
    "        \n",
    "def test_notebook(path,print_stdout=False, print_stderr=False,**kwargs):\n",
    "    print(\"Testing: {}:...\".format(path), end=\"\")\n",
    "    nb, errors = _notebook_run(path, **kwargs)\n",
    "    if errors == []:\n",
    "        print(\"PASSED\")\n",
    "    else:\n",
    "        print(\"FAILED:\")\n",
    "        _print_tracebacks(errors)\n",
    "    if print_stdout:\n",
    "        _print_stdout(nb)\n",
    "    if print_stderr:\n",
    "        _print_stderr(nb)"
   ]
  },
  {
   "cell_type": "code",
   "execution_count": null,
   "metadata": {},
   "outputs": [],
   "source": [
    "import os\n",
    "import subprocess\n",
    "import tempfile\n",
    "from pathlib import Path\n",
    "import io\n",
    "from os import listdir\n",
    "from os.path import isfile, join\n",
    "from nbparameterise import extract_parameters, parameter_values, replace_definitions\n",
    "\n",
    "import nbformat\n",
    "from nbconvert.preprocessors import ClearOutputPreprocessor\n",
    "from nbconvert.exporters import NotebookExporter\n",
    "def clear_notebook(path):\n",
    "    real_path = Path(path)\n",
    "    body = \"\"\n",
    "    with open(real_path, \"r\", encoding=\"utf-8\") as nbfile:\n",
    "        nb = nbformat.read(nbfile, as_version=4)\n",
    "        orig_parameters = extract_parameters(nb)\n",
    "        params = parameter_values(orig_parameters, SCOPETYPE=\"OPENADC\", PLATFORM=\"CWLITEARM\")\n",
    "        new_nb = replace_definitions(nb, params, execute=False)\n",
    "        co = ClearOutputPreprocessor()\n",
    "        \n",
    "        exporter = NotebookExporter()\n",
    "        node, resources = co.preprocess(new_nb, {'metadata': {'path': './'}})\n",
    "        body, resources = exporter.from_notebook_node(node, resources)\n",
    "    with open(real_path, \"w\", encoding=\"utf-8\") as nbfile:\n",
    "        nbfile.write(body)\n",
    "        \n",
    "def clear_outputs_in_dir(dirpath):\n",
    "    filter_list = [\"Test_Notebook.ipynb\", \"PA_TVLA_1-Performing_TVLA_Testing_for_Crypto_Validation.ipynb\", \"PA_Profiling_1_Template_Attacks_HW_Assumption.ipynb\" ,\"PA_Intro_3-Measuring_SNR_of_Target.ipynb\", \"PA_HW_CW305.ipynb\", \"PA_CPA_4-Hardware_Crypto_Attack.ipynb\", \"Helpful_Code_Blocks.ipynb\", \"!!Suggested_Completion_Order!!.ipynb\", \"Fault_4-AES_Differential_Fault_Analysis_Attacks.ipynb\"]\n",
    "    notebook_files = [f for f in listdir(\"./\") if (isfile(join(\"./\", f)) and f.endswith(\".ipynb\") and f not in filter_list)]\n",
    "    for file in notebook_files:\n",
    "        print(\"Clearing {}\".format(file))\n",
    "        clear_notebook(file)"
   ]
  },
  {
   "cell_type": "code",
   "execution_count": null,
   "metadata": {},
   "outputs": [],
   "source": [
    "%%bash\n",
    "mkdir -p html\n",
    "cd ../hardware/victims/firmware\n",
    "rm -rf simpleserial-base-lab*\n",
    "rm -rf glitch-simple-lab*\n",
    "rm -rf simpleserial-aes-lab*"
   ]
  },
  {
   "cell_type": "code",
   "execution_count": null,
   "metadata": {},
   "outputs": [],
   "source": [
    "testscope = 'OPENADC'\n",
    "testplat = 'CWLITEARM'\n",
    "crypt = 'TINYAES128C'"
   ]
  },
  {
   "cell_type": "code",
   "execution_count": null,
   "metadata": {},
   "outputs": [],
   "source": [
    "testscope = 'OPENADC'\n",
    "testplat = 'CWLITEXMEGA'\n",
    "crypt = 'AVRCRYPTOLIB'"
   ]
  },
  {
   "cell_type": "code",
   "execution_count": null,
   "metadata": {},
   "outputs": [],
   "source": [
    "testscope = 'CWNANO'\n",
    "testplat = 'CWNANO'\n",
    "crypt = 'TINYAES128C'"
   ]
  },
  {
   "cell_type": "code",
   "execution_count": null,
   "metadata": {},
   "outputs": [],
   "source": [
    "test_notebook('PA_Intro_1-Firmware_Build_Setup.ipynb', SCOPETYPE=testscope, PLATFORM=testplat)"
   ]
  },
  {
   "cell_type": "code",
   "execution_count": null,
   "metadata": {},
   "outputs": [],
   "source": [
    "test_notebook('PA_Intro_2-Instruction_Differences.ipynb', SCOPETYPE=testscope, PLATFORM=testplat)"
   ]
  },
  {
   "cell_type": "code",
   "execution_count": null,
   "metadata": {},
   "outputs": [],
   "source": [
    "test_notebook('PA_SPA_1-Timing_Analysis_with_Power_for_Password_Bypass.ipynb', SCOPETYPE=testscope, PLATFORM=testplat)"
   ]
  },
  {
   "cell_type": "code",
   "execution_count": null,
   "metadata": {},
   "outputs": [],
   "source": [
    "test_notebook('PA_DPA_1-Hamming_Weight_Measurement.ipynb', SCOPETYPE=testscope, PLATFORM=testplat, CRYPTO_TARGET=crypt)"
   ]
  },
  {
   "cell_type": "code",
   "execution_count": null,
   "metadata": {},
   "outputs": [],
   "source": [
    "test_notebook('PA_DPA_2-Large_HW_Swings.ipynb', SCOPETYPE=testscope, PLATFORM=testplat, CRYPTO_TARGET=crypt)"
   ]
  },
  {
   "cell_type": "code",
   "execution_count": null,
   "metadata": {},
   "outputs": [],
   "source": [
    "test_notebook('PA_DPA_3-AES_DPA_Attack.ipynb', SCOPETYPE=testscope, PLATFORM=testplat, CRYPTO_TARGET=crypt)"
   ]
  },
  {
   "cell_type": "code",
   "execution_count": null,
   "metadata": {},
   "outputs": [],
   "source": [
    "test_notebook('PA_CPA_1-Using_CW-Analyzer_for_CPA_Attack.ipynb', SCOPETYPE=testscope, PLATFORM=testplat, num_traces=100, CRYPTO_TARGET=crypt)"
   ]
  },
  {
   "cell_type": "code",
   "execution_count": null,
   "metadata": {},
   "outputs": [],
   "source": [
    "test_notebook('PA_CPA_2-Manual_CPA_Attack.ipynb', SCOPETYPE=testscope, PLATFORM=testplat, num_traces=100, CRYPTO_TARGET=crypt)"
   ]
  },
  {
   "cell_type": "code",
   "execution_count": null,
   "metadata": {},
   "outputs": [],
   "source": [
    "test_notebook('PA_CPA_3-Resynchronizing_Data_Traces.ipynb', SCOPETYPE=testscope, PLATFORM=testplat, num_traces=250, CRYPTO_TARGET=crypt)"
   ]
  },
  {
   "cell_type": "code",
   "execution_count": null,
   "metadata": {},
   "outputs": [],
   "source": [
    "assert testplat != \"CWLITEXMEGA\" and testplat != \"CW303\", \"Platform {} is not 32bit!\".format(testplat)\n",
    "test_notebook('PA_CPA_5-32bit_AES.ipynb', SCOPETYPE=testscope, PLATFORM=testplat) #MAY FAIL, takes a long time so may want to skip"
   ]
  },
  {
   "cell_type": "code",
   "execution_count": null,
   "metadata": {},
   "outputs": [],
   "source": [
    "assert testscope != \"CWNANO\", \"Tutorial not yet available for CWNANO\"\n",
    "test_notebook('PA_Multi_1-Breaking_AES-256_Bootloader.ipynb', SCOPETYPE=testscope, PLATFORM=testplat)"
   ]
  },
  {
   "cell_type": "code",
   "execution_count": null,
   "metadata": {},
   "outputs": [],
   "source": [
    "assert testscope != \"CWNANO\", \"Clock glitching not available on CWNANO\"\n",
    "test_notebook('Fault_1-Introduction_to_Clock_Glitch_Attacks.ipynb', SCOPETYPE=testscope, PLATFORM=testplat, sample_size = 5)"
   ]
  },
  {
   "cell_type": "code",
   "execution_count": null,
   "metadata": {},
   "outputs": [],
   "source": [
    "assert testplat != \"CWLITEXMEGA\" and testplat != \"CW303\", \"Voltage glitching works poorly on platform {}\".format(testplat)\n",
    "assert testscope != \"CWNANO\", \"Tutorial not yet available for CWNANO\"\n",
    "test_notebook('Fault_2-Introduction_to_Vcc_Glitch_Attacks.ipynb', SCOPETYPE=testscope, PLATFORM=testplat)"
   ]
  },
  {
   "cell_type": "code",
   "execution_count": null,
   "metadata": {},
   "outputs": [],
   "source": [
    "assert testscope != \"CWNANO\", \"Tutorial not yet available for CWNANO\"\n",
    "test_notebook('Fault_3-Glitch_Buffer_Attacks.ipynb', SCOPETYPE=testscope, PLATFORM=testplat)"
   ]
  },
  {
   "cell_type": "code",
   "execution_count": null,
   "metadata": {},
   "outputs": [],
   "source": [
    "assert testplat != \"CWLITEXMEGA\" and testplat != \"CW303\" and testplat != \"CWNANO\", \"RSA fault attack not available on platform {}\".format(testplat)\n",
    "test_notebook('Fault_5-RSA_Fault_Attack.ipynb', SCOPETYPE=testscope, PLATFORM=testplat)"
   ]
  },
  {
   "cell_type": "code",
   "execution_count": null,
   "metadata": {},
   "outputs": [],
   "source": [
    "clear_outputs_in_dir(\"./\")"
   ]
  },
  {
   "cell_type": "code",
   "execution_count": null,
   "metadata": {},
   "outputs": [],
   "source": []
  }
 ],
 "metadata": {
  "language_info": {
   "name": "python",
   "pygments_lexer": "ipython3"
  }
 },
 "nbformat": 4,
 "nbformat_minor": 2
}
